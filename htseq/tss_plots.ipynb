{
 "cells": [
  {
   "cell_type": "markdown",
   "metadata": {},
   "source": [
    "# [A detailed use case: TSS plots](https://htseq.readthedocs.io/en/release_0.11.1/tss.html)"
   ]
  },
  {
   "cell_type": "markdown",
   "metadata": {},
   "source": [
    "A common task in **ChIP-Seq analysis** is to get profiles of marks with respect to nearby features. For example, when analysing histone marks, one is often interested in the position and extend of such marks in the vicinity of **transcription start sites (TSSs)**. To this end, one commonly calculates the **coverage of reads** or fragments across the whole genome, then marks out fixed-size windows centered around the TSSs of all genes, takes the coverages in these windows and adds them up to a “profile” that has the size of the window. This is a simple operation, which, however, can become challenging, when working with large genomes and very many reads.\n",
    "\n",
    "Here, we demonstrate various ways of how data flow can be organized in *HTSeq* by means of different solutions to this task.\n",
    "\n",
    "As example data, we use a short excerpt from the data set by *Barski et al. (Cell, 2007, 129:823)*. \n",
    "* We downloaded the `FASTQ` **file** for one of the H3K4me3 samples (Short Read Archive accession number SRR001432)\n",
    "* **Aligned** it against the Homo sapiens genome build GRCh37 with `BWA`, and provide the start of this file (actually only containing reads aligned to chromosome 1) as `file SRR001432_head.bam` with the *HTSeq* example files.\n",
    "\n",
    "* As **annotation**, we use the file `Homo_sapiens.GRCh37.56_chrom1.gtf`, which is the part of the Ensembl GTF file for Homo sapiens for chromosome 1."
   ]
  },
  {
   "cell_type": "markdown",
   "metadata": {},
   "source": [
    "## Using the full coverage"
   ]
  },
  {
   "cell_type": "markdown",
   "metadata": {},
   "source": [
    "We start with the straight-forward way of calculating the full coverage first and then summing up the profile. This can be done as described in the [Tour](https://htseq.readthedocs.io/en/release_0.11.1/tour.html#tour):"
   ]
  },
  {
   "cell_type": "code",
   "execution_count": 1,
   "metadata": {},
   "outputs": [],
   "source": [
    "import HTSeq\n",
    "\n",
    "# select bam file: instantiate BAM_Reader Object\n",
    "bam_file = HTSeq.BAM_Reader(\"data/SRR001432_head.bam\")\n",
    "# select gtf file: instantiate GFF_Reader Object\n",
    "gtf_file = HTSeq.GFF_Reader(\"data/Homo_sapiens.GRCh37.56_chrom1.gtf\")\n",
    "\n",
    "## instantiate a `GenomicArray` object for the coverage(`cvg`):\n",
    "coverage = HTSeq.GenomicArray(\"auto\", stranded=False, typecode=\"i\")\n",
    "\n",
    "## simply iterate through all the reads \n",
    "for aln in bam_file:\n",
    "    if aln.aligned:\n",
    "        coverage[aln.iv] += 1"
   ]
  },
  {
   "cell_type": "markdown",
   "metadata": {},
   "source": [
    "To find the location of all **transcription start sites**, we can look in the `GTF` file for **exons** with **exon number 1** (as indicated by the `exon_number` attribute in Ensembl `GTF` files) and ask for their directional start (`start_d`). The following loop extracts and prints this information (using `itertools.islice `to go through only the first 100 features in the `GTF` file):"
   ]
  },
  {
   "cell_type": "code",
   "execution_count": 2,
   "metadata": {},
   "outputs": [
    {
     "name": "stdout",
     "output_type": "stream",
     "text": [
      "ENSG00000223972 ENST00000456328 1:11873/+\n",
      "ENSG00000223972 ENST00000450305 1:12009/+\n",
      "ENSG00000227232 ENST00000423562 1:29369/-\n",
      "ENSG00000227232 ENST00000438504 1:29369/-\n",
      "ENSG00000227232 ENST00000488147 1:29569/-\n",
      "ENSG00000227232 ENST00000430492 1:29342/-\n",
      "ENSG00000243485 ENST00000473358 1:29553/+\n",
      "ENSG00000243485 ENST00000469289 1:30266/+\n",
      "ENSG00000221311 ENST00000408384 1:30365/+\n",
      "ENSG00000237613 ENST00000417324 1:36080/-\n",
      "ENSG00000237613 ENST00000461467 1:36072/-\n",
      "ENSG00000233004 ENST00000421949 1:53048/+\n",
      "ENSG00000240361 ENST00000492842 1:62947/+\n",
      "ENSG00000177693 ENST00000326183 1:69054/+\n"
     ]
    }
   ],
   "source": [
    "import itertools\n",
    "for feature in itertools.islice(gtf_file, 100):\n",
    "    \n",
    "    # transcription start sites are defined by  exons with exon number 1\n",
    "    if feature.type == \"exon\" and feature.attr[\"exon_number\"] == \"1\":\n",
    "        print(feature.attr[\"gene_id\"], feature.attr[\"transcript_id\"], feature.iv.start_d_as_pos)\n",
    "        "
   ]
  },
  {
   "cell_type": "markdown",
   "metadata": {},
   "source": [
    "As the `GTF` file contains several transcripts for each gene, one *TSS* may appear multiple times, giving undue weight to it. Hence, we collect them in a set as this data type enforces uniqueness."
   ]
  },
  {
   "cell_type": "code",
   "execution_count": 3,
   "metadata": {},
   "outputs": [],
   "source": [
    "tss_pos = set()\n",
    "for feature in gtf_file:\n",
    "    \n",
    "    # transcription start sites are defined by  exons with exon number 1\n",
    "    if feature.type == \"exon\" and feature.attr[\"exon_number\"] == \"1\":\n",
    "        tss_pos.add(feature.iv.start_d_as_pos)"
   ]
  },
  {
   "cell_type": "markdown",
   "metadata": {},
   "source": [
    "Let’s take one of these starting positions using the `GenomicPosition` **class**. To get a nice one, we manually chose this one here, just for demonstration purposes:"
   ]
  },
  {
   "cell_type": "code",
   "execution_count": 4,
   "metadata": {},
   "outputs": [],
   "source": [
    "p = HTSeq.GenomicPosition(\"1\", 145439814, \"+\")"
   ]
  },
  {
   "cell_type": "markdown",
   "metadata": {},
   "source": [
    "This is really one of the TSSs in the set"
   ]
  },
  {
   "cell_type": "code",
   "execution_count": 5,
   "metadata": {},
   "outputs": [
    {
     "data": {
      "text/plain": [
       "True"
      ]
     },
     "execution_count": 5,
     "metadata": {},
     "output_type": "execute_result"
    }
   ],
   "source": [
    "p in tss_pos"
   ]
  },
  {
   "cell_type": "markdown",
   "metadata": {},
   "source": [
    "We can get a window centered on this *TSS* by just subtracting and adding a fixed value (**half of the desired window size**, let’s use 3 `kb`), using the `GenomicInterval` class:"
   ]
  },
  {
   "cell_type": "code",
   "execution_count": 6,
   "metadata": {},
   "outputs": [
    {
     "data": {
      "text/plain": [
       "<GenomicInterval object '1', [145436814,145442814), strand '.'>"
      ]
     },
     "execution_count": 6,
     "metadata": {},
     "output_type": "execute_result"
    }
   ],
   "source": [
    "half_window_width = 3000\n",
    "window = HTSeq.GenomicInterval(p.chrom, p.pos - half_window_width, p.pos + half_window_width, \".\")\n",
    "window"
   ]
  },
  {
   "cell_type": "markdown",
   "metadata": {},
   "source": [
    "We can check the `coverage` in this window by **subsetting** and **transforming** to a list:"
   ]
  },
  {
   "cell_type": "code",
   "execution_count": null,
   "metadata": {},
   "outputs": [],
   "source": [
    "#list(coverage[ window ])"
   ]
  },
  {
   "cell_type": "markdown",
   "metadata": {},
   "source": [
    "As we will work with `numpy` from now on, it may be better to get this as `numpy array`:"
   ]
  },
  {
   "cell_type": "code",
   "execution_count": 8,
   "metadata": {},
   "outputs": [
    {
     "data": {
      "text/plain": [
       "array([0, 0, 0, ..., 0, 0, 0], dtype=int32)"
      ]
     },
     "execution_count": 8,
     "metadata": {},
     "output_type": "execute_result"
    }
   ],
   "source": [
    "import numpy as np\n",
    "window_cvg =  np.fromiter(coverage[window], dtype='i', count=2*half_window_width)\n",
    "window_cvg"
   ]
  },
  {
   "cell_type": "markdown",
   "metadata": {},
   "source": [
    "With `matplotlib`, we can see that this vector is, in effect, not all zero:"
   ]
  },
  {
   "cell_type": "code",
   "execution_count": 9,
   "metadata": {},
   "outputs": [
    {
     "data": {
      "text/plain": [
       "<Figure size 640x480 with 1 Axes>"
      ]
     },
     "metadata": {},
     "output_type": "display_data"
    }
   ],
   "source": [
    "from matplotlib import pyplot as plt\n",
    "plt.plot(window_cvg)\n",
    "plt.show()"
   ]
  },
  {
   "cell_type": "markdown",
   "metadata": {},
   "source": [
    "To sum up the profile, we initialize a numpy vector of the size of our window with zeroes:"
   ]
  },
  {
   "cell_type": "code",
   "execution_count": 11,
   "metadata": {},
   "outputs": [],
   "source": [
    "profile = np.zeros(2*half_window_width, dtype='i')"
   ]
  },
  {
   "cell_type": "markdown",
   "metadata": {},
   "source": [
    "Now, we can go through the all the *TSS* positions and add the **coverage** in their windows to get the profile:"
   ]
  },
  {
   "cell_type": "code",
   "execution_count": 13,
   "metadata": {},
   "outputs": [],
   "source": [
    "for p in tss_pos:\n",
    "    \n",
    "    window = HTSeq.GenomicInterval(p.chrom, p.pos - half_window_width, p.pos + half_window_width, \".\")\n",
    "    window_cvg = np.fromiter(coverage[window], dtype='i', count=2*half_window_width)\n",
    "    \n",
    "    ## add to global profile\n",
    "    if p.strand == '+':\n",
    "        profile += window_cvg\n",
    "    else:\n",
    "        # add the window coverage reversed (“[::-1]”) if the gene was on the minus strand.\n",
    "        profile += window_cvg[::-1]"
   ]
  },
  {
   "cell_type": "markdown",
   "metadata": {},
   "source": [
    "Note that we add the window coverage reversed (`[::-1]`) if the gene was on the minus strand."
   ]
  },
  {
   "cell_type": "markdown",
   "metadata": {},
   "source": [
    "Using matplotlib, we can plot this:"
   ]
  },
  {
   "cell_type": "code",
   "execution_count": 14,
   "metadata": {},
   "outputs": [
    {
     "data": {
      "image/png": "[encoded data removed]",
      "text/plain": [
       "<Figure size 432x288 with 1 Axes>"
      ]
     },
     "metadata": {
      "needs_background": "light"
     },
     "output_type": "display_data"
    }
   ],
   "source": [
    "plt.plot(np.arange(-half_window_width, half_window_width), profile)\n",
    "plt.show()"
   ]
  },
  {
   "cell_type": "markdown",
   "metadata": {},
   "source": [
    "We can see clearly that the **reads concentrate** around the **TSS**, with a prominent peak a bit downstream (if you use matplotlib’s interactive zoom, you can easily see that the peak is at `153 bp`) and a dip upstream, at `-79 bp`."
   ]
  },
  {
   "cell_type": "markdown",
   "metadata": {},
   "source": [
    "Going back to the beginning, there is **one possible improvement**: When calculating the **coverage**, we just added one to all the base pairs that the read covered. However, the fragment extends beyond the read, to a length of about `200 bp` (the fragment size for which Barski et al. selected). Maybe we get a better picture by calculating the coverage not from the reads but from the fragments, i.e., the reads extended to fragment size. For this, we just one line, to extend the read to `200 bp`.\n",
    "\n",
    "Using this, we now put the whole script together:"
   ]
  },
  {
   "cell_type": "code",
   "execution_count": 16,
   "metadata": {},
   "outputs": [],
   "source": [
    "import HTSeq\n",
    "import numpy as np\n",
    "from matplotlib import pyplot as plt\n",
    "\n",
    "# select bam file: instantiate BAM_Reader Object\n",
    "bam_file = HTSeq.BAM_Reader(\"data/SRR001432_head.bam\")\n",
    "# select gtf file: instantiate GFF_Reader Object\n",
    "gtf_file = HTSeq.GFF_Reader(\"data/Homo_sapiens.GRCh37.56_chrom1.gtf\")\n",
    "\n",
    "## define window and fragment size\n",
    "half_window_width = 3000\n",
    "fragment_size = 200\n",
    "\n",
    "## instantiate a `GenomicArray` object for the coverage(`cvg`):\n",
    "coverage = HTSeq.GenomicArray(\"auto\", stranded=False, typecode=\"i\")\n",
    "\n",
    "## simply iterate through all the reads \n",
    "for aln in bam_file:\n",
    "    if aln.aligned:\n",
    "        ## possible improvement - change read interval extending to fragment size\n",
    "        aln.iv.length = fragment_size\n",
    "        coverage[ aln.iv ] += 1\n",
    "\n",
    "tss_pos = set()\n",
    "for feature in gtf_file:\n",
    "    \n",
    "    # transcription start sites are defined by  exons with exon number 1\n",
    "    if feature.type == \"exon\" and feature.attr[\"exon_number\"] == \"1\":\n",
    "        tss_pos.add(feature.iv.start_d_as_pos)\n",
    "\n",
    "profile = np.zeros( 2*half_window_width, dtype='i' )      \n",
    "for p in tss_pos:\n",
    "    window = HTSeq.GenomicInterval(p.chrom, p.pos - half_window_width, p.pos + half_window_width, \".\")\n",
    "    window_cvg = np.fromiter(coverage[ window ], dtype='i', count=2*half_window_width )\n",
    "    \n",
    "    ## add to global profile\n",
    "    if p.strand == \"+\":\n",
    "        profile += window_cvg\n",
    "    else:\n",
    "        profile += window_cvg[::-1]"
   ]
  },
  {
   "cell_type": "markdown",
   "metadata": {},
   "source": [
    "The script produces a profile variable which we can plot by adding these lines to it:"
   ]
  },
  {
   "cell_type": "code",
   "execution_count": 18,
   "metadata": {},
   "outputs": [
    {
     "data": {
      "image/png": "[encoded data removed]",
      "text/plain": [
       "<Figure size 432x288 with 1 Axes>"
      ]
     },
     "metadata": {
      "needs_background": "light"
     },
     "output_type": "display_data"
    }
   ],
   "source": [
    "plt.plot(np.arange(-half_window_width, half_window_width), profile)\n",
    "plt.show()"
   ]
  },
  {
   "cell_type": "markdown",
   "metadata": {},
   "source": [
    "The plot looks much smoother with the extended fragments.\n",
    "\n",
    "The **coverage vector** can be held in memory, even for a very large genome, because large parts of it are zero and even where there are reads, the values tend to stay constant for stretches of several bases. Hence, `GenomicArray`’s `step storage` **mode** is useful.\n",
    "\n",
    "If, however, **extremely large amounts of reads** are processed, the coverage vector can become “rough” and change value at every position. Then, the `step storage` **mode** becomes inefficient and we might be better off with an ordinary dense vector such as provided by `numpy`.\n",
    "\n",
    "As this numpy vector becomes **very large**, it may not fit in memory, and the `memmap` **storage** (using numpy’s memmap facility) then uses temporary files on disk. We mention these possibilities as they may be useful when working with the full coverage vector is required. Here, however, we can do otherwise."
   ]
  },
  {
   "cell_type": "markdown",
   "metadata": {},
   "source": [
    "## Using indexed BAM files"
   ]
  },
  {
   "cell_type": "markdown",
   "metadata": {},
   "source": [
    "We do not need the **coverage from everywhere**. We only need it close to the *TSSs*. We can **sort** our `BAM` **file** by position (`samtools sort`) and **index** it (`samtools index`) and then use **random access**, as *HTSeq* exposes this functionality of `SAMtools`."
   ]
  },
  {
   "cell_type": "markdown",
   "metadata": {},
   "source": [
    "<font color='red'> To be continued ... </font>"
   ]
  },
  {
   "cell_type": "code",
   "execution_count": null,
   "metadata": {},
   "outputs": [],
   "source": []
  }
 ],
 "metadata": {
  "kernelspec": {
   "display_name": "Python (heterochromatin)",
   "language": "python",
   "name": "heterochromatin"
  },
  "language_info": {
   "codemirror_mode": {
    "name": "ipython",
    "version": 3
   },
   "file_extension": ".py",
   "mimetype": "text/x-python",
   "name": "python",
   "nbconvert_exporter": "python",
   "pygments_lexer": "ipython3",
   "version": "3.6.7"
  }
 },
 "nbformat": 4,
 "nbformat_minor": 2
}
