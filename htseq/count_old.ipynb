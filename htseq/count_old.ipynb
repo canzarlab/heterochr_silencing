{
 "cells": [
  {
   "cell_type": "code",
   "execution_count": 2,
   "metadata": {},
   "outputs": [],
   "source": [
    "import itertools\n",
    "import time\n",
    "import os\n",
    "import sys"
   ]
  },
  {
   "cell_type": "code",
   "execution_count": 3,
   "metadata": {},
   "outputs": [],
   "source": [
    "import HTSeq\n",
    "import pandas as pd"
   ]
  },
  {
   "cell_type": "code",
   "execution_count": 4,
   "metadata": {},
   "outputs": [],
   "source": [
    "def invert_strand(iv):\n",
    "    iv2 = iv.copy()\n",
    "    if iv2.strand == \"+\":\n",
    "        iv2.strand = \"-\"\n",
    "    elif iv2.strand == \"-\":\n",
    "        iv2.strand = \"+\"\n",
    "    else:\n",
    "        raise ValueError(\"Illegal strand\")\n",
    "    return iv2"
   ]
  },
  {
   "cell_type": "code",
   "execution_count": 5,
   "metadata": {},
   "outputs": [],
   "source": [
    "# select gtf file: instantiate GFF_Reader Object\n",
    "gtf_file = HTSeq.GFF_Reader(\"/gcm-lfs1/pablo/data/RNAdeg/annotation/gff/schizosaccharomyces_pombe.chr.extended.gff3\")"
   ]
  },
  {
   "cell_type": "code",
   "execution_count": 6,
   "metadata": {},
   "outputs": [],
   "source": [
    "# CIGAR match characters (including alignment match, sequence match, and\n",
    "# sequence mismatch\n",
    "com = ('M', '=', 'X')"
   ]
  },
  {
   "cell_type": "code",
   "execution_count": 7,
   "metadata": {},
   "outputs": [],
   "source": [
    "## heterochromatic genes\n",
    "htc_genes = ('dg1', 'dh1', 'after_tlh', 'MAT2', 'MAT3', 'MAT1')"
   ]
  },
  {
   "cell_type": "markdown",
   "metadata": {},
   "source": [
    "# Counting ungapped single-end reads: **ChIP-Seq data**"
   ]
  },
  {
   "cell_type": "markdown",
   "metadata": {},
   "source": [
    "- Obtain `GenomicArrayOfSets` for the `gene` **features** from the `GFF` **File** (for `DNA` **unstranded**)"
   ]
  },
  {
   "cell_type": "code",
   "execution_count": 10,
   "metadata": {},
   "outputs": [],
   "source": [
    "# instantiate `GenomicArrayOfSets` for `gene` features: (`DNA` **unstranded**)\n",
    "gene_features = HTSeq.GenomicArrayOfSets(\"auto\", stranded=False)\n",
    "\n",
    "genes_dict = {}\n",
    "## for DNA we have to use the `gene` features \n",
    "#features_of_interest = ['gene', 'snRNA_gene', 'rRNA_gene', 'pseudogene', 'snoRNA_gene', 'tRNA_gene', 'ncRNA_gene']\n",
    "\n",
    "## loop over all features in gtf file\n",
    "for feature in gtf_file:\n",
    "    \n",
    "    ## parse features contained in `features_of_interest`\n",
    "    #if feature.type in features_of_interest:\n",
    "    if 'gene' in feature.type:\n",
    "        \n",
    "        # get `gene` feature id\n",
    "        try:\n",
    "            ## identify each `gene` feature by `gene_id` attribute: transcript/gene\n",
    "            gene_id = feature.attr[\"gene_id\"]\n",
    "\n",
    "        except:\n",
    "            ## sub-set of pseudogenes that behave as transcripts\n",
    "            assert feature.type == 'pseudogene'\n",
    "            gene_id = feature.attr[\"Parent\"].split(':')[1]\n",
    "        \n",
    "        ## add `gene` feature to `GenomicArrayOfSets`\n",
    "        gene_features[feature.iv] += gene_id\n",
    "\n",
    "        # Is this the first time we see this gene?\n",
    "        if gene_id not in genes_dict:\n",
    "            # If so, add to the 'genes_dict' an empty list \n",
    "            genes_dict[ gene_id ] = list()\n",
    "\n",
    "        # add the feature to the gene list\n",
    "        genes_dict[ gene_id ].append( feature )"
   ]
  },
  {
   "cell_type": "code",
   "execution_count": 58,
   "metadata": {},
   "outputs": [
    {
     "data": {
      "text/plain": [
       "6992"
      ]
     },
     "execution_count": 58,
     "metadata": {},
     "output_type": "execute_result"
    }
   ],
   "source": [
    "len(genes_dict)\n",
    "#genes_dict"
   ]
  },
  {
   "cell_type": "markdown",
   "metadata": {},
   "source": [
    "![img_overlap](https://htseq.readthedocs.io/en/release_0.11.1/_images/count_modes.png)"
   ]
  },
  {
   "cell_type": "markdown",
   "metadata": {},
   "source": [
    "- Parse `BAM` **File** to **count reads** falling into each `gene` **feature** "
   ]
  },
  {
   "cell_type": "code",
   "execution_count": 12,
   "metadata": {},
   "outputs": [],
   "source": [
    "#sample_name = '1022_INPUT'\n",
    "sample_name = '1168_S2ChIP'"
   ]
  },
  {
   "cell_type": "code",
   "execution_count": 59,
   "metadata": {},
   "outputs": [],
   "source": [
    "#os.path.join('/gcm-lfs1/pablo/data/RNAdeg/data/ChIP/bam', sample_name, sample_name + '.Aligned.sortedByCoord.out.bam')"
   ]
  },
  {
   "cell_type": "code",
   "execution_count": 104,
   "metadata": {},
   "outputs": [
    {
     "name": "stderr",
     "output_type": "stream",
     "text": [
      "100000 alignment records processed. 4.7998435497283936 s\n",
      "200000 alignment records processed. 9.677944421768188 s\n",
      "300000 alignment records processed. 14.543773174285889 s\n",
      "400000 alignment records processed. 19.359629154205322 s\n",
      "500000 alignment records processed. 24.30399513244629 s\n",
      "600000 alignment records processed. 29.221397161483765 s\n",
      "700000 alignment records processed. 34.09536600112915 s\n",
      "800000 alignment records processed. 38.94419836997986 s\n",
      "900000 alignment records processed. 43.72959589958191 s\n",
      "1000000 alignment records processed. 48.63942074775696 s\n",
      "1100000 alignment records processed. 53.55071687698364 s\n",
      "1200000 alignment records processed. 58.414520502090454 s\n",
      "1300000 alignment records processed. 63.20249271392822 s\n",
      "1400000 alignment records processed. 68.05722284317017 s\n",
      "1500000 alignment records processed. 72.85994577407837 s\n",
      "1600000 alignment records processed. 77.65871262550354 s\n",
      "1700000 alignment records processed. 82.51195955276489 s\n",
      "1800000 alignment records processed. 87.3559992313385 s\n",
      "1900000 alignment records processed. 92.1895227432251 s\n",
      "2000000 alignment records processed. 97.0345983505249 s\n",
      "2100000 alignment records processed. 101.85428142547607 s\n",
      "2200000 alignment records processed. 106.67103099822998 s\n",
      "2300000 alignment records processed. 111.49679589271545 s\n",
      "2400000 alignment records processed. 116.2845606803894 s\n",
      "2500000 alignment records processed. 121.04660129547119 s\n",
      "2600000 alignment records processed. 125.86275100708008 s\n",
      "2700000 alignment records processed. 130.67052459716797 s\n"
     ]
    },
    {
     "name": "stdout",
     "output_type": "stream",
     "text": [
      "Elapsed Time (Counting reads): 134.8384654521942\n"
     ]
    }
   ],
   "source": [
    "import collections\n",
    "counts = collections.Counter( )\n",
    "\n",
    "start_time = time.time()\n",
    "\n",
    "# select bam file: instantiate BAM_Reader Object (ChIP-seq)\n",
    "#bam_file = HTSeq.BAM_Reader(os.path.join('/gcm-lfs1/pablo/data/RNAdeg/data/sequencing_new/ChIP/bam', sample_name, sample_name + '.Aligned.sortedByCoord.out.bam'))\n",
    "#bam_file = HTSeq.BAM_Reader(os.path.join('/data/pablo/RNAdeg/results/ChIP/bams', sample_name + '.Aligned.sortedByCoord.out.bam'))\n",
    "bam_file = HTSeq.BAM_Reader(os.path.join('/gcm-lfs1/pablo/data/RNAdeg/data/ChIP/bam', sample_name, sample_name + '.Aligned.sortedByCoord.out.bam'))\n",
    "\n",
    "## -------\n",
    "## Options\n",
    "## -------\n",
    "    \n",
    "minaqual = 10\n",
    "\n",
    "## How to deal with overlap of READ and FEATURE \n",
    "overlap_mode = \"intersection-nonempty\"\n",
    "#overlap_mode =  \"intersection-strict\"\n",
    "\n",
    "## How to deal with overlapping FEATURES and multimapped reads\n",
    "multimapped_mode = 'all'\n",
    "#multimapped_mode = 'none'\n",
    "\n",
    "## How to deal with multimapped reads (secondary alignments!)\n",
    "#secondary_alignment_mode = 'ignore'\n",
    "secondary_alignment_mode = 'none'\n",
    "\n",
    "i = 0\n",
    "\n",
    "for aln in bam_file:\n",
    "    \n",
    "    if i > 0 and i % 100000 == 0:\n",
    "        sys.stderr.write(\"{} alignment records processed. {} s\\n\".format(i,  time.time() - start_time))\n",
    "        sys.stderr.flush()\n",
    "    i += 1          \n",
    "    \n",
    "    ## ----------------------\n",
    "    ## Inspect read alignment\n",
    "    ## ----------------------\n",
    "    \n",
    "    ## _mapped or _unmapped (our BAM files only contain _mapped)\n",
    "    counts[\"_total\"] += 1\n",
    "    \n",
    "    if not aln.aligned:\n",
    "        counts[\"_unmapped\"] += 1\n",
    "        ## skips to next iteration\n",
    "        continue\n",
    "    \n",
    "    ## Multimapped reads are contained as separate entries in the BAM file.\n",
    "    try:\n",
    "        if aln.optional_field(\"NH\") > 1:\n",
    "            counts[\"_alignment_not_unique\"] += 1\n",
    "            if multimapped_mode == 'none':\n",
    "                ## skips to next iteration\n",
    "                continue\n",
    "            elif ((secondary_alignment_mode == 'ignore') and aln.not_primary_alignment):\n",
    "                counts[\"_not_primary_alignment\"] += 1\n",
    "                ## skips to next iteration\n",
    "                continue\n",
    "\n",
    "    except KeyError:\n",
    "        pass\n",
    "\n",
    "    #if aln.aQual < minaqual:\n",
    "    #    #import pdb\n",
    "    #    #pdb.set_trace()\n",
    "    #    counts[\"_too_low_aQual\"] +=  1\n",
    "    #    continue\n",
    "\n",
    "    ## -----------------------------\n",
    "    ## Read and Feature Overlap Mode\n",
    "    ## -----------------------------\n",
    "    \n",
    "    #iv_seq = (co.ref_iv for co in aln.cigar if (co.type in com and co.size > 0))\n",
    "    \n",
    "    ## A. Union: the union of all the sets S(i). This mode is recommended for most use cases.\n",
    "    if overlap_mode == \"union\":\n",
    "        ## feature set\n",
    "        gene_ids = set()\n",
    "        \n",
    "        for iv, fs in gene_features[ aln.iv ].steps():\n",
    "            gene_ids = gene_ids.union(fs)\n",
    "    \n",
    "    ## B. Intersection-strict: the intersection of all the sets S(i).\n",
    "    ## C. Intersection-nonempty: the intersection of all non-empty sets S(i).\n",
    "    elif overlap_mode in (\"intersection-strict\", \"intersection-nonempty\"):\n",
    "        ## feature set\n",
    "        gene_ids = None\n",
    "        \n",
    "        for iv, fs in gene_features[ aln.iv ].steps():\n",
    "            if ((len(fs) > 0) or (overlap_mode == \"intersection-strict\")):\n",
    "                if gene_ids is None:\n",
    "                    gene_ids = fs.copy()\n",
    "                else:\n",
    "                    gene_ids = gene_ids.intersection(fs)\n",
    "                    \n",
    "    ## Other: Ilegal!                   \n",
    "    else:\n",
    "        sys.exit(\"Illegal overlap mode.\")\n",
    "    \n",
    "    ## --------------\n",
    "    ## Count Features\n",
    "    ## --------------\n",
    "    \n",
    "    ## A. Mapped to unknown feature (it is empty)\n",
    "    if gene_ids is None or len(gene_ids) == 0:\n",
    "        counts[\"_no_feature\"] += 1\n",
    "        \n",
    "    ## B. Mapped to a region with overlapping features (contains more than one element)\n",
    "    ## See next how to deal with this ambiguous read alignments! (multimapped_mode)\n",
    "    elif len(gene_ids) > 1:\n",
    "        counts[\"_ambiguous\"] += 1\n",
    "    \n",
    "    ## C. Uniquely Mapped (contains exactly one element) \n",
    "    #else:\n",
    "    #    gene_id = list(gene_ids)[0]\n",
    "    #    counts[gene_id] += 1\n",
    "    \n",
    "    ## Deal with multimapped reads!\n",
    "    if gene_ids is not None and len(gene_ids) > 0:\n",
    "        \n",
    "        ## - ignore multimapped reads\n",
    "        if multimapped_mode == 'none':\n",
    "            \n",
    "            ## C. Uniquely Mapped (contains exactly one element) \n",
    "            if len(gene_ids) == 1:\n",
    "                counts[list(gene_ids)[0]] += 1\n",
    "        \n",
    "        ## - count each multimapped feature\n",
    "        elif multimapped_mode == 'all':\n",
    "            for fsi in list(gene_ids):\n",
    "                counts[fsi] += 1\n",
    "        \n",
    "        ## Other: Ilegal!                   \n",
    "        else:\n",
    "            sys.exit(\"Illegal multimap mode.\")\n",
    "\n",
    "        \n",
    "print('Elapsed Time (Counting reads):', time.time() - start_time)"
   ]
  },
  {
   "cell_type": "code",
   "execution_count": 89,
   "metadata": {},
   "outputs": [],
   "source": [
    "#for gene_id in counts:\n",
    "#    print(gene_id, counts[gene_id])"
   ]
  },
  {
   "cell_type": "code",
   "execution_count": 90,
   "metadata": {},
   "outputs": [],
   "source": [
    "#{k: v for k, v in sorted(counts.items(), key=lambda item: item[1], reverse=True)}\n",
    "#{k: v for k, v in counts.items()}"
   ]
  },
  {
   "cell_type": "markdown",
   "metadata": {},
   "source": [
    "- Convert `counter` to **DataFrame**"
   ]
  },
  {
   "cell_type": "code",
   "execution_count": 105,
   "metadata": {},
   "outputs": [
    {
     "data": {
      "text/html": [
       "<div>\n",
       "<style scoped>\n",
       "    .dataframe tbody tr th:only-of-type {\n",
       "        vertical-align: middle;\n",
       "    }\n",
       "\n",
       "    .dataframe tbody tr th {\n",
       "        vertical-align: top;\n",
       "    }\n",
       "\n",
       "    .dataframe thead th {\n",
       "        text-align: right;\n",
       "    }\n",
       "</style>\n",
       "<table border=\"1\" class=\"dataframe\">\n",
       "  <thead>\n",
       "    <tr style=\"text-align: right;\">\n",
       "      <th></th>\n",
       "      <th>gene-id</th>\n",
       "      <th>count</th>\n",
       "    </tr>\n",
       "  </thead>\n",
       "  <tbody>\n",
       "    <tr>\n",
       "      <th>0</th>\n",
       "      <td>_total</td>\n",
       "      <td>2785741</td>\n",
       "    </tr>\n",
       "    <tr>\n",
       "      <th>1</th>\n",
       "      <td>_alignment_not_unique</td>\n",
       "      <td>304271</td>\n",
       "    </tr>\n",
       "    <tr>\n",
       "      <th>2</th>\n",
       "      <td>SPAC212.11</td>\n",
       "      <td>1074</td>\n",
       "    </tr>\n",
       "    <tr>\n",
       "      <th>3</th>\n",
       "      <td>SPAC212.10</td>\n",
       "      <td>137</td>\n",
       "    </tr>\n",
       "    <tr>\n",
       "      <th>4</th>\n",
       "      <td>_no_feature</td>\n",
       "      <td>343544</td>\n",
       "    </tr>\n",
       "    <tr>\n",
       "      <th>5</th>\n",
       "      <td>SPAC212.09c</td>\n",
       "      <td>372</td>\n",
       "    </tr>\n",
       "    <tr>\n",
       "      <th>6</th>\n",
       "      <td>SPNCRNA.70</td>\n",
       "      <td>32</td>\n",
       "    </tr>\n",
       "    <tr>\n",
       "      <th>7</th>\n",
       "      <td>SPAC212.08c</td>\n",
       "      <td>145</td>\n",
       "    </tr>\n",
       "    <tr>\n",
       "      <th>8</th>\n",
       "      <td>SPAC212.07c</td>\n",
       "      <td>50</td>\n",
       "    </tr>\n",
       "    <tr>\n",
       "      <th>9</th>\n",
       "      <td>SPAC212.12</td>\n",
       "      <td>80</td>\n",
       "    </tr>\n",
       "    <tr>\n",
       "      <th>10</th>\n",
       "      <td>SPAC212.06c</td>\n",
       "      <td>166</td>\n",
       "    </tr>\n",
       "    <tr>\n",
       "      <th>11</th>\n",
       "      <td>SPAC212.04c</td>\n",
       "      <td>209</td>\n",
       "    </tr>\n",
       "    <tr>\n",
       "      <th>12</th>\n",
       "      <td>SPAC212.03</td>\n",
       "      <td>21</td>\n",
       "    </tr>\n",
       "    <tr>\n",
       "      <th>13</th>\n",
       "      <td>SPAC212.02</td>\n",
       "      <td>11</td>\n",
       "    </tr>\n",
       "    <tr>\n",
       "      <th>14</th>\n",
       "      <td>SPAC212.01c</td>\n",
       "      <td>183</td>\n",
       "    </tr>\n",
       "    <tr>\n",
       "      <th>15</th>\n",
       "      <td>SPAC977.01</td>\n",
       "      <td>797</td>\n",
       "    </tr>\n",
       "    <tr>\n",
       "      <th>16</th>\n",
       "      <td>SPAC977.18</td>\n",
       "      <td>500</td>\n",
       "    </tr>\n",
       "    <tr>\n",
       "      <th>17</th>\n",
       "      <td>_ambiguous</td>\n",
       "      <td>344488</td>\n",
       "    </tr>\n",
       "    <tr>\n",
       "      <th>18</th>\n",
       "      <td>SPAC977.02</td>\n",
       "      <td>126</td>\n",
       "    </tr>\n",
       "    <tr>\n",
       "      <th>19</th>\n",
       "      <td>SPAC977.03</td>\n",
       "      <td>79</td>\n",
       "    </tr>\n",
       "  </tbody>\n",
       "</table>\n",
       "</div>"
      ],
      "text/plain": [
       "                  gene-id    count\n",
       "0                  _total  2785741\n",
       "1   _alignment_not_unique   304271\n",
       "2              SPAC212.11     1074\n",
       "3              SPAC212.10      137\n",
       "4             _no_feature   343544\n",
       "5             SPAC212.09c      372\n",
       "6              SPNCRNA.70       32\n",
       "7             SPAC212.08c      145\n",
       "8             SPAC212.07c       50\n",
       "9              SPAC212.12       80\n",
       "10            SPAC212.06c      166\n",
       "11            SPAC212.04c      209\n",
       "12             SPAC212.03       21\n",
       "13             SPAC212.02       11\n",
       "14            SPAC212.01c      183\n",
       "15             SPAC977.01      797\n",
       "16             SPAC977.18      500\n",
       "17             _ambiguous   344488\n",
       "18             SPAC977.02      126\n",
       "19             SPAC977.03       79"
      ]
     },
     "execution_count": 105,
     "metadata": {},
     "output_type": "execute_result"
    }
   ],
   "source": [
    "counts_df = pd.DataFrame.from_dict(counts, orient='index').reset_index()\n",
    "counts_df = counts_df.rename(columns={'index':'gene-id', 0:'count'})\n",
    "counts_df.head(20)"
   ]
  },
  {
   "cell_type": "code",
   "execution_count": 106,
   "metadata": {},
   "outputs": [
    {
     "data": {
      "text/plain": [
       "(6845, 2)"
      ]
     },
     "execution_count": 106,
     "metadata": {},
     "output_type": "execute_result"
    }
   ],
   "source": [
    "counts_df.shape"
   ]
  },
  {
   "cell_type": "markdown",
   "metadata": {},
   "source": [
    "- Summary of counts"
   ]
  },
  {
   "cell_type": "code",
   "execution_count": 107,
   "metadata": {},
   "outputs": [
    {
     "data": {
      "text/html": [
       "<div>\n",
       "<style scoped>\n",
       "    .dataframe tbody tr th:only-of-type {\n",
       "        vertical-align: middle;\n",
       "    }\n",
       "\n",
       "    .dataframe tbody tr th {\n",
       "        vertical-align: top;\n",
       "    }\n",
       "\n",
       "    .dataframe thead th {\n",
       "        text-align: right;\n",
       "    }\n",
       "</style>\n",
       "<table border=\"1\" class=\"dataframe\">\n",
       "  <thead>\n",
       "    <tr style=\"text-align: right;\">\n",
       "      <th></th>\n",
       "      <th>gene-id</th>\n",
       "      <th>count</th>\n",
       "    </tr>\n",
       "  </thead>\n",
       "  <tbody>\n",
       "    <tr>\n",
       "      <th>0</th>\n",
       "      <td>_total</td>\n",
       "      <td>2785741</td>\n",
       "    </tr>\n",
       "    <tr>\n",
       "      <th>1</th>\n",
       "      <td>_alignment_not_unique</td>\n",
       "      <td>304271</td>\n",
       "    </tr>\n",
       "    <tr>\n",
       "      <th>4</th>\n",
       "      <td>_no_feature</td>\n",
       "      <td>343544</td>\n",
       "    </tr>\n",
       "    <tr>\n",
       "      <th>17</th>\n",
       "      <td>_ambiguous</td>\n",
       "      <td>344488</td>\n",
       "    </tr>\n",
       "  </tbody>\n",
       "</table>\n",
       "</div>"
      ],
      "text/plain": [
       "                  gene-id    count\n",
       "0                  _total  2785741\n",
       "1   _alignment_not_unique   304271\n",
       "4             _no_feature   343544\n",
       "17             _ambiguous   344488"
      ]
     },
     "execution_count": 107,
     "metadata": {},
     "output_type": "execute_result"
    }
   ],
   "source": [
    "counts_df[counts_df['gene-id'].str.startswith('_')]"
   ]
  },
  {
   "cell_type": "code",
   "execution_count": 108,
   "metadata": {},
   "outputs": [
    {
     "data": {
      "text/plain": [
       "2803658"
      ]
     },
     "execution_count": 108,
     "metadata": {},
     "output_type": "execute_result"
    }
   ],
   "source": [
    "## now contains multiple counting\n",
    "counts_df[~counts_df['gene-id'].str.startswith('_')]['count'].sum()"
   ]
  },
  {
   "cell_type": "markdown",
   "metadata": {},
   "source": [
    "- Show counts for genes of interest: **Heterochromatic Genes**"
   ]
  },
  {
   "cell_type": "code",
   "execution_count": 109,
   "metadata": {},
   "outputs": [
    {
     "data": {
      "text/html": [
       "<div>\n",
       "<style scoped>\n",
       "    .dataframe tbody tr th:only-of-type {\n",
       "        vertical-align: middle;\n",
       "    }\n",
       "\n",
       "    .dataframe tbody tr th {\n",
       "        vertical-align: top;\n",
       "    }\n",
       "\n",
       "    .dataframe thead th {\n",
       "        text-align: right;\n",
       "    }\n",
       "</style>\n",
       "<table border=\"1\" class=\"dataframe\">\n",
       "  <thead>\n",
       "    <tr style=\"text-align: right;\">\n",
       "      <th></th>\n",
       "      <th>gene-id</th>\n",
       "      <th>count</th>\n",
       "    </tr>\n",
       "  </thead>\n",
       "  <tbody>\n",
       "    <tr>\n",
       "      <th>2072</th>\n",
       "      <td>dh1</td>\n",
       "      <td>1345</td>\n",
       "    </tr>\n",
       "    <tr>\n",
       "      <th>2076</th>\n",
       "      <td>dg1</td>\n",
       "      <td>1198</td>\n",
       "    </tr>\n",
       "    <tr>\n",
       "      <th>4212</th>\n",
       "      <td>MAT1</td>\n",
       "      <td>24</td>\n",
       "    </tr>\n",
       "    <tr>\n",
       "      <th>4224</th>\n",
       "      <td>MAT2</td>\n",
       "      <td>172</td>\n",
       "    </tr>\n",
       "    <tr>\n",
       "      <th>4226</th>\n",
       "      <td>MAT3</td>\n",
       "      <td>224</td>\n",
       "    </tr>\n",
       "    <tr>\n",
       "      <th>5545</th>\n",
       "      <td>after_tlh</td>\n",
       "      <td>622</td>\n",
       "    </tr>\n",
       "  </tbody>\n",
       "</table>\n",
       "</div>"
      ],
      "text/plain": [
       "        gene-id  count\n",
       "2072        dh1   1345\n",
       "2076        dg1   1198\n",
       "4212       MAT1     24\n",
       "4224       MAT2    172\n",
       "4226       MAT3    224\n",
       "5545  after_tlh    622"
      ]
     },
     "execution_count": 109,
     "metadata": {},
     "output_type": "execute_result"
    }
   ],
   "source": [
    "counts_df[counts_df['gene-id'].isin(htc_genes)]"
   ]
  },
  {
   "cell_type": "markdown",
   "metadata": {},
   "source": [
    "## Compare results with **Parastou's counting**"
   ]
  },
  {
   "cell_type": "markdown",
   "metadata": {},
   "source": [
    "- Results using **Parastou's counting script**"
   ]
  },
  {
   "cell_type": "code",
   "execution_count": 96,
   "metadata": {},
   "outputs": [],
   "source": [
    "xp_chip = '/gcm-lfs1/pablo/data/RNAdeg/data/ChIP/xp_data/chip_pombe_gene_count_matrix.csv'"
   ]
  },
  {
   "cell_type": "code",
   "execution_count": 97,
   "metadata": {},
   "outputs": [
    {
     "data": {
      "text/html": [
       "<div>\n",
       "<style scoped>\n",
       "    .dataframe tbody tr th:only-of-type {\n",
       "        vertical-align: middle;\n",
       "    }\n",
       "\n",
       "    .dataframe tbody tr th {\n",
       "        vertical-align: top;\n",
       "    }\n",
       "\n",
       "    .dataframe thead th {\n",
       "        text-align: right;\n",
       "    }\n",
       "</style>\n",
       "<table border=\"1\" class=\"dataframe\">\n",
       "  <thead>\n",
       "    <tr style=\"text-align: right;\">\n",
       "      <th></th>\n",
       "      <th>gene-id</th>\n",
       "      <th>length</th>\n",
       "      <th>type</th>\n",
       "      <th>category</th>\n",
       "      <th>bio_type</th>\n",
       "      <th>1168_S2ChIP</th>\n",
       "    </tr>\n",
       "  </thead>\n",
       "  <tbody>\n",
       "    <tr>\n",
       "      <th>0</th>\n",
       "      <td>SPAC212.11</td>\n",
       "      <td>5661.0</td>\n",
       "      <td>gene</td>\n",
       "      <td>repeat</td>\n",
       "      <td>protein_coding</td>\n",
       "      <td>1074</td>\n",
       "    </tr>\n",
       "    <tr>\n",
       "      <th>1</th>\n",
       "      <td>SPAC212.10</td>\n",
       "      <td>605.0</td>\n",
       "      <td>pseudogene</td>\n",
       "      <td>repeat</td>\n",
       "      <td>pseudogene</td>\n",
       "      <td>137</td>\n",
       "    </tr>\n",
       "    <tr>\n",
       "      <th>2</th>\n",
       "      <td>SPAC212.09c</td>\n",
       "      <td>1655.0</td>\n",
       "      <td>pseudogene</td>\n",
       "      <td>repeat</td>\n",
       "      <td>pseudogene</td>\n",
       "      <td>372</td>\n",
       "    </tr>\n",
       "    <tr>\n",
       "      <th>3</th>\n",
       "      <td>SPNCRNA.70</td>\n",
       "      <td>529.0</td>\n",
       "      <td>ncRNA_gene</td>\n",
       "      <td>repeat</td>\n",
       "      <td>ncRNA</td>\n",
       "      <td>32</td>\n",
       "    </tr>\n",
       "    <tr>\n",
       "      <th>4</th>\n",
       "      <td>SPAC212.08c</td>\n",
       "      <td>1210.0</td>\n",
       "      <td>gene</td>\n",
       "      <td>repeat</td>\n",
       "      <td>protein_coding</td>\n",
       "      <td>145</td>\n",
       "    </tr>\n",
       "  </tbody>\n",
       "</table>\n",
       "</div>"
      ],
      "text/plain": [
       "       gene-id  length        type category        bio_type  1168_S2ChIP\n",
       "0   SPAC212.11  5661.0        gene   repeat  protein_coding         1074\n",
       "1   SPAC212.10   605.0  pseudogene   repeat      pseudogene          137\n",
       "2  SPAC212.09c  1655.0  pseudogene   repeat      pseudogene          372\n",
       "3   SPNCRNA.70   529.0  ncRNA_gene   repeat           ncRNA           32\n",
       "4  SPAC212.08c  1210.0        gene   repeat  protein_coding          145"
      ]
     },
     "execution_count": 97,
     "metadata": {},
     "output_type": "execute_result"
    }
   ],
   "source": [
    "xp_chip_df = pd.read_csv(xp_chip, sep='\\t')\n",
    "xp_chip_df = xp_chip_df[['gene-id', 'length', 'type', 'category', 'bio_type', sample_name]].astype({sample_name: 'int64'})\n",
    "xp_chip_df.head()"
   ]
  },
  {
   "cell_type": "code",
   "execution_count": 98,
   "metadata": {},
   "outputs": [
    {
     "data": {
      "text/plain": [
       "2639350"
      ]
     },
     "execution_count": 98,
     "metadata": {},
     "output_type": "execute_result"
    }
   ],
   "source": [
    "total = xp_chip_df[sample_name].sum()\n",
    "total"
   ]
  },
  {
   "cell_type": "markdown",
   "metadata": {},
   "source": [
    "- Show counts for genes of interest: **Heterochromatic Genes**"
   ]
  },
  {
   "cell_type": "code",
   "execution_count": 99,
   "metadata": {},
   "outputs": [
    {
     "data": {
      "text/html": [
       "<div>\n",
       "<style scoped>\n",
       "    .dataframe tbody tr th:only-of-type {\n",
       "        vertical-align: middle;\n",
       "    }\n",
       "\n",
       "    .dataframe tbody tr th {\n",
       "        vertical-align: top;\n",
       "    }\n",
       "\n",
       "    .dataframe thead th {\n",
       "        text-align: right;\n",
       "    }\n",
       "</style>\n",
       "<table border=\"1\" class=\"dataframe\">\n",
       "  <thead>\n",
       "    <tr style=\"text-align: right;\">\n",
       "      <th></th>\n",
       "      <th>gene-id</th>\n",
       "      <th>length</th>\n",
       "      <th>type</th>\n",
       "      <th>category</th>\n",
       "      <th>bio_type</th>\n",
       "      <th>1168_S2ChIP</th>\n",
       "    </tr>\n",
       "  </thead>\n",
       "  <tbody>\n",
       "    <tr>\n",
       "      <th>6937</th>\n",
       "      <td>dg1</td>\n",
       "      <td>3500.0</td>\n",
       "      <td>gene</td>\n",
       "      <td>repeat</td>\n",
       "      <td>protein_coding</td>\n",
       "      <td>1198</td>\n",
       "    </tr>\n",
       "    <tr>\n",
       "      <th>6938</th>\n",
       "      <td>dh1</td>\n",
       "      <td>4000.0</td>\n",
       "      <td>gene</td>\n",
       "      <td>repeat</td>\n",
       "      <td>protein_coding</td>\n",
       "      <td>1345</td>\n",
       "    </tr>\n",
       "    <tr>\n",
       "      <th>6939</th>\n",
       "      <td>after_tlh</td>\n",
       "      <td>5000.0</td>\n",
       "      <td>gene</td>\n",
       "      <td>repeat</td>\n",
       "      <td>protein_coding</td>\n",
       "      <td>540</td>\n",
       "    </tr>\n",
       "    <tr>\n",
       "      <th>6940</th>\n",
       "      <td>MAT2</td>\n",
       "      <td>4000.0</td>\n",
       "      <td>gene</td>\n",
       "      <td>repeat</td>\n",
       "      <td>protein_coding</td>\n",
       "      <td>172</td>\n",
       "    </tr>\n",
       "    <tr>\n",
       "      <th>6941</th>\n",
       "      <td>MAT3</td>\n",
       "      <td>4000.0</td>\n",
       "      <td>gene</td>\n",
       "      <td>repeat</td>\n",
       "      <td>protein_coding</td>\n",
       "      <td>238</td>\n",
       "    </tr>\n",
       "    <tr>\n",
       "      <th>6942</th>\n",
       "      <td>MAT1</td>\n",
       "      <td>1500.0</td>\n",
       "      <td>gene</td>\n",
       "      <td>repeat</td>\n",
       "      <td>protein_coding</td>\n",
       "      <td>24</td>\n",
       "    </tr>\n",
       "  </tbody>\n",
       "</table>\n",
       "</div>"
      ],
      "text/plain": [
       "        gene-id  length  type category        bio_type  1168_S2ChIP\n",
       "6937        dg1  3500.0  gene   repeat  protein_coding         1198\n",
       "6938        dh1  4000.0  gene   repeat  protein_coding         1345\n",
       "6939  after_tlh  5000.0  gene   repeat  protein_coding          540\n",
       "6940       MAT2  4000.0  gene   repeat  protein_coding          172\n",
       "6941       MAT3  4000.0  gene   repeat  protein_coding          238\n",
       "6942       MAT1  1500.0  gene   repeat  protein_coding           24"
      ]
     },
     "execution_count": 99,
     "metadata": {},
     "output_type": "execute_result"
    }
   ],
   "source": [
    "xp_chip_df[xp_chip_df['gene-id'].isin(htc_genes)]"
   ]
  },
  {
   "cell_type": "markdown",
   "metadata": {},
   "source": [
    "- **Merge** both counts DataFrames"
   ]
  },
  {
   "cell_type": "code",
   "execution_count": 100,
   "metadata": {},
   "outputs": [
    {
     "data": {
      "text/html": [
       "<div>\n",
       "<style scoped>\n",
       "    .dataframe tbody tr th:only-of-type {\n",
       "        vertical-align: middle;\n",
       "    }\n",
       "\n",
       "    .dataframe tbody tr th {\n",
       "        vertical-align: top;\n",
       "    }\n",
       "\n",
       "    .dataframe thead th {\n",
       "        text-align: right;\n",
       "    }\n",
       "</style>\n",
       "<table border=\"1\" class=\"dataframe\">\n",
       "  <thead>\n",
       "    <tr style=\"text-align: right;\">\n",
       "      <th></th>\n",
       "      <th>gene-id</th>\n",
       "      <th>count</th>\n",
       "      <th>length</th>\n",
       "      <th>type</th>\n",
       "      <th>category</th>\n",
       "      <th>bio_type</th>\n",
       "      <th>1168_S2ChIP</th>\n",
       "    </tr>\n",
       "  </thead>\n",
       "  <tbody>\n",
       "    <tr>\n",
       "      <th>0</th>\n",
       "      <td>_total</td>\n",
       "      <td>2785741.0</td>\n",
       "      <td>NaN</td>\n",
       "      <td>NaN</td>\n",
       "      <td>NaN</td>\n",
       "      <td>NaN</td>\n",
       "      <td>NaN</td>\n",
       "    </tr>\n",
       "    <tr>\n",
       "      <th>1</th>\n",
       "      <td>_alignment_not_unique</td>\n",
       "      <td>304271.0</td>\n",
       "      <td>NaN</td>\n",
       "      <td>NaN</td>\n",
       "      <td>NaN</td>\n",
       "      <td>NaN</td>\n",
       "      <td>NaN</td>\n",
       "    </tr>\n",
       "    <tr>\n",
       "      <th>2</th>\n",
       "      <td>SPAC212.11</td>\n",
       "      <td>1064.0</td>\n",
       "      <td>5661.0</td>\n",
       "      <td>gene</td>\n",
       "      <td>repeat</td>\n",
       "      <td>protein_coding</td>\n",
       "      <td>1074.0</td>\n",
       "    </tr>\n",
       "    <tr>\n",
       "      <th>3</th>\n",
       "      <td>_no_feature</td>\n",
       "      <td>447609.0</td>\n",
       "      <td>NaN</td>\n",
       "      <td>NaN</td>\n",
       "      <td>NaN</td>\n",
       "      <td>NaN</td>\n",
       "      <td>NaN</td>\n",
       "    </tr>\n",
       "    <tr>\n",
       "      <th>4</th>\n",
       "      <td>SPAC212.10</td>\n",
       "      <td>124.0</td>\n",
       "      <td>605.0</td>\n",
       "      <td>pseudogene</td>\n",
       "      <td>repeat</td>\n",
       "      <td>pseudogene</td>\n",
       "      <td>137.0</td>\n",
       "    </tr>\n",
       "    <tr>\n",
       "      <th>...</th>\n",
       "      <td>...</td>\n",
       "      <td>...</td>\n",
       "      <td>...</td>\n",
       "      <td>...</td>\n",
       "      <td>...</td>\n",
       "      <td>...</td>\n",
       "      <td>...</td>\n",
       "    </tr>\n",
       "    <tr>\n",
       "      <th>6978</th>\n",
       "      <td>SPMITTRNAVAL.01</td>\n",
       "      <td>NaN</td>\n",
       "      <td>72.0</td>\n",
       "      <td>tRNA_gene</td>\n",
       "      <td>gene</td>\n",
       "      <td>tRNA</td>\n",
       "      <td>33.0</td>\n",
       "    </tr>\n",
       "    <tr>\n",
       "      <th>6979</th>\n",
       "      <td>SPMITTRNATYR.01</td>\n",
       "      <td>NaN</td>\n",
       "      <td>85.0</td>\n",
       "      <td>tRNA_gene</td>\n",
       "      <td>gene</td>\n",
       "      <td>tRNA</td>\n",
       "      <td>2.0</td>\n",
       "    </tr>\n",
       "    <tr>\n",
       "      <th>6980</th>\n",
       "      <td>SPMITTRNASER.02</td>\n",
       "      <td>NaN</td>\n",
       "      <td>81.0</td>\n",
       "      <td>tRNA_gene</td>\n",
       "      <td>gene</td>\n",
       "      <td>tRNA</td>\n",
       "      <td>36.0</td>\n",
       "    </tr>\n",
       "    <tr>\n",
       "      <th>6981</th>\n",
       "      <td>SPMITTRNAALA.01</td>\n",
       "      <td>NaN</td>\n",
       "      <td>72.0</td>\n",
       "      <td>tRNA_gene</td>\n",
       "      <td>gene</td>\n",
       "      <td>tRNA</td>\n",
       "      <td>9.0</td>\n",
       "    </tr>\n",
       "    <tr>\n",
       "      <th>6982</th>\n",
       "      <td>SPMITTRNAGLU.01</td>\n",
       "      <td>NaN</td>\n",
       "      <td>71.0</td>\n",
       "      <td>tRNA_gene</td>\n",
       "      <td>gene</td>\n",
       "      <td>tRNA</td>\n",
       "      <td>3.0</td>\n",
       "    </tr>\n",
       "  </tbody>\n",
       "</table>\n",
       "<p>6983 rows × 7 columns</p>\n",
       "</div>"
      ],
      "text/plain": [
       "                    gene-id      count  length        type category  \\\n",
       "0                    _total  2785741.0     NaN         NaN      NaN   \n",
       "1     _alignment_not_unique   304271.0     NaN         NaN      NaN   \n",
       "2                SPAC212.11     1064.0  5661.0        gene   repeat   \n",
       "3               _no_feature   447609.0     NaN         NaN      NaN   \n",
       "4                SPAC212.10      124.0   605.0  pseudogene   repeat   \n",
       "...                     ...        ...     ...         ...      ...   \n",
       "6978        SPMITTRNAVAL.01        NaN    72.0   tRNA_gene     gene   \n",
       "6979        SPMITTRNATYR.01        NaN    85.0   tRNA_gene     gene   \n",
       "6980        SPMITTRNASER.02        NaN    81.0   tRNA_gene     gene   \n",
       "6981        SPMITTRNAALA.01        NaN    72.0   tRNA_gene     gene   \n",
       "6982        SPMITTRNAGLU.01        NaN    71.0   tRNA_gene     gene   \n",
       "\n",
       "            bio_type  1168_S2ChIP  \n",
       "0                NaN          NaN  \n",
       "1                NaN          NaN  \n",
       "2     protein_coding       1074.0  \n",
       "3                NaN          NaN  \n",
       "4         pseudogene        137.0  \n",
       "...              ...          ...  \n",
       "6978            tRNA         33.0  \n",
       "6979            tRNA          2.0  \n",
       "6980            tRNA         36.0  \n",
       "6981            tRNA          9.0  \n",
       "6982            tRNA          3.0  \n",
       "\n",
       "[6983 rows x 7 columns]"
      ]
     },
     "execution_count": 100,
     "metadata": {},
     "output_type": "execute_result"
    }
   ],
   "source": [
    "merged_xp_chip = pd.merge(counts_df, xp_chip_df, on='gene-id', how='outer')\n",
    "merged_xp_chip"
   ]
  },
  {
   "cell_type": "code",
   "execution_count": 101,
   "metadata": {},
   "outputs": [
    {
     "data": {
      "text/html": [
       "<div>\n",
       "<style scoped>\n",
       "    .dataframe tbody tr th:only-of-type {\n",
       "        vertical-align: middle;\n",
       "    }\n",
       "\n",
       "    .dataframe tbody tr th {\n",
       "        vertical-align: top;\n",
       "    }\n",
       "\n",
       "    .dataframe thead th {\n",
       "        text-align: right;\n",
       "    }\n",
       "</style>\n",
       "<table border=\"1\" class=\"dataframe\">\n",
       "  <thead>\n",
       "    <tr style=\"text-align: right;\">\n",
       "      <th></th>\n",
       "      <th>gene-id</th>\n",
       "      <th>count</th>\n",
       "      <th>length</th>\n",
       "      <th>type</th>\n",
       "      <th>category</th>\n",
       "      <th>bio_type</th>\n",
       "      <th>1168_S2ChIP</th>\n",
       "    </tr>\n",
       "  </thead>\n",
       "  <tbody>\n",
       "    <tr>\n",
       "      <th>2046</th>\n",
       "      <td>dh1</td>\n",
       "      <td>1335.0</td>\n",
       "      <td>4000.0</td>\n",
       "      <td>gene</td>\n",
       "      <td>repeat</td>\n",
       "      <td>protein_coding</td>\n",
       "      <td>1345.0</td>\n",
       "    </tr>\n",
       "    <tr>\n",
       "      <th>2050</th>\n",
       "      <td>dg1</td>\n",
       "      <td>1198.0</td>\n",
       "      <td>3500.0</td>\n",
       "      <td>gene</td>\n",
       "      <td>repeat</td>\n",
       "      <td>protein_coding</td>\n",
       "      <td>1198.0</td>\n",
       "    </tr>\n",
       "    <tr>\n",
       "      <th>4159</th>\n",
       "      <td>MAT1</td>\n",
       "      <td>24.0</td>\n",
       "      <td>1500.0</td>\n",
       "      <td>gene</td>\n",
       "      <td>repeat</td>\n",
       "      <td>protein_coding</td>\n",
       "      <td>24.0</td>\n",
       "    </tr>\n",
       "    <tr>\n",
       "      <th>4171</th>\n",
       "      <td>MAT2</td>\n",
       "      <td>155.0</td>\n",
       "      <td>4000.0</td>\n",
       "      <td>gene</td>\n",
       "      <td>repeat</td>\n",
       "      <td>protein_coding</td>\n",
       "      <td>172.0</td>\n",
       "    </tr>\n",
       "    <tr>\n",
       "      <th>4173</th>\n",
       "      <td>MAT3</td>\n",
       "      <td>224.0</td>\n",
       "      <td>4000.0</td>\n",
       "      <td>gene</td>\n",
       "      <td>repeat</td>\n",
       "      <td>protein_coding</td>\n",
       "      <td>238.0</td>\n",
       "    </tr>\n",
       "    <tr>\n",
       "      <th>5487</th>\n",
       "      <td>after_tlh</td>\n",
       "      <td>622.0</td>\n",
       "      <td>5000.0</td>\n",
       "      <td>gene</td>\n",
       "      <td>repeat</td>\n",
       "      <td>protein_coding</td>\n",
       "      <td>540.0</td>\n",
       "    </tr>\n",
       "  </tbody>\n",
       "</table>\n",
       "</div>"
      ],
      "text/plain": [
       "        gene-id   count  length  type category        bio_type  1168_S2ChIP\n",
       "2046        dh1  1335.0  4000.0  gene   repeat  protein_coding       1345.0\n",
       "2050        dg1  1198.0  3500.0  gene   repeat  protein_coding       1198.0\n",
       "4159       MAT1    24.0  1500.0  gene   repeat  protein_coding         24.0\n",
       "4171       MAT2   155.0  4000.0  gene   repeat  protein_coding        172.0\n",
       "4173       MAT3   224.0  4000.0  gene   repeat  protein_coding        238.0\n",
       "5487  after_tlh   622.0  5000.0  gene   repeat  protein_coding        540.0"
      ]
     },
     "execution_count": 101,
     "metadata": {},
     "output_type": "execute_result"
    }
   ],
   "source": [
    "merged_xp_chip[merged_xp_chip['gene-id'].isin(htc_genes)]"
   ]
  },
  {
   "cell_type": "code",
   "execution_count": 38,
   "metadata": {},
   "outputs": [],
   "source": [
    "select_genes = ['SPCC569.04', 'SPCC569.05c']"
   ]
  },
  {
   "cell_type": "code",
   "execution_count": 39,
   "metadata": {},
   "outputs": [
    {
     "data": {
      "text/html": [
       "<div>\n",
       "<style scoped>\n",
       "    .dataframe tbody tr th:only-of-type {\n",
       "        vertical-align: middle;\n",
       "    }\n",
       "\n",
       "    .dataframe tbody tr th {\n",
       "        vertical-align: top;\n",
       "    }\n",
       "\n",
       "    .dataframe thead th {\n",
       "        text-align: right;\n",
       "    }\n",
       "</style>\n",
       "<table border=\"1\" class=\"dataframe\">\n",
       "  <thead>\n",
       "    <tr style=\"text-align: right;\">\n",
       "      <th></th>\n",
       "      <th>gene-id</th>\n",
       "      <th>count</th>\n",
       "      <th>length</th>\n",
       "      <th>type</th>\n",
       "      <th>category</th>\n",
       "      <th>bio_type</th>\n",
       "      <th>1168_S2ChIP</th>\n",
       "    </tr>\n",
       "  </thead>\n",
       "  <tbody>\n",
       "    <tr>\n",
       "      <th>0</th>\n",
       "      <td>SPCC569.05c</td>\n",
       "      <td>346.0</td>\n",
       "      <td>4188.0</td>\n",
       "      <td>gene</td>\n",
       "      <td>gene</td>\n",
       "      <td>protein_coding</td>\n",
       "      <td>356.0</td>\n",
       "    </tr>\n",
       "    <tr>\n",
       "      <th>1</th>\n",
       "      <td>SPCC569.04</td>\n",
       "      <td>12.0</td>\n",
       "      <td>544.0</td>\n",
       "      <td>gene</td>\n",
       "      <td>gene</td>\n",
       "      <td>protein_coding</td>\n",
       "      <td>18.0</td>\n",
       "    </tr>\n",
       "  </tbody>\n",
       "</table>\n",
       "</div>"
      ],
      "text/plain": [
       "       gene-id  count  length  type category        bio_type  1168_S2ChIP\n",
       "0  SPCC569.05c  346.0  4188.0  gene     gene  protein_coding        356.0\n",
       "1   SPCC569.04   12.0   544.0  gene     gene  protein_coding         18.0"
      ]
     },
     "execution_count": 39,
     "metadata": {},
     "output_type": "execute_result"
    }
   ],
   "source": [
    "merged_xp_chip[merged_xp_chip['gene-id'].isin(select_genes)].reset_index(drop=True)\n",
    "#merged_xp_chip[merged_xp_chip['gene-id'] == 'SPCC569.05c'].reset_index(drop=True)"
   ]
  },
  {
   "cell_type": "code",
   "execution_count": 41,
   "metadata": {},
   "outputs": [
    {
     "data": {
      "text/plain": [
       "{'SPMIT.05', 'SPMIT.06'}"
      ]
     },
     "execution_count": 41,
     "metadata": {},
     "output_type": "execute_result"
    }
   ],
   "source": [
    "iv_test = HTSeq.GenomicInterval(\"MT\", 11190, 12500, \".\")\n",
    "\n",
    "gene_ids = set()\n",
    "## loop over features overlapping with the read\n",
    "for iv, val in gene_features[ iv_test ].steps():\n",
    "    gene_ids |= val\n",
    "\n",
    "gene_ids"
   ]
  },
  {
   "cell_type": "markdown",
   "metadata": {},
   "source": [
    "----"
   ]
  },
  {
   "cell_type": "markdown",
   "metadata": {},
   "source": [
    "## Counting gapped single-end reads:  **RNA-Seq data**"
   ]
  },
  {
   "cell_type": "markdown",
   "metadata": {},
   "source": [
    "The above code can be used as is e.g. for **ChIP-Seq data**, but for **RNA-Seq data**, we need an additional ingredient.\n",
    "\n",
    "When sequencing RNA, many reads will pass over an **exon-exon junction** and hence **align to two (or more) disjunct intervals** on the genome, \n",
    "tyically with an intron in between.\n",
    "If the reads have been aligned with a **splice-aware alignment tool** (e.g. STAR), such gapped alignment is indicated in the `SAM` **file** by the `CIGAR` (Compact Idiosyncratic Gapped Alignment Report) **string**."
   ]
  },
  {
   "cell_type": "markdown",
   "metadata": {},
   "source": [
    "- Obtain `GenomicArrayOfSets` for the `exon` **features** from the `GFF` **File** (for `RNA` **stranded**)"
   ]
  },
  {
   "cell_type": "code",
   "execution_count": 8,
   "metadata": {},
   "outputs": [],
   "source": [
    "# instantiate `GenomicArrayOfSets` for the `exons` features:\n",
    "exons = HTSeq.GenomicArrayOfSets(\"auto\", stranded=True)\n",
    "#exons = HTSeq.GenomicArrayOfSets(\"auto\", stranded=False)\n",
    "\n",
    "## loop over all features in gtf file\n",
    "for feature in gtf_file:\n",
    "    \n",
    "    ## store all exons in our `GenomicArrayOfSets`\n",
    "    if feature.type == \"exon\":\n",
    "        \n",
    "        ## identify each `exon` feature by parent transcript/gene\n",
    "        #exons[feature.iv] += feature.attr[\"Name\"].split(':')[0]\n",
    "        #exons[feature.iv] += feature.attr[\"Parent\"].split(':')[1]\n",
    "        exons[feature.iv] += feature.attr[\"Parent\"].split(':')[1][:-2] ## get rid of '.1'\n"
   ]
  },
  {
   "cell_type": "code",
   "execution_count": 9,
   "metadata": {},
   "outputs": [
    {
     "ename": "NameError",
     "evalue": "name 'aln' is not defined",
     "output_type": "error",
     "traceback": [
      "\u001b[0;31m---------------------------------------------------------------------------\u001b[0m",
      "\u001b[0;31mNameError\u001b[0m                                 Traceback (most recent call last)",
      "\u001b[0;32m<ipython-input-9-bec340b4bb10>\u001b[0m in \u001b[0;36m<module>\u001b[0;34m\u001b[0m\n\u001b[0;32m----> 1\u001b[0;31m \u001b[0maln\u001b[0m\u001b[0;34m.\u001b[0m\u001b[0mcigar\u001b[0m\u001b[0;34m\u001b[0m\u001b[0;34m\u001b[0m\u001b[0m\n\u001b[0m",
      "\u001b[0;31mNameError\u001b[0m: name 'aln' is not defined"
     ]
    }
   ],
   "source": [
    "aln.cigar"
   ]
  },
  {
   "cell_type": "code",
   "execution_count": 10,
   "metadata": {},
   "outputs": [],
   "source": [
    "#aln.cigar[1].__dir__()"
   ]
  },
  {
   "cell_type": "code",
   "execution_count": 90,
   "metadata": {},
   "outputs": [
    {
     "data": {
      "text/plain": [
       "'M'"
      ]
     },
     "execution_count": 90,
     "metadata": {},
     "output_type": "execute_result"
    }
   ],
   "source": [
    "aln.cigar[1].type"
   ]
  },
  {
   "cell_type": "code",
   "execution_count": 93,
   "metadata": {},
   "outputs": [
    {
     "data": {
      "text/plain": [
       "<GenomicInterval object 'I', [5670,5703), strand '+'>"
      ]
     },
     "execution_count": 93,
     "metadata": {},
     "output_type": "execute_result"
    }
   ],
   "source": [
    "invert_strand(aln.cigar[1].ref_iv)"
   ]
  },
  {
   "cell_type": "code",
   "execution_count": 58,
   "metadata": {},
   "outputs": [],
   "source": [
    "#iv_seq = (invert_strand(co.ref_iv) for co in aln.cigar if (co.type in com and co.size > 0))\n",
    "iv_seq = (co.ref_iv for co in aln.cigar if (co.type in com and co.size > 0))"
   ]
  },
  {
   "cell_type": "code",
   "execution_count": 59,
   "metadata": {},
   "outputs": [
    {
     "name": "stdout",
     "output_type": "stream",
     "text": [
      "I:[459,509)/-\n"
     ]
    }
   ],
   "source": [
    "for iv in iv_seq:\n",
    "#for cig_op in aln.cigar:\n",
    "    \n",
    "    print(iv)\n",
    "    ## different from 'matched'\n",
    "    #if cig_op.type != \"M\":\n",
    "        ## skips to next iteration\n",
    "        #continue\n",
    "\n",
    "    ## loop over features overlapping with the cig_op\n",
    "    #for iv, val in exons[ cig_op.ref_iv ].steps():\n",
    "    for iv2, val2 in exons[ iv ].steps():\n",
    "        gene_ids |= val2\n"
   ]
  },
  {
   "cell_type": "code",
   "execution_count": 60,
   "metadata": {},
   "outputs": [
    {
     "data": {
      "text/plain": [
       "{'SPAC212.11.1'}"
      ]
     },
     "execution_count": 60,
     "metadata": {},
     "output_type": "execute_result"
    }
   ],
   "source": [
    "gene_ids"
   ]
  },
  {
   "cell_type": "code",
   "execution_count": 12,
   "metadata": {},
   "outputs": [
    {
     "name": "stdout",
     "output_type": "stream",
     "text": [
      "Elapsed Time (Counting reads): 0.4896712303161621\n"
     ]
    }
   ],
   "source": [
    "import collections\n",
    "counts = collections.Counter( )\n",
    "\n",
    "start_time = time.time()\n",
    "\n",
    "# select bam file: instantiate BAM_Reader Object (RNA-seq)\n",
    "bam_file = HTSeq.BAM_Reader('/gcm-lfs1/pablo/data/RNAdeg/data/RNA/bams/1113_pA/1113_pA.Aligned.sortedByCoord.out.bam')\n",
    "\n",
    "for aln in itertools.islice(bam_file, 10000):\n",
    "#for aln in bam_file:\n",
    "    \n",
    "    ## _mapped or _unmapped\n",
    "    counts[\"_total\"] += 1\n",
    "    \n",
    "    if not aln.aligned:\n",
    "        counts[\"_unmapped\"] += 1\n",
    "        ## skips to next iteration\n",
    "        continue\n",
    "        \n",
    "    gene_ids = set()\n",
    "    \n",
    "    ## invert strand - due to sequencing is strand is reversed!\n",
    "    iv_seq = (invert_strand(co.ref_iv) for co in aln.cigar if (co.type in com and co.size > 0))\n",
    "    #iv_seq = (co.ref_iv for co in aln.cigar if (co.type in com and co.size > 0))\n",
    "    \n",
    "    ## loop over CIGAR operations (cig_op) for aligned read    \n",
    "    for iv in iv_seq:\n",
    "    #for cig_op in aln.cigar:\n",
    "\n",
    "        ## different from 'matched'\n",
    "        #if cig_op.type != \"M\":\n",
    "            ## skips to next iteration\n",
    "            #continue\n",
    "        \n",
    "        ## loop over features overlapping with the cig_op\n",
    "        #for iv, val in exons[ cig_op.ref_iv ].steps():\n",
    "        for iv2, val2 in exons[ iv ].steps():\n",
    "            gene_ids |= val2\n",
    "    \n",
    "    ## Count Genes:\n",
    "    if len(gene_ids) == 1:\n",
    "        ## A. Uniquely Mapped (contains exactly one element) \n",
    "        gene_id = list(gene_ids)[0]\n",
    "        counts[gene_id] += 1\n",
    "        \n",
    "    elif len(gene_ids) == 0:\n",
    "        #import pdb\n",
    "        #pdb.set_trace()\n",
    "        ## B. Mapped to unknown feature (it is empty)\n",
    "        counts[\"_no_feature\"] += 1\n",
    "        \n",
    "    else:\n",
    "        #import pdb\n",
    "        #pdb.set_trace()\n",
    "        ## C. Mapped to overlapping feature (contains more than one element)\n",
    "        counts[\"_ambiguous\"] += 1\n",
    "        \n",
    "print('Elapsed Time (Counting reads):', time.time() - start_time)"
   ]
  },
  {
   "cell_type": "code",
   "execution_count": 73,
   "metadata": {},
   "outputs": [
    {
     "data": {
      "text/plain": [
       "{'_total': 10000,\n",
       " 'SPAC212.01c.1': 2716,\n",
       " 'SPAC212.04c.1': 2444,\n",
       " 'SPAC977.01.1': 1197,\n",
       " 'SPAC212.09c.1': 870,\n",
       " '_no_feature': 809,\n",
       " 'SPAC212.11.1': 552,\n",
       " 'SPAC212.08c.1': 381,\n",
       " 'SPAC212.12.1': 279,\n",
       " 'SPAC212.06c.1': 233,\n",
       " 'SPAC212.03.1': 153,\n",
       " 'SPAC212.02.1': 70,\n",
       " '_ambiguous': 67,\n",
       " 'SPAC212.07c.1': 60,\n",
       " 'SPAC13G6.07c.1': 30,\n",
       " 'SPAC977.14c.1': 24,\n",
       " 'SPAC5H10.13c.1': 15,\n",
       " 'SPAC11D3.16c.1': 13,\n",
       " 'SPAC1F8.07c.1': 13,\n",
       " 'SPAC24B11.13.1': 11,\n",
       " 'SPNCRNA.70.1': 10,\n",
       " 'SPAC212.10.1': 9,\n",
       " 'SPAPJ695.02.1': 7,\n",
       " 'SPAC24B11.06c.1': 7,\n",
       " 'SPAC212.05c.1': 7,\n",
       " 'SPAC977.11.1': 6,\n",
       " 'SPAC13G6.02c.1': 6,\n",
       " 'SPAC13G6.10c.1': 2,\n",
       " 'SPAC11D3.17.1': 2,\n",
       " 'SPNCRNA.648.1': 1,\n",
       " 'SPAC24B11.09.1': 1,\n",
       " 'SPAC11D3.11c.1': 1,\n",
       " 'SPAC5H10.03.1': 1,\n",
       " 'SPAC13G6.01c.1': 1,\n",
       " 'SPAC977.12.1': 1,\n",
       " 'SPAC1639.01c.1': 1}"
      ]
     },
     "execution_count": 73,
     "metadata": {},
     "output_type": "execute_result"
    }
   ],
   "source": [
    "{k: v for k, v in sorted(counts.items(), key=lambda item: item[1], reverse=True)}"
   ]
  },
  {
   "cell_type": "markdown",
   "metadata": {},
   "source": [
    "## Counting gapped single-end reads:  **HTSeq-count**"
   ]
  },
  {
   "cell_type": "markdown",
   "metadata": {},
   "source": [
    "![img_overlap](https://htseq.readthedocs.io/en/release_0.11.1/_images/count_modes.png)"
   ]
  },
  {
   "cell_type": "code",
   "execution_count": 1,
   "metadata": {},
   "outputs": [
    {
     "ename": "NameError",
     "evalue": "name 'time' is not defined",
     "output_type": "error",
     "traceback": [
      "\u001b[0;31m---------------------------------------------------------------------------\u001b[0m",
      "\u001b[0;31mNameError\u001b[0m                                 Traceback (most recent call last)",
      "\u001b[0;32m<ipython-input-1-e8b5407ffb9b>\u001b[0m in \u001b[0;36m<module>\u001b[0;34m\u001b[0m\n\u001b[1;32m      2\u001b[0m \u001b[0mcounts\u001b[0m \u001b[0;34m=\u001b[0m \u001b[0mcollections\u001b[0m\u001b[0;34m.\u001b[0m\u001b[0mCounter\u001b[0m\u001b[0;34m(\u001b[0m \u001b[0;34m)\u001b[0m\u001b[0;34m\u001b[0m\u001b[0;34m\u001b[0m\u001b[0m\n\u001b[1;32m      3\u001b[0m \u001b[0;34m\u001b[0m\u001b[0m\n\u001b[0;32m----> 4\u001b[0;31m \u001b[0mstart_time\u001b[0m \u001b[0;34m=\u001b[0m \u001b[0mtime\u001b[0m\u001b[0;34m.\u001b[0m\u001b[0mtime\u001b[0m\u001b[0;34m(\u001b[0m\u001b[0;34m)\u001b[0m\u001b[0;34m\u001b[0m\u001b[0;34m\u001b[0m\u001b[0m\n\u001b[0m\u001b[1;32m      5\u001b[0m \u001b[0;34m\u001b[0m\u001b[0m\n\u001b[1;32m      6\u001b[0m \u001b[0;31m# select bam file: instantiate BAM_Reader Object (ChIP-seq)\u001b[0m\u001b[0;34m\u001b[0m\u001b[0;34m\u001b[0m\u001b[0;34m\u001b[0m\u001b[0m\n",
      "\u001b[0;31mNameError\u001b[0m: name 'time' is not defined"
     ]
    }
   ],
   "source": [
    "import collections\n",
    "counts = collections.Counter( )\n",
    "\n",
    "start_time = time.time()\n",
    "\n",
    "# select bam file: instantiate BAM_Reader Object (ChIP-seq)\n",
    "#bam_file = HTSeq.BAM_Reader(os.path.join('/gcm-lfs1/pablo/data/RNAdeg/data/sequencing_new/ChIP/bam', sample_name, sample_name + '.Aligned.sortedByCoord.out.bam'))\n",
    "#bam_file = HTSeq.BAM_Reader(os.path.join('/data/pablo/RNAdeg/results/ChIP/bams', sample_name + '.Aligned.sortedByCoord.out.bam'))\n",
    "bam_file = HTSeq.BAM_Reader(os.path.join('/gcm-lfs1/pablo/data/RNAdeg/data/ChIP/bam', sample_name, sample_name + '.Aligned.sortedByCoord.out.bam'))\n",
    "\n",
    "overlap_mode = \"intersection-nonempty\"\n",
    "\n",
    "for aln in bam_file:\n",
    "    \n",
    "    ## _mapped or _unmapped\n",
    "    counts[\"_total\"] += 1\n",
    "    \n",
    "    if not aln.aligned:\n",
    "        counts[\"_unmapped\"] += 1\n",
    "        ## skips to next iteration\n",
    "        continue\n",
    "    \n",
    "    ## ------------\n",
    "    ## Overlap Mode\n",
    "    ## ------------\n",
    "    \n",
    "    ## invert strand - due to sequencing is strand is reversed!\n",
    "    iv_seq = (invert_strand(co.ref_iv) for co in aln.cigar if (co.type in com and co.size > 0))\n",
    "    #iv_seq = (co.ref_iv for co in aln.cigar if (co.type in com and co.size > 0))\n",
    "    \n",
    "    ## A. Union: the union of all the sets S(i). This mode is recommended for most use cases.\n",
    "    if overlap_mode == \"union\":\n",
    "        ## feature set\n",
    "        gene_ids = set()\n",
    "        for iv in iv_seq:\n",
    "            #if iv.chrom not in features.chrom_vectors:\n",
    "            #    raise UnknownChrom\n",
    "            for iv2, fs2 in gene_features[ iv ].steps():\n",
    "                gene_ids = gene_ids.union(fs2)\n",
    "    \n",
    "    ## B. Intersection-strict: the intersection of all the sets S(i).\n",
    "    ## C. Intersection-nonempty: the intersection of all non-empty sets S(i).\n",
    "    elif overlap_mode in (\"intersection-strict\", \"intersection-nonempty\"):\n",
    "        ## feature set\n",
    "        gene_ids = None\n",
    "        for iv in iv_seq:\n",
    "            #if iv.chrom not in features.chrom_vectors:\n",
    "            #    raise UnknownChrom\n",
    "            for iv2, fs2 in gene_features[ iv ].steps():\n",
    "                if ((len(fs2) > 0) or (overlap_mode == \"intersection-strict\")):\n",
    "                    if gene_ids is None:\n",
    "                        gene_ids = fs2.copy()\n",
    "                    else:\n",
    "                        gene_ids = gene_ids.intersection(fs2)\n",
    "    ## Other: Ilegal!                   \n",
    "    else:\n",
    "        sys.exit(\"Illegal overlap mode.\")\n",
    "    \n",
    "    ## --------------\n",
    "    ## Count Features\n",
    "    ## --------------\n",
    "\n",
    "    if gene_ids is None or len(gene_ids) == 0:\n",
    "        ## A. Mapped to unknown feature (it is empty)\n",
    "        counts[\"_no_feature\"] += 1\n",
    "        import pdb\n",
    "        pdb.set_trace()\n",
    "        \n",
    "    elif len(gene_ids) > 1:\n",
    "        ## B. Mapped to overlapping feature (contains more than one element)\n",
    "        counts[\"_ambiguous\"] += 1\n",
    "    \n",
    "    else:\n",
    "        ## C. Uniquely Mapped (contains exactly one element) \n",
    "        gene_id = list(gene_ids)[0]\n",
    "        counts[gene_id] += 1\n",
    "        \n",
    "    ## Deal with multimapped reads! fs: feature set\n",
    "    #if fs is not None and len(fs) > 0:\n",
    "    #    \n",
    "    #    if multimapped_mode == 'none':\n",
    "    #        if len(fs) == 1:\n",
    "    #            counts[list(fs)[0]] += 1\n",
    "    #            \n",
    "    #    elif multimapped_mode == 'all':\n",
    "    #        for fsi in list(fs):\n",
    "    #            counts[fsi] += 1\n",
    "    #    \n",
    "    #    ## Other: Ilegal!                   \n",
    "    #    else:\n",
    "    #        sys.exit(\"Illegal multimap mode.\")\n",
    "\n",
    "        \n",
    "print('Elapsed Time (Counting reads):', time.time() - start_time)"
   ]
  },
  {
   "cell_type": "code",
   "execution_count": null,
   "metadata": {},
   "outputs": [],
   "source": [
    "try:\n",
    "    ## ------------\n",
    "    ## Overlap Mode\n",
    "    ## ------------\n",
    "\n",
    "    ## A. Union: the union of all the sets S(i). This mode is recommended for most use cases.\n",
    "    if overlap_mode == \"union\":\n",
    "        ## feature set\n",
    "        fs = set()\n",
    "        for iv in iv_seq:\n",
    "            #if iv.chrom not in features.chrom_vectors:\n",
    "            #    raise UnknownChrom\n",
    "            for iv2, fs2 in features[ iv ].steps():\n",
    "                fs = fs.union(fs2)\n",
    "    \n",
    "    ## B. Intersection-strict: the intersection of all the sets S(i).\n",
    "    ## C. Intersection-nonempty: the intersection of all non-empty sets S(i).\n",
    "    elif overlap_mode in (\"intersection-strict\", \"intersection-nonempty\"):\n",
    "        ## feature set\n",
    "        fs = None\n",
    "        for iv in iv_seq:\n",
    "            #if iv.chrom not in features.chrom_vectors:\n",
    "            #    raise UnknownChrom\n",
    "            for iv2, fs2 in features[iv].steps():\n",
    "                if ((len(fs2) > 0) or (overlap_mode == \"intersection-strict\")):\n",
    "                    if fs is None:\n",
    "                        fs = fs2.copy()\n",
    "                    else:\n",
    "                        fs = fs.intersection(fs2)\n",
    "    ## Other: Ilegal!                   \n",
    "    else:\n",
    "        sys.exit(\"Illegal overlap mode.\")\n",
    "        \n",
    "    ## --------------\n",
    "    ## Count Features\n",
    "    ## --------------\n",
    "\n",
    "    if fs is None or len(fs) == 0:\n",
    "        ## A. Mapped to unknown feature (it is empty)\n",
    "        write_to_samout(r, \"__no_feature\", samoutfile)\n",
    "        empty += 1\n",
    "        \n",
    "    elif len(fs) > 1:\n",
    "        ## B. Mapped to overlapping feature (contains more than one element)\n",
    "        write_to_samout(r, \"__ambiguous[\" + '+'.join(fs) + \"]\", samoutfile)\n",
    "        ambiguous += 1\n",
    "    \n",
    "    else:\n",
    "        ## C. Uniquely Mapped (contains exactly one element) \n",
    "        write_to_samout(r, list(fs)[0], samoutfile)\n",
    "    \n",
    "    ## Deal with multimapped reads!\n",
    "    if fs is not None and len(fs) > 0:\n",
    "        \n",
    "        if multimapped_mode == 'none':\n",
    "            if len(fs) == 1:\n",
    "                counts[list(fs)[0]] += 1\n",
    "                \n",
    "        elif multimapped_mode == 'all':\n",
    "            for fsi in list(fs):\n",
    "                counts[fsi] += 1\n",
    "        \n",
    "        ## Other: Ilegal!                   \n",
    "        else:\n",
    "            sys.exit(\"Illegal multimap mode.\")\n"
   ]
  },
  {
   "cell_type": "markdown",
   "metadata": {},
   "source": [
    "## Counting gapped single-end reads:  **Parastou's script**"
   ]
  },
  {
   "cell_type": "code",
   "execution_count": null,
   "metadata": {},
   "outputs": [],
   "source": []
  }
 ],
 "metadata": {
  "kernelspec": {
   "display_name": "Python (heterochromatin)",
   "language": "python",
   "name": "heterochromatin"
  },
  "language_info": {
   "codemirror_mode": {
    "name": "ipython",
    "version": 3
   },
   "file_extension": ".py",
   "mimetype": "text/x-python",
   "name": "python",
   "nbconvert_exporter": "python",
   "pygments_lexer": "ipython3",
   "version": "3.6.7"
  }
 },
 "nbformat": 4,
 "nbformat_minor": 2
}
