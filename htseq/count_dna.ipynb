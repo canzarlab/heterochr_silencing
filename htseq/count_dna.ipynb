{
 "cells": [
  {
   "cell_type": "code",
   "execution_count": 1,
   "metadata": {},
   "outputs": [],
   "source": [
    "import itertools\n",
    "import time\n",
    "import os\n",
    "import sys"
   ]
  },
  {
   "cell_type": "code",
   "execution_count": 2,
   "metadata": {},
   "outputs": [],
   "source": [
    "import HTSeq\n",
    "import pandas as pd"
   ]
  },
  {
   "cell_type": "code",
   "execution_count": 3,
   "metadata": {},
   "outputs": [],
   "source": [
    "def invert_strand(iv):\n",
    "    iv2 = iv.copy()\n",
    "    if iv2.strand == \"+\":\n",
    "        iv2.strand = \"-\"\n",
    "    elif iv2.strand == \"-\":\n",
    "        iv2.strand = \"+\"\n",
    "    else:\n",
    "        raise ValueError(\"Illegal strand\")\n",
    "    return iv2"
   ]
  },
  {
   "cell_type": "code",
   "execution_count": 4,
   "metadata": {},
   "outputs": [],
   "source": [
    "# select gtf file: instantiate GFF_Reader Object\n",
    "gtf_file = HTSeq.GFF_Reader(\"/gcm-lfs1/pablo/data/RNAdeg/annotation/gff/schizosaccharomyces_pombe.chr.extended.gff3\")"
   ]
  },
  {
   "cell_type": "code",
   "execution_count": 5,
   "metadata": {},
   "outputs": [],
   "source": [
    "## heterochromatic genes\n",
    "htc_genes = ('dg1', 'dh1', 'after_tlh', 'MAT2', 'MAT3', 'MAT1')"
   ]
  },
  {
   "cell_type": "markdown",
   "metadata": {},
   "source": [
    "# Counting ungapped single-end reads: **ChIP-Seq data**"
   ]
  },
  {
   "cell_type": "markdown",
   "metadata": {},
   "source": [
    "- Obtain `GenomicArrayOfSets` for the `gene` **features** from the `GFF` **File** (for `DNA` **unstranded**)"
   ]
  },
  {
   "cell_type": "code",
   "execution_count": 6,
   "metadata": {},
   "outputs": [],
   "source": [
    "# instantiate `GenomicArrayOfSets` for `gene` features: (`DNA` **unstranded**)\n",
    "gene_features = HTSeq.GenomicArrayOfSets(\"auto\", stranded=False)\n",
    "\n",
    "genes_dict = {}\n",
    "## for DNA we have to use the `gene` features \n",
    "#features_of_interest = ['gene', 'snRNA_gene', 'rRNA_gene', 'pseudogene', 'snoRNA_gene', 'tRNA_gene', 'ncRNA_gene']\n",
    "\n",
    "## loop over all features in gtf file\n",
    "for feature in gtf_file:\n",
    "    \n",
    "    ## parse features contained in `features_of_interest`\n",
    "    #if feature.type in features_of_interest:\n",
    "    if 'gene' in feature.type:\n",
    "        \n",
    "        # get `gene` feature id\n",
    "        try:\n",
    "            ## identify each `gene` feature by `gene_id` attribute: transcript/gene\n",
    "            gene_id = feature.attr[\"gene_id\"]\n",
    "\n",
    "        except:\n",
    "            ## sub-set of pseudogenes that behave as transcripts\n",
    "            assert feature.type == 'pseudogene'\n",
    "            gene_id = feature.attr[\"Parent\"].split(':')[1]\n",
    "        \n",
    "        ## add `gene` feature to `GenomicArrayOfSets`\n",
    "        gene_features[feature.iv] += gene_id\n",
    "\n",
    "        # Is this the first time we see this gene?\n",
    "        if gene_id not in genes_dict:\n",
    "            # If so, add to the 'genes_dict' an empty list \n",
    "            genes_dict[ gene_id ] = list()\n",
    "\n",
    "        # add the feature to the gene list\n",
    "        genes_dict[ gene_id ].append( feature )"
   ]
  },
  {
   "cell_type": "code",
   "execution_count": 7,
   "metadata": {},
   "outputs": [
    {
     "data": {
      "text/plain": [
       "6992"
      ]
     },
     "execution_count": 7,
     "metadata": {},
     "output_type": "execute_result"
    }
   ],
   "source": [
    "len(genes_dict)\n",
    "#genes_dict"
   ]
  },
  {
   "cell_type": "markdown",
   "metadata": {},
   "source": [
    "![img_overlap](https://htseq.readthedocs.io/en/release_0.11.1/_images/count_modes.png)"
   ]
  },
  {
   "cell_type": "markdown",
   "metadata": {},
   "source": [
    "- Parse `BAM` **File** to **count reads** falling into each `gene` **feature** "
   ]
  },
  {
   "cell_type": "code",
   "execution_count": 8,
   "metadata": {},
   "outputs": [],
   "source": [
    "#sample_name = '1022_INPUT'\n",
    "sample_name = '1168_S2ChIP'"
   ]
  },
  {
   "cell_type": "code",
   "execution_count": 9,
   "metadata": {},
   "outputs": [],
   "source": [
    "#os.path.join('/gcm-lfs1/pablo/data/RNAdeg/data/ChIP/bam', sample_name, sample_name + '.Aligned.sortedByCoord.out.bam')"
   ]
  },
  {
   "cell_type": "code",
   "execution_count": 10,
   "metadata": {},
   "outputs": [
    {
     "name": "stderr",
     "output_type": "stream",
     "text": [
      "100000 alignment records processed. 4.783107280731201 s\n",
      "200000 alignment records processed. 9.3605797290802 s\n",
      "300000 alignment records processed. 13.950458288192749 s\n",
      "400000 alignment records processed. 18.52493667602539 s\n",
      "500000 alignment records processed. 23.137054920196533 s\n",
      "600000 alignment records processed. 27.737872838974 s\n",
      "700000 alignment records processed. 32.317275047302246 s\n",
      "800000 alignment records processed. 36.915855884552 s\n",
      "900000 alignment records processed. 41.47606015205383 s\n",
      "1000000 alignment records processed. 46.062005043029785 s\n",
      "1100000 alignment records processed. 50.65654182434082 s\n",
      "1200000 alignment records processed. 55.23732233047485 s\n",
      "1300000 alignment records processed. 59.828253746032715 s\n",
      "1400000 alignment records processed. 64.47795486450195 s\n",
      "1500000 alignment records processed. 68.90028405189514 s\n",
      "1600000 alignment records processed. 73.50031232833862 s\n",
      "1700000 alignment records processed. 78.17464709281921 s\n",
      "1800000 alignment records processed. 82.85876035690308 s\n",
      "1900000 alignment records processed. 87.54555583000183 s\n",
      "2000000 alignment records processed. 92.26963686943054 s\n",
      "2100000 alignment records processed. 97.00832629203796 s\n",
      "2200000 alignment records processed. 101.55998373031616 s\n",
      "2300000 alignment records processed. 106.28583478927612 s\n",
      "2400000 alignment records processed. 110.91785144805908 s\n",
      "2500000 alignment records processed. 115.51030015945435 s\n",
      "2600000 alignment records processed. 120.02320289611816 s\n",
      "2700000 alignment records processed. 124.53772902488708 s\n",
      "2800000 alignment records processed. 129.07501816749573 s\n"
     ]
    },
    {
     "name": "stdout",
     "output_type": "stream",
     "text": [
      "Elapsed Time (Counting reads): 131.55697774887085\n"
     ]
    }
   ],
   "source": [
    "import collections\n",
    "counts = collections.Counter( )\n",
    "\n",
    "start_time = time.time()\n",
    "\n",
    "# select bam file: instantiate BAM_Reader Object (ChIP-seq)\n",
    "#bam_file = HTSeq.BAM_Reader(os.path.join('/gcm-lfs1/pablo/data/RNAdeg/data/sequencing_new/ChIP/bam', sample_name, sample_name + '.Aligned.sortedByCoord.out.bam'))\n",
    "#bam_file = HTSeq.BAM_Reader(os.path.join('/data/pablo/RNAdeg/results/ChIP/bams', sample_name + '.Aligned.sortedByCoord.out.bam'))\n",
    "bam_file = HTSeq.BAM_Reader(os.path.join('/gcm-lfs1/pablo/data/RNAdeg/data/ChIP/bam', sample_name, sample_name + '.Aligned.sortedByCoord.out.bam'))\n",
    "\n",
    "## -------\n",
    "## Options\n",
    "## -------\n",
    "    \n",
    "minaqual = 10\n",
    "\n",
    "## How to deal with overlap of READ and FEATURE \n",
    "overlap_mode = \"intersection-nonempty\"\n",
    "#overlap_mode =  \"intersection-strict\"\n",
    "\n",
    "## How to deal with overlapping FEATURES and multimapped reads\n",
    "multimapped_mode = 'all'\n",
    "#multimapped_mode = 'none'\n",
    "\n",
    "## How to deal with multimapped reads (secondary alignments!)\n",
    "#secondary_alignment_mode = 'ignore'\n",
    "secondary_alignment_mode = 'none'\n",
    "\n",
    "i = 0\n",
    "\n",
    "for aln in bam_file:\n",
    "    \n",
    "    if i > 0 and i % 100000 == 0:\n",
    "        sys.stderr.write(\"{} alignment records processed. {} s\\n\".format(i,  time.time() - start_time))\n",
    "        sys.stderr.flush()\n",
    "    i += 1          \n",
    "    \n",
    "    ## ----------------------\n",
    "    ## Inspect read alignment\n",
    "    ## ----------------------\n",
    "    \n",
    "    ## _mapped or _unmapped (our BAM files only contain _mapped)\n",
    "    counts[\"_total\"] += 1\n",
    "    \n",
    "    if not aln.aligned:\n",
    "        counts[\"_unmapped\"] += 1\n",
    "        ## skips to next iteration\n",
    "        continue\n",
    "    \n",
    "    ## Multimapped reads are contained as separate entries in the BAM file.\n",
    "    try:\n",
    "        if aln.optional_field(\"NH\") > 1:\n",
    "            counts[\"_alignment_not_unique\"] += 1\n",
    "            if multimapped_mode == 'none':\n",
    "                ## skips to next iteration\n",
    "                continue\n",
    "            elif ((secondary_alignment_mode == 'ignore') and aln.not_primary_alignment):\n",
    "                counts[\"_not_primary_alignment\"] += 1\n",
    "                ## skips to next iteration\n",
    "                continue\n",
    "\n",
    "    except KeyError:\n",
    "        pass\n",
    "\n",
    "    #if aln.aQual < minaqual:\n",
    "    #    #import pdb\n",
    "    #    #pdb.set_trace()\n",
    "    #    counts[\"_too_low_aQual\"] +=  1\n",
    "    #    continue\n",
    "\n",
    "    ## -----------------------------\n",
    "    ## Read and Feature Overlap Mode\n",
    "    ## -----------------------------\n",
    "        \n",
    "    ## A. Union: the union of all the sets S(i). This mode is recommended for most use cases.\n",
    "    if overlap_mode == \"union\":\n",
    "        ## feature set\n",
    "        gene_ids = set()\n",
    "        \n",
    "        for iv, fs in gene_features[ aln.iv ].steps():\n",
    "            gene_ids = gene_ids.union(fs)\n",
    "    \n",
    "    ## B. Intersection-strict: the intersection of all the sets S(i).\n",
    "    ## C. Intersection-nonempty: the intersection of all non-empty sets S(i).\n",
    "    elif overlap_mode in (\"intersection-strict\", \"intersection-nonempty\"):\n",
    "        ## feature set\n",
    "        gene_ids = None\n",
    "        \n",
    "        for iv, fs in gene_features[ aln.iv ].steps():\n",
    "            if ((len(fs) > 0) or (overlap_mode == \"intersection-strict\")):\n",
    "                if gene_ids is None:\n",
    "                    gene_ids = fs.copy()\n",
    "                else:\n",
    "                    gene_ids = gene_ids.intersection(fs)\n",
    "                    \n",
    "    ## Other: Ilegal!                   \n",
    "    else:\n",
    "        sys.exit(\"Illegal overlap mode.\")\n",
    "    \n",
    "    ## --------------\n",
    "    ## Count Features\n",
    "    ## --------------\n",
    "    \n",
    "    ## A. Mapped to unknown feature (it is empty)\n",
    "    if gene_ids is None or len(gene_ids) == 0:\n",
    "        counts[\"_no_feature\"] += 1\n",
    "        \n",
    "    ## B. Mapped to a region with overlapping features (contains more than one element)\n",
    "    ## See next how to deal with this ambiguous read alignments! (multimapped_mode)\n",
    "    elif len(gene_ids) > 1:\n",
    "        counts[\"_ambiguous\"] += 1\n",
    "    \n",
    "    ## C. Uniquely Mapped (contains exactly one element) \n",
    "    #else:\n",
    "    #    gene_id = list(gene_ids)[0]\n",
    "    #    counts[gene_id] += 1\n",
    "    \n",
    "    ## Deal with multimapped reads!\n",
    "    if gene_ids is not None and len(gene_ids) > 0:\n",
    "        \n",
    "        ## - ignore multimapped reads\n",
    "        if multimapped_mode == 'none':\n",
    "            \n",
    "            ## C. Uniquely Mapped (contains exactly one element) \n",
    "            if len(gene_ids) == 1:\n",
    "                counts[list(gene_ids)[0]] += 1\n",
    "        \n",
    "        ## - count each multimapped feature\n",
    "        elif multimapped_mode == 'all':\n",
    "            for fsi in list(gene_ids):\n",
    "                counts[fsi] += 1\n",
    "        \n",
    "        ## Other: Ilegal!                   \n",
    "        else:\n",
    "            sys.exit(\"Illegal multimap mode.\")\n",
    "\n",
    "        \n",
    "print('Elapsed Time (Counting reads):', time.time() - start_time)"
   ]
  },
  {
   "cell_type": "code",
   "execution_count": 11,
   "metadata": {},
   "outputs": [],
   "source": [
    "#for gene_id in counts:\n",
    "#    print(gene_id, counts[gene_id])"
   ]
  },
  {
   "cell_type": "code",
   "execution_count": 12,
   "metadata": {},
   "outputs": [],
   "source": [
    "#{k: v for k, v in sorted(counts.items(), key=lambda item: item[1], reverse=True)}\n",
    "#{k: v for k, v in counts.items()}"
   ]
  },
  {
   "cell_type": "markdown",
   "metadata": {},
   "source": [
    "- Convert `counter` to **DataFrame**"
   ]
  },
  {
   "cell_type": "code",
   "execution_count": 13,
   "metadata": {},
   "outputs": [
    {
     "data": {
      "text/html": [
       "<div>\n",
       "<style scoped>\n",
       "    .dataframe tbody tr th:only-of-type {\n",
       "        vertical-align: middle;\n",
       "    }\n",
       "\n",
       "    .dataframe tbody tr th {\n",
       "        vertical-align: top;\n",
       "    }\n",
       "\n",
       "    .dataframe thead th {\n",
       "        text-align: right;\n",
       "    }\n",
       "</style>\n",
       "<table border=\"1\" class=\"dataframe\">\n",
       "  <thead>\n",
       "    <tr style=\"text-align: right;\">\n",
       "      <th></th>\n",
       "      <th>gene-id</th>\n",
       "      <th>count</th>\n",
       "    </tr>\n",
       "  </thead>\n",
       "  <tbody>\n",
       "    <tr>\n",
       "      <th>0</th>\n",
       "      <td>_total</td>\n",
       "      <td>2854303</td>\n",
       "    </tr>\n",
       "    <tr>\n",
       "      <th>1</th>\n",
       "      <td>_alignment_not_unique</td>\n",
       "      <td>371550</td>\n",
       "    </tr>\n",
       "    <tr>\n",
       "      <th>2</th>\n",
       "      <td>_no_feature</td>\n",
       "      <td>359218</td>\n",
       "    </tr>\n",
       "    <tr>\n",
       "      <th>3</th>\n",
       "      <td>SPAC212.11</td>\n",
       "      <td>1096</td>\n",
       "    </tr>\n",
       "    <tr>\n",
       "      <th>4</th>\n",
       "      <td>SPAC212.10</td>\n",
       "      <td>137</td>\n",
       "    </tr>\n",
       "    <tr>\n",
       "      <th>5</th>\n",
       "      <td>SPAC212.09c</td>\n",
       "      <td>372</td>\n",
       "    </tr>\n",
       "    <tr>\n",
       "      <th>6</th>\n",
       "      <td>SPNCRNA.70</td>\n",
       "      <td>32</td>\n",
       "    </tr>\n",
       "    <tr>\n",
       "      <th>7</th>\n",
       "      <td>SPAC212.08c</td>\n",
       "      <td>145</td>\n",
       "    </tr>\n",
       "    <tr>\n",
       "      <th>8</th>\n",
       "      <td>SPAC212.07c</td>\n",
       "      <td>50</td>\n",
       "    </tr>\n",
       "    <tr>\n",
       "      <th>9</th>\n",
       "      <td>SPAC212.12</td>\n",
       "      <td>80</td>\n",
       "    </tr>\n",
       "    <tr>\n",
       "      <th>10</th>\n",
       "      <td>SPAC212.06c</td>\n",
       "      <td>166</td>\n",
       "    </tr>\n",
       "    <tr>\n",
       "      <th>11</th>\n",
       "      <td>SPAC212.04c</td>\n",
       "      <td>209</td>\n",
       "    </tr>\n",
       "    <tr>\n",
       "      <th>12</th>\n",
       "      <td>SPAC212.03</td>\n",
       "      <td>21</td>\n",
       "    </tr>\n",
       "    <tr>\n",
       "      <th>13</th>\n",
       "      <td>SPAC212.02</td>\n",
       "      <td>11</td>\n",
       "    </tr>\n",
       "    <tr>\n",
       "      <th>14</th>\n",
       "      <td>SPAC212.01c</td>\n",
       "      <td>183</td>\n",
       "    </tr>\n",
       "    <tr>\n",
       "      <th>15</th>\n",
       "      <td>SPAC977.01</td>\n",
       "      <td>797</td>\n",
       "    </tr>\n",
       "    <tr>\n",
       "      <th>16</th>\n",
       "      <td>SPAC977.18</td>\n",
       "      <td>500</td>\n",
       "    </tr>\n",
       "    <tr>\n",
       "      <th>17</th>\n",
       "      <td>_ambiguous</td>\n",
       "      <td>343992</td>\n",
       "    </tr>\n",
       "    <tr>\n",
       "      <th>18</th>\n",
       "      <td>SPAC977.02</td>\n",
       "      <td>126</td>\n",
       "    </tr>\n",
       "    <tr>\n",
       "      <th>19</th>\n",
       "      <td>SPAC977.03</td>\n",
       "      <td>79</td>\n",
       "    </tr>\n",
       "  </tbody>\n",
       "</table>\n",
       "</div>"
      ],
      "text/plain": [
       "                  gene-id    count\n",
       "0                  _total  2854303\n",
       "1   _alignment_not_unique   371550\n",
       "2             _no_feature   359218\n",
       "3              SPAC212.11     1096\n",
       "4              SPAC212.10      137\n",
       "5             SPAC212.09c      372\n",
       "6              SPNCRNA.70       32\n",
       "7             SPAC212.08c      145\n",
       "8             SPAC212.07c       50\n",
       "9              SPAC212.12       80\n",
       "10            SPAC212.06c      166\n",
       "11            SPAC212.04c      209\n",
       "12             SPAC212.03       21\n",
       "13             SPAC212.02       11\n",
       "14            SPAC212.01c      183\n",
       "15             SPAC977.01      797\n",
       "16             SPAC977.18      500\n",
       "17             _ambiguous   343992\n",
       "18             SPAC977.02      126\n",
       "19             SPAC977.03       79"
      ]
     },
     "execution_count": 13,
     "metadata": {},
     "output_type": "execute_result"
    }
   ],
   "source": [
    "counts_df = pd.DataFrame.from_dict(counts, orient='index').reset_index()\n",
    "counts_df = counts_df.rename(columns={'index':'gene-id', 0:'count'})\n",
    "counts_df.head(20)"
   ]
  },
  {
   "cell_type": "code",
   "execution_count": 14,
   "metadata": {},
   "outputs": [
    {
     "data": {
      "text/plain": [
       "(6808, 2)"
      ]
     },
     "execution_count": 14,
     "metadata": {},
     "output_type": "execute_result"
    }
   ],
   "source": [
    "counts_df.shape"
   ]
  },
  {
   "cell_type": "markdown",
   "metadata": {},
   "source": [
    "- Summary of counts"
   ]
  },
  {
   "cell_type": "code",
   "execution_count": 15,
   "metadata": {},
   "outputs": [
    {
     "data": {
      "text/html": [
       "<div>\n",
       "<style scoped>\n",
       "    .dataframe tbody tr th:only-of-type {\n",
       "        vertical-align: middle;\n",
       "    }\n",
       "\n",
       "    .dataframe tbody tr th {\n",
       "        vertical-align: top;\n",
       "    }\n",
       "\n",
       "    .dataframe thead th {\n",
       "        text-align: right;\n",
       "    }\n",
       "</style>\n",
       "<table border=\"1\" class=\"dataframe\">\n",
       "  <thead>\n",
       "    <tr style=\"text-align: right;\">\n",
       "      <th></th>\n",
       "      <th>gene-id</th>\n",
       "      <th>count</th>\n",
       "    </tr>\n",
       "  </thead>\n",
       "  <tbody>\n",
       "    <tr>\n",
       "      <th>0</th>\n",
       "      <td>_total</td>\n",
       "      <td>2854303</td>\n",
       "    </tr>\n",
       "    <tr>\n",
       "      <th>1</th>\n",
       "      <td>_alignment_not_unique</td>\n",
       "      <td>371550</td>\n",
       "    </tr>\n",
       "    <tr>\n",
       "      <th>2</th>\n",
       "      <td>_no_feature</td>\n",
       "      <td>359218</td>\n",
       "    </tr>\n",
       "    <tr>\n",
       "      <th>17</th>\n",
       "      <td>_ambiguous</td>\n",
       "      <td>343992</td>\n",
       "    </tr>\n",
       "  </tbody>\n",
       "</table>\n",
       "</div>"
      ],
      "text/plain": [
       "                  gene-id    count\n",
       "0                  _total  2854303\n",
       "1   _alignment_not_unique   371550\n",
       "2             _no_feature   359218\n",
       "17             _ambiguous   343992"
      ]
     },
     "execution_count": 15,
     "metadata": {},
     "output_type": "execute_result"
    }
   ],
   "source": [
    "counts_df[counts_df['gene-id'].str.startswith('_')]"
   ]
  },
  {
   "cell_type": "code",
   "execution_count": 16,
   "metadata": {},
   "outputs": [
    {
     "data": {
      "text/plain": [
       "2856050"
      ]
     },
     "execution_count": 16,
     "metadata": {},
     "output_type": "execute_result"
    }
   ],
   "source": [
    "## now contains multiple counting\n",
    "counts_df[~counts_df['gene-id'].str.startswith('_')]['count'].sum()"
   ]
  },
  {
   "cell_type": "markdown",
   "metadata": {},
   "source": [
    "- Show counts for genes of interest: **Heterochromatic Genes**"
   ]
  },
  {
   "cell_type": "code",
   "execution_count": 17,
   "metadata": {},
   "outputs": [
    {
     "data": {
      "text/html": [
       "<div>\n",
       "<style scoped>\n",
       "    .dataframe tbody tr th:only-of-type {\n",
       "        vertical-align: middle;\n",
       "    }\n",
       "\n",
       "    .dataframe tbody tr th {\n",
       "        vertical-align: top;\n",
       "    }\n",
       "\n",
       "    .dataframe thead th {\n",
       "        text-align: right;\n",
       "    }\n",
       "</style>\n",
       "<table border=\"1\" class=\"dataframe\">\n",
       "  <thead>\n",
       "    <tr style=\"text-align: right;\">\n",
       "      <th></th>\n",
       "      <th>gene-id</th>\n",
       "      <th>count</th>\n",
       "    </tr>\n",
       "  </thead>\n",
       "  <tbody>\n",
       "    <tr>\n",
       "      <th>2072</th>\n",
       "      <td>dh1</td>\n",
       "      <td>1340</td>\n",
       "    </tr>\n",
       "    <tr>\n",
       "      <th>2075</th>\n",
       "      <td>dg1</td>\n",
       "      <td>1668</td>\n",
       "    </tr>\n",
       "    <tr>\n",
       "      <th>4212</th>\n",
       "      <td>MAT1</td>\n",
       "      <td>24</td>\n",
       "    </tr>\n",
       "    <tr>\n",
       "      <th>4224</th>\n",
       "      <td>MAT2</td>\n",
       "      <td>172</td>\n",
       "    </tr>\n",
       "    <tr>\n",
       "      <th>4226</th>\n",
       "      <td>MAT3</td>\n",
       "      <td>224</td>\n",
       "    </tr>\n",
       "    <tr>\n",
       "      <th>5545</th>\n",
       "      <td>after_tlh</td>\n",
       "      <td>622</td>\n",
       "    </tr>\n",
       "  </tbody>\n",
       "</table>\n",
       "</div>"
      ],
      "text/plain": [
       "        gene-id  count\n",
       "2072        dh1   1340\n",
       "2075        dg1   1668\n",
       "4212       MAT1     24\n",
       "4224       MAT2    172\n",
       "4226       MAT3    224\n",
       "5545  after_tlh    622"
      ]
     },
     "execution_count": 17,
     "metadata": {},
     "output_type": "execute_result"
    }
   ],
   "source": [
    "counts_df[counts_df['gene-id'].isin(htc_genes)]"
   ]
  },
  {
   "cell_type": "markdown",
   "metadata": {},
   "source": [
    "## Compare results with **Parastou's counting**"
   ]
  },
  {
   "cell_type": "markdown",
   "metadata": {},
   "source": [
    "- Results using **Parastou's counting script**"
   ]
  },
  {
   "cell_type": "code",
   "execution_count": 18,
   "metadata": {},
   "outputs": [],
   "source": [
    "xp_chip = '/gcm-lfs1/pablo/data/RNAdeg/data/ChIP/xp_data/chip_pombe_gene_count_matrix.csv'"
   ]
  },
  {
   "cell_type": "code",
   "execution_count": 19,
   "metadata": {},
   "outputs": [
    {
     "ename": "FileNotFoundError",
     "evalue": "[Errno 2] File b'/gcm-lfs1/pablo/data/RNAdeg/data/ChIP/xp_data/chip_pombe_gene_count_matrix.csv' does not exist: b'/gcm-lfs1/pablo/data/RNAdeg/data/ChIP/xp_data/chip_pombe_gene_count_matrix.csv'",
     "output_type": "error",
     "traceback": [
      "\u001b[0;31m---------------------------------------------------------------------------\u001b[0m",
      "\u001b[0;31mFileNotFoundError\u001b[0m                         Traceback (most recent call last)",
      "\u001b[0;32m<ipython-input-19-15dd3667ed73>\u001b[0m in \u001b[0;36m<module>\u001b[0;34m\u001b[0m\n\u001b[0;32m----> 1\u001b[0;31m \u001b[0mxp_chip_df\u001b[0m \u001b[0;34m=\u001b[0m \u001b[0mpd\u001b[0m\u001b[0;34m.\u001b[0m\u001b[0mread_csv\u001b[0m\u001b[0;34m(\u001b[0m\u001b[0mxp_chip\u001b[0m\u001b[0;34m,\u001b[0m \u001b[0msep\u001b[0m\u001b[0;34m=\u001b[0m\u001b[0;34m'\\t'\u001b[0m\u001b[0;34m)\u001b[0m\u001b[0;34m\u001b[0m\u001b[0;34m\u001b[0m\u001b[0m\n\u001b[0m\u001b[1;32m      2\u001b[0m \u001b[0mxp_chip_df\u001b[0m \u001b[0;34m=\u001b[0m \u001b[0mxp_chip_df\u001b[0m\u001b[0;34m[\u001b[0m\u001b[0;34m[\u001b[0m\u001b[0;34m'gene-id'\u001b[0m\u001b[0;34m,\u001b[0m \u001b[0;34m'length'\u001b[0m\u001b[0;34m,\u001b[0m \u001b[0;34m'type'\u001b[0m\u001b[0;34m,\u001b[0m \u001b[0;34m'category'\u001b[0m\u001b[0;34m,\u001b[0m \u001b[0;34m'bio_type'\u001b[0m\u001b[0;34m,\u001b[0m \u001b[0msample_name\u001b[0m\u001b[0;34m]\u001b[0m\u001b[0;34m]\u001b[0m\u001b[0;34m.\u001b[0m\u001b[0mastype\u001b[0m\u001b[0;34m(\u001b[0m\u001b[0;34m{\u001b[0m\u001b[0msample_name\u001b[0m\u001b[0;34m:\u001b[0m \u001b[0;34m'int64'\u001b[0m\u001b[0;34m}\u001b[0m\u001b[0;34m)\u001b[0m\u001b[0;34m\u001b[0m\u001b[0;34m\u001b[0m\u001b[0m\n\u001b[1;32m      3\u001b[0m \u001b[0mxp_chip_df\u001b[0m\u001b[0;34m.\u001b[0m\u001b[0mhead\u001b[0m\u001b[0;34m(\u001b[0m\u001b[0;34m)\u001b[0m\u001b[0;34m\u001b[0m\u001b[0;34m\u001b[0m\u001b[0m\n",
      "\u001b[0;32m~/anaconda3/envs/heterochromatin/lib/python3.6/site-packages/pandas/io/parsers.py\u001b[0m in \u001b[0;36mparser_f\u001b[0;34m(filepath_or_buffer, sep, delimiter, header, names, index_col, usecols, squeeze, prefix, mangle_dupe_cols, dtype, engine, converters, true_values, false_values, skipinitialspace, skiprows, skipfooter, nrows, na_values, keep_default_na, na_filter, verbose, skip_blank_lines, parse_dates, infer_datetime_format, keep_date_col, date_parser, dayfirst, cache_dates, iterator, chunksize, compression, thousands, decimal, lineterminator, quotechar, quoting, doublequote, escapechar, comment, encoding, dialect, error_bad_lines, warn_bad_lines, delim_whitespace, low_memory, memory_map, float_precision)\u001b[0m\n\u001b[1;32m    683\u001b[0m         )\n\u001b[1;32m    684\u001b[0m \u001b[0;34m\u001b[0m\u001b[0m\n\u001b[0;32m--> 685\u001b[0;31m         \u001b[0;32mreturn\u001b[0m \u001b[0m_read\u001b[0m\u001b[0;34m(\u001b[0m\u001b[0mfilepath_or_buffer\u001b[0m\u001b[0;34m,\u001b[0m \u001b[0mkwds\u001b[0m\u001b[0;34m)\u001b[0m\u001b[0;34m\u001b[0m\u001b[0;34m\u001b[0m\u001b[0m\n\u001b[0m\u001b[1;32m    686\u001b[0m \u001b[0;34m\u001b[0m\u001b[0m\n\u001b[1;32m    687\u001b[0m     \u001b[0mparser_f\u001b[0m\u001b[0;34m.\u001b[0m\u001b[0m__name__\u001b[0m \u001b[0;34m=\u001b[0m \u001b[0mname\u001b[0m\u001b[0;34m\u001b[0m\u001b[0;34m\u001b[0m\u001b[0m\n",
      "\u001b[0;32m~/anaconda3/envs/heterochromatin/lib/python3.6/site-packages/pandas/io/parsers.py\u001b[0m in \u001b[0;36m_read\u001b[0;34m(filepath_or_buffer, kwds)\u001b[0m\n\u001b[1;32m    455\u001b[0m \u001b[0;34m\u001b[0m\u001b[0m\n\u001b[1;32m    456\u001b[0m     \u001b[0;31m# Create the parser.\u001b[0m\u001b[0;34m\u001b[0m\u001b[0;34m\u001b[0m\u001b[0;34m\u001b[0m\u001b[0m\n\u001b[0;32m--> 457\u001b[0;31m     \u001b[0mparser\u001b[0m \u001b[0;34m=\u001b[0m \u001b[0mTextFileReader\u001b[0m\u001b[0;34m(\u001b[0m\u001b[0mfp_or_buf\u001b[0m\u001b[0;34m,\u001b[0m \u001b[0;34m**\u001b[0m\u001b[0mkwds\u001b[0m\u001b[0;34m)\u001b[0m\u001b[0;34m\u001b[0m\u001b[0;34m\u001b[0m\u001b[0m\n\u001b[0m\u001b[1;32m    458\u001b[0m \u001b[0;34m\u001b[0m\u001b[0m\n\u001b[1;32m    459\u001b[0m     \u001b[0;32mif\u001b[0m \u001b[0mchunksize\u001b[0m \u001b[0;32mor\u001b[0m \u001b[0miterator\u001b[0m\u001b[0;34m:\u001b[0m\u001b[0;34m\u001b[0m\u001b[0;34m\u001b[0m\u001b[0m\n",
      "\u001b[0;32m~/anaconda3/envs/heterochromatin/lib/python3.6/site-packages/pandas/io/parsers.py\u001b[0m in \u001b[0;36m__init__\u001b[0;34m(self, f, engine, **kwds)\u001b[0m\n\u001b[1;32m    893\u001b[0m             \u001b[0mself\u001b[0m\u001b[0;34m.\u001b[0m\u001b[0moptions\u001b[0m\u001b[0;34m[\u001b[0m\u001b[0;34m\"has_index_names\"\u001b[0m\u001b[0;34m]\u001b[0m \u001b[0;34m=\u001b[0m \u001b[0mkwds\u001b[0m\u001b[0;34m[\u001b[0m\u001b[0;34m\"has_index_names\"\u001b[0m\u001b[0;34m]\u001b[0m\u001b[0;34m\u001b[0m\u001b[0;34m\u001b[0m\u001b[0m\n\u001b[1;32m    894\u001b[0m \u001b[0;34m\u001b[0m\u001b[0m\n\u001b[0;32m--> 895\u001b[0;31m         \u001b[0mself\u001b[0m\u001b[0;34m.\u001b[0m\u001b[0m_make_engine\u001b[0m\u001b[0;34m(\u001b[0m\u001b[0mself\u001b[0m\u001b[0;34m.\u001b[0m\u001b[0mengine\u001b[0m\u001b[0;34m)\u001b[0m\u001b[0;34m\u001b[0m\u001b[0;34m\u001b[0m\u001b[0m\n\u001b[0m\u001b[1;32m    896\u001b[0m \u001b[0;34m\u001b[0m\u001b[0m\n\u001b[1;32m    897\u001b[0m     \u001b[0;32mdef\u001b[0m \u001b[0mclose\u001b[0m\u001b[0;34m(\u001b[0m\u001b[0mself\u001b[0m\u001b[0;34m)\u001b[0m\u001b[0;34m:\u001b[0m\u001b[0;34m\u001b[0m\u001b[0;34m\u001b[0m\u001b[0m\n",
      "\u001b[0;32m~/anaconda3/envs/heterochromatin/lib/python3.6/site-packages/pandas/io/parsers.py\u001b[0m in \u001b[0;36m_make_engine\u001b[0;34m(self, engine)\u001b[0m\n\u001b[1;32m   1133\u001b[0m     \u001b[0;32mdef\u001b[0m \u001b[0m_make_engine\u001b[0m\u001b[0;34m(\u001b[0m\u001b[0mself\u001b[0m\u001b[0;34m,\u001b[0m \u001b[0mengine\u001b[0m\u001b[0;34m=\u001b[0m\u001b[0;34m\"c\"\u001b[0m\u001b[0;34m)\u001b[0m\u001b[0;34m:\u001b[0m\u001b[0;34m\u001b[0m\u001b[0;34m\u001b[0m\u001b[0m\n\u001b[1;32m   1134\u001b[0m         \u001b[0;32mif\u001b[0m \u001b[0mengine\u001b[0m \u001b[0;34m==\u001b[0m \u001b[0;34m\"c\"\u001b[0m\u001b[0;34m:\u001b[0m\u001b[0;34m\u001b[0m\u001b[0;34m\u001b[0m\u001b[0m\n\u001b[0;32m-> 1135\u001b[0;31m             \u001b[0mself\u001b[0m\u001b[0;34m.\u001b[0m\u001b[0m_engine\u001b[0m \u001b[0;34m=\u001b[0m \u001b[0mCParserWrapper\u001b[0m\u001b[0;34m(\u001b[0m\u001b[0mself\u001b[0m\u001b[0;34m.\u001b[0m\u001b[0mf\u001b[0m\u001b[0;34m,\u001b[0m \u001b[0;34m**\u001b[0m\u001b[0mself\u001b[0m\u001b[0;34m.\u001b[0m\u001b[0moptions\u001b[0m\u001b[0;34m)\u001b[0m\u001b[0;34m\u001b[0m\u001b[0;34m\u001b[0m\u001b[0m\n\u001b[0m\u001b[1;32m   1136\u001b[0m         \u001b[0;32melse\u001b[0m\u001b[0;34m:\u001b[0m\u001b[0;34m\u001b[0m\u001b[0;34m\u001b[0m\u001b[0m\n\u001b[1;32m   1137\u001b[0m             \u001b[0;32mif\u001b[0m \u001b[0mengine\u001b[0m \u001b[0;34m==\u001b[0m \u001b[0;34m\"python\"\u001b[0m\u001b[0;34m:\u001b[0m\u001b[0;34m\u001b[0m\u001b[0;34m\u001b[0m\u001b[0m\n",
      "\u001b[0;32m~/anaconda3/envs/heterochromatin/lib/python3.6/site-packages/pandas/io/parsers.py\u001b[0m in \u001b[0;36m__init__\u001b[0;34m(self, src, **kwds)\u001b[0m\n\u001b[1;32m   1915\u001b[0m         \u001b[0mkwds\u001b[0m\u001b[0;34m[\u001b[0m\u001b[0;34m\"usecols\"\u001b[0m\u001b[0;34m]\u001b[0m \u001b[0;34m=\u001b[0m \u001b[0mself\u001b[0m\u001b[0;34m.\u001b[0m\u001b[0musecols\u001b[0m\u001b[0;34m\u001b[0m\u001b[0;34m\u001b[0m\u001b[0m\n\u001b[1;32m   1916\u001b[0m \u001b[0;34m\u001b[0m\u001b[0m\n\u001b[0;32m-> 1917\u001b[0;31m         \u001b[0mself\u001b[0m\u001b[0;34m.\u001b[0m\u001b[0m_reader\u001b[0m \u001b[0;34m=\u001b[0m \u001b[0mparsers\u001b[0m\u001b[0;34m.\u001b[0m\u001b[0mTextReader\u001b[0m\u001b[0;34m(\u001b[0m\u001b[0msrc\u001b[0m\u001b[0;34m,\u001b[0m \u001b[0;34m**\u001b[0m\u001b[0mkwds\u001b[0m\u001b[0;34m)\u001b[0m\u001b[0;34m\u001b[0m\u001b[0;34m\u001b[0m\u001b[0m\n\u001b[0m\u001b[1;32m   1918\u001b[0m         \u001b[0mself\u001b[0m\u001b[0;34m.\u001b[0m\u001b[0munnamed_cols\u001b[0m \u001b[0;34m=\u001b[0m \u001b[0mself\u001b[0m\u001b[0;34m.\u001b[0m\u001b[0m_reader\u001b[0m\u001b[0;34m.\u001b[0m\u001b[0munnamed_cols\u001b[0m\u001b[0;34m\u001b[0m\u001b[0;34m\u001b[0m\u001b[0m\n\u001b[1;32m   1919\u001b[0m \u001b[0;34m\u001b[0m\u001b[0m\n",
      "\u001b[0;32mpandas/_libs/parsers.pyx\u001b[0m in \u001b[0;36mpandas._libs.parsers.TextReader.__cinit__\u001b[0;34m()\u001b[0m\n",
      "\u001b[0;32mpandas/_libs/parsers.pyx\u001b[0m in \u001b[0;36mpandas._libs.parsers.TextReader._setup_parser_source\u001b[0;34m()\u001b[0m\n",
      "\u001b[0;31mFileNotFoundError\u001b[0m: [Errno 2] File b'/gcm-lfs1/pablo/data/RNAdeg/data/ChIP/xp_data/chip_pombe_gene_count_matrix.csv' does not exist: b'/gcm-lfs1/pablo/data/RNAdeg/data/ChIP/xp_data/chip_pombe_gene_count_matrix.csv'"
     ]
    }
   ],
   "source": [
    "xp_chip_df = pd.read_csv(xp_chip, sep='\\t')\n",
    "xp_chip_df = xp_chip_df[['gene-id', 'length', 'type', 'category', 'bio_type', sample_name]].astype({sample_name: 'int64'})\n",
    "xp_chip_df.head()"
   ]
  },
  {
   "cell_type": "code",
   "execution_count": null,
   "metadata": {},
   "outputs": [],
   "source": [
    "total = xp_chip_df[sample_name].sum()\n",
    "total"
   ]
  },
  {
   "cell_type": "markdown",
   "metadata": {},
   "source": [
    "- **Merge** both counts DataFrames"
   ]
  },
  {
   "cell_type": "code",
   "execution_count": null,
   "metadata": {},
   "outputs": [],
   "source": [
    "merged_xp_chip = pd.merge(counts_df, xp_chip_df, on='gene-id', how='outer')\n",
    "merged_xp_chip"
   ]
  },
  {
   "cell_type": "markdown",
   "metadata": {},
   "source": [
    "- Bigger differences"
   ]
  },
  {
   "cell_type": "code",
   "execution_count": null,
   "metadata": {},
   "outputs": [],
   "source": [
    "merged_xp_chip['diff_count'] = abs(merged_xp_chip['count'] - merged_xp_chip[sample_name])"
   ]
  },
  {
   "cell_type": "code",
   "execution_count": null,
   "metadata": {},
   "outputs": [],
   "source": [
    "merged_xp_chip.sort_values('diff_count', na_position='first')"
   ]
  },
  {
   "cell_type": "code",
   "execution_count": null,
   "metadata": {},
   "outputs": [],
   "source": [
    "merged_xp_chip['diff_count'].plot.hist(xlim=(0, 11000))"
   ]
  },
  {
   "cell_type": "code",
   "execution_count": null,
   "metadata": {},
   "outputs": [],
   "source": [
    "merged_xp_chip.plot.scatter(x = 'count', y = sample_name, xlim=(0, 1000), ylim=(0, 1000))"
   ]
  },
  {
   "cell_type": "markdown",
   "metadata": {},
   "source": [
    "- Show counts for genes of interest: **Heterochromatic Genes**"
   ]
  },
  {
   "cell_type": "code",
   "execution_count": null,
   "metadata": {},
   "outputs": [],
   "source": [
    "merged_xp_chip[merged_xp_chip['gene-id'].isin(htc_genes)]"
   ]
  },
  {
   "cell_type": "markdown",
   "metadata": {},
   "source": [
    "## Tests"
   ]
  },
  {
   "cell_type": "code",
   "execution_count": null,
   "metadata": {},
   "outputs": [],
   "source": [
    "select_genes = ['SPCC569.04', 'SPCC569.05c']"
   ]
  },
  {
   "cell_type": "code",
   "execution_count": null,
   "metadata": {},
   "outputs": [],
   "source": [
    "merged_xp_chip[merged_xp_chip['gene-id'].isin(select_genes)].reset_index(drop=True)\n",
    "#merged_xp_chip[merged_xp_chip['gene-id'] == 'SPCC569.05c'].reset_index(drop=True)"
   ]
  },
  {
   "cell_type": "markdown",
   "metadata": {},
   "source": [
    "- Check for (read) interval"
   ]
  },
  {
   "cell_type": "code",
   "execution_count": null,
   "metadata": {},
   "outputs": [],
   "source": [
    "iv_test = HTSeq.GenomicInterval(\"MT\", 11190, 12500, \".\")\n",
    "\n",
    "gene_ids = set()\n",
    "\n",
    "## loop over features overlapping with the read\n",
    "for iv, val in gene_features[ iv_test ].steps():\n",
    "    gene_ids |= val\n",
    "\n",
    "gene_ids"
   ]
  },
  {
   "cell_type": "code",
   "execution_count": null,
   "metadata": {},
   "outputs": [],
   "source": []
  }
 ],
 "metadata": {
  "kernelspec": {
   "display_name": "Python (heterochromatin)",
   "language": "python",
   "name": "heterochromatin"
  },
  "language_info": {
   "codemirror_mode": {
    "name": "ipython",
    "version": 3
   },
   "file_extension": ".py",
   "mimetype": "text/x-python",
   "name": "python",
   "nbconvert_exporter": "python",
   "pygments_lexer": "ipython3",
   "version": "3.6.7"
  }
 },
 "nbformat": 4,
 "nbformat_minor": 2
}
