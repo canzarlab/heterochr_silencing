{
 "cells": [
  {
   "cell_type": "code",
   "execution_count": 1,
   "metadata": {},
   "outputs": [],
   "source": [
    "import itertools\n",
    "import time\n",
    "import os\n",
    "import sys"
   ]
  },
  {
   "cell_type": "code",
   "execution_count": 2,
   "metadata": {},
   "outputs": [],
   "source": [
    "import HTSeq\n",
    "import pandas as pd"
   ]
  },
  {
   "cell_type": "code",
   "execution_count": 3,
   "metadata": {},
   "outputs": [],
   "source": [
    "def invert_strand(iv):\n",
    "    iv2 = iv.copy()\n",
    "    if iv2.strand == \"+\":\n",
    "        iv2.strand = \"-\"\n",
    "    elif iv2.strand == \"-\":\n",
    "        iv2.strand = \"+\"\n",
    "    else:\n",
    "        raise ValueError(\"Illegal strand\")\n",
    "    return iv2"
   ]
  },
  {
   "cell_type": "code",
   "execution_count": 4,
   "metadata": {},
   "outputs": [],
   "source": [
    "# select gtf file: instantiate GFF_Reader Object\n",
    "gtf_file = HTSeq.GFF_Reader(\"/gcm-lfs1/pablo/data/RNAdeg/annotation/gff/schizosaccharomyces_pombe.chr.extended.gff3\")"
   ]
  },
  {
   "cell_type": "code",
   "execution_count": 5,
   "metadata": {},
   "outputs": [],
   "source": [
    "# CIGAR match characters (including alignment match, sequence match, and\n",
    "# sequence mismatch\n",
    "com = ('M', '=', 'X')"
   ]
  },
  {
   "cell_type": "code",
   "execution_count": 6,
   "metadata": {},
   "outputs": [],
   "source": [
    "## heterochromatic genes\n",
    "htc_genes = ('dg1', 'dh1', 'after_tlh', 'MAT2', 'MAT3', 'MAT1')"
   ]
  },
  {
   "cell_type": "markdown",
   "metadata": {},
   "source": [
    "# Counting gapped single-end reads:  **RNA-Seq data**"
   ]
  },
  {
   "cell_type": "markdown",
   "metadata": {},
   "source": [
    "When sequencing RNA, many reads will pass over an **exon-exon junction** and hence **align to two (or more) disjunct intervals** on the genome, \n",
    "tyically with an intron in between. If the reads have been aligned with a **splice-aware alignment tool** (e.g. STAR), such gapped alignment is indicated in the `SAM` **file** by the `CIGAR` (Compact Idiosyncratic Gapped Alignment Report) **string**."
   ]
  },
  {
   "cell_type": "markdown",
   "metadata": {},
   "source": [
    "- Obtain `GenomicArrayOfSets` for the `exon` **features** from the `GFF` **File** (for `RNA` **stranded**)"
   ]
  },
  {
   "cell_type": "code",
   "execution_count": 151,
   "metadata": {},
   "outputs": [],
   "source": [
    "# instantiate `GenomicArrayOfSets` for the `exons` features: (for `RNA` **stranded**)\n",
    "#exon_features = HTSeq.GenomicArrayOfSets(\"auto\", stranded=True)\n",
    "exon_features = HTSeq.GenomicArrayOfSets(\"auto\", stranded=False) ## Parastou used this instead!\n",
    "\n",
    "genes_dict = {}\n",
    "\n",
    "## loop over all features in gtf file\n",
    "for feature in gtf_file:\n",
    "    \n",
    "    ## store all exons in our `GenomicArrayOfSets`\n",
    "    if feature.type == \"exon\":\n",
    "        \n",
    "        ## identify each `exon` feature by parent transcript/gene\n",
    "        gene_id = feature.attr[\"Parent\"].split(':')[1][:-2] ## get rid of '.1'\n",
    "\n",
    "        exon_features[feature.iv] += gene_id\n",
    "\n",
    "        # Is this the first time we see this gene?\n",
    "        if gene_id not in genes_dict:\n",
    "            # If so, add to the 'genes_dict' an empty list \n",
    "            genes_dict[ gene_id ] = list()\n",
    "\n",
    "        # add the feature to the gene list\n",
    "        genes_dict[ gene_id ].append( feature )"
   ]
  },
  {
   "cell_type": "code",
   "execution_count": 66,
   "metadata": {},
   "outputs": [
    {
     "data": {
      "text/plain": [
       "6992"
      ]
     },
     "execution_count": 66,
     "metadata": {},
     "output_type": "execute_result"
    }
   ],
   "source": [
    "len(genes_dict)"
   ]
  },
  {
   "cell_type": "markdown",
   "metadata": {},
   "source": [
    "![img_overlap](https://htseq.readthedocs.io/en/release_0.11.1/_images/count_modes.png)"
   ]
  },
  {
   "cell_type": "markdown",
   "metadata": {},
   "source": [
    "- Parse `BAM` **File** to **count reads** falling into each `exon` **feature** "
   ]
  },
  {
   "cell_type": "code",
   "execution_count": 96,
   "metadata": {},
   "outputs": [],
   "source": [
    "#sample_name = '1113_pA'\n",
    "sample_name = '1168_pA'"
   ]
  },
  {
   "cell_type": "code",
   "execution_count": 168,
   "metadata": {},
   "outputs": [
    {
     "name": "stderr",
     "output_type": "stream",
     "text": [
      "100000 alignment records processed. 5.148064374923706 s\n",
      "200000 alignment records processed. 10.611220836639404 s\n",
      "300000 alignment records processed. 15.98412275314331 s\n",
      "400000 alignment records processed. 21.070789098739624 s\n",
      "500000 alignment records processed. 26.10773253440857 s\n",
      "600000 alignment records processed. 31.32817554473877 s\n",
      "700000 alignment records processed. 36.56236934661865 s\n",
      "800000 alignment records processed. 41.88441467285156 s\n",
      "900000 alignment records processed. 47.05519652366638 s\n",
      "1000000 alignment records processed. 52.630645513534546 s\n",
      "1100000 alignment records processed. 57.98696780204773 s\n",
      "1200000 alignment records processed. 63.21794009208679 s\n",
      "1300000 alignment records processed. 68.13604068756104 s\n",
      "1400000 alignment records processed. 73.07154846191406 s\n",
      "1500000 alignment records processed. 78.13472437858582 s\n",
      "1600000 alignment records processed. 83.1444799900055 s\n",
      "1700000 alignment records processed. 88.29799723625183 s\n",
      "1800000 alignment records processed. 93.56368398666382 s\n",
      "1900000 alignment records processed. 99.01699757575989 s\n",
      "2000000 alignment records processed. 104.24005389213562 s\n",
      "2100000 alignment records processed. 109.46070337295532 s\n",
      "2200000 alignment records processed. 114.60179710388184 s\n",
      "2300000 alignment records processed. 119.96442484855652 s\n",
      "2400000 alignment records processed. 125.50934100151062 s\n",
      "2500000 alignment records processed. 130.97541165351868 s\n",
      "2600000 alignment records processed. 136.45956254005432 s\n",
      "2700000 alignment records processed. 141.98451375961304 s\n",
      "2800000 alignment records processed. 147.51049280166626 s\n",
      "2900000 alignment records processed. 153.17639780044556 s\n",
      "3000000 alignment records processed. 158.9577612876892 s\n",
      "3100000 alignment records processed. 164.68575143814087 s\n",
      "3200000 alignment records processed. 170.32992100715637 s\n",
      "3300000 alignment records processed. 175.8687813282013 s\n",
      "3400000 alignment records processed. 181.39940810203552 s\n"
     ]
    },
    {
     "name": "stdout",
     "output_type": "stream",
     "text": [
      "Elapsed Time (Counting reads): 181.87013912200928\n"
     ]
    }
   ],
   "source": [
    "import collections\n",
    "counts = collections.Counter( )\n",
    "\n",
    "start_time = time.time()\n",
    "\n",
    "# select bam file: instantiate BAM_Reader Object (RNA-seq)\n",
    "#bam_file = HTSeq.BAM_Reader(os.path.join('/gcm-lfs1/pablo/data/RNAdeg/data/RNA/bams', sample_name, sample_name + '.Aligned.sortedByCoord.out.bam'))\n",
    "bam_file = HTSeq.BAM_Reader(os.path.join('/gcm-lfs1/pablo/data/RNAdeg/old_data/RNA/tagged_bams', sample_name, sample_name + '.Aligned.sortedByCoord.out.tagged.bam'))\n",
    "\n",
    "## -------\n",
    "## Options\n",
    "## -------\n",
    "\n",
    "minaqual = 10\n",
    "\n",
    "## How to deal with overlap of READ and FEATURE\n",
    "overlap_mode = \"union\"\n",
    "#overlap_mode = \"intersection-nonempty\"\n",
    "#overlap_mode = \"intersection-strict\"\n",
    "\n",
    "## How to deal with overlapping FEATURES and multimapped reads\n",
    "#multimapped_mode = 'all'\n",
    "multimapped_mode = 'fractional'\n",
    "#multimapped_mode = 'none'\n",
    "\n",
    "## How to deal with multimapped reads (secondary alignments!)\n",
    "#secondary_alignment_mode = 'ignore'\n",
    "secondary_alignment_mode = 'none'\n",
    "\n",
    "i = 0\n",
    "\n",
    "#for aln in itertools.islice(bam_file, 10000):\n",
    "for aln in bam_file:\n",
    "\n",
    "    if i > 0 and i % 100000 == 0:\n",
    "        sys.stderr.write(\"{} alignment records processed. {} s\\n\".format(i,  time.time() - start_time))\n",
    "        sys.stderr.flush()\n",
    "    i += 1          \n",
    "    \n",
    "    ## ----------------------\n",
    "    ## Inspect read alignment\n",
    "    ## ----------------------\n",
    "    \n",
    "    ## _mapped or _unmapped (our BAM files only contain _mapped)\n",
    "    counts[\"_total\"] += 1\n",
    "    \n",
    "    if not aln.aligned:\n",
    "        import pdb\n",
    "        pdb.set_trace()\n",
    "        counts[\"_unmapped\"] += 1\n",
    "        ## skips to next iteration\n",
    "        continue\n",
    "        \n",
    "    ## Multimapped reads are contained as separate entries in the BAM file.\n",
    "    try:\n",
    "        if aln.optional_field(\"NH\") > 1 and aln.optional_field(\"NH\") <= 15:\n",
    "            counts[\"_alignment_not_unique\"] += 1\n",
    "            \n",
    "            if multimapped_mode == 'none':\n",
    "                ## skips to next iteration\n",
    "                continue\n",
    "                \n",
    "            elif ((secondary_alignment_mode == 'ignore') and aln.not_primary_alignment):\n",
    "                counts[\"_not_primary_alignment\"] += 1\n",
    "                ## skips to next iteration\n",
    "                continue\n",
    "                \n",
    "        elif aln.optional_field(\"NH\") > 15:\n",
    "            counts[\"_ignore_alignment\"] += 1\n",
    "            \n",
    "            ## skips to next iteration\n",
    "            continue\n",
    "\n",
    "    except KeyError:\n",
    "        pass\n",
    "\n",
    "    #if aln.aQual < minaqual:\n",
    "    #    #import pdb\n",
    "    #    #pdb.set_trace()\n",
    "    #    counts[\"_too_low_aQual\"] +=  1\n",
    "    #    continue\n",
    "\n",
    "    ## -----------------------------\n",
    "    ## Read and Feature Overlap Mode\n",
    "    ## -----------------------------\n",
    "    \n",
    "    ## invert strand - due to sequencing is strand is reversed!\n",
    "    iv_seq = (invert_strand(co.ref_iv) for co in aln.cigar if (co.type in com and co.size > 0))\n",
    "    #iv_seq = (co.ref_iv for co in aln.cigar if (co.type in com and co.size > 0))\n",
    "    \n",
    "    ## loop over CIGAR operations (cig_op) for aligned read    \n",
    "\n",
    "    ## A. Union: the union of all the sets S(i). This mode is recommended for most use cases.\n",
    "    if overlap_mode == \"union\":\n",
    "        ## feature set\n",
    "        gene_ids = set()\n",
    "        \n",
    "        for iv in iv_seq:\n",
    "            #if iv.chrom not in exon_features.chrom_vectors:\n",
    "            #    raise UnknownChrom\n",
    "            \n",
    "            for iv2, fs in exon_features[ iv ].steps():\n",
    "                gene_ids = gene_ids.union(fs)\n",
    "\n",
    "    ## B. Intersection-strict: the intersection of all the sets S(i).\n",
    "    ## C. Intersection-nonempty: the intersection of all non-empty sets S(i).\n",
    "    elif overlap_mode in (\"intersection-strict\", \"intersection-nonempty\"):\n",
    "        ## feature set\n",
    "        gene_ids = None\n",
    "        \n",
    "        for iv in iv_seq:\n",
    "            #if iv.chrom not in exon_features.chrom_vectors:\n",
    "            #    raise UnknownChrom\n",
    "            \n",
    "            for iv2, fs in exon_features[ iv ].steps():\n",
    "                if ((len(fs) > 0) or (overlap_mode == \"intersection-strict\")):\n",
    "                    if gene_ids is None:\n",
    "                        gene_ids = fs.copy()\n",
    "                    else:\n",
    "                        gene_ids = gene_ids.intersection(fs)\n",
    "                    \n",
    "    ## Other: Ilegal!                   \n",
    "    else:\n",
    "        sys.exit(\"Illegal overlap mode.\")\n",
    "    \n",
    "    ## --------------\n",
    "    ## Count Features\n",
    "    ## --------------\n",
    "    \n",
    "    ## A. Mapped to unknown feature (it is empty)\n",
    "    if gene_ids is None or len(gene_ids) == 0:\n",
    "        #import pdb\n",
    "        #pdb.set_trace()\n",
    "        counts[\"_no_feature\"] += 1\n",
    "        \n",
    "    ## B. Mapped to a region with overlapping features (contains more than one element)\n",
    "    ## See next how to deal with this ambiguous read alignments! (multimapped_mode)\n",
    "    elif len(gene_ids) > 1:\n",
    "        counts[\"_ambiguous\"] += 1\n",
    "    \n",
    "    ## Deal with reads mapped to region with overlapping features!\n",
    "    if gene_ids is not None and len(gene_ids) > 0:\n",
    "        \n",
    "        ## - ignore reads mapped to region with overlapping features!\n",
    "        if multimapped_mode == 'none':\n",
    "            \n",
    "            ## C. Uniquely Mapped (contains exactly one element) \n",
    "            if len(gene_ids) == 1:\n",
    "                counts[list(gene_ids)[0]] += 1\n",
    "        \n",
    "        ## - count each multimapped feature once\n",
    "        elif multimapped_mode == 'all':\n",
    "            \n",
    "            ## D. Multi Mapped\n",
    "            for fsi in list(gene_ids):\n",
    "                counts[ fsi ] += 1\n",
    "                \n",
    "        ## - count each multimapped feature a fractio\n",
    "        elif multimapped_mode == 'fractional':\n",
    "            \n",
    "            ## D. Multi Mapped\n",
    "            for fsi in list(gene_ids):\n",
    "                counts[ fsi ] += 1 / aln.optional_field('NH')\n",
    "\n",
    "        ## Other: Ilegal!                   \n",
    "        else:\n",
    "            sys.exit(\"Illegal multimap mode.\")\n",
    "\n",
    "print('Elapsed Time (Counting reads):', time.time() - start_time)"
   ]
  },
  {
   "cell_type": "code",
   "execution_count": 169,
   "metadata": {},
   "outputs": [],
   "source": [
    "#{k: v for k, v in sorted(counts.items(), key=lambda item: item[1], reverse=True)}"
   ]
  },
  {
   "cell_type": "markdown",
   "metadata": {},
   "source": [
    "- Convert `counter` to **DataFrame**"
   ]
  },
  {
   "cell_type": "code",
   "execution_count": 170,
   "metadata": {},
   "outputs": [
    {
     "data": {
      "text/html": [
       "<div>\n",
       "<style scoped>\n",
       "    .dataframe tbody tr th:only-of-type {\n",
       "        vertical-align: middle;\n",
       "    }\n",
       "\n",
       "    .dataframe tbody tr th {\n",
       "        vertical-align: top;\n",
       "    }\n",
       "\n",
       "    .dataframe thead th {\n",
       "        text-align: right;\n",
       "    }\n",
       "</style>\n",
       "<table border=\"1\" class=\"dataframe\">\n",
       "  <thead>\n",
       "    <tr style=\"text-align: right;\">\n",
       "      <th></th>\n",
       "      <th>gene-id</th>\n",
       "      <th>count</th>\n",
       "    </tr>\n",
       "  </thead>\n",
       "  <tbody>\n",
       "    <tr>\n",
       "      <th>0</th>\n",
       "      <td>_total</td>\n",
       "      <td>3.408617e+06</td>\n",
       "    </tr>\n",
       "    <tr>\n",
       "      <th>1</th>\n",
       "      <td>_alignment_not_unique</td>\n",
       "      <td>1.574200e+05</td>\n",
       "    </tr>\n",
       "    <tr>\n",
       "      <th>2</th>\n",
       "      <td>SPAC212.11</td>\n",
       "      <td>3.736667e+01</td>\n",
       "    </tr>\n",
       "    <tr>\n",
       "      <th>3</th>\n",
       "      <td>SPAC212.10</td>\n",
       "      <td>5.750000e+00</td>\n",
       "    </tr>\n",
       "    <tr>\n",
       "      <th>4</th>\n",
       "      <td>SPAC212.09c</td>\n",
       "      <td>8.191667e+01</td>\n",
       "    </tr>\n",
       "    <tr>\n",
       "      <th>5</th>\n",
       "      <td>SPNCRNA.70</td>\n",
       "      <td>3.333333e-01</td>\n",
       "    </tr>\n",
       "    <tr>\n",
       "      <th>6</th>\n",
       "      <td>SPAC212.08c</td>\n",
       "      <td>1.805000e+02</td>\n",
       "    </tr>\n",
       "    <tr>\n",
       "      <th>7</th>\n",
       "      <td>SPAC212.07c</td>\n",
       "      <td>1.000000e+00</td>\n",
       "    </tr>\n",
       "    <tr>\n",
       "      <th>8</th>\n",
       "      <td>SPAC212.12</td>\n",
       "      <td>1.001667e+02</td>\n",
       "    </tr>\n",
       "    <tr>\n",
       "      <th>9</th>\n",
       "      <td>SPAC212.06c</td>\n",
       "      <td>2.633333e+01</td>\n",
       "    </tr>\n",
       "    <tr>\n",
       "      <th>10</th>\n",
       "      <td>SPAC212.05c</td>\n",
       "      <td>2.500000e-01</td>\n",
       "    </tr>\n",
       "    <tr>\n",
       "      <th>11</th>\n",
       "      <td>SPAC212.04c</td>\n",
       "      <td>1.377833e+02</td>\n",
       "    </tr>\n",
       "    <tr>\n",
       "      <th>12</th>\n",
       "      <td>SPAC212.03</td>\n",
       "      <td>1.333333e+00</td>\n",
       "    </tr>\n",
       "    <tr>\n",
       "      <th>13</th>\n",
       "      <td>SPAC212.02</td>\n",
       "      <td>1.333333e+00</td>\n",
       "    </tr>\n",
       "    <tr>\n",
       "      <th>14</th>\n",
       "      <td>SPAC212.01c</td>\n",
       "      <td>8.495000e+01</td>\n",
       "    </tr>\n",
       "    <tr>\n",
       "      <th>15</th>\n",
       "      <td>SPAC977.01</td>\n",
       "      <td>1.370833e+02</td>\n",
       "    </tr>\n",
       "    <tr>\n",
       "      <th>16</th>\n",
       "      <td>SPAC977.18</td>\n",
       "      <td>5.000000e+00</td>\n",
       "    </tr>\n",
       "    <tr>\n",
       "      <th>17</th>\n",
       "      <td>_no_feature</td>\n",
       "      <td>1.957000e+03</td>\n",
       "    </tr>\n",
       "    <tr>\n",
       "      <th>18</th>\n",
       "      <td>SPAC977.02</td>\n",
       "      <td>2.166667e+00</td>\n",
       "    </tr>\n",
       "    <tr>\n",
       "      <th>19</th>\n",
       "      <td>_ambiguous</td>\n",
       "      <td>1.002946e+06</td>\n",
       "    </tr>\n",
       "  </tbody>\n",
       "</table>\n",
       "</div>"
      ],
      "text/plain": [
       "                  gene-id         count\n",
       "0                  _total  3.408617e+06\n",
       "1   _alignment_not_unique  1.574200e+05\n",
       "2              SPAC212.11  3.736667e+01\n",
       "3              SPAC212.10  5.750000e+00\n",
       "4             SPAC212.09c  8.191667e+01\n",
       "5              SPNCRNA.70  3.333333e-01\n",
       "6             SPAC212.08c  1.805000e+02\n",
       "7             SPAC212.07c  1.000000e+00\n",
       "8              SPAC212.12  1.001667e+02\n",
       "9             SPAC212.06c  2.633333e+01\n",
       "10            SPAC212.05c  2.500000e-01\n",
       "11            SPAC212.04c  1.377833e+02\n",
       "12             SPAC212.03  1.333333e+00\n",
       "13             SPAC212.02  1.333333e+00\n",
       "14            SPAC212.01c  8.495000e+01\n",
       "15             SPAC977.01  1.370833e+02\n",
       "16             SPAC977.18  5.000000e+00\n",
       "17            _no_feature  1.957000e+03\n",
       "18             SPAC977.02  2.166667e+00\n",
       "19             _ambiguous  1.002946e+06"
      ]
     },
     "execution_count": 170,
     "metadata": {},
     "output_type": "execute_result"
    }
   ],
   "source": [
    "counts_df = pd.DataFrame.from_dict(counts, orient='index').reset_index()\n",
    "counts_df = counts_df.rename(columns={'index':'gene-id', 0:'count'})\n",
    "counts_df.head(20)"
   ]
  },
  {
   "cell_type": "code",
   "execution_count": 171,
   "metadata": {},
   "outputs": [
    {
     "data": {
      "text/plain": [
       "(6690, 2)"
      ]
     },
     "execution_count": 171,
     "metadata": {},
     "output_type": "execute_result"
    }
   ],
   "source": [
    "counts_df.shape"
   ]
  },
  {
   "cell_type": "markdown",
   "metadata": {},
   "source": [
    "- Summary of counts"
   ]
  },
  {
   "cell_type": "code",
   "execution_count": 172,
   "metadata": {},
   "outputs": [
    {
     "data": {
      "text/html": [
       "<div>\n",
       "<style scoped>\n",
       "    .dataframe tbody tr th:only-of-type {\n",
       "        vertical-align: middle;\n",
       "    }\n",
       "\n",
       "    .dataframe tbody tr th {\n",
       "        vertical-align: top;\n",
       "    }\n",
       "\n",
       "    .dataframe thead th {\n",
       "        text-align: right;\n",
       "    }\n",
       "</style>\n",
       "<table border=\"1\" class=\"dataframe\">\n",
       "  <thead>\n",
       "    <tr style=\"text-align: right;\">\n",
       "      <th></th>\n",
       "      <th>gene-id</th>\n",
       "      <th>count</th>\n",
       "    </tr>\n",
       "  </thead>\n",
       "  <tbody>\n",
       "    <tr>\n",
       "      <th>0</th>\n",
       "      <td>_total</td>\n",
       "      <td>3408617.0</td>\n",
       "    </tr>\n",
       "    <tr>\n",
       "      <th>1</th>\n",
       "      <td>_alignment_not_unique</td>\n",
       "      <td>157420.0</td>\n",
       "    </tr>\n",
       "    <tr>\n",
       "      <th>17</th>\n",
       "      <td>_no_feature</td>\n",
       "      <td>1957.0</td>\n",
       "    </tr>\n",
       "    <tr>\n",
       "      <th>19</th>\n",
       "      <td>_ambiguous</td>\n",
       "      <td>1002946.0</td>\n",
       "    </tr>\n",
       "  </tbody>\n",
       "</table>\n",
       "</div>"
      ],
      "text/plain": [
       "                  gene-id      count\n",
       "0                  _total  3408617.0\n",
       "1   _alignment_not_unique   157420.0\n",
       "17            _no_feature     1957.0\n",
       "19             _ambiguous  1002946.0"
      ]
     },
     "execution_count": 172,
     "metadata": {},
     "output_type": "execute_result"
    }
   ],
   "source": [
    "counts_df[counts_df['gene-id'].str.startswith('_')]"
   ]
  },
  {
   "cell_type": "code",
   "execution_count": 173,
   "metadata": {},
   "outputs": [
    {
     "data": {
      "text/plain": [
       "4411329.713095238"
      ]
     },
     "execution_count": 173,
     "metadata": {},
     "output_type": "execute_result"
    }
   ],
   "source": [
    "## now contains multiple counting\n",
    "counts_df[~counts_df['gene-id'].str.startswith('_')]['count'].sum()"
   ]
  },
  {
   "cell_type": "markdown",
   "metadata": {},
   "source": [
    "- Show counts for genes of interest: **Heterochromatic Genes**"
   ]
  },
  {
   "cell_type": "code",
   "execution_count": 174,
   "metadata": {},
   "outputs": [
    {
     "data": {
      "text/html": [
       "<div>\n",
       "<style scoped>\n",
       "    .dataframe tbody tr th:only-of-type {\n",
       "        vertical-align: middle;\n",
       "    }\n",
       "\n",
       "    .dataframe tbody tr th {\n",
       "        vertical-align: top;\n",
       "    }\n",
       "\n",
       "    .dataframe thead th {\n",
       "        text-align: right;\n",
       "    }\n",
       "</style>\n",
       "<table border=\"1\" class=\"dataframe\">\n",
       "  <thead>\n",
       "    <tr style=\"text-align: right;\">\n",
       "      <th></th>\n",
       "      <th>gene-id</th>\n",
       "      <th>count</th>\n",
       "    </tr>\n",
       "  </thead>\n",
       "  <tbody>\n",
       "    <tr>\n",
       "      <th>2047</th>\n",
       "      <td>dh1</td>\n",
       "      <td>11.250000</td>\n",
       "    </tr>\n",
       "    <tr>\n",
       "      <th>2049</th>\n",
       "      <td>dg1</td>\n",
       "      <td>8.611111</td>\n",
       "    </tr>\n",
       "    <tr>\n",
       "      <th>4138</th>\n",
       "      <td>MAT1</td>\n",
       "      <td>209.000000</td>\n",
       "    </tr>\n",
       "    <tr>\n",
       "      <th>4151</th>\n",
       "      <td>MAT2</td>\n",
       "      <td>40.000000</td>\n",
       "    </tr>\n",
       "    <tr>\n",
       "      <th>4155</th>\n",
       "      <td>MAT3</td>\n",
       "      <td>188.500000</td>\n",
       "    </tr>\n",
       "    <tr>\n",
       "      <th>5461</th>\n",
       "      <td>after_tlh</td>\n",
       "      <td>108.000000</td>\n",
       "    </tr>\n",
       "  </tbody>\n",
       "</table>\n",
       "</div>"
      ],
      "text/plain": [
       "        gene-id       count\n",
       "2047        dh1   11.250000\n",
       "2049        dg1    8.611111\n",
       "4138       MAT1  209.000000\n",
       "4151       MAT2   40.000000\n",
       "4155       MAT3  188.500000\n",
       "5461  after_tlh  108.000000"
      ]
     },
     "execution_count": 174,
     "metadata": {},
     "output_type": "execute_result"
    }
   ],
   "source": [
    "counts_df[counts_df['gene-id'].isin(htc_genes)]"
   ]
  },
  {
   "cell_type": "markdown",
   "metadata": {},
   "source": [
    "## Compare results with **Parastou's counting**"
   ]
  },
  {
   "cell_type": "markdown",
   "metadata": {},
   "source": [
    "- Results using **Parastou's counting script**"
   ]
  },
  {
   "cell_type": "code",
   "execution_count": 175,
   "metadata": {},
   "outputs": [],
   "source": [
    "#xp_rna = '/gcm-lfs1/pablo/data/RNAdeg/data/RNA/xp_data/pombe_gene_count_matrix.csv'\n",
    "xp_rna = '/gcm-lfs1/pablo/data/RNAdeg/old_data/RNA/xp_data/pombe_gene_count_matrix.csv'"
   ]
  },
  {
   "cell_type": "code",
   "execution_count": 176,
   "metadata": {},
   "outputs": [
    {
     "data": {
      "text/html": [
       "<div>\n",
       "<style scoped>\n",
       "    .dataframe tbody tr th:only-of-type {\n",
       "        vertical-align: middle;\n",
       "    }\n",
       "\n",
       "    .dataframe tbody tr th {\n",
       "        vertical-align: top;\n",
       "    }\n",
       "\n",
       "    .dataframe thead th {\n",
       "        text-align: right;\n",
       "    }\n",
       "</style>\n",
       "<table border=\"1\" class=\"dataframe\">\n",
       "  <thead>\n",
       "    <tr style=\"text-align: right;\">\n",
       "      <th></th>\n",
       "      <th>gene-id</th>\n",
       "      <th>length</th>\n",
       "      <th>type</th>\n",
       "      <th>category</th>\n",
       "      <th>bio_type</th>\n",
       "      <th>1168_pA</th>\n",
       "    </tr>\n",
       "  </thead>\n",
       "  <tbody>\n",
       "    <tr>\n",
       "      <th>0</th>\n",
       "      <td>SPAC212.11</td>\n",
       "      <td>5661.0</td>\n",
       "      <td>gene</td>\n",
       "      <td>repeat</td>\n",
       "      <td>protein_coding</td>\n",
       "      <td>80</td>\n",
       "    </tr>\n",
       "    <tr>\n",
       "      <th>1</th>\n",
       "      <td>SPAC212.10</td>\n",
       "      <td>605.0</td>\n",
       "      <td>pseudogene</td>\n",
       "      <td>repeat</td>\n",
       "      <td>pseudogene</td>\n",
       "      <td>10</td>\n",
       "    </tr>\n",
       "    <tr>\n",
       "      <th>2</th>\n",
       "      <td>SPAC212.09c</td>\n",
       "      <td>1655.0</td>\n",
       "      <td>pseudogene</td>\n",
       "      <td>repeat</td>\n",
       "      <td>pseudogene</td>\n",
       "      <td>219</td>\n",
       "    </tr>\n",
       "    <tr>\n",
       "      <th>3</th>\n",
       "      <td>SPNCRNA.70</td>\n",
       "      <td>529.0</td>\n",
       "      <td>ncRNA_gene</td>\n",
       "      <td>repeat</td>\n",
       "      <td>ncRNA</td>\n",
       "      <td>1</td>\n",
       "    </tr>\n",
       "    <tr>\n",
       "      <th>4</th>\n",
       "      <td>SPAC212.08c</td>\n",
       "      <td>1210.0</td>\n",
       "      <td>gene</td>\n",
       "      <td>repeat</td>\n",
       "      <td>protein_coding</td>\n",
       "      <td>476</td>\n",
       "    </tr>\n",
       "  </tbody>\n",
       "</table>\n",
       "</div>"
      ],
      "text/plain": [
       "       gene-id  length        type category        bio_type  1168_pA\n",
       "0   SPAC212.11  5661.0        gene   repeat  protein_coding       80\n",
       "1   SPAC212.10   605.0  pseudogene   repeat      pseudogene       10\n",
       "2  SPAC212.09c  1655.0  pseudogene   repeat      pseudogene      219\n",
       "3   SPNCRNA.70   529.0  ncRNA_gene   repeat           ncRNA        1\n",
       "4  SPAC212.08c  1210.0        gene   repeat  protein_coding      476"
      ]
     },
     "execution_count": 176,
     "metadata": {},
     "output_type": "execute_result"
    }
   ],
   "source": [
    "xp_rna_df = pd.read_csv(xp_rna, sep='\\t')\n",
    "xp_rna_df = xp_rna_df[['gene-id', 'length', 'type', 'category', 'bio_type', sample_name]].astype({sample_name: 'int64'})\n",
    "xp_rna_df.head()"
   ]
  },
  {
   "cell_type": "code",
   "execution_count": 177,
   "metadata": {},
   "outputs": [
    {
     "data": {
      "text/plain": [
       "3254080"
      ]
     },
     "execution_count": 177,
     "metadata": {},
     "output_type": "execute_result"
    }
   ],
   "source": [
    "total = xp_rna_df[sample_name].sum()\n",
    "total"
   ]
  },
  {
   "cell_type": "markdown",
   "metadata": {},
   "source": [
    "- **Merge** both counts DataFrames"
   ]
  },
  {
   "cell_type": "code",
   "execution_count": 178,
   "metadata": {},
   "outputs": [
    {
     "data": {
      "text/html": [
       "<div>\n",
       "<style scoped>\n",
       "    .dataframe tbody tr th:only-of-type {\n",
       "        vertical-align: middle;\n",
       "    }\n",
       "\n",
       "    .dataframe tbody tr th {\n",
       "        vertical-align: top;\n",
       "    }\n",
       "\n",
       "    .dataframe thead th {\n",
       "        text-align: right;\n",
       "    }\n",
       "</style>\n",
       "<table border=\"1\" class=\"dataframe\">\n",
       "  <thead>\n",
       "    <tr style=\"text-align: right;\">\n",
       "      <th></th>\n",
       "      <th>gene-id</th>\n",
       "      <th>count</th>\n",
       "      <th>length</th>\n",
       "      <th>type</th>\n",
       "      <th>category</th>\n",
       "      <th>bio_type</th>\n",
       "      <th>1168_pA</th>\n",
       "    </tr>\n",
       "  </thead>\n",
       "  <tbody>\n",
       "    <tr>\n",
       "      <th>0</th>\n",
       "      <td>_total</td>\n",
       "      <td>3.408617e+06</td>\n",
       "      <td>NaN</td>\n",
       "      <td>NaN</td>\n",
       "      <td>NaN</td>\n",
       "      <td>NaN</td>\n",
       "      <td>NaN</td>\n",
       "    </tr>\n",
       "    <tr>\n",
       "      <th>1</th>\n",
       "      <td>_alignment_not_unique</td>\n",
       "      <td>1.574200e+05</td>\n",
       "      <td>NaN</td>\n",
       "      <td>NaN</td>\n",
       "      <td>NaN</td>\n",
       "      <td>NaN</td>\n",
       "      <td>NaN</td>\n",
       "    </tr>\n",
       "    <tr>\n",
       "      <th>2</th>\n",
       "      <td>SPAC212.11</td>\n",
       "      <td>3.736667e+01</td>\n",
       "      <td>5661.0</td>\n",
       "      <td>gene</td>\n",
       "      <td>repeat</td>\n",
       "      <td>protein_coding</td>\n",
       "      <td>80.0</td>\n",
       "    </tr>\n",
       "    <tr>\n",
       "      <th>3</th>\n",
       "      <td>SPAC212.10</td>\n",
       "      <td>5.750000e+00</td>\n",
       "      <td>605.0</td>\n",
       "      <td>pseudogene</td>\n",
       "      <td>repeat</td>\n",
       "      <td>pseudogene</td>\n",
       "      <td>10.0</td>\n",
       "    </tr>\n",
       "    <tr>\n",
       "      <th>4</th>\n",
       "      <td>SPAC212.09c</td>\n",
       "      <td>8.191667e+01</td>\n",
       "      <td>1655.0</td>\n",
       "      <td>pseudogene</td>\n",
       "      <td>repeat</td>\n",
       "      <td>pseudogene</td>\n",
       "      <td>219.0</td>\n",
       "    </tr>\n",
       "    <tr>\n",
       "      <th>...</th>\n",
       "      <td>...</td>\n",
       "      <td>...</td>\n",
       "      <td>...</td>\n",
       "      <td>...</td>\n",
       "      <td>...</td>\n",
       "      <td>...</td>\n",
       "      <td>...</td>\n",
       "    </tr>\n",
       "    <tr>\n",
       "      <th>6944</th>\n",
       "      <td>SPMITTRNAARG.02</td>\n",
       "      <td>NaN</td>\n",
       "      <td>72.0</td>\n",
       "      <td>tRNA_gene</td>\n",
       "      <td>gene</td>\n",
       "      <td>tRNA</td>\n",
       "      <td>0.0</td>\n",
       "    </tr>\n",
       "    <tr>\n",
       "      <th>6945</th>\n",
       "      <td>SPMITTRNAILE.02</td>\n",
       "      <td>NaN</td>\n",
       "      <td>71.0</td>\n",
       "      <td>tRNA_gene</td>\n",
       "      <td>gene</td>\n",
       "      <td>tRNA</td>\n",
       "      <td>0.0</td>\n",
       "    </tr>\n",
       "    <tr>\n",
       "      <th>6946</th>\n",
       "      <td>SPMITTRNASER.02</td>\n",
       "      <td>NaN</td>\n",
       "      <td>81.0</td>\n",
       "      <td>tRNA_gene</td>\n",
       "      <td>gene</td>\n",
       "      <td>tRNA</td>\n",
       "      <td>0.0</td>\n",
       "    </tr>\n",
       "    <tr>\n",
       "      <th>6947</th>\n",
       "      <td>SPMITTRNAALA.01</td>\n",
       "      <td>NaN</td>\n",
       "      <td>72.0</td>\n",
       "      <td>tRNA_gene</td>\n",
       "      <td>gene</td>\n",
       "      <td>tRNA</td>\n",
       "      <td>0.0</td>\n",
       "    </tr>\n",
       "    <tr>\n",
       "      <th>6948</th>\n",
       "      <td>SPMITTRNAGLU.01</td>\n",
       "      <td>NaN</td>\n",
       "      <td>71.0</td>\n",
       "      <td>tRNA_gene</td>\n",
       "      <td>gene</td>\n",
       "      <td>tRNA</td>\n",
       "      <td>0.0</td>\n",
       "    </tr>\n",
       "  </tbody>\n",
       "</table>\n",
       "<p>6949 rows × 7 columns</p>\n",
       "</div>"
      ],
      "text/plain": [
       "                    gene-id         count  length        type category  \\\n",
       "0                    _total  3.408617e+06     NaN         NaN      NaN   \n",
       "1     _alignment_not_unique  1.574200e+05     NaN         NaN      NaN   \n",
       "2                SPAC212.11  3.736667e+01  5661.0        gene   repeat   \n",
       "3                SPAC212.10  5.750000e+00   605.0  pseudogene   repeat   \n",
       "4               SPAC212.09c  8.191667e+01  1655.0  pseudogene   repeat   \n",
       "...                     ...           ...     ...         ...      ...   \n",
       "6944        SPMITTRNAARG.02           NaN    72.0   tRNA_gene     gene   \n",
       "6945        SPMITTRNAILE.02           NaN    71.0   tRNA_gene     gene   \n",
       "6946        SPMITTRNASER.02           NaN    81.0   tRNA_gene     gene   \n",
       "6947        SPMITTRNAALA.01           NaN    72.0   tRNA_gene     gene   \n",
       "6948        SPMITTRNAGLU.01           NaN    71.0   tRNA_gene     gene   \n",
       "\n",
       "            bio_type  1168_pA  \n",
       "0                NaN      NaN  \n",
       "1                NaN      NaN  \n",
       "2     protein_coding     80.0  \n",
       "3         pseudogene     10.0  \n",
       "4         pseudogene    219.0  \n",
       "...              ...      ...  \n",
       "6944            tRNA      0.0  \n",
       "6945            tRNA      0.0  \n",
       "6946            tRNA      0.0  \n",
       "6947            tRNA      0.0  \n",
       "6948            tRNA      0.0  \n",
       "\n",
       "[6949 rows x 7 columns]"
      ]
     },
     "execution_count": 178,
     "metadata": {},
     "output_type": "execute_result"
    }
   ],
   "source": [
    "merged_xp_rna = pd.merge(counts_df, xp_rna_df, on='gene-id', how='outer')\n",
    "merged_xp_rna"
   ]
  },
  {
   "cell_type": "markdown",
   "metadata": {},
   "source": [
    "- Bigger differences"
   ]
  },
  {
   "cell_type": "code",
   "execution_count": 179,
   "metadata": {},
   "outputs": [],
   "source": [
    "merged_xp_rna['diff_count'] = abs(merged_xp_rna['count'] - merged_xp_rna[sample_name])"
   ]
  },
  {
   "cell_type": "code",
   "execution_count": 180,
   "metadata": {},
   "outputs": [
    {
     "data": {
      "text/html": [
       "<div>\n",
       "<style scoped>\n",
       "    .dataframe tbody tr th:only-of-type {\n",
       "        vertical-align: middle;\n",
       "    }\n",
       "\n",
       "    .dataframe tbody tr th {\n",
       "        vertical-align: top;\n",
       "    }\n",
       "\n",
       "    .dataframe thead th {\n",
       "        text-align: right;\n",
       "    }\n",
       "</style>\n",
       "<table border=\"1\" class=\"dataframe\">\n",
       "  <thead>\n",
       "    <tr style=\"text-align: right;\">\n",
       "      <th></th>\n",
       "      <th>gene-id</th>\n",
       "      <th>count</th>\n",
       "      <th>length</th>\n",
       "      <th>type</th>\n",
       "      <th>category</th>\n",
       "      <th>bio_type</th>\n",
       "      <th>1168_pA</th>\n",
       "      <th>diff_count</th>\n",
       "    </tr>\n",
       "  </thead>\n",
       "  <tbody>\n",
       "    <tr>\n",
       "      <th>0</th>\n",
       "      <td>_total</td>\n",
       "      <td>3.408617e+06</td>\n",
       "      <td>NaN</td>\n",
       "      <td>NaN</td>\n",
       "      <td>NaN</td>\n",
       "      <td>NaN</td>\n",
       "      <td>NaN</td>\n",
       "      <td>NaN</td>\n",
       "    </tr>\n",
       "    <tr>\n",
       "      <th>1</th>\n",
       "      <td>_alignment_not_unique</td>\n",
       "      <td>1.574200e+05</td>\n",
       "      <td>NaN</td>\n",
       "      <td>NaN</td>\n",
       "      <td>NaN</td>\n",
       "      <td>NaN</td>\n",
       "      <td>NaN</td>\n",
       "      <td>NaN</td>\n",
       "    </tr>\n",
       "    <tr>\n",
       "      <th>17</th>\n",
       "      <td>_no_feature</td>\n",
       "      <td>1.957000e+03</td>\n",
       "      <td>NaN</td>\n",
       "      <td>NaN</td>\n",
       "      <td>NaN</td>\n",
       "      <td>NaN</td>\n",
       "      <td>NaN</td>\n",
       "      <td>NaN</td>\n",
       "    </tr>\n",
       "    <tr>\n",
       "      <th>19</th>\n",
       "      <td>_ambiguous</td>\n",
       "      <td>1.002946e+06</td>\n",
       "      <td>NaN</td>\n",
       "      <td>NaN</td>\n",
       "      <td>NaN</td>\n",
       "      <td>NaN</td>\n",
       "      <td>NaN</td>\n",
       "      <td>NaN</td>\n",
       "    </tr>\n",
       "    <tr>\n",
       "      <th>85</th>\n",
       "      <td>SPRRNA.10</td>\n",
       "      <td>2.000000e+00</td>\n",
       "      <td>NaN</td>\n",
       "      <td>NaN</td>\n",
       "      <td>NaN</td>\n",
       "      <td>NaN</td>\n",
       "      <td>NaN</td>\n",
       "      <td>NaN</td>\n",
       "    </tr>\n",
       "    <tr>\n",
       "      <th>...</th>\n",
       "      <td>...</td>\n",
       "      <td>...</td>\n",
       "      <td>...</td>\n",
       "      <td>...</td>\n",
       "      <td>...</td>\n",
       "      <td>...</td>\n",
       "      <td>...</td>\n",
       "      <td>...</td>\n",
       "    </tr>\n",
       "    <tr>\n",
       "      <th>2631</th>\n",
       "      <td>SPNCRNA.1030</td>\n",
       "      <td>1.154000e+04</td>\n",
       "      <td>1320.0</td>\n",
       "      <td>ncRNA_gene</td>\n",
       "      <td>gene</td>\n",
       "      <td>ncRNA</td>\n",
       "      <td>5763.0</td>\n",
       "      <td>5777.000000</td>\n",
       "    </tr>\n",
       "    <tr>\n",
       "      <th>6220</th>\n",
       "      <td>SPCC13B11.01</td>\n",
       "      <td>4.330433e+04</td>\n",
       "      <td>3462.0</td>\n",
       "      <td>gene</td>\n",
       "      <td>gene</td>\n",
       "      <td>protein_coding</td>\n",
       "      <td>10827.0</td>\n",
       "      <td>32477.333333</td>\n",
       "    </tr>\n",
       "    <tr>\n",
       "      <th>6221</th>\n",
       "      <td>SPCC13B11.02c</td>\n",
       "      <td>4.330333e+04</td>\n",
       "      <td>3822.0</td>\n",
       "      <td>gene</td>\n",
       "      <td>gene</td>\n",
       "      <td>protein_coding</td>\n",
       "      <td>10825.0</td>\n",
       "      <td>32478.333333</td>\n",
       "    </tr>\n",
       "    <tr>\n",
       "      <th>6222</th>\n",
       "      <td>SPNCRNA.2001</td>\n",
       "      <td>4.330533e+04</td>\n",
       "      <td>3958.0</td>\n",
       "      <td>ncRNA_gene</td>\n",
       "      <td>gene</td>\n",
       "      <td>ncRNA</td>\n",
       "      <td>10826.0</td>\n",
       "      <td>32479.333333</td>\n",
       "    </tr>\n",
       "    <tr>\n",
       "      <th>6223</th>\n",
       "      <td>SPNCRNA.2002</td>\n",
       "      <td>4.330533e+04</td>\n",
       "      <td>3894.0</td>\n",
       "      <td>ncRNA_gene</td>\n",
       "      <td>gene</td>\n",
       "      <td>ncRNA</td>\n",
       "      <td>10825.0</td>\n",
       "      <td>32480.333333</td>\n",
       "    </tr>\n",
       "  </tbody>\n",
       "</table>\n",
       "<p>6949 rows × 8 columns</p>\n",
       "</div>"
      ],
      "text/plain": [
       "                    gene-id         count  length        type category  \\\n",
       "0                    _total  3.408617e+06     NaN         NaN      NaN   \n",
       "1     _alignment_not_unique  1.574200e+05     NaN         NaN      NaN   \n",
       "17              _no_feature  1.957000e+03     NaN         NaN      NaN   \n",
       "19               _ambiguous  1.002946e+06     NaN         NaN      NaN   \n",
       "85                SPRRNA.10  2.000000e+00     NaN         NaN      NaN   \n",
       "...                     ...           ...     ...         ...      ...   \n",
       "2631           SPNCRNA.1030  1.154000e+04  1320.0  ncRNA_gene     gene   \n",
       "6220           SPCC13B11.01  4.330433e+04  3462.0        gene     gene   \n",
       "6221          SPCC13B11.02c  4.330333e+04  3822.0        gene     gene   \n",
       "6222           SPNCRNA.2001  4.330533e+04  3958.0  ncRNA_gene     gene   \n",
       "6223           SPNCRNA.2002  4.330533e+04  3894.0  ncRNA_gene     gene   \n",
       "\n",
       "            bio_type  1168_pA    diff_count  \n",
       "0                NaN      NaN           NaN  \n",
       "1                NaN      NaN           NaN  \n",
       "17               NaN      NaN           NaN  \n",
       "19               NaN      NaN           NaN  \n",
       "85               NaN      NaN           NaN  \n",
       "...              ...      ...           ...  \n",
       "2631           ncRNA   5763.0   5777.000000  \n",
       "6220  protein_coding  10827.0  32477.333333  \n",
       "6221  protein_coding  10825.0  32478.333333  \n",
       "6222           ncRNA  10826.0  32479.333333  \n",
       "6223           ncRNA  10825.0  32480.333333  \n",
       "\n",
       "[6949 rows x 8 columns]"
      ]
     },
     "execution_count": 180,
     "metadata": {},
     "output_type": "execute_result"
    }
   ],
   "source": [
    "merged_xp_rna.sort_values('diff_count', na_position='first')"
   ]
  },
  {
   "cell_type": "code",
   "execution_count": 181,
   "metadata": {},
   "outputs": [
    {
     "data": {
      "text/plain": [
       "<matplotlib.axes._subplots.AxesSubplot at 0x7f509f9a8630>"
      ]
     },
     "execution_count": 181,
     "metadata": {},
     "output_type": "execute_result"
    },
    {
     "data": {
      "image/png": "[encoded data removed]",
      "text/plain": [
       "<Figure size 432x288 with 1 Axes>"
      ]
     },
     "metadata": {
      "needs_background": "light"
     },
     "output_type": "display_data"
    }
   ],
   "source": [
    "merged_xp_rna['diff_count'].plot.hist(xlim=(0, 11000))"
   ]
  },
  {
   "cell_type": "code",
   "execution_count": 182,
   "metadata": {},
   "outputs": [
    {
     "data": {
      "text/plain": [
       "<matplotlib.axes._subplots.AxesSubplot at 0x7f509e9a12e8>"
      ]
     },
     "execution_count": 182,
     "metadata": {},
     "output_type": "execute_result"
    },
    {
     "data": {
      "image/png": "[encoded data removed]",
      "text/plain": [
       "<Figure size 432x288 with 1 Axes>"
      ]
     },
     "metadata": {
      "needs_background": "light"
     },
     "output_type": "display_data"
    }
   ],
   "source": [
    "#merged_xp_rna.plot.scatter(x = 'count', y = sample_name, xlim=(0, 1000), ylim=(0, 1000))\n",
    "merged_xp_rna.plot.scatter(x = 'count', y = sample_name,)"
   ]
  },
  {
   "cell_type": "markdown",
   "metadata": {},
   "source": [
    "- Show counts for genes of interest: **Heterochromatic Genes**"
   ]
  },
  {
   "cell_type": "code",
   "execution_count": 183,
   "metadata": {},
   "outputs": [
    {
     "data": {
      "text/html": [
       "<div>\n",
       "<style scoped>\n",
       "    .dataframe tbody tr th:only-of-type {\n",
       "        vertical-align: middle;\n",
       "    }\n",
       "\n",
       "    .dataframe tbody tr th {\n",
       "        vertical-align: top;\n",
       "    }\n",
       "\n",
       "    .dataframe thead th {\n",
       "        text-align: right;\n",
       "    }\n",
       "</style>\n",
       "<table border=\"1\" class=\"dataframe\">\n",
       "  <thead>\n",
       "    <tr style=\"text-align: right;\">\n",
       "      <th></th>\n",
       "      <th>gene-id</th>\n",
       "      <th>count</th>\n",
       "      <th>length</th>\n",
       "      <th>type</th>\n",
       "      <th>category</th>\n",
       "      <th>bio_type</th>\n",
       "      <th>1168_pA</th>\n",
       "      <th>diff_count</th>\n",
       "    </tr>\n",
       "  </thead>\n",
       "  <tbody>\n",
       "    <tr>\n",
       "      <th>2047</th>\n",
       "      <td>dh1</td>\n",
       "      <td>11.250000</td>\n",
       "      <td>4000.0</td>\n",
       "      <td>gene</td>\n",
       "      <td>repeat</td>\n",
       "      <td>protein_coding</td>\n",
       "      <td>37.0</td>\n",
       "      <td>25.750000</td>\n",
       "    </tr>\n",
       "    <tr>\n",
       "      <th>2049</th>\n",
       "      <td>dg1</td>\n",
       "      <td>8.611111</td>\n",
       "      <td>3500.0</td>\n",
       "      <td>gene</td>\n",
       "      <td>repeat</td>\n",
       "      <td>protein_coding</td>\n",
       "      <td>30.0</td>\n",
       "      <td>21.388889</td>\n",
       "    </tr>\n",
       "    <tr>\n",
       "      <th>4138</th>\n",
       "      <td>MAT1</td>\n",
       "      <td>209.000000</td>\n",
       "      <td>1500.0</td>\n",
       "      <td>gene</td>\n",
       "      <td>repeat</td>\n",
       "      <td>protein_coding</td>\n",
       "      <td>211.0</td>\n",
       "      <td>2.000000</td>\n",
       "    </tr>\n",
       "    <tr>\n",
       "      <th>4151</th>\n",
       "      <td>MAT2</td>\n",
       "      <td>40.000000</td>\n",
       "      <td>4000.0</td>\n",
       "      <td>gene</td>\n",
       "      <td>repeat</td>\n",
       "      <td>protein_coding</td>\n",
       "      <td>35.0</td>\n",
       "      <td>5.000000</td>\n",
       "    </tr>\n",
       "    <tr>\n",
       "      <th>4155</th>\n",
       "      <td>MAT3</td>\n",
       "      <td>188.500000</td>\n",
       "      <td>4000.0</td>\n",
       "      <td>gene</td>\n",
       "      <td>repeat</td>\n",
       "      <td>protein_coding</td>\n",
       "      <td>182.0</td>\n",
       "      <td>6.500000</td>\n",
       "    </tr>\n",
       "    <tr>\n",
       "      <th>5461</th>\n",
       "      <td>after_tlh</td>\n",
       "      <td>108.000000</td>\n",
       "      <td>5000.0</td>\n",
       "      <td>gene</td>\n",
       "      <td>repeat</td>\n",
       "      <td>protein_coding</td>\n",
       "      <td>111.0</td>\n",
       "      <td>3.000000</td>\n",
       "    </tr>\n",
       "  </tbody>\n",
       "</table>\n",
       "</div>"
      ],
      "text/plain": [
       "        gene-id       count  length  type category        bio_type  1168_pA  \\\n",
       "2047        dh1   11.250000  4000.0  gene   repeat  protein_coding     37.0   \n",
       "2049        dg1    8.611111  3500.0  gene   repeat  protein_coding     30.0   \n",
       "4138       MAT1  209.000000  1500.0  gene   repeat  protein_coding    211.0   \n",
       "4151       MAT2   40.000000  4000.0  gene   repeat  protein_coding     35.0   \n",
       "4155       MAT3  188.500000  4000.0  gene   repeat  protein_coding    182.0   \n",
       "5461  after_tlh  108.000000  5000.0  gene   repeat  protein_coding    111.0   \n",
       "\n",
       "      diff_count  \n",
       "2047   25.750000  \n",
       "2049   21.388889  \n",
       "4138    2.000000  \n",
       "4151    5.000000  \n",
       "4155    6.500000  \n",
       "5461    3.000000  "
      ]
     },
     "execution_count": 183,
     "metadata": {},
     "output_type": "execute_result"
    }
   ],
   "source": [
    "merged_xp_rna[merged_xp_rna['gene-id'].isin(htc_genes)]"
   ]
  },
  {
   "cell_type": "markdown",
   "metadata": {},
   "source": [
    "## Tests"
   ]
  },
  {
   "cell_type": "markdown",
   "metadata": {},
   "source": [
    "- Find **read alignments** mapping to a specific set of features"
   ]
  },
  {
   "cell_type": "code",
   "execution_count": 113,
   "metadata": {},
   "outputs": [],
   "source": [
    "# instantiate `GenomicArrayOfSets` for the `exons` features: (for `RNA` **stranded**)\n",
    "#test_features = HTSeq.GenomicArrayOfSets(\"auto\", stranded=True)\n",
    "test_features = HTSeq.GenomicArrayOfSets(\"auto\", stranded=False)\n",
    "\n",
    "genes_dict = {}\n",
    "\n",
    "## loop over all features in gtf file\n",
    "for feature in gtf_file:\n",
    "    \n",
    "    ## store all exons in our `GenomicArrayOfSets`\n",
    "    if feature.type == \"exon\":\n",
    "        \n",
    "        ## identify each `exon` feature by parent transcript/gene\n",
    "        gene_id = feature.attr[\"Parent\"].split(':')[1][:-2] ## get rid of '.1'\n",
    "        \n",
    "        if gene_id in htc_genes:\n",
    "\n",
    "            test_features[ feature.iv ] += gene_id\n",
    "\n",
    "            # Is this the first time we see this gene?\n",
    "            if gene_id not in genes_dict:\n",
    "                # If so, add to the 'genes_dict' an empty list \n",
    "                genes_dict[ gene_id ] = list()\n",
    "\n",
    "            # add the feature to the gene list\n",
    "            genes_dict[ gene_id ].append( feature )"
   ]
  },
  {
   "cell_type": "code",
   "execution_count": 114,
   "metadata": {},
   "outputs": [
    {
     "data": {
      "text/plain": [
       "{'dg1': [<GenomicFeature: exon 'gene:dg1' at I: 3764499 -> 3760998 (strand '-')>],\n",
       " 'dh1': [<GenomicFeature: exon 'gene:dh1' at I: 3756999 -> 3752998 (strand '-')>],\n",
       " 'after_tlh': [<GenomicFeature: exon 'gene:after_tlh' at II: 4538999 -> 4533998 (strand '-')>],\n",
       " 'MAT2': [<GenomicFeature: exon 'gene:MAT2' at II: 2132999 -> 2128998 (strand '-')>],\n",
       " 'MAT3': [<GenomicFeature: exon 'gene:MAT3' at II: 2136999 -> 2132998 (strand '-')>],\n",
       " 'MAT1': [<GenomicFeature: exon 'gene:MAT1' at II: 2115499 -> 2113998 (strand '-')>]}"
      ]
     },
     "execution_count": 114,
     "metadata": {},
     "output_type": "execute_result"
    }
   ],
   "source": [
    "genes_dict"
   ]
  },
  {
   "cell_type": "code",
   "execution_count": 115,
   "metadata": {},
   "outputs": [],
   "source": [
    "overlap_feature = genes_dict['MAT2'][0]"
   ]
  },
  {
   "cell_type": "code",
   "execution_count": 116,
   "metadata": {},
   "outputs": [],
   "source": [
    "#sample_name = '1113_pA'\n",
    "sample_name = '1168_pA'"
   ]
  },
  {
   "cell_type": "code",
   "execution_count": 117,
   "metadata": {},
   "outputs": [
    {
     "name": "stderr",
     "output_type": "stream",
     "text": [
      "100000 alignment records processed. 1.45521879196167 s\n",
      "200000 alignment records processed. 2.9313876628875732 s\n",
      "300000 alignment records processed. 4.411110877990723 s\n",
      "400000 alignment records processed. 5.869096279144287 s\n",
      "500000 alignment records processed. 7.261061906814575 s\n",
      "600000 alignment records processed. 8.715775966644287 s\n",
      "700000 alignment records processed. 10.164191246032715 s\n",
      "800000 alignment records processed. 11.5581636428833 s\n",
      "900000 alignment records processed. 13.015530586242676 s\n",
      "1000000 alignment records processed. 14.428688287734985 s\n",
      "1100000 alignment records processed. 15.822635650634766 s\n",
      "1200000 alignment records processed. 17.230992317199707 s\n",
      "1300000 alignment records processed. 18.653667211532593 s\n",
      "1400000 alignment records processed. 20.069377422332764 s\n",
      "1500000 alignment records processed. 21.5571928024292 s\n",
      "1600000 alignment records processed. 23.057801485061646 s\n",
      "1700000 alignment records processed. 24.540045738220215 s\n",
      "1800000 alignment records processed. 26.050745964050293 s\n",
      "1900000 alignment records processed. 27.51209855079651 s\n",
      "2000000 alignment records processed. 29.02902102470398 s\n",
      "2100000 alignment records processed. 30.548490047454834 s\n",
      "2200000 alignment records processed. 32.05630040168762 s\n",
      "2300000 alignment records processed. 33.54954385757446 s\n",
      "2400000 alignment records processed. 35.048887729644775 s\n",
      "2500000 alignment records processed. 36.497315406799316 s\n",
      "2600000 alignment records processed. 37.90671467781067 s\n",
      "2700000 alignment records processed. 39.29213500022888 s\n",
      "2800000 alignment records processed. 40.65205693244934 s\n",
      "2900000 alignment records processed. 42.0492639541626 s\n",
      "3000000 alignment records processed. 43.45267939567566 s\n",
      "3100000 alignment records processed. 44.879032135009766 s\n",
      "3200000 alignment records processed. 46.29083013534546 s\n",
      "3300000 alignment records processed. 47.697195053100586 s\n",
      "3400000 alignment records processed. 49.12601852416992 s\n",
      "3500000 alignment records processed. 50.54462218284607 s\n"
     ]
    },
    {
     "name": "stdout",
     "output_type": "stream",
     "text": [
      "Elapsed Time (Counting reads): 50.6607940196991\n"
     ]
    }
   ],
   "source": [
    "start_time = time.time()\n",
    "\n",
    "# select bam file: instantiate BAM_Reader Object (RNA-seq)\n",
    "bam_file = HTSeq.BAM_Reader(os.path.join('/gcm-lfs1/pablo/data/RNAdeg/data/RNA/bams', sample_name, sample_name + '.Aligned.sortedByCoord.out.bam'))\n",
    "\n",
    "## -------\n",
    "## Options\n",
    "## ------- \n",
    "\n",
    "i = 0\n",
    "\n",
    "reads = {}\n",
    "\n",
    "#for aln in itertools.islice(bam_file, 1600000, 1700000):\n",
    "for aln in bam_file:\n",
    "    \n",
    "    #import pdb\n",
    "    #pdb.set_trace()\n",
    "\n",
    "    if i > 0 and i % 100000 == 0:\n",
    "        sys.stderr.write(\"{} alignment records processed. {} s\\n\".format(i,  time.time() - start_time))\n",
    "        sys.stderr.flush()\n",
    "    i += 1\n",
    "                \n",
    "    ## ----------------------\n",
    "    ## Inspect read alignment\n",
    "    ## ----------------------\n",
    "    \n",
    "    ## invert strand - due to sequencing is strand is reversed!\n",
    "    iv_seq = (invert_strand(co.ref_iv) for co in aln.cigar if (co.type in com and co.size > 0))\n",
    "    #iv_seq = (co.ref_iv for co in aln.cigar if (co.type in com and co.size > 0))\n",
    "    \n",
    "    gene_ids = set()\n",
    "    gene_ids_reduced = set()\n",
    "    \n",
    "    alignment_fs = {}\n",
    "        \n",
    "    jj = 0\n",
    "    ## loop over CIGAR operations (cig_op) for aligned read \n",
    "    for iv in iv_seq:\n",
    "        \n",
    "        jj += 1\n",
    "\n",
    "        if (iv.chrom == overlap_feature.iv.chrom) and (iv.end >= overlap_feature.iv.start)  and (iv.start <= overlap_feature.iv.end):\n",
    "            \n",
    "            #if jj >1:\n",
    "            #    import pdb\n",
    "            #    pdb.set_trace()\n",
    "            \n",
    "            fs = set()\n",
    "                         \n",
    "            for iv2, fs2 in exon_features[ iv ].steps():\n",
    "                gene_ids = gene_ids.union(fs2)\n",
    "                #print(iv2, fs2)\n",
    "                \n",
    "            for iv2, fs2 in test_features[ iv ].steps():\n",
    "                gene_ids_reduced = gene_ids_reduced.union(fs2)\n",
    "                fs = fs.union(fs2)\n",
    "                #print(iv2, fs2)\n",
    "            \n",
    "            alignment_fs[jj] = fs\n",
    "\n",
    "    if len(alignment_fs) > 0:\n",
    "        \n",
    "        alignment_fs['gene_ids'] = gene_ids\n",
    "        alignment_fs['gene_ids_reduced'] = gene_ids_reduced\n",
    "        \n",
    "        alignment_fs['NH']= aln.optional_field(\"NH\")\n",
    "        alignment_fs['alignment'] = aln\n",
    "\n",
    "        read_name = aln.read.name\n",
    "        \n",
    "        #if read_name not in reads.keys():\n",
    "        assert read_name not in reads.keys()\n",
    "        #reads[read_name] = {}   \n",
    "        reads[read_name] = alignment_fs\n",
    "\n",
    "    #else:\n",
    "    #    ky = '-'.join(sorted(list(gene_ids_reduced)))\n",
    "\n",
    "    #    if ky not in multi_aligned_reads.keys():\n",
    "    #        multi_aligned_reads[ky] = {}\n",
    "    #    multi_aligned_reads[ky][aln.read.name] = aln\n",
    "\n",
    "\n",
    "print('Elapsed Time (Counting reads):', time.time() - start_time)"
   ]
  },
  {
   "cell_type": "code",
   "execution_count": 118,
   "metadata": {},
   "outputs": [
    {
     "data": {
      "text/plain": [
       "36"
      ]
     },
     "execution_count": 118,
     "metadata": {},
     "output_type": "execute_result"
    }
   ],
   "source": [
    "len(reads)"
   ]
  },
  {
   "cell_type": "code",
   "execution_count": 119,
   "metadata": {},
   "outputs": [
    {
     "data": {
      "text/plain": [
       "dict_keys(['L183:365:CBF20ANXX:6:2209:9784:51525:1:N:0:0:CAGGCG', 'L183:365:CBF20ANXX:6:2209:11731:8029:1:N:0:0:CAGGCG', 'L183:365:CBF20ANXX:6:1210:3334:51173:1:Y:0:0:CAGGCG', 'L183:365:CBF20ANXX:6:1307:7211:69628:1:N:0:0:CAGGCG', 'L183:365:CBF20ANXX:6:2110:4363:14087:1:N:0:0:CAGGCG', 'L183:365:CBF20ANXX:6:2108:20607:14348:1:N:0:0:CAGGCG', 'L183:365:CBF20ANXX:6:2301:5203:62810:1:N:0:0:CAGGCG', 'L183:365:CBF20ANXX:6:2209:3431:99503:1:N:0:0:CAGGCG', 'L183:365:CBF20ANXX:6:1305:13966:12841:1:N:0:0:CAGGCG', 'L183:365:CBF20ANXX:6:1113:5035:21196:1:N:0:0:CAGGCG', 'L183:365:CBF20ANXX:6:1206:8002:38821:1:N:0:0:CAGGCG', 'L183:365:CBF20ANXX:6:1204:18755:41536:1:N:0:0:CAGGCG', 'L183:365:CBF20ANXX:6:1316:4551:6124:1:N:0:0:CAGGCG', 'L183:365:CBF20ANXX:6:1201:18976:23791:1:N:0:0:CAGGCG', 'L183:365:CBF20ANXX:6:2303:6998:82477:1:N:0:0:CAGGCG', 'L183:365:CBF20ANXX:6:1302:16959:84250:1:N:0:0:CAGGCG', 'L183:365:CBF20ANXX:6:1107:9334:70256:1:N:0:0:CAGGCG', 'L183:365:CBF20ANXX:6:2207:13785:62947:1:N:0:0:CAGGCG', 'L183:365:CBF20ANXX:6:1210:3103:30312:1:N:0:0:CAGGCG', 'L183:365:CBF20ANXX:6:2104:18462:99232:1:N:0:0:CAGGCG', 'L183:365:CBF20ANXX:6:1201:18781:56417:1:N:0:0:CAGGCG', 'L183:365:CBF20ANXX:6:1102:19765:81623:1:N:0:0:CAGGCG', 'L183:365:CBF20ANXX:6:1110:19280:36437:1:N:0:0:CAGGCG', 'L183:365:CBF20ANXX:6:1111:12241:94710:1:N:0:0:CAGGCG', 'L183:365:CBF20ANXX:6:2315:11572:31571:1:N:0:0:CAGGCG', 'L183:365:CBF20ANXX:6:2308:18909:12227:1:N:0:0:CAGGCG', 'L183:365:CBF20ANXX:6:2310:15406:29888:1:N:0:0:CAGGCG', 'L183:365:CBF20ANXX:6:2315:12903:95324:1:N:0:0:CAGGCG', 'L183:365:CBF20ANXX:6:2205:8888:5036:1:N:0:0:CAGGCG', 'L183:365:CBF20ANXX:6:2306:12980:27363:1:N:0:0:CAGGCG', 'L183:365:CBF20ANXX:6:2108:5839:51369:1:N:0:0:CAGGCG', 'L183:365:CBF20ANXX:6:1309:13642:18793:1:N:0:0:CAGGCG', 'L183:365:CBF20ANXX:6:2216:7032:15866:1:N:0:0:CAGGCG', 'L183:365:CBF20ANXX:6:2202:11872:10564:1:N:0:0:CAGGCG', 'L183:365:CBF20ANXX:6:2213:18606:100846:1:N:0:0:CAGGCG', 'L183:365:CBF20ANXX:6:2102:10490:25392:1:N:0:0:CAGGCG'])"
      ]
     },
     "execution_count": 119,
     "metadata": {},
     "output_type": "execute_result"
    }
   ],
   "source": [
    "reads.keys()"
   ]
  },
  {
   "cell_type": "code",
   "execution_count": 120,
   "metadata": {},
   "outputs": [
    {
     "data": {
      "text/plain": [
       "{1: {'MAT2'},\n",
       " 'gene_ids': {'MAT2', 'SPNCRNA.389'},\n",
       " 'gene_ids_reduced': {'MAT2'},\n",
       " 'NH': 2,\n",
       " 'alignment': <SAM_Alignment object: Read 'L183:365:CBF20ANXX:6:2209:11731:8029:1:N:0:0:CAGGCG' aligned to II:[2129911,2129961)/->}"
      ]
     },
     "execution_count": 120,
     "metadata": {},
     "output_type": "execute_result"
    }
   ],
   "source": [
    "reads['L183:365:CBF20ANXX:6:2209:11731:8029:1:N:0:0:CAGGCG']"
   ]
  },
  {
   "cell_type": "code",
   "execution_count": 121,
   "metadata": {},
   "outputs": [
    {
     "name": "stdout",
     "output_type": "stream",
     "text": [
      "{2: {'MAT2'}, 'gene_ids': {'MAT2'}, 'gene_ids_reduced': {'MAT2'}, 'NH': 4, 'alignment': <SAM_Alignment object: Read 'L183:365:CBF20ANXX:6:2209:9784:51525:1:N:0:0:CAGGCG' aligned to II:[1104943,2131897)/+>}\n",
      "{1: {'MAT2'}, 'gene_ids': {'MAT2', 'SPNCRNA.389'}, 'gene_ids_reduced': {'MAT2'}, 'NH': 2, 'alignment': <SAM_Alignment object: Read 'L183:365:CBF20ANXX:6:2209:11731:8029:1:N:0:0:CAGGCG' aligned to II:[2129911,2129961)/->}\n",
      "{1: {'MAT2'}, 'gene_ids': {'MAT2', 'SPNCRNA.389'}, 'gene_ids_reduced': {'MAT2'}, 'NH': 2, 'alignment': <SAM_Alignment object: Read 'L183:365:CBF20ANXX:6:1210:3334:51173:1:Y:0:0:CAGGCG' aligned to II:[2129925,2129975)/->}\n",
      "{1: {'MAT2'}, 'gene_ids': {'MAT2', 'SPNCRNA.389'}, 'gene_ids_reduced': {'MAT2'}, 'NH': 2, 'alignment': <SAM_Alignment object: Read 'L183:365:CBF20ANXX:6:1307:7211:69628:1:N:0:0:CAGGCG' aligned to II:[2130452,2130502)/->}\n",
      "{1: {'MAT2'}, 'gene_ids': {'MAT2'}, 'gene_ids_reduced': {'MAT2'}, 'NH': 2, 'alignment': <SAM_Alignment object: Read 'L183:365:CBF20ANXX:6:2110:4363:14087:1:N:0:0:CAGGCG' aligned to II:[2131243,2131293)/->}\n",
      "{1: {'MAT2'}, 'gene_ids': {'MAT2'}, 'gene_ids_reduced': {'MAT2'}, 'NH': 2, 'alignment': <SAM_Alignment object: Read 'L183:365:CBF20ANXX:6:2108:20607:14348:1:N:0:0:CAGGCG' aligned to II:[2132467,2132517)/+>}\n",
      "{1: {'MAT2'}, 'gene_ids': {'MAT2'}, 'gene_ids_reduced': {'MAT2'}, 'NH': 2, 'alignment': <SAM_Alignment object: Read 'L183:365:CBF20ANXX:6:2301:5203:62810:1:N:0:0:CAGGCG' aligned to II:[2132468,2132518)/+>}\n",
      "{1: {'MAT2'}, 'gene_ids': {'MAT2'}, 'gene_ids_reduced': {'MAT2'}, 'NH': 2, 'alignment': <SAM_Alignment object: Read 'L183:365:CBF20ANXX:6:2209:3431:99503:1:N:0:0:CAGGCG' aligned to II:[2132511,2132561)/+>}\n",
      "{1: {'MAT2'}, 'gene_ids': {'MAT2', 'SPBC1711.01c'}, 'gene_ids_reduced': {'MAT2'}, 'NH': 2, 'alignment': <SAM_Alignment object: Read 'L183:365:CBF20ANXX:6:1305:13966:12841:1:N:0:0:CAGGCG' aligned to II:[2132548,2132598)/+>}\n",
      "{1: {'MAT2'}, 'gene_ids': {'MAT2', 'SPBC1711.01c'}, 'gene_ids_reduced': {'MAT2'}, 'NH': 2, 'alignment': <SAM_Alignment object: Read 'L183:365:CBF20ANXX:6:1113:5035:21196:1:N:0:0:CAGGCG' aligned to II:[2132549,2132598)/+>}\n",
      "{1: {'MAT2'}, 'gene_ids': {'MAT2', 'SPBC1711.01c'}, 'gene_ids_reduced': {'MAT2'}, 'NH': 2, 'alignment': <SAM_Alignment object: Read 'L183:365:CBF20ANXX:6:1206:8002:38821:1:N:0:0:CAGGCG' aligned to II:[2132554,2132601)/+>}\n",
      "{1: {'MAT2'}, 'gene_ids': {'MAT2', 'SPBC1711.01c'}, 'gene_ids_reduced': {'MAT2'}, 'NH': 2, 'alignment': <SAM_Alignment object: Read 'L183:365:CBF20ANXX:6:1204:18755:41536:1:N:0:0:CAGGCG' aligned to II:[2132554,2132604)/+>}\n",
      "{1: {'MAT2'}, 'gene_ids': {'MAT2', 'SPBC1711.01c'}, 'gene_ids_reduced': {'MAT2'}, 'NH': 2, 'alignment': <SAM_Alignment object: Read 'L183:365:CBF20ANXX:6:1316:4551:6124:1:N:0:0:CAGGCG' aligned to II:[2132555,2132601)/+>}\n",
      "{1: {'MAT2'}, 'gene_ids': {'MAT2', 'SPBC1711.01c'}, 'gene_ids_reduced': {'MAT2'}, 'NH': 2, 'alignment': <SAM_Alignment object: Read 'L183:365:CBF20ANXX:6:1201:18976:23791:1:N:0:0:CAGGCG' aligned to II:[2132555,2132601)/+>}\n",
      "{1: {'MAT2'}, 'gene_ids': {'MAT2', 'SPBC1711.01c'}, 'gene_ids_reduced': {'MAT2'}, 'NH': 2, 'alignment': <SAM_Alignment object: Read 'L183:365:CBF20ANXX:6:2303:6998:82477:1:N:0:0:CAGGCG' aligned to II:[2132557,2132607)/+>}\n",
      "{1: {'MAT2'}, 'gene_ids': {'MAT2', 'SPBC1711.01c'}, 'gene_ids_reduced': {'MAT2'}, 'NH': 2, 'alignment': <SAM_Alignment object: Read 'L183:365:CBF20ANXX:6:1302:16959:84250:1:N:0:0:CAGGCG' aligned to II:[2132558,2132606)/+>}\n",
      "{1: {'MAT2'}, 'gene_ids': {'MAT2', 'SPBC1711.01c'}, 'gene_ids_reduced': {'MAT2'}, 'NH': 2, 'alignment': <SAM_Alignment object: Read 'L183:365:CBF20ANXX:6:1107:9334:70256:1:N:0:0:CAGGCG' aligned to II:[2132558,2132606)/+>}\n",
      "{1: {'MAT2'}, 'gene_ids': {'MAT2', 'SPBC1711.01c'}, 'gene_ids_reduced': {'MAT2'}, 'NH': 2, 'alignment': <SAM_Alignment object: Read 'L183:365:CBF20ANXX:6:2207:13785:62947:1:N:0:0:CAGGCG' aligned to II:[2132569,2132606)/+>}\n",
      "{1: {'MAT2'}, 'gene_ids': {'MAT2', 'SPBC1711.01c'}, 'gene_ids_reduced': {'MAT2'}, 'NH': 2, 'alignment': <SAM_Alignment object: Read 'L183:365:CBF20ANXX:6:1210:3103:30312:1:N:0:0:CAGGCG' aligned to II:[2132569,2132606)/+>}\n",
      "{1: {'MAT2'}, 'gene_ids': {'SPBC1711.02', 'MAT2'}, 'gene_ids_reduced': {'MAT2'}, 'NH': 2, 'alignment': <SAM_Alignment object: Read 'L183:365:CBF20ANXX:6:2104:18462:99232:1:N:0:0:CAGGCG' aligned to II:[2132922,2132972)/->}\n",
      "{1: {'MAT2'}, 'gene_ids': {'SPBC1711.02', 'MAT2'}, 'gene_ids_reduced': {'MAT2'}, 'NH': 2, 'alignment': <SAM_Alignment object: Read 'L183:365:CBF20ANXX:6:1201:18781:56417:1:N:0:0:CAGGCG' aligned to II:[2132940,2132990)/->}\n",
      "{1: {'MAT2'}, 'gene_ids': {'SPBC1711.02', 'MAT2'}, 'gene_ids_reduced': {'MAT2'}, 'NH': 2, 'alignment': <SAM_Alignment object: Read 'L183:365:CBF20ANXX:6:1102:19765:81623:1:N:0:0:CAGGCG' aligned to II:[2132942,2132992)/->}\n",
      "{1: {'MAT3', 'MAT2'}, 'gene_ids': {'SPBC1711.02', 'MAT3', 'MAT2'}, 'gene_ids_reduced': {'MAT3', 'MAT2'}, 'NH': 2, 'alignment': <SAM_Alignment object: Read 'L183:365:CBF20ANXX:6:1110:19280:36437:1:N:0:0:CAGGCG' aligned to II:[2132954,2133003)/->}\n",
      "{1: {'MAT3', 'MAT2'}, 'gene_ids': {'SPBC1711.02', 'MAT3', 'MAT2'}, 'gene_ids_reduced': {'MAT3', 'MAT2'}, 'NH': 2, 'alignment': <SAM_Alignment object: Read 'L183:365:CBF20ANXX:6:1111:12241:94710:1:N:0:0:CAGGCG' aligned to II:[2132954,2133004)/->}\n",
      "{1: {'MAT3', 'MAT2'}, 'gene_ids': {'SPBC1711.02', 'MAT3', 'MAT2'}, 'gene_ids_reduced': {'MAT3', 'MAT2'}, 'NH': 2, 'alignment': <SAM_Alignment object: Read 'L183:365:CBF20ANXX:6:2315:11572:31571:1:N:0:0:CAGGCG' aligned to II:[2132958,2133008)/->}\n",
      "{1: {'MAT3', 'MAT2'}, 'gene_ids': {'SPBC1711.02', 'MAT3', 'MAT2'}, 'gene_ids_reduced': {'MAT3', 'MAT2'}, 'NH': 2, 'alignment': <SAM_Alignment object: Read 'L183:365:CBF20ANXX:6:2308:18909:12227:1:N:0:0:CAGGCG' aligned to II:[2132962,2133011)/->}\n",
      "{1: {'MAT3', 'MAT2'}, 'gene_ids': {'SPBC1711.02', 'MAT3', 'MAT2'}, 'gene_ids_reduced': {'MAT3', 'MAT2'}, 'NH': 2, 'alignment': <SAM_Alignment object: Read 'L183:365:CBF20ANXX:6:2310:15406:29888:1:N:0:0:CAGGCG' aligned to II:[2132962,2133012)/->}\n",
      "{1: {'MAT3', 'MAT2'}, 'gene_ids': {'SPBC1711.02', 'MAT3', 'MAT2'}, 'gene_ids_reduced': {'MAT3', 'MAT2'}, 'NH': 2, 'alignment': <SAM_Alignment object: Read 'L183:365:CBF20ANXX:6:2315:12903:95324:1:N:0:0:CAGGCG' aligned to II:[2132965,2133015)/->}\n",
      "{1: {'MAT3', 'MAT2'}, 'gene_ids': {'SPBC1711.02', 'MAT3', 'MAT2'}, 'gene_ids_reduced': {'MAT3', 'MAT2'}, 'NH': 2, 'alignment': <SAM_Alignment object: Read 'L183:365:CBF20ANXX:6:2205:8888:5036:1:N:0:0:CAGGCG' aligned to II:[2132968,2133018)/->}\n",
      "{1: {'MAT3', 'MAT2'}, 'gene_ids': {'SPBC1711.02', 'MAT3', 'MAT2'}, 'gene_ids_reduced': {'MAT3', 'MAT2'}, 'NH': 2, 'alignment': <SAM_Alignment object: Read 'L183:365:CBF20ANXX:6:2306:12980:27363:1:N:0:0:CAGGCG' aligned to II:[2132968,2133018)/->}\n",
      "{1: {'MAT3', 'MAT2'}, 'gene_ids': {'SPBC1711.02', 'MAT3', 'MAT2'}, 'gene_ids_reduced': {'MAT3', 'MAT2'}, 'NH': 2, 'alignment': <SAM_Alignment object: Read 'L183:365:CBF20ANXX:6:2108:5839:51369:1:N:0:0:CAGGCG' aligned to II:[2132969,2133019)/->}\n",
      "{1: {'MAT3', 'MAT2'}, 'gene_ids': {'SPBC1711.02', 'MAT3', 'MAT2'}, 'gene_ids_reduced': {'MAT3', 'MAT2'}, 'NH': 2, 'alignment': <SAM_Alignment object: Read 'L183:365:CBF20ANXX:6:1309:13642:18793:1:N:0:0:CAGGCG' aligned to II:[2132969,2133019)/->}\n",
      "{1: {'MAT3', 'MAT2'}, 'gene_ids': {'SPBC1711.02', 'MAT3', 'MAT2'}, 'gene_ids_reduced': {'MAT3', 'MAT2'}, 'NH': 2, 'alignment': <SAM_Alignment object: Read 'L183:365:CBF20ANXX:6:2216:7032:15866:1:N:0:0:CAGGCG' aligned to II:[2132973,2133023)/->}\n",
      "{1: {'MAT3', 'MAT2'}, 'gene_ids': {'SPBC1711.02', 'MAT3', 'MAT2'}, 'gene_ids_reduced': {'MAT3', 'MAT2'}, 'NH': 2, 'alignment': <SAM_Alignment object: Read 'L183:365:CBF20ANXX:6:2202:11872:10564:1:N:0:0:CAGGCG' aligned to II:[2132973,2133023)/->}\n",
      "{1: {'MAT3', 'MAT2'}, 'gene_ids': {'SPBC1711.02', 'MAT3', 'MAT2'}, 'gene_ids_reduced': {'MAT3', 'MAT2'}, 'NH': 2, 'alignment': <SAM_Alignment object: Read 'L183:365:CBF20ANXX:6:2213:18606:100846:1:N:0:0:CAGGCG' aligned to II:[2132974,2133023)/->}\n",
      "{1: {'MAT3', 'MAT2'}, 'gene_ids': {'SPBC1711.02', 'MAT3', 'MAT2'}, 'gene_ids_reduced': {'MAT3', 'MAT2'}, 'NH': 2, 'alignment': <SAM_Alignment object: Read 'L183:365:CBF20ANXX:6:2102:10490:25392:1:N:0:0:CAGGCG' aligned to II:[2132987,2133037)/->}\n"
     ]
    }
   ],
   "source": [
    "for ii, vv in reads.items():\n",
    "    print(vv)"
   ]
  },
  {
   "cell_type": "code",
   "execution_count": 122,
   "metadata": {},
   "outputs": [
    {
     "name": "stdout",
     "output_type": "stream",
     "text": [
      "II:[2132954,2132999)/. {'SPBC1711.02', 'MAT2'}\n",
      "II:[2132999,2133000)/. {'SPBC1711.02', 'MAT3', 'MAT2'}\n",
      "II:[2133000,2133003)/. {'SPBC1711.02', 'MAT3'}\n",
      "{'SPBC1711.02', 'MAT3', 'MAT2'}\n"
     ]
    }
   ],
   "source": [
    "gene_ids = None\n",
    "\n",
    "for iv, fs in exon_features[reads['L183:365:CBF20ANXX:6:1110:19280:36437:1:N:0:0:CAGGCG']['alignment'].iv].steps():\n",
    "    print(iv, fs)\n",
    "\n",
    "    if ((len(fs) > 0) or (overlap_mode == \"intersection-strict\")):\n",
    "        if gene_ids is None:\n",
    "            gene_ids = fs.copy()\n",
    "        else:\n",
    "            gene_ids = gene_ids.union(fs)\n",
    "\n",
    "print(gene_ids)"
   ]
  },
  {
   "cell_type": "code",
   "execution_count": 126,
   "metadata": {},
   "outputs": [
    {
     "name": "stderr",
     "output_type": "stream",
     "text": [
      "100000 alignment records processed. 268.18972301483154 s\n",
      "200000 alignment records processed. 269.1396098136902 s\n",
      "300000 alignment records processed. 270.1076776981354 s\n",
      "400000 alignment records processed. 271.0638234615326 s\n",
      "500000 alignment records processed. 272.05218982696533 s\n",
      "600000 alignment records processed. 273.02886414527893 s\n",
      "700000 alignment records processed. 274.006733417511 s\n",
      "800000 alignment records processed. 274.9754321575165 s\n",
      "900000 alignment records processed. 275.946084022522 s\n",
      "1000000 alignment records processed. 276.92605328559875 s\n",
      "1100000 alignment records processed. 277.9127058982849 s\n",
      "1200000 alignment records processed. 278.8938512802124 s\n",
      "1300000 alignment records processed. 279.88550305366516 s\n",
      "1400000 alignment records processed. 280.84897661209106 s\n",
      "1500000 alignment records processed. 281.8468029499054 s\n",
      "1600000 alignment records processed. 282.8613679409027 s\n",
      "1700000 alignment records processed. 283.8855996131897 s\n",
      "1800000 alignment records processed. 284.90057158470154 s\n",
      "1900000 alignment records processed. 285.8965382575989 s\n",
      "2000000 alignment records processed. 286.90704226493835 s\n",
      "2100000 alignment records processed. 287.9240925312042 s\n",
      "2200000 alignment records processed. 288.91779041290283 s\n",
      "2300000 alignment records processed. 289.9263114929199 s\n",
      "2400000 alignment records processed. 290.9412772655487 s\n",
      "2500000 alignment records processed. 291.9488093852997 s\n",
      "2600000 alignment records processed. 292.94491362571716 s\n",
      "2700000 alignment records processed. 293.9489686489105 s\n",
      "2800000 alignment records processed. 294.93218541145325 s\n",
      "2900000 alignment records processed. 295.93976068496704 s\n",
      "3000000 alignment records processed. 296.9364709854126 s\n",
      "3100000 alignment records processed. 297.9382109642029 s\n",
      "3200000 alignment records processed. 298.95654678344727 s\n",
      "3300000 alignment records processed. 299.96472215652466 s\n",
      "3400000 alignment records processed. 300.96124505996704 s\n",
      "3500000 alignment records processed. 301.9809923171997 s\n"
     ]
    },
    {
     "name": "stdout",
     "output_type": "stream",
     "text": [
      "Elapsed Time (parsing reads): 302.0639624595642\n"
     ]
    }
   ],
   "source": [
    "nh = []\n",
    "\n",
    "start_time = time.time()\n",
    "i = 0\n",
    "#for aln in itertools.islice(bam_file, 10000):\n",
    "for aln in bam_file:\n",
    "\n",
    "    if i > 0 and i % 100000 == 0:\n",
    "        sys.stderr.write(\"{} alignment records processed. {} s\\n\".format(i,  time.time() - start_time))\n",
    "        sys.stderr.flush()\n",
    "    i += 1          \n",
    "        \n",
    "    ## Multimapped reads are contained as separate entries in the BAM file.\n",
    "    nh.append( aln.optional_field(\"NH\") )\n",
    "\n",
    "print('Elapsed Time (parsing reads):', time.time() - start_time)"
   ]
  },
  {
   "cell_type": "code",
   "execution_count": 128,
   "metadata": {},
   "outputs": [],
   "source": [
    "import matplotlib.pyplot as plt"
   ]
  },
  {
   "cell_type": "code",
   "execution_count": 129,
   "metadata": {},
   "outputs": [
    {
     "data": {
      "text/plain": [
       "(array([2.863813e+06, 8.456400e+04, 4.350300e+05, 5.664400e+04,\n",
       "        5.836000e+04, 4.026000e+03, 1.484000e+03, 1.384000e+03,\n",
       "        9.810000e+02, 1.490000e+03]),\n",
       " array([ 1. ,  1.9,  2.8,  3.7,  4.6,  5.5,  6.4,  7.3,  8.2,  9.1, 10. ]),\n",
       " <a list of 10 Patch objects>)"
      ]
     },
     "execution_count": 129,
     "metadata": {},
     "output_type": "execute_result"
    },
    {
     "data": {
      "image/png": "[encoded data removed]",
      "text/plain": [
       "<Figure size 432x288 with 1 Axes>"
      ]
     },
     "metadata": {
      "needs_background": "light"
     },
     "output_type": "display_data"
    }
   ],
   "source": [
    "plt.hist(nh)"
   ]
  },
  {
   "cell_type": "code",
   "execution_count": 130,
   "metadata": {},
   "outputs": [
    {
     "name": "stdout",
     "output_type": "stream",
     "text": [
      "Min: 1 Max: 10\n"
     ]
    }
   ],
   "source": [
    "print('Min:', min(nh), 'Max:', max(nh))"
   ]
  },
  {
   "cell_type": "code",
   "execution_count": null,
   "metadata": {},
   "outputs": [],
   "source": []
  }
 ],
 "metadata": {
  "kernelspec": {
   "display_name": "Python (heterochromatin)",
   "language": "python",
   "name": "heterochromatin"
  },
  "language_info": {
   "codemirror_mode": {
    "name": "ipython",
    "version": 3
   },
   "file_extension": ".py",
   "mimetype": "text/x-python",
   "name": "python",
   "nbconvert_exporter": "python",
   "pygments_lexer": "ipython3",
   "version": "3.6.7"
  }
 },
 "nbformat": 4,
 "nbformat_minor": 2
}
