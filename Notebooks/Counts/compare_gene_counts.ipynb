{
 "cells": [
  {
   "cell_type": "code",
   "execution_count": 1,
   "metadata": {},
   "outputs": [],
   "source": [
    "import itertools\n",
    "import time\n",
    "import os\n",
    "import sys"
   ]
  },
  {
   "cell_type": "code",
   "execution_count": 2,
   "metadata": {},
   "outputs": [],
   "source": [
    "import HTSeq\n",
    "import pandas as pd"
   ]
  },
  {
   "cell_type": "code",
   "execution_count": 3,
   "metadata": {},
   "outputs": [],
   "source": [
    "import matplotlib.pyplot as plt"
   ]
  },
  {
   "cell_type": "code",
   "execution_count": 4,
   "metadata": {},
   "outputs": [],
   "source": [
    "import collections"
   ]
  },
  {
   "cell_type": "markdown",
   "metadata": {},
   "source": [
    "---"
   ]
  },
  {
   "cell_type": "markdown",
   "metadata": {},
   "source": [
    "## Config"
   ]
  },
  {
   "cell_type": "code",
   "execution_count": 5,
   "metadata": {},
   "outputs": [],
   "source": [
    "#project_data_dir = '/data/pablo/RNAdeg'\n",
    "project_data_dir = '/gcm-lfs1/pablo/data/RNAdeg'"
   ]
  },
  {
   "cell_type": "code",
   "execution_count": 6,
   "metadata": {},
   "outputs": [],
   "source": [
    "project_dir = '/home/pmonteagudo/workspace/RNAdeg'"
   ]
  },
  {
   "cell_type": "code",
   "execution_count": 7,
   "metadata": {},
   "outputs": [],
   "source": [
    "scripts_dir = os.path.join(project_dir, 'pyRNAdeg')\n",
    "if scripts_dir not in sys.path: \n",
    "    sys.path.append(scripts_dir)\n",
    "\n",
    "from Util import to_log2_tpm"
   ]
  },
  {
   "cell_type": "code",
   "execution_count": 8,
   "metadata": {},
   "outputs": [],
   "source": [
    "## heterochromatic genes - old\n",
    "#old_htc_genes = ('dg1', 'dh1', 'after_tlh', 'MAT2', 'MAT3', 'MAT1')\n",
    "#new_htc_genes = ('SPAC212.11', 'SPAC212.10')\n",
    "## heterochromatic genes - old\n",
    "htc_genes_dict = {'dg1a': 'dg1', 'dg1b': 'dg1', \n",
    "                  'dh1a':'dh1', 'dh1b':'dh1',\n",
    "                  'SPAC212.11b':'SPAC212.11', ## tlh1\n",
    "                  'SPAC212.10b':'SPAC212.10'}\n",
    "# htc_genes_dict = {'dg1': ['dg1a', 'dg1b'],\n",
    "#                   'dh1':['dh1a', 'dh1b'], \n",
    "#                   'SPAC212.11': ['SPAC212.11a', 'SPAC212.11b'],\n",
    "#                   'SPAC212.10': ['SPAC212.10a', 'SPAC212.10b']}"
   ]
  },
  {
   "cell_type": "markdown",
   "metadata": {},
   "source": [
    "---"
   ]
  },
  {
   "cell_type": "code",
   "execution_count": 9,
   "metadata": {},
   "outputs": [],
   "source": [
    "def load_gene_counts(gene_counts_file, index_col='gene_id', gdf='pombase', as_int=True, sample_ids=None):\n",
    "    \n",
    "    not_int_cols = [index_col, 'gene_name', 'seqid', 'type', 'strand', 'Name', 'category']\n",
    "    #not_int_cols = ['gene_id', 'gene_name', 'chr', 'type', 'category', 'bio_type']\n",
    "    not_int_cols.extend([index_col, 'gene-name', 'chr', 'type', 'category', 'bio_type'])\n",
    "\n",
    "    if gdf == 'pombase':\n",
    "        rename_cols= {}\n",
    "        \n",
    "    elif gdf == 'parastou':\n",
    "        rename_cols = {'gene-id':'gene_id'}\n",
    "    \n",
    "    ## create list with everythingn but 'sample_ids'\n",
    "    gdf_cols = ['start', 'end', 'cds_length', 'utr_length', 'gene_length']\n",
    "    #gdf_cols = ['start', 'end', 'length']\n",
    "    \n",
    "    ## create list with everythingn but 'sample_ids'\n",
    "    gdf_cols.extend(['length'])\n",
    "        \n",
    "    gdf_cols.extend(not_int_cols)\n",
    "    \n",
    "    ## Import Gene Counts DataFrame\n",
    "    counts_df = pd.read_csv(gene_counts_file, sep='\\t')\n",
    "    \n",
    "    ## Select only 'gene_id' and `sample count`s columns\n",
    "    counts_df = counts_df[[ii for ii in counts_df.columns if (ii not in gdf_cols or ii == index_col)]]\n",
    "\n",
    "    ## Careful! - convert NaNs to zeros: means there was no count for that feature!\n",
    "    counts_df = counts_df.fillna(0)\n",
    "    \n",
    "    #import pdb\n",
    "    #pdb.set_trace()\n",
    "    if as_int:\n",
    "        ## Convert necessary columns to int type\n",
    "        counts_df = counts_df.astype({ky:'int64' for ky in counts_df.columns if (ky not in not_int_cols)})\n",
    "\n",
    "    ## rename columns\n",
    "    counts_df = counts_df.rename(columns=rename_cols)\n",
    "    \n",
    "    if not isinstance(sample_ids, type(None)):\n",
    "        \n",
    "        ## Select samples that were computed by me and intersect with Parastous\n",
    "        counts_df = counts_df[ [ii for ii in counts_df.columns if (ii in sample_ids or ii == 'gene_id')] ]\n",
    "    \n",
    "    return counts_df.sort_values('gene_id')\n",
    "                                                                   "
   ]
  },
  {
   "cell_type": "markdown",
   "metadata": {},
   "source": [
    "# Comparison Gene Counts:  **RNA-Seq data**"
   ]
  },
  {
   "cell_type": "code",
   "execution_count": 10,
   "metadata": {},
   "outputs": [],
   "source": [
    "params_dict = {## sequencing type: ['rna', 'chip' ]\n",
    "               'seq_type': 'rna',\n",
    "               #'seq_type': 'chip',\n",
    "               ## gene expression matrix: ['gene_count', 'tpm'] \n",
    "               #'expression': 'gene_count',\n",
    "               'expression': 'tpm',\n",
    "               ## batch with corresponding parameters\n",
    "               'batch': 'xp_data',  ## stranded=True, remove duplicate reads mapping to same gene, count only multimapped if repeat\n",
    "               #'batch': 'xp_data_by_gene_unstranded'  ## stranded=False, remove duplicate reads mapping to same gene, count only multimapped if repeat\n",
    "              }"
   ]
  },
  {
   "cell_type": "markdown",
   "metadata": {},
   "source": [
    "### A. Results using **my counting scripts** (`htseq`)"
   ]
  },
  {
   "cell_type": "markdown",
   "metadata": {},
   "source": [
    "- **RNA**"
   ]
  },
  {
   "cell_type": "code",
   "execution_count": 11,
   "metadata": {},
   "outputs": [],
   "source": [
    "#xp_data_dir = os.path.join(project_dir, 'results/RNA/xp_data')  ## stranded=True, remove duplicate reads mapping to same gene, count only multimapped if repeat\n",
    "#xp_data_dir = os.path.join(project_dir, 'results/RNA/xp_data_by_gene_unstranded') ## stranded=False, remove duplicate reads mapping to same gene, count only multimapped if repeat\n",
    "#xp_data_dir = os.path.join(project_dir, 'results/RNA/xp_data_parastou') ## using parastous counting script"
   ]
  },
  {
   "cell_type": "code",
   "execution_count": 12,
   "metadata": {},
   "outputs": [],
   "source": [
    "## a read can map more than once to the same repeat (fix above)\n",
    "#counts_file = os.path.join(xp_data_dir, 'rna_pombe_gene_count_matrix.csv')\n",
    "#counts_file = os.path.join(xp_data_dir, 'rna_pombe_tpm_matrix.csv')"
   ]
  },
  {
   "cell_type": "markdown",
   "metadata": {},
   "source": [
    "- **ChIP**"
   ]
  },
  {
   "cell_type": "code",
   "execution_count": 13,
   "metadata": {},
   "outputs": [],
   "source": [
    "#xp_data_dir = os.path.join(project_dir, 'results/ChIP/xp_data')  ## stranded=False, remove duplicate reads mapping to same gene, count only multimapped if repeat"
   ]
  },
  {
   "cell_type": "code",
   "execution_count": 14,
   "metadata": {},
   "outputs": [],
   "source": [
    "## unique reads: remove duplicate reads mapping to same gene \n",
    "#counts_file = os.path.join(xp_data_dir, 'chip_pombe_gene_count_matrix.csv')\n",
    "#counts_file = os.path.join(xp_data_dir, 'chip_pombe_tpm_matrix.csv')"
   ]
  },
  {
   "cell_type": "markdown",
   "metadata": {},
   "source": [
    "- Import **gene expresion Matrix**: `*_pombe_tpm_matrix.csv`"
   ]
  },
  {
   "cell_type": "code",
   "execution_count": 15,
   "metadata": {},
   "outputs": [],
   "source": [
    "if params_dict['seq_type'] == 'rna':\n",
    "    xp_data_dir = os.path.join(project_dir, 'results/RNA', params_dict['batch'])  ## stranded=True, remove duplicate reads mapping to same gene, count only multimapped if repeat\n",
    "else:\n",
    "    xp_data_dir = os.path.join(project_dir, 'results/ChIP', params_dict['batch'])  ## stranded=False, remove duplicate reads mapping to same gene, count only multimapped if repeat"
   ]
  },
  {
   "cell_type": "code",
   "execution_count": 16,
   "metadata": {},
   "outputs": [
    {
     "data": {
      "text/plain": [
       "'/home/pmonteagudo/workspace/RNAdeg/results/RNA/xp_data/rna_pombe_tpm_matrix.csv'"
      ]
     },
     "execution_count": 16,
     "metadata": {},
     "output_type": "execute_result"
    }
   ],
   "source": [
    "counts_file = os.path.join(xp_data_dir, params_dict['seq_type'] + '_pombe_' + params_dict['expression'] + '_matrix.csv')\n",
    "counts_file"
   ]
  },
  {
   "cell_type": "code",
   "execution_count": 17,
   "metadata": {},
   "outputs": [
    {
     "data": {
      "text/html": [
       "<div>\n",
       "<style scoped>\n",
       "    .dataframe tbody tr th:only-of-type {\n",
       "        vertical-align: middle;\n",
       "    }\n",
       "\n",
       "    .dataframe tbody tr th {\n",
       "        vertical-align: top;\n",
       "    }\n",
       "\n",
       "    .dataframe thead th {\n",
       "        text-align: right;\n",
       "    }\n",
       "</style>\n",
       "<table border=\"1\" class=\"dataframe\">\n",
       "  <thead>\n",
       "    <tr style=\"text-align: right;\">\n",
       "      <th></th>\n",
       "      <th>gene_id</th>\n",
       "      <th>1168_pA_2</th>\n",
       "      <th>1168_pA</th>\n",
       "      <th>1168_S2RIP_2</th>\n",
       "      <th>1168_S2RIP</th>\n",
       "      <th>283_RNA_pA_4</th>\n",
       "      <th>301_RNA_pA_2</th>\n",
       "      <th>301_RNA_pA_3</th>\n",
       "      <th>301_RNA_pA</th>\n",
       "      <th>301_S2RIP_2</th>\n",
       "      <th>...</th>\n",
       "      <th>63_RNA_pA_4</th>\n",
       "      <th>63_RNA_pA</th>\n",
       "      <th>63_S2PRIP</th>\n",
       "      <th>63_S2RIP_2</th>\n",
       "      <th>65_RNA_pA</th>\n",
       "      <th>80pARNA_2</th>\n",
       "      <th>80_RNA_pA</th>\n",
       "      <th>80S2RIP_1</th>\n",
       "      <th>80S2RIP_2</th>\n",
       "      <th>80_S2RIP</th>\n",
       "    </tr>\n",
       "  </thead>\n",
       "  <tbody>\n",
       "    <tr>\n",
       "      <th>0</th>\n",
       "      <td>MAT1</td>\n",
       "      <td>11.381057</td>\n",
       "      <td>7.814922</td>\n",
       "      <td>10.805414</td>\n",
       "      <td>12.630129</td>\n",
       "      <td>7.620925</td>\n",
       "      <td>11.598520</td>\n",
       "      <td>5.145428</td>\n",
       "      <td>3.110889</td>\n",
       "      <td>10.707561</td>\n",
       "      <td>...</td>\n",
       "      <td>4.500308</td>\n",
       "      <td>2.915721</td>\n",
       "      <td>5.331106</td>\n",
       "      <td>1.598258</td>\n",
       "      <td>4.452123</td>\n",
       "      <td>3.814986</td>\n",
       "      <td>3.885067</td>\n",
       "      <td>5.923055</td>\n",
       "      <td>7.324734</td>\n",
       "      <td>12.442899</td>\n",
       "    </tr>\n",
       "    <tr>\n",
       "      <th>1</th>\n",
       "      <td>MAT2</td>\n",
       "      <td>1.171111</td>\n",
       "      <td>0.855113</td>\n",
       "      <td>6.080577</td>\n",
       "      <td>8.528888</td>\n",
       "      <td>1.388083</td>\n",
       "      <td>2.285509</td>\n",
       "      <td>0.767484</td>\n",
       "      <td>0.561922</td>\n",
       "      <td>5.623811</td>\n",
       "      <td>...</td>\n",
       "      <td>0.726618</td>\n",
       "      <td>0.528066</td>\n",
       "      <td>1.571427</td>\n",
       "      <td>0.399731</td>\n",
       "      <td>0.692539</td>\n",
       "      <td>0.882583</td>\n",
       "      <td>0.546565</td>\n",
       "      <td>3.434110</td>\n",
       "      <td>5.692119</td>\n",
       "      <td>2.534074</td>\n",
       "    </tr>\n",
       "    <tr>\n",
       "      <th>2</th>\n",
       "      <td>MAT3</td>\n",
       "      <td>0.634352</td>\n",
       "      <td>0.610795</td>\n",
       "      <td>3.715908</td>\n",
       "      <td>0.000000</td>\n",
       "      <td>0.683683</td>\n",
       "      <td>1.911916</td>\n",
       "      <td>1.023312</td>\n",
       "      <td>0.216124</td>\n",
       "      <td>7.364515</td>\n",
       "      <td>...</td>\n",
       "      <td>0.363309</td>\n",
       "      <td>0.132016</td>\n",
       "      <td>2.714283</td>\n",
       "      <td>0.999327</td>\n",
       "      <td>0.875858</td>\n",
       "      <td>1.765166</td>\n",
       "      <td>0.273283</td>\n",
       "      <td>2.626084</td>\n",
       "      <td>3.533039</td>\n",
       "      <td>3.067563</td>\n",
       "    </tr>\n",
       "    <tr>\n",
       "      <th>3</th>\n",
       "      <td>SPAC1002.01</td>\n",
       "      <td>39.589095</td>\n",
       "      <td>24.437913</td>\n",
       "      <td>25.029207</td>\n",
       "      <td>0.000000</td>\n",
       "      <td>19.034314</td>\n",
       "      <td>12.049140</td>\n",
       "      <td>11.889934</td>\n",
       "      <td>5.124219</td>\n",
       "      <td>32.739360</td>\n",
       "      <td>...</td>\n",
       "      <td>13.300910</td>\n",
       "      <td>23.056262</td>\n",
       "      <td>35.458556</td>\n",
       "      <td>17.770263</td>\n",
       "      <td>19.468385</td>\n",
       "      <td>10.780985</td>\n",
       "      <td>18.223391</td>\n",
       "      <td>17.960619</td>\n",
       "      <td>37.811515</td>\n",
       "      <td>51.385882</td>\n",
       "    </tr>\n",
       "    <tr>\n",
       "      <th>4</th>\n",
       "      <td>SPAC1002.02</td>\n",
       "      <td>149.816947</td>\n",
       "      <td>85.643443</td>\n",
       "      <td>53.763644</td>\n",
       "      <td>105.639431</td>\n",
       "      <td>63.024153</td>\n",
       "      <td>37.454949</td>\n",
       "      <td>46.010437</td>\n",
       "      <td>39.012178</td>\n",
       "      <td>52.332622</td>\n",
       "      <td>...</td>\n",
       "      <td>44.345934</td>\n",
       "      <td>127.281203</td>\n",
       "      <td>98.427593</td>\n",
       "      <td>37.849051</td>\n",
       "      <td>111.122855</td>\n",
       "      <td>40.558844</td>\n",
       "      <td>64.965564</td>\n",
       "      <td>44.765892</td>\n",
       "      <td>45.869418</td>\n",
       "      <td>73.621651</td>\n",
       "    </tr>\n",
       "    <tr>\n",
       "      <th>...</th>\n",
       "      <td>...</td>\n",
       "      <td>...</td>\n",
       "      <td>...</td>\n",
       "      <td>...</td>\n",
       "      <td>...</td>\n",
       "      <td>...</td>\n",
       "      <td>...</td>\n",
       "      <td>...</td>\n",
       "      <td>...</td>\n",
       "      <td>...</td>\n",
       "      <td>...</td>\n",
       "      <td>...</td>\n",
       "      <td>...</td>\n",
       "      <td>...</td>\n",
       "      <td>...</td>\n",
       "      <td>...</td>\n",
       "      <td>...</td>\n",
       "      <td>...</td>\n",
       "      <td>...</td>\n",
       "      <td>...</td>\n",
       "      <td>...</td>\n",
       "    </tr>\n",
       "    <tr>\n",
       "      <th>7003</th>\n",
       "      <td>dg1a</td>\n",
       "      <td>1.561425</td>\n",
       "      <td>3.350528</td>\n",
       "      <td>94.776405</td>\n",
       "      <td>106.133486</td>\n",
       "      <td>20.480158</td>\n",
       "      <td>32.548500</td>\n",
       "      <td>18.259494</td>\n",
       "      <td>5.828963</td>\n",
       "      <td>136.802935</td>\n",
       "      <td>...</td>\n",
       "      <td>3.077331</td>\n",
       "      <td>2.349271</td>\n",
       "      <td>44.733044</td>\n",
       "      <td>18.044355</td>\n",
       "      <td>3.282169</td>\n",
       "      <td>552.947451</td>\n",
       "      <td>535.926985</td>\n",
       "      <td>584.989815</td>\n",
       "      <td>693.123873</td>\n",
       "      <td>1207.166861</td>\n",
       "    </tr>\n",
       "    <tr>\n",
       "      <th>7004</th>\n",
       "      <td>dg1b</td>\n",
       "      <td>2.091194</td>\n",
       "      <td>2.512896</td>\n",
       "      <td>125.660774</td>\n",
       "      <td>112.631454</td>\n",
       "      <td>16.549862</td>\n",
       "      <td>17.329063</td>\n",
       "      <td>6.006762</td>\n",
       "      <td>5.186789</td>\n",
       "      <td>114.920587</td>\n",
       "      <td>...</td>\n",
       "      <td>3.785606</td>\n",
       "      <td>2.069083</td>\n",
       "      <td>58.610084</td>\n",
       "      <td>15.531850</td>\n",
       "      <td>3.771003</td>\n",
       "      <td>411.711958</td>\n",
       "      <td>265.985518</td>\n",
       "      <td>325.507356</td>\n",
       "      <td>370.787625</td>\n",
       "      <td>990.730378</td>\n",
       "    </tr>\n",
       "    <tr>\n",
       "      <th>7005</th>\n",
       "      <td>dh1a</td>\n",
       "      <td>1.732268</td>\n",
       "      <td>1.832385</td>\n",
       "      <td>79.723122</td>\n",
       "      <td>103.926082</td>\n",
       "      <td>5.510898</td>\n",
       "      <td>17.558860</td>\n",
       "      <td>2.116396</td>\n",
       "      <td>0.821271</td>\n",
       "      <td>60.924623</td>\n",
       "      <td>...</td>\n",
       "      <td>2.243968</td>\n",
       "      <td>1.471041</td>\n",
       "      <td>57.428504</td>\n",
       "      <td>16.988567</td>\n",
       "      <td>2.607206</td>\n",
       "      <td>49.734743</td>\n",
       "      <td>32.793906</td>\n",
       "      <td>211.904775</td>\n",
       "      <td>227.684741</td>\n",
       "      <td>821.706819</td>\n",
       "    </tr>\n",
       "    <tr>\n",
       "      <th>7006</th>\n",
       "      <td>dh1b</td>\n",
       "      <td>1.756666</td>\n",
       "      <td>2.687499</td>\n",
       "      <td>48.475712</td>\n",
       "      <td>46.119173</td>\n",
       "      <td>22.478664</td>\n",
       "      <td>59.049634</td>\n",
       "      <td>30.094688</td>\n",
       "      <td>10.417174</td>\n",
       "      <td>64.673831</td>\n",
       "      <td>...</td>\n",
       "      <td>4.573420</td>\n",
       "      <td>2.036826</td>\n",
       "      <td>30.999964</td>\n",
       "      <td>11.592199</td>\n",
       "      <td>4.094129</td>\n",
       "      <td>449.664095</td>\n",
       "      <td>512.313687</td>\n",
       "      <td>494.309803</td>\n",
       "      <td>523.086065</td>\n",
       "      <td>916.001045</td>\n",
       "    </tr>\n",
       "    <tr>\n",
       "      <th>7007</th>\n",
       "      <td>spncrna.9001</td>\n",
       "      <td>137.045199</td>\n",
       "      <td>120.443493</td>\n",
       "      <td>652.730182</td>\n",
       "      <td>937.663111</td>\n",
       "      <td>261.147698</td>\n",
       "      <td>221.315445</td>\n",
       "      <td>221.353858</td>\n",
       "      <td>68.238855</td>\n",
       "      <td>628.539470</td>\n",
       "      <td>...</td>\n",
       "      <td>218.839117</td>\n",
       "      <td>264.065989</td>\n",
       "      <td>1602.615068</td>\n",
       "      <td>780.772206</td>\n",
       "      <td>179.485129</td>\n",
       "      <td>170.725603</td>\n",
       "      <td>140.621445</td>\n",
       "      <td>602.458547</td>\n",
       "      <td>600.037365</td>\n",
       "      <td>1280.912165</td>\n",
       "    </tr>\n",
       "  </tbody>\n",
       "</table>\n",
       "<p>7008 rows × 55 columns</p>\n",
       "</div>"
      ],
      "text/plain": [
       "           gene_id   1168_pA_2     1168_pA  1168_S2RIP_2  1168_S2RIP  \\\n",
       "0             MAT1   11.381057    7.814922     10.805414   12.630129   \n",
       "1             MAT2    1.171111    0.855113      6.080577    8.528888   \n",
       "2             MAT3    0.634352    0.610795      3.715908    0.000000   \n",
       "3      SPAC1002.01   39.589095   24.437913     25.029207    0.000000   \n",
       "4      SPAC1002.02  149.816947   85.643443     53.763644  105.639431   \n",
       "...            ...         ...         ...           ...         ...   \n",
       "7003          dg1a    1.561425    3.350528     94.776405  106.133486   \n",
       "7004          dg1b    2.091194    2.512896    125.660774  112.631454   \n",
       "7005          dh1a    1.732268    1.832385     79.723122  103.926082   \n",
       "7006          dh1b    1.756666    2.687499     48.475712   46.119173   \n",
       "7007  spncrna.9001  137.045199  120.443493    652.730182  937.663111   \n",
       "\n",
       "      283_RNA_pA_4  301_RNA_pA_2  301_RNA_pA_3  301_RNA_pA  301_S2RIP_2  ...  \\\n",
       "0         7.620925     11.598520      5.145428    3.110889    10.707561  ...   \n",
       "1         1.388083      2.285509      0.767484    0.561922     5.623811  ...   \n",
       "2         0.683683      1.911916      1.023312    0.216124     7.364515  ...   \n",
       "3        19.034314     12.049140     11.889934    5.124219    32.739360  ...   \n",
       "4        63.024153     37.454949     46.010437   39.012178    52.332622  ...   \n",
       "...            ...           ...           ...         ...          ...  ...   \n",
       "7003     20.480158     32.548500     18.259494    5.828963   136.802935  ...   \n",
       "7004     16.549862     17.329063      6.006762    5.186789   114.920587  ...   \n",
       "7005      5.510898     17.558860      2.116396    0.821271    60.924623  ...   \n",
       "7006     22.478664     59.049634     30.094688   10.417174    64.673831  ...   \n",
       "7007    261.147698    221.315445    221.353858   68.238855   628.539470  ...   \n",
       "\n",
       "      63_RNA_pA_4   63_RNA_pA    63_S2PRIP  63_S2RIP_2   65_RNA_pA  \\\n",
       "0        4.500308    2.915721     5.331106    1.598258    4.452123   \n",
       "1        0.726618    0.528066     1.571427    0.399731    0.692539   \n",
       "2        0.363309    0.132016     2.714283    0.999327    0.875858   \n",
       "3       13.300910   23.056262    35.458556   17.770263   19.468385   \n",
       "4       44.345934  127.281203    98.427593   37.849051  111.122855   \n",
       "...           ...         ...          ...         ...         ...   \n",
       "7003     3.077331    2.349271    44.733044   18.044355    3.282169   \n",
       "7004     3.785606    2.069083    58.610084   15.531850    3.771003   \n",
       "7005     2.243968    1.471041    57.428504   16.988567    2.607206   \n",
       "7006     4.573420    2.036826    30.999964   11.592199    4.094129   \n",
       "7007   218.839117  264.065989  1602.615068  780.772206  179.485129   \n",
       "\n",
       "       80pARNA_2   80_RNA_pA   80S2RIP_1   80S2RIP_2     80_S2RIP  \n",
       "0       3.814986    3.885067    5.923055    7.324734    12.442899  \n",
       "1       0.882583    0.546565    3.434110    5.692119     2.534074  \n",
       "2       1.765166    0.273283    2.626084    3.533039     3.067563  \n",
       "3      10.780985   18.223391   17.960619   37.811515    51.385882  \n",
       "4      40.558844   64.965564   44.765892   45.869418    73.621651  \n",
       "...          ...         ...         ...         ...          ...  \n",
       "7003  552.947451  535.926985  584.989815  693.123873  1207.166861  \n",
       "7004  411.711958  265.985518  325.507356  370.787625   990.730378  \n",
       "7005   49.734743   32.793906  211.904775  227.684741   821.706819  \n",
       "7006  449.664095  512.313687  494.309803  523.086065   916.001045  \n",
       "7007  170.725603  140.621445  602.458547  600.037365  1280.912165  \n",
       "\n",
       "[7008 rows x 55 columns]"
      ]
     },
     "execution_count": 17,
     "metadata": {},
     "output_type": "execute_result"
    }
   ],
   "source": [
    "if params_dict['batch'] == 'gene_count':\n",
    "    counts_df =  load_gene_counts(counts_file, index_col='gene_id', gdf='pombase') ## for raw gene counts\n",
    "else:\n",
    "    counts_df =  load_gene_counts(counts_file, index_col='gene_id', gdf='pombase', as_int=False) ## for tpm\n",
    "counts_df"
   ]
  },
  {
   "cell_type": "code",
   "execution_count": 18,
   "metadata": {},
   "outputs": [
    {
     "data": {
      "text/plain": [
       "(7008, 55)"
      ]
     },
     "execution_count": 18,
     "metadata": {},
     "output_type": "execute_result"
    }
   ],
   "source": [
    "counts_df.shape"
   ]
  },
  {
   "cell_type": "markdown",
   "metadata": {},
   "source": [
    "- Make **manual entries** comparable: (add up `+` and `-` stranded htc genes)"
   ]
  },
  {
   "cell_type": "code",
   "execution_count": 19,
   "metadata": {},
   "outputs": [],
   "source": [
    "#counts_df['gene_id'] = counts_df['gene_id'].apply(lambda x: htc_genes_dict[x] if x in htc_genes_dict else x)\n",
    "## For RNA-seq - sum strands!\n",
    "#counts_df = counts_df.groupby('gene_id').sum().reset_index()\n",
    "## For ChIP-seq (or unstranded RNA-seq) - select only one!\n",
    "#counts_df = counts_df.groupby('gene_id').first().reset_index()\n",
    "#counts_df"
   ]
  },
  {
   "cell_type": "markdown",
   "metadata": {},
   "source": [
    "- Select `sample_id`s for samples that I computed"
   ]
  },
  {
   "cell_type": "code",
   "execution_count": 20,
   "metadata": {},
   "outputs": [
    {
     "data": {
      "text/plain": [
       "54"
      ]
     },
     "execution_count": 20,
     "metadata": {},
     "output_type": "execute_result"
    }
   ],
   "source": [
    "sample_ids = [ii for ii in counts_df.columns if ii != 'gene_id']\n",
    "len(sample_ids)"
   ]
  },
  {
   "cell_type": "markdown",
   "metadata": {},
   "source": [
    "### B. Results using **Parastou's counting script**"
   ]
  },
  {
   "cell_type": "markdown",
   "metadata": {},
   "source": [
    "**RNA**"
   ]
  },
  {
   "cell_type": "code",
   "execution_count": 21,
   "metadata": {},
   "outputs": [],
   "source": [
    "#xp_parastou_file = '/data/parastou/RNAdeg/results/RipRna/xp_data/pombe_gene_count_matrix.csv' ## gene counts, old gff, obtained from Parastou\n",
    "#xp_parastou_file = '/data/parastou/RNAdeg/results/RipRna/xp_data/pombe_tpm_matrix.csv' ## tpm, old gff and obtained from Parastou"
   ]
  },
  {
   "cell_type": "markdown",
   "metadata": {},
   "source": [
    "**ChIP**"
   ]
  },
  {
   "cell_type": "code",
   "execution_count": 22,
   "metadata": {},
   "outputs": [],
   "source": [
    "#xp_parastou_file = '/data/parastou/RNAdeg/results/RipChip/xp_data/chip_pombe_gene_count_matrix.csv' ## old gff, obtained from Parastou\n",
    "#xp_parastou_file = '/data/parastou/RNAdeg/results/RipChip/xp_data/chip_pombe_tpm_matrix.csv' ## tpm and old gff, obtained from Parastou"
   ]
  },
  {
   "cell_type": "markdown",
   "metadata": {},
   "source": [
    "- Import **gene expresion Matrix**: `*_pombe_tpm_matrix.csv`"
   ]
  },
  {
   "cell_type": "code",
   "execution_count": 23,
   "metadata": {},
   "outputs": [],
   "source": [
    "if params_dict['seq_type'] == 'rna':\n",
    "    xp_parastou_data_dir = os.path.join('/data/parastou/RNAdeg/results/RipRna/xp_data')\n",
    "else:\n",
    "    xp_parastou_data_dir = os.path.join('/data/parastou/RNAdeg/results/RipChip/xp_data')"
   ]
  },
  {
   "cell_type": "code",
   "execution_count": 24,
   "metadata": {},
   "outputs": [
    {
     "data": {
      "text/plain": [
       "'/data/parastou/RNAdeg/results/RipRna/xp_data/rna_pombe_tpm_matrix.csv'"
      ]
     },
     "execution_count": 24,
     "metadata": {},
     "output_type": "execute_result"
    }
   ],
   "source": [
    "xp_parastou_file = os.path.join(xp_parastou_data_dir, params_dict['seq_type'] + '_pombe_' + params_dict['expression'] + '_matrix.csv')\n",
    "xp_parastou_file"
   ]
  },
  {
   "cell_type": "code",
   "execution_count": 25,
   "metadata": {},
   "outputs": [
    {
     "ename": "FileNotFoundError",
     "evalue": "[Errno 2] File b'/data/parastou/RNAdeg/results/RipRna/xp_data/rna_pombe_tpm_matrix.csv' does not exist: b'/data/parastou/RNAdeg/results/RipRna/xp_data/rna_pombe_tpm_matrix.csv'",
     "output_type": "error",
     "traceback": [
      "\u001b[0;31m---------------------------------------------------------------------------\u001b[0m",
      "\u001b[0;31mFileNotFoundError\u001b[0m                         Traceback (most recent call last)",
      "\u001b[0;32m<ipython-input-25-ba5078d6da45>\u001b[0m in \u001b[0;36m<module>\u001b[0;34m\u001b[0m\n\u001b[1;32m      2\u001b[0m     \u001b[0mxp_parastou_df\u001b[0m \u001b[0;34m=\u001b[0m \u001b[0mload_gene_counts\u001b[0m\u001b[0;34m(\u001b[0m\u001b[0mxp_parastou_file\u001b[0m\u001b[0;34m,\u001b[0m \u001b[0mindex_col\u001b[0m\u001b[0;34m=\u001b[0m\u001b[0;34m'gene-id'\u001b[0m\u001b[0;34m,\u001b[0m \u001b[0mgdf\u001b[0m\u001b[0;34m=\u001b[0m\u001b[0;34m'parastou'\u001b[0m\u001b[0;34m,\u001b[0m \u001b[0msample_ids\u001b[0m\u001b[0;34m=\u001b[0m\u001b[0msample_ids\u001b[0m\u001b[0;34m)\u001b[0m \u001b[0;31m## for raw gene counts\u001b[0m\u001b[0;34m\u001b[0m\u001b[0;34m\u001b[0m\u001b[0m\n\u001b[1;32m      3\u001b[0m \u001b[0;32melse\u001b[0m\u001b[0;34m:\u001b[0m\u001b[0;34m\u001b[0m\u001b[0;34m\u001b[0m\u001b[0m\n\u001b[0;32m----> 4\u001b[0;31m     \u001b[0mxp_parastou_df\u001b[0m \u001b[0;34m=\u001b[0m \u001b[0mload_gene_counts\u001b[0m\u001b[0;34m(\u001b[0m\u001b[0mxp_parastou_file\u001b[0m\u001b[0;34m,\u001b[0m \u001b[0mindex_col\u001b[0m\u001b[0;34m=\u001b[0m\u001b[0;34m'gene-id'\u001b[0m\u001b[0;34m,\u001b[0m \u001b[0mgdf\u001b[0m\u001b[0;34m=\u001b[0m\u001b[0;34m'parastou'\u001b[0m\u001b[0;34m,\u001b[0m \u001b[0msample_ids\u001b[0m\u001b[0;34m=\u001b[0m\u001b[0msample_ids\u001b[0m\u001b[0;34m,\u001b[0m \u001b[0mas_int\u001b[0m\u001b[0;34m=\u001b[0m\u001b[0;32mFalse\u001b[0m\u001b[0;34m)\u001b[0m \u001b[0;31m## for tpm\u001b[0m\u001b[0;34m\u001b[0m\u001b[0;34m\u001b[0m\u001b[0m\n\u001b[0m\u001b[1;32m      5\u001b[0m \u001b[0mxp_parastou_df\u001b[0m\u001b[0;34m\u001b[0m\u001b[0;34m\u001b[0m\u001b[0m\n",
      "\u001b[0;32m<ipython-input-9-d50551919dd0>\u001b[0m in \u001b[0;36mload_gene_counts\u001b[0;34m(gene_counts_file, index_col, gdf, as_int, sample_ids)\u001b[0m\n\u001b[1;32m     21\u001b[0m \u001b[0;34m\u001b[0m\u001b[0m\n\u001b[1;32m     22\u001b[0m     \u001b[0;31m## Import Gene Counts DataFrame\u001b[0m\u001b[0;34m\u001b[0m\u001b[0;34m\u001b[0m\u001b[0;34m\u001b[0m\u001b[0m\n\u001b[0;32m---> 23\u001b[0;31m     \u001b[0mcounts_df\u001b[0m \u001b[0;34m=\u001b[0m \u001b[0mpd\u001b[0m\u001b[0;34m.\u001b[0m\u001b[0mread_csv\u001b[0m\u001b[0;34m(\u001b[0m\u001b[0mgene_counts_file\u001b[0m\u001b[0;34m,\u001b[0m \u001b[0msep\u001b[0m\u001b[0;34m=\u001b[0m\u001b[0;34m'\\t'\u001b[0m\u001b[0;34m)\u001b[0m\u001b[0;34m\u001b[0m\u001b[0;34m\u001b[0m\u001b[0m\n\u001b[0m\u001b[1;32m     24\u001b[0m \u001b[0;34m\u001b[0m\u001b[0m\n\u001b[1;32m     25\u001b[0m     \u001b[0;31m## Select only 'gene_id' and `sample count`s columns\u001b[0m\u001b[0;34m\u001b[0m\u001b[0;34m\u001b[0m\u001b[0;34m\u001b[0m\u001b[0m\n",
      "\u001b[0;32m~/anaconda3/envs/heterochromatin/lib/python3.6/site-packages/pandas/io/parsers.py\u001b[0m in \u001b[0;36mparser_f\u001b[0;34m(filepath_or_buffer, sep, delimiter, header, names, index_col, usecols, squeeze, prefix, mangle_dupe_cols, dtype, engine, converters, true_values, false_values, skipinitialspace, skiprows, skipfooter, nrows, na_values, keep_default_na, na_filter, verbose, skip_blank_lines, parse_dates, infer_datetime_format, keep_date_col, date_parser, dayfirst, cache_dates, iterator, chunksize, compression, thousands, decimal, lineterminator, quotechar, quoting, doublequote, escapechar, comment, encoding, dialect, error_bad_lines, warn_bad_lines, delim_whitespace, low_memory, memory_map, float_precision)\u001b[0m\n\u001b[1;32m    683\u001b[0m         )\n\u001b[1;32m    684\u001b[0m \u001b[0;34m\u001b[0m\u001b[0m\n\u001b[0;32m--> 685\u001b[0;31m         \u001b[0;32mreturn\u001b[0m \u001b[0m_read\u001b[0m\u001b[0;34m(\u001b[0m\u001b[0mfilepath_or_buffer\u001b[0m\u001b[0;34m,\u001b[0m \u001b[0mkwds\u001b[0m\u001b[0;34m)\u001b[0m\u001b[0;34m\u001b[0m\u001b[0;34m\u001b[0m\u001b[0m\n\u001b[0m\u001b[1;32m    686\u001b[0m \u001b[0;34m\u001b[0m\u001b[0m\n\u001b[1;32m    687\u001b[0m     \u001b[0mparser_f\u001b[0m\u001b[0;34m.\u001b[0m\u001b[0m__name__\u001b[0m \u001b[0;34m=\u001b[0m \u001b[0mname\u001b[0m\u001b[0;34m\u001b[0m\u001b[0;34m\u001b[0m\u001b[0m\n",
      "\u001b[0;32m~/anaconda3/envs/heterochromatin/lib/python3.6/site-packages/pandas/io/parsers.py\u001b[0m in \u001b[0;36m_read\u001b[0;34m(filepath_or_buffer, kwds)\u001b[0m\n\u001b[1;32m    455\u001b[0m \u001b[0;34m\u001b[0m\u001b[0m\n\u001b[1;32m    456\u001b[0m     \u001b[0;31m# Create the parser.\u001b[0m\u001b[0;34m\u001b[0m\u001b[0;34m\u001b[0m\u001b[0;34m\u001b[0m\u001b[0m\n\u001b[0;32m--> 457\u001b[0;31m     \u001b[0mparser\u001b[0m \u001b[0;34m=\u001b[0m \u001b[0mTextFileReader\u001b[0m\u001b[0;34m(\u001b[0m\u001b[0mfp_or_buf\u001b[0m\u001b[0;34m,\u001b[0m \u001b[0;34m**\u001b[0m\u001b[0mkwds\u001b[0m\u001b[0;34m)\u001b[0m\u001b[0;34m\u001b[0m\u001b[0;34m\u001b[0m\u001b[0m\n\u001b[0m\u001b[1;32m    458\u001b[0m \u001b[0;34m\u001b[0m\u001b[0m\n\u001b[1;32m    459\u001b[0m     \u001b[0;32mif\u001b[0m \u001b[0mchunksize\u001b[0m \u001b[0;32mor\u001b[0m \u001b[0miterator\u001b[0m\u001b[0;34m:\u001b[0m\u001b[0;34m\u001b[0m\u001b[0;34m\u001b[0m\u001b[0m\n",
      "\u001b[0;32m~/anaconda3/envs/heterochromatin/lib/python3.6/site-packages/pandas/io/parsers.py\u001b[0m in \u001b[0;36m__init__\u001b[0;34m(self, f, engine, **kwds)\u001b[0m\n\u001b[1;32m    893\u001b[0m             \u001b[0mself\u001b[0m\u001b[0;34m.\u001b[0m\u001b[0moptions\u001b[0m\u001b[0;34m[\u001b[0m\u001b[0;34m\"has_index_names\"\u001b[0m\u001b[0;34m]\u001b[0m \u001b[0;34m=\u001b[0m \u001b[0mkwds\u001b[0m\u001b[0;34m[\u001b[0m\u001b[0;34m\"has_index_names\"\u001b[0m\u001b[0;34m]\u001b[0m\u001b[0;34m\u001b[0m\u001b[0;34m\u001b[0m\u001b[0m\n\u001b[1;32m    894\u001b[0m \u001b[0;34m\u001b[0m\u001b[0m\n\u001b[0;32m--> 895\u001b[0;31m         \u001b[0mself\u001b[0m\u001b[0;34m.\u001b[0m\u001b[0m_make_engine\u001b[0m\u001b[0;34m(\u001b[0m\u001b[0mself\u001b[0m\u001b[0;34m.\u001b[0m\u001b[0mengine\u001b[0m\u001b[0;34m)\u001b[0m\u001b[0;34m\u001b[0m\u001b[0;34m\u001b[0m\u001b[0m\n\u001b[0m\u001b[1;32m    896\u001b[0m \u001b[0;34m\u001b[0m\u001b[0m\n\u001b[1;32m    897\u001b[0m     \u001b[0;32mdef\u001b[0m \u001b[0mclose\u001b[0m\u001b[0;34m(\u001b[0m\u001b[0mself\u001b[0m\u001b[0;34m)\u001b[0m\u001b[0;34m:\u001b[0m\u001b[0;34m\u001b[0m\u001b[0;34m\u001b[0m\u001b[0m\n",
      "\u001b[0;32m~/anaconda3/envs/heterochromatin/lib/python3.6/site-packages/pandas/io/parsers.py\u001b[0m in \u001b[0;36m_make_engine\u001b[0;34m(self, engine)\u001b[0m\n\u001b[1;32m   1133\u001b[0m     \u001b[0;32mdef\u001b[0m \u001b[0m_make_engine\u001b[0m\u001b[0;34m(\u001b[0m\u001b[0mself\u001b[0m\u001b[0;34m,\u001b[0m \u001b[0mengine\u001b[0m\u001b[0;34m=\u001b[0m\u001b[0;34m\"c\"\u001b[0m\u001b[0;34m)\u001b[0m\u001b[0;34m:\u001b[0m\u001b[0;34m\u001b[0m\u001b[0;34m\u001b[0m\u001b[0m\n\u001b[1;32m   1134\u001b[0m         \u001b[0;32mif\u001b[0m \u001b[0mengine\u001b[0m \u001b[0;34m==\u001b[0m \u001b[0;34m\"c\"\u001b[0m\u001b[0;34m:\u001b[0m\u001b[0;34m\u001b[0m\u001b[0;34m\u001b[0m\u001b[0m\n\u001b[0;32m-> 1135\u001b[0;31m             \u001b[0mself\u001b[0m\u001b[0;34m.\u001b[0m\u001b[0m_engine\u001b[0m \u001b[0;34m=\u001b[0m \u001b[0mCParserWrapper\u001b[0m\u001b[0;34m(\u001b[0m\u001b[0mself\u001b[0m\u001b[0;34m.\u001b[0m\u001b[0mf\u001b[0m\u001b[0;34m,\u001b[0m \u001b[0;34m**\u001b[0m\u001b[0mself\u001b[0m\u001b[0;34m.\u001b[0m\u001b[0moptions\u001b[0m\u001b[0;34m)\u001b[0m\u001b[0;34m\u001b[0m\u001b[0;34m\u001b[0m\u001b[0m\n\u001b[0m\u001b[1;32m   1136\u001b[0m         \u001b[0;32melse\u001b[0m\u001b[0;34m:\u001b[0m\u001b[0;34m\u001b[0m\u001b[0;34m\u001b[0m\u001b[0m\n\u001b[1;32m   1137\u001b[0m             \u001b[0;32mif\u001b[0m \u001b[0mengine\u001b[0m \u001b[0;34m==\u001b[0m \u001b[0;34m\"python\"\u001b[0m\u001b[0;34m:\u001b[0m\u001b[0;34m\u001b[0m\u001b[0;34m\u001b[0m\u001b[0m\n",
      "\u001b[0;32m~/anaconda3/envs/heterochromatin/lib/python3.6/site-packages/pandas/io/parsers.py\u001b[0m in \u001b[0;36m__init__\u001b[0;34m(self, src, **kwds)\u001b[0m\n\u001b[1;32m   1915\u001b[0m         \u001b[0mkwds\u001b[0m\u001b[0;34m[\u001b[0m\u001b[0;34m\"usecols\"\u001b[0m\u001b[0;34m]\u001b[0m \u001b[0;34m=\u001b[0m \u001b[0mself\u001b[0m\u001b[0;34m.\u001b[0m\u001b[0musecols\u001b[0m\u001b[0;34m\u001b[0m\u001b[0;34m\u001b[0m\u001b[0m\n\u001b[1;32m   1916\u001b[0m \u001b[0;34m\u001b[0m\u001b[0m\n\u001b[0;32m-> 1917\u001b[0;31m         \u001b[0mself\u001b[0m\u001b[0;34m.\u001b[0m\u001b[0m_reader\u001b[0m \u001b[0;34m=\u001b[0m \u001b[0mparsers\u001b[0m\u001b[0;34m.\u001b[0m\u001b[0mTextReader\u001b[0m\u001b[0;34m(\u001b[0m\u001b[0msrc\u001b[0m\u001b[0;34m,\u001b[0m \u001b[0;34m**\u001b[0m\u001b[0mkwds\u001b[0m\u001b[0;34m)\u001b[0m\u001b[0;34m\u001b[0m\u001b[0;34m\u001b[0m\u001b[0m\n\u001b[0m\u001b[1;32m   1918\u001b[0m         \u001b[0mself\u001b[0m\u001b[0;34m.\u001b[0m\u001b[0munnamed_cols\u001b[0m \u001b[0;34m=\u001b[0m \u001b[0mself\u001b[0m\u001b[0;34m.\u001b[0m\u001b[0m_reader\u001b[0m\u001b[0;34m.\u001b[0m\u001b[0munnamed_cols\u001b[0m\u001b[0;34m\u001b[0m\u001b[0;34m\u001b[0m\u001b[0m\n\u001b[1;32m   1919\u001b[0m \u001b[0;34m\u001b[0m\u001b[0m\n",
      "\u001b[0;32mpandas/_libs/parsers.pyx\u001b[0m in \u001b[0;36mpandas._libs.parsers.TextReader.__cinit__\u001b[0;34m()\u001b[0m\n",
      "\u001b[0;32mpandas/_libs/parsers.pyx\u001b[0m in \u001b[0;36mpandas._libs.parsers.TextReader._setup_parser_source\u001b[0;34m()\u001b[0m\n",
      "\u001b[0;31mFileNotFoundError\u001b[0m: [Errno 2] File b'/data/parastou/RNAdeg/results/RipRna/xp_data/rna_pombe_tpm_matrix.csv' does not exist: b'/data/parastou/RNAdeg/results/RipRna/xp_data/rna_pombe_tpm_matrix.csv'"
     ]
    }
   ],
   "source": [
    "if params_dict['batch'] == 'gene_count':\n",
    "    xp_parastou_df = load_gene_counts(xp_parastou_file, index_col='gene-id', gdf='parastou', sample_ids=sample_ids) ## for raw gene counts\n",
    "else:\n",
    "    xp_parastou_df = load_gene_counts(xp_parastou_file, index_col='gene-id', gdf='parastou', sample_ids=sample_ids, as_int=False) ## for tpm\n",
    "xp_parastou_df"
   ]
  },
  {
   "cell_type": "code",
   "execution_count": null,
   "metadata": {},
   "outputs": [],
   "source": [
    "xp_parastou_df.shape"
   ]
  },
  {
   "cell_type": "code",
   "execution_count": null,
   "metadata": {},
   "outputs": [],
   "source": [
    "missing_genes = set(xp_parastou_df['gene_id']).symmetric_difference(counts_df['gene_id'])\n",
    "#missing_genes"
   ]
  },
  {
   "cell_type": "markdown",
   "metadata": {},
   "source": [
    "- **Merge** both counts DataFrames"
   ]
  },
  {
   "cell_type": "code",
   "execution_count": null,
   "metadata": {},
   "outputs": [],
   "source": [
    "#set(sample_ids).symmetric_difference(xp_parastou_df.columns)\n",
    "#sample_ids = list(set(sample_ids).intersection(xp_parastou_df.columns))\n",
    "#sample_ids"
   ]
  },
  {
   "cell_type": "code",
   "execution_count": null,
   "metadata": {},
   "outputs": [],
   "source": [
    "# Use concat with set_index by ID in both DataFrames and then swaplevel with sort_index for expected MultiIndex in columns:\n",
    "merged_xp_rna = (pd.concat([counts_df.set_index('gene_id'), \n",
    "                xp_parastou_df.set_index('gene_id')], \n",
    "                axis=1, \n",
    "                keys=['htseq', 'parastou'], \n",
    "                sort=True)\n",
    "        .swaplevel(0, 1, axis=1)\n",
    "        .sort_index(axis=1, ascending=[True, False])\n",
    "        )"
   ]
  },
  {
   "cell_type": "code",
   "execution_count": null,
   "metadata": {},
   "outputs": [],
   "source": [
    "merged_xp_rna"
   ]
  },
  {
   "cell_type": "code",
   "execution_count": null,
   "metadata": {},
   "outputs": [],
   "source": [
    "# https://stackoverflow.com/questions/40225683/how-to-simply-add-a-column-level-to-a-pandas-dataframe\n",
    "#merged_xp_rna.columns = pd.MultiIndex.from_tuples(map(lambda x: ( x, '_'.join(x.split('_')[:-1]) ), merged_xp_rna.columns))"
   ]
  },
  {
   "cell_type": "code",
   "execution_count": null,
   "metadata": {},
   "outputs": [],
   "source": [
    "#merged_xp_rna = pd.merge(counts_df, xp_parastou_df, on='gene_id', how='outer')\n",
    "#merged_xp_rna"
   ]
  },
  {
   "cell_type": "code",
   "execution_count": null,
   "metadata": {},
   "outputs": [],
   "source": [
    "merged_xp_rna.shape"
   ]
  },
  {
   "cell_type": "markdown",
   "metadata": {},
   "source": [
    "### Comparison Gene Counts: `htseq_counts vs parastous_counts`"
   ]
  },
  {
   "cell_type": "markdown",
   "metadata": {},
   "source": [
    "- **Visualization**: `scatter_plot`"
   ]
  },
  {
   "cell_type": "code",
   "execution_count": null,
   "metadata": {},
   "outputs": [],
   "source": [
    "import math\n",
    "import numpy as np"
   ]
  },
  {
   "cell_type": "code",
   "execution_count": null,
   "metadata": {},
   "outputs": [],
   "source": [
    "def map_color(ratio, n_clusters):\n",
    "    \n",
    "    clust = np.linspace(0, 1, n_clusters)\n",
    "    lower_bound = 0\n",
    "    ## init\n",
    "    color = 0\n",
    "    \n",
    "    for ii, upper_bound in enumerate(np.linspace(0, math.pi/2, n_clusters)):\n",
    "        \n",
    "        if (ratio > math.tan(lower_bound)) and (ratio <= math.tan(upper_bound)):\n",
    "            color = clust[ii]\n",
    "\n",
    "        ii =+ 1\n",
    "        lower_bound = upper_bound\n",
    "    \n",
    "    \n",
    "    return color"
   ]
  },
  {
   "cell_type": "code",
   "execution_count": null,
   "metadata": {},
   "outputs": [],
   "source": [
    "def map_color_old(ratio, n_clusters):\n",
    "    \n",
    "    clust = np.linspace(0, 1, n_clusters)\n",
    "    lower_bound\n",
    "    for ii, upper_bound in enumerate(np.linspace(0, math.pi/2, clusters)):\n",
    "        \n",
    "        ## Parastou's counts > htseqcounts \n",
    "        if ratio <= math.tan(math.pi/6):\n",
    "            color = 0\n",
    "\n",
    "        ## Parastou's counts ~ htseqcounts \n",
    "        elif (ratio > math.tan(math.pi/6)) and (ratio <= math.tan(math.pi/3)):\n",
    "            color = 1/2\n",
    "\n",
    "        ## Parastou's counts < htseqcounts \n",
    "        else:\n",
    "            color = 1\n",
    "    \n",
    "    return color"
   ]
  },
  {
   "cell_type": "code",
   "execution_count": null,
   "metadata": {},
   "outputs": [],
   "source": [
    "def correlation_scatter_plot(merged_xp_rna, sample_ids=None, n_max=50000, out_dir=None):\n",
    "\n",
    "    deviate_genes = collections.Counter( )\n",
    "    \n",
    "    if isinstance(sample_ids, type(None)):\n",
    "        sample_ids = merged_xp_rna.columns.get_level_values(0).unique()\n",
    "                      \n",
    "    for sample_id in sample_ids:\n",
    "\n",
    "        print(' sample_id: {}'.format(sample_id))\n",
    "\n",
    "        ## remove nans\n",
    "        df = merged_xp_rna[sample_id].dropna()\n",
    "\n",
    "        #df['parastou'].plot.kde()\n",
    "        #df['htseq'].plot.kde()\n",
    "\n",
    "        n_max = 50000\n",
    "        ## filter extreme counts\n",
    "        df = df[ (df['parastou'] < n_max) & (df['htseq'] < n_max) ]\n",
    "\n",
    "        ## Compute ratios: \n",
    "        df['ratio'] =  df['htseq'] / df['parastou']\n",
    "        ## add color column\n",
    "        #df['color'] = df['ratio'].apply(lambda x: map_color(x)\n",
    "        df['color'] = df['ratio'].apply(lambda x: map_color(x, 6))\n",
    "\n",
    "        #df['diff_count'] = abs(df['parastou'] - df['htseq'])\n",
    "        #df.sort_values('diff_count', na_position='first')\n",
    "\n",
    "        ## print distribution ammong clusters\n",
    "        df_by_type = df['color'].value_counts().sort_index()\n",
    "        #print(df_by_type, '\\n')\n",
    "        \n",
    "        #for gg in df[df['color'] >= 0.8].index.tolist():\n",
    "        for gg in df[df['color'] <= 0.4].index.tolist():\n",
    "            deviate_genes[gg] += 1\n",
    "        \n",
    "        ## ------------\n",
    "        ## Scatter Plot\n",
    "        ## ------------\n",
    "        \n",
    "        plot_lim = max(max(df['parastou']), max(df['htseq']))\n",
    "        x = np.linspace(0, plot_lim, 1000)\n",
    "\n",
    "        plt.figure()\n",
    "        #merged_xp_rna.plot.scatter(x = 'count', y = sample_name, xlim=(0, 1000), ylim=(0, 1000))\n",
    "        df.plot.scatter(x = 'parastou', y = 'htseq', c='color', \n",
    "                        colormap='viridis',\n",
    "                        xlim=(0, plot_lim),\n",
    "                        ylim=(0, plot_lim))\n",
    "        plt.title(' sample_id: {} (genes={})'.format(sample_id, df_by_type.sum()))\n",
    "        ## y = x - perfect correlation\n",
    "        plt.plot(x, x, '--k') # dashdot black\n",
    "        \n",
    "        if not isinstance(out_dir, type(None)):\n",
    "            plt.savefig(os.path.join(out_dir, sample_id + '_parastou_vs_htseq.pdf' ))\n",
    "            \n",
    "        #plt.close() \n",
    "\n",
    "    return deviate_genes"
   ]
  },
  {
   "cell_type": "markdown",
   "metadata": {},
   "source": [
    "- Scatter plots: **all Genes**"
   ]
  },
  {
   "cell_type": "code",
   "execution_count": null,
   "metadata": {},
   "outputs": [],
   "source": [
    "if params_dict['expression'] == 'gene_count':\n",
    "    plot_dir = os.path.join(xp_data_dir, 'gxp_Plots')\n",
    "else:\n",
    "    plot_dir = os.path.join(xp_data_dir, 'tpm_Plots')"
   ]
  },
  {
   "cell_type": "code",
   "execution_count": null,
   "metadata": {},
   "outputs": [],
   "source": [
    "if not os.path.isdir(plot_dir):    \n",
    "    !mkdir -p $plot_dir\n",
    "plot_dir"
   ]
  },
  {
   "cell_type": "code",
   "execution_count": null,
   "metadata": {},
   "outputs": [],
   "source": [
    "deviate_genes = correlation_scatter_plot(merged_xp_rna, n_max=50000, out_dir=plot_dir)"
   ]
  },
  {
   "cell_type": "code",
   "execution_count": null,
   "metadata": {},
   "outputs": [],
   "source": [
    "#df[df['color'] > 0 ]"
   ]
  },
  {
   "cell_type": "code",
   "execution_count": null,
   "metadata": {},
   "outputs": [],
   "source": [
    "#deviate_genes\n",
    "len(deviate_genes)"
   ]
  },
  {
   "cell_type": "markdown",
   "metadata": {},
   "source": [
    "- Genes conntaining big deviations across all samples (or many samples):\n",
    "    - After using equivalent `'count_mode' = 'union'` to Parastou (instead of intersectiom-empty)\n",
    "    - Only **10 genes** contain big differences, most of which can be explained by differences between `ensembl` and `Pombase` **annotation**.\n",
    "    - Unexplained differences: (ChIP-seq)\n",
    "        - SPNCRNA.390 (This it's in the region where we MAT locus htc_genes are defined)\n",
    "        - SPNCRNA.1306"
   ]
  },
  {
   "cell_type": "code",
   "execution_count": null,
   "metadata": {},
   "outputs": [],
   "source": [
    "weird_genes = ['SPNCRNA.390', 'SPNCRNA.1306'] # still not explained by differences in annotation"
   ]
  },
  {
   "cell_type": "code",
   "execution_count": null,
   "metadata": {},
   "outputs": [],
   "source": [
    "#big_deviate_genes = {k:v for k,v in deviate_genes.items() if v >= 40}\n",
    "big_deviate_genes = {k:v for k,v in deviate_genes.items() if v >= 20}\n",
    "#big_deviate_genes"
   ]
  },
  {
   "cell_type": "code",
   "execution_count": null,
   "metadata": {},
   "outputs": [],
   "source": [
    "#missing_genes"
   ]
  },
  {
   "cell_type": "code",
   "execution_count": null,
   "metadata": {},
   "outputs": [],
   "source": [
    "#big_deviate_genes_df = merged_xp_rna[merged_xp_rna.index.isin(big_deviate_genes) & ~merged_xp_rna.index.isin(missing_genes)]\n",
    "big_deviate_genes_df = merged_xp_rna[merged_xp_rna.index.isin(weird_genes)]\n",
    "\n",
    "## many deviates are due to 0 counts, we require ~ 1 count per sample\n",
    "#big_deviate_genes_df[big_deviate_genes_df.sum(1) > 100] \n",
    "#big_deviate_genes_df[big_deviate_genes_df.xs('htseq', level=1, axis=1).sum(1) > 52]\n",
    "#big_deviate_genes_df[big_deviate_genes_df.xs('parastou', level=1, axis=1).sum(1) > 52]\n",
    "#big_deviate_genes_df[(big_deviate_genes_df.xs('htseq', level=1, axis=1).sum(1) > 100) & (big_deviate_genes_df.xs('parastou', level=1, axis=1).sum(1) > 100)]\n",
    "big_deviate_genes_df"
   ]
  },
  {
   "cell_type": "code",
   "execution_count": null,
   "metadata": {},
   "outputs": [],
   "source": [
    "big_deviate_genes_df.xs('htseq', level=1, axis=1).sum(1)\n",
    "big_deviate_genes_df.xs('parastou', level=1, axis=1).sum(1)"
   ]
  },
  {
   "cell_type": "markdown",
   "metadata": {},
   "source": [
    "## Investigate **heterochromatic genes**"
   ]
  },
  {
   "cell_type": "code",
   "execution_count": null,
   "metadata": {},
   "outputs": [],
   "source": [
    "import viz_strands ## get deg1, deg2 and non_degraded"
   ]
  },
  {
   "cell_type": "code",
   "execution_count": null,
   "metadata": {},
   "outputs": [],
   "source": [
    "## centromeric genes: `deg1`\n",
    "old_deg1 = ['dh1', 'dg1']\n",
    "deg1 = viz_strands.deg1\n",
    "\n",
    "## subtelomeric genes: `deg2`\n",
    "old_deg2 = ['SPAC212.11', 'SPAC212.10']\n",
    "deg2 = viz_strands.deg2\n",
    "\n",
    "# Mating type region (MTR) gene counts\n",
    "deg3 = ['MAT2', 'MAT3', 'MAT1']\n",
    "\n",
    "## rest of Heterochromatic genes, including mat: `deg3`\n",
    "# non_degraded = ['SPAC212.09c', 'SPNCRNA.70', 'SPAC212.08c', 'SPAC212.07c', 'SPAC212.12', 'SPAC212.06c',\n",
    "#                 'SPAC212.04c', 'SPAC212.03', 'SPAC212.02', 'SPAC212.01c', 'SPAC977.01', 'SPAC977.18',\n",
    "#                 'SPAC977.02', 'SPAC977.03', 'SPAC977.04', 'SPAC212.05c', 'MAT2', 'MAT3', 'MAT1']\n",
    "non_degraded = viz_strands.non_degraded"
   ]
  },
  {
   "cell_type": "code",
   "execution_count": null,
   "metadata": {},
   "outputs": [],
   "source": [
    "old_all_htc_genes = old_deg1 + old_deg2 + deg3 + non_degraded\n",
    "old_htc_genes = old_deg1 + old_deg2 + deg3"
   ]
  },
  {
   "cell_type": "code",
   "execution_count": null,
   "metadata": {},
   "outputs": [],
   "source": [
    "all_htc_genes = deg1 + deg2 + non_degraded\n",
    "htc_genes = deg1 + deg2 + deg3"
   ]
  },
  {
   "cell_type": "markdown",
   "metadata": {},
   "source": [
    "- Show counts for genes of interest: **manual entries Heterochromatic Genes (UNSTRANDED)**"
   ]
  },
  {
   "cell_type": "code",
   "execution_count": null,
   "metadata": {},
   "outputs": [],
   "source": [
    "#merged_xp_rna[(merged_xp_rna.index.isin(old_htc_genes)) | (merged_xp_rna.index.isin(new_htc_genes))]\n",
    "merged_xp_rna[merged_xp_rna.index.isin(old_htc_genes)]"
   ]
  },
  {
   "cell_type": "markdown",
   "metadata": {},
   "source": [
    "- Show counts for genes of interest: **manual entries Heterochromatic Genes (STRANDED)**"
   ]
  },
  {
   "cell_type": "code",
   "execution_count": null,
   "metadata": {},
   "outputs": [],
   "source": [
    "merged_xp_rna[merged_xp_rna.index.isin(htc_genes)]"
   ]
  },
  {
   "cell_type": "markdown",
   "metadata": {},
   "source": [
    "- Show counts for genes of interest: **all Heterochromatic Genes**"
   ]
  },
  {
   "cell_type": "code",
   "execution_count": null,
   "metadata": {},
   "outputs": [],
   "source": [
    "#[xx for xx in merged_xp_rna.columns if '80' in xx[0]]"
   ]
  },
  {
   "cell_type": "code",
   "execution_count": null,
   "metadata": {},
   "outputs": [],
   "source": [
    "#htc_df = merged_xp_rna[merged_xp_rna.index.isin(het_genes)]\n",
    "#htc_df = merged_xp_rna[merged_xp_rna.index.isin(old_all_htc_genes)]\n",
    "#htc_df = merged_xp_rna[merged_xp_rna.index.isin(all_htc_genes)]\n",
    "htc_df = merged_xp_rna[merged_xp_rna.index.isin(non_degraded)].xs([xx for xx in merged_xp_rna.columns if '80' in xx[0]], axis=1)\n",
    "htc_df"
   ]
  },
  {
   "cell_type": "code",
   "execution_count": null,
   "metadata": {},
   "outputs": [],
   "source": [
    "htc_df.shape"
   ]
  },
  {
   "cell_type": "markdown",
   "metadata": {},
   "source": [
    "- Scatter plots: **all Genes**"
   ]
  },
  {
   "cell_type": "code",
   "execution_count": null,
   "metadata": {},
   "outputs": [],
   "source": [
    "if params_dict['expression'] == 'gene_count':\n",
    "    plot_dir = os.path.join(xp_data_dir, 'gxp_htc_plots')\n",
    "else:\n",
    "    plot_dir = os.path.join(xp_data_dir, 'tpm_htc_plots')"
   ]
  },
  {
   "cell_type": "code",
   "execution_count": null,
   "metadata": {},
   "outputs": [],
   "source": [
    "if not os.path.isdir(plot_dir):    \n",
    "    !mkdir -p $plot_dir\n",
    "plot_dir"
   ]
  },
  {
   "cell_type": "code",
   "execution_count": null,
   "metadata": {},
   "outputs": [],
   "source": [
    "htc_deviate_genes = correlation_scatter_plot(htc_df, n_max=50000, out_dir=plot_dir)"
   ]
  },
  {
   "cell_type": "code",
   "execution_count": null,
   "metadata": {},
   "outputs": [],
   "source": []
  }
 ],
 "metadata": {
  "kernelspec": {
   "display_name": "Python (heterochromatin)",
   "language": "python",
   "name": "heterochromatin"
  },
  "language_info": {
   "codemirror_mode": {
    "name": "ipython",
    "version": 3
   },
   "file_extension": ".py",
   "mimetype": "text/x-python",
   "name": "python",
   "nbconvert_exporter": "python",
   "pygments_lexer": "ipython3",
   "version": "3.6.7"
  }
 },
 "nbformat": 4,
 "nbformat_minor": 2
}
