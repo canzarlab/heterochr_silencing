{
 "cells": [
  {
   "cell_type": "code",
   "execution_count": 1,
   "metadata": {},
   "outputs": [],
   "source": [
    "%load_ext autoreload\n",
    "%autoreload 2"
   ]
  },
  {
   "cell_type": "markdown",
   "metadata": {},
   "source": [
    "---------------------------"
   ]
  },
  {
   "cell_type": "markdown",
   "metadata": {},
   "source": [
    "## Config"
   ]
  },
  {
   "cell_type": "code",
   "execution_count": 2,
   "metadata": {},
   "outputs": [],
   "source": [
    "import sys"
   ]
  },
  {
   "cell_type": "code",
   "execution_count": 3,
   "metadata": {},
   "outputs": [],
   "source": [
    "project_dir = '/home/pmonteagudo/workspace/silencing_project'\n",
    "if project_dir not in sys.path: \n",
    "    sys.path.append(project_dir)\n",
    "from config_analysis import *"
   ]
  },
  {
   "cell_type": "markdown",
   "metadata": {},
   "source": [
    "---------------------------"
   ]
  },
  {
   "cell_type": "markdown",
   "metadata": {},
   "source": [
    "- Import dataframe containing **annotation of all samples**"
   ]
  },
  {
   "cell_type": "code",
   "execution_count": 4,
   "metadata": {},
   "outputs": [
    {
     "data": {
      "text/plain": [
       "'/gcm-lfs1/pablo/data/rna_silencing/seq_data/file_annotation.csv'"
      ]
     },
     "execution_count": 4,
     "metadata": {},
     "output_type": "execute_result"
    }
   ],
   "source": [
    "#sample_annotation_file = os.path.join(project_data_dir, 'seq_data', 'sample_annotation.csv')\n",
    "sample_annotation_file = os.path.join(project_data_dir, 'seq_data', 'file_annotation.csv')\n",
    "sample_annotation_file"
   ]
  },
  {
   "cell_type": "code",
   "execution_count": 5,
   "metadata": {},
   "outputs": [],
   "source": [
    "#select_cols = ['sample_id', 'pipeline_type', 'seq_category', 'seq_type',  'mutant_id', 'mutant', 'replicate', 'batch', 'trimmed', 'halic_local_dir']\n",
    "select_cols = ['sample_id', 'pipeline_type', 'seq_category', 'seq_type',  'mutant_id', 'mutant_name', 'replicate', 'trimmed']"
   ]
  },
  {
   "cell_type": "code",
   "execution_count": 6,
   "metadata": {},
   "outputs": [
    {
     "data": {
      "text/html": [
       "<div>\n",
       "<style scoped>\n",
       "    .dataframe tbody tr th:only-of-type {\n",
       "        vertical-align: middle;\n",
       "    }\n",
       "\n",
       "    .dataframe tbody tr th {\n",
       "        vertical-align: top;\n",
       "    }\n",
       "\n",
       "    .dataframe thead th {\n",
       "        text-align: right;\n",
       "    }\n",
       "</style>\n",
       "<table border=\"1\" class=\"dataframe\">\n",
       "  <thead>\n",
       "    <tr style=\"text-align: right;\">\n",
       "      <th></th>\n",
       "      <th>sample_id</th>\n",
       "      <th>pipeline_type</th>\n",
       "      <th>seq_category</th>\n",
       "      <th>seq_type</th>\n",
       "      <th>mutant_id</th>\n",
       "      <th>mutant_name</th>\n",
       "      <th>replicate</th>\n",
       "      <th>trimmed</th>\n",
       "    </tr>\n",
       "  </thead>\n",
       "  <tbody>\n",
       "    <tr>\n",
       "      <th>0</th>\n",
       "      <td>1022_S2-ChIP-INPUT_1</td>\n",
       "      <td>ChIP</td>\n",
       "      <td>INPUT</td>\n",
       "      <td>S2-ChIP-INPUT</td>\n",
       "      <td>1022</td>\n",
       "      <td>mot2d</td>\n",
       "      <td>1</td>\n",
       "      <td>False</td>\n",
       "    </tr>\n",
       "    <tr>\n",
       "      <th>1</th>\n",
       "      <td>1022_S2-ChIP-OIN_1</td>\n",
       "      <td>ChIP</td>\n",
       "      <td>INPUT</td>\n",
       "      <td>S2-ChIP-OIN</td>\n",
       "      <td>1022</td>\n",
       "      <td>mot2d</td>\n",
       "      <td>1</td>\n",
       "      <td>False</td>\n",
       "    </tr>\n",
       "    <tr>\n",
       "      <th>2</th>\n",
       "      <td>1022_S2-ChIP_1</td>\n",
       "      <td>ChIP</td>\n",
       "      <td>S2-ChIP</td>\n",
       "      <td>S2-ChIP</td>\n",
       "      <td>1022</td>\n",
       "      <td>mot2d</td>\n",
       "      <td>1</td>\n",
       "      <td>False</td>\n",
       "    </tr>\n",
       "    <tr>\n",
       "      <th>3</th>\n",
       "      <td>1022_S2-ChIP_2</td>\n",
       "      <td>ChIP</td>\n",
       "      <td>S2-ChIP</td>\n",
       "      <td>S2-ChIP</td>\n",
       "      <td>1022</td>\n",
       "      <td>mot2d</td>\n",
       "      <td>2</td>\n",
       "      <td>False</td>\n",
       "    </tr>\n",
       "    <tr>\n",
       "      <th>4</th>\n",
       "      <td>1022_S2-RIP_2</td>\n",
       "      <td>RNA</td>\n",
       "      <td>S2-RIP</td>\n",
       "      <td>S2-RIP</td>\n",
       "      <td>1022</td>\n",
       "      <td>mot2d</td>\n",
       "      <td>2</td>\n",
       "      <td>False</td>\n",
       "    </tr>\n",
       "  </tbody>\n",
       "</table>\n",
       "</div>"
      ],
      "text/plain": [
       "              sample_id pipeline_type seq_category       seq_type mutant_id  \\\n",
       "0  1022_S2-ChIP-INPUT_1          ChIP        INPUT  S2-ChIP-INPUT      1022   \n",
       "1    1022_S2-ChIP-OIN_1          ChIP        INPUT    S2-ChIP-OIN      1022   \n",
       "2        1022_S2-ChIP_1          ChIP      S2-ChIP        S2-ChIP      1022   \n",
       "3        1022_S2-ChIP_2          ChIP      S2-ChIP        S2-ChIP      1022   \n",
       "4         1022_S2-RIP_2           RNA       S2-RIP         S2-RIP      1022   \n",
       "\n",
       "  mutant_name  replicate  trimmed  \n",
       "0       mot2d          1    False  \n",
       "1       mot2d          1    False  \n",
       "2       mot2d          1    False  \n",
       "3       mot2d          2    False  \n",
       "4       mot2d          2    False  "
      ]
     },
     "execution_count": 6,
     "metadata": {},
     "output_type": "execute_result"
    }
   ],
   "source": [
    "all_samples_df = pd.read_csv(sample_annotation_file, sep=\"\\t\", usecols=select_cols)[select_cols]\n",
    "all_samples_df.head()"
   ]
  },
  {
   "cell_type": "code",
   "execution_count": 7,
   "metadata": {},
   "outputs": [
    {
     "data": {
      "text/plain": [
       "(150, 8)"
      ]
     },
     "execution_count": 7,
     "metadata": {},
     "output_type": "execute_result"
    }
   ],
   "source": [
    "all_samples_df.shape"
   ]
  },
  {
   "cell_type": "markdown",
   "metadata": {},
   "source": [
    "- **Ignore S2-RIP/S5-RIP samples** for now"
   ]
  },
  {
   "cell_type": "code",
   "execution_count": 8,
   "metadata": {},
   "outputs": [
    {
     "data": {
      "text/plain": [
       "(149, 8)"
      ]
     },
     "execution_count": 8,
     "metadata": {},
     "output_type": "execute_result"
    }
   ],
   "source": [
    "#all_samples_df = all_samples_df[all_samples_df['seq_type'] != 'S2-RIP']\n",
    "all_samples_df = all_samples_df[all_samples_df['seq_type'] != 'S5-RIP']\n",
    "all_samples_df.shape"
   ]
  },
  {
   "cell_type": "markdown",
   "metadata": {},
   "source": [
    "- **Ignore S2-ChIP/S5-ChIP samples** for now"
   ]
  },
  {
   "cell_type": "code",
   "execution_count": 9,
   "metadata": {},
   "outputs": [
    {
     "data": {
      "text/plain": [
       "(145, 8)"
      ]
     },
     "execution_count": 9,
     "metadata": {},
     "output_type": "execute_result"
    }
   ],
   "source": [
    "#all_samples_df = all_samples_df[all_samples_df['seq_type'] != 'S2-ChIP']\n",
    "all_samples_df = all_samples_df[all_samples_df['seq_type'] != 'S5-ChIP']\n",
    "all_samples_df.shape"
   ]
  },
  {
   "cell_type": "markdown",
   "metadata": {},
   "source": [
    "## Import **Intron Counts** Files: `pombe_intron_count_matrix.csv`"
   ]
  },
  {
   "cell_type": "code",
   "execution_count": 10,
   "metadata": {},
   "outputs": [],
   "source": [
    "ignore_categories = ['simulated-data', 'INPUT', 'H3K9me2']"
   ]
  },
  {
   "cell_type": "code",
   "execution_count": 11,
   "metadata": {},
   "outputs": [
    {
     "data": {
      "text/plain": [
       "['S2-ChIP', 'S2-RIP', 'pA-RNA', 'total-RNA']"
      ]
     },
     "execution_count": 11,
     "metadata": {},
     "output_type": "execute_result"
    }
   ],
   "source": [
    "#seq_categories = ['INPUT', 'pA-RNA', 'S2-ChIP', 'S2-RIP', 'total-RNA']\n",
    "seq_categories = all_samples_df['seq_category'].unique() ## wont work for 'simulated-data', 'H3K9me2' yet!\n",
    "seq_categories = [ss for ss in seq_categories if ss not in ignore_categories]\n",
    "seq_categories"
   ]
  },
  {
   "cell_type": "markdown",
   "metadata": {},
   "source": [
    "- Import **Intron Count** Data Frames: (for each `seq_category`)"
   ]
  },
  {
   "cell_type": "code",
   "execution_count": 12,
   "metadata": {},
   "outputs": [],
   "source": [
    "verbose = False\n",
    "verbose = True"
   ]
  },
  {
   "cell_type": "code",
   "execution_count": 13,
   "metadata": {},
   "outputs": [],
   "source": [
    "splice_ratios_summary = {}"
   ]
  },
  {
   "cell_type": "code",
   "execution_count": null,
   "metadata": {},
   "outputs": [
    {
     "name": "stdout",
     "output_type": "stream",
     "text": [
      "\n",
      " ---------------------------------------- \n",
      " S2-ChIP:\n",
      " \tintron_df: (2510, 31)\n",
      " \tgene_df: (2510, 31)\n",
      " ----------------------------------------\n",
      "> <ipython-input-19-2547a89a91dc>(72)<module>()\n",
      "-> gene_counts_file = os.path.join(project_data_dir, 'results', seq_category, 'xp_data/pombe_gene_count_matrix.csv')\n"
     ]
    },
    {
     "name": "stdin",
     "output_type": "stream",
     "text": [
      "(Pdb)  intron_df[['302_S2-RIP_2', '510_S2-RIP_1', 'WT_S2-RIP_1']].sum(axis=1).sort_values(ascending=False)\n"
     ]
    },
    {
     "name": "stdout",
     "output_type": "stream",
     "text": [
      "gene_id\n",
      "SPAC6F6.03c      21.319307\n",
      "SPAC6B12.15       9.840000\n",
      "SPAC29E6.08       8.928382\n",
      "SPBP8B7.16c       8.883019\n",
      "SPBC660.16        7.529218\n",
      "                   ...    \n",
      "SPBC30D10.02      0.000000\n",
      "SPBC30D10.03c     0.000000\n",
      "SPAC30D11.09      0.000000\n",
      "SPAC30D11.08c     0.000000\n",
      "SPCPJ732.03       0.000000\n",
      "Length: 2510, dtype: float64\n"
     ]
    },
    {
     "name": "stdin",
     "output_type": "stream",
     "text": [
      "(Pdb)  intron_df[['302_S2-RIP_2', '510_S2-RIP_1', 'WT_S2-RIP_1']].sum(axis=1).sort_values(ascending=False).head()\n"
     ]
    },
    {
     "name": "stdout",
     "output_type": "stream",
     "text": [
      "gene_id\n",
      "SPAC6F6.03c    21.319307\n",
      "SPAC6B12.15     9.840000\n",
      "SPAC29E6.08     8.928382\n",
      "SPBP8B7.16c     8.883019\n",
      "SPBC660.16      7.529218\n",
      "dtype: float64\n"
     ]
    },
    {
     "name": "stdin",
     "output_type": "stream",
     "text": [
      "(Pdb)  intron_df[['302_S2-RIP_2', '510_S2-RIP_1', 'WT_S2-RIP_1']].sum(axis=1).sort_values(ascending=False).head(20)\n"
     ]
    },
    {
     "name": "stdout",
     "output_type": "stream",
     "text": [
      "gene_id\n",
      "SPAC6F6.03c      21.319307\n",
      "SPAC6B12.15       9.840000\n",
      "SPAC29E6.08       8.928382\n",
      "SPBP8B7.16c       8.883019\n",
      "SPBC660.16        7.529218\n",
      "SPBC3B9.13c       5.960938\n",
      "SPCC830.09c       5.551724\n",
      "SPBC18H10.12c     5.453515\n",
      "SPCC23B6.01c      5.106383\n",
      "SPAC8C9.14        4.987607\n",
      "SPAC16.02c        4.616505\n",
      "SPAC15E1.03       4.605263\n",
      "SPAC24C9.06c      4.370429\n",
      "SPBC16G5.14c      4.281746\n",
      "SPAC4D7.10c       4.280303\n",
      "SPBC119.02        4.266667\n",
      "SPAC1639.01c      4.208754\n",
      "SPAC5D6.01        4.142857\n",
      "SPAC1805.13       4.053279\n",
      "SPBC1685.10       4.033058\n",
      "dtype: float64\n"
     ]
    }
   ],
   "source": [
    "for seq_category in seq_categories:\n",
    "#for seq_category in seq_categories[1:2]:\n",
    "    \n",
    "    # samples in 'seq_category'\n",
    "    sample_ids = all_samples_df[all_samples_df['seq_category'] == seq_category].sample_id.tolist()\n",
    "    #sample_ids =[ss for ss in sample_ids if not ('WT' in ss or '1022' in ss or '1023' in ss or '544' in ss or '591' in ss or '260' in ss)]\n",
    "\n",
    "    ## ----------------\n",
    "    ## A. Intron Counts\n",
    "    ## ----------------\n",
    "\n",
    "    #intron_counts_file = os.path.join(project_dir, 'results', seq_category, 'intron_xp_data/pombe_intron_count_matrix.csv')                      \n",
    "    intron_counts_file = os.path.join(project_data_dir, 'results', seq_category, 'intron_xp_data/pombe_intron_count_matrix.csv')                      \n",
    "    \n",
    "    # load intron counts data - can be that multiple 'intron' map to same 'gene_id'\n",
    "    #intron_df = pd.read_csv(intron_counts_file, index_col = 'gene_id', sep ='\\t')\n",
    "    intron_df = pd.read_csv(intron_counts_file, sep ='\\t')\n",
    "            #names=['var', os.path.basename(ff).split('.')[0]],\n",
    "            #index_col = 'var')\n",
    "    #intron_df.shape # (5372, n_samples + other)\n",
    "    \n",
    "    # make sure there are NO missing samples\n",
    "    in_sample_ids = list(set(sample_ids).intersection(intron_df.columns))\n",
    "    if len(in_sample_ids) < len(sample_ids):\n",
    "        print(seq_category)\n",
    "        excluded_samples = list(set(sample_ids).difference(in_sample_ids))\n",
    "        print(\"Excluding some samples! Not present in `pombe_intron_count_matrix.csv`:\\n\", excluded_samples)\n",
    "    \n",
    "    use_cols = in_sample_ids.copy()\n",
    "    use_cols.extend(['gene_id', 'intron_length', 'bio_type']) # add cols\n",
    "\n",
    "    # select columns of interest\n",
    "    intron_df = intron_df[use_cols]\n",
    "    \n",
    "    ## 1. Deal with NAs:\n",
    "    ## - 1.A. Remove NAs - might be not the best idea\n",
    "    #intron_df = intron_df.dropna(axis=0, how='all') \n",
    "    ## - 1.B. Fill NAs with 0s - originate from few reads mapping to introns\n",
    "    intron_df = intron_df.fillna(0)\n",
    "    \n",
    "    ## 2. Group Introns by 'gene_id's\n",
    "    #intron_df = intron_df.groupby('gene_id').sum()\n",
    "    intron_df = intron_df.groupby('gene_id').agg(\n",
    "        {ii: sum if (ii != \"bio_type\") else 'first' for ii in use_cols}) ## very slow\n",
    "    #intron_df.shape # (2562, n_samples)\n",
    "\n",
    "    ## 3. Filter: only use 'mRNA' (protein coding genes)\n",
    "    #intron_df = intron_df[intron_df['bio_type'] == 'mRNA']\n",
    "    #intron_df.shape # (2502, n_samples) # missing 10 pseudogenic-transcripts\n",
    "    # => https://www.pombase.org/faq/how-are-pombase-systematic-ids-determined\n",
    "    mrna_ids = ['SPAC', 'SPBC', 'SPCC', 'SPAP', 'SPBP', 'SPCP']\n",
    "    intron_df = intron_df[intron_df.index.str.contains('|'.join(mrna_ids))]\n",
    "    #intron_df.shape # (2510, n_samples) # missing 2 genes in mitochondrial chromosome\n",
    "    \n",
    "    #diff_genes = intron_df_1.index.difference(intron_df_2.index)\n",
    "    #diff_genes = intron_df_2.index.difference(intron_df_1.index)\n",
    "    #diff_genes = intron_df_1.index.symmetric_difference(intron_df_2.index)\n",
    "    #diff_genes_df = intron_df.loc[diff_genes]\n",
    "    \n",
    "    ## 4. Norm by `feature_length`: intron_length\n",
    "    intron_df = intron_df[in_sample_ids].apply(lambda col: col/intron_df['intron_length'])\n",
    "    \n",
    "    if (seq_category == 'S2-RIP'):\n",
    "        import pdb;pdb.set_trace()\n",
    "    #intron_df[['302_S2-RIP_2', '510_S2-RIP_1', 'WT_S2-RIP_1']].sum(axis=1).sort_values(ascending=False).head(20)\n",
    "    \n",
    "    ## --------------\n",
    "    ## B. Gene Counts\n",
    "    ## --------------\n",
    "\n",
    "    #gene_counts_file = os.path.join(project_dir, 'results', seq_category, 'xp_data/pombe_gene_count_matrix.csv')\n",
    "    gene_counts_file = os.path.join(project_data_dir, 'results', seq_category, 'xp_data/pombe_gene_count_matrix.csv')\n",
    "\n",
    "    use_cols = in_sample_ids.copy()\n",
    "    use_cols.extend(['gene_id', 'start', 'end']) # add cols\n",
    "    \n",
    "    # load gene counts data\n",
    "    gene_df = pd.read_csv(gene_counts_file, usecols=use_cols, index_col = 'gene_id', sep ='\\t')\n",
    "            #names=['var', os.path.basename(ff).split('.')[0]],\n",
    "            #index_col = 'var')\n",
    "    \n",
    "    # make sure there are NO missing samples\n",
    "    in_sample_ids = list(set(sample_ids).intersection(gene_df.columns))\n",
    "    if len(in_sample_ids) < len(sample_ids):\n",
    "        print(seq_category)\n",
    "        excluded_samples = list(set(sample_ids).difference(in_sample_ids))\n",
    "        print(\"Excluding some samples! Not present in `pombe_gene_count_matrix.csv`:\\n\", excluded_samples)\n",
    "    \n",
    "    ## 5. Filter: only use genes containing introns (present in 'intron_df')\n",
    "    gene_ids = intron_df.index\n",
    "    gene_df = gene_df.loc[gene_ids]\n",
    "    gene_df.shape # ?\n",
    "\n",
    "    ## 6. Norm by `feature_length`: gene_length\n",
    "    # use 'gene_length' the whole region spanned by the gene: (including Introns)\n",
    "    gene_df['gene_length'] = gene_df['end'] - gene_df['start'] + 1\n",
    "    gene_df = gene_df[in_sample_ids].apply(lambda col: col/gene_df['gene_length'])\n",
    "    \n",
    "    ## 7. Deal with NAs:\n",
    "    ## - 6.A. Remove NAs - will be handled by df.div()\n",
    "    #gene_df = gene_df.dropna(axis=0, how='all') \n",
    "    ## - 6.B. Fill NAs with 0s - might be not the best idea will be dividing by 0\n",
    "    #gene_df = gene_df.fillna(0)\n",
    "\n",
    "    if (seq_category == 'pA-RNA'):\n",
    "        import pdb;pdb.set_trace()\n",
    "    #gene_df[['302_S2-RIP_2', '510_S2-RIP_1', 'WT_S2-RIP_1']].sum(axis=1).sort_values(ascending=False).head(20)\n",
    "    \n",
    "    ## --------------------------\n",
    "    ## Splice Ratio - Intron/Gene\n",
    "    ## --------------------------\n",
    "    \n",
    "    if verbose:\n",
    "        print(\n",
    "            '\\n',\n",
    "            40 * '-', \n",
    "            '\\n {}:\\n \\tintron_df: {}\\n \\tgene_df: {}\\n'.format(seq_category, intron_df.shape, gene_df.shape),\n",
    "            40 * '-')\n",
    "\n",
    "    ## 8. Compute ratio - DataFrames have already been prepared (5298, n_samples)\n",
    "    splice_ratio = intron_df.div(gene_df)\n",
    "\n",
    "    ## 9. Summarize - by sample\n",
    "    splice_ratio = splice_ratio.describe()\n",
    "\n",
    "    # change samples to rows: ['count', 'mean', 'std', 'min', '25%', '50%', '75%', 'max']\n",
    "    splice_ratio = splice_ratio.transpose()\n",
    "\n",
    "    # index to column and rename to 'sample_id'\n",
    "    splice_ratio = splice_ratio.reset_index(drop=False).rename(columns = {'index':'sample_id'})  \n",
    "\n",
    "    splice_ratios_summary[seq_category] = splice_ratio"
   ]
  },
  {
   "cell_type": "code",
   "execution_count": null,
   "metadata": {},
   "outputs": [
    {
     "name": "stdout",
     "output_type": "stream",
     "text": [
      "/gcm-lfs1/pablo/data/rna_silencing/results/Ratios/Plots_29-03-21/Figure-S1/FigureS1-B_forward.png\n",
      "> /home/pmonteagudo/workspace/silencing_project/pyRNAdeg/viz_strands.py(548)scatter_plot_gene_params()\n",
      "-> if ('plus' in nn):\n"
     ]
    },
    {
     "name": "stdin",
     "output_type": "stream",
     "text": [
      "(Pdb)  c\n"
     ]
    },
    {
     "name": "stdout",
     "output_type": "stream",
     "text": [
      "> /home/pmonteagudo/workspace/silencing_project/pyRNAdeg/viz_strands.py(548)scatter_plot_gene_params()\n",
      "-> if ('plus' in nn):\n"
     ]
    },
    {
     "name": "stdin",
     "output_type": "stream",
     "text": [
      "(Pdb)  \n",
      "(Pdb)  \n"
     ]
    }
   ],
   "source": [
    "print(os.path.join(out_dir, 'FigureS1-B_forward.png'))\n",
    "\n",
    "scatter_plot(df, 'WT_S2-RIP', 'WT_pA-RNA',\n",
    "             out_dir,\n",
    "             'FigureS1-B_forward.png',\n",
    "             regressor=True,\n",
    "             #annotate=False,\n",
    "             annotate=True,\n",
    "             #include_mat_locus_vis = include_mat_locus_vis,\n",
    "             #include_mat_locus_vis = True,\n",
    "             include_mat_locus_vis = False,\n",
    "             xlabel='Pol II RIP\\n$\\mathrm{log_2TPM(wt)}$',\n",
    "             ylabel='pA RNA\\n$\\mathrm{log_2TPM(wt)}$', \n",
    "             xlim=14, ylim=14,\n",
    "             #ribo_color='dimgray'\n",
    "            )"
   ]
  },
  {
   "cell_type": "markdown",
   "metadata": {},
   "source": [
    "\n",
    "324_S2-RIP_3     137.401551\n",
    "491_S2-RIP_3     143.826639\n",
    "1022_S2-RIP_4    145.326684\n",
    "302_S2-RIP_1     149.896954\n",
    "80_S2-RIP_3      152.293262\n",
    "302_S2-RIP_3     156.906743\n",
    "324_S2-RIP_1     172.845930\n",
    "544_S2-RIP_1     178.058034\n",
    "491_S2-RIP_1     195.014542\n",
    "1022_S2-RIP_3    203.405633\n",
    "301_S2-RIP_1     218.135854\n",
    "544_S2-RIP_3     224.427207\n",
    "WT_S2-RIP_1      263.687148\n",
    "510_S2-RIP_1     267.267288\n",
    "302_S2-RIP_2     370.236112"
   ]
  },
  {
   "cell_type": "markdown",
   "metadata": {},
   "source": [
    "- Concatenate all different sequencing sample dataframes into one:"
   ]
  },
  {
   "cell_type": "code",
   "execution_count": 15,
   "metadata": {},
   "outputs": [],
   "source": [
    "#splice_ratios_summary"
   ]
  },
  {
   "cell_type": "code",
   "execution_count": 16,
   "metadata": {},
   "outputs": [],
   "source": [
    "col_order = ['sample_id', 'count', 'mean', 'std', 'min', '25%', '50%', '75%', 'max']"
   ]
  },
  {
   "cell_type": "code",
   "execution_count": 17,
   "metadata": {},
   "outputs": [
    {
     "data": {
      "text/html": [
       "<div>\n",
       "<style scoped>\n",
       "    .dataframe tbody tr th:only-of-type {\n",
       "        vertical-align: middle;\n",
       "    }\n",
       "\n",
       "    .dataframe tbody tr th {\n",
       "        vertical-align: top;\n",
       "    }\n",
       "\n",
       "    .dataframe thead th {\n",
       "        text-align: right;\n",
       "    }\n",
       "</style>\n",
       "<table border=\"1\" class=\"dataframe\">\n",
       "  <thead>\n",
       "    <tr style=\"text-align: right;\">\n",
       "      <th></th>\n",
       "      <th>sample_id</th>\n",
       "      <th>count</th>\n",
       "      <th>mean</th>\n",
       "      <th>std</th>\n",
       "      <th>min</th>\n",
       "      <th>25%</th>\n",
       "      <th>50%</th>\n",
       "      <th>75%</th>\n",
       "      <th>max</th>\n",
       "    </tr>\n",
       "  </thead>\n",
       "  <tbody>\n",
       "    <tr>\n",
       "      <th>0</th>\n",
       "      <td>504_S2-ChIP_2</td>\n",
       "      <td>2505.0</td>\n",
       "      <td>0.577553</td>\n",
       "      <td>0.683769</td>\n",
       "      <td>0.0</td>\n",
       "      <td>0.059226</td>\n",
       "      <td>0.371973</td>\n",
       "      <td>0.828184</td>\n",
       "      <td>5.278150</td>\n",
       "    </tr>\n",
       "    <tr>\n",
       "      <th>1</th>\n",
       "      <td>1168_S2-ChIP_2</td>\n",
       "      <td>2503.0</td>\n",
       "      <td>0.486137</td>\n",
       "      <td>0.645938</td>\n",
       "      <td>0.0</td>\n",
       "      <td>0.000000</td>\n",
       "      <td>0.273463</td>\n",
       "      <td>0.691513</td>\n",
       "      <td>8.587702</td>\n",
       "    </tr>\n",
       "    <tr>\n",
       "      <th>2</th>\n",
       "      <td>80_S2-ChIP_2</td>\n",
       "      <td>2505.0</td>\n",
       "      <td>0.502099</td>\n",
       "      <td>0.630799</td>\n",
       "      <td>0.0</td>\n",
       "      <td>0.000000</td>\n",
       "      <td>0.294592</td>\n",
       "      <td>0.741463</td>\n",
       "      <td>5.327656</td>\n",
       "    </tr>\n",
       "    <tr>\n",
       "      <th>3</th>\n",
       "      <td>1022_S2-ChIP_2</td>\n",
       "      <td>2505.0</td>\n",
       "      <td>0.464741</td>\n",
       "      <td>0.560996</td>\n",
       "      <td>0.0</td>\n",
       "      <td>0.052847</td>\n",
       "      <td>0.279774</td>\n",
       "      <td>0.658087</td>\n",
       "      <td>4.837845</td>\n",
       "    </tr>\n",
       "    <tr>\n",
       "      <th>4</th>\n",
       "      <td>491_S2-ChIP_3</td>\n",
       "      <td>2505.0</td>\n",
       "      <td>0.627903</td>\n",
       "      <td>0.651501</td>\n",
       "      <td>0.0</td>\n",
       "      <td>0.104380</td>\n",
       "      <td>0.455308</td>\n",
       "      <td>0.911365</td>\n",
       "      <td>5.660807</td>\n",
       "    </tr>\n",
       "  </tbody>\n",
       "</table>\n",
       "</div>"
      ],
      "text/plain": [
       "        sample_id   count      mean       std  min       25%       50%  \\\n",
       "0   504_S2-ChIP_2  2505.0  0.577553  0.683769  0.0  0.059226  0.371973   \n",
       "1  1168_S2-ChIP_2  2503.0  0.486137  0.645938  0.0  0.000000  0.273463   \n",
       "2    80_S2-ChIP_2  2505.0  0.502099  0.630799  0.0  0.000000  0.294592   \n",
       "3  1022_S2-ChIP_2  2505.0  0.464741  0.560996  0.0  0.052847  0.279774   \n",
       "4   491_S2-ChIP_3  2505.0  0.627903  0.651501  0.0  0.104380  0.455308   \n",
       "\n",
       "        75%       max  \n",
       "0  0.828184  5.278150  \n",
       "1  0.691513  8.587702  \n",
       "2  0.741463  5.327656  \n",
       "3  0.658087  4.837845  \n",
       "4  0.911365  5.660807  "
      ]
     },
     "execution_count": 17,
     "metadata": {},
     "output_type": "execute_result"
    }
   ],
   "source": [
    "splice_ratio_df = pd.concat(splice_ratios_summary, ignore_index=True, sort = True)[col_order]\n",
    "splice_ratio_df.head()"
   ]
  },
  {
   "cell_type": "code",
   "execution_count": 18,
   "metadata": {},
   "outputs": [
    {
     "data": {
      "text/plain": [
       "(110, 9)"
      ]
     },
     "execution_count": 18,
     "metadata": {},
     "output_type": "execute_result"
    }
   ],
   "source": [
    "splice_ratio_df.shape"
   ]
  },
  {
   "cell_type": "markdown",
   "metadata": {},
   "source": [
    "- Merge with sample **annotation** dataframe"
   ]
  },
  {
   "cell_type": "code",
   "execution_count": 19,
   "metadata": {},
   "outputs": [],
   "source": [
    "splice_ratio_df = pd.merge(all_samples_df, splice_ratio_df, on='sample_id')"
   ]
  },
  {
   "cell_type": "code",
   "execution_count": 20,
   "metadata": {},
   "outputs": [
    {
     "data": {
      "text/html": [
       "<div>\n",
       "<style scoped>\n",
       "    .dataframe tbody tr th:only-of-type {\n",
       "        vertical-align: middle;\n",
       "    }\n",
       "\n",
       "    .dataframe tbody tr th {\n",
       "        vertical-align: top;\n",
       "    }\n",
       "\n",
       "    .dataframe thead th {\n",
       "        text-align: right;\n",
       "    }\n",
       "</style>\n",
       "<table border=\"1\" class=\"dataframe\">\n",
       "  <thead>\n",
       "    <tr style=\"text-align: right;\">\n",
       "      <th></th>\n",
       "      <th>sample_id</th>\n",
       "      <th>pipeline_type</th>\n",
       "      <th>seq_category</th>\n",
       "      <th>seq_type</th>\n",
       "      <th>mutant_id</th>\n",
       "      <th>mutant_name</th>\n",
       "      <th>replicate</th>\n",
       "      <th>trimmed</th>\n",
       "      <th>count</th>\n",
       "      <th>mean</th>\n",
       "      <th>std</th>\n",
       "      <th>min</th>\n",
       "      <th>25%</th>\n",
       "      <th>50%</th>\n",
       "      <th>75%</th>\n",
       "      <th>max</th>\n",
       "    </tr>\n",
       "  </thead>\n",
       "  <tbody>\n",
       "    <tr>\n",
       "      <th>0</th>\n",
       "      <td>1022_S2-ChIP_1</td>\n",
       "      <td>ChIP</td>\n",
       "      <td>S2-ChIP</td>\n",
       "      <td>S2-ChIP</td>\n",
       "      <td>1022</td>\n",
       "      <td>mot2d</td>\n",
       "      <td>1</td>\n",
       "      <td>False</td>\n",
       "      <td>2504.0</td>\n",
       "      <td>0.472089</td>\n",
       "      <td>0.606093</td>\n",
       "      <td>0.0</td>\n",
       "      <td>0.000000</td>\n",
       "      <td>0.264097</td>\n",
       "      <td>0.683011</td>\n",
       "      <td>6.635846</td>\n",
       "    </tr>\n",
       "    <tr>\n",
       "      <th>1</th>\n",
       "      <td>1022_S2-ChIP_2</td>\n",
       "      <td>ChIP</td>\n",
       "      <td>S2-ChIP</td>\n",
       "      <td>S2-ChIP</td>\n",
       "      <td>1022</td>\n",
       "      <td>mot2d</td>\n",
       "      <td>2</td>\n",
       "      <td>False</td>\n",
       "      <td>2505.0</td>\n",
       "      <td>0.464741</td>\n",
       "      <td>0.560996</td>\n",
       "      <td>0.0</td>\n",
       "      <td>0.052847</td>\n",
       "      <td>0.279774</td>\n",
       "      <td>0.658087</td>\n",
       "      <td>4.837845</td>\n",
       "    </tr>\n",
       "    <tr>\n",
       "      <th>2</th>\n",
       "      <td>1022_S2-RIP_2</td>\n",
       "      <td>RNA</td>\n",
       "      <td>S2-RIP</td>\n",
       "      <td>S2-RIP</td>\n",
       "      <td>1022</td>\n",
       "      <td>mot2d</td>\n",
       "      <td>2</td>\n",
       "      <td>False</td>\n",
       "      <td>2471.0</td>\n",
       "      <td>0.396025</td>\n",
       "      <td>0.969131</td>\n",
       "      <td>0.0</td>\n",
       "      <td>0.000000</td>\n",
       "      <td>0.000000</td>\n",
       "      <td>0.276412</td>\n",
       "      <td>11.743013</td>\n",
       "    </tr>\n",
       "    <tr>\n",
       "      <th>3</th>\n",
       "      <td>1022_S2-RIP_3</td>\n",
       "      <td>RNA</td>\n",
       "      <td>S2-RIP</td>\n",
       "      <td>S2-RIP</td>\n",
       "      <td>1022</td>\n",
       "      <td>mot2d</td>\n",
       "      <td>3</td>\n",
       "      <td>False</td>\n",
       "      <td>2497.0</td>\n",
       "      <td>0.422064</td>\n",
       "      <td>0.570048</td>\n",
       "      <td>0.0</td>\n",
       "      <td>0.000000</td>\n",
       "      <td>0.221759</td>\n",
       "      <td>0.636267</td>\n",
       "      <td>5.152266</td>\n",
       "    </tr>\n",
       "    <tr>\n",
       "      <th>4</th>\n",
       "      <td>1022_S2-RIP_4</td>\n",
       "      <td>RNA</td>\n",
       "      <td>S2-RIP</td>\n",
       "      <td>S2-RIP</td>\n",
       "      <td>1022</td>\n",
       "      <td>mot2d</td>\n",
       "      <td>4</td>\n",
       "      <td>False</td>\n",
       "      <td>2491.0</td>\n",
       "      <td>0.342219</td>\n",
       "      <td>0.570551</td>\n",
       "      <td>0.0</td>\n",
       "      <td>0.000000</td>\n",
       "      <td>0.000000</td>\n",
       "      <td>0.495971</td>\n",
       "      <td>5.051780</td>\n",
       "    </tr>\n",
       "  </tbody>\n",
       "</table>\n",
       "</div>"
      ],
      "text/plain": [
       "        sample_id pipeline_type seq_category seq_type mutant_id mutant_name  \\\n",
       "0  1022_S2-ChIP_1          ChIP      S2-ChIP  S2-ChIP      1022       mot2d   \n",
       "1  1022_S2-ChIP_2          ChIP      S2-ChIP  S2-ChIP      1022       mot2d   \n",
       "2   1022_S2-RIP_2           RNA       S2-RIP   S2-RIP      1022       mot2d   \n",
       "3   1022_S2-RIP_3           RNA       S2-RIP   S2-RIP      1022       mot2d   \n",
       "4   1022_S2-RIP_4           RNA       S2-RIP   S2-RIP      1022       mot2d   \n",
       "\n",
       "   replicate  trimmed   count      mean       std  min       25%       50%  \\\n",
       "0          1    False  2504.0  0.472089  0.606093  0.0  0.000000  0.264097   \n",
       "1          2    False  2505.0  0.464741  0.560996  0.0  0.052847  0.279774   \n",
       "2          2    False  2471.0  0.396025  0.969131  0.0  0.000000  0.000000   \n",
       "3          3    False  2497.0  0.422064  0.570048  0.0  0.000000  0.221759   \n",
       "4          4    False  2491.0  0.342219  0.570551  0.0  0.000000  0.000000   \n",
       "\n",
       "        75%        max  \n",
       "0  0.683011   6.635846  \n",
       "1  0.658087   4.837845  \n",
       "2  0.276412  11.743013  \n",
       "3  0.636267   5.152266  \n",
       "4  0.495971   5.051780  "
      ]
     },
     "execution_count": 20,
     "metadata": {},
     "output_type": "execute_result"
    }
   ],
   "source": [
    "splice_ratio_df.head()"
   ]
  },
  {
   "cell_type": "code",
   "execution_count": 21,
   "metadata": {},
   "outputs": [
    {
     "data": {
      "text/plain": [
       "(110, 16)"
      ]
     },
     "execution_count": 21,
     "metadata": {},
     "output_type": "execute_result"
    }
   ],
   "source": [
    "splice_ratio_df.shape"
   ]
  },
  {
   "cell_type": "markdown",
   "metadata": {},
   "source": [
    "- Store dataframe containing annotation of all samples:"
   ]
  },
  {
   "cell_type": "code",
   "execution_count": 22,
   "metadata": {},
   "outputs": [
    {
     "data": {
      "text/plain": [
       "'/home/pmonteagudo/workspace/silencing_project/results/introns_splice_ratio.csv'"
      ]
     },
     "execution_count": 22,
     "metadata": {},
     "output_type": "execute_result"
    }
   ],
   "source": [
    "splice_ratio_file = os.path.join(project_dir, 'results', 'introns_splice_ratio.csv')\n",
    "splice_ratio_file"
   ]
  },
  {
   "cell_type": "code",
   "execution_count": 23,
   "metadata": {},
   "outputs": [],
   "source": [
    "splice_ratio_df.to_csv(splice_ratio_file, sep=\"\\t\", index=False)"
   ]
  },
  {
   "cell_type": "markdown",
   "metadata": {},
   "source": [
    "---------------------------"
   ]
  },
  {
   "cell_type": "markdown",
   "metadata": {},
   "source": [
    "# Visualization"
   ]
  },
  {
   "cell_type": "code",
   "execution_count": 24,
   "metadata": {},
   "outputs": [],
   "source": [
    "import seaborn as sns"
   ]
  },
  {
   "cell_type": "code",
   "execution_count": 25,
   "metadata": {},
   "outputs": [],
   "source": [
    "import matplotlib.pyplot as plt"
   ]
  },
  {
   "cell_type": "markdown",
   "metadata": {},
   "source": [
    "- Prepare Data Frame into tidy format for visualization using seaborn"
   ]
  },
  {
   "cell_type": "code",
   "execution_count": 26,
   "metadata": {},
   "outputs": [],
   "source": [
    "id_vars = select_cols.copy()\n",
    "#id_vars.append('star_log_file')"
   ]
  },
  {
   "cell_type": "code",
   "execution_count": 27,
   "metadata": {},
   "outputs": [],
   "source": [
    "#id_vars"
   ]
  },
  {
   "cell_type": "code",
   "execution_count": 28,
   "metadata": {},
   "outputs": [],
   "source": [
    "splice_ratio_tidy_df = pd.melt(splice_ratio_df, id_vars = id_vars, var_name = 'splice_ratio')\n",
    "#splice_ratio_tidy_df = splice_ratio_tidy_df.astype({'value':'float64'})"
   ]
  },
  {
   "cell_type": "code",
   "execution_count": 29,
   "metadata": {},
   "outputs": [
    {
     "data": {
      "text/html": [
       "<div>\n",
       "<style scoped>\n",
       "    .dataframe tbody tr th:only-of-type {\n",
       "        vertical-align: middle;\n",
       "    }\n",
       "\n",
       "    .dataframe tbody tr th {\n",
       "        vertical-align: top;\n",
       "    }\n",
       "\n",
       "    .dataframe thead th {\n",
       "        text-align: right;\n",
       "    }\n",
       "</style>\n",
       "<table border=\"1\" class=\"dataframe\">\n",
       "  <thead>\n",
       "    <tr style=\"text-align: right;\">\n",
       "      <th></th>\n",
       "      <th>sample_id</th>\n",
       "      <th>pipeline_type</th>\n",
       "      <th>seq_category</th>\n",
       "      <th>seq_type</th>\n",
       "      <th>mutant_id</th>\n",
       "      <th>mutant_name</th>\n",
       "      <th>replicate</th>\n",
       "      <th>trimmed</th>\n",
       "      <th>splice_ratio</th>\n",
       "      <th>value</th>\n",
       "    </tr>\n",
       "  </thead>\n",
       "  <tbody>\n",
       "    <tr>\n",
       "      <th>0</th>\n",
       "      <td>1022_S2-ChIP_1</td>\n",
       "      <td>ChIP</td>\n",
       "      <td>S2-ChIP</td>\n",
       "      <td>S2-ChIP</td>\n",
       "      <td>1022</td>\n",
       "      <td>mot2d</td>\n",
       "      <td>1</td>\n",
       "      <td>False</td>\n",
       "      <td>count</td>\n",
       "      <td>2504.0</td>\n",
       "    </tr>\n",
       "    <tr>\n",
       "      <th>1</th>\n",
       "      <td>1022_S2-ChIP_2</td>\n",
       "      <td>ChIP</td>\n",
       "      <td>S2-ChIP</td>\n",
       "      <td>S2-ChIP</td>\n",
       "      <td>1022</td>\n",
       "      <td>mot2d</td>\n",
       "      <td>2</td>\n",
       "      <td>False</td>\n",
       "      <td>count</td>\n",
       "      <td>2505.0</td>\n",
       "    </tr>\n",
       "    <tr>\n",
       "      <th>2</th>\n",
       "      <td>1022_S2-RIP_2</td>\n",
       "      <td>RNA</td>\n",
       "      <td>S2-RIP</td>\n",
       "      <td>S2-RIP</td>\n",
       "      <td>1022</td>\n",
       "      <td>mot2d</td>\n",
       "      <td>2</td>\n",
       "      <td>False</td>\n",
       "      <td>count</td>\n",
       "      <td>2471.0</td>\n",
       "    </tr>\n",
       "    <tr>\n",
       "      <th>3</th>\n",
       "      <td>1022_S2-RIP_3</td>\n",
       "      <td>RNA</td>\n",
       "      <td>S2-RIP</td>\n",
       "      <td>S2-RIP</td>\n",
       "      <td>1022</td>\n",
       "      <td>mot2d</td>\n",
       "      <td>3</td>\n",
       "      <td>False</td>\n",
       "      <td>count</td>\n",
       "      <td>2497.0</td>\n",
       "    </tr>\n",
       "    <tr>\n",
       "      <th>4</th>\n",
       "      <td>1022_S2-RIP_4</td>\n",
       "      <td>RNA</td>\n",
       "      <td>S2-RIP</td>\n",
       "      <td>S2-RIP</td>\n",
       "      <td>1022</td>\n",
       "      <td>mot2d</td>\n",
       "      <td>4</td>\n",
       "      <td>False</td>\n",
       "      <td>count</td>\n",
       "      <td>2491.0</td>\n",
       "    </tr>\n",
       "  </tbody>\n",
       "</table>\n",
       "</div>"
      ],
      "text/plain": [
       "        sample_id pipeline_type seq_category seq_type mutant_id mutant_name  \\\n",
       "0  1022_S2-ChIP_1          ChIP      S2-ChIP  S2-ChIP      1022       mot2d   \n",
       "1  1022_S2-ChIP_2          ChIP      S2-ChIP  S2-ChIP      1022       mot2d   \n",
       "2   1022_S2-RIP_2           RNA       S2-RIP   S2-RIP      1022       mot2d   \n",
       "3   1022_S2-RIP_3           RNA       S2-RIP   S2-RIP      1022       mot2d   \n",
       "4   1022_S2-RIP_4           RNA       S2-RIP   S2-RIP      1022       mot2d   \n",
       "\n",
       "   replicate  trimmed splice_ratio   value  \n",
       "0          1    False        count  2504.0  \n",
       "1          2    False        count  2505.0  \n",
       "2          2    False        count  2471.0  \n",
       "3          3    False        count  2497.0  \n",
       "4          4    False        count  2491.0  "
      ]
     },
     "execution_count": 29,
     "metadata": {},
     "output_type": "execute_result"
    }
   ],
   "source": [
    "splice_ratio_tidy_df.head()"
   ]
  },
  {
   "cell_type": "code",
   "execution_count": 30,
   "metadata": {},
   "outputs": [
    {
     "data": {
      "text/plain": [
       "(880, 10)"
      ]
     },
     "execution_count": 30,
     "metadata": {},
     "output_type": "execute_result"
    }
   ],
   "source": [
    "splice_ratio_tidy_df.shape"
   ]
  },
  {
   "cell_type": "markdown",
   "metadata": {},
   "source": [
    "- Variables that can be used for plotting"
   ]
  },
  {
   "cell_type": "code",
   "execution_count": 31,
   "metadata": {},
   "outputs": [
    {
     "data": {
      "text/plain": [
       "array(['count', 'mean', 'std', 'min', '25%', '50%', '75%', 'max'],\n",
       "      dtype=object)"
      ]
     },
     "execution_count": 31,
     "metadata": {},
     "output_type": "execute_result"
    }
   ],
   "source": [
    "plot_vars = splice_ratio_tidy_df['splice_ratio'].unique()\n",
    "plot_vars"
   ]
  },
  {
   "cell_type": "markdown",
   "metadata": {},
   "source": [
    "## Average Splice Ratio - `intron/gene`"
   ]
  },
  {
   "cell_type": "code",
   "execution_count": 32,
   "metadata": {},
   "outputs": [],
   "source": [
    "plot_abs_vars = ['mean']"
   ]
  },
  {
   "cell_type": "code",
   "execution_count": 33,
   "metadata": {},
   "outputs": [],
   "source": [
    "splice_ratio_plot = splice_ratio_tidy_df[splice_ratio_tidy_df[\"splice_ratio\"].isin(plot_abs_vars)]\n",
    "#splice_ratio_plot"
   ]
  },
  {
   "cell_type": "code",
   "execution_count": 34,
   "metadata": {},
   "outputs": [],
   "source": [
    "## Filter INPUT/OIN: Ratio to high!\n",
    "splice_ratio_plot = splice_ratio_plot[~splice_ratio_plot[\"seq_type\"].isin(['S2-ChIP-INPUT', 'S2-ChIP-OIN'])]\n",
    "#trna_plot"
   ]
  },
  {
   "cell_type": "code",
   "execution_count": 35,
   "metadata": {},
   "outputs": [
    {
     "data": {
      "image/png": "[encoded data removed]",
      "text/plain": [
       "<Figure size 396x360 with 1 Axes>"
      ]
     },
     "metadata": {
      "needs_background": "light"
     },
     "output_type": "display_data"
    }
   ],
   "source": [
    "box_plot = sns.catplot(x=\"seq_type\", y=\"value\",\n",
    "                       hue=\"seq_category\", col=\"splice_ratio\",\n",
    "                       order=['pA-RNA', 'S2-RIP', 'S2-ChIP', 'total-RNA'],\n",
    "                       hue_order=['pA-RNA', 'S2-RIP', 'S2-ChIP', 'total-RNA'],\n",
    "                       data=splice_ratio_plot, kind=\"box\",\n",
    "                       aspect= 1.1,\n",
    "                       dodge = False,\n",
    "                       width = 0.7,\n",
    "                       legend = False, \n",
    "                       #showfliers=True) \n",
    "                       showfliers=False) ## remove outliers\n",
    "\n",
    "box_plot.set_xticklabels(rotation=45, fontsize=20)\n",
    "box_plot.set_yticklabels(fontsize=20)\n",
    "\n",
    "#box_plot.set_xlabels('Sequencing Assay', fontsize=35) # not set_label\n",
    "#box_plot.set_ylabels('Splice Ratio', fontsize=35)\n",
    "box_plot.set_xlabels('') # not set_label\n",
    "box_plot.set_ylabels('')\n",
    "\n",
    "#box_plot._legend.set_title(\"Sequencing Assay\")\n",
    "#plt.setp(box_plot._legend.get_texts(), fontsize='22') # for legend text\n",
    "#plt.setp(box_plot._legend.get_title(), fontsize='32') # for legend title\n",
    "\n",
    "axes = box_plot.axes.flatten()\n",
    "axes[0].set_title(\"\")\n",
    "\n",
    "splice_ratio_fig = os.path.join(project_dir, 'results', 'splice_ratio.pdf')\n",
    "box_plot.savefig(splice_ratio_fig)"
   ]
  },
  {
   "cell_type": "code",
   "execution_count": 36,
   "metadata": {},
   "outputs": [
    {
     "data": {
      "text/plain": [
       "'/home/pmonteagudo/workspace/silencing_project/results/splice_ratio.pdf'"
      ]
     },
     "execution_count": 36,
     "metadata": {},
     "output_type": "execute_result"
    }
   ],
   "source": [
    "splice_ratio_fig"
   ]
  },
  {
   "cell_type": "markdown",
   "metadata": {},
   "source": [
    "## Intron length distribution"
   ]
  },
  {
   "cell_type": "markdown",
   "metadata": {},
   "source": [
    "- Import **Gene Information Table**: GDF file"
   ]
  },
  {
   "cell_type": "code",
   "execution_count": 37,
   "metadata": {},
   "outputs": [],
   "source": [
    "gdf_file = os.path.join(project_data_dir, 'annotation/gff_v2/Schizosaccharomyces_pombe_all_chromosomes.extended.features.csv')"
   ]
  },
  {
   "cell_type": "code",
   "execution_count": 38,
   "metadata": {},
   "outputs": [],
   "source": [
    "gdf = pd.read_csv(gdf_file, index_col = 'gene_id', sep ='\\t')"
   ]
  },
  {
   "cell_type": "code",
   "execution_count": 39,
   "metadata": {},
   "outputs": [
    {
     "data": {
      "text/html": [
       "<div>\n",
       "<style scoped>\n",
       "    .dataframe tbody tr th:only-of-type {\n",
       "        vertical-align: middle;\n",
       "    }\n",
       "\n",
       "    .dataframe tbody tr th {\n",
       "        vertical-align: top;\n",
       "    }\n",
       "\n",
       "    .dataframe thead th {\n",
       "        text-align: right;\n",
       "    }\n",
       "</style>\n",
       "<table border=\"1\" class=\"dataframe\">\n",
       "  <thead>\n",
       "    <tr style=\"text-align: right;\">\n",
       "      <th></th>\n",
       "      <th>seqid</th>\n",
       "      <th>source</th>\n",
       "      <th>type</th>\n",
       "      <th>start</th>\n",
       "      <th>end</th>\n",
       "      <th>score</th>\n",
       "      <th>strand</th>\n",
       "      <th>phase</th>\n",
       "      <th>ID</th>\n",
       "      <th>Name</th>\n",
       "      <th>gene_name</th>\n",
       "      <th>transcript_id</th>\n",
       "      <th>cds_length</th>\n",
       "      <th>utr_length</th>\n",
       "      <th>intron_length</th>\n",
       "      <th>bio_type</th>\n",
       "      <th>gene_length</th>\n",
       "      <th>transcript_length</th>\n",
       "      <th>category</th>\n",
       "    </tr>\n",
       "    <tr>\n",
       "      <th>gene_id</th>\n",
       "      <th></th>\n",
       "      <th></th>\n",
       "      <th></th>\n",
       "      <th></th>\n",
       "      <th></th>\n",
       "      <th></th>\n",
       "      <th></th>\n",
       "      <th></th>\n",
       "      <th></th>\n",
       "      <th></th>\n",
       "      <th></th>\n",
       "      <th></th>\n",
       "      <th></th>\n",
       "      <th></th>\n",
       "      <th></th>\n",
       "      <th></th>\n",
       "      <th></th>\n",
       "      <th></th>\n",
       "      <th></th>\n",
       "    </tr>\n",
       "  </thead>\n",
       "  <tbody>\n",
       "    <tr>\n",
       "      <th>SPAC1002.01</th>\n",
       "      <td>I</td>\n",
       "      <td>PomBase</td>\n",
       "      <td>gene</td>\n",
       "      <td>1798347</td>\n",
       "      <td>1799015</td>\n",
       "      <td>.</td>\n",
       "      <td>+</td>\n",
       "      <td>.</td>\n",
       "      <td>SPAC1002.01</td>\n",
       "      <td>mrx11</td>\n",
       "      <td>mrx11</td>\n",
       "      <td>SPAC1002.01.1</td>\n",
       "      <td>540.0</td>\n",
       "      <td>NaN</td>\n",
       "      <td>129.0</td>\n",
       "      <td>mRNA</td>\n",
       "      <td>669</td>\n",
       "      <td>540.0</td>\n",
       "      <td>gene</td>\n",
       "    </tr>\n",
       "    <tr>\n",
       "      <th>SPAC1002.02</th>\n",
       "      <td>I</td>\n",
       "      <td>PomBase</td>\n",
       "      <td>gene</td>\n",
       "      <td>1799061</td>\n",
       "      <td>1800053</td>\n",
       "      <td>.</td>\n",
       "      <td>+</td>\n",
       "      <td>.</td>\n",
       "      <td>SPAC1002.02</td>\n",
       "      <td>pom34</td>\n",
       "      <td>pom34</td>\n",
       "      <td>SPAC1002.02.1</td>\n",
       "      <td>690.0</td>\n",
       "      <td>303.0</td>\n",
       "      <td>NaN</td>\n",
       "      <td>mRNA</td>\n",
       "      <td>993</td>\n",
       "      <td>993.0</td>\n",
       "      <td>gene</td>\n",
       "    </tr>\n",
       "    <tr>\n",
       "      <th>SPAC1002.03c</th>\n",
       "      <td>I</td>\n",
       "      <td>PomBase</td>\n",
       "      <td>gene</td>\n",
       "      <td>1799915</td>\n",
       "      <td>1803141</td>\n",
       "      <td>.</td>\n",
       "      <td>-</td>\n",
       "      <td>.</td>\n",
       "      <td>SPAC1002.03c</td>\n",
       "      <td>gls2</td>\n",
       "      <td>gls2</td>\n",
       "      <td>SPAC1002.03c.1</td>\n",
       "      <td>2772.0</td>\n",
       "      <td>455.0</td>\n",
       "      <td>NaN</td>\n",
       "      <td>mRNA</td>\n",
       "      <td>3227</td>\n",
       "      <td>3227.0</td>\n",
       "      <td>gene</td>\n",
       "    </tr>\n",
       "    <tr>\n",
       "      <th>SPAC1002.04c</th>\n",
       "      <td>I</td>\n",
       "      <td>PomBase</td>\n",
       "      <td>gene</td>\n",
       "      <td>1803624</td>\n",
       "      <td>1804491</td>\n",
       "      <td>.</td>\n",
       "      <td>-</td>\n",
       "      <td>.</td>\n",
       "      <td>SPAC1002.04c</td>\n",
       "      <td>taf11</td>\n",
       "      <td>taf11</td>\n",
       "      <td>SPAC1002.04c.1</td>\n",
       "      <td>600.0</td>\n",
       "      <td>268.0</td>\n",
       "      <td>NaN</td>\n",
       "      <td>mRNA</td>\n",
       "      <td>868</td>\n",
       "      <td>868.0</td>\n",
       "      <td>gene</td>\n",
       "    </tr>\n",
       "    <tr>\n",
       "      <th>SPAC1002.05c</th>\n",
       "      <td>I</td>\n",
       "      <td>PomBase</td>\n",
       "      <td>gene</td>\n",
       "      <td>1804548</td>\n",
       "      <td>1806797</td>\n",
       "      <td>.</td>\n",
       "      <td>-</td>\n",
       "      <td>.</td>\n",
       "      <td>SPAC1002.05c</td>\n",
       "      <td>jmj2</td>\n",
       "      <td>jmj2</td>\n",
       "      <td>SPAC1002.05c.1</td>\n",
       "      <td>2148.0</td>\n",
       "      <td>102.0</td>\n",
       "      <td>NaN</td>\n",
       "      <td>mRNA</td>\n",
       "      <td>2250</td>\n",
       "      <td>2250.0</td>\n",
       "      <td>gene</td>\n",
       "    </tr>\n",
       "  </tbody>\n",
       "</table>\n",
       "</div>"
      ],
      "text/plain": [
       "             seqid   source  type    start      end score strand phase  \\\n",
       "gene_id                                                                  \n",
       "SPAC1002.01      I  PomBase  gene  1798347  1799015     .      +     .   \n",
       "SPAC1002.02      I  PomBase  gene  1799061  1800053     .      +     .   \n",
       "SPAC1002.03c     I  PomBase  gene  1799915  1803141     .      -     .   \n",
       "SPAC1002.04c     I  PomBase  gene  1803624  1804491     .      -     .   \n",
       "SPAC1002.05c     I  PomBase  gene  1804548  1806797     .      -     .   \n",
       "\n",
       "                        ID   Name gene_name   transcript_id  cds_length  \\\n",
       "gene_id                                                                   \n",
       "SPAC1002.01    SPAC1002.01  mrx11     mrx11   SPAC1002.01.1       540.0   \n",
       "SPAC1002.02    SPAC1002.02  pom34     pom34   SPAC1002.02.1       690.0   \n",
       "SPAC1002.03c  SPAC1002.03c   gls2      gls2  SPAC1002.03c.1      2772.0   \n",
       "SPAC1002.04c  SPAC1002.04c  taf11     taf11  SPAC1002.04c.1       600.0   \n",
       "SPAC1002.05c  SPAC1002.05c   jmj2      jmj2  SPAC1002.05c.1      2148.0   \n",
       "\n",
       "              utr_length  intron_length bio_type  gene_length  \\\n",
       "gene_id                                                         \n",
       "SPAC1002.01          NaN          129.0     mRNA          669   \n",
       "SPAC1002.02        303.0            NaN     mRNA          993   \n",
       "SPAC1002.03c       455.0            NaN     mRNA         3227   \n",
       "SPAC1002.04c       268.0            NaN     mRNA          868   \n",
       "SPAC1002.05c       102.0            NaN     mRNA         2250   \n",
       "\n",
       "              transcript_length category  \n",
       "gene_id                                   \n",
       "SPAC1002.01               540.0     gene  \n",
       "SPAC1002.02               993.0     gene  \n",
       "SPAC1002.03c             3227.0     gene  \n",
       "SPAC1002.04c              868.0     gene  \n",
       "SPAC1002.05c             2250.0     gene  "
      ]
     },
     "execution_count": 39,
     "metadata": {},
     "output_type": "execute_result"
    }
   ],
   "source": [
    "gdf.head()"
   ]
  },
  {
   "cell_type": "code",
   "execution_count": 40,
   "metadata": {},
   "outputs": [
    {
     "data": {
      "text/plain": [
       "(7018, 19)"
      ]
     },
     "execution_count": 40,
     "metadata": {},
     "output_type": "execute_result"
    }
   ],
   "source": [
    "gdf.shape"
   ]
  },
  {
   "cell_type": "markdown",
   "metadata": {},
   "source": [
    "- Prepare **intron length** information"
   ]
  },
  {
   "cell_type": "code",
   "execution_count": 41,
   "metadata": {},
   "outputs": [],
   "source": [
    "id_vars = ['intron_length', 'gene_length']"
   ]
  },
  {
   "cell_type": "code",
   "execution_count": 42,
   "metadata": {},
   "outputs": [
    {
     "data": {
      "text/plain": [
       "(2500, 3)"
      ]
     },
     "execution_count": 42,
     "metadata": {},
     "output_type": "execute_result"
    }
   ],
   "source": [
    "# use 'gene_length' as the whole region spanned by the gene: (including Introns)\n",
    "gdf['gene_length'] = gdf['end'] - gdf['start'] + 1\n",
    "    \n",
    "# only use Protein Coding genes for Intron analysis\n",
    "gdf = gdf[gdf['bio_type'] == 'mRNA'][id_vars]\n",
    "# => https://www.pombase.org/faq/how-are-pombase-systematic-ids-determined\n",
    "mrna_ids = ['SPAC', 'SPBC', 'SPCC', 'SPAP', 'SPBP', 'SPCP']\n",
    "gdf = gdf[gdf.index.str.contains('|'.join(mrna_ids))]\n",
    "    \n",
    "# drop gene entries that do not have introns:\n",
    "gdf = gdf.dropna(axis=0, how='all', subset=['intron_length'])\n",
    "\n",
    "# compute intron/gene length ratio\n",
    "gdf['ratio_intron_gene_length'] = gdf['intron_length'] / gdf['gene_length']\n",
    "\n",
    "gdf.shape"
   ]
  },
  {
   "cell_type": "markdown",
   "metadata": {},
   "source": [
    "Introns that are **longer than genes** (not possible by construction)"
   ]
  },
  {
   "cell_type": "code",
   "execution_count": 43,
   "metadata": {},
   "outputs": [
    {
     "data": {
      "text/html": [
       "<div>\n",
       "<style scoped>\n",
       "    .dataframe tbody tr th:only-of-type {\n",
       "        vertical-align: middle;\n",
       "    }\n",
       "\n",
       "    .dataframe tbody tr th {\n",
       "        vertical-align: top;\n",
       "    }\n",
       "\n",
       "    .dataframe thead th {\n",
       "        text-align: right;\n",
       "    }\n",
       "</style>\n",
       "<table border=\"1\" class=\"dataframe\">\n",
       "  <thead>\n",
       "    <tr style=\"text-align: right;\">\n",
       "      <th></th>\n",
       "      <th>intron_length</th>\n",
       "      <th>gene_length</th>\n",
       "      <th>ratio_intron_gene_length</th>\n",
       "    </tr>\n",
       "    <tr>\n",
       "      <th>gene_id</th>\n",
       "      <th></th>\n",
       "      <th></th>\n",
       "      <th></th>\n",
       "    </tr>\n",
       "  </thead>\n",
       "  <tbody>\n",
       "  </tbody>\n",
       "</table>\n",
       "</div>"
      ],
      "text/plain": [
       "Empty DataFrame\n",
       "Columns: [intron_length, gene_length, ratio_intron_gene_length]\n",
       "Index: []"
      ]
     },
     "execution_count": 43,
     "metadata": {},
     "output_type": "execute_result"
    }
   ],
   "source": [
    "gdf[gdf['ratio_intron_gene_length'] >= 1]"
   ]
  },
  {
   "cell_type": "markdown",
   "metadata": {},
   "source": [
    "- Prepare Data Frame into tidy format for visualization using `seaborn`\n",
    "    - var: `length`\n",
    "        - 'intron_length'\n",
    "        - 'gene_length'\n",
    "        - 'ratio_intron_gene_length'"
   ]
  },
  {
   "cell_type": "code",
   "execution_count": 44,
   "metadata": {},
   "outputs": [],
   "source": [
    "gdf_intron_tidy_df = pd.melt(gdf, var_name = 'length')"
   ]
  },
  {
   "cell_type": "code",
   "execution_count": 45,
   "metadata": {},
   "outputs": [
    {
     "data": {
      "text/html": [
       "<div>\n",
       "<style scoped>\n",
       "    .dataframe tbody tr th:only-of-type {\n",
       "        vertical-align: middle;\n",
       "    }\n",
       "\n",
       "    .dataframe tbody tr th {\n",
       "        vertical-align: top;\n",
       "    }\n",
       "\n",
       "    .dataframe thead th {\n",
       "        text-align: right;\n",
       "    }\n",
       "</style>\n",
       "<table border=\"1\" class=\"dataframe\">\n",
       "  <thead>\n",
       "    <tr style=\"text-align: right;\">\n",
       "      <th></th>\n",
       "      <th>length</th>\n",
       "      <th>value</th>\n",
       "    </tr>\n",
       "  </thead>\n",
       "  <tbody>\n",
       "    <tr>\n",
       "      <th>0</th>\n",
       "      <td>intron_length</td>\n",
       "      <td>129.0</td>\n",
       "    </tr>\n",
       "    <tr>\n",
       "      <th>1</th>\n",
       "      <td>intron_length</td>\n",
       "      <td>155.0</td>\n",
       "    </tr>\n",
       "    <tr>\n",
       "      <th>2</th>\n",
       "      <td>intron_length</td>\n",
       "      <td>493.0</td>\n",
       "    </tr>\n",
       "    <tr>\n",
       "      <th>3</th>\n",
       "      <td>intron_length</td>\n",
       "      <td>251.0</td>\n",
       "    </tr>\n",
       "    <tr>\n",
       "      <th>4</th>\n",
       "      <td>intron_length</td>\n",
       "      <td>522.0</td>\n",
       "    </tr>\n",
       "  </tbody>\n",
       "</table>\n",
       "</div>"
      ],
      "text/plain": [
       "          length  value\n",
       "0  intron_length  129.0\n",
       "1  intron_length  155.0\n",
       "2  intron_length  493.0\n",
       "3  intron_length  251.0\n",
       "4  intron_length  522.0"
      ]
     },
     "execution_count": 45,
     "metadata": {},
     "output_type": "execute_result"
    }
   ],
   "source": [
    "gdf_intron_tidy_df.head()"
   ]
  },
  {
   "cell_type": "code",
   "execution_count": 46,
   "metadata": {},
   "outputs": [
    {
     "data": {
      "text/plain": [
       "(7500, 2)"
      ]
     },
     "execution_count": 46,
     "metadata": {},
     "output_type": "execute_result"
    }
   ],
   "source": [
    "gdf_intron_tidy_df.shape"
   ]
  },
  {
   "cell_type": "markdown",
   "metadata": {},
   "source": [
    "- Variables that can be used for plotting"
   ]
  },
  {
   "cell_type": "code",
   "execution_count": 47,
   "metadata": {},
   "outputs": [
    {
     "data": {
      "text/plain": [
       "array(['intron_length', 'gene_length', 'ratio_intron_gene_length'],\n",
       "      dtype=object)"
      ]
     },
     "execution_count": 47,
     "metadata": {},
     "output_type": "execute_result"
    }
   ],
   "source": [
    "plot_vars = gdf_intron_tidy_df['length'].unique()\n",
    "plot_vars"
   ]
  },
  {
   "cell_type": "markdown",
   "metadata": {},
   "source": [
    "## Average Intron vs Gene length"
   ]
  },
  {
   "cell_type": "markdown",
   "metadata": {},
   "source": [
    "- **Plot**: Intron length and Gene length"
   ]
  },
  {
   "cell_type": "code",
   "execution_count": 48,
   "metadata": {},
   "outputs": [],
   "source": [
    "plot_abs_vars = ['intron_length', 'gene_length']"
   ]
  },
  {
   "cell_type": "code",
   "execution_count": 49,
   "metadata": {},
   "outputs": [],
   "source": [
    "gdf_intron_plot = gdf_intron_tidy_df[gdf_intron_tidy_df[\"length\"].isin(plot_abs_vars)]\n",
    "gdf_intron_plot = gdf_intron_plot.astype({'value':'float64'})"
   ]
  },
  {
   "cell_type": "code",
   "execution_count": 50,
   "metadata": {},
   "outputs": [],
   "source": [
    "#gdf_intron_plot"
   ]
  },
  {
   "cell_type": "code",
   "execution_count": 51,
   "metadata": {},
   "outputs": [
    {
     "data": {
      "image/png": "[encoded data removed]",
      "text/plain": [
       "<Figure size 432x288 with 1 Axes>"
      ]
     },
     "metadata": {
      "needs_background": "light"
     },
     "output_type": "display_data"
    }
   ],
   "source": [
    "#box_plot = sns.pairplot(gdf_intron_plot, hue=\"length\")\n",
    "box_plot = sns.boxplot(x=\"length\", y=\"value\", hue=\"length\", \n",
    "                       data = gdf_intron_plot,\n",
    "                       dodge = False,\n",
    "                       width = 0.5\n",
    "                      )\n",
    "\n",
    "#box_plot.set_xticklabels(rotation=45)\n",
    "\n",
    "#splice_ratio_fig = os.path.join(project_dir, 'results', 'splice_ratio.pdf')\n",
    "#box_plot.savefig(splice_ratio_fig)"
   ]
  },
  {
   "cell_type": "markdown",
   "metadata": {},
   "source": [
    "- **Plot**: Intron/Gene length Ratio"
   ]
  },
  {
   "cell_type": "code",
   "execution_count": 52,
   "metadata": {},
   "outputs": [],
   "source": [
    "plot_abs_vars = ['ratio_intron_gene_length']"
   ]
  },
  {
   "cell_type": "code",
   "execution_count": 53,
   "metadata": {},
   "outputs": [],
   "source": [
    "gdf_intron_plot = gdf_intron_tidy_df[gdf_intron_tidy_df[\"length\"].isin(plot_abs_vars)]\n",
    "gdf_intron_plot = gdf_intron_plot.astype({'value':'float64'})"
   ]
  },
  {
   "cell_type": "code",
   "execution_count": 54,
   "metadata": {},
   "outputs": [],
   "source": [
    "#gdf_intron_plot"
   ]
  },
  {
   "cell_type": "code",
   "execution_count": 55,
   "metadata": {},
   "outputs": [
    {
     "data": {
      "image/png": "[encoded data removed]",
      "text/plain": [
       "<Figure size 432x288 with 1 Axes>"
      ]
     },
     "metadata": {
      "needs_background": "light"
     },
     "output_type": "display_data"
    }
   ],
   "source": [
    "# EDIT: I Needed to add the fig\n",
    "fig, ax1 = plt.subplots(1,1)\n",
    "\n",
    "# EDIT: \n",
    "# T.W.' answer said: \"create with hue but without legend\" <- # I needed to include it!\n",
    "# So, removed: legend=False\n",
    "#box_plot = sns.pairplot(gdf_intron_plot, hue=\"length\")\n",
    "box_plot = sns.boxplot(x=\"length\", y=\"value\", hue=\"length\", \n",
    "                       data = gdf_intron_plot,\n",
    "                       ax=ax1,\n",
    "                       width=0.5,\n",
    "                       linewidth=1\n",
    "                      )\n",
    "\n",
    "# EDIT: \n",
    "# Removed 'ax' from T.W.'s answer here aswell:\n",
    "#box = box_plot.get_position()\n",
    "#box_plot.set_position([box.x0, box.y0, box.width * 0.85, box.height]) # resize position\n",
    "\n",
    "# Put a legend to the left side\n",
    "handles, _ = box_plot.get_legend_handles_labels()\n",
    "box_plot.legend(handles, [\"Ratio - Intron / Gene\"], loc='upper left', ncol=1)\n",
    "                #bbox_to_anchor=(1.25, 0.5))\n",
    "\n",
    "box_plot.get_xaxis().set_visible(False)\n",
    "#box_plot.set_xticklabels(rotation=45)\n",
    "\n",
    "\n",
    "#splice_ratio_fig = os.path.join(project_dir, 'results', 'splice_ratio.pdf')\n",
    "#box_plot.savefig(splice_ratio_fig)"
   ]
  },
  {
   "cell_type": "code",
   "execution_count": 56,
   "metadata": {},
   "outputs": [],
   "source": [
    "## "
   ]
  },
  {
   "cell_type": "code",
   "execution_count": null,
   "metadata": {},
   "outputs": [],
   "source": []
  },
  {
   "cell_type": "code",
   "execution_count": null,
   "metadata": {},
   "outputs": [],
   "source": []
  }
 ],
 "metadata": {
  "kernelspec": {
   "display_name": "Python (heterochromatin)",
   "language": "python",
   "name": "heterochromatin"
  },
  "language_info": {
   "codemirror_mode": {
    "name": "ipython",
    "version": 3
   },
   "file_extension": ".py",
   "mimetype": "text/x-python",
   "name": "python",
   "nbconvert_exporter": "python",
   "pygments_lexer": "ipython3",
   "version": "3.6.7"
  }
 },
 "nbformat": 4,
 "nbformat_minor": 4
}
