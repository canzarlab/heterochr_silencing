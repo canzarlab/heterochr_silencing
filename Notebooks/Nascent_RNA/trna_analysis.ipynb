{
 "cells": [
  {
   "cell_type": "code",
   "execution_count": 1,
   "metadata": {},
   "outputs": [],
   "source": [
    "%load_ext autoreload\n",
    "%autoreload 2"
   ]
  },
  {
   "cell_type": "markdown",
   "metadata": {},
   "source": [
    "---------------------------"
   ]
  },
  {
   "cell_type": "markdown",
   "metadata": {},
   "source": [
    "## Config"
   ]
  },
  {
   "cell_type": "code",
   "execution_count": 2,
   "metadata": {},
   "outputs": [],
   "source": [
    "import sys"
   ]
  },
  {
   "cell_type": "code",
   "execution_count": 3,
   "metadata": {},
   "outputs": [],
   "source": [
    "project_dir = '/home/pmonteagudo/workspace/silencing_project'\n",
    "if project_dir not in sys.path: \n",
    "    sys.path.append(project_dir)\n",
    "from config_analysis import *"
   ]
  },
  {
   "cell_type": "markdown",
   "metadata": {},
   "source": [
    "---------------------------"
   ]
  },
  {
   "cell_type": "markdown",
   "metadata": {},
   "source": [
    "- Import dataframe containing **annotation of all samples**"
   ]
  },
  {
   "cell_type": "code",
   "execution_count": 4,
   "metadata": {},
   "outputs": [
    {
     "data": {
      "text/plain": [
       "'/gcm-lfs1/pablo/data/rna_silencing/seq_data/file_annotation.csv'"
      ]
     },
     "execution_count": 4,
     "metadata": {},
     "output_type": "execute_result"
    }
   ],
   "source": [
    "#sample_annotation_file = os.path.join(project_data_dir, 'seq_data', 'sample_annotation.csv')\n",
    "sample_annotation_file = os.path.join(project_data_dir, 'seq_data', 'file_annotation.csv')\n",
    "sample_annotation_file"
   ]
  },
  {
   "cell_type": "code",
   "execution_count": 5,
   "metadata": {},
   "outputs": [],
   "source": [
    "#select_cols = ['sample_id', 'pipeline_type', 'seq_category', 'seq_type',  'mutant_id', 'mutant', 'replicate', 'batch', 'trimmed', 'halic_local_dir']\n",
    "select_cols = ['sample_id', 'pipeline_type', 'seq_category', 'seq_type',  'mutant_id', 'mutant_name', 'replicate', 'trimmed']"
   ]
  },
  {
   "cell_type": "code",
   "execution_count": 6,
   "metadata": {},
   "outputs": [
    {
     "data": {
      "text/html": [
       "<div>\n",
       "<style scoped>\n",
       "    .dataframe tbody tr th:only-of-type {\n",
       "        vertical-align: middle;\n",
       "    }\n",
       "\n",
       "    .dataframe tbody tr th {\n",
       "        vertical-align: top;\n",
       "    }\n",
       "\n",
       "    .dataframe thead th {\n",
       "        text-align: right;\n",
       "    }\n",
       "</style>\n",
       "<table border=\"1\" class=\"dataframe\">\n",
       "  <thead>\n",
       "    <tr style=\"text-align: right;\">\n",
       "      <th></th>\n",
       "      <th>sample_id</th>\n",
       "      <th>pipeline_type</th>\n",
       "      <th>seq_category</th>\n",
       "      <th>seq_type</th>\n",
       "      <th>mutant_id</th>\n",
       "      <th>mutant_name</th>\n",
       "      <th>replicate</th>\n",
       "      <th>trimmed</th>\n",
       "    </tr>\n",
       "  </thead>\n",
       "  <tbody>\n",
       "    <tr>\n",
       "      <th>0</th>\n",
       "      <td>1022_S2-ChIP-INPUT_1</td>\n",
       "      <td>ChIP</td>\n",
       "      <td>INPUT</td>\n",
       "      <td>S2-ChIP-INPUT</td>\n",
       "      <td>1022</td>\n",
       "      <td>mot2d</td>\n",
       "      <td>1</td>\n",
       "      <td>False</td>\n",
       "    </tr>\n",
       "    <tr>\n",
       "      <th>1</th>\n",
       "      <td>1022_S2-ChIP-OIN_1</td>\n",
       "      <td>ChIP</td>\n",
       "      <td>INPUT</td>\n",
       "      <td>S2-ChIP-OIN</td>\n",
       "      <td>1022</td>\n",
       "      <td>mot2d</td>\n",
       "      <td>1</td>\n",
       "      <td>False</td>\n",
       "    </tr>\n",
       "    <tr>\n",
       "      <th>2</th>\n",
       "      <td>1022_S2-ChIP_1</td>\n",
       "      <td>ChIP</td>\n",
       "      <td>S2-ChIP</td>\n",
       "      <td>S2-ChIP</td>\n",
       "      <td>1022</td>\n",
       "      <td>mot2d</td>\n",
       "      <td>1</td>\n",
       "      <td>False</td>\n",
       "    </tr>\n",
       "    <tr>\n",
       "      <th>3</th>\n",
       "      <td>1022_S2-ChIP_2</td>\n",
       "      <td>ChIP</td>\n",
       "      <td>S2-ChIP</td>\n",
       "      <td>S2-ChIP</td>\n",
       "      <td>1022</td>\n",
       "      <td>mot2d</td>\n",
       "      <td>2</td>\n",
       "      <td>False</td>\n",
       "    </tr>\n",
       "    <tr>\n",
       "      <th>4</th>\n",
       "      <td>1022_S2-RIP_2</td>\n",
       "      <td>RNA</td>\n",
       "      <td>S2-RIP</td>\n",
       "      <td>S2-RIP</td>\n",
       "      <td>1022</td>\n",
       "      <td>mot2d</td>\n",
       "      <td>2</td>\n",
       "      <td>False</td>\n",
       "    </tr>\n",
       "  </tbody>\n",
       "</table>\n",
       "</div>"
      ],
      "text/plain": [
       "              sample_id pipeline_type seq_category       seq_type mutant_id  \\\n",
       "0  1022_S2-ChIP-INPUT_1          ChIP        INPUT  S2-ChIP-INPUT      1022   \n",
       "1    1022_S2-ChIP-OIN_1          ChIP        INPUT    S2-ChIP-OIN      1022   \n",
       "2        1022_S2-ChIP_1          ChIP      S2-ChIP        S2-ChIP      1022   \n",
       "3        1022_S2-ChIP_2          ChIP      S2-ChIP        S2-ChIP      1022   \n",
       "4         1022_S2-RIP_2           RNA       S2-RIP         S2-RIP      1022   \n",
       "\n",
       "  mutant_name  replicate  trimmed  \n",
       "0       mot2d          1    False  \n",
       "1       mot2d          1    False  \n",
       "2       mot2d          1    False  \n",
       "3       mot2d          2    False  \n",
       "4       mot2d          2    False  "
      ]
     },
     "execution_count": 6,
     "metadata": {},
     "output_type": "execute_result"
    }
   ],
   "source": [
    "all_samples_df = pd.read_csv(sample_annotation_file, sep=\"\\t\", usecols=select_cols)[select_cols]\n",
    "all_samples_df.head()"
   ]
  },
  {
   "cell_type": "code",
   "execution_count": 7,
   "metadata": {},
   "outputs": [
    {
     "data": {
      "text/plain": [
       "(150, 8)"
      ]
     },
     "execution_count": 7,
     "metadata": {},
     "output_type": "execute_result"
    }
   ],
   "source": [
    "all_samples_df.shape"
   ]
  },
  {
   "cell_type": "markdown",
   "metadata": {},
   "source": [
    "- **Ignore S2-RIP/S5-RIP samples** for now"
   ]
  },
  {
   "cell_type": "code",
   "execution_count": 8,
   "metadata": {},
   "outputs": [
    {
     "data": {
      "text/plain": [
       "(149, 8)"
      ]
     },
     "execution_count": 8,
     "metadata": {},
     "output_type": "execute_result"
    }
   ],
   "source": [
    "#all_samples_df = all_samples_df[all_samples_df['seq_type'] != 'S2-RIP']\n",
    "all_samples_df = all_samples_df[all_samples_df['seq_type'] != 'S5-RIP']\n",
    "all_samples_df.shape"
   ]
  },
  {
   "cell_type": "markdown",
   "metadata": {},
   "source": [
    "- **Ignore S2-ChIP/S5-ChIP samples** for now"
   ]
  },
  {
   "cell_type": "code",
   "execution_count": 9,
   "metadata": {},
   "outputs": [
    {
     "data": {
      "text/plain": [
       "(145, 8)"
      ]
     },
     "execution_count": 9,
     "metadata": {},
     "output_type": "execute_result"
    }
   ],
   "source": [
    "#all_samples_df = all_samples_df[all_samples_df['seq_type'] != 'S2-ChIP']\n",
    "all_samples_df = all_samples_df[all_samples_df['seq_type'] != 'S5-ChIP']\n",
    "all_samples_df.shape"
   ]
  },
  {
   "cell_type": "markdown",
   "metadata": {},
   "source": [
    "## Import **Gene Counts** Files: `pombe_gene_count_matrix.csv`"
   ]
  },
  {
   "cell_type": "code",
   "execution_count": 10,
   "metadata": {},
   "outputs": [],
   "source": [
    "ignore_categories = ['simulated-data', 'INPUT', 'H3K9me2']"
   ]
  },
  {
   "cell_type": "code",
   "execution_count": 11,
   "metadata": {},
   "outputs": [
    {
     "data": {
      "text/plain": [
       "['S2-ChIP', 'S2-RIP', 'pA-RNA', 'total-RNA']"
      ]
     },
     "execution_count": 11,
     "metadata": {},
     "output_type": "execute_result"
    }
   ],
   "source": [
    "#seq_categories = ['INPUT', 'pA-RNA', 'S2-ChIP', 'S2-RIP', 'total-RNA']\n",
    "seq_categories = all_samples_df['seq_category'].unique() ## wont work for 'simulated-data', 'H3K9me2' yet!\n",
    "seq_categories = [ss for ss in seq_categories if ss not in ignore_categories]\n",
    "seq_categories"
   ]
  },
  {
   "cell_type": "markdown",
   "metadata": {},
   "source": [
    "- Import **Gene Count** Data Frames: (for each `seq_category`)"
   ]
  },
  {
   "cell_type": "code",
   "execution_count": 12,
   "metadata": {},
   "outputs": [],
   "source": [
    "verbose = False\n",
    "verbose = True"
   ]
  },
  {
   "cell_type": "code",
   "execution_count": 13,
   "metadata": {},
   "outputs": [],
   "source": [
    "trna_summary = {}"
   ]
  },
  {
   "cell_type": "code",
   "execution_count": 14,
   "metadata": {},
   "outputs": [
    {
     "name": "stdout",
     "output_type": "stream",
     "text": [
      "\n",
      " ---------------------------------------- \n",
      " S2-ChIP:\n",
      " \ttRNA_df: (8, 31)\n",
      " \tmRNA_df: (8, 31)\n",
      " ----------------------------------------\n",
      "\n",
      " ---------------------------------------- \n",
      " S2-RIP:\n",
      " \ttRNA_df: (8, 37)\n",
      " \tmRNA_df: (8, 37)\n",
      " ----------------------------------------\n",
      "\n",
      " ---------------------------------------- \n",
      " pA-RNA:\n",
      " \ttRNA_df: (8, 34)\n",
      " \tmRNA_df: (8, 34)\n",
      " ----------------------------------------\n",
      "\n",
      " ---------------------------------------- \n",
      " total-RNA:\n",
      " \ttRNA_df: (8, 8)\n",
      " \tmRNA_df: (8, 8)\n",
      " ----------------------------------------\n"
     ]
    }
   ],
   "source": [
    "for seq_category in seq_categories:\n",
    "#for seq_category in seq_categories[1:2]:\n",
    "    \n",
    "    # samples in 'seq_category'\n",
    "    sample_ids = all_samples_df[all_samples_df['seq_category'] == seq_category].sample_id.tolist()\n",
    "    #sample_ids =[ss for ss in sample_ids if not ('WT' in ss or '1022' in ss or '1023' in ss or '544' in ss or '591' in ss or '260' in ss)]\n",
    "    \n",
    "    ## ------------\n",
    "    ## Gene Counts\n",
    "    ## ------------\n",
    "\n",
    "    #gene_counts_file = os.path.join(project_dir, 'results', seq_category, 'xp_data/pombe_gene_count_matrix.csv')\n",
    "    gene_counts_file = os.path.join(project_data_dir, 'results', seq_category, 'xp_data/pombe_gene_count_matrix.csv')\n",
    "\n",
    "    # load gene counts data\n",
    "    gene_df = pd.read_csv(gene_counts_file, sep ='\\t')\n",
    "    \n",
    "    # make sure there are NO missing samples\n",
    "    in_sample_ids = list(set(sample_ids).intersection(gene_df.columns))\n",
    "    if len(in_sample_ids) < len(sample_ids):\n",
    "        print(seq_category)\n",
    "        excluded_samples = list(set(sample_ids).difference(in_sample_ids))\n",
    "        print(\"Excluding some samples! Not present in `pombe_gene_count_matrix.csv`:\\n\", excluded_samples)\n",
    "\n",
    "    # use 'gene_length' the whole region spanned by the gene: (including Introns)\n",
    "    gene_df['gene_length'] = gene_df['end'] - gene_df['start'] + 1\n",
    "    \n",
    "    ## ----------------------\n",
    "    ## A. Transfer RNA (tRNA)\n",
    "    ## ----------------------\n",
    "    \n",
    "    ## 1. Filter: only use 'tRNA' (transfer RNA genes)\n",
    "    # => https://www.pombase.org/faq/how-are-pombase-systematic-ids-determined\n",
    "    trna_ids = ['SPATRNA', 'SPBTRNA', 'SPCTRNA', 'SPMITTRNA']\n",
    "    trna_df = gene_df[gene_df['gene_id'].str.contains('|'.join(trna_ids))]        \n",
    "    #trna_df.shape # (196, n_samples)\n",
    "    \n",
    "    ## 2. Norm by `feature_length`: gene_length\n",
    "    trna_df = trna_df[in_sample_ids].apply(lambda col: col/trna_df['gene_length'])\n",
    "    \n",
    "    ## 3. Deal with NAs:\n",
    "    ## - 3.A. Remove NAs - might be not the best idea\n",
    "    #trna_df = trna_df.dropna(axis=0, how='all') \n",
    "    ## - 3.B. Fill NAs with 0s - originate from few reads mapping to introns\n",
    "    #trna_df = trna_df.fillna(0)\n",
    "    \n",
    "    ## 4. Summarize - by sample\n",
    "    trna_df = trna_df.describe()\n",
    "    #trna_df = trna_df.sum()\n",
    "    \n",
    "    ## -----------------------\n",
    "    ## B. Messenger RNA (mRNA)\n",
    "    ## -----------------------\n",
    "    \n",
    "    ## 5. Filter: only use 'mRNA' (protein coding genes)\n",
    "    #mrna_df = gene_df[gene_df['bio_type'] == 'mRNA']\n",
    "    #mrna_df.shape # (5123, n_samples) # missing 29 pseudogenic-transcripts\n",
    "    # => https://www.pombase.org/faq/how-are-pombase-systematic-ids-determined\n",
    "    mrna_ids = ['SPAC', 'SPBC', 'SPCC', 'SPAP', 'SPBP', 'SPCP']\n",
    "    mrna_df = gene_df[gene_df['gene_id'].str.contains('|'.join(mrna_ids))]\n",
    "    #mrna_df.shape # (5152, n_samples)  # missing 11 genes in mitochondrial chromosome,\n",
    "                                        # missing 2 genes in mating type region chromosome,\n",
    "                                        # (correctly) missing 4 +/- dg/dh repeats introduced manually.\n",
    "    \n",
    "    #diff_genes = set(mrna_df_1.gene_id).difference(mrna_df_2.gene_id)\n",
    "    #diff_genes = set(mrna_df_2.gene_id).difference(mrna_df_1.gene_id)\n",
    "    #diff_genes = list(set(mrna_df_1.gene_id).symmetric_difference(mrna_df_2.gene_id))\n",
    "    #diff_genes_df = gene_df[gene_df['gene_id'].isin(diff_genes)][['gene_id', 'bio_type']]\n",
    "    \n",
    "    ## 6. Norm by `feature_length`: gene_length\n",
    "    mrna_df = mrna_df[in_sample_ids].apply(lambda col: col/mrna_df['gene_length'])\n",
    "    \n",
    "    ## 7. Deal with NAs:\n",
    "    ## - 7.A. Remove NAs - might be not the best idea\n",
    "    #mrna_df = mrna_df.dropna(axis=0, how='all') \n",
    "    ## - 7.B. Fill NAs with 0s - originate from few reads mapping to introns\n",
    "    #mrna_df = mrna_df.fillna(0)\n",
    "    \n",
    "    ## 8. Summarize - by sample\n",
    "    mrna_df = mrna_df.describe()\n",
    "    #mrna_df = mrna_df.sum()\n",
    "\n",
    "    ## ---------------\n",
    "    ## tRNA/mRNA Ratio\n",
    "    ## ---------------\n",
    "    \n",
    "    if verbose:\n",
    "        print(\n",
    "            '\\n',\n",
    "            40 * '-', \n",
    "            '\\n {}:\\n \\ttRNA_df: {}\\n \\tmRNA_df: {}\\n'.format(seq_category, trna_df.shape, mrna_df.shape),\n",
    "            40 * '-')\n",
    "    \n",
    "    ## 9. Compute ratio - DataFrames have already been prepared\n",
    "    trna_ratio = trna_df.div(mrna_df)\n",
    "\n",
    "    # change samples to rows: ['count', 'mean', 'std', 'min', '25%', '50%', '75%', 'max']\n",
    "    trna_ratio = trna_ratio.transpose()\n",
    "    \n",
    "    # index to column and rename to 'sample_id'\n",
    "    trna_ratio = trna_ratio.reset_index(drop=False).rename(columns = {'index':'sample_id'})  \n",
    "    #trna_ratio = trna_ratio.reset_index(drop=False).rename(columns = {'index':'sample_id', 0:'sum_ratio'})  \n",
    "\n",
    "    trna_summary[seq_category] = trna_ratio"
   ]
  },
  {
   "cell_type": "markdown",
   "metadata": {},
   "source": [
    "- Concatenate all different sequencing sample dataframes into one:"
   ]
  },
  {
   "cell_type": "code",
   "execution_count": 15,
   "metadata": {},
   "outputs": [],
   "source": [
    "col_order = ['sample_id', 'count', 'mean', 'std', 'min', '25%', '50%', '75%', 'max']\n",
    "#col_order = ['sample_id', 'sum_ratio']"
   ]
  },
  {
   "cell_type": "code",
   "execution_count": 16,
   "metadata": {},
   "outputs": [
    {
     "data": {
      "text/html": [
       "<div>\n",
       "<style scoped>\n",
       "    .dataframe tbody tr th:only-of-type {\n",
       "        vertical-align: middle;\n",
       "    }\n",
       "\n",
       "    .dataframe tbody tr th {\n",
       "        vertical-align: top;\n",
       "    }\n",
       "\n",
       "    .dataframe thead th {\n",
       "        text-align: right;\n",
       "    }\n",
       "</style>\n",
       "<table border=\"1\" class=\"dataframe\">\n",
       "  <thead>\n",
       "    <tr style=\"text-align: right;\">\n",
       "      <th></th>\n",
       "      <th>sample_id</th>\n",
       "      <th>count</th>\n",
       "      <th>mean</th>\n",
       "      <th>std</th>\n",
       "      <th>min</th>\n",
       "      <th>25%</th>\n",
       "      <th>50%</th>\n",
       "      <th>75%</th>\n",
       "      <th>max</th>\n",
       "    </tr>\n",
       "  </thead>\n",
       "  <tbody>\n",
       "    <tr>\n",
       "      <th>0</th>\n",
       "      <td>80_S2-ChIP_3</td>\n",
       "      <td>0.011146</td>\n",
       "      <td>0.251353</td>\n",
       "      <td>0.132145</td>\n",
       "      <td>10.755952</td>\n",
       "      <td>0.223902</td>\n",
       "      <td>0.329444</td>\n",
       "      <td>0.341178</td>\n",
       "      <td>0.024163</td>\n",
       "    </tr>\n",
       "    <tr>\n",
       "      <th>1</th>\n",
       "      <td>1022_S2-ChIP_1</td>\n",
       "      <td>0.010955</td>\n",
       "      <td>0.272158</td>\n",
       "      <td>0.221518</td>\n",
       "      <td>8.165306</td>\n",
       "      <td>0.209302</td>\n",
       "      <td>0.254477</td>\n",
       "      <td>0.320972</td>\n",
       "      <td>0.046547</td>\n",
       "    </tr>\n",
       "    <tr>\n",
       "      <th>2</th>\n",
       "      <td>591_S2-ChIP_1</td>\n",
       "      <td>0.011339</td>\n",
       "      <td>0.175454</td>\n",
       "      <td>0.111126</td>\n",
       "      <td>55.569444</td>\n",
       "      <td>0.160223</td>\n",
       "      <td>0.190900</td>\n",
       "      <td>0.191985</td>\n",
       "      <td>0.019699</td>\n",
       "    </tr>\n",
       "    <tr>\n",
       "      <th>3</th>\n",
       "      <td>510_S2-ChIP_1</td>\n",
       "      <td>0.011337</td>\n",
       "      <td>0.416989</td>\n",
       "      <td>1.504678</td>\n",
       "      <td>44.811111</td>\n",
       "      <td>0.068958</td>\n",
       "      <td>0.150270</td>\n",
       "      <td>0.732782</td>\n",
       "      <td>0.195464</td>\n",
       "    </tr>\n",
       "    <tr>\n",
       "      <th>4</th>\n",
       "      <td>1168_S2-ChIP_2</td>\n",
       "      <td>0.009589</td>\n",
       "      <td>0.385963</td>\n",
       "      <td>0.261390</td>\n",
       "      <td>3.838235</td>\n",
       "      <td>0.348368</td>\n",
       "      <td>0.469015</td>\n",
       "      <td>0.464264</td>\n",
       "      <td>0.050537</td>\n",
       "    </tr>\n",
       "  </tbody>\n",
       "</table>\n",
       "</div>"
      ],
      "text/plain": [
       "        sample_id     count      mean       std        min       25%  \\\n",
       "0    80_S2-ChIP_3  0.011146  0.251353  0.132145  10.755952  0.223902   \n",
       "1  1022_S2-ChIP_1  0.010955  0.272158  0.221518   8.165306  0.209302   \n",
       "2   591_S2-ChIP_1  0.011339  0.175454  0.111126  55.569444  0.160223   \n",
       "3   510_S2-ChIP_1  0.011337  0.416989  1.504678  44.811111  0.068958   \n",
       "4  1168_S2-ChIP_2  0.009589  0.385963  0.261390   3.838235  0.348368   \n",
       "\n",
       "        50%       75%       max  \n",
       "0  0.329444  0.341178  0.024163  \n",
       "1  0.254477  0.320972  0.046547  \n",
       "2  0.190900  0.191985  0.019699  \n",
       "3  0.150270  0.732782  0.195464  \n",
       "4  0.469015  0.464264  0.050537  "
      ]
     },
     "execution_count": 16,
     "metadata": {},
     "output_type": "execute_result"
    }
   ],
   "source": [
    "trna_df = pd.concat(trna_summary, ignore_index=True, sort = True)[col_order]\n",
    "trna_df.head()"
   ]
  },
  {
   "cell_type": "code",
   "execution_count": 17,
   "metadata": {},
   "outputs": [
    {
     "data": {
      "text/plain": [
       "(110, 9)"
      ]
     },
     "execution_count": 17,
     "metadata": {},
     "output_type": "execute_result"
    }
   ],
   "source": [
    "trna_df.shape"
   ]
  },
  {
   "cell_type": "markdown",
   "metadata": {},
   "source": [
    "- Merge with sample **annotation** dataframe"
   ]
  },
  {
   "cell_type": "code",
   "execution_count": 18,
   "metadata": {},
   "outputs": [],
   "source": [
    "trna_df = pd.merge(all_samples_df, trna_df, on='sample_id')"
   ]
  },
  {
   "cell_type": "code",
   "execution_count": 19,
   "metadata": {},
   "outputs": [
    {
     "data": {
      "text/html": [
       "<div>\n",
       "<style scoped>\n",
       "    .dataframe tbody tr th:only-of-type {\n",
       "        vertical-align: middle;\n",
       "    }\n",
       "\n",
       "    .dataframe tbody tr th {\n",
       "        vertical-align: top;\n",
       "    }\n",
       "\n",
       "    .dataframe thead th {\n",
       "        text-align: right;\n",
       "    }\n",
       "</style>\n",
       "<table border=\"1\" class=\"dataframe\">\n",
       "  <thead>\n",
       "    <tr style=\"text-align: right;\">\n",
       "      <th></th>\n",
       "      <th>sample_id</th>\n",
       "      <th>pipeline_type</th>\n",
       "      <th>seq_category</th>\n",
       "      <th>seq_type</th>\n",
       "      <th>mutant_id</th>\n",
       "      <th>mutant_name</th>\n",
       "      <th>replicate</th>\n",
       "      <th>trimmed</th>\n",
       "      <th>count</th>\n",
       "      <th>mean</th>\n",
       "      <th>std</th>\n",
       "      <th>min</th>\n",
       "      <th>25%</th>\n",
       "      <th>50%</th>\n",
       "      <th>75%</th>\n",
       "      <th>max</th>\n",
       "    </tr>\n",
       "  </thead>\n",
       "  <tbody>\n",
       "    <tr>\n",
       "      <th>0</th>\n",
       "      <td>1022_S2-ChIP_1</td>\n",
       "      <td>ChIP</td>\n",
       "      <td>S2-ChIP</td>\n",
       "      <td>S2-ChIP</td>\n",
       "      <td>1022</td>\n",
       "      <td>mot2d</td>\n",
       "      <td>1</td>\n",
       "      <td>False</td>\n",
       "      <td>0.010955</td>\n",
       "      <td>0.272158</td>\n",
       "      <td>0.221518</td>\n",
       "      <td>8.165306</td>\n",
       "      <td>0.209302</td>\n",
       "      <td>0.254477</td>\n",
       "      <td>0.320972</td>\n",
       "      <td>0.046547</td>\n",
       "    </tr>\n",
       "    <tr>\n",
       "      <th>1</th>\n",
       "      <td>1022_S2-ChIP_2</td>\n",
       "      <td>ChIP</td>\n",
       "      <td>S2-ChIP</td>\n",
       "      <td>S2-ChIP</td>\n",
       "      <td>1022</td>\n",
       "      <td>mot2d</td>\n",
       "      <td>2</td>\n",
       "      <td>False</td>\n",
       "      <td>0.011926</td>\n",
       "      <td>0.286473</td>\n",
       "      <td>0.218138</td>\n",
       "      <td>5.363014</td>\n",
       "      <td>0.198840</td>\n",
       "      <td>0.354083</td>\n",
       "      <td>0.386471</td>\n",
       "      <td>0.054166</td>\n",
       "    </tr>\n",
       "    <tr>\n",
       "      <th>2</th>\n",
       "      <td>1022_S2-RIP_2</td>\n",
       "      <td>RNA</td>\n",
       "      <td>S2-RIP</td>\n",
       "      <td>S2-RIP</td>\n",
       "      <td>1022</td>\n",
       "      <td>mot2d</td>\n",
       "      <td>2</td>\n",
       "      <td>False</td>\n",
       "      <td>0.001001</td>\n",
       "      <td>0.334458</td>\n",
       "      <td>0.145280</td>\n",
       "      <td>34.972603</td>\n",
       "      <td>0.366980</td>\n",
       "      <td>0.412584</td>\n",
       "      <td>0.506473</td>\n",
       "      <td>0.014715</td>\n",
       "    </tr>\n",
       "    <tr>\n",
       "      <th>3</th>\n",
       "      <td>1022_S2-RIP_3</td>\n",
       "      <td>RNA</td>\n",
       "      <td>S2-RIP</td>\n",
       "      <td>S2-RIP</td>\n",
       "      <td>1022</td>\n",
       "      <td>mot2d</td>\n",
       "      <td>3</td>\n",
       "      <td>False</td>\n",
       "      <td>0.006677</td>\n",
       "      <td>0.196107</td>\n",
       "      <td>0.235080</td>\n",
       "      <td>23.433333</td>\n",
       "      <td>0.147216</td>\n",
       "      <td>0.150649</td>\n",
       "      <td>0.174622</td>\n",
       "      <td>0.051298</td>\n",
       "    </tr>\n",
       "    <tr>\n",
       "      <th>4</th>\n",
       "      <td>1022_S2-RIP_4</td>\n",
       "      <td>RNA</td>\n",
       "      <td>S2-RIP</td>\n",
       "      <td>S2-RIP</td>\n",
       "      <td>1022</td>\n",
       "      <td>mot2d</td>\n",
       "      <td>4</td>\n",
       "      <td>False</td>\n",
       "      <td>0.002171</td>\n",
       "      <td>0.147390</td>\n",
       "      <td>0.071511</td>\n",
       "      <td>40.795918</td>\n",
       "      <td>0.134152</td>\n",
       "      <td>0.170772</td>\n",
       "      <td>0.184913</td>\n",
       "      <td>0.008167</td>\n",
       "    </tr>\n",
       "  </tbody>\n",
       "</table>\n",
       "</div>"
      ],
      "text/plain": [
       "        sample_id pipeline_type seq_category seq_type mutant_id mutant_name  \\\n",
       "0  1022_S2-ChIP_1          ChIP      S2-ChIP  S2-ChIP      1022       mot2d   \n",
       "1  1022_S2-ChIP_2          ChIP      S2-ChIP  S2-ChIP      1022       mot2d   \n",
       "2   1022_S2-RIP_2           RNA       S2-RIP   S2-RIP      1022       mot2d   \n",
       "3   1022_S2-RIP_3           RNA       S2-RIP   S2-RIP      1022       mot2d   \n",
       "4   1022_S2-RIP_4           RNA       S2-RIP   S2-RIP      1022       mot2d   \n",
       "\n",
       "   replicate  trimmed     count      mean       std        min       25%  \\\n",
       "0          1    False  0.010955  0.272158  0.221518   8.165306  0.209302   \n",
       "1          2    False  0.011926  0.286473  0.218138   5.363014  0.198840   \n",
       "2          2    False  0.001001  0.334458  0.145280  34.972603  0.366980   \n",
       "3          3    False  0.006677  0.196107  0.235080  23.433333  0.147216   \n",
       "4          4    False  0.002171  0.147390  0.071511  40.795918  0.134152   \n",
       "\n",
       "        50%       75%       max  \n",
       "0  0.254477  0.320972  0.046547  \n",
       "1  0.354083  0.386471  0.054166  \n",
       "2  0.412584  0.506473  0.014715  \n",
       "3  0.150649  0.174622  0.051298  \n",
       "4  0.170772  0.184913  0.008167  "
      ]
     },
     "execution_count": 19,
     "metadata": {},
     "output_type": "execute_result"
    }
   ],
   "source": [
    "trna_df.head()"
   ]
  },
  {
   "cell_type": "code",
   "execution_count": 20,
   "metadata": {},
   "outputs": [
    {
     "data": {
      "text/plain": [
       "(110, 16)"
      ]
     },
     "execution_count": 20,
     "metadata": {},
     "output_type": "execute_result"
    }
   ],
   "source": [
    "trna_df.shape"
   ]
  },
  {
   "cell_type": "markdown",
   "metadata": {},
   "source": [
    "- Store dataframe containing annotation of all samples:"
   ]
  },
  {
   "cell_type": "code",
   "execution_count": 21,
   "metadata": {},
   "outputs": [
    {
     "data": {
      "text/plain": [
       "'/home/pmonteagudo/workspace/silencing_project/results/trna_ratios.csv'"
      ]
     },
     "execution_count": 21,
     "metadata": {},
     "output_type": "execute_result"
    }
   ],
   "source": [
    "trna_file = os.path.join(project_dir, 'results', 'trna_ratios.csv')\n",
    "trna_file"
   ]
  },
  {
   "cell_type": "code",
   "execution_count": 22,
   "metadata": {},
   "outputs": [],
   "source": [
    "trna_df.to_csv(trna_file, sep=\"\\t\", index=False)"
   ]
  },
  {
   "cell_type": "markdown",
   "metadata": {},
   "source": [
    "---------------------------"
   ]
  },
  {
   "cell_type": "markdown",
   "metadata": {},
   "source": [
    "# Visualization"
   ]
  },
  {
   "cell_type": "code",
   "execution_count": 23,
   "metadata": {},
   "outputs": [],
   "source": [
    "import seaborn as sns"
   ]
  },
  {
   "cell_type": "code",
   "execution_count": 24,
   "metadata": {},
   "outputs": [],
   "source": [
    "import matplotlib.pyplot as plt"
   ]
  },
  {
   "cell_type": "markdown",
   "metadata": {},
   "source": [
    "- Prepare Data Frame into tidy format for visualization using seaborn"
   ]
  },
  {
   "cell_type": "code",
   "execution_count": 25,
   "metadata": {},
   "outputs": [],
   "source": [
    "id_vars = select_cols.copy()\n",
    "#id_vars.append('star_log_file')"
   ]
  },
  {
   "cell_type": "code",
   "execution_count": 26,
   "metadata": {},
   "outputs": [],
   "source": [
    "#id_vars"
   ]
  },
  {
   "cell_type": "code",
   "execution_count": 27,
   "metadata": {},
   "outputs": [],
   "source": [
    "trna_tidy_df = pd.melt(trna_df, id_vars = id_vars, var_name = 'trna_ratio')\n",
    "#trna_tidy_df = trna_tidy_df.astype({'value':'float64'})"
   ]
  },
  {
   "cell_type": "code",
   "execution_count": 28,
   "metadata": {},
   "outputs": [
    {
     "data": {
      "text/html": [
       "<div>\n",
       "<style scoped>\n",
       "    .dataframe tbody tr th:only-of-type {\n",
       "        vertical-align: middle;\n",
       "    }\n",
       "\n",
       "    .dataframe tbody tr th {\n",
       "        vertical-align: top;\n",
       "    }\n",
       "\n",
       "    .dataframe thead th {\n",
       "        text-align: right;\n",
       "    }\n",
       "</style>\n",
       "<table border=\"1\" class=\"dataframe\">\n",
       "  <thead>\n",
       "    <tr style=\"text-align: right;\">\n",
       "      <th></th>\n",
       "      <th>sample_id</th>\n",
       "      <th>pipeline_type</th>\n",
       "      <th>seq_category</th>\n",
       "      <th>seq_type</th>\n",
       "      <th>mutant_id</th>\n",
       "      <th>mutant_name</th>\n",
       "      <th>replicate</th>\n",
       "      <th>trimmed</th>\n",
       "      <th>trna_ratio</th>\n",
       "      <th>value</th>\n",
       "    </tr>\n",
       "  </thead>\n",
       "  <tbody>\n",
       "    <tr>\n",
       "      <th>0</th>\n",
       "      <td>1022_S2-ChIP_1</td>\n",
       "      <td>ChIP</td>\n",
       "      <td>S2-ChIP</td>\n",
       "      <td>S2-ChIP</td>\n",
       "      <td>1022</td>\n",
       "      <td>mot2d</td>\n",
       "      <td>1</td>\n",
       "      <td>False</td>\n",
       "      <td>count</td>\n",
       "      <td>0.010955</td>\n",
       "    </tr>\n",
       "    <tr>\n",
       "      <th>1</th>\n",
       "      <td>1022_S2-ChIP_2</td>\n",
       "      <td>ChIP</td>\n",
       "      <td>S2-ChIP</td>\n",
       "      <td>S2-ChIP</td>\n",
       "      <td>1022</td>\n",
       "      <td>mot2d</td>\n",
       "      <td>2</td>\n",
       "      <td>False</td>\n",
       "      <td>count</td>\n",
       "      <td>0.011926</td>\n",
       "    </tr>\n",
       "    <tr>\n",
       "      <th>2</th>\n",
       "      <td>1022_S2-RIP_2</td>\n",
       "      <td>RNA</td>\n",
       "      <td>S2-RIP</td>\n",
       "      <td>S2-RIP</td>\n",
       "      <td>1022</td>\n",
       "      <td>mot2d</td>\n",
       "      <td>2</td>\n",
       "      <td>False</td>\n",
       "      <td>count</td>\n",
       "      <td>0.001001</td>\n",
       "    </tr>\n",
       "    <tr>\n",
       "      <th>3</th>\n",
       "      <td>1022_S2-RIP_3</td>\n",
       "      <td>RNA</td>\n",
       "      <td>S2-RIP</td>\n",
       "      <td>S2-RIP</td>\n",
       "      <td>1022</td>\n",
       "      <td>mot2d</td>\n",
       "      <td>3</td>\n",
       "      <td>False</td>\n",
       "      <td>count</td>\n",
       "      <td>0.006677</td>\n",
       "    </tr>\n",
       "    <tr>\n",
       "      <th>4</th>\n",
       "      <td>1022_S2-RIP_4</td>\n",
       "      <td>RNA</td>\n",
       "      <td>S2-RIP</td>\n",
       "      <td>S2-RIP</td>\n",
       "      <td>1022</td>\n",
       "      <td>mot2d</td>\n",
       "      <td>4</td>\n",
       "      <td>False</td>\n",
       "      <td>count</td>\n",
       "      <td>0.002171</td>\n",
       "    </tr>\n",
       "  </tbody>\n",
       "</table>\n",
       "</div>"
      ],
      "text/plain": [
       "        sample_id pipeline_type seq_category seq_type mutant_id mutant_name  \\\n",
       "0  1022_S2-ChIP_1          ChIP      S2-ChIP  S2-ChIP      1022       mot2d   \n",
       "1  1022_S2-ChIP_2          ChIP      S2-ChIP  S2-ChIP      1022       mot2d   \n",
       "2   1022_S2-RIP_2           RNA       S2-RIP   S2-RIP      1022       mot2d   \n",
       "3   1022_S2-RIP_3           RNA       S2-RIP   S2-RIP      1022       mot2d   \n",
       "4   1022_S2-RIP_4           RNA       S2-RIP   S2-RIP      1022       mot2d   \n",
       "\n",
       "   replicate  trimmed trna_ratio     value  \n",
       "0          1    False      count  0.010955  \n",
       "1          2    False      count  0.011926  \n",
       "2          2    False      count  0.001001  \n",
       "3          3    False      count  0.006677  \n",
       "4          4    False      count  0.002171  "
      ]
     },
     "execution_count": 28,
     "metadata": {},
     "output_type": "execute_result"
    }
   ],
   "source": [
    "trna_tidy_df.head()"
   ]
  },
  {
   "cell_type": "code",
   "execution_count": 29,
   "metadata": {},
   "outputs": [
    {
     "data": {
      "text/plain": [
       "(880, 10)"
      ]
     },
     "execution_count": 29,
     "metadata": {},
     "output_type": "execute_result"
    }
   ],
   "source": [
    "trna_tidy_df.shape"
   ]
  },
  {
   "cell_type": "markdown",
   "metadata": {},
   "source": [
    "- Variables that can be used for plotting"
   ]
  },
  {
   "cell_type": "code",
   "execution_count": 30,
   "metadata": {},
   "outputs": [
    {
     "data": {
      "text/plain": [
       "array(['count', 'mean', 'std', 'min', '25%', '50%', '75%', 'max'],\n",
       "      dtype=object)"
      ]
     },
     "execution_count": 30,
     "metadata": {},
     "output_type": "execute_result"
    }
   ],
   "source": [
    "plot_vars = trna_tidy_df['trna_ratio'].unique()\n",
    "plot_vars"
   ]
  },
  {
   "cell_type": "markdown",
   "metadata": {},
   "source": [
    "## Average `tRNA/mRNA` ratio"
   ]
  },
  {
   "cell_type": "code",
   "execution_count": 31,
   "metadata": {},
   "outputs": [],
   "source": [
    "plot_abs_vars = ['mean']\n",
    "#plot_abs_vars = ['sum_ratio']"
   ]
  },
  {
   "cell_type": "code",
   "execution_count": 32,
   "metadata": {},
   "outputs": [],
   "source": [
    "trna_plot = trna_tidy_df[trna_tidy_df[\"trna_ratio\"].isin(plot_abs_vars)]\n",
    "#trna_plot"
   ]
  },
  {
   "cell_type": "code",
   "execution_count": 33,
   "metadata": {},
   "outputs": [],
   "source": [
    "## Filter INPUT/OIN: Ratio to high!\n",
    "trna_plot = trna_plot[~trna_plot[\"seq_type\"].isin(['S2-ChIP-INPUT', 'S2-ChIP-OIN'])]\n",
    "#trna_plot"
   ]
  },
  {
   "cell_type": "code",
   "execution_count": 34,
   "metadata": {},
   "outputs": [
    {
     "data": {
      "text/plain": [
       "array(['S2-ChIP', 'S2-RIP', 'pA-RNA', 'total-RNA'], dtype=object)"
      ]
     },
     "execution_count": 34,
     "metadata": {},
     "output_type": "execute_result"
    }
   ],
   "source": [
    "trna_plot['seq_type'].unique()"
   ]
  },
  {
   "cell_type": "code",
   "execution_count": 35,
   "metadata": {},
   "outputs": [
    {
     "data": {
      "image/png": "[encoded data removed]",
      "text/plain": [
       "<Figure size 396x360 with 1 Axes>"
      ]
     },
     "metadata": {
      "needs_background": "light"
     },
     "output_type": "display_data"
    }
   ],
   "source": [
    "box_plot = sns.catplot(x=\"seq_type\", y=\"value\",\n",
    "                       hue=\"seq_category\", col=\"trna_ratio\",\n",
    "                       order=['pA-RNA', 'S2-RIP', 'S2-ChIP', 'total-RNA'],\n",
    "                       hue_order=['pA-RNA', 'S2-RIP', 'S2-ChIP', 'total-RNA'],\n",
    "                       data=trna_plot, kind=\"box\",\n",
    "                       #aspect=1.5,\n",
    "                       aspect=1.1,\n",
    "                       dodge = False,\n",
    "                       #width = 0.3,\n",
    "                       width = 0.7,\n",
    "                       legend = False, \n",
    "                       #showfliers=True) ## remove outliers\n",
    "                       showfliers=False) ## remove outliers\n",
    "\n",
    "box_plot.set_xticklabels(rotation=45, fontsize=20)\n",
    "box_plot.set_yticklabels(fontsize=20)\n",
    "\n",
    "#box_plot.set_xlabels('Sequencing Assay', fontsize=35) # not set_label\n",
    "#box_plot.set_ylabels('tRNA Ratio', fontsize=35)\n",
    "box_plot.set_xlabels('') # not set_label\n",
    "box_plot.set_ylabels('')\n",
    "\n",
    "#box_plot._legend.set_title(\"Sequencing Assay\")\n",
    "#plt.setp(box_plot._legend.get_texts(), fontsize='22') # for legend text\n",
    "#plt.setp(box_plot._legend.get_title(), fontsize='32') # for legend title\n",
    "\n",
    "axes = box_plot.axes.flatten()\n",
    "axes[0].set_title(\"\")\n",
    "\n",
    "trna_fig = os.path.join(project_dir, 'results', 'trna_ratios.pdf')\n",
    "box_plot.savefig(trna_fig)"
   ]
  },
  {
   "cell_type": "code",
   "execution_count": 36,
   "metadata": {},
   "outputs": [
    {
     "data": {
      "text/plain": [
       "'/home/pmonteagudo/workspace/silencing_project/results/trna_ratios.pdf'"
      ]
     },
     "execution_count": 36,
     "metadata": {},
     "output_type": "execute_result"
    }
   ],
   "source": [
    "trna_fig"
   ]
  },
  {
   "cell_type": "code",
   "execution_count": null,
   "metadata": {},
   "outputs": [],
   "source": []
  }
 ],
 "metadata": {
  "kernelspec": {
   "display_name": "Python (heterochromatin)",
   "language": "python",
   "name": "heterochromatin"
  },
  "language_info": {
   "codemirror_mode": {
    "name": "ipython",
    "version": 3
   },
   "file_extension": ".py",
   "mimetype": "text/x-python",
   "name": "python",
   "nbconvert_exporter": "python",
   "pygments_lexer": "ipython3",
   "version": "3.6.7"
  }
 },
 "nbformat": 4,
 "nbformat_minor": 4
}
