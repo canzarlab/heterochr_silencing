{
 "cells": [
  {
   "cell_type": "code",
   "execution_count": 1,
   "metadata": {},
   "outputs": [],
   "source": [
    "import pandas as pd"
   ]
  },
  {
   "cell_type": "code",
   "execution_count": 2,
   "metadata": {},
   "outputs": [],
   "source": [
    "import os"
   ]
  },
  {
   "cell_type": "code",
   "execution_count": 3,
   "metadata": {},
   "outputs": [],
   "source": [
    "import sys"
   ]
  },
  {
   "cell_type": "code",
   "execution_count": 4,
   "metadata": {},
   "outputs": [],
   "source": [
    "%load_ext autoreload\n",
    "%autoreload 2"
   ]
  },
  {
   "cell_type": "markdown",
   "metadata": {},
   "source": [
    "---------------------------"
   ]
  },
  {
   "cell_type": "markdown",
   "metadata": {},
   "source": [
    "## Config"
   ]
  },
  {
   "cell_type": "code",
   "execution_count": 5,
   "metadata": {},
   "outputs": [],
   "source": [
    "project_data_dir = '/gcm-lfs1/pablo/data/rna_silencing'"
   ]
  },
  {
   "cell_type": "code",
   "execution_count": 6,
   "metadata": {},
   "outputs": [],
   "source": [
    "project_dir = '/home/pmonteagudo/workspace/silencing_project'"
   ]
  },
  {
   "cell_type": "code",
   "execution_count": 7,
   "metadata": {},
   "outputs": [],
   "source": [
    "scripts_dir = os.path.join(project_dir, 'pyRNAdeg')\n",
    "if scripts_dir not in sys.path: \n",
    "    sys.path.append(scripts_dir)\n",
    "\n",
    "import Util"
   ]
  },
  {
   "cell_type": "markdown",
   "metadata": {},
   "source": [
    "- Result **directories**"
   ]
  },
  {
   "cell_type": "code",
   "execution_count": 8,
   "metadata": {},
   "outputs": [],
   "source": [
    "in_dir = os.path.join(project_data_dir, 'results/xp_data/RNA')"
   ]
  },
  {
   "cell_type": "code",
   "execution_count": 9,
   "metadata": {},
   "outputs": [],
   "source": [
    "out_dir = in_dir\n",
    "#out_dir = os.path.join(project_dir, 'results/Ratios')"
   ]
  },
  {
   "cell_type": "markdown",
   "metadata": {},
   "source": [
    "------------------------------"
   ]
  },
  {
   "cell_type": "markdown",
   "metadata": {},
   "source": [
    "- Investigate **Heterochromatic genes**"
   ]
  },
  {
   "cell_type": "code",
   "execution_count": 10,
   "metadata": {},
   "outputs": [],
   "source": [
    "import viz_strands ## get deg1, deg2 and non_degraded"
   ]
  },
  {
   "cell_type": "code",
   "execution_count": 11,
   "metadata": {},
   "outputs": [],
   "source": [
    "## centromeric genes: `deg1`\n",
    "old_deg1 = ['dh1', 'dg1']\n",
    "deg1 = viz_strands.deg1\n",
    "\n",
    "## subtelomeric genes: `deg2`\n",
    "old_deg2 = ['SPAC212.11', 'SPAC212.10']\n",
    "deg2 = viz_strands.deg2\n",
    "\n",
    "# Mating type region (MTR) gene counts\n",
    "deg3 = ['MAT2', 'MAT3', 'MAT1']\n",
    "\n",
    "## rest of Heterochromatic genes, including mat: `deg3`\n",
    "non_degraded = viz_strands.non_degraded"
   ]
  },
  {
   "cell_type": "code",
   "execution_count": 12,
   "metadata": {},
   "outputs": [],
   "source": [
    "all_htc_genes = deg1 + deg2 + non_degraded\n",
    "htc_genes = deg1 + deg2 + deg3"
   ]
  },
  {
   "cell_type": "markdown",
   "metadata": {},
   "source": [
    "- Import dataframe containing **annotation of all samples**"
   ]
  },
  {
   "cell_type": "code",
   "execution_count": 13,
   "metadata": {},
   "outputs": [
    {
     "data": {
      "text/plain": [
       "'/gcm-lfs1/pablo/data/rna_silencing/seq_data/sample_annotation.csv'"
      ]
     },
     "execution_count": 13,
     "metadata": {},
     "output_type": "execute_result"
    }
   ],
   "source": [
    "sample_annotation_file = os.path.join(project_data_dir, 'seq_data', 'sample_annotation.csv')\n",
    "sample_annotation_file"
   ]
  },
  {
   "cell_type": "code",
   "execution_count": 14,
   "metadata": {},
   "outputs": [],
   "source": [
    "select_cols = ['sample_id', 'pipeline_type', 'seq_category', 'seq_type',  'mutant_id', 'mutant', 'replicate', 'batch', 'trimmed', 'halic_local_dir']"
   ]
  },
  {
   "cell_type": "code",
   "execution_count": 15,
   "metadata": {},
   "outputs": [],
   "source": [
    "all_samples_df = pd.read_csv(sample_annotation_file, sep=\"\\t\", usecols=select_cols)[select_cols]\n",
    "#all_samples_df.head()"
   ]
  },
  {
   "cell_type": "code",
   "execution_count": 16,
   "metadata": {},
   "outputs": [
    {
     "data": {
      "text/plain": [
       "(151, 10)"
      ]
     },
     "execution_count": 16,
     "metadata": {},
     "output_type": "execute_result"
    }
   ],
   "source": [
    "all_samples_df.shape"
   ]
  },
  {
   "cell_type": "markdown",
   "metadata": {},
   "source": [
    "- **Ignore S5-RIP samples** for now"
   ]
  },
  {
   "cell_type": "code",
   "execution_count": 17,
   "metadata": {},
   "outputs": [
    {
     "data": {
      "text/plain": [
       "(145, 10)"
      ]
     },
     "execution_count": 17,
     "metadata": {},
     "output_type": "execute_result"
    }
   ],
   "source": [
    "## Ignore S5-samples for now!\n",
    "all_samples_df = all_samples_df[all_samples_df['seq_type'] != 'S5-RIP']\n",
    "all_samples_df.shape"
   ]
  },
  {
   "cell_type": "markdown",
   "metadata": {},
   "source": [
    "- **Select RNA Datasets**: | S2-RIP | S5-RIP | pA-RNA | total-RNA |"
   ]
  },
  {
   "cell_type": "code",
   "execution_count": 18,
   "metadata": {},
   "outputs": [
    {
     "data": {
      "text/html": [
       "<div>\n",
       "<style scoped>\n",
       "    .dataframe tbody tr th:only-of-type {\n",
       "        vertical-align: middle;\n",
       "    }\n",
       "\n",
       "    .dataframe tbody tr th {\n",
       "        vertical-align: top;\n",
       "    }\n",
       "\n",
       "    .dataframe thead th {\n",
       "        text-align: right;\n",
       "    }\n",
       "</style>\n",
       "<table border=\"1\" class=\"dataframe\">\n",
       "  <thead>\n",
       "    <tr style=\"text-align: right;\">\n",
       "      <th></th>\n",
       "      <th>sample_id</th>\n",
       "      <th>pipeline_type</th>\n",
       "      <th>seq_category</th>\n",
       "      <th>seq_type</th>\n",
       "      <th>mutant_id</th>\n",
       "      <th>mutant</th>\n",
       "      <th>replicate</th>\n",
       "      <th>batch</th>\n",
       "      <th>trimmed</th>\n",
       "      <th>halic_local_dir</th>\n",
       "    </tr>\n",
       "  </thead>\n",
       "  <tbody>\n",
       "    <tr>\n",
       "      <th>30</th>\n",
       "      <td>1022_pA-RNA_1</td>\n",
       "      <td>RNA</td>\n",
       "      <td>pA-RNA</td>\n",
       "      <td>pA-RNA</td>\n",
       "      <td>1022</td>\n",
       "      <td>mot2d</td>\n",
       "      <td>1</td>\n",
       "      <td>ccr4-not</td>\n",
       "      <td>False</td>\n",
       "      <td>Revision/Ccr4-Not_mutants/1022_mot2D/RNA/</td>\n",
       "    </tr>\n",
       "    <tr>\n",
       "      <th>31</th>\n",
       "      <td>1023_pA-RNA_2</td>\n",
       "      <td>RNA</td>\n",
       "      <td>pA-RNA</td>\n",
       "      <td>pA-RNA</td>\n",
       "      <td>1023</td>\n",
       "      <td>mot2d</td>\n",
       "      <td>2</td>\n",
       "      <td>ccr4-not</td>\n",
       "      <td>False</td>\n",
       "      <td>Revision/Ccr4-Not_mutants/1022_mot2D/RNA/</td>\n",
       "    </tr>\n",
       "    <tr>\n",
       "      <th>32</th>\n",
       "      <td>1168_pA-RNA_1</td>\n",
       "      <td>RNA</td>\n",
       "      <td>pA-RNA</td>\n",
       "      <td>pA-RNA</td>\n",
       "      <td>1168</td>\n",
       "      <td>NaN</td>\n",
       "      <td>1</td>\n",
       "      <td>manuscript</td>\n",
       "      <td>False</td>\n",
       "      <td>NaN</td>\n",
       "    </tr>\n",
       "    <tr>\n",
       "      <th>33</th>\n",
       "      <td>1168_pA-RNA_2</td>\n",
       "      <td>RNA</td>\n",
       "      <td>pA-RNA</td>\n",
       "      <td>pA-RNA</td>\n",
       "      <td>1168</td>\n",
       "      <td>NaN</td>\n",
       "      <td>2</td>\n",
       "      <td>manuscript</td>\n",
       "      <td>False</td>\n",
       "      <td>NaN</td>\n",
       "    </tr>\n",
       "    <tr>\n",
       "      <th>34</th>\n",
       "      <td>260_pA-RNA_1</td>\n",
       "      <td>RNA</td>\n",
       "      <td>pA-RNA</td>\n",
       "      <td>pA-RNA</td>\n",
       "      <td>260</td>\n",
       "      <td>NaN</td>\n",
       "      <td>1</td>\n",
       "      <td>revision</td>\n",
       "      <td>False</td>\n",
       "      <td>Revision/Sequencing_Revision/RNA/pA_RNA/</td>\n",
       "    </tr>\n",
       "  </tbody>\n",
       "</table>\n",
       "</div>"
      ],
      "text/plain": [
       "        sample_id pipeline_type seq_category seq_type mutant_id mutant  \\\n",
       "30  1022_pA-RNA_1           RNA       pA-RNA   pA-RNA      1022  mot2d   \n",
       "31  1023_pA-RNA_2           RNA       pA-RNA   pA-RNA      1023  mot2d   \n",
       "32  1168_pA-RNA_1           RNA       pA-RNA   pA-RNA      1168    NaN   \n",
       "33  1168_pA-RNA_2           RNA       pA-RNA   pA-RNA      1168    NaN   \n",
       "34   260_pA-RNA_1           RNA       pA-RNA   pA-RNA       260    NaN   \n",
       "\n",
       "    replicate       batch  trimmed                            halic_local_dir  \n",
       "30          1    ccr4-not    False  Revision/Ccr4-Not_mutants/1022_mot2D/RNA/  \n",
       "31          2    ccr4-not    False  Revision/Ccr4-Not_mutants/1022_mot2D/RNA/  \n",
       "32          1  manuscript    False                                        NaN  \n",
       "33          2  manuscript    False                                        NaN  \n",
       "34          1    revision    False   Revision/Sequencing_Revision/RNA/pA_RNA/  "
      ]
     },
     "execution_count": 18,
     "metadata": {},
     "output_type": "execute_result"
    }
   ],
   "source": [
    "simulated_data = False\n",
    "#simulated_data = True\n",
    "                 \n",
    "if not simulated_data:\n",
    "  datasets_df = all_samples_df[all_samples_df['pipeline_type'] == 'RNA']\n",
    "else:\n",
    "  datasets_df = all_samples_df[all_samples_df['pipeline_type'] == 'simulated-data']\n",
    "  datasets_df['pipeline_type'] = 'RNA'\n",
    "\n",
    "datasets_df.head()"
   ]
  },
  {
   "cell_type": "code",
   "execution_count": 19,
   "metadata": {},
   "outputs": [
    {
     "data": {
      "text/plain": [
       "(77, 10)"
      ]
     },
     "execution_count": 19,
     "metadata": {},
     "output_type": "execute_result"
    }
   ],
   "source": [
    "datasets_df.shape"
   ]
  },
  {
   "cell_type": "markdown",
   "metadata": {},
   "source": [
    "----------------"
   ]
  },
  {
   "cell_type": "markdown",
   "metadata": {},
   "source": [
    "# Merge replicates: **RNA Samples**"
   ]
  },
  {
   "cell_type": "markdown",
   "metadata": {},
   "source": [
    "------------"
   ]
  },
  {
   "cell_type": "markdown",
   "metadata": {},
   "source": [
    "In general, before applying this step special care needs to be taken to find out which replicate samples can be merged together.\n",
    "\n",
    "A **correlation analysis** between replicates is necessary as in:\n",
    "- `RNAdeg/Notebooks/PreProcess/Process_Replicates_ChIP.ipynb`\n",
    "- `RNAdeg/Notebooks/PreProcess/Process_Replicates_RNA.ipynb`"
   ]
  },
  {
   "cell_type": "code",
   "execution_count": 33,
   "metadata": {},
   "outputs": [],
   "source": [
    "import RepTools as rpc"
   ]
  },
  {
   "cell_type": "markdown",
   "metadata": {},
   "source": [
    "- **Replicate samples** grouped by `Mutant` type and `seq_type`:"
   ]
  },
  {
   "cell_type": "code",
   "execution_count": 21,
   "metadata": {},
   "outputs": [],
   "source": [
    "datasets_df['sub_sample'] = datasets_df['mutant_id'] + '_' + datasets_df['seq_type']"
   ]
  },
  {
   "cell_type": "code",
   "execution_count": 22,
   "metadata": {},
   "outputs": [],
   "source": [
    "sub_samples = dict(datasets_df.groupby('sub_sample')['sample_id'].apply(list))\n",
    "#sub_samples"
   ]
  },
  {
   "cell_type": "markdown",
   "metadata": {},
   "source": [
    "sub_samples =  [## 1022 - ?\n",
    "                ## 1023 - ?\n",
    "                ## 1168\n",
    "                ['1168_S2RIP_2', '1168_S2RIP'],\n",
    "                ['1168_pA_2', '1168_pA'],\n",
    "                ## 260 - ?\n",
    "                ## 301\n",
    "                ['301_S2RIP', '301_S2RIP_2', '301_S2RIP_3'],\n",
    "                ['301_RNA_pA', '301_RNA_pA_2', '301_RNA_pA_3'],\n",
    "                ## 302\n",
    "                ['302_S2RIP', '302_S2RIP_2', '302_S2RIP_3'],\n",
    "                ['302_RNA_pA', '302_RNA_pA_2'],\n",
    "                ## 324/283\n",
    "                ['324_S2RIP', '324_S2RIP_2', '324_S2RIP_3'], \n",
    "                ['324_RNA_pA', '324_RNA_pA_2', '324_RNA_pA_3', '283_RNA_pA_4'],\n",
    "                ## 491\n",
    "                ['491_S2RIP', '491_S2RIP_2', '491_S2RIP_3'],\n",
    "                ['491_RNA_pA', '491_RNA_pA_2'],\n",
    "                ## 504\n",
    "                ['504S2RIP_1', '504S2RIP_2'],\n",
    "                ['504_RNA_pA_1', '504_RNA_pA_2'],\n",
    "                ## 510/591\n",
    "                ['510_S2RIP', '591_S2RIP_2'],\n",
    "                ['510_RNA_pA', '510_RNA_pA_2'],\n",
    "                ## 523 - ?\n",
    "                ## 524 - ?\n",
    "                ## 530\n",
    "                ['530S2RIP_1', '530S2RIP_2'],\n",
    "                ['530_RNA_pA_1', '530_RNA_pA_2'],\n",
    "                ## 544 - ?\n",
    "                ## 638\n",
    "                ['638S2RIP_1','638S2RIP_2'],\n",
    "                ['638_RNA_pA_1', '638_RNA_pA_2'],\n",
    "                ## 80\n",
    "                ['80_S2RIP','80S2RIP_1', '80S2RIP_2'],\n",
    "                ['80_RNA_pA', '80pARNA_2'],\n",
    "                ## 63/65 - WT\n",
    "                ['63_S2PRIP', '63_S2RIP_2'],\n",
    "                ['63_RNA_pA_3', '63_RNA_pA_4', '63_RNA_pA', '65_RNA_pA']\n",
    "               ]"
   ]
  },
  {
   "cell_type": "markdown",
   "metadata": {},
   "source": [
    "**Total number of samples**:"
   ]
  },
  {
   "cell_type": "code",
   "execution_count": 23,
   "metadata": {},
   "outputs": [],
   "source": [
    "import itertools"
   ]
  },
  {
   "cell_type": "code",
   "execution_count": 24,
   "metadata": {},
   "outputs": [
    {
     "data": {
      "text/plain": [
       "77"
      ]
     },
     "execution_count": 24,
     "metadata": {},
     "output_type": "execute_result"
    }
   ],
   "source": [
    "len(list(itertools.chain.from_iterable(sub_samples.values())))"
   ]
  },
  {
   "cell_type": "markdown",
   "metadata": {},
   "source": [
    "**Number of mutants**:"
   ]
  },
  {
   "cell_type": "code",
   "execution_count": 25,
   "metadata": {},
   "outputs": [
    {
     "data": {
      "text/plain": [
       "38"
      ]
     },
     "execution_count": 25,
     "metadata": {},
     "output_type": "execute_result"
    }
   ],
   "source": [
    "len(sub_samples)"
   ]
  },
  {
   "cell_type": "markdown",
   "metadata": {},
   "source": [
    "## **Data**: S2-RIP, pA-RNA and total-RNA\n",
    "\n",
    "Merge and store as `.csv` files:\n",
    "\n",
    "- **Average TPM-normalized expression tables** (tpm_df) for replicates:\n",
    "    - `rna_tpm_merged.csv`"
   ]
  },
  {
   "cell_type": "markdown",
   "metadata": {},
   "source": [
    "- Import **RNA gene expresion Matrix**: `rna_pombe_tpm_matrix.csv`"
   ]
  },
  {
   "cell_type": "code",
   "execution_count": 27,
   "metadata": {},
   "outputs": [
    {
     "data": {
      "text/html": [
       "<div>\n",
       "<style scoped>\n",
       "    .dataframe tbody tr th:only-of-type {\n",
       "        vertical-align: middle;\n",
       "    }\n",
       "\n",
       "    .dataframe tbody tr th {\n",
       "        vertical-align: top;\n",
       "    }\n",
       "\n",
       "    .dataframe thead th {\n",
       "        text-align: right;\n",
       "    }\n",
       "</style>\n",
       "<table border=\"1\" class=\"dataframe\">\n",
       "  <thead>\n",
       "    <tr style=\"text-align: right;\">\n",
       "      <th></th>\n",
       "      <th>gene_id</th>\n",
       "      <th>seqid</th>\n",
       "      <th>type</th>\n",
       "      <th>start</th>\n",
       "      <th>end</th>\n",
       "      <th>strand</th>\n",
       "      <th>gene_name</th>\n",
       "      <th>cds_length</th>\n",
       "      <th>utr_length</th>\n",
       "      <th>intron_length</th>\n",
       "      <th>...</th>\n",
       "      <th>80_S2-RIP_1</th>\n",
       "      <th>80_S2-RIP_2</th>\n",
       "      <th>80_S2-RIP_3</th>\n",
       "      <th>WT_S2-RIP_1</th>\n",
       "      <th>WT_S2-RIP_2</th>\n",
       "      <th>260_total-RNA_1</th>\n",
       "      <th>510_total-RNA_1</th>\n",
       "      <th>638_total-RNA_1</th>\n",
       "      <th>80_total-RNA_1</th>\n",
       "      <th>WT_total-RNA_1</th>\n",
       "    </tr>\n",
       "  </thead>\n",
       "  <tbody>\n",
       "    <tr>\n",
       "      <th>0</th>\n",
       "      <td>FP565355_TR_box_3800..3820</td>\n",
       "      <td>mating_type_region</td>\n",
       "      <td>TR_box</td>\n",
       "      <td>3800</td>\n",
       "      <td>3820</td>\n",
       "      <td>+</td>\n",
       "      <td>NaN</td>\n",
       "      <td>NaN</td>\n",
       "      <td>NaN</td>\n",
       "      <td>NaN</td>\n",
       "      <td>...</td>\n",
       "      <td>NaN</td>\n",
       "      <td>NaN</td>\n",
       "      <td>NaN</td>\n",
       "      <td>NaN</td>\n",
       "      <td>NaN</td>\n",
       "      <td>NaN</td>\n",
       "      <td>NaN</td>\n",
       "      <td>NaN</td>\n",
       "      <td>NaN</td>\n",
       "      <td>NaN</td>\n",
       "    </tr>\n",
       "    <tr>\n",
       "      <th>1</th>\n",
       "      <td>FP565355_region_1..2120</td>\n",
       "      <td>mating_type_region</td>\n",
       "      <td>region</td>\n",
       "      <td>1</td>\n",
       "      <td>2120</td>\n",
       "      <td>+</td>\n",
       "      <td>NaN</td>\n",
       "      <td>NaN</td>\n",
       "      <td>NaN</td>\n",
       "      <td>NaN</td>\n",
       "      <td>...</td>\n",
       "      <td>3.914550</td>\n",
       "      <td>4.180249</td>\n",
       "      <td>1.822724</td>\n",
       "      <td>4.156766</td>\n",
       "      <td>1.162622</td>\n",
       "      <td>2.249401</td>\n",
       "      <td>6.054902</td>\n",
       "      <td>9.715733</td>\n",
       "      <td>6.556595</td>\n",
       "      <td>3.383456</td>\n",
       "    </tr>\n",
       "    <tr>\n",
       "      <th>2</th>\n",
       "      <td>FP565355_region_15417..15473</td>\n",
       "      <td>mating_type_region</td>\n",
       "      <td>region</td>\n",
       "      <td>15417</td>\n",
       "      <td>15473</td>\n",
       "      <td>+</td>\n",
       "      <td>NaN</td>\n",
       "      <td>NaN</td>\n",
       "      <td>NaN</td>\n",
       "      <td>NaN</td>\n",
       "      <td>...</td>\n",
       "      <td>NaN</td>\n",
       "      <td>NaN</td>\n",
       "      <td>NaN</td>\n",
       "      <td>NaN</td>\n",
       "      <td>NaN</td>\n",
       "      <td>NaN</td>\n",
       "      <td>NaN</td>\n",
       "      <td>NaN</td>\n",
       "      <td>NaN</td>\n",
       "      <td>NaN</td>\n",
       "    </tr>\n",
       "    <tr>\n",
       "      <th>3</th>\n",
       "      <td>FP565355_region_15474..15608</td>\n",
       "      <td>mating_type_region</td>\n",
       "      <td>region</td>\n",
       "      <td>15474</td>\n",
       "      <td>15608</td>\n",
       "      <td>+</td>\n",
       "      <td>NaN</td>\n",
       "      <td>NaN</td>\n",
       "      <td>NaN</td>\n",
       "      <td>NaN</td>\n",
       "      <td>...</td>\n",
       "      <td>NaN</td>\n",
       "      <td>5.967763</td>\n",
       "      <td>4.089074</td>\n",
       "      <td>34.814198</td>\n",
       "      <td>6.085825</td>\n",
       "      <td>NaN</td>\n",
       "      <td>NaN</td>\n",
       "      <td>19.071625</td>\n",
       "      <td>NaN</td>\n",
       "      <td>NaN</td>\n",
       "    </tr>\n",
       "    <tr>\n",
       "      <th>4</th>\n",
       "      <td>FP565355_region_15609..16735</td>\n",
       "      <td>mating_type_region</td>\n",
       "      <td>region</td>\n",
       "      <td>15609</td>\n",
       "      <td>16735</td>\n",
       "      <td>+</td>\n",
       "      <td>NaN</td>\n",
       "      <td>NaN</td>\n",
       "      <td>NaN</td>\n",
       "      <td>NaN</td>\n",
       "      <td>...</td>\n",
       "      <td>12.518224</td>\n",
       "      <td>20.016098</td>\n",
       "      <td>26.939992</td>\n",
       "      <td>2.085145</td>\n",
       "      <td>NaN</td>\n",
       "      <td>1.586756</td>\n",
       "      <td>21.439771</td>\n",
       "      <td>7.995868</td>\n",
       "      <td>42.139843</td>\n",
       "      <td>44.552336</td>\n",
       "    </tr>\n",
       "  </tbody>\n",
       "</table>\n",
       "<p>5 rows × 90 columns</p>\n",
       "</div>"
      ],
      "text/plain": [
       "                        gene_id               seqid    type  start    end  \\\n",
       "0    FP565355_TR_box_3800..3820  mating_type_region  TR_box   3800   3820   \n",
       "1       FP565355_region_1..2120  mating_type_region  region      1   2120   \n",
       "2  FP565355_region_15417..15473  mating_type_region  region  15417  15473   \n",
       "3  FP565355_region_15474..15608  mating_type_region  region  15474  15608   \n",
       "4  FP565355_region_15609..16735  mating_type_region  region  15609  16735   \n",
       "\n",
       "  strand gene_name  cds_length  utr_length  intron_length       ...        \\\n",
       "0      +       NaN         NaN         NaN            NaN       ...         \n",
       "1      +       NaN         NaN         NaN            NaN       ...         \n",
       "2      +       NaN         NaN         NaN            NaN       ...         \n",
       "3      +       NaN         NaN         NaN            NaN       ...         \n",
       "4      +       NaN         NaN         NaN            NaN       ...         \n",
       "\n",
       "   80_S2-RIP_1 80_S2-RIP_2 80_S2-RIP_3  WT_S2-RIP_1  WT_S2-RIP_2  \\\n",
       "0          NaN         NaN         NaN          NaN          NaN   \n",
       "1     3.914550    4.180249    1.822724     4.156766     1.162622   \n",
       "2          NaN         NaN         NaN          NaN          NaN   \n",
       "3          NaN    5.967763    4.089074    34.814198     6.085825   \n",
       "4    12.518224   20.016098   26.939992     2.085145          NaN   \n",
       "\n",
       "   260_total-RNA_1  510_total-RNA_1  638_total-RNA_1  80_total-RNA_1  \\\n",
       "0              NaN              NaN              NaN             NaN   \n",
       "1         2.249401         6.054902         9.715733        6.556595   \n",
       "2              NaN              NaN              NaN             NaN   \n",
       "3              NaN              NaN        19.071625             NaN   \n",
       "4         1.586756        21.439771         7.995868       42.139843   \n",
       "\n",
       "   WT_total-RNA_1  \n",
       "0             NaN  \n",
       "1        3.383456  \n",
       "2             NaN  \n",
       "3             NaN  \n",
       "4       44.552336  \n",
       "\n",
       "[5 rows x 90 columns]"
      ]
     },
     "execution_count": 27,
     "metadata": {},
     "output_type": "execute_result"
    }
   ],
   "source": [
    "tpm_df = pd.read_csv(os.path.join(in_dir, 'rna_pombe_tpm_matrix.csv'), sep='\\t')\n",
    "tpm_df.head()"
   ]
  },
  {
   "cell_type": "code",
   "execution_count": 28,
   "metadata": {},
   "outputs": [
    {
     "data": {
      "text/plain": [
       "(7020, 90)"
      ]
     },
     "execution_count": 28,
     "metadata": {},
     "output_type": "execute_result"
    }
   ],
   "source": [
    "tpm_df.shape"
   ]
  },
  {
   "cell_type": "markdown",
   "metadata": {},
   "source": [
    "**Create `length` column**"
   ]
  },
  {
   "cell_type": "code",
   "execution_count": 29,
   "metadata": {},
   "outputs": [],
   "source": [
    "tpm_df['length'] = tpm_df['gene_length']"
   ]
  },
  {
   "cell_type": "markdown",
   "metadata": {},
   "source": [
    "- **Merge RNA replicates** into an average **gene expression Matrix** per Mutant type: `rna_merged_tpm.csv`"
   ]
  },
  {
   "cell_type": "code",
   "execution_count": 30,
   "metadata": {},
   "outputs": [],
   "source": [
    "merged_tpm_df = rpc.repli_merge(tpm_df,\n",
    "                                sub_samples,\n",
    "                                out_dir = out_dir, \n",
    "                                out_file = 'rna_merged_tpm.csv')"
   ]
  },
  {
   "cell_type": "code",
   "execution_count": 31,
   "metadata": {},
   "outputs": [
    {
     "data": {
      "text/html": [
       "<div>\n",
       "<style scoped>\n",
       "    .dataframe tbody tr th:only-of-type {\n",
       "        vertical-align: middle;\n",
       "    }\n",
       "\n",
       "    .dataframe tbody tr th {\n",
       "        vertical-align: top;\n",
       "    }\n",
       "\n",
       "    .dataframe thead th {\n",
       "        text-align: right;\n",
       "    }\n",
       "</style>\n",
       "<table border=\"1\" class=\"dataframe\">\n",
       "  <thead>\n",
       "    <tr style=\"text-align: right;\">\n",
       "      <th></th>\n",
       "      <th>gene_id</th>\n",
       "      <th>gene_name</th>\n",
       "      <th>length</th>\n",
       "      <th>type</th>\n",
       "      <th>category</th>\n",
       "      <th>bio_type</th>\n",
       "      <th>1022_S2-RIP</th>\n",
       "      <th>1022_pA-RNA</th>\n",
       "      <th>1023_pA-RNA</th>\n",
       "      <th>1168_S2-RIP</th>\n",
       "      <th>...</th>\n",
       "      <th>591_S2-RIP</th>\n",
       "      <th>638_S2-RIP</th>\n",
       "      <th>638_pA-RNA</th>\n",
       "      <th>638_total-RNA</th>\n",
       "      <th>80_S2-RIP</th>\n",
       "      <th>80_pA-RNA</th>\n",
       "      <th>80_total-RNA</th>\n",
       "      <th>WT_S2-RIP</th>\n",
       "      <th>WT_pA-RNA</th>\n",
       "      <th>WT_total-RNA</th>\n",
       "    </tr>\n",
       "  </thead>\n",
       "  <tbody>\n",
       "    <tr>\n",
       "      <th>0</th>\n",
       "      <td>FP565355_TR_box_3800..3820</td>\n",
       "      <td>NaN</td>\n",
       "      <td>21.0</td>\n",
       "      <td>TR_box</td>\n",
       "      <td>repeat</td>\n",
       "      <td>TR_box</td>\n",
       "      <td>NaN</td>\n",
       "      <td>NaN</td>\n",
       "      <td>NaN</td>\n",
       "      <td>NaN</td>\n",
       "      <td>...</td>\n",
       "      <td>NaN</td>\n",
       "      <td>NaN</td>\n",
       "      <td>NaN</td>\n",
       "      <td>NaN</td>\n",
       "      <td>NaN</td>\n",
       "      <td>NaN</td>\n",
       "      <td>NaN</td>\n",
       "      <td>NaN</td>\n",
       "      <td>NaN</td>\n",
       "      <td>NaN</td>\n",
       "    </tr>\n",
       "    <tr>\n",
       "      <th>1</th>\n",
       "      <td>FP565355_region_1..2120</td>\n",
       "      <td>NaN</td>\n",
       "      <td>2120.0</td>\n",
       "      <td>region</td>\n",
       "      <td>repeat</td>\n",
       "      <td>region</td>\n",
       "      <td>14.563027</td>\n",
       "      <td>6.299062</td>\n",
       "      <td>10.158610</td>\n",
       "      <td>3.644505</td>\n",
       "      <td>...</td>\n",
       "      <td>4.606917</td>\n",
       "      <td>2.902372</td>\n",
       "      <td>2.598040</td>\n",
       "      <td>9.715733</td>\n",
       "      <td>3.305841</td>\n",
       "      <td>1.697160</td>\n",
       "      <td>6.556595</td>\n",
       "      <td>2.659694</td>\n",
       "      <td>0.687899</td>\n",
       "      <td>3.383456</td>\n",
       "    </tr>\n",
       "    <tr>\n",
       "      <th>2</th>\n",
       "      <td>FP565355_region_15417..15473</td>\n",
       "      <td>NaN</td>\n",
       "      <td>57.0</td>\n",
       "      <td>region</td>\n",
       "      <td>repeat</td>\n",
       "      <td>region</td>\n",
       "      <td>NaN</td>\n",
       "      <td>NaN</td>\n",
       "      <td>NaN</td>\n",
       "      <td>NaN</td>\n",
       "      <td>...</td>\n",
       "      <td>NaN</td>\n",
       "      <td>NaN</td>\n",
       "      <td>NaN</td>\n",
       "      <td>NaN</td>\n",
       "      <td>NaN</td>\n",
       "      <td>NaN</td>\n",
       "      <td>NaN</td>\n",
       "      <td>NaN</td>\n",
       "      <td>NaN</td>\n",
       "      <td>NaN</td>\n",
       "    </tr>\n",
       "    <tr>\n",
       "      <th>3</th>\n",
       "      <td>FP565355_region_15474..15608</td>\n",
       "      <td>NaN</td>\n",
       "      <td>135.0</td>\n",
       "      <td>region</td>\n",
       "      <td>repeat</td>\n",
       "      <td>region</td>\n",
       "      <td>15.884988</td>\n",
       "      <td>5.206242</td>\n",
       "      <td>1.504979</td>\n",
       "      <td>10.405860</td>\n",
       "      <td>...</td>\n",
       "      <td>NaN</td>\n",
       "      <td>7.545657</td>\n",
       "      <td>6.424812</td>\n",
       "      <td>19.071625</td>\n",
       "      <td>5.028418</td>\n",
       "      <td>1.432481</td>\n",
       "      <td>NaN</td>\n",
       "      <td>20.450011</td>\n",
       "      <td>3.806464</td>\n",
       "      <td>NaN</td>\n",
       "    </tr>\n",
       "    <tr>\n",
       "      <th>4</th>\n",
       "      <td>FP565355_region_15609..16735</td>\n",
       "      <td>NaN</td>\n",
       "      <td>1127.0</td>\n",
       "      <td>region</td>\n",
       "      <td>repeat</td>\n",
       "      <td>region</td>\n",
       "      <td>21.995583</td>\n",
       "      <td>67.561037</td>\n",
       "      <td>39.931361</td>\n",
       "      <td>10.012800</td>\n",
       "      <td>...</td>\n",
       "      <td>17.332144</td>\n",
       "      <td>4.563064</td>\n",
       "      <td>6.617984</td>\n",
       "      <td>7.995868</td>\n",
       "      <td>19.824772</td>\n",
       "      <td>35.014741</td>\n",
       "      <td>42.139843</td>\n",
       "      <td>2.085145</td>\n",
       "      <td>8.159744</td>\n",
       "      <td>44.552336</td>\n",
       "    </tr>\n",
       "  </tbody>\n",
       "</table>\n",
       "<p>5 rows × 44 columns</p>\n",
       "</div>"
      ],
      "text/plain": [
       "                        gene_id gene_name  length    type category bio_type  \\\n",
       "0    FP565355_TR_box_3800..3820       NaN    21.0  TR_box   repeat   TR_box   \n",
       "1       FP565355_region_1..2120       NaN  2120.0  region   repeat   region   \n",
       "2  FP565355_region_15417..15473       NaN    57.0  region   repeat   region   \n",
       "3  FP565355_region_15474..15608       NaN   135.0  region   repeat   region   \n",
       "4  FP565355_region_15609..16735       NaN  1127.0  region   repeat   region   \n",
       "\n",
       "   1022_S2-RIP  1022_pA-RNA  1023_pA-RNA  1168_S2-RIP      ...       \\\n",
       "0          NaN          NaN          NaN          NaN      ...        \n",
       "1    14.563027     6.299062    10.158610     3.644505      ...        \n",
       "2          NaN          NaN          NaN          NaN      ...        \n",
       "3    15.884988     5.206242     1.504979    10.405860      ...        \n",
       "4    21.995583    67.561037    39.931361    10.012800      ...        \n",
       "\n",
       "   591_S2-RIP  638_S2-RIP  638_pA-RNA  638_total-RNA  80_S2-RIP  80_pA-RNA  \\\n",
       "0         NaN         NaN         NaN            NaN        NaN        NaN   \n",
       "1    4.606917    2.902372    2.598040       9.715733   3.305841   1.697160   \n",
       "2         NaN         NaN         NaN            NaN        NaN        NaN   \n",
       "3         NaN    7.545657    6.424812      19.071625   5.028418   1.432481   \n",
       "4   17.332144    4.563064    6.617984       7.995868  19.824772  35.014741   \n",
       "\n",
       "   80_total-RNA  WT_S2-RIP  WT_pA-RNA  WT_total-RNA  \n",
       "0           NaN        NaN        NaN           NaN  \n",
       "1      6.556595   2.659694   0.687899      3.383456  \n",
       "2           NaN        NaN        NaN           NaN  \n",
       "3           NaN  20.450011   3.806464           NaN  \n",
       "4     42.139843   2.085145   8.159744     44.552336  \n",
       "\n",
       "[5 rows x 44 columns]"
      ]
     },
     "execution_count": 31,
     "metadata": {},
     "output_type": "execute_result"
    }
   ],
   "source": [
    "merged_tpm_df.head()"
   ]
  },
  {
   "cell_type": "code",
   "execution_count": 32,
   "metadata": {},
   "outputs": [
    {
     "data": {
      "text/plain": [
       "(7020, 44)"
      ]
     },
     "execution_count": 32,
     "metadata": {},
     "output_type": "execute_result"
    }
   ],
   "source": [
    "merged_tpm_df.shape"
   ]
  }
 ],
 "metadata": {
  "kernelspec": {
   "display_name": "Python 3",
   "language": "python",
   "name": "python3"
  },
  "language_info": {
   "codemirror_mode": {
    "name": "ipython",
    "version": 3
   },
   "file_extension": ".py",
   "mimetype": "text/x-python",
   "name": "python",
   "nbconvert_exporter": "python",
   "pygments_lexer": "ipython3",
   "version": "3.7.1"
  }
 },
 "nbformat": 4,
 "nbformat_minor": 2
}
