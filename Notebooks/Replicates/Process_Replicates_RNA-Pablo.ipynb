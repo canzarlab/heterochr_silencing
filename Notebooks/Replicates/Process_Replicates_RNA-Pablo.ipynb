{
 "cells": [
  {
   "cell_type": "code",
   "execution_count": 1,
   "metadata": {},
   "outputs": [],
   "source": [
    "%load_ext autoreload\n",
    "%autoreload 2"
   ]
  },
  {
   "cell_type": "code",
   "execution_count": 2,
   "metadata": {},
   "outputs": [],
   "source": [
    "import itertools"
   ]
  },
  {
   "cell_type": "markdown",
   "metadata": {},
   "source": [
    "------------------------------"
   ]
  },
  {
   "cell_type": "markdown",
   "metadata": {},
   "source": [
    "## Config"
   ]
  },
  {
   "cell_type": "code",
   "execution_count": 3,
   "metadata": {},
   "outputs": [],
   "source": [
    "import sys"
   ]
  },
  {
   "cell_type": "code",
   "execution_count": 4,
   "metadata": {},
   "outputs": [],
   "source": [
    "project_dir = '/home/pmonteagudo/workspace/silencing_project'\n",
    "if project_dir not in sys.path: \n",
    "    sys.path.append(project_dir)\n",
    "from config_analysis import *"
   ]
  },
  {
   "cell_type": "code",
   "execution_count": 5,
   "metadata": {},
   "outputs": [],
   "source": [
    "import RepTools as rpc    \n",
    "from Util import to_log2_tpm"
   ]
  },
  {
   "cell_type": "markdown",
   "metadata": {},
   "source": [
    "- Result **directories**"
   ]
  },
  {
   "cell_type": "code",
   "execution_count": 6,
   "metadata": {},
   "outputs": [
    {
     "data": {
      "text/plain": [
       "'/gcm-lfs1/pablo/data/rna_silencing/results/xp_data/RNA'"
      ]
     },
     "execution_count": 6,
     "metadata": {},
     "output_type": "execute_result"
    }
   ],
   "source": [
    "#in_dir = os.path.join(project_data_dir, 'results/xp_data/RNA')\n",
    "in_dir = rna_dir\n",
    "in_dir"
   ]
  },
  {
   "cell_type": "code",
   "execution_count": 7,
   "metadata": {},
   "outputs": [
    {
     "data": {
      "text/plain": [
       "'/gcm-lfs1/pablo/data/rna_silencing/results/xp_data/RNA'"
      ]
     },
     "execution_count": 7,
     "metadata": {},
     "output_type": "execute_result"
    }
   ],
   "source": [
    "#out_dir = os.path.join(project_data_dir, 'results/xp_data/RNA')\n",
    "out_dir = rna_dir\n",
    "out_dir"
   ]
  },
  {
   "cell_type": "markdown",
   "metadata": {},
   "source": [
    "------------"
   ]
  },
  {
   "cell_type": "markdown",
   "metadata": {},
   "source": [
    "# Process Replicates: **RNA-seq**"
   ]
  },
  {
   "cell_type": "markdown",
   "metadata": {},
   "source": [
    "------------"
   ]
  },
  {
   "cell_type": "markdown",
   "metadata": {},
   "source": [
    "## Workflow"
   ]
  },
  {
   "cell_type": "markdown",
   "metadata": {},
   "source": [
    "- Calculate **log2(tpm + 1)** of all TPM counts of all samples.\n",
    "- Get grouping of **replicate samples**.\n",
    "- Calculate **MA-plot**, **correlation plot**, and **pearson-correlation score** for all replicate pairs.\n",
    "- Group replicates with correlation scores higher than 85%.\n",
    "- Merge replicates groups by taking the mean of TPM values.\n",
    "- Filter for **Heterochromatic** and **Protein coding** (mRNA) genes, **remove entries** from merged results:\n",
    "    - `ncRNA_gene`\n",
    "    - `pseudogene`\n",
    "    - `rRNA_gene`\n",
    "    - `snRNA_gene`\n",
    "    - `snoRNA_gene`\n",
    "    - `tRNA_gene` "
   ]
  },
  {
   "cell_type": "markdown",
   "metadata": {},
   "source": [
    "--------------------------"
   ]
  },
  {
   "cell_type": "code",
   "execution_count": 8,
   "metadata": {},
   "outputs": [],
   "source": [
    "out_ma = os.path.join(out_dir, 'MA')\n",
    "if not os.path.isdir(out_ma):    \n",
    "    !mkdir -p $out_ma"
   ]
  },
  {
   "cell_type": "code",
   "execution_count": 9,
   "metadata": {},
   "outputs": [],
   "source": [
    "out_corr = os.path.join(out_dir, 'CORR')\n",
    "if not os.path.isdir(out_corr):    \n",
    "    !mkdir -p $out_corr"
   ]
  },
  {
   "cell_type": "markdown",
   "metadata": {},
   "source": [
    "-------------"
   ]
  },
  {
   "cell_type": "markdown",
   "metadata": {},
   "source": [
    "- Import dataframe containing **annotation of all samples**"
   ]
  },
  {
   "cell_type": "code",
   "execution_count": 10,
   "metadata": {},
   "outputs": [
    {
     "data": {
      "text/plain": [
       "'/gcm-lfs1/pablo/data/rna_silencing/seq_data/file_annotation.csv'"
      ]
     },
     "execution_count": 10,
     "metadata": {},
     "output_type": "execute_result"
    }
   ],
   "source": [
    "#sample_annotation_file = os.path.join(project_data_dir, 'seq_data', 'sample_annotation.csv')\n",
    "sample_annotation_file = os.path.join(project_data_dir, 'seq_data', 'file_annotation.csv')\n",
    "sample_annotation_file"
   ]
  },
  {
   "cell_type": "code",
   "execution_count": 11,
   "metadata": {},
   "outputs": [],
   "source": [
    "#select_cols = ['sample_id', 'pipeline_type', 'seq_category', 'seq_type',  'mutant_id', 'mutant', 'replicate', 'batch', 'trimmed', 'halic_local_dir']\n",
    "select_cols = ['sample_id', 'pipeline_type', 'seq_category', 'seq_type',  'mutant_id', 'mutant_name', 'replicate', 'trimmed']"
   ]
  },
  {
   "cell_type": "code",
   "execution_count": 12,
   "metadata": {},
   "outputs": [],
   "source": [
    "all_samples_df = pd.read_csv(sample_annotation_file, sep=\"\\t\", usecols=select_cols)[select_cols]\n",
    "#all_samples_df = pd.read_csv(sample_annotation_file, sep=\"\\t\")\n",
    "all_samples_df.rename(columns={'mutant_name':'mutant'}, inplace=True)\n",
    "#all_samples_df.head()"
   ]
  },
  {
   "cell_type": "code",
   "execution_count": 13,
   "metadata": {},
   "outputs": [
    {
     "data": {
      "text/plain": [
       "(157, 8)"
      ]
     },
     "execution_count": 13,
     "metadata": {},
     "output_type": "execute_result"
    }
   ],
   "source": [
    "all_samples_df.shape"
   ]
  },
  {
   "cell_type": "markdown",
   "metadata": {},
   "source": [
    "- **Ignore specific samples** "
   ]
  },
  {
   "cell_type": "code",
   "execution_count": 14,
   "metadata": {},
   "outputs": [],
   "source": [
    "#ignore_datasets.append('WT_S2-RIP_2') # try to ignore for Gene cloud plots"
   ]
  },
  {
   "cell_type": "code",
   "execution_count": 15,
   "metadata": {},
   "outputs": [],
   "source": [
    "#ignore_datasets"
   ]
  },
  {
   "cell_type": "code",
   "execution_count": 16,
   "metadata": {},
   "outputs": [
    {
     "data": {
      "text/plain": [
       "(156, 8)"
      ]
     },
     "execution_count": 16,
     "metadata": {},
     "output_type": "execute_result"
    }
   ],
   "source": [
    "all_samples_df = all_samples_df[~all_samples_df.sample_id.isin(ignore_datasets)]\n",
    "all_samples_df.shape"
   ]
  },
  {
   "cell_type": "markdown",
   "metadata": {},
   "source": [
    "- **Ignore S2-RIP/S5-RIP samples** for now"
   ]
  },
  {
   "cell_type": "code",
   "execution_count": 17,
   "metadata": {},
   "outputs": [],
   "source": [
    "#all_samples_df = all_samples_df[all_samples_df['seq_type'] != 'S2-RIP']\n",
    "#all_samples_df = all_samples_df[all_samples_df['seq_type'] != 'S5-RIP']\n",
    "#all_samples_df.shape"
   ]
  },
  {
   "cell_type": "markdown",
   "metadata": {},
   "source": [
    "- Select **RNA Datasets**: | S2-RIP | S5-RIP | pA-RNA | total-RNA |"
   ]
  },
  {
   "cell_type": "code",
   "execution_count": 18,
   "metadata": {},
   "outputs": [
    {
     "data": {
      "text/html": [
       "<div>\n",
       "<style scoped>\n",
       "    .dataframe tbody tr th:only-of-type {\n",
       "        vertical-align: middle;\n",
       "    }\n",
       "\n",
       "    .dataframe tbody tr th {\n",
       "        vertical-align: top;\n",
       "    }\n",
       "\n",
       "    .dataframe thead th {\n",
       "        text-align: right;\n",
       "    }\n",
       "</style>\n",
       "<table border=\"1\" class=\"dataframe\">\n",
       "  <thead>\n",
       "    <tr style=\"text-align: right;\">\n",
       "      <th></th>\n",
       "      <th>sample_id</th>\n",
       "      <th>pipeline_type</th>\n",
       "      <th>seq_category</th>\n",
       "      <th>seq_type</th>\n",
       "      <th>mutant_id</th>\n",
       "      <th>mutant</th>\n",
       "      <th>replicate</th>\n",
       "      <th>trimmed</th>\n",
       "    </tr>\n",
       "  </thead>\n",
       "  <tbody>\n",
       "    <tr>\n",
       "      <th>4</th>\n",
       "      <td>1022_S2-RIP_2</td>\n",
       "      <td>RNA</td>\n",
       "      <td>S2-RIP</td>\n",
       "      <td>S2-RIP</td>\n",
       "      <td>1022</td>\n",
       "      <td>mot2d</td>\n",
       "      <td>2</td>\n",
       "      <td>False</td>\n",
       "    </tr>\n",
       "    <tr>\n",
       "      <th>5</th>\n",
       "      <td>1022_S2-RIP_3</td>\n",
       "      <td>RNA</td>\n",
       "      <td>S2-RIP</td>\n",
       "      <td>S2-RIP</td>\n",
       "      <td>1022</td>\n",
       "      <td>mot2d</td>\n",
       "      <td>3</td>\n",
       "      <td>False</td>\n",
       "    </tr>\n",
       "    <tr>\n",
       "      <th>6</th>\n",
       "      <td>1022_S2-RIP_4</td>\n",
       "      <td>RNA</td>\n",
       "      <td>S2-RIP</td>\n",
       "      <td>S2-RIP</td>\n",
       "      <td>1022</td>\n",
       "      <td>mot2d</td>\n",
       "      <td>4</td>\n",
       "      <td>False</td>\n",
       "    </tr>\n",
       "    <tr>\n",
       "      <th>7</th>\n",
       "      <td>1022_S2-RIP_5</td>\n",
       "      <td>RNA</td>\n",
       "      <td>S2-RIP</td>\n",
       "      <td>S2-RIP</td>\n",
       "      <td>1022</td>\n",
       "      <td>mot2d</td>\n",
       "      <td>5</td>\n",
       "      <td>False</td>\n",
       "    </tr>\n",
       "    <tr>\n",
       "      <th>8</th>\n",
       "      <td>1022_pA-RNA_1</td>\n",
       "      <td>RNA</td>\n",
       "      <td>pA-RNA</td>\n",
       "      <td>pA-RNA</td>\n",
       "      <td>1022</td>\n",
       "      <td>mot2d</td>\n",
       "      <td>1</td>\n",
       "      <td>False</td>\n",
       "    </tr>\n",
       "  </tbody>\n",
       "</table>\n",
       "</div>"
      ],
      "text/plain": [
       "       sample_id pipeline_type seq_category seq_type mutant_id mutant  \\\n",
       "4  1022_S2-RIP_2           RNA       S2-RIP   S2-RIP      1022  mot2d   \n",
       "5  1022_S2-RIP_3           RNA       S2-RIP   S2-RIP      1022  mot2d   \n",
       "6  1022_S2-RIP_4           RNA       S2-RIP   S2-RIP      1022  mot2d   \n",
       "7  1022_S2-RIP_5           RNA       S2-RIP   S2-RIP      1022  mot2d   \n",
       "8  1022_pA-RNA_1           RNA       pA-RNA   pA-RNA      1022  mot2d   \n",
       "\n",
       "   replicate  trimmed  \n",
       "4          2    False  \n",
       "5          3    False  \n",
       "6          4    False  \n",
       "7          5    False  \n",
       "8          1    False  "
      ]
     },
     "execution_count": 18,
     "metadata": {},
     "output_type": "execute_result"
    }
   ],
   "source": [
    "datasets_df = all_samples_df[all_samples_df['pipeline_type'] == 'RNA']\n",
    "datasets_df.head()"
   ]
  },
  {
   "cell_type": "code",
   "execution_count": 19,
   "metadata": {},
   "outputs": [
    {
     "data": {
      "text/plain": [
       "(80, 8)"
      ]
     },
     "execution_count": 19,
     "metadata": {},
     "output_type": "execute_result"
    }
   ],
   "source": [
    "datasets_df.shape"
   ]
  },
  {
   "cell_type": "markdown",
   "metadata": {},
   "source": [
    "- Get `samples` **columns**"
   ]
  },
  {
   "cell_type": "code",
   "execution_count": 20,
   "metadata": {},
   "outputs": [
    {
     "data": {
      "text/plain": [
       "80"
      ]
     },
     "execution_count": 20,
     "metadata": {},
     "output_type": "execute_result"
    }
   ],
   "source": [
    "sample_cols = datasets_df['sample_id'].tolist()\n",
    "len(sample_cols)\n",
    "#sample_cols"
   ]
  },
  {
   "cell_type": "markdown",
   "metadata": {},
   "source": [
    "-------------"
   ]
  },
  {
   "cell_type": "markdown",
   "metadata": {},
   "source": [
    "# **1.** Load raw and TPM-normalized gene expression tables"
   ]
  },
  {
   "cell_type": "markdown",
   "metadata": {},
   "source": [
    "-------------"
   ]
  },
  {
   "cell_type": "markdown",
   "metadata": {},
   "source": [
    "- Import **RNA** (raw) **gene counts Matrix**: `rna_pombe_gene_count_matrix.csv`"
   ]
  },
  {
   "cell_type": "code",
   "execution_count": 83,
   "metadata": {},
   "outputs": [
    {
     "data": {
      "text/plain": [
       "'/gcm-lfs1/pablo/data/rna_silencing/results/xp_data/RNA/rna_pombe_gene_count_matrix.csv'"
      ]
     },
     "execution_count": 83,
     "metadata": {},
     "output_type": "execute_result"
    }
   ],
   "source": [
    "gx_df_file = os.path.join(in_dir, 'rna_pombe_gene_count_matrix.csv')\n",
    "gx_df_file"
   ]
  },
  {
   "cell_type": "code",
   "execution_count": 84,
   "metadata": {},
   "outputs": [],
   "source": [
    "#gx_df = pd.read_csv(gx_df_file, sep='\\t', comment='#')\n",
    "#gx_df.head()"
   ]
  },
  {
   "cell_type": "code",
   "execution_count": 37,
   "metadata": {},
   "outputs": [],
   "source": [
    "#gx_df.shape"
   ]
  },
  {
   "cell_type": "markdown",
   "metadata": {},
   "source": [
    "- Import **RNA** (TPM-normed) **gene expression Matrix**: `rna_pombe_tpm_matrix.csv`"
   ]
  },
  {
   "cell_type": "code",
   "execution_count": 21,
   "metadata": {},
   "outputs": [
    {
     "data": {
      "text/plain": [
       "'/gcm-lfs1/pablo/data/rna_silencing/results/xp_data/RNA/rna_pombe_tpm_matrix.csv'"
      ]
     },
     "execution_count": 21,
     "metadata": {},
     "output_type": "execute_result"
    }
   ],
   "source": [
    "#tpm_df_file ='/gcm-lfs1/pablo/data/rna_silencing/old_results/xp_data/RNA/rna_pombe_tpm_matrix.csv'\n",
    "tpm_df_file = os.path.join(in_dir, 'rna_pombe_tpm_matrix.csv') # with all genes\n",
    "tpm_df_file"
   ]
  },
  {
   "cell_type": "code",
   "execution_count": 22,
   "metadata": {},
   "outputs": [
    {
     "data": {
      "text/html": [
       "<div>\n",
       "<style scoped>\n",
       "    .dataframe tbody tr th:only-of-type {\n",
       "        vertical-align: middle;\n",
       "    }\n",
       "\n",
       "    .dataframe tbody tr th {\n",
       "        vertical-align: top;\n",
       "    }\n",
       "\n",
       "    .dataframe thead th {\n",
       "        text-align: right;\n",
       "    }\n",
       "</style>\n",
       "<table border=\"1\" class=\"dataframe\">\n",
       "  <thead>\n",
       "    <tr style=\"text-align: right;\">\n",
       "      <th></th>\n",
       "      <th>gene_id</th>\n",
       "      <th>seqid</th>\n",
       "      <th>type</th>\n",
       "      <th>start</th>\n",
       "      <th>end</th>\n",
       "      <th>strand</th>\n",
       "      <th>gene_name</th>\n",
       "      <th>cds_length</th>\n",
       "      <th>utr_length</th>\n",
       "      <th>intron_length</th>\n",
       "      <th>...</th>\n",
       "      <th>80_total-RNA_2</th>\n",
       "      <th>WT_S2-RIP_1</th>\n",
       "      <th>WT_S2-RIP_2</th>\n",
       "      <th>WT_S5-RIP_2</th>\n",
       "      <th>WT_pA-RNA_1</th>\n",
       "      <th>WT_pA-RNA_2</th>\n",
       "      <th>WT_pA-RNA_3</th>\n",
       "      <th>WT_pA-RNA_4</th>\n",
       "      <th>WT_total-RNA_1</th>\n",
       "      <th>WT_total-RNA_2</th>\n",
       "    </tr>\n",
       "  </thead>\n",
       "  <tbody>\n",
       "    <tr>\n",
       "      <th>0</th>\n",
       "      <td>FP565355_region_1..2120</td>\n",
       "      <td>mating_type_region</td>\n",
       "      <td>region</td>\n",
       "      <td>1</td>\n",
       "      <td>2120</td>\n",
       "      <td>+</td>\n",
       "      <td>NaN</td>\n",
       "      <td>NaN</td>\n",
       "      <td>NaN</td>\n",
       "      <td>NaN</td>\n",
       "      <td>...</td>\n",
       "      <td>0.833835</td>\n",
       "      <td>3.903828</td>\n",
       "      <td>0.998344</td>\n",
       "      <td>NaN</td>\n",
       "      <td>0.265064</td>\n",
       "      <td>1.146108</td>\n",
       "      <td>0.769286</td>\n",
       "      <td>0.695822</td>\n",
       "      <td>3.368858</td>\n",
       "      <td>0.153509</td>\n",
       "    </tr>\n",
       "    <tr>\n",
       "      <th>1</th>\n",
       "      <td>FP565355_region_15417..15473</td>\n",
       "      <td>mating_type_region</td>\n",
       "      <td>region</td>\n",
       "      <td>15417</td>\n",
       "      <td>15473</td>\n",
       "      <td>+</td>\n",
       "      <td>NaN</td>\n",
       "      <td>NaN</td>\n",
       "      <td>NaN</td>\n",
       "      <td>NaN</td>\n",
       "      <td>...</td>\n",
       "      <td>NaN</td>\n",
       "      <td>NaN</td>\n",
       "      <td>NaN</td>\n",
       "      <td>NaN</td>\n",
       "      <td>NaN</td>\n",
       "      <td>NaN</td>\n",
       "      <td>NaN</td>\n",
       "      <td>NaN</td>\n",
       "      <td>NaN</td>\n",
       "      <td>NaN</td>\n",
       "    </tr>\n",
       "    <tr>\n",
       "      <th>2</th>\n",
       "      <td>FP565355_region_15474..15608</td>\n",
       "      <td>mating_type_region</td>\n",
       "      <td>region</td>\n",
       "      <td>15474</td>\n",
       "      <td>15608</td>\n",
       "      <td>+</td>\n",
       "      <td>NaN</td>\n",
       "      <td>NaN</td>\n",
       "      <td>NaN</td>\n",
       "      <td>NaN</td>\n",
       "      <td>...</td>\n",
       "      <td>NaN</td>\n",
       "      <td>50.138467</td>\n",
       "      <td>8.013835</td>\n",
       "      <td>55.013025</td>\n",
       "      <td>2.735617</td>\n",
       "      <td>4.928550</td>\n",
       "      <td>8.775227</td>\n",
       "      <td>8.378187</td>\n",
       "      <td>NaN</td>\n",
       "      <td>NaN</td>\n",
       "    </tr>\n",
       "    <tr>\n",
       "      <th>3</th>\n",
       "      <td>FP565355_region_15609..16735</td>\n",
       "      <td>mating_type_region</td>\n",
       "      <td>region</td>\n",
       "      <td>15609</td>\n",
       "      <td>16735</td>\n",
       "      <td>+</td>\n",
       "      <td>NaN</td>\n",
       "      <td>NaN</td>\n",
       "      <td>NaN</td>\n",
       "      <td>NaN</td>\n",
       "      <td>...</td>\n",
       "      <td>12.975573</td>\n",
       "      <td>1.999957</td>\n",
       "      <td>NaN</td>\n",
       "      <td>NaN</td>\n",
       "      <td>0.436481</td>\n",
       "      <td>34.364524</td>\n",
       "      <td>0.077785</td>\n",
       "      <td>0.167097</td>\n",
       "      <td>45.304578</td>\n",
       "      <td>6.488126</td>\n",
       "    </tr>\n",
       "    <tr>\n",
       "      <th>4</th>\n",
       "      <td>FP565355_region_16736..16794</td>\n",
       "      <td>mating_type_region</td>\n",
       "      <td>region</td>\n",
       "      <td>16736</td>\n",
       "      <td>16794</td>\n",
       "      <td>+</td>\n",
       "      <td>NaN</td>\n",
       "      <td>NaN</td>\n",
       "      <td>NaN</td>\n",
       "      <td>NaN</td>\n",
       "      <td>...</td>\n",
       "      <td>NaN</td>\n",
       "      <td>NaN</td>\n",
       "      <td>NaN</td>\n",
       "      <td>NaN</td>\n",
       "      <td>NaN</td>\n",
       "      <td>NaN</td>\n",
       "      <td>NaN</td>\n",
       "      <td>NaN</td>\n",
       "      <td>NaN</td>\n",
       "      <td>NaN</td>\n",
       "    </tr>\n",
       "  </tbody>\n",
       "</table>\n",
       "<p>5 rows × 93 columns</p>\n",
       "</div>"
      ],
      "text/plain": [
       "                        gene_id               seqid    type  start    end  \\\n",
       "0       FP565355_region_1..2120  mating_type_region  region      1   2120   \n",
       "1  FP565355_region_15417..15473  mating_type_region  region  15417  15473   \n",
       "2  FP565355_region_15474..15608  mating_type_region  region  15474  15608   \n",
       "3  FP565355_region_15609..16735  mating_type_region  region  15609  16735   \n",
       "4  FP565355_region_16736..16794  mating_type_region  region  16736  16794   \n",
       "\n",
       "  strand gene_name  cds_length  utr_length  intron_length  ...  \\\n",
       "0      +       NaN         NaN         NaN            NaN  ...   \n",
       "1      +       NaN         NaN         NaN            NaN  ...   \n",
       "2      +       NaN         NaN         NaN            NaN  ...   \n",
       "3      +       NaN         NaN         NaN            NaN  ...   \n",
       "4      +       NaN         NaN         NaN            NaN  ...   \n",
       "\n",
       "   80_total-RNA_2 WT_S2-RIP_1 WT_S2-RIP_2  WT_S5-RIP_2  WT_pA-RNA_1  \\\n",
       "0        0.833835    3.903828    0.998344          NaN     0.265064   \n",
       "1             NaN         NaN         NaN          NaN          NaN   \n",
       "2             NaN   50.138467    8.013835    55.013025     2.735617   \n",
       "3       12.975573    1.999957         NaN          NaN     0.436481   \n",
       "4             NaN         NaN         NaN          NaN          NaN   \n",
       "\n",
       "   WT_pA-RNA_2  WT_pA-RNA_3  WT_pA-RNA_4  WT_total-RNA_1  WT_total-RNA_2  \n",
       "0     1.146108     0.769286     0.695822        3.368858        0.153509  \n",
       "1          NaN          NaN          NaN             NaN             NaN  \n",
       "2     4.928550     8.775227     8.378187             NaN             NaN  \n",
       "3    34.364524     0.077785     0.167097       45.304578        6.488126  \n",
       "4          NaN          NaN          NaN             NaN             NaN  \n",
       "\n",
       "[5 rows x 93 columns]"
      ]
     },
     "execution_count": 22,
     "metadata": {},
     "output_type": "execute_result"
    }
   ],
   "source": [
    "#tpm_df = pd.read_csv(gx_df_file, sep='\\t', comment='#')\n",
    "tpm_df = pd.read_csv(tpm_df_file, sep='\\t', comment='#') # NAs here represent zeros counts\n",
    "\n",
    "# ignore specific samples\n",
    "tpm_df = tpm_df.loc[:, ~tpm_df.columns.isin(ignore_datasets)]\n",
    "tpm_df.head()   # with NH-norm: 0.22139 (80_total-RNA_2)\n",
    "                # w/o NH-norm: 0.833835 (80_total-RNA_2)"
   ]
  },
  {
   "cell_type": "code",
   "execution_count": 23,
   "metadata": {},
   "outputs": [
    {
     "data": {
      "text/plain": [
       "(7021, 93)"
      ]
     },
     "execution_count": 23,
     "metadata": {},
     "output_type": "execute_result"
    }
   ],
   "source": [
    "tpm_df.shape"
   ]
  },
  {
   "cell_type": "code",
   "execution_count": 24,
   "metadata": {},
   "outputs": [],
   "source": [
    "# # check genes from specific regions in TE of wt scatterplot\n",
    "# regions_df = tpm_df[tpm_df['gene_id'].isin(['SPCC1494.11c','SPCC1183.10'])]\n",
    "# regions_df.loc[:, regions_df.columns.str.contains('gene|WT_S2')]"
   ]
  },
  {
   "cell_type": "code",
   "execution_count": 25,
   "metadata": {},
   "outputs": [],
   "source": [
    "# check if bam was filtered correctly\n",
    "#tpm_df[tpm_df['gene_id'].str.contains('SPRRNA', na=False)]\n",
    "# residual reads because some rRNA features overlap with other genomic features\n",
    "#tpm_df[tpm_df['gene_id'].str.contains('SPRRNA.07|SPRRNA.15|SPRRNA.29|SPRRNA.35', na=False)]"
   ]
  },
  {
   "cell_type": "code",
   "execution_count": 26,
   "metadata": {},
   "outputs": [],
   "source": [
    "#tpm_df[tpm_df['gene_id'].str.contains('dg|dh')]"
   ]
  },
  {
   "cell_type": "markdown",
   "metadata": {},
   "source": [
    "- Update `samples` **columns** for samples present in `tpm_df`"
   ]
  },
  {
   "cell_type": "code",
   "execution_count": 27,
   "metadata": {},
   "outputs": [
    {
     "data": {
      "text/plain": [
       "80"
      ]
     },
     "execution_count": 27,
     "metadata": {},
     "output_type": "execute_result"
    }
   ],
   "source": [
    "sample_cols = tpm_df.columns.intersection(sample_cols).tolist()\n",
    "len(sample_cols)\n",
    "#sample_cols"
   ]
  },
  {
   "cell_type": "markdown",
   "metadata": {},
   "source": [
    "- Check **TPM normalization** for each sample expression should add to $10^6$"
   ]
  },
  {
   "cell_type": "code",
   "execution_count": 28,
   "metadata": {},
   "outputs": [],
   "source": [
    "#tpm_df[sample_cols].describe()\n",
    "assert all(np.isclose(tpm_df[sample_cols].sum(), 10**6)) "
   ]
  },
  {
   "cell_type": "markdown",
   "metadata": {},
   "source": [
    "#### <font color='red'> Deal with **NAs**: *Drop* or *fill with zeros?* </font>\n",
    "- <font color='red'> `NaN's` originated from zero counts: **fill with zeros** </font>"
   ]
  },
  {
   "cell_type": "code",
   "execution_count": 29,
   "metadata": {},
   "outputs": [
    {
     "data": {
      "text/html": [
       "<div>\n",
       "<style scoped>\n",
       "    .dataframe tbody tr th:only-of-type {\n",
       "        vertical-align: middle;\n",
       "    }\n",
       "\n",
       "    .dataframe tbody tr th {\n",
       "        vertical-align: top;\n",
       "    }\n",
       "\n",
       "    .dataframe thead th {\n",
       "        text-align: right;\n",
       "    }\n",
       "</style>\n",
       "<table border=\"1\" class=\"dataframe\">\n",
       "  <thead>\n",
       "    <tr style=\"text-align: right;\">\n",
       "      <th></th>\n",
       "      <th>gene_id</th>\n",
       "      <th>seqid</th>\n",
       "      <th>type</th>\n",
       "      <th>start</th>\n",
       "      <th>end</th>\n",
       "      <th>strand</th>\n",
       "      <th>gene_name</th>\n",
       "      <th>cds_length</th>\n",
       "      <th>utr_length</th>\n",
       "      <th>intron_length</th>\n",
       "      <th>...</th>\n",
       "      <th>80_total-RNA_2</th>\n",
       "      <th>WT_S2-RIP_1</th>\n",
       "      <th>WT_S2-RIP_2</th>\n",
       "      <th>WT_S5-RIP_2</th>\n",
       "      <th>WT_pA-RNA_1</th>\n",
       "      <th>WT_pA-RNA_2</th>\n",
       "      <th>WT_pA-RNA_3</th>\n",
       "      <th>WT_pA-RNA_4</th>\n",
       "      <th>WT_total-RNA_1</th>\n",
       "      <th>WT_total-RNA_2</th>\n",
       "    </tr>\n",
       "  </thead>\n",
       "  <tbody>\n",
       "    <tr>\n",
       "      <th>0</th>\n",
       "      <td>FP565355_region_1..2120</td>\n",
       "      <td>mating_type_region</td>\n",
       "      <td>region</td>\n",
       "      <td>1</td>\n",
       "      <td>2120</td>\n",
       "      <td>+</td>\n",
       "      <td>NaN</td>\n",
       "      <td>NaN</td>\n",
       "      <td>NaN</td>\n",
       "      <td>NaN</td>\n",
       "      <td>...</td>\n",
       "      <td>0.833835</td>\n",
       "      <td>3.903828</td>\n",
       "      <td>0.998344</td>\n",
       "      <td>0.000000</td>\n",
       "      <td>0.265064</td>\n",
       "      <td>1.146108</td>\n",
       "      <td>0.769286</td>\n",
       "      <td>0.695822</td>\n",
       "      <td>3.368858</td>\n",
       "      <td>0.153509</td>\n",
       "    </tr>\n",
       "    <tr>\n",
       "      <th>1</th>\n",
       "      <td>FP565355_region_15417..15473</td>\n",
       "      <td>mating_type_region</td>\n",
       "      <td>region</td>\n",
       "      <td>15417</td>\n",
       "      <td>15473</td>\n",
       "      <td>+</td>\n",
       "      <td>NaN</td>\n",
       "      <td>NaN</td>\n",
       "      <td>NaN</td>\n",
       "      <td>NaN</td>\n",
       "      <td>...</td>\n",
       "      <td>0.000000</td>\n",
       "      <td>0.000000</td>\n",
       "      <td>0.000000</td>\n",
       "      <td>0.000000</td>\n",
       "      <td>0.000000</td>\n",
       "      <td>0.000000</td>\n",
       "      <td>0.000000</td>\n",
       "      <td>0.000000</td>\n",
       "      <td>0.000000</td>\n",
       "      <td>0.000000</td>\n",
       "    </tr>\n",
       "    <tr>\n",
       "      <th>2</th>\n",
       "      <td>FP565355_region_15474..15608</td>\n",
       "      <td>mating_type_region</td>\n",
       "      <td>region</td>\n",
       "      <td>15474</td>\n",
       "      <td>15608</td>\n",
       "      <td>+</td>\n",
       "      <td>NaN</td>\n",
       "      <td>NaN</td>\n",
       "      <td>NaN</td>\n",
       "      <td>NaN</td>\n",
       "      <td>...</td>\n",
       "      <td>0.000000</td>\n",
       "      <td>50.138467</td>\n",
       "      <td>8.013835</td>\n",
       "      <td>55.013025</td>\n",
       "      <td>2.735617</td>\n",
       "      <td>4.928550</td>\n",
       "      <td>8.775227</td>\n",
       "      <td>8.378187</td>\n",
       "      <td>0.000000</td>\n",
       "      <td>0.000000</td>\n",
       "    </tr>\n",
       "    <tr>\n",
       "      <th>3</th>\n",
       "      <td>FP565355_region_15609..16735</td>\n",
       "      <td>mating_type_region</td>\n",
       "      <td>region</td>\n",
       "      <td>15609</td>\n",
       "      <td>16735</td>\n",
       "      <td>+</td>\n",
       "      <td>NaN</td>\n",
       "      <td>NaN</td>\n",
       "      <td>NaN</td>\n",
       "      <td>NaN</td>\n",
       "      <td>...</td>\n",
       "      <td>12.975573</td>\n",
       "      <td>1.999957</td>\n",
       "      <td>0.000000</td>\n",
       "      <td>0.000000</td>\n",
       "      <td>0.436481</td>\n",
       "      <td>34.364524</td>\n",
       "      <td>0.077785</td>\n",
       "      <td>0.167097</td>\n",
       "      <td>45.304578</td>\n",
       "      <td>6.488126</td>\n",
       "    </tr>\n",
       "    <tr>\n",
       "      <th>4</th>\n",
       "      <td>FP565355_region_16736..16794</td>\n",
       "      <td>mating_type_region</td>\n",
       "      <td>region</td>\n",
       "      <td>16736</td>\n",
       "      <td>16794</td>\n",
       "      <td>+</td>\n",
       "      <td>NaN</td>\n",
       "      <td>NaN</td>\n",
       "      <td>NaN</td>\n",
       "      <td>NaN</td>\n",
       "      <td>...</td>\n",
       "      <td>0.000000</td>\n",
       "      <td>0.000000</td>\n",
       "      <td>0.000000</td>\n",
       "      <td>0.000000</td>\n",
       "      <td>0.000000</td>\n",
       "      <td>0.000000</td>\n",
       "      <td>0.000000</td>\n",
       "      <td>0.000000</td>\n",
       "      <td>0.000000</td>\n",
       "      <td>0.000000</td>\n",
       "    </tr>\n",
       "  </tbody>\n",
       "</table>\n",
       "<p>5 rows × 93 columns</p>\n",
       "</div>"
      ],
      "text/plain": [
       "                        gene_id               seqid    type  start    end  \\\n",
       "0       FP565355_region_1..2120  mating_type_region  region      1   2120   \n",
       "1  FP565355_region_15417..15473  mating_type_region  region  15417  15473   \n",
       "2  FP565355_region_15474..15608  mating_type_region  region  15474  15608   \n",
       "3  FP565355_region_15609..16735  mating_type_region  region  15609  16735   \n",
       "4  FP565355_region_16736..16794  mating_type_region  region  16736  16794   \n",
       "\n",
       "  strand gene_name  cds_length  utr_length  intron_length  ...  \\\n",
       "0      +       NaN         NaN         NaN            NaN  ...   \n",
       "1      +       NaN         NaN         NaN            NaN  ...   \n",
       "2      +       NaN         NaN         NaN            NaN  ...   \n",
       "3      +       NaN         NaN         NaN            NaN  ...   \n",
       "4      +       NaN         NaN         NaN            NaN  ...   \n",
       "\n",
       "   80_total-RNA_2 WT_S2-RIP_1 WT_S2-RIP_2  WT_S5-RIP_2  WT_pA-RNA_1  \\\n",
       "0        0.833835    3.903828    0.998344     0.000000     0.265064   \n",
       "1        0.000000    0.000000    0.000000     0.000000     0.000000   \n",
       "2        0.000000   50.138467    8.013835    55.013025     2.735617   \n",
       "3       12.975573    1.999957    0.000000     0.000000     0.436481   \n",
       "4        0.000000    0.000000    0.000000     0.000000     0.000000   \n",
       "\n",
       "   WT_pA-RNA_2  WT_pA-RNA_3  WT_pA-RNA_4  WT_total-RNA_1  WT_total-RNA_2  \n",
       "0     1.146108     0.769286     0.695822        3.368858        0.153509  \n",
       "1     0.000000     0.000000     0.000000        0.000000        0.000000  \n",
       "2     4.928550     8.775227     8.378187        0.000000        0.000000  \n",
       "3    34.364524     0.077785     0.167097       45.304578        6.488126  \n",
       "4     0.000000     0.000000     0.000000        0.000000        0.000000  \n",
       "\n",
       "[5 rows x 93 columns]"
      ]
     },
     "execution_count": 29,
     "metadata": {},
     "output_type": "execute_result"
    }
   ],
   "source": [
    "# (NOT USED - by Parastou)\n",
    "# => NAs originated from zero counts: fill with zeros\n",
    "#tpm_df = tpm_df.fillna(0) # undesired off-target effects to other columns (e.g. `gene_name`)\n",
    "tpm_df = tpm_df.fillna({kk:0 for kk in sample_cols})\n",
    "\n",
    "# (NOT USED) drop row (axis - 0) if it finds ANY `na`, becareful when adding new columns!\n",
    "#tpm_df = tpm_df.dropna(subset = sample_cols) \n",
    "#tpm_df = tpm_df.dropna(0)\n",
    "\n",
    "tpm_df.head()"
   ]
  },
  {
   "cell_type": "code",
   "execution_count": 30,
   "metadata": {},
   "outputs": [
    {
     "data": {
      "text/plain": [
       "(7021, 93)"
      ]
     },
     "execution_count": 30,
     "metadata": {},
     "output_type": "execute_result"
    }
   ],
   "source": [
    "tpm_df.shape"
   ]
  },
  {
   "cell_type": "code",
   "execution_count": 31,
   "metadata": {},
   "outputs": [],
   "source": [
    "# no surprises!\n",
    "# => there should not be NAs in sample columns (with counts)\n",
    "#assert tpm_df.dropna(subset = sample_cols).shape == tpm_df.shape\n",
    "assert not tpm_df[sample_cols].isnull().values.any()"
   ]
  },
  {
   "cell_type": "markdown",
   "metadata": {},
   "source": [
    "- **Log-transform** (TPM-normed)  **gene expression Matrix** - will be used to compute correlations between replicates"
   ]
  },
  {
   "cell_type": "code",
   "execution_count": 32,
   "metadata": {
    "scrolled": true
   },
   "outputs": [
    {
     "data": {
      "text/html": [
       "<div>\n",
       "<style scoped>\n",
       "    .dataframe tbody tr th:only-of-type {\n",
       "        vertical-align: middle;\n",
       "    }\n",
       "\n",
       "    .dataframe tbody tr th {\n",
       "        vertical-align: top;\n",
       "    }\n",
       "\n",
       "    .dataframe thead th {\n",
       "        text-align: right;\n",
       "    }\n",
       "</style>\n",
       "<table border=\"1\" class=\"dataframe\">\n",
       "  <thead>\n",
       "    <tr style=\"text-align: right;\">\n",
       "      <th></th>\n",
       "      <th>gene_id</th>\n",
       "      <th>seqid</th>\n",
       "      <th>type</th>\n",
       "      <th>start</th>\n",
       "      <th>end</th>\n",
       "      <th>strand</th>\n",
       "      <th>gene_name</th>\n",
       "      <th>cds_length</th>\n",
       "      <th>utr_length</th>\n",
       "      <th>intron_length</th>\n",
       "      <th>...</th>\n",
       "      <th>80_total-RNA_2</th>\n",
       "      <th>WT_S2-RIP_1</th>\n",
       "      <th>WT_S2-RIP_2</th>\n",
       "      <th>WT_S5-RIP_2</th>\n",
       "      <th>WT_pA-RNA_1</th>\n",
       "      <th>WT_pA-RNA_2</th>\n",
       "      <th>WT_pA-RNA_3</th>\n",
       "      <th>WT_pA-RNA_4</th>\n",
       "      <th>WT_total-RNA_1</th>\n",
       "      <th>WT_total-RNA_2</th>\n",
       "    </tr>\n",
       "  </thead>\n",
       "  <tbody>\n",
       "    <tr>\n",
       "      <th>0</th>\n",
       "      <td>FP565355_region_1..2120</td>\n",
       "      <td>mating_type_region</td>\n",
       "      <td>region</td>\n",
       "      <td>1</td>\n",
       "      <td>2120</td>\n",
       "      <td>+</td>\n",
       "      <td>NaN</td>\n",
       "      <td>NaN</td>\n",
       "      <td>NaN</td>\n",
       "      <td>NaN</td>\n",
       "      <td>...</td>\n",
       "      <td>0.874864</td>\n",
       "      <td>2.293908</td>\n",
       "      <td>0.998805</td>\n",
       "      <td>0.00000</td>\n",
       "      <td>0.339210</td>\n",
       "      <td>1.101723</td>\n",
       "      <td>0.823167</td>\n",
       "      <td>0.761985</td>\n",
       "      <td>2.127256</td>\n",
       "      <td>0.206030</td>\n",
       "    </tr>\n",
       "    <tr>\n",
       "      <th>1</th>\n",
       "      <td>FP565355_region_15417..15473</td>\n",
       "      <td>mating_type_region</td>\n",
       "      <td>region</td>\n",
       "      <td>15417</td>\n",
       "      <td>15473</td>\n",
       "      <td>+</td>\n",
       "      <td>NaN</td>\n",
       "      <td>NaN</td>\n",
       "      <td>NaN</td>\n",
       "      <td>NaN</td>\n",
       "      <td>...</td>\n",
       "      <td>0.000000</td>\n",
       "      <td>0.000000</td>\n",
       "      <td>0.000000</td>\n",
       "      <td>0.00000</td>\n",
       "      <td>0.000000</td>\n",
       "      <td>0.000000</td>\n",
       "      <td>0.000000</td>\n",
       "      <td>0.000000</td>\n",
       "      <td>0.000000</td>\n",
       "      <td>0.000000</td>\n",
       "    </tr>\n",
       "    <tr>\n",
       "      <th>2</th>\n",
       "      <td>FP565355_region_15474..15608</td>\n",
       "      <td>mating_type_region</td>\n",
       "      <td>region</td>\n",
       "      <td>15474</td>\n",
       "      <td>15608</td>\n",
       "      <td>+</td>\n",
       "      <td>NaN</td>\n",
       "      <td>NaN</td>\n",
       "      <td>NaN</td>\n",
       "      <td>NaN</td>\n",
       "      <td>...</td>\n",
       "      <td>0.000000</td>\n",
       "      <td>5.676337</td>\n",
       "      <td>3.172141</td>\n",
       "      <td>5.80769</td>\n",
       "      <td>1.901347</td>\n",
       "      <td>2.567679</td>\n",
       "      <td>3.289130</td>\n",
       "      <td>3.229309</td>\n",
       "      <td>0.000000</td>\n",
       "      <td>0.000000</td>\n",
       "    </tr>\n",
       "    <tr>\n",
       "      <th>3</th>\n",
       "      <td>FP565355_region_15609..16735</td>\n",
       "      <td>mating_type_region</td>\n",
       "      <td>region</td>\n",
       "      <td>15609</td>\n",
       "      <td>16735</td>\n",
       "      <td>+</td>\n",
       "      <td>NaN</td>\n",
       "      <td>NaN</td>\n",
       "      <td>NaN</td>\n",
       "      <td>NaN</td>\n",
       "      <td>...</td>\n",
       "      <td>3.804836</td>\n",
       "      <td>1.584942</td>\n",
       "      <td>0.000000</td>\n",
       "      <td>0.00000</td>\n",
       "      <td>0.522539</td>\n",
       "      <td>5.144231</td>\n",
       "      <td>0.108069</td>\n",
       "      <td>0.222925</td>\n",
       "      <td>5.533083</td>\n",
       "      <td>2.904605</td>\n",
       "    </tr>\n",
       "    <tr>\n",
       "      <th>4</th>\n",
       "      <td>FP565355_region_16736..16794</td>\n",
       "      <td>mating_type_region</td>\n",
       "      <td>region</td>\n",
       "      <td>16736</td>\n",
       "      <td>16794</td>\n",
       "      <td>+</td>\n",
       "      <td>NaN</td>\n",
       "      <td>NaN</td>\n",
       "      <td>NaN</td>\n",
       "      <td>NaN</td>\n",
       "      <td>...</td>\n",
       "      <td>0.000000</td>\n",
       "      <td>0.000000</td>\n",
       "      <td>0.000000</td>\n",
       "      <td>0.00000</td>\n",
       "      <td>0.000000</td>\n",
       "      <td>0.000000</td>\n",
       "      <td>0.000000</td>\n",
       "      <td>0.000000</td>\n",
       "      <td>0.000000</td>\n",
       "      <td>0.000000</td>\n",
       "    </tr>\n",
       "  </tbody>\n",
       "</table>\n",
       "<p>5 rows × 93 columns</p>\n",
       "</div>"
      ],
      "text/plain": [
       "                        gene_id               seqid    type  start    end  \\\n",
       "0       FP565355_region_1..2120  mating_type_region  region      1   2120   \n",
       "1  FP565355_region_15417..15473  mating_type_region  region  15417  15473   \n",
       "2  FP565355_region_15474..15608  mating_type_region  region  15474  15608   \n",
       "3  FP565355_region_15609..16735  mating_type_region  region  15609  16735   \n",
       "4  FP565355_region_16736..16794  mating_type_region  region  16736  16794   \n",
       "\n",
       "  strand gene_name  cds_length  utr_length  intron_length  ...  \\\n",
       "0      +       NaN         NaN         NaN            NaN  ...   \n",
       "1      +       NaN         NaN         NaN            NaN  ...   \n",
       "2      +       NaN         NaN         NaN            NaN  ...   \n",
       "3      +       NaN         NaN         NaN            NaN  ...   \n",
       "4      +       NaN         NaN         NaN            NaN  ...   \n",
       "\n",
       "   80_total-RNA_2 WT_S2-RIP_1 WT_S2-RIP_2  WT_S5-RIP_2  WT_pA-RNA_1  \\\n",
       "0        0.874864    2.293908    0.998805      0.00000     0.339210   \n",
       "1        0.000000    0.000000    0.000000      0.00000     0.000000   \n",
       "2        0.000000    5.676337    3.172141      5.80769     1.901347   \n",
       "3        3.804836    1.584942    0.000000      0.00000     0.522539   \n",
       "4        0.000000    0.000000    0.000000      0.00000     0.000000   \n",
       "\n",
       "   WT_pA-RNA_2  WT_pA-RNA_3  WT_pA-RNA_4  WT_total-RNA_1  WT_total-RNA_2  \n",
       "0     1.101723     0.823167     0.761985        2.127256        0.206030  \n",
       "1     0.000000     0.000000     0.000000        0.000000        0.000000  \n",
       "2     2.567679     3.289130     3.229309        0.000000        0.000000  \n",
       "3     5.144231     0.108069     0.222925        5.533083        2.904605  \n",
       "4     0.000000     0.000000     0.000000        0.000000        0.000000  \n",
       "\n",
       "[5 rows x 93 columns]"
      ]
     },
     "execution_count": 32,
     "metadata": {},
     "output_type": "execute_result"
    }
   ],
   "source": [
    "# log transformed counts will be used to compute correlations\n",
    "# => compute log(1+x) to avoid issues with zero counts\n",
    "#log2_tpm_df = to_log2_tpm(tpm_df)\n",
    "log2_tpm_df = to_log2_tpm(tpm_df, gene_id_col='gene_id') # default shift=1, no issues with division by zero\n",
    "#log2_tpm_df = to_log2_tpm(tpm_df, gene_id_col='gene_id', shift=0) # default shift=1\n",
    "\n",
    "log2_tpm_df.head()"
   ]
  },
  {
   "cell_type": "code",
   "execution_count": 33,
   "metadata": {},
   "outputs": [
    {
     "data": {
      "text/plain": [
       "(7021, 93)"
      ]
     },
     "execution_count": 33,
     "metadata": {},
     "output_type": "execute_result"
    }
   ],
   "source": [
    "log2_tpm_df.shape"
   ]
  },
  {
   "cell_type": "code",
   "execution_count": 34,
   "metadata": {},
   "outputs": [],
   "source": [
    "#log2_tpm_df.loc[:, log2_tpm_df.columns.str.contains(\"pA-\")]"
   ]
  },
  {
   "cell_type": "code",
   "execution_count": 35,
   "metadata": {},
   "outputs": [],
   "source": [
    "# no surprises!\n",
    "# => the log should not introduce any issues\n",
    "#assert log2_tpm_df.dropna(subset = sample_cols).shape == tpm_df.shape\n",
    "assert not log2_tpm_df[sample_cols].isnull().values.any()"
   ]
  },
  {
   "cell_type": "markdown",
   "metadata": {},
   "source": [
    "----"
   ]
  },
  {
   "cell_type": "markdown",
   "metadata": {},
   "source": [
    "# **2.** Get groupings of **replicate samples**"
   ]
  },
  {
   "cell_type": "markdown",
   "metadata": {},
   "source": [
    "----"
   ]
  },
  {
   "cell_type": "code",
   "execution_count": 38,
   "metadata": {},
   "outputs": [],
   "source": [
    "#sample_cols = [ss for ss in log2_tpm_df.columns if ('RNA' in ss) | ('RIP' in ss)]\n",
    "#len(sample_cols)"
   ]
  },
  {
   "cell_type": "markdown",
   "metadata": {},
   "source": [
    "- **Replicate samples** grouped by `mutant` and `seq_type` type:\n",
    "\n",
    "    - <font color='red'> **Atention!** it's a bit tricky due to ambiguity between `mutant_id -> mutant` map </font>\n",
    "        - **510/591** -> `caf1d`\n",
    "        - **1022/1023** -> `mot2d`\n",
    "        - **523/524** -> `unknown`\n",
    "     \n",
    "     <font color='red'> First group using `mutant` then use `inv_mut_dict` which removes ambiguity to get `mutant_id` again. </font>"
   ]
  },
  {
   "cell_type": "code",
   "execution_count": 39,
   "metadata": {},
   "outputs": [],
   "source": [
    "#datasets_df['sub_sample'] = datasets_df['mutant'] + '_' + datasets_df['seq_type']\n",
    "datasets_df['sub_sample'] = datasets_df.mutant.map(inv_mut_dict) + '_' + datasets_df['seq_type']"
   ]
  },
  {
   "cell_type": "code",
   "execution_count": 40,
   "metadata": {},
   "outputs": [],
   "source": [
    "# only for samples present in df\n",
    "datasets_df = datasets_df[datasets_df['sample_id'].isin(sample_cols)]"
   ]
  },
  {
   "cell_type": "code",
   "execution_count": 41,
   "metadata": {},
   "outputs": [
    {
     "data": {
      "text/plain": [
       "{'1022_S2-RIP': ['1022_S2-RIP_2',\n",
       "  '1022_S2-RIP_3',\n",
       "  '1022_S2-RIP_4',\n",
       "  '1022_S2-RIP_5'],\n",
       " '1022_pA-RNA': ['1022_pA-RNA_1', '1023_pA-RNA_2'],\n",
       " '1168_S2-RIP': ['1168_S2-RIP_1', '1168_S2-RIP_2'],\n",
       " '1168_pA-RNA': ['1168_pA-RNA_1', '1168_pA-RNA_2'],\n",
       " '301_S2-RIP': ['301_S2-RIP_1', '301_S2-RIP_2', '301_S2-RIP_3'],\n",
       " '301_pA-RNA': ['301_pA-RNA_1', '301_pA-RNA_2', '301_pA-RNA_3'],\n",
       " '302_S2-RIP': ['302_S2-RIP_1', '302_S2-RIP_2', '302_S2-RIP_3'],\n",
       " '302_pA-RNA': ['302_pA-RNA_1', '302_pA-RNA_2'],\n",
       " '324_S2-RIP': ['324_S2-RIP_1', '324_S2-RIP_2', '324_S2-RIP_3'],\n",
       " '324_pA-RNA': ['324_pA-RNA_1',\n",
       "  '324_pA-RNA_2',\n",
       "  '324_pA-RNA_3',\n",
       "  '324_pA-RNA_4'],\n",
       " '491_S2-RIP': ['491_S2-RIP_1', '491_S2-RIP_2', '491_S2-RIP_3'],\n",
       " '491_pA-RNA': ['491_pA-RNA_1', '491_pA-RNA_2'],\n",
       " '504_S2-RIP': ['504_S2-RIP_1', '504_S2-RIP_2'],\n",
       " '504_pA-RNA': ['504_pA-RNA_1', '504_pA-RNA_2'],\n",
       " '510_S2-RIP': ['510_S2-RIP_1', '591_S2-RIP_1'],\n",
       " '510_pA-RNA': ['510_pA-RNA_1', '510_pA-RNA_2'],\n",
       " '510_total-RNA': ['510_total-RNA_1', '510_total-RNA_2'],\n",
       " '523_S2-RIP': ['523_S2-RIP_1',\n",
       "  '523_S2-RIP_2',\n",
       "  '523_S2-RIP_3',\n",
       "  '524_S2-RIP_1'],\n",
       " '523_pA-RNA': ['523_pA-RNA_1', '524_pA-RNA_1'],\n",
       " '530_S2-RIP': ['530_S2-RIP_1', '530_S2-RIP_2'],\n",
       " '530_pA-RNA': ['530_pA-RNA_1', '530_pA-RNA_2'],\n",
       " '544_S2-RIP': ['544_S2-RIP_1', '544_S2-RIP_3'],\n",
       " '544_pA-RNA': ['544_pA-RNA_1', '544_pA-RNA_2'],\n",
       " '638_S2-RIP': ['638_S2-RIP_1', '638_S2-RIP_2'],\n",
       " '638_pA-RNA': ['638_pA-RNA_1', '638_pA-RNA_2', '638_pA-RNA_3'],\n",
       " '638_total-RNA': ['638_total-RNA_1', '638_total-RNA_2'],\n",
       " '80_S2-RIP': ['80_S2-RIP_1', '80_S2-RIP_2', '80_S2-RIP_3'],\n",
       " '80_pA-RNA': ['80_pA-RNA_1', '80_pA-RNA_2'],\n",
       " '80_total-RNA': ['80_total-RNA_1', '80_total-RNA_2'],\n",
       " 'WT_S2-RIP': ['WT_S2-RIP_1', 'WT_S2-RIP_2'],\n",
       " 'WT_S5-RIP': ['WT_S5-RIP_2'],\n",
       " 'WT_pA-RNA': ['WT_pA-RNA_1', 'WT_pA-RNA_2', 'WT_pA-RNA_3', 'WT_pA-RNA_4'],\n",
       " 'WT_total-RNA': ['WT_total-RNA_1', 'WT_total-RNA_2']}"
      ]
     },
     "execution_count": 41,
     "metadata": {},
     "output_type": "execute_result"
    }
   ],
   "source": [
    "sub_samples = dict(datasets_df.groupby('sub_sample')['sample_id'].apply(list))\n",
    "sub_samples"
   ]
  },
  {
   "cell_type": "markdown",
   "metadata": {},
   "source": [
    "<font color='green'> **Looks good there is at least two replicates per group.**"
   ]
  },
  {
   "cell_type": "markdown",
   "metadata": {},
   "source": [
    "**Total number of samples**:"
   ]
  },
  {
   "cell_type": "code",
   "execution_count": 42,
   "metadata": {},
   "outputs": [
    {
     "data": {
      "text/plain": [
       "80"
      ]
     },
     "execution_count": 42,
     "metadata": {},
     "output_type": "execute_result"
    }
   ],
   "source": [
    "len(list(itertools.chain.from_iterable(sub_samples.values())))"
   ]
  },
  {
   "cell_type": "markdown",
   "metadata": {},
   "source": [
    "**Number of mutants** (subsamples):"
   ]
  },
  {
   "cell_type": "code",
   "execution_count": 43,
   "metadata": {},
   "outputs": [
    {
     "data": {
      "text/plain": [
       "33"
      ]
     },
     "execution_count": 43,
     "metadata": {},
     "output_type": "execute_result"
    }
   ],
   "source": [
    "len(sub_samples)"
   ]
  },
  {
   "cell_type": "markdown",
   "metadata": {},
   "source": [
    "------"
   ]
  },
  {
   "cell_type": "markdown",
   "metadata": {},
   "source": [
    "# **3.** Produce **correlation-plots** and **pearson-r correlation scores**"
   ]
  },
  {
   "cell_type": "markdown",
   "metadata": {},
   "source": [
    "------"
   ]
  },
  {
   "cell_type": "markdown",
   "metadata": {},
   "source": [
    "- Run **correlation checks**  for all **pair-wise sample combinations**:"
   ]
  },
  {
   "cell_type": "code",
   "execution_count": 44,
   "metadata": {},
   "outputs": [
    {
     "data": {
      "text/html": [
       "<div>\n",
       "<style scoped>\n",
       "    .dataframe tbody tr th:only-of-type {\n",
       "        vertical-align: middle;\n",
       "    }\n",
       "\n",
       "    .dataframe tbody tr th {\n",
       "        vertical-align: top;\n",
       "    }\n",
       "\n",
       "    .dataframe thead th {\n",
       "        text-align: right;\n",
       "    }\n",
       "</style>\n",
       "<table border=\"1\" class=\"dataframe\">\n",
       "  <thead>\n",
       "    <tr style=\"text-align: right;\">\n",
       "      <th></th>\n",
       "      <th>Sample1</th>\n",
       "      <th>Sample2</th>\n",
       "      <th>Correlation</th>\n",
       "      <th>P-value</th>\n",
       "    </tr>\n",
       "  </thead>\n",
       "  <tbody>\n",
       "    <tr>\n",
       "      <th>0</th>\n",
       "      <td>1022_S2-RIP_2</td>\n",
       "      <td>1022_S2-RIP_3</td>\n",
       "      <td>0.899038</td>\n",
       "      <td>0.0</td>\n",
       "    </tr>\n",
       "    <tr>\n",
       "      <th>1</th>\n",
       "      <td>1022_S2-RIP_2</td>\n",
       "      <td>1022_S2-RIP_4</td>\n",
       "      <td>0.907435</td>\n",
       "      <td>0.0</td>\n",
       "    </tr>\n",
       "    <tr>\n",
       "      <th>2</th>\n",
       "      <td>1022_S2-RIP_2</td>\n",
       "      <td>1022_S2-RIP_5</td>\n",
       "      <td>0.853185</td>\n",
       "      <td>0.0</td>\n",
       "    </tr>\n",
       "    <tr>\n",
       "      <th>3</th>\n",
       "      <td>1022_S2-RIP_3</td>\n",
       "      <td>1022_S2-RIP_4</td>\n",
       "      <td>0.959262</td>\n",
       "      <td>0.0</td>\n",
       "    </tr>\n",
       "    <tr>\n",
       "      <th>4</th>\n",
       "      <td>1022_S2-RIP_3</td>\n",
       "      <td>1022_S2-RIP_5</td>\n",
       "      <td>0.895938</td>\n",
       "      <td>0.0</td>\n",
       "    </tr>\n",
       "    <tr>\n",
       "      <th>...</th>\n",
       "      <td>...</td>\n",
       "      <td>...</td>\n",
       "      <td>...</td>\n",
       "      <td>...</td>\n",
       "    </tr>\n",
       "    <tr>\n",
       "      <th>61</th>\n",
       "      <td>WT_pA-RNA_1</td>\n",
       "      <td>WT_pA-RNA_4</td>\n",
       "      <td>0.943558</td>\n",
       "      <td>0.0</td>\n",
       "    </tr>\n",
       "    <tr>\n",
       "      <th>62</th>\n",
       "      <td>WT_pA-RNA_2</td>\n",
       "      <td>WT_pA-RNA_3</td>\n",
       "      <td>0.958599</td>\n",
       "      <td>0.0</td>\n",
       "    </tr>\n",
       "    <tr>\n",
       "      <th>63</th>\n",
       "      <td>WT_pA-RNA_2</td>\n",
       "      <td>WT_pA-RNA_4</td>\n",
       "      <td>0.934394</td>\n",
       "      <td>0.0</td>\n",
       "    </tr>\n",
       "    <tr>\n",
       "      <th>64</th>\n",
       "      <td>WT_pA-RNA_3</td>\n",
       "      <td>WT_pA-RNA_4</td>\n",
       "      <td>0.988562</td>\n",
       "      <td>0.0</td>\n",
       "    </tr>\n",
       "    <tr>\n",
       "      <th>65</th>\n",
       "      <td>WT_total-RNA_1</td>\n",
       "      <td>WT_total-RNA_2</td>\n",
       "      <td>0.776538</td>\n",
       "      <td>0.0</td>\n",
       "    </tr>\n",
       "  </tbody>\n",
       "</table>\n",
       "<p>66 rows × 4 columns</p>\n",
       "</div>"
      ],
      "text/plain": [
       "           Sample1         Sample2  Correlation  P-value\n",
       "0    1022_S2-RIP_2   1022_S2-RIP_3     0.899038      0.0\n",
       "1    1022_S2-RIP_2   1022_S2-RIP_4     0.907435      0.0\n",
       "2    1022_S2-RIP_2   1022_S2-RIP_5     0.853185      0.0\n",
       "3    1022_S2-RIP_3   1022_S2-RIP_4     0.959262      0.0\n",
       "4    1022_S2-RIP_3   1022_S2-RIP_5     0.895938      0.0\n",
       "..             ...             ...          ...      ...\n",
       "61     WT_pA-RNA_1     WT_pA-RNA_4     0.943558      0.0\n",
       "62     WT_pA-RNA_2     WT_pA-RNA_3     0.958599      0.0\n",
       "63     WT_pA-RNA_2     WT_pA-RNA_4     0.934394      0.0\n",
       "64     WT_pA-RNA_3     WT_pA-RNA_4     0.988562      0.0\n",
       "65  WT_total-RNA_1  WT_total-RNA_2     0.776538      0.0\n",
       "\n",
       "[66 rows x 4 columns]"
      ]
     },
     "execution_count": 44,
     "metadata": {},
     "output_type": "execute_result"
    }
   ],
   "source": [
    "#corr_df = rpc.run_corr_checks(log2_tpm_df, out_dir=out_corr)\n",
    "corr_df = rpc.run_corr_checks(log2_tpm_df, samples=sub_samples, out_dir=out_corr)\n",
    "#corr_df.head()\n",
    "corr_df"
   ]
  },
  {
   "cell_type": "code",
   "execution_count": 45,
   "metadata": {},
   "outputs": [
    {
     "data": {
      "text/plain": [
       "(66, 4)"
      ]
     },
     "execution_count": 45,
     "metadata": {},
     "output_type": "execute_result"
    }
   ],
   "source": [
    "corr_df.shape"
   ]
  },
  {
   "cell_type": "markdown",
   "metadata": {},
   "source": [
    "* Check for low correlation values (more checks below in Section 5)"
   ]
  },
  {
   "cell_type": "code",
   "execution_count": 46,
   "metadata": {},
   "outputs": [
    {
     "data": {
      "text/html": [
       "<div>\n",
       "<style scoped>\n",
       "    .dataframe tbody tr th:only-of-type {\n",
       "        vertical-align: middle;\n",
       "    }\n",
       "\n",
       "    .dataframe tbody tr th {\n",
       "        vertical-align: top;\n",
       "    }\n",
       "\n",
       "    .dataframe thead th {\n",
       "        text-align: right;\n",
       "    }\n",
       "</style>\n",
       "<table border=\"1\" class=\"dataframe\">\n",
       "  <thead>\n",
       "    <tr style=\"text-align: right;\">\n",
       "      <th></th>\n",
       "      <th>Sample1</th>\n",
       "      <th>Sample2</th>\n",
       "      <th>Correlation</th>\n",
       "      <th>P-value</th>\n",
       "    </tr>\n",
       "  </thead>\n",
       "  <tbody>\n",
       "    <tr>\n",
       "      <th>65</th>\n",
       "      <td>WT_total-RNA_1</td>\n",
       "      <td>WT_total-RNA_2</td>\n",
       "      <td>0.776538</td>\n",
       "      <td>0.0</td>\n",
       "    </tr>\n",
       "  </tbody>\n",
       "</table>\n",
       "</div>"
      ],
      "text/plain": [
       "           Sample1         Sample2  Correlation  P-value\n",
       "65  WT_total-RNA_1  WT_total-RNA_2     0.776538      0.0"
      ]
     },
     "execution_count": 46,
     "metadata": {},
     "output_type": "execute_result"
    }
   ],
   "source": [
    "corr_df[corr_df['Correlation'] < 0.80]"
   ]
  },
  {
   "cell_type": "code",
   "execution_count": 47,
   "metadata": {},
   "outputs": [],
   "source": [
    "#corr_df[corr_df['Sample2'].str.contains('total-RNA')]"
   ]
  },
  {
   "cell_type": "markdown",
   "metadata": {},
   "source": [
    "-----------------"
   ]
  },
  {
   "cell_type": "markdown",
   "metadata": {},
   "source": [
    "# **4.** Produce **MA-plots**"
   ]
  },
  {
   "cell_type": "markdown",
   "metadata": {},
   "source": [
    "-----------------"
   ]
  },
  {
   "cell_type": "markdown",
   "metadata": {},
   "source": [
    "\n",
    "An **MA-plot** is an application of a Bland–Altman plot for visual **representation of genomic data**. \n",
    "\n",
    "The plot visualizes the differences between measurements taken in two samples, by transforming the data onto:\n",
    "* **M (log ratio)** scale\n",
    "* **A (mean average)** scale\n",
    "\n",
    "then plotting these values. "
   ]
  },
  {
   "cell_type": "markdown",
   "metadata": {},
   "source": [
    "- Run **MA checks**  for all **pair-wise sample combinations**:"
   ]
  },
  {
   "cell_type": "code",
   "execution_count": 48,
   "metadata": {
    "scrolled": true
   },
   "outputs": [],
   "source": [
    "#rpc.run_ma_checks(log2_tpm_df, out_dir=out_ma)\n",
    "rpc.run_ma_checks(log2_tpm_df, samples=sub_samples, out_dir=out_ma)"
   ]
  },
  {
   "cell_type": "markdown",
   "metadata": {},
   "source": [
    "-----------------"
   ]
  },
  {
   "cell_type": "markdown",
   "metadata": {},
   "source": [
    "# **5.** Investigate  **pearson-r correlation scores**"
   ]
  },
  {
   "cell_type": "markdown",
   "metadata": {},
   "source": [
    "-----------------"
   ]
  },
  {
   "cell_type": "markdown",
   "metadata": {},
   "source": [
    "Select replicates to be merged based on their **pearson-r correlation scores**"
   ]
  },
  {
   "cell_type": "code",
   "execution_count": 49,
   "metadata": {},
   "outputs": [],
   "source": [
    "from RepTools import report_corr"
   ]
  },
  {
   "cell_type": "markdown",
   "metadata": {},
   "source": [
    "- Import **correlation checks** for all **pair-wise sample combinations**: `correlations.csv`"
   ]
  },
  {
   "cell_type": "code",
   "execution_count": 50,
   "metadata": {},
   "outputs": [
    {
     "data": {
      "text/html": [
       "<div>\n",
       "<style scoped>\n",
       "    .dataframe tbody tr th:only-of-type {\n",
       "        vertical-align: middle;\n",
       "    }\n",
       "\n",
       "    .dataframe tbody tr th {\n",
       "        vertical-align: top;\n",
       "    }\n",
       "\n",
       "    .dataframe thead th {\n",
       "        text-align: right;\n",
       "    }\n",
       "</style>\n",
       "<table border=\"1\" class=\"dataframe\">\n",
       "  <thead>\n",
       "    <tr style=\"text-align: right;\">\n",
       "      <th></th>\n",
       "      <th>Sample1</th>\n",
       "      <th>Sample2</th>\n",
       "      <th>Correlation</th>\n",
       "      <th>P-value</th>\n",
       "    </tr>\n",
       "  </thead>\n",
       "  <tbody>\n",
       "    <tr>\n",
       "      <th>0</th>\n",
       "      <td>1022_S2-RIP_2</td>\n",
       "      <td>1022_S2-RIP_3</td>\n",
       "      <td>0.899038</td>\n",
       "      <td>0.0</td>\n",
       "    </tr>\n",
       "    <tr>\n",
       "      <th>1</th>\n",
       "      <td>1022_S2-RIP_2</td>\n",
       "      <td>1022_S2-RIP_4</td>\n",
       "      <td>0.907435</td>\n",
       "      <td>0.0</td>\n",
       "    </tr>\n",
       "    <tr>\n",
       "      <th>2</th>\n",
       "      <td>1022_S2-RIP_2</td>\n",
       "      <td>1022_S2-RIP_5</td>\n",
       "      <td>0.853185</td>\n",
       "      <td>0.0</td>\n",
       "    </tr>\n",
       "    <tr>\n",
       "      <th>3</th>\n",
       "      <td>1022_S2-RIP_3</td>\n",
       "      <td>1022_S2-RIP_4</td>\n",
       "      <td>0.959262</td>\n",
       "      <td>0.0</td>\n",
       "    </tr>\n",
       "    <tr>\n",
       "      <th>4</th>\n",
       "      <td>1022_S2-RIP_3</td>\n",
       "      <td>1022_S2-RIP_5</td>\n",
       "      <td>0.895938</td>\n",
       "      <td>0.0</td>\n",
       "    </tr>\n",
       "  </tbody>\n",
       "</table>\n",
       "</div>"
      ],
      "text/plain": [
       "         Sample1        Sample2  Correlation  P-value\n",
       "0  1022_S2-RIP_2  1022_S2-RIP_3     0.899038      0.0\n",
       "1  1022_S2-RIP_2  1022_S2-RIP_4     0.907435      0.0\n",
       "2  1022_S2-RIP_2  1022_S2-RIP_5     0.853185      0.0\n",
       "3  1022_S2-RIP_3  1022_S2-RIP_4     0.959262      0.0\n",
       "4  1022_S2-RIP_3  1022_S2-RIP_5     0.895938      0.0"
      ]
     },
     "execution_count": 50,
     "metadata": {},
     "output_type": "execute_result"
    }
   ],
   "source": [
    "corr_df = pd.read_csv(os.path.join(out_corr, 'correlations.csv'), sep='\\t')\n",
    "corr_df.head()"
   ]
  },
  {
   "cell_type": "code",
   "execution_count": 51,
   "metadata": {},
   "outputs": [
    {
     "data": {
      "text/plain": [
       "(66, 4)"
      ]
     },
     "execution_count": 51,
     "metadata": {},
     "output_type": "execute_result"
    }
   ],
   "source": [
    "corr_df.shape"
   ]
  },
  {
   "cell_type": "markdown",
   "metadata": {},
   "source": [
    "- Check **correlation scores** any `Correlation == 1` (**Duplicates**):"
   ]
  },
  {
   "cell_type": "code",
   "execution_count": 52,
   "metadata": {},
   "outputs": [
    {
     "data": {
      "text/html": [
       "<div>\n",
       "<style scoped>\n",
       "    .dataframe tbody tr th:only-of-type {\n",
       "        vertical-align: middle;\n",
       "    }\n",
       "\n",
       "    .dataframe tbody tr th {\n",
       "        vertical-align: top;\n",
       "    }\n",
       "\n",
       "    .dataframe thead th {\n",
       "        text-align: right;\n",
       "    }\n",
       "</style>\n",
       "<table border=\"1\" class=\"dataframe\">\n",
       "  <thead>\n",
       "    <tr style=\"text-align: right;\">\n",
       "      <th></th>\n",
       "      <th>Sample1</th>\n",
       "      <th>Sample2</th>\n",
       "      <th>Correlation</th>\n",
       "      <th>P-value</th>\n",
       "    </tr>\n",
       "  </thead>\n",
       "  <tbody>\n",
       "    <tr>\n",
       "      <th>33</th>\n",
       "      <td>504_pA-RNA_1</td>\n",
       "      <td>504_pA-RNA_2</td>\n",
       "      <td>0.995487</td>\n",
       "      <td>0.0</td>\n",
       "    </tr>\n",
       "    <tr>\n",
       "      <th>43</th>\n",
       "      <td>523_pA-RNA_1</td>\n",
       "      <td>524_pA-RNA_1</td>\n",
       "      <td>0.995453</td>\n",
       "      <td>0.0</td>\n",
       "    </tr>\n",
       "    <tr>\n",
       "      <th>45</th>\n",
       "      <td>530_pA-RNA_1</td>\n",
       "      <td>530_pA-RNA_2</td>\n",
       "      <td>0.993761</td>\n",
       "      <td>0.0</td>\n",
       "    </tr>\n",
       "  </tbody>\n",
       "</table>\n",
       "</div>"
      ],
      "text/plain": [
       "         Sample1       Sample2  Correlation  P-value\n",
       "33  504_pA-RNA_1  504_pA-RNA_2     0.995487      0.0\n",
       "43  523_pA-RNA_1  524_pA-RNA_1     0.995453      0.0\n",
       "45  530_pA-RNA_1  530_pA-RNA_2     0.993761      0.0"
      ]
     },
     "execution_count": 52,
     "metadata": {},
     "output_type": "execute_result"
    }
   ],
   "source": [
    "corr_df[corr_df['Correlation'] > 0.99]"
   ]
  },
  {
   "cell_type": "markdown",
   "metadata": {},
   "source": [
    "- Check **correlation scores** any `Correlation < 0.85`:"
   ]
  },
  {
   "cell_type": "code",
   "execution_count": 53,
   "metadata": {},
   "outputs": [
    {
     "data": {
      "text/html": [
       "<div>\n",
       "<style scoped>\n",
       "    .dataframe tbody tr th:only-of-type {\n",
       "        vertical-align: middle;\n",
       "    }\n",
       "\n",
       "    .dataframe tbody tr th {\n",
       "        vertical-align: top;\n",
       "    }\n",
       "\n",
       "    .dataframe thead th {\n",
       "        text-align: right;\n",
       "    }\n",
       "</style>\n",
       "<table border=\"1\" class=\"dataframe\">\n",
       "  <thead>\n",
       "    <tr style=\"text-align: right;\">\n",
       "      <th></th>\n",
       "      <th>Sample1</th>\n",
       "      <th>Sample2</th>\n",
       "      <th>Correlation</th>\n",
       "      <th>P-value</th>\n",
       "    </tr>\n",
       "  </thead>\n",
       "  <tbody>\n",
       "    <tr>\n",
       "      <th>65</th>\n",
       "      <td>WT_total-RNA_1</td>\n",
       "      <td>WT_total-RNA_2</td>\n",
       "      <td>0.776538</td>\n",
       "      <td>0.0</td>\n",
       "    </tr>\n",
       "  </tbody>\n",
       "</table>\n",
       "</div>"
      ],
      "text/plain": [
       "           Sample1         Sample2  Correlation  P-value\n",
       "65  WT_total-RNA_1  WT_total-RNA_2     0.776538      0.0"
      ]
     },
     "execution_count": 53,
     "metadata": {},
     "output_type": "execute_result"
    }
   ],
   "source": [
    "corr_df[corr_df['Correlation'] < 0.80]"
   ]
  },
  {
   "cell_type": "markdown",
   "metadata": {},
   "source": [
    "- Check **correlation scores** grouped by `Mutant` type and `seq_type`:"
   ]
  },
  {
   "cell_type": "code",
   "execution_count": 54,
   "metadata": {},
   "outputs": [],
   "source": [
    "#rpc.report_corr(corr_df, sub_samples['63_pA-RNA'])"
   ]
  },
  {
   "cell_type": "code",
   "execution_count": 55,
   "metadata": {},
   "outputs": [],
   "source": [
    "# for s in sub_samples:\n",
    "#     a = report_corr(corr_df, s)\n",
    "#     print('-'*80)\n",
    "#     print('Mutant samples group:', s)\n",
    "#     print(a)\n",
    "#     print('-'*80, '\\n')"
   ]
  },
  {
   "cell_type": "markdown",
   "metadata": {},
   "source": [
    "-----------------"
   ]
  },
  {
   "cell_type": "markdown",
   "metadata": {},
   "source": [
    "# **6.** Merge replicates"
   ]
  },
  {
   "cell_type": "markdown",
   "metadata": {},
   "source": [
    "-----------------"
   ]
  },
  {
   "cell_type": "markdown",
   "metadata": {},
   "source": [
    "Merge and store as `.csv` files:\n",
    "\n",
    "- **Average TPM-normalized expression tables** (tpm_df) for replicates:\n",
    "    - `rna_tpm_merged.csv`"
   ]
  },
  {
   "cell_type": "markdown",
   "metadata": {},
   "source": [
    "- <font color='red'> Add **`length` column** </font>"
   ]
  },
  {
   "cell_type": "code",
   "execution_count": 56,
   "metadata": {},
   "outputs": [],
   "source": [
    "tpm_df['length'] = tpm_df['gene_length']"
   ]
  },
  {
   "cell_type": "markdown",
   "metadata": {},
   "source": [
    "- **Merge RNA replicates** into an average **gene expression Matrix** per Mutant type: `rna_merged_tpm.csv`"
   ]
  },
  {
   "cell_type": "code",
   "execution_count": 57,
   "metadata": {},
   "outputs": [
    {
     "data": {
      "text/plain": [
       "'/gcm-lfs1/pablo/data/rna_silencing/results/xp_data/RNA'"
      ]
     },
     "execution_count": 57,
     "metadata": {},
     "output_type": "execute_result"
    }
   ],
   "source": [
    "out_dir"
   ]
  },
  {
   "cell_type": "markdown",
   "metadata": {},
   "source": [
    "#### <font color='red'> Deal with **NAs**: *Drop* or *fill with zeros?* </font>"
   ]
  },
  {
   "cell_type": "code",
   "execution_count": 58,
   "metadata": {},
   "outputs": [],
   "source": [
    "merged_tpm_df = rpc.repli_merge(\n",
    "    tpm_df,\n",
    "    sub_samples,\n",
    "    out_dir = out_dir, \n",
    "    out_file = 'rna_merged_tpm.csv'\n",
    ")"
   ]
  },
  {
   "cell_type": "code",
   "execution_count": 59,
   "metadata": {},
   "outputs": [
    {
     "data": {
      "text/html": [
       "<div>\n",
       "<style scoped>\n",
       "    .dataframe tbody tr th:only-of-type {\n",
       "        vertical-align: middle;\n",
       "    }\n",
       "\n",
       "    .dataframe tbody tr th {\n",
       "        vertical-align: top;\n",
       "    }\n",
       "\n",
       "    .dataframe thead th {\n",
       "        text-align: right;\n",
       "    }\n",
       "</style>\n",
       "<table border=\"1\" class=\"dataframe\">\n",
       "  <thead>\n",
       "    <tr style=\"text-align: right;\">\n",
       "      <th></th>\n",
       "      <th>gene_id</th>\n",
       "      <th>gene_name</th>\n",
       "      <th>length</th>\n",
       "      <th>type</th>\n",
       "      <th>category</th>\n",
       "      <th>bio_type</th>\n",
       "      <th>1022_S2-RIP</th>\n",
       "      <th>1022_pA-RNA</th>\n",
       "      <th>1168_S2-RIP</th>\n",
       "      <th>1168_pA-RNA</th>\n",
       "      <th>...</th>\n",
       "      <th>638_S2-RIP</th>\n",
       "      <th>638_pA-RNA</th>\n",
       "      <th>638_total-RNA</th>\n",
       "      <th>80_S2-RIP</th>\n",
       "      <th>80_pA-RNA</th>\n",
       "      <th>80_total-RNA</th>\n",
       "      <th>WT_S2-RIP</th>\n",
       "      <th>WT_S5-RIP</th>\n",
       "      <th>WT_pA-RNA</th>\n",
       "      <th>WT_total-RNA</th>\n",
       "    </tr>\n",
       "  </thead>\n",
       "  <tbody>\n",
       "    <tr>\n",
       "      <th>0</th>\n",
       "      <td>FP565355_region_1..2120</td>\n",
       "      <td>NaN</td>\n",
       "      <td>2120</td>\n",
       "      <td>region</td>\n",
       "      <td>repeat</td>\n",
       "      <td>region</td>\n",
       "      <td>13.047263</td>\n",
       "      <td>8.610194</td>\n",
       "      <td>1.551187</td>\n",
       "      <td>0.812477</td>\n",
       "      <td>...</td>\n",
       "      <td>2.628246</td>\n",
       "      <td>2.906437</td>\n",
       "      <td>5.585458</td>\n",
       "      <td>2.941590</td>\n",
       "      <td>1.800442</td>\n",
       "      <td>3.257867</td>\n",
       "      <td>2.451086</td>\n",
       "      <td>0.000000</td>\n",
       "      <td>0.719070</td>\n",
       "      <td>1.761184</td>\n",
       "    </tr>\n",
       "    <tr>\n",
       "      <th>1</th>\n",
       "      <td>FP565355_region_15417..15473</td>\n",
       "      <td>NaN</td>\n",
       "      <td>57</td>\n",
       "      <td>region</td>\n",
       "      <td>repeat</td>\n",
       "      <td>region</td>\n",
       "      <td>0.000000</td>\n",
       "      <td>0.000000</td>\n",
       "      <td>0.000000</td>\n",
       "      <td>0.000000</td>\n",
       "      <td>...</td>\n",
       "      <td>0.000000</td>\n",
       "      <td>0.000000</td>\n",
       "      <td>0.000000</td>\n",
       "      <td>0.000000</td>\n",
       "      <td>0.000000</td>\n",
       "      <td>0.000000</td>\n",
       "      <td>0.000000</td>\n",
       "      <td>0.000000</td>\n",
       "      <td>0.000000</td>\n",
       "      <td>0.000000</td>\n",
       "    </tr>\n",
       "    <tr>\n",
       "      <th>2</th>\n",
       "      <td>FP565355_region_15474..15608</td>\n",
       "      <td>NaN</td>\n",
       "      <td>135</td>\n",
       "      <td>region</td>\n",
       "      <td>repeat</td>\n",
       "      <td>region</td>\n",
       "      <td>4.362461</td>\n",
       "      <td>5.435505</td>\n",
       "      <td>6.791771</td>\n",
       "      <td>1.182042</td>\n",
       "      <td>...</td>\n",
       "      <td>5.225105</td>\n",
       "      <td>10.515522</td>\n",
       "      <td>6.788815</td>\n",
       "      <td>4.632683</td>\n",
       "      <td>1.165227</td>\n",
       "      <td>0.000000</td>\n",
       "      <td>29.076151</td>\n",
       "      <td>55.013025</td>\n",
       "      <td>6.204396</td>\n",
       "      <td>0.000000</td>\n",
       "    </tr>\n",
       "    <tr>\n",
       "      <th>3</th>\n",
       "      <td>FP565355_region_15609..16735</td>\n",
       "      <td>NaN</td>\n",
       "      <td>1127</td>\n",
       "      <td>region</td>\n",
       "      <td>repeat</td>\n",
       "      <td>region</td>\n",
       "      <td>20.357270</td>\n",
       "      <td>57.937164</td>\n",
       "      <td>8.811443</td>\n",
       "      <td>83.772135</td>\n",
       "      <td>...</td>\n",
       "      <td>4.224988</td>\n",
       "      <td>6.463253</td>\n",
       "      <td>4.565533</td>\n",
       "      <td>18.242957</td>\n",
       "      <td>37.932886</td>\n",
       "      <td>26.830832</td>\n",
       "      <td>0.999979</td>\n",
       "      <td>0.000000</td>\n",
       "      <td>8.761472</td>\n",
       "      <td>25.896352</td>\n",
       "    </tr>\n",
       "    <tr>\n",
       "      <th>4</th>\n",
       "      <td>FP565355_region_16736..16794</td>\n",
       "      <td>NaN</td>\n",
       "      <td>59</td>\n",
       "      <td>region</td>\n",
       "      <td>repeat</td>\n",
       "      <td>region</td>\n",
       "      <td>0.000000</td>\n",
       "      <td>0.000000</td>\n",
       "      <td>0.000000</td>\n",
       "      <td>0.000000</td>\n",
       "      <td>...</td>\n",
       "      <td>0.000000</td>\n",
       "      <td>0.000000</td>\n",
       "      <td>0.000000</td>\n",
       "      <td>0.000000</td>\n",
       "      <td>0.000000</td>\n",
       "      <td>0.000000</td>\n",
       "      <td>0.000000</td>\n",
       "      <td>0.000000</td>\n",
       "      <td>0.000000</td>\n",
       "      <td>0.000000</td>\n",
       "    </tr>\n",
       "  </tbody>\n",
       "</table>\n",
       "<p>5 rows × 39 columns</p>\n",
       "</div>"
      ],
      "text/plain": [
       "                        gene_id gene_name  length    type category bio_type  \\\n",
       "0       FP565355_region_1..2120       NaN    2120  region   repeat   region   \n",
       "1  FP565355_region_15417..15473       NaN      57  region   repeat   region   \n",
       "2  FP565355_region_15474..15608       NaN     135  region   repeat   region   \n",
       "3  FP565355_region_15609..16735       NaN    1127  region   repeat   region   \n",
       "4  FP565355_region_16736..16794       NaN      59  region   repeat   region   \n",
       "\n",
       "   1022_S2-RIP  1022_pA-RNA  1168_S2-RIP  1168_pA-RNA  ...  638_S2-RIP  \\\n",
       "0    13.047263     8.610194     1.551187     0.812477  ...    2.628246   \n",
       "1     0.000000     0.000000     0.000000     0.000000  ...    0.000000   \n",
       "2     4.362461     5.435505     6.791771     1.182042  ...    5.225105   \n",
       "3    20.357270    57.937164     8.811443    83.772135  ...    4.224988   \n",
       "4     0.000000     0.000000     0.000000     0.000000  ...    0.000000   \n",
       "\n",
       "   638_pA-RNA  638_total-RNA  80_S2-RIP  80_pA-RNA  80_total-RNA  WT_S2-RIP  \\\n",
       "0    2.906437       5.585458   2.941590   1.800442      3.257867   2.451086   \n",
       "1    0.000000       0.000000   0.000000   0.000000      0.000000   0.000000   \n",
       "2   10.515522       6.788815   4.632683   1.165227      0.000000  29.076151   \n",
       "3    6.463253       4.565533  18.242957  37.932886     26.830832   0.999979   \n",
       "4    0.000000       0.000000   0.000000   0.000000      0.000000   0.000000   \n",
       "\n",
       "   WT_S5-RIP  WT_pA-RNA  WT_total-RNA  \n",
       "0   0.000000   0.719070      1.761184  \n",
       "1   0.000000   0.000000      0.000000  \n",
       "2  55.013025   6.204396      0.000000  \n",
       "3   0.000000   8.761472     25.896352  \n",
       "4   0.000000   0.000000      0.000000  \n",
       "\n",
       "[5 rows x 39 columns]"
      ]
     },
     "execution_count": 59,
     "metadata": {},
     "output_type": "execute_result"
    }
   ],
   "source": [
    "merged_tpm_df.head()"
   ]
  },
  {
   "cell_type": "code",
   "execution_count": 60,
   "metadata": {},
   "outputs": [
    {
     "data": {
      "text/plain": [
       "(7021, 39)"
      ]
     },
     "execution_count": 60,
     "metadata": {},
     "output_type": "execute_result"
    }
   ],
   "source": [
    "merged_tpm_df.shape"
   ]
  },
  {
   "cell_type": "markdown",
   "metadata": {},
   "source": [
    "------"
   ]
  },
  {
   "cell_type": "markdown",
   "metadata": {},
   "source": [
    "# **7.** Filter for **Heterochromatic** and **Protein coding** (mRNA) genes"
   ]
  },
  {
   "cell_type": "markdown",
   "metadata": {},
   "source": [
    "------"
   ]
  },
  {
   "cell_type": "markdown",
   "metadata": {},
   "source": [
    "\n",
    "**Remove entries** from merged results:\n",
    "- `ncRNA_gene`\n",
    "- (some) `pseudogene` \n",
    "- `rRNA_gene`\n",
    "- `snRNA_gene`\n",
    "- `snoRNA_gene`\n",
    "- `tRNA_gene` "
   ]
  },
  {
   "cell_type": "markdown",
   "metadata": {},
   "source": [
    "Filter **merged_tpm_df**: \n",
    "- Keep only **Heterochromatic** and **protein coding genes** (mRNA) "
   ]
  },
  {
   "cell_type": "code",
   "execution_count": 61,
   "metadata": {},
   "outputs": [],
   "source": [
    "#merged_tpm_df = merged_tpm_df[(merged_tpm_df['type']=='gene') | (merged_tpm_df['category'] =='repeat')]\n",
    "merged_tpm_df = merged_tpm_df[(merged_tpm_df['bio_type'] == 'mRNA') | (merged_tpm_df['category'] == 'repeat')]"
   ]
  },
  {
   "cell_type": "code",
   "execution_count": 62,
   "metadata": {},
   "outputs": [
    {
     "data": {
      "text/html": [
       "<div>\n",
       "<style scoped>\n",
       "    .dataframe tbody tr th:only-of-type {\n",
       "        vertical-align: middle;\n",
       "    }\n",
       "\n",
       "    .dataframe tbody tr th {\n",
       "        vertical-align: top;\n",
       "    }\n",
       "\n",
       "    .dataframe thead th {\n",
       "        text-align: right;\n",
       "    }\n",
       "</style>\n",
       "<table border=\"1\" class=\"dataframe\">\n",
       "  <thead>\n",
       "    <tr style=\"text-align: right;\">\n",
       "      <th></th>\n",
       "      <th>gene_id</th>\n",
       "      <th>gene_name</th>\n",
       "      <th>length</th>\n",
       "      <th>type</th>\n",
       "      <th>category</th>\n",
       "      <th>bio_type</th>\n",
       "      <th>1022_S2-RIP</th>\n",
       "      <th>1022_pA-RNA</th>\n",
       "      <th>1168_S2-RIP</th>\n",
       "      <th>1168_pA-RNA</th>\n",
       "      <th>...</th>\n",
       "      <th>638_S2-RIP</th>\n",
       "      <th>638_pA-RNA</th>\n",
       "      <th>638_total-RNA</th>\n",
       "      <th>80_S2-RIP</th>\n",
       "      <th>80_pA-RNA</th>\n",
       "      <th>80_total-RNA</th>\n",
       "      <th>WT_S2-RIP</th>\n",
       "      <th>WT_S5-RIP</th>\n",
       "      <th>WT_pA-RNA</th>\n",
       "      <th>WT_total-RNA</th>\n",
       "    </tr>\n",
       "  </thead>\n",
       "  <tbody>\n",
       "    <tr>\n",
       "      <th>0</th>\n",
       "      <td>FP565355_region_1..2120</td>\n",
       "      <td>NaN</td>\n",
       "      <td>2120</td>\n",
       "      <td>region</td>\n",
       "      <td>repeat</td>\n",
       "      <td>region</td>\n",
       "      <td>13.047263</td>\n",
       "      <td>8.610194</td>\n",
       "      <td>1.551187</td>\n",
       "      <td>0.812477</td>\n",
       "      <td>...</td>\n",
       "      <td>2.628246</td>\n",
       "      <td>2.906437</td>\n",
       "      <td>5.585458</td>\n",
       "      <td>2.941590</td>\n",
       "      <td>1.800442</td>\n",
       "      <td>3.257867</td>\n",
       "      <td>2.451086</td>\n",
       "      <td>0.000000</td>\n",
       "      <td>0.719070</td>\n",
       "      <td>1.761184</td>\n",
       "    </tr>\n",
       "    <tr>\n",
       "      <th>1</th>\n",
       "      <td>FP565355_region_15417..15473</td>\n",
       "      <td>NaN</td>\n",
       "      <td>57</td>\n",
       "      <td>region</td>\n",
       "      <td>repeat</td>\n",
       "      <td>region</td>\n",
       "      <td>0.000000</td>\n",
       "      <td>0.000000</td>\n",
       "      <td>0.000000</td>\n",
       "      <td>0.000000</td>\n",
       "      <td>...</td>\n",
       "      <td>0.000000</td>\n",
       "      <td>0.000000</td>\n",
       "      <td>0.000000</td>\n",
       "      <td>0.000000</td>\n",
       "      <td>0.000000</td>\n",
       "      <td>0.000000</td>\n",
       "      <td>0.000000</td>\n",
       "      <td>0.000000</td>\n",
       "      <td>0.000000</td>\n",
       "      <td>0.000000</td>\n",
       "    </tr>\n",
       "    <tr>\n",
       "      <th>2</th>\n",
       "      <td>FP565355_region_15474..15608</td>\n",
       "      <td>NaN</td>\n",
       "      <td>135</td>\n",
       "      <td>region</td>\n",
       "      <td>repeat</td>\n",
       "      <td>region</td>\n",
       "      <td>4.362461</td>\n",
       "      <td>5.435505</td>\n",
       "      <td>6.791771</td>\n",
       "      <td>1.182042</td>\n",
       "      <td>...</td>\n",
       "      <td>5.225105</td>\n",
       "      <td>10.515522</td>\n",
       "      <td>6.788815</td>\n",
       "      <td>4.632683</td>\n",
       "      <td>1.165227</td>\n",
       "      <td>0.000000</td>\n",
       "      <td>29.076151</td>\n",
       "      <td>55.013025</td>\n",
       "      <td>6.204396</td>\n",
       "      <td>0.000000</td>\n",
       "    </tr>\n",
       "    <tr>\n",
       "      <th>3</th>\n",
       "      <td>FP565355_region_15609..16735</td>\n",
       "      <td>NaN</td>\n",
       "      <td>1127</td>\n",
       "      <td>region</td>\n",
       "      <td>repeat</td>\n",
       "      <td>region</td>\n",
       "      <td>20.357270</td>\n",
       "      <td>57.937164</td>\n",
       "      <td>8.811443</td>\n",
       "      <td>83.772135</td>\n",
       "      <td>...</td>\n",
       "      <td>4.224988</td>\n",
       "      <td>6.463253</td>\n",
       "      <td>4.565533</td>\n",
       "      <td>18.242957</td>\n",
       "      <td>37.932886</td>\n",
       "      <td>26.830832</td>\n",
       "      <td>0.999979</td>\n",
       "      <td>0.000000</td>\n",
       "      <td>8.761472</td>\n",
       "      <td>25.896352</td>\n",
       "    </tr>\n",
       "    <tr>\n",
       "      <th>4</th>\n",
       "      <td>FP565355_region_16736..16794</td>\n",
       "      <td>NaN</td>\n",
       "      <td>59</td>\n",
       "      <td>region</td>\n",
       "      <td>repeat</td>\n",
       "      <td>region</td>\n",
       "      <td>0.000000</td>\n",
       "      <td>0.000000</td>\n",
       "      <td>0.000000</td>\n",
       "      <td>0.000000</td>\n",
       "      <td>...</td>\n",
       "      <td>0.000000</td>\n",
       "      <td>0.000000</td>\n",
       "      <td>0.000000</td>\n",
       "      <td>0.000000</td>\n",
       "      <td>0.000000</td>\n",
       "      <td>0.000000</td>\n",
       "      <td>0.000000</td>\n",
       "      <td>0.000000</td>\n",
       "      <td>0.000000</td>\n",
       "      <td>0.000000</td>\n",
       "    </tr>\n",
       "  </tbody>\n",
       "</table>\n",
       "<p>5 rows × 39 columns</p>\n",
       "</div>"
      ],
      "text/plain": [
       "                        gene_id gene_name  length    type category bio_type  \\\n",
       "0       FP565355_region_1..2120       NaN    2120  region   repeat   region   \n",
       "1  FP565355_region_15417..15473       NaN      57  region   repeat   region   \n",
       "2  FP565355_region_15474..15608       NaN     135  region   repeat   region   \n",
       "3  FP565355_region_15609..16735       NaN    1127  region   repeat   region   \n",
       "4  FP565355_region_16736..16794       NaN      59  region   repeat   region   \n",
       "\n",
       "   1022_S2-RIP  1022_pA-RNA  1168_S2-RIP  1168_pA-RNA  ...  638_S2-RIP  \\\n",
       "0    13.047263     8.610194     1.551187     0.812477  ...    2.628246   \n",
       "1     0.000000     0.000000     0.000000     0.000000  ...    0.000000   \n",
       "2     4.362461     5.435505     6.791771     1.182042  ...    5.225105   \n",
       "3    20.357270    57.937164     8.811443    83.772135  ...    4.224988   \n",
       "4     0.000000     0.000000     0.000000     0.000000  ...    0.000000   \n",
       "\n",
       "   638_pA-RNA  638_total-RNA  80_S2-RIP  80_pA-RNA  80_total-RNA  WT_S2-RIP  \\\n",
       "0    2.906437       5.585458   2.941590   1.800442      3.257867   2.451086   \n",
       "1    0.000000       0.000000   0.000000   0.000000      0.000000   0.000000   \n",
       "2   10.515522       6.788815   4.632683   1.165227      0.000000  29.076151   \n",
       "3    6.463253       4.565533  18.242957  37.932886     26.830832   0.999979   \n",
       "4    0.000000       0.000000   0.000000   0.000000      0.000000   0.000000   \n",
       "\n",
       "   WT_S5-RIP  WT_pA-RNA  WT_total-RNA  \n",
       "0   0.000000   0.719070      1.761184  \n",
       "1   0.000000   0.000000      0.000000  \n",
       "2  55.013025   6.204396      0.000000  \n",
       "3   0.000000   8.761472     25.896352  \n",
       "4   0.000000   0.000000      0.000000  \n",
       "\n",
       "[5 rows x 39 columns]"
      ]
     },
     "execution_count": 62,
     "metadata": {},
     "output_type": "execute_result"
    }
   ],
   "source": [
    "merged_tpm_df.head()"
   ]
  },
  {
   "cell_type": "code",
   "execution_count": 63,
   "metadata": {},
   "outputs": [
    {
     "data": {
      "text/plain": [
       "(5159, 39)"
      ]
     },
     "execution_count": 63,
     "metadata": {},
     "output_type": "execute_result"
    }
   ],
   "source": [
    "merged_tpm_df.shape"
   ]
  },
  {
   "cell_type": "markdown",
   "metadata": {},
   "source": [
    "#### <font color='red'> Deal with **NAs**: *Drop* or *fill with zeros?* </font>"
   ]
  },
  {
   "cell_type": "code",
   "execution_count": 64,
   "metadata": {},
   "outputs": [],
   "source": [
    "# Deal with NAs: Drop or fill with zeros?\n",
    "# => it should already have been taken care of! \n",
    "\n",
    "# (NOT USED) in most plots we get rid of nan's, here we set them to zero\n",
    "#merged_tpm_df = merged_tpm_df.fillna(0) # undesired off-target effects to other columns (e.g. `gene_name`)\n",
    "#merged_tpm_df = merged_tpm_df.fillna({kk:0 for kk in sample_cols})\n",
    "\n",
    "# (NOT USED) drop row (axis - 0) if it finds ANY `na`, becareful when adding new columns!\n",
    "#merged_tpm_df = merged_tpm_df.dropna(subset = sample_cols) \n",
    "#merged_tpm_df = merged_tpm_df.dropna(0)"
   ]
  },
  {
   "cell_type": "markdown",
   "metadata": {},
   "source": [
    "- Store a copy of **merged_tpm_filtered_df**: `rna_merged_filtered_tpm.csv`"
   ]
  },
  {
   "cell_type": "code",
   "execution_count": 65,
   "metadata": {},
   "outputs": [],
   "source": [
    "merged_tpm_df.to_csv(os.path.join(out_dir, 'rna_merged_filtered_tpm.csv'), sep='\\t', index=None)"
   ]
  },
  {
   "cell_type": "markdown",
   "metadata": {},
   "source": [
    "------"
   ]
  },
  {
   "cell_type": "markdown",
   "metadata": {},
   "source": [
    "# **8.** Check **repeat genes** correlations by replicates "
   ]
  },
  {
   "cell_type": "markdown",
   "metadata": {},
   "source": [
    "------"
   ]
  },
  {
   "cell_type": "markdown",
   "metadata": {},
   "source": [
    "Here we go back to the Data Frame used **before merging** replicates: `tpm_df` and filter for **Heterochromatic genes** (repeats)"
   ]
  },
  {
   "cell_type": "markdown",
   "metadata": {},
   "source": [
    "- Keep only **Heterochromatic genes** (repeats)"
   ]
  },
  {
   "cell_type": "code",
   "execution_count": 66,
   "metadata": {},
   "outputs": [
    {
     "data": {
      "text/html": [
       "<div>\n",
       "<style scoped>\n",
       "    .dataframe tbody tr th:only-of-type {\n",
       "        vertical-align: middle;\n",
       "    }\n",
       "\n",
       "    .dataframe tbody tr th {\n",
       "        vertical-align: top;\n",
       "    }\n",
       "\n",
       "    .dataframe thead th {\n",
       "        text-align: right;\n",
       "    }\n",
       "</style>\n",
       "<table border=\"1\" class=\"dataframe\">\n",
       "  <thead>\n",
       "    <tr style=\"text-align: right;\">\n",
       "      <th></th>\n",
       "      <th>gene_id</th>\n",
       "      <th>seqid</th>\n",
       "      <th>type</th>\n",
       "      <th>start</th>\n",
       "      <th>end</th>\n",
       "      <th>strand</th>\n",
       "      <th>gene_name</th>\n",
       "      <th>cds_length</th>\n",
       "      <th>utr_length</th>\n",
       "      <th>intron_length</th>\n",
       "      <th>...</th>\n",
       "      <th>WT_S2-RIP_1</th>\n",
       "      <th>WT_S2-RIP_2</th>\n",
       "      <th>WT_S5-RIP_2</th>\n",
       "      <th>WT_pA-RNA_1</th>\n",
       "      <th>WT_pA-RNA_2</th>\n",
       "      <th>WT_pA-RNA_3</th>\n",
       "      <th>WT_pA-RNA_4</th>\n",
       "      <th>WT_total-RNA_1</th>\n",
       "      <th>WT_total-RNA_2</th>\n",
       "      <th>length</th>\n",
       "    </tr>\n",
       "  </thead>\n",
       "  <tbody>\n",
       "    <tr>\n",
       "      <th>0</th>\n",
       "      <td>FP565355_region_1..2120</td>\n",
       "      <td>mating_type_region</td>\n",
       "      <td>region</td>\n",
       "      <td>1</td>\n",
       "      <td>2120</td>\n",
       "      <td>+</td>\n",
       "      <td>NaN</td>\n",
       "      <td>NaN</td>\n",
       "      <td>NaN</td>\n",
       "      <td>NaN</td>\n",
       "      <td>...</td>\n",
       "      <td>3.903828</td>\n",
       "      <td>0.998344</td>\n",
       "      <td>0.000000</td>\n",
       "      <td>0.265064</td>\n",
       "      <td>1.146108</td>\n",
       "      <td>0.769286</td>\n",
       "      <td>0.695822</td>\n",
       "      <td>3.368858</td>\n",
       "      <td>0.153509</td>\n",
       "      <td>2120</td>\n",
       "    </tr>\n",
       "    <tr>\n",
       "      <th>1</th>\n",
       "      <td>FP565355_region_15417..15473</td>\n",
       "      <td>mating_type_region</td>\n",
       "      <td>region</td>\n",
       "      <td>15417</td>\n",
       "      <td>15473</td>\n",
       "      <td>+</td>\n",
       "      <td>NaN</td>\n",
       "      <td>NaN</td>\n",
       "      <td>NaN</td>\n",
       "      <td>NaN</td>\n",
       "      <td>...</td>\n",
       "      <td>0.000000</td>\n",
       "      <td>0.000000</td>\n",
       "      <td>0.000000</td>\n",
       "      <td>0.000000</td>\n",
       "      <td>0.000000</td>\n",
       "      <td>0.000000</td>\n",
       "      <td>0.000000</td>\n",
       "      <td>0.000000</td>\n",
       "      <td>0.000000</td>\n",
       "      <td>57</td>\n",
       "    </tr>\n",
       "    <tr>\n",
       "      <th>2</th>\n",
       "      <td>FP565355_region_15474..15608</td>\n",
       "      <td>mating_type_region</td>\n",
       "      <td>region</td>\n",
       "      <td>15474</td>\n",
       "      <td>15608</td>\n",
       "      <td>+</td>\n",
       "      <td>NaN</td>\n",
       "      <td>NaN</td>\n",
       "      <td>NaN</td>\n",
       "      <td>NaN</td>\n",
       "      <td>...</td>\n",
       "      <td>50.138467</td>\n",
       "      <td>8.013835</td>\n",
       "      <td>55.013025</td>\n",
       "      <td>2.735617</td>\n",
       "      <td>4.928550</td>\n",
       "      <td>8.775227</td>\n",
       "      <td>8.378187</td>\n",
       "      <td>0.000000</td>\n",
       "      <td>0.000000</td>\n",
       "      <td>135</td>\n",
       "    </tr>\n",
       "    <tr>\n",
       "      <th>3</th>\n",
       "      <td>FP565355_region_15609..16735</td>\n",
       "      <td>mating_type_region</td>\n",
       "      <td>region</td>\n",
       "      <td>15609</td>\n",
       "      <td>16735</td>\n",
       "      <td>+</td>\n",
       "      <td>NaN</td>\n",
       "      <td>NaN</td>\n",
       "      <td>NaN</td>\n",
       "      <td>NaN</td>\n",
       "      <td>...</td>\n",
       "      <td>1.999957</td>\n",
       "      <td>0.000000</td>\n",
       "      <td>0.000000</td>\n",
       "      <td>0.436481</td>\n",
       "      <td>34.364524</td>\n",
       "      <td>0.077785</td>\n",
       "      <td>0.167097</td>\n",
       "      <td>45.304578</td>\n",
       "      <td>6.488126</td>\n",
       "      <td>1127</td>\n",
       "    </tr>\n",
       "    <tr>\n",
       "      <th>4</th>\n",
       "      <td>FP565355_region_16736..16794</td>\n",
       "      <td>mating_type_region</td>\n",
       "      <td>region</td>\n",
       "      <td>16736</td>\n",
       "      <td>16794</td>\n",
       "      <td>+</td>\n",
       "      <td>NaN</td>\n",
       "      <td>NaN</td>\n",
       "      <td>NaN</td>\n",
       "      <td>NaN</td>\n",
       "      <td>...</td>\n",
       "      <td>0.000000</td>\n",
       "      <td>0.000000</td>\n",
       "      <td>0.000000</td>\n",
       "      <td>0.000000</td>\n",
       "      <td>0.000000</td>\n",
       "      <td>0.000000</td>\n",
       "      <td>0.000000</td>\n",
       "      <td>0.000000</td>\n",
       "      <td>0.000000</td>\n",
       "      <td>59</td>\n",
       "    </tr>\n",
       "  </tbody>\n",
       "</table>\n",
       "<p>5 rows × 94 columns</p>\n",
       "</div>"
      ],
      "text/plain": [
       "                        gene_id               seqid    type  start    end  \\\n",
       "0       FP565355_region_1..2120  mating_type_region  region      1   2120   \n",
       "1  FP565355_region_15417..15473  mating_type_region  region  15417  15473   \n",
       "2  FP565355_region_15474..15608  mating_type_region  region  15474  15608   \n",
       "3  FP565355_region_15609..16735  mating_type_region  region  15609  16735   \n",
       "4  FP565355_region_16736..16794  mating_type_region  region  16736  16794   \n",
       "\n",
       "  strand gene_name  cds_length  utr_length  intron_length  ...  WT_S2-RIP_1  \\\n",
       "0      +       NaN         NaN         NaN            NaN  ...     3.903828   \n",
       "1      +       NaN         NaN         NaN            NaN  ...     0.000000   \n",
       "2      +       NaN         NaN         NaN            NaN  ...    50.138467   \n",
       "3      +       NaN         NaN         NaN            NaN  ...     1.999957   \n",
       "4      +       NaN         NaN         NaN            NaN  ...     0.000000   \n",
       "\n",
       "  WT_S2-RIP_2 WT_S5-RIP_2  WT_pA-RNA_1  WT_pA-RNA_2  WT_pA-RNA_3  WT_pA-RNA_4  \\\n",
       "0    0.998344    0.000000     0.265064     1.146108     0.769286     0.695822   \n",
       "1    0.000000    0.000000     0.000000     0.000000     0.000000     0.000000   \n",
       "2    8.013835   55.013025     2.735617     4.928550     8.775227     8.378187   \n",
       "3    0.000000    0.000000     0.436481    34.364524     0.077785     0.167097   \n",
       "4    0.000000    0.000000     0.000000     0.000000     0.000000     0.000000   \n",
       "\n",
       "   WT_total-RNA_1  WT_total-RNA_2  length  \n",
       "0        3.368858        0.153509    2120  \n",
       "1        0.000000        0.000000      57  \n",
       "2        0.000000        0.000000     135  \n",
       "3       45.304578        6.488126    1127  \n",
       "4        0.000000        0.000000      59  \n",
       "\n",
       "[5 rows x 94 columns]"
      ]
     },
     "execution_count": 66,
     "metadata": {},
     "output_type": "execute_result"
    }
   ],
   "source": [
    "tpm_rep_df = tpm_df[tpm_df['category'] == 'repeat']\n",
    "tpm_rep_df.head()"
   ]
  },
  {
   "cell_type": "code",
   "execution_count": 67,
   "metadata": {},
   "outputs": [
    {
     "data": {
      "text/plain": [
       "(39, 94)"
      ]
     },
     "execution_count": 67,
     "metadata": {},
     "output_type": "execute_result"
    }
   ],
   "source": [
    "tpm_rep_df.shape"
   ]
  },
  {
   "cell_type": "markdown",
   "metadata": {},
   "source": [
    "- Select columns of interest"
   ]
  },
  {
   "cell_type": "code",
   "execution_count": 68,
   "metadata": {},
   "outputs": [],
   "source": [
    "#select_cols = ['gene-id', 'gene-name', 'type', 'category', 'bio_type']\n",
    "select_cols = ['gene_id', 'gene_name', 'type', 'category', 'bio_type']"
   ]
  },
  {
   "cell_type": "code",
   "execution_count": 69,
   "metadata": {},
   "outputs": [],
   "source": [
    "select_cols.extend(sample_cols)"
   ]
  },
  {
   "cell_type": "code",
   "execution_count": 70,
   "metadata": {},
   "outputs": [
    {
     "data": {
      "text/plain": [
       "(39, 85)"
      ]
     },
     "execution_count": 70,
     "metadata": {},
     "output_type": "execute_result"
    }
   ],
   "source": [
    "tpm_rep_df = tpm_rep_df[select_cols]\n",
    "tpm_rep_df.shape"
   ]
  },
  {
   "cell_type": "markdown",
   "metadata": {},
   "source": [
    "- **Log-transform** (tpm-normed)  **gene expression Matrix**:"
   ]
  },
  {
   "cell_type": "code",
   "execution_count": 71,
   "metadata": {},
   "outputs": [
    {
     "data": {
      "text/html": [
       "<div>\n",
       "<style scoped>\n",
       "    .dataframe tbody tr th:only-of-type {\n",
       "        vertical-align: middle;\n",
       "    }\n",
       "\n",
       "    .dataframe tbody tr th {\n",
       "        vertical-align: top;\n",
       "    }\n",
       "\n",
       "    .dataframe thead th {\n",
       "        text-align: right;\n",
       "    }\n",
       "</style>\n",
       "<table border=\"1\" class=\"dataframe\">\n",
       "  <thead>\n",
       "    <tr style=\"text-align: right;\">\n",
       "      <th></th>\n",
       "      <th>gene_id</th>\n",
       "      <th>gene_name</th>\n",
       "      <th>type</th>\n",
       "      <th>category</th>\n",
       "      <th>bio_type</th>\n",
       "      <th>1022_S2-RIP_2</th>\n",
       "      <th>1022_S2-RIP_3</th>\n",
       "      <th>1022_S2-RIP_4</th>\n",
       "      <th>1022_S2-RIP_5</th>\n",
       "      <th>1022_pA-RNA_1</th>\n",
       "      <th>...</th>\n",
       "      <th>80_total-RNA_2</th>\n",
       "      <th>WT_S2-RIP_1</th>\n",
       "      <th>WT_S2-RIP_2</th>\n",
       "      <th>WT_S5-RIP_2</th>\n",
       "      <th>WT_pA-RNA_1</th>\n",
       "      <th>WT_pA-RNA_2</th>\n",
       "      <th>WT_pA-RNA_3</th>\n",
       "      <th>WT_pA-RNA_4</th>\n",
       "      <th>WT_total-RNA_1</th>\n",
       "      <th>WT_total-RNA_2</th>\n",
       "    </tr>\n",
       "  </thead>\n",
       "  <tbody>\n",
       "    <tr>\n",
       "      <th>0</th>\n",
       "      <td>FP565355_region_1..2120</td>\n",
       "      <td>NaN</td>\n",
       "      <td>region</td>\n",
       "      <td>repeat</td>\n",
       "      <td>region</td>\n",
       "      <td>3.829264</td>\n",
       "      <td>3.793063</td>\n",
       "      <td>3.919725</td>\n",
       "      <td>3.698085</td>\n",
       "      <td>2.911750</td>\n",
       "      <td>...</td>\n",
       "      <td>0.874864</td>\n",
       "      <td>2.293908</td>\n",
       "      <td>0.998805</td>\n",
       "      <td>0.00000</td>\n",
       "      <td>0.339210</td>\n",
       "      <td>1.101723</td>\n",
       "      <td>0.823167</td>\n",
       "      <td>0.761985</td>\n",
       "      <td>2.127256</td>\n",
       "      <td>0.206030</td>\n",
       "    </tr>\n",
       "    <tr>\n",
       "      <th>1</th>\n",
       "      <td>FP565355_region_15417..15473</td>\n",
       "      <td>NaN</td>\n",
       "      <td>region</td>\n",
       "      <td>repeat</td>\n",
       "      <td>region</td>\n",
       "      <td>0.000000</td>\n",
       "      <td>0.000000</td>\n",
       "      <td>0.000000</td>\n",
       "      <td>0.000000</td>\n",
       "      <td>0.000000</td>\n",
       "      <td>...</td>\n",
       "      <td>0.000000</td>\n",
       "      <td>0.000000</td>\n",
       "      <td>0.000000</td>\n",
       "      <td>0.00000</td>\n",
       "      <td>0.000000</td>\n",
       "      <td>0.000000</td>\n",
       "      <td>0.000000</td>\n",
       "      <td>0.000000</td>\n",
       "      <td>0.000000</td>\n",
       "      <td>0.000000</td>\n",
       "    </tr>\n",
       "    <tr>\n",
       "      <th>2</th>\n",
       "      <td>FP565355_region_15474..15608</td>\n",
       "      <td>NaN</td>\n",
       "      <td>region</td>\n",
       "      <td>repeat</td>\n",
       "      <td>region</td>\n",
       "      <td>0.000000</td>\n",
       "      <td>4.205537</td>\n",
       "      <td>0.000000</td>\n",
       "      <td>0.000000</td>\n",
       "      <td>3.235441</td>\n",
       "      <td>...</td>\n",
       "      <td>0.000000</td>\n",
       "      <td>5.676337</td>\n",
       "      <td>3.172141</td>\n",
       "      <td>5.80769</td>\n",
       "      <td>1.901347</td>\n",
       "      <td>2.567679</td>\n",
       "      <td>3.289130</td>\n",
       "      <td>3.229309</td>\n",
       "      <td>0.000000</td>\n",
       "      <td>0.000000</td>\n",
       "    </tr>\n",
       "    <tr>\n",
       "      <th>3</th>\n",
       "      <td>FP565355_region_15609..16735</td>\n",
       "      <td>NaN</td>\n",
       "      <td>region</td>\n",
       "      <td>repeat</td>\n",
       "      <td>region</td>\n",
       "      <td>4.268906</td>\n",
       "      <td>4.814858</td>\n",
       "      <td>4.815248</td>\n",
       "      <td>3.300297</td>\n",
       "      <td>6.200266</td>\n",
       "      <td>...</td>\n",
       "      <td>3.804836</td>\n",
       "      <td>1.584942</td>\n",
       "      <td>0.000000</td>\n",
       "      <td>0.00000</td>\n",
       "      <td>0.522539</td>\n",
       "      <td>5.144231</td>\n",
       "      <td>0.108069</td>\n",
       "      <td>0.222925</td>\n",
       "      <td>5.533083</td>\n",
       "      <td>2.904605</td>\n",
       "    </tr>\n",
       "    <tr>\n",
       "      <th>4</th>\n",
       "      <td>FP565355_region_16736..16794</td>\n",
       "      <td>NaN</td>\n",
       "      <td>region</td>\n",
       "      <td>repeat</td>\n",
       "      <td>region</td>\n",
       "      <td>0.000000</td>\n",
       "      <td>0.000000</td>\n",
       "      <td>0.000000</td>\n",
       "      <td>0.000000</td>\n",
       "      <td>0.000000</td>\n",
       "      <td>...</td>\n",
       "      <td>0.000000</td>\n",
       "      <td>0.000000</td>\n",
       "      <td>0.000000</td>\n",
       "      <td>0.00000</td>\n",
       "      <td>0.000000</td>\n",
       "      <td>0.000000</td>\n",
       "      <td>0.000000</td>\n",
       "      <td>0.000000</td>\n",
       "      <td>0.000000</td>\n",
       "      <td>0.000000</td>\n",
       "    </tr>\n",
       "  </tbody>\n",
       "</table>\n",
       "<p>5 rows × 85 columns</p>\n",
       "</div>"
      ],
      "text/plain": [
       "                        gene_id gene_name    type category bio_type  \\\n",
       "0       FP565355_region_1..2120       NaN  region   repeat   region   \n",
       "1  FP565355_region_15417..15473       NaN  region   repeat   region   \n",
       "2  FP565355_region_15474..15608       NaN  region   repeat   region   \n",
       "3  FP565355_region_15609..16735       NaN  region   repeat   region   \n",
       "4  FP565355_region_16736..16794       NaN  region   repeat   region   \n",
       "\n",
       "   1022_S2-RIP_2  1022_S2-RIP_3  1022_S2-RIP_4  1022_S2-RIP_5  1022_pA-RNA_1  \\\n",
       "0       3.829264       3.793063       3.919725       3.698085       2.911750   \n",
       "1       0.000000       0.000000       0.000000       0.000000       0.000000   \n",
       "2       0.000000       4.205537       0.000000       0.000000       3.235441   \n",
       "3       4.268906       4.814858       4.815248       3.300297       6.200266   \n",
       "4       0.000000       0.000000       0.000000       0.000000       0.000000   \n",
       "\n",
       "   ...  80_total-RNA_2  WT_S2-RIP_1  WT_S2-RIP_2  WT_S5-RIP_2  WT_pA-RNA_1  \\\n",
       "0  ...        0.874864     2.293908     0.998805      0.00000     0.339210   \n",
       "1  ...        0.000000     0.000000     0.000000      0.00000     0.000000   \n",
       "2  ...        0.000000     5.676337     3.172141      5.80769     1.901347   \n",
       "3  ...        3.804836     1.584942     0.000000      0.00000     0.522539   \n",
       "4  ...        0.000000     0.000000     0.000000      0.00000     0.000000   \n",
       "\n",
       "   WT_pA-RNA_2  WT_pA-RNA_3  WT_pA-RNA_4  WT_total-RNA_1  WT_total-RNA_2  \n",
       "0     1.101723     0.823167     0.761985        2.127256        0.206030  \n",
       "1     0.000000     0.000000     0.000000        0.000000        0.000000  \n",
       "2     2.567679     3.289130     3.229309        0.000000        0.000000  \n",
       "3     5.144231     0.108069     0.222925        5.533083        2.904605  \n",
       "4     0.000000     0.000000     0.000000        0.000000        0.000000  \n",
       "\n",
       "[5 rows x 85 columns]"
      ]
     },
     "execution_count": 71,
     "metadata": {},
     "output_type": "execute_result"
    }
   ],
   "source": [
    "#log2_tpm_df = to_log2_tpm(tpm_df)\n",
    "tpm_rep_df_l2 = to_log2_tpm(tpm_rep_df, gene_id_col='gene_id') # default shift=1\n",
    "tpm_rep_df_l2.head()"
   ]
  },
  {
   "cell_type": "markdown",
   "metadata": {},
   "source": [
    "- Run **correlation checks**  for all **pair-wise sample combinations**:"
   ]
  },
  {
   "cell_type": "code",
   "execution_count": 72,
   "metadata": {},
   "outputs": [],
   "source": [
    "out_htc_corr = os.path.join(out_dir, 'htc_CORR')\n",
    "if not os.path.isdir(out_htc_corr):    \n",
    "    !mkdir -p $out_htc_corr"
   ]
  },
  {
   "cell_type": "code",
   "execution_count": 73,
   "metadata": {},
   "outputs": [
    {
     "data": {
      "text/html": [
       "<div>\n",
       "<style scoped>\n",
       "    .dataframe tbody tr th:only-of-type {\n",
       "        vertical-align: middle;\n",
       "    }\n",
       "\n",
       "    .dataframe tbody tr th {\n",
       "        vertical-align: top;\n",
       "    }\n",
       "\n",
       "    .dataframe thead th {\n",
       "        text-align: right;\n",
       "    }\n",
       "</style>\n",
       "<table border=\"1\" class=\"dataframe\">\n",
       "  <thead>\n",
       "    <tr style=\"text-align: right;\">\n",
       "      <th></th>\n",
       "      <th>Sample1</th>\n",
       "      <th>Sample2</th>\n",
       "      <th>Correlation</th>\n",
       "      <th>P-value</th>\n",
       "    </tr>\n",
       "  </thead>\n",
       "  <tbody>\n",
       "    <tr>\n",
       "      <th>0</th>\n",
       "      <td>1022_S2-RIP_2</td>\n",
       "      <td>1022_S2-RIP_3</td>\n",
       "      <td>0.851285</td>\n",
       "      <td>6.569509e-12</td>\n",
       "    </tr>\n",
       "    <tr>\n",
       "      <th>1</th>\n",
       "      <td>1022_S2-RIP_2</td>\n",
       "      <td>1022_S2-RIP_4</td>\n",
       "      <td>0.934655</td>\n",
       "      <td>3.359376e-18</td>\n",
       "    </tr>\n",
       "    <tr>\n",
       "      <th>2</th>\n",
       "      <td>1022_S2-RIP_2</td>\n",
       "      <td>1022_S2-RIP_5</td>\n",
       "      <td>0.745979</td>\n",
       "      <td>5.029418e-08</td>\n",
       "    </tr>\n",
       "    <tr>\n",
       "      <th>3</th>\n",
       "      <td>1022_S2-RIP_3</td>\n",
       "      <td>1022_S2-RIP_4</td>\n",
       "      <td>0.917315</td>\n",
       "      <td>2.251776e-16</td>\n",
       "    </tr>\n",
       "    <tr>\n",
       "      <th>4</th>\n",
       "      <td>1022_S2-RIP_3</td>\n",
       "      <td>1022_S2-RIP_5</td>\n",
       "      <td>0.723603</td>\n",
       "      <td>1.941904e-07</td>\n",
       "    </tr>\n",
       "    <tr>\n",
       "      <th>...</th>\n",
       "      <td>...</td>\n",
       "      <td>...</td>\n",
       "      <td>...</td>\n",
       "      <td>...</td>\n",
       "    </tr>\n",
       "    <tr>\n",
       "      <th>61</th>\n",
       "      <td>WT_pA-RNA_1</td>\n",
       "      <td>WT_pA-RNA_4</td>\n",
       "      <td>0.942236</td>\n",
       "      <td>3.661138e-19</td>\n",
       "    </tr>\n",
       "    <tr>\n",
       "      <th>62</th>\n",
       "      <td>WT_pA-RNA_2</td>\n",
       "      <td>WT_pA-RNA_3</td>\n",
       "      <td>0.880080</td>\n",
       "      <td>1.581129e-13</td>\n",
       "    </tr>\n",
       "    <tr>\n",
       "      <th>63</th>\n",
       "      <td>WT_pA-RNA_2</td>\n",
       "      <td>WT_pA-RNA_4</td>\n",
       "      <td>0.829692</td>\n",
       "      <td>6.651693e-11</td>\n",
       "    </tr>\n",
       "    <tr>\n",
       "      <th>64</th>\n",
       "      <td>WT_pA-RNA_3</td>\n",
       "      <td>WT_pA-RNA_4</td>\n",
       "      <td>0.941505</td>\n",
       "      <td>4.591424e-19</td>\n",
       "    </tr>\n",
       "    <tr>\n",
       "      <th>65</th>\n",
       "      <td>WT_total-RNA_1</td>\n",
       "      <td>WT_total-RNA_2</td>\n",
       "      <td>0.583771</td>\n",
       "      <td>9.575741e-05</td>\n",
       "    </tr>\n",
       "  </tbody>\n",
       "</table>\n",
       "<p>66 rows × 4 columns</p>\n",
       "</div>"
      ],
      "text/plain": [
       "           Sample1         Sample2  Correlation       P-value\n",
       "0    1022_S2-RIP_2   1022_S2-RIP_3     0.851285  6.569509e-12\n",
       "1    1022_S2-RIP_2   1022_S2-RIP_4     0.934655  3.359376e-18\n",
       "2    1022_S2-RIP_2   1022_S2-RIP_5     0.745979  5.029418e-08\n",
       "3    1022_S2-RIP_3   1022_S2-RIP_4     0.917315  2.251776e-16\n",
       "4    1022_S2-RIP_3   1022_S2-RIP_5     0.723603  1.941904e-07\n",
       "..             ...             ...          ...           ...\n",
       "61     WT_pA-RNA_1     WT_pA-RNA_4     0.942236  3.661138e-19\n",
       "62     WT_pA-RNA_2     WT_pA-RNA_3     0.880080  1.581129e-13\n",
       "63     WT_pA-RNA_2     WT_pA-RNA_4     0.829692  6.651693e-11\n",
       "64     WT_pA-RNA_3     WT_pA-RNA_4     0.941505  4.591424e-19\n",
       "65  WT_total-RNA_1  WT_total-RNA_2     0.583771  9.575741e-05\n",
       "\n",
       "[66 rows x 4 columns]"
      ]
     },
     "execution_count": 73,
     "metadata": {},
     "output_type": "execute_result"
    }
   ],
   "source": [
    "rpc.run_corr_checks(tpm_rep_df_l2, samples = sub_samples, out_dir = out_htc_corr, prefix = 'repeats.')"
   ]
  },
  {
   "cell_type": "markdown",
   "metadata": {},
   "source": [
    "- Import **correlation checks** for all **pair-wise sample combinations**: `correlations.csv`"
   ]
  },
  {
   "cell_type": "code",
   "execution_count": 74,
   "metadata": {},
   "outputs": [
    {
     "data": {
      "text/html": [
       "<div>\n",
       "<style scoped>\n",
       "    .dataframe tbody tr th:only-of-type {\n",
       "        vertical-align: middle;\n",
       "    }\n",
       "\n",
       "    .dataframe tbody tr th {\n",
       "        vertical-align: top;\n",
       "    }\n",
       "\n",
       "    .dataframe thead th {\n",
       "        text-align: right;\n",
       "    }\n",
       "</style>\n",
       "<table border=\"1\" class=\"dataframe\">\n",
       "  <thead>\n",
       "    <tr style=\"text-align: right;\">\n",
       "      <th></th>\n",
       "      <th>Sample1</th>\n",
       "      <th>Sample2</th>\n",
       "      <th>Correlation</th>\n",
       "      <th>P-value</th>\n",
       "    </tr>\n",
       "  </thead>\n",
       "  <tbody>\n",
       "    <tr>\n",
       "      <th>0</th>\n",
       "      <td>1022_S2-RIP_2</td>\n",
       "      <td>1022_S2-RIP_3</td>\n",
       "      <td>0.851285</td>\n",
       "      <td>6.569509e-12</td>\n",
       "    </tr>\n",
       "    <tr>\n",
       "      <th>1</th>\n",
       "      <td>1022_S2-RIP_2</td>\n",
       "      <td>1022_S2-RIP_4</td>\n",
       "      <td>0.934655</td>\n",
       "      <td>3.359376e-18</td>\n",
       "    </tr>\n",
       "    <tr>\n",
       "      <th>2</th>\n",
       "      <td>1022_S2-RIP_2</td>\n",
       "      <td>1022_S2-RIP_5</td>\n",
       "      <td>0.745979</td>\n",
       "      <td>5.029418e-08</td>\n",
       "    </tr>\n",
       "    <tr>\n",
       "      <th>3</th>\n",
       "      <td>1022_S2-RIP_3</td>\n",
       "      <td>1022_S2-RIP_4</td>\n",
       "      <td>0.917315</td>\n",
       "      <td>2.251776e-16</td>\n",
       "    </tr>\n",
       "    <tr>\n",
       "      <th>4</th>\n",
       "      <td>1022_S2-RIP_3</td>\n",
       "      <td>1022_S2-RIP_5</td>\n",
       "      <td>0.723603</td>\n",
       "      <td>1.941904e-07</td>\n",
       "    </tr>\n",
       "  </tbody>\n",
       "</table>\n",
       "</div>"
      ],
      "text/plain": [
       "         Sample1        Sample2  Correlation       P-value\n",
       "0  1022_S2-RIP_2  1022_S2-RIP_3     0.851285  6.569509e-12\n",
       "1  1022_S2-RIP_2  1022_S2-RIP_4     0.934655  3.359376e-18\n",
       "2  1022_S2-RIP_2  1022_S2-RIP_5     0.745979  5.029418e-08\n",
       "3  1022_S2-RIP_3  1022_S2-RIP_4     0.917315  2.251776e-16\n",
       "4  1022_S2-RIP_3  1022_S2-RIP_5     0.723603  1.941904e-07"
      ]
     },
     "execution_count": 74,
     "metadata": {},
     "output_type": "execute_result"
    }
   ],
   "source": [
    "rep_corr_df = pd.read_csv(os.path.join(out_htc_corr, 'repeats.correlations.csv'), sep='\\t')\n",
    "rep_corr_df.head()"
   ]
  },
  {
   "cell_type": "code",
   "execution_count": 75,
   "metadata": {},
   "outputs": [
    {
     "data": {
      "text/plain": [
       "(66, 4)"
      ]
     },
     "execution_count": 75,
     "metadata": {},
     "output_type": "execute_result"
    }
   ],
   "source": [
    "rep_corr_df.shape"
   ]
  },
  {
   "cell_type": "markdown",
   "metadata": {},
   "source": [
    "- Select **highly correlated** samples: `correlation > 0.85`"
   ]
  },
  {
   "cell_type": "code",
   "execution_count": 76,
   "metadata": {},
   "outputs": [],
   "source": [
    "# Highly correlated samples\n",
    "high_rep_corr_df = rep_corr_df[rep_corr_df['Correlation'] > .85]"
   ]
  },
  {
   "cell_type": "code",
   "execution_count": 77,
   "metadata": {},
   "outputs": [
    {
     "data": {
      "text/html": [
       "<div>\n",
       "<style scoped>\n",
       "    .dataframe tbody tr th:only-of-type {\n",
       "        vertical-align: middle;\n",
       "    }\n",
       "\n",
       "    .dataframe tbody tr th {\n",
       "        vertical-align: top;\n",
       "    }\n",
       "\n",
       "    .dataframe thead th {\n",
       "        text-align: right;\n",
       "    }\n",
       "</style>\n",
       "<table border=\"1\" class=\"dataframe\">\n",
       "  <thead>\n",
       "    <tr style=\"text-align: right;\">\n",
       "      <th></th>\n",
       "      <th>Sample1</th>\n",
       "      <th>Sample2</th>\n",
       "      <th>Correlation</th>\n",
       "      <th>P-value</th>\n",
       "    </tr>\n",
       "  </thead>\n",
       "  <tbody>\n",
       "    <tr>\n",
       "      <th>0</th>\n",
       "      <td>1022_S2-RIP_2</td>\n",
       "      <td>1022_S2-RIP_3</td>\n",
       "      <td>0.851285</td>\n",
       "      <td>6.569509e-12</td>\n",
       "    </tr>\n",
       "    <tr>\n",
       "      <th>1</th>\n",
       "      <td>1022_S2-RIP_2</td>\n",
       "      <td>1022_S2-RIP_4</td>\n",
       "      <td>0.934655</td>\n",
       "      <td>3.359376e-18</td>\n",
       "    </tr>\n",
       "    <tr>\n",
       "      <th>3</th>\n",
       "      <td>1022_S2-RIP_3</td>\n",
       "      <td>1022_S2-RIP_4</td>\n",
       "      <td>0.917315</td>\n",
       "      <td>2.251776e-16</td>\n",
       "    </tr>\n",
       "    <tr>\n",
       "      <th>6</th>\n",
       "      <td>1022_pA-RNA_1</td>\n",
       "      <td>1023_pA-RNA_2</td>\n",
       "      <td>0.924590</td>\n",
       "      <td>4.363340e-17</td>\n",
       "    </tr>\n",
       "    <tr>\n",
       "      <th>7</th>\n",
       "      <td>1168_S2-RIP_1</td>\n",
       "      <td>1168_S2-RIP_2</td>\n",
       "      <td>0.869405</td>\n",
       "      <td>6.971057e-13</td>\n",
       "    </tr>\n",
       "  </tbody>\n",
       "</table>\n",
       "</div>"
      ],
      "text/plain": [
       "         Sample1        Sample2  Correlation       P-value\n",
       "0  1022_S2-RIP_2  1022_S2-RIP_3     0.851285  6.569509e-12\n",
       "1  1022_S2-RIP_2  1022_S2-RIP_4     0.934655  3.359376e-18\n",
       "3  1022_S2-RIP_3  1022_S2-RIP_4     0.917315  2.251776e-16\n",
       "6  1022_pA-RNA_1  1023_pA-RNA_2     0.924590  4.363340e-17\n",
       "7  1168_S2-RIP_1  1168_S2-RIP_2     0.869405  6.971057e-13"
      ]
     },
     "execution_count": 77,
     "metadata": {},
     "output_type": "execute_result"
    }
   ],
   "source": [
    "high_rep_corr_df.head()"
   ]
  },
  {
   "cell_type": "code",
   "execution_count": 78,
   "metadata": {},
   "outputs": [],
   "source": [
    "high_rep_corr_df.to_csv(os.path.join(out_htc_corr, 'high_corr_reps.csv'), index=None, sep='\\t')"
   ]
  },
  {
   "cell_type": "markdown",
   "metadata": {},
   "source": [
    "- Check **low correlation scores** any `Correlation < 0.85`:"
   ]
  },
  {
   "cell_type": "code",
   "execution_count": 79,
   "metadata": {},
   "outputs": [],
   "source": [
    "# Low correlated samples\n",
    "low_rep_corr_df = rep_corr_df[rep_corr_df['Correlation'] < .85]"
   ]
  },
  {
   "cell_type": "code",
   "execution_count": 80,
   "metadata": {},
   "outputs": [
    {
     "data": {
      "text/html": [
       "<div>\n",
       "<style scoped>\n",
       "    .dataframe tbody tr th:only-of-type {\n",
       "        vertical-align: middle;\n",
       "    }\n",
       "\n",
       "    .dataframe tbody tr th {\n",
       "        vertical-align: top;\n",
       "    }\n",
       "\n",
       "    .dataframe thead th {\n",
       "        text-align: right;\n",
       "    }\n",
       "</style>\n",
       "<table border=\"1\" class=\"dataframe\">\n",
       "  <thead>\n",
       "    <tr style=\"text-align: right;\">\n",
       "      <th></th>\n",
       "      <th>Sample1</th>\n",
       "      <th>Sample2</th>\n",
       "      <th>Correlation</th>\n",
       "      <th>P-value</th>\n",
       "    </tr>\n",
       "  </thead>\n",
       "  <tbody>\n",
       "    <tr>\n",
       "      <th>36</th>\n",
       "      <td>510_total-RNA_1</td>\n",
       "      <td>510_total-RNA_2</td>\n",
       "      <td>0.459953</td>\n",
       "      <td>3.218913e-03</td>\n",
       "    </tr>\n",
       "    <tr>\n",
       "      <th>65</th>\n",
       "      <td>WT_total-RNA_1</td>\n",
       "      <td>WT_total-RNA_2</td>\n",
       "      <td>0.583771</td>\n",
       "      <td>9.575741e-05</td>\n",
       "    </tr>\n",
       "    <tr>\n",
       "      <th>41</th>\n",
       "      <td>523_S2-RIP_2</td>\n",
       "      <td>524_S2-RIP_1</td>\n",
       "      <td>0.719455</td>\n",
       "      <td>2.459475e-07</td>\n",
       "    </tr>\n",
       "    <tr>\n",
       "      <th>4</th>\n",
       "      <td>1022_S2-RIP_3</td>\n",
       "      <td>1022_S2-RIP_5</td>\n",
       "      <td>0.723603</td>\n",
       "      <td>1.941904e-07</td>\n",
       "    </tr>\n",
       "    <tr>\n",
       "      <th>2</th>\n",
       "      <td>1022_S2-RIP_2</td>\n",
       "      <td>1022_S2-RIP_5</td>\n",
       "      <td>0.745979</td>\n",
       "      <td>5.029418e-08</td>\n",
       "    </tr>\n",
       "    <tr>\n",
       "      <th>10</th>\n",
       "      <td>301_S2-RIP_1</td>\n",
       "      <td>301_S2-RIP_3</td>\n",
       "      <td>0.783698</td>\n",
       "      <td>3.648201e-09</td>\n",
       "    </tr>\n",
       "    <tr>\n",
       "      <th>39</th>\n",
       "      <td>523_S2-RIP_1</td>\n",
       "      <td>524_S2-RIP_1</td>\n",
       "      <td>0.784714</td>\n",
       "      <td>3.375341e-09</td>\n",
       "    </tr>\n",
       "    <tr>\n",
       "      <th>5</th>\n",
       "      <td>1022_S2-RIP_4</td>\n",
       "      <td>1022_S2-RIP_5</td>\n",
       "      <td>0.797564</td>\n",
       "      <td>1.216086e-09</td>\n",
       "    </tr>\n",
       "    <tr>\n",
       "      <th>44</th>\n",
       "      <td>530_S2-RIP_1</td>\n",
       "      <td>530_S2-RIP_2</td>\n",
       "      <td>0.804117</td>\n",
       "      <td>7.022865e-10</td>\n",
       "    </tr>\n",
       "    <tr>\n",
       "      <th>40</th>\n",
       "      <td>523_S2-RIP_2</td>\n",
       "      <td>523_S2-RIP_3</td>\n",
       "      <td>0.828387</td>\n",
       "      <td>7.570631e-11</td>\n",
       "    </tr>\n",
       "    <tr>\n",
       "      <th>63</th>\n",
       "      <td>WT_pA-RNA_2</td>\n",
       "      <td>WT_pA-RNA_4</td>\n",
       "      <td>0.829692</td>\n",
       "      <td>6.651693e-11</td>\n",
       "    </tr>\n",
       "    <tr>\n",
       "      <th>19</th>\n",
       "      <td>324_S2-RIP_1</td>\n",
       "      <td>324_S2-RIP_2</td>\n",
       "      <td>0.841910</td>\n",
       "      <td>1.872184e-11</td>\n",
       "    </tr>\n",
       "  </tbody>\n",
       "</table>\n",
       "</div>"
      ],
      "text/plain": [
       "            Sample1          Sample2  Correlation       P-value\n",
       "36  510_total-RNA_1  510_total-RNA_2     0.459953  3.218913e-03\n",
       "65   WT_total-RNA_1   WT_total-RNA_2     0.583771  9.575741e-05\n",
       "41     523_S2-RIP_2     524_S2-RIP_1     0.719455  2.459475e-07\n",
       "4     1022_S2-RIP_3    1022_S2-RIP_5     0.723603  1.941904e-07\n",
       "2     1022_S2-RIP_2    1022_S2-RIP_5     0.745979  5.029418e-08\n",
       "10     301_S2-RIP_1     301_S2-RIP_3     0.783698  3.648201e-09\n",
       "39     523_S2-RIP_1     524_S2-RIP_1     0.784714  3.375341e-09\n",
       "5     1022_S2-RIP_4    1022_S2-RIP_5     0.797564  1.216086e-09\n",
       "44     530_S2-RIP_1     530_S2-RIP_2     0.804117  7.022865e-10\n",
       "40     523_S2-RIP_2     523_S2-RIP_3     0.828387  7.570631e-11\n",
       "63      WT_pA-RNA_2      WT_pA-RNA_4     0.829692  6.651693e-11\n",
       "19     324_S2-RIP_1     324_S2-RIP_2     0.841910  1.872184e-11"
      ]
     },
     "execution_count": 80,
     "metadata": {},
     "output_type": "execute_result"
    }
   ],
   "source": [
    "low_rep_corr_df.sort_values(by = \"Correlation\", ascending=True)"
   ]
  },
  {
   "cell_type": "markdown",
   "metadata": {},
   "source": [
    "- Run **correlation checks**  for all **pair-wise MERGED sample combinations**:"
   ]
  },
  {
   "cell_type": "code",
   "execution_count": 81,
   "metadata": {},
   "outputs": [],
   "source": [
    "#out_labelled_corr = os.path.join(out_dir, 'labelled_CORR')\n",
    "#if not os.path.isdir(out_labelled_corr):    \n",
    "#    !mkdir -p $out_labelled_corr"
   ]
  },
  {
   "cell_type": "code",
   "execution_count": 82,
   "metadata": {},
   "outputs": [],
   "source": [
    "# Labeled scatter plots for samples\n",
    "#rpc.labeled_corr_plots(tpm_rep_df_l2, out_dir = out_labelled_corr, prefix = 'repeats.')"
   ]
  }
 ],
 "metadata": {
  "kernelspec": {
   "display_name": "Python (heterochromatin)",
   "language": "python",
   "name": "heterochromatin"
  },
  "language_info": {
   "codemirror_mode": {
    "name": "ipython",
    "version": 3
   },
   "file_extension": ".py",
   "mimetype": "text/x-python",
   "name": "python",
   "nbconvert_exporter": "python",
   "pygments_lexer": "ipython3",
   "version": "3.6.7"
  }
 },
 "nbformat": 4,
 "nbformat_minor": 4
}
