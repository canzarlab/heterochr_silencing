{
 "cells": [
  {
   "cell_type": "code",
   "execution_count": 1,
   "metadata": {},
   "outputs": [],
   "source": [
    "%load_ext autoreload\n",
    "%autoreload 2"
   ]
  },
  {
   "cell_type": "code",
   "execution_count": 2,
   "metadata": {},
   "outputs": [],
   "source": [
    "import itertools"
   ]
  },
  {
   "cell_type": "markdown",
   "metadata": {},
   "source": [
    "------------------------------"
   ]
  },
  {
   "cell_type": "markdown",
   "metadata": {},
   "source": [
    "## Config"
   ]
  },
  {
   "cell_type": "code",
   "execution_count": 3,
   "metadata": {},
   "outputs": [],
   "source": [
    "import sys"
   ]
  },
  {
   "cell_type": "code",
   "execution_count": 4,
   "metadata": {},
   "outputs": [],
   "source": [
    "project_dir = '/home/pmonteagudo/workspace/silencing_project'\n",
    "if project_dir not in sys.path: \n",
    "    sys.path.append(project_dir)\n",
    "from config_analysis import *"
   ]
  },
  {
   "cell_type": "code",
   "execution_count": 5,
   "metadata": {},
   "outputs": [],
   "source": [
    "import RepTools as rpc    \n",
    "from Util import to_log2_tpm"
   ]
  },
  {
   "cell_type": "markdown",
   "metadata": {},
   "source": [
    "<font color='red'> **Attention!** for `H3K9me2` samples It's possible to use other directories than the default (e.g. `ChIP/h3k9me2`) </font>"
   ]
  },
  {
   "cell_type": "code",
   "execution_count": 6,
   "metadata": {},
   "outputs": [],
   "source": [
    "h3k9me2_analysis=False\n",
    "#h3k9me2_analysis=True"
   ]
  },
  {
   "cell_type": "code",
   "execution_count": 7,
   "metadata": {},
   "outputs": [],
   "source": [
    "h3k9me2_dir = 'h3k9me2'  # use longest 3 mRNA genes\n",
    "h3k9me2_dir = 'strict_mean_h3k9me2'\n",
    "h3k9me2_dir = 'strict_median_h3k9me2'\n",
    "#h3k9me2_dir = 'strict_q98_h3k9me2'\n",
    "#h3k9me2_dir = 'strict_q95_h3k9me2'\n",
    "#h3k9me2_dir = 'wo_ip_subtraction_h3k9me2'"
   ]
  },
  {
   "cell_type": "markdown",
   "metadata": {},
   "source": [
    "- Result **directories**"
   ]
  },
  {
   "cell_type": "code",
   "execution_count": 8,
   "metadata": {},
   "outputs": [
    {
     "data": {
      "text/plain": [
       "'/gcm-lfs1/pablo/data/rna_silencing/results/xp_data/ChIP'"
      ]
     },
     "execution_count": 8,
     "metadata": {},
     "output_type": "execute_result"
    }
   ],
   "source": [
    "#in_dir = os.path.join(project_data_dir, 'results/xp_data/ChIP')\n",
    "in_dir = chip_dir\n",
    "if h3k9me2_analysis:\n",
    "    in_dir = os.path.join(in_dir, h3k9me2_dir)\n",
    "in_dir"
   ]
  },
  {
   "cell_type": "code",
   "execution_count": 9,
   "metadata": {},
   "outputs": [
    {
     "data": {
      "text/plain": [
       "'/gcm-lfs1/pablo/data/rna_silencing/results/xp_data/ChIP'"
      ]
     },
     "execution_count": 9,
     "metadata": {},
     "output_type": "execute_result"
    }
   ],
   "source": [
    "#out_dir = os.path.join(project_data_dir, 'results/xp_data/ChIP')\n",
    "out_dir = chip_dir\n",
    "if h3k9me2_analysis:\n",
    "    out_dir = os.path.join(out_dir, h3k9me2_dir)\n",
    "out_dir"
   ]
  },
  {
   "cell_type": "markdown",
   "metadata": {},
   "source": [
    "------"
   ]
  },
  {
   "cell_type": "markdown",
   "metadata": {},
   "source": [
    "# Process Replicates: **ChIP-seq**"
   ]
  },
  {
   "cell_type": "markdown",
   "metadata": {},
   "source": [
    "------------"
   ]
  },
  {
   "cell_type": "markdown",
   "metadata": {},
   "source": [
    "## Workflow"
   ]
  },
  {
   "cell_type": "markdown",
   "metadata": {},
   "source": [
    "- Calculate **log2(tpm + 1)** of all TPM counts of all samples.\n",
    "    - <font color='red'> (INPUT Subtraction) Take care of **Negative counts** --> **Transform to zeros** </font>\n",
    "- Get grouping of **replicate samples**.\n",
    "- Calculate **MA-plot**, **correlation-plot**, and **pearson-correlation score** for all replicate pairs.\n",
    "- Group replicates with correlation scores higher than 85%.\n",
    "- Merge replicates groups by taking the mean of TPM values.\n",
    "- Filter for **Heterochromatic** and **Protein coding** (mRNA) genes, **remove entries** from merged results:\n",
    "    - `ncRNA_gene`\n",
    "    - `pseudogene`\n",
    "    - `rRNA_gene`\n",
    "    - `snRNA_gene`\n",
    "    - `snoRNA_gene`\n",
    "    - `tRNA_gene` "
   ]
  },
  {
   "cell_type": "markdown",
   "metadata": {},
   "source": [
    "--------------------------"
   ]
  },
  {
   "cell_type": "code",
   "execution_count": 10,
   "metadata": {},
   "outputs": [],
   "source": [
    "out_ma = os.path.join(out_dir, 'MA')\n",
    "if not os.path.isdir(out_ma):    \n",
    "    !mkdir -p $out_ma"
   ]
  },
  {
   "cell_type": "code",
   "execution_count": 11,
   "metadata": {},
   "outputs": [],
   "source": [
    "out_corr = os.path.join(out_dir, 'CORR')\n",
    "if not os.path.isdir(out_corr):    \n",
    "    !mkdir -p $out_corr"
   ]
  },
  {
   "cell_type": "code",
   "execution_count": 12,
   "metadata": {},
   "outputs": [],
   "source": [
    "out_negative_genes = os.path.join(out_dir, 'negative_genes')\n",
    "if not os.path.isdir(out_negative_genes):    \n",
    "    !mkdir -p $out_negative_genes"
   ]
  },
  {
   "cell_type": "markdown",
   "metadata": {},
   "source": [
    "-------------"
   ]
  },
  {
   "cell_type": "markdown",
   "metadata": {},
   "source": [
    "- Import dataframe containing **annotation of all samples**"
   ]
  },
  {
   "cell_type": "code",
   "execution_count": 13,
   "metadata": {},
   "outputs": [
    {
     "data": {
      "text/plain": [
       "'/gcm-lfs1/pablo/data/rna_silencing/seq_data/file_annotation.csv'"
      ]
     },
     "execution_count": 13,
     "metadata": {},
     "output_type": "execute_result"
    }
   ],
   "source": [
    "#sample_annotation_file = os.path.join(project_data_dir, 'seq_data', 'sample_annotation.csv')\n",
    "sample_annotation_file = os.path.join(project_data_dir, 'seq_data', 'file_annotation.csv')\n",
    "sample_annotation_file"
   ]
  },
  {
   "cell_type": "code",
   "execution_count": 14,
   "metadata": {},
   "outputs": [],
   "source": [
    "#select_cols = ['sample_id', 'pipeline_type', 'seq_category', 'seq_type',  'mutant_id', 'mutant', 'replicate', 'batch', 'trimmed', 'halic_local_dir']\n",
    "select_cols = ['sample_id', 'pipeline_type', 'seq_category', 'seq_type',  'mutant_id', 'mutant_name', 'replicate', 'trimmed']"
   ]
  },
  {
   "cell_type": "code",
   "execution_count": 15,
   "metadata": {},
   "outputs": [],
   "source": [
    "all_samples_df = pd.read_csv(sample_annotation_file, sep=\"\\t\", usecols=select_cols)[select_cols]\n",
    "#all_samples_df = pd.read_csv(sample_annotation_file, sep=\"\\t\")\n",
    "all_samples_df.rename(columns={'mutant_name':'mutant'}, inplace=True)\n",
    "#all_samples_df.head()"
   ]
  },
  {
   "cell_type": "code",
   "execution_count": 16,
   "metadata": {},
   "outputs": [
    {
     "data": {
      "text/plain": [
       "(157, 8)"
      ]
     },
     "execution_count": 16,
     "metadata": {},
     "output_type": "execute_result"
    }
   ],
   "source": [
    "all_samples_df.shape"
   ]
  },
  {
   "cell_type": "markdown",
   "metadata": {},
   "source": [
    "- **Ignore specific samples** "
   ]
  },
  {
   "cell_type": "code",
   "execution_count": 17,
   "metadata": {},
   "outputs": [],
   "source": [
    "# ignore_datasets.append('WT_S2-ChIP_2') # try to ignore for Gene cloud plots, it seems to be a duplicate of WT_S2-ChIP_1 correlation is too close to 1\n",
    "# ignore_datasets.append('WT_S2-ChIP_1') # try to ignore for Gene cloud plots, it seems like it's not a great sample! Block-like read alignments!"
   ]
  },
  {
   "cell_type": "code",
   "execution_count": 18,
   "metadata": {},
   "outputs": [
    {
     "data": {
      "text/plain": [
       "(156, 8)"
      ]
     },
     "execution_count": 18,
     "metadata": {},
     "output_type": "execute_result"
    }
   ],
   "source": [
    "all_samples_df = all_samples_df[~all_samples_df.sample_id.isin(ignore_datasets)]\n",
    "all_samples_df.shape"
   ]
  },
  {
   "cell_type": "markdown",
   "metadata": {},
   "source": [
    "- **Ignore S2-ChIP/S5-ChIP samples** for now"
   ]
  },
  {
   "cell_type": "code",
   "execution_count": 19,
   "metadata": {},
   "outputs": [],
   "source": [
    "#all_samples_df = all_samples_df[all_samples_df['seq_type'] != 'S2-ChIP']\n",
    "#all_samples_df = all_samples_df[all_samples_df['seq_type'] != 'S5-ChIP']\n",
    "#all_samples_df.shape"
   ]
  },
  {
   "cell_type": "markdown",
   "metadata": {},
   "source": [
    "- Select **ChIP Datasets**: | S2-ChIP | S5-ChIP | H3K9me2 |"
   ]
  },
  {
   "cell_type": "code",
   "execution_count": 20,
   "metadata": {},
   "outputs": [
    {
     "data": {
      "text/html": [
       "<div>\n",
       "<style scoped>\n",
       "    .dataframe tbody tr th:only-of-type {\n",
       "        vertical-align: middle;\n",
       "    }\n",
       "\n",
       "    .dataframe tbody tr th {\n",
       "        vertical-align: top;\n",
       "    }\n",
       "\n",
       "    .dataframe thead th {\n",
       "        text-align: right;\n",
       "    }\n",
       "</style>\n",
       "<table border=\"1\" class=\"dataframe\">\n",
       "  <thead>\n",
       "    <tr style=\"text-align: right;\">\n",
       "      <th></th>\n",
       "      <th>sample_id</th>\n",
       "      <th>pipeline_type</th>\n",
       "      <th>seq_category</th>\n",
       "      <th>seq_type</th>\n",
       "      <th>mutant_id</th>\n",
       "      <th>mutant</th>\n",
       "      <th>replicate</th>\n",
       "      <th>trimmed</th>\n",
       "    </tr>\n",
       "  </thead>\n",
       "  <tbody>\n",
       "    <tr>\n",
       "      <th>2</th>\n",
       "      <td>1022_S2-ChIP_1</td>\n",
       "      <td>ChIP</td>\n",
       "      <td>S2-ChIP</td>\n",
       "      <td>S2-ChIP</td>\n",
       "      <td>1022</td>\n",
       "      <td>mot2d</td>\n",
       "      <td>1</td>\n",
       "      <td>False</td>\n",
       "    </tr>\n",
       "    <tr>\n",
       "      <th>3</th>\n",
       "      <td>1022_S2-ChIP_2</td>\n",
       "      <td>ChIP</td>\n",
       "      <td>S2-ChIP</td>\n",
       "      <td>S2-ChIP</td>\n",
       "      <td>1022</td>\n",
       "      <td>mot2d</td>\n",
       "      <td>2</td>\n",
       "      <td>False</td>\n",
       "    </tr>\n",
       "    <tr>\n",
       "      <th>11</th>\n",
       "      <td>1168_S2-ChIP_1</td>\n",
       "      <td>ChIP</td>\n",
       "      <td>S2-ChIP</td>\n",
       "      <td>S2-ChIP</td>\n",
       "      <td>1168</td>\n",
       "      <td>caf1d*ccr4d*</td>\n",
       "      <td>1</td>\n",
       "      <td>False</td>\n",
       "    </tr>\n",
       "    <tr>\n",
       "      <th>12</th>\n",
       "      <td>1168_S2-ChIP_2</td>\n",
       "      <td>ChIP</td>\n",
       "      <td>S2-ChIP</td>\n",
       "      <td>S2-ChIP</td>\n",
       "      <td>1168</td>\n",
       "      <td>caf1d*ccr4d*</td>\n",
       "      <td>2</td>\n",
       "      <td>False</td>\n",
       "    </tr>\n",
       "    <tr>\n",
       "      <th>17</th>\n",
       "      <td>301_H3K9me2_1</td>\n",
       "      <td>ChIP</td>\n",
       "      <td>H3K9me2</td>\n",
       "      <td>H3K9me2</td>\n",
       "      <td>301</td>\n",
       "      <td>swi6d</td>\n",
       "      <td>1</td>\n",
       "      <td>False</td>\n",
       "    </tr>\n",
       "  </tbody>\n",
       "</table>\n",
       "</div>"
      ],
      "text/plain": [
       "         sample_id pipeline_type seq_category seq_type mutant_id  \\\n",
       "2   1022_S2-ChIP_1          ChIP      S2-ChIP  S2-ChIP      1022   \n",
       "3   1022_S2-ChIP_2          ChIP      S2-ChIP  S2-ChIP      1022   \n",
       "11  1168_S2-ChIP_1          ChIP      S2-ChIP  S2-ChIP      1168   \n",
       "12  1168_S2-ChIP_2          ChIP      S2-ChIP  S2-ChIP      1168   \n",
       "17   301_H3K9me2_1          ChIP      H3K9me2  H3K9me2       301   \n",
       "\n",
       "          mutant  replicate  trimmed  \n",
       "2          mot2d          1    False  \n",
       "3          mot2d          2    False  \n",
       "11  caf1d*ccr4d*          1    False  \n",
       "12  caf1d*ccr4d*          2    False  \n",
       "17         swi6d          1    False  "
      ]
     },
     "execution_count": 20,
     "metadata": {},
     "output_type": "execute_result"
    }
   ],
   "source": [
    "all_samples_df = all_samples_df[all_samples_df['pipeline_type'] == 'ChIP']\n",
    "\n",
    "# distinguish between ChIP and INPUT samples\n",
    "#input_types = ['S2-ChIP-OIN', 'S2-ChIP-INPUT', 'simulated-data', 'H3K9me2']\n",
    "input_types = ['S2-ChIP-OIN', 'S2-ChIP-INPUT', 'simulated-data']\n",
    "\n",
    "# filter-out INPUT samples\n",
    "datasets_df = all_samples_df[~all_samples_df['seq_type'].isin(input_types)]\n",
    "datasets_df.head()"
   ]
  },
  {
   "cell_type": "code",
   "execution_count": 21,
   "metadata": {},
   "outputs": [
    {
     "data": {
      "text/plain": [
       "(42, 8)"
      ]
     },
     "execution_count": 21,
     "metadata": {},
     "output_type": "execute_result"
    }
   ],
   "source": [
    "datasets_df.shape"
   ]
  },
  {
   "cell_type": "markdown",
   "metadata": {},
   "source": [
    "- Get `samples` **columns**"
   ]
  },
  {
   "cell_type": "code",
   "execution_count": 22,
   "metadata": {},
   "outputs": [
    {
     "data": {
      "text/plain": [
       "42"
      ]
     },
     "execution_count": 22,
     "metadata": {},
     "output_type": "execute_result"
    }
   ],
   "source": [
    "sample_cols = datasets_df['sample_id'].tolist()\n",
    "len(sample_cols)\n",
    "#sample_cols"
   ]
  },
  {
   "cell_type": "markdown",
   "metadata": {},
   "source": [
    "-------------"
   ]
  },
  {
   "cell_type": "markdown",
   "metadata": {},
   "source": [
    "# **1.** Load raw and TPM-normalized gene expression tables"
   ]
  },
  {
   "cell_type": "markdown",
   "metadata": {},
   "source": [
    "-------------"
   ]
  },
  {
   "cell_type": "markdown",
   "metadata": {},
   "source": [
    "- Import **ChIP** (raw) **gene counts Matrix**: `chip_pombe_gene_count_matrix.csv`"
   ]
  },
  {
   "cell_type": "code",
   "execution_count": 23,
   "metadata": {},
   "outputs": [
    {
     "data": {
      "text/plain": [
       "'/gcm-lfs1/pablo/data/rna_silencing/results/xp_data/ChIP/chip_pombe_gene_count_matrix.csv'"
      ]
     },
     "execution_count": 23,
     "metadata": {},
     "output_type": "execute_result"
    }
   ],
   "source": [
    "gx_df_file = os.path.join(in_dir, 'chip_pombe_gene_count_matrix.csv')\n",
    "gx_df_file"
   ]
  },
  {
   "cell_type": "code",
   "execution_count": 24,
   "metadata": {},
   "outputs": [],
   "source": [
    "#gx_df = pd.read_csv(gx_df_file, sep='\\t', comment='#')\n",
    "#gx_df.head()"
   ]
  },
  {
   "cell_type": "code",
   "execution_count": 25,
   "metadata": {},
   "outputs": [],
   "source": [
    "#gx_df.shape"
   ]
  },
  {
   "cell_type": "markdown",
   "metadata": {},
   "source": [
    "- Import **ChIP** (TPM-normed) **gene expression Matrix**: `chip_pombe_tpm_matrix.csv`"
   ]
  },
  {
   "cell_type": "code",
   "execution_count": 26,
   "metadata": {},
   "outputs": [
    {
     "data": {
      "text/plain": [
       "'/gcm-lfs1/pablo/data/rna_silencing/results/xp_data/ChIP/chip_pombe_tpm_matrix.csv'"
      ]
     },
     "execution_count": 26,
     "metadata": {},
     "output_type": "execute_result"
    }
   ],
   "source": [
    "#tpm_df_file = '/gcm-lfs1/pablo/data/rna_silencing/results_with_nh-norm/xp_data/ChIP/chip_pombe_tpm_matrix.csv'\n",
    "tpm_df_file = os.path.join(in_dir, 'chip_pombe_tpm_matrix.csv') # with all genes\n",
    "tpm_df_file"
   ]
  },
  {
   "cell_type": "code",
   "execution_count": 27,
   "metadata": {},
   "outputs": [
    {
     "data": {
      "text/html": [
       "<div>\n",
       "<style scoped>\n",
       "    .dataframe tbody tr th:only-of-type {\n",
       "        vertical-align: middle;\n",
       "    }\n",
       "\n",
       "    .dataframe tbody tr th {\n",
       "        vertical-align: top;\n",
       "    }\n",
       "\n",
       "    .dataframe thead th {\n",
       "        text-align: right;\n",
       "    }\n",
       "</style>\n",
       "<table border=\"1\" class=\"dataframe\">\n",
       "  <thead>\n",
       "    <tr style=\"text-align: right;\">\n",
       "      <th></th>\n",
       "      <th>gene_id</th>\n",
       "      <th>seqid</th>\n",
       "      <th>type</th>\n",
       "      <th>start</th>\n",
       "      <th>end</th>\n",
       "      <th>strand</th>\n",
       "      <th>gene_name</th>\n",
       "      <th>cds_length</th>\n",
       "      <th>utr_length</th>\n",
       "      <th>intron_length</th>\n",
       "      <th>...</th>\n",
       "      <th>638_S2-ChIP_2</th>\n",
       "      <th>80_S2-ChIP_1</th>\n",
       "      <th>80_S2-ChIP_2</th>\n",
       "      <th>80_S2-ChIP_3</th>\n",
       "      <th>80_S5-ChIP_1</th>\n",
       "      <th>80_S5-ChIP_2</th>\n",
       "      <th>WT_S2-ChIP_1</th>\n",
       "      <th>WT_S2-ChIP_3</th>\n",
       "      <th>WT_S5-ChIP_1</th>\n",
       "      <th>WT_S5-ChIP_2</th>\n",
       "    </tr>\n",
       "  </thead>\n",
       "  <tbody>\n",
       "    <tr>\n",
       "      <th>0</th>\n",
       "      <td>FP565355_region_1..2120</td>\n",
       "      <td>mating_type_region</td>\n",
       "      <td>region</td>\n",
       "      <td>1</td>\n",
       "      <td>2120</td>\n",
       "      <td>+</td>\n",
       "      <td>NaN</td>\n",
       "      <td>NaN</td>\n",
       "      <td>NaN</td>\n",
       "      <td>NaN</td>\n",
       "      <td>...</td>\n",
       "      <td>25.655295</td>\n",
       "      <td>41.523328</td>\n",
       "      <td>7.936841</td>\n",
       "      <td>11.483831</td>\n",
       "      <td>13.021492</td>\n",
       "      <td>21.544192</td>\n",
       "      <td>66.004963</td>\n",
       "      <td>40.947970</td>\n",
       "      <td>23.136412</td>\n",
       "      <td>5.636927</td>\n",
       "    </tr>\n",
       "    <tr>\n",
       "      <th>1</th>\n",
       "      <td>FP565355_region_15417..15473</td>\n",
       "      <td>mating_type_region</td>\n",
       "      <td>region</td>\n",
       "      <td>15417</td>\n",
       "      <td>15473</td>\n",
       "      <td>+</td>\n",
       "      <td>NaN</td>\n",
       "      <td>NaN</td>\n",
       "      <td>NaN</td>\n",
       "      <td>NaN</td>\n",
       "      <td>...</td>\n",
       "      <td>NaN</td>\n",
       "      <td>NaN</td>\n",
       "      <td>NaN</td>\n",
       "      <td>NaN</td>\n",
       "      <td>NaN</td>\n",
       "      <td>NaN</td>\n",
       "      <td>371.637325</td>\n",
       "      <td>42.548842</td>\n",
       "      <td>NaN</td>\n",
       "      <td>NaN</td>\n",
       "    </tr>\n",
       "    <tr>\n",
       "      <th>2</th>\n",
       "      <td>FP565355_region_15474..15608</td>\n",
       "      <td>mating_type_region</td>\n",
       "      <td>region</td>\n",
       "      <td>15474</td>\n",
       "      <td>15608</td>\n",
       "      <td>+</td>\n",
       "      <td>NaN</td>\n",
       "      <td>NaN</td>\n",
       "      <td>NaN</td>\n",
       "      <td>NaN</td>\n",
       "      <td>...</td>\n",
       "      <td>90.024180</td>\n",
       "      <td>60.192701</td>\n",
       "      <td>0.000000</td>\n",
       "      <td>39.503547</td>\n",
       "      <td>21.339404</td>\n",
       "      <td>49.459400</td>\n",
       "      <td>45.515078</td>\n",
       "      <td>60.914110</td>\n",
       "      <td>67.196362</td>\n",
       "      <td>43.735495</td>\n",
       "    </tr>\n",
       "    <tr>\n",
       "      <th>3</th>\n",
       "      <td>FP565355_region_15609..16735</td>\n",
       "      <td>mating_type_region</td>\n",
       "      <td>region</td>\n",
       "      <td>15609</td>\n",
       "      <td>16735</td>\n",
       "      <td>+</td>\n",
       "      <td>NaN</td>\n",
       "      <td>NaN</td>\n",
       "      <td>NaN</td>\n",
       "      <td>NaN</td>\n",
       "      <td>...</td>\n",
       "      <td>37.160607</td>\n",
       "      <td>61.052081</td>\n",
       "      <td>39.888992</td>\n",
       "      <td>32.052439</td>\n",
       "      <td>42.637502</td>\n",
       "      <td>61.665463</td>\n",
       "      <td>72.944537</td>\n",
       "      <td>52.329550</td>\n",
       "      <td>45.728274</td>\n",
       "      <td>0.000000</td>\n",
       "    </tr>\n",
       "    <tr>\n",
       "      <th>4</th>\n",
       "      <td>FP565355_region_16736..16794</td>\n",
       "      <td>mating_type_region</td>\n",
       "      <td>region</td>\n",
       "      <td>16736</td>\n",
       "      <td>16794</td>\n",
       "      <td>+</td>\n",
       "      <td>NaN</td>\n",
       "      <td>NaN</td>\n",
       "      <td>NaN</td>\n",
       "      <td>NaN</td>\n",
       "      <td>...</td>\n",
       "      <td>156.233253</td>\n",
       "      <td>119.459360</td>\n",
       "      <td>34.907401</td>\n",
       "      <td>117.350779</td>\n",
       "      <td>101.019563</td>\n",
       "      <td>174.010572</td>\n",
       "      <td>NaN</td>\n",
       "      <td>102.117222</td>\n",
       "      <td>382.549419</td>\n",
       "      <td>78.852255</td>\n",
       "    </tr>\n",
       "  </tbody>\n",
       "</table>\n",
       "<p>5 rows × 46 columns</p>\n",
       "</div>"
      ],
      "text/plain": [
       "                        gene_id               seqid    type  start    end  \\\n",
       "0       FP565355_region_1..2120  mating_type_region  region      1   2120   \n",
       "1  FP565355_region_15417..15473  mating_type_region  region  15417  15473   \n",
       "2  FP565355_region_15474..15608  mating_type_region  region  15474  15608   \n",
       "3  FP565355_region_15609..16735  mating_type_region  region  15609  16735   \n",
       "4  FP565355_region_16736..16794  mating_type_region  region  16736  16794   \n",
       "\n",
       "  strand gene_name  cds_length  utr_length  intron_length  ...  638_S2-ChIP_2  \\\n",
       "0      +       NaN         NaN         NaN            NaN  ...      25.655295   \n",
       "1      +       NaN         NaN         NaN            NaN  ...            NaN   \n",
       "2      +       NaN         NaN         NaN            NaN  ...      90.024180   \n",
       "3      +       NaN         NaN         NaN            NaN  ...      37.160607   \n",
       "4      +       NaN         NaN         NaN            NaN  ...     156.233253   \n",
       "\n",
       "  80_S2-ChIP_1 80_S2-ChIP_2  80_S2-ChIP_3  80_S5-ChIP_1  80_S5-ChIP_2  \\\n",
       "0    41.523328     7.936841     11.483831     13.021492     21.544192   \n",
       "1          NaN          NaN           NaN           NaN           NaN   \n",
       "2    60.192701     0.000000     39.503547     21.339404     49.459400   \n",
       "3    61.052081    39.888992     32.052439     42.637502     61.665463   \n",
       "4   119.459360    34.907401    117.350779    101.019563    174.010572   \n",
       "\n",
       "   WT_S2-ChIP_1  WT_S2-ChIP_3  WT_S5-ChIP_1  WT_S5-ChIP_2  \n",
       "0     66.004963     40.947970     23.136412      5.636927  \n",
       "1    371.637325     42.548842           NaN           NaN  \n",
       "2     45.515078     60.914110     67.196362     43.735495  \n",
       "3     72.944537     52.329550     45.728274      0.000000  \n",
       "4           NaN    102.117222    382.549419     78.852255  \n",
       "\n",
       "[5 rows x 46 columns]"
      ]
     },
     "execution_count": 27,
     "metadata": {},
     "output_type": "execute_result"
    }
   ],
   "source": [
    "#tpm_df = pd.read_csv(gx_df_file, sep='\\t', comment='#') \n",
    "tpm_df = pd.read_csv(tpm_df_file, sep='\\t', comment='#') # NAs here represent zeros counts, but there AREN'T any\n",
    "                                                         # => every 'gene' contains at least some noise (which has been subtracted, Negative counts)\n",
    "# ignore specific samples\n",
    "tpm_df = tpm_df.loc[:, ~tpm_df.columns.isin(ignore_datasets)]\n",
    "tpm_df.head()   # with NH-norm: 77.15 (638_S2-ChIP_2)\n",
    "                # w/o NH-norm: 31.11 (638_S2-ChIP_2) / 296.21 (301_H3K9me2_1)"
   ]
  },
  {
   "cell_type": "code",
   "execution_count": 28,
   "metadata": {},
   "outputs": [
    {
     "data": {
      "text/plain": [
       "(7021, 46)"
      ]
     },
     "execution_count": 28,
     "metadata": {},
     "output_type": "execute_result"
    }
   ],
   "source": [
    "tpm_df.shape"
   ]
  },
  {
   "cell_type": "code",
   "execution_count": 29,
   "metadata": {},
   "outputs": [],
   "source": [
    "# tpm_df = tpm_df[~tpm_df['gene_id'].str.contains('centromer')]\n",
    "# #tpm_df[tpm_df['gene_id'].str.contains('centromer')]"
   ]
  },
  {
   "cell_type": "code",
   "execution_count": 30,
   "metadata": {},
   "outputs": [],
   "source": [
    "# # check genes from specific regions in TE of wt scatterplot\n",
    "# regions_df = tpm_df[tpm_df['gene_id'].isin(['SPCC1494.11c','SPCC1183.10'])]\n",
    "# regions_df.loc[:, regions_df.columns.str.contains('gene|WT_S2')]"
   ]
  },
  {
   "cell_type": "code",
   "execution_count": 31,
   "metadata": {},
   "outputs": [],
   "source": [
    "# check if bam was filtered correctly\n",
    "#tpm_df[tpm_df['gene_id'].str.contains('SPRRNA', na=False)]\n",
    "# residual reads because some rRNA features overlap with other genomic features\n",
    "#tpm_df[tpm_df['gene_id'].str.contains('SPRRNA.07|SPRRNA.15|SPRRNA.29|SPRRNA.35', na=False)]"
   ]
  },
  {
   "cell_type": "code",
   "execution_count": 32,
   "metadata": {},
   "outputs": [],
   "source": [
    "#tpm_df[tpm_df['gene_id'].str.contains('dg|dh')]"
   ]
  },
  {
   "cell_type": "code",
   "execution_count": 33,
   "metadata": {},
   "outputs": [],
   "source": [
    "#tpm_df[tpm_df['gene_id'].isin(non_degraded)][[xx for xx in tpm_df.columns if ('80' in xx) | (xx == 'gene_id')]]"
   ]
  },
  {
   "cell_type": "markdown",
   "metadata": {},
   "source": [
    "- Update `samples` **columns** for samples present in `tpm_df`"
   ]
  },
  {
   "cell_type": "code",
   "execution_count": 34,
   "metadata": {},
   "outputs": [
    {
     "data": {
      "text/plain": [
       "33"
      ]
     },
     "execution_count": 34,
     "metadata": {},
     "output_type": "execute_result"
    }
   ],
   "source": [
    "sample_cols = tpm_df.columns.intersection(sample_cols).tolist()\n",
    "len(sample_cols)\n",
    "#sample_cols"
   ]
  },
  {
   "cell_type": "markdown",
   "metadata": {},
   "source": [
    "- Check **TPM normalization** for each sample expression should add to $10^6$"
   ]
  },
  {
   "cell_type": "code",
   "execution_count": 35,
   "metadata": {},
   "outputs": [],
   "source": [
    "#tpm_df[sample_cols].describe()\n",
    "assert all(np.isclose(tpm_df[sample_cols].sum(), 10**6)) "
   ]
  },
  {
   "cell_type": "markdown",
   "metadata": {},
   "source": [
    "-------------"
   ]
  },
  {
   "cell_type": "markdown",
   "metadata": {},
   "source": [
    "### Remove <font color='red'> Negative Counts due to INPUT subtraction </font>"
   ]
  },
  {
   "cell_type": "markdown",
   "metadata": {},
   "source": [
    "* Check how many genes are negative per sample - determine **\"bad\" samples**"
   ]
  },
  {
   "cell_type": "code",
   "execution_count": 36,
   "metadata": {},
   "outputs": [
    {
     "data": {
      "text/plain": [
       "[]"
      ]
     },
     "execution_count": 36,
     "metadata": {},
     "output_type": "execute_result"
    }
   ],
   "source": [
    "# samples where >5k genes are negative are considered bad!\n",
    "#exclude_samples = (tpm_df[sample_cols] < 0).sum()\n",
    "exclude_samples = (tpm_df[sample_cols] < 0).sum() > (5 * 10 ** 3)\n",
    "exclude_samples = exclude_samples[exclude_samples].index.tolist()\n",
    "exclude_samples"
   ]
  },
  {
   "cell_type": "code",
   "execution_count": 37,
   "metadata": {},
   "outputs": [],
   "source": [
    "# exclude_samples = []\n",
    "# #exclude_samples = ['638_H3K9me2_1']\n",
    "# exclude_samples"
   ]
  },
  {
   "cell_type": "code",
   "execution_count": 38,
   "metadata": {},
   "outputs": [],
   "source": [
    "if len(exclude_samples) > 0:\n",
    "    # analysis cam proced, but be aware of the issue! some samples will be excluded\n",
    "    #raise ValueError\n",
    "    print(\"raise ValueError\") "
   ]
  },
  {
   "cell_type": "code",
   "execution_count": 39,
   "metadata": {},
   "outputs": [
    {
     "data": {
      "text/plain": [
       "33"
      ]
     },
     "execution_count": 39,
     "metadata": {},
     "output_type": "execute_result"
    }
   ],
   "source": [
    "sample_cols = [ss for ss in sample_cols if not (ss in exclude_samples)]\n",
    "len(sample_cols)\n",
    "#sample_cols"
   ]
  },
  {
   "cell_type": "markdown",
   "metadata": {},
   "source": [
    "- Inspect **Negative Genes**, genes that are negative at least once across all samples"
   ]
  },
  {
   "cell_type": "code",
   "execution_count": 40,
   "metadata": {},
   "outputs": [],
   "source": [
    "tpm_df = tpm_df.drop(exclude_samples, axis=1)\n",
    "# are bad!\n",
    "negative_genes_df = tpm_df[(tpm_df[sample_cols] < 0).any(axis=1)]"
   ]
  },
  {
   "cell_type": "markdown",
   "metadata": {},
   "source": [
    "<font color='red'> **Attention!** if no negatives genes appear here, be suspicious that there was no INPUT subtraction! </font>"
   ]
  },
  {
   "cell_type": "code",
   "execution_count": 41,
   "metadata": {},
   "outputs": [
    {
     "data": {
      "text/html": [
       "<div>\n",
       "<style scoped>\n",
       "    .dataframe tbody tr th:only-of-type {\n",
       "        vertical-align: middle;\n",
       "    }\n",
       "\n",
       "    .dataframe tbody tr th {\n",
       "        vertical-align: top;\n",
       "    }\n",
       "\n",
       "    .dataframe thead th {\n",
       "        text-align: right;\n",
       "    }\n",
       "</style>\n",
       "<table border=\"1\" class=\"dataframe\">\n",
       "  <thead>\n",
       "    <tr style=\"text-align: right;\">\n",
       "      <th></th>\n",
       "      <th></th>\n",
       "      <th></th>\n",
       "      <th>gene_id</th>\n",
       "    </tr>\n",
       "    <tr>\n",
       "      <th>seqid</th>\n",
       "      <th>category</th>\n",
       "      <th>bio_type</th>\n",
       "      <th></th>\n",
       "    </tr>\n",
       "  </thead>\n",
       "  <tbody>\n",
       "  </tbody>\n",
       "</table>\n",
       "</div>"
      ],
      "text/plain": [
       "Empty DataFrame\n",
       "Columns: [gene_id]\n",
       "Index: []"
      ]
     },
     "execution_count": 41,
     "metadata": {},
     "output_type": "execute_result"
    }
   ],
   "source": [
    "#negative_genes_df[['gene_id', 'type', 'seqid', 'bio_type' ]].groupby(['seqid', 'type', 'bio_type']).count()\n",
    "negative_genes_df[['gene_id', 'category', 'seqid', 'bio_type' ]].groupby(['seqid', 'category', 'bio_type']).count()"
   ]
  },
  {
   "cell_type": "markdown",
   "metadata": {},
   "source": [
    "- Check **Negative genes** for **repeat features**"
   ]
  },
  {
   "cell_type": "code",
   "execution_count": 42,
   "metadata": {},
   "outputs": [
    {
     "data": {
      "text/html": [
       "<div>\n",
       "<style scoped>\n",
       "    .dataframe tbody tr th:only-of-type {\n",
       "        vertical-align: middle;\n",
       "    }\n",
       "\n",
       "    .dataframe tbody tr th {\n",
       "        vertical-align: top;\n",
       "    }\n",
       "\n",
       "    .dataframe thead th {\n",
       "        text-align: right;\n",
       "    }\n",
       "</style>\n",
       "<table border=\"1\" class=\"dataframe\">\n",
       "  <thead>\n",
       "    <tr style=\"text-align: right;\">\n",
       "      <th></th>\n",
       "      <th>gene_id</th>\n",
       "      <th>seqid</th>\n",
       "      <th>type</th>\n",
       "      <th>start</th>\n",
       "      <th>end</th>\n",
       "      <th>strand</th>\n",
       "      <th>gene_name</th>\n",
       "      <th>cds_length</th>\n",
       "      <th>utr_length</th>\n",
       "      <th>intron_length</th>\n",
       "      <th>...</th>\n",
       "      <th>638_S2-ChIP_2</th>\n",
       "      <th>80_S2-ChIP_1</th>\n",
       "      <th>80_S2-ChIP_2</th>\n",
       "      <th>80_S2-ChIP_3</th>\n",
       "      <th>80_S5-ChIP_1</th>\n",
       "      <th>80_S5-ChIP_2</th>\n",
       "      <th>WT_S2-ChIP_1</th>\n",
       "      <th>WT_S2-ChIP_3</th>\n",
       "      <th>WT_S5-ChIP_1</th>\n",
       "      <th>WT_S5-ChIP_2</th>\n",
       "    </tr>\n",
       "  </thead>\n",
       "  <tbody>\n",
       "  </tbody>\n",
       "</table>\n",
       "<p>0 rows × 46 columns</p>\n",
       "</div>"
      ],
      "text/plain": [
       "Empty DataFrame\n",
       "Columns: [gene_id, seqid, type, start, end, strand, gene_name, cds_length, utr_length, intron_length, gene_length, category, bio_type, 1022_S2-ChIP_1, 1022_S2-ChIP_2, 1168_S2-ChIP_1, 1168_S2-ChIP_2, 301_S2-ChIP_1, 301_S2-ChIP_2, 302_S2-ChIP_1, 302_S2-ChIP_2, 324_S2-ChIP_1, 324_S2-ChIP_2, 491_S2-ChIP_1, 491_S2-ChIP_2, 504_S2-ChIP_1, 504_S2-ChIP_2, 510_S2-ChIP_2, 523_S2-ChIP_1, 524_S2-ChIP_1, 530_S2-ChIP_1, 530_S2-ChIP_2, 544_S2-ChIP_1, 544_S2-ChIP_2, 591_S2-ChIP_1, 638_S2-ChIP_1, 638_S2-ChIP_2, 80_S2-ChIP_1, 80_S2-ChIP_2, 80_S2-ChIP_3, 80_S5-ChIP_1, 80_S5-ChIP_2, WT_S2-ChIP_1, WT_S2-ChIP_3, WT_S5-ChIP_1, WT_S5-ChIP_2]\n",
       "Index: []\n",
       "\n",
       "[0 rows x 46 columns]"
      ]
     },
     "execution_count": 42,
     "metadata": {},
     "output_type": "execute_result"
    }
   ],
   "source": [
    "negative_htc = negative_genes_df[negative_genes_df['category'] == 'repeat']\n",
    "negative_htc"
   ]
  },
  {
   "cell_type": "markdown",
   "metadata": {},
   "source": [
    "- Check **Negative genes** per **sample**"
   ]
  },
  {
   "cell_type": "code",
   "execution_count": 43,
   "metadata": {},
   "outputs": [],
   "source": [
    "negative_genes_sample_df = negative_genes_df[negative_genes_df[sample_cols] < 0][sample_cols].melt().dropna()\n",
    "negative_genes_sample_df['mutant'] = negative_genes_sample_df['variable'].apply(lambda x: x.split('_')[0])\n",
    "negative_genes_sample_df['replicate'] = negative_genes_sample_df['variable'].apply(lambda x: x.split('_')[-1])"
   ]
  },
  {
   "cell_type": "code",
   "execution_count": 44,
   "metadata": {},
   "outputs": [],
   "source": [
    "#negative_genes_sample_df"
   ]
  },
  {
   "cell_type": "code",
   "execution_count": 45,
   "metadata": {},
   "outputs": [],
   "source": [
    "#negative_genes_sample_df[['gene_id', 'type', 'seqid', 'bio_type' ]].groupby(['seqid', 'type', 'bio_type']).count()\n",
    "#negative_genes_sample_df.groupby('variable').mean()"
   ]
  },
  {
   "cell_type": "code",
   "execution_count": 46,
   "metadata": {},
   "outputs": [],
   "source": [
    "import seaborn as sns"
   ]
  },
  {
   "cell_type": "code",
   "execution_count": 47,
   "metadata": {},
   "outputs": [],
   "source": [
    "import matplotlib.pyplot as plt"
   ]
  },
  {
   "cell_type": "code",
   "execution_count": 48,
   "metadata": {},
   "outputs": [],
   "source": [
    "#g = sns.FacetGrid(negative_genes_sample_df, row=\"mutant\", col=\"replicate\")\n",
    "##g = g.map(plt.hist, \"value\", bins=100)\n",
    "#g = g.map(sns.kdeplot, \"value\")"
   ]
  },
  {
   "cell_type": "code",
   "execution_count": 49,
   "metadata": {},
   "outputs": [],
   "source": [
    "for mutant_id in negative_genes_sample_df['mutant'].unique():\n",
    "    \n",
    "    gg = negative_genes_sample_df[negative_genes_sample_df['mutant'] == mutant_id]\n",
    "    g = sns.FacetGrid(gg, row = \"mutant\", col = \"replicate\")\n",
    "    #g = g.map(plt.hist, \"value\", bins=100)\n",
    "    g = g.map(sns.kdeplot, \"value\")\n",
    "    \n",
    "    negative_genes_fig = os.path.join(out_negative_genes, mutant_id + '.pdf')\n",
    "    g.savefig(negative_genes_fig)"
   ]
  },
  {
   "cell_type": "markdown",
   "metadata": {},
   "source": [
    "- Convert **Negative Genes** to 0 counts"
   ]
  },
  {
   "cell_type": "code",
   "execution_count": 50,
   "metadata": {},
   "outputs": [],
   "source": [
    "def make_positive(col):\n",
    "    # don't turn to zero but some small value.\n",
    "    #col[col < 0] = 0.01\n",
    "    #col[col < 0] = np.nan\n",
    "    col[col < 0] = 0 # shouldn't be an issue due to default shift=1 in `log2_tpm_df`\n",
    "\n",
    "    return col"
   ]
  },
  {
   "cell_type": "code",
   "execution_count": 51,
   "metadata": {},
   "outputs": [
    {
     "data": {
      "text/html": [
       "<div>\n",
       "<style scoped>\n",
       "    .dataframe tbody tr th:only-of-type {\n",
       "        vertical-align: middle;\n",
       "    }\n",
       "\n",
       "    .dataframe tbody tr th {\n",
       "        vertical-align: top;\n",
       "    }\n",
       "\n",
       "    .dataframe thead th {\n",
       "        text-align: right;\n",
       "    }\n",
       "</style>\n",
       "<table border=\"1\" class=\"dataframe\">\n",
       "  <thead>\n",
       "    <tr style=\"text-align: right;\">\n",
       "      <th></th>\n",
       "      <th>gene_id</th>\n",
       "      <th>seqid</th>\n",
       "      <th>type</th>\n",
       "      <th>start</th>\n",
       "      <th>end</th>\n",
       "      <th>strand</th>\n",
       "      <th>gene_name</th>\n",
       "      <th>cds_length</th>\n",
       "      <th>utr_length</th>\n",
       "      <th>intron_length</th>\n",
       "      <th>...</th>\n",
       "      <th>638_S2-ChIP_2</th>\n",
       "      <th>80_S2-ChIP_1</th>\n",
       "      <th>80_S2-ChIP_2</th>\n",
       "      <th>80_S2-ChIP_3</th>\n",
       "      <th>80_S5-ChIP_1</th>\n",
       "      <th>80_S5-ChIP_2</th>\n",
       "      <th>WT_S2-ChIP_1</th>\n",
       "      <th>WT_S2-ChIP_3</th>\n",
       "      <th>WT_S5-ChIP_1</th>\n",
       "      <th>WT_S5-ChIP_2</th>\n",
       "    </tr>\n",
       "  </thead>\n",
       "  <tbody>\n",
       "    <tr>\n",
       "      <th>0</th>\n",
       "      <td>FP565355_region_1..2120</td>\n",
       "      <td>mating_type_region</td>\n",
       "      <td>region</td>\n",
       "      <td>1</td>\n",
       "      <td>2120</td>\n",
       "      <td>+</td>\n",
       "      <td>NaN</td>\n",
       "      <td>NaN</td>\n",
       "      <td>NaN</td>\n",
       "      <td>NaN</td>\n",
       "      <td>...</td>\n",
       "      <td>25.655295</td>\n",
       "      <td>41.523328</td>\n",
       "      <td>7.936841</td>\n",
       "      <td>11.483831</td>\n",
       "      <td>13.021492</td>\n",
       "      <td>21.544192</td>\n",
       "      <td>66.004963</td>\n",
       "      <td>40.947970</td>\n",
       "      <td>23.136412</td>\n",
       "      <td>5.636927</td>\n",
       "    </tr>\n",
       "    <tr>\n",
       "      <th>1</th>\n",
       "      <td>FP565355_region_15417..15473</td>\n",
       "      <td>mating_type_region</td>\n",
       "      <td>region</td>\n",
       "      <td>15417</td>\n",
       "      <td>15473</td>\n",
       "      <td>+</td>\n",
       "      <td>NaN</td>\n",
       "      <td>NaN</td>\n",
       "      <td>NaN</td>\n",
       "      <td>NaN</td>\n",
       "      <td>...</td>\n",
       "      <td>NaN</td>\n",
       "      <td>NaN</td>\n",
       "      <td>NaN</td>\n",
       "      <td>NaN</td>\n",
       "      <td>NaN</td>\n",
       "      <td>NaN</td>\n",
       "      <td>371.637325</td>\n",
       "      <td>42.548842</td>\n",
       "      <td>NaN</td>\n",
       "      <td>NaN</td>\n",
       "    </tr>\n",
       "    <tr>\n",
       "      <th>2</th>\n",
       "      <td>FP565355_region_15474..15608</td>\n",
       "      <td>mating_type_region</td>\n",
       "      <td>region</td>\n",
       "      <td>15474</td>\n",
       "      <td>15608</td>\n",
       "      <td>+</td>\n",
       "      <td>NaN</td>\n",
       "      <td>NaN</td>\n",
       "      <td>NaN</td>\n",
       "      <td>NaN</td>\n",
       "      <td>...</td>\n",
       "      <td>90.024180</td>\n",
       "      <td>60.192701</td>\n",
       "      <td>0.000000</td>\n",
       "      <td>39.503547</td>\n",
       "      <td>21.339404</td>\n",
       "      <td>49.459400</td>\n",
       "      <td>45.515078</td>\n",
       "      <td>60.914110</td>\n",
       "      <td>67.196362</td>\n",
       "      <td>43.735495</td>\n",
       "    </tr>\n",
       "    <tr>\n",
       "      <th>3</th>\n",
       "      <td>FP565355_region_15609..16735</td>\n",
       "      <td>mating_type_region</td>\n",
       "      <td>region</td>\n",
       "      <td>15609</td>\n",
       "      <td>16735</td>\n",
       "      <td>+</td>\n",
       "      <td>NaN</td>\n",
       "      <td>NaN</td>\n",
       "      <td>NaN</td>\n",
       "      <td>NaN</td>\n",
       "      <td>...</td>\n",
       "      <td>37.160607</td>\n",
       "      <td>61.052081</td>\n",
       "      <td>39.888992</td>\n",
       "      <td>32.052439</td>\n",
       "      <td>42.637502</td>\n",
       "      <td>61.665463</td>\n",
       "      <td>72.944537</td>\n",
       "      <td>52.329550</td>\n",
       "      <td>45.728274</td>\n",
       "      <td>0.000000</td>\n",
       "    </tr>\n",
       "    <tr>\n",
       "      <th>4</th>\n",
       "      <td>FP565355_region_16736..16794</td>\n",
       "      <td>mating_type_region</td>\n",
       "      <td>region</td>\n",
       "      <td>16736</td>\n",
       "      <td>16794</td>\n",
       "      <td>+</td>\n",
       "      <td>NaN</td>\n",
       "      <td>NaN</td>\n",
       "      <td>NaN</td>\n",
       "      <td>NaN</td>\n",
       "      <td>...</td>\n",
       "      <td>156.233253</td>\n",
       "      <td>119.459360</td>\n",
       "      <td>34.907401</td>\n",
       "      <td>117.350779</td>\n",
       "      <td>101.019563</td>\n",
       "      <td>174.010572</td>\n",
       "      <td>NaN</td>\n",
       "      <td>102.117222</td>\n",
       "      <td>382.549419</td>\n",
       "      <td>78.852255</td>\n",
       "    </tr>\n",
       "  </tbody>\n",
       "</table>\n",
       "<p>5 rows × 46 columns</p>\n",
       "</div>"
      ],
      "text/plain": [
       "                        gene_id               seqid    type  start    end  \\\n",
       "0       FP565355_region_1..2120  mating_type_region  region      1   2120   \n",
       "1  FP565355_region_15417..15473  mating_type_region  region  15417  15473   \n",
       "2  FP565355_region_15474..15608  mating_type_region  region  15474  15608   \n",
       "3  FP565355_region_15609..16735  mating_type_region  region  15609  16735   \n",
       "4  FP565355_region_16736..16794  mating_type_region  region  16736  16794   \n",
       "\n",
       "  strand gene_name  cds_length  utr_length  intron_length  ...  638_S2-ChIP_2  \\\n",
       "0      +       NaN         NaN         NaN            NaN  ...      25.655295   \n",
       "1      +       NaN         NaN         NaN            NaN  ...            NaN   \n",
       "2      +       NaN         NaN         NaN            NaN  ...      90.024180   \n",
       "3      +       NaN         NaN         NaN            NaN  ...      37.160607   \n",
       "4      +       NaN         NaN         NaN            NaN  ...     156.233253   \n",
       "\n",
       "  80_S2-ChIP_1 80_S2-ChIP_2  80_S2-ChIP_3  80_S5-ChIP_1  80_S5-ChIP_2  \\\n",
       "0    41.523328     7.936841     11.483831     13.021492     21.544192   \n",
       "1          NaN          NaN           NaN           NaN           NaN   \n",
       "2    60.192701     0.000000     39.503547     21.339404     49.459400   \n",
       "3    61.052081    39.888992     32.052439     42.637502     61.665463   \n",
       "4   119.459360    34.907401    117.350779    101.019563    174.010572   \n",
       "\n",
       "   WT_S2-ChIP_1  WT_S2-ChIP_3  WT_S5-ChIP_1  WT_S5-ChIP_2  \n",
       "0     66.004963     40.947970     23.136412      5.636927  \n",
       "1    371.637325     42.548842           NaN           NaN  \n",
       "2     45.515078     60.914110     67.196362     43.735495  \n",
       "3     72.944537     52.329550     45.728274      0.000000  \n",
       "4           NaN    102.117222    382.549419     78.852255  \n",
       "\n",
       "[5 rows x 46 columns]"
      ]
     },
     "execution_count": 51,
     "metadata": {},
     "output_type": "execute_result"
    }
   ],
   "source": [
    "tpm_df[sample_cols] = tpm_df[sample_cols].apply(lambda col: make_positive(col))\n",
    "tpm_df.head()"
   ]
  },
  {
   "cell_type": "code",
   "execution_count": 52,
   "metadata": {},
   "outputs": [
    {
     "data": {
      "text/plain": [
       "(7021, 46)"
      ]
     },
     "execution_count": 52,
     "metadata": {},
     "output_type": "execute_result"
    }
   ],
   "source": [
    "tpm_df.shape"
   ]
  },
  {
   "cell_type": "markdown",
   "metadata": {},
   "source": [
    "-------------"
   ]
  },
  {
   "cell_type": "markdown",
   "metadata": {},
   "source": [
    "#### <font color='red'> Deal with **NAs**: *Drop* or *fill with zeros?* </font>\n",
    "- <font color='red'> `NaN's` originated from zero counts: **fill with zeros** </font>\n",
    "- <font color='red'> In **ChIP**, due to INPUT subtraction there are no `NaN's` (negative counts were transformed to zeros) </font>\n"
   ]
  },
  {
   "cell_type": "code",
   "execution_count": 53,
   "metadata": {},
   "outputs": [
    {
     "data": {
      "text/html": [
       "<div>\n",
       "<style scoped>\n",
       "    .dataframe tbody tr th:only-of-type {\n",
       "        vertical-align: middle;\n",
       "    }\n",
       "\n",
       "    .dataframe tbody tr th {\n",
       "        vertical-align: top;\n",
       "    }\n",
       "\n",
       "    .dataframe thead th {\n",
       "        text-align: right;\n",
       "    }\n",
       "</style>\n",
       "<table border=\"1\" class=\"dataframe\">\n",
       "  <thead>\n",
       "    <tr style=\"text-align: right;\">\n",
       "      <th></th>\n",
       "      <th>gene_id</th>\n",
       "      <th>seqid</th>\n",
       "      <th>type</th>\n",
       "      <th>start</th>\n",
       "      <th>end</th>\n",
       "      <th>strand</th>\n",
       "      <th>gene_name</th>\n",
       "      <th>cds_length</th>\n",
       "      <th>utr_length</th>\n",
       "      <th>intron_length</th>\n",
       "      <th>...</th>\n",
       "      <th>638_S2-ChIP_2</th>\n",
       "      <th>80_S2-ChIP_1</th>\n",
       "      <th>80_S2-ChIP_2</th>\n",
       "      <th>80_S2-ChIP_3</th>\n",
       "      <th>80_S5-ChIP_1</th>\n",
       "      <th>80_S5-ChIP_2</th>\n",
       "      <th>WT_S2-ChIP_1</th>\n",
       "      <th>WT_S2-ChIP_3</th>\n",
       "      <th>WT_S5-ChIP_1</th>\n",
       "      <th>WT_S5-ChIP_2</th>\n",
       "    </tr>\n",
       "  </thead>\n",
       "  <tbody>\n",
       "    <tr>\n",
       "      <th>0</th>\n",
       "      <td>FP565355_region_1..2120</td>\n",
       "      <td>mating_type_region</td>\n",
       "      <td>region</td>\n",
       "      <td>1</td>\n",
       "      <td>2120</td>\n",
       "      <td>+</td>\n",
       "      <td>NaN</td>\n",
       "      <td>NaN</td>\n",
       "      <td>NaN</td>\n",
       "      <td>NaN</td>\n",
       "      <td>...</td>\n",
       "      <td>25.655295</td>\n",
       "      <td>41.523328</td>\n",
       "      <td>7.936841</td>\n",
       "      <td>11.483831</td>\n",
       "      <td>13.021492</td>\n",
       "      <td>21.544192</td>\n",
       "      <td>66.004963</td>\n",
       "      <td>40.947970</td>\n",
       "      <td>23.136412</td>\n",
       "      <td>5.636927</td>\n",
       "    </tr>\n",
       "    <tr>\n",
       "      <th>1</th>\n",
       "      <td>FP565355_region_15417..15473</td>\n",
       "      <td>mating_type_region</td>\n",
       "      <td>region</td>\n",
       "      <td>15417</td>\n",
       "      <td>15473</td>\n",
       "      <td>+</td>\n",
       "      <td>NaN</td>\n",
       "      <td>NaN</td>\n",
       "      <td>NaN</td>\n",
       "      <td>NaN</td>\n",
       "      <td>...</td>\n",
       "      <td>0.000000</td>\n",
       "      <td>0.000000</td>\n",
       "      <td>0.000000</td>\n",
       "      <td>0.000000</td>\n",
       "      <td>0.000000</td>\n",
       "      <td>0.000000</td>\n",
       "      <td>371.637325</td>\n",
       "      <td>42.548842</td>\n",
       "      <td>0.000000</td>\n",
       "      <td>0.000000</td>\n",
       "    </tr>\n",
       "    <tr>\n",
       "      <th>2</th>\n",
       "      <td>FP565355_region_15474..15608</td>\n",
       "      <td>mating_type_region</td>\n",
       "      <td>region</td>\n",
       "      <td>15474</td>\n",
       "      <td>15608</td>\n",
       "      <td>+</td>\n",
       "      <td>NaN</td>\n",
       "      <td>NaN</td>\n",
       "      <td>NaN</td>\n",
       "      <td>NaN</td>\n",
       "      <td>...</td>\n",
       "      <td>90.024180</td>\n",
       "      <td>60.192701</td>\n",
       "      <td>0.000000</td>\n",
       "      <td>39.503547</td>\n",
       "      <td>21.339404</td>\n",
       "      <td>49.459400</td>\n",
       "      <td>45.515078</td>\n",
       "      <td>60.914110</td>\n",
       "      <td>67.196362</td>\n",
       "      <td>43.735495</td>\n",
       "    </tr>\n",
       "    <tr>\n",
       "      <th>3</th>\n",
       "      <td>FP565355_region_15609..16735</td>\n",
       "      <td>mating_type_region</td>\n",
       "      <td>region</td>\n",
       "      <td>15609</td>\n",
       "      <td>16735</td>\n",
       "      <td>+</td>\n",
       "      <td>NaN</td>\n",
       "      <td>NaN</td>\n",
       "      <td>NaN</td>\n",
       "      <td>NaN</td>\n",
       "      <td>...</td>\n",
       "      <td>37.160607</td>\n",
       "      <td>61.052081</td>\n",
       "      <td>39.888992</td>\n",
       "      <td>32.052439</td>\n",
       "      <td>42.637502</td>\n",
       "      <td>61.665463</td>\n",
       "      <td>72.944537</td>\n",
       "      <td>52.329550</td>\n",
       "      <td>45.728274</td>\n",
       "      <td>0.000000</td>\n",
       "    </tr>\n",
       "    <tr>\n",
       "      <th>4</th>\n",
       "      <td>FP565355_region_16736..16794</td>\n",
       "      <td>mating_type_region</td>\n",
       "      <td>region</td>\n",
       "      <td>16736</td>\n",
       "      <td>16794</td>\n",
       "      <td>+</td>\n",
       "      <td>NaN</td>\n",
       "      <td>NaN</td>\n",
       "      <td>NaN</td>\n",
       "      <td>NaN</td>\n",
       "      <td>...</td>\n",
       "      <td>156.233253</td>\n",
       "      <td>119.459360</td>\n",
       "      <td>34.907401</td>\n",
       "      <td>117.350779</td>\n",
       "      <td>101.019563</td>\n",
       "      <td>174.010572</td>\n",
       "      <td>0.000000</td>\n",
       "      <td>102.117222</td>\n",
       "      <td>382.549419</td>\n",
       "      <td>78.852255</td>\n",
       "    </tr>\n",
       "  </tbody>\n",
       "</table>\n",
       "<p>5 rows × 46 columns</p>\n",
       "</div>"
      ],
      "text/plain": [
       "                        gene_id               seqid    type  start    end  \\\n",
       "0       FP565355_region_1..2120  mating_type_region  region      1   2120   \n",
       "1  FP565355_region_15417..15473  mating_type_region  region  15417  15473   \n",
       "2  FP565355_region_15474..15608  mating_type_region  region  15474  15608   \n",
       "3  FP565355_region_15609..16735  mating_type_region  region  15609  16735   \n",
       "4  FP565355_region_16736..16794  mating_type_region  region  16736  16794   \n",
       "\n",
       "  strand gene_name  cds_length  utr_length  intron_length  ...  638_S2-ChIP_2  \\\n",
       "0      +       NaN         NaN         NaN            NaN  ...      25.655295   \n",
       "1      +       NaN         NaN         NaN            NaN  ...       0.000000   \n",
       "2      +       NaN         NaN         NaN            NaN  ...      90.024180   \n",
       "3      +       NaN         NaN         NaN            NaN  ...      37.160607   \n",
       "4      +       NaN         NaN         NaN            NaN  ...     156.233253   \n",
       "\n",
       "  80_S2-ChIP_1 80_S2-ChIP_2  80_S2-ChIP_3  80_S5-ChIP_1  80_S5-ChIP_2  \\\n",
       "0    41.523328     7.936841     11.483831     13.021492     21.544192   \n",
       "1     0.000000     0.000000      0.000000      0.000000      0.000000   \n",
       "2    60.192701     0.000000     39.503547     21.339404     49.459400   \n",
       "3    61.052081    39.888992     32.052439     42.637502     61.665463   \n",
       "4   119.459360    34.907401    117.350779    101.019563    174.010572   \n",
       "\n",
       "   WT_S2-ChIP_1  WT_S2-ChIP_3  WT_S5-ChIP_1  WT_S5-ChIP_2  \n",
       "0     66.004963     40.947970     23.136412      5.636927  \n",
       "1    371.637325     42.548842      0.000000      0.000000  \n",
       "2     45.515078     60.914110     67.196362     43.735495  \n",
       "3     72.944537     52.329550     45.728274      0.000000  \n",
       "4      0.000000    102.117222    382.549419     78.852255  \n",
       "\n",
       "[5 rows x 46 columns]"
      ]
     },
     "execution_count": 53,
     "metadata": {},
     "output_type": "execute_result"
    }
   ],
   "source": [
    "# (NOT USED - by Parastou)\n",
    "# => NAs originated from zero counts: fill with zeros\n",
    "#tpm_df = tpm_df.fillna(0) # undesired off-target effects to other columns (e.g. `gene_name`)\n",
    "tpm_df = tpm_df.fillna({kk:0 for kk in sample_cols})\n",
    "\n",
    "# (NOT USED) drop row (axis - 0) if it finds ANY `na`, becareful when adding new columns!\n",
    "#tpm_df = tpm_df.dropna(subset = sample_cols) \n",
    "#tpm_df = tpm_df.dropna(0)\n",
    "\n",
    "tpm_df.head()"
   ]
  },
  {
   "cell_type": "code",
   "execution_count": 54,
   "metadata": {},
   "outputs": [
    {
     "data": {
      "text/plain": [
       "(7021, 46)"
      ]
     },
     "execution_count": 54,
     "metadata": {},
     "output_type": "execute_result"
    }
   ],
   "source": [
    "tpm_df.shape"
   ]
  },
  {
   "cell_type": "code",
   "execution_count": 55,
   "metadata": {},
   "outputs": [],
   "source": [
    "# no surprises!\n",
    "# => there should not be NAs in sample columns (with counts)\n",
    "#assert tpm_df.dropna(subset = sample_cols).shape == tpm_df.shape\n",
    "assert not tpm_df[sample_cols].isnull().values.any()"
   ]
  },
  {
   "cell_type": "markdown",
   "metadata": {},
   "source": [
    "- **Log-transform** (tpm-normed)  **gene expression Matrix** - will be used to compute correlations between replicates"
   ]
  },
  {
   "cell_type": "code",
   "execution_count": 56,
   "metadata": {},
   "outputs": [
    {
     "data": {
      "text/html": [
       "<div>\n",
       "<style scoped>\n",
       "    .dataframe tbody tr th:only-of-type {\n",
       "        vertical-align: middle;\n",
       "    }\n",
       "\n",
       "    .dataframe tbody tr th {\n",
       "        vertical-align: top;\n",
       "    }\n",
       "\n",
       "    .dataframe thead th {\n",
       "        text-align: right;\n",
       "    }\n",
       "</style>\n",
       "<table border=\"1\" class=\"dataframe\">\n",
       "  <thead>\n",
       "    <tr style=\"text-align: right;\">\n",
       "      <th></th>\n",
       "      <th>gene_id</th>\n",
       "      <th>seqid</th>\n",
       "      <th>type</th>\n",
       "      <th>start</th>\n",
       "      <th>end</th>\n",
       "      <th>strand</th>\n",
       "      <th>gene_name</th>\n",
       "      <th>cds_length</th>\n",
       "      <th>utr_length</th>\n",
       "      <th>intron_length</th>\n",
       "      <th>...</th>\n",
       "      <th>638_S2-ChIP_2</th>\n",
       "      <th>80_S2-ChIP_1</th>\n",
       "      <th>80_S2-ChIP_2</th>\n",
       "      <th>80_S2-ChIP_3</th>\n",
       "      <th>80_S5-ChIP_1</th>\n",
       "      <th>80_S5-ChIP_2</th>\n",
       "      <th>WT_S2-ChIP_1</th>\n",
       "      <th>WT_S2-ChIP_3</th>\n",
       "      <th>WT_S5-ChIP_1</th>\n",
       "      <th>WT_S5-ChIP_2</th>\n",
       "    </tr>\n",
       "  </thead>\n",
       "  <tbody>\n",
       "    <tr>\n",
       "      <th>0</th>\n",
       "      <td>FP565355_region_1..2120</td>\n",
       "      <td>mating_type_region</td>\n",
       "      <td>region</td>\n",
       "      <td>1</td>\n",
       "      <td>2120</td>\n",
       "      <td>+</td>\n",
       "      <td>NaN</td>\n",
       "      <td>NaN</td>\n",
       "      <td>NaN</td>\n",
       "      <td>NaN</td>\n",
       "      <td>...</td>\n",
       "      <td>4.736350</td>\n",
       "      <td>5.410183</td>\n",
       "      <td>3.159765</td>\n",
       "      <td>3.641989</td>\n",
       "      <td>3.809568</td>\n",
       "      <td>4.494684</td>\n",
       "      <td>6.066196</td>\n",
       "      <td>5.390529</td>\n",
       "      <td>4.593139</td>\n",
       "      <td>2.730515</td>\n",
       "    </tr>\n",
       "    <tr>\n",
       "      <th>1</th>\n",
       "      <td>FP565355_region_15417..15473</td>\n",
       "      <td>mating_type_region</td>\n",
       "      <td>region</td>\n",
       "      <td>15417</td>\n",
       "      <td>15473</td>\n",
       "      <td>+</td>\n",
       "      <td>NaN</td>\n",
       "      <td>NaN</td>\n",
       "      <td>NaN</td>\n",
       "      <td>NaN</td>\n",
       "      <td>...</td>\n",
       "      <td>0.000000</td>\n",
       "      <td>0.000000</td>\n",
       "      <td>0.000000</td>\n",
       "      <td>0.000000</td>\n",
       "      <td>0.000000</td>\n",
       "      <td>0.000000</td>\n",
       "      <td>8.541628</td>\n",
       "      <td>5.444562</td>\n",
       "      <td>0.000000</td>\n",
       "      <td>0.000000</td>\n",
       "    </tr>\n",
       "    <tr>\n",
       "      <th>2</th>\n",
       "      <td>FP565355_region_15474..15608</td>\n",
       "      <td>mating_type_region</td>\n",
       "      <td>region</td>\n",
       "      <td>15474</td>\n",
       "      <td>15608</td>\n",
       "      <td>+</td>\n",
       "      <td>NaN</td>\n",
       "      <td>NaN</td>\n",
       "      <td>NaN</td>\n",
       "      <td>NaN</td>\n",
       "      <td>...</td>\n",
       "      <td>6.508178</td>\n",
       "      <td>5.935288</td>\n",
       "      <td>0.000000</td>\n",
       "      <td>5.339976</td>\n",
       "      <td>4.481519</td>\n",
       "      <td>5.657051</td>\n",
       "      <td>5.539627</td>\n",
       "      <td>5.952196</td>\n",
       "      <td>6.091623</td>\n",
       "      <td>5.483348</td>\n",
       "    </tr>\n",
       "    <tr>\n",
       "      <th>3</th>\n",
       "      <td>FP565355_region_15609..16735</td>\n",
       "      <td>mating_type_region</td>\n",
       "      <td>region</td>\n",
       "      <td>15609</td>\n",
       "      <td>16735</td>\n",
       "      <td>+</td>\n",
       "      <td>NaN</td>\n",
       "      <td>NaN</td>\n",
       "      <td>NaN</td>\n",
       "      <td>NaN</td>\n",
       "      <td>...</td>\n",
       "      <td>5.254012</td>\n",
       "      <td>5.955408</td>\n",
       "      <td>5.353641</td>\n",
       "      <td>5.046685</td>\n",
       "      <td>5.447497</td>\n",
       "      <td>5.969599</td>\n",
       "      <td>6.208372</td>\n",
       "      <td>5.736863</td>\n",
       "      <td>5.546224</td>\n",
       "      <td>0.000000</td>\n",
       "    </tr>\n",
       "    <tr>\n",
       "      <th>4</th>\n",
       "      <td>FP565355_region_16736..16794</td>\n",
       "      <td>mating_type_region</td>\n",
       "      <td>region</td>\n",
       "      <td>16736</td>\n",
       "      <td>16794</td>\n",
       "      <td>+</td>\n",
       "      <td>NaN</td>\n",
       "      <td>NaN</td>\n",
       "      <td>NaN</td>\n",
       "      <td>NaN</td>\n",
       "      <td>...</td>\n",
       "      <td>7.296763</td>\n",
       "      <td>6.912403</td>\n",
       "      <td>5.166209</td>\n",
       "      <td>6.886925</td>\n",
       "      <td>6.672702</td>\n",
       "      <td>7.451298</td>\n",
       "      <td>0.000000</td>\n",
       "      <td>6.688141</td>\n",
       "      <td>8.583269</td>\n",
       "      <td>6.319261</td>\n",
       "    </tr>\n",
       "  </tbody>\n",
       "</table>\n",
       "<p>5 rows × 46 columns</p>\n",
       "</div>"
      ],
      "text/plain": [
       "                        gene_id               seqid    type  start    end  \\\n",
       "0       FP565355_region_1..2120  mating_type_region  region      1   2120   \n",
       "1  FP565355_region_15417..15473  mating_type_region  region  15417  15473   \n",
       "2  FP565355_region_15474..15608  mating_type_region  region  15474  15608   \n",
       "3  FP565355_region_15609..16735  mating_type_region  region  15609  16735   \n",
       "4  FP565355_region_16736..16794  mating_type_region  region  16736  16794   \n",
       "\n",
       "  strand gene_name  cds_length  utr_length  intron_length  ...  638_S2-ChIP_2  \\\n",
       "0      +       NaN         NaN         NaN            NaN  ...       4.736350   \n",
       "1      +       NaN         NaN         NaN            NaN  ...       0.000000   \n",
       "2      +       NaN         NaN         NaN            NaN  ...       6.508178   \n",
       "3      +       NaN         NaN         NaN            NaN  ...       5.254012   \n",
       "4      +       NaN         NaN         NaN            NaN  ...       7.296763   \n",
       "\n",
       "  80_S2-ChIP_1 80_S2-ChIP_2  80_S2-ChIP_3  80_S5-ChIP_1  80_S5-ChIP_2  \\\n",
       "0     5.410183     3.159765      3.641989      3.809568      4.494684   \n",
       "1     0.000000     0.000000      0.000000      0.000000      0.000000   \n",
       "2     5.935288     0.000000      5.339976      4.481519      5.657051   \n",
       "3     5.955408     5.353641      5.046685      5.447497      5.969599   \n",
       "4     6.912403     5.166209      6.886925      6.672702      7.451298   \n",
       "\n",
       "   WT_S2-ChIP_1  WT_S2-ChIP_3  WT_S5-ChIP_1  WT_S5-ChIP_2  \n",
       "0      6.066196      5.390529      4.593139      2.730515  \n",
       "1      8.541628      5.444562      0.000000      0.000000  \n",
       "2      5.539627      5.952196      6.091623      5.483348  \n",
       "3      6.208372      5.736863      5.546224      0.000000  \n",
       "4      0.000000      6.688141      8.583269      6.319261  \n",
       "\n",
       "[5 rows x 46 columns]"
      ]
     },
     "execution_count": 56,
     "metadata": {},
     "output_type": "execute_result"
    }
   ],
   "source": [
    "# log transformed counts will be used to compute correlations\n",
    "# => compute log(1+x) to avoid issues with zero counts\n",
    "#log2_tpm_df = to_log2_tpm(tpm_df)\n",
    "log2_tpm_df = to_log2_tpm(tpm_df, gene_id_col='gene_id') # default shift=1, no issues with division by zero\n",
    "#log2_tpm_df = to_log2_tpm(tpm_df, gene_id_col='gene_id', shift=0) # default shift=1\n",
    "\n",
    "log2_tpm_df.head()"
   ]
  },
  {
   "cell_type": "code",
   "execution_count": 57,
   "metadata": {},
   "outputs": [
    {
     "data": {
      "text/plain": [
       "(7021, 46)"
      ]
     },
     "execution_count": 57,
     "metadata": {},
     "output_type": "execute_result"
    }
   ],
   "source": [
    "log2_tpm_df.shape"
   ]
  },
  {
   "cell_type": "code",
   "execution_count": 58,
   "metadata": {},
   "outputs": [],
   "source": [
    "# no surprises!\n",
    "# => the log should not introduce any issues\n",
    "#assert log2_tpm_df.dropna(subset = sample_cols).shape == tpm_df.shape\n",
    "assert not log2_tpm_df[sample_cols].isnull().values.any()"
   ]
  },
  {
   "cell_type": "markdown",
   "metadata": {},
   "source": [
    "----"
   ]
  },
  {
   "cell_type": "markdown",
   "metadata": {},
   "source": [
    "# **2.** Get groupings of **replicate samples**"
   ]
  },
  {
   "cell_type": "markdown",
   "metadata": {},
   "source": [
    "----"
   ]
  },
  {
   "cell_type": "code",
   "execution_count": 59,
   "metadata": {},
   "outputs": [],
   "source": [
    "#sample_cols = [ss for ss in log2_tpm_df.columns if 'ChIP' in ss]\n",
    "#len(sample_cols)"
   ]
  },
  {
   "cell_type": "markdown",
   "metadata": {},
   "source": [
    "- **Replicate samples** grouped by `mutant` and `seq_type` type:\n",
    "\n",
    "    - <font color='red'> **Atention!** it's a bit tricky due to ambiguity between `mutant_id -> mutant` map </font>\n",
    "        - **510/591** -> `caf1d`\n",
    "        - **1022/1023** -> `mot2d`\n",
    "        - **523/524** -> `unknown`\n",
    "\n",
    "     <font color='red'> First group using `mutant` then use `inv_mut_dict` which removes ambiguity to get `mutant_id` again. </font>"
   ]
  },
  {
   "cell_type": "code",
   "execution_count": 60,
   "metadata": {},
   "outputs": [],
   "source": [
    "#datasets_df['sub_sample'] = datasets_df['mutant'] + '_' + datasets_df['seq_type']\n",
    "datasets_df['sub_sample'] =  datasets_df.mutant.map(inv_mut_dict) + '_' + datasets_df['seq_type']"
   ]
  },
  {
   "cell_type": "code",
   "execution_count": 61,
   "metadata": {},
   "outputs": [],
   "source": [
    "# only for samples present in df\n",
    "datasets_df = datasets_df[datasets_df['sample_id'].isin(sample_cols)]"
   ]
  },
  {
   "cell_type": "code",
   "execution_count": 62,
   "metadata": {},
   "outputs": [
    {
     "data": {
      "text/plain": [
       "{'1022_S2-ChIP': ['1022_S2-ChIP_1', '1022_S2-ChIP_2'],\n",
       " '1168_S2-ChIP': ['1168_S2-ChIP_1', '1168_S2-ChIP_2'],\n",
       " '301_S2-ChIP': ['301_S2-ChIP_1', '301_S2-ChIP_2'],\n",
       " '302_S2-ChIP': ['302_S2-ChIP_1', '302_S2-ChIP_2'],\n",
       " '324_S2-ChIP': ['324_S2-ChIP_1', '324_S2-ChIP_2'],\n",
       " '491_S2-ChIP': ['491_S2-ChIP_1', '491_S2-ChIP_2'],\n",
       " '504_S2-ChIP': ['504_S2-ChIP_1', '504_S2-ChIP_2'],\n",
       " '510_S2-ChIP': ['510_S2-ChIP_2', '591_S2-ChIP_1'],\n",
       " '523_S2-ChIP': ['523_S2-ChIP_1', '524_S2-ChIP_1'],\n",
       " '530_S2-ChIP': ['530_S2-ChIP_1', '530_S2-ChIP_2'],\n",
       " '544_S2-ChIP': ['544_S2-ChIP_1', '544_S2-ChIP_2'],\n",
       " '638_S2-ChIP': ['638_S2-ChIP_1', '638_S2-ChIP_2'],\n",
       " '80_S2-ChIP': ['80_S2-ChIP_1', '80_S2-ChIP_2', '80_S2-ChIP_3'],\n",
       " '80_S5-ChIP': ['80_S5-ChIP_1', '80_S5-ChIP_2'],\n",
       " 'WT_S2-ChIP': ['WT_S2-ChIP_1', 'WT_S2-ChIP_3'],\n",
       " 'WT_S5-ChIP': ['WT_S5-ChIP_1', 'WT_S5-ChIP_2']}"
      ]
     },
     "execution_count": 62,
     "metadata": {},
     "output_type": "execute_result"
    }
   ],
   "source": [
    "#sub_samples = dict(datasets_df.groupby('sub_sample')['sample_id'].apply(list))\n",
    "sub_samples = dict(datasets_df[~datasets_df['sample_id'].isin(exclude_samples)].groupby('sub_sample')['sample_id'].apply(list))\n",
    "sub_samples"
   ]
  },
  {
   "cell_type": "markdown",
   "metadata": {},
   "source": [
    "<font color='green'> **Looks good there is at least two replicates per group.**"
   ]
  },
  {
   "cell_type": "markdown",
   "metadata": {},
   "source": [
    "**Total number of samples**:"
   ]
  },
  {
   "cell_type": "code",
   "execution_count": 63,
   "metadata": {},
   "outputs": [
    {
     "data": {
      "text/plain": [
       "33"
      ]
     },
     "execution_count": 63,
     "metadata": {},
     "output_type": "execute_result"
    }
   ],
   "source": [
    "len(list(itertools.chain.from_iterable(sub_samples.values())))"
   ]
  },
  {
   "cell_type": "markdown",
   "metadata": {},
   "source": [
    "**Number of mutants** (subsamples):"
   ]
  },
  {
   "cell_type": "code",
   "execution_count": 64,
   "metadata": {},
   "outputs": [
    {
     "data": {
      "text/plain": [
       "16"
      ]
     },
     "execution_count": 64,
     "metadata": {},
     "output_type": "execute_result"
    }
   ],
   "source": [
    "len(sub_samples)"
   ]
  },
  {
   "cell_type": "markdown",
   "metadata": {},
   "source": [
    "----"
   ]
  },
  {
   "cell_type": "markdown",
   "metadata": {},
   "source": [
    "# **3.** Produce **correlation-plots** and **pearson-r correlation scores**"
   ]
  },
  {
   "cell_type": "markdown",
   "metadata": {},
   "source": [
    "----"
   ]
  },
  {
   "cell_type": "markdown",
   "metadata": {},
   "source": [
    "- Run **correlation checks**  for all **pair-wise sample combinations**:"
   ]
  },
  {
   "cell_type": "code",
   "execution_count": 65,
   "metadata": {},
   "outputs": [
    {
     "data": {
      "text/html": [
       "<div>\n",
       "<style scoped>\n",
       "    .dataframe tbody tr th:only-of-type {\n",
       "        vertical-align: middle;\n",
       "    }\n",
       "\n",
       "    .dataframe tbody tr th {\n",
       "        vertical-align: top;\n",
       "    }\n",
       "\n",
       "    .dataframe thead th {\n",
       "        text-align: right;\n",
       "    }\n",
       "</style>\n",
       "<table border=\"1\" class=\"dataframe\">\n",
       "  <thead>\n",
       "    <tr style=\"text-align: right;\">\n",
       "      <th></th>\n",
       "      <th>Sample1</th>\n",
       "      <th>Sample2</th>\n",
       "      <th>Correlation</th>\n",
       "      <th>P-value</th>\n",
       "    </tr>\n",
       "  </thead>\n",
       "  <tbody>\n",
       "    <tr>\n",
       "      <th>0</th>\n",
       "      <td>1022_S2-ChIP_1</td>\n",
       "      <td>1022_S2-ChIP_2</td>\n",
       "      <td>0.973016</td>\n",
       "      <td>0.0</td>\n",
       "    </tr>\n",
       "    <tr>\n",
       "      <th>1</th>\n",
       "      <td>1168_S2-ChIP_1</td>\n",
       "      <td>1168_S2-ChIP_2</td>\n",
       "      <td>0.872532</td>\n",
       "      <td>0.0</td>\n",
       "    </tr>\n",
       "    <tr>\n",
       "      <th>2</th>\n",
       "      <td>301_S2-ChIP_1</td>\n",
       "      <td>301_S2-ChIP_2</td>\n",
       "      <td>0.953609</td>\n",
       "      <td>0.0</td>\n",
       "    </tr>\n",
       "    <tr>\n",
       "      <th>3</th>\n",
       "      <td>302_S2-ChIP_1</td>\n",
       "      <td>302_S2-ChIP_2</td>\n",
       "      <td>0.954850</td>\n",
       "      <td>0.0</td>\n",
       "    </tr>\n",
       "    <tr>\n",
       "      <th>4</th>\n",
       "      <td>324_S2-ChIP_1</td>\n",
       "      <td>324_S2-ChIP_2</td>\n",
       "      <td>0.949851</td>\n",
       "      <td>0.0</td>\n",
       "    </tr>\n",
       "    <tr>\n",
       "      <th>5</th>\n",
       "      <td>491_S2-ChIP_1</td>\n",
       "      <td>491_S2-ChIP_2</td>\n",
       "      <td>0.931224</td>\n",
       "      <td>0.0</td>\n",
       "    </tr>\n",
       "    <tr>\n",
       "      <th>6</th>\n",
       "      <td>504_S2-ChIP_1</td>\n",
       "      <td>504_S2-ChIP_2</td>\n",
       "      <td>0.958766</td>\n",
       "      <td>0.0</td>\n",
       "    </tr>\n",
       "    <tr>\n",
       "      <th>7</th>\n",
       "      <td>510_S2-ChIP_2</td>\n",
       "      <td>591_S2-ChIP_1</td>\n",
       "      <td>0.963736</td>\n",
       "      <td>0.0</td>\n",
       "    </tr>\n",
       "    <tr>\n",
       "      <th>8</th>\n",
       "      <td>523_S2-ChIP_1</td>\n",
       "      <td>524_S2-ChIP_1</td>\n",
       "      <td>0.879819</td>\n",
       "      <td>0.0</td>\n",
       "    </tr>\n",
       "    <tr>\n",
       "      <th>9</th>\n",
       "      <td>530_S2-ChIP_1</td>\n",
       "      <td>530_S2-ChIP_2</td>\n",
       "      <td>0.911706</td>\n",
       "      <td>0.0</td>\n",
       "    </tr>\n",
       "    <tr>\n",
       "      <th>10</th>\n",
       "      <td>544_S2-ChIP_1</td>\n",
       "      <td>544_S2-ChIP_2</td>\n",
       "      <td>0.936462</td>\n",
       "      <td>0.0</td>\n",
       "    </tr>\n",
       "    <tr>\n",
       "      <th>11</th>\n",
       "      <td>638_S2-ChIP_1</td>\n",
       "      <td>638_S2-ChIP_2</td>\n",
       "      <td>0.930400</td>\n",
       "      <td>0.0</td>\n",
       "    </tr>\n",
       "    <tr>\n",
       "      <th>12</th>\n",
       "      <td>80_S2-ChIP_1</td>\n",
       "      <td>80_S2-ChIP_2</td>\n",
       "      <td>0.941229</td>\n",
       "      <td>0.0</td>\n",
       "    </tr>\n",
       "    <tr>\n",
       "      <th>13</th>\n",
       "      <td>80_S2-ChIP_1</td>\n",
       "      <td>80_S2-ChIP_3</td>\n",
       "      <td>0.938259</td>\n",
       "      <td>0.0</td>\n",
       "    </tr>\n",
       "    <tr>\n",
       "      <th>14</th>\n",
       "      <td>80_S2-ChIP_2</td>\n",
       "      <td>80_S2-ChIP_3</td>\n",
       "      <td>0.933862</td>\n",
       "      <td>0.0</td>\n",
       "    </tr>\n",
       "    <tr>\n",
       "      <th>15</th>\n",
       "      <td>80_S5-ChIP_1</td>\n",
       "      <td>80_S5-ChIP_2</td>\n",
       "      <td>0.974630</td>\n",
       "      <td>0.0</td>\n",
       "    </tr>\n",
       "    <tr>\n",
       "      <th>16</th>\n",
       "      <td>WT_S2-ChIP_1</td>\n",
       "      <td>WT_S2-ChIP_3</td>\n",
       "      <td>0.871382</td>\n",
       "      <td>0.0</td>\n",
       "    </tr>\n",
       "    <tr>\n",
       "      <th>17</th>\n",
       "      <td>WT_S5-ChIP_1</td>\n",
       "      <td>WT_S5-ChIP_2</td>\n",
       "      <td>0.920382</td>\n",
       "      <td>0.0</td>\n",
       "    </tr>\n",
       "  </tbody>\n",
       "</table>\n",
       "</div>"
      ],
      "text/plain": [
       "           Sample1         Sample2  Correlation  P-value\n",
       "0   1022_S2-ChIP_1  1022_S2-ChIP_2     0.973016      0.0\n",
       "1   1168_S2-ChIP_1  1168_S2-ChIP_2     0.872532      0.0\n",
       "2    301_S2-ChIP_1   301_S2-ChIP_2     0.953609      0.0\n",
       "3    302_S2-ChIP_1   302_S2-ChIP_2     0.954850      0.0\n",
       "4    324_S2-ChIP_1   324_S2-ChIP_2     0.949851      0.0\n",
       "5    491_S2-ChIP_1   491_S2-ChIP_2     0.931224      0.0\n",
       "6    504_S2-ChIP_1   504_S2-ChIP_2     0.958766      0.0\n",
       "7    510_S2-ChIP_2   591_S2-ChIP_1     0.963736      0.0\n",
       "8    523_S2-ChIP_1   524_S2-ChIP_1     0.879819      0.0\n",
       "9    530_S2-ChIP_1   530_S2-ChIP_2     0.911706      0.0\n",
       "10   544_S2-ChIP_1   544_S2-ChIP_2     0.936462      0.0\n",
       "11   638_S2-ChIP_1   638_S2-ChIP_2     0.930400      0.0\n",
       "12    80_S2-ChIP_1    80_S2-ChIP_2     0.941229      0.0\n",
       "13    80_S2-ChIP_1    80_S2-ChIP_3     0.938259      0.0\n",
       "14    80_S2-ChIP_2    80_S2-ChIP_3     0.933862      0.0\n",
       "15    80_S5-ChIP_1    80_S5-ChIP_2     0.974630      0.0\n",
       "16    WT_S2-ChIP_1    WT_S2-ChIP_3     0.871382      0.0\n",
       "17    WT_S5-ChIP_1    WT_S5-ChIP_2     0.920382      0.0"
      ]
     },
     "execution_count": 65,
     "metadata": {},
     "output_type": "execute_result"
    }
   ],
   "source": [
    "#corr_df = rpc.run_corr_checks(log2_tpm_df, out_dir=out_corr)\n",
    "corr_df = rpc.run_corr_checks(log2_tpm_df, samples=sub_samples, out_dir=out_corr)\n",
    "#corr_df.head()\n",
    "corr_df"
   ]
  },
  {
   "cell_type": "code",
   "execution_count": 66,
   "metadata": {},
   "outputs": [
    {
     "data": {
      "text/plain": [
       "(18, 4)"
      ]
     },
     "execution_count": 66,
     "metadata": {},
     "output_type": "execute_result"
    }
   ],
   "source": [
    "corr_df.shape"
   ]
  },
  {
   "cell_type": "markdown",
   "metadata": {},
   "source": [
    "* Check for low correlation values (more checks below in Section 5)"
   ]
  },
  {
   "cell_type": "code",
   "execution_count": 67,
   "metadata": {},
   "outputs": [
    {
     "data": {
      "text/html": [
       "<div>\n",
       "<style scoped>\n",
       "    .dataframe tbody tr th:only-of-type {\n",
       "        vertical-align: middle;\n",
       "    }\n",
       "\n",
       "    .dataframe tbody tr th {\n",
       "        vertical-align: top;\n",
       "    }\n",
       "\n",
       "    .dataframe thead th {\n",
       "        text-align: right;\n",
       "    }\n",
       "</style>\n",
       "<table border=\"1\" class=\"dataframe\">\n",
       "  <thead>\n",
       "    <tr style=\"text-align: right;\">\n",
       "      <th></th>\n",
       "      <th>Sample1</th>\n",
       "      <th>Sample2</th>\n",
       "      <th>Correlation</th>\n",
       "      <th>P-value</th>\n",
       "    </tr>\n",
       "  </thead>\n",
       "  <tbody>\n",
       "  </tbody>\n",
       "</table>\n",
       "</div>"
      ],
      "text/plain": [
       "Empty DataFrame\n",
       "Columns: [Sample1, Sample2, Correlation, P-value]\n",
       "Index: []"
      ]
     },
     "execution_count": 67,
     "metadata": {},
     "output_type": "execute_result"
    }
   ],
   "source": [
    "corr_df[corr_df['Correlation'] < 0.80]"
   ]
  },
  {
   "cell_type": "code",
   "execution_count": 68,
   "metadata": {},
   "outputs": [],
   "source": [
    "#corr_df[corr_df['Sample2'].str.contains('S5-ChIP')]"
   ]
  },
  {
   "cell_type": "markdown",
   "metadata": {},
   "source": [
    "-----------------"
   ]
  },
  {
   "cell_type": "markdown",
   "metadata": {},
   "source": [
    "# **4.** Produce **MA-plots**"
   ]
  },
  {
   "cell_type": "markdown",
   "metadata": {},
   "source": [
    "-----------------"
   ]
  },
  {
   "cell_type": "markdown",
   "metadata": {},
   "source": [
    "An **MA-plot** is an application of a Bland–Altman plot for visual **representation of genomic data**. \n",
    "\n",
    "The plot visualizes the differences between measurements taken in two samples, by transforming the data onto:\n",
    "* **M (log ratio)** scale\n",
    "* **A (mean average)** scale\n",
    "\n",
    "then plotting these values. "
   ]
  },
  {
   "cell_type": "markdown",
   "metadata": {},
   "source": [
    "- Run **MA checks**  for all **pair-wise sample combinations**:"
   ]
  },
  {
   "cell_type": "code",
   "execution_count": 69,
   "metadata": {
    "scrolled": true
   },
   "outputs": [],
   "source": [
    "#rpc.run_ma_checks(log2_tpm_df, out_dir=out_ma)\n",
    "rpc.run_ma_checks(log2_tpm_df, samples=sub_samples, out_dir=out_ma)"
   ]
  },
  {
   "cell_type": "markdown",
   "metadata": {},
   "source": [
    "-----------------"
   ]
  },
  {
   "cell_type": "markdown",
   "metadata": {},
   "source": [
    "# **5.** Investigate **pearson-r correlation scores**"
   ]
  },
  {
   "cell_type": "markdown",
   "metadata": {},
   "source": [
    "-----------------"
   ]
  },
  {
   "cell_type": "markdown",
   "metadata": {},
   "source": [
    "Select replicates to be merged based on their **pearson-r correlation scores**"
   ]
  },
  {
   "cell_type": "code",
   "execution_count": 70,
   "metadata": {},
   "outputs": [],
   "source": [
    "from RepTools import report_corr"
   ]
  },
  {
   "cell_type": "markdown",
   "metadata": {},
   "source": [
    "- Import **correlation checks** for all **pair-wise sample combinations**: `correlations.csv`"
   ]
  },
  {
   "cell_type": "code",
   "execution_count": 71,
   "metadata": {},
   "outputs": [
    {
     "data": {
      "text/html": [
       "<div>\n",
       "<style scoped>\n",
       "    .dataframe tbody tr th:only-of-type {\n",
       "        vertical-align: middle;\n",
       "    }\n",
       "\n",
       "    .dataframe tbody tr th {\n",
       "        vertical-align: top;\n",
       "    }\n",
       "\n",
       "    .dataframe thead th {\n",
       "        text-align: right;\n",
       "    }\n",
       "</style>\n",
       "<table border=\"1\" class=\"dataframe\">\n",
       "  <thead>\n",
       "    <tr style=\"text-align: right;\">\n",
       "      <th></th>\n",
       "      <th>Sample1</th>\n",
       "      <th>Sample2</th>\n",
       "      <th>Correlation</th>\n",
       "      <th>P-value</th>\n",
       "    </tr>\n",
       "  </thead>\n",
       "  <tbody>\n",
       "    <tr>\n",
       "      <th>0</th>\n",
       "      <td>1022_S2-ChIP_1</td>\n",
       "      <td>1022_S2-ChIP_2</td>\n",
       "      <td>0.973016</td>\n",
       "      <td>0.0</td>\n",
       "    </tr>\n",
       "    <tr>\n",
       "      <th>1</th>\n",
       "      <td>1168_S2-ChIP_1</td>\n",
       "      <td>1168_S2-ChIP_2</td>\n",
       "      <td>0.872532</td>\n",
       "      <td>0.0</td>\n",
       "    </tr>\n",
       "    <tr>\n",
       "      <th>2</th>\n",
       "      <td>301_S2-ChIP_1</td>\n",
       "      <td>301_S2-ChIP_2</td>\n",
       "      <td>0.953609</td>\n",
       "      <td>0.0</td>\n",
       "    </tr>\n",
       "    <tr>\n",
       "      <th>3</th>\n",
       "      <td>302_S2-ChIP_1</td>\n",
       "      <td>302_S2-ChIP_2</td>\n",
       "      <td>0.954850</td>\n",
       "      <td>0.0</td>\n",
       "    </tr>\n",
       "    <tr>\n",
       "      <th>4</th>\n",
       "      <td>324_S2-ChIP_1</td>\n",
       "      <td>324_S2-ChIP_2</td>\n",
       "      <td>0.949851</td>\n",
       "      <td>0.0</td>\n",
       "    </tr>\n",
       "  </tbody>\n",
       "</table>\n",
       "</div>"
      ],
      "text/plain": [
       "          Sample1         Sample2  Correlation  P-value\n",
       "0  1022_S2-ChIP_1  1022_S2-ChIP_2     0.973016      0.0\n",
       "1  1168_S2-ChIP_1  1168_S2-ChIP_2     0.872532      0.0\n",
       "2   301_S2-ChIP_1   301_S2-ChIP_2     0.953609      0.0\n",
       "3   302_S2-ChIP_1   302_S2-ChIP_2     0.954850      0.0\n",
       "4   324_S2-ChIP_1   324_S2-ChIP_2     0.949851      0.0"
      ]
     },
     "execution_count": 71,
     "metadata": {},
     "output_type": "execute_result"
    }
   ],
   "source": [
    "corr_df = pd.read_csv(os.path.join(out_corr, 'correlations.csv'), sep='\\t')\n",
    "corr_df.head()"
   ]
  },
  {
   "cell_type": "code",
   "execution_count": 72,
   "metadata": {},
   "outputs": [
    {
     "data": {
      "text/plain": [
       "(18, 4)"
      ]
     },
     "execution_count": 72,
     "metadata": {},
     "output_type": "execute_result"
    }
   ],
   "source": [
    "corr_df.shape"
   ]
  },
  {
   "cell_type": "markdown",
   "metadata": {},
   "source": [
    "- Check **correlation scores** any `Correlation == 1` (**Duplicates**):"
   ]
  },
  {
   "cell_type": "code",
   "execution_count": 73,
   "metadata": {},
   "outputs": [
    {
     "data": {
      "text/html": [
       "<div>\n",
       "<style scoped>\n",
       "    .dataframe tbody tr th:only-of-type {\n",
       "        vertical-align: middle;\n",
       "    }\n",
       "\n",
       "    .dataframe tbody tr th {\n",
       "        vertical-align: top;\n",
       "    }\n",
       "\n",
       "    .dataframe thead th {\n",
       "        text-align: right;\n",
       "    }\n",
       "</style>\n",
       "<table border=\"1\" class=\"dataframe\">\n",
       "  <thead>\n",
       "    <tr style=\"text-align: right;\">\n",
       "      <th></th>\n",
       "      <th>Sample1</th>\n",
       "      <th>Sample2</th>\n",
       "      <th>Correlation</th>\n",
       "      <th>P-value</th>\n",
       "    </tr>\n",
       "  </thead>\n",
       "  <tbody>\n",
       "  </tbody>\n",
       "</table>\n",
       "</div>"
      ],
      "text/plain": [
       "Empty DataFrame\n",
       "Columns: [Sample1, Sample2, Correlation, P-value]\n",
       "Index: []"
      ]
     },
     "execution_count": 73,
     "metadata": {},
     "output_type": "execute_result"
    }
   ],
   "source": [
    "corr_df[corr_df['Correlation'] > 0.99]"
   ]
  },
  {
   "cell_type": "markdown",
   "metadata": {},
   "source": [
    "- Check **correlation scores** any `Correlation < 0.85`:"
   ]
  },
  {
   "cell_type": "code",
   "execution_count": 74,
   "metadata": {},
   "outputs": [
    {
     "data": {
      "text/html": [
       "<div>\n",
       "<style scoped>\n",
       "    .dataframe tbody tr th:only-of-type {\n",
       "        vertical-align: middle;\n",
       "    }\n",
       "\n",
       "    .dataframe tbody tr th {\n",
       "        vertical-align: top;\n",
       "    }\n",
       "\n",
       "    .dataframe thead th {\n",
       "        text-align: right;\n",
       "    }\n",
       "</style>\n",
       "<table border=\"1\" class=\"dataframe\">\n",
       "  <thead>\n",
       "    <tr style=\"text-align: right;\">\n",
       "      <th></th>\n",
       "      <th>Sample1</th>\n",
       "      <th>Sample2</th>\n",
       "      <th>Correlation</th>\n",
       "      <th>P-value</th>\n",
       "    </tr>\n",
       "  </thead>\n",
       "  <tbody>\n",
       "  </tbody>\n",
       "</table>\n",
       "</div>"
      ],
      "text/plain": [
       "Empty DataFrame\n",
       "Columns: [Sample1, Sample2, Correlation, P-value]\n",
       "Index: []"
      ]
     },
     "execution_count": 74,
     "metadata": {},
     "output_type": "execute_result"
    }
   ],
   "source": [
    "corr_df[corr_df['Correlation'] < 0.80]"
   ]
  },
  {
   "cell_type": "markdown",
   "metadata": {},
   "source": [
    "- Check **correlation scores** grouped by `Mutant` type and `seq_type`:"
   ]
  },
  {
   "cell_type": "code",
   "execution_count": 75,
   "metadata": {},
   "outputs": [],
   "source": [
    "#rpc.report_corr(corr_df, sub_samples['63_S2-ChIP'])"
   ]
  },
  {
   "cell_type": "code",
   "execution_count": 76,
   "metadata": {},
   "outputs": [],
   "source": [
    "#for s in sub_samples:\n",
    "#    a = report_corr(corr_df, s)\n",
    "#    print('-'*80)\n",
    "#    print('Mutant samples group:', s)\n",
    "#    print(a)\n",
    "#    print('-'*80, '\\n')"
   ]
  },
  {
   "cell_type": "markdown",
   "metadata": {},
   "source": [
    "-----------------"
   ]
  },
  {
   "cell_type": "markdown",
   "metadata": {},
   "source": [
    "# **6.** Merge replicates"
   ]
  },
  {
   "cell_type": "markdown",
   "metadata": {},
   "source": [
    "-----------------"
   ]
  },
  {
   "cell_type": "markdown",
   "metadata": {},
   "source": [
    "\n",
    "Merge and store as `.csv` files:\n",
    "\n",
    "- **Average TPM-normalized expression tables** (tpm_df) for replicates:\n",
    "    - `chip_tpm_merged.csv`"
   ]
  },
  {
   "cell_type": "markdown",
   "metadata": {},
   "source": [
    "- <font color='red'> Add **`length` column** </font>"
   ]
  },
  {
   "cell_type": "code",
   "execution_count": 77,
   "metadata": {},
   "outputs": [],
   "source": [
    "tpm_df['length'] = tpm_df['gene_length']"
   ]
  },
  {
   "cell_type": "markdown",
   "metadata": {},
   "source": [
    "- **Merge ChIP replicates** into an average **gene expression Matrix** per Mutant type: `chip_merged_tpm.csv`"
   ]
  },
  {
   "cell_type": "code",
   "execution_count": 78,
   "metadata": {},
   "outputs": [
    {
     "data": {
      "text/plain": [
       "'/gcm-lfs1/pablo/data/rna_silencing/results/xp_data/ChIP'"
      ]
     },
     "execution_count": 78,
     "metadata": {},
     "output_type": "execute_result"
    }
   ],
   "source": [
    "out_dir"
   ]
  },
  {
   "cell_type": "markdown",
   "metadata": {},
   "source": [
    "#### <font color='red'> Deal with **NAs**: *Drop* or *fill with zeros?* </font>"
   ]
  },
  {
   "cell_type": "code",
   "execution_count": 79,
   "metadata": {},
   "outputs": [],
   "source": [
    "merged_tpm_df = rpc.repli_merge(\n",
    "    tpm_df,\n",
    "    sub_samples,\n",
    "    out_dir = out_dir, \n",
    "    out_file = 'chip_merged_tpm.csv'\n",
    ")"
   ]
  },
  {
   "cell_type": "code",
   "execution_count": 80,
   "metadata": {},
   "outputs": [
    {
     "data": {
      "text/html": [
       "<div>\n",
       "<style scoped>\n",
       "    .dataframe tbody tr th:only-of-type {\n",
       "        vertical-align: middle;\n",
       "    }\n",
       "\n",
       "    .dataframe tbody tr th {\n",
       "        vertical-align: top;\n",
       "    }\n",
       "\n",
       "    .dataframe thead th {\n",
       "        text-align: right;\n",
       "    }\n",
       "</style>\n",
       "<table border=\"1\" class=\"dataframe\">\n",
       "  <thead>\n",
       "    <tr style=\"text-align: right;\">\n",
       "      <th></th>\n",
       "      <th>gene_id</th>\n",
       "      <th>gene_name</th>\n",
       "      <th>length</th>\n",
       "      <th>type</th>\n",
       "      <th>category</th>\n",
       "      <th>bio_type</th>\n",
       "      <th>1022_S2-ChIP</th>\n",
       "      <th>1168_S2-ChIP</th>\n",
       "      <th>301_S2-ChIP</th>\n",
       "      <th>302_S2-ChIP</th>\n",
       "      <th>...</th>\n",
       "      <th>504_S2-ChIP</th>\n",
       "      <th>510_S2-ChIP</th>\n",
       "      <th>523_S2-ChIP</th>\n",
       "      <th>530_S2-ChIP</th>\n",
       "      <th>544_S2-ChIP</th>\n",
       "      <th>638_S2-ChIP</th>\n",
       "      <th>80_S2-ChIP</th>\n",
       "      <th>80_S5-ChIP</th>\n",
       "      <th>WT_S2-ChIP</th>\n",
       "      <th>WT_S5-ChIP</th>\n",
       "    </tr>\n",
       "  </thead>\n",
       "  <tbody>\n",
       "    <tr>\n",
       "      <th>0</th>\n",
       "      <td>FP565355_region_1..2120</td>\n",
       "      <td>NaN</td>\n",
       "      <td>2120</td>\n",
       "      <td>region</td>\n",
       "      <td>repeat</td>\n",
       "      <td>region</td>\n",
       "      <td>36.353199</td>\n",
       "      <td>31.604013</td>\n",
       "      <td>25.447595</td>\n",
       "      <td>34.155106</td>\n",
       "      <td>...</td>\n",
       "      <td>82.344549</td>\n",
       "      <td>22.183831</td>\n",
       "      <td>131.192765</td>\n",
       "      <td>75.910257</td>\n",
       "      <td>8.783881</td>\n",
       "      <td>26.188978</td>\n",
       "      <td>20.314666</td>\n",
       "      <td>17.282842</td>\n",
       "      <td>53.476467</td>\n",
       "      <td>14.386670</td>\n",
       "    </tr>\n",
       "    <tr>\n",
       "      <th>1</th>\n",
       "      <td>FP565355_region_15417..15473</td>\n",
       "      <td>NaN</td>\n",
       "      <td>57</td>\n",
       "      <td>region</td>\n",
       "      <td>repeat</td>\n",
       "      <td>region</td>\n",
       "      <td>32.989946</td>\n",
       "      <td>0.000000</td>\n",
       "      <td>101.717017</td>\n",
       "      <td>55.581202</td>\n",
       "      <td>...</td>\n",
       "      <td>35.620283</td>\n",
       "      <td>25.716713</td>\n",
       "      <td>30.158095</td>\n",
       "      <td>112.748997</td>\n",
       "      <td>9.204962</td>\n",
       "      <td>0.000000</td>\n",
       "      <td>0.000000</td>\n",
       "      <td>0.000000</td>\n",
       "      <td>207.093084</td>\n",
       "      <td>0.000000</td>\n",
       "    </tr>\n",
       "    <tr>\n",
       "      <th>2</th>\n",
       "      <td>FP565355_region_15474..15608</td>\n",
       "      <td>NaN</td>\n",
       "      <td>135</td>\n",
       "      <td>region</td>\n",
       "      <td>repeat</td>\n",
       "      <td>region</td>\n",
       "      <td>55.543018</td>\n",
       "      <td>35.786011</td>\n",
       "      <td>42.055579</td>\n",
       "      <td>103.330550</td>\n",
       "      <td>...</td>\n",
       "      <td>284.326357</td>\n",
       "      <td>53.698150</td>\n",
       "      <td>259.546526</td>\n",
       "      <td>177.695904</td>\n",
       "      <td>47.749498</td>\n",
       "      <td>100.410479</td>\n",
       "      <td>33.232083</td>\n",
       "      <td>35.399402</td>\n",
       "      <td>53.214594</td>\n",
       "      <td>55.465929</td>\n",
       "    </tr>\n",
       "    <tr>\n",
       "      <th>3</th>\n",
       "      <td>FP565355_region_15609..16735</td>\n",
       "      <td>NaN</td>\n",
       "      <td>1127</td>\n",
       "      <td>region</td>\n",
       "      <td>repeat</td>\n",
       "      <td>region</td>\n",
       "      <td>57.460638</td>\n",
       "      <td>10.993232</td>\n",
       "      <td>40.619884</td>\n",
       "      <td>31.836483</td>\n",
       "      <td>...</td>\n",
       "      <td>55.698312</td>\n",
       "      <td>29.545178</td>\n",
       "      <td>112.472071</td>\n",
       "      <td>114.430437</td>\n",
       "      <td>23.119050</td>\n",
       "      <td>31.980414</td>\n",
       "      <td>44.331171</td>\n",
       "      <td>52.151483</td>\n",
       "      <td>62.637044</td>\n",
       "      <td>22.864137</td>\n",
       "    </tr>\n",
       "    <tr>\n",
       "      <th>4</th>\n",
       "      <td>FP565355_region_16736..16794</td>\n",
       "      <td>NaN</td>\n",
       "      <td>59</td>\n",
       "      <td>region</td>\n",
       "      <td>repeat</td>\n",
       "      <td>region</td>\n",
       "      <td>105.639842</td>\n",
       "      <td>26.961737</td>\n",
       "      <td>21.862377</td>\n",
       "      <td>54.908906</td>\n",
       "      <td>...</td>\n",
       "      <td>44.786774</td>\n",
       "      <td>49.165672</td>\n",
       "      <td>240.632152</td>\n",
       "      <td>150.771303</td>\n",
       "      <td>115.088074</td>\n",
       "      <td>162.738097</td>\n",
       "      <td>90.572514</td>\n",
       "      <td>137.515068</td>\n",
       "      <td>51.058611</td>\n",
       "      <td>230.700837</td>\n",
       "    </tr>\n",
       "  </tbody>\n",
       "</table>\n",
       "<p>5 rows × 22 columns</p>\n",
       "</div>"
      ],
      "text/plain": [
       "                        gene_id gene_name  length    type category bio_type  \\\n",
       "0       FP565355_region_1..2120       NaN    2120  region   repeat   region   \n",
       "1  FP565355_region_15417..15473       NaN      57  region   repeat   region   \n",
       "2  FP565355_region_15474..15608       NaN     135  region   repeat   region   \n",
       "3  FP565355_region_15609..16735       NaN    1127  region   repeat   region   \n",
       "4  FP565355_region_16736..16794       NaN      59  region   repeat   region   \n",
       "\n",
       "   1022_S2-ChIP  1168_S2-ChIP  301_S2-ChIP  302_S2-ChIP  ...  504_S2-ChIP  \\\n",
       "0     36.353199     31.604013    25.447595    34.155106  ...    82.344549   \n",
       "1     32.989946      0.000000   101.717017    55.581202  ...    35.620283   \n",
       "2     55.543018     35.786011    42.055579   103.330550  ...   284.326357   \n",
       "3     57.460638     10.993232    40.619884    31.836483  ...    55.698312   \n",
       "4    105.639842     26.961737    21.862377    54.908906  ...    44.786774   \n",
       "\n",
       "   510_S2-ChIP  523_S2-ChIP  530_S2-ChIP  544_S2-ChIP  638_S2-ChIP  \\\n",
       "0    22.183831   131.192765    75.910257     8.783881    26.188978   \n",
       "1    25.716713    30.158095   112.748997     9.204962     0.000000   \n",
       "2    53.698150   259.546526   177.695904    47.749498   100.410479   \n",
       "3    29.545178   112.472071   114.430437    23.119050    31.980414   \n",
       "4    49.165672   240.632152   150.771303   115.088074   162.738097   \n",
       "\n",
       "   80_S2-ChIP  80_S5-ChIP  WT_S2-ChIP  WT_S5-ChIP  \n",
       "0   20.314666   17.282842   53.476467   14.386670  \n",
       "1    0.000000    0.000000  207.093084    0.000000  \n",
       "2   33.232083   35.399402   53.214594   55.465929  \n",
       "3   44.331171   52.151483   62.637044   22.864137  \n",
       "4   90.572514  137.515068   51.058611  230.700837  \n",
       "\n",
       "[5 rows x 22 columns]"
      ]
     },
     "execution_count": 80,
     "metadata": {},
     "output_type": "execute_result"
    }
   ],
   "source": [
    "merged_tpm_df.head()"
   ]
  },
  {
   "cell_type": "code",
   "execution_count": 81,
   "metadata": {},
   "outputs": [
    {
     "data": {
      "text/plain": [
       "(7021, 22)"
      ]
     },
     "execution_count": 81,
     "metadata": {},
     "output_type": "execute_result"
    }
   ],
   "source": [
    "merged_tpm_df.shape"
   ]
  },
  {
   "cell_type": "markdown",
   "metadata": {},
   "source": [
    "------"
   ]
  },
  {
   "cell_type": "markdown",
   "metadata": {},
   "source": [
    "# **7.** Filter for **Heterochromatic** and **Protein coding** (mRNA) genes"
   ]
  },
  {
   "cell_type": "markdown",
   "metadata": {},
   "source": [
    "------"
   ]
  },
  {
   "cell_type": "markdown",
   "metadata": {},
   "source": [
    "\n",
    "**Remove entries** from merged results:\n",
    "- `ncRNA_gene`\n",
    "- (some) `pseudogene` \n",
    "- `rRNA_gene`\n",
    "- `snRNA_gene`\n",
    "- `snoRNA_gene`\n",
    "- `tRNA_gene` "
   ]
  },
  {
   "cell_type": "markdown",
   "metadata": {},
   "source": [
    "Filter **merged_tpm_df**: \n",
    "- Keep only **Heterochromatic** and **protein coding genes** (mRNA) "
   ]
  },
  {
   "cell_type": "code",
   "execution_count": 82,
   "metadata": {},
   "outputs": [],
   "source": [
    "#merged_tpm_df = merged_tpm_df[(merged_tpm_df['type']=='gene') | (merged_tpm_df['category'] =='repeat')]\n",
    "merged_tpm_df = merged_tpm_df[(merged_tpm_df['bio_type'] == 'mRNA') | (merged_tpm_df['category'] == 'repeat')]"
   ]
  },
  {
   "cell_type": "code",
   "execution_count": 83,
   "metadata": {},
   "outputs": [
    {
     "data": {
      "text/html": [
       "<div>\n",
       "<style scoped>\n",
       "    .dataframe tbody tr th:only-of-type {\n",
       "        vertical-align: middle;\n",
       "    }\n",
       "\n",
       "    .dataframe tbody tr th {\n",
       "        vertical-align: top;\n",
       "    }\n",
       "\n",
       "    .dataframe thead th {\n",
       "        text-align: right;\n",
       "    }\n",
       "</style>\n",
       "<table border=\"1\" class=\"dataframe\">\n",
       "  <thead>\n",
       "    <tr style=\"text-align: right;\">\n",
       "      <th></th>\n",
       "      <th>gene_id</th>\n",
       "      <th>gene_name</th>\n",
       "      <th>length</th>\n",
       "      <th>type</th>\n",
       "      <th>category</th>\n",
       "      <th>bio_type</th>\n",
       "      <th>1022_S2-ChIP</th>\n",
       "      <th>1168_S2-ChIP</th>\n",
       "      <th>301_S2-ChIP</th>\n",
       "      <th>302_S2-ChIP</th>\n",
       "      <th>...</th>\n",
       "      <th>504_S2-ChIP</th>\n",
       "      <th>510_S2-ChIP</th>\n",
       "      <th>523_S2-ChIP</th>\n",
       "      <th>530_S2-ChIP</th>\n",
       "      <th>544_S2-ChIP</th>\n",
       "      <th>638_S2-ChIP</th>\n",
       "      <th>80_S2-ChIP</th>\n",
       "      <th>80_S5-ChIP</th>\n",
       "      <th>WT_S2-ChIP</th>\n",
       "      <th>WT_S5-ChIP</th>\n",
       "    </tr>\n",
       "  </thead>\n",
       "  <tbody>\n",
       "    <tr>\n",
       "      <th>0</th>\n",
       "      <td>FP565355_region_1..2120</td>\n",
       "      <td>NaN</td>\n",
       "      <td>2120</td>\n",
       "      <td>region</td>\n",
       "      <td>repeat</td>\n",
       "      <td>region</td>\n",
       "      <td>36.353199</td>\n",
       "      <td>31.604013</td>\n",
       "      <td>25.447595</td>\n",
       "      <td>34.155106</td>\n",
       "      <td>...</td>\n",
       "      <td>82.344549</td>\n",
       "      <td>22.183831</td>\n",
       "      <td>131.192765</td>\n",
       "      <td>75.910257</td>\n",
       "      <td>8.783881</td>\n",
       "      <td>26.188978</td>\n",
       "      <td>20.314666</td>\n",
       "      <td>17.282842</td>\n",
       "      <td>53.476467</td>\n",
       "      <td>14.386670</td>\n",
       "    </tr>\n",
       "    <tr>\n",
       "      <th>1</th>\n",
       "      <td>FP565355_region_15417..15473</td>\n",
       "      <td>NaN</td>\n",
       "      <td>57</td>\n",
       "      <td>region</td>\n",
       "      <td>repeat</td>\n",
       "      <td>region</td>\n",
       "      <td>32.989946</td>\n",
       "      <td>0.000000</td>\n",
       "      <td>101.717017</td>\n",
       "      <td>55.581202</td>\n",
       "      <td>...</td>\n",
       "      <td>35.620283</td>\n",
       "      <td>25.716713</td>\n",
       "      <td>30.158095</td>\n",
       "      <td>112.748997</td>\n",
       "      <td>9.204962</td>\n",
       "      <td>0.000000</td>\n",
       "      <td>0.000000</td>\n",
       "      <td>0.000000</td>\n",
       "      <td>207.093084</td>\n",
       "      <td>0.000000</td>\n",
       "    </tr>\n",
       "    <tr>\n",
       "      <th>2</th>\n",
       "      <td>FP565355_region_15474..15608</td>\n",
       "      <td>NaN</td>\n",
       "      <td>135</td>\n",
       "      <td>region</td>\n",
       "      <td>repeat</td>\n",
       "      <td>region</td>\n",
       "      <td>55.543018</td>\n",
       "      <td>35.786011</td>\n",
       "      <td>42.055579</td>\n",
       "      <td>103.330550</td>\n",
       "      <td>...</td>\n",
       "      <td>284.326357</td>\n",
       "      <td>53.698150</td>\n",
       "      <td>259.546526</td>\n",
       "      <td>177.695904</td>\n",
       "      <td>47.749498</td>\n",
       "      <td>100.410479</td>\n",
       "      <td>33.232083</td>\n",
       "      <td>35.399402</td>\n",
       "      <td>53.214594</td>\n",
       "      <td>55.465929</td>\n",
       "    </tr>\n",
       "    <tr>\n",
       "      <th>3</th>\n",
       "      <td>FP565355_region_15609..16735</td>\n",
       "      <td>NaN</td>\n",
       "      <td>1127</td>\n",
       "      <td>region</td>\n",
       "      <td>repeat</td>\n",
       "      <td>region</td>\n",
       "      <td>57.460638</td>\n",
       "      <td>10.993232</td>\n",
       "      <td>40.619884</td>\n",
       "      <td>31.836483</td>\n",
       "      <td>...</td>\n",
       "      <td>55.698312</td>\n",
       "      <td>29.545178</td>\n",
       "      <td>112.472071</td>\n",
       "      <td>114.430437</td>\n",
       "      <td>23.119050</td>\n",
       "      <td>31.980414</td>\n",
       "      <td>44.331171</td>\n",
       "      <td>52.151483</td>\n",
       "      <td>62.637044</td>\n",
       "      <td>22.864137</td>\n",
       "    </tr>\n",
       "    <tr>\n",
       "      <th>4</th>\n",
       "      <td>FP565355_region_16736..16794</td>\n",
       "      <td>NaN</td>\n",
       "      <td>59</td>\n",
       "      <td>region</td>\n",
       "      <td>repeat</td>\n",
       "      <td>region</td>\n",
       "      <td>105.639842</td>\n",
       "      <td>26.961737</td>\n",
       "      <td>21.862377</td>\n",
       "      <td>54.908906</td>\n",
       "      <td>...</td>\n",
       "      <td>44.786774</td>\n",
       "      <td>49.165672</td>\n",
       "      <td>240.632152</td>\n",
       "      <td>150.771303</td>\n",
       "      <td>115.088074</td>\n",
       "      <td>162.738097</td>\n",
       "      <td>90.572514</td>\n",
       "      <td>137.515068</td>\n",
       "      <td>51.058611</td>\n",
       "      <td>230.700837</td>\n",
       "    </tr>\n",
       "  </tbody>\n",
       "</table>\n",
       "<p>5 rows × 22 columns</p>\n",
       "</div>"
      ],
      "text/plain": [
       "                        gene_id gene_name  length    type category bio_type  \\\n",
       "0       FP565355_region_1..2120       NaN    2120  region   repeat   region   \n",
       "1  FP565355_region_15417..15473       NaN      57  region   repeat   region   \n",
       "2  FP565355_region_15474..15608       NaN     135  region   repeat   region   \n",
       "3  FP565355_region_15609..16735       NaN    1127  region   repeat   region   \n",
       "4  FP565355_region_16736..16794       NaN      59  region   repeat   region   \n",
       "\n",
       "   1022_S2-ChIP  1168_S2-ChIP  301_S2-ChIP  302_S2-ChIP  ...  504_S2-ChIP  \\\n",
       "0     36.353199     31.604013    25.447595    34.155106  ...    82.344549   \n",
       "1     32.989946      0.000000   101.717017    55.581202  ...    35.620283   \n",
       "2     55.543018     35.786011    42.055579   103.330550  ...   284.326357   \n",
       "3     57.460638     10.993232    40.619884    31.836483  ...    55.698312   \n",
       "4    105.639842     26.961737    21.862377    54.908906  ...    44.786774   \n",
       "\n",
       "   510_S2-ChIP  523_S2-ChIP  530_S2-ChIP  544_S2-ChIP  638_S2-ChIP  \\\n",
       "0    22.183831   131.192765    75.910257     8.783881    26.188978   \n",
       "1    25.716713    30.158095   112.748997     9.204962     0.000000   \n",
       "2    53.698150   259.546526   177.695904    47.749498   100.410479   \n",
       "3    29.545178   112.472071   114.430437    23.119050    31.980414   \n",
       "4    49.165672   240.632152   150.771303   115.088074   162.738097   \n",
       "\n",
       "   80_S2-ChIP  80_S5-ChIP  WT_S2-ChIP  WT_S5-ChIP  \n",
       "0   20.314666   17.282842   53.476467   14.386670  \n",
       "1    0.000000    0.000000  207.093084    0.000000  \n",
       "2   33.232083   35.399402   53.214594   55.465929  \n",
       "3   44.331171   52.151483   62.637044   22.864137  \n",
       "4   90.572514  137.515068   51.058611  230.700837  \n",
       "\n",
       "[5 rows x 22 columns]"
      ]
     },
     "execution_count": 83,
     "metadata": {},
     "output_type": "execute_result"
    }
   ],
   "source": [
    "merged_tpm_df.head()"
   ]
  },
  {
   "cell_type": "code",
   "execution_count": 84,
   "metadata": {},
   "outputs": [
    {
     "data": {
      "text/plain": [
       "(5159, 22)"
      ]
     },
     "execution_count": 84,
     "metadata": {},
     "output_type": "execute_result"
    }
   ],
   "source": [
    "merged_tpm_df.shape"
   ]
  },
  {
   "cell_type": "markdown",
   "metadata": {},
   "source": [
    "#### <font color='red'> Deal with **NAs**: *Drop* or *fill with zeros?* </font>"
   ]
  },
  {
   "cell_type": "code",
   "execution_count": 85,
   "metadata": {},
   "outputs": [],
   "source": [
    "# Deal with NAs: Drop or fill with zeros?\n",
    "# => it should already have been taken care of! \n",
    "\n",
    "# (NOT USED) in most plots we get rid of nan's, here we set them to zero\n",
    "#merged_tpm_df = merged_tpm_df.fillna(0) # undesired off-target effects to other columns (e.g. `gene_name`)\n",
    "#merged_tpm_df = merged_tpm_df.fillna({kk:0 for kk in sample_cols})\n",
    "\n",
    "# (NOT USED) drop row (axis - 0) if it finds ANY `na`, becareful when adding new columns!\n",
    "#merged_tpm_df = merged_tpm_df.dropna(subset = sample_cols) \n",
    "#merged_tpm_df = merged_tpm_df.dropna(0)"
   ]
  },
  {
   "cell_type": "markdown",
   "metadata": {},
   "source": [
    "- Store a copy of **merged_tpm_filtered_df**: `chip_merged_filtered_tpm.csv`"
   ]
  },
  {
   "cell_type": "code",
   "execution_count": 86,
   "metadata": {},
   "outputs": [],
   "source": [
    "merged_tpm_df.to_csv(os.path.join(out_dir, 'chip_merged_filtered_tpm.csv'), sep='\\t', index=None)"
   ]
  },
  {
   "cell_type": "markdown",
   "metadata": {},
   "source": [
    "------"
   ]
  },
  {
   "cell_type": "markdown",
   "metadata": {},
   "source": [
    "# **8.** Check **repeat genes** correlations by replicates "
   ]
  },
  {
   "cell_type": "markdown",
   "metadata": {},
   "source": [
    "------"
   ]
  },
  {
   "cell_type": "markdown",
   "metadata": {},
   "source": [
    "Here we go back to the Data Frame used **before merging** replicates: `tpm_df` and filter for **Heterochromatic genes** (repeats)"
   ]
  },
  {
   "cell_type": "markdown",
   "metadata": {},
   "source": [
    "- Keep only **Heterochromatic genes** (repeats)"
   ]
  },
  {
   "cell_type": "code",
   "execution_count": 87,
   "metadata": {},
   "outputs": [
    {
     "data": {
      "text/html": [
       "<div>\n",
       "<style scoped>\n",
       "    .dataframe tbody tr th:only-of-type {\n",
       "        vertical-align: middle;\n",
       "    }\n",
       "\n",
       "    .dataframe tbody tr th {\n",
       "        vertical-align: top;\n",
       "    }\n",
       "\n",
       "    .dataframe thead th {\n",
       "        text-align: right;\n",
       "    }\n",
       "</style>\n",
       "<table border=\"1\" class=\"dataframe\">\n",
       "  <thead>\n",
       "    <tr style=\"text-align: right;\">\n",
       "      <th></th>\n",
       "      <th>gene_id</th>\n",
       "      <th>seqid</th>\n",
       "      <th>type</th>\n",
       "      <th>start</th>\n",
       "      <th>end</th>\n",
       "      <th>strand</th>\n",
       "      <th>gene_name</th>\n",
       "      <th>cds_length</th>\n",
       "      <th>utr_length</th>\n",
       "      <th>intron_length</th>\n",
       "      <th>...</th>\n",
       "      <th>80_S2-ChIP_1</th>\n",
       "      <th>80_S2-ChIP_2</th>\n",
       "      <th>80_S2-ChIP_3</th>\n",
       "      <th>80_S5-ChIP_1</th>\n",
       "      <th>80_S5-ChIP_2</th>\n",
       "      <th>WT_S2-ChIP_1</th>\n",
       "      <th>WT_S2-ChIP_3</th>\n",
       "      <th>WT_S5-ChIP_1</th>\n",
       "      <th>WT_S5-ChIP_2</th>\n",
       "      <th>length</th>\n",
       "    </tr>\n",
       "  </thead>\n",
       "  <tbody>\n",
       "    <tr>\n",
       "      <th>0</th>\n",
       "      <td>FP565355_region_1..2120</td>\n",
       "      <td>mating_type_region</td>\n",
       "      <td>region</td>\n",
       "      <td>1</td>\n",
       "      <td>2120</td>\n",
       "      <td>+</td>\n",
       "      <td>NaN</td>\n",
       "      <td>NaN</td>\n",
       "      <td>NaN</td>\n",
       "      <td>NaN</td>\n",
       "      <td>...</td>\n",
       "      <td>41.523328</td>\n",
       "      <td>7.936841</td>\n",
       "      <td>11.483831</td>\n",
       "      <td>13.021492</td>\n",
       "      <td>21.544192</td>\n",
       "      <td>66.004963</td>\n",
       "      <td>40.947970</td>\n",
       "      <td>23.136412</td>\n",
       "      <td>5.636927</td>\n",
       "      <td>2120</td>\n",
       "    </tr>\n",
       "    <tr>\n",
       "      <th>1</th>\n",
       "      <td>FP565355_region_15417..15473</td>\n",
       "      <td>mating_type_region</td>\n",
       "      <td>region</td>\n",
       "      <td>15417</td>\n",
       "      <td>15473</td>\n",
       "      <td>+</td>\n",
       "      <td>NaN</td>\n",
       "      <td>NaN</td>\n",
       "      <td>NaN</td>\n",
       "      <td>NaN</td>\n",
       "      <td>...</td>\n",
       "      <td>0.000000</td>\n",
       "      <td>0.000000</td>\n",
       "      <td>0.000000</td>\n",
       "      <td>0.000000</td>\n",
       "      <td>0.000000</td>\n",
       "      <td>371.637325</td>\n",
       "      <td>42.548842</td>\n",
       "      <td>0.000000</td>\n",
       "      <td>0.000000</td>\n",
       "      <td>57</td>\n",
       "    </tr>\n",
       "    <tr>\n",
       "      <th>2</th>\n",
       "      <td>FP565355_region_15474..15608</td>\n",
       "      <td>mating_type_region</td>\n",
       "      <td>region</td>\n",
       "      <td>15474</td>\n",
       "      <td>15608</td>\n",
       "      <td>+</td>\n",
       "      <td>NaN</td>\n",
       "      <td>NaN</td>\n",
       "      <td>NaN</td>\n",
       "      <td>NaN</td>\n",
       "      <td>...</td>\n",
       "      <td>60.192701</td>\n",
       "      <td>0.000000</td>\n",
       "      <td>39.503547</td>\n",
       "      <td>21.339404</td>\n",
       "      <td>49.459400</td>\n",
       "      <td>45.515078</td>\n",
       "      <td>60.914110</td>\n",
       "      <td>67.196362</td>\n",
       "      <td>43.735495</td>\n",
       "      <td>135</td>\n",
       "    </tr>\n",
       "    <tr>\n",
       "      <th>3</th>\n",
       "      <td>FP565355_region_15609..16735</td>\n",
       "      <td>mating_type_region</td>\n",
       "      <td>region</td>\n",
       "      <td>15609</td>\n",
       "      <td>16735</td>\n",
       "      <td>+</td>\n",
       "      <td>NaN</td>\n",
       "      <td>NaN</td>\n",
       "      <td>NaN</td>\n",
       "      <td>NaN</td>\n",
       "      <td>...</td>\n",
       "      <td>61.052081</td>\n",
       "      <td>39.888992</td>\n",
       "      <td>32.052439</td>\n",
       "      <td>42.637502</td>\n",
       "      <td>61.665463</td>\n",
       "      <td>72.944537</td>\n",
       "      <td>52.329550</td>\n",
       "      <td>45.728274</td>\n",
       "      <td>0.000000</td>\n",
       "      <td>1127</td>\n",
       "    </tr>\n",
       "    <tr>\n",
       "      <th>4</th>\n",
       "      <td>FP565355_region_16736..16794</td>\n",
       "      <td>mating_type_region</td>\n",
       "      <td>region</td>\n",
       "      <td>16736</td>\n",
       "      <td>16794</td>\n",
       "      <td>+</td>\n",
       "      <td>NaN</td>\n",
       "      <td>NaN</td>\n",
       "      <td>NaN</td>\n",
       "      <td>NaN</td>\n",
       "      <td>...</td>\n",
       "      <td>119.459360</td>\n",
       "      <td>34.907401</td>\n",
       "      <td>117.350779</td>\n",
       "      <td>101.019563</td>\n",
       "      <td>174.010572</td>\n",
       "      <td>0.000000</td>\n",
       "      <td>102.117222</td>\n",
       "      <td>382.549419</td>\n",
       "      <td>78.852255</td>\n",
       "      <td>59</td>\n",
       "    </tr>\n",
       "  </tbody>\n",
       "</table>\n",
       "<p>5 rows × 47 columns</p>\n",
       "</div>"
      ],
      "text/plain": [
       "                        gene_id               seqid    type  start    end  \\\n",
       "0       FP565355_region_1..2120  mating_type_region  region      1   2120   \n",
       "1  FP565355_region_15417..15473  mating_type_region  region  15417  15473   \n",
       "2  FP565355_region_15474..15608  mating_type_region  region  15474  15608   \n",
       "3  FP565355_region_15609..16735  mating_type_region  region  15609  16735   \n",
       "4  FP565355_region_16736..16794  mating_type_region  region  16736  16794   \n",
       "\n",
       "  strand gene_name  cds_length  utr_length  intron_length  ...  80_S2-ChIP_1  \\\n",
       "0      +       NaN         NaN         NaN            NaN  ...     41.523328   \n",
       "1      +       NaN         NaN         NaN            NaN  ...      0.000000   \n",
       "2      +       NaN         NaN         NaN            NaN  ...     60.192701   \n",
       "3      +       NaN         NaN         NaN            NaN  ...     61.052081   \n",
       "4      +       NaN         NaN         NaN            NaN  ...    119.459360   \n",
       "\n",
       "  80_S2-ChIP_2 80_S2-ChIP_3  80_S5-ChIP_1  80_S5-ChIP_2  WT_S2-ChIP_1  \\\n",
       "0     7.936841    11.483831     13.021492     21.544192     66.004963   \n",
       "1     0.000000     0.000000      0.000000      0.000000    371.637325   \n",
       "2     0.000000    39.503547     21.339404     49.459400     45.515078   \n",
       "3    39.888992    32.052439     42.637502     61.665463     72.944537   \n",
       "4    34.907401   117.350779    101.019563    174.010572      0.000000   \n",
       "\n",
       "   WT_S2-ChIP_3  WT_S5-ChIP_1  WT_S5-ChIP_2  length  \n",
       "0     40.947970     23.136412      5.636927    2120  \n",
       "1     42.548842      0.000000      0.000000      57  \n",
       "2     60.914110     67.196362     43.735495     135  \n",
       "3     52.329550     45.728274      0.000000    1127  \n",
       "4    102.117222    382.549419     78.852255      59  \n",
       "\n",
       "[5 rows x 47 columns]"
      ]
     },
     "execution_count": 87,
     "metadata": {},
     "output_type": "execute_result"
    }
   ],
   "source": [
    "tpm_rep_df = tpm_df[tpm_df['category'] == 'repeat']\n",
    "tpm_rep_df.head()"
   ]
  },
  {
   "cell_type": "code",
   "execution_count": 88,
   "metadata": {},
   "outputs": [
    {
     "data": {
      "text/plain": [
       "(39, 47)"
      ]
     },
     "execution_count": 88,
     "metadata": {},
     "output_type": "execute_result"
    }
   ],
   "source": [
    "tpm_rep_df.shape"
   ]
  },
  {
   "cell_type": "markdown",
   "metadata": {},
   "source": [
    "- Select columns of interest"
   ]
  },
  {
   "cell_type": "code",
   "execution_count": 89,
   "metadata": {},
   "outputs": [],
   "source": [
    "#select_cols = ['gene-id', 'gene-name', 'type', 'category', 'bio_type']\n",
    "select_cols = ['gene_id', 'gene_name', 'type', 'category', 'bio_type']"
   ]
  },
  {
   "cell_type": "code",
   "execution_count": 90,
   "metadata": {},
   "outputs": [],
   "source": [
    "select_cols.extend(sample_cols)"
   ]
  },
  {
   "cell_type": "code",
   "execution_count": 91,
   "metadata": {},
   "outputs": [
    {
     "data": {
      "text/plain": [
       "(39, 38)"
      ]
     },
     "execution_count": 91,
     "metadata": {},
     "output_type": "execute_result"
    }
   ],
   "source": [
    "tpm_rep_df = tpm_rep_df[select_cols]\n",
    "tpm_rep_df.shape"
   ]
  },
  {
   "cell_type": "markdown",
   "metadata": {},
   "source": [
    "- **Log-transform** (tpm-normed)  **gene expression Matrix**:"
   ]
  },
  {
   "cell_type": "code",
   "execution_count": 92,
   "metadata": {},
   "outputs": [
    {
     "data": {
      "text/html": [
       "<div>\n",
       "<style scoped>\n",
       "    .dataframe tbody tr th:only-of-type {\n",
       "        vertical-align: middle;\n",
       "    }\n",
       "\n",
       "    .dataframe tbody tr th {\n",
       "        vertical-align: top;\n",
       "    }\n",
       "\n",
       "    .dataframe thead th {\n",
       "        text-align: right;\n",
       "    }\n",
       "</style>\n",
       "<table border=\"1\" class=\"dataframe\">\n",
       "  <thead>\n",
       "    <tr style=\"text-align: right;\">\n",
       "      <th></th>\n",
       "      <th>gene_id</th>\n",
       "      <th>gene_name</th>\n",
       "      <th>type</th>\n",
       "      <th>category</th>\n",
       "      <th>bio_type</th>\n",
       "      <th>1022_S2-ChIP_1</th>\n",
       "      <th>1022_S2-ChIP_2</th>\n",
       "      <th>1168_S2-ChIP_1</th>\n",
       "      <th>1168_S2-ChIP_2</th>\n",
       "      <th>301_S2-ChIP_1</th>\n",
       "      <th>...</th>\n",
       "      <th>638_S2-ChIP_2</th>\n",
       "      <th>80_S2-ChIP_1</th>\n",
       "      <th>80_S2-ChIP_2</th>\n",
       "      <th>80_S2-ChIP_3</th>\n",
       "      <th>80_S5-ChIP_1</th>\n",
       "      <th>80_S5-ChIP_2</th>\n",
       "      <th>WT_S2-ChIP_1</th>\n",
       "      <th>WT_S2-ChIP_3</th>\n",
       "      <th>WT_S5-ChIP_1</th>\n",
       "      <th>WT_S5-ChIP_2</th>\n",
       "    </tr>\n",
       "  </thead>\n",
       "  <tbody>\n",
       "    <tr>\n",
       "      <th>0</th>\n",
       "      <td>FP565355_region_1..2120</td>\n",
       "      <td>NaN</td>\n",
       "      <td>region</td>\n",
       "      <td>repeat</td>\n",
       "      <td>region</td>\n",
       "      <td>5.138924</td>\n",
       "      <td>5.302748</td>\n",
       "      <td>5.272847</td>\n",
       "      <td>4.730420</td>\n",
       "      <td>5.284340</td>\n",
       "      <td>...</td>\n",
       "      <td>4.736350</td>\n",
       "      <td>5.410183</td>\n",
       "      <td>3.159765</td>\n",
       "      <td>3.641989</td>\n",
       "      <td>3.809568</td>\n",
       "      <td>4.494684</td>\n",
       "      <td>6.066196</td>\n",
       "      <td>5.390529</td>\n",
       "      <td>4.593139</td>\n",
       "      <td>2.730515</td>\n",
       "    </tr>\n",
       "    <tr>\n",
       "      <th>1</th>\n",
       "      <td>FP565355_region_15417..15473</td>\n",
       "      <td>NaN</td>\n",
       "      <td>region</td>\n",
       "      <td>repeat</td>\n",
       "      <td>region</td>\n",
       "      <td>0.000000</td>\n",
       "      <td>6.065656</td>\n",
       "      <td>0.000000</td>\n",
       "      <td>0.000000</td>\n",
       "      <td>0.000000</td>\n",
       "      <td>...</td>\n",
       "      <td>0.000000</td>\n",
       "      <td>0.000000</td>\n",
       "      <td>0.000000</td>\n",
       "      <td>0.000000</td>\n",
       "      <td>0.000000</td>\n",
       "      <td>0.000000</td>\n",
       "      <td>8.541628</td>\n",
       "      <td>5.444562</td>\n",
       "      <td>0.000000</td>\n",
       "      <td>0.000000</td>\n",
       "    </tr>\n",
       "    <tr>\n",
       "      <th>2</th>\n",
       "      <td>FP565355_region_15474..15608</td>\n",
       "      <td>NaN</td>\n",
       "      <td>region</td>\n",
       "      <td>repeat</td>\n",
       "      <td>region</td>\n",
       "      <td>5.676155</td>\n",
       "      <td>5.953126</td>\n",
       "      <td>4.613577</td>\n",
       "      <td>5.617394</td>\n",
       "      <td>6.403127</td>\n",
       "      <td>...</td>\n",
       "      <td>6.508178</td>\n",
       "      <td>5.935288</td>\n",
       "      <td>0.000000</td>\n",
       "      <td>5.339976</td>\n",
       "      <td>4.481519</td>\n",
       "      <td>5.657051</td>\n",
       "      <td>5.539627</td>\n",
       "      <td>5.952196</td>\n",
       "      <td>6.091623</td>\n",
       "      <td>5.483348</td>\n",
       "    </tr>\n",
       "    <tr>\n",
       "      <th>3</th>\n",
       "      <td>FP565355_region_15609..16735</td>\n",
       "      <td>NaN</td>\n",
       "      <td>region</td>\n",
       "      <td>repeat</td>\n",
       "      <td>region</td>\n",
       "      <td>5.579121</td>\n",
       "      <td>6.110932</td>\n",
       "      <td>0.000000</td>\n",
       "      <td>4.522713</td>\n",
       "      <td>5.825185</td>\n",
       "      <td>...</td>\n",
       "      <td>5.254012</td>\n",
       "      <td>5.955408</td>\n",
       "      <td>5.353641</td>\n",
       "      <td>5.046685</td>\n",
       "      <td>5.447497</td>\n",
       "      <td>5.969599</td>\n",
       "      <td>6.208372</td>\n",
       "      <td>5.736863</td>\n",
       "      <td>5.546224</td>\n",
       "      <td>0.000000</td>\n",
       "    </tr>\n",
       "    <tr>\n",
       "      <th>4</th>\n",
       "      <td>FP565355_region_16736..16794</td>\n",
       "      <td>NaN</td>\n",
       "      <td>region</td>\n",
       "      <td>repeat</td>\n",
       "      <td>region</td>\n",
       "      <td>5.887283</td>\n",
       "      <td>7.267626</td>\n",
       "      <td>5.779351</td>\n",
       "      <td>0.000000</td>\n",
       "      <td>0.000000</td>\n",
       "      <td>...</td>\n",
       "      <td>7.296763</td>\n",
       "      <td>6.912403</td>\n",
       "      <td>5.166209</td>\n",
       "      <td>6.886925</td>\n",
       "      <td>6.672702</td>\n",
       "      <td>7.451298</td>\n",
       "      <td>0.000000</td>\n",
       "      <td>6.688141</td>\n",
       "      <td>8.583269</td>\n",
       "      <td>6.319261</td>\n",
       "    </tr>\n",
       "  </tbody>\n",
       "</table>\n",
       "<p>5 rows × 38 columns</p>\n",
       "</div>"
      ],
      "text/plain": [
       "                        gene_id gene_name    type category bio_type  \\\n",
       "0       FP565355_region_1..2120       NaN  region   repeat   region   \n",
       "1  FP565355_region_15417..15473       NaN  region   repeat   region   \n",
       "2  FP565355_region_15474..15608       NaN  region   repeat   region   \n",
       "3  FP565355_region_15609..16735       NaN  region   repeat   region   \n",
       "4  FP565355_region_16736..16794       NaN  region   repeat   region   \n",
       "\n",
       "   1022_S2-ChIP_1  1022_S2-ChIP_2  1168_S2-ChIP_1  1168_S2-ChIP_2  \\\n",
       "0        5.138924        5.302748        5.272847        4.730420   \n",
       "1        0.000000        6.065656        0.000000        0.000000   \n",
       "2        5.676155        5.953126        4.613577        5.617394   \n",
       "3        5.579121        6.110932        0.000000        4.522713   \n",
       "4        5.887283        7.267626        5.779351        0.000000   \n",
       "\n",
       "   301_S2-ChIP_1  ...  638_S2-ChIP_2  80_S2-ChIP_1  80_S2-ChIP_2  \\\n",
       "0       5.284340  ...       4.736350      5.410183      3.159765   \n",
       "1       0.000000  ...       0.000000      0.000000      0.000000   \n",
       "2       6.403127  ...       6.508178      5.935288      0.000000   \n",
       "3       5.825185  ...       5.254012      5.955408      5.353641   \n",
       "4       0.000000  ...       7.296763      6.912403      5.166209   \n",
       "\n",
       "   80_S2-ChIP_3  80_S5-ChIP_1  80_S5-ChIP_2  WT_S2-ChIP_1  WT_S2-ChIP_3  \\\n",
       "0      3.641989      3.809568      4.494684      6.066196      5.390529   \n",
       "1      0.000000      0.000000      0.000000      8.541628      5.444562   \n",
       "2      5.339976      4.481519      5.657051      5.539627      5.952196   \n",
       "3      5.046685      5.447497      5.969599      6.208372      5.736863   \n",
       "4      6.886925      6.672702      7.451298      0.000000      6.688141   \n",
       "\n",
       "   WT_S5-ChIP_1  WT_S5-ChIP_2  \n",
       "0      4.593139      2.730515  \n",
       "1      0.000000      0.000000  \n",
       "2      6.091623      5.483348  \n",
       "3      5.546224      0.000000  \n",
       "4      8.583269      6.319261  \n",
       "\n",
       "[5 rows x 38 columns]"
      ]
     },
     "execution_count": 92,
     "metadata": {},
     "output_type": "execute_result"
    }
   ],
   "source": [
    "#log2_tpm_df = to_log2_tpm(tpm_df)\n",
    "tpm_rep_df_l2 = to_log2_tpm(tpm_rep_df, gene_id_col='gene_id') # default shift=1\n",
    "tpm_rep_df_l2.head()"
   ]
  },
  {
   "cell_type": "markdown",
   "metadata": {},
   "source": [
    "- Run **correlation checks**  for all **pair-wise sample combinations**:"
   ]
  },
  {
   "cell_type": "code",
   "execution_count": 93,
   "metadata": {},
   "outputs": [],
   "source": [
    "out_htc_corr = os.path.join(out_dir, 'htc_CORR')\n",
    "if not os.path.isdir(out_htc_corr):    \n",
    "    !mkdir -p $out_htc_corr"
   ]
  },
  {
   "cell_type": "code",
   "execution_count": 94,
   "metadata": {},
   "outputs": [
    {
     "data": {
      "text/html": [
       "<div>\n",
       "<style scoped>\n",
       "    .dataframe tbody tr th:only-of-type {\n",
       "        vertical-align: middle;\n",
       "    }\n",
       "\n",
       "    .dataframe tbody tr th {\n",
       "        vertical-align: top;\n",
       "    }\n",
       "\n",
       "    .dataframe thead th {\n",
       "        text-align: right;\n",
       "    }\n",
       "</style>\n",
       "<table border=\"1\" class=\"dataframe\">\n",
       "  <thead>\n",
       "    <tr style=\"text-align: right;\">\n",
       "      <th></th>\n",
       "      <th>Sample1</th>\n",
       "      <th>Sample2</th>\n",
       "      <th>Correlation</th>\n",
       "      <th>P-value</th>\n",
       "    </tr>\n",
       "  </thead>\n",
       "  <tbody>\n",
       "    <tr>\n",
       "      <th>0</th>\n",
       "      <td>1022_S2-ChIP_1</td>\n",
       "      <td>1022_S2-ChIP_2</td>\n",
       "      <td>0.825588</td>\n",
       "      <td>9.958645e-11</td>\n",
       "    </tr>\n",
       "    <tr>\n",
       "      <th>1</th>\n",
       "      <td>1168_S2-ChIP_1</td>\n",
       "      <td>1168_S2-ChIP_2</td>\n",
       "      <td>0.651241</td>\n",
       "      <td>7.134070e-06</td>\n",
       "    </tr>\n",
       "    <tr>\n",
       "      <th>2</th>\n",
       "      <td>301_S2-ChIP_1</td>\n",
       "      <td>301_S2-ChIP_2</td>\n",
       "      <td>0.625471</td>\n",
       "      <td>2.067094e-05</td>\n",
       "    </tr>\n",
       "    <tr>\n",
       "      <th>3</th>\n",
       "      <td>302_S2-ChIP_1</td>\n",
       "      <td>302_S2-ChIP_2</td>\n",
       "      <td>0.817912</td>\n",
       "      <td>2.061308e-10</td>\n",
       "    </tr>\n",
       "    <tr>\n",
       "      <th>4</th>\n",
       "      <td>324_S2-ChIP_1</td>\n",
       "      <td>324_S2-ChIP_2</td>\n",
       "      <td>0.956403</td>\n",
       "      <td>2.265821e-21</td>\n",
       "    </tr>\n",
       "    <tr>\n",
       "      <th>5</th>\n",
       "      <td>491_S2-ChIP_1</td>\n",
       "      <td>491_S2-ChIP_2</td>\n",
       "      <td>0.890557</td>\n",
       "      <td>3.193402e-14</td>\n",
       "    </tr>\n",
       "    <tr>\n",
       "      <th>6</th>\n",
       "      <td>504_S2-ChIP_1</td>\n",
       "      <td>504_S2-ChIP_2</td>\n",
       "      <td>0.793032</td>\n",
       "      <td>1.757299e-09</td>\n",
       "    </tr>\n",
       "    <tr>\n",
       "      <th>7</th>\n",
       "      <td>510_S2-ChIP_2</td>\n",
       "      <td>591_S2-ChIP_1</td>\n",
       "      <td>0.969343</td>\n",
       "      <td>3.744198e-24</td>\n",
       "    </tr>\n",
       "    <tr>\n",
       "      <th>8</th>\n",
       "      <td>523_S2-ChIP_1</td>\n",
       "      <td>524_S2-ChIP_1</td>\n",
       "      <td>0.931224</td>\n",
       "      <td>8.407465e-18</td>\n",
       "    </tr>\n",
       "    <tr>\n",
       "      <th>9</th>\n",
       "      <td>530_S2-ChIP_1</td>\n",
       "      <td>530_S2-ChIP_2</td>\n",
       "      <td>0.687251</td>\n",
       "      <td>1.349116e-06</td>\n",
       "    </tr>\n",
       "    <tr>\n",
       "      <th>10</th>\n",
       "      <td>544_S2-ChIP_1</td>\n",
       "      <td>544_S2-ChIP_2</td>\n",
       "      <td>0.760585</td>\n",
       "      <td>1.927261e-08</td>\n",
       "    </tr>\n",
       "    <tr>\n",
       "      <th>11</th>\n",
       "      <td>638_S2-ChIP_1</td>\n",
       "      <td>638_S2-ChIP_2</td>\n",
       "      <td>0.912846</td>\n",
       "      <td>5.736764e-16</td>\n",
       "    </tr>\n",
       "    <tr>\n",
       "      <th>12</th>\n",
       "      <td>80_S2-ChIP_1</td>\n",
       "      <td>80_S2-ChIP_2</td>\n",
       "      <td>0.901963</td>\n",
       "      <td>4.604353e-15</td>\n",
       "    </tr>\n",
       "    <tr>\n",
       "      <th>13</th>\n",
       "      <td>80_S2-ChIP_1</td>\n",
       "      <td>80_S2-ChIP_3</td>\n",
       "      <td>0.955024</td>\n",
       "      <td>3.983486e-21</td>\n",
       "    </tr>\n",
       "    <tr>\n",
       "      <th>14</th>\n",
       "      <td>80_S2-ChIP_2</td>\n",
       "      <td>80_S2-ChIP_3</td>\n",
       "      <td>0.885521</td>\n",
       "      <td>7.024435e-14</td>\n",
       "    </tr>\n",
       "    <tr>\n",
       "      <th>15</th>\n",
       "      <td>80_S5-ChIP_1</td>\n",
       "      <td>80_S5-ChIP_2</td>\n",
       "      <td>0.966263</td>\n",
       "      <td>2.144588e-23</td>\n",
       "    </tr>\n",
       "    <tr>\n",
       "      <th>16</th>\n",
       "      <td>WT_S2-ChIP_1</td>\n",
       "      <td>WT_S2-ChIP_3</td>\n",
       "      <td>0.658476</td>\n",
       "      <td>5.196781e-06</td>\n",
       "    </tr>\n",
       "    <tr>\n",
       "      <th>17</th>\n",
       "      <td>WT_S5-ChIP_1</td>\n",
       "      <td>WT_S5-ChIP_2</td>\n",
       "      <td>0.715393</td>\n",
       "      <td>3.087150e-07</td>\n",
       "    </tr>\n",
       "  </tbody>\n",
       "</table>\n",
       "</div>"
      ],
      "text/plain": [
       "           Sample1         Sample2  Correlation       P-value\n",
       "0   1022_S2-ChIP_1  1022_S2-ChIP_2     0.825588  9.958645e-11\n",
       "1   1168_S2-ChIP_1  1168_S2-ChIP_2     0.651241  7.134070e-06\n",
       "2    301_S2-ChIP_1   301_S2-ChIP_2     0.625471  2.067094e-05\n",
       "3    302_S2-ChIP_1   302_S2-ChIP_2     0.817912  2.061308e-10\n",
       "4    324_S2-ChIP_1   324_S2-ChIP_2     0.956403  2.265821e-21\n",
       "5    491_S2-ChIP_1   491_S2-ChIP_2     0.890557  3.193402e-14\n",
       "6    504_S2-ChIP_1   504_S2-ChIP_2     0.793032  1.757299e-09\n",
       "7    510_S2-ChIP_2   591_S2-ChIP_1     0.969343  3.744198e-24\n",
       "8    523_S2-ChIP_1   524_S2-ChIP_1     0.931224  8.407465e-18\n",
       "9    530_S2-ChIP_1   530_S2-ChIP_2     0.687251  1.349116e-06\n",
       "10   544_S2-ChIP_1   544_S2-ChIP_2     0.760585  1.927261e-08\n",
       "11   638_S2-ChIP_1   638_S2-ChIP_2     0.912846  5.736764e-16\n",
       "12    80_S2-ChIP_1    80_S2-ChIP_2     0.901963  4.604353e-15\n",
       "13    80_S2-ChIP_1    80_S2-ChIP_3     0.955024  3.983486e-21\n",
       "14    80_S2-ChIP_2    80_S2-ChIP_3     0.885521  7.024435e-14\n",
       "15    80_S5-ChIP_1    80_S5-ChIP_2     0.966263  2.144588e-23\n",
       "16    WT_S2-ChIP_1    WT_S2-ChIP_3     0.658476  5.196781e-06\n",
       "17    WT_S5-ChIP_1    WT_S5-ChIP_2     0.715393  3.087150e-07"
      ]
     },
     "execution_count": 94,
     "metadata": {},
     "output_type": "execute_result"
    }
   ],
   "source": [
    "rpc.run_corr_checks(tpm_rep_df_l2, samples = sub_samples, out_dir = out_htc_corr, prefix = 'repeats.')"
   ]
  },
  {
   "cell_type": "markdown",
   "metadata": {},
   "source": [
    "- Import **correlation checks** for all **pair-wise sample combinations**: `correlations.csv`"
   ]
  },
  {
   "cell_type": "code",
   "execution_count": 95,
   "metadata": {},
   "outputs": [
    {
     "data": {
      "text/html": [
       "<div>\n",
       "<style scoped>\n",
       "    .dataframe tbody tr th:only-of-type {\n",
       "        vertical-align: middle;\n",
       "    }\n",
       "\n",
       "    .dataframe tbody tr th {\n",
       "        vertical-align: top;\n",
       "    }\n",
       "\n",
       "    .dataframe thead th {\n",
       "        text-align: right;\n",
       "    }\n",
       "</style>\n",
       "<table border=\"1\" class=\"dataframe\">\n",
       "  <thead>\n",
       "    <tr style=\"text-align: right;\">\n",
       "      <th></th>\n",
       "      <th>Sample1</th>\n",
       "      <th>Sample2</th>\n",
       "      <th>Correlation</th>\n",
       "      <th>P-value</th>\n",
       "    </tr>\n",
       "  </thead>\n",
       "  <tbody>\n",
       "    <tr>\n",
       "      <th>0</th>\n",
       "      <td>1022_S2-ChIP_1</td>\n",
       "      <td>1022_S2-ChIP_2</td>\n",
       "      <td>0.825588</td>\n",
       "      <td>9.958645e-11</td>\n",
       "    </tr>\n",
       "    <tr>\n",
       "      <th>1</th>\n",
       "      <td>1168_S2-ChIP_1</td>\n",
       "      <td>1168_S2-ChIP_2</td>\n",
       "      <td>0.651241</td>\n",
       "      <td>7.134070e-06</td>\n",
       "    </tr>\n",
       "    <tr>\n",
       "      <th>2</th>\n",
       "      <td>301_S2-ChIP_1</td>\n",
       "      <td>301_S2-ChIP_2</td>\n",
       "      <td>0.625471</td>\n",
       "      <td>2.067094e-05</td>\n",
       "    </tr>\n",
       "    <tr>\n",
       "      <th>3</th>\n",
       "      <td>302_S2-ChIP_1</td>\n",
       "      <td>302_S2-ChIP_2</td>\n",
       "      <td>0.817912</td>\n",
       "      <td>2.061308e-10</td>\n",
       "    </tr>\n",
       "    <tr>\n",
       "      <th>4</th>\n",
       "      <td>324_S2-ChIP_1</td>\n",
       "      <td>324_S2-ChIP_2</td>\n",
       "      <td>0.956403</td>\n",
       "      <td>2.265821e-21</td>\n",
       "    </tr>\n",
       "  </tbody>\n",
       "</table>\n",
       "</div>"
      ],
      "text/plain": [
       "          Sample1         Sample2  Correlation       P-value\n",
       "0  1022_S2-ChIP_1  1022_S2-ChIP_2     0.825588  9.958645e-11\n",
       "1  1168_S2-ChIP_1  1168_S2-ChIP_2     0.651241  7.134070e-06\n",
       "2   301_S2-ChIP_1   301_S2-ChIP_2     0.625471  2.067094e-05\n",
       "3   302_S2-ChIP_1   302_S2-ChIP_2     0.817912  2.061308e-10\n",
       "4   324_S2-ChIP_1   324_S2-ChIP_2     0.956403  2.265821e-21"
      ]
     },
     "execution_count": 95,
     "metadata": {},
     "output_type": "execute_result"
    }
   ],
   "source": [
    "rep_corr_df = pd.read_csv(os.path.join(out_htc_corr, 'repeats.correlations.csv'), sep='\\t')\n",
    "rep_corr_df.head()"
   ]
  },
  {
   "cell_type": "code",
   "execution_count": 96,
   "metadata": {},
   "outputs": [
    {
     "data": {
      "text/plain": [
       "(18, 4)"
      ]
     },
     "execution_count": 96,
     "metadata": {},
     "output_type": "execute_result"
    }
   ],
   "source": [
    "rep_corr_df.shape"
   ]
  },
  {
   "cell_type": "markdown",
   "metadata": {},
   "source": [
    "- Select **highly correlated** samples: `correlation > 0.85`"
   ]
  },
  {
   "cell_type": "code",
   "execution_count": 97,
   "metadata": {},
   "outputs": [],
   "source": [
    "# Highly correlated samples\n",
    "high_rep_corr_df = rep_corr_df[rep_corr_df['Correlation'] > .85]"
   ]
  },
  {
   "cell_type": "code",
   "execution_count": 98,
   "metadata": {},
   "outputs": [
    {
     "data": {
      "text/html": [
       "<div>\n",
       "<style scoped>\n",
       "    .dataframe tbody tr th:only-of-type {\n",
       "        vertical-align: middle;\n",
       "    }\n",
       "\n",
       "    .dataframe tbody tr th {\n",
       "        vertical-align: top;\n",
       "    }\n",
       "\n",
       "    .dataframe thead th {\n",
       "        text-align: right;\n",
       "    }\n",
       "</style>\n",
       "<table border=\"1\" class=\"dataframe\">\n",
       "  <thead>\n",
       "    <tr style=\"text-align: right;\">\n",
       "      <th></th>\n",
       "      <th>Sample1</th>\n",
       "      <th>Sample2</th>\n",
       "      <th>Correlation</th>\n",
       "      <th>P-value</th>\n",
       "    </tr>\n",
       "  </thead>\n",
       "  <tbody>\n",
       "    <tr>\n",
       "      <th>4</th>\n",
       "      <td>324_S2-ChIP_1</td>\n",
       "      <td>324_S2-ChIP_2</td>\n",
       "      <td>0.956403</td>\n",
       "      <td>2.265821e-21</td>\n",
       "    </tr>\n",
       "    <tr>\n",
       "      <th>5</th>\n",
       "      <td>491_S2-ChIP_1</td>\n",
       "      <td>491_S2-ChIP_2</td>\n",
       "      <td>0.890557</td>\n",
       "      <td>3.193402e-14</td>\n",
       "    </tr>\n",
       "    <tr>\n",
       "      <th>7</th>\n",
       "      <td>510_S2-ChIP_2</td>\n",
       "      <td>591_S2-ChIP_1</td>\n",
       "      <td>0.969343</td>\n",
       "      <td>3.744198e-24</td>\n",
       "    </tr>\n",
       "    <tr>\n",
       "      <th>8</th>\n",
       "      <td>523_S2-ChIP_1</td>\n",
       "      <td>524_S2-ChIP_1</td>\n",
       "      <td>0.931224</td>\n",
       "      <td>8.407465e-18</td>\n",
       "    </tr>\n",
       "    <tr>\n",
       "      <th>11</th>\n",
       "      <td>638_S2-ChIP_1</td>\n",
       "      <td>638_S2-ChIP_2</td>\n",
       "      <td>0.912846</td>\n",
       "      <td>5.736764e-16</td>\n",
       "    </tr>\n",
       "  </tbody>\n",
       "</table>\n",
       "</div>"
      ],
      "text/plain": [
       "          Sample1        Sample2  Correlation       P-value\n",
       "4   324_S2-ChIP_1  324_S2-ChIP_2     0.956403  2.265821e-21\n",
       "5   491_S2-ChIP_1  491_S2-ChIP_2     0.890557  3.193402e-14\n",
       "7   510_S2-ChIP_2  591_S2-ChIP_1     0.969343  3.744198e-24\n",
       "8   523_S2-ChIP_1  524_S2-ChIP_1     0.931224  8.407465e-18\n",
       "11  638_S2-ChIP_1  638_S2-ChIP_2     0.912846  5.736764e-16"
      ]
     },
     "execution_count": 98,
     "metadata": {},
     "output_type": "execute_result"
    }
   ],
   "source": [
    "high_rep_corr_df.head()"
   ]
  },
  {
   "cell_type": "code",
   "execution_count": 99,
   "metadata": {},
   "outputs": [],
   "source": [
    "high_rep_corr_df.to_csv(os.path.join(out_htc_corr, 'high_corr_reps.csv'), index=None, sep='\\t')"
   ]
  },
  {
   "cell_type": "markdown",
   "metadata": {},
   "source": [
    "- Check **low correlation scores** any `Correlation < 0.85`:"
   ]
  },
  {
   "cell_type": "code",
   "execution_count": 100,
   "metadata": {},
   "outputs": [],
   "source": [
    "# Low correlated samples\n",
    "low_rep_corr_df = rep_corr_df[rep_corr_df['Correlation'] < .85]"
   ]
  },
  {
   "cell_type": "code",
   "execution_count": 101,
   "metadata": {},
   "outputs": [
    {
     "data": {
      "text/html": [
       "<div>\n",
       "<style scoped>\n",
       "    .dataframe tbody tr th:only-of-type {\n",
       "        vertical-align: middle;\n",
       "    }\n",
       "\n",
       "    .dataframe tbody tr th {\n",
       "        vertical-align: top;\n",
       "    }\n",
       "\n",
       "    .dataframe thead th {\n",
       "        text-align: right;\n",
       "    }\n",
       "</style>\n",
       "<table border=\"1\" class=\"dataframe\">\n",
       "  <thead>\n",
       "    <tr style=\"text-align: right;\">\n",
       "      <th></th>\n",
       "      <th>Sample1</th>\n",
       "      <th>Sample2</th>\n",
       "      <th>Correlation</th>\n",
       "      <th>P-value</th>\n",
       "    </tr>\n",
       "  </thead>\n",
       "  <tbody>\n",
       "    <tr>\n",
       "      <th>2</th>\n",
       "      <td>301_S2-ChIP_1</td>\n",
       "      <td>301_S2-ChIP_2</td>\n",
       "      <td>0.625471</td>\n",
       "      <td>2.067094e-05</td>\n",
       "    </tr>\n",
       "    <tr>\n",
       "      <th>1</th>\n",
       "      <td>1168_S2-ChIP_1</td>\n",
       "      <td>1168_S2-ChIP_2</td>\n",
       "      <td>0.651241</td>\n",
       "      <td>7.134070e-06</td>\n",
       "    </tr>\n",
       "    <tr>\n",
       "      <th>16</th>\n",
       "      <td>WT_S2-ChIP_1</td>\n",
       "      <td>WT_S2-ChIP_3</td>\n",
       "      <td>0.658476</td>\n",
       "      <td>5.196781e-06</td>\n",
       "    </tr>\n",
       "    <tr>\n",
       "      <th>9</th>\n",
       "      <td>530_S2-ChIP_1</td>\n",
       "      <td>530_S2-ChIP_2</td>\n",
       "      <td>0.687251</td>\n",
       "      <td>1.349116e-06</td>\n",
       "    </tr>\n",
       "    <tr>\n",
       "      <th>17</th>\n",
       "      <td>WT_S5-ChIP_1</td>\n",
       "      <td>WT_S5-ChIP_2</td>\n",
       "      <td>0.715393</td>\n",
       "      <td>3.087150e-07</td>\n",
       "    </tr>\n",
       "    <tr>\n",
       "      <th>10</th>\n",
       "      <td>544_S2-ChIP_1</td>\n",
       "      <td>544_S2-ChIP_2</td>\n",
       "      <td>0.760585</td>\n",
       "      <td>1.927261e-08</td>\n",
       "    </tr>\n",
       "    <tr>\n",
       "      <th>6</th>\n",
       "      <td>504_S2-ChIP_1</td>\n",
       "      <td>504_S2-ChIP_2</td>\n",
       "      <td>0.793032</td>\n",
       "      <td>1.757299e-09</td>\n",
       "    </tr>\n",
       "    <tr>\n",
       "      <th>3</th>\n",
       "      <td>302_S2-ChIP_1</td>\n",
       "      <td>302_S2-ChIP_2</td>\n",
       "      <td>0.817912</td>\n",
       "      <td>2.061308e-10</td>\n",
       "    </tr>\n",
       "    <tr>\n",
       "      <th>0</th>\n",
       "      <td>1022_S2-ChIP_1</td>\n",
       "      <td>1022_S2-ChIP_2</td>\n",
       "      <td>0.825588</td>\n",
       "      <td>9.958645e-11</td>\n",
       "    </tr>\n",
       "  </tbody>\n",
       "</table>\n",
       "</div>"
      ],
      "text/plain": [
       "           Sample1         Sample2  Correlation       P-value\n",
       "2    301_S2-ChIP_1   301_S2-ChIP_2     0.625471  2.067094e-05\n",
       "1   1168_S2-ChIP_1  1168_S2-ChIP_2     0.651241  7.134070e-06\n",
       "16    WT_S2-ChIP_1    WT_S2-ChIP_3     0.658476  5.196781e-06\n",
       "9    530_S2-ChIP_1   530_S2-ChIP_2     0.687251  1.349116e-06\n",
       "17    WT_S5-ChIP_1    WT_S5-ChIP_2     0.715393  3.087150e-07\n",
       "10   544_S2-ChIP_1   544_S2-ChIP_2     0.760585  1.927261e-08\n",
       "6    504_S2-ChIP_1   504_S2-ChIP_2     0.793032  1.757299e-09\n",
       "3    302_S2-ChIP_1   302_S2-ChIP_2     0.817912  2.061308e-10\n",
       "0   1022_S2-ChIP_1  1022_S2-ChIP_2     0.825588  9.958645e-11"
      ]
     },
     "execution_count": 101,
     "metadata": {},
     "output_type": "execute_result"
    }
   ],
   "source": [
    "low_rep_corr_df.sort_values(by = \"Correlation\", ascending=True)"
   ]
  },
  {
   "cell_type": "markdown",
   "metadata": {},
   "source": [
    "- Run **correlation checks**  for all **pair-wise MERGED sample combinations**:"
   ]
  },
  {
   "cell_type": "code",
   "execution_count": 102,
   "metadata": {},
   "outputs": [],
   "source": [
    "#out_labelled_corr = os.path.join(out_dir, 'labelled_CORR')\n",
    "#if not os.path.isdir(out_labelled_corr):    \n",
    "#    !mkdir -p $out_labelled_corr"
   ]
  },
  {
   "cell_type": "code",
   "execution_count": 103,
   "metadata": {},
   "outputs": [],
   "source": [
    "# Labeled scatter plots for samples\n",
    "#rpc.labeled_corr_plots(tpm_rep_df_l2, out_dir = out_labelled_corr, prefix = 'repeats.')"
   ]
  }
 ],
 "metadata": {
  "kernelspec": {
   "display_name": "Python (heterochromatin)",
   "language": "python",
   "name": "heterochromatin"
  },
  "language_info": {
   "codemirror_mode": {
    "name": "ipython",
    "version": 3
   },
   "file_extension": ".py",
   "mimetype": "text/x-python",
   "name": "python",
   "nbconvert_exporter": "python",
   "pygments_lexer": "ipython3",
   "version": "3.6.7"
  }
 },
 "nbformat": 4,
 "nbformat_minor": 4
}
