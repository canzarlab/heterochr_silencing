{
 "cells": [
  {
   "cell_type": "code",
   "execution_count": 1,
   "metadata": {},
   "outputs": [],
   "source": [
    "import pandas as pd"
   ]
  },
  {
   "cell_type": "code",
   "execution_count": 2,
   "metadata": {},
   "outputs": [],
   "source": [
    "import os"
   ]
  },
  {
   "cell_type": "code",
   "execution_count": 3,
   "metadata": {},
   "outputs": [],
   "source": [
    "import sys"
   ]
  },
  {
   "cell_type": "code",
   "execution_count": 4,
   "metadata": {},
   "outputs": [],
   "source": [
    "%load_ext autoreload\n",
    "%autoreload 2"
   ]
  },
  {
   "cell_type": "markdown",
   "metadata": {},
   "source": [
    "---------------------------"
   ]
  },
  {
   "cell_type": "markdown",
   "metadata": {},
   "source": [
    "## Config"
   ]
  },
  {
   "cell_type": "code",
   "execution_count": 5,
   "metadata": {},
   "outputs": [],
   "source": [
    "project_data_dir = '/gcm-lfs1/pablo/data/rna_silencing'"
   ]
  },
  {
   "cell_type": "code",
   "execution_count": 6,
   "metadata": {},
   "outputs": [],
   "source": [
    "project_dir = '/home/pmonteagudo/workspace/silencing_project'"
   ]
  },
  {
   "cell_type": "code",
   "execution_count": 7,
   "metadata": {},
   "outputs": [],
   "source": [
    "scripts_dir = os.path.join(project_dir, 'pyRNAdeg')\n",
    "if scripts_dir not in sys.path: \n",
    "    sys.path.append(scripts_dir)\n",
    "\n",
    "import Util"
   ]
  },
  {
   "cell_type": "markdown",
   "metadata": {},
   "source": [
    "- Result **directories**"
   ]
  },
  {
   "cell_type": "code",
   "execution_count": 8,
   "metadata": {},
   "outputs": [],
   "source": [
    "in_dir = os.path.join(project_data_dir, 'results/xp_data/ChIP')"
   ]
  },
  {
   "cell_type": "code",
   "execution_count": 9,
   "metadata": {},
   "outputs": [],
   "source": [
    "out_dir = in_dir\n",
    "#out_dir = os.path.join(project_dir, 'results/Ratios')"
   ]
  },
  {
   "cell_type": "markdown",
   "metadata": {},
   "source": [
    "------------------------------"
   ]
  },
  {
   "cell_type": "markdown",
   "metadata": {},
   "source": [
    "- Investigate **Heterochromatic genes**"
   ]
  },
  {
   "cell_type": "code",
   "execution_count": 10,
   "metadata": {},
   "outputs": [],
   "source": [
    "import viz_strands ## get deg1, deg2 and non_degraded"
   ]
  },
  {
   "cell_type": "code",
   "execution_count": 11,
   "metadata": {},
   "outputs": [],
   "source": [
    "## centromeric genes: `deg1`\n",
    "old_deg1 = ['dh1', 'dg1']\n",
    "deg1 = viz_strands.deg1\n",
    "\n",
    "## subtelomeric genes: `deg2`\n",
    "old_deg2 = ['SPAC212.11', 'SPAC212.10']\n",
    "deg2 = viz_strands.deg2\n",
    "\n",
    "# Mating type region (MTR) gene counts\n",
    "deg3 = ['MAT2', 'MAT3', 'MAT1']\n",
    "\n",
    "## rest of Heterochromatic genes, including mat: `deg3`\n",
    "non_degraded = viz_strands.non_degraded"
   ]
  },
  {
   "cell_type": "code",
   "execution_count": 12,
   "metadata": {},
   "outputs": [],
   "source": [
    "all_htc_genes = deg1 + deg2 + non_degraded\n",
    "htc_genes = deg1 + deg2 + deg3"
   ]
  },
  {
   "cell_type": "markdown",
   "metadata": {},
   "source": [
    "- Import dataframe containing **annotation of all samples**"
   ]
  },
  {
   "cell_type": "code",
   "execution_count": 13,
   "metadata": {},
   "outputs": [
    {
     "data": {
      "text/plain": [
       "'/gcm-lfs1/pablo/data/rna_silencing/seq_data/sample_annotation.csv'"
      ]
     },
     "execution_count": 13,
     "metadata": {},
     "output_type": "execute_result"
    }
   ],
   "source": [
    "sample_annotation_file = os.path.join(project_data_dir, 'seq_data', 'sample_annotation.csv')\n",
    "sample_annotation_file"
   ]
  },
  {
   "cell_type": "code",
   "execution_count": 14,
   "metadata": {},
   "outputs": [],
   "source": [
    "select_cols = ['sample_id', 'pipeline_type', 'seq_category', 'seq_type',  'mutant_id', 'mutant', 'replicate', 'batch', 'trimmed', 'halic_local_dir']"
   ]
  },
  {
   "cell_type": "code",
   "execution_count": 15,
   "metadata": {},
   "outputs": [],
   "source": [
    "all_samples_df = pd.read_csv(sample_annotation_file, sep=\"\\t\", usecols=select_cols)[select_cols]\n",
    "#all_samples_df.head()"
   ]
  },
  {
   "cell_type": "code",
   "execution_count": 16,
   "metadata": {},
   "outputs": [
    {
     "data": {
      "text/plain": [
       "(151, 10)"
      ]
     },
     "execution_count": 16,
     "metadata": {},
     "output_type": "execute_result"
    }
   ],
   "source": [
    "all_samples_df.shape"
   ]
  },
  {
   "cell_type": "markdown",
   "metadata": {},
   "source": [
    "- **Ignore S5-ChIP samples** for now"
   ]
  },
  {
   "cell_type": "code",
   "execution_count": 17,
   "metadata": {},
   "outputs": [
    {
     "data": {
      "text/plain": [
       "(147, 10)"
      ]
     },
     "execution_count": 17,
     "metadata": {},
     "output_type": "execute_result"
    }
   ],
   "source": [
    "all_samples_df = all_samples_df[all_samples_df['seq_type'] != 'S5-ChIP']\n",
    "all_samples_df.shape"
   ]
  },
  {
   "cell_type": "markdown",
   "metadata": {},
   "source": [
    "- Select **ChIP Datasets**:"
   ]
  },
  {
   "cell_type": "code",
   "execution_count": 18,
   "metadata": {},
   "outputs": [
    {
     "data": {
      "text/html": [
       "<div>\n",
       "<style scoped>\n",
       "    .dataframe tbody tr th:only-of-type {\n",
       "        vertical-align: middle;\n",
       "    }\n",
       "\n",
       "    .dataframe tbody tr th {\n",
       "        vertical-align: top;\n",
       "    }\n",
       "\n",
       "    .dataframe thead th {\n",
       "        text-align: right;\n",
       "    }\n",
       "</style>\n",
       "<table border=\"1\" class=\"dataframe\">\n",
       "  <thead>\n",
       "    <tr style=\"text-align: right;\">\n",
       "      <th></th>\n",
       "      <th>sample_id</th>\n",
       "      <th>pipeline_type</th>\n",
       "      <th>seq_category</th>\n",
       "      <th>seq_type</th>\n",
       "      <th>mutant_id</th>\n",
       "      <th>mutant</th>\n",
       "      <th>replicate</th>\n",
       "      <th>batch</th>\n",
       "      <th>trimmed</th>\n",
       "      <th>halic_local_dir</th>\n",
       "    </tr>\n",
       "  </thead>\n",
       "  <tbody>\n",
       "    <tr>\n",
       "      <th>64</th>\n",
       "      <td>1022_S2-ChIP_1</td>\n",
       "      <td>ChIP</td>\n",
       "      <td>S2-ChIP</td>\n",
       "      <td>S2-ChIP</td>\n",
       "      <td>1022</td>\n",
       "      <td>mot2d</td>\n",
       "      <td>1</td>\n",
       "      <td>ccr4-not</td>\n",
       "      <td>False</td>\n",
       "      <td>Revision/Ccr4-Not_mutants/1022_mot2D/S2ChIP/</td>\n",
       "    </tr>\n",
       "    <tr>\n",
       "      <th>65</th>\n",
       "      <td>1022_S2-ChIP_2</td>\n",
       "      <td>ChIP</td>\n",
       "      <td>S2-ChIP</td>\n",
       "      <td>S2-ChIP</td>\n",
       "      <td>1022</td>\n",
       "      <td>mot2d</td>\n",
       "      <td>2</td>\n",
       "      <td>ccr4-not</td>\n",
       "      <td>False</td>\n",
       "      <td>Revision/Ccr4-Not_mutants/1022_mot2D/S2ChIP/</td>\n",
       "    </tr>\n",
       "    <tr>\n",
       "      <th>66</th>\n",
       "      <td>1168_S2-ChIP_1</td>\n",
       "      <td>ChIP</td>\n",
       "      <td>S2-ChIP</td>\n",
       "      <td>S2-ChIP</td>\n",
       "      <td>1168</td>\n",
       "      <td>NaN</td>\n",
       "      <td>1</td>\n",
       "      <td>manuscript</td>\n",
       "      <td>False</td>\n",
       "      <td>CHIP/</td>\n",
       "    </tr>\n",
       "    <tr>\n",
       "      <th>67</th>\n",
       "      <td>1168_S2-ChIP_2</td>\n",
       "      <td>ChIP</td>\n",
       "      <td>S2-ChIP</td>\n",
       "      <td>S2-ChIP</td>\n",
       "      <td>1168</td>\n",
       "      <td>NaN</td>\n",
       "      <td>2</td>\n",
       "      <td>manuscript</td>\n",
       "      <td>False</td>\n",
       "      <td>fastq/ChIP_replicates_510_1168/</td>\n",
       "    </tr>\n",
       "    <tr>\n",
       "      <th>68</th>\n",
       "      <td>260_S2-ChIP_1</td>\n",
       "      <td>ChIP</td>\n",
       "      <td>S2-ChIP</td>\n",
       "      <td>S2-ChIP</td>\n",
       "      <td>260</td>\n",
       "      <td>NaN</td>\n",
       "      <td>1</td>\n",
       "      <td>revision</td>\n",
       "      <td>False</td>\n",
       "      <td>Revision/Sequencing_Revision/ChIP/</td>\n",
       "    </tr>\n",
       "  </tbody>\n",
       "</table>\n",
       "</div>"
      ],
      "text/plain": [
       "         sample_id pipeline_type seq_category seq_type mutant_id mutant  \\\n",
       "64  1022_S2-ChIP_1          ChIP      S2-ChIP  S2-ChIP      1022  mot2d   \n",
       "65  1022_S2-ChIP_2          ChIP      S2-ChIP  S2-ChIP      1022  mot2d   \n",
       "66  1168_S2-ChIP_1          ChIP      S2-ChIP  S2-ChIP      1168    NaN   \n",
       "67  1168_S2-ChIP_2          ChIP      S2-ChIP  S2-ChIP      1168    NaN   \n",
       "68   260_S2-ChIP_1          ChIP      S2-ChIP  S2-ChIP       260    NaN   \n",
       "\n",
       "    replicate       batch  trimmed  \\\n",
       "64          1    ccr4-not    False   \n",
       "65          2    ccr4-not    False   \n",
       "66          1  manuscript    False   \n",
       "67          2  manuscript    False   \n",
       "68          1    revision    False   \n",
       "\n",
       "                                 halic_local_dir  \n",
       "64  Revision/Ccr4-Not_mutants/1022_mot2D/S2ChIP/  \n",
       "65  Revision/Ccr4-Not_mutants/1022_mot2D/S2ChIP/  \n",
       "66                                         CHIP/  \n",
       "67               fastq/ChIP_replicates_510_1168/  \n",
       "68            Revision/Sequencing_Revision/ChIP/  "
      ]
     },
     "execution_count": 18,
     "metadata": {},
     "output_type": "execute_result"
    }
   ],
   "source": [
    "simulated_data = False\n",
    "#simulated_data = True        \n",
    "\n",
    "if not simulated_data:\n",
    "  all_samples_df = all_samples_df[all_samples_df['pipeline_type'] == 'ChIP']\n",
    "else:\n",
    "  all_samples_df = all_samples_df[all_samples_df['pipeline_type'] == 'simulated-data']\n",
    "  all_samples_df['pipeline_type'] = 'ChIP'\n",
    "\n",
    "input_types = ['S2-ChIP-OIN', 'S2-ChIP-INPUT', 'simulated-data', 'H3K9me2']\n",
    "\n",
    "## Distinguish between ChIP and INPUT samples\n",
    "datasets_df = all_samples_df[~all_samples_df['seq_type'].isin(input_types)]\n",
    "datasets_df.head()"
   ]
  },
  {
   "cell_type": "code",
   "execution_count": 19,
   "metadata": {},
   "outputs": [
    {
     "data": {
      "text/plain": [
       "(32, 10)"
      ]
     },
     "execution_count": 19,
     "metadata": {},
     "output_type": "execute_result"
    }
   ],
   "source": [
    "datasets_df.shape"
   ]
  },
  {
   "cell_type": "markdown",
   "metadata": {},
   "source": [
    "--------------"
   ]
  },
  {
   "cell_type": "markdown",
   "metadata": {},
   "source": [
    "# Merge replicates: **ChIP Samples**"
   ]
  },
  {
   "cell_type": "markdown",
   "metadata": {},
   "source": [
    "------------"
   ]
  },
  {
   "cell_type": "markdown",
   "metadata": {},
   "source": [
    "In general, before merging samples special care needs to be taken to find out which replicate samples can be merged together.\n",
    "\n",
    "A **correlation analysis** between replicates is necessary as in:\n",
    "- `RNAdeg/Notebooks/PreProcess/Process_Replicates_ChIP.ipynb`\n",
    "- `RNAdeg/Notebooks/PreProcess/Process_Replicates_RNA.ipynb`"
   ]
  },
  {
   "cell_type": "code",
   "execution_count": 20,
   "metadata": {},
   "outputs": [],
   "source": [
    "import RepTools as rpc"
   ]
  },
  {
   "cell_type": "markdown",
   "metadata": {},
   "source": [
    "- **Replicate samples** grouped by `Mutant` type and `seq_type`:"
   ]
  },
  {
   "cell_type": "code",
   "execution_count": 21,
   "metadata": {},
   "outputs": [],
   "source": [
    "datasets_df['sub_sample'] = datasets_df['mutant_id'] + '_' + datasets_df['seq_type']"
   ]
  },
  {
   "cell_type": "code",
   "execution_count": 22,
   "metadata": {},
   "outputs": [],
   "source": [
    "sub_samples = dict(datasets_df.groupby('sub_sample')['sample_id'].apply(list))\n",
    "#sub_samples"
   ]
  },
  {
   "cell_type": "markdown",
   "metadata": {},
   "source": [
    "sub_samples =  [## 1022 - ?\n",
    "                ## 1168\n",
    "                ['1168_S2ChIP', '1168_S2ChIP_1'],\n",
    "                ## 260 - ?\n",
    "                ## 301\n",
    "                ['301_S2ChIP', '301_S2_ChIP'],\n",
    "                ## 302\n",
    "                ['302_S2ChIP', '302_S2_ChIP'],\n",
    "                ## 324\n",
    "                ['324_S2ChIP', '324_S2_ChIP'],\n",
    "                ## 491\n",
    "                ['491_S2ChIP', '491_S2_ChIP'],\n",
    "                ## 504\n",
    "                ['504S2ChIP_1', '504S2ChIP_2'],\n",
    "                ## 510 - ?\n",
    "                ## 523 - ?\n",
    "                ## 524 - ?\n",
    "                ## 530\n",
    "                ['530ChIP_1', '530S2ChIP_2'],\n",
    "                ## 544 - ?\n",
    "                ## 591\n",
    "                ['591_S2PChIP'],\n",
    "                ## 638\n",
    "                ['638_S2_ChIP', '638ChIP_1'],\n",
    "                ## 80\n",
    "                ['80_S2_ChIP', '80S2ChIP_1', '80_S2ChIP'], ## '80_S2ChIP_2' duplicated\n",
    "                ## 63/65 - WT\n",
    "                ['63_S2ChIPp']] \n"
   ]
  },
  {
   "cell_type": "markdown",
   "metadata": {},
   "source": [
    "**Total number of samples**:"
   ]
  },
  {
   "cell_type": "code",
   "execution_count": 23,
   "metadata": {},
   "outputs": [],
   "source": [
    "import itertools"
   ]
  },
  {
   "cell_type": "code",
   "execution_count": 24,
   "metadata": {},
   "outputs": [
    {
     "data": {
      "text/plain": [
       "32"
      ]
     },
     "execution_count": 24,
     "metadata": {},
     "output_type": "execute_result"
    }
   ],
   "source": [
    "len(list(itertools.chain.from_iterable(sub_samples.values())))"
   ]
  },
  {
   "cell_type": "markdown",
   "metadata": {},
   "source": [
    "**Number of mutants**:"
   ]
  },
  {
   "cell_type": "code",
   "execution_count": 25,
   "metadata": {},
   "outputs": [
    {
     "data": {
      "text/plain": [
       "17"
      ]
     },
     "execution_count": 25,
     "metadata": {},
     "output_type": "execute_result"
    }
   ],
   "source": [
    "len(sub_samples)"
   ]
  },
  {
   "cell_type": "markdown",
   "metadata": {},
   "source": [
    "## **Data**: Pol II ChIP occupancy (S2-ChIP)\n",
    "\n",
    "Merge and store as `.csv` files:\n",
    "\n",
    "- **Average TPM-normalized expression tables** (tpm_df) for replicates:\n",
    "    - `chip_tpm_merged.csv`"
   ]
  },
  {
   "cell_type": "markdown",
   "metadata": {},
   "source": [
    "- Import **ChIP gene expression Matrix**: `chip_pombe_tpm_matrix.csv`"
   ]
  },
  {
   "cell_type": "code",
   "execution_count": 26,
   "metadata": {},
   "outputs": [
    {
     "data": {
      "text/html": [
       "<div>\n",
       "<style scoped>\n",
       "    .dataframe tbody tr th:only-of-type {\n",
       "        vertical-align: middle;\n",
       "    }\n",
       "\n",
       "    .dataframe tbody tr th {\n",
       "        vertical-align: top;\n",
       "    }\n",
       "\n",
       "    .dataframe thead th {\n",
       "        text-align: right;\n",
       "    }\n",
       "</style>\n",
       "<table border=\"1\" class=\"dataframe\">\n",
       "  <thead>\n",
       "    <tr style=\"text-align: right;\">\n",
       "      <th></th>\n",
       "      <th>gene_id</th>\n",
       "      <th>seqid</th>\n",
       "      <th>type</th>\n",
       "      <th>start</th>\n",
       "      <th>end</th>\n",
       "      <th>strand</th>\n",
       "      <th>gene_name</th>\n",
       "      <th>cds_length</th>\n",
       "      <th>utr_length</th>\n",
       "      <th>intron_length</th>\n",
       "      <th>...</th>\n",
       "      <th>530_S2-ChIP_2</th>\n",
       "      <th>544_S2-ChIP_1</th>\n",
       "      <th>544_S2-ChIP_2</th>\n",
       "      <th>591_S2-ChIP_1</th>\n",
       "      <th>638_S2-ChIP_1</th>\n",
       "      <th>638_S2-ChIP_2</th>\n",
       "      <th>80_S2-ChIP_1</th>\n",
       "      <th>80_S2-ChIP_2</th>\n",
       "      <th>80_S2-ChIP_3</th>\n",
       "      <th>WT_S2-ChIP_1</th>\n",
       "    </tr>\n",
       "  </thead>\n",
       "  <tbody>\n",
       "    <tr>\n",
       "      <th>0</th>\n",
       "      <td>FP565355_TR_box_3800..3820</td>\n",
       "      <td>mating_type_region</td>\n",
       "      <td>TR_box</td>\n",
       "      <td>3800</td>\n",
       "      <td>3820</td>\n",
       "      <td>+</td>\n",
       "      <td>NaN</td>\n",
       "      <td>NaN</td>\n",
       "      <td>NaN</td>\n",
       "      <td>NaN</td>\n",
       "      <td>...</td>\n",
       "      <td>NaN</td>\n",
       "      <td>NaN</td>\n",
       "      <td>NaN</td>\n",
       "      <td>NaN</td>\n",
       "      <td>NaN</td>\n",
       "      <td>NaN</td>\n",
       "      <td>NaN</td>\n",
       "      <td>NaN</td>\n",
       "      <td>NaN</td>\n",
       "      <td>NaN</td>\n",
       "    </tr>\n",
       "    <tr>\n",
       "      <th>1</th>\n",
       "      <td>FP565355_region_1..2120</td>\n",
       "      <td>mating_type_region</td>\n",
       "      <td>region</td>\n",
       "      <td>1</td>\n",
       "      <td>2120</td>\n",
       "      <td>+</td>\n",
       "      <td>NaN</td>\n",
       "      <td>NaN</td>\n",
       "      <td>NaN</td>\n",
       "      <td>NaN</td>\n",
       "      <td>...</td>\n",
       "      <td>114.561515</td>\n",
       "      <td>18.646708</td>\n",
       "      <td>30.418583</td>\n",
       "      <td>30.669509</td>\n",
       "      <td>54.330113</td>\n",
       "      <td>47.140139</td>\n",
       "      <td>60.233923</td>\n",
       "      <td>42.679556</td>\n",
       "      <td>50.339587</td>\n",
       "      <td>88.807335</td>\n",
       "    </tr>\n",
       "    <tr>\n",
       "      <th>2</th>\n",
       "      <td>FP565355_region_15417..15473</td>\n",
       "      <td>mating_type_region</td>\n",
       "      <td>region</td>\n",
       "      <td>15417</td>\n",
       "      <td>15473</td>\n",
       "      <td>+</td>\n",
       "      <td>NaN</td>\n",
       "      <td>NaN</td>\n",
       "      <td>NaN</td>\n",
       "      <td>NaN</td>\n",
       "      <td>...</td>\n",
       "      <td>136.859243</td>\n",
       "      <td>15.882291</td>\n",
       "      <td>43.513763</td>\n",
       "      <td>9.721794</td>\n",
       "      <td>23.271005</td>\n",
       "      <td>NaN</td>\n",
       "      <td>40.417409</td>\n",
       "      <td>NaN</td>\n",
       "      <td>26.416640</td>\n",
       "      <td>71.287978</td>\n",
       "    </tr>\n",
       "    <tr>\n",
       "      <th>3</th>\n",
       "      <td>FP565355_region_15474..15608</td>\n",
       "      <td>mating_type_region</td>\n",
       "      <td>region</td>\n",
       "      <td>15474</td>\n",
       "      <td>15608</td>\n",
       "      <td>+</td>\n",
       "      <td>NaN</td>\n",
       "      <td>NaN</td>\n",
       "      <td>NaN</td>\n",
       "      <td>NaN</td>\n",
       "      <td>...</td>\n",
       "      <td>134.831699</td>\n",
       "      <td>15.646997</td>\n",
       "      <td>64.844039</td>\n",
       "      <td>45.152333</td>\n",
       "      <td>94.980176</td>\n",
       "      <td>76.360722</td>\n",
       "      <td>63.384762</td>\n",
       "      <td>20.433753</td>\n",
       "      <td>69.710578</td>\n",
       "      <td>67.723579</td>\n",
       "    </tr>\n",
       "    <tr>\n",
       "      <th>4</th>\n",
       "      <td>FP565355_region_15609..16735</td>\n",
       "      <td>mating_type_region</td>\n",
       "      <td>region</td>\n",
       "      <td>15609</td>\n",
       "      <td>16735</td>\n",
       "      <td>+</td>\n",
       "      <td>NaN</td>\n",
       "      <td>NaN</td>\n",
       "      <td>NaN</td>\n",
       "      <td>NaN</td>\n",
       "      <td>...</td>\n",
       "      <td>157.819230</td>\n",
       "      <td>33.202020</td>\n",
       "      <td>28.998576</td>\n",
       "      <td>36.877258</td>\n",
       "      <td>42.174825</td>\n",
       "      <td>45.735126</td>\n",
       "      <td>72.714448</td>\n",
       "      <td>63.884942</td>\n",
       "      <td>62.795189</td>\n",
       "      <td>83.828210</td>\n",
       "    </tr>\n",
       "  </tbody>\n",
       "</table>\n",
       "<p>5 rows × 45 columns</p>\n",
       "</div>"
      ],
      "text/plain": [
       "                        gene_id               seqid    type  start    end  \\\n",
       "0    FP565355_TR_box_3800..3820  mating_type_region  TR_box   3800   3820   \n",
       "1       FP565355_region_1..2120  mating_type_region  region      1   2120   \n",
       "2  FP565355_region_15417..15473  mating_type_region  region  15417  15473   \n",
       "3  FP565355_region_15474..15608  mating_type_region  region  15474  15608   \n",
       "4  FP565355_region_15609..16735  mating_type_region  region  15609  16735   \n",
       "\n",
       "  strand gene_name  cds_length  utr_length  intron_length      ...       \\\n",
       "0      +       NaN         NaN         NaN            NaN      ...        \n",
       "1      +       NaN         NaN         NaN            NaN      ...        \n",
       "2      +       NaN         NaN         NaN            NaN      ...        \n",
       "3      +       NaN         NaN         NaN            NaN      ...        \n",
       "4      +       NaN         NaN         NaN            NaN      ...        \n",
       "\n",
       "   530_S2-ChIP_2 544_S2-ChIP_1 544_S2-ChIP_2  591_S2-ChIP_1  638_S2-ChIP_1  \\\n",
       "0            NaN           NaN           NaN            NaN            NaN   \n",
       "1     114.561515     18.646708     30.418583      30.669509      54.330113   \n",
       "2     136.859243     15.882291     43.513763       9.721794      23.271005   \n",
       "3     134.831699     15.646997     64.844039      45.152333      94.980176   \n",
       "4     157.819230     33.202020     28.998576      36.877258      42.174825   \n",
       "\n",
       "   638_S2-ChIP_2  80_S2-ChIP_1  80_S2-ChIP_2  80_S2-ChIP_3  WT_S2-ChIP_1  \n",
       "0            NaN           NaN           NaN           NaN           NaN  \n",
       "1      47.140139     60.233923     42.679556     50.339587     88.807335  \n",
       "2            NaN     40.417409           NaN     26.416640     71.287978  \n",
       "3      76.360722     63.384762     20.433753     69.710578     67.723579  \n",
       "4      45.735126     72.714448     63.884942     62.795189     83.828210  \n",
       "\n",
       "[5 rows x 45 columns]"
      ]
     },
     "execution_count": 26,
     "metadata": {},
     "output_type": "execute_result"
    }
   ],
   "source": [
    "tpm_df = pd.read_csv(os.path.join(in_dir, 'chip_pombe_tpm_matrix.csv'), sep='\\t')\n",
    "tpm_df.head()"
   ]
  },
  {
   "cell_type": "code",
   "execution_count": 27,
   "metadata": {},
   "outputs": [
    {
     "data": {
      "text/plain": [
       "(7020, 45)"
      ]
     },
     "execution_count": 27,
     "metadata": {},
     "output_type": "execute_result"
    }
   ],
   "source": [
    "tpm_df.shape"
   ]
  },
  {
   "cell_type": "markdown",
   "metadata": {},
   "source": [
    "**Create `length` column**"
   ]
  },
  {
   "cell_type": "code",
   "execution_count": 28,
   "metadata": {},
   "outputs": [],
   "source": [
    "tpm_df['length'] = tpm_df['gene_length']"
   ]
  },
  {
   "cell_type": "markdown",
   "metadata": {},
   "source": [
    "- **Merge ChIP replicates** into an average **gene expression Matrix** per Mutant type: `chip_merged_tpm.csv`"
   ]
  },
  {
   "cell_type": "code",
   "execution_count": 29,
   "metadata": {},
   "outputs": [
    {
     "data": {
      "text/html": [
       "<div>\n",
       "<style scoped>\n",
       "    .dataframe tbody tr th:only-of-type {\n",
       "        vertical-align: middle;\n",
       "    }\n",
       "\n",
       "    .dataframe tbody tr th {\n",
       "        vertical-align: top;\n",
       "    }\n",
       "\n",
       "    .dataframe thead th {\n",
       "        text-align: right;\n",
       "    }\n",
       "</style>\n",
       "<table border=\"1\" class=\"dataframe\">\n",
       "  <thead>\n",
       "    <tr style=\"text-align: right;\">\n",
       "      <th></th>\n",
       "      <th>gene_id</th>\n",
       "      <th>gene_name</th>\n",
       "      <th>length</th>\n",
       "      <th>type</th>\n",
       "      <th>category</th>\n",
       "      <th>bio_type</th>\n",
       "      <th>1022_S2-ChIP</th>\n",
       "      <th>1168_S2-ChIP</th>\n",
       "      <th>260_S2-ChIP</th>\n",
       "      <th>301_S2-ChIP</th>\n",
       "      <th>...</th>\n",
       "      <th>504_S2-ChIP</th>\n",
       "      <th>510_S2-ChIP</th>\n",
       "      <th>523_S2-ChIP</th>\n",
       "      <th>524_S2-ChIP</th>\n",
       "      <th>530_S2-ChIP</th>\n",
       "      <th>544_S2-ChIP</th>\n",
       "      <th>591_S2-ChIP</th>\n",
       "      <th>638_S2-ChIP</th>\n",
       "      <th>80_S2-ChIP</th>\n",
       "      <th>WT_S2-ChIP</th>\n",
       "    </tr>\n",
       "  </thead>\n",
       "  <tbody>\n",
       "    <tr>\n",
       "      <th>0</th>\n",
       "      <td>FP565355_TR_box_3800..3820</td>\n",
       "      <td>NaN</td>\n",
       "      <td>21.0</td>\n",
       "      <td>TR_box</td>\n",
       "      <td>repeat</td>\n",
       "      <td>TR_box</td>\n",
       "      <td>NaN</td>\n",
       "      <td>NaN</td>\n",
       "      <td>NaN</td>\n",
       "      <td>NaN</td>\n",
       "      <td>...</td>\n",
       "      <td>NaN</td>\n",
       "      <td>NaN</td>\n",
       "      <td>NaN</td>\n",
       "      <td>NaN</td>\n",
       "      <td>NaN</td>\n",
       "      <td>NaN</td>\n",
       "      <td>NaN</td>\n",
       "      <td>NaN</td>\n",
       "      <td>NaN</td>\n",
       "      <td>NaN</td>\n",
       "    </tr>\n",
       "    <tr>\n",
       "      <th>1</th>\n",
       "      <td>FP565355_region_1..2120</td>\n",
       "      <td>NaN</td>\n",
       "      <td>2120.0</td>\n",
       "      <td>region</td>\n",
       "      <td>repeat</td>\n",
       "      <td>region</td>\n",
       "      <td>46.684445</td>\n",
       "      <td>41.868946</td>\n",
       "      <td>174.149807</td>\n",
       "      <td>45.884620</td>\n",
       "      <td>...</td>\n",
       "      <td>127.003512</td>\n",
       "      <td>213.972848</td>\n",
       "      <td>143.567061</td>\n",
       "      <td>186.757502</td>\n",
       "      <td>107.811047</td>\n",
       "      <td>24.532646</td>\n",
       "      <td>30.669509</td>\n",
       "      <td>50.735126</td>\n",
       "      <td>51.084355</td>\n",
       "      <td>88.807335</td>\n",
       "    </tr>\n",
       "    <tr>\n",
       "      <th>2</th>\n",
       "      <td>FP565355_region_15417..15473</td>\n",
       "      <td>NaN</td>\n",
       "      <td>57.0</td>\n",
       "      <td>region</td>\n",
       "      <td>repeat</td>\n",
       "      <td>region</td>\n",
       "      <td>21.504131</td>\n",
       "      <td>15.238462</td>\n",
       "      <td>127.270330</td>\n",
       "      <td>14.604968</td>\n",
       "      <td>...</td>\n",
       "      <td>56.165597</td>\n",
       "      <td>81.462795</td>\n",
       "      <td>42.456228</td>\n",
       "      <td>69.322041</td>\n",
       "      <td>93.826542</td>\n",
       "      <td>29.698027</td>\n",
       "      <td>9.721794</td>\n",
       "      <td>23.271005</td>\n",
       "      <td>33.417024</td>\n",
       "      <td>71.287978</td>\n",
       "    </tr>\n",
       "    <tr>\n",
       "      <th>3</th>\n",
       "      <td>FP565355_region_15474..15608</td>\n",
       "      <td>NaN</td>\n",
       "      <td>135.0</td>\n",
       "      <td>region</td>\n",
       "      <td>repeat</td>\n",
       "      <td>region</td>\n",
       "      <td>44.007667</td>\n",
       "      <td>32.972260</td>\n",
       "      <td>263.883917</td>\n",
       "      <td>44.468274</td>\n",
       "      <td>...</td>\n",
       "      <td>228.761631</td>\n",
       "      <td>187.851812</td>\n",
       "      <td>180.638551</td>\n",
       "      <td>180.298925</td>\n",
       "      <td>133.899344</td>\n",
       "      <td>40.245518</td>\n",
       "      <td>45.152333</td>\n",
       "      <td>85.670449</td>\n",
       "      <td>51.176364</td>\n",
       "      <td>67.723579</td>\n",
       "    </tr>\n",
       "    <tr>\n",
       "      <th>4</th>\n",
       "      <td>FP565355_region_15609..16735</td>\n",
       "      <td>NaN</td>\n",
       "      <td>1127.0</td>\n",
       "      <td>region</td>\n",
       "      <td>repeat</td>\n",
       "      <td>region</td>\n",
       "      <td>58.905947</td>\n",
       "      <td>20.352371</td>\n",
       "      <td>142.991579</td>\n",
       "      <td>54.704439</td>\n",
       "      <td>...</td>\n",
       "      <td>67.918749</td>\n",
       "      <td>151.335309</td>\n",
       "      <td>123.387055</td>\n",
       "      <td>145.572595</td>\n",
       "      <td>132.858354</td>\n",
       "      <td>31.100298</td>\n",
       "      <td>36.877258</td>\n",
       "      <td>43.954976</td>\n",
       "      <td>66.464860</td>\n",
       "      <td>83.828210</td>\n",
       "    </tr>\n",
       "  </tbody>\n",
       "</table>\n",
       "<p>5 rows × 23 columns</p>\n",
       "</div>"
      ],
      "text/plain": [
       "                        gene_id gene_name  length    type category bio_type  \\\n",
       "0    FP565355_TR_box_3800..3820       NaN    21.0  TR_box   repeat   TR_box   \n",
       "1       FP565355_region_1..2120       NaN  2120.0  region   repeat   region   \n",
       "2  FP565355_region_15417..15473       NaN    57.0  region   repeat   region   \n",
       "3  FP565355_region_15474..15608       NaN   135.0  region   repeat   region   \n",
       "4  FP565355_region_15609..16735       NaN  1127.0  region   repeat   region   \n",
       "\n",
       "   1022_S2-ChIP  1168_S2-ChIP  260_S2-ChIP  301_S2-ChIP     ...      \\\n",
       "0           NaN           NaN          NaN          NaN     ...       \n",
       "1     46.684445     41.868946   174.149807    45.884620     ...       \n",
       "2     21.504131     15.238462   127.270330    14.604968     ...       \n",
       "3     44.007667     32.972260   263.883917    44.468274     ...       \n",
       "4     58.905947     20.352371   142.991579    54.704439     ...       \n",
       "\n",
       "   504_S2-ChIP  510_S2-ChIP  523_S2-ChIP  524_S2-ChIP  530_S2-ChIP  \\\n",
       "0          NaN          NaN          NaN          NaN          NaN   \n",
       "1   127.003512   213.972848   143.567061   186.757502   107.811047   \n",
       "2    56.165597    81.462795    42.456228    69.322041    93.826542   \n",
       "3   228.761631   187.851812   180.638551   180.298925   133.899344   \n",
       "4    67.918749   151.335309   123.387055   145.572595   132.858354   \n",
       "\n",
       "   544_S2-ChIP  591_S2-ChIP  638_S2-ChIP  80_S2-ChIP  WT_S2-ChIP  \n",
       "0          NaN          NaN          NaN         NaN         NaN  \n",
       "1    24.532646    30.669509    50.735126   51.084355   88.807335  \n",
       "2    29.698027     9.721794    23.271005   33.417024   71.287978  \n",
       "3    40.245518    45.152333    85.670449   51.176364   67.723579  \n",
       "4    31.100298    36.877258    43.954976   66.464860   83.828210  \n",
       "\n",
       "[5 rows x 23 columns]"
      ]
     },
     "execution_count": 29,
     "metadata": {},
     "output_type": "execute_result"
    }
   ],
   "source": [
    "merged_tpm_df = rpc.repli_merge(tpm_df,\n",
    "                                sub_samples,\n",
    "                                out_dir = out_dir, \n",
    "                                out_file = 'chip_merged_tpm.csv')\n",
    "merged_tpm_df.head()"
   ]
  },
  {
   "cell_type": "code",
   "execution_count": 30,
   "metadata": {},
   "outputs": [
    {
     "data": {
      "text/plain": [
       "(7020, 23)"
      ]
     },
     "execution_count": 30,
     "metadata": {},
     "output_type": "execute_result"
    }
   ],
   "source": [
    "merged_tpm_df.shape"
   ]
  },
  {
   "cell_type": "code",
   "execution_count": 31,
   "metadata": {},
   "outputs": [],
   "source": [
    "#merged_tpm_df[merged_tpm_df['gene_id'].isin(non_degraded)][[xx for xx in merged_tpm_df.columns if ('80' in xx) | (xx == 'gene_id')]]"
   ]
  }
 ],
 "metadata": {
  "kernelspec": {
   "display_name": "Python 3",
   "language": "python",
   "name": "python3"
  },
  "language_info": {
   "codemirror_mode": {
    "name": "ipython",
    "version": 3
   },
   "file_extension": ".py",
   "mimetype": "text/x-python",
   "name": "python",
   "nbconvert_exporter": "python",
   "pygments_lexer": "ipython3",
   "version": "3.7.1"
  }
 },
 "nbformat": 4,
 "nbformat_minor": 2
}
