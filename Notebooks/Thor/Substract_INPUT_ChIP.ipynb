{
 "cells": [
  {
   "cell_type": "code",
   "execution_count": 1,
   "metadata": {},
   "outputs": [],
   "source": [
    "import pandas as pd"
   ]
  },
  {
   "cell_type": "code",
   "execution_count": 2,
   "metadata": {},
   "outputs": [],
   "source": [
    "import os"
   ]
  },
  {
   "cell_type": "code",
   "execution_count": 3,
   "metadata": {},
   "outputs": [],
   "source": [
    "import sys"
   ]
  },
  {
   "cell_type": "code",
   "execution_count": 4,
   "metadata": {},
   "outputs": [],
   "source": [
    "import itertools"
   ]
  },
  {
   "cell_type": "code",
   "execution_count": 5,
   "metadata": {},
   "outputs": [],
   "source": [
    "%load_ext autoreload\n",
    "%autoreload 2"
   ]
  },
  {
   "cell_type": "markdown",
   "metadata": {},
   "source": [
    "------------------------------"
   ]
  },
  {
   "cell_type": "markdown",
   "metadata": {},
   "source": [
    "## Config"
   ]
  },
  {
   "cell_type": "code",
   "execution_count": 6,
   "metadata": {},
   "outputs": [],
   "source": [
    "#project_data_dir = '/data/pablo/RNAdeg'\n",
    "project_data_dir = '/gcm-lfs1/pablo/data/RNAdeg'"
   ]
  },
  {
   "cell_type": "code",
   "execution_count": 7,
   "metadata": {},
   "outputs": [],
   "source": [
    "project_dir = '/home/pmonteagudo/workspace/RNAdeg'"
   ]
  },
  {
   "cell_type": "code",
   "execution_count": 8,
   "metadata": {},
   "outputs": [],
   "source": [
    "scripts_dir = os.path.join(project_dir, 'pyRNAdeg')\n",
    "if scripts_dir not in sys.path: \n",
    "    sys.path.append(scripts_dir)\n",
    "\n",
    "import RepTools as rpc    \n",
    "from Util import to_log2_tpm"
   ]
  },
  {
   "cell_type": "code",
   "execution_count": 21,
   "metadata": {},
   "outputs": [],
   "source": [
    "#source_dir = '/data/parastou/RNAdeg/results/RipChip/xp_data/'\n",
    "#source_dir = os.path.join(project_data_dir,'results/RipChip/xp_data')\n",
    "#in_dir = os.path.join(project_dir, 'results/ChIP/xp_data')\n",
    "in_dir = os.path.join(project_dir, 'results/sequencing_new/ChIP/xp_data')"
   ]
  },
  {
   "cell_type": "code",
   "execution_count": 24,
   "metadata": {},
   "outputs": [],
   "source": [
    "#out_dir = '/data/parastou/RNAdeg/results/RipChip/'\n",
    "#out_dir = os.path.join(project_data_dir,'results/RipChip')\n",
    "#out_dir = os.path.join(project_dir, 'results/ChIP')\n",
    "out_dir = os.path.join(project_dir, 'results/sequencing_new/ChIP')"
   ]
  },
  {
   "cell_type": "markdown",
   "metadata": {},
   "source": [
    "------"
   ]
  },
  {
   "cell_type": "markdown",
   "metadata": {},
   "source": [
    "# Substract INPUT: **ChIP-seq**"
   ]
  },
  {
   "cell_type": "markdown",
   "metadata": {},
   "source": [
    "--------------------------"
   ]
  },
  {
   "cell_type": "markdown",
   "metadata": {},
   "source": [
    "For now just select the **pair (ChIP-INPUT)** that were processed with Thor. \n",
    "- `sequencing_new/ChIP/bam/524_1_S2ChIP`\n",
    "- `sequencing_new/ChIP/bam/524_1_INPUT`"
   ]
  },
  {
   "cell_type": "code",
   "execution_count": 16,
   "metadata": {},
   "outputs": [],
   "source": [
    "chip_sample = \"524_1_S2ChIP\"\n",
    "input_sample = \"524_1_INPUT\""
   ]
  },
  {
   "cell_type": "markdown",
   "metadata": {},
   "source": [
    "## 1. Load raw gene count table"
   ]
  },
  {
   "cell_type": "code",
   "execution_count": 25,
   "metadata": {},
   "outputs": [],
   "source": [
    "gx_header = ['gene_id', 'gene_name', 'seqid', 'type', 'start', 'end', 'strand', 'cds_length', 'utr_length', 'length']\n",
    "gx_header.append(chip_sample)\n",
    "gx_header.append(input_sample)"
   ]
  },
  {
   "cell_type": "markdown",
   "metadata": {},
   "source": [
    "- Import **ChIP** (raw) **gene counts Matrix**: `chip_pombe_gene_count_matrix.csv`"
   ]
  },
  {
   "cell_type": "code",
   "execution_count": 26,
   "metadata": {},
   "outputs": [
    {
     "data": {
      "text/html": [
       "<div>\n",
       "<style scoped>\n",
       "    .dataframe tbody tr th:only-of-type {\n",
       "        vertical-align: middle;\n",
       "    }\n",
       "\n",
       "    .dataframe tbody tr th {\n",
       "        vertical-align: top;\n",
       "    }\n",
       "\n",
       "    .dataframe thead th {\n",
       "        text-align: right;\n",
       "    }\n",
       "</style>\n",
       "<table border=\"1\" class=\"dataframe\">\n",
       "  <thead>\n",
       "    <tr style=\"text-align: right;\">\n",
       "      <th></th>\n",
       "      <th>gene_id</th>\n",
       "      <th>gene_name</th>\n",
       "      <th>seqid</th>\n",
       "      <th>type</th>\n",
       "      <th>start</th>\n",
       "      <th>end</th>\n",
       "      <th>strand</th>\n",
       "      <th>cds_length</th>\n",
       "      <th>utr_length</th>\n",
       "      <th>length</th>\n",
       "      <th>...</th>\n",
       "      <th>491_1_INPUT</th>\n",
       "      <th>491_OIN</th>\n",
       "      <th>504_1_INPUT</th>\n",
       "      <th>510_1_INPUT</th>\n",
       "      <th>523_1_INPUT</th>\n",
       "      <th>524_1_INPUT</th>\n",
       "      <th>544_1_OIN</th>\n",
       "      <th>544_2_OIN</th>\n",
       "      <th>638_OIN</th>\n",
       "      <th>63_OIN</th>\n",
       "    </tr>\n",
       "  </thead>\n",
       "  <tbody>\n",
       "    <tr>\n",
       "      <th>0</th>\n",
       "      <td>SPAC1002.01</td>\n",
       "      <td>mrx11</td>\n",
       "      <td>I</td>\n",
       "      <td>gene</td>\n",
       "      <td>1798347</td>\n",
       "      <td>1799015</td>\n",
       "      <td>+</td>\n",
       "      <td>540</td>\n",
       "      <td>NaN</td>\n",
       "      <td>540.0</td>\n",
       "      <td>...</td>\n",
       "      <td>506.0</td>\n",
       "      <td>365.0</td>\n",
       "      <td>470.0</td>\n",
       "      <td>577.0</td>\n",
       "      <td>440.0</td>\n",
       "      <td>394.0</td>\n",
       "      <td>277.0</td>\n",
       "      <td>425.0</td>\n",
       "      <td>270.0</td>\n",
       "      <td>245.0</td>\n",
       "    </tr>\n",
       "    <tr>\n",
       "      <th>1</th>\n",
       "      <td>SPAC1002.02</td>\n",
       "      <td>pom34</td>\n",
       "      <td>I</td>\n",
       "      <td>gene</td>\n",
       "      <td>1799061</td>\n",
       "      <td>1800053</td>\n",
       "      <td>+</td>\n",
       "      <td>690</td>\n",
       "      <td>303.0</td>\n",
       "      <td>993.0</td>\n",
       "      <td>...</td>\n",
       "      <td>578.0</td>\n",
       "      <td>455.0</td>\n",
       "      <td>584.0</td>\n",
       "      <td>629.0</td>\n",
       "      <td>539.0</td>\n",
       "      <td>501.0</td>\n",
       "      <td>385.0</td>\n",
       "      <td>503.0</td>\n",
       "      <td>337.0</td>\n",
       "      <td>361.0</td>\n",
       "    </tr>\n",
       "    <tr>\n",
       "      <th>2</th>\n",
       "      <td>SPAC1002.03c</td>\n",
       "      <td>gls2</td>\n",
       "      <td>I</td>\n",
       "      <td>gene</td>\n",
       "      <td>1799915</td>\n",
       "      <td>1803141</td>\n",
       "      <td>-</td>\n",
       "      <td>2772</td>\n",
       "      <td>455.0</td>\n",
       "      <td>3227.0</td>\n",
       "      <td>...</td>\n",
       "      <td>1669.0</td>\n",
       "      <td>1353.0</td>\n",
       "      <td>1736.0</td>\n",
       "      <td>2057.0</td>\n",
       "      <td>1522.0</td>\n",
       "      <td>1460.0</td>\n",
       "      <td>1206.0</td>\n",
       "      <td>1410.0</td>\n",
       "      <td>1014.0</td>\n",
       "      <td>1183.0</td>\n",
       "    </tr>\n",
       "    <tr>\n",
       "      <th>3</th>\n",
       "      <td>SPAC1002.04c</td>\n",
       "      <td>taf11</td>\n",
       "      <td>I</td>\n",
       "      <td>gene</td>\n",
       "      <td>1803624</td>\n",
       "      <td>1804491</td>\n",
       "      <td>-</td>\n",
       "      <td>600</td>\n",
       "      <td>268.0</td>\n",
       "      <td>868.0</td>\n",
       "      <td>...</td>\n",
       "      <td>575.0</td>\n",
       "      <td>481.0</td>\n",
       "      <td>529.0</td>\n",
       "      <td>611.0</td>\n",
       "      <td>489.0</td>\n",
       "      <td>472.0</td>\n",
       "      <td>348.0</td>\n",
       "      <td>449.0</td>\n",
       "      <td>316.0</td>\n",
       "      <td>345.0</td>\n",
       "    </tr>\n",
       "    <tr>\n",
       "      <th>4</th>\n",
       "      <td>SPAC1002.05c</td>\n",
       "      <td>jmj2</td>\n",
       "      <td>I</td>\n",
       "      <td>gene</td>\n",
       "      <td>1804548</td>\n",
       "      <td>1806797</td>\n",
       "      <td>-</td>\n",
       "      <td>2148</td>\n",
       "      <td>102.0</td>\n",
       "      <td>2250.0</td>\n",
       "      <td>...</td>\n",
       "      <td>1226.0</td>\n",
       "      <td>1052.0</td>\n",
       "      <td>1237.0</td>\n",
       "      <td>1501.0</td>\n",
       "      <td>1181.0</td>\n",
       "      <td>1135.0</td>\n",
       "      <td>850.0</td>\n",
       "      <td>997.0</td>\n",
       "      <td>728.0</td>\n",
       "      <td>785.0</td>\n",
       "    </tr>\n",
       "  </tbody>\n",
       "</table>\n",
       "<p>5 rows × 30 columns</p>\n",
       "</div>"
      ],
      "text/plain": [
       "        gene_id gene_name seqid  type    start      end strand  cds_length  \\\n",
       "0   SPAC1002.01     mrx11     I  gene  1798347  1799015      +         540   \n",
       "1   SPAC1002.02     pom34     I  gene  1799061  1800053      +         690   \n",
       "2  SPAC1002.03c      gls2     I  gene  1799915  1803141      -        2772   \n",
       "3  SPAC1002.04c     taf11     I  gene  1803624  1804491      -         600   \n",
       "4  SPAC1002.05c      jmj2     I  gene  1804548  1806797      -        2148   \n",
       "\n",
       "   utr_length  length   ...   491_1_INPUT 491_OIN  504_1_INPUT  510_1_INPUT  \\\n",
       "0         NaN   540.0   ...         506.0   365.0        470.0        577.0   \n",
       "1       303.0   993.0   ...         578.0   455.0        584.0        629.0   \n",
       "2       455.0  3227.0   ...        1669.0  1353.0       1736.0       2057.0   \n",
       "3       268.0   868.0   ...         575.0   481.0        529.0        611.0   \n",
       "4       102.0  2250.0   ...        1226.0  1052.0       1237.0       1501.0   \n",
       "\n",
       "   523_1_INPUT  524_1_INPUT  544_1_OIN  544_2_OIN  638_OIN  63_OIN  \n",
       "0        440.0        394.0      277.0      425.0    270.0   245.0  \n",
       "1        539.0        501.0      385.0      503.0    337.0   361.0  \n",
       "2       1522.0       1460.0     1206.0     1410.0   1014.0  1183.0  \n",
       "3        489.0        472.0      348.0      449.0    316.0   345.0  \n",
       "4       1181.0       1135.0      850.0      997.0    728.0   785.0  \n",
       "\n",
       "[5 rows x 30 columns]"
      ]
     },
     "execution_count": 26,
     "metadata": {},
     "output_type": "execute_result"
    }
   ],
   "source": [
    "gx_df = pd.read_csv(os.path.join(in_dir, 'chip_pombe_gene_count_matrix.csv'), sep='\\t', comment='#')\n",
    "#gx_df = pd.read_csv(os.path.join(in_dir, 'chip_pombe_gene_count_matrix.csv'), sep='\\t', comment='#')[gx_header]\n",
    "gx_df.head()"
   ]
  },
  {
   "cell_type": "code",
   "execution_count": 16,
   "metadata": {},
   "outputs": [
    {
     "data": {
      "text/plain": [
       "(7005, 34)"
      ]
     },
     "execution_count": 16,
     "metadata": {},
     "output_type": "execute_result"
    }
   ],
   "source": [
    "gx_df.shape"
   ]
  },
  {
   "cell_type": "markdown",
   "metadata": {},
   "source": [
    "- Get `samples` **columns**"
   ]
  },
  {
   "cell_type": "code",
   "execution_count": 31,
   "metadata": {},
   "outputs": [
    {
     "data": {
      "text/plain": [
       "['1022_1_INPUT',\n",
       " '1022_OIN',\n",
       " '1168_OIN',\n",
       " '260_1_INPUT',\n",
       " '301_OIN',\n",
       " '302_OIN',\n",
       " '324_1_INPUT',\n",
       " '324_OIN',\n",
       " '491_1_INPUT',\n",
       " '491_OIN',\n",
       " '504_1_INPUT',\n",
       " '510_1_INPUT',\n",
       " '523_1_INPUT',\n",
       " '524_1_INPUT',\n",
       " '544_1_OIN',\n",
       " '544_2_OIN',\n",
       " '638_OIN',\n",
       " '63_OIN']"
      ]
     },
     "execution_count": 31,
     "metadata": {},
     "output_type": "execute_result"
    }
   ],
   "source": [
    "sample_cols = [ss for ss in gx_df.columns if ('ChIP' in ss)| ('INPUT' in ss) | ('OIN' in ss)]\n",
    "sample_cols\n",
    "#len(sample_cols)"
   ]
  },
  {
   "cell_type": "markdown",
   "metadata": {},
   "source": [
    "----"
   ]
  },
  {
   "cell_type": "markdown",
   "metadata": {},
   "source": [
    "## 2. Produce **correlation-plots** and **pearson-r correlation scores**"
   ]
  },
  {
   "cell_type": "markdown",
   "metadata": {},
   "source": [
    "- Get `samples` **columns**"
   ]
  },
  {
   "cell_type": "code",
   "execution_count": 27,
   "metadata": {},
   "outputs": [
    {
     "ename": "NameError",
     "evalue": "name 'log2_tpm_df' is not defined",
     "output_type": "error",
     "traceback": [
      "\u001b[0;31m---------------------------------------------------------------------------\u001b[0m",
      "\u001b[0;31mNameError\u001b[0m                                 Traceback (most recent call last)",
      "\u001b[0;32m<ipython-input-27-1d15ab636a40>\u001b[0m in \u001b[0;36m<module>\u001b[0;34m\u001b[0m\n\u001b[0;32m----> 1\u001b[0;31m \u001b[0msample_cols\u001b[0m \u001b[0;34m=\u001b[0m \u001b[0;34m[\u001b[0m\u001b[0mss\u001b[0m \u001b[0;32mfor\u001b[0m \u001b[0mss\u001b[0m \u001b[0;32min\u001b[0m \u001b[0mlog2_tpm_df\u001b[0m\u001b[0;34m.\u001b[0m\u001b[0mcolumns\u001b[0m \u001b[0;32mif\u001b[0m \u001b[0;34m'ChIP'\u001b[0m \u001b[0;32min\u001b[0m \u001b[0mss\u001b[0m\u001b[0;34m]\u001b[0m\u001b[0;34m\u001b[0m\u001b[0;34m\u001b[0m\u001b[0m\n\u001b[0m\u001b[1;32m      2\u001b[0m \u001b[0;31m#sample_cols\u001b[0m\u001b[0;34m\u001b[0m\u001b[0;34m\u001b[0m\u001b[0;34m\u001b[0m\u001b[0m\n\u001b[1;32m      3\u001b[0m \u001b[0mlen\u001b[0m\u001b[0;34m(\u001b[0m\u001b[0msample_cols\u001b[0m\u001b[0;34m)\u001b[0m\u001b[0;34m\u001b[0m\u001b[0;34m\u001b[0m\u001b[0m\n",
      "\u001b[0;31mNameError\u001b[0m: name 'log2_tpm_df' is not defined"
     ]
    }
   ],
   "source": [
    "sample_cols = [ss for ss in log2_tpm_df.columns if 'ChIP' in ss]\n",
    "#sample_cols\n",
    "len(sample_cols)"
   ]
  },
  {
   "cell_type": "markdown",
   "metadata": {},
   "source": [
    "- **Replicate samples** grouped by `Mutant` type:"
   ]
  },
  {
   "cell_type": "code",
   "execution_count": 43,
   "metadata": {},
   "outputs": [],
   "source": [
    "sub_samples =  {'638_ChIP': ['638_S2_ChIP', '638ChIP_1'],\n",
    "                '1168_ChIP': ['1168_S2ChIP', '1168_S2ChIP_1'],\n",
    "                '63_ChIP': ['63_S2ChIPp'], \n",
    "                '302_ChIP': ['302_S2ChIP', '302_S2_ChIP'],\n",
    "                '301_ChIP': ['301_S2ChIP', '301_S2_ChIP'],\n",
    "                '324_ChIP': ['324_S2ChIP', '324_S2_ChIP'],\n",
    "                '80_ChIP': ['80_S2_ChIP', '80S2ChIP_1', '80_S2ChIP', '80_S2ChIP_2'],\n",
    "                '504_ChIP': ['504S2ChIP_1', '504S2ChIP_2'],\n",
    "                '591_ChIP': ['591_S2PChIP'],\n",
    "                '491_ChIP': ['491_S2ChIP', '491_S2_ChIP'],\n",
    "                '530_ChIP': ['530ChIP_1', '530S2ChIP_2']}"
   ]
  },
  {
   "cell_type": "code",
   "execution_count": 68,
   "metadata": {},
   "outputs": [
    {
     "data": {
      "text/plain": [
       "{'1168_pA', '1168_pA_2', '63_S2Ph_RIP'}"
      ]
     },
     "execution_count": 68,
     "metadata": {},
     "output_type": "execute_result"
    }
   ],
   "source": [
    "sample_cols_v2 = list(itertools.chain.from_iterable(sub_samples.values()))\n",
    "#len(sample_cols_v2)\n",
    "missing_samples = set(sample_cols_v2).difference(sample_cols)\n",
    "missing_samples"
   ]
  },
  {
   "cell_type": "markdown",
   "metadata": {},
   "source": [
    "- Run **correlation checks**  for all **pair-wise sample combinations**:"
   ]
  },
  {
   "cell_type": "code",
   "execution_count": 40,
   "metadata": {},
   "outputs": [
    {
     "name": "stdout",
     "output_type": "stream",
     "text": [
      "> /home/pmonteagudo/workspace/RNAdeg/pyRNAdeg/RepTools.py(113)run_corr_checks()\n",
      "-> if not samples:\n"
     ]
    },
    {
     "name": "stdin",
     "output_type": "stream",
     "text": [
      "(Pdb)  samples\n",
      "(Pdb)  q\n"
     ]
    },
    {
     "ename": "BdbQuit",
     "evalue": "",
     "output_type": "error",
     "traceback": [
      "\u001b[0;31m---------------------------------------------------------------------------\u001b[0m",
      "\u001b[0;31mBdbQuit\u001b[0m                                   Traceback (most recent call last)",
      "\u001b[0;32m<ipython-input-40-9220208ee9eb>\u001b[0m in \u001b[0;36m<module>\u001b[0;34m\u001b[0m\n\u001b[0;32m----> 1\u001b[0;31m \u001b[0mcorr_df\u001b[0m \u001b[0;34m=\u001b[0m \u001b[0mrpc\u001b[0m\u001b[0;34m.\u001b[0m\u001b[0mrun_corr_checks\u001b[0m\u001b[0;34m(\u001b[0m\u001b[0mlog2_tpm_df\u001b[0m\u001b[0;34m,\u001b[0m \u001b[0mout_dir\u001b[0m\u001b[0;34m=\u001b[0m\u001b[0mout_corr\u001b[0m\u001b[0;34m)\u001b[0m\u001b[0;34m\u001b[0m\u001b[0;34m\u001b[0m\u001b[0m\n\u001b[0m\u001b[1;32m      2\u001b[0m \u001b[0mcorr_df\u001b[0m\u001b[0;34m.\u001b[0m\u001b[0mhead\u001b[0m\u001b[0;34m(\u001b[0m\u001b[0;34m)\u001b[0m\u001b[0;34m\u001b[0m\u001b[0;34m\u001b[0m\u001b[0m\n",
      "\u001b[0;32m~/workspace/RNAdeg/pyRNAdeg/RepTools.py\u001b[0m in \u001b[0;36mrun_corr_checks\u001b[0;34m(df, samples, out_dir, prefix)\u001b[0m\n\u001b[1;32m    111\u001b[0m     \u001b[0;32mimport\u001b[0m \u001b[0mpdb\u001b[0m\u001b[0;34m;\u001b[0m \u001b[0mpdb\u001b[0m\u001b[0;34m.\u001b[0m\u001b[0mset_trace\u001b[0m\u001b[0;34m(\u001b[0m\u001b[0;34m)\u001b[0m\u001b[0;34m\u001b[0m\u001b[0;34m\u001b[0m\u001b[0m\n\u001b[1;32m    112\u001b[0m \u001b[0;34m\u001b[0m\u001b[0m\n\u001b[0;32m--> 113\u001b[0;31m     \u001b[0;31m## by default use all samples in DataFrame\u001b[0m\u001b[0;34m\u001b[0m\u001b[0;34m\u001b[0m\u001b[0;34m\u001b[0m\u001b[0m\n\u001b[0m\u001b[1;32m    114\u001b[0m     \u001b[0;32mif\u001b[0m \u001b[0misinstance\u001b[0m\u001b[0;34m(\u001b[0m\u001b[0msamples\u001b[0m\u001b[0;34m,\u001b[0m \u001b[0mtype\u001b[0m\u001b[0;34m(\u001b[0m\u001b[0;32mNone\u001b[0m\u001b[0;34m)\u001b[0m\u001b[0;34m)\u001b[0m\u001b[0;34m:\u001b[0m\u001b[0;34m\u001b[0m\u001b[0;34m\u001b[0m\u001b[0m\n\u001b[1;32m    115\u001b[0m         \u001b[0;31m#samples = [s for s in list(df.columns) if s not in header]\u001b[0m\u001b[0;34m\u001b[0m\u001b[0;34m\u001b[0m\u001b[0;34m\u001b[0m\u001b[0m\n",
      "\u001b[0;32m~/workspace/RNAdeg/pyRNAdeg/RepTools.py\u001b[0m in \u001b[0;36mrun_corr_checks\u001b[0;34m(df, samples, out_dir, prefix)\u001b[0m\n\u001b[1;32m    111\u001b[0m     \u001b[0;32mimport\u001b[0m \u001b[0mpdb\u001b[0m\u001b[0;34m;\u001b[0m \u001b[0mpdb\u001b[0m\u001b[0;34m.\u001b[0m\u001b[0mset_trace\u001b[0m\u001b[0;34m(\u001b[0m\u001b[0;34m)\u001b[0m\u001b[0;34m\u001b[0m\u001b[0;34m\u001b[0m\u001b[0m\n\u001b[1;32m    112\u001b[0m \u001b[0;34m\u001b[0m\u001b[0m\n\u001b[0;32m--> 113\u001b[0;31m     \u001b[0;31m## by default use all samples in DataFrame\u001b[0m\u001b[0;34m\u001b[0m\u001b[0;34m\u001b[0m\u001b[0;34m\u001b[0m\u001b[0m\n\u001b[0m\u001b[1;32m    114\u001b[0m     \u001b[0;32mif\u001b[0m \u001b[0misinstance\u001b[0m\u001b[0;34m(\u001b[0m\u001b[0msamples\u001b[0m\u001b[0;34m,\u001b[0m \u001b[0mtype\u001b[0m\u001b[0;34m(\u001b[0m\u001b[0;32mNone\u001b[0m\u001b[0;34m)\u001b[0m\u001b[0;34m)\u001b[0m\u001b[0;34m:\u001b[0m\u001b[0;34m\u001b[0m\u001b[0;34m\u001b[0m\u001b[0m\n\u001b[1;32m    115\u001b[0m         \u001b[0;31m#samples = [s for s in list(df.columns) if s not in header]\u001b[0m\u001b[0;34m\u001b[0m\u001b[0;34m\u001b[0m\u001b[0;34m\u001b[0m\u001b[0m\n",
      "\u001b[0;32m/opt/anaconda3/lib/python3.7/bdb.py\u001b[0m in \u001b[0;36mtrace_dispatch\u001b[0;34m(self, frame, event, arg)\u001b[0m\n\u001b[1;32m     86\u001b[0m             \u001b[0;32mreturn\u001b[0m \u001b[0;31m# None\u001b[0m\u001b[0;34m\u001b[0m\u001b[0;34m\u001b[0m\u001b[0m\n\u001b[1;32m     87\u001b[0m         \u001b[0;32mif\u001b[0m \u001b[0mevent\u001b[0m \u001b[0;34m==\u001b[0m \u001b[0;34m'line'\u001b[0m\u001b[0;34m:\u001b[0m\u001b[0;34m\u001b[0m\u001b[0;34m\u001b[0m\u001b[0m\n\u001b[0;32m---> 88\u001b[0;31m             \u001b[0;32mreturn\u001b[0m \u001b[0mself\u001b[0m\u001b[0;34m.\u001b[0m\u001b[0mdispatch_line\u001b[0m\u001b[0;34m(\u001b[0m\u001b[0mframe\u001b[0m\u001b[0;34m)\u001b[0m\u001b[0;34m\u001b[0m\u001b[0;34m\u001b[0m\u001b[0m\n\u001b[0m\u001b[1;32m     89\u001b[0m         \u001b[0;32mif\u001b[0m \u001b[0mevent\u001b[0m \u001b[0;34m==\u001b[0m \u001b[0;34m'call'\u001b[0m\u001b[0;34m:\u001b[0m\u001b[0;34m\u001b[0m\u001b[0;34m\u001b[0m\u001b[0m\n\u001b[1;32m     90\u001b[0m             \u001b[0;32mreturn\u001b[0m \u001b[0mself\u001b[0m\u001b[0;34m.\u001b[0m\u001b[0mdispatch_call\u001b[0m\u001b[0;34m(\u001b[0m\u001b[0mframe\u001b[0m\u001b[0;34m,\u001b[0m \u001b[0marg\u001b[0m\u001b[0;34m)\u001b[0m\u001b[0;34m\u001b[0m\u001b[0;34m\u001b[0m\u001b[0m\n",
      "\u001b[0;32m/opt/anaconda3/lib/python3.7/bdb.py\u001b[0m in \u001b[0;36mdispatch_line\u001b[0;34m(self, frame)\u001b[0m\n\u001b[1;32m    111\u001b[0m         \u001b[0;32mif\u001b[0m \u001b[0mself\u001b[0m\u001b[0;34m.\u001b[0m\u001b[0mstop_here\u001b[0m\u001b[0;34m(\u001b[0m\u001b[0mframe\u001b[0m\u001b[0;34m)\u001b[0m \u001b[0;32mor\u001b[0m \u001b[0mself\u001b[0m\u001b[0;34m.\u001b[0m\u001b[0mbreak_here\u001b[0m\u001b[0;34m(\u001b[0m\u001b[0mframe\u001b[0m\u001b[0;34m)\u001b[0m\u001b[0;34m:\u001b[0m\u001b[0;34m\u001b[0m\u001b[0;34m\u001b[0m\u001b[0m\n\u001b[1;32m    112\u001b[0m             \u001b[0mself\u001b[0m\u001b[0;34m.\u001b[0m\u001b[0muser_line\u001b[0m\u001b[0;34m(\u001b[0m\u001b[0mframe\u001b[0m\u001b[0;34m)\u001b[0m\u001b[0;34m\u001b[0m\u001b[0;34m\u001b[0m\u001b[0m\n\u001b[0;32m--> 113\u001b[0;31m             \u001b[0;32mif\u001b[0m \u001b[0mself\u001b[0m\u001b[0;34m.\u001b[0m\u001b[0mquitting\u001b[0m\u001b[0;34m:\u001b[0m \u001b[0;32mraise\u001b[0m \u001b[0mBdbQuit\u001b[0m\u001b[0;34m\u001b[0m\u001b[0;34m\u001b[0m\u001b[0m\n\u001b[0m\u001b[1;32m    114\u001b[0m         \u001b[0;32mreturn\u001b[0m \u001b[0mself\u001b[0m\u001b[0;34m.\u001b[0m\u001b[0mtrace_dispatch\u001b[0m\u001b[0;34m\u001b[0m\u001b[0;34m\u001b[0m\u001b[0m\n\u001b[1;32m    115\u001b[0m \u001b[0;34m\u001b[0m\u001b[0m\n",
      "\u001b[0;31mBdbQuit\u001b[0m: "
     ]
    }
   ],
   "source": [
    "corr_df = rpc.run_corr_checks(log2_tpm_df, out_dir=out_corr)\n",
    "corr_df.head()"
   ]
  },
  {
   "cell_type": "code",
   "execution_count": 19,
   "metadata": {},
   "outputs": [
    {
     "data": {
      "text/plain": [
       "(231, 4)"
      ]
     },
     "execution_count": 19,
     "metadata": {},
     "output_type": "execute_result"
    }
   ],
   "source": [
    "corr_df.shape"
   ]
  },
  {
   "cell_type": "markdown",
   "metadata": {},
   "source": [
    "-----------------"
   ]
  },
  {
   "cell_type": "markdown",
   "metadata": {},
   "source": [
    "## 3. Investigate **pearson-r correlation scores** and select replicates to merge\n",
    "\n",
    "Select replicates to be merged based on their **pearson-r correlation scores**"
   ]
  },
  {
   "cell_type": "code",
   "execution_count": 20,
   "metadata": {},
   "outputs": [],
   "source": [
    "from RepTools import report_corr"
   ]
  },
  {
   "cell_type": "markdown",
   "metadata": {},
   "source": [
    "- **Replicate samples** grouped by `Mutant` type:"
   ]
  },
  {
   "cell_type": "code",
   "execution_count": 22,
   "metadata": {},
   "outputs": [],
   "source": [
    "# sub_samples =  [['638_S2_ChIP', '638ChIP_1'] ,\n",
    "#                 ['63_S2ChIPp'],\n",
    "#                 ['302_S2ChIP', '302_S2_ChIP'],\n",
    "#                 ['301_S2_ChIP', '301_S2ChIP'],\n",
    "#                 ['324_S2ChIP', '324_S2_ChIP'], \n",
    "#                 ['80_S2_ChIP', '80_S2Ph_ChIP', '80S2ChIP_1', '80_S2ChIP_2', '80_S2ChIP'],\n",
    "#                 ['504S2ChIP_1', '504S2ChIP_2'],\n",
    "#                 ['591_S2PChIP'],\n",
    "#                 ['491_S2ChIP', '491_S2_ChIP'],\n",
    "#                 ['530ChIP_1', '530S2ChIP_2']]"
   ]
  },
  {
   "cell_type": "markdown",
   "metadata": {},
   "source": [
    "**Total number of samples**:"
   ]
  },
  {
   "cell_type": "code",
   "execution_count": 23,
   "metadata": {},
   "outputs": [
    {
     "data": {
      "text/plain": [
       "21"
      ]
     },
     "execution_count": 23,
     "metadata": {},
     "output_type": "execute_result"
    }
   ],
   "source": [
    "len(list(itertools.chain.from_iterable(sub_samples)))"
   ]
  },
  {
   "cell_type": "markdown",
   "metadata": {},
   "source": [
    "**Number of mutants**:"
   ]
  },
  {
   "cell_type": "code",
   "execution_count": 29,
   "metadata": {},
   "outputs": [
    {
     "data": {
      "text/plain": [
       "11"
      ]
     },
     "execution_count": 29,
     "metadata": {},
     "output_type": "execute_result"
    }
   ],
   "source": [
    "len(sub_samples)"
   ]
  },
  {
   "cell_type": "markdown",
   "metadata": {},
   "source": [
    "- Import **correlation checks** for all **pair-wise sample combinations**: `correlations.csv`"
   ]
  },
  {
   "cell_type": "code",
   "execution_count": 35,
   "metadata": {},
   "outputs": [
    {
     "data": {
      "text/html": [
       "<div>\n",
       "<style scoped>\n",
       "    .dataframe tbody tr th:only-of-type {\n",
       "        vertical-align: middle;\n",
       "    }\n",
       "\n",
       "    .dataframe tbody tr th {\n",
       "        vertical-align: top;\n",
       "    }\n",
       "\n",
       "    .dataframe thead th {\n",
       "        text-align: right;\n",
       "    }\n",
       "</style>\n",
       "<table border=\"1\" class=\"dataframe\">\n",
       "  <thead>\n",
       "    <tr style=\"text-align: right;\">\n",
       "      <th></th>\n",
       "      <th>Sample1</th>\n",
       "      <th>Sample2</th>\n",
       "      <th>Correlation</th>\n",
       "      <th>P-value</th>\n",
       "    </tr>\n",
       "  </thead>\n",
       "  <tbody>\n",
       "    <tr>\n",
       "      <th>0</th>\n",
       "      <td>1168_S2ChIP_1</td>\n",
       "      <td>1168_S2ChIP</td>\n",
       "      <td>NaN</td>\n",
       "      <td>1.0</td>\n",
       "    </tr>\n",
       "    <tr>\n",
       "      <th>1</th>\n",
       "      <td>1168_S2ChIP_1</td>\n",
       "      <td>301_S2_ChIP</td>\n",
       "      <td>NaN</td>\n",
       "      <td>1.0</td>\n",
       "    </tr>\n",
       "    <tr>\n",
       "      <th>2</th>\n",
       "      <td>1168_S2ChIP_1</td>\n",
       "      <td>301_S2ChIP</td>\n",
       "      <td>NaN</td>\n",
       "      <td>1.0</td>\n",
       "    </tr>\n",
       "    <tr>\n",
       "      <th>3</th>\n",
       "      <td>1168_S2ChIP_1</td>\n",
       "      <td>302_S2_ChIP</td>\n",
       "      <td>NaN</td>\n",
       "      <td>1.0</td>\n",
       "    </tr>\n",
       "    <tr>\n",
       "      <th>4</th>\n",
       "      <td>1168_S2ChIP_1</td>\n",
       "      <td>302_S2ChIP</td>\n",
       "      <td>NaN</td>\n",
       "      <td>1.0</td>\n",
       "    </tr>\n",
       "  </tbody>\n",
       "</table>\n",
       "</div>"
      ],
      "text/plain": [
       "         Sample1      Sample2  Correlation  P-value\n",
       "0  1168_S2ChIP_1  1168_S2ChIP          NaN      1.0\n",
       "1  1168_S2ChIP_1  301_S2_ChIP          NaN      1.0\n",
       "2  1168_S2ChIP_1   301_S2ChIP          NaN      1.0\n",
       "3  1168_S2ChIP_1  302_S2_ChIP          NaN      1.0\n",
       "4  1168_S2ChIP_1   302_S2ChIP          NaN      1.0"
      ]
     },
     "execution_count": 35,
     "metadata": {},
     "output_type": "execute_result"
    }
   ],
   "source": [
    "corr_df = pd.read_csv(os.path.join(out_corr, 'correlations.csv'), sep='\\t')\n",
    "corr_df.head()"
   ]
  },
  {
   "cell_type": "code",
   "execution_count": 36,
   "metadata": {},
   "outputs": [
    {
     "data": {
      "text/plain": [
       "(231, 4)"
      ]
     },
     "execution_count": 36,
     "metadata": {},
     "output_type": "execute_result"
    }
   ],
   "source": [
    "corr_df.shape"
   ]
  },
  {
   "cell_type": "markdown",
   "metadata": {},
   "source": [
    "- Check **correlation scores** grouped by `Mutant` type:"
   ]
  },
  {
   "cell_type": "code",
   "execution_count": 38,
   "metadata": {
    "scrolled": false
   },
   "outputs": [
    {
     "name": "stdout",
     "output_type": "stream",
     "text": [
      "--------------------------------------------------------------------------------\n",
      "Mutant samples group: ['638_S2_ChIP', '638ChIP_1']\n",
      "     Sample1      Sample2  Correlation  P-value\n",
      "0  638ChIP_1  638_S2_ChIP          NaN      1.0\n",
      "-------------------------------------------------------------------------------- \n",
      "\n",
      "--------------------------------------------------------------------------------\n",
      "Mutant samples group: ['1168_S2ChIP', '1168_S2ChIP_1']\n",
      "         Sample1      Sample2  Correlation  P-value\n",
      "0  1168_S2ChIP_1  1168_S2ChIP          NaN      1.0\n",
      "-------------------------------------------------------------------------------- \n",
      "\n",
      "--------------------------------------------------------------------------------\n",
      "Mutant samples group: ['63_S2ChIPp']\n",
      "Empty DataFrame\n",
      "Columns: [Sample1, Sample2, Correlation, P-value]\n",
      "Index: []\n",
      "-------------------------------------------------------------------------------- \n",
      "\n",
      "--------------------------------------------------------------------------------\n",
      "Mutant samples group: ['302_S2ChIP', '302_S2_ChIP']\n",
      "       Sample1     Sample2  Correlation  P-value\n",
      "0  302_S2_ChIP  302_S2ChIP          NaN      1.0\n",
      "-------------------------------------------------------------------------------- \n",
      "\n",
      "--------------------------------------------------------------------------------\n",
      "Mutant samples group: ['301_S2_ChIP', '301_S2ChIP']\n",
      "       Sample1     Sample2  Correlation  P-value\n",
      "0  301_S2_ChIP  301_S2ChIP          NaN      1.0\n",
      "-------------------------------------------------------------------------------- \n",
      "\n",
      "--------------------------------------------------------------------------------\n",
      "Mutant samples group: ['324_S2ChIP', '324_S2_ChIP']\n",
      "       Sample1     Sample2  Correlation  P-value\n",
      "0  324_S2_ChIP  324_S2ChIP          NaN      1.0\n",
      "-------------------------------------------------------------------------------- \n",
      "\n",
      "--------------------------------------------------------------------------------\n",
      "Mutant samples group: ['80_S2_ChIP', '80S2ChIP_1', '80_S2ChIP_2', '80_S2ChIP']\n",
      "       Sample1      Sample2  Correlation  P-value\n",
      "0   80S2ChIP_1  80_S2ChIP_2          NaN      1.0\n",
      "1   80S2ChIP_1   80_S2_ChIP          NaN      1.0\n",
      "2   80S2ChIP_1    80_S2ChIP          NaN      1.0\n",
      "3  80_S2ChIP_2   80_S2_ChIP          NaN      1.0\n",
      "4  80_S2ChIP_2    80_S2ChIP          NaN      1.0\n",
      "5   80_S2_ChIP    80_S2ChIP          NaN      1.0\n",
      "-------------------------------------------------------------------------------- \n",
      "\n",
      "--------------------------------------------------------------------------------\n",
      "Mutant samples group: ['504S2ChIP_1', '504S2ChIP_2']\n",
      "       Sample1      Sample2  Correlation  P-value\n",
      "0  504S2ChIP_1  504S2ChIP_2          NaN      1.0\n",
      "-------------------------------------------------------------------------------- \n",
      "\n",
      "--------------------------------------------------------------------------------\n",
      "Mutant samples group: ['591_S2PChIP']\n",
      "Empty DataFrame\n",
      "Columns: [Sample1, Sample2, Correlation, P-value]\n",
      "Index: []\n",
      "-------------------------------------------------------------------------------- \n",
      "\n",
      "--------------------------------------------------------------------------------\n",
      "Mutant samples group: ['491_S2ChIP', '491_S2_ChIP']\n",
      "       Sample1     Sample2  Correlation  P-value\n",
      "0  491_S2_ChIP  491_S2ChIP          NaN      1.0\n",
      "-------------------------------------------------------------------------------- \n",
      "\n",
      "--------------------------------------------------------------------------------\n",
      "Mutant samples group: ['530ChIP_1', '530S2ChIP_2']\n",
      "     Sample1      Sample2  Correlation  P-value\n",
      "0  530ChIP_1  530S2ChIP_2          NaN      1.0\n",
      "-------------------------------------------------------------------------------- \n",
      "\n"
     ]
    }
   ],
   "source": [
    "for s in sub_samples:\n",
    "    a = report_corr(corr_df, s)\n",
    "    \n",
    "    print('-'*80)\n",
    "    print('Mutant samples group:', s)\n",
    "    print(a)\n",
    "    print('-'*80, '\\n')"
   ]
  },
  {
   "cell_type": "markdown",
   "metadata": {},
   "source": [
    "-----------------"
   ]
  },
  {
   "cell_type": "markdown",
   "metadata": {},
   "source": [
    "## 4. Merge replicates\n",
    "\n",
    "Merge and store as `.csv` files:\n",
    "- **Average raw count tables** (gx_df) for replicates: `chip_pombe_gene_count_merged.csv`\n",
    "- **Average TPM-normalized expression tables** (tpm_df) for replicates: `chip_pombe_gene_count_merged.csv`"
   ]
  },
  {
   "cell_type": "markdown",
   "metadata": {},
   "source": [
    "- `Mutant` type columns:"
   ]
  },
  {
   "cell_type": "code",
   "execution_count": 26,
   "metadata": {},
   "outputs": [],
   "source": [
    "col_names = ['638_ChIP', '1160_ChIP', 'WT_ChIP', '302_ChIP', '301_ChIP', '324_ChIP', \n",
    "             '80_ChIP', '504_ChIP', '591_ChIP', '491_ChIP', '530_ChIP']"
   ]
  },
  {
   "cell_type": "markdown",
   "metadata": {},
   "source": [
    "- **Replicate samples** grouped by `Mutant` type:"
   ]
  },
  {
   "cell_type": "code",
   "execution_count": 27,
   "metadata": {},
   "outputs": [],
   "source": [
    "sub_samples =  [['638_S2_ChIP', '638ChIP_1'] ,\n",
    "                ['1168_S2ChIP', '1168_S2ChIP_1'], \n",
    "                ['63_S2ChIPp'],\n",
    "                ['302_S2ChIP', '302_S2_ChIP'],\n",
    "                ['301_S2_ChIP', '301_S2ChIP'], \n",
    "                ['324_S2ChIP', '324_S2_ChIP'],\n",
    "                ['80_S2_ChIP', '80S2ChIP_1', '80_S2ChIP_2', '80_S2ChIP'],\n",
    "                ['504S2ChIP_1', '504S2ChIP_2'],\n",
    "                ['591_S2PChIP'],\n",
    "                ['491_S2ChIP', '491_S2_ChIP'], \n",
    "                ['530ChIP_1', '530S2ChIP_2']]"
   ]
  },
  {
   "cell_type": "markdown",
   "metadata": {},
   "source": [
    "**Total number of samples**:"
   ]
  },
  {
   "cell_type": "code",
   "execution_count": 28,
   "metadata": {},
   "outputs": [
    {
     "data": {
      "text/plain": [
       "22"
      ]
     },
     "execution_count": 28,
     "metadata": {},
     "output_type": "execute_result"
    }
   ],
   "source": [
    "len(list(itertools.chain.from_iterable(sub_samples)))"
   ]
  },
  {
   "cell_type": "markdown",
   "metadata": {},
   "source": [
    "**Number of mutants**:"
   ]
  },
  {
   "cell_type": "code",
   "execution_count": 29,
   "metadata": {},
   "outputs": [
    {
     "data": {
      "text/plain": [
       "11"
      ]
     },
     "execution_count": 29,
     "metadata": {},
     "output_type": "execute_result"
    }
   ],
   "source": [
    "len(sub_samples)"
   ]
  },
  {
   "cell_type": "markdown",
   "metadata": {},
   "source": [
    "- **Average raw count tables (gx_df) for replicates**"
   ]
  },
  {
   "cell_type": "code",
   "execution_count": 30,
   "metadata": {},
   "outputs": [
    {
     "data": {
      "text/html": [
       "<div>\n",
       "<style scoped>\n",
       "    .dataframe tbody tr th:only-of-type {\n",
       "        vertical-align: middle;\n",
       "    }\n",
       "\n",
       "    .dataframe tbody tr th {\n",
       "        vertical-align: top;\n",
       "    }\n",
       "\n",
       "    .dataframe thead th {\n",
       "        text-align: right;\n",
       "    }\n",
       "</style>\n",
       "<table border=\"1\" class=\"dataframe\">\n",
       "  <thead>\n",
       "    <tr style=\"text-align: right;\">\n",
       "      <th></th>\n",
       "      <th>gene_id</th>\n",
       "      <th>gene_name</th>\n",
       "      <th>length</th>\n",
       "      <th>type</th>\n",
       "      <th>category</th>\n",
       "      <th>bio_type</th>\n",
       "      <th>638_ChIP</th>\n",
       "      <th>1160_ChIP</th>\n",
       "      <th>WT_ChIP</th>\n",
       "      <th>302_ChIP</th>\n",
       "      <th>301_ChIP</th>\n",
       "      <th>324_ChIP</th>\n",
       "      <th>80_ChIP</th>\n",
       "      <th>504_ChIP</th>\n",
       "      <th>591_ChIP</th>\n",
       "      <th>491_ChIP</th>\n",
       "      <th>530_ChIP</th>\n",
       "    </tr>\n",
       "  </thead>\n",
       "  <tbody>\n",
       "    <tr>\n",
       "      <th>0</th>\n",
       "      <td>SPAC1002.01</td>\n",
       "      <td>mrx11</td>\n",
       "      <td>540.0</td>\n",
       "      <td>gene</td>\n",
       "      <td>gene</td>\n",
       "      <td>mRNA</td>\n",
       "      <td>151.5</td>\n",
       "      <td>39.0</td>\n",
       "      <td>107.0</td>\n",
       "      <td>99.0</td>\n",
       "      <td>91.5</td>\n",
       "      <td>82.0</td>\n",
       "      <td>156.00</td>\n",
       "      <td>72.5</td>\n",
       "      <td>155.0</td>\n",
       "      <td>118.5</td>\n",
       "      <td>84.5</td>\n",
       "    </tr>\n",
       "    <tr>\n",
       "      <th>1</th>\n",
       "      <td>SPAC1002.02</td>\n",
       "      <td>pom34</td>\n",
       "      <td>993.0</td>\n",
       "      <td>gene</td>\n",
       "      <td>gene</td>\n",
       "      <td>mRNA</td>\n",
       "      <td>577.5</td>\n",
       "      <td>177.0</td>\n",
       "      <td>406.0</td>\n",
       "      <td>411.5</td>\n",
       "      <td>410.0</td>\n",
       "      <td>362.0</td>\n",
       "      <td>533.75</td>\n",
       "      <td>274.0</td>\n",
       "      <td>885.0</td>\n",
       "      <td>409.5</td>\n",
       "      <td>357.5</td>\n",
       "    </tr>\n",
       "    <tr>\n",
       "      <th>2</th>\n",
       "      <td>SPAC1002.03c</td>\n",
       "      <td>gls2</td>\n",
       "      <td>3227.0</td>\n",
       "      <td>gene</td>\n",
       "      <td>gene</td>\n",
       "      <td>mRNA</td>\n",
       "      <td>1409.0</td>\n",
       "      <td>478.0</td>\n",
       "      <td>1172.0</td>\n",
       "      <td>1197.0</td>\n",
       "      <td>1063.0</td>\n",
       "      <td>994.5</td>\n",
       "      <td>1367.75</td>\n",
       "      <td>827.0</td>\n",
       "      <td>2138.0</td>\n",
       "      <td>1253.0</td>\n",
       "      <td>919.5</td>\n",
       "    </tr>\n",
       "    <tr>\n",
       "      <th>3</th>\n",
       "      <td>SPAC1002.04c</td>\n",
       "      <td>taf11</td>\n",
       "      <td>868.0</td>\n",
       "      <td>gene</td>\n",
       "      <td>gene</td>\n",
       "      <td>mRNA</td>\n",
       "      <td>262.0</td>\n",
       "      <td>170.0</td>\n",
       "      <td>320.0</td>\n",
       "      <td>273.5</td>\n",
       "      <td>198.5</td>\n",
       "      <td>244.0</td>\n",
       "      <td>301.50</td>\n",
       "      <td>171.5</td>\n",
       "      <td>453.0</td>\n",
       "      <td>267.0</td>\n",
       "      <td>220.0</td>\n",
       "    </tr>\n",
       "    <tr>\n",
       "      <th>4</th>\n",
       "      <td>SPAC1002.05c</td>\n",
       "      <td>jmj2</td>\n",
       "      <td>2250.0</td>\n",
       "      <td>gene</td>\n",
       "      <td>gene</td>\n",
       "      <td>mRNA</td>\n",
       "      <td>673.0</td>\n",
       "      <td>79.0</td>\n",
       "      <td>673.0</td>\n",
       "      <td>451.5</td>\n",
       "      <td>492.0</td>\n",
       "      <td>430.0</td>\n",
       "      <td>620.25</td>\n",
       "      <td>404.0</td>\n",
       "      <td>764.0</td>\n",
       "      <td>586.0</td>\n",
       "      <td>468.0</td>\n",
       "    </tr>\n",
       "  </tbody>\n",
       "</table>\n",
       "</div>"
      ],
      "text/plain": [
       "        gene_id gene_name  length  type category bio_type  638_ChIP  \\\n",
       "0   SPAC1002.01     mrx11   540.0  gene     gene     mRNA     151.5   \n",
       "1   SPAC1002.02     pom34   993.0  gene     gene     mRNA     577.5   \n",
       "2  SPAC1002.03c      gls2  3227.0  gene     gene     mRNA    1409.0   \n",
       "3  SPAC1002.04c     taf11   868.0  gene     gene     mRNA     262.0   \n",
       "4  SPAC1002.05c      jmj2  2250.0  gene     gene     mRNA     673.0   \n",
       "\n",
       "   1160_ChIP  WT_ChIP  302_ChIP  301_ChIP  324_ChIP  80_ChIP  504_ChIP  \\\n",
       "0       39.0    107.0      99.0      91.5      82.0   156.00      72.5   \n",
       "1      177.0    406.0     411.5     410.0     362.0   533.75     274.0   \n",
       "2      478.0   1172.0    1197.0    1063.0     994.5  1367.75     827.0   \n",
       "3      170.0    320.0     273.5     198.5     244.0   301.50     171.5   \n",
       "4       79.0    673.0     451.5     492.0     430.0   620.25     404.0   \n",
       "\n",
       "   591_ChIP  491_ChIP  530_ChIP  \n",
       "0     155.0     118.5      84.5  \n",
       "1     885.0     409.5     357.5  \n",
       "2    2138.0    1253.0     919.5  \n",
       "3     453.0     267.0     220.0  \n",
       "4     764.0     586.0     468.0  "
      ]
     },
     "execution_count": 30,
     "metadata": {},
     "output_type": "execute_result"
    }
   ],
   "source": [
    "#merged_df = rpc.repli_merge(gx_df, sub_samples, new_cols=col_names, out_dir=in_dir, out_file='chip_pombe_gene_count_merged.csv')\n",
    "merged_gxp_df = rpc.repli_merge(gx_df, sub_samples, new_cols=col_names, out_dir=in_dir, out_file='chip_pombe_gene_count_merged.csv')\n",
    "merged_gxp_df.head()"
   ]
  },
  {
   "cell_type": "code",
   "execution_count": 31,
   "metadata": {},
   "outputs": [
    {
     "data": {
      "text/plain": [
       "(7005, 17)"
      ]
     },
     "execution_count": 31,
     "metadata": {},
     "output_type": "execute_result"
    }
   ],
   "source": [
    "merged_gxp_df.shape"
   ]
  },
  {
   "cell_type": "markdown",
   "metadata": {},
   "source": [
    "- **B. Average TPM-normalized expression tables (tpm_df) for replicates**"
   ]
  },
  {
   "cell_type": "code",
   "execution_count": 32,
   "metadata": {},
   "outputs": [
    {
     "data": {
      "text/html": [
       "<div>\n",
       "<style scoped>\n",
       "    .dataframe tbody tr th:only-of-type {\n",
       "        vertical-align: middle;\n",
       "    }\n",
       "\n",
       "    .dataframe tbody tr th {\n",
       "        vertical-align: top;\n",
       "    }\n",
       "\n",
       "    .dataframe thead th {\n",
       "        text-align: right;\n",
       "    }\n",
       "</style>\n",
       "<table border=\"1\" class=\"dataframe\">\n",
       "  <thead>\n",
       "    <tr style=\"text-align: right;\">\n",
       "      <th></th>\n",
       "      <th>gene_id</th>\n",
       "      <th>gene_name</th>\n",
       "      <th>length</th>\n",
       "      <th>type</th>\n",
       "      <th>category</th>\n",
       "      <th>bio_type</th>\n",
       "      <th>638_ChIP</th>\n",
       "      <th>1160_ChIP</th>\n",
       "      <th>WT_ChIP</th>\n",
       "      <th>302_ChIP</th>\n",
       "      <th>301_ChIP</th>\n",
       "      <th>324_ChIP</th>\n",
       "      <th>80_ChIP</th>\n",
       "      <th>504_ChIP</th>\n",
       "      <th>591_ChIP</th>\n",
       "      <th>491_ChIP</th>\n",
       "      <th>530_ChIP</th>\n",
       "    </tr>\n",
       "  </thead>\n",
       "  <tbody>\n",
       "    <tr>\n",
       "      <th>0</th>\n",
       "      <td>SPAC1002.01</td>\n",
       "      <td>mrx11</td>\n",
       "      <td>540.0</td>\n",
       "      <td>gene</td>\n",
       "      <td>gene</td>\n",
       "      <td>mRNA</td>\n",
       "      <td>70.364681</td>\n",
       "      <td>49.156389</td>\n",
       "      <td>67.171057</td>\n",
       "      <td>59.624368</td>\n",
       "      <td>67.644011</td>\n",
       "      <td>51.053360</td>\n",
       "      <td>73.288988</td>\n",
       "      <td>54.728487</td>\n",
       "      <td>53.046393</td>\n",
       "      <td>79.251067</td>\n",
       "      <td>60.371322</td>\n",
       "    </tr>\n",
       "    <tr>\n",
       "      <th>1</th>\n",
       "      <td>SPAC1002.02</td>\n",
       "      <td>pom34</td>\n",
       "      <td>993.0</td>\n",
       "      <td>gene</td>\n",
       "      <td>gene</td>\n",
       "      <td>mRNA</td>\n",
       "      <td>145.683010</td>\n",
       "      <td>121.320207</td>\n",
       "      <td>138.601826</td>\n",
       "      <td>131.428594</td>\n",
       "      <td>161.765092</td>\n",
       "      <td>127.065838</td>\n",
       "      <td>140.492491</td>\n",
       "      <td>112.243348</td>\n",
       "      <td>164.706956</td>\n",
       "      <td>136.077102</td>\n",
       "      <td>132.585836</td>\n",
       "    </tr>\n",
       "    <tr>\n",
       "      <th>2</th>\n",
       "      <td>SPAC1002.03c</td>\n",
       "      <td>gls2</td>\n",
       "      <td>3227.0</td>\n",
       "      <td>gene</td>\n",
       "      <td>gene</td>\n",
       "      <td>mRNA</td>\n",
       "      <td>110.207094</td>\n",
       "      <td>100.817995</td>\n",
       "      <td>123.117790</td>\n",
       "      <td>118.673575</td>\n",
       "      <td>128.339363</td>\n",
       "      <td>108.855655</td>\n",
       "      <td>108.619941</td>\n",
       "      <td>103.873637</td>\n",
       "      <td>122.440940</td>\n",
       "      <td>127.013853</td>\n",
       "      <td>102.302088</td>\n",
       "    </tr>\n",
       "    <tr>\n",
       "      <th>3</th>\n",
       "      <td>SPAC1002.04c</td>\n",
       "      <td>taf11</td>\n",
       "      <td>868.0</td>\n",
       "      <td>gene</td>\n",
       "      <td>gene</td>\n",
       "      <td>mRNA</td>\n",
       "      <td>75.733997</td>\n",
       "      <td>133.302508</td>\n",
       "      <td>124.974791</td>\n",
       "      <td>101.195329</td>\n",
       "      <td>90.280554</td>\n",
       "      <td>105.960388</td>\n",
       "      <td>89.637450</td>\n",
       "      <td>80.191357</td>\n",
       "      <td>96.448704</td>\n",
       "      <td>101.235949</td>\n",
       "      <td>91.751409</td>\n",
       "    </tr>\n",
       "    <tr>\n",
       "      <th>4</th>\n",
       "      <td>SPAC1002.05c</td>\n",
       "      <td>jmj2</td>\n",
       "      <td>2250.0</td>\n",
       "      <td>gene</td>\n",
       "      <td>gene</td>\n",
       "      <td>mRNA</td>\n",
       "      <td>76.146466</td>\n",
       "      <td>23.897567</td>\n",
       "      <td>101.396908</td>\n",
       "      <td>64.395437</td>\n",
       "      <td>85.134130</td>\n",
       "      <td>70.657833</td>\n",
       "      <td>71.490491</td>\n",
       "      <td>72.663338</td>\n",
       "      <td>62.752172</td>\n",
       "      <td>86.678594</td>\n",
       "      <td>75.273765</td>\n",
       "    </tr>\n",
       "  </tbody>\n",
       "</table>\n",
       "</div>"
      ],
      "text/plain": [
       "        gene_id gene_name  length  type category bio_type    638_ChIP  \\\n",
       "0   SPAC1002.01     mrx11   540.0  gene     gene     mRNA   70.364681   \n",
       "1   SPAC1002.02     pom34   993.0  gene     gene     mRNA  145.683010   \n",
       "2  SPAC1002.03c      gls2  3227.0  gene     gene     mRNA  110.207094   \n",
       "3  SPAC1002.04c     taf11   868.0  gene     gene     mRNA   75.733997   \n",
       "4  SPAC1002.05c      jmj2  2250.0  gene     gene     mRNA   76.146466   \n",
       "\n",
       "    1160_ChIP     WT_ChIP    302_ChIP    301_ChIP    324_ChIP     80_ChIP  \\\n",
       "0   49.156389   67.171057   59.624368   67.644011   51.053360   73.288988   \n",
       "1  121.320207  138.601826  131.428594  161.765092  127.065838  140.492491   \n",
       "2  100.817995  123.117790  118.673575  128.339363  108.855655  108.619941   \n",
       "3  133.302508  124.974791  101.195329   90.280554  105.960388   89.637450   \n",
       "4   23.897567  101.396908   64.395437   85.134130   70.657833   71.490491   \n",
       "\n",
       "     504_ChIP    591_ChIP    491_ChIP    530_ChIP  \n",
       "0   54.728487   53.046393   79.251067   60.371322  \n",
       "1  112.243348  164.706956  136.077102  132.585836  \n",
       "2  103.873637  122.440940  127.013853  102.302088  \n",
       "3   80.191357   96.448704  101.235949   91.751409  \n",
       "4   72.663338   62.752172   86.678594   75.273765  "
      ]
     },
     "execution_count": 32,
     "metadata": {},
     "output_type": "execute_result"
    }
   ],
   "source": [
    "merged_tpm_df = rpc.repli_merge(tpm_df, sub_samples, new_cols=col_names, out_dir=in_dir, out_file='chip_pombe_tpm_merged.csv')\n",
    "merged_tpm_df.head()"
   ]
  },
  {
   "cell_type": "code",
   "execution_count": 33,
   "metadata": {},
   "outputs": [
    {
     "data": {
      "text/plain": [
       "(7005, 17)"
      ]
     },
     "execution_count": 33,
     "metadata": {},
     "output_type": "execute_result"
    }
   ],
   "source": [
    "merged_tpm_df.shape"
   ]
  },
  {
   "cell_type": "markdown",
   "metadata": {},
   "source": [
    "------"
   ]
  }
 ],
 "metadata": {
  "kernelspec": {
   "display_name": "Python 3",
   "language": "python",
   "name": "python3"
  },
  "language_info": {
   "codemirror_mode": {
    "name": "ipython",
    "version": 3
   },
   "file_extension": ".py",
   "mimetype": "text/x-python",
   "name": "python",
   "nbconvert_exporter": "python",
   "pygments_lexer": "ipython3",
   "version": "3.7.1"
  }
 },
 "nbformat": 4,
 "nbformat_minor": 2
}
