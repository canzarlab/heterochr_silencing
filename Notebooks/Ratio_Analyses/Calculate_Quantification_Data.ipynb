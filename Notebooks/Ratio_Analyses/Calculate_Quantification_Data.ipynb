{
 "cells": [
  {
   "cell_type": "code",
   "execution_count": 1,
   "metadata": {},
   "outputs": [],
   "source": [
    "import os"
   ]
  },
  {
   "cell_type": "code",
   "execution_count": 2,
   "metadata": {},
   "outputs": [],
   "source": [
    "import sys"
   ]
  },
  {
   "cell_type": "code",
   "execution_count": 3,
   "metadata": {},
   "outputs": [],
   "source": [
    "import pandas as pd"
   ]
  },
  {
   "cell_type": "code",
   "execution_count": 4,
   "metadata": {},
   "outputs": [],
   "source": [
    "from numpy import mean, median"
   ]
  },
  {
   "cell_type": "code",
   "execution_count": 5,
   "metadata": {},
   "outputs": [],
   "source": [
    "nb_dir = '/data/parastou/RNAdeg/pyRNAdeg/'\n",
    "if nb_dir not in sys.path:\n",
    "    sys.path.append(nb_dir)"
   ]
  },
  {
   "cell_type": "code",
   "execution_count": 6,
   "metadata": {},
   "outputs": [],
   "source": [
    "import Viz"
   ]
  },
  {
   "cell_type": "code",
   "execution_count": 7,
   "metadata": {},
   "outputs": [],
   "source": [
    "from Viz import prepare_4cat_data"
   ]
  },
  {
   "cell_type": "code",
   "execution_count": 8,
   "metadata": {},
   "outputs": [],
   "source": [
    "deg1 = Viz.deg1\n",
    "deg2 = Viz.deg2\n",
    "nondeg = Viz.non_degraded"
   ]
  },
  {
   "cell_type": "markdown",
   "metadata": {},
   "source": [
    "--------------------------"
   ]
  },
  {
   "cell_type": "code",
   "execution_count": 9,
   "metadata": {},
   "outputs": [],
   "source": [
    "source_dir = '/data/parastou/RNAdeg/results/Quantifications/'"
   ]
  },
  {
   "cell_type": "markdown",
   "metadata": {},
   "source": [
    "-------------"
   ]
  },
  {
   "cell_type": "markdown",
   "metadata": {},
   "source": [
    "Calculate the `median` and/or `average` of **protein coding** genes, **heterochromatic** genes and **dg/dh** or **tlh/SPAC212.10** for:\n",
    "- Pol II ChIP\n",
    "- Pol II RIP\n",
    "- pA RNA\n",
    "- **Transcription Efficiency** (TE): Pol II RIP/ChIP\n",
    "- **RNA Stability** (RS): pA RNA/Pol II RIP"
   ]
  },
  {
   "cell_type": "markdown",
   "metadata": {},
   "source": [
    "## Load data"
   ]
  },
  {
   "cell_type": "markdown",
   "metadata": {},
   "source": [
    "#### Pol II ChIP data"
   ]
  },
  {
   "cell_type": "code",
   "execution_count": 12,
   "metadata": {},
   "outputs": [],
   "source": [
    "chip_df = pd.read_csv('/data/parastou/RNAdeg/results/RipChip/xp_data/chip_pombe_tpm_merged.csv', sep='\\t')"
   ]
  },
  {
   "cell_type": "code",
   "execution_count": 28,
   "metadata": {},
   "outputs": [],
   "source": [
    "chip_df.columns = ['510_ChIP' if x == '591_ChIP' else x for x in list(chip_df.columns)]"
   ]
  },
  {
   "cell_type": "markdown",
   "metadata": {},
   "source": [
    "#### Pol II RIP and pA RNA data"
   ]
  },
  {
   "cell_type": "code",
   "execution_count": 13,
   "metadata": {},
   "outputs": [],
   "source": [
    "rna_df = pd.read_csv('/data/parastou/RNAdeg/results/RipRna/xp_data/merged_tpm.csv', sep='\\t')"
   ]
  },
  {
   "cell_type": "markdown",
   "metadata": {},
   "source": [
    "#### pA RNA / Pol II RIP"
   ]
  },
  {
   "cell_type": "code",
   "execution_count": 19,
   "metadata": {},
   "outputs": [],
   "source": [
    "rs_df = pd.read_csv('/data/parastou/RNAdeg/results/RipRna/xp_data/rna_stability.csv', sep='\\t')\n",
    "rs_df = rs_df.fillna(0)"
   ]
  },
  {
   "cell_type": "markdown",
   "metadata": {},
   "source": [
    "#### Pol II RIP/ Pol II ChIP"
   ]
  },
  {
   "cell_type": "code",
   "execution_count": 90,
   "metadata": {},
   "outputs": [],
   "source": [
    "te_df = pd.read_csv('/data/parastou/RNAdeg/results/RipChip/xp_data/transcription_efficiency.csv', sep='\\t')\n",
    "te_df = te_df.fillna(0)"
   ]
  },
  {
   "cell_type": "markdown",
   "metadata": {},
   "source": [
    "----"
   ]
  },
  {
   "cell_type": "markdown",
   "metadata": {},
   "source": [
    "### Samples"
   ]
  },
  {
   "cell_type": "code",
   "execution_count": 65,
   "metadata": {},
   "outputs": [],
   "source": [
    "samples = ['WT', '80', '638', '301', '324', '491', '302', '504', '530', '510']"
   ]
  },
  {
   "cell_type": "markdown",
   "metadata": {},
   "source": [
    "----"
   ]
  },
  {
   "cell_type": "markdown",
   "metadata": {},
   "source": [
    "## Calculate means for groups"
   ]
  },
  {
   "cell_type": "markdown",
   "metadata": {},
   "source": [
    "### Pol II ChIP"
   ]
  },
  {
   "cell_type": "code",
   "execution_count": 66,
   "metadata": {},
   "outputs": [],
   "source": [
    "chip_samples = [i+'_ChIP' for i in samples]\n",
    "x, y, z, w = prepare_4cat_data(chip_df, chip_samples)"
   ]
  },
  {
   "cell_type": "code",
   "execution_count": 67,
   "metadata": {},
   "outputs": [],
   "source": [
    "df = pd.DataFrame(chip_samples, columns=['sample'])"
   ]
  },
  {
   "cell_type": "code",
   "execution_count": 68,
   "metadata": {},
   "outputs": [],
   "source": [
    "x_means = [mean(i) for i in x]\n",
    "df['gene mean'] = pd.Series(x_means)"
   ]
  },
  {
   "cell_type": "code",
   "execution_count": 69,
   "metadata": {},
   "outputs": [],
   "source": [
    "x_medians = [median(i) for i in x]\n",
    "df['gene median'] = pd.Series(x_medians)"
   ]
  },
  {
   "cell_type": "code",
   "execution_count": 70,
   "metadata": {},
   "outputs": [],
   "source": [
    "y_means = [mean(i) for i in y[0]]\n",
    "df['dg,dh mean'] = pd.Series(y_means)"
   ]
  },
  {
   "cell_type": "code",
   "execution_count": 71,
   "metadata": {},
   "outputs": [],
   "source": [
    "y_medians = [median(i) for i in y[0]]\n",
    "df['dg,dh median'] = pd.Series(y_medians)"
   ]
  },
  {
   "cell_type": "code",
   "execution_count": 72,
   "metadata": {},
   "outputs": [],
   "source": [
    "z_means = [mean(i) for i in z[0]]\n",
    "df['tlh,spc mean'] = pd.Series(z_means)"
   ]
  },
  {
   "cell_type": "code",
   "execution_count": 73,
   "metadata": {},
   "outputs": [],
   "source": [
    "z_medians = [median(i) for i in z[0]]\n",
    "df['tlh,spc median'] = pd.Series(z_medians)"
   ]
  },
  {
   "cell_type": "code",
   "execution_count": 74,
   "metadata": {},
   "outputs": [],
   "source": [
    "w_means = [mean(i) for i in w]\n",
    "df['het mean'] = pd.Series(w_means)"
   ]
  },
  {
   "cell_type": "code",
   "execution_count": 75,
   "metadata": {},
   "outputs": [],
   "source": [
    "w_medians = [median(i) for i in w]\n",
    "df['het median'] = pd.Series(w_means)"
   ]
  },
  {
   "cell_type": "code",
   "execution_count": 76,
   "metadata": {},
   "outputs": [],
   "source": [
    "df.to_csv(os.path.join(source_dir, 'polIIChIP_quantifications.csv'), sep='\\t', index=None)"
   ]
  },
  {
   "cell_type": "markdown",
   "metadata": {},
   "source": [
    "### RNA Silencing"
   ]
  },
  {
   "cell_type": "code",
   "execution_count": 78,
   "metadata": {},
   "outputs": [],
   "source": [
    "x, y, z, w = prepare_4cat_data(rs_df, samples)"
   ]
  },
  {
   "cell_type": "code",
   "execution_count": 79,
   "metadata": {},
   "outputs": [],
   "source": [
    "df = pd.DataFrame(samples, columns=['sample'])"
   ]
  },
  {
   "cell_type": "code",
   "execution_count": 80,
   "metadata": {},
   "outputs": [],
   "source": [
    "x_means = [mean(i) for i in x]\n",
    "df['gene mean'] = pd.Series(x_means)"
   ]
  },
  {
   "cell_type": "code",
   "execution_count": 81,
   "metadata": {},
   "outputs": [],
   "source": [
    "x_medians = [median(i) for i in x]\n",
    "df['gene median'] = pd.Series(x_medians)"
   ]
  },
  {
   "cell_type": "code",
   "execution_count": 82,
   "metadata": {},
   "outputs": [],
   "source": [
    "y_means = [mean(i) for i in y[0]]\n",
    "df['dg,dh mean'] = pd.Series(y_means)"
   ]
  },
  {
   "cell_type": "code",
   "execution_count": 83,
   "metadata": {},
   "outputs": [],
   "source": [
    "y_medians = [median(i) for i in y[0]]\n",
    "df['dg,dh median'] = pd.Series(y_medians)"
   ]
  },
  {
   "cell_type": "code",
   "execution_count": 84,
   "metadata": {},
   "outputs": [],
   "source": [
    "z_means = [mean(i) for i in z[0]]\n",
    "df['tlh,spc mean'] = pd.Series(z_means)"
   ]
  },
  {
   "cell_type": "code",
   "execution_count": 85,
   "metadata": {},
   "outputs": [],
   "source": [
    "z_medians = [median(i) for i in z[0]]\n",
    "df['tlh,spc median'] = pd.Series(z_medians)"
   ]
  },
  {
   "cell_type": "code",
   "execution_count": 86,
   "metadata": {},
   "outputs": [],
   "source": [
    "w_means = [mean(i) for i in w]\n",
    "df['het mean'] = pd.Series(w_means)"
   ]
  },
  {
   "cell_type": "code",
   "execution_count": 87,
   "metadata": {},
   "outputs": [],
   "source": [
    "w_medians = [median(i) for i in w]\n",
    "df['het median'] = pd.Series(w_means)"
   ]
  },
  {
   "cell_type": "code",
   "execution_count": 88,
   "metadata": {},
   "outputs": [],
   "source": [
    "df.to_csv(os.path.join(source_dir, 'rs_quantifications.csv'), sep='\\t', index=None)"
   ]
  },
  {
   "cell_type": "markdown",
   "metadata": {},
   "source": [
    "### Transcription Efficiency"
   ]
  },
  {
   "cell_type": "code",
   "execution_count": 92,
   "metadata": {},
   "outputs": [],
   "source": [
    "x, y, z, w = prepare_4cat_data(te_df, samples)"
   ]
  },
  {
   "cell_type": "code",
   "execution_count": 93,
   "metadata": {},
   "outputs": [],
   "source": [
    "df = pd.DataFrame(samples, columns=['sample'])"
   ]
  },
  {
   "cell_type": "code",
   "execution_count": 94,
   "metadata": {},
   "outputs": [],
   "source": [
    "x_means = [mean(i) for i in x]\n",
    "df['gene mean'] = pd.Series(x_means)"
   ]
  },
  {
   "cell_type": "code",
   "execution_count": 95,
   "metadata": {},
   "outputs": [],
   "source": [
    "x_medians = [median(i) for i in x]\n",
    "df['gene median'] = pd.Series(x_medians)"
   ]
  },
  {
   "cell_type": "code",
   "execution_count": 96,
   "metadata": {},
   "outputs": [],
   "source": [
    "y_means = [mean(i) for i in y[0]]\n",
    "df['dg,dh mean'] = pd.Series(y_means)"
   ]
  },
  {
   "cell_type": "code",
   "execution_count": 97,
   "metadata": {},
   "outputs": [],
   "source": [
    "y_medians = [median(i) for i in y[0]]\n",
    "df['dg,dh median'] = pd.Series(y_medians)"
   ]
  },
  {
   "cell_type": "code",
   "execution_count": 98,
   "metadata": {},
   "outputs": [],
   "source": [
    "z_means = [mean(i) for i in z[0]]\n",
    "df['tlh,spc mean'] = pd.Series(z_means)"
   ]
  },
  {
   "cell_type": "code",
   "execution_count": 99,
   "metadata": {},
   "outputs": [],
   "source": [
    "z_medians = [median(i) for i in z[0]]\n",
    "df['tlh,spc median'] = pd.Series(z_medians)"
   ]
  },
  {
   "cell_type": "code",
   "execution_count": 100,
   "metadata": {},
   "outputs": [],
   "source": [
    "w_means = [mean(i) for i in w]\n",
    "df['het mean'] = pd.Series(w_means)"
   ]
  },
  {
   "cell_type": "code",
   "execution_count": 101,
   "metadata": {},
   "outputs": [],
   "source": [
    "w_medians = [median(i) for i in w]\n",
    "df['het median'] = pd.Series(w_means)"
   ]
  },
  {
   "cell_type": "code",
   "execution_count": 102,
   "metadata": {},
   "outputs": [],
   "source": [
    "df.to_csv(os.path.join(source_dir, 'te_quantifications.csv'), sep='\\t', index=None)"
   ]
  },
  {
   "cell_type": "markdown",
   "metadata": {},
   "source": [
    "### pA RNA"
   ]
  },
  {
   "cell_type": "code",
   "execution_count": 104,
   "metadata": {},
   "outputs": [],
   "source": [
    "rna_samples = [i+'_RNA' for i in samples]\n",
    "\n",
    "x, y, z, w = prepare_4cat_data(rna_df, rna_samples)"
   ]
  },
  {
   "cell_type": "code",
   "execution_count": 105,
   "metadata": {},
   "outputs": [],
   "source": [
    "df = pd.DataFrame(rna_samples, columns=['sample'])"
   ]
  },
  {
   "cell_type": "code",
   "execution_count": 107,
   "metadata": {},
   "outputs": [],
   "source": [
    "x_means = [mean(i) for i in x]\n",
    "df['gene mean'] = pd.Series(x_means)"
   ]
  },
  {
   "cell_type": "code",
   "execution_count": 108,
   "metadata": {},
   "outputs": [],
   "source": [
    "x_medians = [median(i) for i in x]\n",
    "df['gene median'] = pd.Series(x_medians)"
   ]
  },
  {
   "cell_type": "code",
   "execution_count": 109,
   "metadata": {},
   "outputs": [],
   "source": [
    "y_means = [mean(i) for i in y[0]]\n",
    "df['dg,dh mean'] = pd.Series(y_means)"
   ]
  },
  {
   "cell_type": "code",
   "execution_count": 110,
   "metadata": {},
   "outputs": [],
   "source": [
    "y_medians = [median(i) for i in y[0]]\n",
    "df['dg,dh median'] = pd.Series(y_medians)"
   ]
  },
  {
   "cell_type": "code",
   "execution_count": 111,
   "metadata": {},
   "outputs": [],
   "source": [
    "z_means = [mean(i) for i in z[0]]\n",
    "df['tlh,spc mean'] = pd.Series(z_means)"
   ]
  },
  {
   "cell_type": "code",
   "execution_count": 112,
   "metadata": {},
   "outputs": [],
   "source": [
    "z_medians = [median(i) for i in z[0]]\n",
    "df['tlh,spc median'] = pd.Series(z_medians)"
   ]
  },
  {
   "cell_type": "code",
   "execution_count": 113,
   "metadata": {},
   "outputs": [],
   "source": [
    "w_means = [mean(i) for i in w]\n",
    "df['het mean'] = pd.Series(w_means)"
   ]
  },
  {
   "cell_type": "code",
   "execution_count": 114,
   "metadata": {},
   "outputs": [],
   "source": [
    "w_medians = [median(i) for i in w]\n",
    "df['het median'] = pd.Series(w_means)"
   ]
  },
  {
   "cell_type": "code",
   "execution_count": 116,
   "metadata": {},
   "outputs": [],
   "source": [
    "df.to_csv(os.path.join(source_dir, 'paRNA_quantifications.csv'), sep='\\t', index=None)"
   ]
  },
  {
   "cell_type": "markdown",
   "metadata": {},
   "source": [
    "### Pol II RIP"
   ]
  },
  {
   "cell_type": "code",
   "execution_count": 118,
   "metadata": {},
   "outputs": [],
   "source": [
    "rip_samples = [i+'_RIP' for i in samples]\n",
    "\n",
    "x, y, z, w = prepare_4cat_data(rna_df, rip_samples)"
   ]
  },
  {
   "cell_type": "code",
   "execution_count": 119,
   "metadata": {},
   "outputs": [],
   "source": [
    "df = pd.DataFrame(rip_samples, columns=['sample'])"
   ]
  },
  {
   "cell_type": "code",
   "execution_count": 120,
   "metadata": {},
   "outputs": [],
   "source": [
    "x_means = [mean(i) for i in x]\n",
    "df['gene mean'] = pd.Series(x_means)"
   ]
  },
  {
   "cell_type": "code",
   "execution_count": 121,
   "metadata": {},
   "outputs": [],
   "source": [
    "x_medians = [median(i) for i in x]\n",
    "df['gene median'] = pd.Series(x_medians)"
   ]
  },
  {
   "cell_type": "code",
   "execution_count": 122,
   "metadata": {},
   "outputs": [],
   "source": [
    "y_means = [mean(i) for i in y[0]]\n",
    "df['dg,dh mean'] = pd.Series(y_means)"
   ]
  },
  {
   "cell_type": "code",
   "execution_count": 123,
   "metadata": {},
   "outputs": [],
   "source": [
    "y_medians = [median(i) for i in y[0]]\n",
    "df['dg,dh median'] = pd.Series(y_medians)"
   ]
  },
  {
   "cell_type": "code",
   "execution_count": 124,
   "metadata": {},
   "outputs": [],
   "source": [
    "z_means = [mean(i) for i in z[0]]\n",
    "df['tlh,spc mean'] = pd.Series(z_means)"
   ]
  },
  {
   "cell_type": "code",
   "execution_count": 125,
   "metadata": {},
   "outputs": [],
   "source": [
    "z_medians = [median(i) for i in z[0]]\n",
    "df['tlh,spc median'] = pd.Series(z_medians)"
   ]
  },
  {
   "cell_type": "code",
   "execution_count": 126,
   "metadata": {},
   "outputs": [],
   "source": [
    "w_means = [mean(i) for i in w]\n",
    "df['het mean'] = pd.Series(w_means)"
   ]
  },
  {
   "cell_type": "code",
   "execution_count": 127,
   "metadata": {},
   "outputs": [],
   "source": [
    "w_medians = [median(i) for i in w]\n",
    "df['het median'] = pd.Series(w_means)"
   ]
  },
  {
   "cell_type": "code",
   "execution_count": 129,
   "metadata": {},
   "outputs": [],
   "source": [
    "df.to_csv(os.path.join(source_dir, 'polIIRIP_quantifications.csv'), sep='\\t', index=None)"
   ]
  },
  {
   "cell_type": "markdown",
   "metadata": {},
   "source": [
    "---"
   ]
  }
 ],
 "metadata": {
  "kernelspec": {
   "display_name": "Python 3",
   "language": "python",
   "name": "python3"
  },
  "language_info": {
   "codemirror_mode": {
    "name": "ipython",
    "version": 3
   },
   "file_extension": ".py",
   "mimetype": "text/x-python",
   "name": "python",
   "nbconvert_exporter": "python",
   "pygments_lexer": "ipython3",
   "version": "3.7.1"
  }
 },
 "nbformat": 4,
 "nbformat_minor": 2
}
