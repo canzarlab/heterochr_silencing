{
 "cells": [
  {
   "cell_type": "code",
   "execution_count": 1,
   "metadata": {},
   "outputs": [],
   "source": [
    "import pandas as pd"
   ]
  },
  {
   "cell_type": "code",
   "execution_count": 2,
   "metadata": {},
   "outputs": [],
   "source": [
    "import numpy as np"
   ]
  },
  {
   "cell_type": "code",
   "execution_count": 3,
   "metadata": {},
   "outputs": [],
   "source": [
    "import os"
   ]
  },
  {
   "cell_type": "code",
   "execution_count": 4,
   "metadata": {},
   "outputs": [],
   "source": [
    "import sys"
   ]
  },
  {
   "cell_type": "code",
   "execution_count": 5,
   "metadata": {},
   "outputs": [],
   "source": [
    "import itertools"
   ]
  },
  {
   "cell_type": "code",
   "execution_count": 6,
   "metadata": {},
   "outputs": [],
   "source": [
    "import copy"
   ]
  },
  {
   "cell_type": "code",
   "execution_count": 7,
   "metadata": {},
   "outputs": [],
   "source": [
    "import HTSeq\n",
    "import pysam"
   ]
  },
  {
   "cell_type": "code",
   "execution_count": 8,
   "metadata": {},
   "outputs": [],
   "source": [
    "import matplotlib.pyplot as plt\n",
    "plt.style.use('ggplot')"
   ]
  },
  {
   "cell_type": "code",
   "execution_count": 9,
   "metadata": {},
   "outputs": [],
   "source": [
    "%load_ext autoreload\n",
    "%autoreload 2"
   ]
  },
  {
   "cell_type": "markdown",
   "metadata": {},
   "source": [
    "------------------------------"
   ]
  },
  {
   "cell_type": "markdown",
   "metadata": {},
   "source": [
    "## Config"
   ]
  },
  {
   "cell_type": "code",
   "execution_count": 10,
   "metadata": {},
   "outputs": [],
   "source": [
    "project_data_dir = '/gcm-lfs1/pablo/data/rna_silencing'"
   ]
  },
  {
   "cell_type": "code",
   "execution_count": 11,
   "metadata": {},
   "outputs": [],
   "source": [
    "project_dir = '/home/pmonteagudo/workspace/silencing_project'"
   ]
  },
  {
   "cell_type": "code",
   "execution_count": 12,
   "metadata": {},
   "outputs": [],
   "source": [
    "scripts_dir = os.path.join(project_dir, 'htseq/scripts')\n",
    "if scripts_dir not in sys.path: \n",
    "    sys.path.append(scripts_dir)\n",
    "import coverage as cov"
   ]
  },
  {
   "cell_type": "markdown",
   "metadata": {},
   "source": [
    "- other **directories**"
   ]
  },
  {
   "cell_type": "code",
   "execution_count": 13,
   "metadata": {},
   "outputs": [],
   "source": [
    "data_dir = os.path.join(project_data_dir, 'seq_data')"
   ]
  },
  {
   "cell_type": "code",
   "execution_count": 14,
   "metadata": {},
   "outputs": [],
   "source": [
    "results_dir = os.path.join(project_data_dir, 'results')"
   ]
  },
  {
   "cell_type": "markdown",
   "metadata": {},
   "source": [
    "------"
   ]
  },
  {
   "cell_type": "markdown",
   "metadata": {},
   "source": [
    "# Test Coverage Plots"
   ]
  },
  {
   "cell_type": "markdown",
   "metadata": {},
   "source": [
    "--------------------------"
   ]
  },
  {
   "cell_type": "markdown",
   "metadata": {},
   "source": [
    "## Heterochomatic Genes"
   ]
  },
  {
   "cell_type": "code",
   "execution_count": 15,
   "metadata": {},
   "outputs": [],
   "source": [
    "# ------------------------------\n",
    "# A. Centromeric repeats `deg1`: dg, dh counts\n",
    "# ------------------------------\n",
    "\n",
    "#deg1 = ['dh1', 'dg1'] ## unstranded\n",
    "#deg1 = ['dh1+',  'dh1-', 'dg1+', 'dg1-']\n",
    "deg1 = ['dg1a', 'dg1b', 'dh1a', 'dh1b'] ## gff_v2\n",
    "deg1_names = {'dg1a': 'dg1+', 'dg1b': 'dg1-',\n",
    "              'dh1a': 'dh1+', 'dh1b': 'dh1-'}\n",
    "\n",
    "# -----------------------------\n",
    "# B. Subtelomeric Genes `deg2`: tlh, SPAC212.10 counts\n",
    "# -----------------------------\n",
    "\n",
    "#deg2 = ['tlh1', 'SPAC212.10'] ## unstranded\n",
    "#deg2 = ['tlh1+', 'tlh1-', 'SPAC212.10']\n",
    "deg2 = ['SPAC212.11', 'SPAC212.11b', 'SPAC212.10', 'SPAC212.10b'] ## gff_v2\n",
    "deg2_names = {'SPAC212.11': 'tlh1-', 'SPAC212.11b': 'tlh1+',\n",
    "              'SPAC212.10': 'SPAC212.10-', 'SPAC212.10b': 'SPAC212.10+'}\n",
    "\n",
    "# ------------------------------------\n",
    "# C.  Mating type region (MTR) `deg3`: MAT, other regions, etc... counts \n",
    "# ------------------------------------\n",
    "\n",
    "deg3 = ['MAT2', 'MAT3', 'MAT1']\n",
    "deg3_names = {'MAT1': 'MAT1', 'MAT2': 'MAT2', 'MAT3': 'MAT3'}\n",
    "\n",
    "# ------------------------------------------\n",
    "# D. rest Heterochromatic + mat gene counts: `deg4`\n",
    "# ------------------------------------------\n",
    "\n",
    "non_degraded = ['SPAC212.09c', 'SPNCRNA.70', 'SPAC212.08c', 'SPAC212.07c', 'SPAC212.12', 'SPAC212.06c',\n",
    "                'SPAC212.04c', 'SPAC212.03', 'SPAC212.02', 'SPAC212.01c', 'SPAC977.01', 'SPAC977.18',\n",
    "                'SPAC977.02', 'SPAC977.03', 'SPAC977.04', 'SPAC212.05c']\n",
    "                #'MAT2', 'MAT3', 'MAT1']\n",
    "    \n",
    "# ---------------\n",
    "# E. Other genes: `other_genes`\n",
    "# ---------------\n",
    "\n",
    "other_genes = ['SPAC212.09c', 'SPAC977.01', 'SPAC977.10', 'SPAP7G5.06']\n",
    "other_gene_nanes = {'SPAC212.09c':'SPAC212.09c', 'SPAC977.01':'ftm1', 'SPAC977.10':'nhe1', \n",
    "                    'SPAP7G5.06':'per1'}\n",
    "\n",
    "htc_genes = deg1 + deg2\n",
    "visualize_genes = deg1 + deg2 + deg3 + other_genes\n",
    "visualize_gene_names = {**deg1_names, **deg2_names, **deg3_names, **other_gene_nanes}"
   ]
  },
  {
   "cell_type": "markdown",
   "metadata": {},
   "source": [
    "--------------------------"
   ]
  },
  {
   "cell_type": "markdown",
   "metadata": {},
   "source": [
    "## Define Parameters"
   ]
  },
  {
   "cell_type": "markdown",
   "metadata": {},
   "source": [
    "- Define `sample`"
   ]
  },
  {
   "cell_type": "code",
   "execution_count": 16,
   "metadata": {},
   "outputs": [],
   "source": [
    "#data_batch = \"S2-ChIP\"\n",
    "#data_batch = \"S5-RIP\"\n",
    "data_batch = \"pA-RNA\"\n",
    "#data_batch = \"simulated_data\""
   ]
  },
  {
   "cell_type": "code",
   "execution_count": 17,
   "metadata": {},
   "outputs": [],
   "source": [
    "#sample_id = 'WT_S2-ChIP_1'\n",
    "#sample_id = 'WT_S5-RIP_1'\n",
    "sample_id = 'WT_pA-RNA_1'\n",
    "sample_id = 'WT_pA-RNA_4'\n",
    "#sample_id = 'fake_reads'\n",
    "#sample_id = 'fake_reads_v2'"
   ]
  },
  {
   "cell_type": "markdown",
   "metadata": {},
   "source": [
    "- **Output directory** for `sample` coverage results"
   ]
  },
  {
   "cell_type": "code",
   "execution_count": 18,
   "metadata": {},
   "outputs": [],
   "source": [
    "out_dir = os.path.join(results_dir, data_batch, \"coverage\", sample_id)"
   ]
  },
  {
   "cell_type": "markdown",
   "metadata": {},
   "source": [
    "- Load **BAM files**: instantiate `BAM_Reader` Object"
   ]
  },
  {
   "cell_type": "code",
   "execution_count": 19,
   "metadata": {},
   "outputs": [],
   "source": [
    "bam_file = os.path.join(data_dir, data_batch, \"bam\", sample_id, sample_id + \".Aligned.sortedByCoord.out.bam\")\n",
    "#print(bam_file)\n",
    "#bam = HTSeq.BAM_Reader(bam_file)"
   ]
  },
  {
   "cell_type": "markdown",
   "metadata": {},
   "source": [
    "- Select **gtf file**: instantiate `GFF_Reader` Object"
   ]
  },
  {
   "cell_type": "code",
   "execution_count": 20,
   "metadata": {},
   "outputs": [],
   "source": [
    "param_in_gtf = os.path.join(project_data_dir, 'annotation/gff_v2/Schizosaccharomyces_pombe_all_chromosomes.extended_with_mat_locus.gff3')"
   ]
  },
  {
   "cell_type": "code",
   "execution_count": 21,
   "metadata": {},
   "outputs": [],
   "source": [
    "# select gtf file: instantiate GFF_Reader Object\n",
    "gtf = HTSeq.GFF_Reader(param_in_gtf)"
   ]
  },
  {
   "cell_type": "markdown",
   "metadata": {},
   "source": [
    "- **Fragment size** smoothes coverage profile:"
   ]
  },
  {
   "cell_type": "code",
   "execution_count": 22,
   "metadata": {},
   "outputs": [],
   "source": [
    "#fragment_size = 500\n",
    "#fragment_size = 200\n",
    "fragment_size = None"
   ]
  },
  {
   "cell_type": "markdown",
   "metadata": {},
   "source": [
    "--------------------------"
   ]
  },
  {
   "cell_type": "markdown",
   "metadata": {},
   "source": [
    "## Genomic Features"
   ]
  },
  {
   "cell_type": "markdown",
   "metadata": {},
   "source": [
    "- Define characteristics for **coverage interval**: \n",
    "    * Centromeric repeats dg, dh\n",
    "    * Subtelomeric & telomeric genes tlh, SPAC212.10, etc...\n",
    "    * Mating type region (MTR) MAT, other regions, etc..."
   ]
  },
  {
   "cell_type": "code",
   "execution_count": 23,
   "metadata": {},
   "outputs": [],
   "source": [
    "## instead we can follow:\n",
    "## https://htseq.readthedocs.io/en/master/tss.html#using-indexed-bam-files\n",
    "i_1 = {'region_id':'Subtelomeric_and_Telomeric_region', 'chrom':'I', 'start': 1, 'end': 55000}\n",
    "i_2 = {'region_id':'Centromeric_repeats', 'chrom':'I', 'start': 3748000, 'end': 3766000}\n",
    "i_3 = {'region_id':'Mating_type_region', 'chrom':'II', 'start': 2113000, 'end': 2138000}\n",
    "#i_3 = {'region_id':'Mating_type_region_chromosome', 'chrom':'mating_type_region', 'start': 1, 'end': 20,128} ## whole chromosome\n",
    "genomic_intervals = [i_1, i_2]\n",
    "#genomic_intervals = [i_1, i_2, i_3]"
   ]
  },
  {
   "cell_type": "markdown",
   "metadata": {},
   "source": [
    "- Get **genomic features** in regions of interest:"
   ]
  },
  {
   "cell_type": "code",
   "execution_count": 24,
   "metadata": {},
   "outputs": [],
   "source": [
    "feature_types = ['gene']"
   ]
  },
  {
   "cell_type": "code",
   "execution_count": 25,
   "metadata": {},
   "outputs": [],
   "source": [
    "init_feature_dict = {'region_id':[], 'feature_id':[], 'feature_name':[], 'type':[], 'chrom':[], 'start':[], 'end':[], 'strand':[]}"
   ]
  },
  {
   "cell_type": "code",
   "execution_count": 26,
   "metadata": {},
   "outputs": [],
   "source": [
    "genomic_features = {gg['region_id']: copy.deepcopy(init_feature_dict) for gg in genomic_intervals}\n",
    "#genomic_features"
   ]
  },
  {
   "cell_type": "code",
   "execution_count": 27,
   "metadata": {},
   "outputs": [],
   "source": [
    "## Loop over features in gtf\n",
    "for feature in gtf:\n",
    "    \n",
    "    if feature.type in feature_types:\n",
    "            \n",
    "        ## Loop over genomic regions of interest: check if `feature` falls within the genomic region\n",
    "        for gi in genomic_intervals:\n",
    "            \n",
    "            if (feature.iv.chrom == gi['chrom'] and feature.iv.start + 1 >= gi['start'] and feature.iv.end + 1 <=  gi['end']):\n",
    "                \n",
    "                genomic_features[gi['region_id']]['region_id'].append(gi['region_id'])\n",
    "                genomic_features[gi['region_id']]['feature_id'].append(feature.attr[\"ID\"])\n",
    "                try:\n",
    "                    genomic_features[gi['region_id']]['feature_name'].append(feature.attr[\"Name\"])\n",
    "                except:\n",
    "                    genomic_features[gi['region_id']]['feature_name'].append(np.nan)\n",
    "                genomic_features[gi['region_id']]['type'].append(feature.type)\n",
    "                genomic_features[gi['region_id']]['chrom'].append(feature.iv.chrom)\n",
    "                genomic_features[gi['region_id']]['start'].append(feature.iv.start)\n",
    "                genomic_features[gi['region_id']]['end'].append(feature.iv.end)\n",
    "                genomic_features[gi['region_id']]['strand'].append(feature.iv.strand)"
   ]
  },
  {
   "cell_type": "code",
   "execution_count": 28,
   "metadata": {},
   "outputs": [],
   "source": [
    "#genomic_features['Subtelomeric_and_Telomeric_region']"
   ]
  },
  {
   "cell_type": "markdown",
   "metadata": {},
   "source": [
    "- Transform to **Data Frames**"
   ]
  },
  {
   "cell_type": "code",
   "execution_count": 29,
   "metadata": {},
   "outputs": [],
   "source": [
    "genomic_features_dfs = {}"
   ]
  },
  {
   "cell_type": "code",
   "execution_count": 30,
   "metadata": {},
   "outputs": [],
   "source": [
    "for region_id, gg_features in genomic_features.items():\n",
    "    genomic_features_dfs[region_id] = pd.DataFrame.from_dict(gg_features)"
   ]
  },
  {
   "cell_type": "code",
   "execution_count": 31,
   "metadata": {},
   "outputs": [],
   "source": [
    "genomic_features_df = genomic_features_dfs['Subtelomeric_and_Telomeric_region']\n",
    "#genomic_features_df = genomic_features_dfs['Centromeric_repeats']\n",
    "#genomic_features_df = genomic_features_dfs['Mating_type_region']"
   ]
  },
  {
   "cell_type": "markdown",
   "metadata": {},
   "source": [
    "- **Visualize** `genomic features` in `genomic region`"
   ]
  },
  {
   "cell_type": "code",
   "execution_count": 32,
   "metadata": {},
   "outputs": [
    {
     "data": {
      "image/png": "[encoded data removed]",
      "text/plain": [
       "<Figure size 432x288 with 1 Axes>"
      ]
     },
     "metadata": {
      "needs_background": "light"
     },
     "output_type": "display_data"
    }
   ],
   "source": [
    "annotate_features = True\n",
    "annotate_features = visualize_gene_names\n",
    "\n",
    "# Create figure and axes\n",
    "fig, ax = plt.subplots(nrows = 1, ncols=1)\n",
    "\n",
    "cov.plot_non_overlapping_features(genomic_features_df, ax = ax, annotate_features = annotate_features)\n",
    "\n",
    "plt.savefig('test.pdf')\n",
    "plt.show()"
   ]
  },
  {
   "cell_type": "markdown",
   "metadata": {},
   "source": [
    "--------------------------"
   ]
  },
  {
   "cell_type": "markdown",
   "metadata": {},
   "source": [
    "## Coverage Vectors: with Genomic Features"
   ]
  },
  {
   "cell_type": "markdown",
   "metadata": {},
   "source": [
    "- Instantiate a `GenomicArray` object for the **sample** coverage (`cvg`)"
   ]
  },
  {
   "cell_type": "code",
   "execution_count": 33,
   "metadata": {},
   "outputs": [
    {
     "name": "stdout",
     "output_type": "stream",
     "text": [
      "Loading BAM file ...\n",
      "/gcm-lfs1/pablo/data/rna_silencing/seq_data/pA-RNA/bam/WT_pA-RNA_3/WT_pA-RNA_3.Aligned.sortedByCoord.out.bam\n",
      "Done.\n",
      "\n",
      "Adding padding: 0 \n",
      "\n",
      "Genomic Regions:\n",
      "\t- I:1-55000 (55.00 kb)\n",
      "\t- I:3748000-3766000 (18.00 kb)\n"
     ]
    }
   ],
   "source": [
    "#cvg = cov.coverage_genomic_intervals(bam_file, genomic_intervals, count_type=\"frac\", fragment_size=fragment_size)\n",
    "cvg = cov.coverage_genomic_intervals(bam_file, genomic_intervals, count_type=\"int\", stranded=True, fragment_size=fragment_size)"
   ]
  },
  {
   "cell_type": "code",
   "execution_count": 34,
   "metadata": {},
   "outputs": [],
   "source": [
    "#cvg"
   ]
  },
  {
   "cell_type": "markdown",
   "metadata": {},
   "source": [
    "- Alternatively, **Import** `GenomicArray` object for the **sample** coverage (`cvg`)"
   ]
  },
  {
   "cell_type": "code",
   "execution_count": 35,
   "metadata": {},
   "outputs": [],
   "source": [
    "int_cvg_file = os.path.join(out_dir, \"int_cvg_\" + sample_id + \"_coverage.obj\")\n",
    "fract_cvg_file = os.path.join(out_dir, \"frac_cvg_\" + sample_id + \"_coverage.obj\")"
   ]
  },
  {
   "cell_type": "code",
   "execution_count": 36,
   "metadata": {},
   "outputs": [],
   "source": [
    "#import pickle\n",
    "\n",
    "# Import Objects:\n",
    "#cvg = pickle.load(open(int_cvg_file, 'rb'))\n",
    "#cvg = pickle.load(open(fract_cvg_file, 'rb'))"
   ]
  },
  {
   "cell_type": "markdown",
   "metadata": {},
   "source": [
    "- **Visualize coverage** (`cvg`) in the genomic intervals of interest"
   ]
  },
  {
   "cell_type": "code",
   "execution_count": 37,
   "metadata": {},
   "outputs": [],
   "source": [
    "cvg_profiles = {}\n",
    "feature_annotations = {}"
   ]
  },
  {
   "cell_type": "code",
   "execution_count": 38,
   "metadata": {},
   "outputs": [],
   "source": [
    "## - Get Data Frames **genomic features** in regions of interest:\n",
    "#genomic_features_dfs = get_genomic_features_dfs(genomic_intervals, param_in_gtf, feature_types=['gene'])"
   ]
  },
  {
   "cell_type": "code",
   "execution_count": 39,
   "metadata": {},
   "outputs": [
    {
     "data": {
      "text/plain": [
       "array([[<matplotlib.axes._subplots.AxesSubplot object at 0x7eff10058eb8>,\n",
       "        <matplotlib.axes._subplots.AxesSubplot object at 0x7eff10005438>,\n",
       "        <matplotlib.axes._subplots.AxesSubplot object at 0x7eff10038828>],\n",
       "       [<matplotlib.axes._subplots.AxesSubplot object at 0x7eff0ffe8c50>,\n",
       "        <matplotlib.axes._subplots.AxesSubplot object at 0x7eff0ff9def0>,\n",
       "        <matplotlib.axes._subplots.AxesSubplot object at 0x7eff0c87a1d0>],\n",
       "       [<matplotlib.axes._subplots.AxesSubplot object at 0x7eff0c82b470>,\n",
       "        <matplotlib.axes._subplots.AxesSubplot object at 0x7eff0c85c6d8>,\n",
       "        <matplotlib.axes._subplots.AxesSubplot object at 0x7eff0c80e9b0>]],\n",
       "      dtype=object)"
      ]
     },
     "execution_count": 39,
     "metadata": {},
     "output_type": "execute_result"
    },
    {
     "data": {
      "image/png": "[encoded data removed]",
      "text/plain": [
       "<Figure size 1800x792 with 9 Axes>"
      ]
     },
     "metadata": {
      "needs_background": "light"
     },
     "output_type": "display_data"
    }
   ],
   "source": [
    "annotate_features = True\n",
    "annotate_features = visualize_gene_names\n",
    "#y_scale = \"log\"\n",
    "y_scale = \"linear\"\n",
    "cov.plot_coverage_genomic_regions(genomic_intervals, cvg, genomic_features_dfs, stranded=True, annotate_features=visualize_gene_names, y_scale=y_scale, prefix='frac_')"
   ]
  },
  {
   "cell_type": "code",
   "execution_count": 40,
   "metadata": {},
   "outputs": [],
   "source": [
    "#cvg_profiles"
   ]
  },
  {
   "cell_type": "code",
   "execution_count": null,
   "metadata": {},
   "outputs": [],
   "source": []
  }
 ],
 "metadata": {
  "kernelspec": {
   "display_name": "Python (heterochromatin)",
   "language": "python",
   "name": "heterochromatin"
  },
  "language_info": {
   "codemirror_mode": {
    "name": "ipython",
    "version": 3
   },
   "file_extension": ".py",
   "mimetype": "text/x-python",
   "name": "python",
   "nbconvert_exporter": "python",
   "pygments_lexer": "ipython3",
   "version": "3.6.7"
  }
 },
 "nbformat": 4,
 "nbformat_minor": 2
}
