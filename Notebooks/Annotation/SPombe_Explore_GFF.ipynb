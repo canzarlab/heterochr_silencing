{
 "cells": [
  {
   "cell_type": "code",
   "execution_count": 1,
   "metadata": {},
   "outputs": [],
   "source": [
    "%load_ext autoreload\n",
    "%autoreload 2"
   ]
  },
  {
   "cell_type": "code",
   "execution_count": 2,
   "metadata": {},
   "outputs": [],
   "source": [
    "import matplotlib.pyplot as plt"
   ]
  },
  {
   "cell_type": "markdown",
   "metadata": {},
   "source": [
    "---------------------------"
   ]
  },
  {
   "cell_type": "markdown",
   "metadata": {},
   "source": [
    "## Config"
   ]
  },
  {
   "cell_type": "code",
   "execution_count": 3,
   "metadata": {},
   "outputs": [],
   "source": [
    "import sys"
   ]
  },
  {
   "cell_type": "code",
   "execution_count": 4,
   "metadata": {},
   "outputs": [],
   "source": [
    "project_dir = '/home/pmonteagudo/workspace/silencing_project'\n",
    "if project_dir not in sys.path: \n",
    "    sys.path.append(project_dir)\n",
    "from config_analysis import *"
   ]
  },
  {
   "cell_type": "code",
   "execution_count": 5,
   "metadata": {},
   "outputs": [],
   "source": [
    "pd.options.mode.chained_assignment = None"
   ]
  },
  {
   "cell_type": "code",
   "execution_count": 6,
   "metadata": {},
   "outputs": [],
   "source": [
    "import Util"
   ]
  },
  {
   "cell_type": "markdown",
   "metadata": {},
   "source": [
    "- Result **directories**"
   ]
  },
  {
   "cell_type": "code",
   "execution_count": 7,
   "metadata": {},
   "outputs": [],
   "source": [
    "#annot_dir = '/data/parastou/RNAdeg/annotation/'\n",
    "#annot_dir = os.path.join(project_data_dir, 'annotation/gff')\n",
    "annot_dir = os.path.join(project_data_dir, 'annotation/gff_v2')"
   ]
  },
  {
   "cell_type": "markdown",
   "metadata": {},
   "source": [
    "---------------------------"
   ]
  },
  {
   "cell_type": "markdown",
   "metadata": {},
   "source": [
    "## Annotation Config"
   ]
  },
  {
   "cell_type": "markdown",
   "metadata": {},
   "source": [
    "- reference `GTF/GFF` **file**"
   ]
  },
  {
   "cell_type": "code",
   "execution_count": 8,
   "metadata": {},
   "outputs": [],
   "source": [
    "## - Parastous:\n",
    "#in_gff = os.path.join(annot_dir, 'schizosaccharomyces_pombe.chr.extended.gff3')\n",
    "\n",
    "## - sPomBase:\n",
    "in_gff = os.path.join(annot_dir, 'Schizosaccharomyces_pombe_all_chromosomes.extended.gff3')\n",
    "#in_gff = os.path.join(annot_dir, 'Schizosaccharomyces_pombe_all_chromosomes.extended_with_mat_locus.gff3') ## include MAT1, MAT2, MAT3\n",
    "\n",
    "## - Ensembl:\n",
    "#in_gff = os.path.join(annot_dir, 'Schizosaccharomyces_pombe.ASM294v2.45.gff3')"
   ]
  },
  {
   "cell_type": "markdown",
   "metadata": {},
   "source": [
    "- Heterochromatic Features (**repeats**) `GTF/GFF` **file**"
   ]
  },
  {
   "cell_type": "code",
   "execution_count": 9,
   "metadata": {},
   "outputs": [],
   "source": [
    "in_heterochromatic_features = os.path.join(annot_dir, 'repeats_subtel.gff3')"
   ]
  },
  {
   "cell_type": "markdown",
   "metadata": {},
   "source": [
    "---------------------------"
   ]
  },
  {
   "cell_type": "markdown",
   "metadata": {},
   "source": [
    "# **Import `GFF`** - with all annotated `Genomic Features` (`41755/41764`)"
   ]
  },
  {
   "cell_type": "markdown",
   "metadata": {},
   "source": [
    "- Load `GFF` **File** as **DataFrame**: "
   ]
  },
  {
   "cell_type": "code",
   "execution_count": 10,
   "metadata": {},
   "outputs": [
    {
     "data": {
      "text/plain": [
       "'/gcm-lfs1/pablo/data/rna_silencing/annotation/gff_v2/Schizosaccharomyces_pombe_all_chromosomes.extended.gff3'"
      ]
     },
     "execution_count": 10,
     "metadata": {},
     "output_type": "execute_result"
    }
   ],
   "source": [
    "in_gff"
   ]
  },
  {
   "cell_type": "code",
   "execution_count": 11,
   "metadata": {},
   "outputs": [],
   "source": [
    "gff_header = ['seqid', 'source', 'type', 'start', 'end', 'score', 'strand', 'phase', 'attributes']"
   ]
  },
  {
   "cell_type": "code",
   "execution_count": 12,
   "metadata": {},
   "outputs": [],
   "source": [
    "gff = pd.read_csv(in_gff, sep='\\t', comment='#', names=gff_header)"
   ]
  },
  {
   "cell_type": "code",
   "execution_count": 13,
   "metadata": {},
   "outputs": [],
   "source": [
    "## Parse `attributes` colummn\n",
    "attributes_df = gff['attributes'].apply(lambda x: Util.parse_attribute_col(x))\n",
    "#attributes_df = attributes_df.apply(pd.Series) # slower\n",
    "\n",
    "attributes_df = pd.DataFrame(attributes_df.values.tolist(), index=gff.index)\n",
    "gff = pd.concat([gff.drop('attributes', axis=1), attributes_df], axis=1)"
   ]
  },
  {
   "cell_type": "code",
   "execution_count": 14,
   "metadata": {},
   "outputs": [
    {
     "data": {
      "text/html": [
       "<div>\n",
       "<style scoped>\n",
       "    .dataframe tbody tr th:only-of-type {\n",
       "        vertical-align: middle;\n",
       "    }\n",
       "\n",
       "    .dataframe tbody tr th {\n",
       "        vertical-align: top;\n",
       "    }\n",
       "\n",
       "    .dataframe thead th {\n",
       "        text-align: right;\n",
       "    }\n",
       "</style>\n",
       "<table border=\"1\" class=\"dataframe\">\n",
       "  <thead>\n",
       "    <tr style=\"text-align: right;\">\n",
       "      <th></th>\n",
       "      <th>seqid</th>\n",
       "      <th>source</th>\n",
       "      <th>type</th>\n",
       "      <th>start</th>\n",
       "      <th>end</th>\n",
       "      <th>score</th>\n",
       "      <th>strand</th>\n",
       "      <th>phase</th>\n",
       "      <th>ID</th>\n",
       "      <th>Name</th>\n",
       "      <th>Parent</th>\n",
       "    </tr>\n",
       "  </thead>\n",
       "  <tbody>\n",
       "    <tr>\n",
       "      <th>0</th>\n",
       "      <td>I</td>\n",
       "      <td>PomBase</td>\n",
       "      <td>gene</td>\n",
       "      <td>1798347</td>\n",
       "      <td>1799015</td>\n",
       "      <td>.</td>\n",
       "      <td>+</td>\n",
       "      <td>.</td>\n",
       "      <td>SPAC1002.01</td>\n",
       "      <td>mrx11</td>\n",
       "      <td>NaN</td>\n",
       "    </tr>\n",
       "    <tr>\n",
       "      <th>1</th>\n",
       "      <td>I</td>\n",
       "      <td>PomBase</td>\n",
       "      <td>mRNA</td>\n",
       "      <td>1798347</td>\n",
       "      <td>1799015</td>\n",
       "      <td>.</td>\n",
       "      <td>+</td>\n",
       "      <td>.</td>\n",
       "      <td>SPAC1002.01.1</td>\n",
       "      <td>NaN</td>\n",
       "      <td>SPAC1002.01</td>\n",
       "    </tr>\n",
       "    <tr>\n",
       "      <th>2</th>\n",
       "      <td>I</td>\n",
       "      <td>PomBase</td>\n",
       "      <td>CDS</td>\n",
       "      <td>1798347</td>\n",
       "      <td>1798830</td>\n",
       "      <td>.</td>\n",
       "      <td>+</td>\n",
       "      <td>.</td>\n",
       "      <td>SPAC1002.01.1:exon:1</td>\n",
       "      <td>NaN</td>\n",
       "      <td>SPAC1002.01.1</td>\n",
       "    </tr>\n",
       "    <tr>\n",
       "      <th>3</th>\n",
       "      <td>I</td>\n",
       "      <td>PomBase</td>\n",
       "      <td>intron</td>\n",
       "      <td>1798831</td>\n",
       "      <td>1798959</td>\n",
       "      <td>.</td>\n",
       "      <td>+</td>\n",
       "      <td>.</td>\n",
       "      <td>SPAC1002.01.1:intron:1</td>\n",
       "      <td>NaN</td>\n",
       "      <td>SPAC1002.01.1</td>\n",
       "    </tr>\n",
       "    <tr>\n",
       "      <th>4</th>\n",
       "      <td>I</td>\n",
       "      <td>PomBase</td>\n",
       "      <td>CDS</td>\n",
       "      <td>1798960</td>\n",
       "      <td>1799015</td>\n",
       "      <td>.</td>\n",
       "      <td>+</td>\n",
       "      <td>.</td>\n",
       "      <td>SPAC1002.01.1:exon:2</td>\n",
       "      <td>NaN</td>\n",
       "      <td>SPAC1002.01.1</td>\n",
       "    </tr>\n",
       "  </tbody>\n",
       "</table>\n",
       "</div>"
      ],
      "text/plain": [
       "  seqid   source    type    start      end score strand phase  \\\n",
       "0     I  PomBase    gene  1798347  1799015     .      +     .   \n",
       "1     I  PomBase    mRNA  1798347  1799015     .      +     .   \n",
       "2     I  PomBase     CDS  1798347  1798830     .      +     .   \n",
       "3     I  PomBase  intron  1798831  1798959     .      +     .   \n",
       "4     I  PomBase     CDS  1798960  1799015     .      +     .   \n",
       "\n",
       "                       ID   Name         Parent  \n",
       "0             SPAC1002.01  mrx11            NaN  \n",
       "1           SPAC1002.01.1    NaN    SPAC1002.01  \n",
       "2    SPAC1002.01.1:exon:1    NaN  SPAC1002.01.1  \n",
       "3  SPAC1002.01.1:intron:1    NaN  SPAC1002.01.1  \n",
       "4    SPAC1002.01.1:exon:2    NaN  SPAC1002.01.1  "
      ]
     },
     "execution_count": 14,
     "metadata": {},
     "output_type": "execute_result"
    }
   ],
   "source": [
    "gff.head()"
   ]
  },
  {
   "cell_type": "code",
   "execution_count": 15,
   "metadata": {},
   "outputs": [
    {
     "data": {
      "text/plain": [
       "(41755, 11)"
      ]
     },
     "execution_count": 15,
     "metadata": {},
     "output_type": "execute_result"
    }
   ],
   "source": [
    "gff.shape"
   ]
  },
  {
   "cell_type": "markdown",
   "metadata": {},
   "source": [
    "## **Attributes** of features: 8th Column (in gff)"
   ]
  },
  {
   "cell_type": "markdown",
   "metadata": {},
   "source": [
    "The **attribute columns** are all those entries present in the 8th column of the gff that have been parsed an expanded into columns."
   ]
  },
  {
   "cell_type": "code",
   "execution_count": 16,
   "metadata": {},
   "outputs": [
    {
     "data": {
      "text/plain": [
       "Index(['ID', 'Name', 'Parent'], dtype='object')"
      ]
     },
     "execution_count": 16,
     "metadata": {},
     "output_type": "execute_result"
    }
   ],
   "source": [
    "attribute_columns = gff.columns.difference(gff_header)\n",
    "attribute_columns"
   ]
  },
  {
   "cell_type": "markdown",
   "metadata": {},
   "source": [
    "In this case we only have:\n",
    "- **`ID`**: unique identifier needs to be present in every entry/feature.\n",
    "- **`Name`**: not present in every entry/feature, alternative indetifier for most common features.\n",
    "- **`Parent`**: not present in every entry/feature, represents relationships between features/entries by referencing to other features/entries `ID`."
   ]
  },
  {
   "cell_type": "markdown",
   "metadata": {},
   "source": [
    "---------------------------"
   ]
  },
  {
   "cell_type": "markdown",
   "metadata": {},
   "source": [
    "# Explore GFF: **Type** of features"
   ]
  },
  {
   "cell_type": "markdown",
   "metadata": {},
   "source": [
    "The `type` column contains the classification of each **feature/entry** into a set of **discrete classes**.\n",
    "\n",
    "As one can see there are many classes. In this script we will organize all these categories within a hierarchical framework (due to our particular interest in them) into **3 categories**:\n",
    "\n",
    "1. **Gene Features**:\n",
    "    * genes\n",
    "    * transcripts\n",
    "    * sub-transcript features\n",
    "* **Repeats**:\n",
    "    * centromeric repeats\n",
    "    * mating type region\n",
    "* **Others**"
   ]
  },
  {
   "cell_type": "code",
   "execution_count": 17,
   "metadata": {},
   "outputs": [
    {
     "data": {
      "text/html": [
       "<div>\n",
       "<style scoped>\n",
       "    .dataframe tbody tr th:only-of-type {\n",
       "        vertical-align: middle;\n",
       "    }\n",
       "\n",
       "    .dataframe tbody tr th {\n",
       "        vertical-align: top;\n",
       "    }\n",
       "\n",
       "    .dataframe thead th {\n",
       "        text-align: right;\n",
       "    }\n",
       "</style>\n",
       "<table border=\"1\" class=\"dataframe\">\n",
       "  <thead>\n",
       "    <tr style=\"text-align: right;\">\n",
       "      <th></th>\n",
       "      <th>ID</th>\n",
       "    </tr>\n",
       "    <tr>\n",
       "      <th>type</th>\n",
       "      <th></th>\n",
       "    </tr>\n",
       "  </thead>\n",
       "  <tbody>\n",
       "    <tr>\n",
       "      <th>CDS</th>\n",
       "      <td>12162</td>\n",
       "    </tr>\n",
       "    <tr>\n",
       "      <th>gene</th>\n",
       "      <td>7005</td>\n",
       "    </tr>\n",
       "    <tr>\n",
       "      <th>intron</th>\n",
       "      <td>5372</td>\n",
       "    </tr>\n",
       "    <tr>\n",
       "      <th>mRNA</th>\n",
       "      <td>5140</td>\n",
       "    </tr>\n",
       "    <tr>\n",
       "      <th>five_prime_UTR</th>\n",
       "      <td>4863</td>\n",
       "    </tr>\n",
       "    <tr>\n",
       "      <th>three_prime_UTR</th>\n",
       "      <td>4791</td>\n",
       "    </tr>\n",
       "    <tr>\n",
       "      <th>ncRNA</th>\n",
       "      <td>1528</td>\n",
       "    </tr>\n",
       "    <tr>\n",
       "      <th>long_terminal_repeat</th>\n",
       "      <td>239</td>\n",
       "    </tr>\n",
       "    <tr>\n",
       "      <th>tRNA</th>\n",
       "      <td>196</td>\n",
       "    </tr>\n",
       "    <tr>\n",
       "      <th>promoter</th>\n",
       "      <td>62</td>\n",
       "    </tr>\n",
       "    <tr>\n",
       "      <th>low_complexity_region</th>\n",
       "      <td>59</td>\n",
       "    </tr>\n",
       "    <tr>\n",
       "      <th>snoRNA</th>\n",
       "      <td>57</td>\n",
       "    </tr>\n",
       "    <tr>\n",
       "      <th>repeat_region</th>\n",
       "      <td>49</td>\n",
       "    </tr>\n",
       "    <tr>\n",
       "      <th>rRNA</th>\n",
       "      <td>49</td>\n",
       "    </tr>\n",
       "    <tr>\n",
       "      <th>region</th>\n",
       "      <td>29</td>\n",
       "    </tr>\n",
       "    <tr>\n",
       "      <th>pseudogenic_transcript</th>\n",
       "      <td>29</td>\n",
       "    </tr>\n",
       "    <tr>\n",
       "      <th>polyA_site</th>\n",
       "      <td>17</td>\n",
       "    </tr>\n",
       "    <tr>\n",
       "      <th>nuclear_mt_pseudogene</th>\n",
       "      <td>17</td>\n",
       "    </tr>\n",
       "    <tr>\n",
       "      <th>origin_of_replication</th>\n",
       "      <td>16</td>\n",
       "    </tr>\n",
       "    <tr>\n",
       "      <th>dh_repeat</th>\n",
       "      <td>16</td>\n",
       "    </tr>\n",
       "    <tr>\n",
       "      <th>LTR_retrotransposon</th>\n",
       "      <td>14</td>\n",
       "    </tr>\n",
       "    <tr>\n",
       "      <th>dg_repeat</th>\n",
       "      <td>11</td>\n",
       "    </tr>\n",
       "    <tr>\n",
       "      <th>regional_centromere_inner_repeat_region</th>\n",
       "      <td>6</td>\n",
       "    </tr>\n",
       "    <tr>\n",
       "      <th>snRNA</th>\n",
       "      <td>6</td>\n",
       "    </tr>\n",
       "    <tr>\n",
       "      <th>gene_group</th>\n",
       "      <td>5</td>\n",
       "    </tr>\n",
       "    <tr>\n",
       "      <th>gap</th>\n",
       "      <td>4</td>\n",
       "    </tr>\n",
       "    <tr>\n",
       "      <th>regional_centromere_central_core</th>\n",
       "      <td>4</td>\n",
       "    </tr>\n",
       "    <tr>\n",
       "      <th>regional_centromere</th>\n",
       "      <td>3</td>\n",
       "    </tr>\n",
       "    <tr>\n",
       "      <th>SNP</th>\n",
       "      <td>2</td>\n",
       "    </tr>\n",
       "    <tr>\n",
       "      <th>TR_box</th>\n",
       "      <td>2</td>\n",
       "    </tr>\n",
       "    <tr>\n",
       "      <th>polyA_signal_sequence</th>\n",
       "      <td>1</td>\n",
       "    </tr>\n",
       "    <tr>\n",
       "      <th>mating_type_region</th>\n",
       "      <td>1</td>\n",
       "    </tr>\n",
       "  </tbody>\n",
       "</table>\n",
       "</div>"
      ],
      "text/plain": [
       "                                            ID\n",
       "type                                          \n",
       "CDS                                      12162\n",
       "gene                                      7005\n",
       "intron                                    5372\n",
       "mRNA                                      5140\n",
       "five_prime_UTR                            4863\n",
       "three_prime_UTR                           4791\n",
       "ncRNA                                     1528\n",
       "long_terminal_repeat                       239\n",
       "tRNA                                       196\n",
       "promoter                                    62\n",
       "low_complexity_region                       59\n",
       "snoRNA                                      57\n",
       "repeat_region                               49\n",
       "rRNA                                        49\n",
       "region                                      29\n",
       "pseudogenic_transcript                      29\n",
       "polyA_site                                  17\n",
       "nuclear_mt_pseudogene                       17\n",
       "origin_of_replication                       16\n",
       "dh_repeat                                   16\n",
       "LTR_retrotransposon                         14\n",
       "dg_repeat                                   11\n",
       "regional_centromere_inner_repeat_region      6\n",
       "snRNA                                        6\n",
       "gene_group                                   5\n",
       "gap                                          4\n",
       "regional_centromere_central_core             4\n",
       "regional_centromere                          3\n",
       "SNP                                          2\n",
       "TR_box                                       2\n",
       "polyA_signal_sequence                        1\n",
       "mating_type_region                           1"
      ]
     },
     "execution_count": 17,
     "metadata": {},
     "output_type": "execute_result"
    }
   ],
   "source": [
    "gff_by_type = gff[['type', 'ID']].groupby(['type']).count()\n",
    "gff_by_type.sort_values('ID', ascending=False)"
   ]
  },
  {
   "cell_type": "markdown",
   "metadata": {},
   "source": [
    "### How are PomBase systematic IDs determined?\n",
    "* **Systematic IDs** follow patterns based on the `feature type`, and in some cases the `chromosome`, as shown in the table below.\n",
    "\n",
    "* **Open reading frame (ORF) IDs** also indicate which `cosmid` or `plasmid` they were found on in genome sequencing. In most cases, ORF IDs that end with a digit indicate that the ORF is on the **forward (Watson) strand**, and an ORF with an ID that ends with ‘c’ is on the **reverse (Crick) strand**. There are a few exceptions, however, because some cosmids were moved and their orientation reversed late in the sequence assembly procedure\n",
    "\n",
    "IDs with `.1` appended are **transcript IDs**; the dot-and-digit IDs follow Ensembl’s standard.\n",
    "\n",
    "<font color='red'> At present, **PomBase** has only one transcript annotated for any given feature, but in the future when alternative transcripts are annotated the digit will be incremented (.2, .3, etc.). </font>\n",
    "\n",
    "**Systematic ID patterns**\n",
    "\n",
    "| ID pattern | Description |\n",
    "| --- | --- |\n",
    "| SPAC* | features, usually ORFs, on chromosome 1, sequenced on cosmids |\n",
    "| SPBC* | features, usually ORFs, on chromosome 2, sequenced on cosmids |\n",
    "| SPCC* | features, usually ORFs, on chromosome 3, sequenced on cosmids |\n",
    "| SPAP* | features, usually ORFs, on chromosome 1, sequenced on plasmids |\n",
    "| SPBP* | features, usually ORFs, on chromosome 2, sequenced on plasmids |\n",
    "| SBCP* | features, usually ORFs, on chromosome 3, sequenced on plasmids |\n",
    "| SPATRNA* | tRNA genes on chromosome 1 |\n",
    "| SPBTRNA* | tRNA genes on chromosome 2 |\n",
    "| SPCTRNA* | tRNA genes on chromosome 3 |\n",
    "| SPLTRA* | LTRs on chromosome 1 |\n",
    "| SPLTRB* | LTRs on chromosome 2 |\n",
    "| SPLTRC* | LTRs on chromosome 3 |\n",
    "| SPNCRNA* | non-coding RNA genes (no chromosome info in ID) |\n",
    "| SPRPTA.* | repeats (other than LTRs or centromeric repeats) on chromosome 1 |\n",
    "| SPRPTB.* | repeats (other than LTRs or centromeric repeats) on chromosome 2 |\n",
    "| SPRPTC.* | repeats (other than LTRs or centromeric repeats) on chromosome 3 |\n",
    "| SPRPTCENA* | centromeric repeats on chromosome 1 |\n",
    "| SPRPTCENB* | centromeric repeats on chromosome 2 |\n",
    "| SPRPTCENC* | centromeric repeats on chromosome 3 |\n",
    "| SPRRNA* | rRNA genes (no chromosome info in ID) |\n",
    "| SPSNORNA* | snoRNA genes (no chromosome info in ID) |\n",
    "| SPSNRNA* | snRNA genes (no chromosome info in ID) |\n",
    "| SPTF* | transposons (no chromosome info in ID) |\n",
    "| SPMTR* | features on the separately sequenced mating type region contig |\n",
    "| SPMIT* | features on the mitochondrial chromosome |\n",
    "| SPMITTRNA* | subset of SPMIT*; tRNA genes on mitochondrial chromosome |\n",
    "| SPNUMT* | NUMTs (nuclear mitochondrial pseudogenes) (no chromosome info in ID) |\n",
    "| ||\n"
   ]
  },
  {
   "cell_type": "markdown",
   "metadata": {},
   "source": [
    "---------------------------"
   ]
  },
  {
   "cell_type": "markdown",
   "metadata": {},
   "source": [
    "# **Gene features** `(7005/7008)`"
   ]
  },
  {
   "cell_type": "markdown",
   "metadata": {},
   "source": [
    "---------------------------"
   ]
  },
  {
   "cell_type": "markdown",
   "metadata": {},
   "source": [
    "A **gene** refers to the *genomic coordinates*, *genomic locus*, corresponding to the sequence of nucleotides in DNA that encodes the synthesis of a **gene product**, either RNA or protein.\n",
    "\n",
    "<font color='red'> A **gene feature** is the **top feature** in a hierarchy of features associated with the **transcription of DNA**. </font>\n",
    "\n",
    "<font color='red'> The **other features** included in this category are: </font>\n",
    "\n",
    "\n",
    "1. **Transcripts**: (in spombe there is a *one to one map* between gene features and transcript features)\n",
    "    * mRNA\n",
    "    * ncRNA\n",
    "    * pseudogenes\n",
    "* **Sub-transcript features**:\n",
    "    * CDS\n",
    "    * UTR\n",
    "    * Introns\n",
    "\n",
    "At the end of this section we add `length` and `category`info for each **gene feature**."
   ]
  },
  {
   "cell_type": "markdown",
   "metadata": {},
   "source": [
    "- Explore **gene feature**'s"
   ]
  },
  {
   "cell_type": "code",
   "execution_count": 18,
   "metadata": {},
   "outputs": [],
   "source": [
    "gene_features = [\"gene\"]\n",
    "explained_features = gene_features"
   ]
  },
  {
   "cell_type": "code",
   "execution_count": 19,
   "metadata": {},
   "outputs": [
    {
     "data": {
      "text/html": [
       "<div>\n",
       "<style scoped>\n",
       "    .dataframe tbody tr th:only-of-type {\n",
       "        vertical-align: middle;\n",
       "    }\n",
       "\n",
       "    .dataframe tbody tr th {\n",
       "        vertical-align: top;\n",
       "    }\n",
       "\n",
       "    .dataframe thead th {\n",
       "        text-align: right;\n",
       "    }\n",
       "</style>\n",
       "<table border=\"1\" class=\"dataframe\">\n",
       "  <thead>\n",
       "    <tr style=\"text-align: right;\">\n",
       "      <th></th>\n",
       "      <th>ID</th>\n",
       "    </tr>\n",
       "    <tr>\n",
       "      <th>type</th>\n",
       "      <th></th>\n",
       "    </tr>\n",
       "  </thead>\n",
       "  <tbody>\n",
       "    <tr>\n",
       "      <th>gene</th>\n",
       "      <td>7005</td>\n",
       "    </tr>\n",
       "  </tbody>\n",
       "</table>\n",
       "</div>"
      ],
      "text/plain": [
       "        ID\n",
       "type      \n",
       "gene  7005"
      ]
     },
     "execution_count": 19,
     "metadata": {},
     "output_type": "execute_result"
    }
   ],
   "source": [
    "gff_by_type.loc[gene_features]"
   ]
  },
  {
   "cell_type": "markdown",
   "metadata": {},
   "source": [
    "- Get `gene_df` by filtering the **gff** for `gene` **features**"
   ]
  },
  {
   "cell_type": "code",
   "execution_count": 20,
   "metadata": {},
   "outputs": [
    {
     "data": {
      "text/plain": [
       "(7005, 11)"
      ]
     },
     "execution_count": 20,
     "metadata": {},
     "output_type": "execute_result"
    }
   ],
   "source": [
    "gene_df = gff[gff['type'].isin(gene_features)]\n",
    "gene_df.shape"
   ]
  },
  {
   "cell_type": "markdown",
   "metadata": {},
   "source": [
    "- Filter `columns` that contain **all NaN's**: in this case the `Parent` **column** (since *gene feature* is at the top of the hierarchy)"
   ]
  },
  {
   "cell_type": "code",
   "execution_count": 21,
   "metadata": {},
   "outputs": [
    {
     "data": {
      "text/html": [
       "<div>\n",
       "<style scoped>\n",
       "    .dataframe tbody tr th:only-of-type {\n",
       "        vertical-align: middle;\n",
       "    }\n",
       "\n",
       "    .dataframe tbody tr th {\n",
       "        vertical-align: top;\n",
       "    }\n",
       "\n",
       "    .dataframe thead th {\n",
       "        text-align: right;\n",
       "    }\n",
       "</style>\n",
       "<table border=\"1\" class=\"dataframe\">\n",
       "  <thead>\n",
       "    <tr style=\"text-align: right;\">\n",
       "      <th></th>\n",
       "      <th>seqid</th>\n",
       "      <th>source</th>\n",
       "      <th>type</th>\n",
       "      <th>start</th>\n",
       "      <th>end</th>\n",
       "      <th>score</th>\n",
       "      <th>strand</th>\n",
       "      <th>phase</th>\n",
       "      <th>ID</th>\n",
       "      <th>Name</th>\n",
       "    </tr>\n",
       "  </thead>\n",
       "  <tbody>\n",
       "    <tr>\n",
       "      <th>0</th>\n",
       "      <td>I</td>\n",
       "      <td>PomBase</td>\n",
       "      <td>gene</td>\n",
       "      <td>1798347</td>\n",
       "      <td>1799015</td>\n",
       "      <td>.</td>\n",
       "      <td>+</td>\n",
       "      <td>.</td>\n",
       "      <td>SPAC1002.01</td>\n",
       "      <td>mrx11</td>\n",
       "    </tr>\n",
       "    <tr>\n",
       "      <th>5</th>\n",
       "      <td>I</td>\n",
       "      <td>PomBase</td>\n",
       "      <td>gene</td>\n",
       "      <td>1799061</td>\n",
       "      <td>1800053</td>\n",
       "      <td>.</td>\n",
       "      <td>+</td>\n",
       "      <td>.</td>\n",
       "      <td>SPAC1002.02</td>\n",
       "      <td>pom34</td>\n",
       "    </tr>\n",
       "    <tr>\n",
       "      <th>10</th>\n",
       "      <td>I</td>\n",
       "      <td>PomBase</td>\n",
       "      <td>gene</td>\n",
       "      <td>1799915</td>\n",
       "      <td>1803141</td>\n",
       "      <td>.</td>\n",
       "      <td>-</td>\n",
       "      <td>.</td>\n",
       "      <td>SPAC1002.03c</td>\n",
       "      <td>gls2</td>\n",
       "    </tr>\n",
       "    <tr>\n",
       "      <th>15</th>\n",
       "      <td>I</td>\n",
       "      <td>PomBase</td>\n",
       "      <td>gene</td>\n",
       "      <td>1803624</td>\n",
       "      <td>1804491</td>\n",
       "      <td>.</td>\n",
       "      <td>-</td>\n",
       "      <td>.</td>\n",
       "      <td>SPAC1002.04c</td>\n",
       "      <td>taf11</td>\n",
       "    </tr>\n",
       "    <tr>\n",
       "      <th>20</th>\n",
       "      <td>I</td>\n",
       "      <td>PomBase</td>\n",
       "      <td>gene</td>\n",
       "      <td>1804548</td>\n",
       "      <td>1806797</td>\n",
       "      <td>.</td>\n",
       "      <td>-</td>\n",
       "      <td>.</td>\n",
       "      <td>SPAC1002.05c</td>\n",
       "      <td>jmj2</td>\n",
       "    </tr>\n",
       "  </tbody>\n",
       "</table>\n",
       "</div>"
      ],
      "text/plain": [
       "   seqid   source  type    start      end score strand phase            ID  \\\n",
       "0      I  PomBase  gene  1798347  1799015     .      +     .   SPAC1002.01   \n",
       "5      I  PomBase  gene  1799061  1800053     .      +     .   SPAC1002.02   \n",
       "10     I  PomBase  gene  1799915  1803141     .      -     .  SPAC1002.03c   \n",
       "15     I  PomBase  gene  1803624  1804491     .      -     .  SPAC1002.04c   \n",
       "20     I  PomBase  gene  1804548  1806797     .      -     .  SPAC1002.05c   \n",
       "\n",
       "     Name  \n",
       "0   mrx11  \n",
       "5   pom34  \n",
       "10   gls2  \n",
       "15  taf11  \n",
       "20   jmj2  "
      ]
     },
     "execution_count": 21,
     "metadata": {},
     "output_type": "execute_result"
    }
   ],
   "source": [
    "cols = gene_df.columns[~gene_df.isna().all()]\n",
    "gene_df = gene_df[cols]\n",
    "gene_df.head()"
   ]
  },
  {
   "cell_type": "markdown",
   "metadata": {},
   "source": [
    "- List containing all `gene_ids`:"
   ]
  },
  {
   "cell_type": "code",
   "execution_count": 22,
   "metadata": {},
   "outputs": [
    {
     "data": {
      "text/plain": [
       "7005"
      ]
     },
     "execution_count": 22,
     "metadata": {},
     "output_type": "execute_result"
    }
   ],
   "source": [
    "gene_ids = gene_df['ID'].values\n",
    "len(gene_ids)"
   ]
  },
  {
   "cell_type": "markdown",
   "metadata": {},
   "source": [
    "---------------------------"
   ]
  },
  {
   "cell_type": "markdown",
   "metadata": {},
   "source": [
    "## **I. Transcript Features:** *protein coding genes*, *non-coding genes* and *pseudogenes*"
   ]
  },
  {
   "cell_type": "markdown",
   "metadata": {},
   "source": [
    "Both **DNA** and **RNA** are nucleic acids, which use base pairs of nucleotides as a complementary language. \n",
    "\n",
    "During **transcription**, a DNA sequence is read by an *RNA polymerase*, which produces a complementary, antiparallel RNA strand called a **primary transcript**.\n",
    "\n",
    "The *primary transcript* needs to be further processed to yield various mature RNA products such as **mRNAs**, **tRNAs**, **rRNAs**, etc. \n",
    "\n",
    "The **stretch of DNA** transcribed into an RNA molecule is called a **transcription unit** and encodes at least one gene.\n",
    "\n",
    "* **Protein coding genes** are genes that **encode for proteins** and during the transcription process produce:\n",
    "    * `messenger RNA`: **mRNA**\n",
    "* **Non-coding genes** are *transcribed* genes that **encode for non-coding RNA** such as\n",
    "    * `ribosomal RNA`: **rRNA**\n",
    "    * `transfer RNA`: **tRNA**\n",
    "    * `microRNA`: **miRNA**\n",
    "    * (...)\n",
    "* **Pseudogenes** are **nonfunctional segments of DNA** that resemble functional genes."
   ]
  },
  {
   "cell_type": "markdown",
   "metadata": {},
   "source": [
    "<font color='red'> Each **gene feature**, in *spombe*, is associated uniquely (there is a *one to one map*) to a **transcript feature**. </font>\n",
    "\n",
    "<font color='red'> In the `spombe GFF` the **transcript features** belong to one of the following types: </font>\n",
    "* **Protein coding Genes**: mRNA Transcripts (5140/5143)\n",
    "   * `mRNA`\n",
    "* **Non-coding RNA genes**: ncRNA Transcripts (1836/1836)\n",
    "    * `ncRNA`\n",
    "    * `tRNA`\n",
    "    * `snoRNA`\n",
    "    * `rRNA`\n",
    "    * `snRNA`\n",
    "* **Pseudogenes**: (29/29)\n",
    "    * `pseudogenic_transcript`"
   ]
  },
  {
   "cell_type": "markdown",
   "metadata": {},
   "source": [
    "- Get `transcript_df` by filtering the **gff** using `gene_id` **features** as `Parent`"
   ]
  },
  {
   "cell_type": "code",
   "execution_count": 23,
   "metadata": {},
   "outputs": [
    {
     "data": {
      "text/plain": [
       "(7005, 14)"
      ]
     },
     "execution_count": 23,
     "metadata": {},
     "output_type": "execute_result"
    }
   ],
   "source": [
    "transcript_df = gff.merge(gene_df[[\"ID\", \"Name\"]].rename(columns={'ID':'gene_id', 'Name':'gene_name'}),\n",
    "                          left_on='Parent',\n",
    "                          right_on = 'gene_id',\n",
    "                          how='inner')\n",
    "transcript_df[\"transcript_id\"] = transcript_df[\"ID\"]\n",
    "transcript_df.shape"
   ]
  },
  {
   "cell_type": "markdown",
   "metadata": {},
   "source": [
    "- Filter `columns` that contain **all NaN's**: in this case the `Name` **column**"
   ]
  },
  {
   "cell_type": "code",
   "execution_count": 24,
   "metadata": {},
   "outputs": [
    {
     "data": {
      "text/html": [
       "<div>\n",
       "<style scoped>\n",
       "    .dataframe tbody tr th:only-of-type {\n",
       "        vertical-align: middle;\n",
       "    }\n",
       "\n",
       "    .dataframe tbody tr th {\n",
       "        vertical-align: top;\n",
       "    }\n",
       "\n",
       "    .dataframe thead th {\n",
       "        text-align: right;\n",
       "    }\n",
       "</style>\n",
       "<table border=\"1\" class=\"dataframe\">\n",
       "  <thead>\n",
       "    <tr style=\"text-align: right;\">\n",
       "      <th></th>\n",
       "      <th>seqid</th>\n",
       "      <th>source</th>\n",
       "      <th>type</th>\n",
       "      <th>start</th>\n",
       "      <th>end</th>\n",
       "      <th>score</th>\n",
       "      <th>strand</th>\n",
       "      <th>phase</th>\n",
       "      <th>ID</th>\n",
       "      <th>Parent</th>\n",
       "      <th>gene_id</th>\n",
       "      <th>gene_name</th>\n",
       "      <th>transcript_id</th>\n",
       "    </tr>\n",
       "  </thead>\n",
       "  <tbody>\n",
       "    <tr>\n",
       "      <th>0</th>\n",
       "      <td>I</td>\n",
       "      <td>PomBase</td>\n",
       "      <td>mRNA</td>\n",
       "      <td>1798347</td>\n",
       "      <td>1799015</td>\n",
       "      <td>.</td>\n",
       "      <td>+</td>\n",
       "      <td>.</td>\n",
       "      <td>SPAC1002.01.1</td>\n",
       "      <td>SPAC1002.01</td>\n",
       "      <td>SPAC1002.01</td>\n",
       "      <td>mrx11</td>\n",
       "      <td>SPAC1002.01.1</td>\n",
       "    </tr>\n",
       "    <tr>\n",
       "      <th>1</th>\n",
       "      <td>I</td>\n",
       "      <td>PomBase</td>\n",
       "      <td>mRNA</td>\n",
       "      <td>1799061</td>\n",
       "      <td>1800053</td>\n",
       "      <td>.</td>\n",
       "      <td>+</td>\n",
       "      <td>.</td>\n",
       "      <td>SPAC1002.02.1</td>\n",
       "      <td>SPAC1002.02</td>\n",
       "      <td>SPAC1002.02</td>\n",
       "      <td>pom34</td>\n",
       "      <td>SPAC1002.02.1</td>\n",
       "    </tr>\n",
       "    <tr>\n",
       "      <th>2</th>\n",
       "      <td>I</td>\n",
       "      <td>PomBase</td>\n",
       "      <td>mRNA</td>\n",
       "      <td>1799915</td>\n",
       "      <td>1803141</td>\n",
       "      <td>.</td>\n",
       "      <td>-</td>\n",
       "      <td>.</td>\n",
       "      <td>SPAC1002.03c.1</td>\n",
       "      <td>SPAC1002.03c</td>\n",
       "      <td>SPAC1002.03c</td>\n",
       "      <td>gls2</td>\n",
       "      <td>SPAC1002.03c.1</td>\n",
       "    </tr>\n",
       "    <tr>\n",
       "      <th>3</th>\n",
       "      <td>I</td>\n",
       "      <td>PomBase</td>\n",
       "      <td>mRNA</td>\n",
       "      <td>1803624</td>\n",
       "      <td>1804491</td>\n",
       "      <td>.</td>\n",
       "      <td>-</td>\n",
       "      <td>.</td>\n",
       "      <td>SPAC1002.04c.1</td>\n",
       "      <td>SPAC1002.04c</td>\n",
       "      <td>SPAC1002.04c</td>\n",
       "      <td>taf11</td>\n",
       "      <td>SPAC1002.04c.1</td>\n",
       "    </tr>\n",
       "    <tr>\n",
       "      <th>4</th>\n",
       "      <td>I</td>\n",
       "      <td>PomBase</td>\n",
       "      <td>mRNA</td>\n",
       "      <td>1804548</td>\n",
       "      <td>1806797</td>\n",
       "      <td>.</td>\n",
       "      <td>-</td>\n",
       "      <td>.</td>\n",
       "      <td>SPAC1002.05c.1</td>\n",
       "      <td>SPAC1002.05c</td>\n",
       "      <td>SPAC1002.05c</td>\n",
       "      <td>jmj2</td>\n",
       "      <td>SPAC1002.05c.1</td>\n",
       "    </tr>\n",
       "  </tbody>\n",
       "</table>\n",
       "</div>"
      ],
      "text/plain": [
       "  seqid   source  type    start      end score strand phase              ID  \\\n",
       "0     I  PomBase  mRNA  1798347  1799015     .      +     .   SPAC1002.01.1   \n",
       "1     I  PomBase  mRNA  1799061  1800053     .      +     .   SPAC1002.02.1   \n",
       "2     I  PomBase  mRNA  1799915  1803141     .      -     .  SPAC1002.03c.1   \n",
       "3     I  PomBase  mRNA  1803624  1804491     .      -     .  SPAC1002.04c.1   \n",
       "4     I  PomBase  mRNA  1804548  1806797     .      -     .  SPAC1002.05c.1   \n",
       "\n",
       "         Parent       gene_id gene_name   transcript_id  \n",
       "0   SPAC1002.01   SPAC1002.01     mrx11   SPAC1002.01.1  \n",
       "1   SPAC1002.02   SPAC1002.02     pom34   SPAC1002.02.1  \n",
       "2  SPAC1002.03c  SPAC1002.03c      gls2  SPAC1002.03c.1  \n",
       "3  SPAC1002.04c  SPAC1002.04c     taf11  SPAC1002.04c.1  \n",
       "4  SPAC1002.05c  SPAC1002.05c      jmj2  SPAC1002.05c.1  "
      ]
     },
     "execution_count": 24,
     "metadata": {},
     "output_type": "execute_result"
    }
   ],
   "source": [
    "cols = transcript_df.columns[~transcript_df.isna().all()]\n",
    "transcript_df = transcript_df[cols]\n",
    "transcript_df.head()"
   ]
  },
  {
   "cell_type": "markdown",
   "metadata": {},
   "source": [
    "- Define **transcript features** from `transcript_df`"
   ]
  },
  {
   "cell_type": "code",
   "execution_count": 25,
   "metadata": {},
   "outputs": [
    {
     "data": {
      "text/html": [
       "<div>\n",
       "<style scoped>\n",
       "    .dataframe tbody tr th:only-of-type {\n",
       "        vertical-align: middle;\n",
       "    }\n",
       "\n",
       "    .dataframe tbody tr th {\n",
       "        vertical-align: top;\n",
       "    }\n",
       "\n",
       "    .dataframe thead th {\n",
       "        text-align: right;\n",
       "    }\n",
       "</style>\n",
       "<table border=\"1\" class=\"dataframe\">\n",
       "  <thead>\n",
       "    <tr style=\"text-align: right;\">\n",
       "      <th></th>\n",
       "      <th>transcript_id</th>\n",
       "    </tr>\n",
       "    <tr>\n",
       "      <th>type</th>\n",
       "      <th></th>\n",
       "    </tr>\n",
       "  </thead>\n",
       "  <tbody>\n",
       "    <tr>\n",
       "      <th>mRNA</th>\n",
       "      <td>5140</td>\n",
       "    </tr>\n",
       "    <tr>\n",
       "      <th>ncRNA</th>\n",
       "      <td>1528</td>\n",
       "    </tr>\n",
       "    <tr>\n",
       "      <th>tRNA</th>\n",
       "      <td>196</td>\n",
       "    </tr>\n",
       "    <tr>\n",
       "      <th>snoRNA</th>\n",
       "      <td>57</td>\n",
       "    </tr>\n",
       "    <tr>\n",
       "      <th>rRNA</th>\n",
       "      <td>49</td>\n",
       "    </tr>\n",
       "    <tr>\n",
       "      <th>pseudogenic_transcript</th>\n",
       "      <td>29</td>\n",
       "    </tr>\n",
       "    <tr>\n",
       "      <th>snRNA</th>\n",
       "      <td>6</td>\n",
       "    </tr>\n",
       "  </tbody>\n",
       "</table>\n",
       "</div>"
      ],
      "text/plain": [
       "                        transcript_id\n",
       "type                                 \n",
       "mRNA                             5140\n",
       "ncRNA                            1528\n",
       "tRNA                              196\n",
       "snoRNA                             57\n",
       "rRNA                               49\n",
       "pseudogenic_transcript             29\n",
       "snRNA                               6"
      ]
     },
     "execution_count": 25,
     "metadata": {},
     "output_type": "execute_result"
    }
   ],
   "source": [
    "transcripts_df_by_type = transcript_df[['type', 'transcript_id']].groupby(['type']).count()\n",
    "transcripts_df_by_type = transcripts_df_by_type.sort_values('transcript_id', ascending=False)\n",
    "transcripts_df_by_type"
   ]
  },
  {
   "cell_type": "code",
   "execution_count": 26,
   "metadata": {},
   "outputs": [
    {
     "data": {
      "text/plain": [
       "['mRNA', 'ncRNA', 'tRNA', 'snoRNA', 'rRNA', 'pseudogenic_transcript', 'snRNA']"
      ]
     },
     "execution_count": 26,
     "metadata": {},
     "output_type": "execute_result"
    }
   ],
   "source": [
    "transcript_features = transcripts_df_by_type.index.tolist()\n",
    "transcript_features"
   ]
  },
  {
   "cell_type": "code",
   "execution_count": 27,
   "metadata": {},
   "outputs": [],
   "source": [
    "transcript_features = ['mRNA', 'ncRNA', 'tRNA', 'snoRNA', 'rRNA', 'pseudogenic_transcript', 'snRNA']"
   ]
  },
  {
   "cell_type": "markdown",
   "metadata": {},
   "source": [
    "### **I.A. <font color=blue> Protein coding Genes</font>**: `mRNA Transcripts (5140/5143)`"
   ]
  },
  {
   "cell_type": "markdown",
   "metadata": {},
   "source": [
    "**Messenger RNA (mRNA)**: is a single-stranded RNA molecule that has already undegone RNA splicing, by which **intron** regions have been removed, leaving only **exons**. This exon sequence constitutes mature mRNA that will be read by the ribosome and translated into protein."
   ]
  },
  {
   "cell_type": "markdown",
   "metadata": {},
   "source": [
    "- **ID code**: \n",
    " - `SP` (spombe) \n",
    " - {**`A`**: `chr I`, **`B`**: `chr II`, **`C`**: `chr III`, **`MIT`**:  `mitochondrial`, **`BC`**: `chr_II_telomeric_gap`, **`MTR`**: `mating_type_region`}\n",
    " - {**`C`**: `sequenced on cosmids`, **`P`**: `sequenced on plasmids`} \n",
    " - `n_id` (number of group)"
   ]
  },
  {
   "cell_type": "code",
   "execution_count": 28,
   "metadata": {},
   "outputs": [],
   "source": [
    "mrna_features = [\"mRNA\"]"
   ]
  },
  {
   "cell_type": "code",
   "execution_count": 29,
   "metadata": {},
   "outputs": [
    {
     "data": {
      "text/html": [
       "<div>\n",
       "<style scoped>\n",
       "    .dataframe tbody tr th:only-of-type {\n",
       "        vertical-align: middle;\n",
       "    }\n",
       "\n",
       "    .dataframe tbody tr th {\n",
       "        vertical-align: top;\n",
       "    }\n",
       "\n",
       "    .dataframe thead th {\n",
       "        text-align: right;\n",
       "    }\n",
       "</style>\n",
       "<table border=\"1\" class=\"dataframe\">\n",
       "  <thead>\n",
       "    <tr style=\"text-align: right;\">\n",
       "      <th></th>\n",
       "      <th>ID</th>\n",
       "    </tr>\n",
       "    <tr>\n",
       "      <th>type</th>\n",
       "      <th></th>\n",
       "    </tr>\n",
       "  </thead>\n",
       "  <tbody>\n",
       "    <tr>\n",
       "      <th>mRNA</th>\n",
       "      <td>5140</td>\n",
       "    </tr>\n",
       "  </tbody>\n",
       "</table>\n",
       "</div>"
      ],
      "text/plain": [
       "        ID\n",
       "type      \n",
       "mRNA  5140"
      ]
     },
     "execution_count": 29,
     "metadata": {},
     "output_type": "execute_result"
    }
   ],
   "source": [
    "gff_by_type.loc[mrna_features]"
   ]
  },
  {
   "cell_type": "markdown",
   "metadata": {},
   "source": [
    "- **mRNAs**:"
   ]
  },
  {
   "cell_type": "code",
   "execution_count": 30,
   "metadata": {},
   "outputs": [
    {
     "data": {
      "text/html": [
       "<div>\n",
       "<style scoped>\n",
       "    .dataframe tbody tr th:only-of-type {\n",
       "        vertical-align: middle;\n",
       "    }\n",
       "\n",
       "    .dataframe tbody tr th {\n",
       "        vertical-align: top;\n",
       "    }\n",
       "\n",
       "    .dataframe thead th {\n",
       "        text-align: right;\n",
       "    }\n",
       "</style>\n",
       "<table border=\"1\" class=\"dataframe\">\n",
       "  <thead>\n",
       "    <tr style=\"text-align: right;\">\n",
       "      <th></th>\n",
       "      <th>seqid</th>\n",
       "      <th>source</th>\n",
       "      <th>type</th>\n",
       "      <th>start</th>\n",
       "      <th>end</th>\n",
       "      <th>score</th>\n",
       "      <th>strand</th>\n",
       "      <th>phase</th>\n",
       "      <th>ID</th>\n",
       "      <th>Parent</th>\n",
       "      <th>gene_id</th>\n",
       "      <th>gene_name</th>\n",
       "      <th>transcript_id</th>\n",
       "    </tr>\n",
       "  </thead>\n",
       "  <tbody>\n",
       "    <tr>\n",
       "      <th>848</th>\n",
       "      <td>I</td>\n",
       "      <td>PomBase</td>\n",
       "      <td>mRNA</td>\n",
       "      <td>1</td>\n",
       "      <td>5662</td>\n",
       "      <td>.</td>\n",
       "      <td>-</td>\n",
       "      <td>.</td>\n",
       "      <td>SPAC212.11.1</td>\n",
       "      <td>SPAC212.11</td>\n",
       "      <td>SPAC212.11</td>\n",
       "      <td>tlh1</td>\n",
       "      <td>SPAC212.11.1</td>\n",
       "    </tr>\n",
       "    <tr>\n",
       "      <th>6999</th>\n",
       "      <td>I</td>\n",
       "      <td>PomBase</td>\n",
       "      <td>mRNA</td>\n",
       "      <td>1</td>\n",
       "      <td>5662</td>\n",
       "      <td>.</td>\n",
       "      <td>+</td>\n",
       "      <td>.</td>\n",
       "      <td>SPAC212.11b.1</td>\n",
       "      <td>SPAC212.11b</td>\n",
       "      <td>SPAC212.11b</td>\n",
       "      <td>tlh1_plus</td>\n",
       "      <td>SPAC212.11b.1</td>\n",
       "    </tr>\n",
       "    <tr>\n",
       "      <th>845</th>\n",
       "      <td>I</td>\n",
       "      <td>PomBase</td>\n",
       "      <td>mRNA</td>\n",
       "      <td>11784</td>\n",
       "      <td>12994</td>\n",
       "      <td>.</td>\n",
       "      <td>+</td>\n",
       "      <td>.</td>\n",
       "      <td>SPAC212.08c.1</td>\n",
       "      <td>SPAC212.08c</td>\n",
       "      <td>SPAC212.08c</td>\n",
       "      <td>NaN</td>\n",
       "      <td>SPAC212.08c.1</td>\n",
       "    </tr>\n",
       "    <tr>\n",
       "      <th>849</th>\n",
       "      <td>I</td>\n",
       "      <td>PomBase</td>\n",
       "      <td>mRNA</td>\n",
       "      <td>15855</td>\n",
       "      <td>16226</td>\n",
       "      <td>.</td>\n",
       "      <td>+</td>\n",
       "      <td>.</td>\n",
       "      <td>SPAC212.12.1</td>\n",
       "      <td>SPAC212.12</td>\n",
       "      <td>SPAC212.12</td>\n",
       "      <td>NaN</td>\n",
       "      <td>SPAC212.12.1</td>\n",
       "    </tr>\n",
       "    <tr>\n",
       "      <th>843</th>\n",
       "      <td>I</td>\n",
       "      <td>PomBase</td>\n",
       "      <td>mRNA</td>\n",
       "      <td>18042</td>\n",
       "      <td>18974</td>\n",
       "      <td>.</td>\n",
       "      <td>+</td>\n",
       "      <td>.</td>\n",
       "      <td>SPAC212.06c.1</td>\n",
       "      <td>SPAC212.06c</td>\n",
       "      <td>SPAC212.06c</td>\n",
       "      <td>NaN</td>\n",
       "      <td>SPAC212.06c.1</td>\n",
       "    </tr>\n",
       "  </tbody>\n",
       "</table>\n",
       "</div>"
      ],
      "text/plain": [
       "     seqid   source  type  start    end score strand phase             ID  \\\n",
       "848      I  PomBase  mRNA      1   5662     .      -     .   SPAC212.11.1   \n",
       "6999     I  PomBase  mRNA      1   5662     .      +     .  SPAC212.11b.1   \n",
       "845      I  PomBase  mRNA  11784  12994     .      +     .  SPAC212.08c.1   \n",
       "849      I  PomBase  mRNA  15855  16226     .      +     .   SPAC212.12.1   \n",
       "843      I  PomBase  mRNA  18042  18974     .      +     .  SPAC212.06c.1   \n",
       "\n",
       "           Parent      gene_id  gene_name  transcript_id  \n",
       "848    SPAC212.11   SPAC212.11       tlh1   SPAC212.11.1  \n",
       "6999  SPAC212.11b  SPAC212.11b  tlh1_plus  SPAC212.11b.1  \n",
       "845   SPAC212.08c  SPAC212.08c        NaN  SPAC212.08c.1  \n",
       "849    SPAC212.12   SPAC212.12        NaN   SPAC212.12.1  \n",
       "843   SPAC212.06c  SPAC212.06c        NaN  SPAC212.06c.1  "
      ]
     },
     "execution_count": 30,
     "metadata": {},
     "output_type": "execute_result"
    }
   ],
   "source": [
    "mrna_df = transcript_df[transcript_df['type'].isin(mrna_features)].sort_values(['seqid', 'start', 'end'])\n",
    "mrna_df.head()"
   ]
  },
  {
   "cell_type": "code",
   "execution_count": 31,
   "metadata": {},
   "outputs": [
    {
     "data": {
      "text/plain": [
       "(5140, 13)"
      ]
     },
     "execution_count": 31,
     "metadata": {},
     "output_type": "execute_result"
    }
   ],
   "source": [
    "mrna_df.shape"
   ]
  },
  {
   "cell_type": "markdown",
   "metadata": {},
   "source": [
    "- **mRNA** (Example): Transcript (has a `Parent: gene`)"
   ]
  },
  {
   "cell_type": "code",
   "execution_count": 32,
   "metadata": {},
   "outputs": [
    {
     "data": {
      "text/html": [
       "<div>\n",
       "<style scoped>\n",
       "    .dataframe tbody tr th:only-of-type {\n",
       "        vertical-align: middle;\n",
       "    }\n",
       "\n",
       "    .dataframe tbody tr th {\n",
       "        vertical-align: top;\n",
       "    }\n",
       "\n",
       "    .dataframe thead th {\n",
       "        text-align: right;\n",
       "    }\n",
       "</style>\n",
       "<table border=\"1\" class=\"dataframe\">\n",
       "  <thead>\n",
       "    <tr style=\"text-align: right;\">\n",
       "      <th></th>\n",
       "      <th>seqid</th>\n",
       "      <th>source</th>\n",
       "      <th>type</th>\n",
       "      <th>start</th>\n",
       "      <th>end</th>\n",
       "      <th>score</th>\n",
       "      <th>strand</th>\n",
       "      <th>phase</th>\n",
       "      <th>ID</th>\n",
       "      <th>Parent</th>\n",
       "      <th>gene_id</th>\n",
       "      <th>gene_name</th>\n",
       "      <th>transcript_id</th>\n",
       "    </tr>\n",
       "  </thead>\n",
       "  <tbody>\n",
       "    <tr>\n",
       "      <th>841</th>\n",
       "      <td>I</td>\n",
       "      <td>PomBase</td>\n",
       "      <td>mRNA</td>\n",
       "      <td>21381</td>\n",
       "      <td>23050</td>\n",
       "      <td>.</td>\n",
       "      <td>+</td>\n",
       "      <td>.</td>\n",
       "      <td>SPAC212.04c.1</td>\n",
       "      <td>SPAC212.04c</td>\n",
       "      <td>SPAC212.04c</td>\n",
       "      <td>NaN</td>\n",
       "      <td>SPAC212.04c.1</td>\n",
       "    </tr>\n",
       "  </tbody>\n",
       "</table>\n",
       "</div>"
      ],
      "text/plain": [
       "    seqid   source  type  start    end score strand phase             ID  \\\n",
       "841     I  PomBase  mRNA  21381  23050     .      +     .  SPAC212.04c.1   \n",
       "\n",
       "          Parent      gene_id gene_name  transcript_id  \n",
       "841  SPAC212.04c  SPAC212.04c       NaN  SPAC212.04c.1  "
      ]
     },
     "execution_count": 32,
     "metadata": {},
     "output_type": "execute_result"
    }
   ],
   "source": [
    "mrna_id = \"SPAC212.04c.1\"\n",
    "mrna_df[mrna_df['ID'] == mrna_id]"
   ]
  },
  {
   "cell_type": "markdown",
   "metadata": {},
   "source": [
    "- corresponding **gene** (Example): top feature (has **NO** `Parent`)"
   ]
  },
  {
   "cell_type": "code",
   "execution_count": 33,
   "metadata": {},
   "outputs": [
    {
     "data": {
      "text/html": [
       "<div>\n",
       "<style scoped>\n",
       "    .dataframe tbody tr th:only-of-type {\n",
       "        vertical-align: middle;\n",
       "    }\n",
       "\n",
       "    .dataframe tbody tr th {\n",
       "        vertical-align: top;\n",
       "    }\n",
       "\n",
       "    .dataframe thead th {\n",
       "        text-align: right;\n",
       "    }\n",
       "</style>\n",
       "<table border=\"1\" class=\"dataframe\">\n",
       "  <thead>\n",
       "    <tr style=\"text-align: right;\">\n",
       "      <th></th>\n",
       "      <th>seqid</th>\n",
       "      <th>source</th>\n",
       "      <th>type</th>\n",
       "      <th>start</th>\n",
       "      <th>end</th>\n",
       "      <th>score</th>\n",
       "      <th>strand</th>\n",
       "      <th>phase</th>\n",
       "      <th>ID</th>\n",
       "      <th>Name</th>\n",
       "      <th>Parent</th>\n",
       "    </tr>\n",
       "  </thead>\n",
       "  <tbody>\n",
       "    <tr>\n",
       "      <th>5860</th>\n",
       "      <td>I</td>\n",
       "      <td>PomBase</td>\n",
       "      <td>gene</td>\n",
       "      <td>21381</td>\n",
       "      <td>23050</td>\n",
       "      <td>.</td>\n",
       "      <td>+</td>\n",
       "      <td>.</td>\n",
       "      <td>SPAC212.04c</td>\n",
       "      <td>NaN</td>\n",
       "      <td>NaN</td>\n",
       "    </tr>\n",
       "  </tbody>\n",
       "</table>\n",
       "</div>"
      ],
      "text/plain": [
       "     seqid   source  type  start    end score strand phase           ID Name  \\\n",
       "5860     I  PomBase  gene  21381  23050     .      +     .  SPAC212.04c  NaN   \n",
       "\n",
       "     Parent  \n",
       "5860    NaN  "
      ]
     },
     "execution_count": 33,
     "metadata": {},
     "output_type": "execute_result"
    }
   ],
   "source": [
    "gene_id = \"SPAC212.04c\"\n",
    "gff[gff['ID'] == gene_id]"
   ]
  },
  {
   "cell_type": "code",
   "execution_count": 34,
   "metadata": {},
   "outputs": [],
   "source": [
    "assert(len(mrna_df) == len(gff[gff['type'].isin(mrna_features)]))"
   ]
  },
  {
   "cell_type": "markdown",
   "metadata": {},
   "source": [
    "  "
   ]
  },
  {
   "cell_type": "markdown",
   "metadata": {},
   "source": [
    "### **I.B. <font color=blue>Non-coding RNA genes</font>**: `ncRNA Transcripts (1836/1836)`"
   ]
  },
  {
   "cell_type": "markdown",
   "metadata": {},
   "source": [
    "A **non-coding RNA** (`ncRNA`) is an RNA molecule that **is not `translated` into a protein**. \n",
    "\n",
    "The **DNA sequence** from which a functional non-coding RNA is `transcribed` is often called **an RNA gene**. "
   ]
  },
  {
   "cell_type": "markdown",
   "metadata": {},
   "source": [
    "Abundant and functionally important types of non-coding RNAs include:\n",
    "\n",
    "* **transfer RNAs** (`tRNAs`)\n",
    "* **ribosomal RNAs** (`rRNAs`)\n",
    "\n",
    "as well as small RNAs such as: \n",
    "\n",
    "* **Small nucleolar RNAs** (`snoRNAs`) \n",
    "* **Small nuclear RNA** (`snRNA`)\n",
    "* (...)"
   ]
  },
  {
   "cell_type": "markdown",
   "metadata": {},
   "source": [
    "- **ID code**: \n",
    " - `SP` (spombe)\n",
    " - {**`A`**: `chr I`, **`B`**: `chr II`, **`C`**: `chr III`, **`MIT`**: `mitochondrial`} - (**only for tRNA**) \n",
    " - {**`NCRNA`**: Non-coding RNA, **`TRNA`**: Transfer RNA, **`SNORNA`**: Small nucleolar RNA, **`RRNA`**: Ribosomal RNA, **`SNRNA`**: Small nuclear RNA}\n",
    " - {`aminoacid-3-letter`} - (**only for tRNA**: https://en.wikipedia.org/wiki/Proteinogenic_amino_acid)\n",
    " - `n_id` (number of group)"
   ]
  },
  {
   "cell_type": "markdown",
   "metadata": {},
   "source": [
    "<font color='red'> Becareful! `ncRNA Transcripts` is both the **category** to define all ncRNA transcripts and a **subcategory**. </font>"
   ]
  },
  {
   "cell_type": "code",
   "execution_count": 35,
   "metadata": {},
   "outputs": [],
   "source": [
    "ncrna_features = ['ncRNA', 'tRNA', 'snoRNA', 'rRNA', 'snRNA']"
   ]
  },
  {
   "cell_type": "code",
   "execution_count": 36,
   "metadata": {},
   "outputs": [
    {
     "data": {
      "text/html": [
       "<div>\n",
       "<style scoped>\n",
       "    .dataframe tbody tr th:only-of-type {\n",
       "        vertical-align: middle;\n",
       "    }\n",
       "\n",
       "    .dataframe tbody tr th {\n",
       "        vertical-align: top;\n",
       "    }\n",
       "\n",
       "    .dataframe thead th {\n",
       "        text-align: right;\n",
       "    }\n",
       "</style>\n",
       "<table border=\"1\" class=\"dataframe\">\n",
       "  <thead>\n",
       "    <tr style=\"text-align: right;\">\n",
       "      <th></th>\n",
       "      <th>ID</th>\n",
       "    </tr>\n",
       "    <tr>\n",
       "      <th>type</th>\n",
       "      <th></th>\n",
       "    </tr>\n",
       "  </thead>\n",
       "  <tbody>\n",
       "    <tr>\n",
       "      <th>ncRNA</th>\n",
       "      <td>1528</td>\n",
       "    </tr>\n",
       "    <tr>\n",
       "      <th>tRNA</th>\n",
       "      <td>196</td>\n",
       "    </tr>\n",
       "    <tr>\n",
       "      <th>snoRNA</th>\n",
       "      <td>57</td>\n",
       "    </tr>\n",
       "    <tr>\n",
       "      <th>rRNA</th>\n",
       "      <td>49</td>\n",
       "    </tr>\n",
       "    <tr>\n",
       "      <th>snRNA</th>\n",
       "      <td>6</td>\n",
       "    </tr>\n",
       "  </tbody>\n",
       "</table>\n",
       "</div>"
      ],
      "text/plain": [
       "          ID\n",
       "type        \n",
       "ncRNA   1528\n",
       "tRNA     196\n",
       "snoRNA    57\n",
       "rRNA      49\n",
       "snRNA      6"
      ]
     },
     "execution_count": 36,
     "metadata": {},
     "output_type": "execute_result"
    }
   ],
   "source": [
    "gff_by_type.loc[ncrna_features]"
   ]
  },
  {
   "cell_type": "markdown",
   "metadata": {},
   "source": [
    "- **ncRNAs**"
   ]
  },
  {
   "cell_type": "code",
   "execution_count": 37,
   "metadata": {},
   "outputs": [
    {
     "data": {
      "text/html": [
       "<div>\n",
       "<style scoped>\n",
       "    .dataframe tbody tr th:only-of-type {\n",
       "        vertical-align: middle;\n",
       "    }\n",
       "\n",
       "    .dataframe tbody tr th {\n",
       "        vertical-align: top;\n",
       "    }\n",
       "\n",
       "    .dataframe thead th {\n",
       "        text-align: right;\n",
       "    }\n",
       "</style>\n",
       "<table border=\"1\" class=\"dataframe\">\n",
       "  <thead>\n",
       "    <tr style=\"text-align: right;\">\n",
       "      <th></th>\n",
       "      <th>seqid</th>\n",
       "      <th>source</th>\n",
       "      <th>type</th>\n",
       "      <th>start</th>\n",
       "      <th>end</th>\n",
       "      <th>score</th>\n",
       "      <th>strand</th>\n",
       "      <th>phase</th>\n",
       "      <th>ID</th>\n",
       "      <th>Parent</th>\n",
       "      <th>gene_id</th>\n",
       "      <th>gene_name</th>\n",
       "      <th>transcript_id</th>\n",
       "    </tr>\n",
       "  </thead>\n",
       "  <tbody>\n",
       "    <tr>\n",
       "      <th>6578</th>\n",
       "      <td>I</td>\n",
       "      <td>PomBase</td>\n",
       "      <td>ncRNA</td>\n",
       "      <td>11027</td>\n",
       "      <td>11556</td>\n",
       "      <td>.</td>\n",
       "      <td>-</td>\n",
       "      <td>.</td>\n",
       "      <td>SPNCRNA.70.1</td>\n",
       "      <td>SPNCRNA.70</td>\n",
       "      <td>SPNCRNA.70</td>\n",
       "      <td>NaN</td>\n",
       "      <td>SPNCRNA.70.1</td>\n",
       "    </tr>\n",
       "    <tr>\n",
       "      <th>6104</th>\n",
       "      <td>I</td>\n",
       "      <td>PomBase</td>\n",
       "      <td>ncRNA</td>\n",
       "      <td>15002</td>\n",
       "      <td>16334</td>\n",
       "      <td>.</td>\n",
       "      <td>-</td>\n",
       "      <td>.</td>\n",
       "      <td>SPNCRNA.1701.1</td>\n",
       "      <td>SPNCRNA.1701</td>\n",
       "      <td>SPNCRNA.1701</td>\n",
       "      <td>prl101</td>\n",
       "      <td>SPNCRNA.1701.1</td>\n",
       "    </tr>\n",
       "    <tr>\n",
       "      <th>5751</th>\n",
       "      <td>I</td>\n",
       "      <td>PomBase</td>\n",
       "      <td>ncRNA</td>\n",
       "      <td>40795</td>\n",
       "      <td>41489</td>\n",
       "      <td>.</td>\n",
       "      <td>+</td>\n",
       "      <td>.</td>\n",
       "      <td>SPNCRNA.136.1</td>\n",
       "      <td>SPNCRNA.136</td>\n",
       "      <td>SPNCRNA.136</td>\n",
       "      <td>NaN</td>\n",
       "      <td>SPNCRNA.136.1</td>\n",
       "    </tr>\n",
       "    <tr>\n",
       "      <th>6473</th>\n",
       "      <td>I</td>\n",
       "      <td>PomBase</td>\n",
       "      <td>ncRNA</td>\n",
       "      <td>40916</td>\n",
       "      <td>41770</td>\n",
       "      <td>.</td>\n",
       "      <td>-</td>\n",
       "      <td>.</td>\n",
       "      <td>SPNCRNA.601.1</td>\n",
       "      <td>SPNCRNA.601</td>\n",
       "      <td>SPNCRNA.601</td>\n",
       "      <td>NaN</td>\n",
       "      <td>SPNCRNA.601.1</td>\n",
       "    </tr>\n",
       "    <tr>\n",
       "      <th>6474</th>\n",
       "      <td>I</td>\n",
       "      <td>PomBase</td>\n",
       "      <td>ncRNA</td>\n",
       "      <td>50851</td>\n",
       "      <td>51545</td>\n",
       "      <td>.</td>\n",
       "      <td>-</td>\n",
       "      <td>.</td>\n",
       "      <td>SPNCRNA.602.1</td>\n",
       "      <td>SPNCRNA.602</td>\n",
       "      <td>SPNCRNA.602</td>\n",
       "      <td>NaN</td>\n",
       "      <td>SPNCRNA.602.1</td>\n",
       "    </tr>\n",
       "  </tbody>\n",
       "</table>\n",
       "</div>"
      ],
      "text/plain": [
       "     seqid   source   type  start    end score strand phase              ID  \\\n",
       "6578     I  PomBase  ncRNA  11027  11556     .      -     .    SPNCRNA.70.1   \n",
       "6104     I  PomBase  ncRNA  15002  16334     .      -     .  SPNCRNA.1701.1   \n",
       "5751     I  PomBase  ncRNA  40795  41489     .      +     .   SPNCRNA.136.1   \n",
       "6473     I  PomBase  ncRNA  40916  41770     .      -     .   SPNCRNA.601.1   \n",
       "6474     I  PomBase  ncRNA  50851  51545     .      -     .   SPNCRNA.602.1   \n",
       "\n",
       "            Parent       gene_id gene_name   transcript_id  \n",
       "6578    SPNCRNA.70    SPNCRNA.70       NaN    SPNCRNA.70.1  \n",
       "6104  SPNCRNA.1701  SPNCRNA.1701    prl101  SPNCRNA.1701.1  \n",
       "5751   SPNCRNA.136   SPNCRNA.136       NaN   SPNCRNA.136.1  \n",
       "6473   SPNCRNA.601   SPNCRNA.601       NaN   SPNCRNA.601.1  \n",
       "6474   SPNCRNA.602   SPNCRNA.602       NaN   SPNCRNA.602.1  "
      ]
     },
     "execution_count": 37,
     "metadata": {},
     "output_type": "execute_result"
    }
   ],
   "source": [
    "ncrna_df = transcript_df[transcript_df['type'].isin(ncrna_features)].sort_values(['seqid', 'start', 'end'])\n",
    "ncrna_df.head()\n",
    "#ncrna_df[ncrna_df['type'].isin(['snRNA'])].tail(50)"
   ]
  },
  {
   "cell_type": "code",
   "execution_count": 38,
   "metadata": {},
   "outputs": [
    {
     "data": {
      "text/plain": [
       "(1836, 13)"
      ]
     },
     "execution_count": 38,
     "metadata": {},
     "output_type": "execute_result"
    }
   ],
   "source": [
    "ncrna_df.shape"
   ]
  },
  {
   "cell_type": "code",
   "execution_count": 39,
   "metadata": {},
   "outputs": [
    {
     "data": {
      "text/plain": [
       "(1836, 13)"
      ]
     },
     "execution_count": 39,
     "metadata": {},
     "output_type": "execute_result"
    }
   ],
   "source": [
    "ncrna_df.shape"
   ]
  },
  {
   "cell_type": "code",
   "execution_count": 40,
   "metadata": {},
   "outputs": [],
   "source": [
    "#gff[gff['type'].isin(['intron']) & gff['Parent'].isin(nc_rnas)].sort_values(['seqid','start', 'end'])['ID']"
   ]
  },
  {
   "cell_type": "markdown",
   "metadata": {},
   "source": [
    "- **ncRNA** (Example): Transcript (has a `Parent: gene`)"
   ]
  },
  {
   "cell_type": "code",
   "execution_count": 41,
   "metadata": {},
   "outputs": [
    {
     "data": {
      "text/html": [
       "<div>\n",
       "<style scoped>\n",
       "    .dataframe tbody tr th:only-of-type {\n",
       "        vertical-align: middle;\n",
       "    }\n",
       "\n",
       "    .dataframe tbody tr th {\n",
       "        vertical-align: top;\n",
       "    }\n",
       "\n",
       "    .dataframe thead th {\n",
       "        text-align: right;\n",
       "    }\n",
       "</style>\n",
       "<table border=\"1\" class=\"dataframe\">\n",
       "  <thead>\n",
       "    <tr style=\"text-align: right;\">\n",
       "      <th></th>\n",
       "      <th>seqid</th>\n",
       "      <th>source</th>\n",
       "      <th>type</th>\n",
       "      <th>start</th>\n",
       "      <th>end</th>\n",
       "      <th>score</th>\n",
       "      <th>strand</th>\n",
       "      <th>phase</th>\n",
       "      <th>ID</th>\n",
       "      <th>Parent</th>\n",
       "      <th>gene_id</th>\n",
       "      <th>gene_name</th>\n",
       "      <th>transcript_id</th>\n",
       "    </tr>\n",
       "  </thead>\n",
       "  <tbody>\n",
       "    <tr>\n",
       "      <th>5364</th>\n",
       "      <td>I</td>\n",
       "      <td>PomBase</td>\n",
       "      <td>ncRNA</td>\n",
       "      <td>434104</td>\n",
       "      <td>434843</td>\n",
       "      <td>.</td>\n",
       "      <td>+</td>\n",
       "      <td>.</td>\n",
       "      <td>SPNCRNA.05.1</td>\n",
       "      <td>SPNCRNA.05</td>\n",
       "      <td>SPNCRNA.05</td>\n",
       "      <td>prl5</td>\n",
       "      <td>SPNCRNA.05.1</td>\n",
       "    </tr>\n",
       "  </tbody>\n",
       "</table>\n",
       "</div>"
      ],
      "text/plain": [
       "     seqid   source   type   start     end score strand phase            ID  \\\n",
       "5364     I  PomBase  ncRNA  434104  434843     .      +     .  SPNCRNA.05.1   \n",
       "\n",
       "          Parent     gene_id gene_name transcript_id  \n",
       "5364  SPNCRNA.05  SPNCRNA.05      prl5  SPNCRNA.05.1  "
      ]
     },
     "execution_count": 41,
     "metadata": {},
     "output_type": "execute_result"
    }
   ],
   "source": [
    "ncrna_id = \"SPNCRNA.05.1\"\n",
    "ncrna_df[ncrna_df['ID'] == ncrna_id]"
   ]
  },
  {
   "cell_type": "markdown",
   "metadata": {},
   "source": [
    "- corresponding **gene** (Example): top feature (has **NO** `Parent`)"
   ]
  },
  {
   "cell_type": "code",
   "execution_count": 42,
   "metadata": {},
   "outputs": [
    {
     "data": {
      "text/html": [
       "<div>\n",
       "<style scoped>\n",
       "    .dataframe tbody tr th:only-of-type {\n",
       "        vertical-align: middle;\n",
       "    }\n",
       "\n",
       "    .dataframe tbody tr th {\n",
       "        vertical-align: top;\n",
       "    }\n",
       "\n",
       "    .dataframe thead th {\n",
       "        text-align: right;\n",
       "    }\n",
       "</style>\n",
       "<table border=\"1\" class=\"dataframe\">\n",
       "  <thead>\n",
       "    <tr style=\"text-align: right;\">\n",
       "      <th></th>\n",
       "      <th>seqid</th>\n",
       "      <th>source</th>\n",
       "      <th>type</th>\n",
       "      <th>start</th>\n",
       "      <th>end</th>\n",
       "      <th>score</th>\n",
       "      <th>strand</th>\n",
       "      <th>phase</th>\n",
       "      <th>ID</th>\n",
       "      <th>Name</th>\n",
       "      <th>Parent</th>\n",
       "    </tr>\n",
       "  </thead>\n",
       "  <tbody>\n",
       "    <tr>\n",
       "      <th>36261</th>\n",
       "      <td>I</td>\n",
       "      <td>PomBase</td>\n",
       "      <td>gene</td>\n",
       "      <td>434104</td>\n",
       "      <td>434843</td>\n",
       "      <td>.</td>\n",
       "      <td>+</td>\n",
       "      <td>.</td>\n",
       "      <td>SPNCRNA.05</td>\n",
       "      <td>prl5</td>\n",
       "      <td>NaN</td>\n",
       "    </tr>\n",
       "  </tbody>\n",
       "</table>\n",
       "</div>"
      ],
      "text/plain": [
       "      seqid   source  type   start     end score strand phase          ID  \\\n",
       "36261     I  PomBase  gene  434104  434843     .      +     .  SPNCRNA.05   \n",
       "\n",
       "       Name Parent  \n",
       "36261  prl5    NaN  "
      ]
     },
     "execution_count": 42,
     "metadata": {},
     "output_type": "execute_result"
    }
   ],
   "source": [
    "gene_id = \"SPNCRNA.05\"\n",
    "gff[gff['ID'] == gene_id]"
   ]
  },
  {
   "cell_type": "code",
   "execution_count": 43,
   "metadata": {},
   "outputs": [],
   "source": [
    "assert(len(ncrna_df) == len(gff[gff['type'].isin(ncrna_features)]))"
   ]
  },
  {
   "cell_type": "markdown",
   "metadata": {},
   "source": [
    "   "
   ]
  },
  {
   "cell_type": "markdown",
   "metadata": {},
   "source": [
    "### **I.C. <font color=blue>Pseudogenes</font>**: `Pseudogenic Transcripts (29/29)`"
   ]
  },
  {
   "cell_type": "markdown",
   "metadata": {},
   "source": [
    "Additionally, for **pseudogenes** (`56`) both `gene` and `transcript` features can be found under the `pseudogene` category:\n",
    "- `28` of the `56` **pseudogenes** behave as `transcripts` (e.g. contain a `Parent`, no `gene_id`, contain a `transcript_id`)\n",
    "- the other `28` **pseudogenes** behave as `genes` (e.g. contain no `Parent`, a `gene_id`, no `transcript_id`)"
   ]
  },
  {
   "cell_type": "markdown",
   "metadata": {},
   "source": [
    "- **ID code**: \n",
    " - `SP` (spombe) \n",
    " - {**`A`**: `chr I`, **`B`**: `chr II`, **`C`**: `chr III`}\n",
    " - {**`C`**: `sequenced on cosmids`, **`P`**: `sequenced on plasmids`} \n",
    " - `n_id` (number of group)"
   ]
  },
  {
   "cell_type": "code",
   "execution_count": 44,
   "metadata": {},
   "outputs": [],
   "source": [
    "pseudogene_rna_features = [\"pseudogenic_transcript\"]"
   ]
  },
  {
   "cell_type": "code",
   "execution_count": 45,
   "metadata": {},
   "outputs": [
    {
     "data": {
      "text/html": [
       "<div>\n",
       "<style scoped>\n",
       "    .dataframe tbody tr th:only-of-type {\n",
       "        vertical-align: middle;\n",
       "    }\n",
       "\n",
       "    .dataframe tbody tr th {\n",
       "        vertical-align: top;\n",
       "    }\n",
       "\n",
       "    .dataframe thead th {\n",
       "        text-align: right;\n",
       "    }\n",
       "</style>\n",
       "<table border=\"1\" class=\"dataframe\">\n",
       "  <thead>\n",
       "    <tr style=\"text-align: right;\">\n",
       "      <th></th>\n",
       "      <th>ID</th>\n",
       "    </tr>\n",
       "    <tr>\n",
       "      <th>type</th>\n",
       "      <th></th>\n",
       "    </tr>\n",
       "  </thead>\n",
       "  <tbody>\n",
       "    <tr>\n",
       "      <th>pseudogenic_transcript</th>\n",
       "      <td>29</td>\n",
       "    </tr>\n",
       "  </tbody>\n",
       "</table>\n",
       "</div>"
      ],
      "text/plain": [
       "                        ID\n",
       "type                      \n",
       "pseudogenic_transcript  29"
      ]
     },
     "execution_count": 45,
     "metadata": {},
     "output_type": "execute_result"
    }
   ],
   "source": [
    "gff_by_type.loc[pseudogene_rna_features]"
   ]
  },
  {
   "cell_type": "markdown",
   "metadata": {},
   "source": [
    "- **pseudogenic_transcripts**:"
   ]
  },
  {
   "cell_type": "code",
   "execution_count": 46,
   "metadata": {},
   "outputs": [
    {
     "data": {
      "text/html": [
       "<div>\n",
       "<style scoped>\n",
       "    .dataframe tbody tr th:only-of-type {\n",
       "        vertical-align: middle;\n",
       "    }\n",
       "\n",
       "    .dataframe tbody tr th {\n",
       "        vertical-align: top;\n",
       "    }\n",
       "\n",
       "    .dataframe thead th {\n",
       "        text-align: right;\n",
       "    }\n",
       "</style>\n",
       "<table border=\"1\" class=\"dataframe\">\n",
       "  <thead>\n",
       "    <tr style=\"text-align: right;\">\n",
       "      <th></th>\n",
       "      <th>seqid</th>\n",
       "      <th>source</th>\n",
       "      <th>type</th>\n",
       "      <th>start</th>\n",
       "      <th>end</th>\n",
       "      <th>score</th>\n",
       "      <th>strand</th>\n",
       "      <th>phase</th>\n",
       "      <th>ID</th>\n",
       "      <th>Parent</th>\n",
       "      <th>gene_id</th>\n",
       "      <th>gene_name</th>\n",
       "      <th>transcript_id</th>\n",
       "    </tr>\n",
       "  </thead>\n",
       "  <tbody>\n",
       "    <tr>\n",
       "      <th>847</th>\n",
       "      <td>I</td>\n",
       "      <td>PomBase</td>\n",
       "      <td>pseudogenic_transcript</td>\n",
       "      <td>5726</td>\n",
       "      <td>6331</td>\n",
       "      <td>.</td>\n",
       "      <td>-</td>\n",
       "      <td>.</td>\n",
       "      <td>SPAC212.10.1</td>\n",
       "      <td>SPAC212.10</td>\n",
       "      <td>SPAC212.10</td>\n",
       "      <td>NaN</td>\n",
       "      <td>SPAC212.10.1</td>\n",
       "    </tr>\n",
       "    <tr>\n",
       "      <th>7000</th>\n",
       "      <td>I</td>\n",
       "      <td>PomBase</td>\n",
       "      <td>pseudogenic_transcript</td>\n",
       "      <td>5726</td>\n",
       "      <td>6331</td>\n",
       "      <td>.</td>\n",
       "      <td>+</td>\n",
       "      <td>.</td>\n",
       "      <td>SPAC212.10b.1</td>\n",
       "      <td>SPAC212.10b</td>\n",
       "      <td>SPAC212.10b</td>\n",
       "      <td>SPAC212.10_plus</td>\n",
       "      <td>SPAC212.10b.1</td>\n",
       "    </tr>\n",
       "    <tr>\n",
       "      <th>846</th>\n",
       "      <td>I</td>\n",
       "      <td>PomBase</td>\n",
       "      <td>pseudogenic_transcript</td>\n",
       "      <td>7619</td>\n",
       "      <td>9274</td>\n",
       "      <td>.</td>\n",
       "      <td>+</td>\n",
       "      <td>.</td>\n",
       "      <td>SPAC212.09c.1</td>\n",
       "      <td>SPAC212.09c</td>\n",
       "      <td>SPAC212.09c</td>\n",
       "      <td>NaN</td>\n",
       "      <td>SPAC212.09c.1</td>\n",
       "    </tr>\n",
       "    <tr>\n",
       "      <th>844</th>\n",
       "      <td>I</td>\n",
       "      <td>PomBase</td>\n",
       "      <td>pseudogenic_transcript</td>\n",
       "      <td>13665</td>\n",
       "      <td>14555</td>\n",
       "      <td>.</td>\n",
       "      <td>+</td>\n",
       "      <td>.</td>\n",
       "      <td>SPAC212.07c.1</td>\n",
       "      <td>SPAC212.07c</td>\n",
       "      <td>SPAC212.07c</td>\n",
       "      <td>NaN</td>\n",
       "      <td>SPAC212.07c.1</td>\n",
       "    </tr>\n",
       "    <tr>\n",
       "      <th>842</th>\n",
       "      <td>I</td>\n",
       "      <td>PomBase</td>\n",
       "      <td>pseudogenic_transcript</td>\n",
       "      <td>20824</td>\n",
       "      <td>21015</td>\n",
       "      <td>.</td>\n",
       "      <td>+</td>\n",
       "      <td>.</td>\n",
       "      <td>SPAC212.05c.1</td>\n",
       "      <td>SPAC212.05c</td>\n",
       "      <td>SPAC212.05c</td>\n",
       "      <td>NaN</td>\n",
       "      <td>SPAC212.05c.1</td>\n",
       "    </tr>\n",
       "    <tr>\n",
       "      <th>2150</th>\n",
       "      <td>I</td>\n",
       "      <td>PomBase</td>\n",
       "      <td>pseudogenic_transcript</td>\n",
       "      <td>58277</td>\n",
       "      <td>59105</td>\n",
       "      <td>.</td>\n",
       "      <td>-</td>\n",
       "      <td>.</td>\n",
       "      <td>SPAC977.13c.1</td>\n",
       "      <td>SPAC977.13c</td>\n",
       "      <td>SPAC977.13c</td>\n",
       "      <td>NaN</td>\n",
       "      <td>SPAC977.13c.1</td>\n",
       "    </tr>\n",
       "    <tr>\n",
       "      <th>2304</th>\n",
       "      <td>I</td>\n",
       "      <td>PomBase</td>\n",
       "      <td>pseudogenic_transcript</td>\n",
       "      <td>2954983</td>\n",
       "      <td>2955377</td>\n",
       "      <td>.</td>\n",
       "      <td>-</td>\n",
       "      <td>.</td>\n",
       "      <td>SPAPB24D3.05c.1</td>\n",
       "      <td>SPAPB24D3.05c</td>\n",
       "      <td>SPAPB24D3.05c</td>\n",
       "      <td>NaN</td>\n",
       "      <td>SPAPB24D3.05c.1</td>\n",
       "    </tr>\n",
       "    <tr>\n",
       "      <th>1035</th>\n",
       "      <td>I</td>\n",
       "      <td>PomBase</td>\n",
       "      <td>pseudogenic_transcript</td>\n",
       "      <td>4344572</td>\n",
       "      <td>4346170</td>\n",
       "      <td>.</td>\n",
       "      <td>-</td>\n",
       "      <td>.</td>\n",
       "      <td>SPAC23D3.05c.1</td>\n",
       "      <td>SPAC23D3.05c</td>\n",
       "      <td>SPAC23D3.05c</td>\n",
       "      <td>NaN</td>\n",
       "      <td>SPAC23D3.05c.1</td>\n",
       "    </tr>\n",
       "    <tr>\n",
       "      <th>1312</th>\n",
       "      <td>I</td>\n",
       "      <td>PomBase</td>\n",
       "      <td>pseudogenic_transcript</td>\n",
       "      <td>5063258</td>\n",
       "      <td>5066231</td>\n",
       "      <td>.</td>\n",
       "      <td>+</td>\n",
       "      <td>.</td>\n",
       "      <td>SPAC2E12.05.1</td>\n",
       "      <td>SPAC2E12.05</td>\n",
       "      <td>SPAC2E12.05</td>\n",
       "      <td>wtf1</td>\n",
       "      <td>SPAC2E12.05.1</td>\n",
       "    </tr>\n",
       "    <tr>\n",
       "      <th>2584</th>\n",
       "      <td>II</td>\n",
       "      <td>PomBase</td>\n",
       "      <td>pseudogenic_transcript</td>\n",
       "      <td>33231</td>\n",
       "      <td>34780</td>\n",
       "      <td>.</td>\n",
       "      <td>+</td>\n",
       "      <td>.</td>\n",
       "      <td>SPBC1348.11.1</td>\n",
       "      <td>SPBC1348.11</td>\n",
       "      <td>SPBC1348.11</td>\n",
       "      <td>NaN</td>\n",
       "      <td>SPBC1348.11.1</td>\n",
       "    </tr>\n",
       "    <tr>\n",
       "      <th>4243</th>\n",
       "      <td>II</td>\n",
       "      <td>PomBase</td>\n",
       "      <td>pseudogenic_transcript</td>\n",
       "      <td>68355</td>\n",
       "      <td>68852</td>\n",
       "      <td>.</td>\n",
       "      <td>+</td>\n",
       "      <td>.</td>\n",
       "      <td>SPBPB21E7.06.1</td>\n",
       "      <td>SPBPB21E7.06</td>\n",
       "      <td>SPBPB21E7.06</td>\n",
       "      <td>NaN</td>\n",
       "      <td>SPBPB21E7.06.1</td>\n",
       "    </tr>\n",
       "    <tr>\n",
       "      <th>4245</th>\n",
       "      <td>II</td>\n",
       "      <td>PomBase</td>\n",
       "      <td>pseudogenic_transcript</td>\n",
       "      <td>72081</td>\n",
       "      <td>73390</td>\n",
       "      <td>.</td>\n",
       "      <td>+</td>\n",
       "      <td>.</td>\n",
       "      <td>SPBPB21E7.08.1</td>\n",
       "      <td>SPBPB21E7.08</td>\n",
       "      <td>SPBPB21E7.08</td>\n",
       "      <td>NaN</td>\n",
       "      <td>SPBPB21E7.08.1</td>\n",
       "    </tr>\n",
       "    <tr>\n",
       "      <th>4234</th>\n",
       "      <td>II</td>\n",
       "      <td>PomBase</td>\n",
       "      <td>pseudogenic_transcript</td>\n",
       "      <td>87727</td>\n",
       "      <td>89029</td>\n",
       "      <td>.</td>\n",
       "      <td>+</td>\n",
       "      <td>.</td>\n",
       "      <td>SPBPB10D8.03.1</td>\n",
       "      <td>SPBPB10D8.03</td>\n",
       "      <td>SPBPB10D8.03</td>\n",
       "      <td>NaN</td>\n",
       "      <td>SPBPB10D8.03.1</td>\n",
       "    </tr>\n",
       "    <tr>\n",
       "      <th>2861</th>\n",
       "      <td>II</td>\n",
       "      <td>PomBase</td>\n",
       "      <td>pseudogenic_transcript</td>\n",
       "      <td>593188</td>\n",
       "      <td>593575</td>\n",
       "      <td>.</td>\n",
       "      <td>-</td>\n",
       "      <td>.</td>\n",
       "      <td>SPBC1706.02c.1</td>\n",
       "      <td>SPBC1706.02c</td>\n",
       "      <td>SPBC1706.02c</td>\n",
       "      <td>wtf2</td>\n",
       "      <td>SPBC1706.02c.1</td>\n",
       "    </tr>\n",
       "    <tr>\n",
       "      <th>3477</th>\n",
       "      <td>II</td>\n",
       "      <td>PomBase</td>\n",
       "      <td>pseudogenic_transcript</td>\n",
       "      <td>1268093</td>\n",
       "      <td>1268452</td>\n",
       "      <td>.</td>\n",
       "      <td>+</td>\n",
       "      <td>.</td>\n",
       "      <td>SPBC31A8.02.1</td>\n",
       "      <td>SPBC31A8.02</td>\n",
       "      <td>SPBC31A8.02</td>\n",
       "      <td>NaN</td>\n",
       "      <td>SPBC31A8.02.1</td>\n",
       "    </tr>\n",
       "    <tr>\n",
       "      <th>3018</th>\n",
       "      <td>II</td>\n",
       "      <td>PomBase</td>\n",
       "      <td>pseudogenic_transcript</td>\n",
       "      <td>2091892</td>\n",
       "      <td>2092234</td>\n",
       "      <td>.</td>\n",
       "      <td>+</td>\n",
       "      <td>.</td>\n",
       "      <td>SPBC18E5.15.1</td>\n",
       "      <td>SPBC18E5.15</td>\n",
       "      <td>SPBC18E5.15</td>\n",
       "      <td>NaN</td>\n",
       "      <td>SPBC18E5.15.1</td>\n",
       "    </tr>\n",
       "    <tr>\n",
       "      <th>4118</th>\n",
       "      <td>II</td>\n",
       "      <td>PomBase</td>\n",
       "      <td>pseudogenic_transcript</td>\n",
       "      <td>4515203</td>\n",
       "      <td>4515379</td>\n",
       "      <td>.</td>\n",
       "      <td>-</td>\n",
       "      <td>.</td>\n",
       "      <td>SPBCPT2R1.05c.1</td>\n",
       "      <td>SPBCPT2R1.05c</td>\n",
       "      <td>SPBCPT2R1.05c</td>\n",
       "      <td>NaN</td>\n",
       "      <td>SPBCPT2R1.05c.1</td>\n",
       "    </tr>\n",
       "    <tr>\n",
       "      <th>4119</th>\n",
       "      <td>II</td>\n",
       "      <td>PomBase</td>\n",
       "      <td>pseudogenic_transcript</td>\n",
       "      <td>4519772</td>\n",
       "      <td>4520391</td>\n",
       "      <td>.</td>\n",
       "      <td>-</td>\n",
       "      <td>.</td>\n",
       "      <td>SPBCPT2R1.06c.1</td>\n",
       "      <td>SPBCPT2R1.06c</td>\n",
       "      <td>SPBCPT2R1.06c</td>\n",
       "      <td>NaN</td>\n",
       "      <td>SPBCPT2R1.06c.1</td>\n",
       "    </tr>\n",
       "    <tr>\n",
       "      <th>4120</th>\n",
       "      <td>II</td>\n",
       "      <td>PomBase</td>\n",
       "      <td>pseudogenic_transcript</td>\n",
       "      <td>4523274</td>\n",
       "      <td>4524970</td>\n",
       "      <td>.</td>\n",
       "      <td>-</td>\n",
       "      <td>.</td>\n",
       "      <td>SPBCPT2R1.07c.1</td>\n",
       "      <td>SPBCPT2R1.07c</td>\n",
       "      <td>SPBCPT2R1.07c</td>\n",
       "      <td>NaN</td>\n",
       "      <td>SPBCPT2R1.07c.1</td>\n",
       "    </tr>\n",
       "    <tr>\n",
       "      <th>4122</th>\n",
       "      <td>II</td>\n",
       "      <td>PomBase</td>\n",
       "      <td>pseudogenic_transcript</td>\n",
       "      <td>4526225</td>\n",
       "      <td>4526884</td>\n",
       "      <td>.</td>\n",
       "      <td>+</td>\n",
       "      <td>.</td>\n",
       "      <td>SPBCPT2R1.10.1</td>\n",
       "      <td>SPBCPT2R1.10</td>\n",
       "      <td>SPBCPT2R1.10</td>\n",
       "      <td>NaN</td>\n",
       "      <td>SPBCPT2R1.10.1</td>\n",
       "    </tr>\n",
       "    <tr>\n",
       "      <th>5251</th>\n",
       "      <td>III</td>\n",
       "      <td>PomBase</td>\n",
       "      <td>pseudogenic_transcript</td>\n",
       "      <td>32624</td>\n",
       "      <td>33393</td>\n",
       "      <td>.</td>\n",
       "      <td>+</td>\n",
       "      <td>.</td>\n",
       "      <td>SPCP20C8.03.1</td>\n",
       "      <td>SPCP20C8.03</td>\n",
       "      <td>SPCP20C8.03</td>\n",
       "      <td>NaN</td>\n",
       "      <td>SPCP20C8.03.1</td>\n",
       "    </tr>\n",
       "    <tr>\n",
       "      <th>4944</th>\n",
       "      <td>III</td>\n",
       "      <td>PomBase</td>\n",
       "      <td>pseudogenic_transcript</td>\n",
       "      <td>219185</td>\n",
       "      <td>220283</td>\n",
       "      <td>.</td>\n",
       "      <td>-</td>\n",
       "      <td>.</td>\n",
       "      <td>SPCC548.02c.1</td>\n",
       "      <td>SPCC548.02c</td>\n",
       "      <td>SPCC548.02c</td>\n",
       "      <td>wtf3</td>\n",
       "      <td>SPCC548.02c.1</td>\n",
       "    </tr>\n",
       "    <tr>\n",
       "      <th>4726</th>\n",
       "      <td>III</td>\n",
       "      <td>PomBase</td>\n",
       "      <td>pseudogenic_transcript</td>\n",
       "      <td>717851</td>\n",
       "      <td>718869</td>\n",
       "      <td>.</td>\n",
       "      <td>-</td>\n",
       "      <td>.</td>\n",
       "      <td>SPCC18B5.02c.1</td>\n",
       "      <td>SPCC18B5.02c</td>\n",
       "      <td>SPCC18B5.02c</td>\n",
       "      <td>NaN</td>\n",
       "      <td>SPCC18B5.02c.1</td>\n",
       "    </tr>\n",
       "    <tr>\n",
       "      <th>4460</th>\n",
       "      <td>III</td>\n",
       "      <td>PomBase</td>\n",
       "      <td>pseudogenic_transcript</td>\n",
       "      <td>1338711</td>\n",
       "      <td>1340098</td>\n",
       "      <td>.</td>\n",
       "      <td>-</td>\n",
       "      <td>.</td>\n",
       "      <td>SPCC132.05c.1</td>\n",
       "      <td>SPCC132.05c</td>\n",
       "      <td>SPCC132.05c</td>\n",
       "      <td>NaN</td>\n",
       "      <td>SPCC132.05c.1</td>\n",
       "    </tr>\n",
       "    <tr>\n",
       "      <th>4718</th>\n",
       "      <td>III</td>\n",
       "      <td>PomBase</td>\n",
       "      <td>pseudogenic_transcript</td>\n",
       "      <td>1497980</td>\n",
       "      <td>1500664</td>\n",
       "      <td>.</td>\n",
       "      <td>-</td>\n",
       "      <td>.</td>\n",
       "      <td>SPCC188.10c.1</td>\n",
       "      <td>SPCC188.10c</td>\n",
       "      <td>SPCC188.10c</td>\n",
       "      <td>NaN</td>\n",
       "      <td>SPCC188.10c.1</td>\n",
       "    </tr>\n",
       "    <tr>\n",
       "      <th>5095</th>\n",
       "      <td>III</td>\n",
       "      <td>PomBase</td>\n",
       "      <td>pseudogenic_transcript</td>\n",
       "      <td>1646645</td>\n",
       "      <td>1647396</td>\n",
       "      <td>.</td>\n",
       "      <td>-</td>\n",
       "      <td>.</td>\n",
       "      <td>SPCC663.07c.1</td>\n",
       "      <td>SPCC663.07c</td>\n",
       "      <td>SPCC663.07c</td>\n",
       "      <td>NaN</td>\n",
       "      <td>SPCC663.07c.1</td>\n",
       "    </tr>\n",
       "    <tr>\n",
       "      <th>4512</th>\n",
       "      <td>III</td>\n",
       "      <td>PomBase</td>\n",
       "      <td>pseudogenic_transcript</td>\n",
       "      <td>1726173</td>\n",
       "      <td>1727116</td>\n",
       "      <td>.</td>\n",
       "      <td>-</td>\n",
       "      <td>.</td>\n",
       "      <td>SPCC1450.01c.1</td>\n",
       "      <td>SPCC1450.01c</td>\n",
       "      <td>SPCC1450.01c</td>\n",
       "      <td>NaN</td>\n",
       "      <td>SPCC1450.01c.1</td>\n",
       "    </tr>\n",
       "    <tr>\n",
       "      <th>5001</th>\n",
       "      <td>III</td>\n",
       "      <td>PomBase</td>\n",
       "      <td>pseudogenic_transcript</td>\n",
       "      <td>2109181</td>\n",
       "      <td>2110528</td>\n",
       "      <td>.</td>\n",
       "      <td>-</td>\n",
       "      <td>.</td>\n",
       "      <td>SPCC576.16c.1</td>\n",
       "      <td>SPCC576.16c</td>\n",
       "      <td>SPCC576.16c</td>\n",
       "      <td>wtf22</td>\n",
       "      <td>SPCC576.16c.1</td>\n",
       "    </tr>\n",
       "    <tr>\n",
       "      <th>5192</th>\n",
       "      <td>III</td>\n",
       "      <td>PomBase</td>\n",
       "      <td>pseudogenic_transcript</td>\n",
       "      <td>2181204</td>\n",
       "      <td>2182504</td>\n",
       "      <td>.</td>\n",
       "      <td>+</td>\n",
       "      <td>.</td>\n",
       "      <td>SPCC830.02.1</td>\n",
       "      <td>SPCC830.02</td>\n",
       "      <td>SPCC830.02</td>\n",
       "      <td>wtf24</td>\n",
       "      <td>SPCC830.02.1</td>\n",
       "    </tr>\n",
       "  </tbody>\n",
       "</table>\n",
       "</div>"
      ],
      "text/plain": [
       "     seqid   source                    type    start      end score strand  \\\n",
       "847      I  PomBase  pseudogenic_transcript     5726     6331     .      -   \n",
       "7000     I  PomBase  pseudogenic_transcript     5726     6331     .      +   \n",
       "846      I  PomBase  pseudogenic_transcript     7619     9274     .      +   \n",
       "844      I  PomBase  pseudogenic_transcript    13665    14555     .      +   \n",
       "842      I  PomBase  pseudogenic_transcript    20824    21015     .      +   \n",
       "2150     I  PomBase  pseudogenic_transcript    58277    59105     .      -   \n",
       "2304     I  PomBase  pseudogenic_transcript  2954983  2955377     .      -   \n",
       "1035     I  PomBase  pseudogenic_transcript  4344572  4346170     .      -   \n",
       "1312     I  PomBase  pseudogenic_transcript  5063258  5066231     .      +   \n",
       "2584    II  PomBase  pseudogenic_transcript    33231    34780     .      +   \n",
       "4243    II  PomBase  pseudogenic_transcript    68355    68852     .      +   \n",
       "4245    II  PomBase  pseudogenic_transcript    72081    73390     .      +   \n",
       "4234    II  PomBase  pseudogenic_transcript    87727    89029     .      +   \n",
       "2861    II  PomBase  pseudogenic_transcript   593188   593575     .      -   \n",
       "3477    II  PomBase  pseudogenic_transcript  1268093  1268452     .      +   \n",
       "3018    II  PomBase  pseudogenic_transcript  2091892  2092234     .      +   \n",
       "4118    II  PomBase  pseudogenic_transcript  4515203  4515379     .      -   \n",
       "4119    II  PomBase  pseudogenic_transcript  4519772  4520391     .      -   \n",
       "4120    II  PomBase  pseudogenic_transcript  4523274  4524970     .      -   \n",
       "4122    II  PomBase  pseudogenic_transcript  4526225  4526884     .      +   \n",
       "5251   III  PomBase  pseudogenic_transcript    32624    33393     .      +   \n",
       "4944   III  PomBase  pseudogenic_transcript   219185   220283     .      -   \n",
       "4726   III  PomBase  pseudogenic_transcript   717851   718869     .      -   \n",
       "4460   III  PomBase  pseudogenic_transcript  1338711  1340098     .      -   \n",
       "4718   III  PomBase  pseudogenic_transcript  1497980  1500664     .      -   \n",
       "5095   III  PomBase  pseudogenic_transcript  1646645  1647396     .      -   \n",
       "4512   III  PomBase  pseudogenic_transcript  1726173  1727116     .      -   \n",
       "5001   III  PomBase  pseudogenic_transcript  2109181  2110528     .      -   \n",
       "5192   III  PomBase  pseudogenic_transcript  2181204  2182504     .      +   \n",
       "\n",
       "     phase               ID         Parent        gene_id        gene_name  \\\n",
       "847      .     SPAC212.10.1     SPAC212.10     SPAC212.10              NaN   \n",
       "7000     .    SPAC212.10b.1    SPAC212.10b    SPAC212.10b  SPAC212.10_plus   \n",
       "846      .    SPAC212.09c.1    SPAC212.09c    SPAC212.09c              NaN   \n",
       "844      .    SPAC212.07c.1    SPAC212.07c    SPAC212.07c              NaN   \n",
       "842      .    SPAC212.05c.1    SPAC212.05c    SPAC212.05c              NaN   \n",
       "2150     .    SPAC977.13c.1    SPAC977.13c    SPAC977.13c              NaN   \n",
       "2304     .  SPAPB24D3.05c.1  SPAPB24D3.05c  SPAPB24D3.05c              NaN   \n",
       "1035     .   SPAC23D3.05c.1   SPAC23D3.05c   SPAC23D3.05c              NaN   \n",
       "1312     .    SPAC2E12.05.1    SPAC2E12.05    SPAC2E12.05             wtf1   \n",
       "2584     .    SPBC1348.11.1    SPBC1348.11    SPBC1348.11              NaN   \n",
       "4243     .   SPBPB21E7.06.1   SPBPB21E7.06   SPBPB21E7.06              NaN   \n",
       "4245     .   SPBPB21E7.08.1   SPBPB21E7.08   SPBPB21E7.08              NaN   \n",
       "4234     .   SPBPB10D8.03.1   SPBPB10D8.03   SPBPB10D8.03              NaN   \n",
       "2861     .   SPBC1706.02c.1   SPBC1706.02c   SPBC1706.02c             wtf2   \n",
       "3477     .    SPBC31A8.02.1    SPBC31A8.02    SPBC31A8.02              NaN   \n",
       "3018     .    SPBC18E5.15.1    SPBC18E5.15    SPBC18E5.15              NaN   \n",
       "4118     .  SPBCPT2R1.05c.1  SPBCPT2R1.05c  SPBCPT2R1.05c              NaN   \n",
       "4119     .  SPBCPT2R1.06c.1  SPBCPT2R1.06c  SPBCPT2R1.06c              NaN   \n",
       "4120     .  SPBCPT2R1.07c.1  SPBCPT2R1.07c  SPBCPT2R1.07c              NaN   \n",
       "4122     .   SPBCPT2R1.10.1   SPBCPT2R1.10   SPBCPT2R1.10              NaN   \n",
       "5251     .    SPCP20C8.03.1    SPCP20C8.03    SPCP20C8.03              NaN   \n",
       "4944     .    SPCC548.02c.1    SPCC548.02c    SPCC548.02c             wtf3   \n",
       "4726     .   SPCC18B5.02c.1   SPCC18B5.02c   SPCC18B5.02c              NaN   \n",
       "4460     .    SPCC132.05c.1    SPCC132.05c    SPCC132.05c              NaN   \n",
       "4718     .    SPCC188.10c.1    SPCC188.10c    SPCC188.10c              NaN   \n",
       "5095     .    SPCC663.07c.1    SPCC663.07c    SPCC663.07c              NaN   \n",
       "4512     .   SPCC1450.01c.1   SPCC1450.01c   SPCC1450.01c              NaN   \n",
       "5001     .    SPCC576.16c.1    SPCC576.16c    SPCC576.16c            wtf22   \n",
       "5192     .     SPCC830.02.1     SPCC830.02     SPCC830.02            wtf24   \n",
       "\n",
       "        transcript_id  \n",
       "847      SPAC212.10.1  \n",
       "7000    SPAC212.10b.1  \n",
       "846     SPAC212.09c.1  \n",
       "844     SPAC212.07c.1  \n",
       "842     SPAC212.05c.1  \n",
       "2150    SPAC977.13c.1  \n",
       "2304  SPAPB24D3.05c.1  \n",
       "1035   SPAC23D3.05c.1  \n",
       "1312    SPAC2E12.05.1  \n",
       "2584    SPBC1348.11.1  \n",
       "4243   SPBPB21E7.06.1  \n",
       "4245   SPBPB21E7.08.1  \n",
       "4234   SPBPB10D8.03.1  \n",
       "2861   SPBC1706.02c.1  \n",
       "3477    SPBC31A8.02.1  \n",
       "3018    SPBC18E5.15.1  \n",
       "4118  SPBCPT2R1.05c.1  \n",
       "4119  SPBCPT2R1.06c.1  \n",
       "4120  SPBCPT2R1.07c.1  \n",
       "4122   SPBCPT2R1.10.1  \n",
       "5251    SPCP20C8.03.1  \n",
       "4944    SPCC548.02c.1  \n",
       "4726   SPCC18B5.02c.1  \n",
       "4460    SPCC132.05c.1  \n",
       "4718    SPCC188.10c.1  \n",
       "5095    SPCC663.07c.1  \n",
       "4512   SPCC1450.01c.1  \n",
       "5001    SPCC576.16c.1  \n",
       "5192     SPCC830.02.1  "
      ]
     },
     "execution_count": 46,
     "metadata": {},
     "output_type": "execute_result"
    }
   ],
   "source": [
    "pseudogene_rna_df = transcript_df[transcript_df['type'].isin(pseudogene_rna_features)].sort_values(['seqid', 'start', 'end'])\n",
    "pseudogene_rna_df"
   ]
  },
  {
   "cell_type": "code",
   "execution_count": 47,
   "metadata": {},
   "outputs": [
    {
     "data": {
      "text/plain": [
       "(29, 13)"
      ]
     },
     "execution_count": 47,
     "metadata": {},
     "output_type": "execute_result"
    }
   ],
   "source": [
    "pseudogene_rna_df.shape"
   ]
  },
  {
   "cell_type": "markdown",
   "metadata": {},
   "source": [
    "- **pseudogenic_transcripts** (Example): Transcript (has a `Parent: gene`)"
   ]
  },
  {
   "cell_type": "code",
   "execution_count": 48,
   "metadata": {},
   "outputs": [
    {
     "data": {
      "text/html": [
       "<div>\n",
       "<style scoped>\n",
       "    .dataframe tbody tr th:only-of-type {\n",
       "        vertical-align: middle;\n",
       "    }\n",
       "\n",
       "    .dataframe tbody tr th {\n",
       "        vertical-align: top;\n",
       "    }\n",
       "\n",
       "    .dataframe thead th {\n",
       "        text-align: right;\n",
       "    }\n",
       "</style>\n",
       "<table border=\"1\" class=\"dataframe\">\n",
       "  <thead>\n",
       "    <tr style=\"text-align: right;\">\n",
       "      <th></th>\n",
       "      <th>seqid</th>\n",
       "      <th>source</th>\n",
       "      <th>type</th>\n",
       "      <th>start</th>\n",
       "      <th>end</th>\n",
       "      <th>score</th>\n",
       "      <th>strand</th>\n",
       "      <th>phase</th>\n",
       "      <th>ID</th>\n",
       "      <th>Parent</th>\n",
       "      <th>gene_id</th>\n",
       "      <th>gene_name</th>\n",
       "      <th>transcript_id</th>\n",
       "    </tr>\n",
       "  </thead>\n",
       "  <tbody>\n",
       "    <tr>\n",
       "      <th>847</th>\n",
       "      <td>I</td>\n",
       "      <td>PomBase</td>\n",
       "      <td>pseudogenic_transcript</td>\n",
       "      <td>5726</td>\n",
       "      <td>6331</td>\n",
       "      <td>.</td>\n",
       "      <td>-</td>\n",
       "      <td>.</td>\n",
       "      <td>SPAC212.10.1</td>\n",
       "      <td>SPAC212.10</td>\n",
       "      <td>SPAC212.10</td>\n",
       "      <td>NaN</td>\n",
       "      <td>SPAC212.10.1</td>\n",
       "    </tr>\n",
       "  </tbody>\n",
       "</table>\n",
       "</div>"
      ],
      "text/plain": [
       "    seqid   source                    type  start   end score strand phase  \\\n",
       "847     I  PomBase  pseudogenic_transcript   5726  6331     .      -     .   \n",
       "\n",
       "               ID      Parent     gene_id gene_name transcript_id  \n",
       "847  SPAC212.10.1  SPAC212.10  SPAC212.10       NaN  SPAC212.10.1  "
      ]
     },
     "execution_count": 48,
     "metadata": {},
     "output_type": "execute_result"
    }
   ],
   "source": [
    "pseudogene_rna_id = \"SPAC212.10.1\"\n",
    "pseudogene_rna_df[pseudogene_rna_df['ID'] == pseudogene_rna_id]"
   ]
  },
  {
   "cell_type": "markdown",
   "metadata": {},
   "source": [
    "- corresponding **gene** (Example): top feature (has **NO** `Parent`)"
   ]
  },
  {
   "cell_type": "code",
   "execution_count": 49,
   "metadata": {},
   "outputs": [
    {
     "data": {
      "text/html": [
       "<div>\n",
       "<style scoped>\n",
       "    .dataframe tbody tr th:only-of-type {\n",
       "        vertical-align: middle;\n",
       "    }\n",
       "\n",
       "    .dataframe tbody tr th {\n",
       "        vertical-align: top;\n",
       "    }\n",
       "\n",
       "    .dataframe thead th {\n",
       "        text-align: right;\n",
       "    }\n",
       "</style>\n",
       "<table border=\"1\" class=\"dataframe\">\n",
       "  <thead>\n",
       "    <tr style=\"text-align: right;\">\n",
       "      <th></th>\n",
       "      <th>seqid</th>\n",
       "      <th>source</th>\n",
       "      <th>type</th>\n",
       "      <th>start</th>\n",
       "      <th>end</th>\n",
       "      <th>score</th>\n",
       "      <th>strand</th>\n",
       "      <th>phase</th>\n",
       "      <th>ID</th>\n",
       "      <th>Name</th>\n",
       "      <th>Parent</th>\n",
       "    </tr>\n",
       "  </thead>\n",
       "  <tbody>\n",
       "    <tr>\n",
       "      <th>5887</th>\n",
       "      <td>I</td>\n",
       "      <td>PomBase</td>\n",
       "      <td>gene</td>\n",
       "      <td>5726</td>\n",
       "      <td>6331</td>\n",
       "      <td>.</td>\n",
       "      <td>-</td>\n",
       "      <td>.</td>\n",
       "      <td>SPAC212.10</td>\n",
       "      <td>NaN</td>\n",
       "      <td>NaN</td>\n",
       "    </tr>\n",
       "  </tbody>\n",
       "</table>\n",
       "</div>"
      ],
      "text/plain": [
       "     seqid   source  type  start   end score strand phase          ID Name  \\\n",
       "5887     I  PomBase  gene   5726  6331     .      -     .  SPAC212.10  NaN   \n",
       "\n",
       "     Parent  \n",
       "5887    NaN  "
      ]
     },
     "execution_count": 49,
     "metadata": {},
     "output_type": "execute_result"
    }
   ],
   "source": [
    "gene_id =  \"SPAC212.10\"\n",
    "gff[gff['ID'] == gene_id]"
   ]
  },
  {
   "cell_type": "code",
   "execution_count": 50,
   "metadata": {},
   "outputs": [],
   "source": [
    "assert(len(pseudogene_rna_df) == len(gff[gff['type'].isin(pseudogene_rna_features)]))"
   ]
  },
  {
   "cell_type": "markdown",
   "metadata": {},
   "source": [
    "   "
   ]
  },
  {
   "cell_type": "code",
   "execution_count": 51,
   "metadata": {},
   "outputs": [],
   "source": [
    "assert(set(mrna_features + ncrna_features + pseudogene_rna_features) == set(transcript_features))"
   ]
  },
  {
   "cell_type": "code",
   "execution_count": 52,
   "metadata": {},
   "outputs": [],
   "source": [
    "explained_features.extend(transcript_features)"
   ]
  },
  {
   "cell_type": "markdown",
   "metadata": {},
   "source": [
    "---------------------------"
   ]
  },
  {
   "cell_type": "markdown",
   "metadata": {},
   "source": [
    "## **II. Sub-transcript Features** (`27188/27191`)"
   ]
  },
  {
   "cell_type": "markdown",
   "metadata": {},
   "source": [
    "<font color='red'> **Transcript features** are in turn **associated hierarchically** with other **sub-transcript features** present in the `GFF`. </font>\n",
    "\n",
    "* **CDS**: Coding sequence (`12156`)\n",
    "* **Introns**: (`5372`)\n",
    "* **UTRs**: Untranslated Regions (`9654`)"
   ]
  },
  {
   "cell_type": "markdown",
   "metadata": {},
   "source": [
    "A **precursor mRNA (pre-mRNA)** is a type of primary transcript that becomes a **messenger RNA (mRNA)** after processing  in preparation for **translation**.\n",
    "\n",
    "<font color='red'> **NB: sub-transcript features** are associated NOT ONLY with **mRNA** (protein coding) but also with **ncRNA** and **pseudogenes**. </font>"
   ]
  },
  {
   "cell_type": "markdown",
   "metadata": {},
   "source": [
    "!['pre_mrna'](https://upload.wikimedia.org/wikipedia/commons/thumb/5/5a/Pre-mRNA.svg/500px-Pre-mRNA.svg.png)"
   ]
  },
  {
   "cell_type": "markdown",
   "metadata": {},
   "source": [
    "- Get `sub_transcript_df` by filtering the **gff** using `transcript_id` **features** as `Parent`"
   ]
  },
  {
   "cell_type": "code",
   "execution_count": 53,
   "metadata": {},
   "outputs": [
    {
     "data": {
      "text/plain": [
       "(27188, 15)"
      ]
     },
     "execution_count": 53,
     "metadata": {},
     "output_type": "execute_result"
    }
   ],
   "source": [
    "#sub_transcript_df = gff.merge(transcript_df[[\"ID\"]].rename(columns={'ID':'transcript_id'}),\n",
    "sub_transcript_df = gff.merge(transcript_df[[\"gene_id\", \"gene_name\", \"transcript_id\", \"type\"]].rename(columns={'type':'bio_type'}),\n",
    "                          left_on='Parent',\n",
    "                          right_on = 'transcript_id',\n",
    "                          how='inner')\n",
    "sub_transcript_df.shape"
   ]
  },
  {
   "cell_type": "markdown",
   "metadata": {},
   "source": [
    "- Filter `columns` that contain **all NaN's**: in this case the `Name` **column**"
   ]
  },
  {
   "cell_type": "code",
   "execution_count": 54,
   "metadata": {},
   "outputs": [
    {
     "data": {
      "text/html": [
       "<div>\n",
       "<style scoped>\n",
       "    .dataframe tbody tr th:only-of-type {\n",
       "        vertical-align: middle;\n",
       "    }\n",
       "\n",
       "    .dataframe tbody tr th {\n",
       "        vertical-align: top;\n",
       "    }\n",
       "\n",
       "    .dataframe thead th {\n",
       "        text-align: right;\n",
       "    }\n",
       "</style>\n",
       "<table border=\"1\" class=\"dataframe\">\n",
       "  <thead>\n",
       "    <tr style=\"text-align: right;\">\n",
       "      <th></th>\n",
       "      <th>seqid</th>\n",
       "      <th>source</th>\n",
       "      <th>type</th>\n",
       "      <th>start</th>\n",
       "      <th>end</th>\n",
       "      <th>score</th>\n",
       "      <th>strand</th>\n",
       "      <th>phase</th>\n",
       "      <th>ID</th>\n",
       "      <th>Parent</th>\n",
       "      <th>gene_id</th>\n",
       "      <th>gene_name</th>\n",
       "      <th>transcript_id</th>\n",
       "      <th>bio_type</th>\n",
       "    </tr>\n",
       "  </thead>\n",
       "  <tbody>\n",
       "    <tr>\n",
       "      <th>0</th>\n",
       "      <td>I</td>\n",
       "      <td>PomBase</td>\n",
       "      <td>CDS</td>\n",
       "      <td>1798347</td>\n",
       "      <td>1798830</td>\n",
       "      <td>.</td>\n",
       "      <td>+</td>\n",
       "      <td>.</td>\n",
       "      <td>SPAC1002.01.1:exon:1</td>\n",
       "      <td>SPAC1002.01.1</td>\n",
       "      <td>SPAC1002.01</td>\n",
       "      <td>mrx11</td>\n",
       "      <td>SPAC1002.01.1</td>\n",
       "      <td>mRNA</td>\n",
       "    </tr>\n",
       "    <tr>\n",
       "      <th>1</th>\n",
       "      <td>I</td>\n",
       "      <td>PomBase</td>\n",
       "      <td>intron</td>\n",
       "      <td>1798831</td>\n",
       "      <td>1798959</td>\n",
       "      <td>.</td>\n",
       "      <td>+</td>\n",
       "      <td>.</td>\n",
       "      <td>SPAC1002.01.1:intron:1</td>\n",
       "      <td>SPAC1002.01.1</td>\n",
       "      <td>SPAC1002.01</td>\n",
       "      <td>mrx11</td>\n",
       "      <td>SPAC1002.01.1</td>\n",
       "      <td>mRNA</td>\n",
       "    </tr>\n",
       "    <tr>\n",
       "      <th>2</th>\n",
       "      <td>I</td>\n",
       "      <td>PomBase</td>\n",
       "      <td>CDS</td>\n",
       "      <td>1798960</td>\n",
       "      <td>1799015</td>\n",
       "      <td>.</td>\n",
       "      <td>+</td>\n",
       "      <td>.</td>\n",
       "      <td>SPAC1002.01.1:exon:2</td>\n",
       "      <td>SPAC1002.01.1</td>\n",
       "      <td>SPAC1002.01</td>\n",
       "      <td>mrx11</td>\n",
       "      <td>SPAC1002.01.1</td>\n",
       "      <td>mRNA</td>\n",
       "    </tr>\n",
       "    <tr>\n",
       "      <th>3</th>\n",
       "      <td>I</td>\n",
       "      <td>PomBase</td>\n",
       "      <td>five_prime_UTR</td>\n",
       "      <td>1799061</td>\n",
       "      <td>1799127</td>\n",
       "      <td>.</td>\n",
       "      <td>+</td>\n",
       "      <td>.</td>\n",
       "      <td>SPAC1002.02.1:five_prime_UTR:1</td>\n",
       "      <td>SPAC1002.02.1</td>\n",
       "      <td>SPAC1002.02</td>\n",
       "      <td>pom34</td>\n",
       "      <td>SPAC1002.02.1</td>\n",
       "      <td>mRNA</td>\n",
       "    </tr>\n",
       "    <tr>\n",
       "      <th>4</th>\n",
       "      <td>I</td>\n",
       "      <td>PomBase</td>\n",
       "      <td>CDS</td>\n",
       "      <td>1799128</td>\n",
       "      <td>1799817</td>\n",
       "      <td>.</td>\n",
       "      <td>+</td>\n",
       "      <td>.</td>\n",
       "      <td>SPAC1002.02.1:exon:1</td>\n",
       "      <td>SPAC1002.02.1</td>\n",
       "      <td>SPAC1002.02</td>\n",
       "      <td>pom34</td>\n",
       "      <td>SPAC1002.02.1</td>\n",
       "      <td>mRNA</td>\n",
       "    </tr>\n",
       "  </tbody>\n",
       "</table>\n",
       "</div>"
      ],
      "text/plain": [
       "  seqid   source            type    start      end score strand phase  \\\n",
       "0     I  PomBase             CDS  1798347  1798830     .      +     .   \n",
       "1     I  PomBase          intron  1798831  1798959     .      +     .   \n",
       "2     I  PomBase             CDS  1798960  1799015     .      +     .   \n",
       "3     I  PomBase  five_prime_UTR  1799061  1799127     .      +     .   \n",
       "4     I  PomBase             CDS  1799128  1799817     .      +     .   \n",
       "\n",
       "                               ID         Parent      gene_id gene_name  \\\n",
       "0            SPAC1002.01.1:exon:1  SPAC1002.01.1  SPAC1002.01     mrx11   \n",
       "1          SPAC1002.01.1:intron:1  SPAC1002.01.1  SPAC1002.01     mrx11   \n",
       "2            SPAC1002.01.1:exon:2  SPAC1002.01.1  SPAC1002.01     mrx11   \n",
       "3  SPAC1002.02.1:five_prime_UTR:1  SPAC1002.02.1  SPAC1002.02     pom34   \n",
       "4            SPAC1002.02.1:exon:1  SPAC1002.02.1  SPAC1002.02     pom34   \n",
       "\n",
       "   transcript_id bio_type  \n",
       "0  SPAC1002.01.1     mRNA  \n",
       "1  SPAC1002.01.1     mRNA  \n",
       "2  SPAC1002.01.1     mRNA  \n",
       "3  SPAC1002.02.1     mRNA  \n",
       "4  SPAC1002.02.1     mRNA  "
      ]
     },
     "execution_count": 54,
     "metadata": {},
     "output_type": "execute_result"
    }
   ],
   "source": [
    "cols = sub_transcript_df.columns[~sub_transcript_df.isna().all()]\n",
    "sub_transcript_df = sub_transcript_df[cols]\n",
    "sub_transcript_df.head()"
   ]
  },
  {
   "cell_type": "markdown",
   "metadata": {},
   "source": [
    "- Define **sub-transcript features** from `sub_transcript_df`"
   ]
  },
  {
   "cell_type": "code",
   "execution_count": 55,
   "metadata": {},
   "outputs": [
    {
     "data": {
      "text/html": [
       "<div>\n",
       "<style scoped>\n",
       "    .dataframe tbody tr th:only-of-type {\n",
       "        vertical-align: middle;\n",
       "    }\n",
       "\n",
       "    .dataframe tbody tr th {\n",
       "        vertical-align: top;\n",
       "    }\n",
       "\n",
       "    .dataframe thead th {\n",
       "        text-align: right;\n",
       "    }\n",
       "</style>\n",
       "<table border=\"1\" class=\"dataframe\">\n",
       "  <thead>\n",
       "    <tr style=\"text-align: right;\">\n",
       "      <th></th>\n",
       "      <th>transcript_id</th>\n",
       "    </tr>\n",
       "    <tr>\n",
       "      <th>type</th>\n",
       "      <th></th>\n",
       "    </tr>\n",
       "  </thead>\n",
       "  <tbody>\n",
       "    <tr>\n",
       "      <th>CDS</th>\n",
       "      <td>12162</td>\n",
       "    </tr>\n",
       "    <tr>\n",
       "      <th>intron</th>\n",
       "      <td>5372</td>\n",
       "    </tr>\n",
       "    <tr>\n",
       "      <th>five_prime_UTR</th>\n",
       "      <td>4863</td>\n",
       "    </tr>\n",
       "    <tr>\n",
       "      <th>three_prime_UTR</th>\n",
       "      <td>4791</td>\n",
       "    </tr>\n",
       "  </tbody>\n",
       "</table>\n",
       "</div>"
      ],
      "text/plain": [
       "                 transcript_id\n",
       "type                          \n",
       "CDS                      12162\n",
       "intron                    5372\n",
       "five_prime_UTR            4863\n",
       "three_prime_UTR           4791"
      ]
     },
     "execution_count": 55,
     "metadata": {},
     "output_type": "execute_result"
    }
   ],
   "source": [
    "sub_transcripts_df_by_type = sub_transcript_df[['type', 'transcript_id']].groupby(['type']).count()\n",
    "sub_transcripts_df_by_type = sub_transcripts_df_by_type.sort_values(['transcript_id'], ascending=False)\n",
    "sub_transcripts_df_by_type"
   ]
  },
  {
   "cell_type": "code",
   "execution_count": 56,
   "metadata": {},
   "outputs": [
    {
     "data": {
      "text/plain": [
       "['CDS', 'intron', 'five_prime_UTR', 'three_prime_UTR']"
      ]
     },
     "execution_count": 56,
     "metadata": {},
     "output_type": "execute_result"
    }
   ],
   "source": [
    "sub_transcript_features = sub_transcripts_df_by_type.index.tolist()\n",
    "sub_transcript_features"
   ]
  },
  {
   "cell_type": "code",
   "execution_count": 57,
   "metadata": {},
   "outputs": [],
   "source": [
    "sub_transcript_features = [\"CDS\", \"intron\", \"five_prime_UTR\", \"three_prime_UTR\"] "
   ]
  },
  {
   "cell_type": "markdown",
   "metadata": {},
   "source": [
    "- Define **sub-transcript features** from `sub_transcript_df` see breakdown with respect to `bio_type`"
   ]
  },
  {
   "cell_type": "code",
   "execution_count": 58,
   "metadata": {},
   "outputs": [
    {
     "data": {
      "text/html": [
       "<div>\n",
       "<style scoped>\n",
       "    .dataframe tbody tr th:only-of-type {\n",
       "        vertical-align: middle;\n",
       "    }\n",
       "\n",
       "    .dataframe tbody tr th {\n",
       "        vertical-align: top;\n",
       "    }\n",
       "\n",
       "    .dataframe thead th {\n",
       "        text-align: right;\n",
       "    }\n",
       "</style>\n",
       "<table border=\"1\" class=\"dataframe\">\n",
       "  <thead>\n",
       "    <tr style=\"text-align: right;\">\n",
       "      <th></th>\n",
       "      <th></th>\n",
       "      <th>transcript_id</th>\n",
       "    </tr>\n",
       "    <tr>\n",
       "      <th>type</th>\n",
       "      <th>bio_type</th>\n",
       "      <th></th>\n",
       "    </tr>\n",
       "  </thead>\n",
       "  <tbody>\n",
       "    <tr>\n",
       "      <th rowspan=\"7\" valign=\"top\">CDS</th>\n",
       "      <th>mRNA</th>\n",
       "      <td>10223</td>\n",
       "    </tr>\n",
       "    <tr>\n",
       "      <th>ncRNA</th>\n",
       "      <td>1533</td>\n",
       "    </tr>\n",
       "    <tr>\n",
       "      <th>tRNA</th>\n",
       "      <td>240</td>\n",
       "    </tr>\n",
       "    <tr>\n",
       "      <th>snoRNA</th>\n",
       "      <td>58</td>\n",
       "    </tr>\n",
       "    <tr>\n",
       "      <th>pseudogenic_transcript</th>\n",
       "      <td>52</td>\n",
       "    </tr>\n",
       "    <tr>\n",
       "      <th>rRNA</th>\n",
       "      <td>49</td>\n",
       "    </tr>\n",
       "    <tr>\n",
       "      <th>snRNA</th>\n",
       "      <td>7</td>\n",
       "    </tr>\n",
       "    <tr>\n",
       "      <th rowspan=\"2\" valign=\"top\">five_prime_UTR</th>\n",
       "      <th>mRNA</th>\n",
       "      <td>4860</td>\n",
       "    </tr>\n",
       "    <tr>\n",
       "      <th>pseudogenic_transcript</th>\n",
       "      <td>3</td>\n",
       "    </tr>\n",
       "    <tr>\n",
       "      <th rowspan=\"6\" valign=\"top\">intron</th>\n",
       "      <th>mRNA</th>\n",
       "      <td>5298</td>\n",
       "    </tr>\n",
       "    <tr>\n",
       "      <th>tRNA</th>\n",
       "      <td>44</td>\n",
       "    </tr>\n",
       "    <tr>\n",
       "      <th>pseudogenic_transcript</th>\n",
       "      <td>23</td>\n",
       "    </tr>\n",
       "    <tr>\n",
       "      <th>ncRNA</th>\n",
       "      <td>5</td>\n",
       "    </tr>\n",
       "    <tr>\n",
       "      <th>snRNA</th>\n",
       "      <td>1</td>\n",
       "    </tr>\n",
       "    <tr>\n",
       "      <th>snoRNA</th>\n",
       "      <td>1</td>\n",
       "    </tr>\n",
       "    <tr>\n",
       "      <th rowspan=\"2\" valign=\"top\">three_prime_UTR</th>\n",
       "      <th>mRNA</th>\n",
       "      <td>4789</td>\n",
       "    </tr>\n",
       "    <tr>\n",
       "      <th>pseudogenic_transcript</th>\n",
       "      <td>2</td>\n",
       "    </tr>\n",
       "  </tbody>\n",
       "</table>\n",
       "</div>"
      ],
      "text/plain": [
       "                                        transcript_id\n",
       "type            bio_type                             \n",
       "CDS             mRNA                            10223\n",
       "                ncRNA                            1533\n",
       "                tRNA                              240\n",
       "                snoRNA                             58\n",
       "                pseudogenic_transcript             52\n",
       "                rRNA                               49\n",
       "                snRNA                               7\n",
       "five_prime_UTR  mRNA                             4860\n",
       "                pseudogenic_transcript              3\n",
       "intron          mRNA                             5298\n",
       "                tRNA                               44\n",
       "                pseudogenic_transcript             23\n",
       "                ncRNA                               5\n",
       "                snRNA                               1\n",
       "                snoRNA                              1\n",
       "three_prime_UTR mRNA                             4789\n",
       "                pseudogenic_transcript              2"
      ]
     },
     "execution_count": 58,
     "metadata": {},
     "output_type": "execute_result"
    }
   ],
   "source": [
    "sub_transcripts_df_by_bio_type = sub_transcript_df[['bio_type', 'type', 'transcript_id']].groupby(['type', 'bio_type']).count()\n",
    "sub_transcripts_df_by_bio_type = sub_transcripts_df_by_bio_type.sort_values(['type', 'transcript_id'], ascending = (True, False))\n",
    "sub_transcripts_df_by_bio_type"
   ]
  },
  {
   "cell_type": "markdown",
   "metadata": {},
   "source": [
    "### **II.A. <font color=blue> CDS</font>**: `Coding sequence (12162/?)`"
   ]
  },
  {
   "cell_type": "markdown",
   "metadata": {},
   "source": [
    "The **coding region of a gene**, also known as the `CDS` (from **coding sequence**), is the portion of a gene's DNA or RNA that **codes for protein**.\n",
    "\n",
    "Although this term is also sometimes used interchangeably with **exon**, it is not the exact same thing: the **exon** is composed of the **coding region** (`CDS`) as well as the **3' and 5' untranslated regions** of the RNA, and so therefore, an exon would be partially made up of coding regions. **(See II.C. UTRs)**"
   ]
  },
  {
   "cell_type": "code",
   "execution_count": 59,
   "metadata": {},
   "outputs": [],
   "source": [
    "cds_features = [\"CDS\"]"
   ]
  },
  {
   "cell_type": "code",
   "execution_count": 60,
   "metadata": {},
   "outputs": [
    {
     "data": {
      "text/html": [
       "<div>\n",
       "<style scoped>\n",
       "    .dataframe tbody tr th:only-of-type {\n",
       "        vertical-align: middle;\n",
       "    }\n",
       "\n",
       "    .dataframe tbody tr th {\n",
       "        vertical-align: top;\n",
       "    }\n",
       "\n",
       "    .dataframe thead th {\n",
       "        text-align: right;\n",
       "    }\n",
       "</style>\n",
       "<table border=\"1\" class=\"dataframe\">\n",
       "  <thead>\n",
       "    <tr style=\"text-align: right;\">\n",
       "      <th></th>\n",
       "      <th></th>\n",
       "      <th>transcript_id</th>\n",
       "    </tr>\n",
       "    <tr>\n",
       "      <th>type</th>\n",
       "      <th>bio_type</th>\n",
       "      <th></th>\n",
       "    </tr>\n",
       "  </thead>\n",
       "  <tbody>\n",
       "    <tr>\n",
       "      <th rowspan=\"7\" valign=\"top\">CDS</th>\n",
       "      <th>mRNA</th>\n",
       "      <td>10223</td>\n",
       "    </tr>\n",
       "    <tr>\n",
       "      <th>ncRNA</th>\n",
       "      <td>1533</td>\n",
       "    </tr>\n",
       "    <tr>\n",
       "      <th>tRNA</th>\n",
       "      <td>240</td>\n",
       "    </tr>\n",
       "    <tr>\n",
       "      <th>snoRNA</th>\n",
       "      <td>58</td>\n",
       "    </tr>\n",
       "    <tr>\n",
       "      <th>pseudogenic_transcript</th>\n",
       "      <td>52</td>\n",
       "    </tr>\n",
       "    <tr>\n",
       "      <th>rRNA</th>\n",
       "      <td>49</td>\n",
       "    </tr>\n",
       "    <tr>\n",
       "      <th>snRNA</th>\n",
       "      <td>7</td>\n",
       "    </tr>\n",
       "  </tbody>\n",
       "</table>\n",
       "</div>"
      ],
      "text/plain": [
       "                             transcript_id\n",
       "type bio_type                             \n",
       "CDS  mRNA                            10223\n",
       "     ncRNA                            1533\n",
       "     tRNA                              240\n",
       "     snoRNA                             58\n",
       "     pseudogenic_transcript             52\n",
       "     rRNA                               49\n",
       "     snRNA                               7"
      ]
     },
     "execution_count": 60,
     "metadata": {},
     "output_type": "execute_result"
    }
   ],
   "source": [
    "#gff_by_type.loc[cds_features]\n",
    "sub_transcripts_df_by_bio_type.loc[cds_features]"
   ]
  },
  {
   "cell_type": "markdown",
   "metadata": {},
   "source": [
    "- **CDSs**: (examples - contain a `Parent: transcript`)"
   ]
  },
  {
   "cell_type": "code",
   "execution_count": 61,
   "metadata": {},
   "outputs": [
    {
     "data": {
      "text/html": [
       "<div>\n",
       "<style scoped>\n",
       "    .dataframe tbody tr th:only-of-type {\n",
       "        vertical-align: middle;\n",
       "    }\n",
       "\n",
       "    .dataframe tbody tr th {\n",
       "        vertical-align: top;\n",
       "    }\n",
       "\n",
       "    .dataframe thead th {\n",
       "        text-align: right;\n",
       "    }\n",
       "</style>\n",
       "<table border=\"1\" class=\"dataframe\">\n",
       "  <thead>\n",
       "    <tr style=\"text-align: right;\">\n",
       "      <th></th>\n",
       "      <th>seqid</th>\n",
       "      <th>source</th>\n",
       "      <th>type</th>\n",
       "      <th>start</th>\n",
       "      <th>end</th>\n",
       "      <th>score</th>\n",
       "      <th>strand</th>\n",
       "      <th>phase</th>\n",
       "      <th>ID</th>\n",
       "      <th>Parent</th>\n",
       "      <th>gene_id</th>\n",
       "      <th>gene_name</th>\n",
       "      <th>transcript_id</th>\n",
       "      <th>bio_type</th>\n",
       "    </tr>\n",
       "  </thead>\n",
       "  <tbody>\n",
       "    <tr>\n",
       "      <th>4194</th>\n",
       "      <td>I</td>\n",
       "      <td>PomBase</td>\n",
       "      <td>CDS</td>\n",
       "      <td>1</td>\n",
       "      <td>5662</td>\n",
       "      <td>.</td>\n",
       "      <td>-</td>\n",
       "      <td>.</td>\n",
       "      <td>SPAC212.11.1:exon:1</td>\n",
       "      <td>SPAC212.11.1</td>\n",
       "      <td>SPAC212.11</td>\n",
       "      <td>tlh1</td>\n",
       "      <td>SPAC212.11.1</td>\n",
       "      <td>mRNA</td>\n",
       "    </tr>\n",
       "    <tr>\n",
       "      <th>27182</th>\n",
       "      <td>I</td>\n",
       "      <td>PomBase</td>\n",
       "      <td>CDS</td>\n",
       "      <td>1</td>\n",
       "      <td>5662</td>\n",
       "      <td>.</td>\n",
       "      <td>+</td>\n",
       "      <td>.</td>\n",
       "      <td>SPAC212.11b.1:exon:1</td>\n",
       "      <td>SPAC212.11b.1</td>\n",
       "      <td>SPAC212.11b</td>\n",
       "      <td>tlh1_plus</td>\n",
       "      <td>SPAC212.11b.1</td>\n",
       "      <td>mRNA</td>\n",
       "    </tr>\n",
       "    <tr>\n",
       "      <th>4193</th>\n",
       "      <td>I</td>\n",
       "      <td>PomBase</td>\n",
       "      <td>CDS</td>\n",
       "      <td>5726</td>\n",
       "      <td>6331</td>\n",
       "      <td>.</td>\n",
       "      <td>-</td>\n",
       "      <td>.</td>\n",
       "      <td>SPAC212.10.1:pseudogenic_exon:1</td>\n",
       "      <td>SPAC212.10.1</td>\n",
       "      <td>SPAC212.10</td>\n",
       "      <td>NaN</td>\n",
       "      <td>SPAC212.10.1</td>\n",
       "      <td>pseudogenic_transcript</td>\n",
       "    </tr>\n",
       "    <tr>\n",
       "      <th>27183</th>\n",
       "      <td>I</td>\n",
       "      <td>PomBase</td>\n",
       "      <td>CDS</td>\n",
       "      <td>5726</td>\n",
       "      <td>6331</td>\n",
       "      <td>.</td>\n",
       "      <td>+</td>\n",
       "      <td>.</td>\n",
       "      <td>SPAC212.10b.1:pseudogenic_exon:1</td>\n",
       "      <td>SPAC212.10b.1</td>\n",
       "      <td>SPAC212.10b</td>\n",
       "      <td>SPAC212.10_plus</td>\n",
       "      <td>SPAC212.10b.1</td>\n",
       "      <td>pseudogenic_transcript</td>\n",
       "    </tr>\n",
       "    <tr>\n",
       "      <th>4192</th>\n",
       "      <td>I</td>\n",
       "      <td>PomBase</td>\n",
       "      <td>CDS</td>\n",
       "      <td>7619</td>\n",
       "      <td>9274</td>\n",
       "      <td>.</td>\n",
       "      <td>+</td>\n",
       "      <td>.</td>\n",
       "      <td>SPAC212.09c.1:pseudogenic_exon:1</td>\n",
       "      <td>SPAC212.09c.1</td>\n",
       "      <td>SPAC212.09c</td>\n",
       "      <td>NaN</td>\n",
       "      <td>SPAC212.09c.1</td>\n",
       "      <td>pseudogenic_transcript</td>\n",
       "    </tr>\n",
       "  </tbody>\n",
       "</table>\n",
       "</div>"
      ],
      "text/plain": [
       "      seqid   source type  start   end score strand phase  \\\n",
       "4194      I  PomBase  CDS      1  5662     .      -     .   \n",
       "27182     I  PomBase  CDS      1  5662     .      +     .   \n",
       "4193      I  PomBase  CDS   5726  6331     .      -     .   \n",
       "27183     I  PomBase  CDS   5726  6331     .      +     .   \n",
       "4192      I  PomBase  CDS   7619  9274     .      +     .   \n",
       "\n",
       "                                     ID         Parent      gene_id  \\\n",
       "4194                SPAC212.11.1:exon:1   SPAC212.11.1   SPAC212.11   \n",
       "27182              SPAC212.11b.1:exon:1  SPAC212.11b.1  SPAC212.11b   \n",
       "4193    SPAC212.10.1:pseudogenic_exon:1   SPAC212.10.1   SPAC212.10   \n",
       "27183  SPAC212.10b.1:pseudogenic_exon:1  SPAC212.10b.1  SPAC212.10b   \n",
       "4192   SPAC212.09c.1:pseudogenic_exon:1  SPAC212.09c.1  SPAC212.09c   \n",
       "\n",
       "             gene_name  transcript_id                bio_type  \n",
       "4194              tlh1   SPAC212.11.1                    mRNA  \n",
       "27182        tlh1_plus  SPAC212.11b.1                    mRNA  \n",
       "4193               NaN   SPAC212.10.1  pseudogenic_transcript  \n",
       "27183  SPAC212.10_plus  SPAC212.10b.1  pseudogenic_transcript  \n",
       "4192               NaN  SPAC212.09c.1  pseudogenic_transcript  "
      ]
     },
     "execution_count": 61,
     "metadata": {},
     "output_type": "execute_result"
    }
   ],
   "source": [
    "cds_df = sub_transcript_df[sub_transcript_df['type'].isin(cds_features)].sort_values(['seqid', 'start', 'end'])\n",
    "cds_df.head()"
   ]
  },
  {
   "cell_type": "code",
   "execution_count": 62,
   "metadata": {},
   "outputs": [
    {
     "data": {
      "text/plain": [
       "(12162, 14)"
      ]
     },
     "execution_count": 62,
     "metadata": {},
     "output_type": "execute_result"
    }
   ],
   "source": [
    "cds_df.shape"
   ]
  },
  {
   "cell_type": "code",
   "execution_count": 63,
   "metadata": {},
   "outputs": [],
   "source": [
    "assert(len(cds_df) == len(gff[gff['type'].isin(cds_features)]))"
   ]
  },
  {
   "cell_type": "markdown",
   "metadata": {},
   "source": [
    "### **II.B. <font color=blue> Introns</font>**: `(5372/5372)`"
   ]
  },
  {
   "cell_type": "markdown",
   "metadata": {},
   "source": [
    "**Introns**: are any nucleotide sequence within a gene that is removed by **RNA splicing** during maturation of the final RNA product. \n",
    "\n",
    "This includes:\n",
    "* **protein coding RNA (mRNA)**\n",
    "* **pseudogenic transcripts**\n",
    "* to a less degree **ncRNA**"
   ]
  },
  {
   "cell_type": "code",
   "execution_count": 64,
   "metadata": {},
   "outputs": [],
   "source": [
    "intron_features = [\"intron\"]"
   ]
  },
  {
   "cell_type": "code",
   "execution_count": 65,
   "metadata": {},
   "outputs": [
    {
     "data": {
      "text/html": [
       "<div>\n",
       "<style scoped>\n",
       "    .dataframe tbody tr th:only-of-type {\n",
       "        vertical-align: middle;\n",
       "    }\n",
       "\n",
       "    .dataframe tbody tr th {\n",
       "        vertical-align: top;\n",
       "    }\n",
       "\n",
       "    .dataframe thead th {\n",
       "        text-align: right;\n",
       "    }\n",
       "</style>\n",
       "<table border=\"1\" class=\"dataframe\">\n",
       "  <thead>\n",
       "    <tr style=\"text-align: right;\">\n",
       "      <th></th>\n",
       "      <th></th>\n",
       "      <th>transcript_id</th>\n",
       "    </tr>\n",
       "    <tr>\n",
       "      <th>type</th>\n",
       "      <th>bio_type</th>\n",
       "      <th></th>\n",
       "    </tr>\n",
       "  </thead>\n",
       "  <tbody>\n",
       "    <tr>\n",
       "      <th rowspan=\"6\" valign=\"top\">intron</th>\n",
       "      <th>mRNA</th>\n",
       "      <td>5298</td>\n",
       "    </tr>\n",
       "    <tr>\n",
       "      <th>tRNA</th>\n",
       "      <td>44</td>\n",
       "    </tr>\n",
       "    <tr>\n",
       "      <th>pseudogenic_transcript</th>\n",
       "      <td>23</td>\n",
       "    </tr>\n",
       "    <tr>\n",
       "      <th>ncRNA</th>\n",
       "      <td>5</td>\n",
       "    </tr>\n",
       "    <tr>\n",
       "      <th>snRNA</th>\n",
       "      <td>1</td>\n",
       "    </tr>\n",
       "    <tr>\n",
       "      <th>snoRNA</th>\n",
       "      <td>1</td>\n",
       "    </tr>\n",
       "  </tbody>\n",
       "</table>\n",
       "</div>"
      ],
      "text/plain": [
       "                               transcript_id\n",
       "type   bio_type                             \n",
       "intron mRNA                             5298\n",
       "       tRNA                               44\n",
       "       pseudogenic_transcript             23\n",
       "       ncRNA                               5\n",
       "       snRNA                               1\n",
       "       snoRNA                              1"
      ]
     },
     "execution_count": 65,
     "metadata": {},
     "output_type": "execute_result"
    }
   ],
   "source": [
    "#gff_by_type.loc[intron_features]\n",
    "sub_transcripts_df_by_bio_type.loc[intron_features]"
   ]
  },
  {
   "cell_type": "markdown",
   "metadata": {},
   "source": [
    "- **Introns**: (examples - contain a Parent: transcript)"
   ]
  },
  {
   "cell_type": "code",
   "execution_count": 66,
   "metadata": {},
   "outputs": [
    {
     "data": {
      "text/html": [
       "<div>\n",
       "<style scoped>\n",
       "    .dataframe tbody tr th:only-of-type {\n",
       "        vertical-align: middle;\n",
       "    }\n",
       "\n",
       "    .dataframe tbody tr th {\n",
       "        vertical-align: top;\n",
       "    }\n",
       "\n",
       "    .dataframe thead th {\n",
       "        text-align: right;\n",
       "    }\n",
       "</style>\n",
       "<table border=\"1\" class=\"dataframe\">\n",
       "  <thead>\n",
       "    <tr style=\"text-align: right;\">\n",
       "      <th></th>\n",
       "      <th>seqid</th>\n",
       "      <th>source</th>\n",
       "      <th>type</th>\n",
       "      <th>start</th>\n",
       "      <th>end</th>\n",
       "      <th>score</th>\n",
       "      <th>strand</th>\n",
       "      <th>phase</th>\n",
       "      <th>ID</th>\n",
       "      <th>Parent</th>\n",
       "      <th>gene_id</th>\n",
       "      <th>gene_name</th>\n",
       "      <th>transcript_id</th>\n",
       "      <th>bio_type</th>\n",
       "    </tr>\n",
       "  </thead>\n",
       "  <tbody>\n",
       "    <tr>\n",
       "      <th>4186</th>\n",
       "      <td>I</td>\n",
       "      <td>PomBase</td>\n",
       "      <td>intron</td>\n",
       "      <td>18307</td>\n",
       "      <td>18348</td>\n",
       "      <td>.</td>\n",
       "      <td>+</td>\n",
       "      <td>.</td>\n",
       "      <td>SPAC212.06c.1:intron:1</td>\n",
       "      <td>SPAC212.06c.1</td>\n",
       "      <td>SPAC212.06c</td>\n",
       "      <td>NaN</td>\n",
       "      <td>SPAC212.06c.1</td>\n",
       "      <td>mRNA</td>\n",
       "    </tr>\n",
       "    <tr>\n",
       "      <th>4180</th>\n",
       "      <td>I</td>\n",
       "      <td>PomBase</td>\n",
       "      <td>intron</td>\n",
       "      <td>22077</td>\n",
       "      <td>22131</td>\n",
       "      <td>.</td>\n",
       "      <td>+</td>\n",
       "      <td>.</td>\n",
       "      <td>SPAC212.04c.1:intron:1</td>\n",
       "      <td>SPAC212.04c.1</td>\n",
       "      <td>SPAC212.04c</td>\n",
       "      <td>NaN</td>\n",
       "      <td>SPAC212.04c.1</td>\n",
       "      <td>mRNA</td>\n",
       "    </tr>\n",
       "    <tr>\n",
       "      <th>4172</th>\n",
       "      <td>I</td>\n",
       "      <td>PomBase</td>\n",
       "      <td>intron</td>\n",
       "      <td>29228</td>\n",
       "      <td>29285</td>\n",
       "      <td>.</td>\n",
       "      <td>+</td>\n",
       "      <td>.</td>\n",
       "      <td>SPAC212.01c.1:intron:1</td>\n",
       "      <td>SPAC212.01c.1</td>\n",
       "      <td>SPAC212.01c</td>\n",
       "      <td>NaN</td>\n",
       "      <td>SPAC212.01c.1</td>\n",
       "      <td>mRNA</td>\n",
       "    </tr>\n",
       "    <tr>\n",
       "      <th>10437</th>\n",
       "      <td>I</td>\n",
       "      <td>PomBase</td>\n",
       "      <td>intron</td>\n",
       "      <td>31558</td>\n",
       "      <td>31767</td>\n",
       "      <td>.</td>\n",
       "      <td>-</td>\n",
       "      <td>.</td>\n",
       "      <td>SPAC977.18.1:intron:1</td>\n",
       "      <td>SPAC977.18.1</td>\n",
       "      <td>SPAC977.18</td>\n",
       "      <td>NaN</td>\n",
       "      <td>SPAC977.18.1</td>\n",
       "      <td>mRNA</td>\n",
       "    </tr>\n",
       "    <tr>\n",
       "      <th>10435</th>\n",
       "      <td>I</td>\n",
       "      <td>PomBase</td>\n",
       "      <td>intron</td>\n",
       "      <td>31914</td>\n",
       "      <td>32162</td>\n",
       "      <td>.</td>\n",
       "      <td>-</td>\n",
       "      <td>.</td>\n",
       "      <td>SPAC977.18.1:intron:2</td>\n",
       "      <td>SPAC977.18.1</td>\n",
       "      <td>SPAC977.18</td>\n",
       "      <td>NaN</td>\n",
       "      <td>SPAC977.18.1</td>\n",
       "      <td>mRNA</td>\n",
       "    </tr>\n",
       "  </tbody>\n",
       "</table>\n",
       "</div>"
      ],
      "text/plain": [
       "      seqid   source    type  start    end score strand phase  \\\n",
       "4186      I  PomBase  intron  18307  18348     .      +     .   \n",
       "4180      I  PomBase  intron  22077  22131     .      +     .   \n",
       "4172      I  PomBase  intron  29228  29285     .      +     .   \n",
       "10437     I  PomBase  intron  31558  31767     .      -     .   \n",
       "10435     I  PomBase  intron  31914  32162     .      -     .   \n",
       "\n",
       "                           ID         Parent      gene_id gene_name  \\\n",
       "4186   SPAC212.06c.1:intron:1  SPAC212.06c.1  SPAC212.06c       NaN   \n",
       "4180   SPAC212.04c.1:intron:1  SPAC212.04c.1  SPAC212.04c       NaN   \n",
       "4172   SPAC212.01c.1:intron:1  SPAC212.01c.1  SPAC212.01c       NaN   \n",
       "10437   SPAC977.18.1:intron:1   SPAC977.18.1   SPAC977.18       NaN   \n",
       "10435   SPAC977.18.1:intron:2   SPAC977.18.1   SPAC977.18       NaN   \n",
       "\n",
       "       transcript_id bio_type  \n",
       "4186   SPAC212.06c.1     mRNA  \n",
       "4180   SPAC212.04c.1     mRNA  \n",
       "4172   SPAC212.01c.1     mRNA  \n",
       "10437   SPAC977.18.1     mRNA  \n",
       "10435   SPAC977.18.1     mRNA  "
      ]
     },
     "execution_count": 66,
     "metadata": {},
     "output_type": "execute_result"
    }
   ],
   "source": [
    "intron_df = sub_transcript_df[sub_transcript_df['type'].isin(intron_features)].sort_values(['seqid', 'start', 'end'])\n",
    "intron_df.head()"
   ]
  },
  {
   "cell_type": "code",
   "execution_count": 67,
   "metadata": {},
   "outputs": [
    {
     "data": {
      "text/plain": [
       "(5372, 14)"
      ]
     },
     "execution_count": 67,
     "metadata": {},
     "output_type": "execute_result"
    }
   ],
   "source": [
    "intron_df.shape"
   ]
  },
  {
   "cell_type": "code",
   "execution_count": 68,
   "metadata": {},
   "outputs": [],
   "source": [
    "assert(len(intron_df) == len(gff[gff['type'].isin(intron_features)]))"
   ]
  },
  {
   "cell_type": "markdown",
   "metadata": {},
   "source": [
    "### **II.C. <font color=blue> UTRs</font>**: Untranslated Regions`(9654)`"
   ]
  },
  {
   "cell_type": "markdown",
   "metadata": {},
   "source": [
    "**Untranslated region** (or **UTR**) refers to either of two sections, one on each side of a coding sequence on a strand of **mRNA**.\n",
    "\n",
    "This includes, only:\n",
    "* **protein coding RNA (mRNA)**\n",
    "* **pseudogenic transcripts**\n"
   ]
  },
  {
   "cell_type": "code",
   "execution_count": 69,
   "metadata": {},
   "outputs": [],
   "source": [
    "utr_features = [\"five_prime_UTR\", \"three_prime_UTR\"]"
   ]
  },
  {
   "cell_type": "code",
   "execution_count": 70,
   "metadata": {},
   "outputs": [
    {
     "data": {
      "text/html": [
       "<div>\n",
       "<style scoped>\n",
       "    .dataframe tbody tr th:only-of-type {\n",
       "        vertical-align: middle;\n",
       "    }\n",
       "\n",
       "    .dataframe tbody tr th {\n",
       "        vertical-align: top;\n",
       "    }\n",
       "\n",
       "    .dataframe thead th {\n",
       "        text-align: right;\n",
       "    }\n",
       "</style>\n",
       "<table border=\"1\" class=\"dataframe\">\n",
       "  <thead>\n",
       "    <tr style=\"text-align: right;\">\n",
       "      <th></th>\n",
       "      <th></th>\n",
       "      <th>transcript_id</th>\n",
       "    </tr>\n",
       "    <tr>\n",
       "      <th>type</th>\n",
       "      <th>bio_type</th>\n",
       "      <th></th>\n",
       "    </tr>\n",
       "  </thead>\n",
       "  <tbody>\n",
       "    <tr>\n",
       "      <th rowspan=\"2\" valign=\"top\">five_prime_UTR</th>\n",
       "      <th>mRNA</th>\n",
       "      <td>4860</td>\n",
       "    </tr>\n",
       "    <tr>\n",
       "      <th>pseudogenic_transcript</th>\n",
       "      <td>3</td>\n",
       "    </tr>\n",
       "    <tr>\n",
       "      <th rowspan=\"2\" valign=\"top\">three_prime_UTR</th>\n",
       "      <th>mRNA</th>\n",
       "      <td>4789</td>\n",
       "    </tr>\n",
       "    <tr>\n",
       "      <th>pseudogenic_transcript</th>\n",
       "      <td>2</td>\n",
       "    </tr>\n",
       "  </tbody>\n",
       "</table>\n",
       "</div>"
      ],
      "text/plain": [
       "                                        transcript_id\n",
       "type            bio_type                             \n",
       "five_prime_UTR  mRNA                             4860\n",
       "                pseudogenic_transcript              3\n",
       "three_prime_UTR mRNA                             4789\n",
       "                pseudogenic_transcript              2"
      ]
     },
     "execution_count": 70,
     "metadata": {},
     "output_type": "execute_result"
    }
   ],
   "source": [
    "#gff_by_type.loc[utr_features]\n",
    "sub_transcripts_df_by_bio_type.loc[utr_features]"
   ]
  },
  {
   "cell_type": "markdown",
   "metadata": {},
   "source": [
    "- **UTRs**: (examples - contain a Parent: transcript)"
   ]
  },
  {
   "cell_type": "code",
   "execution_count": 71,
   "metadata": {},
   "outputs": [
    {
     "data": {
      "text/html": [
       "<div>\n",
       "<style scoped>\n",
       "    .dataframe tbody tr th:only-of-type {\n",
       "        vertical-align: middle;\n",
       "    }\n",
       "\n",
       "    .dataframe tbody tr th {\n",
       "        vertical-align: top;\n",
       "    }\n",
       "\n",
       "    .dataframe thead th {\n",
       "        text-align: right;\n",
       "    }\n",
       "</style>\n",
       "<table border=\"1\" class=\"dataframe\">\n",
       "  <thead>\n",
       "    <tr style=\"text-align: right;\">\n",
       "      <th></th>\n",
       "      <th>seqid</th>\n",
       "      <th>source</th>\n",
       "      <th>type</th>\n",
       "      <th>start</th>\n",
       "      <th>end</th>\n",
       "      <th>score</th>\n",
       "      <th>strand</th>\n",
       "      <th>phase</th>\n",
       "      <th>ID</th>\n",
       "      <th>Parent</th>\n",
       "      <th>gene_id</th>\n",
       "      <th>gene_name</th>\n",
       "      <th>transcript_id</th>\n",
       "      <th>bio_type</th>\n",
       "    </tr>\n",
       "  </thead>\n",
       "  <tbody>\n",
       "    <tr>\n",
       "      <th>4190</th>\n",
       "      <td>I</td>\n",
       "      <td>PomBase</td>\n",
       "      <td>five_prime_UTR</td>\n",
       "      <td>11784</td>\n",
       "      <td>12157</td>\n",
       "      <td>.</td>\n",
       "      <td>+</td>\n",
       "      <td>.</td>\n",
       "      <td>SPAC212.08c.1:five_prime_UTR:1</td>\n",
       "      <td>SPAC212.08c.1</td>\n",
       "      <td>SPAC212.08c</td>\n",
       "      <td>NaN</td>\n",
       "      <td>SPAC212.08c.1</td>\n",
       "      <td>mRNA</td>\n",
       "    </tr>\n",
       "    <tr>\n",
       "      <th>4184</th>\n",
       "      <td>I</td>\n",
       "      <td>PomBase</td>\n",
       "      <td>five_prime_UTR</td>\n",
       "      <td>18042</td>\n",
       "      <td>18071</td>\n",
       "      <td>.</td>\n",
       "      <td>+</td>\n",
       "      <td>.</td>\n",
       "      <td>SPAC212.06c.1:five_prime_UTR:1</td>\n",
       "      <td>SPAC212.06c.1</td>\n",
       "      <td>SPAC212.06c</td>\n",
       "      <td>NaN</td>\n",
       "      <td>SPAC212.06c.1</td>\n",
       "      <td>mRNA</td>\n",
       "    </tr>\n",
       "    <tr>\n",
       "      <th>4188</th>\n",
       "      <td>I</td>\n",
       "      <td>PomBase</td>\n",
       "      <td>three_prime_UTR</td>\n",
       "      <td>18558</td>\n",
       "      <td>18974</td>\n",
       "      <td>.</td>\n",
       "      <td>+</td>\n",
       "      <td>.</td>\n",
       "      <td>SPAC212.06c.1:three_prime_UTR:1</td>\n",
       "      <td>SPAC212.06c.1</td>\n",
       "      <td>SPAC212.06c</td>\n",
       "      <td>NaN</td>\n",
       "      <td>SPAC212.06c.1</td>\n",
       "      <td>mRNA</td>\n",
       "    </tr>\n",
       "    <tr>\n",
       "      <th>4178</th>\n",
       "      <td>I</td>\n",
       "      <td>PomBase</td>\n",
       "      <td>five_prime_UTR</td>\n",
       "      <td>21381</td>\n",
       "      <td>21586</td>\n",
       "      <td>.</td>\n",
       "      <td>+</td>\n",
       "      <td>.</td>\n",
       "      <td>SPAC212.04c.1:five_prime_UTR:1</td>\n",
       "      <td>SPAC212.04c.1</td>\n",
       "      <td>SPAC212.04c</td>\n",
       "      <td>NaN</td>\n",
       "      <td>SPAC212.04c.1</td>\n",
       "      <td>mRNA</td>\n",
       "    </tr>\n",
       "    <tr>\n",
       "      <th>4182</th>\n",
       "      <td>I</td>\n",
       "      <td>PomBase</td>\n",
       "      <td>three_prime_UTR</td>\n",
       "      <td>22509</td>\n",
       "      <td>23050</td>\n",
       "      <td>.</td>\n",
       "      <td>+</td>\n",
       "      <td>.</td>\n",
       "      <td>SPAC212.04c.1:three_prime_UTR:1</td>\n",
       "      <td>SPAC212.04c.1</td>\n",
       "      <td>SPAC212.04c</td>\n",
       "      <td>NaN</td>\n",
       "      <td>SPAC212.04c.1</td>\n",
       "      <td>mRNA</td>\n",
       "    </tr>\n",
       "  </tbody>\n",
       "</table>\n",
       "</div>"
      ],
      "text/plain": [
       "     seqid   source             type  start    end score strand phase  \\\n",
       "4190     I  PomBase   five_prime_UTR  11784  12157     .      +     .   \n",
       "4184     I  PomBase   five_prime_UTR  18042  18071     .      +     .   \n",
       "4188     I  PomBase  three_prime_UTR  18558  18974     .      +     .   \n",
       "4178     I  PomBase   five_prime_UTR  21381  21586     .      +     .   \n",
       "4182     I  PomBase  three_prime_UTR  22509  23050     .      +     .   \n",
       "\n",
       "                                   ID         Parent      gene_id gene_name  \\\n",
       "4190   SPAC212.08c.1:five_prime_UTR:1  SPAC212.08c.1  SPAC212.08c       NaN   \n",
       "4184   SPAC212.06c.1:five_prime_UTR:1  SPAC212.06c.1  SPAC212.06c       NaN   \n",
       "4188  SPAC212.06c.1:three_prime_UTR:1  SPAC212.06c.1  SPAC212.06c       NaN   \n",
       "4178   SPAC212.04c.1:five_prime_UTR:1  SPAC212.04c.1  SPAC212.04c       NaN   \n",
       "4182  SPAC212.04c.1:three_prime_UTR:1  SPAC212.04c.1  SPAC212.04c       NaN   \n",
       "\n",
       "      transcript_id bio_type  \n",
       "4190  SPAC212.08c.1     mRNA  \n",
       "4184  SPAC212.06c.1     mRNA  \n",
       "4188  SPAC212.06c.1     mRNA  \n",
       "4178  SPAC212.04c.1     mRNA  \n",
       "4182  SPAC212.04c.1     mRNA  "
      ]
     },
     "execution_count": 71,
     "metadata": {},
     "output_type": "execute_result"
    }
   ],
   "source": [
    "utr_df = sub_transcript_df[sub_transcript_df['type'].isin(utr_features)].sort_values(['seqid', 'start', 'end'])\n",
    "utr_df.head()"
   ]
  },
  {
   "cell_type": "code",
   "execution_count": 72,
   "metadata": {},
   "outputs": [
    {
     "data": {
      "text/plain": [
       "(9654, 14)"
      ]
     },
     "execution_count": 72,
     "metadata": {},
     "output_type": "execute_result"
    }
   ],
   "source": [
    "utr_df.shape"
   ]
  },
  {
   "cell_type": "code",
   "execution_count": 73,
   "metadata": {},
   "outputs": [],
   "source": [
    "assert(len(utr_df) == len(gff[gff['type'].isin(utr_features)]))"
   ]
  },
  {
   "cell_type": "code",
   "execution_count": 74,
   "metadata": {},
   "outputs": [],
   "source": [
    "assert(set(cds_features + intron_features + utr_features) == set(sub_transcript_features))"
   ]
  },
  {
   "cell_type": "code",
   "execution_count": 75,
   "metadata": {},
   "outputs": [],
   "source": [
    "explained_features.extend(sub_transcript_features)"
   ]
  },
  {
   "cell_type": "code",
   "execution_count": 76,
   "metadata": {},
   "outputs": [],
   "source": [
    "#gff_by_type[~gff_by_type.index.isin(explained_features)]"
   ]
  },
  {
   "cell_type": "markdown",
   "metadata": {},
   "source": [
    "---------------------------"
   ]
  },
  {
   "cell_type": "markdown",
   "metadata": {},
   "source": [
    "## Add `length` Information"
   ]
  },
  {
   "cell_type": "markdown",
   "metadata": {},
   "source": [
    "Because the new `gtf` is using `CDS` **features**, as oposed to the old `gtf` that used `exon` **features**, the lengths of `gene`'s differ between the two.\n",
    "\n",
    "To recover the same lengths, it should be enough to add the corresponding **three_prime_UTR** and **five_prime_UTR** lengths, to the lengths obtained from `CDS` **features**.\n",
    "\n",
    "<font color='red'> **Remember:** `exon` = `CDS` + `UTR` </font>\n",
    "\n",
    "Additionally, we will also store a copy of the `Intron` lengths that will prove useful late on."
   ]
  },
  {
   "cell_type": "markdown",
   "metadata": {},
   "source": [
    "### **CDS**"
   ]
  },
  {
   "cell_type": "markdown",
   "metadata": {},
   "source": [
    "This `gff` contains no **exon** features instead we start by looking at the **CDS** features"
   ]
  },
  {
   "cell_type": "markdown",
   "metadata": {},
   "source": [
    "- Add `length` **Column** to the `exon_df`: "
   ]
  },
  {
   "cell_type": "code",
   "execution_count": 77,
   "metadata": {},
   "outputs": [],
   "source": [
    "#cds_df.head()"
   ]
  },
  {
   "cell_type": "code",
   "execution_count": 78,
   "metadata": {},
   "outputs": [],
   "source": [
    "## compute exon lengths: end - start + 1\n",
    "cds_df['cds_length'] = cds_df['end'] - cds_df['start'] + 1"
   ]
  },
  {
   "cell_type": "markdown",
   "metadata": {},
   "source": [
    "Each `transcript` is associated to one or more `exons`, in this case `CDS`.\n",
    "\n",
    "This defines properly the **length** of an `transcript` as: *the sum of individual exon (`CDS`) length's associated to that transcript.*"
   ]
  },
  {
   "cell_type": "markdown",
   "metadata": {},
   "source": [
    "- Get `transcript_cds_lengths_df`: (**summarize** `cds_df` by `transcript_id` and **sum** over individual `cds_length`s)"
   ]
  },
  {
   "cell_type": "code",
   "execution_count": 79,
   "metadata": {},
   "outputs": [],
   "source": [
    "transcript_cds_lengths_df = cds_df[['transcript_id', 'cds_length']].groupby('transcript_id').sum().reset_index()"
   ]
  },
  {
   "cell_type": "code",
   "execution_count": 80,
   "metadata": {},
   "outputs": [
    {
     "data": {
      "text/html": [
       "<div>\n",
       "<style scoped>\n",
       "    .dataframe tbody tr th:only-of-type {\n",
       "        vertical-align: middle;\n",
       "    }\n",
       "\n",
       "    .dataframe tbody tr th {\n",
       "        vertical-align: top;\n",
       "    }\n",
       "\n",
       "    .dataframe thead th {\n",
       "        text-align: right;\n",
       "    }\n",
       "</style>\n",
       "<table border=\"1\" class=\"dataframe\">\n",
       "  <thead>\n",
       "    <tr style=\"text-align: right;\">\n",
       "      <th></th>\n",
       "      <th>transcript_id</th>\n",
       "      <th>cds_length</th>\n",
       "    </tr>\n",
       "  </thead>\n",
       "  <tbody>\n",
       "    <tr>\n",
       "      <th>0</th>\n",
       "      <td>SPAC1002.01.1</td>\n",
       "      <td>540</td>\n",
       "    </tr>\n",
       "    <tr>\n",
       "      <th>1</th>\n",
       "      <td>SPAC1002.02.1</td>\n",
       "      <td>690</td>\n",
       "    </tr>\n",
       "    <tr>\n",
       "      <th>2</th>\n",
       "      <td>SPAC1002.03c.1</td>\n",
       "      <td>2772</td>\n",
       "    </tr>\n",
       "    <tr>\n",
       "      <th>3</th>\n",
       "      <td>SPAC1002.04c.1</td>\n",
       "      <td>600</td>\n",
       "    </tr>\n",
       "    <tr>\n",
       "      <th>4</th>\n",
       "      <td>SPAC1002.05c.1</td>\n",
       "      <td>2148</td>\n",
       "    </tr>\n",
       "  </tbody>\n",
       "</table>\n",
       "</div>"
      ],
      "text/plain": [
       "    transcript_id  cds_length\n",
       "0   SPAC1002.01.1         540\n",
       "1   SPAC1002.02.1         690\n",
       "2  SPAC1002.03c.1        2772\n",
       "3  SPAC1002.04c.1         600\n",
       "4  SPAC1002.05c.1        2148"
      ]
     },
     "execution_count": 80,
     "metadata": {},
     "output_type": "execute_result"
    }
   ],
   "source": [
    "transcript_cds_lengths_df.head()"
   ]
  },
  {
   "cell_type": "code",
   "execution_count": 81,
   "metadata": {},
   "outputs": [
    {
     "data": {
      "text/plain": [
       "(7005, 2)"
      ]
     },
     "execution_count": 81,
     "metadata": {},
     "output_type": "execute_result"
    }
   ],
   "source": [
    "transcript_cds_lengths_df.shape"
   ]
  },
  {
   "cell_type": "markdown",
   "metadata": {},
   "source": [
    "- Add `cds_length` **Column** to the `transcript_df`: **merge** `transcript_cds_lengths_df` to `transcript_df`"
   ]
  },
  {
   "cell_type": "code",
   "execution_count": 82,
   "metadata": {},
   "outputs": [],
   "source": [
    "transcript_df = transcript_df.merge(transcript_cds_lengths_df, on='transcript_id')\n",
    "#transcript_df"
   ]
  },
  {
   "cell_type": "markdown",
   "metadata": {},
   "source": [
    "### **`UTR`'s**:"
   ]
  },
  {
   "cell_type": "markdown",
   "metadata": {},
   "source": [
    "- Add `length` **Column** to the `utr_df`: "
   ]
  },
  {
   "cell_type": "code",
   "execution_count": 83,
   "metadata": {},
   "outputs": [],
   "source": [
    "#utr_df.head()"
   ]
  },
  {
   "cell_type": "code",
   "execution_count": 84,
   "metadata": {},
   "outputs": [],
   "source": [
    "## compute exon lengths: end - start + 1\n",
    "utr_df['utr_length'] = utr_df['end'] - utr_df['start'] + 1"
   ]
  },
  {
   "cell_type": "markdown",
   "metadata": {},
   "source": [
    "Each `transcript` is associated to two or less `utr`'s.\n",
    "\n",
    "This properly defines the **length** of a `transcript_utr`'s as: *the sum of individual `utr` length's associated to that transcript.*"
   ]
  },
  {
   "cell_type": "markdown",
   "metadata": {},
   "source": [
    "- Get `transcript_utr_lengths_df`: (**summarize** `utr_df` by `transcript_id` and **sum** over individual `utr_length`s)"
   ]
  },
  {
   "cell_type": "code",
   "execution_count": 85,
   "metadata": {},
   "outputs": [],
   "source": [
    "transcript_utr_lengths_df = utr_df[['transcript_id', 'utr_length']].groupby('transcript_id').sum().reset_index()"
   ]
  },
  {
   "cell_type": "code",
   "execution_count": 86,
   "metadata": {},
   "outputs": [
    {
     "data": {
      "text/html": [
       "<div>\n",
       "<style scoped>\n",
       "    .dataframe tbody tr th:only-of-type {\n",
       "        vertical-align: middle;\n",
       "    }\n",
       "\n",
       "    .dataframe tbody tr th {\n",
       "        vertical-align: top;\n",
       "    }\n",
       "\n",
       "    .dataframe thead th {\n",
       "        text-align: right;\n",
       "    }\n",
       "</style>\n",
       "<table border=\"1\" class=\"dataframe\">\n",
       "  <thead>\n",
       "    <tr style=\"text-align: right;\">\n",
       "      <th></th>\n",
       "      <th>transcript_id</th>\n",
       "      <th>utr_length</th>\n",
       "    </tr>\n",
       "  </thead>\n",
       "  <tbody>\n",
       "    <tr>\n",
       "      <th>0</th>\n",
       "      <td>SPAC1002.02.1</td>\n",
       "      <td>303</td>\n",
       "    </tr>\n",
       "    <tr>\n",
       "      <th>1</th>\n",
       "      <td>SPAC1002.03c.1</td>\n",
       "      <td>455</td>\n",
       "    </tr>\n",
       "    <tr>\n",
       "      <th>2</th>\n",
       "      <td>SPAC1002.04c.1</td>\n",
       "      <td>268</td>\n",
       "    </tr>\n",
       "    <tr>\n",
       "      <th>3</th>\n",
       "      <td>SPAC1002.05c.1</td>\n",
       "      <td>102</td>\n",
       "    </tr>\n",
       "    <tr>\n",
       "      <th>4</th>\n",
       "      <td>SPAC1002.07c.1</td>\n",
       "      <td>438</td>\n",
       "    </tr>\n",
       "  </tbody>\n",
       "</table>\n",
       "</div>"
      ],
      "text/plain": [
       "    transcript_id  utr_length\n",
       "0   SPAC1002.02.1         303\n",
       "1  SPAC1002.03c.1         455\n",
       "2  SPAC1002.04c.1         268\n",
       "3  SPAC1002.05c.1         102\n",
       "4  SPAC1002.07c.1         438"
      ]
     },
     "execution_count": 86,
     "metadata": {},
     "output_type": "execute_result"
    }
   ],
   "source": [
    "transcript_utr_lengths_df.head()"
   ]
  },
  {
   "cell_type": "code",
   "execution_count": 87,
   "metadata": {},
   "outputs": [
    {
     "data": {
      "text/plain": [
       "(4857, 2)"
      ]
     },
     "execution_count": 87,
     "metadata": {},
     "output_type": "execute_result"
    }
   ],
   "source": [
    "transcript_utr_lengths_df.shape"
   ]
  },
  {
   "cell_type": "markdown",
   "metadata": {},
   "source": [
    "- Add `utr_length` **Column** to the `transcript_df`: **merge** `transcript_utr_lengths_df` to `transcript_df`"
   ]
  },
  {
   "cell_type": "code",
   "execution_count": 88,
   "metadata": {},
   "outputs": [],
   "source": [
    "transcript_df = transcript_df.merge(transcript_utr_lengths_df, on='transcript_id', how='outer')\n",
    "#transcript_df"
   ]
  },
  {
   "cell_type": "markdown",
   "metadata": {},
   "source": [
    "### **`Intron`'s**:"
   ]
  },
  {
   "cell_type": "markdown",
   "metadata": {},
   "source": [
    "- Add `length` **Column** to the `intron_df`: "
   ]
  },
  {
   "cell_type": "code",
   "execution_count": 89,
   "metadata": {},
   "outputs": [],
   "source": [
    "#intron_df.head()"
   ]
  },
  {
   "cell_type": "code",
   "execution_count": 90,
   "metadata": {},
   "outputs": [],
   "source": [
    "## compute exon lengths: end - start + 1\n",
    "intron_df['intron_length'] = intron_df['end'] - intron_df['start'] + 1"
   ]
  },
  {
   "cell_type": "markdown",
   "metadata": {},
   "source": [
    "Each `transcript` is associated to none, one or more `introns`.\n",
    "\n",
    "This defines properly the **length** of a `transcript_intron`s as: *the sum of individual `intron` length's associated to that transcript.*"
   ]
  },
  {
   "cell_type": "markdown",
   "metadata": {},
   "source": [
    "- Get `transcript_intron_lengths_df`: (**summarize** `intron_df` by `transcript_id` and **sum** over individual `intron_length`s)"
   ]
  },
  {
   "cell_type": "code",
   "execution_count": 91,
   "metadata": {},
   "outputs": [],
   "source": [
    "transcript_intron_lengths_df = intron_df[['transcript_id', 'intron_length']].groupby('transcript_id').sum().reset_index()"
   ]
  },
  {
   "cell_type": "code",
   "execution_count": 92,
   "metadata": {},
   "outputs": [
    {
     "data": {
      "text/html": [
       "<div>\n",
       "<style scoped>\n",
       "    .dataframe tbody tr th:only-of-type {\n",
       "        vertical-align: middle;\n",
       "    }\n",
       "\n",
       "    .dataframe tbody tr th {\n",
       "        vertical-align: top;\n",
       "    }\n",
       "\n",
       "    .dataframe thead th {\n",
       "        text-align: right;\n",
       "    }\n",
       "</style>\n",
       "<table border=\"1\" class=\"dataframe\">\n",
       "  <thead>\n",
       "    <tr style=\"text-align: right;\">\n",
       "      <th></th>\n",
       "      <th>transcript_id</th>\n",
       "      <th>intron_length</th>\n",
       "    </tr>\n",
       "  </thead>\n",
       "  <tbody>\n",
       "    <tr>\n",
       "      <th>0</th>\n",
       "      <td>SPAC1002.01.1</td>\n",
       "      <td>129</td>\n",
       "    </tr>\n",
       "    <tr>\n",
       "      <th>1</th>\n",
       "      <td>SPAC1002.06c.1</td>\n",
       "      <td>155</td>\n",
       "    </tr>\n",
       "    <tr>\n",
       "      <th>2</th>\n",
       "      <td>SPAC1002.07c.1</td>\n",
       "      <td>493</td>\n",
       "    </tr>\n",
       "    <tr>\n",
       "      <th>3</th>\n",
       "      <td>SPAC1002.15c.1</td>\n",
       "      <td>251</td>\n",
       "    </tr>\n",
       "    <tr>\n",
       "      <th>4</th>\n",
       "      <td>SPAC1006.03c.1</td>\n",
       "      <td>522</td>\n",
       "    </tr>\n",
       "  </tbody>\n",
       "</table>\n",
       "</div>"
      ],
      "text/plain": [
       "    transcript_id  intron_length\n",
       "0   SPAC1002.01.1            129\n",
       "1  SPAC1002.06c.1            155\n",
       "2  SPAC1002.07c.1            493\n",
       "3  SPAC1002.15c.1            251\n",
       "4  SPAC1006.03c.1            522"
      ]
     },
     "execution_count": 92,
     "metadata": {},
     "output_type": "execute_result"
    }
   ],
   "source": [
    "transcript_intron_lengths_df.head()"
   ]
  },
  {
   "cell_type": "code",
   "execution_count": 93,
   "metadata": {},
   "outputs": [
    {
     "data": {
      "text/plain": [
       "(2562, 2)"
      ]
     },
     "execution_count": 93,
     "metadata": {},
     "output_type": "execute_result"
    }
   ],
   "source": [
    "transcript_intron_lengths_df.shape"
   ]
  },
  {
   "cell_type": "markdown",
   "metadata": {},
   "source": [
    "- Add `intron_length` **Column** to the `transcript_df`: **merge** `transcript_intron_lengths_df` to `transcript_df`"
   ]
  },
  {
   "cell_type": "code",
   "execution_count": 94,
   "metadata": {},
   "outputs": [],
   "source": [
    "transcript_df = transcript_df.merge(transcript_intron_lengths_df, on='transcript_id', how='outer')\n",
    "#transcript_df"
   ]
  },
  {
   "cell_type": "markdown",
   "metadata": {},
   "source": [
    "### **`Transcripts`/`Genes`**:"
   ]
  },
  {
   "cell_type": "markdown",
   "metadata": {},
   "source": [
    "Each `gene` is associated to one and only one `transcript`.\n",
    "\n",
    "We will distinguish between the length of:\n",
    "- **`gene`**: end - start + 1 of genomic locci describing a `gene` (**exon + intron length's**).\n",
    "- **`transcript`**: the sum of **exon length's** describing the `transcript`."
   ]
  },
  {
   "cell_type": "code",
   "execution_count": 95,
   "metadata": {},
   "outputs": [],
   "source": [
    "#transcript_df.head()"
   ]
  },
  {
   "cell_type": "markdown",
   "metadata": {},
   "source": [
    "- Add `cds_length` and `utr_length` **Column**s to the `gene_df`: **merge** `transcripts_df` to `gene_df`"
   ]
  },
  {
   "cell_type": "code",
   "execution_count": 96,
   "metadata": {},
   "outputs": [],
   "source": [
    "gene_df = gene_df.merge(transcript_df[['gene_id', 'gene_name', 'transcript_id',\n",
    "                                       'cds_length', 'utr_length', 'intron_length', 'type']].rename(columns={'type':'bio_type'}),\n",
    "                        left_on='ID',\n",
    "                        right_on='gene_id'\n",
    "                       )"
   ]
  },
  {
   "cell_type": "code",
   "execution_count": 97,
   "metadata": {},
   "outputs": [
    {
     "data": {
      "text/html": [
       "<div>\n",
       "<style scoped>\n",
       "    .dataframe tbody tr th:only-of-type {\n",
       "        vertical-align: middle;\n",
       "    }\n",
       "\n",
       "    .dataframe tbody tr th {\n",
       "        vertical-align: top;\n",
       "    }\n",
       "\n",
       "    .dataframe thead th {\n",
       "        text-align: right;\n",
       "    }\n",
       "</style>\n",
       "<table border=\"1\" class=\"dataframe\">\n",
       "  <thead>\n",
       "    <tr style=\"text-align: right;\">\n",
       "      <th></th>\n",
       "      <th>seqid</th>\n",
       "      <th>source</th>\n",
       "      <th>type</th>\n",
       "      <th>start</th>\n",
       "      <th>end</th>\n",
       "      <th>score</th>\n",
       "      <th>strand</th>\n",
       "      <th>phase</th>\n",
       "      <th>ID</th>\n",
       "      <th>Name</th>\n",
       "      <th>gene_id</th>\n",
       "      <th>gene_name</th>\n",
       "      <th>transcript_id</th>\n",
       "      <th>cds_length</th>\n",
       "      <th>utr_length</th>\n",
       "      <th>intron_length</th>\n",
       "      <th>bio_type</th>\n",
       "    </tr>\n",
       "  </thead>\n",
       "  <tbody>\n",
       "    <tr>\n",
       "      <th>0</th>\n",
       "      <td>I</td>\n",
       "      <td>PomBase</td>\n",
       "      <td>gene</td>\n",
       "      <td>1798347</td>\n",
       "      <td>1799015</td>\n",
       "      <td>.</td>\n",
       "      <td>+</td>\n",
       "      <td>.</td>\n",
       "      <td>SPAC1002.01</td>\n",
       "      <td>mrx11</td>\n",
       "      <td>SPAC1002.01</td>\n",
       "      <td>mrx11</td>\n",
       "      <td>SPAC1002.01.1</td>\n",
       "      <td>540</td>\n",
       "      <td>NaN</td>\n",
       "      <td>129.0</td>\n",
       "      <td>mRNA</td>\n",
       "    </tr>\n",
       "    <tr>\n",
       "      <th>1</th>\n",
       "      <td>I</td>\n",
       "      <td>PomBase</td>\n",
       "      <td>gene</td>\n",
       "      <td>1799061</td>\n",
       "      <td>1800053</td>\n",
       "      <td>.</td>\n",
       "      <td>+</td>\n",
       "      <td>.</td>\n",
       "      <td>SPAC1002.02</td>\n",
       "      <td>pom34</td>\n",
       "      <td>SPAC1002.02</td>\n",
       "      <td>pom34</td>\n",
       "      <td>SPAC1002.02.1</td>\n",
       "      <td>690</td>\n",
       "      <td>303.0</td>\n",
       "      <td>NaN</td>\n",
       "      <td>mRNA</td>\n",
       "    </tr>\n",
       "    <tr>\n",
       "      <th>2</th>\n",
       "      <td>I</td>\n",
       "      <td>PomBase</td>\n",
       "      <td>gene</td>\n",
       "      <td>1799915</td>\n",
       "      <td>1803141</td>\n",
       "      <td>.</td>\n",
       "      <td>-</td>\n",
       "      <td>.</td>\n",
       "      <td>SPAC1002.03c</td>\n",
       "      <td>gls2</td>\n",
       "      <td>SPAC1002.03c</td>\n",
       "      <td>gls2</td>\n",
       "      <td>SPAC1002.03c.1</td>\n",
       "      <td>2772</td>\n",
       "      <td>455.0</td>\n",
       "      <td>NaN</td>\n",
       "      <td>mRNA</td>\n",
       "    </tr>\n",
       "    <tr>\n",
       "      <th>3</th>\n",
       "      <td>I</td>\n",
       "      <td>PomBase</td>\n",
       "      <td>gene</td>\n",
       "      <td>1803624</td>\n",
       "      <td>1804491</td>\n",
       "      <td>.</td>\n",
       "      <td>-</td>\n",
       "      <td>.</td>\n",
       "      <td>SPAC1002.04c</td>\n",
       "      <td>taf11</td>\n",
       "      <td>SPAC1002.04c</td>\n",
       "      <td>taf11</td>\n",
       "      <td>SPAC1002.04c.1</td>\n",
       "      <td>600</td>\n",
       "      <td>268.0</td>\n",
       "      <td>NaN</td>\n",
       "      <td>mRNA</td>\n",
       "    </tr>\n",
       "    <tr>\n",
       "      <th>4</th>\n",
       "      <td>I</td>\n",
       "      <td>PomBase</td>\n",
       "      <td>gene</td>\n",
       "      <td>1804548</td>\n",
       "      <td>1806797</td>\n",
       "      <td>.</td>\n",
       "      <td>-</td>\n",
       "      <td>.</td>\n",
       "      <td>SPAC1002.05c</td>\n",
       "      <td>jmj2</td>\n",
       "      <td>SPAC1002.05c</td>\n",
       "      <td>jmj2</td>\n",
       "      <td>SPAC1002.05c.1</td>\n",
       "      <td>2148</td>\n",
       "      <td>102.0</td>\n",
       "      <td>NaN</td>\n",
       "      <td>mRNA</td>\n",
       "    </tr>\n",
       "  </tbody>\n",
       "</table>\n",
       "</div>"
      ],
      "text/plain": [
       "  seqid   source  type    start      end score strand phase            ID  \\\n",
       "0     I  PomBase  gene  1798347  1799015     .      +     .   SPAC1002.01   \n",
       "1     I  PomBase  gene  1799061  1800053     .      +     .   SPAC1002.02   \n",
       "2     I  PomBase  gene  1799915  1803141     .      -     .  SPAC1002.03c   \n",
       "3     I  PomBase  gene  1803624  1804491     .      -     .  SPAC1002.04c   \n",
       "4     I  PomBase  gene  1804548  1806797     .      -     .  SPAC1002.05c   \n",
       "\n",
       "    Name       gene_id gene_name   transcript_id  cds_length  utr_length  \\\n",
       "0  mrx11   SPAC1002.01     mrx11   SPAC1002.01.1         540         NaN   \n",
       "1  pom34   SPAC1002.02     pom34   SPAC1002.02.1         690       303.0   \n",
       "2   gls2  SPAC1002.03c      gls2  SPAC1002.03c.1        2772       455.0   \n",
       "3  taf11  SPAC1002.04c     taf11  SPAC1002.04c.1         600       268.0   \n",
       "4   jmj2  SPAC1002.05c      jmj2  SPAC1002.05c.1        2148       102.0   \n",
       "\n",
       "   intron_length bio_type  \n",
       "0          129.0     mRNA  \n",
       "1            NaN     mRNA  \n",
       "2            NaN     mRNA  \n",
       "3            NaN     mRNA  \n",
       "4            NaN     mRNA  "
      ]
     },
     "execution_count": 97,
     "metadata": {},
     "output_type": "execute_result"
    }
   ],
   "source": [
    "gene_df.head()"
   ]
  },
  {
   "cell_type": "code",
   "execution_count": 98,
   "metadata": {},
   "outputs": [
    {
     "data": {
      "text/plain": [
       "(7005, 17)"
      ]
     },
     "execution_count": 98,
     "metadata": {},
     "output_type": "execute_result"
    }
   ],
   "source": [
    "gene_df.shape"
   ]
  },
  {
   "cell_type": "markdown",
   "metadata": {},
   "source": [
    "- Add `gene_length` **Column** to the `gene_df`: `gene_length` = `end` - `start` + 1"
   ]
  },
  {
   "cell_type": "code",
   "execution_count": 99,
   "metadata": {},
   "outputs": [],
   "source": [
    "gene_df['gene_length'] = gene_df['end'] -  gene_df['start'] + 1"
   ]
  },
  {
   "cell_type": "code",
   "execution_count": 100,
   "metadata": {},
   "outputs": [
    {
     "data": {
      "text/html": [
       "<div>\n",
       "<style scoped>\n",
       "    .dataframe tbody tr th:only-of-type {\n",
       "        vertical-align: middle;\n",
       "    }\n",
       "\n",
       "    .dataframe tbody tr th {\n",
       "        vertical-align: top;\n",
       "    }\n",
       "\n",
       "    .dataframe thead th {\n",
       "        text-align: right;\n",
       "    }\n",
       "</style>\n",
       "<table border=\"1\" class=\"dataframe\">\n",
       "  <thead>\n",
       "    <tr style=\"text-align: right;\">\n",
       "      <th></th>\n",
       "      <th>seqid</th>\n",
       "      <th>source</th>\n",
       "      <th>type</th>\n",
       "      <th>start</th>\n",
       "      <th>end</th>\n",
       "      <th>score</th>\n",
       "      <th>strand</th>\n",
       "      <th>phase</th>\n",
       "      <th>ID</th>\n",
       "      <th>Name</th>\n",
       "      <th>gene_id</th>\n",
       "      <th>gene_name</th>\n",
       "      <th>transcript_id</th>\n",
       "      <th>cds_length</th>\n",
       "      <th>utr_length</th>\n",
       "      <th>intron_length</th>\n",
       "      <th>bio_type</th>\n",
       "      <th>gene_length</th>\n",
       "    </tr>\n",
       "  </thead>\n",
       "  <tbody>\n",
       "    <tr>\n",
       "      <th>0</th>\n",
       "      <td>I</td>\n",
       "      <td>PomBase</td>\n",
       "      <td>gene</td>\n",
       "      <td>1798347</td>\n",
       "      <td>1799015</td>\n",
       "      <td>.</td>\n",
       "      <td>+</td>\n",
       "      <td>.</td>\n",
       "      <td>SPAC1002.01</td>\n",
       "      <td>mrx11</td>\n",
       "      <td>SPAC1002.01</td>\n",
       "      <td>mrx11</td>\n",
       "      <td>SPAC1002.01.1</td>\n",
       "      <td>540</td>\n",
       "      <td>NaN</td>\n",
       "      <td>129.0</td>\n",
       "      <td>mRNA</td>\n",
       "      <td>669</td>\n",
       "    </tr>\n",
       "    <tr>\n",
       "      <th>1</th>\n",
       "      <td>I</td>\n",
       "      <td>PomBase</td>\n",
       "      <td>gene</td>\n",
       "      <td>1799061</td>\n",
       "      <td>1800053</td>\n",
       "      <td>.</td>\n",
       "      <td>+</td>\n",
       "      <td>.</td>\n",
       "      <td>SPAC1002.02</td>\n",
       "      <td>pom34</td>\n",
       "      <td>SPAC1002.02</td>\n",
       "      <td>pom34</td>\n",
       "      <td>SPAC1002.02.1</td>\n",
       "      <td>690</td>\n",
       "      <td>303.0</td>\n",
       "      <td>NaN</td>\n",
       "      <td>mRNA</td>\n",
       "      <td>993</td>\n",
       "    </tr>\n",
       "    <tr>\n",
       "      <th>2</th>\n",
       "      <td>I</td>\n",
       "      <td>PomBase</td>\n",
       "      <td>gene</td>\n",
       "      <td>1799915</td>\n",
       "      <td>1803141</td>\n",
       "      <td>.</td>\n",
       "      <td>-</td>\n",
       "      <td>.</td>\n",
       "      <td>SPAC1002.03c</td>\n",
       "      <td>gls2</td>\n",
       "      <td>SPAC1002.03c</td>\n",
       "      <td>gls2</td>\n",
       "      <td>SPAC1002.03c.1</td>\n",
       "      <td>2772</td>\n",
       "      <td>455.0</td>\n",
       "      <td>NaN</td>\n",
       "      <td>mRNA</td>\n",
       "      <td>3227</td>\n",
       "    </tr>\n",
       "    <tr>\n",
       "      <th>3</th>\n",
       "      <td>I</td>\n",
       "      <td>PomBase</td>\n",
       "      <td>gene</td>\n",
       "      <td>1803624</td>\n",
       "      <td>1804491</td>\n",
       "      <td>.</td>\n",
       "      <td>-</td>\n",
       "      <td>.</td>\n",
       "      <td>SPAC1002.04c</td>\n",
       "      <td>taf11</td>\n",
       "      <td>SPAC1002.04c</td>\n",
       "      <td>taf11</td>\n",
       "      <td>SPAC1002.04c.1</td>\n",
       "      <td>600</td>\n",
       "      <td>268.0</td>\n",
       "      <td>NaN</td>\n",
       "      <td>mRNA</td>\n",
       "      <td>868</td>\n",
       "    </tr>\n",
       "    <tr>\n",
       "      <th>4</th>\n",
       "      <td>I</td>\n",
       "      <td>PomBase</td>\n",
       "      <td>gene</td>\n",
       "      <td>1804548</td>\n",
       "      <td>1806797</td>\n",
       "      <td>.</td>\n",
       "      <td>-</td>\n",
       "      <td>.</td>\n",
       "      <td>SPAC1002.05c</td>\n",
       "      <td>jmj2</td>\n",
       "      <td>SPAC1002.05c</td>\n",
       "      <td>jmj2</td>\n",
       "      <td>SPAC1002.05c.1</td>\n",
       "      <td>2148</td>\n",
       "      <td>102.0</td>\n",
       "      <td>NaN</td>\n",
       "      <td>mRNA</td>\n",
       "      <td>2250</td>\n",
       "    </tr>\n",
       "  </tbody>\n",
       "</table>\n",
       "</div>"
      ],
      "text/plain": [
       "  seqid   source  type    start      end score strand phase            ID  \\\n",
       "0     I  PomBase  gene  1798347  1799015     .      +     .   SPAC1002.01   \n",
       "1     I  PomBase  gene  1799061  1800053     .      +     .   SPAC1002.02   \n",
       "2     I  PomBase  gene  1799915  1803141     .      -     .  SPAC1002.03c   \n",
       "3     I  PomBase  gene  1803624  1804491     .      -     .  SPAC1002.04c   \n",
       "4     I  PomBase  gene  1804548  1806797     .      -     .  SPAC1002.05c   \n",
       "\n",
       "    Name       gene_id gene_name   transcript_id  cds_length  utr_length  \\\n",
       "0  mrx11   SPAC1002.01     mrx11   SPAC1002.01.1         540         NaN   \n",
       "1  pom34   SPAC1002.02     pom34   SPAC1002.02.1         690       303.0   \n",
       "2   gls2  SPAC1002.03c      gls2  SPAC1002.03c.1        2772       455.0   \n",
       "3  taf11  SPAC1002.04c     taf11  SPAC1002.04c.1         600       268.0   \n",
       "4   jmj2  SPAC1002.05c      jmj2  SPAC1002.05c.1        2148       102.0   \n",
       "\n",
       "   intron_length bio_type  gene_length  \n",
       "0          129.0     mRNA          669  \n",
       "1            NaN     mRNA          993  \n",
       "2            NaN     mRNA         3227  \n",
       "3            NaN     mRNA          868  \n",
       "4            NaN     mRNA         2250  "
      ]
     },
     "execution_count": 100,
     "metadata": {},
     "output_type": "execute_result"
    }
   ],
   "source": [
    "gene_df.head()"
   ]
  },
  {
   "cell_type": "code",
   "execution_count": 101,
   "metadata": {},
   "outputs": [
    {
     "data": {
      "text/plain": [
       "(7005, 18)"
      ]
     },
     "execution_count": 101,
     "metadata": {},
     "output_type": "execute_result"
    }
   ],
   "source": [
    "gene_df.shape"
   ]
  },
  {
   "cell_type": "markdown",
   "metadata": {},
   "source": [
    "- Add `transcript_length` **Column** to the `gene_df`: `transcript_length` = `cds_length` + `utr_length`"
   ]
  },
  {
   "cell_type": "code",
   "execution_count": 102,
   "metadata": {},
   "outputs": [],
   "source": [
    "gene_df['transcript_length'] = gene_df[[\"cds_length\", \"utr_length\"]].sum(axis=1)"
   ]
  },
  {
   "cell_type": "code",
   "execution_count": 103,
   "metadata": {},
   "outputs": [
    {
     "data": {
      "text/html": [
       "<div>\n",
       "<style scoped>\n",
       "    .dataframe tbody tr th:only-of-type {\n",
       "        vertical-align: middle;\n",
       "    }\n",
       "\n",
       "    .dataframe tbody tr th {\n",
       "        vertical-align: top;\n",
       "    }\n",
       "\n",
       "    .dataframe thead th {\n",
       "        text-align: right;\n",
       "    }\n",
       "</style>\n",
       "<table border=\"1\" class=\"dataframe\">\n",
       "  <thead>\n",
       "    <tr style=\"text-align: right;\">\n",
       "      <th></th>\n",
       "      <th>seqid</th>\n",
       "      <th>source</th>\n",
       "      <th>type</th>\n",
       "      <th>start</th>\n",
       "      <th>end</th>\n",
       "      <th>score</th>\n",
       "      <th>strand</th>\n",
       "      <th>phase</th>\n",
       "      <th>ID</th>\n",
       "      <th>Name</th>\n",
       "      <th>gene_id</th>\n",
       "      <th>gene_name</th>\n",
       "      <th>transcript_id</th>\n",
       "      <th>cds_length</th>\n",
       "      <th>utr_length</th>\n",
       "      <th>intron_length</th>\n",
       "      <th>bio_type</th>\n",
       "      <th>gene_length</th>\n",
       "      <th>transcript_length</th>\n",
       "    </tr>\n",
       "  </thead>\n",
       "  <tbody>\n",
       "    <tr>\n",
       "      <th>0</th>\n",
       "      <td>I</td>\n",
       "      <td>PomBase</td>\n",
       "      <td>gene</td>\n",
       "      <td>1798347</td>\n",
       "      <td>1799015</td>\n",
       "      <td>.</td>\n",
       "      <td>+</td>\n",
       "      <td>.</td>\n",
       "      <td>SPAC1002.01</td>\n",
       "      <td>mrx11</td>\n",
       "      <td>SPAC1002.01</td>\n",
       "      <td>mrx11</td>\n",
       "      <td>SPAC1002.01.1</td>\n",
       "      <td>540</td>\n",
       "      <td>NaN</td>\n",
       "      <td>129.0</td>\n",
       "      <td>mRNA</td>\n",
       "      <td>669</td>\n",
       "      <td>540.0</td>\n",
       "    </tr>\n",
       "    <tr>\n",
       "      <th>1</th>\n",
       "      <td>I</td>\n",
       "      <td>PomBase</td>\n",
       "      <td>gene</td>\n",
       "      <td>1799061</td>\n",
       "      <td>1800053</td>\n",
       "      <td>.</td>\n",
       "      <td>+</td>\n",
       "      <td>.</td>\n",
       "      <td>SPAC1002.02</td>\n",
       "      <td>pom34</td>\n",
       "      <td>SPAC1002.02</td>\n",
       "      <td>pom34</td>\n",
       "      <td>SPAC1002.02.1</td>\n",
       "      <td>690</td>\n",
       "      <td>303.0</td>\n",
       "      <td>NaN</td>\n",
       "      <td>mRNA</td>\n",
       "      <td>993</td>\n",
       "      <td>993.0</td>\n",
       "    </tr>\n",
       "    <tr>\n",
       "      <th>2</th>\n",
       "      <td>I</td>\n",
       "      <td>PomBase</td>\n",
       "      <td>gene</td>\n",
       "      <td>1799915</td>\n",
       "      <td>1803141</td>\n",
       "      <td>.</td>\n",
       "      <td>-</td>\n",
       "      <td>.</td>\n",
       "      <td>SPAC1002.03c</td>\n",
       "      <td>gls2</td>\n",
       "      <td>SPAC1002.03c</td>\n",
       "      <td>gls2</td>\n",
       "      <td>SPAC1002.03c.1</td>\n",
       "      <td>2772</td>\n",
       "      <td>455.0</td>\n",
       "      <td>NaN</td>\n",
       "      <td>mRNA</td>\n",
       "      <td>3227</td>\n",
       "      <td>3227.0</td>\n",
       "    </tr>\n",
       "    <tr>\n",
       "      <th>3</th>\n",
       "      <td>I</td>\n",
       "      <td>PomBase</td>\n",
       "      <td>gene</td>\n",
       "      <td>1803624</td>\n",
       "      <td>1804491</td>\n",
       "      <td>.</td>\n",
       "      <td>-</td>\n",
       "      <td>.</td>\n",
       "      <td>SPAC1002.04c</td>\n",
       "      <td>taf11</td>\n",
       "      <td>SPAC1002.04c</td>\n",
       "      <td>taf11</td>\n",
       "      <td>SPAC1002.04c.1</td>\n",
       "      <td>600</td>\n",
       "      <td>268.0</td>\n",
       "      <td>NaN</td>\n",
       "      <td>mRNA</td>\n",
       "      <td>868</td>\n",
       "      <td>868.0</td>\n",
       "    </tr>\n",
       "    <tr>\n",
       "      <th>4</th>\n",
       "      <td>I</td>\n",
       "      <td>PomBase</td>\n",
       "      <td>gene</td>\n",
       "      <td>1804548</td>\n",
       "      <td>1806797</td>\n",
       "      <td>.</td>\n",
       "      <td>-</td>\n",
       "      <td>.</td>\n",
       "      <td>SPAC1002.05c</td>\n",
       "      <td>jmj2</td>\n",
       "      <td>SPAC1002.05c</td>\n",
       "      <td>jmj2</td>\n",
       "      <td>SPAC1002.05c.1</td>\n",
       "      <td>2148</td>\n",
       "      <td>102.0</td>\n",
       "      <td>NaN</td>\n",
       "      <td>mRNA</td>\n",
       "      <td>2250</td>\n",
       "      <td>2250.0</td>\n",
       "    </tr>\n",
       "  </tbody>\n",
       "</table>\n",
       "</div>"
      ],
      "text/plain": [
       "  seqid   source  type    start      end score strand phase            ID  \\\n",
       "0     I  PomBase  gene  1798347  1799015     .      +     .   SPAC1002.01   \n",
       "1     I  PomBase  gene  1799061  1800053     .      +     .   SPAC1002.02   \n",
       "2     I  PomBase  gene  1799915  1803141     .      -     .  SPAC1002.03c   \n",
       "3     I  PomBase  gene  1803624  1804491     .      -     .  SPAC1002.04c   \n",
       "4     I  PomBase  gene  1804548  1806797     .      -     .  SPAC1002.05c   \n",
       "\n",
       "    Name       gene_id gene_name   transcript_id  cds_length  utr_length  \\\n",
       "0  mrx11   SPAC1002.01     mrx11   SPAC1002.01.1         540         NaN   \n",
       "1  pom34   SPAC1002.02     pom34   SPAC1002.02.1         690       303.0   \n",
       "2   gls2  SPAC1002.03c      gls2  SPAC1002.03c.1        2772       455.0   \n",
       "3  taf11  SPAC1002.04c     taf11  SPAC1002.04c.1         600       268.0   \n",
       "4   jmj2  SPAC1002.05c      jmj2  SPAC1002.05c.1        2148       102.0   \n",
       "\n",
       "   intron_length bio_type  gene_length  transcript_length  \n",
       "0          129.0     mRNA          669              540.0  \n",
       "1            NaN     mRNA          993              993.0  \n",
       "2            NaN     mRNA         3227             3227.0  \n",
       "3            NaN     mRNA          868              868.0  \n",
       "4            NaN     mRNA         2250             2250.0  "
      ]
     },
     "execution_count": 103,
     "metadata": {},
     "output_type": "execute_result"
    }
   ],
   "source": [
    "gene_df.head()"
   ]
  },
  {
   "cell_type": "code",
   "execution_count": 104,
   "metadata": {},
   "outputs": [
    {
     "data": {
      "text/plain": [
       "(7005, 19)"
      ]
     },
     "execution_count": 104,
     "metadata": {},
     "output_type": "execute_result"
    }
   ],
   "source": [
    "gene_df.shape"
   ]
  },
  {
   "cell_type": "markdown",
   "metadata": {},
   "source": [
    "---------------------------"
   ]
  },
  {
   "cell_type": "markdown",
   "metadata": {},
   "source": [
    "## Add `Category` Information"
   ]
  },
  {
   "cell_type": "markdown",
   "metadata": {},
   "source": [
    "- Load Heterochromatic features (**repeats**) `GTF/GFF` **file** as `gdf`"
   ]
  },
  {
   "cell_type": "code",
   "execution_count": 105,
   "metadata": {},
   "outputs": [],
   "source": [
    "htc_features_df = pd.read_csv(in_heterochromatic_features, sep='\\t', comment='#', names=gff_header)"
   ]
  },
  {
   "cell_type": "code",
   "execution_count": 106,
   "metadata": {},
   "outputs": [],
   "source": [
    "## Parse `attributes` colummn\n",
    "attributes_df = htc_features_df['attributes'].apply(lambda x: Util.parse_attribute_col(x))\n",
    "\n",
    "attributes_df = pd.DataFrame(attributes_df.values.tolist(), index=htc_features_df.index)\n",
    "htc_features_df = pd.concat([htc_features_df.drop('attributes', axis=1), attributes_df], axis=1)"
   ]
  },
  {
   "cell_type": "code",
   "execution_count": 107,
   "metadata": {},
   "outputs": [],
   "source": [
    "#htc_features_df.head()"
   ]
  },
  {
   "cell_type": "code",
   "execution_count": 108,
   "metadata": {},
   "outputs": [],
   "source": [
    "#htc_features_df.shape"
   ]
  },
  {
   "cell_type": "markdown",
   "metadata": {},
   "source": [
    "- Get break-down of Heterochromatic **features**"
   ]
  },
  {
   "cell_type": "code",
   "execution_count": 109,
   "metadata": {},
   "outputs": [
    {
     "data": {
      "text/html": [
       "<div>\n",
       "<style scoped>\n",
       "    .dataframe tbody tr th:only-of-type {\n",
       "        vertical-align: middle;\n",
       "    }\n",
       "\n",
       "    .dataframe tbody tr th {\n",
       "        vertical-align: top;\n",
       "    }\n",
       "\n",
       "    .dataframe thead th {\n",
       "        text-align: right;\n",
       "    }\n",
       "</style>\n",
       "<table border=\"1\" class=\"dataframe\">\n",
       "  <thead>\n",
       "    <tr style=\"text-align: right;\">\n",
       "      <th></th>\n",
       "      <th>ID</th>\n",
       "    </tr>\n",
       "    <tr>\n",
       "      <th>type</th>\n",
       "      <th></th>\n",
       "    </tr>\n",
       "  </thead>\n",
       "  <tbody>\n",
       "    <tr>\n",
       "      <th>CDS</th>\n",
       "      <td>32</td>\n",
       "    </tr>\n",
       "    <tr>\n",
       "      <th>five_prime_UTR</th>\n",
       "      <td>7</td>\n",
       "    </tr>\n",
       "    <tr>\n",
       "      <th>gene</th>\n",
       "      <td>27</td>\n",
       "    </tr>\n",
       "    <tr>\n",
       "      <th>intron</th>\n",
       "      <td>5</td>\n",
       "    </tr>\n",
       "    <tr>\n",
       "      <th>mRNA</th>\n",
       "      <td>21</td>\n",
       "    </tr>\n",
       "    <tr>\n",
       "      <th>ncRNA</th>\n",
       "      <td>1</td>\n",
       "    </tr>\n",
       "    <tr>\n",
       "      <th>pseudogenic_transcript</th>\n",
       "      <td>5</td>\n",
       "    </tr>\n",
       "    <tr>\n",
       "      <th>three_prime_UTR</th>\n",
       "      <td>7</td>\n",
       "    </tr>\n",
       "  </tbody>\n",
       "</table>\n",
       "</div>"
      ],
      "text/plain": [
       "                        ID\n",
       "type                      \n",
       "CDS                     32\n",
       "five_prime_UTR           7\n",
       "gene                    27\n",
       "intron                   5\n",
       "mRNA                    21\n",
       "ncRNA                    1\n",
       "pseudogenic_transcript   5\n",
       "three_prime_UTR          7"
      ]
     },
     "execution_count": 109,
     "metadata": {},
     "output_type": "execute_result"
    }
   ],
   "source": [
    "htc_features_df[['ID', 'type']].groupby('type').count()"
   ]
  },
  {
   "cell_type": "markdown",
   "metadata": {},
   "source": [
    "- Get `gene` **features** by selecting those entries without a `Parent`"
   ]
  },
  {
   "cell_type": "code",
   "execution_count": 110,
   "metadata": {},
   "outputs": [],
   "source": [
    "htc_features_df = htc_features_df[htc_features_df['Parent'].isnull()]"
   ]
  },
  {
   "cell_type": "code",
   "execution_count": 111,
   "metadata": {},
   "outputs": [],
   "source": [
    "#htc_features_df"
   ]
  },
  {
   "cell_type": "code",
   "execution_count": 112,
   "metadata": {},
   "outputs": [],
   "source": [
    "#htc_features_df.shape"
   ]
  },
  {
   "cell_type": "code",
   "execution_count": 113,
   "metadata": {},
   "outputs": [
    {
     "data": {
      "text/html": [
       "<div>\n",
       "<style scoped>\n",
       "    .dataframe tbody tr th:only-of-type {\n",
       "        vertical-align: middle;\n",
       "    }\n",
       "\n",
       "    .dataframe tbody tr th {\n",
       "        vertical-align: top;\n",
       "    }\n",
       "\n",
       "    .dataframe thead th {\n",
       "        text-align: right;\n",
       "    }\n",
       "</style>\n",
       "<table border=\"1\" class=\"dataframe\">\n",
       "  <thead>\n",
       "    <tr style=\"text-align: right;\">\n",
       "      <th></th>\n",
       "      <th>ID</th>\n",
       "    </tr>\n",
       "    <tr>\n",
       "      <th>type</th>\n",
       "      <th></th>\n",
       "    </tr>\n",
       "  </thead>\n",
       "  <tbody>\n",
       "    <tr>\n",
       "      <th>gene</th>\n",
       "      <td>27</td>\n",
       "    </tr>\n",
       "  </tbody>\n",
       "</table>\n",
       "</div>"
      ],
      "text/plain": [
       "      ID\n",
       "type    \n",
       "gene  27"
      ]
     },
     "execution_count": 113,
     "metadata": {},
     "output_type": "execute_result"
    }
   ],
   "source": [
    "htc_features_df[['ID', 'type']].groupby('type').count()"
   ]
  },
  {
   "cell_type": "code",
   "execution_count": 114,
   "metadata": {},
   "outputs": [
    {
     "data": {
      "text/plain": [
       "(27, 11)"
      ]
     },
     "execution_count": 114,
     "metadata": {},
     "output_type": "execute_result"
    }
   ],
   "source": [
    "htc_features_df.shape"
   ]
  },
  {
   "cell_type": "markdown",
   "metadata": {},
   "source": [
    "---------------------------"
   ]
  },
  {
   "cell_type": "markdown",
   "metadata": {},
   "source": [
    "## Include (non-gene) features found in `GTF/GFF`:"
   ]
  },
  {
   "cell_type": "markdown",
   "metadata": {},
   "source": [
    "### **a.** Features present in the **Mating Type Region** chromosome"
   ]
  },
  {
   "cell_type": "markdown",
   "metadata": {},
   "source": [
    "- Get all features present in the **chromosome** `mating_type_region`"
   ]
  },
  {
   "cell_type": "code",
   "execution_count": 115,
   "metadata": {},
   "outputs": [],
   "source": [
    "mating_type_region_df = gff[gff['seqid'] == 'mating_type_region'].sort_values(['seqid', 'start', 'end', 'ID'])"
   ]
  },
  {
   "cell_type": "code",
   "execution_count": 116,
   "metadata": {},
   "outputs": [],
   "source": [
    "#mating_type_region_df.head()"
   ]
  },
  {
   "cell_type": "code",
   "execution_count": 117,
   "metadata": {},
   "outputs": [],
   "source": [
    "#mating_type_region_df.shape"
   ]
  },
  {
   "cell_type": "markdown",
   "metadata": {},
   "source": [
    "- Get break-down of `mating_type_region` **features**"
   ]
  },
  {
   "cell_type": "code",
   "execution_count": 118,
   "metadata": {},
   "outputs": [
    {
     "data": {
      "text/html": [
       "<div>\n",
       "<style scoped>\n",
       "    .dataframe tbody tr th:only-of-type {\n",
       "        vertical-align: middle;\n",
       "    }\n",
       "\n",
       "    .dataframe tbody tr th {\n",
       "        vertical-align: top;\n",
       "    }\n",
       "\n",
       "    .dataframe thead th {\n",
       "        text-align: right;\n",
       "    }\n",
       "</style>\n",
       "<table border=\"1\" class=\"dataframe\">\n",
       "  <thead>\n",
       "    <tr style=\"text-align: right;\">\n",
       "      <th></th>\n",
       "      <th>ID</th>\n",
       "    </tr>\n",
       "    <tr>\n",
       "      <th>type</th>\n",
       "      <th></th>\n",
       "    </tr>\n",
       "  </thead>\n",
       "  <tbody>\n",
       "    <tr>\n",
       "      <th>TR_box</th>\n",
       "      <td>1</td>\n",
       "    </tr>\n",
       "    <tr>\n",
       "      <th>CDS</th>\n",
       "      <td>2</td>\n",
       "    </tr>\n",
       "    <tr>\n",
       "      <th>five_prime_UTR</th>\n",
       "      <td>2</td>\n",
       "    </tr>\n",
       "    <tr>\n",
       "      <th>gene</th>\n",
       "      <td>2</td>\n",
       "    </tr>\n",
       "    <tr>\n",
       "      <th>mRNA</th>\n",
       "      <td>2</td>\n",
       "    </tr>\n",
       "    <tr>\n",
       "      <th>region</th>\n",
       "      <td>11</td>\n",
       "    </tr>\n",
       "  </tbody>\n",
       "</table>\n",
       "</div>"
      ],
      "text/plain": [
       "                ID\n",
       "type              \n",
       "TR_box           1\n",
       "CDS              2\n",
       "five_prime_UTR   2\n",
       "gene             2\n",
       "mRNA             2\n",
       "region          11"
      ]
     },
     "execution_count": 118,
     "metadata": {},
     "output_type": "execute_result"
    }
   ],
   "source": [
    "mating_type_region_df_by_type = mating_type_region_df[['type', 'ID']].groupby(['type']).count()\n",
    "mating_type_region_df_by_type.sort_values('ID')"
   ]
  },
  {
   "cell_type": "markdown",
   "metadata": {},
   "source": [
    "- Exclude `TR_box` **features**"
   ]
  },
  {
   "cell_type": "code",
   "execution_count": 119,
   "metadata": {},
   "outputs": [],
   "source": [
    "exclude_features = ['TR_box']"
   ]
  },
  {
   "cell_type": "code",
   "execution_count": 120,
   "metadata": {},
   "outputs": [],
   "source": [
    "mating_type_region_df = mating_type_region_df[~mating_type_region_df['type'].isin(exclude_features)]"
   ]
  },
  {
   "cell_type": "code",
   "execution_count": 121,
   "metadata": {},
   "outputs": [
    {
     "data": {
      "text/html": [
       "<div>\n",
       "<style scoped>\n",
       "    .dataframe tbody tr th:only-of-type {\n",
       "        vertical-align: middle;\n",
       "    }\n",
       "\n",
       "    .dataframe tbody tr th {\n",
       "        vertical-align: top;\n",
       "    }\n",
       "\n",
       "    .dataframe thead th {\n",
       "        text-align: right;\n",
       "    }\n",
       "</style>\n",
       "<table border=\"1\" class=\"dataframe\">\n",
       "  <thead>\n",
       "    <tr style=\"text-align: right;\">\n",
       "      <th></th>\n",
       "      <th>seqid</th>\n",
       "      <th>source</th>\n",
       "      <th>type</th>\n",
       "      <th>start</th>\n",
       "      <th>end</th>\n",
       "      <th>score</th>\n",
       "      <th>strand</th>\n",
       "      <th>phase</th>\n",
       "      <th>ID</th>\n",
       "      <th>Name</th>\n",
       "      <th>Parent</th>\n",
       "    </tr>\n",
       "  </thead>\n",
       "  <tbody>\n",
       "    <tr>\n",
       "      <th>41301</th>\n",
       "      <td>mating_type_region</td>\n",
       "      <td>PomBase</td>\n",
       "      <td>region</td>\n",
       "      <td>1</td>\n",
       "      <td>2120</td>\n",
       "      <td>.</td>\n",
       "      <td>+</td>\n",
       "      <td>.</td>\n",
       "      <td>FP565355_region_1..2120</td>\n",
       "      <td>NaN</td>\n",
       "      <td>NaN</td>\n",
       "    </tr>\n",
       "    <tr>\n",
       "      <th>41618</th>\n",
       "      <td>mating_type_region</td>\n",
       "      <td>PomBase</td>\n",
       "      <td>region</td>\n",
       "      <td>3203</td>\n",
       "      <td>3259</td>\n",
       "      <td>.</td>\n",
       "      <td>+</td>\n",
       "      <td>.</td>\n",
       "      <td>FP565355_region_3203..3259</td>\n",
       "      <td>NaN</td>\n",
       "      <td>NaN</td>\n",
       "    </tr>\n",
       "    <tr>\n",
       "      <th>41215</th>\n",
       "      <td>mating_type_region</td>\n",
       "      <td>PomBase</td>\n",
       "      <td>region</td>\n",
       "      <td>3260</td>\n",
       "      <td>3394</td>\n",
       "      <td>.</td>\n",
       "      <td>+</td>\n",
       "      <td>.</td>\n",
       "      <td>FP565355_region_3260..3394</td>\n",
       "      <td>NaN</td>\n",
       "      <td>NaN</td>\n",
       "    </tr>\n",
       "    <tr>\n",
       "      <th>36244</th>\n",
       "      <td>mating_type_region</td>\n",
       "      <td>PomBase</td>\n",
       "      <td>CDS</td>\n",
       "      <td>3354</td>\n",
       "      <td>3710</td>\n",
       "      <td>.</td>\n",
       "      <td>-</td>\n",
       "      <td>.</td>\n",
       "      <td>SPMTR.01.1:exon:1</td>\n",
       "      <td>NaN</td>\n",
       "      <td>SPMTR.01.1</td>\n",
       "    </tr>\n",
       "    <tr>\n",
       "      <th>36241</th>\n",
       "      <td>mating_type_region</td>\n",
       "      <td>PomBase</td>\n",
       "      <td>gene</td>\n",
       "      <td>3354</td>\n",
       "      <td>3753</td>\n",
       "      <td>.</td>\n",
       "      <td>-</td>\n",
       "      <td>.</td>\n",
       "      <td>SPMTR.01</td>\n",
       "      <td>mat2-Pc</td>\n",
       "      <td>NaN</td>\n",
       "    </tr>\n",
       "    <tr>\n",
       "      <th>36242</th>\n",
       "      <td>mating_type_region</td>\n",
       "      <td>PomBase</td>\n",
       "      <td>mRNA</td>\n",
       "      <td>3354</td>\n",
       "      <td>3753</td>\n",
       "      <td>.</td>\n",
       "      <td>-</td>\n",
       "      <td>.</td>\n",
       "      <td>SPMTR.01.1</td>\n",
       "      <td>NaN</td>\n",
       "      <td>SPMTR.01</td>\n",
       "    </tr>\n",
       "    <tr>\n",
       "      <th>41256</th>\n",
       "      <td>mating_type_region</td>\n",
       "      <td>PomBase</td>\n",
       "      <td>region</td>\n",
       "      <td>3395</td>\n",
       "      <td>4497</td>\n",
       "      <td>.</td>\n",
       "      <td>+</td>\n",
       "      <td>.</td>\n",
       "      <td>FP565355_region_3395..4497</td>\n",
       "      <td>NaN</td>\n",
       "      <td>NaN</td>\n",
       "    </tr>\n",
       "    <tr>\n",
       "      <th>36243</th>\n",
       "      <td>mating_type_region</td>\n",
       "      <td>PomBase</td>\n",
       "      <td>five_prime_UTR</td>\n",
       "      <td>3711</td>\n",
       "      <td>3753</td>\n",
       "      <td>.</td>\n",
       "      <td>-</td>\n",
       "      <td>.</td>\n",
       "      <td>SPMTR.01.1:five_prime_UTR:1</td>\n",
       "      <td>NaN</td>\n",
       "      <td>SPMTR.01.1</td>\n",
       "    </tr>\n",
       "    <tr>\n",
       "      <th>36247</th>\n",
       "      <td>mating_type_region</td>\n",
       "      <td>PomBase</td>\n",
       "      <td>five_prime_UTR</td>\n",
       "      <td>3861</td>\n",
       "      <td>3888</td>\n",
       "      <td>.</td>\n",
       "      <td>+</td>\n",
       "      <td>.</td>\n",
       "      <td>SPMTR.02.1:five_prime_UTR:1</td>\n",
       "      <td>NaN</td>\n",
       "      <td>SPMTR.02.1</td>\n",
       "    </tr>\n",
       "    <tr>\n",
       "      <th>36245</th>\n",
       "      <td>mating_type_region</td>\n",
       "      <td>PomBase</td>\n",
       "      <td>gene</td>\n",
       "      <td>3861</td>\n",
       "      <td>4368</td>\n",
       "      <td>.</td>\n",
       "      <td>+</td>\n",
       "      <td>.</td>\n",
       "      <td>SPMTR.02</td>\n",
       "      <td>mat2-Pi</td>\n",
       "      <td>NaN</td>\n",
       "    </tr>\n",
       "    <tr>\n",
       "      <th>36246</th>\n",
       "      <td>mating_type_region</td>\n",
       "      <td>PomBase</td>\n",
       "      <td>mRNA</td>\n",
       "      <td>3861</td>\n",
       "      <td>4368</td>\n",
       "      <td>.</td>\n",
       "      <td>+</td>\n",
       "      <td>.</td>\n",
       "      <td>SPMTR.02.1</td>\n",
       "      <td>NaN</td>\n",
       "      <td>SPMTR.02</td>\n",
       "    </tr>\n",
       "    <tr>\n",
       "      <th>36248</th>\n",
       "      <td>mating_type_region</td>\n",
       "      <td>PomBase</td>\n",
       "      <td>CDS</td>\n",
       "      <td>3889</td>\n",
       "      <td>4368</td>\n",
       "      <td>.</td>\n",
       "      <td>+</td>\n",
       "      <td>.</td>\n",
       "      <td>SPMTR.02.1:exon:1</td>\n",
       "      <td>NaN</td>\n",
       "      <td>SPMTR.02.1</td>\n",
       "    </tr>\n",
       "    <tr>\n",
       "      <th>41606</th>\n",
       "      <td>mating_type_region</td>\n",
       "      <td>PomBase</td>\n",
       "      <td>region</td>\n",
       "      <td>4498</td>\n",
       "      <td>4556</td>\n",
       "      <td>.</td>\n",
       "      <td>+</td>\n",
       "      <td>.</td>\n",
       "      <td>FP565355_region_4498..4556</td>\n",
       "      <td>NaN</td>\n",
       "      <td>NaN</td>\n",
       "    </tr>\n",
       "    <tr>\n",
       "      <th>41427</th>\n",
       "      <td>mating_type_region</td>\n",
       "      <td>PomBase</td>\n",
       "      <td>region</td>\n",
       "      <td>9170</td>\n",
       "      <td>13408</td>\n",
       "      <td>.</td>\n",
       "      <td>+</td>\n",
       "      <td>.</td>\n",
       "      <td>FP565355_region_9170..13408</td>\n",
       "      <td>NaN</td>\n",
       "      <td>NaN</td>\n",
       "    </tr>\n",
       "    <tr>\n",
       "      <th>41487</th>\n",
       "      <td>mating_type_region</td>\n",
       "      <td>PomBase</td>\n",
       "      <td>region</td>\n",
       "      <td>15417</td>\n",
       "      <td>15473</td>\n",
       "      <td>.</td>\n",
       "      <td>+</td>\n",
       "      <td>.</td>\n",
       "      <td>FP565355_region_15417..15473</td>\n",
       "      <td>NaN</td>\n",
       "      <td>NaN</td>\n",
       "    </tr>\n",
       "    <tr>\n",
       "      <th>41515</th>\n",
       "      <td>mating_type_region</td>\n",
       "      <td>PomBase</td>\n",
       "      <td>region</td>\n",
       "      <td>15474</td>\n",
       "      <td>15608</td>\n",
       "      <td>.</td>\n",
       "      <td>+</td>\n",
       "      <td>.</td>\n",
       "      <td>FP565355_region_15474..15608</td>\n",
       "      <td>NaN</td>\n",
       "      <td>NaN</td>\n",
       "    </tr>\n",
       "    <tr>\n",
       "      <th>41544</th>\n",
       "      <td>mating_type_region</td>\n",
       "      <td>PomBase</td>\n",
       "      <td>region</td>\n",
       "      <td>15609</td>\n",
       "      <td>16735</td>\n",
       "      <td>.</td>\n",
       "      <td>+</td>\n",
       "      <td>.</td>\n",
       "      <td>FP565355_region_15609..16735</td>\n",
       "      <td>NaN</td>\n",
       "      <td>NaN</td>\n",
       "    </tr>\n",
       "    <tr>\n",
       "      <th>41351</th>\n",
       "      <td>mating_type_region</td>\n",
       "      <td>PomBase</td>\n",
       "      <td>region</td>\n",
       "      <td>16736</td>\n",
       "      <td>16794</td>\n",
       "      <td>.</td>\n",
       "      <td>+</td>\n",
       "      <td>.</td>\n",
       "      <td>FP565355_region_16736..16794</td>\n",
       "      <td>NaN</td>\n",
       "      <td>NaN</td>\n",
       "    </tr>\n",
       "    <tr>\n",
       "      <th>41610</th>\n",
       "      <td>mating_type_region</td>\n",
       "      <td>PomBase</td>\n",
       "      <td>region</td>\n",
       "      <td>18009</td>\n",
       "      <td>20128</td>\n",
       "      <td>.</td>\n",
       "      <td>+</td>\n",
       "      <td>.</td>\n",
       "      <td>FP565355_region_18009..20128</td>\n",
       "      <td>NaN</td>\n",
       "      <td>NaN</td>\n",
       "    </tr>\n",
       "  </tbody>\n",
       "</table>\n",
       "</div>"
      ],
      "text/plain": [
       "                    seqid   source            type  start    end score strand  \\\n",
       "41301  mating_type_region  PomBase          region      1   2120     .      +   \n",
       "41618  mating_type_region  PomBase          region   3203   3259     .      +   \n",
       "41215  mating_type_region  PomBase          region   3260   3394     .      +   \n",
       "36244  mating_type_region  PomBase             CDS   3354   3710     .      -   \n",
       "36241  mating_type_region  PomBase            gene   3354   3753     .      -   \n",
       "36242  mating_type_region  PomBase            mRNA   3354   3753     .      -   \n",
       "41256  mating_type_region  PomBase          region   3395   4497     .      +   \n",
       "36243  mating_type_region  PomBase  five_prime_UTR   3711   3753     .      -   \n",
       "36247  mating_type_region  PomBase  five_prime_UTR   3861   3888     .      +   \n",
       "36245  mating_type_region  PomBase            gene   3861   4368     .      +   \n",
       "36246  mating_type_region  PomBase            mRNA   3861   4368     .      +   \n",
       "36248  mating_type_region  PomBase             CDS   3889   4368     .      +   \n",
       "41606  mating_type_region  PomBase          region   4498   4556     .      +   \n",
       "41427  mating_type_region  PomBase          region   9170  13408     .      +   \n",
       "41487  mating_type_region  PomBase          region  15417  15473     .      +   \n",
       "41515  mating_type_region  PomBase          region  15474  15608     .      +   \n",
       "41544  mating_type_region  PomBase          region  15609  16735     .      +   \n",
       "41351  mating_type_region  PomBase          region  16736  16794     .      +   \n",
       "41610  mating_type_region  PomBase          region  18009  20128     .      +   \n",
       "\n",
       "      phase                            ID     Name      Parent  \n",
       "41301     .       FP565355_region_1..2120      NaN         NaN  \n",
       "41618     .    FP565355_region_3203..3259      NaN         NaN  \n",
       "41215     .    FP565355_region_3260..3394      NaN         NaN  \n",
       "36244     .             SPMTR.01.1:exon:1      NaN  SPMTR.01.1  \n",
       "36241     .                      SPMTR.01  mat2-Pc         NaN  \n",
       "36242     .                    SPMTR.01.1      NaN    SPMTR.01  \n",
       "41256     .    FP565355_region_3395..4497      NaN         NaN  \n",
       "36243     .   SPMTR.01.1:five_prime_UTR:1      NaN  SPMTR.01.1  \n",
       "36247     .   SPMTR.02.1:five_prime_UTR:1      NaN  SPMTR.02.1  \n",
       "36245     .                      SPMTR.02  mat2-Pi         NaN  \n",
       "36246     .                    SPMTR.02.1      NaN    SPMTR.02  \n",
       "36248     .             SPMTR.02.1:exon:1      NaN  SPMTR.02.1  \n",
       "41606     .    FP565355_region_4498..4556      NaN         NaN  \n",
       "41427     .   FP565355_region_9170..13408      NaN         NaN  \n",
       "41487     .  FP565355_region_15417..15473      NaN         NaN  \n",
       "41515     .  FP565355_region_15474..15608      NaN         NaN  \n",
       "41544     .  FP565355_region_15609..16735      NaN         NaN  \n",
       "41351     .  FP565355_region_16736..16794      NaN         NaN  \n",
       "41610     .  FP565355_region_18009..20128      NaN         NaN  "
      ]
     },
     "execution_count": 121,
     "metadata": {},
     "output_type": "execute_result"
    }
   ],
   "source": [
    "mating_type_region_df"
   ]
  },
  {
   "cell_type": "markdown",
   "metadata": {},
   "source": [
    "**Genes:**  (`2`)\n",
    "    * SPMTR.01: mat2-Pc\n",
    "    * SPMTR.02: mat2-Pi\n",
    "    \n",
    "<font color='red'> Already have been processed and are contained in `gene_df`, still we need to include them to the `htc_repeat_ids`. </font>"
   ]
  },
  {
   "cell_type": "code",
   "execution_count": 122,
   "metadata": {},
   "outputs": [],
   "source": [
    "gene_features = ['gene', 'mRNA', 'five_prime_UTR', 'CDS']"
   ]
  },
  {
   "cell_type": "code",
   "execution_count": 123,
   "metadata": {},
   "outputs": [
    {
     "data": {
      "text/html": [
       "<div>\n",
       "<style scoped>\n",
       "    .dataframe tbody tr th:only-of-type {\n",
       "        vertical-align: middle;\n",
       "    }\n",
       "\n",
       "    .dataframe tbody tr th {\n",
       "        vertical-align: top;\n",
       "    }\n",
       "\n",
       "    .dataframe thead th {\n",
       "        text-align: right;\n",
       "    }\n",
       "</style>\n",
       "<table border=\"1\" class=\"dataframe\">\n",
       "  <thead>\n",
       "    <tr style=\"text-align: right;\">\n",
       "      <th></th>\n",
       "      <th>seqid</th>\n",
       "      <th>source</th>\n",
       "      <th>type</th>\n",
       "      <th>start</th>\n",
       "      <th>end</th>\n",
       "      <th>score</th>\n",
       "      <th>strand</th>\n",
       "      <th>phase</th>\n",
       "      <th>ID</th>\n",
       "      <th>Name</th>\n",
       "      <th>Parent</th>\n",
       "    </tr>\n",
       "  </thead>\n",
       "  <tbody>\n",
       "    <tr>\n",
       "      <th>36244</th>\n",
       "      <td>mating_type_region</td>\n",
       "      <td>PomBase</td>\n",
       "      <td>CDS</td>\n",
       "      <td>3354</td>\n",
       "      <td>3710</td>\n",
       "      <td>.</td>\n",
       "      <td>-</td>\n",
       "      <td>.</td>\n",
       "      <td>SPMTR.01.1:exon:1</td>\n",
       "      <td>NaN</td>\n",
       "      <td>SPMTR.01.1</td>\n",
       "    </tr>\n",
       "    <tr>\n",
       "      <th>36241</th>\n",
       "      <td>mating_type_region</td>\n",
       "      <td>PomBase</td>\n",
       "      <td>gene</td>\n",
       "      <td>3354</td>\n",
       "      <td>3753</td>\n",
       "      <td>.</td>\n",
       "      <td>-</td>\n",
       "      <td>.</td>\n",
       "      <td>SPMTR.01</td>\n",
       "      <td>mat2-Pc</td>\n",
       "      <td>NaN</td>\n",
       "    </tr>\n",
       "    <tr>\n",
       "      <th>36242</th>\n",
       "      <td>mating_type_region</td>\n",
       "      <td>PomBase</td>\n",
       "      <td>mRNA</td>\n",
       "      <td>3354</td>\n",
       "      <td>3753</td>\n",
       "      <td>.</td>\n",
       "      <td>-</td>\n",
       "      <td>.</td>\n",
       "      <td>SPMTR.01.1</td>\n",
       "      <td>NaN</td>\n",
       "      <td>SPMTR.01</td>\n",
       "    </tr>\n",
       "    <tr>\n",
       "      <th>36243</th>\n",
       "      <td>mating_type_region</td>\n",
       "      <td>PomBase</td>\n",
       "      <td>five_prime_UTR</td>\n",
       "      <td>3711</td>\n",
       "      <td>3753</td>\n",
       "      <td>.</td>\n",
       "      <td>-</td>\n",
       "      <td>.</td>\n",
       "      <td>SPMTR.01.1:five_prime_UTR:1</td>\n",
       "      <td>NaN</td>\n",
       "      <td>SPMTR.01.1</td>\n",
       "    </tr>\n",
       "    <tr>\n",
       "      <th>36247</th>\n",
       "      <td>mating_type_region</td>\n",
       "      <td>PomBase</td>\n",
       "      <td>five_prime_UTR</td>\n",
       "      <td>3861</td>\n",
       "      <td>3888</td>\n",
       "      <td>.</td>\n",
       "      <td>+</td>\n",
       "      <td>.</td>\n",
       "      <td>SPMTR.02.1:five_prime_UTR:1</td>\n",
       "      <td>NaN</td>\n",
       "      <td>SPMTR.02.1</td>\n",
       "    </tr>\n",
       "    <tr>\n",
       "      <th>36245</th>\n",
       "      <td>mating_type_region</td>\n",
       "      <td>PomBase</td>\n",
       "      <td>gene</td>\n",
       "      <td>3861</td>\n",
       "      <td>4368</td>\n",
       "      <td>.</td>\n",
       "      <td>+</td>\n",
       "      <td>.</td>\n",
       "      <td>SPMTR.02</td>\n",
       "      <td>mat2-Pi</td>\n",
       "      <td>NaN</td>\n",
       "    </tr>\n",
       "    <tr>\n",
       "      <th>36246</th>\n",
       "      <td>mating_type_region</td>\n",
       "      <td>PomBase</td>\n",
       "      <td>mRNA</td>\n",
       "      <td>3861</td>\n",
       "      <td>4368</td>\n",
       "      <td>.</td>\n",
       "      <td>+</td>\n",
       "      <td>.</td>\n",
       "      <td>SPMTR.02.1</td>\n",
       "      <td>NaN</td>\n",
       "      <td>SPMTR.02</td>\n",
       "    </tr>\n",
       "    <tr>\n",
       "      <th>36248</th>\n",
       "      <td>mating_type_region</td>\n",
       "      <td>PomBase</td>\n",
       "      <td>CDS</td>\n",
       "      <td>3889</td>\n",
       "      <td>4368</td>\n",
       "      <td>.</td>\n",
       "      <td>+</td>\n",
       "      <td>.</td>\n",
       "      <td>SPMTR.02.1:exon:1</td>\n",
       "      <td>NaN</td>\n",
       "      <td>SPMTR.02.1</td>\n",
       "    </tr>\n",
       "  </tbody>\n",
       "</table>\n",
       "</div>"
      ],
      "text/plain": [
       "                    seqid   source            type  start   end score strand  \\\n",
       "36244  mating_type_region  PomBase             CDS   3354  3710     .      -   \n",
       "36241  mating_type_region  PomBase            gene   3354  3753     .      -   \n",
       "36242  mating_type_region  PomBase            mRNA   3354  3753     .      -   \n",
       "36243  mating_type_region  PomBase  five_prime_UTR   3711  3753     .      -   \n",
       "36247  mating_type_region  PomBase  five_prime_UTR   3861  3888     .      +   \n",
       "36245  mating_type_region  PomBase            gene   3861  4368     .      +   \n",
       "36246  mating_type_region  PomBase            mRNA   3861  4368     .      +   \n",
       "36248  mating_type_region  PomBase             CDS   3889  4368     .      +   \n",
       "\n",
       "      phase                           ID     Name      Parent  \n",
       "36244     .            SPMTR.01.1:exon:1      NaN  SPMTR.01.1  \n",
       "36241     .                     SPMTR.01  mat2-Pc         NaN  \n",
       "36242     .                   SPMTR.01.1      NaN    SPMTR.01  \n",
       "36243     .  SPMTR.01.1:five_prime_UTR:1      NaN  SPMTR.01.1  \n",
       "36247     .  SPMTR.02.1:five_prime_UTR:1      NaN  SPMTR.02.1  \n",
       "36245     .                     SPMTR.02  mat2-Pi         NaN  \n",
       "36246     .                   SPMTR.02.1      NaN    SPMTR.02  \n",
       "36248     .            SPMTR.02.1:exon:1      NaN  SPMTR.02.1  "
      ]
     },
     "execution_count": 123,
     "metadata": {},
     "output_type": "execute_result"
    }
   ],
   "source": [
    "genes_mating_type_region_df = mating_type_region_df[mating_type_region_df['type'].isin(gene_features)]\n",
    "genes_mating_type_region_df"
   ]
  },
  {
   "cell_type": "code",
   "execution_count": 124,
   "metadata": {},
   "outputs": [
    {
     "data": {
      "text/plain": [
       "(8, 11)"
      ]
     },
     "execution_count": 124,
     "metadata": {},
     "output_type": "execute_result"
    }
   ],
   "source": [
    "genes_mating_type_region_df.shape"
   ]
  },
  {
   "cell_type": "code",
   "execution_count": 125,
   "metadata": {},
   "outputs": [
    {
     "data": {
      "text/plain": [
       "['SPMTR.01', 'SPMTR.02']"
      ]
     },
     "execution_count": 125,
     "metadata": {},
     "output_type": "execute_result"
    }
   ],
   "source": [
    "mating_type_region_gene_ids = genes_mating_type_region_df[genes_mating_type_region_df['Parent'].isnull()]['ID'].tolist()\n",
    "mating_type_region_gene_ids"
   ]
  },
  {
   "cell_type": "markdown",
   "metadata": {},
   "source": [
    "**Regions**: (`11`)\n",
    "\n",
    "<font color='red'> Adapt **regions** to add them to `gene_df` (or more generally `features_df`) </font>"
   ]
  },
  {
   "cell_type": "code",
   "execution_count": 126,
   "metadata": {},
   "outputs": [],
   "source": [
    "regions_mating_type_region_df = mating_type_region_df[~mating_type_region_df['type'].isin(gene_features)]\n",
    "regions_mating_type_region_df['gene_id'] = mating_type_region_df['ID']\n",
    "regions_mating_type_region_df['bio_type'] = mating_type_region_df['type']\n",
    "regions_mating_type_region_df['transcript_length'] = mating_type_region_df['end'] - mating_type_region_df['start'] + 1\n",
    "regions_mating_type_region_df['gene_length'] = mating_type_region_df['end'] - mating_type_region_df['start'] + 1"
   ]
  },
  {
   "cell_type": "code",
   "execution_count": 127,
   "metadata": {},
   "outputs": [
    {
     "data": {
      "text/html": [
       "<div>\n",
       "<style scoped>\n",
       "    .dataframe tbody tr th:only-of-type {\n",
       "        vertical-align: middle;\n",
       "    }\n",
       "\n",
       "    .dataframe tbody tr th {\n",
       "        vertical-align: top;\n",
       "    }\n",
       "\n",
       "    .dataframe thead th {\n",
       "        text-align: right;\n",
       "    }\n",
       "</style>\n",
       "<table border=\"1\" class=\"dataframe\">\n",
       "  <thead>\n",
       "    <tr style=\"text-align: right;\">\n",
       "      <th></th>\n",
       "      <th>seqid</th>\n",
       "      <th>source</th>\n",
       "      <th>type</th>\n",
       "      <th>start</th>\n",
       "      <th>end</th>\n",
       "      <th>score</th>\n",
       "      <th>strand</th>\n",
       "      <th>phase</th>\n",
       "      <th>ID</th>\n",
       "      <th>Name</th>\n",
       "      <th>Parent</th>\n",
       "      <th>gene_id</th>\n",
       "      <th>bio_type</th>\n",
       "      <th>transcript_length</th>\n",
       "      <th>gene_length</th>\n",
       "    </tr>\n",
       "  </thead>\n",
       "  <tbody>\n",
       "    <tr>\n",
       "      <th>41301</th>\n",
       "      <td>mating_type_region</td>\n",
       "      <td>PomBase</td>\n",
       "      <td>region</td>\n",
       "      <td>1</td>\n",
       "      <td>2120</td>\n",
       "      <td>.</td>\n",
       "      <td>+</td>\n",
       "      <td>.</td>\n",
       "      <td>FP565355_region_1..2120</td>\n",
       "      <td>NaN</td>\n",
       "      <td>NaN</td>\n",
       "      <td>FP565355_region_1..2120</td>\n",
       "      <td>region</td>\n",
       "      <td>2120</td>\n",
       "      <td>2120</td>\n",
       "    </tr>\n",
       "    <tr>\n",
       "      <th>41618</th>\n",
       "      <td>mating_type_region</td>\n",
       "      <td>PomBase</td>\n",
       "      <td>region</td>\n",
       "      <td>3203</td>\n",
       "      <td>3259</td>\n",
       "      <td>.</td>\n",
       "      <td>+</td>\n",
       "      <td>.</td>\n",
       "      <td>FP565355_region_3203..3259</td>\n",
       "      <td>NaN</td>\n",
       "      <td>NaN</td>\n",
       "      <td>FP565355_region_3203..3259</td>\n",
       "      <td>region</td>\n",
       "      <td>57</td>\n",
       "      <td>57</td>\n",
       "    </tr>\n",
       "    <tr>\n",
       "      <th>41215</th>\n",
       "      <td>mating_type_region</td>\n",
       "      <td>PomBase</td>\n",
       "      <td>region</td>\n",
       "      <td>3260</td>\n",
       "      <td>3394</td>\n",
       "      <td>.</td>\n",
       "      <td>+</td>\n",
       "      <td>.</td>\n",
       "      <td>FP565355_region_3260..3394</td>\n",
       "      <td>NaN</td>\n",
       "      <td>NaN</td>\n",
       "      <td>FP565355_region_3260..3394</td>\n",
       "      <td>region</td>\n",
       "      <td>135</td>\n",
       "      <td>135</td>\n",
       "    </tr>\n",
       "    <tr>\n",
       "      <th>41256</th>\n",
       "      <td>mating_type_region</td>\n",
       "      <td>PomBase</td>\n",
       "      <td>region</td>\n",
       "      <td>3395</td>\n",
       "      <td>4497</td>\n",
       "      <td>.</td>\n",
       "      <td>+</td>\n",
       "      <td>.</td>\n",
       "      <td>FP565355_region_3395..4497</td>\n",
       "      <td>NaN</td>\n",
       "      <td>NaN</td>\n",
       "      <td>FP565355_region_3395..4497</td>\n",
       "      <td>region</td>\n",
       "      <td>1103</td>\n",
       "      <td>1103</td>\n",
       "    </tr>\n",
       "    <tr>\n",
       "      <th>41606</th>\n",
       "      <td>mating_type_region</td>\n",
       "      <td>PomBase</td>\n",
       "      <td>region</td>\n",
       "      <td>4498</td>\n",
       "      <td>4556</td>\n",
       "      <td>.</td>\n",
       "      <td>+</td>\n",
       "      <td>.</td>\n",
       "      <td>FP565355_region_4498..4556</td>\n",
       "      <td>NaN</td>\n",
       "      <td>NaN</td>\n",
       "      <td>FP565355_region_4498..4556</td>\n",
       "      <td>region</td>\n",
       "      <td>59</td>\n",
       "      <td>59</td>\n",
       "    </tr>\n",
       "    <tr>\n",
       "      <th>41427</th>\n",
       "      <td>mating_type_region</td>\n",
       "      <td>PomBase</td>\n",
       "      <td>region</td>\n",
       "      <td>9170</td>\n",
       "      <td>13408</td>\n",
       "      <td>.</td>\n",
       "      <td>+</td>\n",
       "      <td>.</td>\n",
       "      <td>FP565355_region_9170..13408</td>\n",
       "      <td>NaN</td>\n",
       "      <td>NaN</td>\n",
       "      <td>FP565355_region_9170..13408</td>\n",
       "      <td>region</td>\n",
       "      <td>4239</td>\n",
       "      <td>4239</td>\n",
       "    </tr>\n",
       "    <tr>\n",
       "      <th>41487</th>\n",
       "      <td>mating_type_region</td>\n",
       "      <td>PomBase</td>\n",
       "      <td>region</td>\n",
       "      <td>15417</td>\n",
       "      <td>15473</td>\n",
       "      <td>.</td>\n",
       "      <td>+</td>\n",
       "      <td>.</td>\n",
       "      <td>FP565355_region_15417..15473</td>\n",
       "      <td>NaN</td>\n",
       "      <td>NaN</td>\n",
       "      <td>FP565355_region_15417..15473</td>\n",
       "      <td>region</td>\n",
       "      <td>57</td>\n",
       "      <td>57</td>\n",
       "    </tr>\n",
       "    <tr>\n",
       "      <th>41515</th>\n",
       "      <td>mating_type_region</td>\n",
       "      <td>PomBase</td>\n",
       "      <td>region</td>\n",
       "      <td>15474</td>\n",
       "      <td>15608</td>\n",
       "      <td>.</td>\n",
       "      <td>+</td>\n",
       "      <td>.</td>\n",
       "      <td>FP565355_region_15474..15608</td>\n",
       "      <td>NaN</td>\n",
       "      <td>NaN</td>\n",
       "      <td>FP565355_region_15474..15608</td>\n",
       "      <td>region</td>\n",
       "      <td>135</td>\n",
       "      <td>135</td>\n",
       "    </tr>\n",
       "    <tr>\n",
       "      <th>41544</th>\n",
       "      <td>mating_type_region</td>\n",
       "      <td>PomBase</td>\n",
       "      <td>region</td>\n",
       "      <td>15609</td>\n",
       "      <td>16735</td>\n",
       "      <td>.</td>\n",
       "      <td>+</td>\n",
       "      <td>.</td>\n",
       "      <td>FP565355_region_15609..16735</td>\n",
       "      <td>NaN</td>\n",
       "      <td>NaN</td>\n",
       "      <td>FP565355_region_15609..16735</td>\n",
       "      <td>region</td>\n",
       "      <td>1127</td>\n",
       "      <td>1127</td>\n",
       "    </tr>\n",
       "    <tr>\n",
       "      <th>41351</th>\n",
       "      <td>mating_type_region</td>\n",
       "      <td>PomBase</td>\n",
       "      <td>region</td>\n",
       "      <td>16736</td>\n",
       "      <td>16794</td>\n",
       "      <td>.</td>\n",
       "      <td>+</td>\n",
       "      <td>.</td>\n",
       "      <td>FP565355_region_16736..16794</td>\n",
       "      <td>NaN</td>\n",
       "      <td>NaN</td>\n",
       "      <td>FP565355_region_16736..16794</td>\n",
       "      <td>region</td>\n",
       "      <td>59</td>\n",
       "      <td>59</td>\n",
       "    </tr>\n",
       "    <tr>\n",
       "      <th>41610</th>\n",
       "      <td>mating_type_region</td>\n",
       "      <td>PomBase</td>\n",
       "      <td>region</td>\n",
       "      <td>18009</td>\n",
       "      <td>20128</td>\n",
       "      <td>.</td>\n",
       "      <td>+</td>\n",
       "      <td>.</td>\n",
       "      <td>FP565355_region_18009..20128</td>\n",
       "      <td>NaN</td>\n",
       "      <td>NaN</td>\n",
       "      <td>FP565355_region_18009..20128</td>\n",
       "      <td>region</td>\n",
       "      <td>2120</td>\n",
       "      <td>2120</td>\n",
       "    </tr>\n",
       "  </tbody>\n",
       "</table>\n",
       "</div>"
      ],
      "text/plain": [
       "                    seqid   source    type  start    end score strand phase  \\\n",
       "41301  mating_type_region  PomBase  region      1   2120     .      +     .   \n",
       "41618  mating_type_region  PomBase  region   3203   3259     .      +     .   \n",
       "41215  mating_type_region  PomBase  region   3260   3394     .      +     .   \n",
       "41256  mating_type_region  PomBase  region   3395   4497     .      +     .   \n",
       "41606  mating_type_region  PomBase  region   4498   4556     .      +     .   \n",
       "41427  mating_type_region  PomBase  region   9170  13408     .      +     .   \n",
       "41487  mating_type_region  PomBase  region  15417  15473     .      +     .   \n",
       "41515  mating_type_region  PomBase  region  15474  15608     .      +     .   \n",
       "41544  mating_type_region  PomBase  region  15609  16735     .      +     .   \n",
       "41351  mating_type_region  PomBase  region  16736  16794     .      +     .   \n",
       "41610  mating_type_region  PomBase  region  18009  20128     .      +     .   \n",
       "\n",
       "                                 ID Name Parent                       gene_id  \\\n",
       "41301       FP565355_region_1..2120  NaN    NaN       FP565355_region_1..2120   \n",
       "41618    FP565355_region_3203..3259  NaN    NaN    FP565355_region_3203..3259   \n",
       "41215    FP565355_region_3260..3394  NaN    NaN    FP565355_region_3260..3394   \n",
       "41256    FP565355_region_3395..4497  NaN    NaN    FP565355_region_3395..4497   \n",
       "41606    FP565355_region_4498..4556  NaN    NaN    FP565355_region_4498..4556   \n",
       "41427   FP565355_region_9170..13408  NaN    NaN   FP565355_region_9170..13408   \n",
       "41487  FP565355_region_15417..15473  NaN    NaN  FP565355_region_15417..15473   \n",
       "41515  FP565355_region_15474..15608  NaN    NaN  FP565355_region_15474..15608   \n",
       "41544  FP565355_region_15609..16735  NaN    NaN  FP565355_region_15609..16735   \n",
       "41351  FP565355_region_16736..16794  NaN    NaN  FP565355_region_16736..16794   \n",
       "41610  FP565355_region_18009..20128  NaN    NaN  FP565355_region_18009..20128   \n",
       "\n",
       "      bio_type  transcript_length  gene_length  \n",
       "41301   region               2120         2120  \n",
       "41618   region                 57           57  \n",
       "41215   region                135          135  \n",
       "41256   region               1103         1103  \n",
       "41606   region                 59           59  \n",
       "41427   region               4239         4239  \n",
       "41487   region                 57           57  \n",
       "41515   region                135          135  \n",
       "41544   region               1127         1127  \n",
       "41351   region                 59           59  \n",
       "41610   region               2120         2120  "
      ]
     },
     "execution_count": 127,
     "metadata": {},
     "output_type": "execute_result"
    }
   ],
   "source": [
    "regions_mating_type_region_df"
   ]
  },
  {
   "cell_type": "code",
   "execution_count": 128,
   "metadata": {},
   "outputs": [
    {
     "data": {
      "text/plain": [
       "(11, 15)"
      ]
     },
     "execution_count": 128,
     "metadata": {},
     "output_type": "execute_result"
    }
   ],
   "source": [
    "regions_mating_type_region_df.shape"
   ]
  },
  {
   "cell_type": "code",
   "execution_count": 129,
   "metadata": {},
   "outputs": [],
   "source": [
    "mating_type_region_region_ids = regions_mating_type_region_df['ID'].tolist()\n",
    "#mating_type_region_region_ids"
   ]
  },
  {
   "cell_type": "markdown",
   "metadata": {},
   "source": [
    "### **b.** Centromeric Repeat Features **dh/dg** (in Chr I) as annotated in `Pombase`"
   ]
  },
  {
   "cell_type": "markdown",
   "metadata": {},
   "source": [
    "- Get all `dh_repeat` and `dg_repeat` features present in the **chromosome** `I`"
   ]
  },
  {
   "cell_type": "code",
   "execution_count": 130,
   "metadata": {},
   "outputs": [
    {
     "data": {
      "text/html": [
       "<div>\n",
       "<style scoped>\n",
       "    .dataframe tbody tr th:only-of-type {\n",
       "        vertical-align: middle;\n",
       "    }\n",
       "\n",
       "    .dataframe tbody tr th {\n",
       "        vertical-align: top;\n",
       "    }\n",
       "\n",
       "    .dataframe thead th {\n",
       "        text-align: right;\n",
       "    }\n",
       "</style>\n",
       "<table border=\"1\" class=\"dataframe\">\n",
       "  <thead>\n",
       "    <tr style=\"text-align: right;\">\n",
       "      <th></th>\n",
       "      <th>seqid</th>\n",
       "      <th>source</th>\n",
       "      <th>type</th>\n",
       "      <th>start</th>\n",
       "      <th>end</th>\n",
       "      <th>score</th>\n",
       "      <th>strand</th>\n",
       "      <th>phase</th>\n",
       "      <th>ID</th>\n",
       "      <th>Name</th>\n",
       "      <th>Parent</th>\n",
       "    </tr>\n",
       "  </thead>\n",
       "  <tbody>\n",
       "    <tr>\n",
       "      <th>41275</th>\n",
       "      <td>I</td>\n",
       "      <td>PomBase</td>\n",
       "      <td>dh_repeat</td>\n",
       "      <td>3754127</td>\n",
       "      <td>3759170</td>\n",
       "      <td>.</td>\n",
       "      <td>-</td>\n",
       "      <td>.</td>\n",
       "      <td>SPRPTCENA.3</td>\n",
       "      <td>NaN</td>\n",
       "      <td>NaN</td>\n",
       "    </tr>\n",
       "    <tr>\n",
       "      <th>41362</th>\n",
       "      <td>I</td>\n",
       "      <td>PomBase</td>\n",
       "      <td>dg_repeat</td>\n",
       "      <td>3759165</td>\n",
       "      <td>3763441</td>\n",
       "      <td>.</td>\n",
       "      <td>+</td>\n",
       "      <td>.</td>\n",
       "      <td>SPRPTCENA.4</td>\n",
       "      <td>NaN</td>\n",
       "      <td>NaN</td>\n",
       "    </tr>\n",
       "  </tbody>\n",
       "</table>\n",
       "</div>"
      ],
      "text/plain": [
       "      seqid   source       type    start      end score strand phase  \\\n",
       "41275     I  PomBase  dh_repeat  3754127  3759170     .      -     .   \n",
       "41362     I  PomBase  dg_repeat  3759165  3763441     .      +     .   \n",
       "\n",
       "                ID Name Parent  \n",
       "41275  SPRPTCENA.3  NaN    NaN  \n",
       "41362  SPRPTCENA.4  NaN    NaN  "
      ]
     },
     "execution_count": 130,
     "metadata": {},
     "output_type": "execute_result"
    }
   ],
   "source": [
    "dh_dg_repeats_df = gff[(gff['seqid'] == 'I') & (gff['type'].isin(['dh_repeat','dg_repeat']))].sort_values(['seqid', 'start', 'end', 'ID'])\n",
    "# only get first dh/dg\n",
    "dh_dg_repeats_df = dh_dg_repeats_df.iloc[:2,]\n",
    "dh_dg_repeats_df"
   ]
  },
  {
   "cell_type": "markdown",
   "metadata": {},
   "source": [
    "- Get break-down of `dh_repeat` and `dg_repeat` **features**"
   ]
  },
  {
   "cell_type": "code",
   "execution_count": 131,
   "metadata": {},
   "outputs": [
    {
     "data": {
      "text/html": [
       "<div>\n",
       "<style scoped>\n",
       "    .dataframe tbody tr th:only-of-type {\n",
       "        vertical-align: middle;\n",
       "    }\n",
       "\n",
       "    .dataframe tbody tr th {\n",
       "        vertical-align: top;\n",
       "    }\n",
       "\n",
       "    .dataframe thead th {\n",
       "        text-align: right;\n",
       "    }\n",
       "</style>\n",
       "<table border=\"1\" class=\"dataframe\">\n",
       "  <thead>\n",
       "    <tr style=\"text-align: right;\">\n",
       "      <th></th>\n",
       "      <th>ID</th>\n",
       "    </tr>\n",
       "    <tr>\n",
       "      <th>type</th>\n",
       "      <th></th>\n",
       "    </tr>\n",
       "  </thead>\n",
       "  <tbody>\n",
       "    <tr>\n",
       "      <th>dg_repeat</th>\n",
       "      <td>1</td>\n",
       "    </tr>\n",
       "    <tr>\n",
       "      <th>dh_repeat</th>\n",
       "      <td>1</td>\n",
       "    </tr>\n",
       "  </tbody>\n",
       "</table>\n",
       "</div>"
      ],
      "text/plain": [
       "           ID\n",
       "type         \n",
       "dg_repeat   1\n",
       "dh_repeat   1"
      ]
     },
     "execution_count": 131,
     "metadata": {},
     "output_type": "execute_result"
    }
   ],
   "source": [
    "dh_dg_repeats_df_by_type = dh_dg_repeats_df[['type', 'ID']].groupby(['type']).count()\n",
    "dh_dg_repeats_df_by_type.sort_values('ID')"
   ]
  },
  {
   "cell_type": "markdown",
   "metadata": {},
   "source": [
    "**Repeats**: (`2`)\n",
    "\n",
    "<font color='red'> Adapt **repeats** to add them to `gene_df` (or more generally `features_df`) </font>"
   ]
  },
  {
   "cell_type": "code",
   "execution_count": 132,
   "metadata": {},
   "outputs": [],
   "source": [
    "dh_dg_repeats_df['gene_id'] = dh_dg_repeats_df['ID']\n",
    "dh_dg_repeats_df['bio_type'] = dh_dg_repeats_df['type']\n",
    "dh_dg_repeats_df['transcript_length'] = dh_dg_repeats_df['end'] - dh_dg_repeats_df['start'] + 1\n",
    "dh_dg_repeats_df['gene_length'] = dh_dg_repeats_df['end'] - dh_dg_repeats_df['start'] + 1"
   ]
  },
  {
   "cell_type": "code",
   "execution_count": 133,
   "metadata": {},
   "outputs": [
    {
     "data": {
      "text/html": [
       "<div>\n",
       "<style scoped>\n",
       "    .dataframe tbody tr th:only-of-type {\n",
       "        vertical-align: middle;\n",
       "    }\n",
       "\n",
       "    .dataframe tbody tr th {\n",
       "        vertical-align: top;\n",
       "    }\n",
       "\n",
       "    .dataframe thead th {\n",
       "        text-align: right;\n",
       "    }\n",
       "</style>\n",
       "<table border=\"1\" class=\"dataframe\">\n",
       "  <thead>\n",
       "    <tr style=\"text-align: right;\">\n",
       "      <th></th>\n",
       "      <th>seqid</th>\n",
       "      <th>source</th>\n",
       "      <th>type</th>\n",
       "      <th>start</th>\n",
       "      <th>end</th>\n",
       "      <th>score</th>\n",
       "      <th>strand</th>\n",
       "      <th>phase</th>\n",
       "      <th>ID</th>\n",
       "      <th>Name</th>\n",
       "      <th>Parent</th>\n",
       "      <th>gene_id</th>\n",
       "      <th>bio_type</th>\n",
       "      <th>transcript_length</th>\n",
       "      <th>gene_length</th>\n",
       "    </tr>\n",
       "  </thead>\n",
       "  <tbody>\n",
       "    <tr>\n",
       "      <th>41275</th>\n",
       "      <td>I</td>\n",
       "      <td>PomBase</td>\n",
       "      <td>dh_repeat</td>\n",
       "      <td>3754127</td>\n",
       "      <td>3759170</td>\n",
       "      <td>.</td>\n",
       "      <td>-</td>\n",
       "      <td>.</td>\n",
       "      <td>SPRPTCENA.3</td>\n",
       "      <td>NaN</td>\n",
       "      <td>NaN</td>\n",
       "      <td>SPRPTCENA.3</td>\n",
       "      <td>dh_repeat</td>\n",
       "      <td>5044</td>\n",
       "      <td>5044</td>\n",
       "    </tr>\n",
       "    <tr>\n",
       "      <th>41362</th>\n",
       "      <td>I</td>\n",
       "      <td>PomBase</td>\n",
       "      <td>dg_repeat</td>\n",
       "      <td>3759165</td>\n",
       "      <td>3763441</td>\n",
       "      <td>.</td>\n",
       "      <td>+</td>\n",
       "      <td>.</td>\n",
       "      <td>SPRPTCENA.4</td>\n",
       "      <td>NaN</td>\n",
       "      <td>NaN</td>\n",
       "      <td>SPRPTCENA.4</td>\n",
       "      <td>dg_repeat</td>\n",
       "      <td>4277</td>\n",
       "      <td>4277</td>\n",
       "    </tr>\n",
       "  </tbody>\n",
       "</table>\n",
       "</div>"
      ],
      "text/plain": [
       "      seqid   source       type    start      end score strand phase  \\\n",
       "41275     I  PomBase  dh_repeat  3754127  3759170     .      -     .   \n",
       "41362     I  PomBase  dg_repeat  3759165  3763441     .      +     .   \n",
       "\n",
       "                ID Name Parent      gene_id   bio_type  transcript_length  \\\n",
       "41275  SPRPTCENA.3  NaN    NaN  SPRPTCENA.3  dh_repeat               5044   \n",
       "41362  SPRPTCENA.4  NaN    NaN  SPRPTCENA.4  dg_repeat               4277   \n",
       "\n",
       "       gene_length  \n",
       "41275         5044  \n",
       "41362         4277  "
      ]
     },
     "execution_count": 133,
     "metadata": {},
     "output_type": "execute_result"
    }
   ],
   "source": [
    "dh_dg_repeats_df"
   ]
  },
  {
   "cell_type": "code",
   "execution_count": 134,
   "metadata": {},
   "outputs": [
    {
     "data": {
      "text/plain": [
       "(2, 15)"
      ]
     },
     "execution_count": 134,
     "metadata": {},
     "output_type": "execute_result"
    }
   ],
   "source": [
    "dh_dg_repeats_df.shape"
   ]
  },
  {
   "cell_type": "code",
   "execution_count": 135,
   "metadata": {},
   "outputs": [
    {
     "data": {
      "text/plain": [
       "['SPRPTCENA.3', 'SPRPTCENA.4']"
      ]
     },
     "execution_count": 135,
     "metadata": {},
     "output_type": "execute_result"
    }
   ],
   "source": [
    "dh_dg_repeats_ids = dh_dg_repeats_df['ID'].tolist()\n",
    "dh_dg_repeats_ids"
   ]
  },
  {
   "cell_type": "markdown",
   "metadata": {},
   "source": [
    "### <font color='red'> Include non-gene features in `htc_repeat_ids`. </font>"
   ]
  },
  {
   "cell_type": "markdown",
   "metadata": {},
   "source": [
    "- Get list of Heterochromatin features (**repeats**) `gene_id`'s and add `mating_type_region` **features**"
   ]
  },
  {
   "cell_type": "code",
   "execution_count": 136,
   "metadata": {},
   "outputs": [],
   "source": [
    "htc_features_ids = list(htc_features_df['ID'])\n",
    "htc_features_ids.extend(mating_type_region_gene_ids)\n",
    "htc_features_ids.extend(mating_type_region_region_ids)\n",
    "htc_features_ids.extend(dh_dg_repeats_ids)\n",
    "#htc_features_ids = list(htc_features_df['Name'])\n",
    "#htc_features_ids"
   ]
  },
  {
   "cell_type": "code",
   "execution_count": 137,
   "metadata": {},
   "outputs": [
    {
     "data": {
      "text/plain": [
       "42"
      ]
     },
     "execution_count": 137,
     "metadata": {},
     "output_type": "execute_result"
    }
   ],
   "source": [
    "len(set(htc_features_ids))"
   ]
  },
  {
   "cell_type": "markdown",
   "metadata": {},
   "source": [
    "- Concatenate `gene_df` and `regions_mating_type_region_df`, add `category` **column**, either: \n",
    "\n",
    "`['repeat', 'ribosomal', 'gene']`"
   ]
  },
  {
   "cell_type": "code",
   "execution_count": 138,
   "metadata": {},
   "outputs": [],
   "source": [
    "#features_df = pd.concat([gene_df, regions_mating_type_region_df], ignore_index=True, sort=True)[gene_df.columns]\n",
    "features_df = pd.concat([gene_df, regions_mating_type_region_df, dh_dg_repeats_df], ignore_index=True, sort=True)[gene_df.columns]"
   ]
  },
  {
   "cell_type": "code",
   "execution_count": 139,
   "metadata": {},
   "outputs": [],
   "source": [
    "#gene_df['category'] = gene_df[['gene_id', 'Name']].apply(lambda row: Util.get_category(row['gene_id'], row['Name'], htc_features_ids), axis=1)\n",
    "features_df['category'] = features_df[['gene_id', 'Name']].apply(lambda row: Util.get_category(row['gene_id'], row['Name'], htc_features_ids), axis=1)"
   ]
  },
  {
   "cell_type": "code",
   "execution_count": 140,
   "metadata": {},
   "outputs": [
    {
     "data": {
      "text/html": [
       "<div>\n",
       "<style scoped>\n",
       "    .dataframe tbody tr th:only-of-type {\n",
       "        vertical-align: middle;\n",
       "    }\n",
       "\n",
       "    .dataframe tbody tr th {\n",
       "        vertical-align: top;\n",
       "    }\n",
       "\n",
       "    .dataframe thead th {\n",
       "        text-align: right;\n",
       "    }\n",
       "</style>\n",
       "<table border=\"1\" class=\"dataframe\">\n",
       "  <thead>\n",
       "    <tr style=\"text-align: right;\">\n",
       "      <th></th>\n",
       "      <th>seqid</th>\n",
       "      <th>source</th>\n",
       "      <th>type</th>\n",
       "      <th>start</th>\n",
       "      <th>end</th>\n",
       "      <th>score</th>\n",
       "      <th>strand</th>\n",
       "      <th>phase</th>\n",
       "      <th>ID</th>\n",
       "      <th>Name</th>\n",
       "      <th>gene_id</th>\n",
       "      <th>gene_name</th>\n",
       "      <th>transcript_id</th>\n",
       "      <th>cds_length</th>\n",
       "      <th>utr_length</th>\n",
       "      <th>intron_length</th>\n",
       "      <th>bio_type</th>\n",
       "      <th>gene_length</th>\n",
       "      <th>transcript_length</th>\n",
       "      <th>category</th>\n",
       "    </tr>\n",
       "  </thead>\n",
       "  <tbody>\n",
       "    <tr>\n",
       "      <th>0</th>\n",
       "      <td>I</td>\n",
       "      <td>PomBase</td>\n",
       "      <td>gene</td>\n",
       "      <td>1798347</td>\n",
       "      <td>1799015</td>\n",
       "      <td>.</td>\n",
       "      <td>+</td>\n",
       "      <td>.</td>\n",
       "      <td>SPAC1002.01</td>\n",
       "      <td>mrx11</td>\n",
       "      <td>SPAC1002.01</td>\n",
       "      <td>mrx11</td>\n",
       "      <td>SPAC1002.01.1</td>\n",
       "      <td>540.0</td>\n",
       "      <td>NaN</td>\n",
       "      <td>129.0</td>\n",
       "      <td>mRNA</td>\n",
       "      <td>669</td>\n",
       "      <td>540.0</td>\n",
       "      <td>gene</td>\n",
       "    </tr>\n",
       "    <tr>\n",
       "      <th>1</th>\n",
       "      <td>I</td>\n",
       "      <td>PomBase</td>\n",
       "      <td>gene</td>\n",
       "      <td>1799061</td>\n",
       "      <td>1800053</td>\n",
       "      <td>.</td>\n",
       "      <td>+</td>\n",
       "      <td>.</td>\n",
       "      <td>SPAC1002.02</td>\n",
       "      <td>pom34</td>\n",
       "      <td>SPAC1002.02</td>\n",
       "      <td>pom34</td>\n",
       "      <td>SPAC1002.02.1</td>\n",
       "      <td>690.0</td>\n",
       "      <td>303.0</td>\n",
       "      <td>NaN</td>\n",
       "      <td>mRNA</td>\n",
       "      <td>993</td>\n",
       "      <td>993.0</td>\n",
       "      <td>gene</td>\n",
       "    </tr>\n",
       "    <tr>\n",
       "      <th>2</th>\n",
       "      <td>I</td>\n",
       "      <td>PomBase</td>\n",
       "      <td>gene</td>\n",
       "      <td>1799915</td>\n",
       "      <td>1803141</td>\n",
       "      <td>.</td>\n",
       "      <td>-</td>\n",
       "      <td>.</td>\n",
       "      <td>SPAC1002.03c</td>\n",
       "      <td>gls2</td>\n",
       "      <td>SPAC1002.03c</td>\n",
       "      <td>gls2</td>\n",
       "      <td>SPAC1002.03c.1</td>\n",
       "      <td>2772.0</td>\n",
       "      <td>455.0</td>\n",
       "      <td>NaN</td>\n",
       "      <td>mRNA</td>\n",
       "      <td>3227</td>\n",
       "      <td>3227.0</td>\n",
       "      <td>gene</td>\n",
       "    </tr>\n",
       "    <tr>\n",
       "      <th>3</th>\n",
       "      <td>I</td>\n",
       "      <td>PomBase</td>\n",
       "      <td>gene</td>\n",
       "      <td>1803624</td>\n",
       "      <td>1804491</td>\n",
       "      <td>.</td>\n",
       "      <td>-</td>\n",
       "      <td>.</td>\n",
       "      <td>SPAC1002.04c</td>\n",
       "      <td>taf11</td>\n",
       "      <td>SPAC1002.04c</td>\n",
       "      <td>taf11</td>\n",
       "      <td>SPAC1002.04c.1</td>\n",
       "      <td>600.0</td>\n",
       "      <td>268.0</td>\n",
       "      <td>NaN</td>\n",
       "      <td>mRNA</td>\n",
       "      <td>868</td>\n",
       "      <td>868.0</td>\n",
       "      <td>gene</td>\n",
       "    </tr>\n",
       "    <tr>\n",
       "      <th>4</th>\n",
       "      <td>I</td>\n",
       "      <td>PomBase</td>\n",
       "      <td>gene</td>\n",
       "      <td>1804548</td>\n",
       "      <td>1806797</td>\n",
       "      <td>.</td>\n",
       "      <td>-</td>\n",
       "      <td>.</td>\n",
       "      <td>SPAC1002.05c</td>\n",
       "      <td>jmj2</td>\n",
       "      <td>SPAC1002.05c</td>\n",
       "      <td>jmj2</td>\n",
       "      <td>SPAC1002.05c.1</td>\n",
       "      <td>2148.0</td>\n",
       "      <td>102.0</td>\n",
       "      <td>NaN</td>\n",
       "      <td>mRNA</td>\n",
       "      <td>2250</td>\n",
       "      <td>2250.0</td>\n",
       "      <td>gene</td>\n",
       "    </tr>\n",
       "  </tbody>\n",
       "</table>\n",
       "</div>"
      ],
      "text/plain": [
       "  seqid   source  type    start      end score strand phase            ID  \\\n",
       "0     I  PomBase  gene  1798347  1799015     .      +     .   SPAC1002.01   \n",
       "1     I  PomBase  gene  1799061  1800053     .      +     .   SPAC1002.02   \n",
       "2     I  PomBase  gene  1799915  1803141     .      -     .  SPAC1002.03c   \n",
       "3     I  PomBase  gene  1803624  1804491     .      -     .  SPAC1002.04c   \n",
       "4     I  PomBase  gene  1804548  1806797     .      -     .  SPAC1002.05c   \n",
       "\n",
       "    Name       gene_id gene_name   transcript_id  cds_length  utr_length  \\\n",
       "0  mrx11   SPAC1002.01     mrx11   SPAC1002.01.1       540.0         NaN   \n",
       "1  pom34   SPAC1002.02     pom34   SPAC1002.02.1       690.0       303.0   \n",
       "2   gls2  SPAC1002.03c      gls2  SPAC1002.03c.1      2772.0       455.0   \n",
       "3  taf11  SPAC1002.04c     taf11  SPAC1002.04c.1       600.0       268.0   \n",
       "4   jmj2  SPAC1002.05c      jmj2  SPAC1002.05c.1      2148.0       102.0   \n",
       "\n",
       "   intron_length bio_type  gene_length  transcript_length category  \n",
       "0          129.0     mRNA          669              540.0     gene  \n",
       "1            NaN     mRNA          993              993.0     gene  \n",
       "2            NaN     mRNA         3227             3227.0     gene  \n",
       "3            NaN     mRNA          868              868.0     gene  \n",
       "4            NaN     mRNA         2250             2250.0     gene  "
      ]
     },
     "execution_count": 140,
     "metadata": {},
     "output_type": "execute_result"
    }
   ],
   "source": [
    "#gene_df.head()\n",
    "features_df.head()"
   ]
  },
  {
   "cell_type": "code",
   "execution_count": 141,
   "metadata": {},
   "outputs": [
    {
     "data": {
      "text/plain": [
       "(7018, 20)"
      ]
     },
     "execution_count": 141,
     "metadata": {},
     "output_type": "execute_result"
    }
   ],
   "source": [
    "#gene_df.shape\n",
    "features_df.shape"
   ]
  },
  {
   "cell_type": "code",
   "execution_count": 142,
   "metadata": {},
   "outputs": [],
   "source": [
    "#set(gene_df[gene_df['category'] == 'repeat']['ID']).symmetric_difference(htc_features_ids)"
   ]
  },
  {
   "cell_type": "markdown",
   "metadata": {},
   "source": [
    "- Have a look at distribution of **feature** `category`:"
   ]
  },
  {
   "cell_type": "code",
   "execution_count": 143,
   "metadata": {},
   "outputs": [
    {
     "data": {
      "text/html": [
       "<div>\n",
       "<style scoped>\n",
       "    .dataframe tbody tr th:only-of-type {\n",
       "        vertical-align: middle;\n",
       "    }\n",
       "\n",
       "    .dataframe tbody tr th {\n",
       "        vertical-align: top;\n",
       "    }\n",
       "\n",
       "    .dataframe thead th {\n",
       "        text-align: right;\n",
       "    }\n",
       "</style>\n",
       "<table border=\"1\" class=\"dataframe\">\n",
       "  <thead>\n",
       "    <tr style=\"text-align: right;\">\n",
       "      <th></th>\n",
       "      <th>ID</th>\n",
       "    </tr>\n",
       "    <tr>\n",
       "      <th>category</th>\n",
       "      <th></th>\n",
       "    </tr>\n",
       "  </thead>\n",
       "  <tbody>\n",
       "    <tr>\n",
       "      <th>repeat</th>\n",
       "      <td>39</td>\n",
       "    </tr>\n",
       "    <tr>\n",
       "      <th>ribosomal</th>\n",
       "      <td>177</td>\n",
       "    </tr>\n",
       "    <tr>\n",
       "      <th>gene</th>\n",
       "      <td>6802</td>\n",
       "    </tr>\n",
       "  </tbody>\n",
       "</table>\n",
       "</div>"
      ],
      "text/plain": [
       "             ID\n",
       "category       \n",
       "repeat       39\n",
       "ribosomal   177\n",
       "gene       6802"
      ]
     },
     "execution_count": 143,
     "metadata": {},
     "output_type": "execute_result"
    }
   ],
   "source": [
    "#gene_df_by_category = gene_df[['category', 'ID']].groupby(['category']).count()\n",
    "features_df_by_category = features_df[['category', 'ID']].groupby(['category']).count()\n",
    "\n",
    "#gene_df_by_category.sort_values('ID')\n",
    "features_df_by_category.sort_values('ID')"
   ]
  },
  {
   "cell_type": "code",
   "execution_count": 144,
   "metadata": {},
   "outputs": [
    {
     "data": {
      "text/plain": [
       "7018"
      ]
     },
     "execution_count": 144,
     "metadata": {},
     "output_type": "execute_result"
    }
   ],
   "source": [
    "#sum(gene_df_by_category.ID)\n",
    "sum(features_df_by_category.ID)"
   ]
  },
  {
   "cell_type": "markdown",
   "metadata": {},
   "source": [
    "- Have a look at distribution of **feature** `types`:"
   ]
  },
  {
   "cell_type": "code",
   "execution_count": 145,
   "metadata": {},
   "outputs": [],
   "source": [
    "#gene_df_by_type = gene_df[['type', 'ID']].groupby(['type']).count()\n",
    "#gene_df_by_type.sort_values('ID')"
   ]
  },
  {
   "cell_type": "code",
   "execution_count": 146,
   "metadata": {},
   "outputs": [
    {
     "data": {
      "text/html": [
       "<div>\n",
       "<style scoped>\n",
       "    .dataframe tbody tr th:only-of-type {\n",
       "        vertical-align: middle;\n",
       "    }\n",
       "\n",
       "    .dataframe tbody tr th {\n",
       "        vertical-align: top;\n",
       "    }\n",
       "\n",
       "    .dataframe thead th {\n",
       "        text-align: right;\n",
       "    }\n",
       "</style>\n",
       "<table border=\"1\" class=\"dataframe\">\n",
       "  <thead>\n",
       "    <tr style=\"text-align: right;\">\n",
       "      <th></th>\n",
       "      <th>ID</th>\n",
       "    </tr>\n",
       "    <tr>\n",
       "      <th>type</th>\n",
       "      <th></th>\n",
       "    </tr>\n",
       "  </thead>\n",
       "  <tbody>\n",
       "    <tr>\n",
       "      <th>dg_repeat</th>\n",
       "      <td>1</td>\n",
       "    </tr>\n",
       "    <tr>\n",
       "      <th>dh_repeat</th>\n",
       "      <td>1</td>\n",
       "    </tr>\n",
       "    <tr>\n",
       "      <th>region</th>\n",
       "      <td>11</td>\n",
       "    </tr>\n",
       "    <tr>\n",
       "      <th>gene</th>\n",
       "      <td>7005</td>\n",
       "    </tr>\n",
       "  </tbody>\n",
       "</table>\n",
       "</div>"
      ],
      "text/plain": [
       "             ID\n",
       "type           \n",
       "dg_repeat     1\n",
       "dh_repeat     1\n",
       "region       11\n",
       "gene       7005"
      ]
     },
     "execution_count": 146,
     "metadata": {},
     "output_type": "execute_result"
    }
   ],
   "source": [
    "features_df_by_type = features_df[['type', 'ID']].groupby(['type']).count()\n",
    "features_df_by_type.sort_values('ID')"
   ]
  },
  {
   "cell_type": "code",
   "execution_count": 147,
   "metadata": {},
   "outputs": [
    {
     "data": {
      "text/plain": [
       "7018"
      ]
     },
     "execution_count": 147,
     "metadata": {},
     "output_type": "execute_result"
    }
   ],
   "source": [
    "#sum(gene_df_by_type.ID)\n",
    "sum(features_df_by_type.ID)"
   ]
  },
  {
   "cell_type": "code",
   "execution_count": 148,
   "metadata": {},
   "outputs": [],
   "source": [
    "#transcripts_df_by_type"
   ]
  },
  {
   "cell_type": "code",
   "execution_count": 149,
   "metadata": {},
   "outputs": [],
   "source": [
    "#gff_by_type.index.difference(gene_df_by_type.index.union(transcripts_df_by_type.index)).tolist()"
   ]
  },
  {
   "cell_type": "markdown",
   "metadata": {},
   "source": [
    "---------------------------"
   ]
  },
  {
   "cell_type": "markdown",
   "metadata": {},
   "source": [
    "## Store **Gene Table Annotation's** (gdf)\n",
    "\n",
    "These are individual `.csv` **files** that contain information about associated **features**:\n",
    "- **features**\n",
    "- **genes**\n",
    "- **exons** <font color='red'> (missing, for now use both `cds` and `utr`) <red>\n",
    "- **CDS** \n",
    "- **UTRs**\n",
    "- **Introns** (missing, but might be necesary for further analysis)\n",
    "\n",
    "Besides the `gene_df`, I'm not sure if we need the rest ... At least for the `gene_counts.py` **script** we can directly parse the `gff` **file**"
   ]
  },
  {
   "cell_type": "markdown",
   "metadata": {},
   "source": [
    "**Features**: these are a mix of **genes** and other **features of interest** (e.g. `repeats`, `mating_type_region`, etc...)"
   ]
  },
  {
   "cell_type": "markdown",
   "metadata": {},
   "source": [
    "- Store `features_df` as `.csv` **file**"
   ]
  },
  {
   "cell_type": "code",
   "execution_count": 150,
   "metadata": {},
   "outputs": [],
   "source": [
    "#features_df_file = os.path.join(annot_dir, 'Schizosaccharomyces_pombe_all_chromosomes.features.csv')\n",
    "features_df_file = os.path.join(annot_dir, 'Schizosaccharomyces_pombe_all_chromosomes.extended.features.csv')"
   ]
  },
  {
   "cell_type": "code",
   "execution_count": 151,
   "metadata": {},
   "outputs": [],
   "source": [
    "features_df.to_csv(features_df_file, sep='\\t', index=None)"
   ]
  },
  {
   "cell_type": "markdown",
   "metadata": {},
   "source": [
    "**Genes**"
   ]
  },
  {
   "cell_type": "markdown",
   "metadata": {},
   "source": [
    "- Store `gene_df` as `.csv` **file**"
   ]
  },
  {
   "cell_type": "code",
   "execution_count": 152,
   "metadata": {},
   "outputs": [],
   "source": [
    "#gene_df_file = os.path.join(annot_dir, 'Schizosaccharomyces_pombe_all_chromosomes.gene.csv')\n",
    "gene_df_file = os.path.join(annot_dir, 'Schizosaccharomyces_pombe_all_chromosomes.extended.gene.csv')"
   ]
  },
  {
   "cell_type": "code",
   "execution_count": 153,
   "metadata": {},
   "outputs": [],
   "source": [
    "gene_df.to_csv(gene_df_file, sep='\\t', index=None)"
   ]
  },
  {
   "cell_type": "markdown",
   "metadata": {},
   "source": [
    "**Exons**"
   ]
  },
  {
   "cell_type": "markdown",
   "metadata": {},
   "source": [
    "- Add **gene information** and `biotype` column, and store `exons_df` as `.csv` **file** "
   ]
  },
  {
   "cell_type": "code",
   "execution_count": 154,
   "metadata": {},
   "outputs": [],
   "source": [
    "#exons_df_file = os.path.join(annot_dir, 'Schizosaccharomyces_pombe_all_chromosomes.extended.exon.csv')"
   ]
  },
  {
   "cell_type": "code",
   "execution_count": 155,
   "metadata": {},
   "outputs": [],
   "source": [
    "#exons_df.to_csv(exons_df_file, sep='\\t', index=None)"
   ]
  },
  {
   "cell_type": "markdown",
   "metadata": {},
   "source": [
    "**CDS**"
   ]
  },
  {
   "cell_type": "markdown",
   "metadata": {},
   "source": [
    "- Add **gene information** and `biotype` column, and store `cds_df` as `.csv` **file** "
   ]
  },
  {
   "cell_type": "code",
   "execution_count": 156,
   "metadata": {},
   "outputs": [],
   "source": [
    "#cds_df_file = os.path.join(annot_dir, 'Schizosaccharomyces_pombe_all_chromosomes.cds.csv')\n",
    "#cds_df_file = os.path.join(annot_dir, 'Schizosaccharomyces_pombe_all_chromosomes.extended.cds.csv')"
   ]
  },
  {
   "cell_type": "code",
   "execution_count": 157,
   "metadata": {},
   "outputs": [],
   "source": [
    "#cds_df.to_csv(cds_df_file, sep='\\t', index=None)"
   ]
  },
  {
   "cell_type": "markdown",
   "metadata": {},
   "source": [
    "**UTRs**"
   ]
  },
  {
   "cell_type": "markdown",
   "metadata": {},
   "source": [
    "- Add **gene information** and `biotype` column, and store `cds_df` as `.csv` **file** "
   ]
  },
  {
   "cell_type": "code",
   "execution_count": 158,
   "metadata": {},
   "outputs": [],
   "source": [
    "#utr_df_file = os.path.join(annot_dir, 'Schizosaccharomyces_pombe_all_chromosomes.utr.csv')"
   ]
  },
  {
   "cell_type": "code",
   "execution_count": 159,
   "metadata": {},
   "outputs": [],
   "source": [
    "#utr_df.to_csv(utr_df_file, sep='\\t', index=None)"
   ]
  },
  {
   "cell_type": "markdown",
   "metadata": {},
   "source": [
    "**Introns**"
   ]
  },
  {
   "cell_type": "markdown",
   "metadata": {},
   "source": [
    "- Add **gene information** and `biotype` column, and store `intron_df` as `.csv` **file** "
   ]
  },
  {
   "cell_type": "code",
   "execution_count": 160,
   "metadata": {},
   "outputs": [
    {
     "data": {
      "text/html": [
       "<div>\n",
       "<style scoped>\n",
       "    .dataframe tbody tr th:only-of-type {\n",
       "        vertical-align: middle;\n",
       "    }\n",
       "\n",
       "    .dataframe tbody tr th {\n",
       "        vertical-align: top;\n",
       "    }\n",
       "\n",
       "    .dataframe thead th {\n",
       "        text-align: right;\n",
       "    }\n",
       "</style>\n",
       "<table border=\"1\" class=\"dataframe\">\n",
       "  <thead>\n",
       "    <tr style=\"text-align: right;\">\n",
       "      <th></th>\n",
       "      <th>seqid</th>\n",
       "      <th>source</th>\n",
       "      <th>type</th>\n",
       "      <th>start</th>\n",
       "      <th>end</th>\n",
       "      <th>score</th>\n",
       "      <th>strand</th>\n",
       "      <th>phase</th>\n",
       "      <th>ID</th>\n",
       "      <th>Parent</th>\n",
       "      <th>gene_id</th>\n",
       "      <th>gene_name</th>\n",
       "      <th>transcript_id</th>\n",
       "      <th>bio_type</th>\n",
       "      <th>intron_length</th>\n",
       "    </tr>\n",
       "  </thead>\n",
       "  <tbody>\n",
       "    <tr>\n",
       "      <th>4186</th>\n",
       "      <td>I</td>\n",
       "      <td>PomBase</td>\n",
       "      <td>intron</td>\n",
       "      <td>18307</td>\n",
       "      <td>18348</td>\n",
       "      <td>.</td>\n",
       "      <td>+</td>\n",
       "      <td>.</td>\n",
       "      <td>SPAC212.06c.1:intron:1</td>\n",
       "      <td>SPAC212.06c.1</td>\n",
       "      <td>SPAC212.06c</td>\n",
       "      <td>NaN</td>\n",
       "      <td>SPAC212.06c.1</td>\n",
       "      <td>mRNA</td>\n",
       "      <td>42</td>\n",
       "    </tr>\n",
       "    <tr>\n",
       "      <th>4180</th>\n",
       "      <td>I</td>\n",
       "      <td>PomBase</td>\n",
       "      <td>intron</td>\n",
       "      <td>22077</td>\n",
       "      <td>22131</td>\n",
       "      <td>.</td>\n",
       "      <td>+</td>\n",
       "      <td>.</td>\n",
       "      <td>SPAC212.04c.1:intron:1</td>\n",
       "      <td>SPAC212.04c.1</td>\n",
       "      <td>SPAC212.04c</td>\n",
       "      <td>NaN</td>\n",
       "      <td>SPAC212.04c.1</td>\n",
       "      <td>mRNA</td>\n",
       "      <td>55</td>\n",
       "    </tr>\n",
       "    <tr>\n",
       "      <th>4172</th>\n",
       "      <td>I</td>\n",
       "      <td>PomBase</td>\n",
       "      <td>intron</td>\n",
       "      <td>29228</td>\n",
       "      <td>29285</td>\n",
       "      <td>.</td>\n",
       "      <td>+</td>\n",
       "      <td>.</td>\n",
       "      <td>SPAC212.01c.1:intron:1</td>\n",
       "      <td>SPAC212.01c.1</td>\n",
       "      <td>SPAC212.01c</td>\n",
       "      <td>NaN</td>\n",
       "      <td>SPAC212.01c.1</td>\n",
       "      <td>mRNA</td>\n",
       "      <td>58</td>\n",
       "    </tr>\n",
       "    <tr>\n",
       "      <th>10437</th>\n",
       "      <td>I</td>\n",
       "      <td>PomBase</td>\n",
       "      <td>intron</td>\n",
       "      <td>31558</td>\n",
       "      <td>31767</td>\n",
       "      <td>.</td>\n",
       "      <td>-</td>\n",
       "      <td>.</td>\n",
       "      <td>SPAC977.18.1:intron:1</td>\n",
       "      <td>SPAC977.18.1</td>\n",
       "      <td>SPAC977.18</td>\n",
       "      <td>NaN</td>\n",
       "      <td>SPAC977.18.1</td>\n",
       "      <td>mRNA</td>\n",
       "      <td>210</td>\n",
       "    </tr>\n",
       "    <tr>\n",
       "      <th>10435</th>\n",
       "      <td>I</td>\n",
       "      <td>PomBase</td>\n",
       "      <td>intron</td>\n",
       "      <td>31914</td>\n",
       "      <td>32162</td>\n",
       "      <td>.</td>\n",
       "      <td>-</td>\n",
       "      <td>.</td>\n",
       "      <td>SPAC977.18.1:intron:2</td>\n",
       "      <td>SPAC977.18.1</td>\n",
       "      <td>SPAC977.18</td>\n",
       "      <td>NaN</td>\n",
       "      <td>SPAC977.18.1</td>\n",
       "      <td>mRNA</td>\n",
       "      <td>249</td>\n",
       "    </tr>\n",
       "  </tbody>\n",
       "</table>\n",
       "</div>"
      ],
      "text/plain": [
       "      seqid   source    type  start    end score strand phase  \\\n",
       "4186      I  PomBase  intron  18307  18348     .      +     .   \n",
       "4180      I  PomBase  intron  22077  22131     .      +     .   \n",
       "4172      I  PomBase  intron  29228  29285     .      +     .   \n",
       "10437     I  PomBase  intron  31558  31767     .      -     .   \n",
       "10435     I  PomBase  intron  31914  32162     .      -     .   \n",
       "\n",
       "                           ID         Parent      gene_id gene_name  \\\n",
       "4186   SPAC212.06c.1:intron:1  SPAC212.06c.1  SPAC212.06c       NaN   \n",
       "4180   SPAC212.04c.1:intron:1  SPAC212.04c.1  SPAC212.04c       NaN   \n",
       "4172   SPAC212.01c.1:intron:1  SPAC212.01c.1  SPAC212.01c       NaN   \n",
       "10437   SPAC977.18.1:intron:1   SPAC977.18.1   SPAC977.18       NaN   \n",
       "10435   SPAC977.18.1:intron:2   SPAC977.18.1   SPAC977.18       NaN   \n",
       "\n",
       "       transcript_id bio_type  intron_length  \n",
       "4186   SPAC212.06c.1     mRNA             42  \n",
       "4180   SPAC212.04c.1     mRNA             55  \n",
       "4172   SPAC212.01c.1     mRNA             58  \n",
       "10437   SPAC977.18.1     mRNA            210  \n",
       "10435   SPAC977.18.1     mRNA            249  "
      ]
     },
     "execution_count": 160,
     "metadata": {},
     "output_type": "execute_result"
    }
   ],
   "source": [
    "intron_df.head()"
   ]
  },
  {
   "cell_type": "code",
   "execution_count": 161,
   "metadata": {},
   "outputs": [],
   "source": [
    "intron_df = pd.merge(intron_df, features_df[['gene_id', 'gene_length', 'category']], how='left', on='gene_id')"
   ]
  },
  {
   "cell_type": "code",
   "execution_count": 162,
   "metadata": {},
   "outputs": [],
   "source": [
    "intron_df_file = os.path.join(annot_dir, 'Schizosaccharomyces_pombe_all_chromosomes.intron.csv')"
   ]
  },
  {
   "cell_type": "code",
   "execution_count": 163,
   "metadata": {},
   "outputs": [],
   "source": [
    "intron_df.to_csv(intron_df_file, sep='\\t', index=None)"
   ]
  },
  {
   "cell_type": "markdown",
   "metadata": {},
   "source": [
    "---------------------------"
   ]
  },
  {
   "cell_type": "markdown",
   "metadata": {},
   "source": [
    "# **[PomBase - Genomic regions](https://www.pombase.org/downloads/genome-datasets)**"
   ]
  },
  {
   "cell_type": "markdown",
   "metadata": {},
   "source": [
    "---------------------------"
   ]
  },
  {
   "cell_type": "markdown",
   "metadata": {},
   "source": [
    "## **[Sequencing Status](https://www.pombase.org/status/sequencing-status)**\n",
    "\n",
    "### **Chromosome 1**\n",
    "\n",
    "| Contig Name | Region | Size |\n",
    "| --- | --- | --- |\n",
    "| - | unsequenced to chr1 left telomere| 10 ± 2 kb* | \n",
    "| c212| sub-telomeric left arm | 29,663 bp| \n",
    "| - | Gap | | <5 kb* |\n",
    "| c977 | left arm and right arm | 5,549,370 bp| \n",
    "| - | unsequenced to chr1 left telomere| 18 ± 3 kb* | \n",
    "\n",
    "### **Chromosome 2**\n",
    "| Contig Name | Region | Size |\n",
    "| --- | --- | --- |\n",
    "| AB325691 | chr2 left arm gap-filling contig | 20,000 bp** | \n",
    "| - | Gap | 5 ± 5 kb| \n",
    "| c1348 | sub-telomeric left arm | 80,201 bp| \n",
    "| - | Gap | 22 ± 5 kb*| \n",
    "| pB10D8 | left arm to centromeric gap | 1,536,269 bp| \n",
    "| - | Gap | ~6 kb | \n",
    "| pJ5566 | right arm from centromeric gap to telomeric repeats | 2,923,134 bp| \n",
    "\n",
    "### **Chromosome 3**\n",
    "| Contig Name | Region | Size |\n",
    "| --- | --- | --- |\n",
    "| p20C8 | left arm from centromeric gap | 1,083,348 bp| \n",
    "| - | Gap | 25.3 ± 6 kb***| \n",
    "| c1676 | right arm from centromeric gap | 1,369,435 bp| "
   ]
  },
  {
   "cell_type": "markdown",
   "metadata": {},
   "source": [
    "!['spombe_chr'](https://cshperspectives.cshlp.org/content/7/7/a018770/F2.large.jpg)"
   ]
  },
  {
   "cell_type": "markdown",
   "metadata": {},
   "source": [
    "## **[Telomeres](https://www.pombase.org/status/telomeres)**\n",
    "\n",
    "The fission yeast complete genome sequence currently stops short of the **telomeric repeats**. See the [Sequencing Status](https://www.pombase.org/status/sequencing-status) page for the current assembly status.\n",
    "\n",
    "The most proximal anchored cosmids to each telomere are (links to `JBrowser`):\n",
    "\n",
    "* **Chromosome I** left c212 (coordinates [1-29663](https://www.pombase.org/jbrowse/?loc=I%3A1..29664&tracks=DNA%2CPomBase%20forward%20strand%20features%2CPomBase%20reverse%20strand%20features&highlight=))\n",
    "* **Cromosome I** right c750 (coordinates [5554844-5579133](https://www.pombase.org/jbrowse/?loc=I%3A5554843..5579133&tracks=PomBase%20forward%20strand%20features%2CPomBase%20reverse%20strand%20features&highlight=))\n",
    "* **Chromosome II** left c1348 (coordinates [1-39186](https://www.pombase.org/jbrowse/?loc=II%3A1..39181&tracks=DNA%2CPomBase%20forward%20strand%20features%2CPomBase%20reverse%20strand%20features&highlight=))\n",
    "* **Chromosome II** right pT2R1 (coordinates [4500619-4539800](https://www.pombase.org/jbrowse/?loc=II%3A4500628..4539804&tracks=DNA%2CPomBase%20forward%20strand%20features%2CPomBase%20reverse%20strand%20features&highlight=))\n",
    "\n",
    "<font color='red'> There are no telomere proximal clones for **chromosome III** as the unsequenced rDNA blocks occur in between the sequenced portion and the telomeres on both chromosome arms. <font> \n",
    "\n",
    "### <ins> How can I locate telomeres and subtelomeric regions? </ins>\n",
    "\n",
    "The current `S. pombe` genome assembly <font color='red'> **does not include the complete `telomeric regions` or the `telomeric short repeats`**. </font>\n",
    "\n",
    "These omissions are beyond the control of **PomBase curators**.\n",
    "\n",
    "<font color='red'> **`Subtelomeric repeats` are also not explicitly defined at present**</font>, although we hope to provide this information in the future. \n",
    "\n",
    "Additional information about `S. pombe`  **`telomeres`** is available at on the [Telomeres page](https://www.pombase.org/status/telomeres).\n",
    "\n"
   ]
  },
  {
   "cell_type": "markdown",
   "metadata": {},
   "source": [
    "## **[Centromeres](https://www.pombase.org/status/centromeres)**\n",
    "\n",
    "At present, each centromere is annotated as a single sequence feature in *PomBase*, which can be viewed in and downloaded from the Ensembl genome browser.\n",
    "\n",
    "* **CEN 1**: [3753687-3789421](https://www.pombase.org/jbrowse/?loc=I%3A3753680..3789414&tracks=DNA%2CPomBase%20forward%20strand%20features%2CPomBase%20reverse%20strand%20features&highlight=)\n",
    "* **CEN 2**: [1602264-1644747](https://www.pombase.org/jbrowse/?loc=II%3A1602261..1644744&tracks=DNA%2CPomBase%20forward%20strand%20features%2CPomBase%20reverse%20strand%20features&highlight=)\n",
    "* **CEN 3**: [1070904-1137003](https://www.pombase.org/jbrowse/?loc=III%3A1070899..1136998&tracks=DNA%2CPomBase%20forward%20strand%20features%2CPomBase%20reverse%20strand%20features&highlight=)\n",
    "\n",
    "Note that specific `repeats` within **centromeres** cannot yet be viewed or searched as features on *PomBase* pages, but they are included in the `forward` and `reverse` **strand feature tracks** in the genome browser, which are enabled by default.\n",
    "\n",
    "Repeats are also shown in the diagram below. To see the `repeat sequences`, download and unzip the [contiguated sequence files](ftp://ftp.pombase.org/pombe/genome_sequence_and_features/artemis_files/) and view them in **Artemis**. (See this [FAQ](https://www.pombase.org/faq/there-equivalent-artemis-java-applet-pombase) for more information.)\n",
    "\n",
    "**Note**: Recent work (`?2010`) by Chad Ellermeier and Gerry Smith suggests that there are only 4 +/- 1 copies of the 6760 bp repeat missing from chromosome 3.\n",
    "\n",
    "**Please note**: This map is a schematic diagram. Distances and overlaps are approximate. Please refer to the sequence data to design experimental constructs.\n",
    "!['spombe_cemtromer'](https://www.pombase.org/assets/centromeremapping.gif)\n",
    "\n",
    "**Centromere map from**: *The genome sequence of Schizosaccharomyces pombe. Nature 2002 Feb 21;415(6874):871-80. created by Rhian Gwilliam*\n",
    "\n",
    "### <ins> How can I locate centromeres? </ins>\n",
    "\n",
    "Centromeres can be retrieved in the *PomBase* genome browser; the coordinates are:\n",
    "\n",
    "* **Chromosome I**: `3753687-3789421`\n",
    "* **Chromosome II**: `1602264-1644747`\n",
    "* **Chromosome III**: `1070904-1137003`\n",
    "\n",
    "Sequence features within the centromeres, such as `repeats`, are annotated with **Sequence Ontology terms**. \n",
    "\n",
    "For more details, see the [Centromeres page](https://www.pombase.org/status/centromeres)."
   ]
  },
  {
   "cell_type": "markdown",
   "metadata": {},
   "source": [
    "\n",
    "## **[Mating Type Region](https://www.pombase.org/status/mating-type-region)**\n",
    "\n",
    "The *S. pombe* **mating type loci** are located on **Chromosome 2**.\n",
    "\n",
    "The `reference` **strain 972 h-** encodes the `M`-specific **mating genes** `II:2114008-2115135` at the expressed `mat1` **locus**.\n",
    "\n",
    "The **silent region** `mat3M` is located at coordinates `II:2129208-2137121`.\n",
    "\n",
    "<font color='red'> Note that the **silent** `mat2P` **region** and **cenH element** are **deleted** in the reference strain. </font>\n",
    "\n",
    "A contig of the **h90 configuration** of the `mat2P`-`mat3M` **region** was created by Xavier Marsellach and Lorena Aguilar (Azorín lab) using available data and `S. pombe var. kambucha` as a scaffold. The contig can be viewed in the genome browser. \n",
    "\n",
    "Replacing the **Chromosome 2** region spanning coordinates `2129208-2137121` with the separate contig sequence yields the Chromosome 2 contig of an **h90 strain**.\n",
    "\n",
    "For a description of how the mating type specific genes are organized and annotated in PomBase, see this [FAQ](https://www.pombase.org/faq/how-are-mating-type-specific-gene-pages-organized) item.\n",
    "\n",
    "For a detailed description of the *S. pombe* **mating type region**, please see the [online tutorial](http://www1.bio.ku.dk/english/research/fg/cellecyklus_genomintegritet/mating/) provided by the Nielsen lab (dead - external link).\n",
    "\n",
    "### <ins> How can I locate the mating type region? </ins>\n",
    "\n",
    "Browse for:\n",
    "* **Chromosome II**: `2129208-2137121`\n",
    "* and see the [Mating type region page](https://www.pombase.org/status/mating-type-region).\n",
    "\n",
    "The **mating type region** will soon be annotated as a `feature`, and refer to a **Sequence Ontology term**.\n",
    "\n"
   ]
  },
  {
   "cell_type": "markdown",
   "metadata": {},
   "source": [
    "###  <ins> How are the mating type specific gene pages organized? </ins>\n",
    "\n",
    "As described in detail in this [online tutorial](https://www1.bio.ku.dk/english/research/fg/cellecyklus_genomintegritet/mating/)  provided by the Nielsen lab, `S. pombe` switch between the **two mating types** `M` and `P`.\n",
    "\n",
    "Genetic information encoded by the `mat1 locus` determines the **mating type**: \n",
    "* If this locus contains the `Pc` and `Pi` genes, the cell is **mating type** `P`\n",
    "* If it contains the `Mc` and `Mi` genes the cell is **mating type** `M`.\n",
    "\n",
    "Additionally, `S. pombe` contains **two silent loci**: `mat2` and `mat3`. These **loci are not expressed** but host the information needed for each mating type configuration:\n",
    "* `Mat2` contains the two genes `Pc` and `Pi`\n",
    "* `Mat3` contains the two genes `Mc` and `Mi`.\n",
    "\n",
    "Recombinational DNA repair during mitotic cell division ensures production of one daughter cell of parental mating type and one daughter of the opposite mating type.\n",
    "\n",
    "A **wild type** `S. pombe` cell thus contains **6 mating type specific genes**:\n",
    "1. `mat1-P/Mc` - expressed \n",
    "2. `mat1-P/Mi` - expressed\n",
    "3. `mat2-Pc` - silent\n",
    "4. `mat2-Pi` - silent \n",
    "5. `mat3-Mc` - silent\n",
    "6. `mat3-Mi` - silent\n",
    "\n",
    "The sequenced `S. pombe` **reference strain** (`972 h-`) is in the **M mating type configuration** (encodes the `Mc` and `Mi` genes at the `mat1` locus).\n",
    "The `mat2` genes **are deleted in this strain** for technical reasons, whereas the `mat3` genes **are intact**.\n",
    "\n",
    "The DNA sequence of the **WT** [silent mating type](https://www.pombase.org/status/mating-type-region) region containing the `mat2` and `mat3` genes was reconstructed yielding an extra [mating type region](https://www.pombase.org/downloads/genome-datasets) **contig** (see ‘current genome’ ftp site link).\n",
    "\n",
    "Only the `P` **genes** from this **contig** have gene pages in **PomBase**.\n",
    "\n",
    "The `systematic IDs` and contig source of the mating type specific genes are:\n",
    "1. `mat1-Mc` - SPBC23G7.09 (from the chromosome 2 contig) \n",
    "2. `mat1-Mi` - SPBC23G7.17c (from the chromosome 2 contig)\n",
    "3. `mat2-Pc` - SPMTR.01 (from the mating type contig) \n",
    "4. `mat2-Pi` - SPMTR.02 (from the mating type contig) \n",
    "5. `mat3-Mc` - SPBC1711.02 (from the chromosome 2 contig) \n",
    "6. `mat3-Mi` - SPBC1711.01c (from the chromosome 2 contig)\n",
    "\n",
    "The **duplicate** `M` genes without gene pages are: \n",
    "7. `mat3-Mc` - SPMTR.04 (extra copy from the mating type contig) \n",
    "8. `mat3-Mi` - SPMTR.03 (extra copy from the mating type contig)\n",
    "\n",
    "For the `M` specific genes, functional annotation (GO, phenotypes…) is attached to the `mat1-Mc` and `mat1-Mi` genes. \n",
    "\n",
    "For the `P` specific genes, functional annotation is attached to `mat2-Pc` and `mat2-Pi` out of necessity (the <font color='red'> **reference strain** is in the `M` **configuration**</font>)."
   ]
  },
  {
   "cell_type": "markdown",
   "metadata": {},
   "source": [
    "---------------------------"
   ]
  },
  {
   "cell_type": "markdown",
   "metadata": {},
   "source": [
    "# **Investigate Genomic Regions**"
   ]
  },
  {
   "cell_type": "code",
   "execution_count": 169,
   "metadata": {},
   "outputs": [],
   "source": [
    "repeat_features = ['long_terminal_repeat', # other repeat regions\n",
    "                   'repeat_region',\n",
    "                   # centromere repeats\n",
    "                   'dh_repeat', 'dg_repeat',\n",
    "                   'regional_centromere_inner_repeat_region',  'regional_centromere', 'regional_centromere_central_core',\n",
    "                   # mating type region\n",
    "                   'mating_type_region']\n",
    "explained_features.extend(repeat_features)"
   ]
  },
  {
   "cell_type": "code",
   "execution_count": 165,
   "metadata": {},
   "outputs": [
    {
     "data": {
      "text/html": [
       "<div>\n",
       "<style scoped>\n",
       "    .dataframe tbody tr th:only-of-type {\n",
       "        vertical-align: middle;\n",
       "    }\n",
       "\n",
       "    .dataframe tbody tr th {\n",
       "        vertical-align: top;\n",
       "    }\n",
       "\n",
       "    .dataframe thead th {\n",
       "        text-align: right;\n",
       "    }\n",
       "</style>\n",
       "<table border=\"1\" class=\"dataframe\">\n",
       "  <thead>\n",
       "    <tr style=\"text-align: right;\">\n",
       "      <th></th>\n",
       "      <th>ID</th>\n",
       "    </tr>\n",
       "    <tr>\n",
       "      <th>type</th>\n",
       "      <th></th>\n",
       "    </tr>\n",
       "  </thead>\n",
       "  <tbody>\n",
       "    <tr>\n",
       "      <th>long_terminal_repeat</th>\n",
       "      <td>239</td>\n",
       "    </tr>\n",
       "    <tr>\n",
       "      <th>repeat_region</th>\n",
       "      <td>49</td>\n",
       "    </tr>\n",
       "    <tr>\n",
       "      <th>dh_repeat</th>\n",
       "      <td>16</td>\n",
       "    </tr>\n",
       "    <tr>\n",
       "      <th>dg_repeat</th>\n",
       "      <td>11</td>\n",
       "    </tr>\n",
       "    <tr>\n",
       "      <th>regional_centromere_inner_repeat_region</th>\n",
       "      <td>6</td>\n",
       "    </tr>\n",
       "    <tr>\n",
       "      <th>regional_centromere</th>\n",
       "      <td>3</td>\n",
       "    </tr>\n",
       "    <tr>\n",
       "      <th>regional_centromere_central_core</th>\n",
       "      <td>4</td>\n",
       "    </tr>\n",
       "    <tr>\n",
       "      <th>mating_type_region</th>\n",
       "      <td>1</td>\n",
       "    </tr>\n",
       "  </tbody>\n",
       "</table>\n",
       "</div>"
      ],
      "text/plain": [
       "                                          ID\n",
       "type                                        \n",
       "long_terminal_repeat                     239\n",
       "repeat_region                             49\n",
       "dh_repeat                                 16\n",
       "dg_repeat                                 11\n",
       "regional_centromere_inner_repeat_region    6\n",
       "regional_centromere                        3\n",
       "regional_centromere_central_core           4\n",
       "mating_type_region                         1"
      ]
     },
     "execution_count": 165,
     "metadata": {},
     "output_type": "execute_result"
    }
   ],
   "source": [
    "gff_by_type.loc[repeat_features]"
   ]
  },
  {
   "cell_type": "markdown",
   "metadata": {},
   "source": [
    "- Get `repeats_df` by filtering the **gff** for `repeat` **features**"
   ]
  },
  {
   "cell_type": "code",
   "execution_count": 166,
   "metadata": {},
   "outputs": [],
   "source": [
    "repeats_df = gff[gff['type'].isin(repeat_features)].sort_values(['seqid', 'start', 'end'])\n",
    "#repeats_df.shape"
   ]
  },
  {
   "cell_type": "markdown",
   "metadata": {},
   "source": [
    "- Filter `columns` that contain **all NaN's**: in this case the `Name` and `Parent` **column**"
   ]
  },
  {
   "cell_type": "code",
   "execution_count": 167,
   "metadata": {},
   "outputs": [
    {
     "data": {
      "text/html": [
       "<div>\n",
       "<style scoped>\n",
       "    .dataframe tbody tr th:only-of-type {\n",
       "        vertical-align: middle;\n",
       "    }\n",
       "\n",
       "    .dataframe tbody tr th {\n",
       "        vertical-align: top;\n",
       "    }\n",
       "\n",
       "    .dataframe thead th {\n",
       "        text-align: right;\n",
       "    }\n",
       "</style>\n",
       "<table border=\"1\" class=\"dataframe\">\n",
       "  <thead>\n",
       "    <tr style=\"text-align: right;\">\n",
       "      <th></th>\n",
       "      <th>seqid</th>\n",
       "      <th>source</th>\n",
       "      <th>type</th>\n",
       "      <th>start</th>\n",
       "      <th>end</th>\n",
       "      <th>score</th>\n",
       "      <th>strand</th>\n",
       "      <th>phase</th>\n",
       "      <th>ID</th>\n",
       "    </tr>\n",
       "  </thead>\n",
       "  <tbody>\n",
       "    <tr>\n",
       "      <th>41697</th>\n",
       "      <td>I</td>\n",
       "      <td>PomBase</td>\n",
       "      <td>long_terminal_repeat</td>\n",
       "      <td>21035</td>\n",
       "      <td>21329</td>\n",
       "      <td>.</td>\n",
       "      <td>+</td>\n",
       "      <td>.</td>\n",
       "      <td>SPLTRA.1</td>\n",
       "    </tr>\n",
       "    <tr>\n",
       "      <th>41190</th>\n",
       "      <td>I</td>\n",
       "      <td>PomBase</td>\n",
       "      <td>long_terminal_repeat</td>\n",
       "      <td>24281</td>\n",
       "      <td>24445</td>\n",
       "      <td>.</td>\n",
       "      <td>-</td>\n",
       "      <td>.</td>\n",
       "      <td>SPLTRA.2</td>\n",
       "    </tr>\n",
       "    <tr>\n",
       "      <th>41369</th>\n",
       "      <td>I</td>\n",
       "      <td>PomBase</td>\n",
       "      <td>long_terminal_repeat</td>\n",
       "      <td>24581</td>\n",
       "      <td>24876</td>\n",
       "      <td>.</td>\n",
       "      <td>-</td>\n",
       "      <td>.</td>\n",
       "      <td>SPLTRA.3</td>\n",
       "    </tr>\n",
       "    <tr>\n",
       "      <th>41424</th>\n",
       "      <td>I</td>\n",
       "      <td>PomBase</td>\n",
       "      <td>long_terminal_repeat</td>\n",
       "      <td>25997</td>\n",
       "      <td>26339</td>\n",
       "      <td>.</td>\n",
       "      <td>-</td>\n",
       "      <td>.</td>\n",
       "      <td>SPLTRA.4</td>\n",
       "    </tr>\n",
       "    <tr>\n",
       "      <th>41355</th>\n",
       "      <td>I</td>\n",
       "      <td>PomBase</td>\n",
       "      <td>long_terminal_repeat</td>\n",
       "      <td>28124</td>\n",
       "      <td>28480</td>\n",
       "      <td>.</td>\n",
       "      <td>+</td>\n",
       "      <td>.</td>\n",
       "      <td>SPLTRA.5</td>\n",
       "    </tr>\n",
       "  </tbody>\n",
       "</table>\n",
       "</div>"
      ],
      "text/plain": [
       "      seqid   source                  type  start    end score strand phase  \\\n",
       "41697     I  PomBase  long_terminal_repeat  21035  21329     .      +     .   \n",
       "41190     I  PomBase  long_terminal_repeat  24281  24445     .      -     .   \n",
       "41369     I  PomBase  long_terminal_repeat  24581  24876     .      -     .   \n",
       "41424     I  PomBase  long_terminal_repeat  25997  26339     .      -     .   \n",
       "41355     I  PomBase  long_terminal_repeat  28124  28480     .      +     .   \n",
       "\n",
       "             ID  \n",
       "41697  SPLTRA.1  \n",
       "41190  SPLTRA.2  \n",
       "41369  SPLTRA.3  \n",
       "41424  SPLTRA.4  \n",
       "41355  SPLTRA.5  "
      ]
     },
     "execution_count": 167,
     "metadata": {},
     "output_type": "execute_result"
    }
   ],
   "source": [
    "cols = repeats_df.columns[~repeats_df.isna().all()]\n",
    "repeats_df = repeats_df[cols]\n",
    "repeats_df.head()"
   ]
  },
  {
   "cell_type": "code",
   "execution_count": 168,
   "metadata": {},
   "outputs": [
    {
     "data": {
      "text/plain": [
       "(329, 9)"
      ]
     },
     "execution_count": 168,
     "metadata": {},
     "output_type": "execute_result"
    }
   ],
   "source": [
    "repeats_df.shape"
   ]
  },
  {
   "cell_type": "markdown",
   "metadata": {},
   "source": [
    "## **II. Centromere repeats** (include `regional_centromere`)"
   ]
  },
  {
   "cell_type": "code",
   "execution_count": 82,
   "metadata": {},
   "outputs": [],
   "source": [
    "centromere_repeat_features = ['regional_centromere', ## this is actually the whole region, not a repeat per-se\n",
    "                              'dh_repeat', 'dg_repeat',\n",
    "                              'regional_centromere_inner_repeat_region', 'regional_centromere_central_core']"
   ]
  },
  {
   "cell_type": "code",
   "execution_count": 83,
   "metadata": {},
   "outputs": [
    {
     "data": {
      "text/plain": [
       "(40, 10)"
      ]
     },
     "execution_count": 83,
     "metadata": {},
     "output_type": "execute_result"
    }
   ],
   "source": [
    "centromere_repeat_df = repeats_df[repeats_df['type'].isin(centromere_repeat_features)].sort_values(['seqid', 'start', 'end'])\n",
    "centromere_repeat_df['length'] = centromere_repeat_df[\"end\"] - centromere_repeat_df[\"start\"] + 1\n",
    "centromere_repeat_df.shape"
   ]
  },
  {
   "cell_type": "markdown",
   "metadata": {},
   "source": [
    "The **centromeric region/centrometric repeats** follow the structure that can be seen in the figure below with slight differences for each chromosome."
   ]
  },
  {
   "cell_type": "markdown",
   "metadata": {},
   "source": []
  },
  {
   "cell_type": "markdown",
   "metadata": {},
   "source": [
    "**In Chromosome I**\n",
    "* region is not symmetrical `dh_repeat` and `dh_repeat` on both sides the **Central Domain** have different lengths\n",
    "* **SPRPTCENA.7** (`regional_centromere_inner_repeat_region`) and **SPRPTCENA.8** (`dg_repeat`) overlap\n",
    "* there is a big gap between  SPRPTCENA.8 (`dg_repeat`) and SPRPTCENA.9 (`dh_repeat`).\n"
   ]
  },
  {
   "cell_type": "markdown",
   "metadata": {},
   "source": [
    "!['ch_I_centromer'](igv_plots/chr_I_centromeric_region.png)"
   ]
  },
  {
   "cell_type": "markdown",
   "metadata": {},
   "source": [
    "**Chromosome I** - regional_centromere (spans `~35 kb`) can be divided in: (no-overlap)\n",
    "    * (-) `dh_repeat` (~5 kb) - SPRPTCENA.3\n",
    "    * (+) `dg_repeat` (~4.3 kb) - SPRPTCENA.4\n",
    "    * `regional_centromere_inner_repeat_region` (~5.6 kb) - SPRPTCENA.5\n",
    "    * `regional_centromere_central_core` (~4.1 kb) - SPRPTCENA.6\n",
    "    * `regional_centromere_inner_repeat_region` (~5.6 kb) - SPRPTCENA.7\n",
    "    * `dg_repeat` (~1.7 kb) - SPRPTCENA.8 \n",
    "    * `dh_repeat` (~3.9 kb) - SPRPTCENA.9"
   ]
  },
  {
   "cell_type": "code",
   "execution_count": 84,
   "metadata": {},
   "outputs": [
    {
     "data": {
      "text/html": [
       "<div>\n",
       "<style scoped>\n",
       "    .dataframe tbody tr th:only-of-type {\n",
       "        vertical-align: middle;\n",
       "    }\n",
       "\n",
       "    .dataframe tbody tr th {\n",
       "        vertical-align: top;\n",
       "    }\n",
       "\n",
       "    .dataframe thead th {\n",
       "        text-align: right;\n",
       "    }\n",
       "</style>\n",
       "<table border=\"1\" class=\"dataframe\">\n",
       "  <thead>\n",
       "    <tr style=\"text-align: right;\">\n",
       "      <th></th>\n",
       "      <th>seqid</th>\n",
       "      <th>source</th>\n",
       "      <th>type</th>\n",
       "      <th>start</th>\n",
       "      <th>end</th>\n",
       "      <th>score</th>\n",
       "      <th>strand</th>\n",
       "      <th>phase</th>\n",
       "      <th>ID</th>\n",
       "      <th>length</th>\n",
       "    </tr>\n",
       "  </thead>\n",
       "  <tbody>\n",
       "    <tr>\n",
       "      <th>41285</th>\n",
       "      <td>I</td>\n",
       "      <td>PomBase</td>\n",
       "      <td>regional_centromere</td>\n",
       "      <td>3753687</td>\n",
       "      <td>3789421</td>\n",
       "      <td>.</td>\n",
       "      <td>+</td>\n",
       "      <td>.</td>\n",
       "      <td>CU329670_regional_centromere_3753687..3789421</td>\n",
       "      <td>35735</td>\n",
       "    </tr>\n",
       "    <tr>\n",
       "      <th>41275</th>\n",
       "      <td>I</td>\n",
       "      <td>PomBase</td>\n",
       "      <td>dh_repeat</td>\n",
       "      <td>3754127</td>\n",
       "      <td>3759170</td>\n",
       "      <td>.</td>\n",
       "      <td>-</td>\n",
       "      <td>.</td>\n",
       "      <td>SPRPTCENA.3</td>\n",
       "      <td>5044</td>\n",
       "    </tr>\n",
       "    <tr>\n",
       "      <th>41362</th>\n",
       "      <td>I</td>\n",
       "      <td>PomBase</td>\n",
       "      <td>dg_repeat</td>\n",
       "      <td>3759165</td>\n",
       "      <td>3763441</td>\n",
       "      <td>.</td>\n",
       "      <td>+</td>\n",
       "      <td>.</td>\n",
       "      <td>SPRPTCENA.4</td>\n",
       "      <td>4277</td>\n",
       "    </tr>\n",
       "    <tr>\n",
       "      <th>41356</th>\n",
       "      <td>I</td>\n",
       "      <td>PomBase</td>\n",
       "      <td>regional_centromere_inner_repeat_region</td>\n",
       "      <td>3763442</td>\n",
       "      <td>3769077</td>\n",
       "      <td>.</td>\n",
       "      <td>+</td>\n",
       "      <td>.</td>\n",
       "      <td>SPRPTCENA.5</td>\n",
       "      <td>5636</td>\n",
       "    </tr>\n",
       "    <tr>\n",
       "      <th>41584</th>\n",
       "      <td>I</td>\n",
       "      <td>PomBase</td>\n",
       "      <td>regional_centromere_central_core</td>\n",
       "      <td>3769078</td>\n",
       "      <td>3773184</td>\n",
       "      <td>.</td>\n",
       "      <td>+</td>\n",
       "      <td>.</td>\n",
       "      <td>SPRPTCENA.6</td>\n",
       "      <td>4107</td>\n",
       "    </tr>\n",
       "    <tr>\n",
       "      <th>41621</th>\n",
       "      <td>I</td>\n",
       "      <td>PomBase</td>\n",
       "      <td>regional_centromere_inner_repeat_region</td>\n",
       "      <td>3773196</td>\n",
       "      <td>3778831</td>\n",
       "      <td>.</td>\n",
       "      <td>+</td>\n",
       "      <td>.</td>\n",
       "      <td>SPRPTCENA.7</td>\n",
       "      <td>5636</td>\n",
       "    </tr>\n",
       "    <tr>\n",
       "      <th>41668</th>\n",
       "      <td>I</td>\n",
       "      <td>PomBase</td>\n",
       "      <td>dg_repeat</td>\n",
       "      <td>3777115</td>\n",
       "      <td>3778839</td>\n",
       "      <td>.</td>\n",
       "      <td>+</td>\n",
       "      <td>.</td>\n",
       "      <td>SPRPTCENA.8</td>\n",
       "      <td>1725</td>\n",
       "    </tr>\n",
       "    <tr>\n",
       "      <th>41251</th>\n",
       "      <td>I</td>\n",
       "      <td>PomBase</td>\n",
       "      <td>dh_repeat</td>\n",
       "      <td>3785089</td>\n",
       "      <td>3788981</td>\n",
       "      <td>.</td>\n",
       "      <td>+</td>\n",
       "      <td>.</td>\n",
       "      <td>SPRPTCENA.9</td>\n",
       "      <td>3893</td>\n",
       "    </tr>\n",
       "  </tbody>\n",
       "</table>\n",
       "</div>"
      ],
      "text/plain": [
       "      seqid   source                                     type    start  \\\n",
       "41285     I  PomBase                      regional_centromere  3753687   \n",
       "41275     I  PomBase                                dh_repeat  3754127   \n",
       "41362     I  PomBase                                dg_repeat  3759165   \n",
       "41356     I  PomBase  regional_centromere_inner_repeat_region  3763442   \n",
       "41584     I  PomBase         regional_centromere_central_core  3769078   \n",
       "41621     I  PomBase  regional_centromere_inner_repeat_region  3773196   \n",
       "41668     I  PomBase                                dg_repeat  3777115   \n",
       "41251     I  PomBase                                dh_repeat  3785089   \n",
       "\n",
       "           end score strand phase  \\\n",
       "41285  3789421     .      +     .   \n",
       "41275  3759170     .      -     .   \n",
       "41362  3763441     .      +     .   \n",
       "41356  3769077     .      +     .   \n",
       "41584  3773184     .      +     .   \n",
       "41621  3778831     .      +     .   \n",
       "41668  3778839     .      +     .   \n",
       "41251  3788981     .      +     .   \n",
       "\n",
       "                                                  ID  length  \n",
       "41285  CU329670_regional_centromere_3753687..3789421   35735  \n",
       "41275                                    SPRPTCENA.3    5044  \n",
       "41362                                    SPRPTCENA.4    4277  \n",
       "41356                                    SPRPTCENA.5    5636  \n",
       "41584                                    SPRPTCENA.6    4107  \n",
       "41621                                    SPRPTCENA.7    5636  \n",
       "41668                                    SPRPTCENA.8    1725  \n",
       "41251                                    SPRPTCENA.9    3893  "
      ]
     },
     "execution_count": 84,
     "metadata": {},
     "output_type": "execute_result"
    }
   ],
   "source": [
    "centromere_repeat_df[centromere_repeat_df['seqid'].isin(['I'])]"
   ]
  },
  {
   "cell_type": "markdown",
   "metadata": {},
   "source": [
    "**In Chromosome II**\n",
    "* <font color='red'> **TODO:** </font>"
   ]
  },
  {
   "cell_type": "markdown",
   "metadata": {},
   "source": [
    "!['ch_II_centromer'](/igv_plots/chr_II_centromeric_region.png)"
   ]
  },
  {
   "cell_type": "code",
   "execution_count": 102,
   "metadata": {},
   "outputs": [],
   "source": [
    "#<img src=\"igv_plots/chr_II_centromeric_region.png\" style=\"width:200; height:400px\">"
   ]
  },
  {
   "cell_type": "markdown",
   "metadata": {},
   "source": [
    "* **Chromosome II** - regional_centromere (spans ~42 kb) can be divided in:\n",
    "    * <font color='red'> **TODO:** </font>\n",
    "    * dg_repeat (~4.8 kb)\n",
    "    * (gap)\n",
    "    * (-) dh_repeat (~1.5 kb)\n",
    "    * (+) dh_repeat (~1.5 kb)\n",
    "    * regional_centromere_inner_repeat_region\n",
    "    * regional_centromere_central_core\n",
    "    * regional_centromere_inner_repeat_region\n",
    "    * dg_repeat (~1.7 kb) (overlaped with regional_centromere_inner_repeat_region)\n",
    "    * dh_repeat (~3.9 kb) (after a gap)"
   ]
  },
  {
   "cell_type": "code",
   "execution_count": 85,
   "metadata": {},
   "outputs": [
    {
     "data": {
      "text/html": [
       "<div>\n",
       "<style scoped>\n",
       "    .dataframe tbody tr th:only-of-type {\n",
       "        vertical-align: middle;\n",
       "    }\n",
       "\n",
       "    .dataframe tbody tr th {\n",
       "        vertical-align: top;\n",
       "    }\n",
       "\n",
       "    .dataframe thead th {\n",
       "        text-align: right;\n",
       "    }\n",
       "</style>\n",
       "<table border=\"1\" class=\"dataframe\">\n",
       "  <thead>\n",
       "    <tr style=\"text-align: right;\">\n",
       "      <th></th>\n",
       "      <th>seqid</th>\n",
       "      <th>source</th>\n",
       "      <th>type</th>\n",
       "      <th>start</th>\n",
       "      <th>end</th>\n",
       "      <th>score</th>\n",
       "      <th>strand</th>\n",
       "      <th>phase</th>\n",
       "      <th>ID</th>\n",
       "      <th>length</th>\n",
       "    </tr>\n",
       "  </thead>\n",
       "  <tbody>\n",
       "    <tr>\n",
       "      <th>41406</th>\n",
       "      <td>II</td>\n",
       "      <td>PomBase</td>\n",
       "      <td>regional_centromere</td>\n",
       "      <td>1602418</td>\n",
       "      <td>1644747</td>\n",
       "      <td>.</td>\n",
       "      <td>+</td>\n",
       "      <td>.</td>\n",
       "      <td>CU329671_regional_centromere_1602418..1644747</td>\n",
       "      <td>42330</td>\n",
       "    </tr>\n",
       "    <tr>\n",
       "      <th>41430</th>\n",
       "      <td>II</td>\n",
       "      <td>PomBase</td>\n",
       "      <td>dg_repeat</td>\n",
       "      <td>1604786</td>\n",
       "      <td>1609649</td>\n",
       "      <td>.</td>\n",
       "      <td>-</td>\n",
       "      <td>.</td>\n",
       "      <td>SPRPTCENB.1</td>\n",
       "      <td>4864</td>\n",
       "    </tr>\n",
       "    <tr>\n",
       "      <th>41286</th>\n",
       "      <td>II</td>\n",
       "      <td>PomBase</td>\n",
       "      <td>dh_repeat</td>\n",
       "      <td>1610041</td>\n",
       "      <td>1611580</td>\n",
       "      <td>.</td>\n",
       "      <td>-</td>\n",
       "      <td>.</td>\n",
       "      <td>SPRPTCENB.3</td>\n",
       "      <td>1540</td>\n",
       "    </tr>\n",
       "    <tr>\n",
       "      <th>41404</th>\n",
       "      <td>II</td>\n",
       "      <td>PomBase</td>\n",
       "      <td>dh_repeat</td>\n",
       "      <td>1611467</td>\n",
       "      <td>1613530</td>\n",
       "      <td>.</td>\n",
       "      <td>+</td>\n",
       "      <td>.</td>\n",
       "      <td>SPRPTCENB.4</td>\n",
       "      <td>2064</td>\n",
       "    </tr>\n",
       "    <tr>\n",
       "      <th>41473</th>\n",
       "      <td>II</td>\n",
       "      <td>PomBase</td>\n",
       "      <td>regional_centromere_inner_repeat_region</td>\n",
       "      <td>1616671</td>\n",
       "      <td>1620806</td>\n",
       "      <td>.</td>\n",
       "      <td>+</td>\n",
       "      <td>.</td>\n",
       "      <td>SPRPTCENB.10</td>\n",
       "      <td>4136</td>\n",
       "    </tr>\n",
       "    <tr>\n",
       "      <th>41412</th>\n",
       "      <td>II</td>\n",
       "      <td>PomBase</td>\n",
       "      <td>regional_centromere_central_core</td>\n",
       "      <td>1620807</td>\n",
       "      <td>1624737</td>\n",
       "      <td>.</td>\n",
       "      <td>+</td>\n",
       "      <td>.</td>\n",
       "      <td>SPRPTCENB.11</td>\n",
       "      <td>3931</td>\n",
       "    </tr>\n",
       "    <tr>\n",
       "      <th>41384</th>\n",
       "      <td>II</td>\n",
       "      <td>PomBase</td>\n",
       "      <td>regional_centromere_central_core</td>\n",
       "      <td>1624515</td>\n",
       "      <td>1627609</td>\n",
       "      <td>.</td>\n",
       "      <td>+</td>\n",
       "      <td>.</td>\n",
       "      <td>SPRPTCENB.12</td>\n",
       "      <td>3095</td>\n",
       "    </tr>\n",
       "    <tr>\n",
       "      <th>41503</th>\n",
       "      <td>II</td>\n",
       "      <td>PomBase</td>\n",
       "      <td>regional_centromere_inner_repeat_region</td>\n",
       "      <td>1627610</td>\n",
       "      <td>1631932</td>\n",
       "      <td>.</td>\n",
       "      <td>+</td>\n",
       "      <td>.</td>\n",
       "      <td>SPRPTCENB.13</td>\n",
       "      <td>4323</td>\n",
       "    </tr>\n",
       "    <tr>\n",
       "      <th>41666</th>\n",
       "      <td>II</td>\n",
       "      <td>PomBase</td>\n",
       "      <td>dh_repeat</td>\n",
       "      <td>1631933</td>\n",
       "      <td>1634352</td>\n",
       "      <td>.</td>\n",
       "      <td>+</td>\n",
       "      <td>.</td>\n",
       "      <td>SPRPTCENB.14</td>\n",
       "      <td>2420</td>\n",
       "    </tr>\n",
       "    <tr>\n",
       "      <th>41302</th>\n",
       "      <td>II</td>\n",
       "      <td>PomBase</td>\n",
       "      <td>dh_repeat</td>\n",
       "      <td>1634252</td>\n",
       "      <td>1637841</td>\n",
       "      <td>.</td>\n",
       "      <td>+</td>\n",
       "      <td>.</td>\n",
       "      <td>SPRPTCENB.15</td>\n",
       "      <td>3590</td>\n",
       "    </tr>\n",
       "    <tr>\n",
       "      <th>41383</th>\n",
       "      <td>II</td>\n",
       "      <td>PomBase</td>\n",
       "      <td>dg_repeat</td>\n",
       "      <td>1638230</td>\n",
       "      <td>1644747</td>\n",
       "      <td>.</td>\n",
       "      <td>+</td>\n",
       "      <td>.</td>\n",
       "      <td>SPRPTCENB.17</td>\n",
       "      <td>6518</td>\n",
       "    </tr>\n",
       "  </tbody>\n",
       "</table>\n",
       "</div>"
      ],
      "text/plain": [
       "      seqid   source                                     type    start  \\\n",
       "41406    II  PomBase                      regional_centromere  1602418   \n",
       "41430    II  PomBase                                dg_repeat  1604786   \n",
       "41286    II  PomBase                                dh_repeat  1610041   \n",
       "41404    II  PomBase                                dh_repeat  1611467   \n",
       "41473    II  PomBase  regional_centromere_inner_repeat_region  1616671   \n",
       "41412    II  PomBase         regional_centromere_central_core  1620807   \n",
       "41384    II  PomBase         regional_centromere_central_core  1624515   \n",
       "41503    II  PomBase  regional_centromere_inner_repeat_region  1627610   \n",
       "41666    II  PomBase                                dh_repeat  1631933   \n",
       "41302    II  PomBase                                dh_repeat  1634252   \n",
       "41383    II  PomBase                                dg_repeat  1638230   \n",
       "\n",
       "           end score strand phase  \\\n",
       "41406  1644747     .      +     .   \n",
       "41430  1609649     .      -     .   \n",
       "41286  1611580     .      -     .   \n",
       "41404  1613530     .      +     .   \n",
       "41473  1620806     .      +     .   \n",
       "41412  1624737     .      +     .   \n",
       "41384  1627609     .      +     .   \n",
       "41503  1631932     .      +     .   \n",
       "41666  1634352     .      +     .   \n",
       "41302  1637841     .      +     .   \n",
       "41383  1644747     .      +     .   \n",
       "\n",
       "                                                  ID  length  \n",
       "41406  CU329671_regional_centromere_1602418..1644747   42330  \n",
       "41430                                    SPRPTCENB.1    4864  \n",
       "41286                                    SPRPTCENB.3    1540  \n",
       "41404                                    SPRPTCENB.4    2064  \n",
       "41473                                   SPRPTCENB.10    4136  \n",
       "41412                                   SPRPTCENB.11    3931  \n",
       "41384                                   SPRPTCENB.12    3095  \n",
       "41503                                   SPRPTCENB.13    4323  \n",
       "41666                                   SPRPTCENB.14    2420  \n",
       "41302                                   SPRPTCENB.15    3590  \n",
       "41383                                   SPRPTCENB.17    6518  "
      ]
     },
     "execution_count": 85,
     "metadata": {},
     "output_type": "execute_result"
    }
   ],
   "source": [
    "centromere_repeat_df[centromere_repeat_df['seqid'].isin(['II'])]"
   ]
  },
  {
   "cell_type": "markdown",
   "metadata": {},
   "source": [
    "**In Chromosome III**\n",
    "* <font color='red'> **TODO:** </font>"
   ]
  },
  {
   "cell_type": "markdown",
   "metadata": {},
   "source": [
    "!['ch_III_centromer'](igv_plots/chr_III_centromeric_region.png)"
   ]
  },
  {
   "cell_type": "markdown",
   "metadata": {},
   "source": [
    "* **Chromosome III** - regional_centromere (spans ~66 kb) can be divided in:\n",
    "    * <font color='red'> **TODO:** </font>"
   ]
  },
  {
   "cell_type": "code",
   "execution_count": 86,
   "metadata": {},
   "outputs": [
    {
     "data": {
      "text/html": [
       "<div>\n",
       "<style scoped>\n",
       "    .dataframe tbody tr th:only-of-type {\n",
       "        vertical-align: middle;\n",
       "    }\n",
       "\n",
       "    .dataframe tbody tr th {\n",
       "        vertical-align: top;\n",
       "    }\n",
       "\n",
       "    .dataframe thead th {\n",
       "        text-align: right;\n",
       "    }\n",
       "</style>\n",
       "<table border=\"1\" class=\"dataframe\">\n",
       "  <thead>\n",
       "    <tr style=\"text-align: right;\">\n",
       "      <th></th>\n",
       "      <th>seqid</th>\n",
       "      <th>source</th>\n",
       "      <th>type</th>\n",
       "      <th>start</th>\n",
       "      <th>end</th>\n",
       "      <th>score</th>\n",
       "      <th>strand</th>\n",
       "      <th>phase</th>\n",
       "      <th>ID</th>\n",
       "      <th>length</th>\n",
       "    </tr>\n",
       "  </thead>\n",
       "  <tbody>\n",
       "    <tr>\n",
       "      <th>41255</th>\n",
       "      <td>III</td>\n",
       "      <td>PomBase</td>\n",
       "      <td>regional_centromere</td>\n",
       "      <td>1070904</td>\n",
       "      <td>1137003</td>\n",
       "      <td>.</td>\n",
       "      <td>+</td>\n",
       "      <td>.</td>\n",
       "      <td>CU329672_regional_centromere_1070904..1137003</td>\n",
       "      <td>66100</td>\n",
       "    </tr>\n",
       "    <tr>\n",
       "      <th>41613</th>\n",
       "      <td>III</td>\n",
       "      <td>PomBase</td>\n",
       "      <td>dh_repeat</td>\n",
       "      <td>1073708</td>\n",
       "      <td>1075339</td>\n",
       "      <td>.</td>\n",
       "      <td>+</td>\n",
       "      <td>.</td>\n",
       "      <td>SPRPTCENC.1</td>\n",
       "      <td>1632</td>\n",
       "    </tr>\n",
       "    <tr>\n",
       "      <th>41685</th>\n",
       "      <td>III</td>\n",
       "      <td>PomBase</td>\n",
       "      <td>dg_repeat</td>\n",
       "      <td>1076115</td>\n",
       "      <td>1078499</td>\n",
       "      <td>.</td>\n",
       "      <td>+</td>\n",
       "      <td>.</td>\n",
       "      <td>SPRPTCENC.2</td>\n",
       "      <td>2385</td>\n",
       "    </tr>\n",
       "    <tr>\n",
       "      <th>41181</th>\n",
       "      <td>III</td>\n",
       "      <td>PomBase</td>\n",
       "      <td>dh_repeat</td>\n",
       "      <td>1078934</td>\n",
       "      <td>1082875</td>\n",
       "      <td>.</td>\n",
       "      <td>+</td>\n",
       "      <td>.</td>\n",
       "      <td>SPRPTCENC.4</td>\n",
       "      <td>3942</td>\n",
       "    </tr>\n",
       "    <tr>\n",
       "      <th>41202</th>\n",
       "      <td>III</td>\n",
       "      <td>PomBase</td>\n",
       "      <td>dg_repeat</td>\n",
       "      <td>1082876</td>\n",
       "      <td>1083348</td>\n",
       "      <td>.</td>\n",
       "      <td>+</td>\n",
       "      <td>.</td>\n",
       "      <td>SPRPTCENC.5</td>\n",
       "      <td>473</td>\n",
       "    </tr>\n",
       "    <tr>\n",
       "      <th>41309</th>\n",
       "      <td>III</td>\n",
       "      <td>PomBase</td>\n",
       "      <td>dh_repeat</td>\n",
       "      <td>1083449</td>\n",
       "      <td>1084747</td>\n",
       "      <td>.</td>\n",
       "      <td>+</td>\n",
       "      <td>.</td>\n",
       "      <td>SPRPTCENC.6</td>\n",
       "      <td>1299</td>\n",
       "    </tr>\n",
       "    <tr>\n",
       "      <th>41517</th>\n",
       "      <td>III</td>\n",
       "      <td>PomBase</td>\n",
       "      <td>dg_repeat</td>\n",
       "      <td>1084748</td>\n",
       "      <td>1087132</td>\n",
       "      <td>.</td>\n",
       "      <td>+</td>\n",
       "      <td>.</td>\n",
       "      <td>SPRPTCENC.7</td>\n",
       "      <td>2385</td>\n",
       "    </tr>\n",
       "    <tr>\n",
       "      <th>41589</th>\n",
       "      <td>III</td>\n",
       "      <td>PomBase</td>\n",
       "      <td>dh_repeat</td>\n",
       "      <td>1087567</td>\n",
       "      <td>1091508</td>\n",
       "      <td>.</td>\n",
       "      <td>+</td>\n",
       "      <td>.</td>\n",
       "      <td>SPRPTCENC.9</td>\n",
       "      <td>3942</td>\n",
       "    </tr>\n",
       "    <tr>\n",
       "      <th>41718</th>\n",
       "      <td>III</td>\n",
       "      <td>PomBase</td>\n",
       "      <td>dh_repeat</td>\n",
       "      <td>1090919</td>\n",
       "      <td>1091558</td>\n",
       "      <td>.</td>\n",
       "      <td>+</td>\n",
       "      <td>.</td>\n",
       "      <td>SPRPTCENC.10</td>\n",
       "      <td>640</td>\n",
       "    </tr>\n",
       "    <tr>\n",
       "      <th>41217</th>\n",
       "      <td>III</td>\n",
       "      <td>PomBase</td>\n",
       "      <td>regional_centromere_inner_repeat_region</td>\n",
       "      <td>1091700</td>\n",
       "      <td>1097063</td>\n",
       "      <td>.</td>\n",
       "      <td>+</td>\n",
       "      <td>.</td>\n",
       "      <td>SPRPTCENC.12</td>\n",
       "      <td>5364</td>\n",
       "    </tr>\n",
       "    <tr>\n",
       "      <th>41563</th>\n",
       "      <td>III</td>\n",
       "      <td>PomBase</td>\n",
       "      <td>regional_centromere_central_core</td>\n",
       "      <td>1097064</td>\n",
       "      <td>1101930</td>\n",
       "      <td>.</td>\n",
       "      <td>+</td>\n",
       "      <td>.</td>\n",
       "      <td>SPRPTCENC.13</td>\n",
       "      <td>4867</td>\n",
       "    </tr>\n",
       "    <tr>\n",
       "      <th>41559</th>\n",
       "      <td>III</td>\n",
       "      <td>PomBase</td>\n",
       "      <td>regional_centromere_inner_repeat_region</td>\n",
       "      <td>1101931</td>\n",
       "      <td>1107294</td>\n",
       "      <td>.</td>\n",
       "      <td>+</td>\n",
       "      <td>.</td>\n",
       "      <td>SPRPTCENC.14</td>\n",
       "      <td>5364</td>\n",
       "    </tr>\n",
       "    <tr>\n",
       "      <th>41501</th>\n",
       "      <td>III</td>\n",
       "      <td>PomBase</td>\n",
       "      <td>dh_repeat</td>\n",
       "      <td>1107680</td>\n",
       "      <td>1111378</td>\n",
       "      <td>.</td>\n",
       "      <td>+</td>\n",
       "      <td>.</td>\n",
       "      <td>SPRPTCENC.16</td>\n",
       "      <td>3699</td>\n",
       "    </tr>\n",
       "    <tr>\n",
       "      <th>41629</th>\n",
       "      <td>III</td>\n",
       "      <td>PomBase</td>\n",
       "      <td>dg_repeat</td>\n",
       "      <td>1111813</td>\n",
       "      <td>1114198</td>\n",
       "      <td>.</td>\n",
       "      <td>+</td>\n",
       "      <td>.</td>\n",
       "      <td>SPRPTCENC.18</td>\n",
       "      <td>2386</td>\n",
       "    </tr>\n",
       "    <tr>\n",
       "      <th>41336</th>\n",
       "      <td>III</td>\n",
       "      <td>PomBase</td>\n",
       "      <td>dh_repeat</td>\n",
       "      <td>1114197</td>\n",
       "      <td>1118138</td>\n",
       "      <td>.</td>\n",
       "      <td>+</td>\n",
       "      <td>.</td>\n",
       "      <td>SPRPTCENC.19</td>\n",
       "      <td>3942</td>\n",
       "    </tr>\n",
       "    <tr>\n",
       "      <th>41444</th>\n",
       "      <td>III</td>\n",
       "      <td>PomBase</td>\n",
       "      <td>dg_repeat</td>\n",
       "      <td>1118573</td>\n",
       "      <td>1120957</td>\n",
       "      <td>.</td>\n",
       "      <td>+</td>\n",
       "      <td>.</td>\n",
       "      <td>SPRPTCENC.21</td>\n",
       "      <td>2385</td>\n",
       "    </tr>\n",
       "    <tr>\n",
       "      <th>41193</th>\n",
       "      <td>III</td>\n",
       "      <td>PomBase</td>\n",
       "      <td>dh_repeat</td>\n",
       "      <td>1120957</td>\n",
       "      <td>1124898</td>\n",
       "      <td>.</td>\n",
       "      <td>+</td>\n",
       "      <td>.</td>\n",
       "      <td>SPRPTCENC.22</td>\n",
       "      <td>3942</td>\n",
       "    </tr>\n",
       "    <tr>\n",
       "      <th>41583</th>\n",
       "      <td>III</td>\n",
       "      <td>PomBase</td>\n",
       "      <td>dg_repeat</td>\n",
       "      <td>1125333</td>\n",
       "      <td>1125582</td>\n",
       "      <td>.</td>\n",
       "      <td>+</td>\n",
       "      <td>.</td>\n",
       "      <td>SPRPTCENC.24</td>\n",
       "      <td>250</td>\n",
       "    </tr>\n",
       "    <tr>\n",
       "      <th>41596</th>\n",
       "      <td>III</td>\n",
       "      <td>PomBase</td>\n",
       "      <td>dh_repeat</td>\n",
       "      <td>1127717</td>\n",
       "      <td>1131658</td>\n",
       "      <td>.</td>\n",
       "      <td>+</td>\n",
       "      <td>.</td>\n",
       "      <td>SPRPTCENC.25</td>\n",
       "      <td>3942</td>\n",
       "    </tr>\n",
       "    <tr>\n",
       "      <th>41330</th>\n",
       "      <td>III</td>\n",
       "      <td>PomBase</td>\n",
       "      <td>dg_repeat</td>\n",
       "      <td>1132093</td>\n",
       "      <td>1134478</td>\n",
       "      <td>.</td>\n",
       "      <td>+</td>\n",
       "      <td>.</td>\n",
       "      <td>SPRPTCENC.27</td>\n",
       "      <td>2386</td>\n",
       "    </tr>\n",
       "    <tr>\n",
       "      <th>41675</th>\n",
       "      <td>III</td>\n",
       "      <td>PomBase</td>\n",
       "      <td>dh_repeat</td>\n",
       "      <td>1135372</td>\n",
       "      <td>1137003</td>\n",
       "      <td>.</td>\n",
       "      <td>+</td>\n",
       "      <td>.</td>\n",
       "      <td>SPRPTCENC.28</td>\n",
       "      <td>1632</td>\n",
       "    </tr>\n",
       "  </tbody>\n",
       "</table>\n",
       "</div>"
      ],
      "text/plain": [
       "      seqid   source                                     type    start  \\\n",
       "41255   III  PomBase                      regional_centromere  1070904   \n",
       "41613   III  PomBase                                dh_repeat  1073708   \n",
       "41685   III  PomBase                                dg_repeat  1076115   \n",
       "41181   III  PomBase                                dh_repeat  1078934   \n",
       "41202   III  PomBase                                dg_repeat  1082876   \n",
       "41309   III  PomBase                                dh_repeat  1083449   \n",
       "41517   III  PomBase                                dg_repeat  1084748   \n",
       "41589   III  PomBase                                dh_repeat  1087567   \n",
       "41718   III  PomBase                                dh_repeat  1090919   \n",
       "41217   III  PomBase  regional_centromere_inner_repeat_region  1091700   \n",
       "41563   III  PomBase         regional_centromere_central_core  1097064   \n",
       "41559   III  PomBase  regional_centromere_inner_repeat_region  1101931   \n",
       "41501   III  PomBase                                dh_repeat  1107680   \n",
       "41629   III  PomBase                                dg_repeat  1111813   \n",
       "41336   III  PomBase                                dh_repeat  1114197   \n",
       "41444   III  PomBase                                dg_repeat  1118573   \n",
       "41193   III  PomBase                                dh_repeat  1120957   \n",
       "41583   III  PomBase                                dg_repeat  1125333   \n",
       "41596   III  PomBase                                dh_repeat  1127717   \n",
       "41330   III  PomBase                                dg_repeat  1132093   \n",
       "41675   III  PomBase                                dh_repeat  1135372   \n",
       "\n",
       "           end score strand phase  \\\n",
       "41255  1137003     .      +     .   \n",
       "41613  1075339     .      +     .   \n",
       "41685  1078499     .      +     .   \n",
       "41181  1082875     .      +     .   \n",
       "41202  1083348     .      +     .   \n",
       "41309  1084747     .      +     .   \n",
       "41517  1087132     .      +     .   \n",
       "41589  1091508     .      +     .   \n",
       "41718  1091558     .      +     .   \n",
       "41217  1097063     .      +     .   \n",
       "41563  1101930     .      +     .   \n",
       "41559  1107294     .      +     .   \n",
       "41501  1111378     .      +     .   \n",
       "41629  1114198     .      +     .   \n",
       "41336  1118138     .      +     .   \n",
       "41444  1120957     .      +     .   \n",
       "41193  1124898     .      +     .   \n",
       "41583  1125582     .      +     .   \n",
       "41596  1131658     .      +     .   \n",
       "41330  1134478     .      +     .   \n",
       "41675  1137003     .      +     .   \n",
       "\n",
       "                                                  ID  length  \n",
       "41255  CU329672_regional_centromere_1070904..1137003   66100  \n",
       "41613                                    SPRPTCENC.1    1632  \n",
       "41685                                    SPRPTCENC.2    2385  \n",
       "41181                                    SPRPTCENC.4    3942  \n",
       "41202                                    SPRPTCENC.5     473  \n",
       "41309                                    SPRPTCENC.6    1299  \n",
       "41517                                    SPRPTCENC.7    2385  \n",
       "41589                                    SPRPTCENC.9    3942  \n",
       "41718                                   SPRPTCENC.10     640  \n",
       "41217                                   SPRPTCENC.12    5364  \n",
       "41563                                   SPRPTCENC.13    4867  \n",
       "41559                                   SPRPTCENC.14    5364  \n",
       "41501                                   SPRPTCENC.16    3699  \n",
       "41629                                   SPRPTCENC.18    2386  \n",
       "41336                                   SPRPTCENC.19    3942  \n",
       "41444                                   SPRPTCENC.21    2385  \n",
       "41193                                   SPRPTCENC.22    3942  \n",
       "41583                                   SPRPTCENC.24     250  \n",
       "41596                                   SPRPTCENC.25    3942  \n",
       "41330                                   SPRPTCENC.27    2386  \n",
       "41675                                   SPRPTCENC.28    1632  "
      ]
     },
     "execution_count": 86,
     "metadata": {},
     "output_type": "execute_result"
    }
   ],
   "source": [
    "centromere_repeat_df[centromere_repeat_df['seqid'].isin(['III'])]"
   ]
  },
  {
   "cell_type": "markdown",
   "metadata": {},
   "source": [
    "### **I.A. <font color='blue'>dg repeat</font>**"
   ]
  },
  {
   "cell_type": "markdown",
   "metadata": {},
   "source": [
    "- `dg_repeat`"
   ]
  },
  {
   "cell_type": "code",
   "execution_count": 87,
   "metadata": {},
   "outputs": [
    {
     "data": {
      "text/html": [
       "<div>\n",
       "<style scoped>\n",
       "    .dataframe tbody tr th:only-of-type {\n",
       "        vertical-align: middle;\n",
       "    }\n",
       "\n",
       "    .dataframe tbody tr th {\n",
       "        vertical-align: top;\n",
       "    }\n",
       "\n",
       "    .dataframe thead th {\n",
       "        text-align: right;\n",
       "    }\n",
       "</style>\n",
       "<table border=\"1\" class=\"dataframe\">\n",
       "  <thead>\n",
       "    <tr style=\"text-align: right;\">\n",
       "      <th></th>\n",
       "      <th>seqid</th>\n",
       "      <th>source</th>\n",
       "      <th>type</th>\n",
       "      <th>start</th>\n",
       "      <th>end</th>\n",
       "      <th>score</th>\n",
       "      <th>strand</th>\n",
       "      <th>phase</th>\n",
       "      <th>ID</th>\n",
       "      <th>length</th>\n",
       "    </tr>\n",
       "  </thead>\n",
       "  <tbody>\n",
       "    <tr>\n",
       "      <th>41362</th>\n",
       "      <td>I</td>\n",
       "      <td>PomBase</td>\n",
       "      <td>dg_repeat</td>\n",
       "      <td>3759165</td>\n",
       "      <td>3763441</td>\n",
       "      <td>.</td>\n",
       "      <td>+</td>\n",
       "      <td>.</td>\n",
       "      <td>SPRPTCENA.4</td>\n",
       "      <td>4277</td>\n",
       "    </tr>\n",
       "    <tr>\n",
       "      <th>41668</th>\n",
       "      <td>I</td>\n",
       "      <td>PomBase</td>\n",
       "      <td>dg_repeat</td>\n",
       "      <td>3777115</td>\n",
       "      <td>3778839</td>\n",
       "      <td>.</td>\n",
       "      <td>+</td>\n",
       "      <td>.</td>\n",
       "      <td>SPRPTCENA.8</td>\n",
       "      <td>1725</td>\n",
       "    </tr>\n",
       "    <tr>\n",
       "      <th>41430</th>\n",
       "      <td>II</td>\n",
       "      <td>PomBase</td>\n",
       "      <td>dg_repeat</td>\n",
       "      <td>1604786</td>\n",
       "      <td>1609649</td>\n",
       "      <td>.</td>\n",
       "      <td>-</td>\n",
       "      <td>.</td>\n",
       "      <td>SPRPTCENB.1</td>\n",
       "      <td>4864</td>\n",
       "    </tr>\n",
       "    <tr>\n",
       "      <th>41383</th>\n",
       "      <td>II</td>\n",
       "      <td>PomBase</td>\n",
       "      <td>dg_repeat</td>\n",
       "      <td>1638230</td>\n",
       "      <td>1644747</td>\n",
       "      <td>.</td>\n",
       "      <td>+</td>\n",
       "      <td>.</td>\n",
       "      <td>SPRPTCENB.17</td>\n",
       "      <td>6518</td>\n",
       "    </tr>\n",
       "    <tr>\n",
       "      <th>41685</th>\n",
       "      <td>III</td>\n",
       "      <td>PomBase</td>\n",
       "      <td>dg_repeat</td>\n",
       "      <td>1076115</td>\n",
       "      <td>1078499</td>\n",
       "      <td>.</td>\n",
       "      <td>+</td>\n",
       "      <td>.</td>\n",
       "      <td>SPRPTCENC.2</td>\n",
       "      <td>2385</td>\n",
       "    </tr>\n",
       "    <tr>\n",
       "      <th>41202</th>\n",
       "      <td>III</td>\n",
       "      <td>PomBase</td>\n",
       "      <td>dg_repeat</td>\n",
       "      <td>1082876</td>\n",
       "      <td>1083348</td>\n",
       "      <td>.</td>\n",
       "      <td>+</td>\n",
       "      <td>.</td>\n",
       "      <td>SPRPTCENC.5</td>\n",
       "      <td>473</td>\n",
       "    </tr>\n",
       "    <tr>\n",
       "      <th>41517</th>\n",
       "      <td>III</td>\n",
       "      <td>PomBase</td>\n",
       "      <td>dg_repeat</td>\n",
       "      <td>1084748</td>\n",
       "      <td>1087132</td>\n",
       "      <td>.</td>\n",
       "      <td>+</td>\n",
       "      <td>.</td>\n",
       "      <td>SPRPTCENC.7</td>\n",
       "      <td>2385</td>\n",
       "    </tr>\n",
       "    <tr>\n",
       "      <th>41629</th>\n",
       "      <td>III</td>\n",
       "      <td>PomBase</td>\n",
       "      <td>dg_repeat</td>\n",
       "      <td>1111813</td>\n",
       "      <td>1114198</td>\n",
       "      <td>.</td>\n",
       "      <td>+</td>\n",
       "      <td>.</td>\n",
       "      <td>SPRPTCENC.18</td>\n",
       "      <td>2386</td>\n",
       "    </tr>\n",
       "    <tr>\n",
       "      <th>41444</th>\n",
       "      <td>III</td>\n",
       "      <td>PomBase</td>\n",
       "      <td>dg_repeat</td>\n",
       "      <td>1118573</td>\n",
       "      <td>1120957</td>\n",
       "      <td>.</td>\n",
       "      <td>+</td>\n",
       "      <td>.</td>\n",
       "      <td>SPRPTCENC.21</td>\n",
       "      <td>2385</td>\n",
       "    </tr>\n",
       "    <tr>\n",
       "      <th>41583</th>\n",
       "      <td>III</td>\n",
       "      <td>PomBase</td>\n",
       "      <td>dg_repeat</td>\n",
       "      <td>1125333</td>\n",
       "      <td>1125582</td>\n",
       "      <td>.</td>\n",
       "      <td>+</td>\n",
       "      <td>.</td>\n",
       "      <td>SPRPTCENC.24</td>\n",
       "      <td>250</td>\n",
       "    </tr>\n",
       "    <tr>\n",
       "      <th>41330</th>\n",
       "      <td>III</td>\n",
       "      <td>PomBase</td>\n",
       "      <td>dg_repeat</td>\n",
       "      <td>1132093</td>\n",
       "      <td>1134478</td>\n",
       "      <td>.</td>\n",
       "      <td>+</td>\n",
       "      <td>.</td>\n",
       "      <td>SPRPTCENC.27</td>\n",
       "      <td>2386</td>\n",
       "    </tr>\n",
       "  </tbody>\n",
       "</table>\n",
       "</div>"
      ],
      "text/plain": [
       "      seqid   source       type    start      end score strand phase  \\\n",
       "41362     I  PomBase  dg_repeat  3759165  3763441     .      +     .   \n",
       "41668     I  PomBase  dg_repeat  3777115  3778839     .      +     .   \n",
       "41430    II  PomBase  dg_repeat  1604786  1609649     .      -     .   \n",
       "41383    II  PomBase  dg_repeat  1638230  1644747     .      +     .   \n",
       "41685   III  PomBase  dg_repeat  1076115  1078499     .      +     .   \n",
       "41202   III  PomBase  dg_repeat  1082876  1083348     .      +     .   \n",
       "41517   III  PomBase  dg_repeat  1084748  1087132     .      +     .   \n",
       "41629   III  PomBase  dg_repeat  1111813  1114198     .      +     .   \n",
       "41444   III  PomBase  dg_repeat  1118573  1120957     .      +     .   \n",
       "41583   III  PomBase  dg_repeat  1125333  1125582     .      +     .   \n",
       "41330   III  PomBase  dg_repeat  1132093  1134478     .      +     .   \n",
       "\n",
       "                 ID  length  \n",
       "41362   SPRPTCENA.4    4277  \n",
       "41668   SPRPTCENA.8    1725  \n",
       "41430   SPRPTCENB.1    4864  \n",
       "41383  SPRPTCENB.17    6518  \n",
       "41685   SPRPTCENC.2    2385  \n",
       "41202   SPRPTCENC.5     473  \n",
       "41517   SPRPTCENC.7    2385  \n",
       "41629  SPRPTCENC.18    2386  \n",
       "41444  SPRPTCENC.21    2385  \n",
       "41583  SPRPTCENC.24     250  \n",
       "41330  SPRPTCENC.27    2386  "
      ]
     },
     "execution_count": 87,
     "metadata": {},
     "output_type": "execute_result"
    }
   ],
   "source": [
    "dg_repeat_df = centromere_repeat_df[centromere_repeat_df['type'].isin(['dg_repeat'])].sort_values(['seqid','start', 'end'])\n",
    "dg_repeat_df"
   ]
  },
  {
   "cell_type": "code",
   "execution_count": 88,
   "metadata": {},
   "outputs": [
    {
     "data": {
      "text/html": [
       "<div>\n",
       "<style scoped>\n",
       "    .dataframe tbody tr th:only-of-type {\n",
       "        vertical-align: middle;\n",
       "    }\n",
       "\n",
       "    .dataframe tbody tr th {\n",
       "        vertical-align: top;\n",
       "    }\n",
       "\n",
       "    .dataframe thead tr th {\n",
       "        text-align: left;\n",
       "    }\n",
       "\n",
       "    .dataframe thead tr:last-of-type th {\n",
       "        text-align: right;\n",
       "    }\n",
       "</style>\n",
       "<table border=\"1\" class=\"dataframe\">\n",
       "  <thead>\n",
       "    <tr>\n",
       "      <th></th>\n",
       "      <th colspan=\"2\" halign=\"left\">length</th>\n",
       "    </tr>\n",
       "    <tr>\n",
       "      <th></th>\n",
       "      <th>sum</th>\n",
       "      <th>count</th>\n",
       "    </tr>\n",
       "    <tr>\n",
       "      <th>seqid</th>\n",
       "      <th></th>\n",
       "      <th></th>\n",
       "    </tr>\n",
       "  </thead>\n",
       "  <tbody>\n",
       "    <tr>\n",
       "      <th>I</th>\n",
       "      <td>6002</td>\n",
       "      <td>2</td>\n",
       "    </tr>\n",
       "    <tr>\n",
       "      <th>II</th>\n",
       "      <td>11382</td>\n",
       "      <td>2</td>\n",
       "    </tr>\n",
       "    <tr>\n",
       "      <th>III</th>\n",
       "      <td>12650</td>\n",
       "      <td>7</td>\n",
       "    </tr>\n",
       "  </tbody>\n",
       "</table>\n",
       "</div>"
      ],
      "text/plain": [
       "      length      \n",
       "         sum count\n",
       "seqid             \n",
       "I       6002     2\n",
       "II     11382     2\n",
       "III    12650     7"
      ]
     },
     "execution_count": 88,
     "metadata": {},
     "output_type": "execute_result"
    }
   ],
   "source": [
    "dg_repeat_df.groupby('seqid').agg({'length': ['sum', 'count']})"
   ]
  },
  {
   "cell_type": "markdown",
   "metadata": {},
   "source": [
    "### **I.A. <font color='blue'>dh repeat</font>**"
   ]
  },
  {
   "cell_type": "markdown",
   "metadata": {},
   "source": [
    "- `dh_repeat`"
   ]
  },
  {
   "cell_type": "code",
   "execution_count": 89,
   "metadata": {},
   "outputs": [
    {
     "data": {
      "text/html": [
       "<div>\n",
       "<style scoped>\n",
       "    .dataframe tbody tr th:only-of-type {\n",
       "        vertical-align: middle;\n",
       "    }\n",
       "\n",
       "    .dataframe tbody tr th {\n",
       "        vertical-align: top;\n",
       "    }\n",
       "\n",
       "    .dataframe thead th {\n",
       "        text-align: right;\n",
       "    }\n",
       "</style>\n",
       "<table border=\"1\" class=\"dataframe\">\n",
       "  <thead>\n",
       "    <tr style=\"text-align: right;\">\n",
       "      <th></th>\n",
       "      <th>seqid</th>\n",
       "      <th>source</th>\n",
       "      <th>type</th>\n",
       "      <th>start</th>\n",
       "      <th>end</th>\n",
       "      <th>score</th>\n",
       "      <th>strand</th>\n",
       "      <th>phase</th>\n",
       "      <th>ID</th>\n",
       "      <th>length</th>\n",
       "    </tr>\n",
       "  </thead>\n",
       "  <tbody>\n",
       "    <tr>\n",
       "      <th>41275</th>\n",
       "      <td>I</td>\n",
       "      <td>PomBase</td>\n",
       "      <td>dh_repeat</td>\n",
       "      <td>3754127</td>\n",
       "      <td>3759170</td>\n",
       "      <td>.</td>\n",
       "      <td>-</td>\n",
       "      <td>.</td>\n",
       "      <td>SPRPTCENA.3</td>\n",
       "      <td>5044</td>\n",
       "    </tr>\n",
       "    <tr>\n",
       "      <th>41251</th>\n",
       "      <td>I</td>\n",
       "      <td>PomBase</td>\n",
       "      <td>dh_repeat</td>\n",
       "      <td>3785089</td>\n",
       "      <td>3788981</td>\n",
       "      <td>.</td>\n",
       "      <td>+</td>\n",
       "      <td>.</td>\n",
       "      <td>SPRPTCENA.9</td>\n",
       "      <td>3893</td>\n",
       "    </tr>\n",
       "    <tr>\n",
       "      <th>41286</th>\n",
       "      <td>II</td>\n",
       "      <td>PomBase</td>\n",
       "      <td>dh_repeat</td>\n",
       "      <td>1610041</td>\n",
       "      <td>1611580</td>\n",
       "      <td>.</td>\n",
       "      <td>-</td>\n",
       "      <td>.</td>\n",
       "      <td>SPRPTCENB.3</td>\n",
       "      <td>1540</td>\n",
       "    </tr>\n",
       "    <tr>\n",
       "      <th>41404</th>\n",
       "      <td>II</td>\n",
       "      <td>PomBase</td>\n",
       "      <td>dh_repeat</td>\n",
       "      <td>1611467</td>\n",
       "      <td>1613530</td>\n",
       "      <td>.</td>\n",
       "      <td>+</td>\n",
       "      <td>.</td>\n",
       "      <td>SPRPTCENB.4</td>\n",
       "      <td>2064</td>\n",
       "    </tr>\n",
       "    <tr>\n",
       "      <th>41666</th>\n",
       "      <td>II</td>\n",
       "      <td>PomBase</td>\n",
       "      <td>dh_repeat</td>\n",
       "      <td>1631933</td>\n",
       "      <td>1634352</td>\n",
       "      <td>.</td>\n",
       "      <td>+</td>\n",
       "      <td>.</td>\n",
       "      <td>SPRPTCENB.14</td>\n",
       "      <td>2420</td>\n",
       "    </tr>\n",
       "    <tr>\n",
       "      <th>41302</th>\n",
       "      <td>II</td>\n",
       "      <td>PomBase</td>\n",
       "      <td>dh_repeat</td>\n",
       "      <td>1634252</td>\n",
       "      <td>1637841</td>\n",
       "      <td>.</td>\n",
       "      <td>+</td>\n",
       "      <td>.</td>\n",
       "      <td>SPRPTCENB.15</td>\n",
       "      <td>3590</td>\n",
       "    </tr>\n",
       "    <tr>\n",
       "      <th>41613</th>\n",
       "      <td>III</td>\n",
       "      <td>PomBase</td>\n",
       "      <td>dh_repeat</td>\n",
       "      <td>1073708</td>\n",
       "      <td>1075339</td>\n",
       "      <td>.</td>\n",
       "      <td>+</td>\n",
       "      <td>.</td>\n",
       "      <td>SPRPTCENC.1</td>\n",
       "      <td>1632</td>\n",
       "    </tr>\n",
       "    <tr>\n",
       "      <th>41181</th>\n",
       "      <td>III</td>\n",
       "      <td>PomBase</td>\n",
       "      <td>dh_repeat</td>\n",
       "      <td>1078934</td>\n",
       "      <td>1082875</td>\n",
       "      <td>.</td>\n",
       "      <td>+</td>\n",
       "      <td>.</td>\n",
       "      <td>SPRPTCENC.4</td>\n",
       "      <td>3942</td>\n",
       "    </tr>\n",
       "    <tr>\n",
       "      <th>41309</th>\n",
       "      <td>III</td>\n",
       "      <td>PomBase</td>\n",
       "      <td>dh_repeat</td>\n",
       "      <td>1083449</td>\n",
       "      <td>1084747</td>\n",
       "      <td>.</td>\n",
       "      <td>+</td>\n",
       "      <td>.</td>\n",
       "      <td>SPRPTCENC.6</td>\n",
       "      <td>1299</td>\n",
       "    </tr>\n",
       "    <tr>\n",
       "      <th>41589</th>\n",
       "      <td>III</td>\n",
       "      <td>PomBase</td>\n",
       "      <td>dh_repeat</td>\n",
       "      <td>1087567</td>\n",
       "      <td>1091508</td>\n",
       "      <td>.</td>\n",
       "      <td>+</td>\n",
       "      <td>.</td>\n",
       "      <td>SPRPTCENC.9</td>\n",
       "      <td>3942</td>\n",
       "    </tr>\n",
       "    <tr>\n",
       "      <th>41718</th>\n",
       "      <td>III</td>\n",
       "      <td>PomBase</td>\n",
       "      <td>dh_repeat</td>\n",
       "      <td>1090919</td>\n",
       "      <td>1091558</td>\n",
       "      <td>.</td>\n",
       "      <td>+</td>\n",
       "      <td>.</td>\n",
       "      <td>SPRPTCENC.10</td>\n",
       "      <td>640</td>\n",
       "    </tr>\n",
       "    <tr>\n",
       "      <th>41501</th>\n",
       "      <td>III</td>\n",
       "      <td>PomBase</td>\n",
       "      <td>dh_repeat</td>\n",
       "      <td>1107680</td>\n",
       "      <td>1111378</td>\n",
       "      <td>.</td>\n",
       "      <td>+</td>\n",
       "      <td>.</td>\n",
       "      <td>SPRPTCENC.16</td>\n",
       "      <td>3699</td>\n",
       "    </tr>\n",
       "    <tr>\n",
       "      <th>41336</th>\n",
       "      <td>III</td>\n",
       "      <td>PomBase</td>\n",
       "      <td>dh_repeat</td>\n",
       "      <td>1114197</td>\n",
       "      <td>1118138</td>\n",
       "      <td>.</td>\n",
       "      <td>+</td>\n",
       "      <td>.</td>\n",
       "      <td>SPRPTCENC.19</td>\n",
       "      <td>3942</td>\n",
       "    </tr>\n",
       "    <tr>\n",
       "      <th>41193</th>\n",
       "      <td>III</td>\n",
       "      <td>PomBase</td>\n",
       "      <td>dh_repeat</td>\n",
       "      <td>1120957</td>\n",
       "      <td>1124898</td>\n",
       "      <td>.</td>\n",
       "      <td>+</td>\n",
       "      <td>.</td>\n",
       "      <td>SPRPTCENC.22</td>\n",
       "      <td>3942</td>\n",
       "    </tr>\n",
       "    <tr>\n",
       "      <th>41596</th>\n",
       "      <td>III</td>\n",
       "      <td>PomBase</td>\n",
       "      <td>dh_repeat</td>\n",
       "      <td>1127717</td>\n",
       "      <td>1131658</td>\n",
       "      <td>.</td>\n",
       "      <td>+</td>\n",
       "      <td>.</td>\n",
       "      <td>SPRPTCENC.25</td>\n",
       "      <td>3942</td>\n",
       "    </tr>\n",
       "    <tr>\n",
       "      <th>41675</th>\n",
       "      <td>III</td>\n",
       "      <td>PomBase</td>\n",
       "      <td>dh_repeat</td>\n",
       "      <td>1135372</td>\n",
       "      <td>1137003</td>\n",
       "      <td>.</td>\n",
       "      <td>+</td>\n",
       "      <td>.</td>\n",
       "      <td>SPRPTCENC.28</td>\n",
       "      <td>1632</td>\n",
       "    </tr>\n",
       "  </tbody>\n",
       "</table>\n",
       "</div>"
      ],
      "text/plain": [
       "      seqid   source       type    start      end score strand phase  \\\n",
       "41275     I  PomBase  dh_repeat  3754127  3759170     .      -     .   \n",
       "41251     I  PomBase  dh_repeat  3785089  3788981     .      +     .   \n",
       "41286    II  PomBase  dh_repeat  1610041  1611580     .      -     .   \n",
       "41404    II  PomBase  dh_repeat  1611467  1613530     .      +     .   \n",
       "41666    II  PomBase  dh_repeat  1631933  1634352     .      +     .   \n",
       "41302    II  PomBase  dh_repeat  1634252  1637841     .      +     .   \n",
       "41613   III  PomBase  dh_repeat  1073708  1075339     .      +     .   \n",
       "41181   III  PomBase  dh_repeat  1078934  1082875     .      +     .   \n",
       "41309   III  PomBase  dh_repeat  1083449  1084747     .      +     .   \n",
       "41589   III  PomBase  dh_repeat  1087567  1091508     .      +     .   \n",
       "41718   III  PomBase  dh_repeat  1090919  1091558     .      +     .   \n",
       "41501   III  PomBase  dh_repeat  1107680  1111378     .      +     .   \n",
       "41336   III  PomBase  dh_repeat  1114197  1118138     .      +     .   \n",
       "41193   III  PomBase  dh_repeat  1120957  1124898     .      +     .   \n",
       "41596   III  PomBase  dh_repeat  1127717  1131658     .      +     .   \n",
       "41675   III  PomBase  dh_repeat  1135372  1137003     .      +     .   \n",
       "\n",
       "                 ID  length  \n",
       "41275   SPRPTCENA.3    5044  \n",
       "41251   SPRPTCENA.9    3893  \n",
       "41286   SPRPTCENB.3    1540  \n",
       "41404   SPRPTCENB.4    2064  \n",
       "41666  SPRPTCENB.14    2420  \n",
       "41302  SPRPTCENB.15    3590  \n",
       "41613   SPRPTCENC.1    1632  \n",
       "41181   SPRPTCENC.4    3942  \n",
       "41309   SPRPTCENC.6    1299  \n",
       "41589   SPRPTCENC.9    3942  \n",
       "41718  SPRPTCENC.10     640  \n",
       "41501  SPRPTCENC.16    3699  \n",
       "41336  SPRPTCENC.19    3942  \n",
       "41193  SPRPTCENC.22    3942  \n",
       "41596  SPRPTCENC.25    3942  \n",
       "41675  SPRPTCENC.28    1632  "
      ]
     },
     "execution_count": 89,
     "metadata": {},
     "output_type": "execute_result"
    }
   ],
   "source": [
    "dh_repeat = centromere_repeat_df[centromere_repeat_df['type'].isin(['dh_repeat'])].sort_values(['seqid', 'start', 'end'])\n",
    "dh_repeat"
   ]
  },
  {
   "cell_type": "code",
   "execution_count": 90,
   "metadata": {},
   "outputs": [
    {
     "data": {
      "text/html": [
       "<div>\n",
       "<style scoped>\n",
       "    .dataframe tbody tr th:only-of-type {\n",
       "        vertical-align: middle;\n",
       "    }\n",
       "\n",
       "    .dataframe tbody tr th {\n",
       "        vertical-align: top;\n",
       "    }\n",
       "\n",
       "    .dataframe thead tr th {\n",
       "        text-align: left;\n",
       "    }\n",
       "\n",
       "    .dataframe thead tr:last-of-type th {\n",
       "        text-align: right;\n",
       "    }\n",
       "</style>\n",
       "<table border=\"1\" class=\"dataframe\">\n",
       "  <thead>\n",
       "    <tr>\n",
       "      <th></th>\n",
       "      <th colspan=\"2\" halign=\"left\">length</th>\n",
       "    </tr>\n",
       "    <tr>\n",
       "      <th></th>\n",
       "      <th>sum</th>\n",
       "      <th>count</th>\n",
       "    </tr>\n",
       "    <tr>\n",
       "      <th>seqid</th>\n",
       "      <th></th>\n",
       "      <th></th>\n",
       "    </tr>\n",
       "  </thead>\n",
       "  <tbody>\n",
       "    <tr>\n",
       "      <th>I</th>\n",
       "      <td>8937</td>\n",
       "      <td>2</td>\n",
       "    </tr>\n",
       "    <tr>\n",
       "      <th>II</th>\n",
       "      <td>9614</td>\n",
       "      <td>4</td>\n",
       "    </tr>\n",
       "    <tr>\n",
       "      <th>III</th>\n",
       "      <td>28612</td>\n",
       "      <td>10</td>\n",
       "    </tr>\n",
       "  </tbody>\n",
       "</table>\n",
       "</div>"
      ],
      "text/plain": [
       "      length      \n",
       "         sum count\n",
       "seqid             \n",
       "I       8937     2\n",
       "II      9614     4\n",
       "III    28612    10"
      ]
     },
     "execution_count": 90,
     "metadata": {},
     "output_type": "execute_result"
    }
   ],
   "source": [
    "dh_repeat.groupby('seqid').agg({'length': ['sum', 'count']})"
   ]
  },
  {
   "cell_type": "markdown",
   "metadata": {},
   "source": [
    "## **III. Mating type region**"
   ]
  },
  {
   "cell_type": "code",
   "execution_count": 91,
   "metadata": {},
   "outputs": [],
   "source": [
    "mating_type_features = [\"mating_type_region\"]"
   ]
  },
  {
   "cell_type": "code",
   "execution_count": 92,
   "metadata": {},
   "outputs": [],
   "source": [
    "mating_type_df = repeats_df[repeats_df['type'].isin(mating_type_features)].sort_values(['seqid', 'start', 'end'])\n",
    "#mating_type_df['size'] = mating_type_df[\"end\"] - mating_type_df[\"start\"] + 1"
   ]
  },
  {
   "cell_type": "markdown",
   "metadata": {},
   "source": [
    "---------------------------"
   ]
  },
  {
   "cell_type": "markdown",
   "metadata": {},
   "source": [
    "# **Other features**"
   ]
  },
  {
   "cell_type": "code",
   "execution_count": 93,
   "metadata": {},
   "outputs": [],
   "source": [
    "other_features = ['promoter',\n",
    "                  'low_complexity_region', \n",
    "                  'region', \n",
    "                  'nuclear_mt_pseudogene', \n",
    "                  'polyA_site', \n",
    "                  'origin_of_replication',\n",
    "                  'LTR_retrotransposon',\n",
    "                  'gene_group', \n",
    "                  'gap', \n",
    "                  'SNP',\n",
    "                  'TR_box',\n",
    "                  'polyA_signal_sequence']"
   ]
  },
  {
   "cell_type": "code",
   "execution_count": 94,
   "metadata": {},
   "outputs": [
    {
     "data": {
      "text/html": [
       "<div>\n",
       "<style scoped>\n",
       "    .dataframe tbody tr th:only-of-type {\n",
       "        vertical-align: middle;\n",
       "    }\n",
       "\n",
       "    .dataframe tbody tr th {\n",
       "        vertical-align: top;\n",
       "    }\n",
       "\n",
       "    .dataframe thead th {\n",
       "        text-align: right;\n",
       "    }\n",
       "</style>\n",
       "<table border=\"1\" class=\"dataframe\">\n",
       "  <thead>\n",
       "    <tr style=\"text-align: right;\">\n",
       "      <th></th>\n",
       "      <th>ID</th>\n",
       "    </tr>\n",
       "    <tr>\n",
       "      <th>type</th>\n",
       "      <th></th>\n",
       "    </tr>\n",
       "  </thead>\n",
       "  <tbody>\n",
       "    <tr>\n",
       "      <th>promoter</th>\n",
       "      <td>62</td>\n",
       "    </tr>\n",
       "    <tr>\n",
       "      <th>low_complexity_region</th>\n",
       "      <td>59</td>\n",
       "    </tr>\n",
       "    <tr>\n",
       "      <th>region</th>\n",
       "      <td>29</td>\n",
       "    </tr>\n",
       "    <tr>\n",
       "      <th>nuclear_mt_pseudogene</th>\n",
       "      <td>17</td>\n",
       "    </tr>\n",
       "    <tr>\n",
       "      <th>polyA_site</th>\n",
       "      <td>17</td>\n",
       "    </tr>\n",
       "    <tr>\n",
       "      <th>origin_of_replication</th>\n",
       "      <td>16</td>\n",
       "    </tr>\n",
       "    <tr>\n",
       "      <th>LTR_retrotransposon</th>\n",
       "      <td>14</td>\n",
       "    </tr>\n",
       "    <tr>\n",
       "      <th>gene_group</th>\n",
       "      <td>5</td>\n",
       "    </tr>\n",
       "    <tr>\n",
       "      <th>gap</th>\n",
       "      <td>4</td>\n",
       "    </tr>\n",
       "    <tr>\n",
       "      <th>SNP</th>\n",
       "      <td>2</td>\n",
       "    </tr>\n",
       "    <tr>\n",
       "      <th>TR_box</th>\n",
       "      <td>2</td>\n",
       "    </tr>\n",
       "    <tr>\n",
       "      <th>polyA_signal_sequence</th>\n",
       "      <td>1</td>\n",
       "    </tr>\n",
       "  </tbody>\n",
       "</table>\n",
       "</div>"
      ],
      "text/plain": [
       "                       ID\n",
       "type                     \n",
       "promoter               62\n",
       "low_complexity_region  59\n",
       "region                 29\n",
       "nuclear_mt_pseudogene  17\n",
       "polyA_site             17\n",
       "origin_of_replication  16\n",
       "LTR_retrotransposon    14\n",
       "gene_group              5\n",
       "gap                     4\n",
       "SNP                     2\n",
       "TR_box                  2\n",
       "polyA_signal_sequence   1"
      ]
     },
     "execution_count": 94,
     "metadata": {},
     "output_type": "execute_result"
    }
   ],
   "source": [
    "gff_by_type.loc[other_features]"
   ]
  },
  {
   "cell_type": "markdown",
   "metadata": {},
   "source": [
    "- Get `other_features_df` by filtering the **gff** for `everything left` **features**"
   ]
  },
  {
   "cell_type": "code",
   "execution_count": 95,
   "metadata": {},
   "outputs": [],
   "source": [
    "other_features_df = gff[gff['type'].isin(other_features)].sort_values(['seqid', 'start', 'end'])\n",
    "#other_features_df.shape"
   ]
  },
  {
   "cell_type": "markdown",
   "metadata": {},
   "source": [
    "- Filter `columns` that contain **all NaN's**: in this case the `Name` and `Parent` **column**"
   ]
  },
  {
   "cell_type": "code",
   "execution_count": 96,
   "metadata": {},
   "outputs": [
    {
     "data": {
      "text/html": [
       "<div>\n",
       "<style scoped>\n",
       "    .dataframe tbody tr th:only-of-type {\n",
       "        vertical-align: middle;\n",
       "    }\n",
       "\n",
       "    .dataframe tbody tr th {\n",
       "        vertical-align: top;\n",
       "    }\n",
       "\n",
       "    .dataframe thead th {\n",
       "        text-align: right;\n",
       "    }\n",
       "</style>\n",
       "<table border=\"1\" class=\"dataframe\">\n",
       "  <thead>\n",
       "    <tr style=\"text-align: right;\">\n",
       "      <th></th>\n",
       "      <th>seqid</th>\n",
       "      <th>source</th>\n",
       "      <th>type</th>\n",
       "      <th>start</th>\n",
       "      <th>end</th>\n",
       "      <th>score</th>\n",
       "      <th>strand</th>\n",
       "      <th>phase</th>\n",
       "      <th>ID</th>\n",
       "    </tr>\n",
       "  </thead>\n",
       "  <tbody>\n",
       "    <tr>\n",
       "      <th>41540</th>\n",
       "      <td>I</td>\n",
       "      <td>PomBase</td>\n",
       "      <td>gap</td>\n",
       "      <td>29664</td>\n",
       "      <td>29763</td>\n",
       "      <td>.</td>\n",
       "      <td>+</td>\n",
       "      <td>.</td>\n",
       "      <td>CU329670_gap_29664..29763</td>\n",
       "    </tr>\n",
       "    <tr>\n",
       "      <th>41379</th>\n",
       "      <td>I</td>\n",
       "      <td>PomBase</td>\n",
       "      <td>nuclear_mt_pseudogene</td>\n",
       "      <td>72348</td>\n",
       "      <td>72436</td>\n",
       "      <td>.</td>\n",
       "      <td>+</td>\n",
       "      <td>.</td>\n",
       "      <td>SPNUMT.8</td>\n",
       "    </tr>\n",
       "    <tr>\n",
       "      <th>41216</th>\n",
       "      <td>I</td>\n",
       "      <td>PomBase</td>\n",
       "      <td>nuclear_mt_pseudogene</td>\n",
       "      <td>79544</td>\n",
       "      <td>79628</td>\n",
       "      <td>.</td>\n",
       "      <td>+</td>\n",
       "      <td>.</td>\n",
       "      <td>SPNUMT.9</td>\n",
       "    </tr>\n",
       "    <tr>\n",
       "      <th>41474</th>\n",
       "      <td>I</td>\n",
       "      <td>PomBase</td>\n",
       "      <td>promoter</td>\n",
       "      <td>175826</td>\n",
       "      <td>175833</td>\n",
       "      <td>.</td>\n",
       "      <td>-</td>\n",
       "      <td>.</td>\n",
       "      <td>CU329670_promoter_175826..175833</td>\n",
       "    </tr>\n",
       "    <tr>\n",
       "      <th>41186</th>\n",
       "      <td>I</td>\n",
       "      <td>PomBase</td>\n",
       "      <td>promoter</td>\n",
       "      <td>187628</td>\n",
       "      <td>187635</td>\n",
       "      <td>.</td>\n",
       "      <td>-</td>\n",
       "      <td>.</td>\n",
       "      <td>CU329670_promoter_187628..187635</td>\n",
       "    </tr>\n",
       "  </tbody>\n",
       "</table>\n",
       "</div>"
      ],
      "text/plain": [
       "      seqid   source                   type   start     end score strand  \\\n",
       "41540     I  PomBase                    gap   29664   29763     .      +   \n",
       "41379     I  PomBase  nuclear_mt_pseudogene   72348   72436     .      +   \n",
       "41216     I  PomBase  nuclear_mt_pseudogene   79544   79628     .      +   \n",
       "41474     I  PomBase               promoter  175826  175833     .      -   \n",
       "41186     I  PomBase               promoter  187628  187635     .      -   \n",
       "\n",
       "      phase                                ID  \n",
       "41540     .         CU329670_gap_29664..29763  \n",
       "41379     .                          SPNUMT.8  \n",
       "41216     .                          SPNUMT.9  \n",
       "41474     .  CU329670_promoter_175826..175833  \n",
       "41186     .  CU329670_promoter_187628..187635  "
      ]
     },
     "execution_count": 96,
     "metadata": {},
     "output_type": "execute_result"
    }
   ],
   "source": [
    "cols = other_features_df.columns[~other_features_df.isna().all()]\n",
    "other_features_df = other_features_df[cols]\n",
    "other_features_df.head()"
   ]
  },
  {
   "cell_type": "code",
   "execution_count": 97,
   "metadata": {},
   "outputs": [
    {
     "data": {
      "text/plain": [
       "(228, 9)"
      ]
     },
     "execution_count": 97,
     "metadata": {},
     "output_type": "execute_result"
    }
   ],
   "source": [
    "other_features_df.shape"
   ]
  },
  {
   "cell_type": "markdown",
   "metadata": {},
   "source": [
    "- Get `gap` features:"
   ]
  },
  {
   "cell_type": "code",
   "execution_count": 98,
   "metadata": {},
   "outputs": [
    {
     "data": {
      "text/html": [
       "<div>\n",
       "<style scoped>\n",
       "    .dataframe tbody tr th:only-of-type {\n",
       "        vertical-align: middle;\n",
       "    }\n",
       "\n",
       "    .dataframe tbody tr th {\n",
       "        vertical-align: top;\n",
       "    }\n",
       "\n",
       "    .dataframe thead th {\n",
       "        text-align: right;\n",
       "    }\n",
       "</style>\n",
       "<table border=\"1\" class=\"dataframe\">\n",
       "  <thead>\n",
       "    <tr style=\"text-align: right;\">\n",
       "      <th></th>\n",
       "      <th>seqid</th>\n",
       "      <th>source</th>\n",
       "      <th>type</th>\n",
       "      <th>start</th>\n",
       "      <th>end</th>\n",
       "      <th>score</th>\n",
       "      <th>strand</th>\n",
       "      <th>phase</th>\n",
       "      <th>ID</th>\n",
       "      <th>length</th>\n",
       "    </tr>\n",
       "  </thead>\n",
       "  <tbody>\n",
       "    <tr>\n",
       "      <th>41540</th>\n",
       "      <td>I</td>\n",
       "      <td>PomBase</td>\n",
       "      <td>gap</td>\n",
       "      <td>29664</td>\n",
       "      <td>29763</td>\n",
       "      <td>.</td>\n",
       "      <td>+</td>\n",
       "      <td>.</td>\n",
       "      <td>CU329670_gap_29664..29763</td>\n",
       "      <td>100</td>\n",
       "    </tr>\n",
       "    <tr>\n",
       "      <th>41374</th>\n",
       "      <td>II</td>\n",
       "      <td>PomBase</td>\n",
       "      <td>gap</td>\n",
       "      <td>80202</td>\n",
       "      <td>80301</td>\n",
       "      <td>.</td>\n",
       "      <td>+</td>\n",
       "      <td>.</td>\n",
       "      <td>CU329671_gap_80202..80301</td>\n",
       "      <td>100</td>\n",
       "    </tr>\n",
       "    <tr>\n",
       "      <th>41270</th>\n",
       "      <td>II</td>\n",
       "      <td>PomBase</td>\n",
       "      <td>gap</td>\n",
       "      <td>1616571</td>\n",
       "      <td>1616670</td>\n",
       "      <td>.</td>\n",
       "      <td>+</td>\n",
       "      <td>.</td>\n",
       "      <td>CU329671_gap_1616571..1616670</td>\n",
       "      <td>100</td>\n",
       "    </tr>\n",
       "    <tr>\n",
       "      <th>41656</th>\n",
       "      <td>III</td>\n",
       "      <td>PomBase</td>\n",
       "      <td>gap</td>\n",
       "      <td>1083349</td>\n",
       "      <td>1083448</td>\n",
       "      <td>.</td>\n",
       "      <td>+</td>\n",
       "      <td>.</td>\n",
       "      <td>CU329672_gap_1083349..1083448</td>\n",
       "      <td>100</td>\n",
       "    </tr>\n",
       "  </tbody>\n",
       "</table>\n",
       "</div>"
      ],
      "text/plain": [
       "      seqid   source type    start      end score strand phase  \\\n",
       "41540     I  PomBase  gap    29664    29763     .      +     .   \n",
       "41374    II  PomBase  gap    80202    80301     .      +     .   \n",
       "41270    II  PomBase  gap  1616571  1616670     .      +     .   \n",
       "41656   III  PomBase  gap  1083349  1083448     .      +     .   \n",
       "\n",
       "                                  ID  length  \n",
       "41540      CU329670_gap_29664..29763     100  \n",
       "41374      CU329671_gap_80202..80301     100  \n",
       "41270  CU329671_gap_1616571..1616670     100  \n",
       "41656  CU329672_gap_1083349..1083448     100  "
      ]
     },
     "execution_count": 98,
     "metadata": {},
     "output_type": "execute_result"
    }
   ],
   "source": [
    "gap_df = other_features_df[other_features_df['type'].isin([\"gap\"])].sort_values(['seqid', 'start', 'end'])\n",
    "gap_df['length'] = gap_df[\"end\"] - gap_df[\"start\"] + 1\n",
    "gap_df"
   ]
  },
  {
   "cell_type": "code",
   "execution_count": 99,
   "metadata": {},
   "outputs": [],
   "source": [
    "explained_features.extend(other_features)"
   ]
  },
  {
   "cell_type": "code",
   "execution_count": 100,
   "metadata": {},
   "outputs": [
    {
     "data": {
      "text/html": [
       "<div>\n",
       "<style scoped>\n",
       "    .dataframe tbody tr th:only-of-type {\n",
       "        vertical-align: middle;\n",
       "    }\n",
       "\n",
       "    .dataframe tbody tr th {\n",
       "        vertical-align: top;\n",
       "    }\n",
       "\n",
       "    .dataframe thead th {\n",
       "        text-align: right;\n",
       "    }\n",
       "</style>\n",
       "<table border=\"1\" class=\"dataframe\">\n",
       "  <thead>\n",
       "    <tr style=\"text-align: right;\">\n",
       "      <th></th>\n",
       "      <th>ID</th>\n",
       "    </tr>\n",
       "    <tr>\n",
       "      <th>type</th>\n",
       "      <th></th>\n",
       "    </tr>\n",
       "  </thead>\n",
       "  <tbody>\n",
       "  </tbody>\n",
       "</table>\n",
       "</div>"
      ],
      "text/plain": [
       "Empty DataFrame\n",
       "Columns: [ID]\n",
       "Index: []"
      ]
     },
     "execution_count": 100,
     "metadata": {},
     "output_type": "execute_result"
    }
   ],
   "source": [
    "gff_by_type[~gff_by_type.index.isin(explained_features)].sort_values('ID', ascending=False)"
   ]
  }
 ],
 "metadata": {
  "kernelspec": {
   "display_name": "Python (heterochromatin)",
   "language": "python",
   "name": "heterochromatin"
  },
  "language_info": {
   "codemirror_mode": {
    "name": "ipython",
    "version": 3
   },
   "file_extension": ".py",
   "mimetype": "text/x-python",
   "name": "python",
   "nbconvert_exporter": "python",
   "pygments_lexer": "ipython3",
   "version": "3.6.7"
  }
 },
 "nbformat": 4,
 "nbformat_minor": 4
}
