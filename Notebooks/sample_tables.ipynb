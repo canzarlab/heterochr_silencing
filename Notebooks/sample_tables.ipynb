{
 "cells": [
  {
   "cell_type": "code",
   "execution_count": 1,
   "metadata": {},
   "outputs": [],
   "source": [
    "%load_ext autoreload\n",
    "%autoreload 2"
   ]
  },
  {
   "cell_type": "markdown",
   "metadata": {},
   "source": [
    "---------------------------"
   ]
  },
  {
   "cell_type": "markdown",
   "metadata": {},
   "source": [
    "## Config"
   ]
  },
  {
   "cell_type": "code",
   "execution_count": 2,
   "metadata": {},
   "outputs": [],
   "source": [
    "import sys"
   ]
  },
  {
   "cell_type": "code",
   "execution_count": 3,
   "metadata": {},
   "outputs": [],
   "source": [
    "project_dir = '/home/pmonteagudo/workspace/silencing_project'\n",
    "if project_dir not in sys.path: \n",
    "    sys.path.append(project_dir)\n",
    "from config_analysis import *"
   ]
  },
  {
   "cell_type": "code",
   "execution_count": 4,
   "metadata": {},
   "outputs": [],
   "source": [
    "# needed to import all our code\n",
    "my_scripts_dir = os.path.join(project_dir, 'htseq/scripts')\n",
    "if my_scripts_dir not in sys.path:\n",
    "    sys.path.append(my_scripts_dir)"
   ]
  },
  {
   "cell_type": "code",
   "execution_count": 5,
   "metadata": {},
   "outputs": [],
   "source": [
    "import parse_utils as psutil"
   ]
  },
  {
   "cell_type": "markdown",
   "metadata": {},
   "source": [
    "---------------------------"
   ]
  },
  {
   "cell_type": "markdown",
   "metadata": {},
   "source": [
    "<font color='blue'> **This Notebook parses individual `odf` raw files to generate:** </font>\n",
    "- `*_valid_samples.csv` files (for each **seq_assay**) \n",
    "- `sample_annotation.csv` file\n",
    "\n",
    "<font color='blue'> **Additionally, extracts and stores some information into two separate files, necessary to run `sample_names.ipynb` Notebook:** </font>\n",
    "\n",
    "* `trimmed_samples.tsv`\n",
    "* `chip_input_map.tsv`\n"
   ]
  },
  {
   "cell_type": "markdown",
   "metadata": {},
   "source": [
    "---------------------------"
   ]
  },
  {
   "cell_type": "markdown",
   "metadata": {},
   "source": [
    "## Get **Sample Annotation** from **ODF** Documents"
   ]
  },
  {
   "cell_type": "markdown",
   "metadata": {},
   "source": [
    "- Get **odf document** files:"
   ]
  },
  {
   "cell_type": "code",
   "execution_count": 6,
   "metadata": {},
   "outputs": [
    {
     "data": {
      "text/plain": [
       "{'INPUT': '/gcm-lfs1/pablo/data/rna_silencing/raw/INPUT_samples.ods',\n",
       " 'pA-RNA': '/gcm-lfs1/pablo/data/rna_silencing/raw/pA-RNA_samples.ods',\n",
       " 'S2-ChIP': '/gcm-lfs1/pablo/data/rna_silencing/raw/S2-ChIP_samples.ods',\n",
       " 'S2-RIP': '/gcm-lfs1/pablo/data/rna_silencing/raw/S2-RIP_samples.ods',\n",
       " 'simulated-data': '/gcm-lfs1/pablo/data/rna_silencing/raw/simulated-data_samples.ods',\n",
       " 'S5-RIP': '/gcm-lfs1/pablo/data/rna_silencing/raw/S5-RIP_samples.ods',\n",
       " 'S5-ChIP': '/gcm-lfs1/pablo/data/rna_silencing/raw/S5-ChIP_samples.ods',\n",
       " 'H3K9me2': '/gcm-lfs1/pablo/data/rna_silencing/raw/H3K9me2_samples.ods',\n",
       " 'total-RNA': '/gcm-lfs1/pablo/data/rna_silencing/raw/total-RNA_samples.ods'}"
      ]
     },
     "execution_count": 6,
     "metadata": {},
     "output_type": "execute_result"
    }
   ],
   "source": [
    "#odf_docs_dir = os.path.join(project_data_dir, 'raw')\n",
    "odf_docs_dir = raw_dir\n",
    "odf_files = {ff.split(\"_\")[0]:os.path.join(odf_docs_dir, ff) for ff in os.listdir(odf_docs_dir) if '.ods' in ff}\n",
    "odf_files"
   ]
  },
  {
   "cell_type": "markdown",
   "metadata": {},
   "source": [
    "-  Import **odf document** files:"
   ]
  },
  {
   "cell_type": "code",
   "execution_count": 7,
   "metadata": {},
   "outputs": [],
   "source": [
    "odf_dfs = {}"
   ]
  },
  {
   "cell_type": "code",
   "execution_count": 8,
   "metadata": {},
   "outputs": [
    {
     "name": "stdout",
     "output_type": "stream",
     "text": [
      "################################################################################\n",
      "Importing odf file /gcm-lfs1/pablo/data/rna_silencing/raw/INPUT_samples.ods ... \n",
      "\n",
      "Spreadsheet contains 1 sheet(s).\n",
      "----------------------------------------\n",
      "   Sheet name : 'Sheet1'\n",
      "Size of Sheet : (rows=49, cols=19)\n",
      "\n",
      "Done.\n",
      "################################################################################ \n",
      "\n",
      "################################################################################\n",
      "Importing odf file /gcm-lfs1/pablo/data/rna_silencing/raw/pA-RNA_samples.ods ... \n",
      "\n",
      "Spreadsheet contains 1 sheet(s).\n",
      "----------------------------------------\n",
      "   Sheet name : 'Sheet1'\n",
      "Size of Sheet : (rows=41, cols=23)\n",
      "\n",
      "Done.\n",
      "################################################################################ \n",
      "\n",
      "################################################################################\n",
      "Importing odf file /gcm-lfs1/pablo/data/rna_silencing/raw/S2-ChIP_samples.ods ... \n",
      "\n",
      "Spreadsheet contains 1 sheet(s).\n",
      "----------------------------------------\n",
      "   Sheet name : 'Sheet1'\n",
      "Size of Sheet : (rows=39, cols=23)\n",
      "\n",
      "Done.\n",
      "################################################################################ \n",
      "\n",
      "################################################################################\n",
      "Importing odf file /gcm-lfs1/pablo/data/rna_silencing/raw/S2-RIP_samples.ods ... \n",
      "\n",
      "Spreadsheet contains 1 sheet(s).\n",
      "----------------------------------------\n",
      "   Sheet name : 'Sheet1'\n",
      "Size of Sheet : (rows=45, cols=23)\n",
      "\n",
      "Done.\n",
      "################################################################################ \n",
      "\n",
      "################################################################################\n",
      "Importing odf file /gcm-lfs1/pablo/data/rna_silencing/raw/simulated-data_samples.ods ... \n",
      "\n",
      "Spreadsheet contains 1 sheet(s).\n",
      "----------------------------------------\n",
      "   Sheet name : 'Sheet1'\n",
      "Size of Sheet : (rows=8, cols=18)\n",
      "\n",
      "Done.\n",
      "################################################################################ \n",
      "\n",
      "################################################################################\n",
      "Importing odf file /gcm-lfs1/pablo/data/rna_silencing/raw/S5-RIP_samples.ods ... \n",
      "\n",
      "Spreadsheet contains 1 sheet(s).\n",
      "----------------------------------------\n",
      "   Sheet name : 'Sheet1'\n",
      "Size of Sheet : (rows=12, cols=23)\n",
      "\n",
      "Done.\n",
      "################################################################################ \n",
      "\n",
      "################################################################################\n",
      "Importing odf file /gcm-lfs1/pablo/data/rna_silencing/raw/S5-ChIP_samples.ods ... \n",
      "\n",
      "Spreadsheet contains 1 sheet(s).\n",
      "----------------------------------------\n",
      "   Sheet name : 'Sheet1'\n",
      "Size of Sheet : (rows=6, cols=22)\n",
      "\n",
      "Done.\n",
      "################################################################################ \n",
      "\n",
      "################################################################################\n",
      "Importing odf file /gcm-lfs1/pablo/data/rna_silencing/raw/H3K9me2_samples.ods ... \n",
      "\n",
      "Spreadsheet contains 1 sheet(s).\n",
      "----------------------------------------\n",
      "   Sheet name : 'Sheet1'\n",
      "Size of Sheet : (rows=11, cols=21)\n",
      "\n",
      "Done.\n",
      "################################################################################ \n",
      "\n",
      "################################################################################\n",
      "Importing odf file /gcm-lfs1/pablo/data/rna_silencing/raw/total-RNA_samples.ods ... \n",
      "\n",
      "Spreadsheet contains 1 sheet(s).\n",
      "----------------------------------------\n",
      "   Sheet name : 'Sheet1'\n",
      "Size of Sheet : (rows=14, cols=18)\n",
      "\n",
      "Done.\n",
      "################################################################################ \n",
      "\n"
     ]
    }
   ],
   "source": [
    "for key, val in odf_files.items():\n",
    "    print(\"#\"*80)\n",
    "    odf_dfs[key] = psutil.read_odf_doc(val)\n",
    "    print(\"#\"*80, '\\n')"
   ]
  },
  {
   "cell_type": "markdown",
   "metadata": {},
   "source": [
    "## **Valid samples**\n",
    "- **Process** the sample tables\n",
    "- **Store** tables as .csv"
   ]
  },
  {
   "cell_type": "code",
   "execution_count": 9,
   "metadata": {},
   "outputs": [],
   "source": [
    "#odf_dfs.items()"
   ]
  },
  {
   "cell_type": "code",
   "execution_count": 10,
   "metadata": {},
   "outputs": [],
   "source": [
    "#odf_dfs['H3K9me2']\n",
    "#odf_dfs['S5-RIP']   "
   ]
  },
  {
   "cell_type": "code",
   "execution_count": 11,
   "metadata": {},
   "outputs": [],
   "source": [
    "#name_sample_csv = {'pa-rna_samples':'pA-RNA' , 'total-rna_samples':'total-RNA', 's2-chip_samples':'S2-ChIP', 's2-rip_samples':'S2-RIP', 'input_samples':'INPUT'}"
   ]
  },
  {
   "cell_type": "markdown",
   "metadata": {},
   "source": [
    "- Filter each sample df for **valid_samples** only"
   ]
  },
  {
   "cell_type": "code",
   "execution_count": 12,
   "metadata": {},
   "outputs": [
    {
     "name": "stdout",
     "output_type": "stream",
     "text": [
      "INPUT\n",
      "pA-RNA\n",
      "S2-ChIP\n",
      "S2-RIP\n",
      "simulated-data\n",
      "S5-RIP\n",
      "S5-ChIP\n",
      "H3K9me2\n",
      "total-RNA\n"
     ]
    }
   ],
   "source": [
    "for key, val in odf_dfs.items():\n",
    "    \n",
    "    print(key)\n",
    "    # get rid of **last row** which is not a real row and contains directory paths used in the **odf document**\n",
    "    val = val[0:-1]\n",
    "    \n",
    "    # filter each sample df for **valid_samples** only\n",
    "    val = val[val['valid_sample']]\n",
    "    \n",
    "    #if key == 'H3K9me2':            \n",
    "    #if key == 'simulated-data':\n",
    "    #    import pdb; pdb.set_trace()\n",
    "    \n",
    "    # seems to be **ignored** already\n",
    "    #val = val[~val['sample'].str.contains('283')]\n",
    "    #val['mutant_id'] = val.mutant.map(inv_mut_dict)\n",
    "    val['mutant'] = val.mutant_id.map(mut_dict)\n",
    "    val['mutant'] = val['mutant'].fillna(\"unknown\")\n",
    "    \n",
    "    # add `seq_category` col: names for sequencing categories used to categorize samples in directories\n",
    "    val['seq_category'] = val.seq_type.map(seq_category)\n",
    "    \n",
    "    # add `pipeline_type` col: distinguishes between 'ChIP' and 'RNA' pipe-line\n",
    "    val['pipeline_type'] = val.seq_type.map(pipeline_type)\n",
    "    \n",
    "    #csv_file = os.path.join(project_data_dir, 'seq_data', name_sample_csv[key], name_sample_csv[key] + '_valid_samples.csv')\n",
    "    #csv_file = os.path.join(project_data_dir, 'seq_data', key, key + '_valid_samples.csv')\n",
    "    csv_file = os.path.join(data_dir, key, key + '_valid_samples.csv')\n",
    "\n",
    "    #print(csv_file)\n",
    "    val.to_csv(csv_file, sep=\"\\t\", header=False, index=False)\n",
    "    \n",
    "    odf_dfs[key] = val\n"
   ]
  },
  {
   "cell_type": "markdown",
   "metadata": {},
   "source": [
    "## **Pool samples** into one Table"
   ]
  },
  {
   "cell_type": "markdown",
   "metadata": {},
   "source": [
    "- Concatenate all different sequencing sample dataframes into one:"
   ]
  },
  {
   "cell_type": "code",
   "execution_count": 13,
   "metadata": {},
   "outputs": [],
   "source": [
    "col_order = [\n",
    "    'sample_id', 'valid_sample', 'original_id',\n",
    "    'raw_file', 'original_raw_file', \n",
    "    'raw_data', 'fastq', 'trimmed', \n",
    "    'seq_type', 'mutant_id', 'replicate', 'batch',\n",
    "    'file', 'halic_server', 'parastous_desktop', 'halic_local_dir',\n",
    "    'INPUT_1', 'INPUT_2', 'INPUT_3', 'OIN',\n",
    "    'comments',\n",
    "    'mutant', 'pipeline_type', 'seq_category']"
   ]
  },
  {
   "cell_type": "code",
   "execution_count": 14,
   "metadata": {},
   "outputs": [
    {
     "data": {
      "text/html": [
       "<div>\n",
       "<style scoped>\n",
       "    .dataframe tbody tr th:only-of-type {\n",
       "        vertical-align: middle;\n",
       "    }\n",
       "\n",
       "    .dataframe tbody tr th {\n",
       "        vertical-align: top;\n",
       "    }\n",
       "\n",
       "    .dataframe thead th {\n",
       "        text-align: right;\n",
       "    }\n",
       "</style>\n",
       "<table border=\"1\" class=\"dataframe\">\n",
       "  <thead>\n",
       "    <tr style=\"text-align: right;\">\n",
       "      <th></th>\n",
       "      <th>sample_id</th>\n",
       "      <th>valid_sample</th>\n",
       "      <th>original_id</th>\n",
       "      <th>raw_file</th>\n",
       "      <th>original_raw_file</th>\n",
       "      <th>raw_data</th>\n",
       "      <th>fastq</th>\n",
       "      <th>trimmed</th>\n",
       "      <th>seq_type</th>\n",
       "      <th>mutant_id</th>\n",
       "      <th>...</th>\n",
       "      <th>parastous_desktop</th>\n",
       "      <th>halic_local_dir</th>\n",
       "      <th>INPUT_1</th>\n",
       "      <th>INPUT_2</th>\n",
       "      <th>INPUT_3</th>\n",
       "      <th>OIN</th>\n",
       "      <th>comments</th>\n",
       "      <th>mutant</th>\n",
       "      <th>pipeline_type</th>\n",
       "      <th>seq_category</th>\n",
       "    </tr>\n",
       "  </thead>\n",
       "  <tbody>\n",
       "    <tr>\n",
       "      <th>0</th>\n",
       "      <td>1022_S2-ChIP-INPUT_1</td>\n",
       "      <td>True</td>\n",
       "      <td>1022_1_INPUT</td>\n",
       "      <td>1022_S2-ChIP-INPUT_1.fastq.bz2</td>\n",
       "      <td>1022_1_INPUT.fastq.bz2</td>\n",
       "      <td>True</td>\n",
       "      <td>True</td>\n",
       "      <td>FALSE</td>\n",
       "      <td>S2-ChIP-INPUT</td>\n",
       "      <td>1022</td>\n",
       "      <td>...</td>\n",
       "      <td>/data/parastou/RNAdeg/revision/Sequencing_New/...</td>\n",
       "      <td>Revision/Sequencing_Revision/ChIP/INPUT/</td>\n",
       "      <td>NaN</td>\n",
       "      <td>NaN</td>\n",
       "      <td>NaN</td>\n",
       "      <td>NaN</td>\n",
       "      <td>(MOVED)</td>\n",
       "      <td>mot2d</td>\n",
       "      <td>ChIP</td>\n",
       "      <td>INPUT</td>\n",
       "    </tr>\n",
       "    <tr>\n",
       "      <th>1</th>\n",
       "      <td>1022_S2-ChIP-OIN_1</td>\n",
       "      <td>True</td>\n",
       "      <td>1022_OIN</td>\n",
       "      <td>1022_S2-ChIP-OIN_1.fastq.bz2</td>\n",
       "      <td>1022_OIN.fastq.bz2</td>\n",
       "      <td>True</td>\n",
       "      <td>True</td>\n",
       "      <td>FALSE</td>\n",
       "      <td>S2-ChIP-OIN</td>\n",
       "      <td>1022</td>\n",
       "      <td>...</td>\n",
       "      <td>/data/parastou/RNAdeg/revision/Sequencing_New/...</td>\n",
       "      <td>Revision/Sequencing_Revision/ChIP/INPUT/</td>\n",
       "      <td>NaN</td>\n",
       "      <td>NaN</td>\n",
       "      <td>NaN</td>\n",
       "      <td>NaN</td>\n",
       "      <td>(MOVED)</td>\n",
       "      <td>mot2d</td>\n",
       "      <td>ChIP</td>\n",
       "      <td>INPUT</td>\n",
       "    </tr>\n",
       "    <tr>\n",
       "      <th>2</th>\n",
       "      <td>1168_S2-ChIP-OIN_1</td>\n",
       "      <td>True</td>\n",
       "      <td>1168_OIN</td>\n",
       "      <td>1168_S2-ChIP-OIN_1.fastq.bz2</td>\n",
       "      <td>1168_OIN.fastq.bz2</td>\n",
       "      <td>True</td>\n",
       "      <td>True</td>\n",
       "      <td>FALSE</td>\n",
       "      <td>S2-ChIP-OIN</td>\n",
       "      <td>1168</td>\n",
       "      <td>...</td>\n",
       "      <td>/data/parastou/RNAdeg/revision/Sequencing_New/...</td>\n",
       "      <td>Revision/Sequencing_Revision/ChIP/INPUT/</td>\n",
       "      <td>NaN</td>\n",
       "      <td>NaN</td>\n",
       "      <td>NaN</td>\n",
       "      <td>NaN</td>\n",
       "      <td>(MOVED)</td>\n",
       "      <td>caf1d*ccr4d*</td>\n",
       "      <td>ChIP</td>\n",
       "      <td>INPUT</td>\n",
       "    </tr>\n",
       "    <tr>\n",
       "      <th>3</th>\n",
       "      <td>301_S2-ChIP-INPUT_1</td>\n",
       "      <td>True</td>\n",
       "      <td>301_INPUT</td>\n",
       "      <td>301_S2-ChIP-INPUT_1.fastq.bz2</td>\n",
       "      <td>301_INPUT.tar.bz2</td>\n",
       "      <td>True</td>\n",
       "      <td>True</td>\n",
       "      <td>FALSE</td>\n",
       "      <td>S2-ChIP-INPUT</td>\n",
       "      <td>301</td>\n",
       "      <td>...</td>\n",
       "      <td>/data/parastou/RNAdeg/revision/INPUTs/more/301...</td>\n",
       "      <td>Revision/INPUTs/</td>\n",
       "      <td>NaN</td>\n",
       "      <td>NaN</td>\n",
       "      <td>NaN</td>\n",
       "      <td>NaN</td>\n",
       "      <td>.tar.bz2 – whole directory</td>\n",
       "      <td>swi6d</td>\n",
       "      <td>ChIP</td>\n",
       "      <td>INPUT</td>\n",
       "    </tr>\n",
       "    <tr>\n",
       "      <th>4</th>\n",
       "      <td>301_S2-ChIP-OIN_1</td>\n",
       "      <td>True</td>\n",
       "      <td>301_OIN</td>\n",
       "      <td>301_S2-ChIP-OIN_1.fastq.bz2</td>\n",
       "      <td>301_OIN.fastq.bz2</td>\n",
       "      <td>True</td>\n",
       "      <td>True</td>\n",
       "      <td>FALSE</td>\n",
       "      <td>S2-ChIP-OIN</td>\n",
       "      <td>301</td>\n",
       "      <td>...</td>\n",
       "      <td>/data/parastou/RNAdeg/revision/Sequencing_New/...</td>\n",
       "      <td>Revision/Sequencing_Revision/ChIP/INPUT/</td>\n",
       "      <td>NaN</td>\n",
       "      <td>NaN</td>\n",
       "      <td>NaN</td>\n",
       "      <td>NaN</td>\n",
       "      <td>(MOVED)</td>\n",
       "      <td>swi6d</td>\n",
       "      <td>ChIP</td>\n",
       "      <td>INPUT</td>\n",
       "    </tr>\n",
       "  </tbody>\n",
       "</table>\n",
       "<p>5 rows × 24 columns</p>\n",
       "</div>"
      ],
      "text/plain": [
       "              sample_id valid_sample   original_id  \\\n",
       "0  1022_S2-ChIP-INPUT_1         True  1022_1_INPUT   \n",
       "1    1022_S2-ChIP-OIN_1         True      1022_OIN   \n",
       "2    1168_S2-ChIP-OIN_1         True      1168_OIN   \n",
       "3   301_S2-ChIP-INPUT_1         True     301_INPUT   \n",
       "4     301_S2-ChIP-OIN_1         True       301_OIN   \n",
       "\n",
       "                         raw_file       original_raw_file raw_data fastq  \\\n",
       "0  1022_S2-ChIP-INPUT_1.fastq.bz2  1022_1_INPUT.fastq.bz2     True  True   \n",
       "1    1022_S2-ChIP-OIN_1.fastq.bz2      1022_OIN.fastq.bz2     True  True   \n",
       "2    1168_S2-ChIP-OIN_1.fastq.bz2      1168_OIN.fastq.bz2     True  True   \n",
       "3   301_S2-ChIP-INPUT_1.fastq.bz2      301_INPUT.tar.bz2      True  True   \n",
       "4     301_S2-ChIP-OIN_1.fastq.bz2       301_OIN.fastq.bz2     True  True   \n",
       "\n",
       "  trimmed       seq_type mutant_id  ...  \\\n",
       "0   FALSE  S2-ChIP-INPUT      1022  ...   \n",
       "1   FALSE    S2-ChIP-OIN      1022  ...   \n",
       "2   FALSE    S2-ChIP-OIN      1168  ...   \n",
       "3   FALSE  S2-ChIP-INPUT       301  ...   \n",
       "4   FALSE    S2-ChIP-OIN       301  ...   \n",
       "\n",
       "                                   parastous_desktop  \\\n",
       "0  /data/parastou/RNAdeg/revision/Sequencing_New/...   \n",
       "1  /data/parastou/RNAdeg/revision/Sequencing_New/...   \n",
       "2  /data/parastou/RNAdeg/revision/Sequencing_New/...   \n",
       "3  /data/parastou/RNAdeg/revision/INPUTs/more/301...   \n",
       "4  /data/parastou/RNAdeg/revision/Sequencing_New/...   \n",
       "\n",
       "                            halic_local_dir INPUT_1 INPUT_2 INPUT_3  OIN  \\\n",
       "0  Revision/Sequencing_Revision/ChIP/INPUT/     NaN     NaN     NaN  NaN   \n",
       "1  Revision/Sequencing_Revision/ChIP/INPUT/     NaN     NaN     NaN  NaN   \n",
       "2  Revision/Sequencing_Revision/ChIP/INPUT/     NaN     NaN     NaN  NaN   \n",
       "3                          Revision/INPUTs/     NaN     NaN     NaN  NaN   \n",
       "4  Revision/Sequencing_Revision/ChIP/INPUT/     NaN     NaN     NaN  NaN   \n",
       "\n",
       "                     comments        mutant pipeline_type seq_category  \n",
       "0                     (MOVED)         mot2d          ChIP        INPUT  \n",
       "1                     (MOVED)         mot2d          ChIP        INPUT  \n",
       "2                     (MOVED)  caf1d*ccr4d*          ChIP        INPUT  \n",
       "3  .tar.bz2 – whole directory         swi6d          ChIP        INPUT  \n",
       "4                     (MOVED)         swi6d          ChIP        INPUT  \n",
       "\n",
       "[5 rows x 24 columns]"
      ]
     },
     "execution_count": 14,
     "metadata": {},
     "output_type": "execute_result"
    }
   ],
   "source": [
    "all_samples_df = pd.concat(odf_dfs, ignore_index=True, sort = True)[col_order]\n",
    "all_samples_df.head()"
   ]
  },
  {
   "cell_type": "code",
   "execution_count": 15,
   "metadata": {},
   "outputs": [],
   "source": [
    "#all_samples_df[all_samples_df['sample_id'].str.contains('WT')]"
   ]
  },
  {
   "cell_type": "code",
   "execution_count": 32,
   "metadata": {},
   "outputs": [],
   "source": [
    "#all_samples_df[all_samples_df['sample_id'].str.contains('H3K9me2')]"
   ]
  },
  {
   "cell_type": "code",
   "execution_count": 17,
   "metadata": {},
   "outputs": [
    {
     "data": {
      "text/plain": [
       "(154, 24)"
      ]
     },
     "execution_count": 17,
     "metadata": {},
     "output_type": "execute_result"
    }
   ],
   "source": [
    "all_samples_df.shape"
   ]
  },
  {
   "cell_type": "markdown",
   "metadata": {},
   "source": [
    "- **Store Data Frame** containing annotation of all samples:"
   ]
  },
  {
   "cell_type": "code",
   "execution_count": 18,
   "metadata": {},
   "outputs": [
    {
     "data": {
      "text/plain": [
       "'/gcm-lfs1/pablo/data/rna_silencing/seq_data/sample_annotation.csv'"
      ]
     },
     "execution_count": 18,
     "metadata": {},
     "output_type": "execute_result"
    }
   ],
   "source": [
    "#sample_annotation_file = os.path.join(project_data_dir, 'seq_data', 'sample_annotation.csv')\n",
    "sample_annotation_file = os.path.join(data_dir, 'sample_annotation.csv')\n",
    "sample_annotation_file"
   ]
  },
  {
   "cell_type": "code",
   "execution_count": 19,
   "metadata": {},
   "outputs": [],
   "source": [
    "all_samples_df.to_csv(sample_annotation_file, sep=\"\\t\", index=False)"
   ]
  },
  {
   "cell_type": "code",
   "execution_count": 20,
   "metadata": {},
   "outputs": [],
   "source": [
    "#raw_files_df[['raw_file_name', 'data_dir', 'seq']].groupby(['data_dir', 'seq']).count()"
   ]
  },
  {
   "cell_type": "markdown",
   "metadata": {},
   "source": [
    "### Summary **Samples**"
   ]
  },
  {
   "cell_type": "markdown",
   "metadata": {},
   "source": [
    "- Summarize by `seq_type` and `pipeline_type`"
   ]
  },
  {
   "cell_type": "code",
   "execution_count": 21,
   "metadata": {},
   "outputs": [
    {
     "data": {
      "text/html": [
       "<div>\n",
       "<style scoped>\n",
       "    .dataframe tbody tr th:only-of-type {\n",
       "        vertical-align: middle;\n",
       "    }\n",
       "\n",
       "    .dataframe tbody tr th {\n",
       "        vertical-align: top;\n",
       "    }\n",
       "\n",
       "    .dataframe thead th {\n",
       "        text-align: right;\n",
       "    }\n",
       "</style>\n",
       "<table border=\"1\" class=\"dataframe\">\n",
       "  <thead>\n",
       "    <tr style=\"text-align: right;\">\n",
       "      <th></th>\n",
       "      <th></th>\n",
       "      <th>sample_id</th>\n",
       "    </tr>\n",
       "    <tr>\n",
       "      <th>seq_type</th>\n",
       "      <th>pipeline_type</th>\n",
       "      <th></th>\n",
       "    </tr>\n",
       "  </thead>\n",
       "  <tbody>\n",
       "    <tr>\n",
       "      <th>H3K9me2</th>\n",
       "      <th>ChIP</th>\n",
       "      <td>9</td>\n",
       "    </tr>\n",
       "    <tr>\n",
       "      <th>S2-ChIP</th>\n",
       "      <th>ChIP</th>\n",
       "      <td>30</td>\n",
       "    </tr>\n",
       "    <tr>\n",
       "      <th>S2-ChIP-INPUT</th>\n",
       "      <th>ChIP</th>\n",
       "      <td>20</td>\n",
       "    </tr>\n",
       "    <tr>\n",
       "      <th>S2-ChIP-OIN</th>\n",
       "      <th>ChIP</th>\n",
       "      <td>10</td>\n",
       "    </tr>\n",
       "    <tr>\n",
       "      <th>S2-RIP</th>\n",
       "      <th>RNA</th>\n",
       "      <td>37</td>\n",
       "    </tr>\n",
       "    <tr>\n",
       "      <th>S5-ChIP</th>\n",
       "      <th>ChIP</th>\n",
       "      <td>4</td>\n",
       "    </tr>\n",
       "    <tr>\n",
       "      <th>S5-RIP</th>\n",
       "      <th>RNA</th>\n",
       "      <td>1</td>\n",
       "    </tr>\n",
       "    <tr>\n",
       "      <th>pA-RNA</th>\n",
       "      <th>RNA</th>\n",
       "      <td>34</td>\n",
       "    </tr>\n",
       "    <tr>\n",
       "      <th>simulated-data</th>\n",
       "      <th>simulated-data</th>\n",
       "      <td>1</td>\n",
       "    </tr>\n",
       "    <tr>\n",
       "      <th>total-RNA</th>\n",
       "      <th>RNA</th>\n",
       "      <td>8</td>\n",
       "    </tr>\n",
       "  </tbody>\n",
       "</table>\n",
       "</div>"
      ],
      "text/plain": [
       "                               sample_id\n",
       "seq_type       pipeline_type            \n",
       "H3K9me2        ChIP                    9\n",
       "S2-ChIP        ChIP                   30\n",
       "S2-ChIP-INPUT  ChIP                   20\n",
       "S2-ChIP-OIN    ChIP                   10\n",
       "S2-RIP         RNA                    37\n",
       "S5-ChIP        ChIP                    4\n",
       "S5-RIP         RNA                     1\n",
       "pA-RNA         RNA                    34\n",
       "simulated-data simulated-data          1\n",
       "total-RNA      RNA                     8"
      ]
     },
     "execution_count": 21,
     "metadata": {},
     "output_type": "execute_result"
    }
   ],
   "source": [
    "all_samples_df[['sample_id', 'seq_type', 'pipeline_type']].groupby(['seq_type', 'pipeline_type']).count()"
   ]
  },
  {
   "cell_type": "markdown",
   "metadata": {},
   "source": [
    "- Summarize by `mutant_id` and  `mutant` "
   ]
  },
  {
   "cell_type": "code",
   "execution_count": 22,
   "metadata": {},
   "outputs": [
    {
     "data": {
      "text/html": [
       "<div>\n",
       "<style scoped>\n",
       "    .dataframe tbody tr th:only-of-type {\n",
       "        vertical-align: middle;\n",
       "    }\n",
       "\n",
       "    .dataframe tbody tr th {\n",
       "        vertical-align: top;\n",
       "    }\n",
       "\n",
       "    .dataframe thead th {\n",
       "        text-align: right;\n",
       "    }\n",
       "</style>\n",
       "<table border=\"1\" class=\"dataframe\">\n",
       "  <thead>\n",
       "    <tr style=\"text-align: right;\">\n",
       "      <th></th>\n",
       "      <th></th>\n",
       "      <th>sample_id</th>\n",
       "    </tr>\n",
       "    <tr>\n",
       "      <th>mutant_id</th>\n",
       "      <th>mutant</th>\n",
       "      <th></th>\n",
       "    </tr>\n",
       "  </thead>\n",
       "  <tbody>\n",
       "    <tr>\n",
       "      <th>1022</th>\n",
       "      <th>mot2d</th>\n",
       "      <td>9</td>\n",
       "    </tr>\n",
       "    <tr>\n",
       "      <th>1023</th>\n",
       "      <th>mot2d</th>\n",
       "      <td>1</td>\n",
       "    </tr>\n",
       "    <tr>\n",
       "      <th>1168</th>\n",
       "      <th>caf1d*ccr4d*</th>\n",
       "      <td>7</td>\n",
       "    </tr>\n",
       "    <tr>\n",
       "      <th>301</th>\n",
       "      <th>swi6d</th>\n",
       "      <td>11</td>\n",
       "    </tr>\n",
       "    <tr>\n",
       "      <th>302</th>\n",
       "      <th>clr3d</th>\n",
       "      <td>10</td>\n",
       "    </tr>\n",
       "    <tr>\n",
       "      <th>324</th>\n",
       "      <th>chp2d</th>\n",
       "      <td>12</td>\n",
       "    </tr>\n",
       "    <tr>\n",
       "      <th>491</th>\n",
       "      <th>mit1d</th>\n",
       "      <td>10</td>\n",
       "    </tr>\n",
       "    <tr>\n",
       "      <th>504</th>\n",
       "      <th>rrp6d</th>\n",
       "      <td>10</td>\n",
       "    </tr>\n",
       "    <tr>\n",
       "      <th>510</th>\n",
       "      <th>caf1d</th>\n",
       "      <td>10</td>\n",
       "    </tr>\n",
       "    <tr>\n",
       "      <th>523</th>\n",
       "      <th>unknown</th>\n",
       "      <td>6</td>\n",
       "    </tr>\n",
       "    <tr>\n",
       "      <th>524</th>\n",
       "      <th>unknown</th>\n",
       "      <td>4</td>\n",
       "    </tr>\n",
       "    <tr>\n",
       "      <th>530</th>\n",
       "      <th>exo2d</th>\n",
       "      <td>9</td>\n",
       "    </tr>\n",
       "    <tr>\n",
       "      <th>544</th>\n",
       "      <th>ccr4d</th>\n",
       "      <td>8</td>\n",
       "    </tr>\n",
       "    <tr>\n",
       "      <th>591</th>\n",
       "      <th>caf1d</th>\n",
       "      <td>2</td>\n",
       "    </tr>\n",
       "    <tr>\n",
       "      <th>638</th>\n",
       "      <th>ago1d</th>\n",
       "      <td>14</td>\n",
       "    </tr>\n",
       "    <tr>\n",
       "      <th>80</th>\n",
       "      <th>clr4d</th>\n",
       "      <td>14</td>\n",
       "    </tr>\n",
       "    <tr>\n",
       "      <th>WT</th>\n",
       "      <th>wt</th>\n",
       "      <td>16</td>\n",
       "    </tr>\n",
       "    <tr>\n",
       "      <th>fake-reads</th>\n",
       "      <th>fake-reads</th>\n",
       "      <td>1</td>\n",
       "    </tr>\n",
       "  </tbody>\n",
       "</table>\n",
       "</div>"
      ],
      "text/plain": [
       "                         sample_id\n",
       "mutant_id  mutant                 \n",
       "1022       mot2d                 9\n",
       "1023       mot2d                 1\n",
       "1168       caf1d*ccr4d*          7\n",
       "301        swi6d                11\n",
       "302        clr3d                10\n",
       "324        chp2d                12\n",
       "491        mit1d                10\n",
       "504        rrp6d                10\n",
       "510        caf1d                10\n",
       "523        unknown               6\n",
       "524        unknown               4\n",
       "530        exo2d                 9\n",
       "544        ccr4d                 8\n",
       "591        caf1d                 2\n",
       "638        ago1d                14\n",
       "80         clr4d                14\n",
       "WT         wt                   16\n",
       "fake-reads fake-reads            1"
      ]
     },
     "execution_count": 22,
     "metadata": {},
     "output_type": "execute_result"
    }
   ],
   "source": [
    "all_samples_df[['sample_id', 'mutant_id', 'mutant']].groupby(['mutant_id', 'mutant']).count()\n",
    "#all_samples_df[['sample_id', 'mutant']].groupby(['mutant']).count()"
   ]
  },
  {
   "cell_type": "markdown",
   "metadata": {},
   "source": [
    "- Summarize by `seq_type` and  `mutant` - **should have at least 2 replicates for each**"
   ]
  },
  {
   "cell_type": "code",
   "execution_count": 23,
   "metadata": {},
   "outputs": [
    {
     "data": {
      "text/html": [
       "<div>\n",
       "<style scoped>\n",
       "    .dataframe tbody tr th:only-of-type {\n",
       "        vertical-align: middle;\n",
       "    }\n",
       "\n",
       "    .dataframe tbody tr th {\n",
       "        vertical-align: top;\n",
       "    }\n",
       "\n",
       "    .dataframe thead th {\n",
       "        text-align: right;\n",
       "    }\n",
       "</style>\n",
       "<table border=\"1\" class=\"dataframe\">\n",
       "  <thead>\n",
       "    <tr style=\"text-align: right;\">\n",
       "      <th></th>\n",
       "      <th></th>\n",
       "      <th>sample_id</th>\n",
       "    </tr>\n",
       "    <tr>\n",
       "      <th>seq_type</th>\n",
       "      <th>mutant</th>\n",
       "      <th></th>\n",
       "    </tr>\n",
       "  </thead>\n",
       "  <tbody>\n",
       "    <tr>\n",
       "      <th rowspan=\"5\" valign=\"top\">H3K9me2</th>\n",
       "      <th>ago1d</th>\n",
       "      <td>1</td>\n",
       "    </tr>\n",
       "    <tr>\n",
       "      <th>caf1d</th>\n",
       "      <td>1</td>\n",
       "    </tr>\n",
       "    <tr>\n",
       "      <th>chp2d</th>\n",
       "      <td>1</td>\n",
       "    </tr>\n",
       "    <tr>\n",
       "      <th>clr3d</th>\n",
       "      <td>1</td>\n",
       "    </tr>\n",
       "    <tr>\n",
       "      <th>exo2d</th>\n",
       "      <td>1</td>\n",
       "    </tr>\n",
       "    <tr>\n",
       "      <th>...</th>\n",
       "      <th>...</th>\n",
       "      <td>...</td>\n",
       "    </tr>\n",
       "    <tr>\n",
       "      <th>simulated-data</th>\n",
       "      <th>fake-reads</th>\n",
       "      <td>1</td>\n",
       "    </tr>\n",
       "    <tr>\n",
       "      <th rowspan=\"4\" valign=\"top\">total-RNA</th>\n",
       "      <th>ago1d</th>\n",
       "      <td>2</td>\n",
       "    </tr>\n",
       "    <tr>\n",
       "      <th>caf1d</th>\n",
       "      <td>2</td>\n",
       "    </tr>\n",
       "    <tr>\n",
       "      <th>clr4d</th>\n",
       "      <td>2</td>\n",
       "    </tr>\n",
       "    <tr>\n",
       "      <th>wt</th>\n",
       "      <td>2</td>\n",
       "    </tr>\n",
       "  </tbody>\n",
       "</table>\n",
       "<p>80 rows × 1 columns</p>\n",
       "</div>"
      ],
      "text/plain": [
       "                           sample_id\n",
       "seq_type       mutant               \n",
       "H3K9me2        ago1d               1\n",
       "               caf1d               1\n",
       "               chp2d               1\n",
       "               clr3d               1\n",
       "               exo2d               1\n",
       "...                              ...\n",
       "simulated-data fake-reads          1\n",
       "total-RNA      ago1d               2\n",
       "               caf1d               2\n",
       "               clr4d               2\n",
       "               wt                  2\n",
       "\n",
       "[80 rows x 1 columns]"
      ]
     },
     "execution_count": 23,
     "metadata": {},
     "output_type": "execute_result"
    }
   ],
   "source": [
    "all_samples_df[['sample_id', 'seq_type', 'mutant']].groupby(['seq_type', 'mutant']).count()"
   ]
  },
  {
   "cell_type": "markdown",
   "metadata": {},
   "source": [
    "### Store manual data **Samples**"
   ]
  },
  {
   "cell_type": "markdown",
   "metadata": {},
   "source": [
    "- Store `trimmed` column: if `True` sample needs to be **trimed** to solve error\n",
    "\n",
    "<font color='red'> **Error** - EXITING because of FATAL ERROR in reads input: short read sequence line: 1 - Need to trim reads: </font>"
   ]
  },
  {
   "cell_type": "code",
   "execution_count": 24,
   "metadata": {},
   "outputs": [
    {
     "data": {
      "text/plain": [
       "'/gcm-lfs1/pablo/data/rna_silencing/raw/trimmed_samples.tsv'"
      ]
     },
     "execution_count": 24,
     "metadata": {},
     "output_type": "execute_result"
    }
   ],
   "source": [
    "trimmed_samples_file = os.path.join(raw_dir, 'trimmed_samples.tsv')\n",
    "trimmed_samples_file"
   ]
  },
  {
   "cell_type": "code",
   "execution_count": 25,
   "metadata": {},
   "outputs": [],
   "source": [
    "trimmed_samples = all_samples_df[all_samples_df['trimmed'] == 'TRUE']\n",
    "trimmed_samples[['sample_id', 'trimmed']].to_csv(trimmed_samples_file, sep ='\\t', index=False)"
   ]
  },
  {
   "cell_type": "markdown",
   "metadata": {},
   "source": [
    "- Store `INPUT_*` columns: associate ChIP samples with **corresponding `INPUT`**\n",
    "\n",
    "<font color='red'> **Note**: only `seq_category = ChIP` samples will have an associated `INPUT` all other will contain NAs. </font>"
   ]
  },
  {
   "cell_type": "code",
   "execution_count": 26,
   "metadata": {},
   "outputs": [],
   "source": [
    "## Note: `input_types` refers to INPUT samples, but note that we also process 'ChIP'-like samples\n",
    "## that do NOT need 'INPUT substraction' in such a fashion. (e.g. 'H3K9me2', 'simulated-data' ).\n",
    "#input_types = ['INPUT', 'H3K9me2', 'simulated-data']\n",
    "input_types = ['INPUT', 'simulated-data'] # also subtract INPUT from H3k9me2 samples!"
   ]
  },
  {
   "cell_type": "code",
   "execution_count": 27,
   "metadata": {},
   "outputs": [
    {
     "data": {
      "text/plain": [
       "'/gcm-lfs1/pablo/data/rna_silencing/raw/chip_input_map.tsv'"
      ]
     },
     "execution_count": 27,
     "metadata": {},
     "output_type": "execute_result"
    }
   ],
   "source": [
    "chip_input_map_file = os.path.join(raw_dir, 'chip_input_map.tsv')\n",
    "chip_input_map_file"
   ]
  },
  {
   "cell_type": "code",
   "execution_count": 28,
   "metadata": {},
   "outputs": [],
   "source": [
    "# ChIP + H3k9me2\n",
    "chip_input_map = all_samples_df[['sample_id', 'pipeline_type', 'seq_category', 'INPUT_1', 'INPUT_2', 'INPUT_3', 'OIN']]\n",
    "chip_input_map = chip_input_map[(chip_input_map['pipeline_type'] == 'ChIP') & (~chip_input_map['seq_category'].isin(input_types))]\n",
    "\n",
    "# replace '#N/A' from spread-sheet to np.NaN and downstream analysis\n",
    "chip_input_map = chip_input_map.replace('#N/A', np.NaN)\n",
    "chip_input_map\n",
    "non_missing = chip_input_map[['INPUT_1', 'INPUT_2', 'INPUT_3', 'OIN']].dropna(how='all')\n",
    "assert(len(non_missing) == len(chip_input_map))\n",
    "\n",
    "chip_input_map[['sample_id', 'INPUT_1', 'INPUT_2', 'INPUT_3', 'OIN']].to_csv(chip_input_map_file, sep ='\\t', index=False)"
   ]
  },
  {
   "cell_type": "code",
   "execution_count": 29,
   "metadata": {},
   "outputs": [
    {
     "data": {
      "text/html": [
       "<div>\n",
       "<style scoped>\n",
       "    .dataframe tbody tr th:only-of-type {\n",
       "        vertical-align: middle;\n",
       "    }\n",
       "\n",
       "    .dataframe tbody tr th {\n",
       "        vertical-align: top;\n",
       "    }\n",
       "\n",
       "    .dataframe thead th {\n",
       "        text-align: right;\n",
       "    }\n",
       "</style>\n",
       "<table border=\"1\" class=\"dataframe\">\n",
       "  <thead>\n",
       "    <tr style=\"text-align: right;\">\n",
       "      <th></th>\n",
       "      <th>sample_id</th>\n",
       "      <th>pipeline_type</th>\n",
       "      <th>seq_category</th>\n",
       "      <th>INPUT_1</th>\n",
       "      <th>INPUT_2</th>\n",
       "      <th>INPUT_3</th>\n",
       "      <th>OIN</th>\n",
       "    </tr>\n",
       "  </thead>\n",
       "  <tbody>\n",
       "    <tr>\n",
       "      <th>137</th>\n",
       "      <td>WT_H3K9me2_1</td>\n",
       "      <td>ChIP</td>\n",
       "      <td>H3K9me2</td>\n",
       "      <td>WT_S2-ChIP-INPUT_1</td>\n",
       "      <td>NaN</td>\n",
       "      <td>NaN</td>\n",
       "      <td>NaN</td>\n",
       "    </tr>\n",
       "    <tr>\n",
       "      <th>138</th>\n",
       "      <td>301_H3K9me2_1</td>\n",
       "      <td>ChIP</td>\n",
       "      <td>H3K9me2</td>\n",
       "      <td>301_S2-ChIP-INPUT_1</td>\n",
       "      <td>NaN</td>\n",
       "      <td>NaN</td>\n",
       "      <td>NaN</td>\n",
       "    </tr>\n",
       "    <tr>\n",
       "      <th>139</th>\n",
       "      <td>302_H3K9me2_1</td>\n",
       "      <td>ChIP</td>\n",
       "      <td>H3K9me2</td>\n",
       "      <td>302_S2-ChIP-INPUT_1</td>\n",
       "      <td>NaN</td>\n",
       "      <td>NaN</td>\n",
       "      <td>NaN</td>\n",
       "    </tr>\n",
       "    <tr>\n",
       "      <th>140</th>\n",
       "      <td>324_H3K9me2_1</td>\n",
       "      <td>ChIP</td>\n",
       "      <td>H3K9me2</td>\n",
       "      <td>324_S2-ChIP-INPUT_1</td>\n",
       "      <td>NaN</td>\n",
       "      <td>NaN</td>\n",
       "      <td>NaN</td>\n",
       "    </tr>\n",
       "    <tr>\n",
       "      <th>141</th>\n",
       "      <td>491_H3K9me2_1</td>\n",
       "      <td>ChIP</td>\n",
       "      <td>H3K9me2</td>\n",
       "      <td>491_S2-ChIP-INPUT_1</td>\n",
       "      <td>NaN</td>\n",
       "      <td>NaN</td>\n",
       "      <td>NaN</td>\n",
       "    </tr>\n",
       "    <tr>\n",
       "      <th>142</th>\n",
       "      <td>504_H3K9me2_1</td>\n",
       "      <td>ChIP</td>\n",
       "      <td>H3K9me2</td>\n",
       "      <td>504_S2-ChIP-INPUT_1</td>\n",
       "      <td>NaN</td>\n",
       "      <td>NaN</td>\n",
       "      <td>NaN</td>\n",
       "    </tr>\n",
       "    <tr>\n",
       "      <th>143</th>\n",
       "      <td>510_H3K9me2_1</td>\n",
       "      <td>ChIP</td>\n",
       "      <td>H3K9me2</td>\n",
       "      <td>510_S2-ChIP-INPUT_1</td>\n",
       "      <td>NaN</td>\n",
       "      <td>NaN</td>\n",
       "      <td>NaN</td>\n",
       "    </tr>\n",
       "    <tr>\n",
       "      <th>144</th>\n",
       "      <td>530_H3K9me2_1</td>\n",
       "      <td>ChIP</td>\n",
       "      <td>H3K9me2</td>\n",
       "      <td>530_S2-ChIP-INPUT_1</td>\n",
       "      <td>NaN</td>\n",
       "      <td>NaN</td>\n",
       "      <td>NaN</td>\n",
       "    </tr>\n",
       "    <tr>\n",
       "      <th>145</th>\n",
       "      <td>638_H3K9me2_1</td>\n",
       "      <td>ChIP</td>\n",
       "      <td>H3K9me2</td>\n",
       "      <td>638_S2-ChIP-INPUT_1</td>\n",
       "      <td>NaN</td>\n",
       "      <td>NaN</td>\n",
       "      <td>NaN</td>\n",
       "    </tr>\n",
       "  </tbody>\n",
       "</table>\n",
       "</div>"
      ],
      "text/plain": [
       "         sample_id pipeline_type seq_category              INPUT_1 INPUT_2  \\\n",
       "137   WT_H3K9me2_1          ChIP      H3K9me2   WT_S2-ChIP-INPUT_1     NaN   \n",
       "138  301_H3K9me2_1          ChIP      H3K9me2  301_S2-ChIP-INPUT_1     NaN   \n",
       "139  302_H3K9me2_1          ChIP      H3K9me2  302_S2-ChIP-INPUT_1     NaN   \n",
       "140  324_H3K9me2_1          ChIP      H3K9me2  324_S2-ChIP-INPUT_1     NaN   \n",
       "141  491_H3K9me2_1          ChIP      H3K9me2  491_S2-ChIP-INPUT_1     NaN   \n",
       "142  504_H3K9me2_1          ChIP      H3K9me2  504_S2-ChIP-INPUT_1     NaN   \n",
       "143  510_H3K9me2_1          ChIP      H3K9me2  510_S2-ChIP-INPUT_1     NaN   \n",
       "144  530_H3K9me2_1          ChIP      H3K9me2  530_S2-ChIP-INPUT_1     NaN   \n",
       "145  638_H3K9me2_1          ChIP      H3K9me2  638_S2-ChIP-INPUT_1     NaN   \n",
       "\n",
       "    INPUT_3  OIN  \n",
       "137     NaN  NaN  \n",
       "138     NaN  NaN  \n",
       "139     NaN  NaN  \n",
       "140     NaN  NaN  \n",
       "141     NaN  NaN  \n",
       "142     NaN  NaN  \n",
       "143     NaN  NaN  \n",
       "144     NaN  NaN  \n",
       "145     NaN  NaN  "
      ]
     },
     "execution_count": 29,
     "metadata": {},
     "output_type": "execute_result"
    }
   ],
   "source": [
    "chip_input_map[chip_input_map['sample_id'].str.contains('H3K9me2')]"
   ]
  },
  {
   "cell_type": "markdown",
   "metadata": {},
   "source": [
    "# Delete `'valid_samples' = False`"
   ]
  },
  {
   "cell_type": "code",
   "execution_count": 30,
   "metadata": {},
   "outputs": [],
   "source": [
    "#raw_files_annotation_file = os.path.join(data_dir, 'file_annotation.csv')\n",
    "#raw_files_df = pd.read_csv(raw_files_annotation_file, sep=\"\\t\")\n",
    "#raw_files_df"
   ]
  },
  {
   "cell_type": "code",
   "execution_count": 31,
   "metadata": {},
   "outputs": [],
   "source": [
    "#not_valid_samples = set(raw_files_df['sample_id']).symmetric_difference(all_samples_df['sample_id'])\n",
    "#not_valid_samples"
   ]
  }
 ],
 "metadata": {
  "kernelspec": {
   "display_name": "Python (heterochromatin)",
   "language": "python",
   "name": "heterochromatin"
  },
  "language_info": {
   "codemirror_mode": {
    "name": "ipython",
    "version": 3
   },
   "file_extension": ".py",
   "mimetype": "text/x-python",
   "name": "python",
   "nbconvert_exporter": "python",
   "pygments_lexer": "ipython3",
   "version": "3.6.7"
  }
 },
 "nbformat": 4,
 "nbformat_minor": 4
}
