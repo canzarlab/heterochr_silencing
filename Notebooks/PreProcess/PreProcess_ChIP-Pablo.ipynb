{
 "cells": [
  {
   "cell_type": "code",
   "execution_count": 1,
   "metadata": {},
   "outputs": [],
   "source": [
    "import pandas as pd"
   ]
  },
  {
   "cell_type": "code",
   "execution_count": 2,
   "metadata": {},
   "outputs": [],
   "source": [
    "import os"
   ]
  },
  {
   "cell_type": "code",
   "execution_count": 3,
   "metadata": {},
   "outputs": [],
   "source": [
    "import sys"
   ]
  },
  {
   "cell_type": "code",
   "execution_count": 4,
   "metadata": {},
   "outputs": [],
   "source": [
    "pd.options.mode.chained_assignment = None"
   ]
  },
  {
   "cell_type": "markdown",
   "metadata": {},
   "source": [
    "---------------------------"
   ]
  },
  {
   "cell_type": "code",
   "execution_count": 5,
   "metadata": {},
   "outputs": [],
   "source": [
    "env = sys.base_prefix\n",
    "env_bin = os.path.join(env, 'bin')"
   ]
  },
  {
   "cell_type": "code",
   "execution_count": 6,
   "metadata": {},
   "outputs": [],
   "source": [
    "python = sys.executable"
   ]
  },
  {
   "cell_type": "code",
   "execution_count": 7,
   "metadata": {},
   "outputs": [],
   "source": [
    "bioawk = os.path.join(env_bin, \"bioawk\")\n",
    "#bioawk"
   ]
  },
  {
   "cell_type": "markdown",
   "metadata": {},
   "source": [
    "---------------------------"
   ]
  },
  {
   "cell_type": "code",
   "execution_count": 8,
   "metadata": {},
   "outputs": [],
   "source": [
    "#project_data_dir = '/data/pablo/RNAdeg' # algbio /data\n",
    "project_data_dir = '/gcm-lfs1/pablo/data/RNAdeg' # algbio /gcm-lfs1"
   ]
  },
  {
   "cell_type": "code",
   "execution_count": 9,
   "metadata": {},
   "outputs": [],
   "source": [
    "project_dir = '/home/pmonteagudo/workspace/RNAdeg'"
   ]
  },
  {
   "cell_type": "code",
   "execution_count": 10,
   "metadata": {},
   "outputs": [],
   "source": [
    "data_batch = 'ChIP'"
   ]
  },
  {
   "cell_type": "markdown",
   "metadata": {},
   "source": [
    "---------------------------"
   ]
  },
  {
   "cell_type": "code",
   "execution_count": 11,
   "metadata": {},
   "outputs": [],
   "source": [
    "#source_dir = '/data/parastou/RNAdeg/data/AllChIP/'\n",
    "#source_dir = os.path.join(project_data_dir, 'data/ChIP')\n",
    "#source_dir = os.path.join(project_data_dir, 'data/sequencing_new/ChIP')\n",
    "source_dir = os.path.join(project_data_dir, 'data', data_batch)"
   ]
  },
  {
   "cell_type": "code",
   "execution_count": 12,
   "metadata": {},
   "outputs": [],
   "source": [
    "#out_dir = '/data/parastou/RNAdeg/results/RipChip/'\n",
    "#out_dir = os.path.join(project_data_dir, 'results/ChIP')\n",
    "#out_dir = os.path.join(project_data_dir, 'results/sequencing_new/ChIP')\n",
    "out_dir = os.path.join(project_data_dir, 'data', data_batch)"
   ]
  },
  {
   "cell_type": "markdown",
   "metadata": {},
   "source": [
    "--------------"
   ]
  },
  {
   "cell_type": "markdown",
   "metadata": {},
   "source": [
    "## Workflow"
   ]
  },
  {
   "cell_type": "markdown",
   "metadata": {},
   "source": [
    "- Unzip fastq files.\n",
    "- Truncate 0-length reads from fastq files (optional).\n",
    "- Run STAR aligner.\n",
    "- Index .bam files.\n",
    "- Calculate and save gene counts table for all given samples from .bam files.\n",
    "- TPM-normalize gene counts table and save."
   ]
  },
  {
   "cell_type": "markdown",
   "metadata": {},
   "source": [
    "---------"
   ]
  },
  {
   "cell_type": "markdown",
   "metadata": {},
   "source": [
    "### Samples that want to be excluded from the analysis!"
   ]
  },
  {
   "cell_type": "code",
   "execution_count": 13,
   "metadata": {},
   "outputs": [],
   "source": [
    "ignore_files = () ## need to be str or a tuple of str, not list."
   ]
  },
  {
   "cell_type": "markdown",
   "metadata": {},
   "source": [
    "---------"
   ]
  },
  {
   "cell_type": "markdown",
   "metadata": {},
   "source": [
    "### __1__ - Prepare output folders"
   ]
  },
  {
   "cell_type": "code",
   "execution_count": 14,
   "metadata": {},
   "outputs": [],
   "source": [
    "raw_dir = os.path.join(source_dir, 'raw_data')\n",
    "fastq_dir = os.path.join(source_dir, 'fastq')"
   ]
  },
  {
   "cell_type": "code",
   "execution_count": 15,
   "metadata": {},
   "outputs": [],
   "source": [
    "if not os.path.isdir(fastq_dir):    \n",
    "    !mkdir -p $fastq_dir"
   ]
  },
  {
   "cell_type": "code",
   "execution_count": 16,
   "metadata": {},
   "outputs": [],
   "source": [
    "out_bam = os.path.join(out_dir, 'bams')\n",
    "xp_data = os.path.join(out_dir, 'xp_data')"
   ]
  },
  {
   "cell_type": "code",
   "execution_count": 17,
   "metadata": {},
   "outputs": [],
   "source": [
    "if not os.path.isdir(out_bam):    \n",
    "    !mkdir -p $out_bam"
   ]
  },
  {
   "cell_type": "code",
   "execution_count": 18,
   "metadata": {},
   "outputs": [],
   "source": [
    "if not os.path.isdir(xp_data):    \n",
    "    !mkdir -p $xp_data"
   ]
  },
  {
   "cell_type": "markdown",
   "metadata": {},
   "source": [
    "-----------------------"
   ]
  },
  {
   "cell_type": "markdown",
   "metadata": {},
   "source": [
    "### __2__ - Unzip fastq files."
   ]
  },
  {
   "cell_type": "markdown",
   "metadata": {},
   "source": [
    "Unzip files in the raw_data folder which contains all compressed files and move the uncompressed .fastq files to the fastq folder."
   ]
  },
  {
   "cell_type": "code",
   "execution_count": 19,
   "metadata": {},
   "outputs": [],
   "source": [
    "#os.listdir(raw_dir)"
   ]
  },
  {
   "cell_type": "code",
   "execution_count": 20,
   "metadata": {},
   "outputs": [],
   "source": [
    "for filename in os.listdir(raw_dir):\n",
    "    \n",
    "    #if filename.endswith('.bz2'):\n",
    "    if filename.endswith('.bz2') and not filename.startswith(ignore_files):\n",
    "        \n",
    "        ## compressed file\n",
    "        raw_file = os.path.join(raw_dir, filename)\n",
    "        \n",
    "        ## final .fastq file in /fastq Directory\n",
    "        fastq_file = os.path.join(fastq_dir, os.path.splitext(filename)[0])\n",
    "\n",
    "        ## check if it's has been uncompressed already\n",
    "        if not os.path.isfile(os.path.join(fastq_dir, fastq_file)):\n",
    "\n",
    "            print('Decompressing file (may take a while) ...\\n')\n",
    "            !bzip2 -kdv $raw_file\n",
    "            print('\\nDone.\\n')\n",
    "\n",
    "            fastq_file = os.path.splitext(raw_file)[0]\n",
    "            ## move uncompressed .fastq file to /fastq dir\n",
    "            !mv $fastq_file $fastq_dir\n",
    "\n",
    "        else:\n",
    "            pass\n",
    "            "
   ]
  },
  {
   "cell_type": "markdown",
   "metadata": {},
   "source": [
    "### Optional step: remove truncated reads from fastq files."
   ]
  },
  {
   "cell_type": "code",
   "execution_count": 21,
   "metadata": {},
   "outputs": [],
   "source": [
    "#for filename in os.listdir(fastq_dir):\n",
    "#    #if filename.endswith('.fastq'):\n",
    "#    if filename.endswith('.fastq') and not filename.startswith(ignore_files)\n",
    "#        \n",
    "#        filepath = os.path.join(fastq_dir, filename)\n",
    "#        outfilepath = os.path.join(fastq_dir, filename.split('.fastq')[0] + '.ztr.fastq')\n",
    "#        print(filepath, '...')\n",
    "#        print(outfilepath, '...\\n')\n",
    "#\n",
    "#        !echo $outfilepath\n",
    "#        #!bioawk -cfastx 'length($seq) > 0 {print \"@\"$name\"\\n\"$seq\"\\n+\\n\"$qual} $filepath  >> $outfilepath'\n",
    "#        !$bioawk -cfastx 'length($seq) > 0 {print \"@\"$name\"\\n\"$seq\"\\n+\\n\"$qual} $filepath  >> $outfilepath'\n",
    "#        ## carefull this will delete all input files!!\n",
    "#        !rm $filepath"
   ]
  },
  {
   "cell_type": "markdown",
   "metadata": {},
   "source": [
    "### __3__ - Align fastq files"
   ]
  },
  {
   "cell_type": "code",
   "execution_count": 22,
   "metadata": {},
   "outputs": [],
   "source": [
    "# Set STAR runtime parameters.\n",
    "def star_command(filename):\n",
    "    \n",
    "    #star = '/home/parastou/star_2.5.1b'\n",
    "    #star = '/home/pmonteagudo/Software/STAR/bin/Linux_x86_64/STAR' ## STAR_2.6.0a\n",
    "    star = 'STAR' ## STAR_2.5.4b\n",
    "    n_threads = 4\n",
    "    \n",
    "    #genome_dir = '/data/parastou/RNAdeg/genomes/spombe/star_nogtf_idx/'\n",
    "    genome_dir = os.path.join(project_data_dir, 'genomes/spombe/star_nogtf_idx')\n",
    "    \n",
    "    ## reads to align\n",
    "    fastq_file = os.path.join(fastq_dir, filename)\n",
    "    \n",
    "    sample_prefix =  os.path.splitext(filename)[0]\n",
    "    bam_dir = os.path.join(out_bam, sample_prefix)\n",
    "    if not os.path.isdir(bam_dir):\n",
    "        !mkdir -p $bam_dir\n",
    "        \n",
    "    ## create bam file inside individual folder for each sample\n",
    "    bam_prefix = os.path.join(bam_dir, sample_prefix + '.')\n",
    "    \n",
    "    ## different with RNAseq (no splicing): --alignIntronMax 1 --alignEndsType EndToEnd\n",
    "    command = star + ' --runThreadN ' + str(n_threads) + ' --genomeDir ' + genome_dir + ' --readFilesIn ' \\\n",
    "    + fastq_file + ' --outFileNamePrefix ' + bam_prefix + ' --outSAMtype BAM SortedByCoordinate --alignIntronMax 1 --alignEndsType EndToEnd'\n",
    "        \n",
    "    return command"
   ]
  },
  {
   "cell_type": "markdown",
   "metadata": {},
   "source": [
    "- __Run STAR__\n"
   ]
  },
  {
   "cell_type": "code",
   "execution_count": 23,
   "metadata": {},
   "outputs": [],
   "source": [
    "list_fastq = os.listdir(fastq_dir)\n",
    "#list_fastq = [list_fastq[0]]"
   ]
  },
  {
   "cell_type": "code",
   "execution_count": 24,
   "metadata": {
    "scrolled": true
   },
   "outputs": [
    {
     "name": "stdout",
     "output_type": "stream",
     "text": [
      "\n",
      "(1/30). Aligning (reads) .fastq files: 1168_S2ChIP.fastq ...  \n",
      "\n",
      "STAR --runThreadN 4 --genomeDir /gcm-lfs1/pablo/data/RNAdeg/genomes/spombe/star_nogtf_idx --readFilesIn /gcm-lfs1/pablo/data/RNAdeg/data/ChIP/fastq/1168_S2ChIP.fastq --outFileNamePrefix /gcm-lfs1/pablo/data/RNAdeg/data/ChIP/bams/1168_S2ChIP/1168_S2ChIP. --outSAMtype BAM SortedByCoordinate --alignIntronMax 1 --alignEndsType EndToEnd\n",
      "Dec 05 15:46:29 ..... started STAR run\n",
      "Dec 05 15:46:29 ..... loading genome\n",
      "Dec 05 15:46:30 ..... started mapping\n",
      "Dec 05 15:47:15 ..... started sorting BAM\n",
      "Dec 05 15:47:18 ..... finished successfully\n",
      "Done.\n",
      "\n",
      "\n",
      "(2/30). Aligning (reads) .fastq files: 301_S2_ChIP.fastq ...  \n",
      "\n",
      "STAR --runThreadN 4 --genomeDir /gcm-lfs1/pablo/data/RNAdeg/genomes/spombe/star_nogtf_idx --readFilesIn /gcm-lfs1/pablo/data/RNAdeg/data/ChIP/fastq/301_S2_ChIP.fastq --outFileNamePrefix /gcm-lfs1/pablo/data/RNAdeg/data/ChIP/bams/301_S2_ChIP/301_S2_ChIP. --outSAMtype BAM SortedByCoordinate --alignIntronMax 1 --alignEndsType EndToEnd\n",
      "Dec 05 15:47:18 ..... started STAR run\n",
      "Dec 05 15:47:18 ..... loading genome\n",
      "Dec 05 15:47:19 ..... started mapping\n",
      "Dec 05 15:48:18 ..... started sorting BAM\n",
      "Dec 05 15:48:23 ..... finished successfully\n",
      "Done.\n",
      "\n",
      "\n",
      "(3/30). Aligning (reads) .fastq files: 301_S2ChIP.fastq ...  \n",
      "\n",
      "STAR --runThreadN 4 --genomeDir /gcm-lfs1/pablo/data/RNAdeg/genomes/spombe/star_nogtf_idx --readFilesIn /gcm-lfs1/pablo/data/RNAdeg/data/ChIP/fastq/301_S2ChIP.fastq --outFileNamePrefix /gcm-lfs1/pablo/data/RNAdeg/data/ChIP/bams/301_S2ChIP/301_S2ChIP. --outSAMtype BAM SortedByCoordinate --alignIntronMax 1 --alignEndsType EndToEnd\n",
      "Dec 05 15:48:23 ..... started STAR run\n",
      "Dec 05 15:48:23 ..... loading genome\n",
      "Dec 05 15:48:24 ..... started mapping\n",
      "Dec 05 15:49:54 ..... started sorting BAM\n",
      "Dec 05 15:49:58 ..... finished successfully\n",
      "Done.\n",
      "\n",
      "\n",
      "(4/30). Aligning (reads) .fastq files: 302_S2_ChIP.fastq ...  \n",
      "\n",
      "STAR --runThreadN 4 --genomeDir /gcm-lfs1/pablo/data/RNAdeg/genomes/spombe/star_nogtf_idx --readFilesIn /gcm-lfs1/pablo/data/RNAdeg/data/ChIP/fastq/302_S2_ChIP.fastq --outFileNamePrefix /gcm-lfs1/pablo/data/RNAdeg/data/ChIP/bams/302_S2_ChIP/302_S2_ChIP. --outSAMtype BAM SortedByCoordinate --alignIntronMax 1 --alignEndsType EndToEnd\n",
      "Dec 05 15:49:59 ..... started STAR run\n",
      "Dec 05 15:49:59 ..... loading genome\n",
      "Dec 05 15:50:00 ..... started mapping\n",
      "Dec 05 15:51:07 ..... started sorting BAM\n",
      "Dec 05 15:51:12 ..... finished successfully\n",
      "Done.\n",
      "\n",
      "\n",
      "(5/30). Aligning (reads) .fastq files: 302_S2ChIP.fastq ...  \n",
      "\n",
      "STAR --runThreadN 4 --genomeDir /gcm-lfs1/pablo/data/RNAdeg/genomes/spombe/star_nogtf_idx --readFilesIn /gcm-lfs1/pablo/data/RNAdeg/data/ChIP/fastq/302_S2ChIP.fastq --outFileNamePrefix /gcm-lfs1/pablo/data/RNAdeg/data/ChIP/bams/302_S2ChIP/302_S2ChIP. --outSAMtype BAM SortedByCoordinate --alignIntronMax 1 --alignEndsType EndToEnd\n",
      "Dec 05 15:51:12 ..... started STAR run\n",
      "Dec 05 15:51:12 ..... loading genome\n",
      "Dec 05 15:51:13 ..... started mapping\n",
      "Dec 05 15:52:50 ..... started sorting BAM\n",
      "Dec 05 15:52:56 ..... finished successfully\n",
      "Done.\n",
      "\n",
      "\n",
      "(6/30). Aligning (reads) .fastq files: 324_S2_ChIP.fastq ...  \n",
      "\n",
      "STAR --runThreadN 4 --genomeDir /gcm-lfs1/pablo/data/RNAdeg/genomes/spombe/star_nogtf_idx --readFilesIn /gcm-lfs1/pablo/data/RNAdeg/data/ChIP/fastq/324_S2_ChIP.fastq --outFileNamePrefix /gcm-lfs1/pablo/data/RNAdeg/data/ChIP/bams/324_S2_ChIP/324_S2_ChIP. --outSAMtype BAM SortedByCoordinate --alignIntronMax 1 --alignEndsType EndToEnd\n",
      "Dec 05 15:52:56 ..... started STAR run\n",
      "Dec 05 15:52:56 ..... loading genome\n",
      "Dec 05 15:52:57 ..... started mapping\n",
      "Dec 05 15:53:39 ..... started sorting BAM\n",
      "Dec 05 15:53:44 ..... finished successfully\n",
      "Done.\n",
      "\n",
      "\n",
      "(7/30). Aligning (reads) .fastq files: 324_S2ChIP.fastq ...  \n",
      "\n",
      "STAR --runThreadN 4 --genomeDir /gcm-lfs1/pablo/data/RNAdeg/genomes/spombe/star_nogtf_idx --readFilesIn /gcm-lfs1/pablo/data/RNAdeg/data/ChIP/fastq/324_S2ChIP.fastq --outFileNamePrefix /gcm-lfs1/pablo/data/RNAdeg/data/ChIP/bams/324_S2ChIP/324_S2ChIP. --outSAMtype BAM SortedByCoordinate --alignIntronMax 1 --alignEndsType EndToEnd\n",
      "Dec 05 15:53:44 ..... started STAR run\n",
      "Dec 05 15:53:44 ..... loading genome\n",
      "Dec 05 15:53:45 ..... started mapping\n",
      "Dec 05 15:55:15 ..... started sorting BAM\n",
      "Dec 05 15:55:21 ..... finished successfully\n",
      "Done.\n",
      "\n",
      "\n",
      "(8/30). Aligning (reads) .fastq files: 491_S2_ChIP.fastq ...  \n",
      "\n",
      "STAR --runThreadN 4 --genomeDir /gcm-lfs1/pablo/data/RNAdeg/genomes/spombe/star_nogtf_idx --readFilesIn /gcm-lfs1/pablo/data/RNAdeg/data/ChIP/fastq/491_S2_ChIP.fastq --outFileNamePrefix /gcm-lfs1/pablo/data/RNAdeg/data/ChIP/bams/491_S2_ChIP/491_S2_ChIP. --outSAMtype BAM SortedByCoordinate --alignIntronMax 1 --alignEndsType EndToEnd\n",
      "Dec 05 15:55:22 ..... started STAR run\n",
      "Dec 05 15:55:22 ..... loading genome\n",
      "Dec 05 15:55:23 ..... started mapping\n",
      "Dec 05 15:56:20 ..... started sorting BAM\n",
      "Dec 05 15:56:24 ..... finished successfully\n",
      "Done.\n",
      "\n",
      "\n",
      "(9/30). Aligning (reads) .fastq files: 491_S2ChIP.fastq ...  \n",
      "\n",
      "STAR --runThreadN 4 --genomeDir /gcm-lfs1/pablo/data/RNAdeg/genomes/spombe/star_nogtf_idx --readFilesIn /gcm-lfs1/pablo/data/RNAdeg/data/ChIP/fastq/491_S2ChIP.fastq --outFileNamePrefix /gcm-lfs1/pablo/data/RNAdeg/data/ChIP/bams/491_S2ChIP/491_S2ChIP. --outSAMtype BAM SortedByCoordinate --alignIntronMax 1 --alignEndsType EndToEnd\n",
      "Dec 05 15:56:25 ..... started STAR run\n",
      "Dec 05 15:56:25 ..... loading genome\n",
      "Dec 05 15:56:26 ..... started mapping\n",
      "Dec 05 15:57:54 ..... started sorting BAM\n",
      "Dec 05 15:58:00 ..... finished successfully\n",
      "Done.\n",
      "\n",
      "\n",
      "(10/30). Aligning (reads) .fastq files: 504S2ChIP_1.fastq ...  \n",
      "\n",
      "STAR --runThreadN 4 --genomeDir /gcm-lfs1/pablo/data/RNAdeg/genomes/spombe/star_nogtf_idx --readFilesIn /gcm-lfs1/pablo/data/RNAdeg/data/ChIP/fastq/504S2ChIP_1.fastq --outFileNamePrefix /gcm-lfs1/pablo/data/RNAdeg/data/ChIP/bams/504S2ChIP_1/504S2ChIP_1. --outSAMtype BAM SortedByCoordinate --alignIntronMax 1 --alignEndsType EndToEnd\n",
      "Dec 05 15:58:01 ..... started STAR run\n",
      "Dec 05 15:58:01 ..... loading genome\n",
      "Dec 05 15:58:02 ..... started mapping\n",
      "Dec 05 15:58:59 ..... started sorting BAM\n",
      "Dec 05 15:59:03 ..... finished successfully\n",
      "Done.\n",
      "\n",
      "\n",
      "(11/30). Aligning (reads) .fastq files: 504S2ChIP_2.fastq ...  \n",
      "\n",
      "STAR --runThreadN 4 --genomeDir /gcm-lfs1/pablo/data/RNAdeg/genomes/spombe/star_nogtf_idx --readFilesIn /gcm-lfs1/pablo/data/RNAdeg/data/ChIP/fastq/504S2ChIP_2.fastq --outFileNamePrefix /gcm-lfs1/pablo/data/RNAdeg/data/ChIP/bams/504S2ChIP_2/504S2ChIP_2. --outSAMtype BAM SortedByCoordinate --alignIntronMax 1 --alignEndsType EndToEnd\n",
      "Dec 05 15:59:04 ..... started STAR run\n",
      "Dec 05 15:59:04 ..... loading genome\n",
      "Dec 05 15:59:05 ..... started mapping\n",
      "Dec 05 16:00:03 ..... started sorting BAM\n",
      "Dec 05 16:00:08 ..... finished successfully\n",
      "Done.\n",
      "\n",
      "\n",
      "(12/30). Aligning (reads) .fastq files: 530ChIP_1.fastq ...  \n",
      "\n",
      "STAR --runThreadN 4 --genomeDir /gcm-lfs1/pablo/data/RNAdeg/genomes/spombe/star_nogtf_idx --readFilesIn /gcm-lfs1/pablo/data/RNAdeg/data/ChIP/fastq/530ChIP_1.fastq --outFileNamePrefix /gcm-lfs1/pablo/data/RNAdeg/data/ChIP/bams/530ChIP_1/530ChIP_1. --outSAMtype BAM SortedByCoordinate --alignIntronMax 1 --alignEndsType EndToEnd\n",
      "Dec 05 16:00:08 ..... started STAR run\n",
      "Dec 05 16:00:08 ..... loading genome\n",
      "Dec 05 16:00:09 ..... started mapping\n",
      "Dec 05 16:01:18 ..... started sorting BAM\n",
      "Dec 05 16:01:24 ..... finished successfully\n",
      "Done.\n",
      "\n",
      "\n",
      "(13/30). Aligning (reads) .fastq files: 530S2ChIP_2.fastq ...  \n",
      "\n",
      "STAR --runThreadN 4 --genomeDir /gcm-lfs1/pablo/data/RNAdeg/genomes/spombe/star_nogtf_idx --readFilesIn /gcm-lfs1/pablo/data/RNAdeg/data/ChIP/fastq/530S2ChIP_2.fastq --outFileNamePrefix /gcm-lfs1/pablo/data/RNAdeg/data/ChIP/bams/530S2ChIP_2/530S2ChIP_2. --outSAMtype BAM SortedByCoordinate --alignIntronMax 1 --alignEndsType EndToEnd\n",
      "Dec 05 16:01:25 ..... started STAR run\n",
      "Dec 05 16:01:25 ..... loading genome\n",
      "Dec 05 16:01:26 ..... started mapping\n",
      "Dec 05 16:02:29 ..... started sorting BAM\n",
      "Dec 05 16:02:33 ..... finished successfully\n",
      "Done.\n",
      "\n",
      "\n",
      "(14/30). Aligning (reads) .fastq files: 591_S2PChIP.fastq ...  \n",
      "\n",
      "STAR --runThreadN 4 --genomeDir /gcm-lfs1/pablo/data/RNAdeg/genomes/spombe/star_nogtf_idx --readFilesIn /gcm-lfs1/pablo/data/RNAdeg/data/ChIP/fastq/591_S2PChIP.fastq --outFileNamePrefix /gcm-lfs1/pablo/data/RNAdeg/data/ChIP/bams/591_S2PChIP/591_S2PChIP. --outSAMtype BAM SortedByCoordinate --alignIntronMax 1 --alignEndsType EndToEnd\n",
      "Dec 05 16:02:33 ..... started STAR run\n",
      "Dec 05 16:02:33 ..... loading genome\n",
      "Dec 05 16:02:34 ..... started mapping\n",
      "Dec 05 16:03:52 ..... started sorting BAM\n",
      "Dec 05 16:04:00 ..... finished successfully\n",
      "Done.\n",
      "\n",
      "\n",
      "(15/30). Aligning (reads) .fastq files: 638ChIP_1.fastq ...  \n",
      "\n",
      "STAR --runThreadN 4 --genomeDir /gcm-lfs1/pablo/data/RNAdeg/genomes/spombe/star_nogtf_idx --readFilesIn /gcm-lfs1/pablo/data/RNAdeg/data/ChIP/fastq/638ChIP_1.fastq --outFileNamePrefix /gcm-lfs1/pablo/data/RNAdeg/data/ChIP/bams/638ChIP_1/638ChIP_1. --outSAMtype BAM SortedByCoordinate --alignIntronMax 1 --alignEndsType EndToEnd\n",
      "Dec 05 16:04:01 ..... started STAR run\n",
      "Dec 05 16:04:01 ..... loading genome\n",
      "Dec 05 16:04:02 ..... started mapping\n",
      "Dec 05 16:05:15 ..... started sorting BAM\n",
      "Dec 05 16:05:22 ..... finished successfully\n",
      "Done.\n",
      "\n",
      "\n",
      "(16/30). Aligning (reads) .fastq files: 638_S2_ChIP.fastq ...  \n",
      "\n",
      "STAR --runThreadN 4 --genomeDir /gcm-lfs1/pablo/data/RNAdeg/genomes/spombe/star_nogtf_idx --readFilesIn /gcm-lfs1/pablo/data/RNAdeg/data/ChIP/fastq/638_S2_ChIP.fastq --outFileNamePrefix /gcm-lfs1/pablo/data/RNAdeg/data/ChIP/bams/638_S2_ChIP/638_S2_ChIP. --outSAMtype BAM SortedByCoordinate --alignIntronMax 1 --alignEndsType EndToEnd\n",
      "Dec 05 16:05:23 ..... started STAR run\n",
      "Dec 05 16:05:23 ..... loading genome\n",
      "Dec 05 16:05:24 ..... started mapping\n",
      "Dec 05 16:06:51 ..... started sorting BAM\n",
      "Dec 05 16:06:56 ..... finished successfully\n",
      "Done.\n",
      "\n",
      "\n",
      "(17/30). Aligning (reads) .fastq files: 63_S2ChIP_2.ztr.fastq ...  \n",
      "\n",
      "STAR --runThreadN 4 --genomeDir /gcm-lfs1/pablo/data/RNAdeg/genomes/spombe/star_nogtf_idx --readFilesIn /gcm-lfs1/pablo/data/RNAdeg/data/ChIP/fastq/63_S2ChIP_2.ztr.fastq --outFileNamePrefix /gcm-lfs1/pablo/data/RNAdeg/data/ChIP/bams/63_S2ChIP_2.ztr/63_S2ChIP_2.ztr. --outSAMtype BAM SortedByCoordinate --alignIntronMax 1 --alignEndsType EndToEnd\n",
      "Dec 05 16:06:57 ..... started STAR run\n",
      "Dec 05 16:06:57 ..... loading genome\n",
      "Dec 05 16:06:58 ..... started mapping\n",
      "Dec 05 16:08:01 ..... started sorting BAM\n",
      "Dec 05 16:08:06 ..... finished successfully\n",
      "Done.\n",
      "\n",
      "\n",
      "(18/30). Aligning (reads) .fastq files: 63_S2ChIP.fastq ...  \n",
      "\n",
      "STAR --runThreadN 4 --genomeDir /gcm-lfs1/pablo/data/RNAdeg/genomes/spombe/star_nogtf_idx --readFilesIn /gcm-lfs1/pablo/data/RNAdeg/data/ChIP/fastq/63_S2ChIP.fastq --outFileNamePrefix /gcm-lfs1/pablo/data/RNAdeg/data/ChIP/bams/63_S2ChIP/63_S2ChIP. --outSAMtype BAM SortedByCoordinate --alignIntronMax 1 --alignEndsType EndToEnd\n",
      "Dec 05 16:08:07 ..... started STAR run\n",
      "Dec 05 16:08:07 ..... loading genome\n",
      "Dec 05 16:08:08 ..... started mapping\n",
      "Dec 05 16:09:12 ..... started sorting BAM\n",
      "Dec 05 16:09:17 ..... finished successfully\n",
      "Done.\n",
      "\n",
      "\n",
      "(19/30). Aligning (reads) .fastq files: 63_S2ChIPp.ztr.fastq ...  \n",
      "\n",
      "STAR --runThreadN 4 --genomeDir /gcm-lfs1/pablo/data/RNAdeg/genomes/spombe/star_nogtf_idx --readFilesIn /gcm-lfs1/pablo/data/RNAdeg/data/ChIP/fastq/63_S2ChIPp.ztr.fastq --outFileNamePrefix /gcm-lfs1/pablo/data/RNAdeg/data/ChIP/bams/63_S2ChIPp.ztr/63_S2ChIPp.ztr. --outSAMtype BAM SortedByCoordinate --alignIntronMax 1 --alignEndsType EndToEnd\n",
      "Dec 05 16:09:17 ..... started STAR run\n",
      "Dec 05 16:09:17 ..... loading genome\n",
      "Dec 05 16:09:18 ..... started mapping\n",
      "Dec 05 16:10:23 ..... started sorting BAM\n",
      "Dec 05 16:10:28 ..... finished successfully\n",
      "Done.\n",
      "\n",
      "\n",
      "(20/30). Aligning (reads) .fastq files: 65_S2ChIP.fastq ...  \n",
      "\n",
      "STAR --runThreadN 4 --genomeDir /gcm-lfs1/pablo/data/RNAdeg/genomes/spombe/star_nogtf_idx --readFilesIn /gcm-lfs1/pablo/data/RNAdeg/data/ChIP/fastq/65_S2ChIP.fastq --outFileNamePrefix /gcm-lfs1/pablo/data/RNAdeg/data/ChIP/bams/65_S2ChIP/65_S2ChIP. --outSAMtype BAM SortedByCoordinate --alignIntronMax 1 --alignEndsType EndToEnd\n",
      "Dec 05 16:10:29 ..... started STAR run\n",
      "Dec 05 16:10:29 ..... loading genome\n",
      "Dec 05 16:10:30 ..... started mapping\n",
      "Dec 05 16:12:04 ..... started sorting BAM\n",
      "Dec 05 16:12:10 ..... finished successfully\n",
      "Done.\n",
      "\n",
      "\n",
      "(21/30). Aligning (reads) .fastq files: 80S2ChIP_1.fastq ...  \n",
      "\n",
      "STAR --runThreadN 4 --genomeDir /gcm-lfs1/pablo/data/RNAdeg/genomes/spombe/star_nogtf_idx --readFilesIn /gcm-lfs1/pablo/data/RNAdeg/data/ChIP/fastq/80S2ChIP_1.fastq --outFileNamePrefix /gcm-lfs1/pablo/data/RNAdeg/data/ChIP/bams/80S2ChIP_1/80S2ChIP_1. --outSAMtype BAM SortedByCoordinate --alignIntronMax 1 --alignEndsType EndToEnd\n",
      "Dec 05 16:12:11 ..... started STAR run\n",
      "Dec 05 16:12:11 ..... loading genome\n",
      "Dec 05 16:12:12 ..... started mapping\n",
      "Dec 05 16:13:36 ..... started sorting BAM\n",
      "Dec 05 16:13:44 ..... finished successfully\n",
      "Done.\n",
      "\n",
      "\n",
      "(22/30). Aligning (reads) .fastq files: 80_S2ChIP_2.fastq ...  \n",
      "\n",
      "STAR --runThreadN 4 --genomeDir /gcm-lfs1/pablo/data/RNAdeg/genomes/spombe/star_nogtf_idx --readFilesIn /gcm-lfs1/pablo/data/RNAdeg/data/ChIP/fastq/80_S2ChIP_2.fastq --outFileNamePrefix /gcm-lfs1/pablo/data/RNAdeg/data/ChIP/bams/80_S2ChIP_2/80_S2ChIP_2. --outSAMtype BAM SortedByCoordinate --alignIntronMax 1 --alignEndsType EndToEnd\n",
      "Dec 05 16:13:45 ..... started STAR run\n",
      "Dec 05 16:13:45 ..... loading genome\n",
      "Dec 05 16:13:46 ..... started mapping\n",
      "Dec 05 16:15:05 ..... started sorting BAM\n",
      "Dec 05 16:15:12 ..... finished successfully\n",
      "Done.\n",
      "\n",
      "\n",
      "(23/30). Aligning (reads) .fastq files: 80_S2_ChIP.fastq ...  \n",
      "\n",
      "STAR --runThreadN 4 --genomeDir /gcm-lfs1/pablo/data/RNAdeg/genomes/spombe/star_nogtf_idx --readFilesIn /gcm-lfs1/pablo/data/RNAdeg/data/ChIP/fastq/80_S2_ChIP.fastq --outFileNamePrefix /gcm-lfs1/pablo/data/RNAdeg/data/ChIP/bams/80_S2_ChIP/80_S2_ChIP. --outSAMtype BAM SortedByCoordinate --alignIntronMax 1 --alignEndsType EndToEnd\n",
      "Dec 05 16:15:12 ..... started STAR run\n",
      "Dec 05 16:15:12 ..... loading genome\n",
      "Dec 05 16:15:13 ..... started mapping\n",
      "Dec 05 16:16:35 ..... started sorting BAM\n",
      "Dec 05 16:16:41 ..... finished successfully\n",
      "Done.\n",
      "\n",
      "\n",
      "(24/30). Aligning (reads) .fastq files: 80_S2ChIP.fastq ...  \n",
      "\n",
      "STAR --runThreadN 4 --genomeDir /gcm-lfs1/pablo/data/RNAdeg/genomes/spombe/star_nogtf_idx --readFilesIn /gcm-lfs1/pablo/data/RNAdeg/data/ChIP/fastq/80_S2ChIP.fastq --outFileNamePrefix /gcm-lfs1/pablo/data/RNAdeg/data/ChIP/bams/80_S2ChIP/80_S2ChIP. --outSAMtype BAM SortedByCoordinate --alignIntronMax 1 --alignEndsType EndToEnd\n",
      "Dec 05 16:16:42 ..... started STAR run\n",
      "Dec 05 16:16:42 ..... loading genome\n",
      "Dec 05 16:16:43 ..... started mapping\n",
      "Dec 05 16:18:10 ..... started sorting BAM\n",
      "Dec 05 16:18:16 ..... finished successfully\n",
      "Done.\n",
      "\n",
      "\n",
      "(25/30). Aligning (reads) .fastq files: 80_S2Ph_ChIP.fastq ...  \n",
      "\n",
      "STAR --runThreadN 4 --genomeDir /gcm-lfs1/pablo/data/RNAdeg/genomes/spombe/star_nogtf_idx --readFilesIn /gcm-lfs1/pablo/data/RNAdeg/data/ChIP/fastq/80_S2Ph_ChIP.fastq --outFileNamePrefix /gcm-lfs1/pablo/data/RNAdeg/data/ChIP/bams/80_S2Ph_ChIP/80_S2Ph_ChIP. --outSAMtype BAM SortedByCoordinate --alignIntronMax 1 --alignEndsType EndToEnd\n",
      "Dec 05 16:18:16 ..... started STAR run\n",
      "Dec 05 16:18:16 ..... loading genome\n",
      "Dec 05 16:18:17 ..... started mapping\n",
      "Dec 05 16:20:43 ..... started sorting BAM\n",
      "Dec 05 16:20:45 ..... finished successfully\n",
      "Done.\n",
      "\n",
      "\n",
      "(26/30). Aligning (reads) .fastq files: 1168_S2ChIP_1.fastq ...  \n",
      "\n",
      "STAR --runThreadN 4 --genomeDir /gcm-lfs1/pablo/data/RNAdeg/genomes/spombe/star_nogtf_idx --readFilesIn /gcm-lfs1/pablo/data/RNAdeg/data/ChIP/fastq/1168_S2ChIP_1.fastq --outFileNamePrefix /gcm-lfs1/pablo/data/RNAdeg/data/ChIP/bams/1168_S2ChIP_1/1168_S2ChIP_1. --outSAMtype BAM SortedByCoordinate --alignIntronMax 1 --alignEndsType EndToEnd\n",
      "Dec 05 16:20:45 ..... started STAR run\n",
      "Dec 05 16:20:45 ..... loading genome\n",
      "Dec 05 16:20:46 ..... started mapping\n",
      "Dec 05 16:23:01 ..... started sorting BAM\n",
      "Dec 05 16:23:12 ..... finished successfully\n",
      "Done.\n",
      "\n",
      "\n",
      "(27/30). Aligning (reads) .fastq files: 510_S2ChIP.fastq ...  \n",
      "\n",
      "STAR --runThreadN 4 --genomeDir /gcm-lfs1/pablo/data/RNAdeg/genomes/spombe/star_nogtf_idx --readFilesIn /gcm-lfs1/pablo/data/RNAdeg/data/ChIP/fastq/510_S2ChIP.fastq --outFileNamePrefix /gcm-lfs1/pablo/data/RNAdeg/data/ChIP/bams/510_S2ChIP/510_S2ChIP. --outSAMtype BAM SortedByCoordinate --alignIntronMax 1 --alignEndsType EndToEnd\n",
      "Dec 05 16:23:13 ..... started STAR run\n",
      "Dec 05 16:23:13 ..... loading genome\n",
      "Dec 05 16:23:14 ..... started mapping\n",
      "Dec 05 16:25:13 ..... started sorting BAM\n",
      "Dec 05 16:25:24 ..... finished successfully\n",
      "Done.\n",
      "\n"
     ]
    }
   ],
   "source": [
    "i=1\n",
    "for filename in list_fastq:\n",
    "    \n",
    "    #if filename.endswith(('.fastq', '.fastqsanger')):\n",
    "    if filename.endswith(('.fastq', '.fastqsanger')) and not filename.startswith(ignore_files):\n",
    "        \n",
    "        print(\"\\n({}/{}). Aligning (reads) .fastq files: {} ... \".format(i, len(list_fastq), filename), '\\n')\n",
    "        \n",
    "        command = star_command(filename)\n",
    "        print(command)\n",
    "        !$command\n",
    "        print(\"Done.\\n\")\n",
    "        \n",
    "        #import pdb\n",
    "        #pdb.set_trace()\n",
    "        \n",
    "    i+=1"
   ]
  },
  {
   "cell_type": "markdown",
   "metadata": {},
   "source": [
    "- __Index alignment files__"
   ]
  },
  {
   "cell_type": "code",
   "execution_count": 25,
   "metadata": {},
   "outputs": [],
   "source": [
    "list_bams = []\n",
    "\n",
    "## now samples '.bam' and '.sam' files are inside individual directories.\n",
    "for root, dirs, files in os.walk(out_bam, topdown=True):\n",
    "    for name in files:\n",
    "        \n",
    "        #if name.endswith('.bam') or name.endswith('.sam') and (not name.startswith(ignore_files)):\n",
    "        if (name.endswith('.Aligned.sortedByCoord.out.bam')) and (not name.startswith(ignore_files)):\n",
    "\n",
    "          #print(os.path.join(root, name))\n",
    "          list_bams.append(os.path.join(root, name))"
   ]
  },
  {
   "cell_type": "code",
   "execution_count": 26,
   "metadata": {},
   "outputs": [],
   "source": [
    "#list_bams"
   ]
  },
  {
   "cell_type": "code",
   "execution_count": 27,
   "metadata": {},
   "outputs": [
    {
     "name": "stdout",
     "output_type": "stream",
     "text": [
      "\n",
      "(1/27). Indexing (alignned reads) .bam files ...\n",
      " /gcm-lfs1/pablo/data/RNAdeg/data/ChIP/bams/1168_S2ChIP/1168_S2ChIP.Aligned.sortedByCoord.out.bam\n",
      " Done.\n",
      "\n",
      "\n",
      "(2/27). Indexing (alignned reads) .bam files ...\n",
      " /gcm-lfs1/pablo/data/RNAdeg/data/ChIP/bams/301_S2_ChIP/301_S2_ChIP.Aligned.sortedByCoord.out.bam\n",
      " Done.\n",
      "\n",
      "\n",
      "(3/27). Indexing (alignned reads) .bam files ...\n",
      " /gcm-lfs1/pablo/data/RNAdeg/data/ChIP/bams/301_S2ChIP/301_S2ChIP.Aligned.sortedByCoord.out.bam\n",
      " Done.\n",
      "\n",
      "\n",
      "(4/27). Indexing (alignned reads) .bam files ...\n",
      " /gcm-lfs1/pablo/data/RNAdeg/data/ChIP/bams/302_S2_ChIP/302_S2_ChIP.Aligned.sortedByCoord.out.bam\n",
      " Done.\n",
      "\n",
      "\n",
      "(5/27). Indexing (alignned reads) .bam files ...\n",
      " /gcm-lfs1/pablo/data/RNAdeg/data/ChIP/bams/302_S2ChIP/302_S2ChIP.Aligned.sortedByCoord.out.bam\n",
      " Done.\n",
      "\n",
      "\n",
      "(6/27). Indexing (alignned reads) .bam files ...\n",
      " /gcm-lfs1/pablo/data/RNAdeg/data/ChIP/bams/324_S2_ChIP/324_S2_ChIP.Aligned.sortedByCoord.out.bam\n",
      " Done.\n",
      "\n",
      "\n",
      "(7/27). Indexing (alignned reads) .bam files ...\n",
      " /gcm-lfs1/pablo/data/RNAdeg/data/ChIP/bams/324_S2ChIP/324_S2ChIP.Aligned.sortedByCoord.out.bam\n",
      " Done.\n",
      "\n",
      "\n",
      "(8/27). Indexing (alignned reads) .bam files ...\n",
      " /gcm-lfs1/pablo/data/RNAdeg/data/ChIP/bams/491_S2_ChIP/491_S2_ChIP.Aligned.sortedByCoord.out.bam\n",
      " Done.\n",
      "\n",
      "\n",
      "(9/27). Indexing (alignned reads) .bam files ...\n",
      " /gcm-lfs1/pablo/data/RNAdeg/data/ChIP/bams/491_S2ChIP/491_S2ChIP.Aligned.sortedByCoord.out.bam\n",
      " Done.\n",
      "\n",
      "\n",
      "(10/27). Indexing (alignned reads) .bam files ...\n",
      " /gcm-lfs1/pablo/data/RNAdeg/data/ChIP/bams/504S2ChIP_1/504S2ChIP_1.Aligned.sortedByCoord.out.bam\n",
      " Done.\n",
      "\n",
      "\n",
      "(11/27). Indexing (alignned reads) .bam files ...\n",
      " /gcm-lfs1/pablo/data/RNAdeg/data/ChIP/bams/504S2ChIP_2/504S2ChIP_2.Aligned.sortedByCoord.out.bam\n",
      " Done.\n",
      "\n",
      "\n",
      "(12/27). Indexing (alignned reads) .bam files ...\n",
      " /gcm-lfs1/pablo/data/RNAdeg/data/ChIP/bams/530ChIP_1/530ChIP_1.Aligned.sortedByCoord.out.bam\n",
      " Done.\n",
      "\n",
      "\n",
      "(13/27). Indexing (alignned reads) .bam files ...\n",
      " /gcm-lfs1/pablo/data/RNAdeg/data/ChIP/bams/530S2ChIP_2/530S2ChIP_2.Aligned.sortedByCoord.out.bam\n",
      " Done.\n",
      "\n",
      "\n",
      "(14/27). Indexing (alignned reads) .bam files ...\n",
      " /gcm-lfs1/pablo/data/RNAdeg/data/ChIP/bams/591_S2PChIP/591_S2PChIP.Aligned.sortedByCoord.out.bam\n",
      " Done.\n",
      "\n",
      "\n",
      "(15/27). Indexing (alignned reads) .bam files ...\n",
      " /gcm-lfs1/pablo/data/RNAdeg/data/ChIP/bams/638ChIP_1/638ChIP_1.Aligned.sortedByCoord.out.bam\n",
      " Done.\n",
      "\n",
      "\n",
      "(16/27). Indexing (alignned reads) .bam files ...\n",
      " /gcm-lfs1/pablo/data/RNAdeg/data/ChIP/bams/638_S2_ChIP/638_S2_ChIP.Aligned.sortedByCoord.out.bam\n",
      " Done.\n",
      "\n",
      "\n",
      "(17/27). Indexing (alignned reads) .bam files ...\n",
      " /gcm-lfs1/pablo/data/RNAdeg/data/ChIP/bams/63_S2ChIP_2.ztr/63_S2ChIP_2.ztr.Aligned.sortedByCoord.out.bam\n",
      " Done.\n",
      "\n",
      "\n",
      "(18/27). Indexing (alignned reads) .bam files ...\n",
      " /gcm-lfs1/pablo/data/RNAdeg/data/ChIP/bams/63_S2ChIP/63_S2ChIP.Aligned.sortedByCoord.out.bam\n",
      " Done.\n",
      "\n",
      "\n",
      "(19/27). Indexing (alignned reads) .bam files ...\n",
      " /gcm-lfs1/pablo/data/RNAdeg/data/ChIP/bams/63_S2ChIPp.ztr/63_S2ChIPp.ztr.Aligned.sortedByCoord.out.bam\n",
      " Done.\n",
      "\n",
      "\n",
      "(20/27). Indexing (alignned reads) .bam files ...\n",
      " /gcm-lfs1/pablo/data/RNAdeg/data/ChIP/bams/65_S2ChIP/65_S2ChIP.Aligned.sortedByCoord.out.bam\n",
      " Done.\n",
      "\n",
      "\n",
      "(21/27). Indexing (alignned reads) .bam files ...\n",
      " /gcm-lfs1/pablo/data/RNAdeg/data/ChIP/bams/80S2ChIP_1/80S2ChIP_1.Aligned.sortedByCoord.out.bam\n",
      " Done.\n",
      "\n",
      "\n",
      "(22/27). Indexing (alignned reads) .bam files ...\n",
      " /gcm-lfs1/pablo/data/RNAdeg/data/ChIP/bams/80_S2ChIP_2/80_S2ChIP_2.Aligned.sortedByCoord.out.bam\n",
      " Done.\n",
      "\n",
      "\n",
      "(23/27). Indexing (alignned reads) .bam files ...\n",
      " /gcm-lfs1/pablo/data/RNAdeg/data/ChIP/bams/80_S2_ChIP/80_S2_ChIP.Aligned.sortedByCoord.out.bam\n",
      " Done.\n",
      "\n",
      "\n",
      "(24/27). Indexing (alignned reads) .bam files ...\n",
      " /gcm-lfs1/pablo/data/RNAdeg/data/ChIP/bams/80_S2ChIP/80_S2ChIP.Aligned.sortedByCoord.out.bam\n",
      " Done.\n",
      "\n",
      "\n",
      "(25/27). Indexing (alignned reads) .bam files ...\n",
      " /gcm-lfs1/pablo/data/RNAdeg/data/ChIP/bams/80_S2Ph_ChIP/80_S2Ph_ChIP.Aligned.sortedByCoord.out.bam\n",
      " Done.\n",
      "\n",
      "\n",
      "(26/27). Indexing (alignned reads) .bam files ...\n",
      " /gcm-lfs1/pablo/data/RNAdeg/data/ChIP/bams/1168_S2ChIP_1/1168_S2ChIP_1.Aligned.sortedByCoord.out.bam\n",
      " Done.\n",
      "\n",
      "\n",
      "(27/27). Indexing (alignned reads) .bam files ...\n",
      " /gcm-lfs1/pablo/data/RNAdeg/data/ChIP/bams/510_S2ChIP/510_S2ChIP.Aligned.sortedByCoord.out.bam\n",
      " Done.\n",
      "\n"
     ]
    }
   ],
   "source": [
    "i=1\n",
    "for filename in list_bams:\n",
    "    \n",
    "    #if filename.endswith('.Aligned.sortedByCoord.out.bam'):\n",
    "    #if filename.endswith('.Aligned.sortedByCoord.out.bam') and not filename.startswith(ignore_files):\n",
    "\n",
    "    filepath = os.path.join(out_bam, filename)\n",
    "    print(\"\\n({}/{}). Indexing (alignned reads) .bam files ...\".format(i, len(list_bams)))\n",
    "    print(\" {}\".format(filepath))\n",
    "    \n",
    "    !samtools index $filepath\n",
    "    print(\" Done.\\n\")\n",
    "    \n",
    "    i+=1"
   ]
  },
  {
   "cell_type": "markdown",
   "metadata": {},
   "source": [
    "### __4__ - Compute raw and tpm-normalized gene count tables."
   ]
  },
  {
   "cell_type": "code",
   "execution_count": 28,
   "metadata": {},
   "outputs": [],
   "source": [
    "# Set GeneExpressionTable runtime parameters.\n",
    "def gxt_command():\n",
    "    \n",
    "    ## gene expression table\n",
    "    #gxt = '/data/parastou/RNAdeg/pyRNAdeg/GeneExpressionTableChIP.py'\n",
    "    #gxt = os.path.join(project_dir, 'pyRNAdeg/GeneExpressionTableChIP.py')\n",
    "    ## it's the same script as 'GeneExpressionTableChIP.py'\n",
    "    gxt = os.path.join(project_dir, 'pyRNAdeg/gene_expression_table.py')\n",
    "    #gxt = os.path.join(project_dir, 'pyRNAdeg/gene_expression_table_extended.py')\n",
    "\n",
    "    #annotation = '/data/parastou/RNAdeg/annotation/schizosaccharomyces_pombe.chr.extended.csv'\n",
    "    annotation =  os.path.join(project_data_dir, 'annotation/schizosaccharomyces_pombe.chr.extended.csv')\n",
    "    \n",
    "    ## this would use the default python executable not the current kernel/env\n",
    "    #command = 'python ' + gxt + ' -d ' + out_bam + ' -g ' + annotation + ' -o ' + xp_data + ' -x ' + 'chip_'\n",
    "    command = python + ' ' + gxt + ' -d ' + out_bam + ' -g ' + annotation + ' -o ' + xp_data + ' -x ' + 'chip_'\n",
    "    #command =  gxt + ' -d ' + out_bam + ' -g ' + annotation + ' -o ' + xp_data + ' -x ' + 'chip_'\n",
    "\n",
    "    return command"
   ]
  },
  {
   "cell_type": "code",
   "execution_count": 29,
   "metadata": {},
   "outputs": [],
   "source": [
    "# Run GeneExpressionTable - Problem: logging is not output\n",
    "#gxt = gxt_command()\n",
    "#%run $gxt"
   ]
  },
  {
   "cell_type": "code",
   "execution_count": 30,
   "metadata": {
    "scrolled": false
   },
   "outputs": [
    {
     "name": "stdout",
     "output_type": "stream",
     "text": [
      "Call to GeneExpressionTable module....\n",
      "\n",
      "This module calculates gene expression in given alignment file(s).\n",
      "Input: folder containing .bam file(s)\n",
      "Output: raw and tpm gene counts data (.csv) files\n",
      "----------------------------------------\n",
      "Input bam: /gcm-lfs1/pablo/data/RNAdeg/data/ChIP/bams/1168_S2ChIP/1168_S2ChIP.Aligned.sortedByCoord.out.bam\n",
      "Total number of alignments : 2785741\n",
      "Spliced alignments : 0\n",
      "Non spliced : 2785741\n",
      "Input bam: /gcm-lfs1/pablo/data/RNAdeg/data/ChIP/bams/301_S2_ChIP/301_S2_ChIP.Aligned.sortedByCoord.out.bam\n",
      "Total number of alignments : 5250369\n",
      "Spliced alignments : 0\n",
      "Non spliced : 5250369\n",
      "Input bam: /gcm-lfs1/pablo/data/RNAdeg/data/ChIP/bams/301_S2ChIP/301_S2ChIP.Aligned.sortedByCoord.out.bam\n",
      "Total number of alignments : 5413008\n",
      "Spliced alignments : 0\n",
      "Non spliced : 5413008\n",
      "Input bam: /gcm-lfs1/pablo/data/RNAdeg/data/ChIP/bams/302_S2_ChIP/302_S2_ChIP.Aligned.sortedByCoord.out.bam\n",
      "Total number of alignments : 5656101\n",
      "Spliced alignments : 0\n",
      "Non spliced : 5656101\n",
      "Input bam: /gcm-lfs1/pablo/data/RNAdeg/data/ChIP/bams/302_S2ChIP/302_S2ChIP.Aligned.sortedByCoord.out.bam\n",
      "Total number of alignments : 6686261\n",
      "Spliced alignments : 0\n",
      "Non spliced : 6686261\n",
      "Input bam: /gcm-lfs1/pablo/data/RNAdeg/data/ChIP/bams/324_S2_ChIP/324_S2_ChIP.Aligned.sortedByCoord.out.bam\n",
      "Total number of alignments : 4527113\n",
      "Spliced alignments : 0\n",
      "Non spliced : 4527113\n",
      "Input bam: /gcm-lfs1/pablo/data/RNAdeg/data/ChIP/bams/324_S2ChIP/324_S2ChIP.Aligned.sortedByCoord.out.bam\n",
      "Total number of alignments : 6653023\n",
      "Spliced alignments : 0\n",
      "Non spliced : 6653023\n",
      "Input bam: /gcm-lfs1/pablo/data/RNAdeg/data/ChIP/bams/491_S2_ChIP/491_S2_ChIP.Aligned.sortedByCoord.out.bam\n",
      "Total number of alignments : 4838173\n",
      "Spliced alignments : 0\n",
      "Non spliced : 4838173\n",
      "Input bam: /gcm-lfs1/pablo/data/RNAdeg/data/ChIP/bams/491_S2ChIP/491_S2ChIP.Aligned.sortedByCoord.out.bam\n",
      "Total number of alignments : 7169067\n",
      "Spliced alignments : 0\n",
      "Non spliced : 7169067\n",
      "Input bam: /gcm-lfs1/pablo/data/RNAdeg/data/ChIP/bams/504S2ChIP_1/504S2ChIP_1.Aligned.sortedByCoord.out.bam\n",
      "Total number of alignments : 4719211\n",
      "Spliced alignments : 0\n",
      "Non spliced : 4719211\n",
      "Input bam: /gcm-lfs1/pablo/data/RNAdeg/data/ChIP/bams/504S2ChIP_2/504S2ChIP_2.Aligned.sortedByCoord.out.bam\n",
      "Total number of alignments : 5474283\n",
      "Spliced alignments : 0\n",
      "Non spliced : 5474283\n",
      "Input bam: /gcm-lfs1/pablo/data/RNAdeg/data/ChIP/bams/530ChIP_1/530ChIP_1.Aligned.sortedByCoord.out.bam\n",
      "Total number of alignments : 7537925\n",
      "Spliced alignments : 0\n",
      "Non spliced : 7537925\n",
      "Input bam: /gcm-lfs1/pablo/data/RNAdeg/data/ChIP/bams/530S2ChIP_2/530S2ChIP_2.Aligned.sortedByCoord.out.bam\n",
      "Total number of alignments : 4138559\n",
      "Spliced alignments : 0\n",
      "Non spliced : 4138559\n",
      "Input bam: /gcm-lfs1/pablo/data/RNAdeg/data/ChIP/bams/591_S2PChIP/591_S2PChIP.Aligned.sortedByCoord.out.bam\n",
      "Total number of alignments : 10346580\n",
      "Spliced alignments : 0\n",
      "Non spliced : 10346580\n",
      "Input bam: /gcm-lfs1/pablo/data/RNAdeg/data/ChIP/bams/638ChIP_1/638ChIP_1.Aligned.sortedByCoord.out.bam\n",
      "Total number of alignments : 9328129\n",
      "Spliced alignments : 0\n",
      "Non spliced : 9328129\n",
      "Input bam: /gcm-lfs1/pablo/data/RNAdeg/data/ChIP/bams/638_S2_ChIP/638_S2_ChIP.Aligned.sortedByCoord.out.bam\n",
      "Total number of alignments : 6895906\n",
      "Spliced alignments : 0\n",
      "Non spliced : 6895906\n",
      "Input bam: /gcm-lfs1/pablo/data/RNAdeg/data/ChIP/bams/63_S2ChIP_2.ztr/63_S2ChIP_2.ztr.Aligned.sortedByCoord.out.bam\n",
      "Total number of alignments : 6100259\n",
      "Spliced alignments : 0\n",
      "Non spliced : 6100259\n",
      "Input bam: /gcm-lfs1/pablo/data/RNAdeg/data/ChIP/bams/63_S2ChIP/63_S2ChIP.Aligned.sortedByCoord.out.bam\n",
      "Total number of alignments : 6085252\n",
      "Spliced alignments : 0\n",
      "Non spliced : 6085252\n",
      "Input bam: /gcm-lfs1/pablo/data/RNAdeg/data/ChIP/bams/63_S2ChIPp.ztr/63_S2ChIPp.ztr.Aligned.sortedByCoord.out.bam\n",
      "Total number of alignments : 6100259\n",
      "Spliced alignments : 0\n",
      "Non spliced : 6100259\n",
      "Input bam: /gcm-lfs1/pablo/data/RNAdeg/data/ChIP/bams/65_S2ChIP/65_S2ChIP.Aligned.sortedByCoord.out.bam\n",
      "Total number of alignments : 6663748\n",
      "Spliced alignments : 0\n",
      "Non spliced : 6663748\n",
      "Input bam: /gcm-lfs1/pablo/data/RNAdeg/data/ChIP/bams/80S2ChIP_1/80S2ChIP_1.Aligned.sortedByCoord.out.bam\n",
      "Total number of alignments : 10912892\n",
      "Spliced alignments : 0\n",
      "Non spliced : 10912892\n",
      "Input bam: /gcm-lfs1/pablo/data/RNAdeg/data/ChIP/bams/80_S2ChIP_2/80_S2ChIP_2.Aligned.sortedByCoord.out.bam\n",
      "Total number of alignments : 7879231\n",
      "Spliced alignments : 0\n",
      "Non spliced : 7879231\n",
      "Input bam: /gcm-lfs1/pablo/data/RNAdeg/data/ChIP/bams/80_S2_ChIP/80_S2_ChIP.Aligned.sortedByCoord.out.bam\n",
      "Total number of alignments : 7879231\n",
      "Spliced alignments : 0\n",
      "Non spliced : 7879231\n",
      "Input bam: /gcm-lfs1/pablo/data/RNAdeg/data/ChIP/bams/80_S2ChIP/80_S2ChIP.Aligned.sortedByCoord.out.bam\n",
      "Total number of alignments : 6225462\n",
      "Spliced alignments : 0\n",
      "Non spliced : 6225462\n",
      "Input bam: /gcm-lfs1/pablo/data/RNAdeg/data/ChIP/bams/80_S2Ph_ChIP/80_S2Ph_ChIP.Aligned.sortedByCoord.out.bam\n",
      "Total number of alignments : 1942365\n",
      "Spliced alignments : 0\n",
      "Non spliced : 1942365\n",
      "Input bam: /gcm-lfs1/pablo/data/RNAdeg/data/ChIP/bams/1168_S2ChIP_1/1168_S2ChIP_1.Aligned.sortedByCoord.out.bam\n",
      "Total number of alignments : 13041757\n",
      "Spliced alignments : 0\n",
      "Non spliced : 13041757\n",
      "Input bam: /gcm-lfs1/pablo/data/RNAdeg/data/ChIP/bams/510_S2ChIP/510_S2ChIP.Aligned.sortedByCoord.out.bam\n",
      "Total number of alignments : 14193956\n",
      "Spliced alignments : 0\n",
      "Non spliced : 14193956\n",
      "Removed 49 rRNA genes.\n",
      "Calculated raw counts for 6943 genes.\n",
      "Calculated TMP for 6943 genes.\n",
      "Gene count matrix saved in: /gcm-lfs1/pablo/data/RNAdeg/data/ChIP/xp_data/chip_pombe_gene_count_matrix.csv\n",
      "TPM expression matrix saved in: /gcm-lfs1/pablo/data/RNAdeg/data/ChIP/xp_data/chip_pombe_tpm_matrix.csv\n",
      "Finished successfully!\n"
     ]
    }
   ],
   "source": [
    "# Run GeneExpressionTable \n",
    "gxt = gxt_command()\n",
    "!$gxt"
   ]
  },
  {
   "cell_type": "markdown",
   "metadata": {},
   "source": [
    "----------------"
   ]
  }
 ],
 "metadata": {
  "kernelspec": {
   "display_name": "Python (heterochromatin)",
   "language": "python",
   "name": "heterochromatin"
  },
  "language_info": {
   "codemirror_mode": {
    "name": "ipython",
    "version": 3
   },
   "file_extension": ".py",
   "mimetype": "text/x-python",
   "name": "python",
   "nbconvert_exporter": "python",
   "pygments_lexer": "ipython3",
   "version": "3.6.7"
  }
 },
 "nbformat": 4,
 "nbformat_minor": 2
}
