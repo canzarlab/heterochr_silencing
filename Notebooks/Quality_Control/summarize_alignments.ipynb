{
 "cells": [
  {
   "cell_type": "code",
   "execution_count": 1,
   "metadata": {},
   "outputs": [],
   "source": [
    "%load_ext autoreload\n",
    "%autoreload 2"
   ]
  },
  {
   "cell_type": "markdown",
   "metadata": {},
   "source": [
    "---------------------------"
   ]
  },
  {
   "cell_type": "markdown",
   "metadata": {},
   "source": [
    "## Config"
   ]
  },
  {
   "cell_type": "code",
   "execution_count": 2,
   "metadata": {},
   "outputs": [],
   "source": [
    "import sys"
   ]
  },
  {
   "cell_type": "code",
   "execution_count": 3,
   "metadata": {},
   "outputs": [],
   "source": [
    "project_dir = '/home/pmonteagudo/workspace/silencing_project'\n",
    "if project_dir not in sys.path: \n",
    "    sys.path.append(project_dir)\n",
    "from config_analysis import *"
   ]
  },
  {
   "cell_type": "markdown",
   "metadata": {},
   "source": [
    "---------------------------"
   ]
  },
  {
   "cell_type": "markdown",
   "metadata": {},
   "source": [
    "- Import dataframe containing **annotation of all samples**"
   ]
  },
  {
   "cell_type": "code",
   "execution_count": 9,
   "metadata": {},
   "outputs": [
    {
     "data": {
      "text/plain": [
       "'/gcm-lfs1/pablo/data/rna_silencing/seq_data/sample_annotation.csv'"
      ]
     },
     "execution_count": 9,
     "metadata": {},
     "output_type": "execute_result"
    }
   ],
   "source": [
    "sample_annotation_file = os.path.join(project_data_dir, 'seq_data', 'sample_annotation.csv')\n",
    "sample_annotation_file"
   ]
  },
  {
   "cell_type": "code",
   "execution_count": 10,
   "metadata": {},
   "outputs": [],
   "source": [
    "#select_cols = ['sample_id', 'pipeline_type', 'seq_category', 'seq_type',  'mutant_id', 'mutant', 'replicate', 'batch', 'trimmed', 'halic_local_dir']\n",
    "select_cols = ['sample_id', 'pipeline_type', 'seq_category', 'seq_type',  'mutant_id', 'mutant', 'replicate', 'batch', 'trimmed']"
   ]
  },
  {
   "cell_type": "code",
   "execution_count": 11,
   "metadata": {},
   "outputs": [
    {
     "data": {
      "text/html": [
       "<div>\n",
       "<style scoped>\n",
       "    .dataframe tbody tr th:only-of-type {\n",
       "        vertical-align: middle;\n",
       "    }\n",
       "\n",
       "    .dataframe tbody tr th {\n",
       "        vertical-align: top;\n",
       "    }\n",
       "\n",
       "    .dataframe thead th {\n",
       "        text-align: right;\n",
       "    }\n",
       "</style>\n",
       "<table border=\"1\" class=\"dataframe\">\n",
       "  <thead>\n",
       "    <tr style=\"text-align: right;\">\n",
       "      <th></th>\n",
       "      <th>sample_id</th>\n",
       "      <th>pipeline_type</th>\n",
       "      <th>seq_category</th>\n",
       "      <th>seq_type</th>\n",
       "      <th>mutant_id</th>\n",
       "      <th>mutant</th>\n",
       "      <th>replicate</th>\n",
       "      <th>batch</th>\n",
       "      <th>trimmed</th>\n",
       "    </tr>\n",
       "  </thead>\n",
       "  <tbody>\n",
       "    <tr>\n",
       "      <th>0</th>\n",
       "      <td>1022_S2-ChIP-INPUT_1</td>\n",
       "      <td>ChIP</td>\n",
       "      <td>INPUT</td>\n",
       "      <td>S2-ChIP-INPUT</td>\n",
       "      <td>1022</td>\n",
       "      <td>mot2d</td>\n",
       "      <td>1</td>\n",
       "      <td>revision</td>\n",
       "      <td>False</td>\n",
       "    </tr>\n",
       "    <tr>\n",
       "      <th>1</th>\n",
       "      <td>1022_S2-ChIP-OIN_1</td>\n",
       "      <td>ChIP</td>\n",
       "      <td>INPUT</td>\n",
       "      <td>S2-ChIP-OIN</td>\n",
       "      <td>1022</td>\n",
       "      <td>mot2d</td>\n",
       "      <td>1</td>\n",
       "      <td>revision</td>\n",
       "      <td>False</td>\n",
       "    </tr>\n",
       "    <tr>\n",
       "      <th>2</th>\n",
       "      <td>1168_S2-ChIP-OIN_1</td>\n",
       "      <td>ChIP</td>\n",
       "      <td>INPUT</td>\n",
       "      <td>S2-ChIP-OIN</td>\n",
       "      <td>1168</td>\n",
       "      <td>caf1d*ccr4d*</td>\n",
       "      <td>1</td>\n",
       "      <td>revision</td>\n",
       "      <td>False</td>\n",
       "    </tr>\n",
       "    <tr>\n",
       "      <th>3</th>\n",
       "      <td>301_S2-ChIP-INPUT_1</td>\n",
       "      <td>ChIP</td>\n",
       "      <td>INPUT</td>\n",
       "      <td>S2-ChIP-INPUT</td>\n",
       "      <td>301</td>\n",
       "      <td>swi6d</td>\n",
       "      <td>1</td>\n",
       "      <td>manuscript</td>\n",
       "      <td>False</td>\n",
       "    </tr>\n",
       "    <tr>\n",
       "      <th>4</th>\n",
       "      <td>301_S2-ChIP-OIN_1</td>\n",
       "      <td>ChIP</td>\n",
       "      <td>INPUT</td>\n",
       "      <td>S2-ChIP-OIN</td>\n",
       "      <td>301</td>\n",
       "      <td>swi6d</td>\n",
       "      <td>1</td>\n",
       "      <td>revision</td>\n",
       "      <td>False</td>\n",
       "    </tr>\n",
       "  </tbody>\n",
       "</table>\n",
       "</div>"
      ],
      "text/plain": [
       "              sample_id pipeline_type seq_category       seq_type mutant_id  \\\n",
       "0  1022_S2-ChIP-INPUT_1          ChIP        INPUT  S2-ChIP-INPUT      1022   \n",
       "1    1022_S2-ChIP-OIN_1          ChIP        INPUT    S2-ChIP-OIN      1022   \n",
       "2    1168_S2-ChIP-OIN_1          ChIP        INPUT    S2-ChIP-OIN      1168   \n",
       "3   301_S2-ChIP-INPUT_1          ChIP        INPUT  S2-ChIP-INPUT       301   \n",
       "4     301_S2-ChIP-OIN_1          ChIP        INPUT    S2-ChIP-OIN       301   \n",
       "\n",
       "         mutant  replicate       batch  trimmed  \n",
       "0         mot2d          1    revision    False  \n",
       "1         mot2d          1    revision    False  \n",
       "2  caf1d*ccr4d*          1    revision    False  \n",
       "3         swi6d          1  manuscript    False  \n",
       "4         swi6d          1    revision    False  "
      ]
     },
     "execution_count": 11,
     "metadata": {},
     "output_type": "execute_result"
    }
   ],
   "source": [
    "all_samples_df = pd.read_csv(sample_annotation_file, sep=\"\\t\", usecols=select_cols)[select_cols]\n",
    "all_samples_df.head()"
   ]
  },
  {
   "cell_type": "code",
   "execution_count": 12,
   "metadata": {},
   "outputs": [
    {
     "data": {
      "text/plain": [
       "(154, 9)"
      ]
     },
     "execution_count": 12,
     "metadata": {},
     "output_type": "execute_result"
    }
   ],
   "source": [
    "all_samples_df.shape"
   ]
  },
  {
   "cell_type": "code",
   "execution_count": 17,
   "metadata": {},
   "outputs": [],
   "source": [
    "#all_samples_df.groupby('seq_type').size()"
   ]
  },
  {
   "cell_type": "markdown",
   "metadata": {},
   "source": [
    "- **Ignore S2-RIP/S5-RIP samples** for now"
   ]
  },
  {
   "cell_type": "code",
   "execution_count": 8,
   "metadata": {},
   "outputs": [],
   "source": [
    "# #all_samples_df = all_samples_df[all_samples_df['seq_type'] != 'S2-RIP']\n",
    "# all_samples_df = all_samples_df[all_samples_df['seq_type'] != 'S5-RIP']\n",
    "# all_samples_df.shape"
   ]
  },
  {
   "cell_type": "markdown",
   "metadata": {},
   "source": [
    "- **Ignore S2-ChIP/S5-ChIP samples** for now"
   ]
  },
  {
   "cell_type": "code",
   "execution_count": 9,
   "metadata": {},
   "outputs": [],
   "source": [
    "# #all_samples_df = all_samples_df[all_samples_df['seq_type'] != 'S2-ChIP']\n",
    "# all_samples_df = all_samples_df[all_samples_df['seq_type'] != 'S5-ChIP']\n",
    "# all_samples_df.shape"
   ]
  },
  {
   "cell_type": "markdown",
   "metadata": {},
   "source": [
    "---------------------------"
   ]
  },
  {
   "cell_type": "markdown",
   "metadata": {},
   "source": [
    "# **Import STAR summary** Files: .Log.final.out"
   ]
  },
  {
   "cell_type": "markdown",
   "metadata": {},
   "source": [
    "---------------------------"
   ]
  },
  {
   "cell_type": "markdown",
   "metadata": {},
   "source": [
    "- Filter for specific `seq_assay` **samples**"
   ]
  },
  {
   "cell_type": "code",
   "execution_count": 10,
   "metadata": {},
   "outputs": [],
   "source": [
    "seq_assay='H3K9me2'"
   ]
  },
  {
   "cell_type": "code",
   "execution_count": 16,
   "metadata": {},
   "outputs": [
    {
     "data": {
      "text/plain": [
       "(153, 10)"
      ]
     },
     "execution_count": 16,
     "metadata": {},
     "output_type": "execute_result"
    }
   ],
   "source": [
    "#df = all_samples_df[all_samples_df['seq_type'] == seq_assay]simulated-data/\n",
    "df = all_samples_df[all_samples_df['seq_type'] != 'simulated-data']\n",
    "#df = all_samples_df\n",
    "df.shape"
   ]
  },
  {
   "cell_type": "markdown",
   "metadata": {},
   "source": [
    "- Add `star_log_file` column for each mutant"
   ]
  },
  {
   "cell_type": "code",
   "execution_count": 17,
   "metadata": {},
   "outputs": [
    {
     "name": "stderr",
     "output_type": "stream",
     "text": [
      "/home/pmonteagudo/anaconda3/envs/heterochromatin/lib/python3.6/site-packages/ipykernel_launcher.py:2: SettingWithCopyWarning: \n",
      "A value is trying to be set on a copy of a slice from a DataFrame.\n",
      "Try using .loc[row_indexer,col_indexer] = value instead\n",
      "\n",
      "See the caveats in the documentation: http://pandas.pydata.org/pandas-docs/stable/user_guide/indexing.html#returning-a-view-versus-a-copy\n",
      "  \n"
     ]
    }
   ],
   "source": [
    "df['star_log_file'] = df.apply(\n",
    "    lambda row: os.path.join(project_data_dir, 'seq_data', row.seq_category, 'bam', row.sample_id, row.sample_id + '.Log.final.out'), axis=1)"
   ]
  },
  {
   "cell_type": "code",
   "execution_count": 18,
   "metadata": {},
   "outputs": [
    {
     "data": {
      "text/html": [
       "<div>\n",
       "<style scoped>\n",
       "    .dataframe tbody tr th:only-of-type {\n",
       "        vertical-align: middle;\n",
       "    }\n",
       "\n",
       "    .dataframe tbody tr th {\n",
       "        vertical-align: top;\n",
       "    }\n",
       "\n",
       "    .dataframe thead th {\n",
       "        text-align: right;\n",
       "    }\n",
       "</style>\n",
       "<table border=\"1\" class=\"dataframe\">\n",
       "  <thead>\n",
       "    <tr style=\"text-align: right;\">\n",
       "      <th></th>\n",
       "      <th>sample_id</th>\n",
       "      <th>pipeline_type</th>\n",
       "      <th>seq_category</th>\n",
       "      <th>seq_type</th>\n",
       "      <th>mutant_id</th>\n",
       "      <th>mutant</th>\n",
       "      <th>replicate</th>\n",
       "      <th>batch</th>\n",
       "      <th>trimmed</th>\n",
       "      <th>star_log_file</th>\n",
       "    </tr>\n",
       "  </thead>\n",
       "  <tbody>\n",
       "    <tr>\n",
       "      <th>0</th>\n",
       "      <td>1022_S2-ChIP-INPUT_1</td>\n",
       "      <td>ChIP</td>\n",
       "      <td>INPUT</td>\n",
       "      <td>S2-ChIP-INPUT</td>\n",
       "      <td>1022</td>\n",
       "      <td>mot2d</td>\n",
       "      <td>1</td>\n",
       "      <td>revision</td>\n",
       "      <td>False</td>\n",
       "      <td>/gcm-lfs1/pablo/data/rna_silencing/seq_data/IN...</td>\n",
       "    </tr>\n",
       "    <tr>\n",
       "      <th>1</th>\n",
       "      <td>1022_S2-ChIP-OIN_1</td>\n",
       "      <td>ChIP</td>\n",
       "      <td>INPUT</td>\n",
       "      <td>S2-ChIP-OIN</td>\n",
       "      <td>1022</td>\n",
       "      <td>mot2d</td>\n",
       "      <td>1</td>\n",
       "      <td>revision</td>\n",
       "      <td>False</td>\n",
       "      <td>/gcm-lfs1/pablo/data/rna_silencing/seq_data/IN...</td>\n",
       "    </tr>\n",
       "    <tr>\n",
       "      <th>2</th>\n",
       "      <td>1168_S2-ChIP-OIN_1</td>\n",
       "      <td>ChIP</td>\n",
       "      <td>INPUT</td>\n",
       "      <td>S2-ChIP-OIN</td>\n",
       "      <td>1168</td>\n",
       "      <td>caf1d*ccr4d*</td>\n",
       "      <td>1</td>\n",
       "      <td>revision</td>\n",
       "      <td>False</td>\n",
       "      <td>/gcm-lfs1/pablo/data/rna_silencing/seq_data/IN...</td>\n",
       "    </tr>\n",
       "    <tr>\n",
       "      <th>3</th>\n",
       "      <td>301_S2-ChIP-INPUT_1</td>\n",
       "      <td>ChIP</td>\n",
       "      <td>INPUT</td>\n",
       "      <td>S2-ChIP-INPUT</td>\n",
       "      <td>301</td>\n",
       "      <td>swi6d</td>\n",
       "      <td>1</td>\n",
       "      <td>manuscript</td>\n",
       "      <td>False</td>\n",
       "      <td>/gcm-lfs1/pablo/data/rna_silencing/seq_data/IN...</td>\n",
       "    </tr>\n",
       "    <tr>\n",
       "      <th>4</th>\n",
       "      <td>301_S2-ChIP-OIN_1</td>\n",
       "      <td>ChIP</td>\n",
       "      <td>INPUT</td>\n",
       "      <td>S2-ChIP-OIN</td>\n",
       "      <td>301</td>\n",
       "      <td>swi6d</td>\n",
       "      <td>1</td>\n",
       "      <td>revision</td>\n",
       "      <td>False</td>\n",
       "      <td>/gcm-lfs1/pablo/data/rna_silencing/seq_data/IN...</td>\n",
       "    </tr>\n",
       "  </tbody>\n",
       "</table>\n",
       "</div>"
      ],
      "text/plain": [
       "              sample_id pipeline_type seq_category       seq_type mutant_id  \\\n",
       "0  1022_S2-ChIP-INPUT_1          ChIP        INPUT  S2-ChIP-INPUT      1022   \n",
       "1    1022_S2-ChIP-OIN_1          ChIP        INPUT    S2-ChIP-OIN      1022   \n",
       "2    1168_S2-ChIP-OIN_1          ChIP        INPUT    S2-ChIP-OIN      1168   \n",
       "3   301_S2-ChIP-INPUT_1          ChIP        INPUT  S2-ChIP-INPUT       301   \n",
       "4     301_S2-ChIP-OIN_1          ChIP        INPUT    S2-ChIP-OIN       301   \n",
       "\n",
       "         mutant  replicate       batch  trimmed  \\\n",
       "0         mot2d          1    revision    False   \n",
       "1         mot2d          1    revision    False   \n",
       "2  caf1d*ccr4d*          1    revision    False   \n",
       "3         swi6d          1  manuscript    False   \n",
       "4         swi6d          1    revision    False   \n",
       "\n",
       "                                       star_log_file  \n",
       "0  /gcm-lfs1/pablo/data/rna_silencing/seq_data/IN...  \n",
       "1  /gcm-lfs1/pablo/data/rna_silencing/seq_data/IN...  \n",
       "2  /gcm-lfs1/pablo/data/rna_silencing/seq_data/IN...  \n",
       "3  /gcm-lfs1/pablo/data/rna_silencing/seq_data/IN...  \n",
       "4  /gcm-lfs1/pablo/data/rna_silencing/seq_data/IN...  "
      ]
     },
     "execution_count": 18,
     "metadata": {},
     "output_type": "execute_result"
    }
   ],
   "source": [
    "df.head()"
   ]
  },
  {
   "cell_type": "code",
   "execution_count": 19,
   "metadata": {},
   "outputs": [
    {
     "data": {
      "text/plain": [
       "(153, 10)"
      ]
     },
     "execution_count": 19,
     "metadata": {},
     "output_type": "execute_result"
    }
   ],
   "source": [
    "df.shape"
   ]
  },
  {
   "cell_type": "markdown",
   "metadata": {},
   "source": [
    "- Import **.Log.final.out** files:"
   ]
  },
  {
   "cell_type": "code",
   "execution_count": 20,
   "metadata": {},
   "outputs": [],
   "source": [
    "summary_logs_df = pd.concat(\n",
    "    [pd.read_csv(\n",
    "        ff, sep ='\\t', names=['var', os.path.basename(ff).split('.')[0]], index_col = 'var'\n",
    "    ) for ff in df['star_log_file']], sort=False, axis = 1) # assume files are identical! sort=False"
   ]
  },
  {
   "cell_type": "code",
   "execution_count": 21,
   "metadata": {},
   "outputs": [
    {
     "data": {
      "text/html": [
       "<div>\n",
       "<style scoped>\n",
       "    .dataframe tbody tr th:only-of-type {\n",
       "        vertical-align: middle;\n",
       "    }\n",
       "\n",
       "    .dataframe tbody tr th {\n",
       "        vertical-align: top;\n",
       "    }\n",
       "\n",
       "    .dataframe thead th {\n",
       "        text-align: right;\n",
       "    }\n",
       "</style>\n",
       "<table border=\"1\" class=\"dataframe\">\n",
       "  <thead>\n",
       "    <tr style=\"text-align: right;\">\n",
       "      <th></th>\n",
       "      <th>1022_S2-ChIP-INPUT_1</th>\n",
       "      <th>1022_S2-ChIP-OIN_1</th>\n",
       "      <th>1168_S2-ChIP-OIN_1</th>\n",
       "      <th>301_S2-ChIP-INPUT_1</th>\n",
       "      <th>301_S2-ChIP-OIN_1</th>\n",
       "      <th>302_S2-ChIP-INPUT_1</th>\n",
       "      <th>302_S2-ChIP-OIN_1</th>\n",
       "      <th>324_S2-ChIP-INPUT_1</th>\n",
       "      <th>324_S2-ChIP-OIN_1</th>\n",
       "      <th>491_S2-ChIP-INPUT_1</th>\n",
       "      <th>...</th>\n",
       "      <th>530_H3K9me2_1</th>\n",
       "      <th>638_H3K9me2_1</th>\n",
       "      <th>510_total-RNA_1</th>\n",
       "      <th>510_total-RNA_2</th>\n",
       "      <th>638_total-RNA_1</th>\n",
       "      <th>638_total-RNA_2</th>\n",
       "      <th>80_total-RNA_1</th>\n",
       "      <th>80_total-RNA_2</th>\n",
       "      <th>WT_total-RNA_1</th>\n",
       "      <th>WT_total-RNA_2</th>\n",
       "    </tr>\n",
       "    <tr>\n",
       "      <th>var</th>\n",
       "      <th></th>\n",
       "      <th></th>\n",
       "      <th></th>\n",
       "      <th></th>\n",
       "      <th></th>\n",
       "      <th></th>\n",
       "      <th></th>\n",
       "      <th></th>\n",
       "      <th></th>\n",
       "      <th></th>\n",
       "      <th></th>\n",
       "      <th></th>\n",
       "      <th></th>\n",
       "      <th></th>\n",
       "      <th></th>\n",
       "      <th></th>\n",
       "      <th></th>\n",
       "      <th></th>\n",
       "      <th></th>\n",
       "      <th></th>\n",
       "      <th></th>\n",
       "    </tr>\n",
       "  </thead>\n",
       "  <tbody>\n",
       "    <tr>\n",
       "      <th>Started job on |</th>\n",
       "      <td>Jun 25 15:50:35</td>\n",
       "      <td>Jun 25 16:18:16</td>\n",
       "      <td>Jun 25 16:11:06</td>\n",
       "      <td>Jun 25 18:01:11</td>\n",
       "      <td>Jun 25 16:13:33</td>\n",
       "      <td>Jun 25 17:58:19</td>\n",
       "      <td>Jun 25 16:15:28</td>\n",
       "      <td>Jun 25 15:04:50</td>\n",
       "      <td>Jun 25 18:29:14</td>\n",
       "      <td>Jun 25 15:13:43</td>\n",
       "      <td>...</td>\n",
       "      <td>Jun 25 16:16:21</td>\n",
       "      <td>Jun 25 17:52:05</td>\n",
       "      <td>Jun 25 22:59:10</td>\n",
       "      <td>Jun 25 22:52:44</td>\n",
       "      <td>Jun 25 23:05:08</td>\n",
       "      <td>Jun 25 21:31:34</td>\n",
       "      <td>Jun 25 22:56:11</td>\n",
       "      <td>Jun 25 21:10:14</td>\n",
       "      <td>Jun 25 23:15:54</td>\n",
       "      <td>Jun 25 21:46:43</td>\n",
       "    </tr>\n",
       "    <tr>\n",
       "      <th>Started mapping on |</th>\n",
       "      <td>Jun 25 15:50:36</td>\n",
       "      <td>Jun 25 16:18:16</td>\n",
       "      <td>Jun 25 16:11:06</td>\n",
       "      <td>Jun 25 18:01:11</td>\n",
       "      <td>Jun 25 16:13:33</td>\n",
       "      <td>Jun 25 17:58:19</td>\n",
       "      <td>Jun 25 16:15:28</td>\n",
       "      <td>Jun 25 15:04:50</td>\n",
       "      <td>Jun 25 18:29:15</td>\n",
       "      <td>Jun 25 15:13:44</td>\n",
       "      <td>...</td>\n",
       "      <td>Jun 25 16:16:21</td>\n",
       "      <td>Jun 25 17:52:05</td>\n",
       "      <td>Jun 25 22:59:10</td>\n",
       "      <td>Jun 25 22:52:44</td>\n",
       "      <td>Jun 25 23:05:09</td>\n",
       "      <td>Jun 25 21:31:35</td>\n",
       "      <td>Jun 25 22:56:11</td>\n",
       "      <td>Jun 25 21:10:14</td>\n",
       "      <td>Jun 25 23:15:54</td>\n",
       "      <td>Jun 25 21:46:43</td>\n",
       "    </tr>\n",
       "    <tr>\n",
       "      <th>Finished on |</th>\n",
       "      <td>Jun 25 15:51:33</td>\n",
       "      <td>Jun 25 16:19:07</td>\n",
       "      <td>Jun 25 16:11:55</td>\n",
       "      <td>Jun 25 18:01:38</td>\n",
       "      <td>Jun 25 16:14:24</td>\n",
       "      <td>Jun 25 17:58:58</td>\n",
       "      <td>Jun 25 16:16:20</td>\n",
       "      <td>Jun 25 15:06:09</td>\n",
       "      <td>Jun 25 18:29:28</td>\n",
       "      <td>Jun 25 15:14:48</td>\n",
       "      <td>...</td>\n",
       "      <td>Jun 25 16:17:25</td>\n",
       "      <td>Jun 25 17:52:54</td>\n",
       "      <td>Jun 25 23:01:02</td>\n",
       "      <td>Jun 25 22:54:32</td>\n",
       "      <td>Jun 25 23:06:59</td>\n",
       "      <td>Jun 25 21:34:16</td>\n",
       "      <td>Jun 25 22:58:06</td>\n",
       "      <td>Jun 25 21:14:32</td>\n",
       "      <td>Jun 25 23:17:25</td>\n",
       "      <td>Jun 25 21:49:19</td>\n",
       "    </tr>\n",
       "    <tr>\n",
       "      <th>Mapping speed, Million of reads per hour |</th>\n",
       "      <td>714.74</td>\n",
       "      <td>587.77</td>\n",
       "      <td>683.74</td>\n",
       "      <td>506.93</td>\n",
       "      <td>626.12</td>\n",
       "      <td>530.87</td>\n",
       "      <td>613.61</td>\n",
       "      <td>859.23</td>\n",
       "      <td>135.64</td>\n",
       "      <td>716.60</td>\n",
       "      <td>...</td>\n",
       "      <td>470.90</td>\n",
       "      <td>516.58</td>\n",
       "      <td>437.01</td>\n",
       "      <td>480.74</td>\n",
       "      <td>431.26</td>\n",
       "      <td>473.54</td>\n",
       "      <td>434.30</td>\n",
       "      <td>484.28</td>\n",
       "      <td>421.44</td>\n",
       "      <td>456.38</td>\n",
       "    </tr>\n",
       "    <tr>\n",
       "      <th>Number of input reads |</th>\n",
       "      <td>11316763</td>\n",
       "      <td>8326726</td>\n",
       "      <td>9306428</td>\n",
       "      <td>3802009</td>\n",
       "      <td>8869984</td>\n",
       "      <td>5751085</td>\n",
       "      <td>8863239</td>\n",
       "      <td>18855274</td>\n",
       "      <td>489822</td>\n",
       "      <td>12739492</td>\n",
       "      <td>...</td>\n",
       "      <td>8371611</td>\n",
       "      <td>7031273</td>\n",
       "      <td>13595863</td>\n",
       "      <td>14422065</td>\n",
       "      <td>13177284</td>\n",
       "      <td>21177938</td>\n",
       "      <td>13873441</td>\n",
       "      <td>34707061</td>\n",
       "      <td>10653086</td>\n",
       "      <td>19776309</td>\n",
       "    </tr>\n",
       "  </tbody>\n",
       "</table>\n",
       "<p>5 rows × 153 columns</p>\n",
       "</div>"
      ],
      "text/plain": [
       "                                                  1022_S2-ChIP-INPUT_1  \\\n",
       "var                                                                      \n",
       "                                 Started job on |      Jun 25 15:50:35   \n",
       "                             Started mapping on |      Jun 25 15:50:36   \n",
       "                                    Finished on |      Jun 25 15:51:33   \n",
       "       Mapping speed, Million of reads per hour |               714.74   \n",
       "                          Number of input reads |             11316763   \n",
       "\n",
       "                                                  1022_S2-ChIP-OIN_1  \\\n",
       "var                                                                    \n",
       "                                 Started job on |    Jun 25 16:18:16   \n",
       "                             Started mapping on |    Jun 25 16:18:16   \n",
       "                                    Finished on |    Jun 25 16:19:07   \n",
       "       Mapping speed, Million of reads per hour |             587.77   \n",
       "                          Number of input reads |            8326726   \n",
       "\n",
       "                                                  1168_S2-ChIP-OIN_1  \\\n",
       "var                                                                    \n",
       "                                 Started job on |    Jun 25 16:11:06   \n",
       "                             Started mapping on |    Jun 25 16:11:06   \n",
       "                                    Finished on |    Jun 25 16:11:55   \n",
       "       Mapping speed, Million of reads per hour |             683.74   \n",
       "                          Number of input reads |            9306428   \n",
       "\n",
       "                                                  301_S2-ChIP-INPUT_1  \\\n",
       "var                                                                     \n",
       "                                 Started job on |     Jun 25 18:01:11   \n",
       "                             Started mapping on |     Jun 25 18:01:11   \n",
       "                                    Finished on |     Jun 25 18:01:38   \n",
       "       Mapping speed, Million of reads per hour |              506.93   \n",
       "                          Number of input reads |             3802009   \n",
       "\n",
       "                                                  301_S2-ChIP-OIN_1  \\\n",
       "var                                                                   \n",
       "                                 Started job on |   Jun 25 16:13:33   \n",
       "                             Started mapping on |   Jun 25 16:13:33   \n",
       "                                    Finished on |   Jun 25 16:14:24   \n",
       "       Mapping speed, Million of reads per hour |            626.12   \n",
       "                          Number of input reads |           8869984   \n",
       "\n",
       "                                                  302_S2-ChIP-INPUT_1  \\\n",
       "var                                                                     \n",
       "                                 Started job on |     Jun 25 17:58:19   \n",
       "                             Started mapping on |     Jun 25 17:58:19   \n",
       "                                    Finished on |     Jun 25 17:58:58   \n",
       "       Mapping speed, Million of reads per hour |              530.87   \n",
       "                          Number of input reads |             5751085   \n",
       "\n",
       "                                                  302_S2-ChIP-OIN_1  \\\n",
       "var                                                                   \n",
       "                                 Started job on |   Jun 25 16:15:28   \n",
       "                             Started mapping on |   Jun 25 16:15:28   \n",
       "                                    Finished on |   Jun 25 16:16:20   \n",
       "       Mapping speed, Million of reads per hour |            613.61   \n",
       "                          Number of input reads |           8863239   \n",
       "\n",
       "                                                  324_S2-ChIP-INPUT_1  \\\n",
       "var                                                                     \n",
       "                                 Started job on |     Jun 25 15:04:50   \n",
       "                             Started mapping on |     Jun 25 15:04:50   \n",
       "                                    Finished on |     Jun 25 15:06:09   \n",
       "       Mapping speed, Million of reads per hour |              859.23   \n",
       "                          Number of input reads |            18855274   \n",
       "\n",
       "                                                  324_S2-ChIP-OIN_1  \\\n",
       "var                                                                   \n",
       "                                 Started job on |   Jun 25 18:29:14   \n",
       "                             Started mapping on |   Jun 25 18:29:15   \n",
       "                                    Finished on |   Jun 25 18:29:28   \n",
       "       Mapping speed, Million of reads per hour |            135.64   \n",
       "                          Number of input reads |            489822   \n",
       "\n",
       "                                                  491_S2-ChIP-INPUT_1  ...  \\\n",
       "var                                                                    ...   \n",
       "                                 Started job on |     Jun 25 15:13:43  ...   \n",
       "                             Started mapping on |     Jun 25 15:13:44  ...   \n",
       "                                    Finished on |     Jun 25 15:14:48  ...   \n",
       "       Mapping speed, Million of reads per hour |              716.60  ...   \n",
       "                          Number of input reads |            12739492  ...   \n",
       "\n",
       "                                                     530_H3K9me2_1  \\\n",
       "var                                                                  \n",
       "                                 Started job on |  Jun 25 16:16:21   \n",
       "                             Started mapping on |  Jun 25 16:16:21   \n",
       "                                    Finished on |  Jun 25 16:17:25   \n",
       "       Mapping speed, Million of reads per hour |           470.90   \n",
       "                          Number of input reads |          8371611   \n",
       "\n",
       "                                                     638_H3K9me2_1  \\\n",
       "var                                                                  \n",
       "                                 Started job on |  Jun 25 17:52:05   \n",
       "                             Started mapping on |  Jun 25 17:52:05   \n",
       "                                    Finished on |  Jun 25 17:52:54   \n",
       "       Mapping speed, Million of reads per hour |           516.58   \n",
       "                          Number of input reads |          7031273   \n",
       "\n",
       "                                                   510_total-RNA_1  \\\n",
       "var                                                                  \n",
       "                                 Started job on |  Jun 25 22:59:10   \n",
       "                             Started mapping on |  Jun 25 22:59:10   \n",
       "                                    Finished on |  Jun 25 23:01:02   \n",
       "       Mapping speed, Million of reads per hour |           437.01   \n",
       "                          Number of input reads |         13595863   \n",
       "\n",
       "                                                   510_total-RNA_2  \\\n",
       "var                                                                  \n",
       "                                 Started job on |  Jun 25 22:52:44   \n",
       "                             Started mapping on |  Jun 25 22:52:44   \n",
       "                                    Finished on |  Jun 25 22:54:32   \n",
       "       Mapping speed, Million of reads per hour |           480.74   \n",
       "                          Number of input reads |         14422065   \n",
       "\n",
       "                                                   638_total-RNA_1  \\\n",
       "var                                                                  \n",
       "                                 Started job on |  Jun 25 23:05:08   \n",
       "                             Started mapping on |  Jun 25 23:05:09   \n",
       "                                    Finished on |  Jun 25 23:06:59   \n",
       "       Mapping speed, Million of reads per hour |           431.26   \n",
       "                          Number of input reads |         13177284   \n",
       "\n",
       "                                                   638_total-RNA_2  \\\n",
       "var                                                                  \n",
       "                                 Started job on |  Jun 25 21:31:34   \n",
       "                             Started mapping on |  Jun 25 21:31:35   \n",
       "                                    Finished on |  Jun 25 21:34:16   \n",
       "       Mapping speed, Million of reads per hour |           473.54   \n",
       "                          Number of input reads |         21177938   \n",
       "\n",
       "                                                    80_total-RNA_1  \\\n",
       "var                                                                  \n",
       "                                 Started job on |  Jun 25 22:56:11   \n",
       "                             Started mapping on |  Jun 25 22:56:11   \n",
       "                                    Finished on |  Jun 25 22:58:06   \n",
       "       Mapping speed, Million of reads per hour |           434.30   \n",
       "                          Number of input reads |         13873441   \n",
       "\n",
       "                                                    80_total-RNA_2  \\\n",
       "var                                                                  \n",
       "                                 Started job on |  Jun 25 21:10:14   \n",
       "                             Started mapping on |  Jun 25 21:10:14   \n",
       "                                    Finished on |  Jun 25 21:14:32   \n",
       "       Mapping speed, Million of reads per hour |           484.28   \n",
       "                          Number of input reads |         34707061   \n",
       "\n",
       "                                                    WT_total-RNA_1  \\\n",
       "var                                                                  \n",
       "                                 Started job on |  Jun 25 23:15:54   \n",
       "                             Started mapping on |  Jun 25 23:15:54   \n",
       "                                    Finished on |  Jun 25 23:17:25   \n",
       "       Mapping speed, Million of reads per hour |           421.44   \n",
       "                          Number of input reads |         10653086   \n",
       "\n",
       "                                                    WT_total-RNA_2  \n",
       "var                                                                 \n",
       "                                 Started job on |  Jun 25 21:46:43  \n",
       "                             Started mapping on |  Jun 25 21:46:43  \n",
       "                                    Finished on |  Jun 25 21:49:19  \n",
       "       Mapping speed, Million of reads per hour |           456.38  \n",
       "                          Number of input reads |         19776309  \n",
       "\n",
       "[5 rows x 153 columns]"
      ]
     },
     "execution_count": 21,
     "metadata": {},
     "output_type": "execute_result"
    }
   ],
   "source": [
    "summary_logs_df.head()"
   ]
  },
  {
   "cell_type": "code",
   "execution_count": 22,
   "metadata": {},
   "outputs": [
    {
     "data": {
      "text/plain": [
       "(36, 153)"
      ]
     },
     "execution_count": 22,
     "metadata": {},
     "output_type": "execute_result"
    }
   ],
   "source": [
    "summary_logs_df.shape"
   ]
  },
  {
   "cell_type": "markdown",
   "metadata": {},
   "source": [
    "- **Parse `idx` values** of Data Frame and **transpose**"
   ]
  },
  {
   "cell_type": "code",
   "execution_count": 23,
   "metadata": {},
   "outputs": [],
   "source": [
    "summary_logs_df['idx'] =  summary_logs_df.index.str.replace(\"\\||:|-|,|\", '')\n",
    "summary_logs_df['idx'] = [idx.strip(' ').replace(' ', '_') for idx in summary_logs_df['idx']]\n",
    "summary_logs_df['idx'] = [idx.replace('%', 'frac') for idx in summary_logs_df['idx']]\n",
    "# set new index\n",
    "summary_logs_df = summary_logs_df.set_index('idx')\n",
    "\n",
    "summary_logs_df = summary_logs_df.transpose()\n",
    "# remove unwanted cols\n",
    "summary_logs_df = summary_logs_df.drop(\n",
    "    columns = ['Started_job_on', 'Started_mapping_on', 'Finished_on', # timing\n",
    "               'UNIQUE_READS', 'UNMAPPED_READS',  'MULTIMAPPING_READS', 'CHIMERIC_READS', # repeated?\n",
    "               'Number_of_chimeric_reads', 'frac_of_chimeric_reads'\n",
    "              ]\n",
    ")\n",
    "\n",
    "# reset index to column and rename it to 'sample_id'\n",
    "summary_logs_df = summary_logs_df.reset_index(drop=False).rename(columns = {'index':'sample_id'})"
   ]
  },
  {
   "cell_type": "code",
   "execution_count": 24,
   "metadata": {},
   "outputs": [
    {
     "data": {
      "text/html": [
       "<div>\n",
       "<style scoped>\n",
       "    .dataframe tbody tr th:only-of-type {\n",
       "        vertical-align: middle;\n",
       "    }\n",
       "\n",
       "    .dataframe tbody tr th {\n",
       "        vertical-align: top;\n",
       "    }\n",
       "\n",
       "    .dataframe thead th {\n",
       "        text-align: right;\n",
       "    }\n",
       "</style>\n",
       "<table border=\"1\" class=\"dataframe\">\n",
       "  <thead>\n",
       "    <tr style=\"text-align: right;\">\n",
       "      <th>idx</th>\n",
       "      <th>sample_id</th>\n",
       "      <th>Mapping_speed_Million_of_reads_per_hour</th>\n",
       "      <th>Number_of_input_reads</th>\n",
       "      <th>Average_input_read_length</th>\n",
       "      <th>Uniquely_mapped_reads_number</th>\n",
       "      <th>Uniquely_mapped_reads_frac</th>\n",
       "      <th>Average_mapped_length</th>\n",
       "      <th>Number_of_splices_Total</th>\n",
       "      <th>Number_of_splices_Annotated_(sjdb)</th>\n",
       "      <th>Number_of_splices_GT/AG</th>\n",
       "      <th>...</th>\n",
       "      <th>Number_of_reads_mapped_to_multiple_loci</th>\n",
       "      <th>frac_of_reads_mapped_to_multiple_loci</th>\n",
       "      <th>Number_of_reads_mapped_to_too_many_loci</th>\n",
       "      <th>frac_of_reads_mapped_to_too_many_loci</th>\n",
       "      <th>Number_of_reads_unmapped_too_many_mismatches</th>\n",
       "      <th>frac_of_reads_unmapped_too_many_mismatches</th>\n",
       "      <th>Number_of_reads_unmapped_too_short</th>\n",
       "      <th>frac_of_reads_unmapped_too_short</th>\n",
       "      <th>Number_of_reads_unmapped_other</th>\n",
       "      <th>frac_of_reads_unmapped_other</th>\n",
       "    </tr>\n",
       "  </thead>\n",
       "  <tbody>\n",
       "    <tr>\n",
       "      <th>0</th>\n",
       "      <td>1022_S2-ChIP-INPUT_1</td>\n",
       "      <td>714.74</td>\n",
       "      <td>11316763</td>\n",
       "      <td>50</td>\n",
       "      <td>8180107</td>\n",
       "      <td>72.28%</td>\n",
       "      <td>50.00</td>\n",
       "      <td>0</td>\n",
       "      <td>0</td>\n",
       "      <td>0</td>\n",
       "      <td>...</td>\n",
       "      <td>800063</td>\n",
       "      <td>7.07%</td>\n",
       "      <td>9069</td>\n",
       "      <td>0.08%</td>\n",
       "      <td>0</td>\n",
       "      <td>0.00%</td>\n",
       "      <td>1695680</td>\n",
       "      <td>14.98%</td>\n",
       "      <td>631844</td>\n",
       "      <td>5.58%</td>\n",
       "    </tr>\n",
       "    <tr>\n",
       "      <th>1</th>\n",
       "      <td>1022_S2-ChIP-OIN_1</td>\n",
       "      <td>587.77</td>\n",
       "      <td>8326726</td>\n",
       "      <td>50</td>\n",
       "      <td>6031078</td>\n",
       "      <td>72.43%</td>\n",
       "      <td>50.00</td>\n",
       "      <td>0</td>\n",
       "      <td>0</td>\n",
       "      <td>0</td>\n",
       "      <td>...</td>\n",
       "      <td>438703</td>\n",
       "      <td>5.27%</td>\n",
       "      <td>5899</td>\n",
       "      <td>0.07%</td>\n",
       "      <td>0</td>\n",
       "      <td>0.00%</td>\n",
       "      <td>1362332</td>\n",
       "      <td>16.36%</td>\n",
       "      <td>488714</td>\n",
       "      <td>5.87%</td>\n",
       "    </tr>\n",
       "    <tr>\n",
       "      <th>2</th>\n",
       "      <td>1168_S2-ChIP-OIN_1</td>\n",
       "      <td>683.74</td>\n",
       "      <td>9306428</td>\n",
       "      <td>50</td>\n",
       "      <td>6811738</td>\n",
       "      <td>73.19%</td>\n",
       "      <td>50.00</td>\n",
       "      <td>0</td>\n",
       "      <td>0</td>\n",
       "      <td>0</td>\n",
       "      <td>...</td>\n",
       "      <td>567436</td>\n",
       "      <td>6.10%</td>\n",
       "      <td>7039</td>\n",
       "      <td>0.08%</td>\n",
       "      <td>0</td>\n",
       "      <td>0.00%</td>\n",
       "      <td>1438322</td>\n",
       "      <td>15.46%</td>\n",
       "      <td>481893</td>\n",
       "      <td>5.18%</td>\n",
       "    </tr>\n",
       "    <tr>\n",
       "      <th>3</th>\n",
       "      <td>301_S2-ChIP-INPUT_1</td>\n",
       "      <td>506.93</td>\n",
       "      <td>3802009</td>\n",
       "      <td>50</td>\n",
       "      <td>2678260</td>\n",
       "      <td>70.44%</td>\n",
       "      <td>50.00</td>\n",
       "      <td>0</td>\n",
       "      <td>0</td>\n",
       "      <td>0</td>\n",
       "      <td>...</td>\n",
       "      <td>176431</td>\n",
       "      <td>4.64%</td>\n",
       "      <td>2883</td>\n",
       "      <td>0.08%</td>\n",
       "      <td>0</td>\n",
       "      <td>0.00%</td>\n",
       "      <td>696398</td>\n",
       "      <td>18.32%</td>\n",
       "      <td>248037</td>\n",
       "      <td>6.52%</td>\n",
       "    </tr>\n",
       "    <tr>\n",
       "      <th>4</th>\n",
       "      <td>301_S2-ChIP-OIN_1</td>\n",
       "      <td>626.12</td>\n",
       "      <td>8869984</td>\n",
       "      <td>50</td>\n",
       "      <td>6195787</td>\n",
       "      <td>69.85%</td>\n",
       "      <td>50.00</td>\n",
       "      <td>0</td>\n",
       "      <td>0</td>\n",
       "      <td>0</td>\n",
       "      <td>...</td>\n",
       "      <td>422415</td>\n",
       "      <td>4.76%</td>\n",
       "      <td>7204</td>\n",
       "      <td>0.08%</td>\n",
       "      <td>0</td>\n",
       "      <td>0.00%</td>\n",
       "      <td>1683006</td>\n",
       "      <td>18.97%</td>\n",
       "      <td>561572</td>\n",
       "      <td>6.33%</td>\n",
       "    </tr>\n",
       "  </tbody>\n",
       "</table>\n",
       "<p>5 rows × 28 columns</p>\n",
       "</div>"
      ],
      "text/plain": [
       "idx             sample_id Mapping_speed_Million_of_reads_per_hour  \\\n",
       "0    1022_S2-ChIP-INPUT_1                                  714.74   \n",
       "1      1022_S2-ChIP-OIN_1                                  587.77   \n",
       "2      1168_S2-ChIP-OIN_1                                  683.74   \n",
       "3     301_S2-ChIP-INPUT_1                                  506.93   \n",
       "4       301_S2-ChIP-OIN_1                                  626.12   \n",
       "\n",
       "idx Number_of_input_reads Average_input_read_length  \\\n",
       "0                11316763                        50   \n",
       "1                 8326726                        50   \n",
       "2                 9306428                        50   \n",
       "3                 3802009                        50   \n",
       "4                 8869984                        50   \n",
       "\n",
       "idx Uniquely_mapped_reads_number Uniquely_mapped_reads_frac  \\\n",
       "0                        8180107                     72.28%   \n",
       "1                        6031078                     72.43%   \n",
       "2                        6811738                     73.19%   \n",
       "3                        2678260                     70.44%   \n",
       "4                        6195787                     69.85%   \n",
       "\n",
       "idx Average_mapped_length Number_of_splices_Total  \\\n",
       "0                   50.00                       0   \n",
       "1                   50.00                       0   \n",
       "2                   50.00                       0   \n",
       "3                   50.00                       0   \n",
       "4                   50.00                       0   \n",
       "\n",
       "idx Number_of_splices_Annotated_(sjdb) Number_of_splices_GT/AG  ...  \\\n",
       "0                                    0                       0  ...   \n",
       "1                                    0                       0  ...   \n",
       "2                                    0                       0  ...   \n",
       "3                                    0                       0  ...   \n",
       "4                                    0                       0  ...   \n",
       "\n",
       "idx Number_of_reads_mapped_to_multiple_loci  \\\n",
       "0                                    800063   \n",
       "1                                    438703   \n",
       "2                                    567436   \n",
       "3                                    176431   \n",
       "4                                    422415   \n",
       "\n",
       "idx frac_of_reads_mapped_to_multiple_loci  \\\n",
       "0                                   7.07%   \n",
       "1                                   5.27%   \n",
       "2                                   6.10%   \n",
       "3                                   4.64%   \n",
       "4                                   4.76%   \n",
       "\n",
       "idx Number_of_reads_mapped_to_too_many_loci  \\\n",
       "0                                      9069   \n",
       "1                                      5899   \n",
       "2                                      7039   \n",
       "3                                      2883   \n",
       "4                                      7204   \n",
       "\n",
       "idx frac_of_reads_mapped_to_too_many_loci  \\\n",
       "0                                   0.08%   \n",
       "1                                   0.07%   \n",
       "2                                   0.08%   \n",
       "3                                   0.08%   \n",
       "4                                   0.08%   \n",
       "\n",
       "idx Number_of_reads_unmapped_too_many_mismatches  \\\n",
       "0                                              0   \n",
       "1                                              0   \n",
       "2                                              0   \n",
       "3                                              0   \n",
       "4                                              0   \n",
       "\n",
       "idx frac_of_reads_unmapped_too_many_mismatches  \\\n",
       "0                                        0.00%   \n",
       "1                                        0.00%   \n",
       "2                                        0.00%   \n",
       "3                                        0.00%   \n",
       "4                                        0.00%   \n",
       "\n",
       "idx Number_of_reads_unmapped_too_short frac_of_reads_unmapped_too_short  \\\n",
       "0                              1695680                           14.98%   \n",
       "1                              1362332                           16.36%   \n",
       "2                              1438322                           15.46%   \n",
       "3                               696398                           18.32%   \n",
       "4                              1683006                           18.97%   \n",
       "\n",
       "idx Number_of_reads_unmapped_other frac_of_reads_unmapped_other  \n",
       "0                           631844                        5.58%  \n",
       "1                           488714                        5.87%  \n",
       "2                           481893                        5.18%  \n",
       "3                           248037                        6.52%  \n",
       "4                           561572                        6.33%  \n",
       "\n",
       "[5 rows x 28 columns]"
      ]
     },
     "execution_count": 24,
     "metadata": {},
     "output_type": "execute_result"
    }
   ],
   "source": [
    "summary_logs_df.head()"
   ]
  },
  {
   "cell_type": "code",
   "execution_count": 25,
   "metadata": {},
   "outputs": [
    {
     "data": {
      "text/plain": [
       "(153, 28)"
      ]
     },
     "execution_count": 25,
     "metadata": {},
     "output_type": "execute_result"
    }
   ],
   "source": [
    "summary_logs_df.shape"
   ]
  },
  {
   "cell_type": "markdown",
   "metadata": {},
   "source": [
    "- Fix **column type's** and **remove** `%` from columns containing `frac`"
   ]
  },
  {
   "cell_type": "code",
   "execution_count": 26,
   "metadata": {},
   "outputs": [],
   "source": [
    "frac_cols_type = {col:'float64' for col in summary_logs_df if 'frac' in col}\n",
    "#frac_cols_type"
   ]
  },
  {
   "cell_type": "code",
   "execution_count": 27,
   "metadata": {},
   "outputs": [],
   "source": [
    "frac_cols = list(frac_cols_type.keys())\n",
    "#frac_cols"
   ]
  },
  {
   "cell_type": "code",
   "execution_count": 28,
   "metadata": {},
   "outputs": [],
   "source": [
    "summary_logs_df = summary_logs_df.replace(to_replace = '\\%', value ='', regex=True).astype(frac_cols_type)"
   ]
  },
  {
   "cell_type": "code",
   "execution_count": 29,
   "metadata": {},
   "outputs": [],
   "source": [
    "# transform % to [0,1]\n",
    "summary_logs_df[frac_cols] = summary_logs_df[frac_cols] / 100"
   ]
  },
  {
   "cell_type": "code",
   "execution_count": 30,
   "metadata": {},
   "outputs": [
    {
     "data": {
      "text/html": [
       "<div>\n",
       "<style scoped>\n",
       "    .dataframe tbody tr th:only-of-type {\n",
       "        vertical-align: middle;\n",
       "    }\n",
       "\n",
       "    .dataframe tbody tr th {\n",
       "        vertical-align: top;\n",
       "    }\n",
       "\n",
       "    .dataframe thead th {\n",
       "        text-align: right;\n",
       "    }\n",
       "</style>\n",
       "<table border=\"1\" class=\"dataframe\">\n",
       "  <thead>\n",
       "    <tr style=\"text-align: right;\">\n",
       "      <th>idx</th>\n",
       "      <th>sample_id</th>\n",
       "      <th>Mapping_speed_Million_of_reads_per_hour</th>\n",
       "      <th>Number_of_input_reads</th>\n",
       "      <th>Average_input_read_length</th>\n",
       "      <th>Uniquely_mapped_reads_number</th>\n",
       "      <th>Uniquely_mapped_reads_frac</th>\n",
       "      <th>Average_mapped_length</th>\n",
       "      <th>Number_of_splices_Total</th>\n",
       "      <th>Number_of_splices_Annotated_(sjdb)</th>\n",
       "      <th>Number_of_splices_GT/AG</th>\n",
       "      <th>...</th>\n",
       "      <th>Number_of_reads_mapped_to_multiple_loci</th>\n",
       "      <th>frac_of_reads_mapped_to_multiple_loci</th>\n",
       "      <th>Number_of_reads_mapped_to_too_many_loci</th>\n",
       "      <th>frac_of_reads_mapped_to_too_many_loci</th>\n",
       "      <th>Number_of_reads_unmapped_too_many_mismatches</th>\n",
       "      <th>frac_of_reads_unmapped_too_many_mismatches</th>\n",
       "      <th>Number_of_reads_unmapped_too_short</th>\n",
       "      <th>frac_of_reads_unmapped_too_short</th>\n",
       "      <th>Number_of_reads_unmapped_other</th>\n",
       "      <th>frac_of_reads_unmapped_other</th>\n",
       "    </tr>\n",
       "  </thead>\n",
       "  <tbody>\n",
       "    <tr>\n",
       "      <th>0</th>\n",
       "      <td>1022_S2-ChIP-INPUT_1</td>\n",
       "      <td>714.74</td>\n",
       "      <td>11316763</td>\n",
       "      <td>50</td>\n",
       "      <td>8180107</td>\n",
       "      <td>0.7228</td>\n",
       "      <td>50.00</td>\n",
       "      <td>0</td>\n",
       "      <td>0</td>\n",
       "      <td>0</td>\n",
       "      <td>...</td>\n",
       "      <td>800063</td>\n",
       "      <td>0.0707</td>\n",
       "      <td>9069</td>\n",
       "      <td>0.0008</td>\n",
       "      <td>0</td>\n",
       "      <td>0.0</td>\n",
       "      <td>1695680</td>\n",
       "      <td>0.1498</td>\n",
       "      <td>631844</td>\n",
       "      <td>0.0558</td>\n",
       "    </tr>\n",
       "    <tr>\n",
       "      <th>1</th>\n",
       "      <td>1022_S2-ChIP-OIN_1</td>\n",
       "      <td>587.77</td>\n",
       "      <td>8326726</td>\n",
       "      <td>50</td>\n",
       "      <td>6031078</td>\n",
       "      <td>0.7243</td>\n",
       "      <td>50.00</td>\n",
       "      <td>0</td>\n",
       "      <td>0</td>\n",
       "      <td>0</td>\n",
       "      <td>...</td>\n",
       "      <td>438703</td>\n",
       "      <td>0.0527</td>\n",
       "      <td>5899</td>\n",
       "      <td>0.0007</td>\n",
       "      <td>0</td>\n",
       "      <td>0.0</td>\n",
       "      <td>1362332</td>\n",
       "      <td>0.1636</td>\n",
       "      <td>488714</td>\n",
       "      <td>0.0587</td>\n",
       "    </tr>\n",
       "    <tr>\n",
       "      <th>2</th>\n",
       "      <td>1168_S2-ChIP-OIN_1</td>\n",
       "      <td>683.74</td>\n",
       "      <td>9306428</td>\n",
       "      <td>50</td>\n",
       "      <td>6811738</td>\n",
       "      <td>0.7319</td>\n",
       "      <td>50.00</td>\n",
       "      <td>0</td>\n",
       "      <td>0</td>\n",
       "      <td>0</td>\n",
       "      <td>...</td>\n",
       "      <td>567436</td>\n",
       "      <td>0.0610</td>\n",
       "      <td>7039</td>\n",
       "      <td>0.0008</td>\n",
       "      <td>0</td>\n",
       "      <td>0.0</td>\n",
       "      <td>1438322</td>\n",
       "      <td>0.1546</td>\n",
       "      <td>481893</td>\n",
       "      <td>0.0518</td>\n",
       "    </tr>\n",
       "    <tr>\n",
       "      <th>3</th>\n",
       "      <td>301_S2-ChIP-INPUT_1</td>\n",
       "      <td>506.93</td>\n",
       "      <td>3802009</td>\n",
       "      <td>50</td>\n",
       "      <td>2678260</td>\n",
       "      <td>0.7044</td>\n",
       "      <td>50.00</td>\n",
       "      <td>0</td>\n",
       "      <td>0</td>\n",
       "      <td>0</td>\n",
       "      <td>...</td>\n",
       "      <td>176431</td>\n",
       "      <td>0.0464</td>\n",
       "      <td>2883</td>\n",
       "      <td>0.0008</td>\n",
       "      <td>0</td>\n",
       "      <td>0.0</td>\n",
       "      <td>696398</td>\n",
       "      <td>0.1832</td>\n",
       "      <td>248037</td>\n",
       "      <td>0.0652</td>\n",
       "    </tr>\n",
       "    <tr>\n",
       "      <th>4</th>\n",
       "      <td>301_S2-ChIP-OIN_1</td>\n",
       "      <td>626.12</td>\n",
       "      <td>8869984</td>\n",
       "      <td>50</td>\n",
       "      <td>6195787</td>\n",
       "      <td>0.6985</td>\n",
       "      <td>50.00</td>\n",
       "      <td>0</td>\n",
       "      <td>0</td>\n",
       "      <td>0</td>\n",
       "      <td>...</td>\n",
       "      <td>422415</td>\n",
       "      <td>0.0476</td>\n",
       "      <td>7204</td>\n",
       "      <td>0.0008</td>\n",
       "      <td>0</td>\n",
       "      <td>0.0</td>\n",
       "      <td>1683006</td>\n",
       "      <td>0.1897</td>\n",
       "      <td>561572</td>\n",
       "      <td>0.0633</td>\n",
       "    </tr>\n",
       "  </tbody>\n",
       "</table>\n",
       "<p>5 rows × 28 columns</p>\n",
       "</div>"
      ],
      "text/plain": [
       "idx             sample_id Mapping_speed_Million_of_reads_per_hour  \\\n",
       "0    1022_S2-ChIP-INPUT_1                                  714.74   \n",
       "1      1022_S2-ChIP-OIN_1                                  587.77   \n",
       "2      1168_S2-ChIP-OIN_1                                  683.74   \n",
       "3     301_S2-ChIP-INPUT_1                                  506.93   \n",
       "4       301_S2-ChIP-OIN_1                                  626.12   \n",
       "\n",
       "idx Number_of_input_reads Average_input_read_length  \\\n",
       "0                11316763                        50   \n",
       "1                 8326726                        50   \n",
       "2                 9306428                        50   \n",
       "3                 3802009                        50   \n",
       "4                 8869984                        50   \n",
       "\n",
       "idx Uniquely_mapped_reads_number  Uniquely_mapped_reads_frac  \\\n",
       "0                        8180107                      0.7228   \n",
       "1                        6031078                      0.7243   \n",
       "2                        6811738                      0.7319   \n",
       "3                        2678260                      0.7044   \n",
       "4                        6195787                      0.6985   \n",
       "\n",
       "idx Average_mapped_length Number_of_splices_Total  \\\n",
       "0                   50.00                       0   \n",
       "1                   50.00                       0   \n",
       "2                   50.00                       0   \n",
       "3                   50.00                       0   \n",
       "4                   50.00                       0   \n",
       "\n",
       "idx Number_of_splices_Annotated_(sjdb) Number_of_splices_GT/AG  ...  \\\n",
       "0                                    0                       0  ...   \n",
       "1                                    0                       0  ...   \n",
       "2                                    0                       0  ...   \n",
       "3                                    0                       0  ...   \n",
       "4                                    0                       0  ...   \n",
       "\n",
       "idx Number_of_reads_mapped_to_multiple_loci  \\\n",
       "0                                    800063   \n",
       "1                                    438703   \n",
       "2                                    567436   \n",
       "3                                    176431   \n",
       "4                                    422415   \n",
       "\n",
       "idx frac_of_reads_mapped_to_multiple_loci  \\\n",
       "0                                  0.0707   \n",
       "1                                  0.0527   \n",
       "2                                  0.0610   \n",
       "3                                  0.0464   \n",
       "4                                  0.0476   \n",
       "\n",
       "idx Number_of_reads_mapped_to_too_many_loci  \\\n",
       "0                                      9069   \n",
       "1                                      5899   \n",
       "2                                      7039   \n",
       "3                                      2883   \n",
       "4                                      7204   \n",
       "\n",
       "idx  frac_of_reads_mapped_to_too_many_loci  \\\n",
       "0                                   0.0008   \n",
       "1                                   0.0007   \n",
       "2                                   0.0008   \n",
       "3                                   0.0008   \n",
       "4                                   0.0008   \n",
       "\n",
       "idx Number_of_reads_unmapped_too_many_mismatches  \\\n",
       "0                                              0   \n",
       "1                                              0   \n",
       "2                                              0   \n",
       "3                                              0   \n",
       "4                                              0   \n",
       "\n",
       "idx frac_of_reads_unmapped_too_many_mismatches  \\\n",
       "0                                          0.0   \n",
       "1                                          0.0   \n",
       "2                                          0.0   \n",
       "3                                          0.0   \n",
       "4                                          0.0   \n",
       "\n",
       "idx Number_of_reads_unmapped_too_short frac_of_reads_unmapped_too_short  \\\n",
       "0                              1695680                           0.1498   \n",
       "1                              1362332                           0.1636   \n",
       "2                              1438322                           0.1546   \n",
       "3                               696398                           0.1832   \n",
       "4                              1683006                           0.1897   \n",
       "\n",
       "idx Number_of_reads_unmapped_other  frac_of_reads_unmapped_other  \n",
       "0                           631844                        0.0558  \n",
       "1                           488714                        0.0587  \n",
       "2                           481893                        0.0518  \n",
       "3                           248037                        0.0652  \n",
       "4                           561572                        0.0633  \n",
       "\n",
       "[5 rows x 28 columns]"
      ]
     },
     "execution_count": 30,
     "metadata": {},
     "output_type": "execute_result"
    }
   ],
   "source": [
    "summary_logs_df.head()"
   ]
  },
  {
   "cell_type": "code",
   "execution_count": 31,
   "metadata": {},
   "outputs": [
    {
     "data": {
      "text/plain": [
       "(153, 28)"
      ]
     },
     "execution_count": 31,
     "metadata": {},
     "output_type": "execute_result"
    }
   ],
   "source": [
    "summary_logs_df.shape"
   ]
  },
  {
   "cell_type": "markdown",
   "metadata": {},
   "source": [
    "- **STAR log cols**: ignore `sample_id` column"
   ]
  },
  {
   "cell_type": "code",
   "execution_count": 32,
   "metadata": {},
   "outputs": [],
   "source": [
    "star_log_cols = summary_logs_df.columns[1:].tolist()\n",
    "#star_log_cols"
   ]
  },
  {
   "cell_type": "markdown",
   "metadata": {},
   "source": [
    "- Merge with sample **annotation** DataFrame"
   ]
  },
  {
   "cell_type": "code",
   "execution_count": 33,
   "metadata": {},
   "outputs": [],
   "source": [
    "summary_logs_df = pd.merge(all_samples_df, summary_logs_df, on='sample_id')"
   ]
  },
  {
   "cell_type": "code",
   "execution_count": 34,
   "metadata": {},
   "outputs": [
    {
     "data": {
      "text/html": [
       "<div>\n",
       "<style scoped>\n",
       "    .dataframe tbody tr th:only-of-type {\n",
       "        vertical-align: middle;\n",
       "    }\n",
       "\n",
       "    .dataframe tbody tr th {\n",
       "        vertical-align: top;\n",
       "    }\n",
       "\n",
       "    .dataframe thead th {\n",
       "        text-align: right;\n",
       "    }\n",
       "</style>\n",
       "<table border=\"1\" class=\"dataframe\">\n",
       "  <thead>\n",
       "    <tr style=\"text-align: right;\">\n",
       "      <th></th>\n",
       "      <th>sample_id</th>\n",
       "      <th>pipeline_type</th>\n",
       "      <th>seq_category</th>\n",
       "      <th>seq_type</th>\n",
       "      <th>mutant_id</th>\n",
       "      <th>mutant</th>\n",
       "      <th>replicate</th>\n",
       "      <th>batch</th>\n",
       "      <th>trimmed</th>\n",
       "      <th>star_log_file</th>\n",
       "      <th>...</th>\n",
       "      <th>Number_of_reads_mapped_to_multiple_loci</th>\n",
       "      <th>frac_of_reads_mapped_to_multiple_loci</th>\n",
       "      <th>Number_of_reads_mapped_to_too_many_loci</th>\n",
       "      <th>frac_of_reads_mapped_to_too_many_loci</th>\n",
       "      <th>Number_of_reads_unmapped_too_many_mismatches</th>\n",
       "      <th>frac_of_reads_unmapped_too_many_mismatches</th>\n",
       "      <th>Number_of_reads_unmapped_too_short</th>\n",
       "      <th>frac_of_reads_unmapped_too_short</th>\n",
       "      <th>Number_of_reads_unmapped_other</th>\n",
       "      <th>frac_of_reads_unmapped_other</th>\n",
       "    </tr>\n",
       "  </thead>\n",
       "  <tbody>\n",
       "    <tr>\n",
       "      <th>0</th>\n",
       "      <td>1022_S2-ChIP-INPUT_1</td>\n",
       "      <td>ChIP</td>\n",
       "      <td>INPUT</td>\n",
       "      <td>S2-ChIP-INPUT</td>\n",
       "      <td>1022</td>\n",
       "      <td>mot2d</td>\n",
       "      <td>1</td>\n",
       "      <td>revision</td>\n",
       "      <td>False</td>\n",
       "      <td>/gcm-lfs1/pablo/data/rna_silencing/seq_data/IN...</td>\n",
       "      <td>...</td>\n",
       "      <td>800063</td>\n",
       "      <td>0.0707</td>\n",
       "      <td>9069</td>\n",
       "      <td>0.0008</td>\n",
       "      <td>0</td>\n",
       "      <td>0.0</td>\n",
       "      <td>1695680</td>\n",
       "      <td>0.1498</td>\n",
       "      <td>631844</td>\n",
       "      <td>0.0558</td>\n",
       "    </tr>\n",
       "    <tr>\n",
       "      <th>1</th>\n",
       "      <td>1022_S2-ChIP-OIN_1</td>\n",
       "      <td>ChIP</td>\n",
       "      <td>INPUT</td>\n",
       "      <td>S2-ChIP-OIN</td>\n",
       "      <td>1022</td>\n",
       "      <td>mot2d</td>\n",
       "      <td>1</td>\n",
       "      <td>revision</td>\n",
       "      <td>False</td>\n",
       "      <td>/gcm-lfs1/pablo/data/rna_silencing/seq_data/IN...</td>\n",
       "      <td>...</td>\n",
       "      <td>438703</td>\n",
       "      <td>0.0527</td>\n",
       "      <td>5899</td>\n",
       "      <td>0.0007</td>\n",
       "      <td>0</td>\n",
       "      <td>0.0</td>\n",
       "      <td>1362332</td>\n",
       "      <td>0.1636</td>\n",
       "      <td>488714</td>\n",
       "      <td>0.0587</td>\n",
       "    </tr>\n",
       "    <tr>\n",
       "      <th>2</th>\n",
       "      <td>1168_S2-ChIP-OIN_1</td>\n",
       "      <td>ChIP</td>\n",
       "      <td>INPUT</td>\n",
       "      <td>S2-ChIP-OIN</td>\n",
       "      <td>1168</td>\n",
       "      <td>caf1d*ccr4d*</td>\n",
       "      <td>1</td>\n",
       "      <td>revision</td>\n",
       "      <td>False</td>\n",
       "      <td>/gcm-lfs1/pablo/data/rna_silencing/seq_data/IN...</td>\n",
       "      <td>...</td>\n",
       "      <td>567436</td>\n",
       "      <td>0.0610</td>\n",
       "      <td>7039</td>\n",
       "      <td>0.0008</td>\n",
       "      <td>0</td>\n",
       "      <td>0.0</td>\n",
       "      <td>1438322</td>\n",
       "      <td>0.1546</td>\n",
       "      <td>481893</td>\n",
       "      <td>0.0518</td>\n",
       "    </tr>\n",
       "    <tr>\n",
       "      <th>3</th>\n",
       "      <td>301_S2-ChIP-INPUT_1</td>\n",
       "      <td>ChIP</td>\n",
       "      <td>INPUT</td>\n",
       "      <td>S2-ChIP-INPUT</td>\n",
       "      <td>301</td>\n",
       "      <td>swi6d</td>\n",
       "      <td>1</td>\n",
       "      <td>manuscript</td>\n",
       "      <td>False</td>\n",
       "      <td>/gcm-lfs1/pablo/data/rna_silencing/seq_data/IN...</td>\n",
       "      <td>...</td>\n",
       "      <td>176431</td>\n",
       "      <td>0.0464</td>\n",
       "      <td>2883</td>\n",
       "      <td>0.0008</td>\n",
       "      <td>0</td>\n",
       "      <td>0.0</td>\n",
       "      <td>696398</td>\n",
       "      <td>0.1832</td>\n",
       "      <td>248037</td>\n",
       "      <td>0.0652</td>\n",
       "    </tr>\n",
       "    <tr>\n",
       "      <th>4</th>\n",
       "      <td>301_S2-ChIP-OIN_1</td>\n",
       "      <td>ChIP</td>\n",
       "      <td>INPUT</td>\n",
       "      <td>S2-ChIP-OIN</td>\n",
       "      <td>301</td>\n",
       "      <td>swi6d</td>\n",
       "      <td>1</td>\n",
       "      <td>revision</td>\n",
       "      <td>False</td>\n",
       "      <td>/gcm-lfs1/pablo/data/rna_silencing/seq_data/IN...</td>\n",
       "      <td>...</td>\n",
       "      <td>422415</td>\n",
       "      <td>0.0476</td>\n",
       "      <td>7204</td>\n",
       "      <td>0.0008</td>\n",
       "      <td>0</td>\n",
       "      <td>0.0</td>\n",
       "      <td>1683006</td>\n",
       "      <td>0.1897</td>\n",
       "      <td>561572</td>\n",
       "      <td>0.0633</td>\n",
       "    </tr>\n",
       "  </tbody>\n",
       "</table>\n",
       "<p>5 rows × 37 columns</p>\n",
       "</div>"
      ],
      "text/plain": [
       "              sample_id pipeline_type seq_category       seq_type mutant_id  \\\n",
       "0  1022_S2-ChIP-INPUT_1          ChIP        INPUT  S2-ChIP-INPUT      1022   \n",
       "1    1022_S2-ChIP-OIN_1          ChIP        INPUT    S2-ChIP-OIN      1022   \n",
       "2    1168_S2-ChIP-OIN_1          ChIP        INPUT    S2-ChIP-OIN      1168   \n",
       "3   301_S2-ChIP-INPUT_1          ChIP        INPUT  S2-ChIP-INPUT       301   \n",
       "4     301_S2-ChIP-OIN_1          ChIP        INPUT    S2-ChIP-OIN       301   \n",
       "\n",
       "         mutant  replicate       batch  trimmed  \\\n",
       "0         mot2d          1    revision    False   \n",
       "1         mot2d          1    revision    False   \n",
       "2  caf1d*ccr4d*          1    revision    False   \n",
       "3         swi6d          1  manuscript    False   \n",
       "4         swi6d          1    revision    False   \n",
       "\n",
       "                                       star_log_file  ...  \\\n",
       "0  /gcm-lfs1/pablo/data/rna_silencing/seq_data/IN...  ...   \n",
       "1  /gcm-lfs1/pablo/data/rna_silencing/seq_data/IN...  ...   \n",
       "2  /gcm-lfs1/pablo/data/rna_silencing/seq_data/IN...  ...   \n",
       "3  /gcm-lfs1/pablo/data/rna_silencing/seq_data/IN...  ...   \n",
       "4  /gcm-lfs1/pablo/data/rna_silencing/seq_data/IN...  ...   \n",
       "\n",
       "  Number_of_reads_mapped_to_multiple_loci  \\\n",
       "0                                  800063   \n",
       "1                                  438703   \n",
       "2                                  567436   \n",
       "3                                  176431   \n",
       "4                                  422415   \n",
       "\n",
       "  frac_of_reads_mapped_to_multiple_loci  \\\n",
       "0                                0.0707   \n",
       "1                                0.0527   \n",
       "2                                0.0610   \n",
       "3                                0.0464   \n",
       "4                                0.0476   \n",
       "\n",
       "  Number_of_reads_mapped_to_too_many_loci  \\\n",
       "0                                    9069   \n",
       "1                                    5899   \n",
       "2                                    7039   \n",
       "3                                    2883   \n",
       "4                                    7204   \n",
       "\n",
       "  frac_of_reads_mapped_to_too_many_loci  \\\n",
       "0                                0.0008   \n",
       "1                                0.0007   \n",
       "2                                0.0008   \n",
       "3                                0.0008   \n",
       "4                                0.0008   \n",
       "\n",
       "   Number_of_reads_unmapped_too_many_mismatches  \\\n",
       "0                                             0   \n",
       "1                                             0   \n",
       "2                                             0   \n",
       "3                                             0   \n",
       "4                                             0   \n",
       "\n",
       "  frac_of_reads_unmapped_too_many_mismatches  \\\n",
       "0                                        0.0   \n",
       "1                                        0.0   \n",
       "2                                        0.0   \n",
       "3                                        0.0   \n",
       "4                                        0.0   \n",
       "\n",
       "  Number_of_reads_unmapped_too_short frac_of_reads_unmapped_too_short  \\\n",
       "0                            1695680                           0.1498   \n",
       "1                            1362332                           0.1636   \n",
       "2                            1438322                           0.1546   \n",
       "3                             696398                           0.1832   \n",
       "4                            1683006                           0.1897   \n",
       "\n",
       "  Number_of_reads_unmapped_other frac_of_reads_unmapped_other  \n",
       "0                         631844                       0.0558  \n",
       "1                         488714                       0.0587  \n",
       "2                         481893                       0.0518  \n",
       "3                         248037                       0.0652  \n",
       "4                         561572                       0.0633  \n",
       "\n",
       "[5 rows x 37 columns]"
      ]
     },
     "execution_count": 34,
     "metadata": {},
     "output_type": "execute_result"
    }
   ],
   "source": [
    "summary_logs_df.head()"
   ]
  },
  {
   "cell_type": "code",
   "execution_count": 35,
   "metadata": {},
   "outputs": [
    {
     "data": {
      "text/plain": [
       "(153, 37)"
      ]
     },
     "execution_count": 35,
     "metadata": {},
     "output_type": "execute_result"
    }
   ],
   "source": [
    "summary_logs_df.shape"
   ]
  },
  {
   "cell_type": "markdown",
   "metadata": {},
   "source": [
    "- **Store** dataframe containing annotation of all samples:"
   ]
  },
  {
   "cell_type": "code",
   "execution_count": 36,
   "metadata": {},
   "outputs": [
    {
     "data": {
      "text/plain": [
       "'/gcm-lfs1/pablo/data/rna_silencing/seq_data/summary_alignment_logs.csv'"
      ]
     },
     "execution_count": 36,
     "metadata": {},
     "output_type": "execute_result"
    }
   ],
   "source": [
    "summary_logs_file = os.path.join(project_data_dir, 'seq_data', 'summary_alignment_logs.csv')\n",
    "summary_logs_file"
   ]
  },
  {
   "cell_type": "code",
   "execution_count": 37,
   "metadata": {},
   "outputs": [],
   "source": [
    "summary_logs_df.to_csv(summary_logs_file, sep=\"\\t\", index=False)"
   ]
  },
  {
   "cell_type": "markdown",
   "metadata": {},
   "source": [
    "---------------------------"
   ]
  },
  {
   "cell_type": "markdown",
   "metadata": {},
   "source": [
    "# Visualization"
   ]
  },
  {
   "cell_type": "markdown",
   "metadata": {},
   "source": [
    "---------------------------"
   ]
  },
  {
   "cell_type": "code",
   "execution_count": 38,
   "metadata": {},
   "outputs": [],
   "source": [
    "import seaborn as sns"
   ]
  },
  {
   "cell_type": "code",
   "execution_count": 39,
   "metadata": {},
   "outputs": [],
   "source": [
    "import matplotlib.pyplot as plt\n",
    "plt.style.use('ggplot')"
   ]
  },
  {
   "cell_type": "markdown",
   "metadata": {},
   "source": [
    "- Prepare Data Frame into **tidy format** for visualization using `seaborn`"
   ]
  },
  {
   "cell_type": "code",
   "execution_count": 45,
   "metadata": {},
   "outputs": [],
   "source": [
    "id_vars = select_cols.copy()\n",
    "id_vars.append('star_log_file')"
   ]
  },
  {
   "cell_type": "code",
   "execution_count": 46,
   "metadata": {},
   "outputs": [],
   "source": [
    "#id_vars"
   ]
  },
  {
   "cell_type": "code",
   "execution_count": 47,
   "metadata": {},
   "outputs": [],
   "source": [
    "summary_logs_tidy_df = pd.melt(summary_logs_df, id_vars = id_vars, var_name = 'star_log_var')\n",
    "summary_logs_tidy_df = summary_logs_tidy_df.astype({'value':'float64'})"
   ]
  },
  {
   "cell_type": "code",
   "execution_count": 48,
   "metadata": {},
   "outputs": [
    {
     "data": {
      "text/html": [
       "<div>\n",
       "<style scoped>\n",
       "    .dataframe tbody tr th:only-of-type {\n",
       "        vertical-align: middle;\n",
       "    }\n",
       "\n",
       "    .dataframe tbody tr th {\n",
       "        vertical-align: top;\n",
       "    }\n",
       "\n",
       "    .dataframe thead th {\n",
       "        text-align: right;\n",
       "    }\n",
       "</style>\n",
       "<table border=\"1\" class=\"dataframe\">\n",
       "  <thead>\n",
       "    <tr style=\"text-align: right;\">\n",
       "      <th></th>\n",
       "      <th>sample_id</th>\n",
       "      <th>pipeline_type</th>\n",
       "      <th>seq_category</th>\n",
       "      <th>seq_type</th>\n",
       "      <th>mutant_id</th>\n",
       "      <th>mutant</th>\n",
       "      <th>replicate</th>\n",
       "      <th>batch</th>\n",
       "      <th>trimmed</th>\n",
       "      <th>star_log_file</th>\n",
       "      <th>star_log_var</th>\n",
       "      <th>value</th>\n",
       "    </tr>\n",
       "  </thead>\n",
       "  <tbody>\n",
       "    <tr>\n",
       "      <th>0</th>\n",
       "      <td>1022_S2-ChIP-INPUT_1</td>\n",
       "      <td>ChIP</td>\n",
       "      <td>INPUT</td>\n",
       "      <td>S2-ChIP-INPUT</td>\n",
       "      <td>1022</td>\n",
       "      <td>mot2d</td>\n",
       "      <td>1</td>\n",
       "      <td>revision</td>\n",
       "      <td>False</td>\n",
       "      <td>/gcm-lfs1/pablo/data/rna_silencing/seq_data/IN...</td>\n",
       "      <td>Mapping_speed_Million_of_reads_per_hour</td>\n",
       "      <td>714.74</td>\n",
       "    </tr>\n",
       "    <tr>\n",
       "      <th>1</th>\n",
       "      <td>1022_S2-ChIP-OIN_1</td>\n",
       "      <td>ChIP</td>\n",
       "      <td>INPUT</td>\n",
       "      <td>S2-ChIP-OIN</td>\n",
       "      <td>1022</td>\n",
       "      <td>mot2d</td>\n",
       "      <td>1</td>\n",
       "      <td>revision</td>\n",
       "      <td>False</td>\n",
       "      <td>/gcm-lfs1/pablo/data/rna_silencing/seq_data/IN...</td>\n",
       "      <td>Mapping_speed_Million_of_reads_per_hour</td>\n",
       "      <td>587.77</td>\n",
       "    </tr>\n",
       "    <tr>\n",
       "      <th>2</th>\n",
       "      <td>1168_S2-ChIP-OIN_1</td>\n",
       "      <td>ChIP</td>\n",
       "      <td>INPUT</td>\n",
       "      <td>S2-ChIP-OIN</td>\n",
       "      <td>1168</td>\n",
       "      <td>caf1d*ccr4d*</td>\n",
       "      <td>1</td>\n",
       "      <td>revision</td>\n",
       "      <td>False</td>\n",
       "      <td>/gcm-lfs1/pablo/data/rna_silencing/seq_data/IN...</td>\n",
       "      <td>Mapping_speed_Million_of_reads_per_hour</td>\n",
       "      <td>683.74</td>\n",
       "    </tr>\n",
       "    <tr>\n",
       "      <th>3</th>\n",
       "      <td>301_S2-ChIP-INPUT_1</td>\n",
       "      <td>ChIP</td>\n",
       "      <td>INPUT</td>\n",
       "      <td>S2-ChIP-INPUT</td>\n",
       "      <td>301</td>\n",
       "      <td>swi6d</td>\n",
       "      <td>1</td>\n",
       "      <td>manuscript</td>\n",
       "      <td>False</td>\n",
       "      <td>/gcm-lfs1/pablo/data/rna_silencing/seq_data/IN...</td>\n",
       "      <td>Mapping_speed_Million_of_reads_per_hour</td>\n",
       "      <td>506.93</td>\n",
       "    </tr>\n",
       "    <tr>\n",
       "      <th>4</th>\n",
       "      <td>301_S2-ChIP-OIN_1</td>\n",
       "      <td>ChIP</td>\n",
       "      <td>INPUT</td>\n",
       "      <td>S2-ChIP-OIN</td>\n",
       "      <td>301</td>\n",
       "      <td>swi6d</td>\n",
       "      <td>1</td>\n",
       "      <td>revision</td>\n",
       "      <td>False</td>\n",
       "      <td>/gcm-lfs1/pablo/data/rna_silencing/seq_data/IN...</td>\n",
       "      <td>Mapping_speed_Million_of_reads_per_hour</td>\n",
       "      <td>626.12</td>\n",
       "    </tr>\n",
       "  </tbody>\n",
       "</table>\n",
       "</div>"
      ],
      "text/plain": [
       "              sample_id pipeline_type seq_category       seq_type mutant_id  \\\n",
       "0  1022_S2-ChIP-INPUT_1          ChIP        INPUT  S2-ChIP-INPUT      1022   \n",
       "1    1022_S2-ChIP-OIN_1          ChIP        INPUT    S2-ChIP-OIN      1022   \n",
       "2    1168_S2-ChIP-OIN_1          ChIP        INPUT    S2-ChIP-OIN      1168   \n",
       "3   301_S2-ChIP-INPUT_1          ChIP        INPUT  S2-ChIP-INPUT       301   \n",
       "4     301_S2-ChIP-OIN_1          ChIP        INPUT    S2-ChIP-OIN       301   \n",
       "\n",
       "         mutant  replicate       batch  trimmed  \\\n",
       "0         mot2d          1    revision    False   \n",
       "1         mot2d          1    revision    False   \n",
       "2  caf1d*ccr4d*          1    revision    False   \n",
       "3         swi6d          1  manuscript    False   \n",
       "4         swi6d          1    revision    False   \n",
       "\n",
       "                                       star_log_file  \\\n",
       "0  /gcm-lfs1/pablo/data/rna_silencing/seq_data/IN...   \n",
       "1  /gcm-lfs1/pablo/data/rna_silencing/seq_data/IN...   \n",
       "2  /gcm-lfs1/pablo/data/rna_silencing/seq_data/IN...   \n",
       "3  /gcm-lfs1/pablo/data/rna_silencing/seq_data/IN...   \n",
       "4  /gcm-lfs1/pablo/data/rna_silencing/seq_data/IN...   \n",
       "\n",
       "                              star_log_var   value  \n",
       "0  Mapping_speed_Million_of_reads_per_hour  714.74  \n",
       "1  Mapping_speed_Million_of_reads_per_hour  587.77  \n",
       "2  Mapping_speed_Million_of_reads_per_hour  683.74  \n",
       "3  Mapping_speed_Million_of_reads_per_hour  506.93  \n",
       "4  Mapping_speed_Million_of_reads_per_hour  626.12  "
      ]
     },
     "execution_count": 48,
     "metadata": {},
     "output_type": "execute_result"
    }
   ],
   "source": [
    "summary_logs_tidy_df.head()"
   ]
  },
  {
   "cell_type": "code",
   "execution_count": 49,
   "metadata": {},
   "outputs": [
    {
     "data": {
      "text/plain": [
       "(4131, 12)"
      ]
     },
     "execution_count": 49,
     "metadata": {},
     "output_type": "execute_result"
    }
   ],
   "source": [
    "summary_logs_tidy_df.shape"
   ]
  },
  {
   "cell_type": "markdown",
   "metadata": {},
   "source": [
    "- Variables that can be used for plotting"
   ]
  },
  {
   "cell_type": "code",
   "execution_count": 50,
   "metadata": {},
   "outputs": [],
   "source": [
    "plot_vars = summary_logs_tidy_df['star_log_var'].unique()\n",
    "#plot_vars"
   ]
  },
  {
   "cell_type": "markdown",
   "metadata": {},
   "source": [
    "## **A.** Number of:\n",
    "- **Input reads**\n",
    "- **Uniquely mapped reads**"
   ]
  },
  {
   "cell_type": "code",
   "execution_count": 51,
   "metadata": {},
   "outputs": [],
   "source": [
    "plot_abs_vars = ['Number_of_input_reads', 'Uniquely_mapped_reads_number']"
   ]
  },
  {
   "cell_type": "code",
   "execution_count": 52,
   "metadata": {},
   "outputs": [],
   "source": [
    "summary_logs_plot = summary_logs_tidy_df[summary_logs_tidy_df[\"star_log_var\"].isin(plot_abs_vars)]\n",
    "#summary_logs_plot"
   ]
  },
  {
   "cell_type": "code",
   "execution_count": 54,
   "metadata": {},
   "outputs": [
    {
     "data": {
      "text/plain": [
       "<seaborn.axisgrid.FacetGrid at 0x7facaa127278>"
      ]
     },
     "execution_count": 54,
     "metadata": {},
     "output_type": "execute_result"
    },
    {
     "data": {
      "image/png": "[encoded data removed]",
      "text/plain": [
       "<Figure size 1164.88x360 with 2 Axes>"
      ]
     },
     "metadata": {},
     "output_type": "display_data"
    }
   ],
   "source": [
    "box_plot = sns.catplot(\n",
    "    data=summary_logs_plot, \n",
    "    x=\"seq_type\", y=\"value\",\n",
    "    hue=\"seq_category\", \n",
    "    col=\"star_log_var\",\n",
    "    kind=\"box\",\n",
    "    aspect=1.5\n",
    "    #aspect=1\n",
    ")\n",
    "    \n",
    "box_plot.set_xticklabels(rotation=45)"
   ]
  },
  {
   "cell_type": "code",
   "execution_count": 55,
   "metadata": {},
   "outputs": [
    {
     "data": {
      "image/png": "[encoded data removed]",
      "text/plain": [
       "<Figure size 804.875x360 with 2 Axes>"
      ]
     },
     "metadata": {},
     "output_type": "display_data"
    }
   ],
   "source": [
    "dist_plot = sns.displot(\n",
    "    data=summary_logs_plot, \n",
    "    x=\"value\", \n",
    "    hue=\"seq_category\", \n",
    "    col=\"star_log_var\",\n",
    "    col_wrap=2,\n",
    "    #col_wrap=4,\n",
    "    stat=\"probability\"\n",
    ")"
   ]
  },
  {
   "cell_type": "markdown",
   "metadata": {},
   "source": [
    "## **B.** Fraction of:\n",
    "- **Uniquely Mapped**\n",
    "- **Multi-mapped**\n",
    "- **Mapped to too many loci**\n",
    "- Unmapped due to:\n",
    "    - **too many mismatches**\n",
    "    - **too short**\n",
    "    - **other**"
   ]
  },
  {
   "cell_type": "code",
   "execution_count": 56,
   "metadata": {},
   "outputs": [],
   "source": [
    "plot_abs_vars = [\n",
    "    'Uniquely_mapped_reads_frac', 'frac_of_reads_mapped_to_multiple_loci', 'frac_of_reads_mapped_to_too_many_loci', \n",
    "    'frac_of_reads_unmapped_too_many_mismatches', 'frac_of_reads_unmapped_too_short', 'frac_of_reads_unmapped_other'\n",
    "]"
   ]
  },
  {
   "cell_type": "code",
   "execution_count": 57,
   "metadata": {},
   "outputs": [],
   "source": [
    "summary_logs_plot = summary_logs_tidy_df[summary_logs_tidy_df[\"star_log_var\"].isin(plot_abs_vars)]\n",
    "#summary_logs_plot"
   ]
  },
  {
   "cell_type": "code",
   "execution_count": 59,
   "metadata": {},
   "outputs": [
    {
     "data": {
      "text/plain": [
       "<seaborn.axisgrid.FacetGrid at 0x7faca9b17f98>"
      ]
     },
     "execution_count": 59,
     "metadata": {},
     "output_type": "execute_result"
    },
    {
     "data": {
      "image/png": "[encoded data removed]",
      "text/plain": [
       "<Figure size 1164.88x720 with 6 Axes>"
      ]
     },
     "metadata": {},
     "output_type": "display_data"
    }
   ],
   "source": [
    "box_plot = sns.catplot(\n",
    "    data=summary_logs_plot, \n",
    "    x=\"seq_type\", y=\"value\",\n",
    "    hue=\"seq_category\",\n",
    "    col=\"star_log_var\",\n",
    "    kind=\"box\",\n",
    "    col_wrap = 3,\n",
    "    #aspect=1.5\n",
    "    aspect=1\n",
    ")\n",
    "    \n",
    "box_plot.set_xticklabels(rotation=45)\n"
   ]
  },
  {
   "cell_type": "code",
   "execution_count": 60,
   "metadata": {},
   "outputs": [
    {
     "data": {
      "text/plain": [
       "(0, 1)"
      ]
     },
     "execution_count": 60,
     "metadata": {},
     "output_type": "execute_result"
    },
    {
     "data": {
      "image/png": "[encoded data removed]",
      "text/plain": [
       "<Figure size 1380.88x720 with 6 Axes>"
      ]
     },
     "metadata": {},
     "output_type": "display_data"
    }
   ],
   "source": [
    "dist_plot = sns.displot(\n",
    "    data=summary_logs_plot, \n",
    "    x=\"value\", \n",
    "    hue=\"seq_category\", \n",
    "    col=\"star_log_var\",\n",
    "    col_wrap=3,\n",
    "    #col_wrap=4,\n",
    "    stat=\"probability\",\n",
    "    aspect=1.2\n",
    ")\n",
    "\n",
    "plt.xlim(0, 1)"
   ]
  },
  {
   "cell_type": "markdown",
   "metadata": {},
   "source": [
    "## **C.** Number of Splicing events"
   ]
  },
  {
   "cell_type": "code",
   "execution_count": 61,
   "metadata": {},
   "outputs": [],
   "source": [
    "plot_abs_vars = [\n",
    "    'Number_of_splices_Total', 'Number_of_splices_Annotated_(sjdb)', 'Number_of_splices_GT/AG',\n",
    "    'Number_of_splices_GC/AG', 'Number_of_splices_AT/AC', 'Number_of_splices_Noncanonical'\n",
    "]"
   ]
  },
  {
   "cell_type": "code",
   "execution_count": 62,
   "metadata": {},
   "outputs": [],
   "source": [
    "summary_logs_plot = summary_logs_tidy_df[summary_logs_tidy_df[\"star_log_var\"].isin(plot_abs_vars)]\n",
    "#summary_logs_plot"
   ]
  },
  {
   "cell_type": "code",
   "execution_count": 64,
   "metadata": {},
   "outputs": [
    {
     "data": {
      "text/plain": [
       "<seaborn.axisgrid.FacetGrid at 0x7faca8a92a20>"
      ]
     },
     "execution_count": 64,
     "metadata": {},
     "output_type": "execute_result"
    },
    {
     "data": {
      "image/png": "[encoded data removed]",
      "text/plain": [
       "<Figure size 1164.88x720 with 6 Axes>"
      ]
     },
     "metadata": {},
     "output_type": "display_data"
    }
   ],
   "source": [
    "box_plot = sns.catplot(\n",
    "    data=summary_logs_plot,\n",
    "    x=\"seq_type\", y=\"value\",\n",
    "    hue=\"seq_category\", \n",
    "    col=\"star_log_var\",\n",
    "     kind=\"box\",\n",
    "    col_wrap = 3,\n",
    "    #aspect=1.5\n",
    "    aspect=1\n",
    ")\n",
    "    \n",
    "box_plot.set_xticklabels(rotation=45)"
   ]
  },
  {
   "cell_type": "markdown",
   "metadata": {},
   "source": [
    "## **D.** Average Input read length and Mapped length"
   ]
  },
  {
   "cell_type": "code",
   "execution_count": 65,
   "metadata": {},
   "outputs": [],
   "source": [
    "plot_abs_vars = ['Average_input_read_length', 'Average_mapped_length']"
   ]
  },
  {
   "cell_type": "code",
   "execution_count": 66,
   "metadata": {},
   "outputs": [],
   "source": [
    "# # check\n",
    "# ['Mismatch_rate_per_base_frac', 'Deletion_rate_per_base',\n",
    "# 'Deletion_average_length', 'Insertion_rate_per_base',\n",
    "# 'Insertion_average_length',\n",
    "# # already ploted frac which is more interesenting\n",
    "# 'Number_of_reads_mapped_to_multiple_loci',\n",
    "# 'Number_of_reads_mapped_to_too_many_loci',\n",
    "# 'Number_of_reads_unmapped_too_many_mismatches',\n",
    "# 'Number_of_reads_unmapped_too_short',\n",
    "# 'Number_of_reads_unmapped_other']"
   ]
  },
  {
   "cell_type": "code",
   "execution_count": 67,
   "metadata": {},
   "outputs": [],
   "source": [
    "summary_logs_plot = summary_logs_tidy_df[summary_logs_tidy_df[\"star_log_var\"].isin(plot_abs_vars)]\n",
    "#summary_logs_plot"
   ]
  },
  {
   "cell_type": "code",
   "execution_count": 68,
   "metadata": {},
   "outputs": [
    {
     "data": {
      "text/plain": [
       "<seaborn.axisgrid.FacetGrid at 0x7faca6196588>"
      ]
     },
     "execution_count": 68,
     "metadata": {},
     "output_type": "execute_result"
    },
    {
     "data": {
      "image/png": "[encoded data removed]",
      "text/plain": [
       "<Figure size 1704.88x360 with 2 Axes>"
      ]
     },
     "metadata": {},
     "output_type": "display_data"
    }
   ],
   "source": [
    "box_plot = sns.catplot(\n",
    "    data=summary_logs_plot, \n",
    "    x=\"seq_type\", y=\"value\",\n",
    "    hue=\"seq_category\", \n",
    "    col=\"star_log_var\",\n",
    "    kind=\"box\",\n",
    "    col_wrap = 3,\n",
    "    aspect=1.5\n",
    ")\n",
    "    \n",
    "box_plot.set_xticklabels(rotation=45)"
   ]
  },
  {
   "cell_type": "markdown",
   "metadata": {},
   "source": [
    "## **E.** Rate of Mismatch, Deletion and Insertion per base"
   ]
  },
  {
   "cell_type": "code",
   "execution_count": 69,
   "metadata": {},
   "outputs": [],
   "source": [
    "plot_abs_vars = ['Mismatch_rate_per_base_frac', 'Deletion_rate_per_base', 'Insertion_rate_per_base',]"
   ]
  },
  {
   "cell_type": "code",
   "execution_count": 70,
   "metadata": {},
   "outputs": [],
   "source": [
    "# # check\n",
    "# ['Deletion_average_length', 'Insertion_average_length', \n",
    "# # already ploted frac which is more interesenting\n",
    "# 'Number_of_reads_mapped_to_multiple_loci',\n",
    "# 'Number_of_reads_mapped_to_too_many_loci',\n",
    "# 'Number_of_reads_unmapped_too_many_mismatches',\n",
    "# 'Number_of_reads_unmapped_too_short',\n",
    "# 'Number_of_reads_unmapped_other']"
   ]
  },
  {
   "cell_type": "code",
   "execution_count": 71,
   "metadata": {},
   "outputs": [],
   "source": [
    "summary_logs_plot = summary_logs_tidy_df[summary_logs_tidy_df[\"star_log_var\"].isin(plot_abs_vars)]\n",
    "#summary_logs_plot"
   ]
  },
  {
   "cell_type": "code",
   "execution_count": 72,
   "metadata": {},
   "outputs": [
    {
     "data": {
      "text/plain": [
       "<seaborn.axisgrid.FacetGrid at 0x7faca8a250f0>"
      ]
     },
     "execution_count": 72,
     "metadata": {},
     "output_type": "execute_result"
    },
    {
     "data": {
      "image/png": "[encoded data removed]",
      "text/plain": [
       "<Figure size 1164.88x360 with 3 Axes>"
      ]
     },
     "metadata": {},
     "output_type": "display_data"
    }
   ],
   "source": [
    "box_plot = sns.catplot(\n",
    "    data=summary_logs_plot,\n",
    "    x=\"seq_type\", y=\"value\",\n",
    "    hue=\"seq_category\",\n",
    "    col=\"star_log_var\",\n",
    "    kind=\"box\",\n",
    "    col_wrap = 3,\n",
    "    #aspect=1.5\n",
    "    aspect=1\n",
    ")\n",
    "    \n",
    "box_plot.set_xticklabels(rotation=45)"
   ]
  },
  {
   "cell_type": "markdown",
   "metadata": {},
   "source": [
    "## **D.** Average Deletion and Insertion length"
   ]
  },
  {
   "cell_type": "code",
   "execution_count": 73,
   "metadata": {},
   "outputs": [],
   "source": [
    "plot_abs_vars = ['Deletion_average_length', 'Insertion_average_length']"
   ]
  },
  {
   "cell_type": "code",
   "execution_count": 74,
   "metadata": {},
   "outputs": [],
   "source": [
    "summary_logs_plot = summary_logs_tidy_df[summary_logs_tidy_df[\"star_log_var\"].isin(plot_abs_vars)]\n",
    "#summary_logs_plot"
   ]
  },
  {
   "cell_type": "code",
   "execution_count": 75,
   "metadata": {},
   "outputs": [
    {
     "data": {
      "text/plain": [
       "<seaborn.axisgrid.FacetGrid at 0x7faca94cac18>"
      ]
     },
     "execution_count": 75,
     "metadata": {},
     "output_type": "execute_result"
    },
    {
     "data": {
      "image/png": "[encoded data removed]",
      "text/plain": [
       "<Figure size 1164.88x360 with 2 Axes>"
      ]
     },
     "metadata": {},
     "output_type": "display_data"
    }
   ],
   "source": [
    "box_plot = sns.catplot(\n",
    "    data=summary_logs_plot,\n",
    "    x=\"seq_type\", y=\"value\",\n",
    "    hue=\"seq_category\", \n",
    "    col=\"star_log_var\",\n",
    "    kind=\"box\",\n",
    "    col_wrap = 3,\n",
    "    #aspect=1.5\n",
    "    aspect=1\n",
    ")\n",
    "    \n",
    "box_plot.set_xticklabels(rotation=45)"
   ]
  },
  {
   "cell_type": "code",
   "execution_count": null,
   "metadata": {},
   "outputs": [],
   "source": [
    "## already ploted frac which is more interesenting\n",
    "['Number_of_reads_mapped_to_multiple_loci',\n",
    "'Number_of_reads_mapped_to_too_many_loci',\n",
    "'Number_of_reads_unmapped_too_many_mismatches',\n",
    "'Number_of_reads_unmapped_too_short',\n",
    "'Number_of_reads_unmapped_other']"
   ]
  }
 ],
 "metadata": {
  "kernelspec": {
   "display_name": "Python (heterochromatin)",
   "language": "python",
   "name": "heterochromatin"
  },
  "language_info": {
   "codemirror_mode": {
    "name": "ipython",
    "version": 3
   },
   "file_extension": ".py",
   "mimetype": "text/x-python",
   "name": "python",
   "nbconvert_exporter": "python",
   "pygments_lexer": "ipython3",
   "version": "3.6.7"
  }
 },
 "nbformat": 4,
 "nbformat_minor": 4
}
