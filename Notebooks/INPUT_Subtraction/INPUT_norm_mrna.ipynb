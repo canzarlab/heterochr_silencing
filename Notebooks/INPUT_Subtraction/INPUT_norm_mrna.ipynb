{
 "cells": [
  {
   "cell_type": "code",
   "execution_count": 1,
   "metadata": {},
   "outputs": [],
   "source": [
    "%load_ext autoreload\n",
    "%autoreload 2"
   ]
  },
  {
   "cell_type": "code",
   "execution_count": 2,
   "metadata": {},
   "outputs": [],
   "source": [
    "import itertools"
   ]
  },
  {
   "cell_type": "code",
   "execution_count": 3,
   "metadata": {},
   "outputs": [],
   "source": [
    "import HTSeq\n",
    "import pysam"
   ]
  },
  {
   "cell_type": "code",
   "execution_count": 4,
   "metadata": {},
   "outputs": [],
   "source": [
    "from sklearn.linear_model import LinearRegression\n",
    "from sklearn import metrics"
   ]
  },
  {
   "cell_type": "code",
   "execution_count": 5,
   "metadata": {},
   "outputs": [],
   "source": [
    "import matplotlib.pyplot as plt\n",
    "plt.style.use('ggplot')"
   ]
  },
  {
   "cell_type": "markdown",
   "metadata": {},
   "source": [
    "------------------------------"
   ]
  },
  {
   "cell_type": "markdown",
   "metadata": {},
   "source": [
    "## Config"
   ]
  },
  {
   "cell_type": "code",
   "execution_count": 6,
   "metadata": {},
   "outputs": [],
   "source": [
    "import sys"
   ]
  },
  {
   "cell_type": "code",
   "execution_count": 7,
   "metadata": {},
   "outputs": [],
   "source": [
    "project_dir = '/home/pmonteagudo/workspace/silencing_project'\n",
    "if project_dir not in sys.path: \n",
    "    sys.path.append(project_dir)\n",
    "from config_analysis import *"
   ]
  },
  {
   "cell_type": "code",
   "execution_count": 8,
   "metadata": {},
   "outputs": [],
   "source": [
    "# needed to import all our code\n",
    "my_scripts_dir = os.path.join(project_dir, 'htseq/scripts')\n",
    "if my_scripts_dir not in sys.path:\n",
    "    sys.path.append(my_scripts_dir)"
   ]
  },
  {
   "cell_type": "code",
   "execution_count": 9,
   "metadata": {},
   "outputs": [],
   "source": [
    "import coverage as cov"
   ]
  },
  {
   "cell_type": "code",
   "execution_count": 10,
   "metadata": {},
   "outputs": [],
   "source": [
    "import estimate_input_factor as ip"
   ]
  },
  {
   "cell_type": "markdown",
   "metadata": {},
   "source": [
    "- other **directories**"
   ]
  },
  {
   "cell_type": "code",
   "execution_count": 11,
   "metadata": {},
   "outputs": [
    {
     "data": {
      "text/plain": [
       "'/gcm-lfs1/pablo/data/rna_silencing/seq_data'"
      ]
     },
     "execution_count": 11,
     "metadata": {},
     "output_type": "execute_result"
    }
   ],
   "source": [
    "data_dir"
   ]
  },
  {
   "cell_type": "code",
   "execution_count": 12,
   "metadata": {},
   "outputs": [
    {
     "data": {
      "text/plain": [
       "'/gcm-lfs1/pablo/data/rna_silencing/results'"
      ]
     },
     "execution_count": 12,
     "metadata": {},
     "output_type": "execute_result"
    }
   ],
   "source": [
    "results_dir = data_results_dir\n",
    "results_dir"
   ]
  },
  {
   "cell_type": "markdown",
   "metadata": {},
   "source": [
    "------"
   ]
  },
  {
   "cell_type": "markdown",
   "metadata": {},
   "source": [
    "# INPUT Normalization: **Protein coding regions** (mRNA)"
   ]
  },
  {
   "cell_type": "markdown",
   "metadata": {},
   "source": [
    "------------"
   ]
  },
  {
   "cell_type": "markdown",
   "metadata": {},
   "source": [
    "## Workflow"
   ]
  },
  {
   "cell_type": "markdown",
   "metadata": {},
   "source": [
    "- Load `sample` and corresponding `INPUT` BAM files.\n",
    "- Create coverage for region of interest: \n",
    "    - **SPAC23G3.02c (sib1)**: `I - 854453 - 869704`\n",
    "    - **SPCC737.08 (mdn1)**: `III - 1900472 - 1914833`\n",
    "    - **SPAC1093.06c (dhc1)**: `I - 4622166 - 4635111`\n",
    "- Using [`fragment_size`](https://htseq.readthedocs.io/en/master/tss.html#using-the-full-coverage) `= None`"
   ]
  },
  {
   "cell_type": "markdown",
   "metadata": {},
   "source": [
    "--------------------------"
   ]
  },
  {
   "cell_type": "markdown",
   "metadata": {},
   "source": [
    "### Define Parameters"
   ]
  },
  {
   "cell_type": "code",
   "execution_count": 13,
   "metadata": {},
   "outputs": [],
   "source": [
    "ip_type = 'S2'\n",
    "#ip_type = 'S5'"
   ]
  },
  {
   "cell_type": "markdown",
   "metadata": {},
   "source": [
    "- Define `ChIP` sample and corresponding `INPUT`"
   ]
  },
  {
   "cell_type": "code",
   "execution_count": 14,
   "metadata": {},
   "outputs": [],
   "source": [
    "mutant_id = \"638\" # ago1\n",
    "#mutant_id = \"WT\" # ago1"
   ]
  },
  {
   "cell_type": "code",
   "execution_count": 15,
   "metadata": {},
   "outputs": [],
   "source": [
    "replicate_chip = \"1\"\n",
    "replicate_ip = \"1\"\n",
    "#replicate_ip = \"3\""
   ]
  },
  {
   "cell_type": "code",
   "execution_count": 16,
   "metadata": {},
   "outputs": [],
   "source": [
    "data_batch = 'H3K9me2'\n",
    "data_input_batch = 'INPUT'"
   ]
  },
  {
   "cell_type": "code",
   "execution_count": 17,
   "metadata": {},
   "outputs": [
    {
     "name": "stdout",
     "output_type": "stream",
     "text": [
      "Used ChIP `dataset_id`: 638_H3K9me2_1\n",
      "Used INPUT `dataset_id`: 638_S2-ChIP-INPUT_1\n"
     ]
    }
   ],
   "source": [
    "#dataset_id =  \"WT_H3K9me2_1\"\n",
    "dataset_id =  mutant_id + \"_\" + data_batch + \"_\" + replicate_chip\n",
    "print(\"Used ChIP `dataset_id`:\", dataset_id)\n",
    "\n",
    "#input_dataset_id = \"WT_S2-ChIP-INPUT_1\"\n",
    "input_dataset_id =  mutant_id + \"_\" + ip_type + \"-ChIP-\" + data_input_batch + \"_\" + replicate_ip\n",
    "print(\"Used INPUT `dataset_id`:\", input_dataset_id)"
   ]
  },
  {
   "cell_type": "markdown",
   "metadata": {},
   "source": [
    "- Load `BAM` files: instantiate BAM_Reader Object"
   ]
  },
  {
   "cell_type": "code",
   "execution_count": 18,
   "metadata": {},
   "outputs": [
    {
     "name": "stdout",
     "output_type": "stream",
     "text": [
      "/gcm-lfs1/pablo/data/rna_silencing/seq_data/H3K9me2/bam/638_H3K9me2_1/638_H3K9me2_1.Aligned.sortedByCoord.out.bam\n"
     ]
    }
   ],
   "source": [
    "bam_file = os.path.join(data_dir, data_batch, \"bam\", dataset_id, dataset_id + \".Aligned.sortedByCoord.out.bam\")\n",
    "print(bam_file)\n",
    "#bam = HTSeq.BAM_Reader(bam_file)"
   ]
  },
  {
   "cell_type": "code",
   "execution_count": 19,
   "metadata": {},
   "outputs": [
    {
     "name": "stdout",
     "output_type": "stream",
     "text": [
      "/gcm-lfs1/pablo/data/rna_silencing/seq_data/INPUT/bam/638_S2-ChIP-INPUT_1/638_S2-ChIP-INPUT_1.Aligned.sortedByCoord.out.bam\n"
     ]
    }
   ],
   "source": [
    "input_bam_file =  os.path.join(data_dir, data_input_batch, \"bam\", input_dataset_id, input_dataset_id +  \".Aligned.sortedByCoord.out.bam\")\n",
    "print(input_bam_file)\n",
    "#input_bam = HTSeq.BAM_Reader(input_bam_file)"
   ]
  },
  {
   "cell_type": "markdown",
   "metadata": {},
   "source": [
    "- Define characteristics for **coverage interval**:\n",
    "\n",
    "Longest **protein coding regions** (mRNA genes) which contain no heterochromatin and are therefore noise."
   ]
  },
  {
   "cell_type": "code",
   "execution_count": 20,
   "metadata": {},
   "outputs": [],
   "source": [
    "# # instead we can follow:\n",
    "# # => https://htseq.readthedocs.io/en/master/tss.html#using-indexed-bam-files\n",
    "# i_1 = {'chrom':'I', 'start_position': 3765776, 'end_position': 3776547}\n",
    "# i_2 = {'chrom':'II', 'start_position': 1619269, 'end_position': 1629017}\n",
    "# i_3 = {'chrom':'III', 'start_position': 1093002, 'end_position': 1105987}\n",
    "# genomic_intervals = [i_1, i_2, i_3]"
   ]
  },
  {
   "cell_type": "code",
   "execution_count": 21,
   "metadata": {},
   "outputs": [],
   "source": [
    "gdf_file = os.path.join(project_data_dir, 'annotation/gff_v2/Schizosaccharomyces_pombe_all_chromosomes.extended.features.csv')"
   ]
  },
  {
   "cell_type": "code",
   "execution_count": 22,
   "metadata": {},
   "outputs": [
    {
     "data": {
      "text/html": [
       "<div>\n",
       "<style scoped>\n",
       "    .dataframe tbody tr th:only-of-type {\n",
       "        vertical-align: middle;\n",
       "    }\n",
       "\n",
       "    .dataframe tbody tr th {\n",
       "        vertical-align: top;\n",
       "    }\n",
       "\n",
       "    .dataframe thead th {\n",
       "        text-align: right;\n",
       "    }\n",
       "</style>\n",
       "<table border=\"1\" class=\"dataframe\">\n",
       "  <thead>\n",
       "    <tr style=\"text-align: right;\">\n",
       "      <th></th>\n",
       "      <th>seqid</th>\n",
       "      <th>source</th>\n",
       "      <th>type</th>\n",
       "      <th>start</th>\n",
       "      <th>end</th>\n",
       "      <th>score</th>\n",
       "      <th>strand</th>\n",
       "      <th>phase</th>\n",
       "      <th>ID</th>\n",
       "      <th>Name</th>\n",
       "      <th>gene_id</th>\n",
       "      <th>gene_name</th>\n",
       "      <th>transcript_id</th>\n",
       "      <th>cds_length</th>\n",
       "      <th>utr_length</th>\n",
       "      <th>intron_length</th>\n",
       "      <th>bio_type</th>\n",
       "      <th>gene_length</th>\n",
       "      <th>transcript_length</th>\n",
       "      <th>category</th>\n",
       "    </tr>\n",
       "  </thead>\n",
       "  <tbody>\n",
       "    <tr>\n",
       "      <th>0</th>\n",
       "      <td>I</td>\n",
       "      <td>PomBase</td>\n",
       "      <td>gene</td>\n",
       "      <td>1798347</td>\n",
       "      <td>1799015</td>\n",
       "      <td>.</td>\n",
       "      <td>+</td>\n",
       "      <td>.</td>\n",
       "      <td>SPAC1002.01</td>\n",
       "      <td>mrx11</td>\n",
       "      <td>SPAC1002.01</td>\n",
       "      <td>mrx11</td>\n",
       "      <td>SPAC1002.01.1</td>\n",
       "      <td>540.0</td>\n",
       "      <td>NaN</td>\n",
       "      <td>129.0</td>\n",
       "      <td>mRNA</td>\n",
       "      <td>669</td>\n",
       "      <td>540.0</td>\n",
       "      <td>gene</td>\n",
       "    </tr>\n",
       "    <tr>\n",
       "      <th>1</th>\n",
       "      <td>I</td>\n",
       "      <td>PomBase</td>\n",
       "      <td>gene</td>\n",
       "      <td>1799061</td>\n",
       "      <td>1800053</td>\n",
       "      <td>.</td>\n",
       "      <td>+</td>\n",
       "      <td>.</td>\n",
       "      <td>SPAC1002.02</td>\n",
       "      <td>pom34</td>\n",
       "      <td>SPAC1002.02</td>\n",
       "      <td>pom34</td>\n",
       "      <td>SPAC1002.02.1</td>\n",
       "      <td>690.0</td>\n",
       "      <td>303.0</td>\n",
       "      <td>NaN</td>\n",
       "      <td>mRNA</td>\n",
       "      <td>993</td>\n",
       "      <td>993.0</td>\n",
       "      <td>gene</td>\n",
       "    </tr>\n",
       "    <tr>\n",
       "      <th>2</th>\n",
       "      <td>I</td>\n",
       "      <td>PomBase</td>\n",
       "      <td>gene</td>\n",
       "      <td>1799915</td>\n",
       "      <td>1803141</td>\n",
       "      <td>.</td>\n",
       "      <td>-</td>\n",
       "      <td>.</td>\n",
       "      <td>SPAC1002.03c</td>\n",
       "      <td>gls2</td>\n",
       "      <td>SPAC1002.03c</td>\n",
       "      <td>gls2</td>\n",
       "      <td>SPAC1002.03c.1</td>\n",
       "      <td>2772.0</td>\n",
       "      <td>455.0</td>\n",
       "      <td>NaN</td>\n",
       "      <td>mRNA</td>\n",
       "      <td>3227</td>\n",
       "      <td>3227.0</td>\n",
       "      <td>gene</td>\n",
       "    </tr>\n",
       "    <tr>\n",
       "      <th>3</th>\n",
       "      <td>I</td>\n",
       "      <td>PomBase</td>\n",
       "      <td>gene</td>\n",
       "      <td>1803624</td>\n",
       "      <td>1804491</td>\n",
       "      <td>.</td>\n",
       "      <td>-</td>\n",
       "      <td>.</td>\n",
       "      <td>SPAC1002.04c</td>\n",
       "      <td>taf11</td>\n",
       "      <td>SPAC1002.04c</td>\n",
       "      <td>taf11</td>\n",
       "      <td>SPAC1002.04c.1</td>\n",
       "      <td>600.0</td>\n",
       "      <td>268.0</td>\n",
       "      <td>NaN</td>\n",
       "      <td>mRNA</td>\n",
       "      <td>868</td>\n",
       "      <td>868.0</td>\n",
       "      <td>gene</td>\n",
       "    </tr>\n",
       "    <tr>\n",
       "      <th>4</th>\n",
       "      <td>I</td>\n",
       "      <td>PomBase</td>\n",
       "      <td>gene</td>\n",
       "      <td>1804548</td>\n",
       "      <td>1806797</td>\n",
       "      <td>.</td>\n",
       "      <td>-</td>\n",
       "      <td>.</td>\n",
       "      <td>SPAC1002.05c</td>\n",
       "      <td>jmj2</td>\n",
       "      <td>SPAC1002.05c</td>\n",
       "      <td>jmj2</td>\n",
       "      <td>SPAC1002.05c.1</td>\n",
       "      <td>2148.0</td>\n",
       "      <td>102.0</td>\n",
       "      <td>NaN</td>\n",
       "      <td>mRNA</td>\n",
       "      <td>2250</td>\n",
       "      <td>2250.0</td>\n",
       "      <td>gene</td>\n",
       "    </tr>\n",
       "  </tbody>\n",
       "</table>\n",
       "</div>"
      ],
      "text/plain": [
       "  seqid   source  type    start      end score strand phase            ID  \\\n",
       "0     I  PomBase  gene  1798347  1799015     .      +     .   SPAC1002.01   \n",
       "1     I  PomBase  gene  1799061  1800053     .      +     .   SPAC1002.02   \n",
       "2     I  PomBase  gene  1799915  1803141     .      -     .  SPAC1002.03c   \n",
       "3     I  PomBase  gene  1803624  1804491     .      -     .  SPAC1002.04c   \n",
       "4     I  PomBase  gene  1804548  1806797     .      -     .  SPAC1002.05c   \n",
       "\n",
       "    Name       gene_id gene_name   transcript_id  cds_length  utr_length  \\\n",
       "0  mrx11   SPAC1002.01     mrx11   SPAC1002.01.1       540.0         NaN   \n",
       "1  pom34   SPAC1002.02     pom34   SPAC1002.02.1       690.0       303.0   \n",
       "2   gls2  SPAC1002.03c      gls2  SPAC1002.03c.1      2772.0       455.0   \n",
       "3  taf11  SPAC1002.04c     taf11  SPAC1002.04c.1       600.0       268.0   \n",
       "4   jmj2  SPAC1002.05c      jmj2  SPAC1002.05c.1      2148.0       102.0   \n",
       "\n",
       "   intron_length bio_type  gene_length  transcript_length category  \n",
       "0          129.0     mRNA          669              540.0     gene  \n",
       "1            NaN     mRNA          993              993.0     gene  \n",
       "2            NaN     mRNA         3227             3227.0     gene  \n",
       "3            NaN     mRNA          868              868.0     gene  \n",
       "4            NaN     mRNA         2250             2250.0     gene  "
      ]
     },
     "execution_count": 22,
     "metadata": {},
     "output_type": "execute_result"
    }
   ],
   "source": [
    "# Import Gene Data Table (gdf)\n",
    "gdf = pd.read_csv(gdf_file, sep='\\t')\n",
    "gdf.head()"
   ]
  },
  {
   "cell_type": "code",
   "execution_count": 23,
   "metadata": {},
   "outputs": [
    {
     "data": {
      "text/plain": [
       "(7018, 20)"
      ]
     },
     "execution_count": 23,
     "metadata": {},
     "output_type": "execute_result"
    }
   ],
   "source": [
    "gdf.shape"
   ]
  },
  {
   "cell_type": "code",
   "execution_count": 24,
   "metadata": {},
   "outputs": [
    {
     "data": {
      "text/plain": [
       "(5120, 20)"
      ]
     },
     "execution_count": 24,
     "metadata": {},
     "output_type": "execute_result"
    }
   ],
   "source": [
    "mrna_gdf = gdf[(gdf['bio_type'] == 'mRNA') & ~(gdf['category'] == 'repeat')].sort_values('gene_length', ascending=False)\n",
    "mrna_gdf.shape"
   ]
  },
  {
   "cell_type": "code",
   "execution_count": 25,
   "metadata": {},
   "outputs": [],
   "source": [
    "genomic_intervals = []\n",
    "#for gg_row in mrna_gdf.head(10).itertuples():\n",
    "for gg_row in mrna_gdf.itertuples():\n",
    "    genomic_intervals.append({'id':gg_row.gene_id, 'chrom':gg_row.seqid, 'start':gg_row.start, 'end':gg_row.end})"
   ]
  },
  {
   "cell_type": "code",
   "execution_count": 26,
   "metadata": {},
   "outputs": [
    {
     "data": {
      "text/plain": [
       "5120"
      ]
     },
     "execution_count": 26,
     "metadata": {},
     "output_type": "execute_result"
    }
   ],
   "source": [
    "#genomic_intervals\n",
    "len(genomic_intervals)"
   ]
  },
  {
   "cell_type": "markdown",
   "metadata": {},
   "source": [
    "- Select `fragment_size`"
   ]
  },
  {
   "cell_type": "code",
   "execution_count": 27,
   "metadata": {},
   "outputs": [],
   "source": [
    "#fragment_size = 500\n",
    "#fragment_size = 200\n",
    "fragment_size = None"
   ]
  },
  {
   "cell_type": "markdown",
   "metadata": {},
   "source": [
    "--------------------------"
   ]
  },
  {
   "cell_type": "markdown",
   "metadata": {},
   "source": [
    "## **ChIP Sample**"
   ]
  },
  {
   "cell_type": "markdown",
   "metadata": {},
   "source": [
    "- Instantiate a `GenomicArray` object for the **WT sample** coverage (`cvg`)"
   ]
  },
  {
   "cell_type": "code",
   "execution_count": 28,
   "metadata": {},
   "outputs": [
    {
     "name": "stdout",
     "output_type": "stream",
     "text": [
      "Loading BAM file ...\n",
      "/gcm-lfs1/pablo/data/rna_silencing/seq_data/H3K9me2/bam/638_H3K9me2_1/638_H3K9me2_1.Aligned.sortedByCoord.out.bam\n",
      "Done.\n",
      "\n",
      "Add padding: 0 \n",
      "\n",
      "Genomic Regions:\n",
      "\t- I:854453-869704 (15.25 kb)\n",
      "\t- III:1900472-1914833 (14.36 kb)\n",
      "\t- I:4622166-4635111 (12.95 kb)\n",
      "\t- II:687626-699886 (12.26 kb)\n",
      "\t- I:259603-271053 (11.45 kb)\n",
      "\t- II:1894350-1905532 (11.18 kb)\n",
      "\t- II:903253-913629 (10.38 kb)\n",
      "\t- I:5208643-5218739 (10.10 kb)\n",
      "\t- II:3788890-3798775 (9.88 kb)\n",
      "\t- (...)\n"
     ]
    }
   ],
   "source": [
    "cvg = cov.coverage_genomic_intervals(bam_file, genomic_intervals, count_type=\"frac\", fragment_size=fragment_size)"
   ]
  },
  {
   "cell_type": "markdown",
   "metadata": {},
   "source": [
    "- **Visualize coverage** (`cvg`) in the genomic intervals of interest - return `cvg_profiles` as np.array()"
   ]
  },
  {
   "cell_type": "code",
   "execution_count": 29,
   "metadata": {},
   "outputs": [],
   "source": [
    "cvg_profiles = {}"
   ]
  },
  {
   "cell_type": "code",
   "execution_count": 30,
   "metadata": {},
   "outputs": [
    {
     "data": {
      "image/png": "[encoded data removed]",
      "text/plain": [
       "<Figure size 432x288 with 1 Axes>"
      ]
     },
     "metadata": {
      "needs_background": "light"
     },
     "output_type": "display_data"
    },
    {
     "data": {
      "image/png": "[encoded data removed]",
      "text/plain": [
       "<Figure size 432x288 with 1 Axes>"
      ]
     },
     "metadata": {
      "needs_background": "light"
     },
     "output_type": "display_data"
    },
    {
     "data": {
      "image/png": "[encoded data removed]",
      "text/plain": [
       "<Figure size 432x288 with 1 Axes>"
      ]
     },
     "metadata": {
      "needs_background": "light"
     },
     "output_type": "display_data"
    }
   ],
   "source": [
    "for ii, gg_i in enumerate(genomic_intervals):\n",
    "    # only plot first regions if there are too many\n",
    "    if (ii < 3):\n",
    "        cvg_profiles[gg_i[\"id\"]] = cov.plot_coverage_interval(gg_i, cvg)\n",
    "    else:\n",
    "        cvg_profiles[gg_i[\"id\"]] = cov.plot_coverage_interval(gg_i, cvg, plot_coverage=False)"
   ]
  },
  {
   "cell_type": "code",
   "execution_count": 31,
   "metadata": {},
   "outputs": [],
   "source": [
    "#cvg_profiles"
   ]
  },
  {
   "cell_type": "markdown",
   "metadata": {},
   "source": [
    "### **INPUT Sample**"
   ]
  },
  {
   "cell_type": "markdown",
   "metadata": {},
   "source": [
    "- Instantiate a `GenomicArray` object for the **INPUT sample** coverage (`input_cvg`)"
   ]
  },
  {
   "cell_type": "code",
   "execution_count": 32,
   "metadata": {},
   "outputs": [
    {
     "name": "stdout",
     "output_type": "stream",
     "text": [
      "Loading BAM file ...\n",
      "/gcm-lfs1/pablo/data/rna_silencing/seq_data/INPUT/bam/638_S2-ChIP-INPUT_1/638_S2-ChIP-INPUT_1.Aligned.sortedByCoord.out.bam\n",
      "Done.\n",
      "\n",
      "Add padding: 0 \n",
      "\n",
      "Genomic Regions:\n",
      "\t- I:854453-869704 (15.25 kb)\n",
      "\t- III:1900472-1914833 (14.36 kb)\n",
      "\t- I:4622166-4635111 (12.95 kb)\n",
      "\t- II:687626-699886 (12.26 kb)\n",
      "\t- I:259603-271053 (11.45 kb)\n",
      "\t- II:1894350-1905532 (11.18 kb)\n",
      "\t- II:903253-913629 (10.38 kb)\n",
      "\t- I:5208643-5218739 (10.10 kb)\n",
      "\t- II:3788890-3798775 (9.88 kb)\n",
      "\t- (...)\n"
     ]
    }
   ],
   "source": [
    "input_cvg = cov.coverage_genomic_intervals(input_bam_file, genomic_intervals, count_type=\"frac\", fragment_size=fragment_size)"
   ]
  },
  {
   "cell_type": "markdown",
   "metadata": {},
   "source": [
    "- **Visualize coverage** (`cvg`) in the genomic intervals of interest - return `input_cvg_profiles` as np.array()"
   ]
  },
  {
   "cell_type": "code",
   "execution_count": 33,
   "metadata": {},
   "outputs": [],
   "source": [
    "input_cvg_profiles = {}"
   ]
  },
  {
   "cell_type": "code",
   "execution_count": 34,
   "metadata": {},
   "outputs": [
    {
     "data": {
      "image/png": "[encoded data removed]",
      "text/plain": [
       "<Figure size 432x288 with 1 Axes>"
      ]
     },
     "metadata": {
      "needs_background": "light"
     },
     "output_type": "display_data"
    },
    {
     "data": {
      "image/png": "[encoded data removed]",
      "text/plain": [
       "<Figure size 432x288 with 1 Axes>"
      ]
     },
     "metadata": {
      "needs_background": "light"
     },
     "output_type": "display_data"
    },
    {
     "data": {
      "image/png": "[encoded data removed]",
      "text/plain": [
       "<Figure size 432x288 with 1 Axes>"
      ]
     },
     "metadata": {
      "needs_background": "light"
     },
     "output_type": "display_data"
    }
   ],
   "source": [
    "for ii, gg_i in enumerate(genomic_intervals):\n",
    "    # only plot first regions if there are too many\n",
    "    if (ii < 3):\n",
    "        input_cvg_profiles[gg_i[\"id\"]] = cov.plot_coverage_interval(gg_i, input_cvg)\n",
    "    else:\n",
    "        input_cvg_profiles[gg_i[\"id\"]] = cov.plot_coverage_interval(gg_i, input_cvg, plot_coverage=False)"
   ]
  },
  {
   "cell_type": "code",
   "execution_count": 35,
   "metadata": {},
   "outputs": [],
   "source": [
    "#input_cvg_profiles"
   ]
  },
  {
   "cell_type": "markdown",
   "metadata": {},
   "source": [
    "------------"
   ]
  },
  {
   "cell_type": "markdown",
   "metadata": {},
   "source": [
    "# Calculate **INPUT subtraction factor**"
   ]
  },
  {
   "cell_type": "markdown",
   "metadata": {},
   "source": [
    "------------"
   ]
  },
  {
   "cell_type": "markdown",
   "metadata": {},
   "source": [
    "## **A.** Compute Normalization Globally"
   ]
  },
  {
   "cell_type": "markdown",
   "metadata": {},
   "source": [
    "- Loop over `genomic_intervals`"
   ]
  },
  {
   "cell_type": "code",
   "execution_count": 36,
   "metadata": {},
   "outputs": [],
   "source": [
    "global_lambdas = {}\n",
    "normed_cvg_profiles = {}"
   ]
  },
  {
   "cell_type": "code",
   "execution_count": 37,
   "metadata": {},
   "outputs": [
    {
     "name": "stdout",
     "output_type": "stream",
     "text": [
      "Lambda: 2.0759098560245786 \n",
      "\n",
      "Lambda: 2.7520995171110645 \n",
      "\n",
      "Lambda: 2.7476785142491194 \n",
      "\n"
     ]
    },
    {
     "data": {
      "image/png": "[encoded data removed]",
      "text/plain": [
       "<Figure size 432x288 with 1 Axes>"
      ]
     },
     "metadata": {
      "needs_background": "light"
     },
     "output_type": "display_data"
    },
    {
     "data": {
      "image/png": "[encoded data removed]",
      "text/plain": [
       "<Figure size 432x288 with 1 Axes>"
      ]
     },
     "metadata": {
      "needs_background": "light"
     },
     "output_type": "display_data"
    },
    {
     "data": {
      "image/png": "[encoded data removed]",
      "text/plain": [
       "<Figure size 432x288 with 1 Axes>"
      ]
     },
     "metadata": {
      "needs_background": "light"
     },
     "output_type": "display_data"
    }
   ],
   "source": [
    "for ii, gg_i in enumerate(genomic_intervals):\n",
    "    # only plot first regions if there are too many\n",
    "    if (ii < 3):\n",
    "        global_lambdas[gg_i[\"id\"]], normed_cvg_profiles[gg_i[\"id\"]] = ip.global_input_factor(gg_i, cvg_profiles, input_cvg_profiles)\n",
    "    else:\n",
    "        global_lambdas[gg_i[\"id\"]], normed_cvg_profiles[gg_i[\"id\"]] = ip.global_input_factor(gg_i, cvg_profiles, input_cvg_profiles, verbose=False, plot_coverage=False)"
   ]
  },
  {
   "cell_type": "markdown",
   "metadata": {},
   "source": [
    "## **B.** Compute Normalization Locally: **Linear-regression**"
   ]
  },
  {
   "cell_type": "markdown",
   "metadata": {},
   "source": [
    "- with `polyfit` can't fix the intercept = b = 0"
   ]
  },
  {
   "cell_type": "code",
   "execution_count": 38,
   "metadata": {},
   "outputs": [],
   "source": [
    "#a, b = np.polyfit(window_input_cvg, window_cvg, 1, )"
   ]
  },
  {
   "cell_type": "code",
   "execution_count": 39,
   "metadata": {},
   "outputs": [],
   "source": [
    "#b"
   ]
  },
  {
   "cell_type": "markdown",
   "metadata": {},
   "source": [
    "- with `sklearn.linear_model.LinearRegression`"
   ]
  },
  {
   "cell_type": "code",
   "execution_count": 40,
   "metadata": {},
   "outputs": [],
   "source": [
    "lregression_lambdas = {}\n",
    "lregression_normed_cvg_profiles = {}"
   ]
  },
  {
   "cell_type": "code",
   "execution_count": 41,
   "metadata": {},
   "outputs": [],
   "source": [
    "figsize = (15, 8)"
   ]
  },
  {
   "cell_type": "code",
   "execution_count": 42,
   "metadata": {},
   "outputs": [
    {
     "name": "stdout",
     "output_type": "stream",
     "text": [
      "Slope: 1.6151184378350263, Intercept: 0.0 \n",
      "\n",
      "Slope: 2.0719341356995797, Intercept: 0.0 \n",
      "\n",
      "Slope: 2.1002114363576556, Intercept: 0.0 \n",
      "\n"
     ]
    },
    {
     "data": {
      "image/png": "[encoded data removed]",
      "text/plain": [
       "<Figure size 1080x576 with 2 Axes>"
      ]
     },
     "metadata": {
      "needs_background": "light"
     },
     "output_type": "display_data"
    },
    {
     "data": {
      "image/png": "[encoded data removed]",
      "text/plain": [
       "<Figure size 1080x576 with 2 Axes>"
      ]
     },
     "metadata": {
      "needs_background": "light"
     },
     "output_type": "display_data"
    },
    {
     "data": {
      "image/png": "[encoded data removed]",
      "text/plain": [
       "<Figure size 1080x576 with 2 Axes>"
      ]
     },
     "metadata": {
      "needs_background": "light"
     },
     "output_type": "display_data"
    }
   ],
   "source": [
    "for ii, gg_i in enumerate(genomic_intervals):\n",
    "    # only plot first regions if there are too many\n",
    "    if (ii < 3):\n",
    "        lregression_lambdas[gg_i[\"id\"]], lregression_normed_cvg_profiles[gg_i[\"id\"]] = ip.linear_regression_input_factor(gg_i, cvg_profiles, input_cvg_profiles, figsize=figsize)\n",
    "    else: \n",
    "        lregression_lambdas[gg_i[\"id\"]], lregression_normed_cvg_profiles[gg_i[\"id\"]] = ip.linear_regression_input_factor(gg_i, cvg_profiles, input_cvg_profiles, verbose=False, plot_coverage=False)"
   ]
  },
  {
   "cell_type": "markdown",
   "metadata": {},
   "source": [
    "------------"
   ]
  },
  {
   "cell_type": "markdown",
   "metadata": {},
   "source": [
    "## Investigate INPUT subtraction **scaling factor**: $\\lambda$"
   ]
  },
  {
   "cell_type": "markdown",
   "metadata": {},
   "source": [
    "- Check **agreement** between both **approaches** and **across regions**:"
   ]
  },
  {
   "cell_type": "code",
   "execution_count": 43,
   "metadata": {},
   "outputs": [],
   "source": [
    "#abs(global_lambda - a)"
   ]
  },
  {
   "cell_type": "markdown",
   "metadata": {},
   "source": [
    "**Global** norm factor"
   ]
  },
  {
   "cell_type": "code",
   "execution_count": 44,
   "metadata": {},
   "outputs": [
    {
     "data": {
      "text/plain": [
       "5120"
      ]
     },
     "execution_count": 44,
     "metadata": {},
     "output_type": "execute_result"
    }
   ],
   "source": [
    "global_lambdas\n",
    "len(global_lambdas)"
   ]
  },
  {
   "cell_type": "markdown",
   "metadata": {},
   "source": [
    "**Local** norm factor (linear-regression)"
   ]
  },
  {
   "cell_type": "code",
   "execution_count": 45,
   "metadata": {},
   "outputs": [
    {
     "data": {
      "text/plain": [
       "5120"
      ]
     },
     "execution_count": 45,
     "metadata": {},
     "output_type": "execute_result"
    }
   ],
   "source": [
    "lregression_lambdas\n",
    "len(lregression_lambdas)"
   ]
  },
  {
   "cell_type": "markdown",
   "metadata": {},
   "source": [
    "**Average** norm factor"
   ]
  },
  {
   "cell_type": "code",
   "execution_count": 46,
   "metadata": {},
   "outputs": [
    {
     "data": {
      "text/plain": [
       "2.429026476623572"
      ]
     },
     "execution_count": 46,
     "metadata": {},
     "output_type": "execute_result"
    }
   ],
   "source": [
    "# Example to find the average of the list\n",
    "from statistics import mean\n",
    "\n",
    "# concatenate lists with '+' operator\n",
    "mean_lambda = mean(list(lregression_lambdas.values()) + list(global_lambdas.values()) )\n",
    "mean_lambda"
   ]
  },
  {
   "cell_type": "code",
   "execution_count": 47,
   "metadata": {},
   "outputs": [
    {
     "name": "stdout",
     "output_type": "stream",
     "text": [
      " Scaling factor (λ) used in the analysis: 2.429\n"
     ]
    }
   ],
   "source": [
    "print(\" Scaling factor (λ) used in the analysis: {:.3f}\".format(mean_lambda))"
   ]
  },
  {
   "cell_type": "markdown",
   "metadata": {},
   "source": [
    "- Convert results to **Data Frame**"
   ]
  },
  {
   "cell_type": "code",
   "execution_count": 48,
   "metadata": {},
   "outputs": [],
   "source": [
    "combined_lambdas = {key:[lregression_lambdas[key], global_lambdas[key]] for key in lregression_lambdas}\n",
    "combined_lambdas['method'] = ['linear_regression', 'global_lambda']\n",
    "\n",
    "lambda_df = pd.DataFrame.from_dict(combined_lambdas)\n",
    "#lambda_df = lambda_df.melt(id_vars='method', var_name='chrom', value_name='input_factor')\n",
    "lambda_df = lambda_df.melt(id_vars='method', var_name='region_id', value_name='input_factor')"
   ]
  },
  {
   "cell_type": "code",
   "execution_count": 49,
   "metadata": {},
   "outputs": [
    {
     "data": {
      "text/html": [
       "<div>\n",
       "<style scoped>\n",
       "    .dataframe tbody tr th:only-of-type {\n",
       "        vertical-align: middle;\n",
       "    }\n",
       "\n",
       "    .dataframe tbody tr th {\n",
       "        vertical-align: top;\n",
       "    }\n",
       "\n",
       "    .dataframe thead th {\n",
       "        text-align: right;\n",
       "    }\n",
       "</style>\n",
       "<table border=\"1\" class=\"dataframe\">\n",
       "  <thead>\n",
       "    <tr style=\"text-align: right;\">\n",
       "      <th></th>\n",
       "      <th>method</th>\n",
       "      <th>region_id</th>\n",
       "      <th>input_factor</th>\n",
       "    </tr>\n",
       "  </thead>\n",
       "  <tbody>\n",
       "    <tr>\n",
       "      <th>0</th>\n",
       "      <td>linear_regression</td>\n",
       "      <td>SPAC23G3.02c</td>\n",
       "      <td>1.615118</td>\n",
       "    </tr>\n",
       "    <tr>\n",
       "      <th>1</th>\n",
       "      <td>global_lambda</td>\n",
       "      <td>SPAC23G3.02c</td>\n",
       "      <td>2.075910</td>\n",
       "    </tr>\n",
       "    <tr>\n",
       "      <th>2</th>\n",
       "      <td>linear_regression</td>\n",
       "      <td>SPCC737.08</td>\n",
       "      <td>2.071934</td>\n",
       "    </tr>\n",
       "    <tr>\n",
       "      <th>3</th>\n",
       "      <td>global_lambda</td>\n",
       "      <td>SPCC737.08</td>\n",
       "      <td>2.752100</td>\n",
       "    </tr>\n",
       "    <tr>\n",
       "      <th>4</th>\n",
       "      <td>linear_regression</td>\n",
       "      <td>SPAC1093.06c</td>\n",
       "      <td>2.100211</td>\n",
       "    </tr>\n",
       "  </tbody>\n",
       "</table>\n",
       "</div>"
      ],
      "text/plain": [
       "              method     region_id  input_factor\n",
       "0  linear_regression  SPAC23G3.02c      1.615118\n",
       "1      global_lambda  SPAC23G3.02c      2.075910\n",
       "2  linear_regression    SPCC737.08      2.071934\n",
       "3      global_lambda    SPCC737.08      2.752100\n",
       "4  linear_regression  SPAC1093.06c      2.100211"
      ]
     },
     "execution_count": 49,
     "metadata": {},
     "output_type": "execute_result"
    }
   ],
   "source": [
    "lambda_df.head()"
   ]
  },
  {
   "cell_type": "code",
   "execution_count": 50,
   "metadata": {},
   "outputs": [
    {
     "data": {
      "text/plain": [
       "(10240, 3)"
      ]
     },
     "execution_count": 50,
     "metadata": {},
     "output_type": "execute_result"
    }
   ],
   "source": [
    "lambda_df.shape"
   ]
  },
  {
   "cell_type": "markdown",
   "metadata": {},
   "source": [
    "- Add `ChIP` and `INPUT` **id's**:"
   ]
  },
  {
   "cell_type": "code",
   "execution_count": 51,
   "metadata": {},
   "outputs": [],
   "source": [
    "lambda_df['chip_id'] = dataset_id\n",
    "lambda_df['input_id'] = input_dataset_id"
   ]
  },
  {
   "cell_type": "code",
   "execution_count": 52,
   "metadata": {},
   "outputs": [
    {
     "data": {
      "text/html": [
       "<div>\n",
       "<style scoped>\n",
       "    .dataframe tbody tr th:only-of-type {\n",
       "        vertical-align: middle;\n",
       "    }\n",
       "\n",
       "    .dataframe tbody tr th {\n",
       "        vertical-align: top;\n",
       "    }\n",
       "\n",
       "    .dataframe thead th {\n",
       "        text-align: right;\n",
       "    }\n",
       "</style>\n",
       "<table border=\"1\" class=\"dataframe\">\n",
       "  <thead>\n",
       "    <tr style=\"text-align: right;\">\n",
       "      <th></th>\n",
       "      <th>method</th>\n",
       "      <th>region_id</th>\n",
       "      <th>input_factor</th>\n",
       "      <th>chip_id</th>\n",
       "      <th>input_id</th>\n",
       "    </tr>\n",
       "  </thead>\n",
       "  <tbody>\n",
       "    <tr>\n",
       "      <th>0</th>\n",
       "      <td>linear_regression</td>\n",
       "      <td>SPAC23G3.02c</td>\n",
       "      <td>1.615118</td>\n",
       "      <td>638_H3K9me2_1</td>\n",
       "      <td>638_S2-ChIP-INPUT_1</td>\n",
       "    </tr>\n",
       "    <tr>\n",
       "      <th>1</th>\n",
       "      <td>global_lambda</td>\n",
       "      <td>SPAC23G3.02c</td>\n",
       "      <td>2.075910</td>\n",
       "      <td>638_H3K9me2_1</td>\n",
       "      <td>638_S2-ChIP-INPUT_1</td>\n",
       "    </tr>\n",
       "    <tr>\n",
       "      <th>2</th>\n",
       "      <td>linear_regression</td>\n",
       "      <td>SPCC737.08</td>\n",
       "      <td>2.071934</td>\n",
       "      <td>638_H3K9me2_1</td>\n",
       "      <td>638_S2-ChIP-INPUT_1</td>\n",
       "    </tr>\n",
       "    <tr>\n",
       "      <th>3</th>\n",
       "      <td>global_lambda</td>\n",
       "      <td>SPCC737.08</td>\n",
       "      <td>2.752100</td>\n",
       "      <td>638_H3K9me2_1</td>\n",
       "      <td>638_S2-ChIP-INPUT_1</td>\n",
       "    </tr>\n",
       "    <tr>\n",
       "      <th>4</th>\n",
       "      <td>linear_regression</td>\n",
       "      <td>SPAC1093.06c</td>\n",
       "      <td>2.100211</td>\n",
       "      <td>638_H3K9me2_1</td>\n",
       "      <td>638_S2-ChIP-INPUT_1</td>\n",
       "    </tr>\n",
       "  </tbody>\n",
       "</table>\n",
       "</div>"
      ],
      "text/plain": [
       "              method     region_id  input_factor        chip_id  \\\n",
       "0  linear_regression  SPAC23G3.02c      1.615118  638_H3K9me2_1   \n",
       "1      global_lambda  SPAC23G3.02c      2.075910  638_H3K9me2_1   \n",
       "2  linear_regression    SPCC737.08      2.071934  638_H3K9me2_1   \n",
       "3      global_lambda    SPCC737.08      2.752100  638_H3K9me2_1   \n",
       "4  linear_regression  SPAC1093.06c      2.100211  638_H3K9me2_1   \n",
       "\n",
       "              input_id  \n",
       "0  638_S2-ChIP-INPUT_1  \n",
       "1  638_S2-ChIP-INPUT_1  \n",
       "2  638_S2-ChIP-INPUT_1  \n",
       "3  638_S2-ChIP-INPUT_1  \n",
       "4  638_S2-ChIP-INPUT_1  "
      ]
     },
     "execution_count": 52,
     "metadata": {},
     "output_type": "execute_result"
    }
   ],
   "source": [
    "lambda_df.head()"
   ]
  },
  {
   "cell_type": "code",
   "execution_count": 53,
   "metadata": {},
   "outputs": [
    {
     "data": {
      "text/plain": [
       "(10240, 5)"
      ]
     },
     "execution_count": 53,
     "metadata": {},
     "output_type": "execute_result"
    }
   ],
   "source": [
    "lambda_df.shape"
   ]
  },
  {
   "cell_type": "markdown",
   "metadata": {},
   "source": [
    "- Store as `.csv` file"
   ]
  },
  {
   "cell_type": "code",
   "execution_count": 54,
   "metadata": {},
   "outputs": [],
   "source": [
    "#lambda_input_factors_file = os.path.join(out_dir, \"INPUT_factors.csv\")\n",
    "#lambda_df.to_csv(lambda_input_factors_file, sep='\\t', index=None)"
   ]
  },
  {
   "cell_type": "markdown",
   "metadata": {},
   "source": [
    "#### **A**. Summarize results for **lambda coefficients** (across genes)"
   ]
  },
  {
   "cell_type": "code",
   "execution_count": 55,
   "metadata": {},
   "outputs": [],
   "source": [
    "# 95th Percentile\n",
    "def q95(x):\n",
    "    return x.quantile(0.95)\n",
    "# 98th Percentile\n",
    "def q98(x):\n",
    "    return x.quantile(0.98)"
   ]
  },
  {
   "cell_type": "code",
   "execution_count": 56,
   "metadata": {},
   "outputs": [
    {
     "data": {
      "text/html": [
       "<div>\n",
       "<style scoped>\n",
       "    .dataframe tbody tr th:only-of-type {\n",
       "        vertical-align: middle;\n",
       "    }\n",
       "\n",
       "    .dataframe tbody tr th {\n",
       "        vertical-align: top;\n",
       "    }\n",
       "\n",
       "    .dataframe thead th {\n",
       "        text-align: right;\n",
       "    }\n",
       "</style>\n",
       "<table border=\"1\" class=\"dataframe\">\n",
       "  <thead>\n",
       "    <tr style=\"text-align: right;\">\n",
       "      <th></th>\n",
       "      <th>max_if</th>\n",
       "      <th>min_if</th>\n",
       "      <th>mean_if</th>\n",
       "      <th>median_if</th>\n",
       "      <th>std_if</th>\n",
       "      <th>quantile_95_if</th>\n",
       "      <th>quantile_98_if</th>\n",
       "    </tr>\n",
       "    <tr>\n",
       "      <th>method</th>\n",
       "      <th></th>\n",
       "      <th></th>\n",
       "      <th></th>\n",
       "      <th></th>\n",
       "      <th></th>\n",
       "      <th></th>\n",
       "      <th></th>\n",
       "    </tr>\n",
       "  </thead>\n",
       "  <tbody>\n",
       "    <tr>\n",
       "      <th>global_lambda</th>\n",
       "      <td>135.505841</td>\n",
       "      <td>0.020560</td>\n",
       "      <td>2.687283</td>\n",
       "      <td>2.109132</td>\n",
       "      <td>6.882548</td>\n",
       "      <td>3.107295</td>\n",
       "      <td>3.533262</td>\n",
       "    </tr>\n",
       "    <tr>\n",
       "      <th>linear_regression</th>\n",
       "      <td>122.941800</td>\n",
       "      <td>0.020556</td>\n",
       "      <td>2.170770</td>\n",
       "      <td>1.694775</td>\n",
       "      <td>5.629820</td>\n",
       "      <td>2.507211</td>\n",
       "      <td>2.940069</td>\n",
       "    </tr>\n",
       "  </tbody>\n",
       "</table>\n",
       "</div>"
      ],
      "text/plain": [
       "                       max_if    min_if   mean_if  median_if    std_if  \\\n",
       "method                                                                   \n",
       "global_lambda      135.505841  0.020560  2.687283   2.109132  6.882548   \n",
       "linear_regression  122.941800  0.020556  2.170770   1.694775  5.629820   \n",
       "\n",
       "                   quantile_95_if  quantile_98_if  \n",
       "method                                             \n",
       "global_lambda            3.107295        3.533262  \n",
       "linear_regression        2.507211        2.940069  "
      ]
     },
     "execution_count": 56,
     "metadata": {},
     "output_type": "execute_result"
    }
   ],
   "source": [
    "lambda_summary = lambda_df.groupby('method').agg(\n",
    "    # Get max of the 'input_factor' column for each group\n",
    "    max_if =('input_factor', max),\n",
    "    # Get min of the 'input_factor' column for each group\n",
    "    min_if=('input_factor', min),\n",
    "    # Get mean of the 'input_factor' column for each group\n",
    "    mean_if=('input_factor', mean),\n",
    "    # Get median of the 'input_factor' column for each group\n",
    "    median_if=('input_factor', 'median'),\n",
    "    # Get standard deviation of the 'input_factor' column for each group\n",
    "    std_if=('input_factor', 'std'),\n",
    "    # Get 95th quantile of the 'input_factor' column for each group\n",
    "    quantile_95_if=('input_factor', q95),\n",
    "    # Get 98th quantile of the 'input_factor' column for each group\n",
    "    quantile_98_if=('input_factor', q98),\n",
    "    # Apply a lambda to date column\n",
    "    #num_days=(\"date\", lambda x: (max(x) - min(x)).days)    \n",
    ")\n",
    "lambda_summary"
   ]
  },
  {
   "cell_type": "markdown",
   "metadata": {},
   "source": [
    "#### **B**. Visualize distribution for **lambda coefficients** (across genes)"
   ]
  },
  {
   "cell_type": "code",
   "execution_count": 57,
   "metadata": {},
   "outputs": [
    {
     "data": {
      "text/plain": [
       "'0.11.1'"
      ]
     },
     "execution_count": 57,
     "metadata": {},
     "output_type": "execute_result"
    }
   ],
   "source": [
    "import seaborn as sns\n",
    "sns.__version__"
   ]
  },
  {
   "cell_type": "code",
   "execution_count": 58,
   "metadata": {},
   "outputs": [
    {
     "data": {
      "text/plain": [
       "5"
      ]
     },
     "execution_count": 58,
     "metadata": {},
     "output_type": "execute_result"
    }
   ],
   "source": [
    "lambda_max = 5\n",
    "#lambda_max = max(lambda_summary['quantile_98_if'])\n",
    "lambda_max"
   ]
  },
  {
   "cell_type": "code",
   "execution_count": 59,
   "metadata": {},
   "outputs": [],
   "source": [
    "#lambda_plot = lambda_df[lambda_df['input_factor'] < lambda_max]\n",
    "lambda_plot = lambda_df[lambda_df['input_factor'] > lambda_max]\n",
    "#lambda_plot"
   ]
  },
  {
   "cell_type": "markdown",
   "metadata": {},
   "source": [
    "- Visualize lambda factor **distributions**"
   ]
  },
  {
   "cell_type": "code",
   "execution_count": 60,
   "metadata": {},
   "outputs": [
    {
     "data": {
      "image/png": "[encoded data removed]",
      "text/plain": [
       "<Figure size 482.125x360 with 1 Axes>"
      ]
     },
     "metadata": {
      "needs_background": "light"
     },
     "output_type": "display_data"
    }
   ],
   "source": [
    "#sns.displot(lambda_plot, x=\"input_factor\", hue=\"method\", stat=\"density\", common_norm=False)\n",
    "ax = sns.displot(lambda_plot, x=\"input_factor\", hue=\"method\", stat=\"probability\")"
   ]
  },
  {
   "cell_type": "code",
   "execution_count": 61,
   "metadata": {},
   "outputs": [],
   "source": [
    "#sns.displot(lambda_plot, x=\"input_factor\", col=\"method\", multiple=\"dodge\")"
   ]
  },
  {
   "cell_type": "markdown",
   "metadata": {},
   "source": [
    "---"
   ]
  },
  {
   "cell_type": "markdown",
   "metadata": {},
   "source": [
    "# Investigate counts after INPUT subtraction"
   ]
  },
  {
   "cell_type": "markdown",
   "metadata": {},
   "source": [
    "---"
   ]
  },
  {
   "cell_type": "markdown",
   "metadata": {},
   "source": [
    "- Get **input factor** calculated\n",
    "    - **638_H3K9me2_1**: median\n",
    "        - `638_S2-ChIP-INPUT_1`: **2.109**\n",
    "        - `638_S2-ChIP-INPUT_2`: **0.842**\n",
    "        - `638_S2-ChIP-INPUT_3`: **0.499**\n",
    "    - **WT_H3K9me2_1**: median\n",
    "        - `WT_S2-ChIP-INPUT_1`: **0.897**"
   ]
  },
  {
   "cell_type": "code",
   "execution_count": 194,
   "metadata": {},
   "outputs": [],
   "source": [
    "#lambda_summary"
   ]
  },
  {
   "cell_type": "code",
   "execution_count": 195,
   "metadata": {},
   "outputs": [
    {
     "data": {
      "text/plain": [
       "2.109"
      ]
     },
     "execution_count": 195,
     "metadata": {},
     "output_type": "execute_result"
    }
   ],
   "source": [
    "input_factor = lambda_summary.loc['global_lambda']['median_if'].round(3)\n",
    "#input_factor = lambda_summary.loc['global_lambda']['quantile_98_if'].round(3)\n",
    "input_factor"
   ]
  },
  {
   "cell_type": "markdown",
   "metadata": {},
   "source": [
    "- Load `TPM`/ `count` files:"
   ]
  },
  {
   "cell_type": "code",
   "execution_count": 196,
   "metadata": {},
   "outputs": [],
   "source": [
    "use_counts=True\n",
    "#use_counts=False"
   ]
  },
  {
   "cell_type": "code",
   "execution_count": 197,
   "metadata": {},
   "outputs": [],
   "source": [
    "repeat_id = ''"
   ]
  },
  {
   "cell_type": "markdown",
   "metadata": {},
   "source": [
    "### **INPUT** TPM file"
   ]
  },
  {
   "cell_type": "code",
   "execution_count": 198,
   "metadata": {},
   "outputs": [
    {
     "name": "stdout",
     "output_type": "stream",
     "text": [
      "/gcm-lfs1/pablo/data/rna_silencing/results/INPUT/xp_data/638_S2-ChIP-INPUT_1/638_S2-ChIP-INPUT_1_pombe_gene_count_matrix.csv\n"
     ]
    }
   ],
   "source": [
    "if not use_counts:\n",
    "    input_tpm_file = os.path.join(project_data_dir, \"results\", data_input_batch, \"xp_data\", input_dataset_id, input_dataset_id + \"_pombe_tpm_matrix.csv\")\n",
    "else:\n",
    "    input_tpm_file = os.path.join(project_data_dir, \"results\", data_input_batch, \"xp_data\", input_dataset_id, input_dataset_id + \"_pombe_gene_count_matrix.csv\")\n",
    "print(input_tpm_file)"
   ]
  },
  {
   "cell_type": "code",
   "execution_count": 199,
   "metadata": {},
   "outputs": [
    {
     "data": {
      "text/html": [
       "<div>\n",
       "<style scoped>\n",
       "    .dataframe tbody tr th:only-of-type {\n",
       "        vertical-align: middle;\n",
       "    }\n",
       "\n",
       "    .dataframe tbody tr th {\n",
       "        vertical-align: top;\n",
       "    }\n",
       "\n",
       "    .dataframe thead th {\n",
       "        text-align: right;\n",
       "    }\n",
       "</style>\n",
       "<table border=\"1\" class=\"dataframe\">\n",
       "  <thead>\n",
       "    <tr style=\"text-align: right;\">\n",
       "      <th></th>\n",
       "      <th>gene_id</th>\n",
       "      <th>count</th>\n",
       "      <th>gene_name</th>\n",
       "      <th>transcript_length</th>\n",
       "      <th>gene_length</th>\n",
       "      <th>type</th>\n",
       "      <th>category</th>\n",
       "    </tr>\n",
       "  </thead>\n",
       "  <tbody>\n",
       "    <tr>\n",
       "      <th>0</th>\n",
       "      <td>SPBC460.01c</td>\n",
       "      <td>78.0</td>\n",
       "      <td>NaN</td>\n",
       "      <td>1719.0</td>\n",
       "      <td>1719</td>\n",
       "      <td>gene</td>\n",
       "      <td>gene</td>\n",
       "    </tr>\n",
       "    <tr>\n",
       "      <th>1</th>\n",
       "      <td>SPBC460.02c</td>\n",
       "      <td>90.0</td>\n",
       "      <td>NaN</td>\n",
       "      <td>663.0</td>\n",
       "      <td>948</td>\n",
       "      <td>gene</td>\n",
       "      <td>gene</td>\n",
       "    </tr>\n",
       "    <tr>\n",
       "      <th>2</th>\n",
       "      <td>SPBC460.03</td>\n",
       "      <td>122.0</td>\n",
       "      <td>vba2</td>\n",
       "      <td>1704.0</td>\n",
       "      <td>1704</td>\n",
       "      <td>gene</td>\n",
       "      <td>gene</td>\n",
       "    </tr>\n",
       "    <tr>\n",
       "      <th>3</th>\n",
       "      <td>SPBC460.04c</td>\n",
       "      <td>84.0</td>\n",
       "      <td>NaN</td>\n",
       "      <td>1176.0</td>\n",
       "      <td>1176</td>\n",
       "      <td>gene</td>\n",
       "      <td>gene</td>\n",
       "    </tr>\n",
       "    <tr>\n",
       "      <th>4</th>\n",
       "      <td>SPBC460.05</td>\n",
       "      <td>109.0</td>\n",
       "      <td>NaN</td>\n",
       "      <td>1593.0</td>\n",
       "      <td>1593</td>\n",
       "      <td>gene</td>\n",
       "      <td>gene</td>\n",
       "    </tr>\n",
       "  </tbody>\n",
       "</table>\n",
       "</div>"
      ],
      "text/plain": [
       "       gene_id  count gene_name  transcript_length  gene_length  type category\n",
       "0  SPBC460.01c   78.0       NaN             1719.0         1719  gene     gene\n",
       "1  SPBC460.02c   90.0       NaN              663.0          948  gene     gene\n",
       "2   SPBC460.03  122.0      vba2             1704.0         1704  gene     gene\n",
       "3  SPBC460.04c   84.0       NaN             1176.0         1176  gene     gene\n",
       "4   SPBC460.05  109.0       NaN             1593.0         1593  gene     gene"
      ]
     },
     "execution_count": 199,
     "metadata": {},
     "output_type": "execute_result"
    }
   ],
   "source": [
    "input_tpm_df = pd.read_csv(input_tpm_file, sep='\\t')\n",
    "assert input_tpm_df['count'].isnull().values.any()\n",
    "input_tpm_df.head()\n",
    "#input_tpm_df[input_tpm_df['gene_id'].isin(all_htc_genes)]"
   ]
  },
  {
   "cell_type": "code",
   "execution_count": 200,
   "metadata": {},
   "outputs": [
    {
     "data": {
      "text/plain": [
       "(7018, 7)"
      ]
     },
     "execution_count": 200,
     "metadata": {},
     "output_type": "execute_result"
    }
   ],
   "source": [
    "input_tpm_df.shape"
   ]
  },
  {
   "cell_type": "markdown",
   "metadata": {},
   "source": [
    "- Check total number of `TPM`/ `count`\n",
    "    - `638_S2-ChIP-INPUT_1`: \n",
    "        - All genes: **1.000.000** / **1.563.165** \n",
    "        - mRNA gens: **969.170** / **1.507.005**\n",
    "        - Repeats: **9.618** / **34.081**\n",
    "        - Repeats (%): **0.96%** / **2.1%**"
   ]
  },
  {
   "cell_type": "code",
   "execution_count": 201,
   "metadata": {},
   "outputs": [
    {
     "data": {
      "text/plain": [
       "1563165.0"
      ]
     },
     "execution_count": 201,
     "metadata": {},
     "output_type": "execute_result"
    }
   ],
   "source": [
    "input_total_counts = input_tpm_df['count'].sum()\n",
    "input_total_counts"
   ]
  },
  {
   "cell_type": "code",
   "execution_count": 202,
   "metadata": {},
   "outputs": [],
   "source": [
    "#input_tpm_df['category'].unique()\n",
    "#input_tpm_df['type'].unique()\n",
    "#input_tpm_df['count'][input_tpm_df['category'] == 'ribosomal'].sum() # 22.079"
   ]
  },
  {
   "cell_type": "code",
   "execution_count": 203,
   "metadata": {},
   "outputs": [
    {
     "data": {
      "text/plain": [
       "1507005.0"
      ]
     },
     "execution_count": 203,
     "metadata": {},
     "output_type": "execute_result"
    }
   ],
   "source": [
    "input_mrna_counts = input_tpm_df['count'][input_tpm_df['category'] == 'gene'].sum()\n",
    "input_mrna_counts"
   ]
  },
  {
   "cell_type": "code",
   "execution_count": 204,
   "metadata": {},
   "outputs": [],
   "source": [
    "#input_tpm_df[input_tpm_df['category'] == 'repeat']\n",
    "#input_tpm_df[input_tpm_df['gene_id'].isin(all_htc_genes)]\n",
    "# gene_1 = input_tpm_df[input_tpm_df['category'] == 'repeat']['gene_id'].tolist()\n",
    "# gene_2 = input_tpm_df[input_tpm_df['gene_id'].isin(all_htc_genes)]['gene_id'].tolist()\n",
    "# set(gene_2).symmetric_difference(gene_1) # `all_htc_genes` is missing `mat locus` features and the annotated 'dg_repeat' and 'dh_repeat'"
   ]
  },
  {
   "cell_type": "code",
   "execution_count": 205,
   "metadata": {},
   "outputs": [
    {
     "data": {
      "text/plain": [
       "34081.0"
      ]
     },
     "execution_count": 205,
     "metadata": {},
     "output_type": "execute_result"
    }
   ],
   "source": [
    "#input_htc_counts = input_tpm_df['count'][input_tpm_df['gene_id'].isin(all_htc_genes)].sum() # `all_htc_genes` is missing `mat locus` features and the annotated 'dg_repeat' and 'dh_repeat'\n",
    "input_htc_counts = input_tpm_df['count'][input_tpm_df['category'] == 'repeat'].sum()\n",
    "#input_htc_counts = input_total_counts - input_mrna_counts # there are also ribosomal!\n",
    "input_htc_counts"
   ]
  },
  {
   "cell_type": "code",
   "execution_count": 206,
   "metadata": {},
   "outputs": [
    {
     "data": {
      "text/plain": [
       "0.021802560830110704"
      ]
     },
     "execution_count": 206,
     "metadata": {},
     "output_type": "execute_result"
    }
   ],
   "source": [
    "input_htc_ratio = input_htc_counts / input_total_counts\n",
    "input_htc_ratio"
   ]
  },
  {
   "cell_type": "markdown",
   "metadata": {},
   "source": [
    "### **ChIP** TPM file - <font color='red'> **previous to INPUT subtraction** </font> "
   ]
  },
  {
   "cell_type": "code",
   "execution_count": 207,
   "metadata": {},
   "outputs": [
    {
     "name": "stdout",
     "output_type": "stream",
     "text": [
      "/gcm-lfs1/pablo/data/rna_silencing/results/H3K9me2/xp_data/638_H3K9me2_1/638_H3K9me2_1_pombe_gene_count_matrix.csv\n"
     ]
    }
   ],
   "source": [
    "if not use_counts:\n",
    "    tpm_file = os.path.join(project_data_dir, \"results\", data_batch, \"xp_data\", dataset_id, dataset_id + \"_pombe_tpm_matrix.csv\")\n",
    "else:\n",
    "    tpm_file = os.path.join(project_data_dir, \"results\", data_batch, \"xp_data\", dataset_id, dataset_id + \"_pombe_gene_count_matrix.csv\")\n",
    "print(tpm_file)"
   ]
  },
  {
   "cell_type": "code",
   "execution_count": 208,
   "metadata": {},
   "outputs": [
    {
     "data": {
      "text/html": [
       "<div>\n",
       "<style scoped>\n",
       "    .dataframe tbody tr th:only-of-type {\n",
       "        vertical-align: middle;\n",
       "    }\n",
       "\n",
       "    .dataframe tbody tr th {\n",
       "        vertical-align: top;\n",
       "    }\n",
       "\n",
       "    .dataframe thead th {\n",
       "        text-align: right;\n",
       "    }\n",
       "</style>\n",
       "<table border=\"1\" class=\"dataframe\">\n",
       "  <thead>\n",
       "    <tr style=\"text-align: right;\">\n",
       "      <th></th>\n",
       "      <th>gene_id</th>\n",
       "      <th>count</th>\n",
       "      <th>gene_name</th>\n",
       "      <th>transcript_length</th>\n",
       "      <th>gene_length</th>\n",
       "      <th>type</th>\n",
       "      <th>category</th>\n",
       "    </tr>\n",
       "  </thead>\n",
       "  <tbody>\n",
       "    <tr>\n",
       "      <th>0</th>\n",
       "      <td>SPBC460.01c</td>\n",
       "      <td>354.0</td>\n",
       "      <td>NaN</td>\n",
       "      <td>1719.0</td>\n",
       "      <td>1719</td>\n",
       "      <td>gene</td>\n",
       "      <td>gene</td>\n",
       "    </tr>\n",
       "    <tr>\n",
       "      <th>1</th>\n",
       "      <td>SPBC460.02c</td>\n",
       "      <td>209.0</td>\n",
       "      <td>NaN</td>\n",
       "      <td>663.0</td>\n",
       "      <td>948</td>\n",
       "      <td>gene</td>\n",
       "      <td>gene</td>\n",
       "    </tr>\n",
       "    <tr>\n",
       "      <th>2</th>\n",
       "      <td>SPBC460.03</td>\n",
       "      <td>408.0</td>\n",
       "      <td>vba2</td>\n",
       "      <td>1704.0</td>\n",
       "      <td>1704</td>\n",
       "      <td>gene</td>\n",
       "      <td>gene</td>\n",
       "    </tr>\n",
       "    <tr>\n",
       "      <th>3</th>\n",
       "      <td>SPBC460.04c</td>\n",
       "      <td>186.0</td>\n",
       "      <td>NaN</td>\n",
       "      <td>1176.0</td>\n",
       "      <td>1176</td>\n",
       "      <td>gene</td>\n",
       "      <td>gene</td>\n",
       "    </tr>\n",
       "    <tr>\n",
       "      <th>4</th>\n",
       "      <td>SPBC460.05</td>\n",
       "      <td>310.0</td>\n",
       "      <td>NaN</td>\n",
       "      <td>1593.0</td>\n",
       "      <td>1593</td>\n",
       "      <td>gene</td>\n",
       "      <td>gene</td>\n",
       "    </tr>\n",
       "  </tbody>\n",
       "</table>\n",
       "</div>"
      ],
      "text/plain": [
       "       gene_id  count gene_name  transcript_length  gene_length  type category\n",
       "0  SPBC460.01c  354.0       NaN             1719.0         1719  gene     gene\n",
       "1  SPBC460.02c  209.0       NaN              663.0          948  gene     gene\n",
       "2   SPBC460.03  408.0      vba2             1704.0         1704  gene     gene\n",
       "3  SPBC460.04c  186.0       NaN             1176.0         1176  gene     gene\n",
       "4   SPBC460.05  310.0       NaN             1593.0         1593  gene     gene"
      ]
     },
     "execution_count": 208,
     "metadata": {},
     "output_type": "execute_result"
    }
   ],
   "source": [
    "tpm_df = pd.read_csv(tpm_file, sep='\\t')\n",
    "assert tpm_df['count'].isnull().values.any()\n",
    "tpm_df.head()\n",
    "#tpm_df[tpm_df['gene_id'].isin(all_htc_genes)]"
   ]
  },
  {
   "cell_type": "code",
   "execution_count": 209,
   "metadata": {},
   "outputs": [
    {
     "data": {
      "text/plain": [
       "(7018, 7)"
      ]
     },
     "execution_count": 209,
     "metadata": {},
     "output_type": "execute_result"
    }
   ],
   "source": [
    "tpm_df.shape"
   ]
  },
  {
   "cell_type": "markdown",
   "metadata": {},
   "source": [
    "- Check total number of `TPM`/ `count`\n",
    "    - `638_H3K9me2_1`: **wo** INPUT subtraction\n",
    "        - All genes: **1.000.000** / **3.343.510** \n",
    "        - mRNA gens: **643.219** / **2.440.439**\n",
    "        - Repeats: **338.539** / **871.699**\n",
    "        - Repeats (%): **33.85%** / **26.1%**"
   ]
  },
  {
   "cell_type": "code",
   "execution_count": 210,
   "metadata": {},
   "outputs": [
    {
     "data": {
      "text/plain": [
       "3343510.0"
      ]
     },
     "execution_count": 210,
     "metadata": {},
     "output_type": "execute_result"
    }
   ],
   "source": [
    "tpm_total_counts = tpm_df['count'].sum()\n",
    "tpm_total_counts"
   ]
  },
  {
   "cell_type": "code",
   "execution_count": 211,
   "metadata": {},
   "outputs": [],
   "source": [
    "#tpm_df['category'].unique()\n",
    "#tpm_df['type'].unique()\n",
    "#tpm_df['count'][tpm_df['category'] == 'ribosomal'].sum() # 31.372"
   ]
  },
  {
   "cell_type": "code",
   "execution_count": 212,
   "metadata": {},
   "outputs": [
    {
     "data": {
      "text/plain": [
       "2440439.0"
      ]
     },
     "execution_count": 212,
     "metadata": {},
     "output_type": "execute_result"
    }
   ],
   "source": [
    "tpm_mrna_counts = tpm_df['count'][tpm_df['category'] == 'gene'].sum()\n",
    "tpm_mrna_counts"
   ]
  },
  {
   "cell_type": "code",
   "execution_count": 213,
   "metadata": {},
   "outputs": [
    {
     "data": {
      "text/plain": [
       "871699.0"
      ]
     },
     "execution_count": 213,
     "metadata": {},
     "output_type": "execute_result"
    }
   ],
   "source": [
    "#tpm_htc_counts = tpm_df['count'][tpm_df['gene_id'].isin(all_htc_genes)].sum() # `all_htc_genes` is missing `mat locus` features and the annotated 'dg_repeat' and 'dh_repeat'\n",
    "tpm_htc_counts = tpm_df['count'][tpm_df['category'] == 'repeat'].sum()\n",
    "#tpm_htc_counts = tpm_total_counts - tpm_mrna_counts # there are also ribosomal!\n",
    "tpm_htc_counts"
   ]
  },
  {
   "cell_type": "code",
   "execution_count": 214,
   "metadata": {},
   "outputs": [
    {
     "data": {
      "text/plain": [
       "0.26071374094888305"
      ]
     },
     "execution_count": 214,
     "metadata": {},
     "output_type": "execute_result"
    }
   ],
   "source": [
    "tpm_htc_ratio = tpm_htc_counts / tpm_total_counts\n",
    "tpm_htc_ratio"
   ]
  },
  {
   "cell_type": "markdown",
   "metadata": {},
   "source": [
    "### **ChIP** TPM file - <font color='red'>  **after INPUT subtraction** </font>"
   ]
  },
  {
   "cell_type": "code",
   "execution_count": 215,
   "metadata": {},
   "outputs": [
    {
     "name": "stdout",
     "output_type": "stream",
     "text": [
      "/gcm-lfs1/pablo/data/rna_silencing/results/H3K9me2/xp_data/638_H3K9me2_1/638_H3K9me2_1_subtracted_INPUT_pombe_gene_count_matrix.csv\n"
     ]
    }
   ],
   "source": [
    "if not use_counts:\n",
    "    input_subtracted_tpm_file = os.path.join(project_data_dir, \"results\", data_batch, \"xp_data\", dataset_id, dataset_id + \"_subtracted_INPUT_pombe_tpm_matrix.csv\")\n",
    "else:\n",
    "    input_subtracted_tpm_file = os.path.join(project_data_dir, \"results\", data_batch, \"xp_data\", dataset_id, dataset_id + \"_subtracted_INPUT_pombe_gene_count_matrix.csv\")\n",
    "print(input_subtracted_tpm_file)"
   ]
  },
  {
   "cell_type": "code",
   "execution_count": 216,
   "metadata": {},
   "outputs": [
    {
     "data": {
      "text/html": [
       "<div>\n",
       "<style scoped>\n",
       "    .dataframe tbody tr th:only-of-type {\n",
       "        vertical-align: middle;\n",
       "    }\n",
       "\n",
       "    .dataframe tbody tr th {\n",
       "        vertical-align: top;\n",
       "    }\n",
       "\n",
       "    .dataframe thead th {\n",
       "        text-align: right;\n",
       "    }\n",
       "</style>\n",
       "<table border=\"1\" class=\"dataframe\">\n",
       "  <thead>\n",
       "    <tr style=\"text-align: right;\">\n",
       "      <th></th>\n",
       "      <th>gene_id</th>\n",
       "      <th>count</th>\n",
       "      <th>gene_name</th>\n",
       "      <th>transcript_length</th>\n",
       "      <th>gene_length</th>\n",
       "      <th>type</th>\n",
       "      <th>category</th>\n",
       "    </tr>\n",
       "  </thead>\n",
       "  <tbody>\n",
       "    <tr>\n",
       "      <th>0</th>\n",
       "      <td>FP565355_region_1..2120</td>\n",
       "      <td>16750.253</td>\n",
       "      <td>NaN</td>\n",
       "      <td>2120.0</td>\n",
       "      <td>2120</td>\n",
       "      <td>region</td>\n",
       "      <td>repeat</td>\n",
       "    </tr>\n",
       "    <tr>\n",
       "      <th>1</th>\n",
       "      <td>FP565355_region_15417..15473</td>\n",
       "      <td>126.782</td>\n",
       "      <td>NaN</td>\n",
       "      <td>57.0</td>\n",
       "      <td>57</td>\n",
       "      <td>region</td>\n",
       "      <td>repeat</td>\n",
       "    </tr>\n",
       "    <tr>\n",
       "      <th>2</th>\n",
       "      <td>FP565355_region_15474..15608</td>\n",
       "      <td>2680.948</td>\n",
       "      <td>NaN</td>\n",
       "      <td>135.0</td>\n",
       "      <td>135</td>\n",
       "      <td>region</td>\n",
       "      <td>repeat</td>\n",
       "    </tr>\n",
       "    <tr>\n",
       "      <th>3</th>\n",
       "      <td>FP565355_region_15609..16735</td>\n",
       "      <td>13315.612</td>\n",
       "      <td>NaN</td>\n",
       "      <td>1127.0</td>\n",
       "      <td>1127</td>\n",
       "      <td>region</td>\n",
       "      <td>repeat</td>\n",
       "    </tr>\n",
       "    <tr>\n",
       "      <th>4</th>\n",
       "      <td>FP565355_region_16736..16794</td>\n",
       "      <td>205.891</td>\n",
       "      <td>NaN</td>\n",
       "      <td>59.0</td>\n",
       "      <td>59</td>\n",
       "      <td>region</td>\n",
       "      <td>repeat</td>\n",
       "    </tr>\n",
       "  </tbody>\n",
       "</table>\n",
       "</div>"
      ],
      "text/plain": [
       "                        gene_id      count gene_name  transcript_length  \\\n",
       "0       FP565355_region_1..2120  16750.253       NaN             2120.0   \n",
       "1  FP565355_region_15417..15473    126.782       NaN               57.0   \n",
       "2  FP565355_region_15474..15608   2680.948       NaN              135.0   \n",
       "3  FP565355_region_15609..16735  13315.612       NaN             1127.0   \n",
       "4  FP565355_region_16736..16794    205.891       NaN               59.0   \n",
       "\n",
       "   gene_length    type category  \n",
       "0         2120  region   repeat  \n",
       "1           57  region   repeat  \n",
       "2          135  region   repeat  \n",
       "3         1127  region   repeat  \n",
       "4           59  region   repeat  "
      ]
     },
     "execution_count": 216,
     "metadata": {},
     "output_type": "execute_result"
    }
   ],
   "source": [
    "tpm_ip_subtracted_df = pd.read_csv(input_subtracted_tpm_file, sep='\\t')\n",
    "assert tpm_ip_subtracted_df['count'].isnull().values.any()\n",
    "tpm_ip_subtracted_df.head()\n",
    "#tpm_ip_subtracted_df[tpm_ip_subtracted_df['gene_id'].isin(all_htc_genes)]"
   ]
  },
  {
   "cell_type": "code",
   "execution_count": 217,
   "metadata": {},
   "outputs": [
    {
     "data": {
      "text/plain": [
       "(7018, 7)"
      ]
     },
     "execution_count": 217,
     "metadata": {},
     "output_type": "execute_result"
    }
   ],
   "source": [
    "tpm_ip_subtracted_df.shape"
   ]
  },
  {
   "cell_type": "code",
   "execution_count": 218,
   "metadata": {},
   "outputs": [],
   "source": [
    "#tpm_ip_subtracted_df[tpm_ip_subtracted_df['gene_id'].isin(all_htc_genes)]['count']"
   ]
  },
  {
   "cell_type": "markdown",
   "metadata": {},
   "source": [
    "- <font color='red'> **Attention!** \n",
    "    - After INPUT subtraction there are counts with negative values!\n",
    "    - After removing negative counts we **DO NOT HAVE TPM anymore (need to re-scale)!** </font>\n",
    "=> **Not anymore bug has been fixed!**"
   ]
  },
  {
   "cell_type": "code",
   "execution_count": 219,
   "metadata": {},
   "outputs": [
    {
     "data": {
      "text/html": [
       "<div>\n",
       "<style scoped>\n",
       "    .dataframe tbody tr th:only-of-type {\n",
       "        vertical-align: middle;\n",
       "    }\n",
       "\n",
       "    .dataframe tbody tr th {\n",
       "        vertical-align: top;\n",
       "    }\n",
       "\n",
       "    .dataframe thead th {\n",
       "        text-align: right;\n",
       "    }\n",
       "</style>\n",
       "<table border=\"1\" class=\"dataframe\">\n",
       "  <thead>\n",
       "    <tr style=\"text-align: right;\">\n",
       "      <th></th>\n",
       "      <th>gene_id</th>\n",
       "      <th>count</th>\n",
       "      <th>gene_name</th>\n",
       "      <th>transcript_length</th>\n",
       "      <th>gene_length</th>\n",
       "      <th>type</th>\n",
       "      <th>category</th>\n",
       "    </tr>\n",
       "  </thead>\n",
       "  <tbody>\n",
       "  </tbody>\n",
       "</table>\n",
       "</div>"
      ],
      "text/plain": [
       "Empty DataFrame\n",
       "Columns: [gene_id, count, gene_name, transcript_length, gene_length, type, category]\n",
       "Index: []"
      ]
     },
     "execution_count": 219,
     "metadata": {},
     "output_type": "execute_result"
    }
   ],
   "source": [
    "tpm_ip_subtracted_df[tpm_ip_subtracted_df['count'] < 0]"
   ]
  },
  {
   "cell_type": "code",
   "execution_count": 220,
   "metadata": {},
   "outputs": [],
   "source": [
    "# turn negative counts to zeros\n",
    "tpm_ip_subtracted_df['count'] = tpm_ip_subtracted_df['count'].clip(lower=0)\n",
    "#tpm_ip_subtracted_df"
   ]
  },
  {
   "cell_type": "code",
   "execution_count": 221,
   "metadata": {},
   "outputs": [],
   "source": [
    "# re-scale to add to 10^6\n",
    "if not use_counts:\n",
    "    \n",
    "    ## Sum up all the RPK values in a sample and divide this number by 1,000,000.\n",
    "    per_million = tpm_ip_subtracted_df['count'].sum() / (10 ** 6)\n",
    "    #per_million\n",
    "\n",
    "    ## Divide the RPK values by the 'per million' scaling factor.\n",
    "    tpm_ip_subtracted_df['count'] = tpm_ip_subtracted_df['count'] / per_million"
   ]
  },
  {
   "cell_type": "markdown",
   "metadata": {},
   "source": [
    "- Check total number of `TPM`/ `count`\n",
    "    - `638_H3K9me2_1`: **with** INPUT subtraction\n",
    "        - All genes: **1.000.000** <font color='red'> (**!! 371.894**) </font> / **1.201.270** <font color='red'> (**893.600**) </font> \n",
    "        - mRNA gens: **276.313**  <font color='red'> (**67.336**) </font> / **400.570** <font color='red'> (**142.288**) </font>  \n",
    "        - Repeats: **722.822** <font color='red'> (**304.558**) </font> / **799.822** <font color='red'> (**751.290**) </font> \n",
    "        - Repeats (%): **72.28%** <font color='red'> (**81.89%**) </font> / **66.58%** <font color='red'> (**84.1%**) </font> \n",
    "        \n",
    "<font color='red'> **In red, values computed previous to fixing bug with negative TPM normalization factor!** </font> <br>\n",
    "<font color='red'> **TPM NOT ADDING TO 10^6!** </font>"
   ]
  },
  {
   "cell_type": "code",
   "execution_count": 222,
   "metadata": {},
   "outputs": [
    {
     "data": {
      "text/plain": [
       "1201270.011"
      ]
     },
     "execution_count": 222,
     "metadata": {},
     "output_type": "execute_result"
    }
   ],
   "source": [
    "tpm_ip_subtracted_total_counts = tpm_ip_subtracted_df['count'].sum()\n",
    "tpm_ip_subtracted_total_counts"
   ]
  },
  {
   "cell_type": "code",
   "execution_count": 223,
   "metadata": {},
   "outputs": [],
   "source": [
    "#tpm_ip_subtracted_df['category'].unique()\n",
    "#tpm_ip_subtracted_df['type'].unique()\n",
    "#tpm_ip_subtracted_df['count'][tpm_ip_subtracted_df['category'] == 'ribosomal'].sum() # 20"
   ]
  },
  {
   "cell_type": "code",
   "execution_count": 224,
   "metadata": {},
   "outputs": [
    {
     "data": {
      "text/plain": [
       "400570.721"
      ]
     },
     "execution_count": 224,
     "metadata": {},
     "output_type": "execute_result"
    }
   ],
   "source": [
    "tpm_ip_subtracted_mrna_counts = tpm_ip_subtracted_df['count'][tpm_ip_subtracted_df['category'] == 'gene'].sum()\n",
    "tpm_ip_subtracted_mrna_counts"
   ]
  },
  {
   "cell_type": "code",
   "execution_count": 225,
   "metadata": {},
   "outputs": [
    {
     "data": {
      "text/plain": [
       "799822.1709999997"
      ]
     },
     "execution_count": 225,
     "metadata": {},
     "output_type": "execute_result"
    }
   ],
   "source": [
    "#tpm_ip_subtracted_htc_counts = tpm_ip_subtracted_df['count'][tpm_ip_subtracted_df['gene_id'].isin(all_htc_genes)].sum() # `all_htc_genes` is missing `mat locus` features and the annotated 'dg_repeat' and 'dh_repeat'\n",
    "tpm_ip_subtracted_htc_counts = tpm_ip_subtracted_df['count'][tpm_ip_subtracted_df['category'] == 'repeat'].sum()\n",
    "#tpm_ip_subtracted_htc_counts = tpm_ip_subtracted_total_counts - tpm_ip_subtracted_mrna_counts\n",
    "tpm_ip_subtracted_htc_counts"
   ]
  },
  {
   "cell_type": "code",
   "execution_count": 226,
   "metadata": {},
   "outputs": [
    {
     "data": {
      "text/plain": [
       "0.665813816773954"
      ]
     },
     "execution_count": 226,
     "metadata": {},
     "output_type": "execute_result"
    }
   ],
   "source": [
    "tpm_ip_subtracted_htc_ratio = tpm_ip_subtracted_htc_counts / tpm_ip_subtracted_total_counts\n",
    "tpm_ip_subtracted_htc_ratio"
   ]
  },
  {
   "cell_type": "markdown",
   "metadata": {},
   "source": [
    "---"
   ]
  },
  {
   "cell_type": "markdown",
   "metadata": {},
   "source": [
    "- Recompute `INPUT` **subtraction** from files:"
   ]
  },
  {
   "cell_type": "code",
   "execution_count": 227,
   "metadata": {},
   "outputs": [],
   "source": [
    "# new_tpm_ip_subtracted_df = tpm_df.merge(\n",
    "#     input_tpm_df[['gene_id', 'count']],\n",
    "#     how = 'inner',\n",
    "#     on='gene_id',\n",
    "#     suffixes=['_chip', '_ip']\n",
    "# )"
   ]
  },
  {
   "cell_type": "code",
   "execution_count": 228,
   "metadata": {},
   "outputs": [],
   "source": [
    "df_list = [ df.set_index(['gene_id']) for df in [\n",
    "    tpm_df.rename(columns={\"count\": \"count_chip\"}), \n",
    "    input_tpm_df[['gene_id', 'count']].rename(columns={\"count\": \"count_ip\"}), \n",
    "    tpm_ip_subtracted_df[['gene_id', 'count']].rename(columns={\"count\": \"count_ip_subtracted\"}) \n",
    "]]\n",
    "\n",
    "new_tpm_ip_subtracted_df = pd.concat(\n",
    "    df_list ,\n",
    "    join='inner',\n",
    "    axis=1\n",
    ").reset_index()"
   ]
  },
  {
   "cell_type": "code",
   "execution_count": 229,
   "metadata": {},
   "outputs": [
    {
     "data": {
      "text/html": [
       "<div>\n",
       "<style scoped>\n",
       "    .dataframe tbody tr th:only-of-type {\n",
       "        vertical-align: middle;\n",
       "    }\n",
       "\n",
       "    .dataframe tbody tr th {\n",
       "        vertical-align: top;\n",
       "    }\n",
       "\n",
       "    .dataframe thead th {\n",
       "        text-align: right;\n",
       "    }\n",
       "</style>\n",
       "<table border=\"1\" class=\"dataframe\">\n",
       "  <thead>\n",
       "    <tr style=\"text-align: right;\">\n",
       "      <th></th>\n",
       "      <th>gene_id</th>\n",
       "      <th>count_chip</th>\n",
       "      <th>gene_name</th>\n",
       "      <th>transcript_length</th>\n",
       "      <th>gene_length</th>\n",
       "      <th>type</th>\n",
       "      <th>category</th>\n",
       "      <th>count_ip</th>\n",
       "      <th>count_ip_subtracted</th>\n",
       "    </tr>\n",
       "  </thead>\n",
       "  <tbody>\n",
       "    <tr>\n",
       "      <th>0</th>\n",
       "      <td>SPBC460.01c</td>\n",
       "      <td>354.0</td>\n",
       "      <td>NaN</td>\n",
       "      <td>1719.0</td>\n",
       "      <td>1719</td>\n",
       "      <td>gene</td>\n",
       "      <td>gene</td>\n",
       "      <td>78.0</td>\n",
       "      <td>189.498</td>\n",
       "    </tr>\n",
       "    <tr>\n",
       "      <th>1</th>\n",
       "      <td>SPBC460.02c</td>\n",
       "      <td>209.0</td>\n",
       "      <td>NaN</td>\n",
       "      <td>663.0</td>\n",
       "      <td>948</td>\n",
       "      <td>gene</td>\n",
       "      <td>gene</td>\n",
       "      <td>90.0</td>\n",
       "      <td>19.190</td>\n",
       "    </tr>\n",
       "    <tr>\n",
       "      <th>2</th>\n",
       "      <td>SPBC460.03</td>\n",
       "      <td>408.0</td>\n",
       "      <td>vba2</td>\n",
       "      <td>1704.0</td>\n",
       "      <td>1704</td>\n",
       "      <td>gene</td>\n",
       "      <td>gene</td>\n",
       "      <td>122.0</td>\n",
       "      <td>150.702</td>\n",
       "    </tr>\n",
       "    <tr>\n",
       "      <th>3</th>\n",
       "      <td>SPBC460.04c</td>\n",
       "      <td>186.0</td>\n",
       "      <td>NaN</td>\n",
       "      <td>1176.0</td>\n",
       "      <td>1176</td>\n",
       "      <td>gene</td>\n",
       "      <td>gene</td>\n",
       "      <td>84.0</td>\n",
       "      <td>8.844</td>\n",
       "    </tr>\n",
       "    <tr>\n",
       "      <th>4</th>\n",
       "      <td>SPBC460.05</td>\n",
       "      <td>310.0</td>\n",
       "      <td>NaN</td>\n",
       "      <td>1593.0</td>\n",
       "      <td>1593</td>\n",
       "      <td>gene</td>\n",
       "      <td>gene</td>\n",
       "      <td>109.0</td>\n",
       "      <td>80.119</td>\n",
       "    </tr>\n",
       "  </tbody>\n",
       "</table>\n",
       "</div>"
      ],
      "text/plain": [
       "       gene_id  count_chip gene_name  transcript_length  gene_length  type  \\\n",
       "0  SPBC460.01c       354.0       NaN             1719.0         1719  gene   \n",
       "1  SPBC460.02c       209.0       NaN              663.0          948  gene   \n",
       "2   SPBC460.03       408.0      vba2             1704.0         1704  gene   \n",
       "3  SPBC460.04c       186.0       NaN             1176.0         1176  gene   \n",
       "4   SPBC460.05       310.0       NaN             1593.0         1593  gene   \n",
       "\n",
       "  category  count_ip  count_ip_subtracted  \n",
       "0     gene      78.0              189.498  \n",
       "1     gene      90.0               19.190  \n",
       "2     gene     122.0              150.702  \n",
       "3     gene      84.0                8.844  \n",
       "4     gene     109.0               80.119  "
      ]
     },
     "execution_count": 229,
     "metadata": {},
     "output_type": "execute_result"
    }
   ],
   "source": [
    "new_tpm_ip_subtracted_df.head()"
   ]
  },
  {
   "cell_type": "code",
   "execution_count": 230,
   "metadata": {},
   "outputs": [
    {
     "data": {
      "text/plain": [
       "(7018, 9)"
      ]
     },
     "execution_count": 230,
     "metadata": {},
     "output_type": "execute_result"
    }
   ],
   "source": [
    "new_tpm_ip_subtracted_df.shape"
   ]
  },
  {
   "cell_type": "markdown",
   "metadata": {},
   "source": [
    "Compute **new subtraction** - merge DataFames"
   ]
  },
  {
   "cell_type": "code",
   "execution_count": 231,
   "metadata": {},
   "outputs": [
    {
     "data": {
      "text/html": [
       "<div>\n",
       "<style scoped>\n",
       "    .dataframe tbody tr th:only-of-type {\n",
       "        vertical-align: middle;\n",
       "    }\n",
       "\n",
       "    .dataframe tbody tr th {\n",
       "        vertical-align: top;\n",
       "    }\n",
       "\n",
       "    .dataframe thead th {\n",
       "        text-align: right;\n",
       "    }\n",
       "</style>\n",
       "<table border=\"1\" class=\"dataframe\">\n",
       "  <thead>\n",
       "    <tr style=\"text-align: right;\">\n",
       "      <th></th>\n",
       "      <th>gene_id</th>\n",
       "      <th>count_chip</th>\n",
       "      <th>gene_name</th>\n",
       "      <th>transcript_length</th>\n",
       "      <th>gene_length</th>\n",
       "      <th>type</th>\n",
       "      <th>category</th>\n",
       "      <th>count_ip</th>\n",
       "      <th>count_ip_subtracted</th>\n",
       "      <th>count_new_ip_subtracted</th>\n",
       "    </tr>\n",
       "  </thead>\n",
       "  <tbody>\n",
       "    <tr>\n",
       "      <th>0</th>\n",
       "      <td>SPBC460.01c</td>\n",
       "      <td>354.0</td>\n",
       "      <td>NaN</td>\n",
       "      <td>1719.0</td>\n",
       "      <td>1719</td>\n",
       "      <td>gene</td>\n",
       "      <td>gene</td>\n",
       "      <td>78.0</td>\n",
       "      <td>189.498</td>\n",
       "      <td>189.498</td>\n",
       "    </tr>\n",
       "    <tr>\n",
       "      <th>1</th>\n",
       "      <td>SPBC460.02c</td>\n",
       "      <td>209.0</td>\n",
       "      <td>NaN</td>\n",
       "      <td>663.0</td>\n",
       "      <td>948</td>\n",
       "      <td>gene</td>\n",
       "      <td>gene</td>\n",
       "      <td>90.0</td>\n",
       "      <td>19.190</td>\n",
       "      <td>19.190</td>\n",
       "    </tr>\n",
       "    <tr>\n",
       "      <th>2</th>\n",
       "      <td>SPBC460.03</td>\n",
       "      <td>408.0</td>\n",
       "      <td>vba2</td>\n",
       "      <td>1704.0</td>\n",
       "      <td>1704</td>\n",
       "      <td>gene</td>\n",
       "      <td>gene</td>\n",
       "      <td>122.0</td>\n",
       "      <td>150.702</td>\n",
       "      <td>150.702</td>\n",
       "    </tr>\n",
       "    <tr>\n",
       "      <th>3</th>\n",
       "      <td>SPBC460.04c</td>\n",
       "      <td>186.0</td>\n",
       "      <td>NaN</td>\n",
       "      <td>1176.0</td>\n",
       "      <td>1176</td>\n",
       "      <td>gene</td>\n",
       "      <td>gene</td>\n",
       "      <td>84.0</td>\n",
       "      <td>8.844</td>\n",
       "      <td>8.844</td>\n",
       "    </tr>\n",
       "    <tr>\n",
       "      <th>4</th>\n",
       "      <td>SPBC460.05</td>\n",
       "      <td>310.0</td>\n",
       "      <td>NaN</td>\n",
       "      <td>1593.0</td>\n",
       "      <td>1593</td>\n",
       "      <td>gene</td>\n",
       "      <td>gene</td>\n",
       "      <td>109.0</td>\n",
       "      <td>80.119</td>\n",
       "      <td>80.119</td>\n",
       "    </tr>\n",
       "  </tbody>\n",
       "</table>\n",
       "</div>"
      ],
      "text/plain": [
       "       gene_id  count_chip gene_name  transcript_length  gene_length  type  \\\n",
       "0  SPBC460.01c       354.0       NaN             1719.0         1719  gene   \n",
       "1  SPBC460.02c       209.0       NaN              663.0          948  gene   \n",
       "2   SPBC460.03       408.0      vba2             1704.0         1704  gene   \n",
       "3  SPBC460.04c       186.0       NaN             1176.0         1176  gene   \n",
       "4   SPBC460.05       310.0       NaN             1593.0         1593  gene   \n",
       "\n",
       "  category  count_ip  count_ip_subtracted  count_new_ip_subtracted  \n",
       "0     gene      78.0              189.498                  189.498  \n",
       "1     gene      90.0               19.190                   19.190  \n",
       "2     gene     122.0              150.702                  150.702  \n",
       "3     gene      84.0                8.844                    8.844  \n",
       "4     gene     109.0               80.119                   80.119  "
      ]
     },
     "execution_count": 231,
     "metadata": {},
     "output_type": "execute_result"
    }
   ],
   "source": [
    "new_tpm_ip_subtracted_df['count_new_ip_subtracted'] = new_tpm_ip_subtracted_df['count_chip'] - input_factor * new_tpm_ip_subtracted_df['count_ip'].fillna(0)\n",
    "new_tpm_ip_subtracted_df.head()"
   ]
  },
  {
   "cell_type": "code",
   "execution_count": 232,
   "metadata": {},
   "outputs": [
    {
     "data": {
      "text/plain": [
       "(7018, 10)"
      ]
     },
     "execution_count": 232,
     "metadata": {},
     "output_type": "execute_result"
    }
   ],
   "source": [
    "new_tpm_ip_subtracted_df.shape"
   ]
  },
  {
   "cell_type": "markdown",
   "metadata": {},
   "source": [
    "- <font color='red'> **Attention!** \n",
    "    - After INPUT subtraction there are counts with negative values! Turn these into zeros!"
   ]
  },
  {
   "cell_type": "code",
   "execution_count": 233,
   "metadata": {},
   "outputs": [],
   "source": [
    "#new_tpm_ip_subtracted_df[new_tpm_ip_subtracted_df['count_new_ip_subtracted'] < 0]"
   ]
  },
  {
   "cell_type": "code",
   "execution_count": 234,
   "metadata": {},
   "outputs": [],
   "source": [
    "# turn negative counts to zeros\n",
    "new_tpm_ip_subtracted_df['count_new_ip_subtracted'] = new_tpm_ip_subtracted_df['count_new_ip_subtracted'].clip(lower=0)\n",
    "#new_tpm_ip_subtracted_df"
   ]
  },
  {
   "cell_type": "markdown",
   "metadata": {},
   "source": [
    "Compute **TPM** expression"
   ]
  },
  {
   "cell_type": "code",
   "execution_count": 235,
   "metadata": {},
   "outputs": [],
   "source": [
    "from gene_counts import get_tpm_gene_counts"
   ]
  },
  {
   "cell_type": "code",
   "execution_count": 236,
   "metadata": {},
   "outputs": [
    {
     "name": "stdout",
     "output_type": "stream",
     "text": [
      "\n",
      "Calculated TPM for 7018 genes.\n",
      "Used `length_col`: gene_length for normalization.\n"
     ]
    }
   ],
   "source": [
    "#new_tpm_ip_subtracted_df['tpm_new_ip_subtracted']\n",
    "new_tpm_ip_subtracted_df = new_tpm_ip_subtracted_df.merge(\n",
    "    get_tpm_gene_counts(\n",
    "        new_tpm_ip_subtracted_df,\n",
    "        count_col='count_new_ip_subtracted', \n",
    "        length_col='gene_length', \n",
    "        read_length = 50\n",
    "    ).rename(columns={\"count_new_ip_subtracted\": \"tpm_new_ip_subtracted\"})[['gene_id', 'tpm_new_ip_subtracted']],\n",
    "    how = 'inner',\n",
    "    on='gene_id'\n",
    ")"
   ]
  },
  {
   "cell_type": "code",
   "execution_count": 237,
   "metadata": {},
   "outputs": [
    {
     "data": {
      "text/html": [
       "<div>\n",
       "<style scoped>\n",
       "    .dataframe tbody tr th:only-of-type {\n",
       "        vertical-align: middle;\n",
       "    }\n",
       "\n",
       "    .dataframe tbody tr th {\n",
       "        vertical-align: top;\n",
       "    }\n",
       "\n",
       "    .dataframe thead th {\n",
       "        text-align: right;\n",
       "    }\n",
       "</style>\n",
       "<table border=\"1\" class=\"dataframe\">\n",
       "  <thead>\n",
       "    <tr style=\"text-align: right;\">\n",
       "      <th></th>\n",
       "      <th>gene_id</th>\n",
       "      <th>count_chip</th>\n",
       "      <th>gene_name</th>\n",
       "      <th>transcript_length</th>\n",
       "      <th>gene_length</th>\n",
       "      <th>type</th>\n",
       "      <th>category</th>\n",
       "      <th>count_ip</th>\n",
       "      <th>count_ip_subtracted</th>\n",
       "      <th>count_new_ip_subtracted</th>\n",
       "      <th>tpm_new_ip_subtracted</th>\n",
       "    </tr>\n",
       "  </thead>\n",
       "  <tbody>\n",
       "    <tr>\n",
       "      <th>5</th>\n",
       "      <td>SPAC212.11</td>\n",
       "      <td>90836.0</td>\n",
       "      <td>tlh1</td>\n",
       "      <td>5662.0</td>\n",
       "      <td>5662</td>\n",
       "      <td>gene</td>\n",
       "      <td>repeat</td>\n",
       "      <td>1436.0</td>\n",
       "      <td>87807.476</td>\n",
       "      <td>87807.476</td>\n",
       "      <td>17119.716047</td>\n",
       "    </tr>\n",
       "    <tr>\n",
       "      <th>6</th>\n",
       "      <td>SPAC212.11b</td>\n",
       "      <td>90836.0</td>\n",
       "      <td>tlh1_plus</td>\n",
       "      <td>5662.0</td>\n",
       "      <td>5662</td>\n",
       "      <td>gene</td>\n",
       "      <td>repeat</td>\n",
       "      <td>1436.0</td>\n",
       "      <td>87807.476</td>\n",
       "      <td>87807.476</td>\n",
       "      <td>17119.716047</td>\n",
       "    </tr>\n",
       "    <tr>\n",
       "      <th>7</th>\n",
       "      <td>SPAC212.10b</td>\n",
       "      <td>11071.0</td>\n",
       "      <td>SPAC212.10_plus</td>\n",
       "      <td>606.0</td>\n",
       "      <td>606</td>\n",
       "      <td>gene</td>\n",
       "      <td>repeat</td>\n",
       "      <td>130.0</td>\n",
       "      <td>10796.830</td>\n",
       "      <td>10796.830</td>\n",
       "      <td>21212.955150</td>\n",
       "    </tr>\n",
       "    <tr>\n",
       "      <th>8</th>\n",
       "      <td>SPAC212.10</td>\n",
       "      <td>11071.0</td>\n",
       "      <td>NaN</td>\n",
       "      <td>606.0</td>\n",
       "      <td>606</td>\n",
       "      <td>gene</td>\n",
       "      <td>repeat</td>\n",
       "      <td>130.0</td>\n",
       "      <td>10796.830</td>\n",
       "      <td>10796.830</td>\n",
       "      <td>21212.955150</td>\n",
       "    </tr>\n",
       "    <tr>\n",
       "      <th>9</th>\n",
       "      <td>SPAC212.09c</td>\n",
       "      <td>29027.0</td>\n",
       "      <td>NaN</td>\n",
       "      <td>1656.0</td>\n",
       "      <td>1656</td>\n",
       "      <td>gene</td>\n",
       "      <td>repeat</td>\n",
       "      <td>381.0</td>\n",
       "      <td>28223.471</td>\n",
       "      <td>28223.471</td>\n",
       "      <td>19220.056159</td>\n",
       "    </tr>\n",
       "    <tr>\n",
       "      <th>10</th>\n",
       "      <td>SPNCRNA.70</td>\n",
       "      <td>13006.0</td>\n",
       "      <td>NaN</td>\n",
       "      <td>530.0</td>\n",
       "      <td>530</td>\n",
       "      <td>gene</td>\n",
       "      <td>repeat</td>\n",
       "      <td>134.0</td>\n",
       "      <td>12723.394</td>\n",
       "      <td>12723.394</td>\n",
       "      <td>28947.962759</td>\n",
       "    </tr>\n",
       "    <tr>\n",
       "      <th>11</th>\n",
       "      <td>SPAC212.08c</td>\n",
       "      <td>28171.0</td>\n",
       "      <td>NaN</td>\n",
       "      <td>1211.0</td>\n",
       "      <td>1211</td>\n",
       "      <td>gene</td>\n",
       "      <td>repeat</td>\n",
       "      <td>244.0</td>\n",
       "      <td>27656.404</td>\n",
       "      <td>27656.404</td>\n",
       "      <td>26046.518894</td>\n",
       "    </tr>\n",
       "    <tr>\n",
       "      <th>12</th>\n",
       "      <td>SPAC212.07c</td>\n",
       "      <td>4168.0</td>\n",
       "      <td>NaN</td>\n",
       "      <td>891.0</td>\n",
       "      <td>891</td>\n",
       "      <td>gene</td>\n",
       "      <td>repeat</td>\n",
       "      <td>81.0</td>\n",
       "      <td>3997.171</td>\n",
       "      <td>3997.171</td>\n",
       "      <td>5195.181706</td>\n",
       "    </tr>\n",
       "    <tr>\n",
       "      <th>14</th>\n",
       "      <td>SPAC212.12</td>\n",
       "      <td>11622.0</td>\n",
       "      <td>NaN</td>\n",
       "      <td>372.0</td>\n",
       "      <td>372</td>\n",
       "      <td>gene</td>\n",
       "      <td>repeat</td>\n",
       "      <td>88.0</td>\n",
       "      <td>11436.408</td>\n",
       "      <td>11436.408</td>\n",
       "      <td>38747.815570</td>\n",
       "    </tr>\n",
       "    <tr>\n",
       "      <th>15</th>\n",
       "      <td>SPAC212.06c</td>\n",
       "      <td>23320.0</td>\n",
       "      <td>NaN</td>\n",
       "      <td>891.0</td>\n",
       "      <td>933</td>\n",
       "      <td>gene</td>\n",
       "      <td>repeat</td>\n",
       "      <td>213.0</td>\n",
       "      <td>22870.783</td>\n",
       "      <td>22870.783</td>\n",
       "      <td>28313.194598</td>\n",
       "    </tr>\n",
       "    <tr>\n",
       "      <th>16</th>\n",
       "      <td>SPAC212.05c</td>\n",
       "      <td>3678.0</td>\n",
       "      <td>NaN</td>\n",
       "      <td>192.0</td>\n",
       "      <td>192</td>\n",
       "      <td>gene</td>\n",
       "      <td>repeat</td>\n",
       "      <td>20.0</td>\n",
       "      <td>3635.820</td>\n",
       "      <td>3635.820</td>\n",
       "      <td>27824.440643</td>\n",
       "    </tr>\n",
       "    <tr>\n",
       "      <th>17</th>\n",
       "      <td>SPAC212.04c</td>\n",
       "      <td>41465.0</td>\n",
       "      <td>NaN</td>\n",
       "      <td>1615.0</td>\n",
       "      <td>1670</td>\n",
       "      <td>gene</td>\n",
       "      <td>repeat</td>\n",
       "      <td>424.0</td>\n",
       "      <td>40570.784</td>\n",
       "      <td>40570.784</td>\n",
       "      <td>27389.902795</td>\n",
       "    </tr>\n",
       "    <tr>\n",
       "      <th>18</th>\n",
       "      <td>SPAC212.03</td>\n",
       "      <td>6734.0</td>\n",
       "      <td>NaN</td>\n",
       "      <td>466.0</td>\n",
       "      <td>466</td>\n",
       "      <td>gene</td>\n",
       "      <td>repeat</td>\n",
       "      <td>81.0</td>\n",
       "      <td>6563.171</td>\n",
       "      <td>6563.171</td>\n",
       "      <td>17224.148865</td>\n",
       "    </tr>\n",
       "    <tr>\n",
       "      <th>19</th>\n",
       "      <td>SPAC212.02</td>\n",
       "      <td>4738.0</td>\n",
       "      <td>NaN</td>\n",
       "      <td>411.0</td>\n",
       "      <td>411</td>\n",
       "      <td>gene</td>\n",
       "      <td>repeat</td>\n",
       "      <td>55.0</td>\n",
       "      <td>4622.005</td>\n",
       "      <td>4622.005</td>\n",
       "      <td>13972.751844</td>\n",
       "    </tr>\n",
       "    <tr>\n",
       "      <th>20</th>\n",
       "      <td>SPAC212.01c</td>\n",
       "      <td>47140.0</td>\n",
       "      <td>NaN</td>\n",
       "      <td>862.0</td>\n",
       "      <td>920</td>\n",
       "      <td>gene</td>\n",
       "      <td>repeat</td>\n",
       "      <td>362.0</td>\n",
       "      <td>46376.542</td>\n",
       "      <td>46376.542</td>\n",
       "      <td>58269.368791</td>\n",
       "    </tr>\n",
       "    <tr>\n",
       "      <th>21</th>\n",
       "      <td>SPAC977.01</td>\n",
       "      <td>20740.0</td>\n",
       "      <td>ftm1</td>\n",
       "      <td>1306.0</td>\n",
       "      <td>1306</td>\n",
       "      <td>gene</td>\n",
       "      <td>repeat</td>\n",
       "      <td>405.0</td>\n",
       "      <td>19885.855</td>\n",
       "      <td>19885.855</td>\n",
       "      <td>17312.871129</td>\n",
       "    </tr>\n",
       "    <tr>\n",
       "      <th>22</th>\n",
       "      <td>SPAC977.18</td>\n",
       "      <td>17359.0</td>\n",
       "      <td>NaN</td>\n",
       "      <td>747.0</td>\n",
       "      <td>1206</td>\n",
       "      <td>gene</td>\n",
       "      <td>repeat</td>\n",
       "      <td>311.0</td>\n",
       "      <td>16703.101</td>\n",
       "      <td>16703.101</td>\n",
       "      <td>15798.790999</td>\n",
       "    </tr>\n",
       "    <tr>\n",
       "      <th>23</th>\n",
       "      <td>SPAC977.02</td>\n",
       "      <td>12794.0</td>\n",
       "      <td>ftm2</td>\n",
       "      <td>979.0</td>\n",
       "      <td>979</td>\n",
       "      <td>gene</td>\n",
       "      <td>repeat</td>\n",
       "      <td>243.0</td>\n",
       "      <td>12281.513</td>\n",
       "      <td>12281.513</td>\n",
       "      <td>14452.035821</td>\n",
       "    </tr>\n",
       "    <tr>\n",
       "      <th>24</th>\n",
       "      <td>SPAC977.03</td>\n",
       "      <td>4868.0</td>\n",
       "      <td>NaN</td>\n",
       "      <td>438.0</td>\n",
       "      <td>438</td>\n",
       "      <td>gene</td>\n",
       "      <td>repeat</td>\n",
       "      <td>102.0</td>\n",
       "      <td>4652.882</td>\n",
       "      <td>4652.882</td>\n",
       "      <td>13089.785894</td>\n",
       "    </tr>\n",
       "    <tr>\n",
       "      <th>25</th>\n",
       "      <td>SPAC977.04</td>\n",
       "      <td>8601.0</td>\n",
       "      <td>NaN</td>\n",
       "      <td>681.0</td>\n",
       "      <td>681</td>\n",
       "      <td>gene</td>\n",
       "      <td>repeat</td>\n",
       "      <td>162.0</td>\n",
       "      <td>8259.342</td>\n",
       "      <td>8259.342</td>\n",
       "      <td>14301.726777</td>\n",
       "    </tr>\n",
       "    <tr>\n",
       "      <th>2077</th>\n",
       "      <td>dh1b</td>\n",
       "      <td>41821.0</td>\n",
       "      <td>dh1_minus</td>\n",
       "      <td>4001.0</td>\n",
       "      <td>4001</td>\n",
       "      <td>gene</td>\n",
       "      <td>repeat</td>\n",
       "      <td>3598.0</td>\n",
       "      <td>34232.818</td>\n",
       "      <td>34232.818</td>\n",
       "      <td>9479.508512</td>\n",
       "    </tr>\n",
       "    <tr>\n",
       "      <th>2078</th>\n",
       "      <td>dh1a</td>\n",
       "      <td>41821.0</td>\n",
       "      <td>dh1_plus</td>\n",
       "      <td>4001.0</td>\n",
       "      <td>4001</td>\n",
       "      <td>gene</td>\n",
       "      <td>repeat</td>\n",
       "      <td>3598.0</td>\n",
       "      <td>34232.818</td>\n",
       "      <td>34232.818</td>\n",
       "      <td>9479.508512</td>\n",
       "    </tr>\n",
       "    <tr>\n",
       "      <th>2081</th>\n",
       "      <td>dg1b</td>\n",
       "      <td>33089.0</td>\n",
       "      <td>dg1_minus</td>\n",
       "      <td>3501.0</td>\n",
       "      <td>3501</td>\n",
       "      <td>gene</td>\n",
       "      <td>repeat</td>\n",
       "      <td>3840.0</td>\n",
       "      <td>24990.440</td>\n",
       "      <td>24990.440</td>\n",
       "      <td>7922.517757</td>\n",
       "    </tr>\n",
       "    <tr>\n",
       "      <th>2082</th>\n",
       "      <td>dg1a</td>\n",
       "      <td>33089.0</td>\n",
       "      <td>dg1_plus</td>\n",
       "      <td>3501.0</td>\n",
       "      <td>3501</td>\n",
       "      <td>gene</td>\n",
       "      <td>repeat</td>\n",
       "      <td>3840.0</td>\n",
       "      <td>24990.440</td>\n",
       "      <td>24990.440</td>\n",
       "      <td>7922.517757</td>\n",
       "    </tr>\n",
       "  </tbody>\n",
       "</table>\n",
       "</div>"
      ],
      "text/plain": [
       "          gene_id  count_chip        gene_name  transcript_length  \\\n",
       "5      SPAC212.11     90836.0             tlh1             5662.0   \n",
       "6     SPAC212.11b     90836.0        tlh1_plus             5662.0   \n",
       "7     SPAC212.10b     11071.0  SPAC212.10_plus              606.0   \n",
       "8      SPAC212.10     11071.0              NaN              606.0   \n",
       "9     SPAC212.09c     29027.0              NaN             1656.0   \n",
       "10     SPNCRNA.70     13006.0              NaN              530.0   \n",
       "11    SPAC212.08c     28171.0              NaN             1211.0   \n",
       "12    SPAC212.07c      4168.0              NaN              891.0   \n",
       "14     SPAC212.12     11622.0              NaN              372.0   \n",
       "15    SPAC212.06c     23320.0              NaN              891.0   \n",
       "16    SPAC212.05c      3678.0              NaN              192.0   \n",
       "17    SPAC212.04c     41465.0              NaN             1615.0   \n",
       "18     SPAC212.03      6734.0              NaN              466.0   \n",
       "19     SPAC212.02      4738.0              NaN              411.0   \n",
       "20    SPAC212.01c     47140.0              NaN              862.0   \n",
       "21     SPAC977.01     20740.0             ftm1             1306.0   \n",
       "22     SPAC977.18     17359.0              NaN              747.0   \n",
       "23     SPAC977.02     12794.0             ftm2              979.0   \n",
       "24     SPAC977.03      4868.0              NaN              438.0   \n",
       "25     SPAC977.04      8601.0              NaN              681.0   \n",
       "2077         dh1b     41821.0        dh1_minus             4001.0   \n",
       "2078         dh1a     41821.0         dh1_plus             4001.0   \n",
       "2081         dg1b     33089.0        dg1_minus             3501.0   \n",
       "2082         dg1a     33089.0         dg1_plus             3501.0   \n",
       "\n",
       "      gene_length  type category  count_ip  count_ip_subtracted  \\\n",
       "5            5662  gene   repeat    1436.0            87807.476   \n",
       "6            5662  gene   repeat    1436.0            87807.476   \n",
       "7             606  gene   repeat     130.0            10796.830   \n",
       "8             606  gene   repeat     130.0            10796.830   \n",
       "9            1656  gene   repeat     381.0            28223.471   \n",
       "10            530  gene   repeat     134.0            12723.394   \n",
       "11           1211  gene   repeat     244.0            27656.404   \n",
       "12            891  gene   repeat      81.0             3997.171   \n",
       "14            372  gene   repeat      88.0            11436.408   \n",
       "15            933  gene   repeat     213.0            22870.783   \n",
       "16            192  gene   repeat      20.0             3635.820   \n",
       "17           1670  gene   repeat     424.0            40570.784   \n",
       "18            466  gene   repeat      81.0             6563.171   \n",
       "19            411  gene   repeat      55.0             4622.005   \n",
       "20            920  gene   repeat     362.0            46376.542   \n",
       "21           1306  gene   repeat     405.0            19885.855   \n",
       "22           1206  gene   repeat     311.0            16703.101   \n",
       "23            979  gene   repeat     243.0            12281.513   \n",
       "24            438  gene   repeat     102.0             4652.882   \n",
       "25            681  gene   repeat     162.0             8259.342   \n",
       "2077         4001  gene   repeat    3598.0            34232.818   \n",
       "2078         4001  gene   repeat    3598.0            34232.818   \n",
       "2081         3501  gene   repeat    3840.0            24990.440   \n",
       "2082         3501  gene   repeat    3840.0            24990.440   \n",
       "\n",
       "      count_new_ip_subtracted  tpm_new_ip_subtracted  \n",
       "5                   87807.476           17119.716047  \n",
       "6                   87807.476           17119.716047  \n",
       "7                   10796.830           21212.955150  \n",
       "8                   10796.830           21212.955150  \n",
       "9                   28223.471           19220.056159  \n",
       "10                  12723.394           28947.962759  \n",
       "11                  27656.404           26046.518894  \n",
       "12                   3997.171            5195.181706  \n",
       "14                  11436.408           38747.815570  \n",
       "15                  22870.783           28313.194598  \n",
       "16                   3635.820           27824.440643  \n",
       "17                  40570.784           27389.902795  \n",
       "18                   6563.171           17224.148865  \n",
       "19                   4622.005           13972.751844  \n",
       "20                  46376.542           58269.368791  \n",
       "21                  19885.855           17312.871129  \n",
       "22                  16703.101           15798.790999  \n",
       "23                  12281.513           14452.035821  \n",
       "24                   4652.882           13089.785894  \n",
       "25                   8259.342           14301.726777  \n",
       "2077                34232.818            9479.508512  \n",
       "2078                34232.818            9479.508512  \n",
       "2081                24990.440            7922.517757  \n",
       "2082                24990.440            7922.517757  "
      ]
     },
     "execution_count": 237,
     "metadata": {},
     "output_type": "execute_result"
    }
   ],
   "source": [
    "new_tpm_ip_subtracted_df[new_tpm_ip_subtracted_df['gene_id'].isin(all_htc_genes)]"
   ]
  },
  {
   "cell_type": "markdown",
   "metadata": {},
   "source": [
    "- Try to infer `INPUT` **subtraction factor** used in analysis\n",
    "\n",
    "Does not make sense. Did I use a different INPUT to compute subtraction?"
   ]
  },
  {
   "cell_type": "code",
   "execution_count": 238,
   "metadata": {},
   "outputs": [
    {
     "data": {
      "text/html": [
       "<div>\n",
       "<style scoped>\n",
       "    .dataframe tbody tr th:only-of-type {\n",
       "        vertical-align: middle;\n",
       "    }\n",
       "\n",
       "    .dataframe tbody tr th {\n",
       "        vertical-align: top;\n",
       "    }\n",
       "\n",
       "    .dataframe thead th {\n",
       "        text-align: right;\n",
       "    }\n",
       "</style>\n",
       "<table border=\"1\" class=\"dataframe\">\n",
       "  <thead>\n",
       "    <tr style=\"text-align: right;\">\n",
       "      <th></th>\n",
       "      <th>gene_id</th>\n",
       "      <th>count_chip</th>\n",
       "      <th>gene_name</th>\n",
       "      <th>transcript_length</th>\n",
       "      <th>gene_length</th>\n",
       "      <th>type</th>\n",
       "      <th>category</th>\n",
       "      <th>count_ip</th>\n",
       "      <th>count_ip_subtracted</th>\n",
       "      <th>count_new_ip_subtracted</th>\n",
       "      <th>tpm_new_ip_subtracted</th>\n",
       "      <th>infered_factor</th>\n",
       "    </tr>\n",
       "  </thead>\n",
       "  <tbody>\n",
       "    <tr>\n",
       "      <th>0</th>\n",
       "      <td>SPBC460.01c</td>\n",
       "      <td>354.0</td>\n",
       "      <td>NaN</td>\n",
       "      <td>1719.0</td>\n",
       "      <td>1719</td>\n",
       "      <td>gene</td>\n",
       "      <td>gene</td>\n",
       "      <td>78.0</td>\n",
       "      <td>189.498</td>\n",
       "      <td>189.498</td>\n",
       "      <td>124.179031</td>\n",
       "      <td>2.109</td>\n",
       "    </tr>\n",
       "    <tr>\n",
       "      <th>1</th>\n",
       "      <td>SPBC460.02c</td>\n",
       "      <td>209.0</td>\n",
       "      <td>NaN</td>\n",
       "      <td>663.0</td>\n",
       "      <td>948</td>\n",
       "      <td>gene</td>\n",
       "      <td>gene</td>\n",
       "      <td>90.0</td>\n",
       "      <td>19.190</td>\n",
       "      <td>19.190</td>\n",
       "      <td>23.360137</td>\n",
       "      <td>2.109</td>\n",
       "    </tr>\n",
       "    <tr>\n",
       "      <th>2</th>\n",
       "      <td>SPBC460.03</td>\n",
       "      <td>408.0</td>\n",
       "      <td>vba2</td>\n",
       "      <td>1704.0</td>\n",
       "      <td>1704</td>\n",
       "      <td>gene</td>\n",
       "      <td>gene</td>\n",
       "      <td>122.0</td>\n",
       "      <td>150.702</td>\n",
       "      <td>150.702</td>\n",
       "      <td>99.650877</td>\n",
       "      <td>2.109</td>\n",
       "    </tr>\n",
       "    <tr>\n",
       "      <th>3</th>\n",
       "      <td>SPBC460.04c</td>\n",
       "      <td>186.0</td>\n",
       "      <td>NaN</td>\n",
       "      <td>1176.0</td>\n",
       "      <td>1176</td>\n",
       "      <td>gene</td>\n",
       "      <td>gene</td>\n",
       "      <td>84.0</td>\n",
       "      <td>8.844</td>\n",
       "      <td>8.844</td>\n",
       "      <td>8.587859</td>\n",
       "      <td>2.109</td>\n",
       "    </tr>\n",
       "    <tr>\n",
       "      <th>4</th>\n",
       "      <td>SPBC460.05</td>\n",
       "      <td>310.0</td>\n",
       "      <td>NaN</td>\n",
       "      <td>1593.0</td>\n",
       "      <td>1593</td>\n",
       "      <td>gene</td>\n",
       "      <td>gene</td>\n",
       "      <td>109.0</td>\n",
       "      <td>80.119</td>\n",
       "      <td>80.119</td>\n",
       "      <td>56.786922</td>\n",
       "      <td>2.109</td>\n",
       "    </tr>\n",
       "    <tr>\n",
       "      <th>...</th>\n",
       "      <td>...</td>\n",
       "      <td>...</td>\n",
       "      <td>...</td>\n",
       "      <td>...</td>\n",
       "      <td>...</td>\n",
       "      <td>...</td>\n",
       "      <td>...</td>\n",
       "      <td>...</td>\n",
       "      <td>...</td>\n",
       "      <td>...</td>\n",
       "      <td>...</td>\n",
       "      <td>...</td>\n",
       "    </tr>\n",
       "    <tr>\n",
       "      <th>7013</th>\n",
       "      <td>SPRRNA.51</td>\n",
       "      <td>NaN</td>\n",
       "      <td>NaN</td>\n",
       "      <td>165.0</td>\n",
       "      <td>165</td>\n",
       "      <td>gene</td>\n",
       "      <td>gene</td>\n",
       "      <td>NaN</td>\n",
       "      <td>NaN</td>\n",
       "      <td>NaN</td>\n",
       "      <td>NaN</td>\n",
       "      <td>NaN</td>\n",
       "    </tr>\n",
       "    <tr>\n",
       "      <th>7014</th>\n",
       "      <td>SPRRNA.52</td>\n",
       "      <td>NaN</td>\n",
       "      <td>NaN</td>\n",
       "      <td>165.0</td>\n",
       "      <td>165</td>\n",
       "      <td>gene</td>\n",
       "      <td>gene</td>\n",
       "      <td>NaN</td>\n",
       "      <td>NaN</td>\n",
       "      <td>NaN</td>\n",
       "      <td>NaN</td>\n",
       "      <td>NaN</td>\n",
       "    </tr>\n",
       "    <tr>\n",
       "      <th>7015</th>\n",
       "      <td>SPRRNA.55</td>\n",
       "      <td>NaN</td>\n",
       "      <td>NaN</td>\n",
       "      <td>115.0</td>\n",
       "      <td>115</td>\n",
       "      <td>gene</td>\n",
       "      <td>gene</td>\n",
       "      <td>NaN</td>\n",
       "      <td>NaN</td>\n",
       "      <td>NaN</td>\n",
       "      <td>NaN</td>\n",
       "      <td>NaN</td>\n",
       "    </tr>\n",
       "    <tr>\n",
       "      <th>7016</th>\n",
       "      <td>SPSNORNA.18</td>\n",
       "      <td>NaN</td>\n",
       "      <td>snoU24</td>\n",
       "      <td>47.0</td>\n",
       "      <td>47</td>\n",
       "      <td>gene</td>\n",
       "      <td>gene</td>\n",
       "      <td>NaN</td>\n",
       "      <td>NaN</td>\n",
       "      <td>NaN</td>\n",
       "      <td>NaN</td>\n",
       "      <td>NaN</td>\n",
       "    </tr>\n",
       "    <tr>\n",
       "      <th>7017</th>\n",
       "      <td>FP565355_region_3203..3259</td>\n",
       "      <td>NaN</td>\n",
       "      <td>NaN</td>\n",
       "      <td>57.0</td>\n",
       "      <td>57</td>\n",
       "      <td>region</td>\n",
       "      <td>repeat</td>\n",
       "      <td>NaN</td>\n",
       "      <td>NaN</td>\n",
       "      <td>NaN</td>\n",
       "      <td>NaN</td>\n",
       "      <td>NaN</td>\n",
       "    </tr>\n",
       "  </tbody>\n",
       "</table>\n",
       "<p>7018 rows × 12 columns</p>\n",
       "</div>"
      ],
      "text/plain": [
       "                         gene_id  count_chip gene_name  transcript_length  \\\n",
       "0                    SPBC460.01c       354.0       NaN             1719.0   \n",
       "1                    SPBC460.02c       209.0       NaN              663.0   \n",
       "2                     SPBC460.03       408.0      vba2             1704.0   \n",
       "3                    SPBC460.04c       186.0       NaN             1176.0   \n",
       "4                     SPBC460.05       310.0       NaN             1593.0   \n",
       "...                          ...         ...       ...                ...   \n",
       "7013                   SPRRNA.51         NaN       NaN              165.0   \n",
       "7014                   SPRRNA.52         NaN       NaN              165.0   \n",
       "7015                   SPRRNA.55         NaN       NaN              115.0   \n",
       "7016                 SPSNORNA.18         NaN    snoU24               47.0   \n",
       "7017  FP565355_region_3203..3259         NaN       NaN               57.0   \n",
       "\n",
       "      gene_length    type category  count_ip  count_ip_subtracted  \\\n",
       "0            1719    gene     gene      78.0              189.498   \n",
       "1             948    gene     gene      90.0               19.190   \n",
       "2            1704    gene     gene     122.0              150.702   \n",
       "3            1176    gene     gene      84.0                8.844   \n",
       "4            1593    gene     gene     109.0               80.119   \n",
       "...           ...     ...      ...       ...                  ...   \n",
       "7013          165    gene     gene       NaN                  NaN   \n",
       "7014          165    gene     gene       NaN                  NaN   \n",
       "7015          115    gene     gene       NaN                  NaN   \n",
       "7016           47    gene     gene       NaN                  NaN   \n",
       "7017           57  region   repeat       NaN                  NaN   \n",
       "\n",
       "      count_new_ip_subtracted  tpm_new_ip_subtracted  infered_factor  \n",
       "0                     189.498             124.179031           2.109  \n",
       "1                      19.190              23.360137           2.109  \n",
       "2                     150.702              99.650877           2.109  \n",
       "3                       8.844               8.587859           2.109  \n",
       "4                      80.119              56.786922           2.109  \n",
       "...                       ...                    ...             ...  \n",
       "7013                      NaN                    NaN             NaN  \n",
       "7014                      NaN                    NaN             NaN  \n",
       "7015                      NaN                    NaN             NaN  \n",
       "7016                      NaN                    NaN             NaN  \n",
       "7017                      NaN                    NaN             NaN  \n",
       "\n",
       "[7018 rows x 12 columns]"
      ]
     },
     "execution_count": 238,
     "metadata": {},
     "output_type": "execute_result"
    }
   ],
   "source": [
    "new_tpm_ip_subtracted_df['infered_factor'] = (new_tpm_ip_subtracted_df['count_chip'] - new_tpm_ip_subtracted_df['count_ip_subtracted']) /  new_tpm_ip_subtracted_df['count_ip']\n",
    "#new_tpm_ip_subtracted_df['infered_factor'] = (new_tpm_ip_subtracted_df['count_chip'] - new_tpm_ip_subtracted_df['count_new_ip_subtracted']) /  new_tpm_ip_subtracted_df['count_ip']\n",
    "new_tpm_ip_subtracted_df"
   ]
  },
  {
   "cell_type": "code",
   "execution_count": 242,
   "metadata": {},
   "outputs": [
    {
     "data": {
      "text/plain": [
       "2.109"
      ]
     },
     "execution_count": 242,
     "metadata": {},
     "output_type": "execute_result"
    }
   ],
   "source": [
    "input_factor"
   ]
  },
  {
   "cell_type": "code",
   "execution_count": 243,
   "metadata": {},
   "outputs": [],
   "source": [
    "#new_tpm_ip_subtracted_df[new_tpm_ip_subtracted_df['infered_factor'] != input_factor]"
   ]
  },
  {
   "cell_type": "code",
   "execution_count": 259,
   "metadata": {},
   "outputs": [
    {
     "data": {
      "text/html": [
       "<div>\n",
       "<style scoped>\n",
       "    .dataframe tbody tr th:only-of-type {\n",
       "        vertical-align: middle;\n",
       "    }\n",
       "\n",
       "    .dataframe tbody tr th {\n",
       "        vertical-align: top;\n",
       "    }\n",
       "\n",
       "    .dataframe thead th {\n",
       "        text-align: right;\n",
       "    }\n",
       "</style>\n",
       "<table border=\"1\" class=\"dataframe\">\n",
       "  <thead>\n",
       "    <tr style=\"text-align: right;\">\n",
       "      <th></th>\n",
       "      <th>gene_id</th>\n",
       "      <th>count_chip</th>\n",
       "      <th>gene_name</th>\n",
       "      <th>transcript_length</th>\n",
       "      <th>gene_length</th>\n",
       "      <th>type</th>\n",
       "      <th>category</th>\n",
       "      <th>count_ip</th>\n",
       "      <th>count_ip_subtracted</th>\n",
       "      <th>count_new_ip_subtracted</th>\n",
       "      <th>tpm_new_ip_subtracted</th>\n",
       "      <th>infered_factor</th>\n",
       "    </tr>\n",
       "  </thead>\n",
       "  <tbody>\n",
       "  </tbody>\n",
       "</table>\n",
       "</div>"
      ],
      "text/plain": [
       "Empty DataFrame\n",
       "Columns: [gene_id, count_chip, gene_name, transcript_length, gene_length, type, category, count_ip, count_ip_subtracted, count_new_ip_subtracted, tpm_new_ip_subtracted, infered_factor]\n",
       "Index: []"
      ]
     },
     "execution_count": 259,
     "metadata": {},
     "output_type": "execute_result"
    }
   ],
   "source": [
    "new_tpm_ip_subtracted_df[new_tpm_ip_subtracted_df['infered_factor'] > 10]"
   ]
  },
  {
   "cell_type": "code",
   "execution_count": 240,
   "metadata": {},
   "outputs": [
    {
     "data": {
      "text/plain": [
       "<matplotlib.axes._subplots.AxesSubplot at 0x7fe01f768320>"
      ]
     },
     "execution_count": 240,
     "metadata": {},
     "output_type": "execute_result"
    },
    {
     "data": {
      "image/png": "[encoded data removed]",
      "text/plain": [
       "<Figure size 432x288 with 1 Axes>"
      ]
     },
     "metadata": {
      "needs_background": "light"
     },
     "output_type": "display_data"
    }
   ],
   "source": [
    "new_tpm_ip_subtracted_df['infered_factor'].hist()"
   ]
  }
 ],
 "metadata": {
  "kernelspec": {
   "display_name": "Python (heterochromatin)",
   "language": "python",
   "name": "heterochromatin"
  },
  "language_info": {
   "codemirror_mode": {
    "name": "ipython",
    "version": 3
   },
   "file_extension": ".py",
   "mimetype": "text/x-python",
   "name": "python",
   "nbconvert_exporter": "python",
   "pygments_lexer": "ipython3",
   "version": "3.6.7"
  }
 },
 "nbformat": 4,
 "nbformat_minor": 4
}
