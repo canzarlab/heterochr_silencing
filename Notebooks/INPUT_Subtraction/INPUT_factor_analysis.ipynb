{
 "cells": [
  {
   "cell_type": "code",
   "execution_count": 1,
   "metadata": {},
   "outputs": [],
   "source": [
    "%load_ext autoreload\n",
    "%autoreload 2"
   ]
  },
  {
   "cell_type": "markdown",
   "metadata": {},
   "source": [
    "---------------------------"
   ]
  },
  {
   "cell_type": "markdown",
   "metadata": {},
   "source": [
    "## Config"
   ]
  },
  {
   "cell_type": "code",
   "execution_count": 2,
   "metadata": {},
   "outputs": [],
   "source": [
    "import sys"
   ]
  },
  {
   "cell_type": "code",
   "execution_count": 3,
   "metadata": {},
   "outputs": [],
   "source": [
    "project_dir = '/home/pmonteagudo/workspace/silencing_project'\n",
    "if project_dir not in sys.path: \n",
    "    sys.path.append(project_dir)\n",
    "from config_analysis import *"
   ]
  },
  {
   "cell_type": "markdown",
   "metadata": {},
   "source": [
    "<font color='red'> **Attention!** for `H3K9me2` samples It's possible to use other directories than the default (e.g. `ChIP/h3k9me2`) </font>"
   ]
  },
  {
   "cell_type": "code",
   "execution_count": 4,
   "metadata": {},
   "outputs": [],
   "source": [
    "#h3k9me2_analysis=False\n",
    "h3k9me2_analysis=True"
   ]
  },
  {
   "cell_type": "code",
   "execution_count": 5,
   "metadata": {},
   "outputs": [],
   "source": [
    "h3k9me2_dir = 'h3k9me2'\n",
    "h3k9me2_dir = 'strict_mean_h3k9me2'\n",
    "h3k9me2_dir = 'strict_median_h3k9me2'\n",
    "#h3k9me2_dir = 'strict_q98_h3k9me2'"
   ]
  },
  {
   "cell_type": "code",
   "execution_count": 6,
   "metadata": {},
   "outputs": [],
   "source": [
    "if not h3k9me2_analysis:\n",
    "    #input_types = ['S2-ChIP-OIN', 'S2-ChIP-INPUT', 'H3K9me2']\n",
    "    seq_assay = 'S2-ChIP'\n",
    "else:\n",
    "    #input_types = ['S2-ChIP-OIN', 'S2-ChIP-INPUT']\n",
    "    seq_assay = \"H3K9me2\""
   ]
  },
  {
   "cell_type": "markdown",
   "metadata": {},
   "source": [
    "---------------------------"
   ]
  },
  {
   "cell_type": "markdown",
   "metadata": {},
   "source": [
    "- Import dataframe containing **annotation of all samples**"
   ]
  },
  {
   "cell_type": "code",
   "execution_count": 7,
   "metadata": {},
   "outputs": [
    {
     "data": {
      "text/plain": [
       "'/gcm-lfs1/pablo/data/rna_silencing/seq_data/sample_annotation.csv'"
      ]
     },
     "execution_count": 7,
     "metadata": {},
     "output_type": "execute_result"
    }
   ],
   "source": [
    "sample_annotation_file = os.path.join(project_data_dir, 'seq_data', 'sample_annotation.csv')\n",
    "sample_annotation_file"
   ]
  },
  {
   "cell_type": "code",
   "execution_count": 8,
   "metadata": {},
   "outputs": [],
   "source": [
    "select_cols = ['sample_id', 'pipeline_type', 'seq_category', 'seq_type',  'mutant_id', 'mutant', 'replicate', 'batch', 'trimmed', 'halic_local_dir']"
   ]
  },
  {
   "cell_type": "code",
   "execution_count": 9,
   "metadata": {},
   "outputs": [
    {
     "data": {
      "text/html": [
       "<div>\n",
       "<style scoped>\n",
       "    .dataframe tbody tr th:only-of-type {\n",
       "        vertical-align: middle;\n",
       "    }\n",
       "\n",
       "    .dataframe tbody tr th {\n",
       "        vertical-align: top;\n",
       "    }\n",
       "\n",
       "    .dataframe thead th {\n",
       "        text-align: right;\n",
       "    }\n",
       "</style>\n",
       "<table border=\"1\" class=\"dataframe\">\n",
       "  <thead>\n",
       "    <tr style=\"text-align: right;\">\n",
       "      <th></th>\n",
       "      <th>sample_id</th>\n",
       "      <th>pipeline_type</th>\n",
       "      <th>seq_category</th>\n",
       "      <th>seq_type</th>\n",
       "      <th>mutant_id</th>\n",
       "      <th>mutant</th>\n",
       "      <th>replicate</th>\n",
       "      <th>batch</th>\n",
       "      <th>trimmed</th>\n",
       "      <th>halic_local_dir</th>\n",
       "    </tr>\n",
       "  </thead>\n",
       "  <tbody>\n",
       "    <tr>\n",
       "      <th>0</th>\n",
       "      <td>1022_S2-ChIP-INPUT_1</td>\n",
       "      <td>ChIP</td>\n",
       "      <td>INPUT</td>\n",
       "      <td>S2-ChIP-INPUT</td>\n",
       "      <td>1022</td>\n",
       "      <td>mot2d</td>\n",
       "      <td>1</td>\n",
       "      <td>revision</td>\n",
       "      <td>False</td>\n",
       "      <td>Revision/Sequencing_Revision/ChIP/INPUT/</td>\n",
       "    </tr>\n",
       "    <tr>\n",
       "      <th>1</th>\n",
       "      <td>1022_S2-ChIP-OIN_1</td>\n",
       "      <td>ChIP</td>\n",
       "      <td>INPUT</td>\n",
       "      <td>S2-ChIP-OIN</td>\n",
       "      <td>1022</td>\n",
       "      <td>mot2d</td>\n",
       "      <td>1</td>\n",
       "      <td>revision</td>\n",
       "      <td>False</td>\n",
       "      <td>Revision/Sequencing_Revision/ChIP/INPUT/</td>\n",
       "    </tr>\n",
       "    <tr>\n",
       "      <th>2</th>\n",
       "      <td>1168_S2-ChIP-OIN_1</td>\n",
       "      <td>ChIP</td>\n",
       "      <td>INPUT</td>\n",
       "      <td>S2-ChIP-OIN</td>\n",
       "      <td>1168</td>\n",
       "      <td>caf1d*ccr4d*</td>\n",
       "      <td>1</td>\n",
       "      <td>revision</td>\n",
       "      <td>False</td>\n",
       "      <td>Revision/Sequencing_Revision/ChIP/INPUT/</td>\n",
       "    </tr>\n",
       "    <tr>\n",
       "      <th>3</th>\n",
       "      <td>301_S2-ChIP-INPUT_1</td>\n",
       "      <td>ChIP</td>\n",
       "      <td>INPUT</td>\n",
       "      <td>S2-ChIP-INPUT</td>\n",
       "      <td>301</td>\n",
       "      <td>swi6d</td>\n",
       "      <td>1</td>\n",
       "      <td>manuscript</td>\n",
       "      <td>False</td>\n",
       "      <td>Revision/INPUTs/</td>\n",
       "    </tr>\n",
       "    <tr>\n",
       "      <th>4</th>\n",
       "      <td>301_S2-ChIP-OIN_1</td>\n",
       "      <td>ChIP</td>\n",
       "      <td>INPUT</td>\n",
       "      <td>S2-ChIP-OIN</td>\n",
       "      <td>301</td>\n",
       "      <td>swi6d</td>\n",
       "      <td>1</td>\n",
       "      <td>revision</td>\n",
       "      <td>False</td>\n",
       "      <td>Revision/Sequencing_Revision/ChIP/INPUT/</td>\n",
       "    </tr>\n",
       "  </tbody>\n",
       "</table>\n",
       "</div>"
      ],
      "text/plain": [
       "              sample_id pipeline_type seq_category       seq_type mutant_id  \\\n",
       "0  1022_S2-ChIP-INPUT_1          ChIP        INPUT  S2-ChIP-INPUT      1022   \n",
       "1    1022_S2-ChIP-OIN_1          ChIP        INPUT    S2-ChIP-OIN      1022   \n",
       "2    1168_S2-ChIP-OIN_1          ChIP        INPUT    S2-ChIP-OIN      1168   \n",
       "3   301_S2-ChIP-INPUT_1          ChIP        INPUT  S2-ChIP-INPUT       301   \n",
       "4     301_S2-ChIP-OIN_1          ChIP        INPUT    S2-ChIP-OIN       301   \n",
       "\n",
       "         mutant  replicate       batch  trimmed  \\\n",
       "0         mot2d          1    revision    False   \n",
       "1         mot2d          1    revision    False   \n",
       "2  caf1d*ccr4d*          1    revision    False   \n",
       "3         swi6d          1  manuscript    False   \n",
       "4         swi6d          1    revision    False   \n",
       "\n",
       "                            halic_local_dir  \n",
       "0  Revision/Sequencing_Revision/ChIP/INPUT/  \n",
       "1  Revision/Sequencing_Revision/ChIP/INPUT/  \n",
       "2  Revision/Sequencing_Revision/ChIP/INPUT/  \n",
       "3                          Revision/INPUTs/  \n",
       "4  Revision/Sequencing_Revision/ChIP/INPUT/  "
      ]
     },
     "execution_count": 9,
     "metadata": {},
     "output_type": "execute_result"
    }
   ],
   "source": [
    "all_samples_df = pd.read_csv(sample_annotation_file, sep=\"\\t\", usecols=select_cols)[select_cols]\n",
    "all_samples_df.head()"
   ]
  },
  {
   "cell_type": "code",
   "execution_count": 10,
   "metadata": {},
   "outputs": [
    {
     "data": {
      "text/plain": [
       "(154, 10)"
      ]
     },
     "execution_count": 10,
     "metadata": {},
     "output_type": "execute_result"
    }
   ],
   "source": [
    "all_samples_df.shape"
   ]
  },
  {
   "cell_type": "markdown",
   "metadata": {},
   "source": [
    "- **Ignore S2-RIP/S5-RIP samples** for now"
   ]
  },
  {
   "cell_type": "code",
   "execution_count": 11,
   "metadata": {},
   "outputs": [],
   "source": [
    "# #all_samples_df = all_samples_df[all_samples_df['seq_type'] != 'S2-RIP']\n",
    "# all_samples_df = all_samples_df[all_samples_df['seq_type'] != 'S5-RIP']\n",
    "# all_samples_df.shape"
   ]
  },
  {
   "cell_type": "markdown",
   "metadata": {},
   "source": [
    "- **Ignore S2-ChIP/S5-ChIP samples** for now"
   ]
  },
  {
   "cell_type": "code",
   "execution_count": 12,
   "metadata": {},
   "outputs": [],
   "source": [
    "# #all_samples_df = all_samples_df[all_samples_df['seq_type'] != 'S2-ChIP']\n",
    "# all_samples_df = all_samples_df[all_samples_df['seq_type'] != 'S5-ChIP']\n",
    "# all_samples_df.shape"
   ]
  },
  {
   "cell_type": "markdown",
   "metadata": {},
   "source": [
    "---------------------------"
   ]
  },
  {
   "cell_type": "markdown",
   "metadata": {},
   "source": [
    "# Import **INPUT factor** Files: `INPUT_factors.csv`"
   ]
  },
  {
   "cell_type": "markdown",
   "metadata": {},
   "source": [
    "---------------------------"
   ]
  },
  {
   "cell_type": "code",
   "execution_count": 13,
   "metadata": {},
   "outputs": [],
   "source": [
    "#all_samples_df['seq_category'].unique()"
   ]
  },
  {
   "cell_type": "markdown",
   "metadata": {},
   "source": [
    "- Filter for **ChIP samples**, which are the only ones that need the INPUT subtraction."
   ]
  },
  {
   "cell_type": "code",
   "execution_count": 14,
   "metadata": {},
   "outputs": [
    {
     "data": {
      "text/plain": [
       "(9, 10)"
      ]
     },
     "execution_count": 14,
     "metadata": {},
     "output_type": "execute_result"
    }
   ],
   "source": [
    "#chip_df = all_samples_df[all_samples_df['pipeline_type'] == 'ChIP']\n",
    "#chip_df = chip_df[~chip_df['seq_type'].isin(input_types)]\n",
    "chip_df = all_samples_df[all_samples_df['seq_type'] == seq_assay]\n",
    "chip_df.shape"
   ]
  },
  {
   "cell_type": "markdown",
   "metadata": {},
   "source": [
    "- Add `input_factor_file` column for each mutant"
   ]
  },
  {
   "cell_type": "code",
   "execution_count": 15,
   "metadata": {},
   "outputs": [
    {
     "name": "stderr",
     "output_type": "stream",
     "text": [
      "/home/pmonteagudo/anaconda3/envs/heterochromatin/lib/python3.6/site-packages/ipykernel_launcher.py:2: SettingWithCopyWarning: \n",
      "A value is trying to be set on a copy of a slice from a DataFrame.\n",
      "Try using .loc[row_indexer,col_indexer] = value instead\n",
      "\n",
      "See the caveats in the documentation: http://pandas.pydata.org/pandas-docs/stable/user_guide/indexing.html#returning-a-view-versus-a-copy\n",
      "  \n"
     ]
    }
   ],
   "source": [
    "chip_df['input_factor_file'] = chip_df.apply(\n",
    "    lambda row: os.path.join(project_data_dir, 'seq_data', row.seq_category, 'INPUT_factors', row.sample_id, 'INPUT_factors.csv'), axis=1)"
   ]
  },
  {
   "cell_type": "code",
   "execution_count": 16,
   "metadata": {},
   "outputs": [
    {
     "data": {
      "text/html": [
       "<div>\n",
       "<style scoped>\n",
       "    .dataframe tbody tr th:only-of-type {\n",
       "        vertical-align: middle;\n",
       "    }\n",
       "\n",
       "    .dataframe tbody tr th {\n",
       "        vertical-align: top;\n",
       "    }\n",
       "\n",
       "    .dataframe thead th {\n",
       "        text-align: right;\n",
       "    }\n",
       "</style>\n",
       "<table border=\"1\" class=\"dataframe\">\n",
       "  <thead>\n",
       "    <tr style=\"text-align: right;\">\n",
       "      <th></th>\n",
       "      <th>sample_id</th>\n",
       "      <th>pipeline_type</th>\n",
       "      <th>seq_category</th>\n",
       "      <th>seq_type</th>\n",
       "      <th>mutant_id</th>\n",
       "      <th>mutant</th>\n",
       "      <th>replicate</th>\n",
       "      <th>batch</th>\n",
       "      <th>trimmed</th>\n",
       "      <th>halic_local_dir</th>\n",
       "      <th>input_factor_file</th>\n",
       "    </tr>\n",
       "  </thead>\n",
       "  <tbody>\n",
       "    <tr>\n",
       "      <th>137</th>\n",
       "      <td>WT_H3K9me2_1</td>\n",
       "      <td>ChIP</td>\n",
       "      <td>H3K9me2</td>\n",
       "      <td>H3K9me2</td>\n",
       "      <td>WT</td>\n",
       "      <td>wt</td>\n",
       "      <td>1</td>\n",
       "      <td>manuscript</td>\n",
       "      <td>False</td>\n",
       "      <td>2me_65/</td>\n",
       "      <td>/gcm-lfs1/pablo/data/rna_silencing/seq_data/H3...</td>\n",
       "    </tr>\n",
       "    <tr>\n",
       "      <th>138</th>\n",
       "      <td>301_H3K9me2_1</td>\n",
       "      <td>ChIP</td>\n",
       "      <td>H3K9me2</td>\n",
       "      <td>H3K9me2</td>\n",
       "      <td>301</td>\n",
       "      <td>swi6d</td>\n",
       "      <td>1</td>\n",
       "      <td>new-h3k9me2</td>\n",
       "      <td>False</td>\n",
       "      <td>NaN</td>\n",
       "      <td>/gcm-lfs1/pablo/data/rna_silencing/seq_data/H3...</td>\n",
       "    </tr>\n",
       "    <tr>\n",
       "      <th>139</th>\n",
       "      <td>302_H3K9me2_1</td>\n",
       "      <td>ChIP</td>\n",
       "      <td>H3K9me2</td>\n",
       "      <td>H3K9me2</td>\n",
       "      <td>302</td>\n",
       "      <td>clr3d</td>\n",
       "      <td>1</td>\n",
       "      <td>new-h3k9me3</td>\n",
       "      <td>False</td>\n",
       "      <td>NaN</td>\n",
       "      <td>/gcm-lfs1/pablo/data/rna_silencing/seq_data/H3...</td>\n",
       "    </tr>\n",
       "    <tr>\n",
       "      <th>140</th>\n",
       "      <td>324_H3K9me2_1</td>\n",
       "      <td>ChIP</td>\n",
       "      <td>H3K9me2</td>\n",
       "      <td>H3K9me2</td>\n",
       "      <td>324</td>\n",
       "      <td>chp2d</td>\n",
       "      <td>1</td>\n",
       "      <td>new-h3k9me4</td>\n",
       "      <td>False</td>\n",
       "      <td>NaN</td>\n",
       "      <td>/gcm-lfs1/pablo/data/rna_silencing/seq_data/H3...</td>\n",
       "    </tr>\n",
       "    <tr>\n",
       "      <th>141</th>\n",
       "      <td>491_H3K9me2_1</td>\n",
       "      <td>ChIP</td>\n",
       "      <td>H3K9me2</td>\n",
       "      <td>H3K9me2</td>\n",
       "      <td>491</td>\n",
       "      <td>mit1d</td>\n",
       "      <td>1</td>\n",
       "      <td>new-h3k9me5</td>\n",
       "      <td>False</td>\n",
       "      <td>NaN</td>\n",
       "      <td>/gcm-lfs1/pablo/data/rna_silencing/seq_data/H3...</td>\n",
       "    </tr>\n",
       "  </tbody>\n",
       "</table>\n",
       "</div>"
      ],
      "text/plain": [
       "         sample_id pipeline_type seq_category seq_type mutant_id mutant  \\\n",
       "137   WT_H3K9me2_1          ChIP      H3K9me2  H3K9me2        WT     wt   \n",
       "138  301_H3K9me2_1          ChIP      H3K9me2  H3K9me2       301  swi6d   \n",
       "139  302_H3K9me2_1          ChIP      H3K9me2  H3K9me2       302  clr3d   \n",
       "140  324_H3K9me2_1          ChIP      H3K9me2  H3K9me2       324  chp2d   \n",
       "141  491_H3K9me2_1          ChIP      H3K9me2  H3K9me2       491  mit1d   \n",
       "\n",
       "     replicate        batch  trimmed halic_local_dir  \\\n",
       "137          1   manuscript    False         2me_65/   \n",
       "138          1  new-h3k9me2    False             NaN   \n",
       "139          1  new-h3k9me3    False             NaN   \n",
       "140          1  new-h3k9me4    False             NaN   \n",
       "141          1  new-h3k9me5    False             NaN   \n",
       "\n",
       "                                     input_factor_file  \n",
       "137  /gcm-lfs1/pablo/data/rna_silencing/seq_data/H3...  \n",
       "138  /gcm-lfs1/pablo/data/rna_silencing/seq_data/H3...  \n",
       "139  /gcm-lfs1/pablo/data/rna_silencing/seq_data/H3...  \n",
       "140  /gcm-lfs1/pablo/data/rna_silencing/seq_data/H3...  \n",
       "141  /gcm-lfs1/pablo/data/rna_silencing/seq_data/H3...  "
      ]
     },
     "execution_count": 16,
     "metadata": {},
     "output_type": "execute_result"
    }
   ],
   "source": [
    "chip_df.head()"
   ]
  },
  {
   "cell_type": "code",
   "execution_count": 17,
   "metadata": {},
   "outputs": [
    {
     "data": {
      "text/plain": [
       "(9, 11)"
      ]
     },
     "execution_count": 17,
     "metadata": {},
     "output_type": "execute_result"
    }
   ],
   "source": [
    "chip_df.shape"
   ]
  },
  {
   "cell_type": "markdown",
   "metadata": {},
   "source": [
    "- Import **INPUT factors** Data Frames:"
   ]
  },
  {
   "cell_type": "code",
   "execution_count": 18,
   "metadata": {},
   "outputs": [],
   "source": [
    "input_factors_df = pd.concat([pd.read_csv(ff, sep ='\\t', index_col = False) \n",
    "                              for ff in chip_df['input_factor_file']], sort=False, axis = 0) # assume files are identical! sort=False"
   ]
  },
  {
   "cell_type": "code",
   "execution_count": 19,
   "metadata": {},
   "outputs": [],
   "source": [
    "col_order = ['chip_id', 'input_id', 'method', 'chrom', 'input_factor']\n",
    "input_factors_df = input_factors_df[col_order]"
   ]
  },
  {
   "cell_type": "code",
   "execution_count": 20,
   "metadata": {},
   "outputs": [
    {
     "data": {
      "text/html": [
       "<div>\n",
       "<style scoped>\n",
       "    .dataframe tbody tr th:only-of-type {\n",
       "        vertical-align: middle;\n",
       "    }\n",
       "\n",
       "    .dataframe tbody tr th {\n",
       "        vertical-align: top;\n",
       "    }\n",
       "\n",
       "    .dataframe thead th {\n",
       "        text-align: right;\n",
       "    }\n",
       "</style>\n",
       "<table border=\"1\" class=\"dataframe\">\n",
       "  <thead>\n",
       "    <tr style=\"text-align: right;\">\n",
       "      <th></th>\n",
       "      <th>chip_id</th>\n",
       "      <th>input_id</th>\n",
       "      <th>method</th>\n",
       "      <th>chrom</th>\n",
       "      <th>input_factor</th>\n",
       "    </tr>\n",
       "  </thead>\n",
       "  <tbody>\n",
       "    <tr>\n",
       "      <th>0</th>\n",
       "      <td>WT_H3K9me2_1</td>\n",
       "      <td>WT_S2-ChIP-INPUT_1</td>\n",
       "      <td>linear_regression</td>\n",
       "      <td>SPAC23G3.02c</td>\n",
       "      <td>0.596361</td>\n",
       "    </tr>\n",
       "    <tr>\n",
       "      <th>1</th>\n",
       "      <td>WT_H3K9me2_1</td>\n",
       "      <td>WT_S2-ChIP-INPUT_1</td>\n",
       "      <td>global_lambda</td>\n",
       "      <td>SPAC23G3.02c</td>\n",
       "      <td>0.816043</td>\n",
       "    </tr>\n",
       "    <tr>\n",
       "      <th>2</th>\n",
       "      <td>WT_H3K9me2_1</td>\n",
       "      <td>WT_S2-ChIP-INPUT_1</td>\n",
       "      <td>linear_regression</td>\n",
       "      <td>SPCC737.08</td>\n",
       "      <td>0.600384</td>\n",
       "    </tr>\n",
       "    <tr>\n",
       "      <th>3</th>\n",
       "      <td>WT_H3K9me2_1</td>\n",
       "      <td>WT_S2-ChIP-INPUT_1</td>\n",
       "      <td>global_lambda</td>\n",
       "      <td>SPCC737.08</td>\n",
       "      <td>0.911388</td>\n",
       "    </tr>\n",
       "    <tr>\n",
       "      <th>4</th>\n",
       "      <td>WT_H3K9me2_1</td>\n",
       "      <td>WT_S2-ChIP-INPUT_1</td>\n",
       "      <td>linear_regression</td>\n",
       "      <td>SPAC1093.06c</td>\n",
       "      <td>0.535963</td>\n",
       "    </tr>\n",
       "  </tbody>\n",
       "</table>\n",
       "</div>"
      ],
      "text/plain": [
       "        chip_id            input_id             method         chrom  \\\n",
       "0  WT_H3K9me2_1  WT_S2-ChIP-INPUT_1  linear_regression  SPAC23G3.02c   \n",
       "1  WT_H3K9me2_1  WT_S2-ChIP-INPUT_1      global_lambda  SPAC23G3.02c   \n",
       "2  WT_H3K9me2_1  WT_S2-ChIP-INPUT_1  linear_regression    SPCC737.08   \n",
       "3  WT_H3K9me2_1  WT_S2-ChIP-INPUT_1      global_lambda    SPCC737.08   \n",
       "4  WT_H3K9me2_1  WT_S2-ChIP-INPUT_1  linear_regression  SPAC1093.06c   \n",
       "\n",
       "   input_factor  \n",
       "0      0.596361  \n",
       "1      0.816043  \n",
       "2      0.600384  \n",
       "3      0.911388  \n",
       "4      0.535963  "
      ]
     },
     "execution_count": 20,
     "metadata": {},
     "output_type": "execute_result"
    }
   ],
   "source": [
    "input_factors_df.head()"
   ]
  },
  {
   "cell_type": "code",
   "execution_count": 21,
   "metadata": {},
   "outputs": [
    {
     "data": {
      "text/plain": [
       "(92160, 5)"
      ]
     },
     "execution_count": 21,
     "metadata": {},
     "output_type": "execute_result"
    }
   ],
   "source": [
    "input_factors_df.shape"
   ]
  },
  {
   "cell_type": "markdown",
   "metadata": {},
   "source": [
    "- Merge with sample **ChIP annotation** DataFrame"
   ]
  },
  {
   "cell_type": "code",
   "execution_count": 22,
   "metadata": {},
   "outputs": [],
   "source": [
    "input_factors_df = pd.merge(input_factors_df, chip_df[['sample_id', 'mutant_id']], how='left', left_on='chip_id', right_on='sample_id').drop('sample_id', axis=1)"
   ]
  },
  {
   "cell_type": "code",
   "execution_count": 23,
   "metadata": {},
   "outputs": [
    {
     "data": {
      "text/html": [
       "<div>\n",
       "<style scoped>\n",
       "    .dataframe tbody tr th:only-of-type {\n",
       "        vertical-align: middle;\n",
       "    }\n",
       "\n",
       "    .dataframe tbody tr th {\n",
       "        vertical-align: top;\n",
       "    }\n",
       "\n",
       "    .dataframe thead th {\n",
       "        text-align: right;\n",
       "    }\n",
       "</style>\n",
       "<table border=\"1\" class=\"dataframe\">\n",
       "  <thead>\n",
       "    <tr style=\"text-align: right;\">\n",
       "      <th></th>\n",
       "      <th>chip_id</th>\n",
       "      <th>input_id</th>\n",
       "      <th>method</th>\n",
       "      <th>chrom</th>\n",
       "      <th>input_factor</th>\n",
       "      <th>mutant_id</th>\n",
       "    </tr>\n",
       "  </thead>\n",
       "  <tbody>\n",
       "    <tr>\n",
       "      <th>0</th>\n",
       "      <td>WT_H3K9me2_1</td>\n",
       "      <td>WT_S2-ChIP-INPUT_1</td>\n",
       "      <td>linear_regression</td>\n",
       "      <td>SPAC23G3.02c</td>\n",
       "      <td>0.596361</td>\n",
       "      <td>WT</td>\n",
       "    </tr>\n",
       "    <tr>\n",
       "      <th>1</th>\n",
       "      <td>WT_H3K9me2_1</td>\n",
       "      <td>WT_S2-ChIP-INPUT_1</td>\n",
       "      <td>global_lambda</td>\n",
       "      <td>SPAC23G3.02c</td>\n",
       "      <td>0.816043</td>\n",
       "      <td>WT</td>\n",
       "    </tr>\n",
       "    <tr>\n",
       "      <th>2</th>\n",
       "      <td>WT_H3K9me2_1</td>\n",
       "      <td>WT_S2-ChIP-INPUT_1</td>\n",
       "      <td>linear_regression</td>\n",
       "      <td>SPCC737.08</td>\n",
       "      <td>0.600384</td>\n",
       "      <td>WT</td>\n",
       "    </tr>\n",
       "    <tr>\n",
       "      <th>3</th>\n",
       "      <td>WT_H3K9me2_1</td>\n",
       "      <td>WT_S2-ChIP-INPUT_1</td>\n",
       "      <td>global_lambda</td>\n",
       "      <td>SPCC737.08</td>\n",
       "      <td>0.911388</td>\n",
       "      <td>WT</td>\n",
       "    </tr>\n",
       "    <tr>\n",
       "      <th>4</th>\n",
       "      <td>WT_H3K9me2_1</td>\n",
       "      <td>WT_S2-ChIP-INPUT_1</td>\n",
       "      <td>linear_regression</td>\n",
       "      <td>SPAC1093.06c</td>\n",
       "      <td>0.535963</td>\n",
       "      <td>WT</td>\n",
       "    </tr>\n",
       "  </tbody>\n",
       "</table>\n",
       "</div>"
      ],
      "text/plain": [
       "        chip_id            input_id             method         chrom  \\\n",
       "0  WT_H3K9me2_1  WT_S2-ChIP-INPUT_1  linear_regression  SPAC23G3.02c   \n",
       "1  WT_H3K9me2_1  WT_S2-ChIP-INPUT_1      global_lambda  SPAC23G3.02c   \n",
       "2  WT_H3K9me2_1  WT_S2-ChIP-INPUT_1  linear_regression    SPCC737.08   \n",
       "3  WT_H3K9me2_1  WT_S2-ChIP-INPUT_1      global_lambda    SPCC737.08   \n",
       "4  WT_H3K9me2_1  WT_S2-ChIP-INPUT_1  linear_regression  SPAC1093.06c   \n",
       "\n",
       "   input_factor mutant_id  \n",
       "0      0.596361        WT  \n",
       "1      0.816043        WT  \n",
       "2      0.600384        WT  \n",
       "3      0.911388        WT  \n",
       "4      0.535963        WT  "
      ]
     },
     "execution_count": 23,
     "metadata": {},
     "output_type": "execute_result"
    }
   ],
   "source": [
    "input_factors_df.head()\n",
    "#input_factors_df.head(30)"
   ]
  },
  {
   "cell_type": "code",
   "execution_count": 24,
   "metadata": {},
   "outputs": [
    {
     "data": {
      "text/plain": [
       "(92160, 6)"
      ]
     },
     "execution_count": 24,
     "metadata": {},
     "output_type": "execute_result"
    }
   ],
   "source": [
    "input_factors_df.shape"
   ]
  },
  {
   "cell_type": "markdown",
   "metadata": {},
   "source": [
    "- **Store** dataframe containing annotation of all samples:"
   ]
  },
  {
   "cell_type": "code",
   "execution_count": 25,
   "metadata": {},
   "outputs": [
    {
     "data": {
      "text/plain": [
       "'/home/pmonteagudo/workspace/silencing_project/results/strict_median_h3k9me2_INPUT_factors.csv'"
      ]
     },
     "execution_count": 25,
     "metadata": {},
     "output_type": "execute_result"
    }
   ],
   "source": [
    "if not h3k9me2_analysis:\n",
    "    input_factor_file = os.path.join(project_dir, 'results', 'INPUT_factors.csv')\n",
    "else:\n",
    "    input_factor_file = os.path.join(project_dir, 'results', h3k9me2_dir + '_INPUT_factors.csv')\n",
    "input_factor_file"
   ]
  },
  {
   "cell_type": "code",
   "execution_count": 26,
   "metadata": {},
   "outputs": [],
   "source": [
    "input_factors_df.to_csv(input_factor_file, sep=\"\\t\", index=False)"
   ]
  },
  {
   "cell_type": "markdown",
   "metadata": {},
   "source": [
    "---------------------------"
   ]
  },
  {
   "cell_type": "markdown",
   "metadata": {},
   "source": [
    "# Visualization"
   ]
  },
  {
   "cell_type": "markdown",
   "metadata": {},
   "source": [
    "---------------------------"
   ]
  },
  {
   "cell_type": "code",
   "execution_count": 27,
   "metadata": {},
   "outputs": [],
   "source": [
    "import seaborn as sns\n",
    "#sns.set()"
   ]
  },
  {
   "cell_type": "code",
   "execution_count": 28,
   "metadata": {},
   "outputs": [],
   "source": [
    "import matplotlib.pyplot as plt\n",
    "plt.style.use('ggplot')"
   ]
  },
  {
   "cell_type": "markdown",
   "metadata": {},
   "source": [
    "- Use only `global_lambda`s"
   ]
  },
  {
   "cell_type": "code",
   "execution_count": 29,
   "metadata": {},
   "outputs": [],
   "source": [
    "#input_factors_df = input_factors_df[input_factors_df['method'] == 'global_lambda']"
   ]
  },
  {
   "cell_type": "markdown",
   "metadata": {},
   "source": [
    "- Prepare Data Frame into **tidy format** for visualization using `seaborn`"
   ]
  },
  {
   "cell_type": "code",
   "execution_count": 30,
   "metadata": {},
   "outputs": [],
   "source": [
    "id_vars = ['chip_id', 'input_id', 'method', 'chrom', 'mutant_id']"
   ]
  },
  {
   "cell_type": "code",
   "execution_count": 31,
   "metadata": {},
   "outputs": [],
   "source": [
    "input_factors_tidy_df = input_factors_df"
   ]
  },
  {
   "cell_type": "code",
   "execution_count": 32,
   "metadata": {},
   "outputs": [],
   "source": [
    "#splice_ratio_tidy_df.head()"
   ]
  },
  {
   "cell_type": "code",
   "execution_count": 33,
   "metadata": {},
   "outputs": [],
   "source": [
    "#splice_ratio_tidy_df.shape"
   ]
  },
  {
   "cell_type": "markdown",
   "metadata": {},
   "source": [
    "- Variables that can be used for plotting"
   ]
  },
  {
   "cell_type": "code",
   "execution_count": 34,
   "metadata": {},
   "outputs": [],
   "source": [
    "#plot_vars = input_factors_tidy_df['mutant_id'].unique()\n",
    "#plot_vars"
   ]
  },
  {
   "cell_type": "markdown",
   "metadata": {},
   "source": [
    "## **A. Boxplot** - Median INPUT factor"
   ]
  },
  {
   "cell_type": "markdown",
   "metadata": {},
   "source": [
    "- Prepare data for **Boxplots**"
   ]
  },
  {
   "cell_type": "code",
   "execution_count": 35,
   "metadata": {},
   "outputs": [],
   "source": [
    "#plot_abs_vars = ['mutant_id']"
   ]
  },
  {
   "cell_type": "code",
   "execution_count": 36,
   "metadata": {},
   "outputs": [
    {
     "data": {
      "text/plain": [
       "(92160, 6)"
      ]
     },
     "execution_count": 36,
     "metadata": {},
     "output_type": "execute_result"
    }
   ],
   "source": [
    "input_factors_bp_plot = input_factors_tidy_df\n",
    "input_factors_bp_plot.shape\n",
    "#input_factors_bp_plot"
   ]
  },
  {
   "cell_type": "markdown",
   "metadata": {},
   "source": [
    "- Visualize lambda factor **median** and **lower to upper quartile**"
   ]
  },
  {
   "cell_type": "code",
   "execution_count": 37,
   "metadata": {},
   "outputs": [
    {
     "name": "stdout",
     "output_type": "stream",
     "text": [
      "/home/pmonteagudo/workspace/silencing_project/results/H3K9me2_input_factors_bp_v2.pdf\n"
     ]
    },
    {
     "data": {
      "image/png": "[encoded data removed]",
      "text/plain": [
       "<Figure size 662.125x360 with 1 Axes>"
      ]
     },
     "metadata": {},
     "output_type": "display_data"
    }
   ],
   "source": [
    "box_plot = sns.catplot(\n",
    "    x=\"mutant_id\", y=\"input_factor\",\n",
    "    hue=\"method\",\n",
    "    data=input_factors_bp_plot,\n",
    "    kind=\"box\",\n",
    "    #estimator='mean',\n",
    "    estimator='median',\n",
    "    aspect=1.5,\n",
    "    dodge=True,\n",
    "    width=0.8,\n",
    "    #showfliers=True\n",
    "    showfliers=False ## remove outliers\n",
    ") \n",
    "sns.despine(offset=10, trim=True)\n",
    "\n",
    "#box_plot.set_xticklabels(rotation=45)\n",
    "\n",
    "if not h3k9me2_analysis:\n",
    "    input_factors_bp_fig = os.path.join(project_dir, 'results', 'input_factors_bp.pdf')\n",
    "else:\n",
    "    input_factors_bp_fig = os.path.join(project_dir, 'results', 'H3K9me2_input_factors_bp_v2.pdf')\n",
    "print(input_factors_bp_fig)\n",
    "box_plot.savefig(input_factors_bp_fig)"
   ]
  },
  {
   "cell_type": "markdown",
   "metadata": {},
   "source": [
    "## **B. Distributions** - INPUT factor"
   ]
  },
  {
   "cell_type": "markdown",
   "metadata": {},
   "source": [
    "- Prepare data for **Distribution plots**"
   ]
  },
  {
   "cell_type": "code",
   "execution_count": 38,
   "metadata": {},
   "outputs": [],
   "source": [
    "max_input_factor = 3 # otherwise, due to outliers plots take for ever!"
   ]
  },
  {
   "cell_type": "code",
   "execution_count": 39,
   "metadata": {},
   "outputs": [
    {
     "data": {
      "text/plain": [
       "(91312, 6)"
      ]
     },
     "execution_count": 39,
     "metadata": {},
     "output_type": "execute_result"
    }
   ],
   "source": [
    "input_factors_dist_plot = input_factors_tidy_df[input_factors_tidy_df['input_factor'] < max_input_factor]\n",
    "input_factors_dist_plot.shape"
   ]
  },
  {
   "cell_type": "markdown",
   "metadata": {},
   "source": [
    "- Visualize lambda factor **distributions**"
   ]
  },
  {
   "cell_type": "code",
   "execution_count": 40,
   "metadata": {},
   "outputs": [
    {
     "name": "stdout",
     "output_type": "stream",
     "text": [
      "/home/pmonteagudo/workspace/silencing_project/results/H3K9me2_input_factors_dist.pdf\n"
     ]
    },
    {
     "data": {
      "image/png": "[encoded data removed]",
      "text/plain": [
       "<Figure size 1202.12x1080 with 9 Axes>"
      ]
     },
     "metadata": {},
     "output_type": "display_data"
    }
   ],
   "source": [
    "#sns.displot(input_factors_plot, x=\"input_factor\", hue=\"method\", stat=\"density\", common_norm=False)\n",
    "dist_plot = sns.displot(\n",
    "    data=input_factors_dist_plot, \n",
    "    x=\"input_factor\", \n",
    "    hue=\"method\", \n",
    "    col=\"mutant_id\",\n",
    "    col_wrap=3,\n",
    "    #col_wrap=4,\n",
    "    stat=\"probability\"\n",
    ")\n",
    "\n",
    "if not h3k9me2_analysis:\n",
    "    input_factors_dist_fig = os.path.join(project_dir, 'results', 'input_factors_dist.pdf')\n",
    "else:\n",
    "    input_factors_dist_fig = os.path.join(project_dir, 'results', 'H3K9me2_input_factors_dist.pdf')\n",
    "print(input_factors_dist_fig)\n",
    "dist_plot.savefig(input_factors_dist_fig)"
   ]
  },
  {
   "cell_type": "markdown",
   "metadata": {},
   "source": [
    "---------------------------"
   ]
  },
  {
   "cell_type": "markdown",
   "metadata": {},
   "source": [
    "## Inspect Manually: INPUT factor > max_input_factor"
   ]
  },
  {
   "cell_type": "code",
   "execution_count": 41,
   "metadata": {},
   "outputs": [],
   "source": [
    "#max_input_factor = 0.7\n",
    "max_input_factor = 5"
   ]
  },
  {
   "cell_type": "code",
   "execution_count": 42,
   "metadata": {},
   "outputs": [
    {
     "data": {
      "text/html": [
       "<div>\n",
       "<style scoped>\n",
       "    .dataframe tbody tr th:only-of-type {\n",
       "        vertical-align: middle;\n",
       "    }\n",
       "\n",
       "    .dataframe tbody tr th {\n",
       "        vertical-align: top;\n",
       "    }\n",
       "\n",
       "    .dataframe thead th {\n",
       "        text-align: right;\n",
       "    }\n",
       "</style>\n",
       "<table border=\"1\" class=\"dataframe\">\n",
       "  <thead>\n",
       "    <tr style=\"text-align: right;\">\n",
       "      <th></th>\n",
       "      <th>chip_id</th>\n",
       "      <th>input_id</th>\n",
       "      <th>method</th>\n",
       "      <th>chrom</th>\n",
       "      <th>input_factor</th>\n",
       "      <th>mutant_id</th>\n",
       "    </tr>\n",
       "  </thead>\n",
       "  <tbody>\n",
       "    <tr>\n",
       "      <th>132</th>\n",
       "      <td>WT_H3K9me2_1</td>\n",
       "      <td>WT_S2-ChIP-INPUT_1</td>\n",
       "      <td>linear_regression</td>\n",
       "      <td>SPBCPT2R1.08c</td>\n",
       "      <td>186.246721</td>\n",
       "      <td>WT</td>\n",
       "    </tr>\n",
       "    <tr>\n",
       "      <th>133</th>\n",
       "      <td>WT_H3K9me2_1</td>\n",
       "      <td>WT_S2-ChIP-INPUT_1</td>\n",
       "      <td>global_lambda</td>\n",
       "      <td>SPBCPT2R1.08c</td>\n",
       "      <td>274.528392</td>\n",
       "      <td>WT</td>\n",
       "    </tr>\n",
       "    <tr>\n",
       "      <th>2744</th>\n",
       "      <td>WT_H3K9me2_1</td>\n",
       "      <td>WT_S2-ChIP-INPUT_1</td>\n",
       "      <td>linear_regression</td>\n",
       "      <td>SPAC8C9.04</td>\n",
       "      <td>5.565518</td>\n",
       "      <td>WT</td>\n",
       "    </tr>\n",
       "    <tr>\n",
       "      <th>2745</th>\n",
       "      <td>WT_H3K9me2_1</td>\n",
       "      <td>WT_S2-ChIP-INPUT_1</td>\n",
       "      <td>global_lambda</td>\n",
       "      <td>SPAC8C9.04</td>\n",
       "      <td>7.912957</td>\n",
       "      <td>WT</td>\n",
       "    </tr>\n",
       "    <tr>\n",
       "      <th>2900</th>\n",
       "      <td>WT_H3K9me2_1</td>\n",
       "      <td>WT_S2-ChIP-INPUT_1</td>\n",
       "      <td>linear_regression</td>\n",
       "      <td>SPBPB21E7.09</td>\n",
       "      <td>23.189326</td>\n",
       "      <td>WT</td>\n",
       "    </tr>\n",
       "    <tr>\n",
       "      <th>...</th>\n",
       "      <td>...</td>\n",
       "      <td>...</td>\n",
       "      <td>...</td>\n",
       "      <td>...</td>\n",
       "      <td>...</td>\n",
       "      <td>...</td>\n",
       "    </tr>\n",
       "    <tr>\n",
       "      <th>92127</th>\n",
       "      <td>638_H3K9me2_1</td>\n",
       "      <td>638_S2-ChIP-INPUT_1</td>\n",
       "      <td>global_lambda</td>\n",
       "      <td>SPAC29A4.22</td>\n",
       "      <td>5.723944</td>\n",
       "      <td>638</td>\n",
       "    </tr>\n",
       "    <tr>\n",
       "      <th>92150</th>\n",
       "      <td>638_H3K9me2_1</td>\n",
       "      <td>638_S2-ChIP-INPUT_1</td>\n",
       "      <td>linear_regression</td>\n",
       "      <td>SPBC1711.01c</td>\n",
       "      <td>62.942385</td>\n",
       "      <td>638</td>\n",
       "    </tr>\n",
       "    <tr>\n",
       "      <th>92151</th>\n",
       "      <td>638_H3K9me2_1</td>\n",
       "      <td>638_S2-ChIP-INPUT_1</td>\n",
       "      <td>global_lambda</td>\n",
       "      <td>SPBC1711.01c</td>\n",
       "      <td>67.537210</td>\n",
       "      <td>638</td>\n",
       "    </tr>\n",
       "    <tr>\n",
       "      <th>92152</th>\n",
       "      <td>638_H3K9me2_1</td>\n",
       "      <td>638_S2-ChIP-INPUT_1</td>\n",
       "      <td>linear_regression</td>\n",
       "      <td>SPBC23G7.17c</td>\n",
       "      <td>62.942385</td>\n",
       "      <td>638</td>\n",
       "    </tr>\n",
       "    <tr>\n",
       "      <th>92153</th>\n",
       "      <td>638_H3K9me2_1</td>\n",
       "      <td>638_S2-ChIP-INPUT_1</td>\n",
       "      <td>global_lambda</td>\n",
       "      <td>SPBC23G7.17c</td>\n",
       "      <td>67.537210</td>\n",
       "      <td>638</td>\n",
       "    </tr>\n",
       "  </tbody>\n",
       "</table>\n",
       "<p>389 rows × 6 columns</p>\n",
       "</div>"
      ],
      "text/plain": [
       "             chip_id             input_id             method          chrom  \\\n",
       "132     WT_H3K9me2_1   WT_S2-ChIP-INPUT_1  linear_regression  SPBCPT2R1.08c   \n",
       "133     WT_H3K9me2_1   WT_S2-ChIP-INPUT_1      global_lambda  SPBCPT2R1.08c   \n",
       "2744    WT_H3K9me2_1   WT_S2-ChIP-INPUT_1  linear_regression     SPAC8C9.04   \n",
       "2745    WT_H3K9me2_1   WT_S2-ChIP-INPUT_1      global_lambda     SPAC8C9.04   \n",
       "2900    WT_H3K9me2_1   WT_S2-ChIP-INPUT_1  linear_regression   SPBPB21E7.09   \n",
       "...              ...                  ...                ...            ...   \n",
       "92127  638_H3K9me2_1  638_S2-ChIP-INPUT_1      global_lambda    SPAC29A4.22   \n",
       "92150  638_H3K9me2_1  638_S2-ChIP-INPUT_1  linear_regression   SPBC1711.01c   \n",
       "92151  638_H3K9me2_1  638_S2-ChIP-INPUT_1      global_lambda   SPBC1711.01c   \n",
       "92152  638_H3K9me2_1  638_S2-ChIP-INPUT_1  linear_regression   SPBC23G7.17c   \n",
       "92153  638_H3K9me2_1  638_S2-ChIP-INPUT_1      global_lambda   SPBC23G7.17c   \n",
       "\n",
       "       input_factor mutant_id  \n",
       "132      186.246721        WT  \n",
       "133      274.528392        WT  \n",
       "2744       5.565518        WT  \n",
       "2745       7.912957        WT  \n",
       "2900      23.189326        WT  \n",
       "...             ...       ...  \n",
       "92127      5.723944       638  \n",
       "92150     62.942385       638  \n",
       "92151     67.537210       638  \n",
       "92152     62.942385       638  \n",
       "92153     67.537210       638  \n",
       "\n",
       "[389 rows x 6 columns]"
      ]
     },
     "execution_count": 42,
     "metadata": {},
     "output_type": "execute_result"
    }
   ],
   "source": [
    "if_filtered = input_factors_tidy_df[input_factors_tidy_df['input_factor'] > max_input_factor]\n",
    "if_filtered"
   ]
  },
  {
   "cell_type": "code",
   "execution_count": 43,
   "metadata": {},
   "outputs": [
    {
     "data": {
      "text/plain": [
       "(389, 6)"
      ]
     },
     "execution_count": 43,
     "metadata": {},
     "output_type": "execute_result"
    }
   ],
   "source": [
    "if_filtered.shape"
   ]
  },
  {
   "cell_type": "code",
   "execution_count": 44,
   "metadata": {},
   "outputs": [
    {
     "data": {
      "text/plain": [
       "chrom\n",
       "SPAC750.08c      18\n",
       "SPBCPT2R1.08c    17\n",
       "SPBC23G7.09      16\n",
       "SPBC1711.02      16\n",
       "SPBC23G7.17c     14\n",
       "SPBC1711.01c     14\n",
       "SPCC330.05c      11\n",
       "SPAC186.08c      10\n",
       "SPAC186.07c      10\n",
       "SPAC186.09       10\n",
       "SPAC750.01       10\n",
       "SPAC750.07c      10\n",
       "SPAC186.05c       9\n",
       "SPAC186.06        9\n",
       "SPAC186.04c       8\n",
       "SPBCPT2R1.04c     8\n",
       "SPBCPT2R1.01c     8\n",
       "SPAC750.06c       8\n",
       "SPBCPT2R1.03      7\n",
       "SPBC1348.15       7\n",
       "SPBC23G7.11       6\n",
       "SPAC750.05c       6\n",
       "SPBC23G7.10c      6\n",
       "SPAC13A11.03      6\n",
       "SPBC32H8.11       6\n",
       "SPAC186.03        6\n",
       "SPAC750.03c       5\n",
       "SPBCPT2R1.02      5\n",
       "SPBPB2B2.16c      5\n",
       "SPBPB2B2.19c      5\n",
       "dtype: int64"
      ]
     },
     "execution_count": 44,
     "metadata": {},
     "output_type": "execute_result"
    }
   ],
   "source": [
    "if_filtered.groupby(['chrom']).size().sort_values(ascending=False).head(30)"
   ]
  },
  {
   "cell_type": "markdown",
   "metadata": {},
   "source": [
    "--------------"
   ]
  },
  {
   "cell_type": "markdown",
   "metadata": {},
   "source": [
    "**80_S2_ChIP2**: seems ok, it might be that INPUT has lower coverage than usual with respect to ChIP...."
   ]
  },
  {
   "cell_type": "markdown",
   "metadata": {},
   "source": [
    "**80_S2_ChIP3**: seems ok, it might be that INPUT has lower coverage than usual with respect to ChIP...."
   ]
  },
  {
   "cell_type": "markdown",
   "metadata": {},
   "source": [
    "--------------"
   ]
  }
 ],
 "metadata": {
  "kernelspec": {
   "display_name": "Python (heterochromatin)",
   "language": "python",
   "name": "heterochromatin"
  },
  "language_info": {
   "codemirror_mode": {
    "name": "ipython",
    "version": 3
   },
   "file_extension": ".py",
   "mimetype": "text/x-python",
   "name": "python",
   "nbconvert_exporter": "python",
   "pygments_lexer": "ipython3",
   "version": "3.6.7"
  }
 },
 "nbformat": 4,
 "nbformat_minor": 4
}
