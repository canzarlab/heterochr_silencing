{
 "cells": [
  {
   "cell_type": "code",
   "execution_count": 1,
   "metadata": {},
   "outputs": [],
   "source": [
    "%load_ext autoreload\n",
    "%autoreload 2"
   ]
  },
  {
   "cell_type": "markdown",
   "metadata": {},
   "source": [
    "---------------------------"
   ]
  },
  {
   "cell_type": "markdown",
   "metadata": {},
   "source": [
    "## Config"
   ]
  },
  {
   "cell_type": "code",
   "execution_count": 2,
   "metadata": {},
   "outputs": [],
   "source": [
    "import sys"
   ]
  },
  {
   "cell_type": "code",
   "execution_count": 3,
   "metadata": {},
   "outputs": [],
   "source": [
    "project_dir = '/home/pmonteagudo/workspace/silencing_project'\n",
    "if project_dir not in sys.path: \n",
    "    sys.path.append(project_dir)\n",
    "from config_analysis import *"
   ]
  },
  {
   "cell_type": "code",
   "execution_count": 4,
   "metadata": {},
   "outputs": [],
   "source": [
    "# needed to import all our code\n",
    "my_scripts_dir = os.path.join(project_dir, 'htseq/scripts')\n",
    "if my_scripts_dir not in sys.path:\n",
    "    sys.path.append(my_scripts_dir)"
   ]
  },
  {
   "cell_type": "code",
   "execution_count": 5,
   "metadata": {},
   "outputs": [],
   "source": [
    "import parse_utils as psutil"
   ]
  },
  {
   "cell_type": "markdown",
   "metadata": {},
   "source": [
    "---------------------------"
   ]
  },
  {
   "cell_type": "markdown",
   "metadata": {},
   "source": [
    "<font color='blue'> **This Notebook generates the `file_annotation.csv` file that will be used by Snakemake!** </font>\n",
    "\n",
    "Previously to running this Notebook, two more files are necessary:\n",
    "* `trimmed_samples.tsv`\n",
    "* `chip_input_map.tsv`\n",
    "\n",
    "these files contain **\"manual\" information** about the data present in the `odf` raw files, that can be extracted by running: `sample_tables.ipynb` **Notebook**"
   ]
  },
  {
   "cell_type": "markdown",
   "metadata": {},
   "source": [
    "---------------------------"
   ]
  },
  {
   "cell_type": "markdown",
   "metadata": {},
   "source": [
    "## Get **Sample List** from `data` **Directory**"
   ]
  },
  {
   "cell_type": "markdown",
   "metadata": {},
   "source": [
    "- Get **sample information**:"
   ]
  },
  {
   "cell_type": "markdown",
   "metadata": {},
   "source": [
    "<font color='red'> **Attention! not all samples present in `seq_data` are going to be used in the analysis.** </font>\n",
    " \n",
    "<font color='red'> **=> Manually add samples that need to be ignored.** </font>"
   ]
  },
  {
   "cell_type": "code",
   "execution_count": 6,
   "metadata": {},
   "outputs": [
    {
     "data": {
      "text/plain": [
       "9"
      ]
     },
     "execution_count": 6,
     "metadata": {},
     "output_type": "execute_result"
    }
   ],
   "source": [
    "ignore_files = ()\n",
    "# `not_valid` samples\n",
    "ignore_files = (\n",
    "    '491_S2-ChIP_3', # correlation with other replicates ~0.73 < 0.8\n",
    "    '324_S2-ChIP_3', '504_S2-ChIP_3','638_S2-ChIP_3', 'WT_S2-ChIP_2',\n",
    "    '544_S2-RIP_2',\n",
    "    '80_S5-RIP_1', 'WT_S5-RIP_1', 'WT_S5-RIP_3' # S5-data is very noisy\n",
    ")\n",
    "len(ignore_files)"
   ]
  },
  {
   "cell_type": "code",
   "execution_count": 7,
   "metadata": {},
   "outputs": [],
   "source": [
    "#data_dir = '/gcm-lfs1/pablo/data/RNAdeg/data'"
   ]
  },
  {
   "cell_type": "markdown",
   "metadata": {},
   "source": [
    "### **Raw Files** (compressed `fastq` files): `.fastq.bz2`"
   ]
  },
  {
   "cell_type": "markdown",
   "metadata": {},
   "source": [
    "These are `.fastq.bz2` files that have been transfered from the `Halic Server`.\n",
    "\n",
    "Depending on the *sequencing assay*, each `sample` has been classified into one of the following categories.\n",
    "\n",
    "The main categories are:\n",
    "* **INPUT**\n",
    "* **S2-ChIP**\n",
    "* **S2-RIP**\n",
    "* **pA-RNA**\n",
    "* **total-RNA**\n",
    "\n",
    "other less important categories include:\n",
    "* **H3K9me**\n",
    "* **S5-ChIP**\n",
    "* **S5-RIP**\n",
    "\n",
    "an additional category was created (e.g. `simulated-data`) that needs to be treated slighlty different:\n",
    "* **simulated-data**"
   ]
  },
  {
   "cell_type": "markdown",
   "metadata": {},
   "source": [
    " "
   ]
  },
  {
   "cell_type": "markdown",
   "metadata": {},
   "source": [
    "**Raw Files** (compressed `fastq` files): `.fastq.bz2`"
   ]
  },
  {
   "cell_type": "code",
   "execution_count": 8,
   "metadata": {},
   "outputs": [],
   "source": [
    "raw_files_list = []\n",
    "ext = '.fastq.bz2'\n",
    "\n",
    "# find samples - '.fastq.bz2' files are inside individual directories.\n",
    "for root, dirs, files in os.walk(data_dir, topdown=True):\n",
    "    for name in files:\n",
    "        \n",
    "        if (name.endswith(ext)) and (not name.startswith(ignore_files)):\n",
    "\n",
    "          #print(os.path.join(root, name))\n",
    "          raw_files_list.append(os.path.join(root, name))"
   ]
  },
  {
   "cell_type": "code",
   "execution_count": 9,
   "metadata": {},
   "outputs": [
    {
     "data": {
      "text/plain": [
       "157"
      ]
     },
     "execution_count": 9,
     "metadata": {},
     "output_type": "execute_result"
    }
   ],
   "source": [
    "#raw_files_list\n",
    "len(raw_files_list) # 150/157"
   ]
  },
  {
   "cell_type": "markdown",
   "metadata": {},
   "source": [
    "- Instantiate a DataFrame with: `[sample_id, raw_file_name, raw_file]`"
   ]
  },
  {
   "cell_type": "code",
   "execution_count": 10,
   "metadata": {},
   "outputs": [],
   "source": [
    "raw_files_df = pd.DataFrame({'raw_file':raw_files_list})\n",
    "raw_files_df['raw_file_name'] = [os.path.basename(x) for x in raw_files_df['raw_file']]\n",
    "raw_files_df['sample_id'] = [ x.split('.')[0] for x in raw_files_df['raw_file_name']]"
   ]
  },
  {
   "cell_type": "code",
   "execution_count": 11,
   "metadata": {},
   "outputs": [],
   "source": [
    "# re-order and re-index\n",
    "raw_files_df = raw_files_df[['sample_id', 'raw_file_name', 'raw_file']]\n",
    "raw_files_df = raw_files_df.sort_values('sample_id')\n",
    "raw_files_df = raw_files_df.reset_index(drop='True')"
   ]
  },
  {
   "cell_type": "code",
   "execution_count": 12,
   "metadata": {},
   "outputs": [
    {
     "data": {
      "text/html": [
       "<div>\n",
       "<style scoped>\n",
       "    .dataframe tbody tr th:only-of-type {\n",
       "        vertical-align: middle;\n",
       "    }\n",
       "\n",
       "    .dataframe tbody tr th {\n",
       "        vertical-align: top;\n",
       "    }\n",
       "\n",
       "    .dataframe thead th {\n",
       "        text-align: right;\n",
       "    }\n",
       "</style>\n",
       "<table border=\"1\" class=\"dataframe\">\n",
       "  <thead>\n",
       "    <tr style=\"text-align: right;\">\n",
       "      <th></th>\n",
       "      <th>sample_id</th>\n",
       "      <th>raw_file_name</th>\n",
       "      <th>raw_file</th>\n",
       "    </tr>\n",
       "  </thead>\n",
       "  <tbody>\n",
       "    <tr>\n",
       "      <th>0</th>\n",
       "      <td>1022_S2-ChIP-INPUT_1</td>\n",
       "      <td>1022_S2-ChIP-INPUT_1.fastq.bz2</td>\n",
       "      <td>/gcm-lfs1/pablo/data/rna_silencing/seq_data/IN...</td>\n",
       "    </tr>\n",
       "    <tr>\n",
       "      <th>1</th>\n",
       "      <td>1022_S2-ChIP-OIN_1</td>\n",
       "      <td>1022_S2-ChIP-OIN_1.fastq.bz2</td>\n",
       "      <td>/gcm-lfs1/pablo/data/rna_silencing/seq_data/IN...</td>\n",
       "    </tr>\n",
       "    <tr>\n",
       "      <th>2</th>\n",
       "      <td>1022_S2-ChIP_1</td>\n",
       "      <td>1022_S2-ChIP_1.fastq.bz2</td>\n",
       "      <td>/gcm-lfs1/pablo/data/rna_silencing/seq_data/S2...</td>\n",
       "    </tr>\n",
       "    <tr>\n",
       "      <th>3</th>\n",
       "      <td>1022_S2-ChIP_2</td>\n",
       "      <td>1022_S2-ChIP_2.fastq.bz2</td>\n",
       "      <td>/gcm-lfs1/pablo/data/rna_silencing/seq_data/S2...</td>\n",
       "    </tr>\n",
       "    <tr>\n",
       "      <th>4</th>\n",
       "      <td>1022_S2-RIP_2</td>\n",
       "      <td>1022_S2-RIP_2.fastq.bz2</td>\n",
       "      <td>/gcm-lfs1/pablo/data/rna_silencing/seq_data/S2...</td>\n",
       "    </tr>\n",
       "  </tbody>\n",
       "</table>\n",
       "</div>"
      ],
      "text/plain": [
       "              sample_id                   raw_file_name  \\\n",
       "0  1022_S2-ChIP-INPUT_1  1022_S2-ChIP-INPUT_1.fastq.bz2   \n",
       "1    1022_S2-ChIP-OIN_1    1022_S2-ChIP-OIN_1.fastq.bz2   \n",
       "2        1022_S2-ChIP_1        1022_S2-ChIP_1.fastq.bz2   \n",
       "3        1022_S2-ChIP_2        1022_S2-ChIP_2.fastq.bz2   \n",
       "4         1022_S2-RIP_2         1022_S2-RIP_2.fastq.bz2   \n",
       "\n",
       "                                            raw_file  \n",
       "0  /gcm-lfs1/pablo/data/rna_silencing/seq_data/IN...  \n",
       "1  /gcm-lfs1/pablo/data/rna_silencing/seq_data/IN...  \n",
       "2  /gcm-lfs1/pablo/data/rna_silencing/seq_data/S2...  \n",
       "3  /gcm-lfs1/pablo/data/rna_silencing/seq_data/S2...  \n",
       "4  /gcm-lfs1/pablo/data/rna_silencing/seq_data/S2...  "
      ]
     },
     "execution_count": 12,
     "metadata": {},
     "output_type": "execute_result"
    }
   ],
   "source": [
    "raw_files_df.head()"
   ]
  },
  {
   "cell_type": "code",
   "execution_count": 13,
   "metadata": {},
   "outputs": [
    {
     "data": {
      "text/plain": [
       "(157, 3)"
      ]
     },
     "execution_count": 13,
     "metadata": {},
     "output_type": "execute_result"
    }
   ],
   "source": [
    "raw_files_df.shape"
   ]
  },
  {
   "cell_type": "markdown",
   "metadata": {},
   "source": [
    "- Add `trimmed` column: if `True` sample needs to be **trimed** to solve error during pipeline execution:\n",
    "\n",
    "<font color='red'> Error - EXITING because of FATAL ERROR in reads input: short read sequence line: 1 - Need to trim reads: </font>"
   ]
  },
  {
   "cell_type": "code",
   "execution_count": 14,
   "metadata": {},
   "outputs": [
    {
     "data": {
      "text/plain": [
       "'/gcm-lfs1/pablo/data/rna_silencing/raw/trimmed_samples.tsv'"
      ]
     },
     "execution_count": 14,
     "metadata": {},
     "output_type": "execute_result"
    }
   ],
   "source": [
    "trimmed_samples_file = os.path.join(raw_dir, 'trimmed_samples.tsv')\n",
    "trimmed_samples_file"
   ]
  },
  {
   "cell_type": "code",
   "execution_count": 15,
   "metadata": {},
   "outputs": [],
   "source": [
    "trimmed_sample_ids = pd.read_csv(trimmed_samples_file, sep ='\\t')\n",
    "#trimmed_sample_ids.dtypes\n",
    "trimmed_sample_ids = trimmed_sample_ids['sample_id'].tolist()"
   ]
  },
  {
   "cell_type": "code",
   "execution_count": 16,
   "metadata": {},
   "outputs": [],
   "source": [
    "raw_files_df['trimmed'] = raw_files_df['sample_id'].apply(lambda x: True if x in trimmed_sample_ids else False)"
   ]
  },
  {
   "cell_type": "code",
   "execution_count": 17,
   "metadata": {},
   "outputs": [
    {
     "data": {
      "text/html": [
       "<div>\n",
       "<style scoped>\n",
       "    .dataframe tbody tr th:only-of-type {\n",
       "        vertical-align: middle;\n",
       "    }\n",
       "\n",
       "    .dataframe tbody tr th {\n",
       "        vertical-align: top;\n",
       "    }\n",
       "\n",
       "    .dataframe thead th {\n",
       "        text-align: right;\n",
       "    }\n",
       "</style>\n",
       "<table border=\"1\" class=\"dataframe\">\n",
       "  <thead>\n",
       "    <tr style=\"text-align: right;\">\n",
       "      <th></th>\n",
       "      <th>sample_id</th>\n",
       "      <th>raw_file_name</th>\n",
       "      <th>raw_file</th>\n",
       "      <th>trimmed</th>\n",
       "    </tr>\n",
       "  </thead>\n",
       "  <tbody>\n",
       "    <tr>\n",
       "      <th>0</th>\n",
       "      <td>1022_S2-ChIP-INPUT_1</td>\n",
       "      <td>1022_S2-ChIP-INPUT_1.fastq.bz2</td>\n",
       "      <td>/gcm-lfs1/pablo/data/rna_silencing/seq_data/IN...</td>\n",
       "      <td>False</td>\n",
       "    </tr>\n",
       "    <tr>\n",
       "      <th>1</th>\n",
       "      <td>1022_S2-ChIP-OIN_1</td>\n",
       "      <td>1022_S2-ChIP-OIN_1.fastq.bz2</td>\n",
       "      <td>/gcm-lfs1/pablo/data/rna_silencing/seq_data/IN...</td>\n",
       "      <td>False</td>\n",
       "    </tr>\n",
       "    <tr>\n",
       "      <th>2</th>\n",
       "      <td>1022_S2-ChIP_1</td>\n",
       "      <td>1022_S2-ChIP_1.fastq.bz2</td>\n",
       "      <td>/gcm-lfs1/pablo/data/rna_silencing/seq_data/S2...</td>\n",
       "      <td>False</td>\n",
       "    </tr>\n",
       "    <tr>\n",
       "      <th>3</th>\n",
       "      <td>1022_S2-ChIP_2</td>\n",
       "      <td>1022_S2-ChIP_2.fastq.bz2</td>\n",
       "      <td>/gcm-lfs1/pablo/data/rna_silencing/seq_data/S2...</td>\n",
       "      <td>False</td>\n",
       "    </tr>\n",
       "    <tr>\n",
       "      <th>4</th>\n",
       "      <td>1022_S2-RIP_2</td>\n",
       "      <td>1022_S2-RIP_2.fastq.bz2</td>\n",
       "      <td>/gcm-lfs1/pablo/data/rna_silencing/seq_data/S2...</td>\n",
       "      <td>False</td>\n",
       "    </tr>\n",
       "  </tbody>\n",
       "</table>\n",
       "</div>"
      ],
      "text/plain": [
       "              sample_id                   raw_file_name  \\\n",
       "0  1022_S2-ChIP-INPUT_1  1022_S2-ChIP-INPUT_1.fastq.bz2   \n",
       "1    1022_S2-ChIP-OIN_1    1022_S2-ChIP-OIN_1.fastq.bz2   \n",
       "2        1022_S2-ChIP_1        1022_S2-ChIP_1.fastq.bz2   \n",
       "3        1022_S2-ChIP_2        1022_S2-ChIP_2.fastq.bz2   \n",
       "4         1022_S2-RIP_2         1022_S2-RIP_2.fastq.bz2   \n",
       "\n",
       "                                            raw_file  trimmed  \n",
       "0  /gcm-lfs1/pablo/data/rna_silencing/seq_data/IN...    False  \n",
       "1  /gcm-lfs1/pablo/data/rna_silencing/seq_data/IN...    False  \n",
       "2  /gcm-lfs1/pablo/data/rna_silencing/seq_data/S2...    False  \n",
       "3  /gcm-lfs1/pablo/data/rna_silencing/seq_data/S2...    False  \n",
       "4  /gcm-lfs1/pablo/data/rna_silencing/seq_data/S2...    False  "
      ]
     },
     "execution_count": 17,
     "metadata": {},
     "output_type": "execute_result"
    }
   ],
   "source": [
    "raw_files_df.head()"
   ]
  },
  {
   "cell_type": "code",
   "execution_count": 18,
   "metadata": {},
   "outputs": [
    {
     "data": {
      "text/plain": [
       "(157, 4)"
      ]
     },
     "execution_count": 18,
     "metadata": {},
     "output_type": "execute_result"
    }
   ],
   "source": [
    "raw_files_df.shape"
   ]
  },
  {
   "cell_type": "code",
   "execution_count": 19,
   "metadata": {},
   "outputs": [
    {
     "data": {
      "text/html": [
       "<div>\n",
       "<style scoped>\n",
       "    .dataframe tbody tr th:only-of-type {\n",
       "        vertical-align: middle;\n",
       "    }\n",
       "\n",
       "    .dataframe tbody tr th {\n",
       "        vertical-align: top;\n",
       "    }\n",
       "\n",
       "    .dataframe thead th {\n",
       "        text-align: right;\n",
       "    }\n",
       "</style>\n",
       "<table border=\"1\" class=\"dataframe\">\n",
       "  <thead>\n",
       "    <tr style=\"text-align: right;\">\n",
       "      <th></th>\n",
       "      <th>sample_id</th>\n",
       "    </tr>\n",
       "    <tr>\n",
       "      <th>trimmed</th>\n",
       "      <th></th>\n",
       "    </tr>\n",
       "  </thead>\n",
       "  <tbody>\n",
       "    <tr>\n",
       "      <th>False</th>\n",
       "      <td>140</td>\n",
       "    </tr>\n",
       "    <tr>\n",
       "      <th>True</th>\n",
       "      <td>17</td>\n",
       "    </tr>\n",
       "  </tbody>\n",
       "</table>\n",
       "</div>"
      ],
      "text/plain": [
       "         sample_id\n",
       "trimmed           \n",
       "False          140\n",
       "True            17"
      ]
     },
     "execution_count": 19,
     "metadata": {},
     "output_type": "execute_result"
    }
   ],
   "source": [
    "raw_files_df[['sample_id', 'trimmed']].groupby(['trimmed']).count()"
   ]
  },
  {
   "cell_type": "markdown",
   "metadata": {},
   "source": [
    "- Add `seq_type` column: names of **sequencing assays** and some additional meta-data are used to categorize samples\n",
    "\n",
    "<font color='red'> **Note:** This is the finest of the classifications by **sequencing assay** (e.g. `seq_type`). </font> \n",
    "\n",
    "<font color='red'> Files inside the same *sequencing assay* directory might be sligthly different and we want be able to distinguish between them: </font> <br> e.g. `INPUT` - `S2-ChIP-INPUT`/`S2-ChIP-OIN`"
   ]
  },
  {
   "cell_type": "code",
   "execution_count": 20,
   "metadata": {},
   "outputs": [],
   "source": [
    "raw_files_df['seq_type'] = raw_files_df['sample_id'].apply(lambda x: x.split('_')[1])"
   ]
  },
  {
   "cell_type": "code",
   "execution_count": 21,
   "metadata": {},
   "outputs": [
    {
     "data": {
      "text/html": [
       "<div>\n",
       "<style scoped>\n",
       "    .dataframe tbody tr th:only-of-type {\n",
       "        vertical-align: middle;\n",
       "    }\n",
       "\n",
       "    .dataframe tbody tr th {\n",
       "        vertical-align: top;\n",
       "    }\n",
       "\n",
       "    .dataframe thead th {\n",
       "        text-align: right;\n",
       "    }\n",
       "</style>\n",
       "<table border=\"1\" class=\"dataframe\">\n",
       "  <thead>\n",
       "    <tr style=\"text-align: right;\">\n",
       "      <th></th>\n",
       "      <th>sample_id</th>\n",
       "      <th>raw_file_name</th>\n",
       "      <th>raw_file</th>\n",
       "      <th>trimmed</th>\n",
       "      <th>seq_type</th>\n",
       "    </tr>\n",
       "  </thead>\n",
       "  <tbody>\n",
       "    <tr>\n",
       "      <th>0</th>\n",
       "      <td>1022_S2-ChIP-INPUT_1</td>\n",
       "      <td>1022_S2-ChIP-INPUT_1.fastq.bz2</td>\n",
       "      <td>/gcm-lfs1/pablo/data/rna_silencing/seq_data/IN...</td>\n",
       "      <td>False</td>\n",
       "      <td>S2-ChIP-INPUT</td>\n",
       "    </tr>\n",
       "    <tr>\n",
       "      <th>1</th>\n",
       "      <td>1022_S2-ChIP-OIN_1</td>\n",
       "      <td>1022_S2-ChIP-OIN_1.fastq.bz2</td>\n",
       "      <td>/gcm-lfs1/pablo/data/rna_silencing/seq_data/IN...</td>\n",
       "      <td>False</td>\n",
       "      <td>S2-ChIP-OIN</td>\n",
       "    </tr>\n",
       "    <tr>\n",
       "      <th>2</th>\n",
       "      <td>1022_S2-ChIP_1</td>\n",
       "      <td>1022_S2-ChIP_1.fastq.bz2</td>\n",
       "      <td>/gcm-lfs1/pablo/data/rna_silencing/seq_data/S2...</td>\n",
       "      <td>False</td>\n",
       "      <td>S2-ChIP</td>\n",
       "    </tr>\n",
       "    <tr>\n",
       "      <th>3</th>\n",
       "      <td>1022_S2-ChIP_2</td>\n",
       "      <td>1022_S2-ChIP_2.fastq.bz2</td>\n",
       "      <td>/gcm-lfs1/pablo/data/rna_silencing/seq_data/S2...</td>\n",
       "      <td>False</td>\n",
       "      <td>S2-ChIP</td>\n",
       "    </tr>\n",
       "    <tr>\n",
       "      <th>4</th>\n",
       "      <td>1022_S2-RIP_2</td>\n",
       "      <td>1022_S2-RIP_2.fastq.bz2</td>\n",
       "      <td>/gcm-lfs1/pablo/data/rna_silencing/seq_data/S2...</td>\n",
       "      <td>False</td>\n",
       "      <td>S2-RIP</td>\n",
       "    </tr>\n",
       "  </tbody>\n",
       "</table>\n",
       "</div>"
      ],
      "text/plain": [
       "              sample_id                   raw_file_name  \\\n",
       "0  1022_S2-ChIP-INPUT_1  1022_S2-ChIP-INPUT_1.fastq.bz2   \n",
       "1    1022_S2-ChIP-OIN_1    1022_S2-ChIP-OIN_1.fastq.bz2   \n",
       "2        1022_S2-ChIP_1        1022_S2-ChIP_1.fastq.bz2   \n",
       "3        1022_S2-ChIP_2        1022_S2-ChIP_2.fastq.bz2   \n",
       "4         1022_S2-RIP_2         1022_S2-RIP_2.fastq.bz2   \n",
       "\n",
       "                                            raw_file  trimmed       seq_type  \n",
       "0  /gcm-lfs1/pablo/data/rna_silencing/seq_data/IN...    False  S2-ChIP-INPUT  \n",
       "1  /gcm-lfs1/pablo/data/rna_silencing/seq_data/IN...    False    S2-ChIP-OIN  \n",
       "2  /gcm-lfs1/pablo/data/rna_silencing/seq_data/S2...    False        S2-ChIP  \n",
       "3  /gcm-lfs1/pablo/data/rna_silencing/seq_data/S2...    False        S2-ChIP  \n",
       "4  /gcm-lfs1/pablo/data/rna_silencing/seq_data/S2...    False         S2-RIP  "
      ]
     },
     "execution_count": 21,
     "metadata": {},
     "output_type": "execute_result"
    }
   ],
   "source": [
    "raw_files_df.head()"
   ]
  },
  {
   "cell_type": "code",
   "execution_count": 22,
   "metadata": {},
   "outputs": [
    {
     "data": {
      "text/plain": [
       "(157, 5)"
      ]
     },
     "execution_count": 22,
     "metadata": {},
     "output_type": "execute_result"
    }
   ],
   "source": [
    "raw_files_df.shape"
   ]
  },
  {
   "cell_type": "markdown",
   "metadata": {},
   "source": [
    "- Add `seq_category` column: names for **sequencing assays** are used to categorize samples into directories"
   ]
  },
  {
   "cell_type": "code",
   "execution_count": 23,
   "metadata": {},
   "outputs": [],
   "source": [
    "#raw_files_df['seq_category'] = raw_files_df['raw_file'].apply(lambda x: psutil.get_data_dir(x, data_dir))\n",
    "raw_files_df['seq_category'] = raw_files_df.seq_type.map(seq_category)"
   ]
  },
  {
   "cell_type": "code",
   "execution_count": 24,
   "metadata": {},
   "outputs": [
    {
     "data": {
      "text/html": [
       "<div>\n",
       "<style scoped>\n",
       "    .dataframe tbody tr th:only-of-type {\n",
       "        vertical-align: middle;\n",
       "    }\n",
       "\n",
       "    .dataframe tbody tr th {\n",
       "        vertical-align: top;\n",
       "    }\n",
       "\n",
       "    .dataframe thead th {\n",
       "        text-align: right;\n",
       "    }\n",
       "</style>\n",
       "<table border=\"1\" class=\"dataframe\">\n",
       "  <thead>\n",
       "    <tr style=\"text-align: right;\">\n",
       "      <th></th>\n",
       "      <th>sample_id</th>\n",
       "      <th>raw_file_name</th>\n",
       "      <th>raw_file</th>\n",
       "      <th>trimmed</th>\n",
       "      <th>seq_type</th>\n",
       "      <th>seq_category</th>\n",
       "    </tr>\n",
       "  </thead>\n",
       "  <tbody>\n",
       "    <tr>\n",
       "      <th>0</th>\n",
       "      <td>1022_S2-ChIP-INPUT_1</td>\n",
       "      <td>1022_S2-ChIP-INPUT_1.fastq.bz2</td>\n",
       "      <td>/gcm-lfs1/pablo/data/rna_silencing/seq_data/IN...</td>\n",
       "      <td>False</td>\n",
       "      <td>S2-ChIP-INPUT</td>\n",
       "      <td>INPUT</td>\n",
       "    </tr>\n",
       "    <tr>\n",
       "      <th>1</th>\n",
       "      <td>1022_S2-ChIP-OIN_1</td>\n",
       "      <td>1022_S2-ChIP-OIN_1.fastq.bz2</td>\n",
       "      <td>/gcm-lfs1/pablo/data/rna_silencing/seq_data/IN...</td>\n",
       "      <td>False</td>\n",
       "      <td>S2-ChIP-OIN</td>\n",
       "      <td>INPUT</td>\n",
       "    </tr>\n",
       "    <tr>\n",
       "      <th>2</th>\n",
       "      <td>1022_S2-ChIP_1</td>\n",
       "      <td>1022_S2-ChIP_1.fastq.bz2</td>\n",
       "      <td>/gcm-lfs1/pablo/data/rna_silencing/seq_data/S2...</td>\n",
       "      <td>False</td>\n",
       "      <td>S2-ChIP</td>\n",
       "      <td>S2-ChIP</td>\n",
       "    </tr>\n",
       "    <tr>\n",
       "      <th>3</th>\n",
       "      <td>1022_S2-ChIP_2</td>\n",
       "      <td>1022_S2-ChIP_2.fastq.bz2</td>\n",
       "      <td>/gcm-lfs1/pablo/data/rna_silencing/seq_data/S2...</td>\n",
       "      <td>False</td>\n",
       "      <td>S2-ChIP</td>\n",
       "      <td>S2-ChIP</td>\n",
       "    </tr>\n",
       "    <tr>\n",
       "      <th>4</th>\n",
       "      <td>1022_S2-RIP_2</td>\n",
       "      <td>1022_S2-RIP_2.fastq.bz2</td>\n",
       "      <td>/gcm-lfs1/pablo/data/rna_silencing/seq_data/S2...</td>\n",
       "      <td>False</td>\n",
       "      <td>S2-RIP</td>\n",
       "      <td>S2-RIP</td>\n",
       "    </tr>\n",
       "  </tbody>\n",
       "</table>\n",
       "</div>"
      ],
      "text/plain": [
       "              sample_id                   raw_file_name  \\\n",
       "0  1022_S2-ChIP-INPUT_1  1022_S2-ChIP-INPUT_1.fastq.bz2   \n",
       "1    1022_S2-ChIP-OIN_1    1022_S2-ChIP-OIN_1.fastq.bz2   \n",
       "2        1022_S2-ChIP_1        1022_S2-ChIP_1.fastq.bz2   \n",
       "3        1022_S2-ChIP_2        1022_S2-ChIP_2.fastq.bz2   \n",
       "4         1022_S2-RIP_2         1022_S2-RIP_2.fastq.bz2   \n",
       "\n",
       "                                            raw_file  trimmed       seq_type  \\\n",
       "0  /gcm-lfs1/pablo/data/rna_silencing/seq_data/IN...    False  S2-ChIP-INPUT   \n",
       "1  /gcm-lfs1/pablo/data/rna_silencing/seq_data/IN...    False    S2-ChIP-OIN   \n",
       "2  /gcm-lfs1/pablo/data/rna_silencing/seq_data/S2...    False        S2-ChIP   \n",
       "3  /gcm-lfs1/pablo/data/rna_silencing/seq_data/S2...    False        S2-ChIP   \n",
       "4  /gcm-lfs1/pablo/data/rna_silencing/seq_data/S2...    False         S2-RIP   \n",
       "\n",
       "  seq_category  \n",
       "0        INPUT  \n",
       "1        INPUT  \n",
       "2      S2-ChIP  \n",
       "3      S2-ChIP  \n",
       "4       S2-RIP  "
      ]
     },
     "execution_count": 24,
     "metadata": {},
     "output_type": "execute_result"
    }
   ],
   "source": [
    "raw_files_df.head()"
   ]
  },
  {
   "cell_type": "code",
   "execution_count": 25,
   "metadata": {},
   "outputs": [
    {
     "data": {
      "text/plain": [
       "(157, 6)"
      ]
     },
     "execution_count": 25,
     "metadata": {},
     "output_type": "execute_result"
    }
   ],
   "source": [
    "raw_files_df.shape"
   ]
  },
  {
   "cell_type": "markdown",
   "metadata": {},
   "source": [
    "- Add `pipeline_type` column: distinguishes between `ChIP` and `RNA` **pipe-line**"
   ]
  },
  {
   "cell_type": "code",
   "execution_count": 26,
   "metadata": {},
   "outputs": [],
   "source": [
    "raw_files_df['pipeline_type'] = raw_files_df.seq_type.map(pipeline_type)"
   ]
  },
  {
   "cell_type": "code",
   "execution_count": 27,
   "metadata": {},
   "outputs": [
    {
     "data": {
      "text/html": [
       "<div>\n",
       "<style scoped>\n",
       "    .dataframe tbody tr th:only-of-type {\n",
       "        vertical-align: middle;\n",
       "    }\n",
       "\n",
       "    .dataframe tbody tr th {\n",
       "        vertical-align: top;\n",
       "    }\n",
       "\n",
       "    .dataframe thead th {\n",
       "        text-align: right;\n",
       "    }\n",
       "</style>\n",
       "<table border=\"1\" class=\"dataframe\">\n",
       "  <thead>\n",
       "    <tr style=\"text-align: right;\">\n",
       "      <th></th>\n",
       "      <th>sample_id</th>\n",
       "      <th>raw_file_name</th>\n",
       "      <th>raw_file</th>\n",
       "      <th>trimmed</th>\n",
       "      <th>seq_type</th>\n",
       "      <th>seq_category</th>\n",
       "      <th>pipeline_type</th>\n",
       "    </tr>\n",
       "  </thead>\n",
       "  <tbody>\n",
       "    <tr>\n",
       "      <th>0</th>\n",
       "      <td>1022_S2-ChIP-INPUT_1</td>\n",
       "      <td>1022_S2-ChIP-INPUT_1.fastq.bz2</td>\n",
       "      <td>/gcm-lfs1/pablo/data/rna_silencing/seq_data/IN...</td>\n",
       "      <td>False</td>\n",
       "      <td>S2-ChIP-INPUT</td>\n",
       "      <td>INPUT</td>\n",
       "      <td>ChIP</td>\n",
       "    </tr>\n",
       "    <tr>\n",
       "      <th>1</th>\n",
       "      <td>1022_S2-ChIP-OIN_1</td>\n",
       "      <td>1022_S2-ChIP-OIN_1.fastq.bz2</td>\n",
       "      <td>/gcm-lfs1/pablo/data/rna_silencing/seq_data/IN...</td>\n",
       "      <td>False</td>\n",
       "      <td>S2-ChIP-OIN</td>\n",
       "      <td>INPUT</td>\n",
       "      <td>ChIP</td>\n",
       "    </tr>\n",
       "    <tr>\n",
       "      <th>2</th>\n",
       "      <td>1022_S2-ChIP_1</td>\n",
       "      <td>1022_S2-ChIP_1.fastq.bz2</td>\n",
       "      <td>/gcm-lfs1/pablo/data/rna_silencing/seq_data/S2...</td>\n",
       "      <td>False</td>\n",
       "      <td>S2-ChIP</td>\n",
       "      <td>S2-ChIP</td>\n",
       "      <td>ChIP</td>\n",
       "    </tr>\n",
       "    <tr>\n",
       "      <th>3</th>\n",
       "      <td>1022_S2-ChIP_2</td>\n",
       "      <td>1022_S2-ChIP_2.fastq.bz2</td>\n",
       "      <td>/gcm-lfs1/pablo/data/rna_silencing/seq_data/S2...</td>\n",
       "      <td>False</td>\n",
       "      <td>S2-ChIP</td>\n",
       "      <td>S2-ChIP</td>\n",
       "      <td>ChIP</td>\n",
       "    </tr>\n",
       "    <tr>\n",
       "      <th>4</th>\n",
       "      <td>1022_S2-RIP_2</td>\n",
       "      <td>1022_S2-RIP_2.fastq.bz2</td>\n",
       "      <td>/gcm-lfs1/pablo/data/rna_silencing/seq_data/S2...</td>\n",
       "      <td>False</td>\n",
       "      <td>S2-RIP</td>\n",
       "      <td>S2-RIP</td>\n",
       "      <td>RNA</td>\n",
       "    </tr>\n",
       "  </tbody>\n",
       "</table>\n",
       "</div>"
      ],
      "text/plain": [
       "              sample_id                   raw_file_name  \\\n",
       "0  1022_S2-ChIP-INPUT_1  1022_S2-ChIP-INPUT_1.fastq.bz2   \n",
       "1    1022_S2-ChIP-OIN_1    1022_S2-ChIP-OIN_1.fastq.bz2   \n",
       "2        1022_S2-ChIP_1        1022_S2-ChIP_1.fastq.bz2   \n",
       "3        1022_S2-ChIP_2        1022_S2-ChIP_2.fastq.bz2   \n",
       "4         1022_S2-RIP_2         1022_S2-RIP_2.fastq.bz2   \n",
       "\n",
       "                                            raw_file  trimmed       seq_type  \\\n",
       "0  /gcm-lfs1/pablo/data/rna_silencing/seq_data/IN...    False  S2-ChIP-INPUT   \n",
       "1  /gcm-lfs1/pablo/data/rna_silencing/seq_data/IN...    False    S2-ChIP-OIN   \n",
       "2  /gcm-lfs1/pablo/data/rna_silencing/seq_data/S2...    False        S2-ChIP   \n",
       "3  /gcm-lfs1/pablo/data/rna_silencing/seq_data/S2...    False        S2-ChIP   \n",
       "4  /gcm-lfs1/pablo/data/rna_silencing/seq_data/S2...    False         S2-RIP   \n",
       "\n",
       "  seq_category pipeline_type  \n",
       "0        INPUT          ChIP  \n",
       "1        INPUT          ChIP  \n",
       "2      S2-ChIP          ChIP  \n",
       "3      S2-ChIP          ChIP  \n",
       "4       S2-RIP           RNA  "
      ]
     },
     "execution_count": 27,
     "metadata": {},
     "output_type": "execute_result"
    }
   ],
   "source": [
    "raw_files_df.head()"
   ]
  },
  {
   "cell_type": "code",
   "execution_count": 28,
   "metadata": {},
   "outputs": [
    {
     "data": {
      "text/plain": [
       "(157, 7)"
      ]
     },
     "execution_count": 28,
     "metadata": {},
     "output_type": "execute_result"
    }
   ],
   "source": [
    "raw_files_df.shape"
   ]
  },
  {
   "cell_type": "code",
   "execution_count": 29,
   "metadata": {},
   "outputs": [
    {
     "data": {
      "text/html": [
       "<div>\n",
       "<style scoped>\n",
       "    .dataframe tbody tr th:only-of-type {\n",
       "        vertical-align: middle;\n",
       "    }\n",
       "\n",
       "    .dataframe tbody tr th {\n",
       "        vertical-align: top;\n",
       "    }\n",
       "\n",
       "    .dataframe thead th {\n",
       "        text-align: right;\n",
       "    }\n",
       "</style>\n",
       "<table border=\"1\" class=\"dataframe\">\n",
       "  <thead>\n",
       "    <tr style=\"text-align: right;\">\n",
       "      <th></th>\n",
       "      <th>sample_id</th>\n",
       "      <th>raw_file_name</th>\n",
       "      <th>raw_file</th>\n",
       "      <th>trimmed</th>\n",
       "      <th>seq_type</th>\n",
       "      <th>seq_category</th>\n",
       "      <th>pipeline_type</th>\n",
       "    </tr>\n",
       "  </thead>\n",
       "  <tbody>\n",
       "  </tbody>\n",
       "</table>\n",
       "</div>"
      ],
      "text/plain": [
       "Empty DataFrame\n",
       "Columns: [sample_id, raw_file_name, raw_file, trimmed, seq_type, seq_category, pipeline_type]\n",
       "Index: []"
      ]
     },
     "execution_count": 29,
     "metadata": {},
     "output_type": "execute_result"
    }
   ],
   "source": [
    "raw_files_df[raw_files_df['seq_type']=='unknown']"
   ]
  },
  {
   "cell_type": "markdown",
   "metadata": {},
   "source": [
    "- Add `mutant_id` to classify each sample by **mutant strain id**:"
   ]
  },
  {
   "cell_type": "code",
   "execution_count": 30,
   "metadata": {},
   "outputs": [],
   "source": [
    "raw_files_df['mutant_id'] = raw_files_df['sample_id'].apply(lambda x: x.split('_')[0])"
   ]
  },
  {
   "cell_type": "code",
   "execution_count": 31,
   "metadata": {},
   "outputs": [
    {
     "data": {
      "text/html": [
       "<div>\n",
       "<style scoped>\n",
       "    .dataframe tbody tr th:only-of-type {\n",
       "        vertical-align: middle;\n",
       "    }\n",
       "\n",
       "    .dataframe tbody tr th {\n",
       "        vertical-align: top;\n",
       "    }\n",
       "\n",
       "    .dataframe thead th {\n",
       "        text-align: right;\n",
       "    }\n",
       "</style>\n",
       "<table border=\"1\" class=\"dataframe\">\n",
       "  <thead>\n",
       "    <tr style=\"text-align: right;\">\n",
       "      <th></th>\n",
       "      <th>sample_id</th>\n",
       "      <th>raw_file_name</th>\n",
       "      <th>raw_file</th>\n",
       "      <th>trimmed</th>\n",
       "      <th>seq_type</th>\n",
       "      <th>seq_category</th>\n",
       "      <th>pipeline_type</th>\n",
       "      <th>mutant_id</th>\n",
       "    </tr>\n",
       "  </thead>\n",
       "  <tbody>\n",
       "    <tr>\n",
       "      <th>0</th>\n",
       "      <td>1022_S2-ChIP-INPUT_1</td>\n",
       "      <td>1022_S2-ChIP-INPUT_1.fastq.bz2</td>\n",
       "      <td>/gcm-lfs1/pablo/data/rna_silencing/seq_data/IN...</td>\n",
       "      <td>False</td>\n",
       "      <td>S2-ChIP-INPUT</td>\n",
       "      <td>INPUT</td>\n",
       "      <td>ChIP</td>\n",
       "      <td>1022</td>\n",
       "    </tr>\n",
       "    <tr>\n",
       "      <th>1</th>\n",
       "      <td>1022_S2-ChIP-OIN_1</td>\n",
       "      <td>1022_S2-ChIP-OIN_1.fastq.bz2</td>\n",
       "      <td>/gcm-lfs1/pablo/data/rna_silencing/seq_data/IN...</td>\n",
       "      <td>False</td>\n",
       "      <td>S2-ChIP-OIN</td>\n",
       "      <td>INPUT</td>\n",
       "      <td>ChIP</td>\n",
       "      <td>1022</td>\n",
       "    </tr>\n",
       "    <tr>\n",
       "      <th>2</th>\n",
       "      <td>1022_S2-ChIP_1</td>\n",
       "      <td>1022_S2-ChIP_1.fastq.bz2</td>\n",
       "      <td>/gcm-lfs1/pablo/data/rna_silencing/seq_data/S2...</td>\n",
       "      <td>False</td>\n",
       "      <td>S2-ChIP</td>\n",
       "      <td>S2-ChIP</td>\n",
       "      <td>ChIP</td>\n",
       "      <td>1022</td>\n",
       "    </tr>\n",
       "    <tr>\n",
       "      <th>3</th>\n",
       "      <td>1022_S2-ChIP_2</td>\n",
       "      <td>1022_S2-ChIP_2.fastq.bz2</td>\n",
       "      <td>/gcm-lfs1/pablo/data/rna_silencing/seq_data/S2...</td>\n",
       "      <td>False</td>\n",
       "      <td>S2-ChIP</td>\n",
       "      <td>S2-ChIP</td>\n",
       "      <td>ChIP</td>\n",
       "      <td>1022</td>\n",
       "    </tr>\n",
       "    <tr>\n",
       "      <th>4</th>\n",
       "      <td>1022_S2-RIP_2</td>\n",
       "      <td>1022_S2-RIP_2.fastq.bz2</td>\n",
       "      <td>/gcm-lfs1/pablo/data/rna_silencing/seq_data/S2...</td>\n",
       "      <td>False</td>\n",
       "      <td>S2-RIP</td>\n",
       "      <td>S2-RIP</td>\n",
       "      <td>RNA</td>\n",
       "      <td>1022</td>\n",
       "    </tr>\n",
       "  </tbody>\n",
       "</table>\n",
       "</div>"
      ],
      "text/plain": [
       "              sample_id                   raw_file_name  \\\n",
       "0  1022_S2-ChIP-INPUT_1  1022_S2-ChIP-INPUT_1.fastq.bz2   \n",
       "1    1022_S2-ChIP-OIN_1    1022_S2-ChIP-OIN_1.fastq.bz2   \n",
       "2        1022_S2-ChIP_1        1022_S2-ChIP_1.fastq.bz2   \n",
       "3        1022_S2-ChIP_2        1022_S2-ChIP_2.fastq.bz2   \n",
       "4         1022_S2-RIP_2         1022_S2-RIP_2.fastq.bz2   \n",
       "\n",
       "                                            raw_file  trimmed       seq_type  \\\n",
       "0  /gcm-lfs1/pablo/data/rna_silencing/seq_data/IN...    False  S2-ChIP-INPUT   \n",
       "1  /gcm-lfs1/pablo/data/rna_silencing/seq_data/IN...    False    S2-ChIP-OIN   \n",
       "2  /gcm-lfs1/pablo/data/rna_silencing/seq_data/S2...    False        S2-ChIP   \n",
       "3  /gcm-lfs1/pablo/data/rna_silencing/seq_data/S2...    False        S2-ChIP   \n",
       "4  /gcm-lfs1/pablo/data/rna_silencing/seq_data/S2...    False         S2-RIP   \n",
       "\n",
       "  seq_category pipeline_type mutant_id  \n",
       "0        INPUT          ChIP      1022  \n",
       "1        INPUT          ChIP      1022  \n",
       "2      S2-ChIP          ChIP      1022  \n",
       "3      S2-ChIP          ChIP      1022  \n",
       "4       S2-RIP           RNA      1022  "
      ]
     },
     "execution_count": 31,
     "metadata": {},
     "output_type": "execute_result"
    }
   ],
   "source": [
    "raw_files_df.head()"
   ]
  },
  {
   "cell_type": "code",
   "execution_count": 32,
   "metadata": {},
   "outputs": [
    {
     "data": {
      "text/plain": [
       "(157, 8)"
      ]
     },
     "execution_count": 32,
     "metadata": {},
     "output_type": "execute_result"
    }
   ],
   "source": [
    "raw_files_df.shape"
   ]
  },
  {
   "cell_type": "markdown",
   "metadata": {},
   "source": [
    "- Add `mutant_name` to classify each sample by **mutant strain name**:"
   ]
  },
  {
   "cell_type": "code",
   "execution_count": 33,
   "metadata": {},
   "outputs": [],
   "source": [
    "raw_files_df['mutant_name'] = raw_files_df.mutant_id.map(mut_dict)\n",
    "raw_files_df['mutant_name'] = raw_files_df['mutant_name'].fillna(\"unknown\")"
   ]
  },
  {
   "cell_type": "code",
   "execution_count": 34,
   "metadata": {},
   "outputs": [
    {
     "data": {
      "text/html": [
       "<div>\n",
       "<style scoped>\n",
       "    .dataframe tbody tr th:only-of-type {\n",
       "        vertical-align: middle;\n",
       "    }\n",
       "\n",
       "    .dataframe tbody tr th {\n",
       "        vertical-align: top;\n",
       "    }\n",
       "\n",
       "    .dataframe thead th {\n",
       "        text-align: right;\n",
       "    }\n",
       "</style>\n",
       "<table border=\"1\" class=\"dataframe\">\n",
       "  <thead>\n",
       "    <tr style=\"text-align: right;\">\n",
       "      <th></th>\n",
       "      <th>sample_id</th>\n",
       "      <th>raw_file_name</th>\n",
       "      <th>raw_file</th>\n",
       "      <th>trimmed</th>\n",
       "      <th>seq_type</th>\n",
       "      <th>seq_category</th>\n",
       "      <th>pipeline_type</th>\n",
       "      <th>mutant_id</th>\n",
       "      <th>mutant_name</th>\n",
       "    </tr>\n",
       "  </thead>\n",
       "  <tbody>\n",
       "    <tr>\n",
       "      <th>0</th>\n",
       "      <td>1022_S2-ChIP-INPUT_1</td>\n",
       "      <td>1022_S2-ChIP-INPUT_1.fastq.bz2</td>\n",
       "      <td>/gcm-lfs1/pablo/data/rna_silencing/seq_data/IN...</td>\n",
       "      <td>False</td>\n",
       "      <td>S2-ChIP-INPUT</td>\n",
       "      <td>INPUT</td>\n",
       "      <td>ChIP</td>\n",
       "      <td>1022</td>\n",
       "      <td>mot2d</td>\n",
       "    </tr>\n",
       "    <tr>\n",
       "      <th>1</th>\n",
       "      <td>1022_S2-ChIP-OIN_1</td>\n",
       "      <td>1022_S2-ChIP-OIN_1.fastq.bz2</td>\n",
       "      <td>/gcm-lfs1/pablo/data/rna_silencing/seq_data/IN...</td>\n",
       "      <td>False</td>\n",
       "      <td>S2-ChIP-OIN</td>\n",
       "      <td>INPUT</td>\n",
       "      <td>ChIP</td>\n",
       "      <td>1022</td>\n",
       "      <td>mot2d</td>\n",
       "    </tr>\n",
       "    <tr>\n",
       "      <th>2</th>\n",
       "      <td>1022_S2-ChIP_1</td>\n",
       "      <td>1022_S2-ChIP_1.fastq.bz2</td>\n",
       "      <td>/gcm-lfs1/pablo/data/rna_silencing/seq_data/S2...</td>\n",
       "      <td>False</td>\n",
       "      <td>S2-ChIP</td>\n",
       "      <td>S2-ChIP</td>\n",
       "      <td>ChIP</td>\n",
       "      <td>1022</td>\n",
       "      <td>mot2d</td>\n",
       "    </tr>\n",
       "    <tr>\n",
       "      <th>3</th>\n",
       "      <td>1022_S2-ChIP_2</td>\n",
       "      <td>1022_S2-ChIP_2.fastq.bz2</td>\n",
       "      <td>/gcm-lfs1/pablo/data/rna_silencing/seq_data/S2...</td>\n",
       "      <td>False</td>\n",
       "      <td>S2-ChIP</td>\n",
       "      <td>S2-ChIP</td>\n",
       "      <td>ChIP</td>\n",
       "      <td>1022</td>\n",
       "      <td>mot2d</td>\n",
       "    </tr>\n",
       "    <tr>\n",
       "      <th>4</th>\n",
       "      <td>1022_S2-RIP_2</td>\n",
       "      <td>1022_S2-RIP_2.fastq.bz2</td>\n",
       "      <td>/gcm-lfs1/pablo/data/rna_silencing/seq_data/S2...</td>\n",
       "      <td>False</td>\n",
       "      <td>S2-RIP</td>\n",
       "      <td>S2-RIP</td>\n",
       "      <td>RNA</td>\n",
       "      <td>1022</td>\n",
       "      <td>mot2d</td>\n",
       "    </tr>\n",
       "  </tbody>\n",
       "</table>\n",
       "</div>"
      ],
      "text/plain": [
       "              sample_id                   raw_file_name  \\\n",
       "0  1022_S2-ChIP-INPUT_1  1022_S2-ChIP-INPUT_1.fastq.bz2   \n",
       "1    1022_S2-ChIP-OIN_1    1022_S2-ChIP-OIN_1.fastq.bz2   \n",
       "2        1022_S2-ChIP_1        1022_S2-ChIP_1.fastq.bz2   \n",
       "3        1022_S2-ChIP_2        1022_S2-ChIP_2.fastq.bz2   \n",
       "4         1022_S2-RIP_2         1022_S2-RIP_2.fastq.bz2   \n",
       "\n",
       "                                            raw_file  trimmed       seq_type  \\\n",
       "0  /gcm-lfs1/pablo/data/rna_silencing/seq_data/IN...    False  S2-ChIP-INPUT   \n",
       "1  /gcm-lfs1/pablo/data/rna_silencing/seq_data/IN...    False    S2-ChIP-OIN   \n",
       "2  /gcm-lfs1/pablo/data/rna_silencing/seq_data/S2...    False        S2-ChIP   \n",
       "3  /gcm-lfs1/pablo/data/rna_silencing/seq_data/S2...    False        S2-ChIP   \n",
       "4  /gcm-lfs1/pablo/data/rna_silencing/seq_data/S2...    False         S2-RIP   \n",
       "\n",
       "  seq_category pipeline_type mutant_id mutant_name  \n",
       "0        INPUT          ChIP      1022       mot2d  \n",
       "1        INPUT          ChIP      1022       mot2d  \n",
       "2      S2-ChIP          ChIP      1022       mot2d  \n",
       "3      S2-ChIP          ChIP      1022       mot2d  \n",
       "4       S2-RIP           RNA      1022       mot2d  "
      ]
     },
     "execution_count": 34,
     "metadata": {},
     "output_type": "execute_result"
    }
   ],
   "source": [
    "raw_files_df.head()"
   ]
  },
  {
   "cell_type": "code",
   "execution_count": 35,
   "metadata": {},
   "outputs": [
    {
     "data": {
      "text/plain": [
       "(157, 9)"
      ]
     },
     "execution_count": 35,
     "metadata": {},
     "output_type": "execute_result"
    }
   ],
   "source": [
    "raw_files_df.shape"
   ]
  },
  {
   "cell_type": "markdown",
   "metadata": {},
   "source": [
    "- Add `replicate` to keep track of each **mutant replicate**:"
   ]
  },
  {
   "cell_type": "code",
   "execution_count": 36,
   "metadata": {},
   "outputs": [],
   "source": [
    "raw_files_df['replicate'] = raw_files_df['sample_id'].apply(lambda x: x.split('_')[-1])"
   ]
  },
  {
   "cell_type": "code",
   "execution_count": 37,
   "metadata": {},
   "outputs": [
    {
     "data": {
      "text/html": [
       "<div>\n",
       "<style scoped>\n",
       "    .dataframe tbody tr th:only-of-type {\n",
       "        vertical-align: middle;\n",
       "    }\n",
       "\n",
       "    .dataframe tbody tr th {\n",
       "        vertical-align: top;\n",
       "    }\n",
       "\n",
       "    .dataframe thead th {\n",
       "        text-align: right;\n",
       "    }\n",
       "</style>\n",
       "<table border=\"1\" class=\"dataframe\">\n",
       "  <thead>\n",
       "    <tr style=\"text-align: right;\">\n",
       "      <th></th>\n",
       "      <th>sample_id</th>\n",
       "      <th>raw_file_name</th>\n",
       "      <th>raw_file</th>\n",
       "      <th>trimmed</th>\n",
       "      <th>seq_type</th>\n",
       "      <th>seq_category</th>\n",
       "      <th>pipeline_type</th>\n",
       "      <th>mutant_id</th>\n",
       "      <th>mutant_name</th>\n",
       "      <th>replicate</th>\n",
       "    </tr>\n",
       "  </thead>\n",
       "  <tbody>\n",
       "    <tr>\n",
       "      <th>0</th>\n",
       "      <td>1022_S2-ChIP-INPUT_1</td>\n",
       "      <td>1022_S2-ChIP-INPUT_1.fastq.bz2</td>\n",
       "      <td>/gcm-lfs1/pablo/data/rna_silencing/seq_data/IN...</td>\n",
       "      <td>False</td>\n",
       "      <td>S2-ChIP-INPUT</td>\n",
       "      <td>INPUT</td>\n",
       "      <td>ChIP</td>\n",
       "      <td>1022</td>\n",
       "      <td>mot2d</td>\n",
       "      <td>1</td>\n",
       "    </tr>\n",
       "    <tr>\n",
       "      <th>1</th>\n",
       "      <td>1022_S2-ChIP-OIN_1</td>\n",
       "      <td>1022_S2-ChIP-OIN_1.fastq.bz2</td>\n",
       "      <td>/gcm-lfs1/pablo/data/rna_silencing/seq_data/IN...</td>\n",
       "      <td>False</td>\n",
       "      <td>S2-ChIP-OIN</td>\n",
       "      <td>INPUT</td>\n",
       "      <td>ChIP</td>\n",
       "      <td>1022</td>\n",
       "      <td>mot2d</td>\n",
       "      <td>1</td>\n",
       "    </tr>\n",
       "    <tr>\n",
       "      <th>2</th>\n",
       "      <td>1022_S2-ChIP_1</td>\n",
       "      <td>1022_S2-ChIP_1.fastq.bz2</td>\n",
       "      <td>/gcm-lfs1/pablo/data/rna_silencing/seq_data/S2...</td>\n",
       "      <td>False</td>\n",
       "      <td>S2-ChIP</td>\n",
       "      <td>S2-ChIP</td>\n",
       "      <td>ChIP</td>\n",
       "      <td>1022</td>\n",
       "      <td>mot2d</td>\n",
       "      <td>1</td>\n",
       "    </tr>\n",
       "    <tr>\n",
       "      <th>3</th>\n",
       "      <td>1022_S2-ChIP_2</td>\n",
       "      <td>1022_S2-ChIP_2.fastq.bz2</td>\n",
       "      <td>/gcm-lfs1/pablo/data/rna_silencing/seq_data/S2...</td>\n",
       "      <td>False</td>\n",
       "      <td>S2-ChIP</td>\n",
       "      <td>S2-ChIP</td>\n",
       "      <td>ChIP</td>\n",
       "      <td>1022</td>\n",
       "      <td>mot2d</td>\n",
       "      <td>2</td>\n",
       "    </tr>\n",
       "    <tr>\n",
       "      <th>4</th>\n",
       "      <td>1022_S2-RIP_2</td>\n",
       "      <td>1022_S2-RIP_2.fastq.bz2</td>\n",
       "      <td>/gcm-lfs1/pablo/data/rna_silencing/seq_data/S2...</td>\n",
       "      <td>False</td>\n",
       "      <td>S2-RIP</td>\n",
       "      <td>S2-RIP</td>\n",
       "      <td>RNA</td>\n",
       "      <td>1022</td>\n",
       "      <td>mot2d</td>\n",
       "      <td>2</td>\n",
       "    </tr>\n",
       "  </tbody>\n",
       "</table>\n",
       "</div>"
      ],
      "text/plain": [
       "              sample_id                   raw_file_name  \\\n",
       "0  1022_S2-ChIP-INPUT_1  1022_S2-ChIP-INPUT_1.fastq.bz2   \n",
       "1    1022_S2-ChIP-OIN_1    1022_S2-ChIP-OIN_1.fastq.bz2   \n",
       "2        1022_S2-ChIP_1        1022_S2-ChIP_1.fastq.bz2   \n",
       "3        1022_S2-ChIP_2        1022_S2-ChIP_2.fastq.bz2   \n",
       "4         1022_S2-RIP_2         1022_S2-RIP_2.fastq.bz2   \n",
       "\n",
       "                                            raw_file  trimmed       seq_type  \\\n",
       "0  /gcm-lfs1/pablo/data/rna_silencing/seq_data/IN...    False  S2-ChIP-INPUT   \n",
       "1  /gcm-lfs1/pablo/data/rna_silencing/seq_data/IN...    False    S2-ChIP-OIN   \n",
       "2  /gcm-lfs1/pablo/data/rna_silencing/seq_data/S2...    False        S2-ChIP   \n",
       "3  /gcm-lfs1/pablo/data/rna_silencing/seq_data/S2...    False        S2-ChIP   \n",
       "4  /gcm-lfs1/pablo/data/rna_silencing/seq_data/S2...    False         S2-RIP   \n",
       "\n",
       "  seq_category pipeline_type mutant_id mutant_name replicate  \n",
       "0        INPUT          ChIP      1022       mot2d         1  \n",
       "1        INPUT          ChIP      1022       mot2d         1  \n",
       "2      S2-ChIP          ChIP      1022       mot2d         1  \n",
       "3      S2-ChIP          ChIP      1022       mot2d         2  \n",
       "4       S2-RIP           RNA      1022       mot2d         2  "
      ]
     },
     "execution_count": 37,
     "metadata": {},
     "output_type": "execute_result"
    }
   ],
   "source": [
    "raw_files_df.head()"
   ]
  },
  {
   "cell_type": "code",
   "execution_count": 38,
   "metadata": {},
   "outputs": [
    {
     "data": {
      "text/plain": [
       "(157, 10)"
      ]
     },
     "execution_count": 38,
     "metadata": {},
     "output_type": "execute_result"
    }
   ],
   "source": [
    "raw_files_df.shape"
   ]
  },
  {
   "cell_type": "markdown",
   "metadata": {},
   "source": [
    "- Add `INPUT_*` columns: associate ChIP samples with **corresponding `INPUT`**\n",
    "\n",
    "<font color='red'> **Note**: only `seq_category = ChIP` samples will have an associated `INPUT` all other will contain NAs. </font>\n",
    "\n",
    "<font color='red'> Needs external annotation file: </font> `chip_input_map.tsv`"
   ]
  },
  {
   "cell_type": "code",
   "execution_count": 39,
   "metadata": {},
   "outputs": [],
   "source": [
    "## Note: `input_types` refers to INPUT samples, but note that we also process 'ChIP'-like samples\n",
    "## that do NOT need 'INPUT substraction' in such a fashion. (e.g. 'H3K9me2', 'simulated-data' ).\n",
    "input_types = ['INPUT', 'H3K9me2', 'simulated-data']"
   ]
  },
  {
   "cell_type": "code",
   "execution_count": 40,
   "metadata": {},
   "outputs": [
    {
     "data": {
      "text/plain": [
       "'/gcm-lfs1/pablo/data/rna_silencing/raw/chip_input_map.tsv'"
      ]
     },
     "execution_count": 40,
     "metadata": {},
     "output_type": "execute_result"
    }
   ],
   "source": [
    "chip_input_map_file = os.path.join(raw_dir, 'chip_input_map.tsv')\n",
    "chip_input_map_file"
   ]
  },
  {
   "cell_type": "code",
   "execution_count": 41,
   "metadata": {},
   "outputs": [
    {
     "data": {
      "text/html": [
       "<div>\n",
       "<style scoped>\n",
       "    .dataframe tbody tr th:only-of-type {\n",
       "        vertical-align: middle;\n",
       "    }\n",
       "\n",
       "    .dataframe tbody tr th {\n",
       "        vertical-align: top;\n",
       "    }\n",
       "\n",
       "    .dataframe thead th {\n",
       "        text-align: right;\n",
       "    }\n",
       "</style>\n",
       "<table border=\"1\" class=\"dataframe\">\n",
       "  <thead>\n",
       "    <tr style=\"text-align: right;\">\n",
       "      <th></th>\n",
       "      <th>sample_id</th>\n",
       "      <th>INPUT_1</th>\n",
       "      <th>INPUT_2</th>\n",
       "      <th>INPUT_3</th>\n",
       "      <th>OIN</th>\n",
       "    </tr>\n",
       "  </thead>\n",
       "  <tbody>\n",
       "    <tr>\n",
       "      <th>0</th>\n",
       "      <td>1022_S2-ChIP_1</td>\n",
       "      <td>1022_S2-ChIP-INPUT_1</td>\n",
       "      <td>NaN</td>\n",
       "      <td>NaN</td>\n",
       "      <td>1022_S2-ChIP-OIN_1</td>\n",
       "    </tr>\n",
       "    <tr>\n",
       "      <th>1</th>\n",
       "      <td>1022_S2-ChIP_2</td>\n",
       "      <td>1022_S2-ChIP-INPUT_1</td>\n",
       "      <td>NaN</td>\n",
       "      <td>NaN</td>\n",
       "      <td>1022_S2-ChIP-OIN_1</td>\n",
       "    </tr>\n",
       "    <tr>\n",
       "      <th>2</th>\n",
       "      <td>1168_S2-ChIP_1</td>\n",
       "      <td>NaN</td>\n",
       "      <td>NaN</td>\n",
       "      <td>NaN</td>\n",
       "      <td>1168_S2-ChIP-OIN_1</td>\n",
       "    </tr>\n",
       "    <tr>\n",
       "      <th>3</th>\n",
       "      <td>1168_S2-ChIP_2</td>\n",
       "      <td>NaN</td>\n",
       "      <td>NaN</td>\n",
       "      <td>NaN</td>\n",
       "      <td>1168_S2-ChIP-OIN_1</td>\n",
       "    </tr>\n",
       "    <tr>\n",
       "      <th>4</th>\n",
       "      <td>301_S2-ChIP_1</td>\n",
       "      <td>301_S2-ChIP-INPUT_1</td>\n",
       "      <td>NaN</td>\n",
       "      <td>NaN</td>\n",
       "      <td>301_S2-ChIP-OIN_1</td>\n",
       "    </tr>\n",
       "  </tbody>\n",
       "</table>\n",
       "</div>"
      ],
      "text/plain": [
       "        sample_id               INPUT_1 INPUT_2 INPUT_3                 OIN\n",
       "0  1022_S2-ChIP_1  1022_S2-ChIP-INPUT_1     NaN     NaN  1022_S2-ChIP-OIN_1\n",
       "1  1022_S2-ChIP_2  1022_S2-ChIP-INPUT_1     NaN     NaN  1022_S2-ChIP-OIN_1\n",
       "2  1168_S2-ChIP_1                   NaN     NaN     NaN  1168_S2-ChIP-OIN_1\n",
       "3  1168_S2-ChIP_2                   NaN     NaN     NaN  1168_S2-ChIP-OIN_1\n",
       "4   301_S2-ChIP_1   301_S2-ChIP-INPUT_1     NaN     NaN   301_S2-ChIP-OIN_1"
      ]
     },
     "execution_count": 41,
     "metadata": {},
     "output_type": "execute_result"
    }
   ],
   "source": [
    "#chip_input_map_df = pd.read_csv(chip_input_map_file, sep ='\\t', dtype='str')\n",
    "chip_input_map_df = pd.read_csv(chip_input_map_file, sep ='\\t')\n",
    "chip_input_map_df.head()"
   ]
  },
  {
   "cell_type": "code",
   "execution_count": 42,
   "metadata": {},
   "outputs": [],
   "source": [
    "#raw_files_df.dtypes"
   ]
  },
  {
   "cell_type": "code",
   "execution_count": 43,
   "metadata": {},
   "outputs": [],
   "source": [
    "#chip_input_map_df.dtypes"
   ]
  },
  {
   "cell_type": "code",
   "execution_count": 44,
   "metadata": {},
   "outputs": [],
   "source": [
    "n_samples = len(raw_files_df)\n",
    "raw_files_df = raw_files_df.merge(chip_input_map_df, how='left', on = 'sample_id')\n",
    "assert(n_samples == len(raw_files_df))"
   ]
  },
  {
   "cell_type": "code",
   "execution_count": 45,
   "metadata": {},
   "outputs": [
    {
     "data": {
      "text/html": [
       "<div>\n",
       "<style scoped>\n",
       "    .dataframe tbody tr th:only-of-type {\n",
       "        vertical-align: middle;\n",
       "    }\n",
       "\n",
       "    .dataframe tbody tr th {\n",
       "        vertical-align: top;\n",
       "    }\n",
       "\n",
       "    .dataframe thead th {\n",
       "        text-align: right;\n",
       "    }\n",
       "</style>\n",
       "<table border=\"1\" class=\"dataframe\">\n",
       "  <thead>\n",
       "    <tr style=\"text-align: right;\">\n",
       "      <th></th>\n",
       "      <th>sample_id</th>\n",
       "      <th>raw_file_name</th>\n",
       "      <th>raw_file</th>\n",
       "      <th>trimmed</th>\n",
       "      <th>seq_type</th>\n",
       "      <th>seq_category</th>\n",
       "      <th>pipeline_type</th>\n",
       "      <th>mutant_id</th>\n",
       "      <th>mutant_name</th>\n",
       "      <th>replicate</th>\n",
       "      <th>INPUT_1</th>\n",
       "      <th>INPUT_2</th>\n",
       "      <th>INPUT_3</th>\n",
       "      <th>OIN</th>\n",
       "    </tr>\n",
       "  </thead>\n",
       "  <tbody>\n",
       "    <tr>\n",
       "      <th>0</th>\n",
       "      <td>1022_S2-ChIP-INPUT_1</td>\n",
       "      <td>1022_S2-ChIP-INPUT_1.fastq.bz2</td>\n",
       "      <td>/gcm-lfs1/pablo/data/rna_silencing/seq_data/IN...</td>\n",
       "      <td>False</td>\n",
       "      <td>S2-ChIP-INPUT</td>\n",
       "      <td>INPUT</td>\n",
       "      <td>ChIP</td>\n",
       "      <td>1022</td>\n",
       "      <td>mot2d</td>\n",
       "      <td>1</td>\n",
       "      <td>NaN</td>\n",
       "      <td>NaN</td>\n",
       "      <td>NaN</td>\n",
       "      <td>NaN</td>\n",
       "    </tr>\n",
       "    <tr>\n",
       "      <th>1</th>\n",
       "      <td>1022_S2-ChIP-OIN_1</td>\n",
       "      <td>1022_S2-ChIP-OIN_1.fastq.bz2</td>\n",
       "      <td>/gcm-lfs1/pablo/data/rna_silencing/seq_data/IN...</td>\n",
       "      <td>False</td>\n",
       "      <td>S2-ChIP-OIN</td>\n",
       "      <td>INPUT</td>\n",
       "      <td>ChIP</td>\n",
       "      <td>1022</td>\n",
       "      <td>mot2d</td>\n",
       "      <td>1</td>\n",
       "      <td>NaN</td>\n",
       "      <td>NaN</td>\n",
       "      <td>NaN</td>\n",
       "      <td>NaN</td>\n",
       "    </tr>\n",
       "    <tr>\n",
       "      <th>2</th>\n",
       "      <td>1022_S2-ChIP_1</td>\n",
       "      <td>1022_S2-ChIP_1.fastq.bz2</td>\n",
       "      <td>/gcm-lfs1/pablo/data/rna_silencing/seq_data/S2...</td>\n",
       "      <td>False</td>\n",
       "      <td>S2-ChIP</td>\n",
       "      <td>S2-ChIP</td>\n",
       "      <td>ChIP</td>\n",
       "      <td>1022</td>\n",
       "      <td>mot2d</td>\n",
       "      <td>1</td>\n",
       "      <td>1022_S2-ChIP-INPUT_1</td>\n",
       "      <td>NaN</td>\n",
       "      <td>NaN</td>\n",
       "      <td>1022_S2-ChIP-OIN_1</td>\n",
       "    </tr>\n",
       "    <tr>\n",
       "      <th>3</th>\n",
       "      <td>1022_S2-ChIP_2</td>\n",
       "      <td>1022_S2-ChIP_2.fastq.bz2</td>\n",
       "      <td>/gcm-lfs1/pablo/data/rna_silencing/seq_data/S2...</td>\n",
       "      <td>False</td>\n",
       "      <td>S2-ChIP</td>\n",
       "      <td>S2-ChIP</td>\n",
       "      <td>ChIP</td>\n",
       "      <td>1022</td>\n",
       "      <td>mot2d</td>\n",
       "      <td>2</td>\n",
       "      <td>1022_S2-ChIP-INPUT_1</td>\n",
       "      <td>NaN</td>\n",
       "      <td>NaN</td>\n",
       "      <td>1022_S2-ChIP-OIN_1</td>\n",
       "    </tr>\n",
       "    <tr>\n",
       "      <th>4</th>\n",
       "      <td>1022_S2-RIP_2</td>\n",
       "      <td>1022_S2-RIP_2.fastq.bz2</td>\n",
       "      <td>/gcm-lfs1/pablo/data/rna_silencing/seq_data/S2...</td>\n",
       "      <td>False</td>\n",
       "      <td>S2-RIP</td>\n",
       "      <td>S2-RIP</td>\n",
       "      <td>RNA</td>\n",
       "      <td>1022</td>\n",
       "      <td>mot2d</td>\n",
       "      <td>2</td>\n",
       "      <td>NaN</td>\n",
       "      <td>NaN</td>\n",
       "      <td>NaN</td>\n",
       "      <td>NaN</td>\n",
       "    </tr>\n",
       "  </tbody>\n",
       "</table>\n",
       "</div>"
      ],
      "text/plain": [
       "              sample_id                   raw_file_name  \\\n",
       "0  1022_S2-ChIP-INPUT_1  1022_S2-ChIP-INPUT_1.fastq.bz2   \n",
       "1    1022_S2-ChIP-OIN_1    1022_S2-ChIP-OIN_1.fastq.bz2   \n",
       "2        1022_S2-ChIP_1        1022_S2-ChIP_1.fastq.bz2   \n",
       "3        1022_S2-ChIP_2        1022_S2-ChIP_2.fastq.bz2   \n",
       "4         1022_S2-RIP_2         1022_S2-RIP_2.fastq.bz2   \n",
       "\n",
       "                                            raw_file  trimmed       seq_type  \\\n",
       "0  /gcm-lfs1/pablo/data/rna_silencing/seq_data/IN...    False  S2-ChIP-INPUT   \n",
       "1  /gcm-lfs1/pablo/data/rna_silencing/seq_data/IN...    False    S2-ChIP-OIN   \n",
       "2  /gcm-lfs1/pablo/data/rna_silencing/seq_data/S2...    False        S2-ChIP   \n",
       "3  /gcm-lfs1/pablo/data/rna_silencing/seq_data/S2...    False        S2-ChIP   \n",
       "4  /gcm-lfs1/pablo/data/rna_silencing/seq_data/S2...    False         S2-RIP   \n",
       "\n",
       "  seq_category pipeline_type mutant_id mutant_name replicate  \\\n",
       "0        INPUT          ChIP      1022       mot2d         1   \n",
       "1        INPUT          ChIP      1022       mot2d         1   \n",
       "2      S2-ChIP          ChIP      1022       mot2d         1   \n",
       "3      S2-ChIP          ChIP      1022       mot2d         2   \n",
       "4       S2-RIP           RNA      1022       mot2d         2   \n",
       "\n",
       "                INPUT_1 INPUT_2 INPUT_3                 OIN  \n",
       "0                   NaN     NaN     NaN                 NaN  \n",
       "1                   NaN     NaN     NaN                 NaN  \n",
       "2  1022_S2-ChIP-INPUT_1     NaN     NaN  1022_S2-ChIP-OIN_1  \n",
       "3  1022_S2-ChIP-INPUT_1     NaN     NaN  1022_S2-ChIP-OIN_1  \n",
       "4                   NaN     NaN     NaN                 NaN  "
      ]
     },
     "execution_count": 45,
     "metadata": {},
     "output_type": "execute_result"
    }
   ],
   "source": [
    "raw_files_df.head()"
   ]
  },
  {
   "cell_type": "code",
   "execution_count": 46,
   "metadata": {},
   "outputs": [
    {
     "data": {
      "text/plain": [
       "(157, 14)"
      ]
     },
     "execution_count": 46,
     "metadata": {},
     "output_type": "execute_result"
    }
   ],
   "source": [
    "raw_files_df.shape"
   ]
  },
  {
   "cell_type": "markdown",
   "metadata": {},
   "source": [
    "- Summarize by `data_dir` and `seq`"
   ]
  },
  {
   "cell_type": "code",
   "execution_count": 47,
   "metadata": {},
   "outputs": [
    {
     "data": {
      "text/html": [
       "<div>\n",
       "<style scoped>\n",
       "    .dataframe tbody tr th:only-of-type {\n",
       "        vertical-align: middle;\n",
       "    }\n",
       "\n",
       "    .dataframe tbody tr th {\n",
       "        vertical-align: top;\n",
       "    }\n",
       "\n",
       "    .dataframe thead th {\n",
       "        text-align: right;\n",
       "    }\n",
       "</style>\n",
       "<table border=\"1\" class=\"dataframe\">\n",
       "  <thead>\n",
       "    <tr style=\"text-align: right;\">\n",
       "      <th></th>\n",
       "      <th></th>\n",
       "      <th>sample_id</th>\n",
       "    </tr>\n",
       "    <tr>\n",
       "      <th>pipeline_type</th>\n",
       "      <th>seq_category</th>\n",
       "      <th></th>\n",
       "    </tr>\n",
       "  </thead>\n",
       "  <tbody>\n",
       "    <tr>\n",
       "      <th>simulated-data</th>\n",
       "      <th>simulated-data</th>\n",
       "      <td>4</td>\n",
       "    </tr>\n",
       "    <tr>\n",
       "      <th rowspan=\"4\" valign=\"top\">RNA</th>\n",
       "      <th>S2-RIP</th>\n",
       "      <td>37</td>\n",
       "    </tr>\n",
       "    <tr>\n",
       "      <th>pA-RNA</th>\n",
       "      <td>34</td>\n",
       "    </tr>\n",
       "    <tr>\n",
       "      <th>total-RNA</th>\n",
       "      <td>8</td>\n",
       "    </tr>\n",
       "    <tr>\n",
       "      <th>S5-RIP</th>\n",
       "      <td>1</td>\n",
       "    </tr>\n",
       "    <tr>\n",
       "      <th rowspan=\"4\" valign=\"top\">ChIP</th>\n",
       "      <th>INPUT</th>\n",
       "      <td>30</td>\n",
       "    </tr>\n",
       "    <tr>\n",
       "      <th>S2-ChIP</th>\n",
       "      <td>30</td>\n",
       "    </tr>\n",
       "    <tr>\n",
       "      <th>H3K9me2</th>\n",
       "      <td>9</td>\n",
       "    </tr>\n",
       "    <tr>\n",
       "      <th>S5-ChIP</th>\n",
       "      <td>4</td>\n",
       "    </tr>\n",
       "  </tbody>\n",
       "</table>\n",
       "</div>"
      ],
      "text/plain": [
       "                               sample_id\n",
       "pipeline_type  seq_category             \n",
       "simulated-data simulated-data          4\n",
       "RNA            S2-RIP                 37\n",
       "               pA-RNA                 34\n",
       "               total-RNA               8\n",
       "               S5-RIP                  1\n",
       "ChIP           INPUT                  30\n",
       "               S2-ChIP                30\n",
       "               H3K9me2                 9\n",
       "               S5-ChIP                 4"
      ]
     },
     "execution_count": 47,
     "metadata": {},
     "output_type": "execute_result"
    }
   ],
   "source": [
    "samples_by_seq_categoryc = raw_files_df[['sample_id', 'pipeline_type', 'seq_category']].groupby(['pipeline_type', 'seq_category']).count()\n",
    "samples_by_seq_categoryc.sort_values(['pipeline_type', 'sample_id'], ascending=False)"
   ]
  },
  {
   "cell_type": "markdown",
   "metadata": {},
   "source": [
    "- **Store Data Frame** containing annotation of all: `raw_files_df`"
   ]
  },
  {
   "cell_type": "code",
   "execution_count": 48,
   "metadata": {},
   "outputs": [
    {
     "data": {
      "text/plain": [
       "'/gcm-lfs1/pablo/data/rna_silencing/seq_data/file_annotation.csv'"
      ]
     },
     "execution_count": 48,
     "metadata": {},
     "output_type": "execute_result"
    }
   ],
   "source": [
    "#raw_files_annotation_file = os.path.join(project_data_dir, 'seq_data', 'file_annotation.csv')\n",
    "raw_files_annotation_file = os.path.join(data_dir, 'file_annotation.csv')\n",
    "raw_files_annotation_file"
   ]
  },
  {
   "cell_type": "code",
   "execution_count": 49,
   "metadata": {},
   "outputs": [],
   "source": [
    "raw_files_df.to_csv(raw_files_annotation_file, sep=\"\\t\", index=False)"
   ]
  },
  {
   "cell_type": "markdown",
   "metadata": {},
   "source": [
    " "
   ]
  },
  {
   "cell_type": "markdown",
   "metadata": {},
   "source": [
    "---------------------------------"
   ]
  },
  {
   "cell_type": "markdown",
   "metadata": {},
   "source": [
    " <font color='red'> **(NOT SURE WHAT THIS IS FOR)** </font>\n"
   ]
  },
  {
   "cell_type": "markdown",
   "metadata": {},
   "source": [
    "### **FASTQ Files**: `.fastq`"
   ]
  },
  {
   "cell_type": "markdown",
   "metadata": {},
   "source": [
    "- **FASTQ Files**: `.fastq`"
   ]
  },
  {
   "cell_type": "code",
   "execution_count": 50,
   "metadata": {},
   "outputs": [],
   "source": [
    "fastq_files_list = []\n",
    "ext = '.fastq'\n",
    "\n",
    "## now samples '.fastq.bz2' files are inside individual directories.\n",
    "for root, dirs, files in os.walk(data_dir, topdown=True):\n",
    "    for name in files:\n",
    "        \n",
    "        if (name.endswith(ext)) and (not name.startswith(ignore_files)):\n",
    "\n",
    "          #print(os.path.join(root, name))\n",
    "          fastq_files_list.append(os.path.join(root, name))"
   ]
  },
  {
   "cell_type": "code",
   "execution_count": 51,
   "metadata": {},
   "outputs": [],
   "source": [
    "fastq_files_df = pd.DataFrame({'fastq_file': fastq_files_list})\n",
    "fastq_files_df['fastq_file_name'] = [os.path.basename(x) for x in fastq_files_df['fastq_file']]\n",
    "fastq_files_df['sample_id'] = [ x.split('.')[0] for x in fastq_files_df['fastq_file_name']]"
   ]
  },
  {
   "cell_type": "code",
   "execution_count": 52,
   "metadata": {},
   "outputs": [],
   "source": [
    "fastq_files_df = fastq_files_df[['sample_id', 'fastq_file_name', 'fastq_file']]\n",
    "fastq_files_df = fastq_files_df.sort_values('sample_id')\n",
    "fastq_files_df = fastq_files_df.reset_index(drop='True')"
   ]
  },
  {
   "cell_type": "code",
   "execution_count": 53,
   "metadata": {},
   "outputs": [
    {
     "data": {
      "text/html": [
       "<div>\n",
       "<style scoped>\n",
       "    .dataframe tbody tr th:only-of-type {\n",
       "        vertical-align: middle;\n",
       "    }\n",
       "\n",
       "    .dataframe tbody tr th {\n",
       "        vertical-align: top;\n",
       "    }\n",
       "\n",
       "    .dataframe thead th {\n",
       "        text-align: right;\n",
       "    }\n",
       "</style>\n",
       "<table border=\"1\" class=\"dataframe\">\n",
       "  <thead>\n",
       "    <tr style=\"text-align: right;\">\n",
       "      <th></th>\n",
       "      <th>sample_id</th>\n",
       "      <th>fastq_file_name</th>\n",
       "      <th>fastq_file</th>\n",
       "    </tr>\n",
       "  </thead>\n",
       "  <tbody>\n",
       "    <tr>\n",
       "      <th>0</th>\n",
       "      <td>1022_S2-ChIP-INPUT_1</td>\n",
       "      <td>1022_S2-ChIP-INPUT_1.fastq</td>\n",
       "      <td>/gcm-lfs1/pablo/data/rna_silencing/seq_data/IN...</td>\n",
       "    </tr>\n",
       "    <tr>\n",
       "      <th>1</th>\n",
       "      <td>1022_S2-ChIP-OIN_1</td>\n",
       "      <td>1022_S2-ChIP-OIN_1.fastq</td>\n",
       "      <td>/gcm-lfs1/pablo/data/rna_silencing/seq_data/IN...</td>\n",
       "    </tr>\n",
       "    <tr>\n",
       "      <th>2</th>\n",
       "      <td>1022_S2-ChIP_1</td>\n",
       "      <td>1022_S2-ChIP_1.fastq</td>\n",
       "      <td>/gcm-lfs1/pablo/data/rna_silencing/seq_data/S2...</td>\n",
       "    </tr>\n",
       "    <tr>\n",
       "      <th>3</th>\n",
       "      <td>1022_S2-ChIP_2</td>\n",
       "      <td>1022_S2-ChIP_2.fastq</td>\n",
       "      <td>/gcm-lfs1/pablo/data/rna_silencing/seq_data/S2...</td>\n",
       "    </tr>\n",
       "    <tr>\n",
       "      <th>4</th>\n",
       "      <td>1022_S2-RIP_2</td>\n",
       "      <td>1022_S2-RIP_2.fastq</td>\n",
       "      <td>/gcm-lfs1/pablo/data/rna_silencing/seq_data/S2...</td>\n",
       "    </tr>\n",
       "  </tbody>\n",
       "</table>\n",
       "</div>"
      ],
      "text/plain": [
       "              sample_id             fastq_file_name  \\\n",
       "0  1022_S2-ChIP-INPUT_1  1022_S2-ChIP-INPUT_1.fastq   \n",
       "1    1022_S2-ChIP-OIN_1    1022_S2-ChIP-OIN_1.fastq   \n",
       "2        1022_S2-ChIP_1        1022_S2-ChIP_1.fastq   \n",
       "3        1022_S2-ChIP_2        1022_S2-ChIP_2.fastq   \n",
       "4         1022_S2-RIP_2         1022_S2-RIP_2.fastq   \n",
       "\n",
       "                                          fastq_file  \n",
       "0  /gcm-lfs1/pablo/data/rna_silencing/seq_data/IN...  \n",
       "1  /gcm-lfs1/pablo/data/rna_silencing/seq_data/IN...  \n",
       "2  /gcm-lfs1/pablo/data/rna_silencing/seq_data/S2...  \n",
       "3  /gcm-lfs1/pablo/data/rna_silencing/seq_data/S2...  \n",
       "4  /gcm-lfs1/pablo/data/rna_silencing/seq_data/S2...  "
      ]
     },
     "execution_count": 53,
     "metadata": {},
     "output_type": "execute_result"
    }
   ],
   "source": [
    "fastq_files_df.head()"
   ]
  },
  {
   "cell_type": "code",
   "execution_count": 54,
   "metadata": {},
   "outputs": [
    {
     "data": {
      "text/plain": [
       "(174, 3)"
      ]
     },
     "execution_count": 54,
     "metadata": {},
     "output_type": "execute_result"
    }
   ],
   "source": [
    "fastq_files_df.shape"
   ]
  },
  {
   "cell_type": "markdown",
   "metadata": {},
   "source": [
    "- Add `data_dir` to see where we are storing them"
   ]
  },
  {
   "cell_type": "code",
   "execution_count": 55,
   "metadata": {},
   "outputs": [],
   "source": [
    "fastq_files_df['data_dir'] = fastq_files_df['fastq_file'].apply(lambda x: psutil.get_data_dir(x, data_dir))"
   ]
  },
  {
   "cell_type": "code",
   "execution_count": 56,
   "metadata": {},
   "outputs": [
    {
     "data": {
      "text/html": [
       "<div>\n",
       "<style scoped>\n",
       "    .dataframe tbody tr th:only-of-type {\n",
       "        vertical-align: middle;\n",
       "    }\n",
       "\n",
       "    .dataframe tbody tr th {\n",
       "        vertical-align: top;\n",
       "    }\n",
       "\n",
       "    .dataframe thead th {\n",
       "        text-align: right;\n",
       "    }\n",
       "</style>\n",
       "<table border=\"1\" class=\"dataframe\">\n",
       "  <thead>\n",
       "    <tr style=\"text-align: right;\">\n",
       "      <th></th>\n",
       "      <th>sample_id</th>\n",
       "      <th>fastq_file_name</th>\n",
       "      <th>fastq_file</th>\n",
       "      <th>data_dir</th>\n",
       "    </tr>\n",
       "  </thead>\n",
       "  <tbody>\n",
       "    <tr>\n",
       "      <th>0</th>\n",
       "      <td>1022_S2-ChIP-INPUT_1</td>\n",
       "      <td>1022_S2-ChIP-INPUT_1.fastq</td>\n",
       "      <td>/gcm-lfs1/pablo/data/rna_silencing/seq_data/IN...</td>\n",
       "      <td>INPUT</td>\n",
       "    </tr>\n",
       "    <tr>\n",
       "      <th>1</th>\n",
       "      <td>1022_S2-ChIP-OIN_1</td>\n",
       "      <td>1022_S2-ChIP-OIN_1.fastq</td>\n",
       "      <td>/gcm-lfs1/pablo/data/rna_silencing/seq_data/IN...</td>\n",
       "      <td>INPUT</td>\n",
       "    </tr>\n",
       "    <tr>\n",
       "      <th>2</th>\n",
       "      <td>1022_S2-ChIP_1</td>\n",
       "      <td>1022_S2-ChIP_1.fastq</td>\n",
       "      <td>/gcm-lfs1/pablo/data/rna_silencing/seq_data/S2...</td>\n",
       "      <td>S2-ChIP</td>\n",
       "    </tr>\n",
       "    <tr>\n",
       "      <th>3</th>\n",
       "      <td>1022_S2-ChIP_2</td>\n",
       "      <td>1022_S2-ChIP_2.fastq</td>\n",
       "      <td>/gcm-lfs1/pablo/data/rna_silencing/seq_data/S2...</td>\n",
       "      <td>S2-ChIP</td>\n",
       "    </tr>\n",
       "    <tr>\n",
       "      <th>4</th>\n",
       "      <td>1022_S2-RIP_2</td>\n",
       "      <td>1022_S2-RIP_2.fastq</td>\n",
       "      <td>/gcm-lfs1/pablo/data/rna_silencing/seq_data/S2...</td>\n",
       "      <td>S2-RIP</td>\n",
       "    </tr>\n",
       "  </tbody>\n",
       "</table>\n",
       "</div>"
      ],
      "text/plain": [
       "              sample_id             fastq_file_name  \\\n",
       "0  1022_S2-ChIP-INPUT_1  1022_S2-ChIP-INPUT_1.fastq   \n",
       "1    1022_S2-ChIP-OIN_1    1022_S2-ChIP-OIN_1.fastq   \n",
       "2        1022_S2-ChIP_1        1022_S2-ChIP_1.fastq   \n",
       "3        1022_S2-ChIP_2        1022_S2-ChIP_2.fastq   \n",
       "4         1022_S2-RIP_2         1022_S2-RIP_2.fastq   \n",
       "\n",
       "                                          fastq_file data_dir  \n",
       "0  /gcm-lfs1/pablo/data/rna_silencing/seq_data/IN...    INPUT  \n",
       "1  /gcm-lfs1/pablo/data/rna_silencing/seq_data/IN...    INPUT  \n",
       "2  /gcm-lfs1/pablo/data/rna_silencing/seq_data/S2...  S2-ChIP  \n",
       "3  /gcm-lfs1/pablo/data/rna_silencing/seq_data/S2...  S2-ChIP  \n",
       "4  /gcm-lfs1/pablo/data/rna_silencing/seq_data/S2...   S2-RIP  "
      ]
     },
     "execution_count": 56,
     "metadata": {},
     "output_type": "execute_result"
    }
   ],
   "source": [
    "fastq_files_df.head()"
   ]
  },
  {
   "cell_type": "code",
   "execution_count": 57,
   "metadata": {},
   "outputs": [
    {
     "data": {
      "text/plain": [
       "(174, 4)"
      ]
     },
     "execution_count": 57,
     "metadata": {},
     "output_type": "execute_result"
    }
   ],
   "source": [
    "fastq_files_df.shape"
   ]
  },
  {
   "cell_type": "markdown",
   "metadata": {},
   "source": [
    "- Add `seq` to classify each sample by **sequencing type**:"
   ]
  },
  {
   "cell_type": "code",
   "execution_count": 58,
   "metadata": {},
   "outputs": [],
   "source": [
    "fastq_files_df['seq'] = fastq_files_df['sample_id'].apply(lambda x: psutil.get_sequencing_type(x))"
   ]
  },
  {
   "cell_type": "code",
   "execution_count": 59,
   "metadata": {},
   "outputs": [
    {
     "data": {
      "text/html": [
       "<div>\n",
       "<style scoped>\n",
       "    .dataframe tbody tr th:only-of-type {\n",
       "        vertical-align: middle;\n",
       "    }\n",
       "\n",
       "    .dataframe tbody tr th {\n",
       "        vertical-align: top;\n",
       "    }\n",
       "\n",
       "    .dataframe thead th {\n",
       "        text-align: right;\n",
       "    }\n",
       "</style>\n",
       "<table border=\"1\" class=\"dataframe\">\n",
       "  <thead>\n",
       "    <tr style=\"text-align: right;\">\n",
       "      <th></th>\n",
       "      <th>sample_id</th>\n",
       "      <th>fastq_file_name</th>\n",
       "      <th>fastq_file</th>\n",
       "      <th>data_dir</th>\n",
       "      <th>seq</th>\n",
       "    </tr>\n",
       "  </thead>\n",
       "  <tbody>\n",
       "    <tr>\n",
       "      <th>0</th>\n",
       "      <td>1022_S2-ChIP-INPUT_1</td>\n",
       "      <td>1022_S2-ChIP-INPUT_1.fastq</td>\n",
       "      <td>/gcm-lfs1/pablo/data/rna_silencing/seq_data/IN...</td>\n",
       "      <td>INPUT</td>\n",
       "      <td>ChIP</td>\n",
       "    </tr>\n",
       "    <tr>\n",
       "      <th>1</th>\n",
       "      <td>1022_S2-ChIP-OIN_1</td>\n",
       "      <td>1022_S2-ChIP-OIN_1.fastq</td>\n",
       "      <td>/gcm-lfs1/pablo/data/rna_silencing/seq_data/IN...</td>\n",
       "      <td>INPUT</td>\n",
       "      <td>ChIP</td>\n",
       "    </tr>\n",
       "    <tr>\n",
       "      <th>2</th>\n",
       "      <td>1022_S2-ChIP_1</td>\n",
       "      <td>1022_S2-ChIP_1.fastq</td>\n",
       "      <td>/gcm-lfs1/pablo/data/rna_silencing/seq_data/S2...</td>\n",
       "      <td>S2-ChIP</td>\n",
       "      <td>ChIP</td>\n",
       "    </tr>\n",
       "    <tr>\n",
       "      <th>3</th>\n",
       "      <td>1022_S2-ChIP_2</td>\n",
       "      <td>1022_S2-ChIP_2.fastq</td>\n",
       "      <td>/gcm-lfs1/pablo/data/rna_silencing/seq_data/S2...</td>\n",
       "      <td>S2-ChIP</td>\n",
       "      <td>ChIP</td>\n",
       "    </tr>\n",
       "    <tr>\n",
       "      <th>4</th>\n",
       "      <td>1022_S2-RIP_2</td>\n",
       "      <td>1022_S2-RIP_2.fastq</td>\n",
       "      <td>/gcm-lfs1/pablo/data/rna_silencing/seq_data/S2...</td>\n",
       "      <td>S2-RIP</td>\n",
       "      <td>RIP</td>\n",
       "    </tr>\n",
       "  </tbody>\n",
       "</table>\n",
       "</div>"
      ],
      "text/plain": [
       "              sample_id             fastq_file_name  \\\n",
       "0  1022_S2-ChIP-INPUT_1  1022_S2-ChIP-INPUT_1.fastq   \n",
       "1    1022_S2-ChIP-OIN_1    1022_S2-ChIP-OIN_1.fastq   \n",
       "2        1022_S2-ChIP_1        1022_S2-ChIP_1.fastq   \n",
       "3        1022_S2-ChIP_2        1022_S2-ChIP_2.fastq   \n",
       "4         1022_S2-RIP_2         1022_S2-RIP_2.fastq   \n",
       "\n",
       "                                          fastq_file data_dir   seq  \n",
       "0  /gcm-lfs1/pablo/data/rna_silencing/seq_data/IN...    INPUT  ChIP  \n",
       "1  /gcm-lfs1/pablo/data/rna_silencing/seq_data/IN...    INPUT  ChIP  \n",
       "2  /gcm-lfs1/pablo/data/rna_silencing/seq_data/S2...  S2-ChIP  ChIP  \n",
       "3  /gcm-lfs1/pablo/data/rna_silencing/seq_data/S2...  S2-ChIP  ChIP  \n",
       "4  /gcm-lfs1/pablo/data/rna_silencing/seq_data/S2...   S2-RIP   RIP  "
      ]
     },
     "execution_count": 59,
     "metadata": {},
     "output_type": "execute_result"
    }
   ],
   "source": [
    "fastq_files_df.head()"
   ]
  },
  {
   "cell_type": "code",
   "execution_count": 60,
   "metadata": {},
   "outputs": [
    {
     "data": {
      "text/plain": [
       "(174, 5)"
      ]
     },
     "execution_count": 60,
     "metadata": {},
     "output_type": "execute_result"
    }
   ],
   "source": [
    "fastq_files_df.shape"
   ]
  },
  {
   "cell_type": "code",
   "execution_count": 61,
   "metadata": {},
   "outputs": [
    {
     "data": {
      "text/html": [
       "<div>\n",
       "<style scoped>\n",
       "    .dataframe tbody tr th:only-of-type {\n",
       "        vertical-align: middle;\n",
       "    }\n",
       "\n",
       "    .dataframe tbody tr th {\n",
       "        vertical-align: top;\n",
       "    }\n",
       "\n",
       "    .dataframe thead th {\n",
       "        text-align: right;\n",
       "    }\n",
       "</style>\n",
       "<table border=\"1\" class=\"dataframe\">\n",
       "  <thead>\n",
       "    <tr style=\"text-align: right;\">\n",
       "      <th></th>\n",
       "      <th>sample_id</th>\n",
       "      <th>fastq_file_name</th>\n",
       "      <th>fastq_file</th>\n",
       "      <th>data_dir</th>\n",
       "      <th>seq</th>\n",
       "    </tr>\n",
       "  </thead>\n",
       "  <tbody>\n",
       "    <tr>\n",
       "      <th>17</th>\n",
       "      <td>301_H3K9me2_1</td>\n",
       "      <td>301_H3K9me2_1.fastq</td>\n",
       "      <td>/gcm-lfs1/pablo/data/rna_silencing/seq_data/H3...</td>\n",
       "      <td>H3K9me2</td>\n",
       "      <td>unknown</td>\n",
       "    </tr>\n",
       "    <tr>\n",
       "      <th>30</th>\n",
       "      <td>302_H3K9me2_1</td>\n",
       "      <td>302_H3K9me2_1.fastq</td>\n",
       "      <td>/gcm-lfs1/pablo/data/rna_silencing/seq_data/H3...</td>\n",
       "      <td>H3K9me2</td>\n",
       "      <td>unknown</td>\n",
       "    </tr>\n",
       "    <tr>\n",
       "      <th>41</th>\n",
       "      <td>324_H3K9me2_1</td>\n",
       "      <td>324_H3K9me2_1.fastq</td>\n",
       "      <td>/gcm-lfs1/pablo/data/rna_silencing/seq_data/H3...</td>\n",
       "      <td>H3K9me2</td>\n",
       "      <td>unknown</td>\n",
       "    </tr>\n",
       "    <tr>\n",
       "      <th>56</th>\n",
       "      <td>491_H3K9me2_1</td>\n",
       "      <td>491_H3K9me2_1.fastq</td>\n",
       "      <td>/gcm-lfs1/pablo/data/rna_silencing/seq_data/H3...</td>\n",
       "      <td>H3K9me2</td>\n",
       "      <td>unknown</td>\n",
       "    </tr>\n",
       "    <tr>\n",
       "      <th>67</th>\n",
       "      <td>504_H3K9me2_1</td>\n",
       "      <td>504_H3K9me2_1.fastq</td>\n",
       "      <td>/gcm-lfs1/pablo/data/rna_silencing/seq_data/H3...</td>\n",
       "      <td>H3K9me2</td>\n",
       "      <td>unknown</td>\n",
       "    </tr>\n",
       "    <tr>\n",
       "      <th>79</th>\n",
       "      <td>510_H3K9me2_1</td>\n",
       "      <td>510_H3K9me2_1.fastq</td>\n",
       "      <td>/gcm-lfs1/pablo/data/rna_silencing/seq_data/H3...</td>\n",
       "      <td>H3K9me2</td>\n",
       "      <td>unknown</td>\n",
       "    </tr>\n",
       "    <tr>\n",
       "      <th>99</th>\n",
       "      <td>530_H3K9me2_1</td>\n",
       "      <td>530_H3K9me2_1.fastq</td>\n",
       "      <td>/gcm-lfs1/pablo/data/rna_silencing/seq_data/H3...</td>\n",
       "      <td>H3K9me2</td>\n",
       "      <td>unknown</td>\n",
       "    </tr>\n",
       "    <tr>\n",
       "      <th>120</th>\n",
       "      <td>638_H3K9me2_1</td>\n",
       "      <td>638_H3K9me2_1.fastq</td>\n",
       "      <td>/gcm-lfs1/pablo/data/rna_silencing/seq_data/H3...</td>\n",
       "      <td>H3K9me2</td>\n",
       "      <td>unknown</td>\n",
       "    </tr>\n",
       "    <tr>\n",
       "      <th>150</th>\n",
       "      <td>WT_H3K9me2_1</td>\n",
       "      <td>WT_H3K9me2_1.fastq</td>\n",
       "      <td>/gcm-lfs1/pablo/data/rna_silencing/seq_data/H3...</td>\n",
       "      <td>H3K9me2</td>\n",
       "      <td>unknown</td>\n",
       "    </tr>\n",
       "    <tr>\n",
       "      <th>170</th>\n",
       "      <td>chip-fake-reads_simulated-data_1</td>\n",
       "      <td>chip-fake-reads_simulated-data_1.fastq</td>\n",
       "      <td>/gcm-lfs1/pablo/data/rna_silencing/seq_data/si...</td>\n",
       "      <td>simulated-data</td>\n",
       "      <td>unknown</td>\n",
       "    </tr>\n",
       "    <tr>\n",
       "      <th>171</th>\n",
       "      <td>chip-fake-reads_simulated-data_2</td>\n",
       "      <td>chip-fake-reads_simulated-data_2.fastq</td>\n",
       "      <td>/gcm-lfs1/pablo/data/rna_silencing/seq_data/si...</td>\n",
       "      <td>simulated-data</td>\n",
       "      <td>unknown</td>\n",
       "    </tr>\n",
       "    <tr>\n",
       "      <th>172</th>\n",
       "      <td>rna-fake-reads_simulated-data_1</td>\n",
       "      <td>rna-fake-reads_simulated-data_1.fastq</td>\n",
       "      <td>/gcm-lfs1/pablo/data/rna_silencing/seq_data/si...</td>\n",
       "      <td>simulated-data</td>\n",
       "      <td>unknown</td>\n",
       "    </tr>\n",
       "    <tr>\n",
       "      <th>173</th>\n",
       "      <td>rna-fake-reads_simulated-data_2</td>\n",
       "      <td>rna-fake-reads_simulated-data_2.fastq</td>\n",
       "      <td>/gcm-lfs1/pablo/data/rna_silencing/seq_data/si...</td>\n",
       "      <td>simulated-data</td>\n",
       "      <td>unknown</td>\n",
       "    </tr>\n",
       "  </tbody>\n",
       "</table>\n",
       "</div>"
      ],
      "text/plain": [
       "                            sample_id                         fastq_file_name  \\\n",
       "17                      301_H3K9me2_1                     301_H3K9me2_1.fastq   \n",
       "30                      302_H3K9me2_1                     302_H3K9me2_1.fastq   \n",
       "41                      324_H3K9me2_1                     324_H3K9me2_1.fastq   \n",
       "56                      491_H3K9me2_1                     491_H3K9me2_1.fastq   \n",
       "67                      504_H3K9me2_1                     504_H3K9me2_1.fastq   \n",
       "79                      510_H3K9me2_1                     510_H3K9me2_1.fastq   \n",
       "99                      530_H3K9me2_1                     530_H3K9me2_1.fastq   \n",
       "120                     638_H3K9me2_1                     638_H3K9me2_1.fastq   \n",
       "150                      WT_H3K9me2_1                      WT_H3K9me2_1.fastq   \n",
       "170  chip-fake-reads_simulated-data_1  chip-fake-reads_simulated-data_1.fastq   \n",
       "171  chip-fake-reads_simulated-data_2  chip-fake-reads_simulated-data_2.fastq   \n",
       "172   rna-fake-reads_simulated-data_1   rna-fake-reads_simulated-data_1.fastq   \n",
       "173   rna-fake-reads_simulated-data_2   rna-fake-reads_simulated-data_2.fastq   \n",
       "\n",
       "                                            fastq_file        data_dir  \\\n",
       "17   /gcm-lfs1/pablo/data/rna_silencing/seq_data/H3...         H3K9me2   \n",
       "30   /gcm-lfs1/pablo/data/rna_silencing/seq_data/H3...         H3K9me2   \n",
       "41   /gcm-lfs1/pablo/data/rna_silencing/seq_data/H3...         H3K9me2   \n",
       "56   /gcm-lfs1/pablo/data/rna_silencing/seq_data/H3...         H3K9me2   \n",
       "67   /gcm-lfs1/pablo/data/rna_silencing/seq_data/H3...         H3K9me2   \n",
       "79   /gcm-lfs1/pablo/data/rna_silencing/seq_data/H3...         H3K9me2   \n",
       "99   /gcm-lfs1/pablo/data/rna_silencing/seq_data/H3...         H3K9me2   \n",
       "120  /gcm-lfs1/pablo/data/rna_silencing/seq_data/H3...         H3K9me2   \n",
       "150  /gcm-lfs1/pablo/data/rna_silencing/seq_data/H3...         H3K9me2   \n",
       "170  /gcm-lfs1/pablo/data/rna_silencing/seq_data/si...  simulated-data   \n",
       "171  /gcm-lfs1/pablo/data/rna_silencing/seq_data/si...  simulated-data   \n",
       "172  /gcm-lfs1/pablo/data/rna_silencing/seq_data/si...  simulated-data   \n",
       "173  /gcm-lfs1/pablo/data/rna_silencing/seq_data/si...  simulated-data   \n",
       "\n",
       "         seq  \n",
       "17   unknown  \n",
       "30   unknown  \n",
       "41   unknown  \n",
       "56   unknown  \n",
       "67   unknown  \n",
       "79   unknown  \n",
       "99   unknown  \n",
       "120  unknown  \n",
       "150  unknown  \n",
       "170  unknown  \n",
       "171  unknown  \n",
       "172  unknown  \n",
       "173  unknown  "
      ]
     },
     "execution_count": 61,
     "metadata": {},
     "output_type": "execute_result"
    }
   ],
   "source": [
    "fastq_files_df[fastq_files_df['seq']=='unknown']"
   ]
  },
  {
   "cell_type": "markdown",
   "metadata": {},
   "source": [
    "- Summarize by `data_dir` and `seq`"
   ]
  },
  {
   "cell_type": "code",
   "execution_count": 62,
   "metadata": {},
   "outputs": [
    {
     "data": {
      "text/html": [
       "<div>\n",
       "<style scoped>\n",
       "    .dataframe tbody tr th:only-of-type {\n",
       "        vertical-align: middle;\n",
       "    }\n",
       "\n",
       "    .dataframe tbody tr th {\n",
       "        vertical-align: top;\n",
       "    }\n",
       "\n",
       "    .dataframe thead th {\n",
       "        text-align: right;\n",
       "    }\n",
       "</style>\n",
       "<table border=\"1\" class=\"dataframe\">\n",
       "  <thead>\n",
       "    <tr style=\"text-align: right;\">\n",
       "      <th></th>\n",
       "      <th></th>\n",
       "      <th>fastq_file_name</th>\n",
       "    </tr>\n",
       "    <tr>\n",
       "      <th>data_dir</th>\n",
       "      <th>seq</th>\n",
       "      <th></th>\n",
       "    </tr>\n",
       "  </thead>\n",
       "  <tbody>\n",
       "    <tr>\n",
       "      <th>H3K9me2</th>\n",
       "      <th>unknown</th>\n",
       "      <td>9</td>\n",
       "    </tr>\n",
       "    <tr>\n",
       "      <th>INPUT</th>\n",
       "      <th>ChIP</th>\n",
       "      <td>30</td>\n",
       "    </tr>\n",
       "    <tr>\n",
       "      <th>S2-ChIP</th>\n",
       "      <th>ChIP</th>\n",
       "      <td>31</td>\n",
       "    </tr>\n",
       "    <tr>\n",
       "      <th>S2-RIP</th>\n",
       "      <th>RIP</th>\n",
       "      <td>42</td>\n",
       "    </tr>\n",
       "    <tr>\n",
       "      <th>S5-ChIP</th>\n",
       "      <th>ChIP</th>\n",
       "      <td>4</td>\n",
       "    </tr>\n",
       "    <tr>\n",
       "      <th>S5-RIP</th>\n",
       "      <th>RIP</th>\n",
       "      <td>1</td>\n",
       "    </tr>\n",
       "    <tr>\n",
       "      <th>pA-RNA</th>\n",
       "      <th>RNA</th>\n",
       "      <td>45</td>\n",
       "    </tr>\n",
       "    <tr>\n",
       "      <th>simulated-data</th>\n",
       "      <th>unknown</th>\n",
       "      <td>4</td>\n",
       "    </tr>\n",
       "    <tr>\n",
       "      <th>total-RNA</th>\n",
       "      <th>RNA</th>\n",
       "      <td>8</td>\n",
       "    </tr>\n",
       "  </tbody>\n",
       "</table>\n",
       "</div>"
      ],
      "text/plain": [
       "                        fastq_file_name\n",
       "data_dir       seq                     \n",
       "H3K9me2        unknown                9\n",
       "INPUT          ChIP                  30\n",
       "S2-ChIP        ChIP                  31\n",
       "S2-RIP         RIP                   42\n",
       "S5-ChIP        ChIP                   4\n",
       "S5-RIP         RIP                    1\n",
       "pA-RNA         RNA                   45\n",
       "simulated-data unknown                4\n",
       "total-RNA      RNA                    8"
      ]
     },
     "execution_count": 62,
     "metadata": {},
     "output_type": "execute_result"
    }
   ],
   "source": [
    "fastq_files_df[['fastq_file_name', 'data_dir', 'seq']].groupby(['data_dir', 'seq']).count()"
   ]
  },
  {
   "cell_type": "markdown",
   "metadata": {},
   "source": [
    "- Check for duplicates since I think that `RNA` and `ChIP` **directories** contain **ALL samples** once again:"
   ]
  },
  {
   "cell_type": "code",
   "execution_count": 63,
   "metadata": {},
   "outputs": [],
   "source": [
    "fastq_files_df['duplicated'] = fastq_files_df.duplicated('fastq_file_name', keep= False)"
   ]
  },
  {
   "cell_type": "code",
   "execution_count": 64,
   "metadata": {},
   "outputs": [],
   "source": [
    "fastq_files_duplicated_df = fastq_files_df[fastq_files_df['duplicated']]"
   ]
  },
  {
   "cell_type": "code",
   "execution_count": 65,
   "metadata": {},
   "outputs": [
    {
     "data": {
      "text/html": [
       "<div>\n",
       "<style scoped>\n",
       "    .dataframe tbody tr th:only-of-type {\n",
       "        vertical-align: middle;\n",
       "    }\n",
       "\n",
       "    .dataframe tbody tr th {\n",
       "        vertical-align: top;\n",
       "    }\n",
       "\n",
       "    .dataframe thead th {\n",
       "        text-align: right;\n",
       "    }\n",
       "</style>\n",
       "<table border=\"1\" class=\"dataframe\">\n",
       "  <thead>\n",
       "    <tr style=\"text-align: right;\">\n",
       "      <th></th>\n",
       "      <th>sample_id</th>\n",
       "      <th>fastq_file_name</th>\n",
       "      <th>fastq_file</th>\n",
       "      <th>data_dir</th>\n",
       "      <th>seq</th>\n",
       "      <th>duplicated</th>\n",
       "    </tr>\n",
       "  </thead>\n",
       "  <tbody>\n",
       "  </tbody>\n",
       "</table>\n",
       "</div>"
      ],
      "text/plain": [
       "Empty DataFrame\n",
       "Columns: [sample_id, fastq_file_name, fastq_file, data_dir, seq, duplicated]\n",
       "Index: []"
      ]
     },
     "execution_count": 65,
     "metadata": {},
     "output_type": "execute_result"
    }
   ],
   "source": [
    "fastq_files_duplicated_df"
   ]
  }
 ],
 "metadata": {
  "kernelspec": {
   "display_name": "Python (heterochromatin)",
   "language": "python",
   "name": "heterochromatin"
  },
  "language_info": {
   "codemirror_mode": {
    "name": "ipython",
    "version": 3
   },
   "file_extension": ".py",
   "mimetype": "text/x-python",
   "name": "python",
   "nbconvert_exporter": "python",
   "pygments_lexer": "ipython3",
   "version": "3.6.7"
  }
 },
 "nbformat": 4,
 "nbformat_minor": 4
}
